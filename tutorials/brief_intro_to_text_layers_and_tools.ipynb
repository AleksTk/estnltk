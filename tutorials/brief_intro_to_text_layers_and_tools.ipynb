{
 "cells": [
  {
   "cell_type": "markdown",
   "metadata": {},
   "source": [
    "## A brief introduction to Text class, layers and tools\n",
    "\n",
    "In this tutorial, we give a bird's-eye overview on Text class, layers and tools in EstNLTK 1.6."
   ]
  },
  {
   "cell_type": "markdown",
   "metadata": {},
   "source": [
    "### Text class\n",
    "\n",
    "Text class is the central component of the library. It stores raw text data, related metadata and layers of linguistic annotation. It provides interfaces for calling automatic annotators, and also manages dependencies between the annotators."
   ]
  },
  {
   "cell_type": "code",
   "execution_count": 1,
   "metadata": {},
   "outputs": [
    {
     "data": {
      "text/html": [
       "<table border=\"1\" class=\"dataframe\">\n",
       "  <thead>\n",
       "    <tr style=\"text-align: right;\">\n",
       "      <th>text</th>\n",
       "    </tr>\n",
       "  </thead>\n",
       "  <tbody>\n",
       "    <tr>\n",
       "      <td>Kui Arno isaga koolimajja jõudis, olid tunnid juba alanud. <br/>Kooliõpetaja kutsus mõlemad oma tuppa, kõneles nendega natuke aega, <br/>käskis Arnol olla hoolas ja korralik ja seadis ta siis pinki ühe pikkade juustega poisi kõrvale istuma.</td>\n",
       "    </tr>\n",
       "  </tbody>\n",
       "</table>"
      ],
      "text/plain": [
       "Text(text=\"Kui Arno isaga koolimajja jõudis, olid tunnid juba alanud. \n",
       "Kooliõpetaja kutsus mõlemad oma tuppa, kõneles nendega natuke aega, \n",
       "käskis Arnol olla hoolas ja korralik ja seadis ta siis pinki ühe pikkade juustega poisi kõrvale istuma.\")"
      ]
     },
     "execution_count": 1,
     "metadata": {},
     "output_type": "execute_result"
    }
   ],
   "source": [
    "# Example: creating a Text based on raw text data\n",
    "from estnltk.text import Text\n",
    "\n",
    "t = Text('''Kui Arno isaga koolimajja jõudis, olid tunnid juba alanud. \n",
    "Kooliõpetaja kutsus mõlemad oma tuppa, kõneles nendega natuke aega, \n",
    "käskis Arnol olla hoolas ja korralik ja seadis ta siis pinki ühe pikkade juustega poisi kõrvale istuma.''')\n",
    "t"
   ]
  },
  {
   "cell_type": "markdown",
   "metadata": {},
   "source": [
    "Once a Text has been created, it can be analysed automatically:"
   ]
  },
  {
   "cell_type": "code",
   "execution_count": 2,
   "metadata": {},
   "outputs": [
    {
     "data": {
      "text/html": [
       "<table border=\"1\" class=\"dataframe\">\n",
       "  <thead>\n",
       "    <tr style=\"text-align: right;\">\n",
       "      <th>text</th>\n",
       "    </tr>\n",
       "  </thead>\n",
       "  <tbody>\n",
       "    <tr>\n",
       "      <td>Kui Arno isaga koolimajja jõudis, olid tunnid juba alanud. <br/>Kooliõpetaja kutsus mõlemad oma tuppa, kõneles nendega natuke aega, <br/>käskis Arnol olla hoolas ja korralik ja seadis ta siis pinki ühe pikkade juustega poisi kõrvale istuma.</td>\n",
       "    </tr>\n",
       "  </tbody>\n",
       "</table>\n",
       "<table border=\"1\" class=\"dataframe\">\n",
       "  <thead>\n",
       "    <tr style=\"text-align: right;\">\n",
       "      <th>layer name</th>\n",
       "      <th>attributes</th>\n",
       "      <th>parent</th>\n",
       "      <th>enveloping</th>\n",
       "      <th>ambiguous</th>\n",
       "      <th>span count</th>\n",
       "    </tr>\n",
       "  </thead>\n",
       "  <tbody>\n",
       "    <tr>\n",
       "      <td>paragraphs</td>\n",
       "      <td></td>\n",
       "      <td>None</td>\n",
       "      <td>sentences</td>\n",
       "      <td>False</td>\n",
       "      <td>1</td>\n",
       "    </tr>\n",
       "    <tr>\n",
       "      <td>sentences</td>\n",
       "      <td></td>\n",
       "      <td>None</td>\n",
       "      <td>words</td>\n",
       "      <td>False</td>\n",
       "      <td>2</td>\n",
       "    </tr>\n",
       "    <tr>\n",
       "      <td>words</td>\n",
       "      <td>normalized_form</td>\n",
       "      <td>None</td>\n",
       "      <td>None</td>\n",
       "      <td>False</td>\n",
       "      <td>40</td>\n",
       "    </tr>\n",
       "  </tbody>\n",
       "</table>"
      ],
      "text/plain": [
       "Text(text=\"Kui Arno isaga koolimajja jõudis, olid tunnid juba alanud. \n",
       "Kooliõpetaja kutsus mõlemad oma tuppa, kõneles nendega natuke aega, \n",
       "käskis Arnol olla hoolas ja korralik ja seadis ta siis pinki ühe pikkade juustega poisi kõrvale istuma.\")"
      ]
     },
     "execution_count": 2,
     "metadata": {},
     "output_type": "execute_result"
    }
   ],
   "source": [
    "# Example: add segmentation (word, sentence and paragraph tokenization) annotations\n",
    "t.analyse('segmentation')\n",
    "t"
   ]
  },
  {
   "cell_type": "markdown",
   "metadata": {},
   "source": [
    "Alternatively, individual layers can be automatically added using the method `tag_layer`:"
   ]
  },
  {
   "cell_type": "code",
   "execution_count": 3,
   "metadata": {},
   "outputs": [
    {
     "data": {
      "text/html": [
       "<table border=\"1\" class=\"dataframe\">\n",
       "  <thead>\n",
       "    <tr style=\"text-align: right;\">\n",
       "      <th>text</th>\n",
       "    </tr>\n",
       "  </thead>\n",
       "  <tbody>\n",
       "    <tr>\n",
       "      <td>Kui Arno isaga koolimajja jõudis, olid tunnid juba alanud. <br/>Kooliõpetaja kutsus mõlemad oma tuppa, kõneles nendega natuke aega, <br/>käskis Arnol olla hoolas ja korralik ja seadis ta siis pinki ühe pikkade juustega poisi kõrvale istuma.</td>\n",
       "    </tr>\n",
       "  </tbody>\n",
       "</table>\n",
       "<table border=\"1\" class=\"dataframe\">\n",
       "  <thead>\n",
       "    <tr style=\"text-align: right;\">\n",
       "      <th>layer name</th>\n",
       "      <th>attributes</th>\n",
       "      <th>parent</th>\n",
       "      <th>enveloping</th>\n",
       "      <th>ambiguous</th>\n",
       "      <th>span count</th>\n",
       "    </tr>\n",
       "  </thead>\n",
       "  <tbody>\n",
       "    <tr>\n",
       "      <td>paragraphs</td>\n",
       "      <td></td>\n",
       "      <td>None</td>\n",
       "      <td>sentences</td>\n",
       "      <td>False</td>\n",
       "      <td>1</td>\n",
       "    </tr>\n",
       "    <tr>\n",
       "      <td>sentences</td>\n",
       "      <td></td>\n",
       "      <td>None</td>\n",
       "      <td>words</td>\n",
       "      <td>False</td>\n",
       "      <td>2</td>\n",
       "    </tr>\n",
       "    <tr>\n",
       "      <td>words</td>\n",
       "      <td>normalized_form</td>\n",
       "      <td>None</td>\n",
       "      <td>None</td>\n",
       "      <td>False</td>\n",
       "      <td>40</td>\n",
       "    </tr>\n",
       "  </tbody>\n",
       "</table>"
      ],
      "text/plain": [
       "Text(text=\"Kui Arno isaga koolimajja jõudis, olid tunnid juba alanud. \n",
       "Kooliõpetaja kutsus mõlemad oma tuppa, kõneles nendega natuke aega, \n",
       "käskis Arnol olla hoolas ja korralik ja seadis ta siis pinki ühe pikkade juustega poisi kõrvale istuma.\")"
      ]
     },
     "execution_count": 3,
     "metadata": {},
     "output_type": "execute_result"
    }
   ],
   "source": [
    "t.tag_layer(['words', 'sentences', 'paragraphs'])\n",
    "t"
   ]
  },
  {
   "cell_type": "markdown",
   "metadata": {},
   "source": [
    "If there is metadata available about the Text, it can be added using the special attribute called _meta_:"
   ]
  },
  {
   "cell_type": "code",
   "execution_count": 4,
   "metadata": {},
   "outputs": [
    {
     "data": {
      "text/html": [
       "<table border=\"1\" class=\"dataframe\">\n",
       "  <thead>\n",
       "    <tr style=\"text-align: right;\">\n",
       "      <th>text</th>\n",
       "    </tr>\n",
       "  </thead>\n",
       "  <tbody>\n",
       "    <tr>\n",
       "      <td>Kui Arno isaga koolimajja jõudis, olid tunnid juba alanud. <br/>Kooliõpetaja kutsus mõlemad oma tuppa, kõneles nendega natuke aega, <br/>käskis Arnol olla hoolas ja korralik ja seadis ta siis pinki ühe pikkade juustega poisi kõrvale istuma.</td>\n",
       "    </tr>\n",
       "  </tbody>\n",
       "</table>\n",
       "<h4>Metadata</h4>\n",
       "<table border=\"1\" class=\"dataframe\">\n",
       "  <tbody>\n",
       "    <tr>\n",
       "      <th>source</th>\n",
       "      <td>\"Kevade\"</td>\n",
       "    </tr>\n",
       "    <tr>\n",
       "      <th>author</th>\n",
       "      <td>O. Luts</td>\n",
       "    </tr>\n",
       "  </tbody>\n",
       "</table>\n",
       "<table border=\"1\" class=\"dataframe\">\n",
       "  <thead>\n",
       "    <tr style=\"text-align: right;\">\n",
       "      <th>layer name</th>\n",
       "      <th>attributes</th>\n",
       "      <th>parent</th>\n",
       "      <th>enveloping</th>\n",
       "      <th>ambiguous</th>\n",
       "      <th>span count</th>\n",
       "    </tr>\n",
       "  </thead>\n",
       "  <tbody>\n",
       "    <tr>\n",
       "      <td>paragraphs</td>\n",
       "      <td></td>\n",
       "      <td>None</td>\n",
       "      <td>sentences</td>\n",
       "      <td>False</td>\n",
       "      <td>1</td>\n",
       "    </tr>\n",
       "    <tr>\n",
       "      <td>sentences</td>\n",
       "      <td></td>\n",
       "      <td>None</td>\n",
       "      <td>words</td>\n",
       "      <td>False</td>\n",
       "      <td>2</td>\n",
       "    </tr>\n",
       "    <tr>\n",
       "      <td>words</td>\n",
       "      <td>normalized_form</td>\n",
       "      <td>None</td>\n",
       "      <td>None</td>\n",
       "      <td>False</td>\n",
       "      <td>40</td>\n",
       "    </tr>\n",
       "  </tbody>\n",
       "</table>"
      ],
      "text/plain": [
       "Text(text=\"Kui Arno isaga koolimajja jõudis, olid tunnid juba alanud. \n",
       "Kooliõpetaja kutsus mõlemad oma tuppa, kõneles nendega natuke aega, \n",
       "käskis Arnol olla hoolas ja korralik ja seadis ta siis pinki ühe pikkade juustega poisi kõrvale istuma.\")"
      ]
     },
     "execution_count": 4,
     "metadata": {},
     "output_type": "execute_result"
    }
   ],
   "source": [
    "# Example: add metadata about the text\n",
    "t.meta['author'] = 'O. Luts'\n",
    "t.meta['source'] = '\"Kevade\"'\n",
    "t"
   ]
  },
  {
   "cell_type": "markdown",
   "metadata": {},
   "source": [
    "Other attributes provide an access to raw text and annotations:"
   ]
  },
  {
   "cell_type": "code",
   "execution_count": 5,
   "metadata": {},
   "outputs": [
    {
     "data": {
      "text/plain": [
       "'Kui Arno isaga koolimajja jõudis, olid tunnid juba alanud. \\nKooliõpetaja kutsus mõlemad oma tuppa, kõneles nendega natuke aega, \\nkäskis Arnol olla hoolas ja korralik ja seadis ta siis pinki ühe pikkade juustega poisi kõrvale istuma.'"
      ]
     },
     "execution_count": 5,
     "metadata": {},
     "output_type": "execute_result"
    }
   ],
   "source": [
    "# Raw text (string)\n",
    "t.text"
   ]
  },
  {
   "cell_type": "code",
   "execution_count": 6,
   "metadata": {},
   "outputs": [
    {
     "data": {
      "text/plain": [
       "['Kui',\n",
       " 'Arno',\n",
       " 'isaga',\n",
       " 'koolimajja',\n",
       " 'jõudis',\n",
       " ',',\n",
       " 'olid',\n",
       " 'tunnid',\n",
       " 'juba',\n",
       " 'alanud',\n",
       " '.',\n",
       " 'Kooliõpetaja',\n",
       " 'kutsus',\n",
       " 'mõlemad',\n",
       " 'oma',\n",
       " 'tuppa',\n",
       " ',',\n",
       " 'kõneles',\n",
       " 'nendega',\n",
       " 'natuke',\n",
       " 'aega',\n",
       " ',',\n",
       " 'käskis',\n",
       " 'Arnol',\n",
       " 'olla',\n",
       " 'hoolas',\n",
       " 'ja',\n",
       " 'korralik',\n",
       " 'ja',\n",
       " 'seadis',\n",
       " 'ta',\n",
       " 'siis',\n",
       " 'pinki',\n",
       " 'ühe',\n",
       " 'pikkade',\n",
       " 'juustega',\n",
       " 'poisi',\n",
       " 'kõrvale',\n",
       " 'istuma',\n",
       " '.']"
      ]
     },
     "execution_count": 6,
     "metadata": {},
     "output_type": "execute_result"
    }
   ],
   "source": [
    "# Texts from layer 'words' (list of strings)\n",
    "t.words.text"
   ]
  },
  {
   "cell_type": "code",
   "execution_count": 7,
   "metadata": {},
   "outputs": [
    {
     "data": {
      "text/plain": [
       "[['Kui',\n",
       "  'Arno',\n",
       "  'isaga',\n",
       "  'koolimajja',\n",
       "  'jõudis',\n",
       "  ',',\n",
       "  'olid',\n",
       "  'tunnid',\n",
       "  'juba',\n",
       "  'alanud',\n",
       "  '.'],\n",
       " ['Kooliõpetaja',\n",
       "  'kutsus',\n",
       "  'mõlemad',\n",
       "  'oma',\n",
       "  'tuppa',\n",
       "  ',',\n",
       "  'kõneles',\n",
       "  'nendega',\n",
       "  'natuke',\n",
       "  'aega',\n",
       "  ',',\n",
       "  'käskis',\n",
       "  'Arnol',\n",
       "  'olla',\n",
       "  'hoolas',\n",
       "  'ja',\n",
       "  'korralik',\n",
       "  'ja',\n",
       "  'seadis',\n",
       "  'ta',\n",
       "  'siis',\n",
       "  'pinki',\n",
       "  'ühe',\n",
       "  'pikkade',\n",
       "  'juustega',\n",
       "  'poisi',\n",
       "  'kõrvale',\n",
       "  'istuma',\n",
       "  '.']]"
      ]
     },
     "execution_count": 7,
     "metadata": {},
     "output_type": "execute_result"
    }
   ],
   "source": [
    "# Texts from layer 'sentences' (list of lists of strings)\n",
    "t.sentences.text"
   ]
  },
  {
   "cell_type": "markdown",
   "metadata": {},
   "source": [
    "Note that the attribute `text` provides access to continuous snippets of texts. E.g. words are continuous sequences of letters/characters.\n",
    "\n",
    "Sentences are not continuous, as they are made of words and there are gaps (spaces) between words. Technically, sentences are not `Span`-s, but `SpanList`-s. So, if you want to access continuous texts corresponding to sentences, you should use the attribute `enclosing_text` (instead of the attribute `text`):"
   ]
  },
  {
   "cell_type": "code",
   "execution_count": 8,
   "metadata": {},
   "outputs": [
    {
     "data": {
      "text/plain": [
       "'Kui Arno isaga koolimajja jõudis, olid tunnid juba alanud.'"
      ]
     },
     "execution_count": 8,
     "metadata": {},
     "output_type": "execute_result"
    }
   ],
   "source": [
    "# Full text corresponding to the 1st element from layer 'sentences' (string)\n",
    "t.sentences[0].enclosing_text"
   ]
  },
  {
   "cell_type": "code",
   "execution_count": 9,
   "metadata": {},
   "outputs": [
    {
     "data": {
      "text/plain": [
       "['Kui Arno isaga koolimajja jõudis, olid tunnid juba alanud.',\n",
       " 'Kooliõpetaja kutsus mõlemad oma tuppa, kõneles nendega natuke aega, \\nkäskis Arnol olla hoolas ja korralik ja seadis ta siis pinki ühe pikkade juustega poisi kõrvale istuma.']"
      ]
     },
     "execution_count": 9,
     "metadata": {},
     "output_type": "execute_result"
    }
   ],
   "source": [
    "# Full texts of all sentences (list of strings)\n",
    "[s.enclosing_text for s in t.sentences]"
   ]
  },
  {
   "cell_type": "markdown",
   "metadata": {},
   "source": [
    "### Layer class\n",
    "\n",
    "Annotations are stored as Layers in the Text. In the following example, we will show how to create a new layer from the scratch, and how to access its elements. \n",
    "\n",
    "As we have already segmented the input text into words and sentences, we will now create a layer that builds upon existing annotations. More specifically, the new layer will add extra annotations to each word:"
   ]
  },
  {
   "cell_type": "code",
   "execution_count": 10,
   "metadata": {},
   "outputs": [
    {
     "data": {
      "text/html": [
       "<table border=\"1\" class=\"dataframe\">\n",
       "  <thead>\n",
       "    <tr style=\"text-align: right;\">\n",
       "      <th>text</th>\n",
       "    </tr>\n",
       "  </thead>\n",
       "  <tbody>\n",
       "    <tr>\n",
       "      <td>Kui Arno isaga koolimajja jõudis, olid tunnid juba alanud. <br/>Kooliõpetaja kutsus mõlemad oma tuppa, kõneles nendega natuke aega, <br/>käskis Arnol olla hoolas ja korralik ja seadis ta siis pinki ühe pikkade juustega poisi kõrvale istuma.</td>\n",
       "    </tr>\n",
       "  </tbody>\n",
       "</table>\n",
       "<h4>Metadata</h4>\n",
       "<table border=\"1\" class=\"dataframe\">\n",
       "  <tbody>\n",
       "    <tr>\n",
       "      <th>source</th>\n",
       "      <td>\"Kevade\"</td>\n",
       "    </tr>\n",
       "    <tr>\n",
       "      <th>author</th>\n",
       "      <td>O. Luts</td>\n",
       "    </tr>\n",
       "  </tbody>\n",
       "</table>\n",
       "<table border=\"1\" class=\"dataframe\">\n",
       "  <thead>\n",
       "    <tr style=\"text-align: right;\">\n",
       "      <th>layer name</th>\n",
       "      <th>attributes</th>\n",
       "      <th>parent</th>\n",
       "      <th>enveloping</th>\n",
       "      <th>ambiguous</th>\n",
       "      <th>span count</th>\n",
       "    </tr>\n",
       "  </thead>\n",
       "  <tbody>\n",
       "    <tr>\n",
       "      <td>paragraphs</td>\n",
       "      <td></td>\n",
       "      <td>None</td>\n",
       "      <td>sentences</td>\n",
       "      <td>False</td>\n",
       "      <td>1</td>\n",
       "    </tr>\n",
       "    <tr>\n",
       "      <td>sentences</td>\n",
       "      <td></td>\n",
       "      <td>None</td>\n",
       "      <td>words</td>\n",
       "      <td>False</td>\n",
       "      <td>2</td>\n",
       "    </tr>\n",
       "    <tr>\n",
       "      <td>words</td>\n",
       "      <td>normalized_form</td>\n",
       "      <td>None</td>\n",
       "      <td>None</td>\n",
       "      <td>False</td>\n",
       "      <td>40</td>\n",
       "    </tr>\n",
       "    <tr>\n",
       "      <td>uppercase</td>\n",
       "      <td>upper, reverse</td>\n",
       "      <td>words</td>\n",
       "      <td>None</td>\n",
       "      <td>False</td>\n",
       "      <td>0</td>\n",
       "    </tr>\n",
       "  </tbody>\n",
       "</table>"
      ],
      "text/plain": [
       "Text(text=\"Kui Arno isaga koolimajja jõudis, olid tunnid juba alanud. \n",
       "Kooliõpetaja kutsus mõlemad oma tuppa, kõneles nendega natuke aega, \n",
       "käskis Arnol olla hoolas ja korralik ja seadis ta siis pinki ühe pikkade juustega poisi kõrvale istuma.\")"
      ]
     },
     "execution_count": 10,
     "metadata": {},
     "output_type": "execute_result"
    }
   ],
   "source": [
    "# Example: creating a new layer\n",
    "from estnltk.text import Layer\n",
    "\n",
    "dep = Layer(name='uppercase', # name of the layer\n",
    "            parent='words',   # name of the parent layer (i.e. each element of this layer should have a parent in 'words' layer)\n",
    "            attributes=['upper', 'reverse'] # list of attributes that the new layer will have\n",
    "            )\n",
    "t['uppercase'] = dep # attach the layer to the Text\n",
    "# NB! Currently, you cannot attach a layer with the same name twice (unless you delete the old layer).\n",
    "t"
   ]
  },
  {
   "cell_type": "markdown",
   "metadata": {},
   "source": [
    "The new layer is empty. However, we can iterate over the words (the parent layer), and for each of the word, add an annotation to the new layer:"
   ]
  },
  {
   "cell_type": "code",
   "execution_count": 11,
   "metadata": {
    "collapsed": true
   },
   "outputs": [],
   "source": [
    "# Example: populating the new layer with elements\n",
    "for word in t.words:\n",
    "    # Create new Span (markup) that belongs to the new layer\n",
    "    m = word.mark('uppercase')\n",
    "    # Fill in attributes of the new span\n",
    "    m.upper = word.text.upper()\n",
    "    m.reverse = word.upper[::-1]"
   ]
  },
  {
   "cell_type": "code",
   "execution_count": 12,
   "metadata": {},
   "outputs": [
    {
     "data": {
      "text/plain": [
       "''"
      ]
     },
     "execution_count": 12,
     "metadata": {},
     "output_type": "execute_result"
    }
   ],
   "source": [
    "# Example: accessing new annotations (attribute values) through the layer name ('uppercase')\n",
    "t.uppercase.upper # list of strings\n",
    "t.uppercase.reverse # list of strings\n",
    "t.sentences.uppercase.upper # list of lists of strings\n",
    "t.sentences.uppercase.reverse # list of lists of strings\n",
    ";"
   ]
  },
  {
   "cell_type": "code",
   "execution_count": 13,
   "metadata": {},
   "outputs": [
    {
     "name": "stdout",
     "output_type": "stream",
     "text": [
      "KUI IUK\n",
      "ARNO ONRA\n",
      "ISAGA AGASI\n",
      "KOOLIMAJJA AJJAMILOOK\n",
      "JÕUDIS SIDUÕJ\n",
      ", ,\n",
      "OLID DILO\n",
      "TUNNID DINNUT\n",
      "JUBA ABUJ\n",
      "ALANUD DUNALA\n",
      ". .\n"
     ]
    }
   ],
   "source": [
    "# Example: accessing new annotations (attribute values) through the parent layer ('words')\n",
    "for word in t.words[:11]:\n",
    "    print(word.upper, word.reverse)"
   ]
  },
  {
   "cell_type": "code",
   "execution_count": 14,
   "metadata": {},
   "outputs": [
    {
     "data": {
      "text/plain": [
       "['KUI',\n",
       " 'ARNO',\n",
       " 'ISAGA',\n",
       " 'KOOLIMAJJA',\n",
       " 'JÕUDIS',\n",
       " ',',\n",
       " 'OLID',\n",
       " 'TUNNID',\n",
       " 'JUBA',\n",
       " 'ALANUD',\n",
       " '.']"
      ]
     },
     "execution_count": 14,
     "metadata": {},
     "output_type": "execute_result"
    }
   ],
   "source": [
    "# Example: accessing new annotations (attribute values) through the path from parent ('words' -> 'uppercase')\n",
    "t.words.uppercase.upper[:11]"
   ]
  },
  {
   "cell_type": "code",
   "execution_count": 15,
   "metadata": {},
   "outputs": [
    {
     "data": {
      "text/html": [
       "SL[Span(Kui, {'reverse': 'IUK', 'upper': 'KUI'}),\n",
       "Span(Arno, {'reverse': 'ONRA', 'upper': 'ARNO'}),\n",
       "Span(isaga, {'reverse': 'AGASI', 'upper': 'ISAGA'}),\n",
       "Span(koolimajja, {'reverse': 'AJJAMILOOK', 'upper': 'KOOLIMAJJA'}),\n",
       "Span(jõudis, {'reverse': 'SIDUÕJ', 'upper': 'JÕUDIS'}),\n",
       "Span(,, {'reverse': ',', 'upper': ','}),\n",
       "Span(olid, {'reverse': 'DILO', 'upper': 'OLID'}),\n",
       "Span(tunnid, {'reverse': 'DINNUT', 'upper': 'TUNNID'}),\n",
       "Span(juba, {'reverse': 'ABUJ', 'upper': 'JUBA'}),\n",
       "Span(alanud, {'reverse': 'DUNALA', 'upper': 'ALANUD'}),\n",
       "Span(., {'reverse': '.', 'upper': '.'})]"
      ],
      "text/plain": [
       "SL[Span(Kui, {'reverse': 'IUK', 'upper': 'KUI'}),\n",
       "Span(Arno, {'reverse': 'ONRA', 'upper': 'ARNO'}),\n",
       "Span(isaga, {'reverse': 'AGASI', 'upper': 'ISAGA'}),\n",
       "Span(koolimajja, {'reverse': 'AJJAMILOOK', 'upper': 'KOOLIMAJJA'}),\n",
       "Span(jõudis, {'reverse': 'SIDUÕJ', 'upper': 'JÕUDIS'}),\n",
       "Span(,, {'reverse': ',', 'upper': ','}),\n",
       "Span(olid, {'reverse': 'DILO', 'upper': 'OLID'}),\n",
       "Span(tunnid, {'reverse': 'DINNUT', 'upper': 'TUNNID'}),\n",
       "Span(juba, {'reverse': 'ABUJ', 'upper': 'JUBA'}),\n",
       "Span(alanud, {'reverse': 'DUNALA', 'upper': 'ALANUD'}),\n",
       "Span(., {'reverse': '.', 'upper': '.'})]"
      ]
     },
     "execution_count": 15,
     "metadata": {},
     "output_type": "execute_result"
    }
   ],
   "source": [
    "# Example: getting a subset of new annotations (SpanList of Spans)\n",
    "t.uppercase[:11]"
   ]
  },
  {
   "cell_type": "markdown",
   "metadata": {},
   "source": [
    "### Tools for linguistic annotations"
   ]
  },
  {
   "cell_type": "markdown",
   "metadata": {},
   "source": [
    "Linguistic annotations build upon one another. So, before automatically creating an annotation layer, we must make sure that all the dependency layers have already been created. Therefore, EstNLTK has a special class Resolver that automatically resolves the dependencies between annotation layers.\n",
    "\n",
    "You can use DEFAULT_RESOLVER to get an overview about the tools applied by default and their corresponding configurations:"
   ]
  },
  {
   "cell_type": "code",
   "execution_count": 16,
   "metadata": {},
   "outputs": [
    {
     "data": {
      "text/html": [
       "<table border=\"1\" class=\"dataframe\">\n",
       "  <thead>\n",
       "    <tr style=\"text-align: right;\">\n",
       "      <th>name</th>\n",
       "      <th>layer</th>\n",
       "      <th>attributes</th>\n",
       "      <th>depends_on</th>\n",
       "      <th>configuration</th>\n",
       "    </tr>\n",
       "  </thead>\n",
       "  <tbody>\n",
       "    <tr>\n",
       "      <td>TokensTagger</td>\n",
       "      <td>tokens</td>\n",
       "      <td>()</td>\n",
       "      <td>[]</td>\n",
       "      <td>{'apply_punct_postfixes': True}</td>\n",
       "    </tr>\n",
       "    <tr>\n",
       "      <td>CompoundTokenTagger</td>\n",
       "      <td>compound_tokens</td>\n",
       "      <td>(type, normalized)</td>\n",
       "      <td>[tokens]</td>\n",
       "      <td>{'tag_email_and_www': True, 'tag_abbreviations': True, 'use_custom_abbreviations': False, 'tag_initials': True, 'tag_case_endings': True, 'tag_hyphenations': True, 'tag_xml': True, 'tag_units': True, 'tag_numbers': True, 'tag_emoticons': True}</td>\n",
       "    </tr>\n",
       "    <tr>\n",
       "      <td>WordTagger</td>\n",
       "      <td>words</td>\n",
       "      <td>(normalized_form,)</td>\n",
       "      <td>[compound_tokens]</td>\n",
       "      <td>{}</td>\n",
       "    </tr>\n",
       "    <tr>\n",
       "      <td>SentenceTokenizer</td>\n",
       "      <td>sentences</td>\n",
       "      <td>()</td>\n",
       "      <td>[compound_tokens, words]</td>\n",
       "      <td>{'fix_parentheses': True, 'fix_repeated_ending_punct': True, 'fix_inner_title_punct': True, 'fix_double_quotes': True, 'fix_paragraph_endings': True, 'use_emoticons_as_endings': True, 'fix_numeric': True, 'fix_compound_tokens': True}</td>\n",
       "    </tr>\n",
       "    <tr>\n",
       "      <td>VabamorfTagger</td>\n",
       "      <td>morph_analysis</td>\n",
       "      <td>(lemma, root, root_tokens, ending, clitic, form, partofspeech)</td>\n",
       "      <td>[words, sentences, compound_tokens]</td>\n",
       "      <td>{'phonetic': False, 'guess': True, 'postanalysis_tagger': 'PostMorphAnalysisTagger', 'propername': True, 'disambiguate': True, 'compound': True}</td>\n",
       "    </tr>\n",
       "    <tr>\n",
       "      <td>MorphExtendedTagger</td>\n",
       "      <td>morph_extended</td>\n",
       "      <td>(lemma, root, root_tokens, ending, clitic, form, partofspeech, punctuation_type, pronoun_type, letter_case, fin, verb_extension_suffix, subcat)</td>\n",
       "      <td>[morph_analysis]</td>\n",
       "      <td>{'fs_to_synt_rules_file': 'C:\\Programmid\\Miniconda3\\envs\\py3.5_v1.6\\lib\\site-packages\\estnltk-1.6.0b0-py3.5-win-amd64.egg\\estnltk\\rewriting/syntax_preprocessing/rules_files/tmorftrtabel.txt', 'allow_to_remove_all': False, 'subcat_rules_file': 'C:\\Programmid\\Miniconda3\\envs\\py3.5_v1.6\\lib\\site-packages\\estnltk-1.6.0b0-py3.5-win-amd64.egg\\estnltk\\rewriting/syntax_preprocessing/rules_files/abileksikon06utf.lx'}</td>\n",
       "    </tr>\n",
       "    <tr>\n",
       "      <td>ParagraphTokenizer</td>\n",
       "      <td>paragraphs</td>\n",
       "      <td>()</td>\n",
       "      <td>[sentences]</td>\n",
       "      <td>{'regex': '\\s*\n",
       "\n",
       "'}</td>\n",
       "    </tr>\n",
       "  </tbody>\n",
       "</table>"
      ],
      "text/plain": [
       "<estnltk.resolve_layer_dag.Taggers at 0x1aafb859d30>"
      ]
     },
     "execution_count": 16,
     "metadata": {},
     "output_type": "execute_result"
    }
   ],
   "source": [
    "from estnltk.resolve_layer_dag import DEFAULT_RESOLVER\n",
    "DEFAULT_RESOLVER.taggers"
   ]
  },
  {
   "cell_type": "markdown",
   "metadata": {},
   "source": [
    "If you want to modify the pipeline, you can use the method `make_resolver()` to create a Resolver identical to the default one, and then you can use the method `update()` to replace some existing tagger with a new one:"
   ]
  },
  {
   "cell_type": "code",
   "execution_count": 17,
   "metadata": {},
   "outputs": [
    {
     "data": {
      "text/plain": [
       "[['No', 'mida', 'teksti', ':)', 'Äge', '!']]"
      ]
     },
     "execution_count": 17,
     "metadata": {},
     "output_type": "execute_result"
    }
   ],
   "source": [
    "# Example: Modifying the pipeline -- replacing an existing tagger\n",
    "from estnltk.resolve_layer_dag import make_resolver\n",
    "\n",
    "my_resolver = make_resolver()  # Create a copy of the default pipeline\n",
    "\n",
    "# Create a new sentence tokenizer that does not split sentences by emoticons\n",
    "from estnltk.taggers import SentenceTokenizer\n",
    "new_sentence_tokenizer = SentenceTokenizer(use_emoticons_as_endings=False)\n",
    "\n",
    "# Replace the sentence tokenizer on the pipeline with the new one\n",
    "my_resolver.update( new_sentence_tokenizer )\n",
    "\n",
    "# Test out the new tokenizer\n",
    "t2 = Text('No mida teksti :) Äge!')\n",
    "t2.analyse('segmentation', resolver=my_resolver)  # Use new resolver instead of the default one\n",
    "t2.sentences.text"
   ]
  }
 ],
 "metadata": {
  "kernelspec": {
   "display_name": "Python 3",
   "language": "python",
   "name": "python3"
  },
  "language_info": {
   "codemirror_mode": {
    "name": "ipython",
    "version": 3
   },
   "file_extension": ".py",
   "mimetype": "text/x-python",
   "name": "python",
   "nbconvert_exporter": "python",
   "pygments_lexer": "ipython3",
   "version": "3.5.4"
  }
 },
 "nbformat": 4,
 "nbformat_minor": 1
}
