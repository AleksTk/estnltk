{
 "cells": [
  {
   "cell_type": "markdown",
   "metadata": {},
   "source": [
    "## A brief introduction to Text class, layers and tools\n",
    "\n",
    "In this tutorial, we give a bird's-eye overview on Text class, layers and tools in EstNLTK 1.6."
   ]
  },
  {
   "cell_type": "markdown",
   "metadata": {},
   "source": [
    "### Text class\n",
    "\n",
    "Text class is the central component of the library. It stores raw text data, related metadata and layers of linguistic annotation. It provides interfaces for calling automatic annotators, and also manages dependencies between the annotators."
   ]
  },
  {
   "cell_type": "code",
   "execution_count": 1,
   "metadata": {},
   "outputs": [
    {
     "data": {
      "text/html": [
       "<table border=\"1\" class=\"dataframe\">\n",
       "  <thead>\n",
       "    <tr style=\"text-align: right;\">\n",
       "      <th>text</th>\n",
       "    </tr>\n",
       "  </thead>\n",
       "  <tbody>\n",
       "    <tr>\n",
       "      <td>Kui Arno isaga koolimajja jõudis, olid tunnid juba alanud. <br/>Kooliõpetaja kutsus mõlemad oma tuppa, kõneles nendega natuke aega, <br/>käskis Arnol olla hoolas ja korralik ja seadis ta siis pinki ühe pikkade juustega poisi kõrvale istuma.</td>\n",
       "    </tr>\n",
       "  </tbody>\n",
       "</table>"
      ],
      "text/plain": [
       "Text(text=\"Kui Arno isaga koolimajja jõudis, olid tunnid juba alanud. \n",
       "Kooliõpetaja kutsus mõlemad oma tuppa, kõneles nendega natuke aega, \n",
       "käskis Arnol olla hoolas ja korralik ja seadis ta siis pinki ühe pikkade juustega poisi kõrvale istuma.\")"
      ]
     },
     "execution_count": 1,
     "metadata": {},
     "output_type": "execute_result"
    }
   ],
   "source": [
    "# Example: creating a Text based on raw text data\n",
    "from estnltk.text import Text\n",
    "\n",
    "t = Text('''Kui Arno isaga koolimajja jõudis, olid tunnid juba alanud. \n",
    "Kooliõpetaja kutsus mõlemad oma tuppa, kõneles nendega natuke aega, \n",
    "käskis Arnol olla hoolas ja korralik ja seadis ta siis pinki ühe pikkade juustega poisi kõrvale istuma.''')\n",
    "t"
   ]
  },
  {
   "cell_type": "markdown",
   "metadata": {},
   "source": [
    "Once a Text has been created, it can be analysed automatically:"
   ]
  },
  {
   "cell_type": "code",
   "execution_count": 2,
   "metadata": {},
   "outputs": [
    {
     "data": {
      "text/html": [
       "<table border=\"1\" class=\"dataframe\">\n",
       "  <thead>\n",
       "    <tr style=\"text-align: right;\">\n",
       "      <th>text</th>\n",
       "    </tr>\n",
       "  </thead>\n",
       "  <tbody>\n",
       "    <tr>\n",
       "      <td>Kui Arno isaga koolimajja jõudis, olid tunnid juba alanud. <br/>Kooliõpetaja kutsus mõlemad oma tuppa, kõneles nendega natuke aega, <br/>käskis Arnol olla hoolas ja korralik ja seadis ta siis pinki ühe pikkade juustega poisi kõrvale istuma.</td>\n",
       "    </tr>\n",
       "  </tbody>\n",
       "</table>\n",
       "<table border=\"1\" class=\"dataframe\">\n",
       "  <thead>\n",
       "    <tr style=\"text-align: right;\">\n",
       "      <th>layer name</th>\n",
       "      <th>attributes</th>\n",
       "      <th>parent</th>\n",
       "      <th>enveloping</th>\n",
       "      <th>ambiguous</th>\n",
       "      <th>span count</th>\n",
       "    </tr>\n",
       "  </thead>\n",
       "  <tbody>\n",
       "    <tr>\n",
       "      <td>paragraphs</td>\n",
       "      <td></td>\n",
       "      <td>None</td>\n",
       "      <td>sentences</td>\n",
       "      <td>False</td>\n",
       "      <td>1</td>\n",
       "    </tr>\n",
       "    <tr>\n",
       "      <td>sentences</td>\n",
       "      <td></td>\n",
       "      <td>None</td>\n",
       "      <td>words</td>\n",
       "      <td>False</td>\n",
       "      <td>2</td>\n",
       "    </tr>\n",
       "    <tr>\n",
       "      <td>words</td>\n",
       "      <td>normalized_form</td>\n",
       "      <td>None</td>\n",
       "      <td>None</td>\n",
       "      <td>False</td>\n",
       "      <td>40</td>\n",
       "    </tr>\n",
       "  </tbody>\n",
       "</table>"
      ],
      "text/plain": [
       "Text(text=\"Kui Arno isaga koolimajja jõudis, olid tunnid juba alanud. \n",
       "Kooliõpetaja kutsus mõlemad oma tuppa, kõneles nendega natuke aega, \n",
       "käskis Arnol olla hoolas ja korralik ja seadis ta siis pinki ühe pikkade juustega poisi kõrvale istuma.\")"
      ]
     },
     "execution_count": 2,
     "metadata": {},
     "output_type": "execute_result"
    }
   ],
   "source": [
    "# Example: add segmentation (word, sentence and paragraph tokenization) annotations\n",
    "t.analyse('segmentation')\n",
    "t"
   ]
  },
  {
   "cell_type": "markdown",
   "metadata": {},
   "source": [
    "Alternatively, individual layers can be automatically added using the method `tag_layer`:"
   ]
  },
  {
   "cell_type": "code",
   "execution_count": 3,
   "metadata": {},
   "outputs": [
    {
     "data": {
      "text/html": [
       "<table border=\"1\" class=\"dataframe\">\n",
       "  <thead>\n",
       "    <tr style=\"text-align: right;\">\n",
       "      <th>text</th>\n",
       "    </tr>\n",
       "  </thead>\n",
       "  <tbody>\n",
       "    <tr>\n",
       "      <td>Kui Arno isaga koolimajja jõudis, olid tunnid juba alanud. <br/>Kooliõpetaja kutsus mõlemad oma tuppa, kõneles nendega natuke aega, <br/>käskis Arnol olla hoolas ja korralik ja seadis ta siis pinki ühe pikkade juustega poisi kõrvale istuma.</td>\n",
       "    </tr>\n",
       "  </tbody>\n",
       "</table>\n",
       "<table border=\"1\" class=\"dataframe\">\n",
       "  <thead>\n",
       "    <tr style=\"text-align: right;\">\n",
       "      <th>layer name</th>\n",
       "      <th>attributes</th>\n",
       "      <th>parent</th>\n",
       "      <th>enveloping</th>\n",
       "      <th>ambiguous</th>\n",
       "      <th>span count</th>\n",
       "    </tr>\n",
       "  </thead>\n",
       "  <tbody>\n",
       "    <tr>\n",
       "      <td>paragraphs</td>\n",
       "      <td></td>\n",
       "      <td>None</td>\n",
       "      <td>sentences</td>\n",
       "      <td>False</td>\n",
       "      <td>1</td>\n",
       "    </tr>\n",
       "    <tr>\n",
       "      <td>sentences</td>\n",
       "      <td></td>\n",
       "      <td>None</td>\n",
       "      <td>words</td>\n",
       "      <td>False</td>\n",
       "      <td>2</td>\n",
       "    </tr>\n",
       "    <tr>\n",
       "      <td>words</td>\n",
       "      <td>normalized_form</td>\n",
       "      <td>None</td>\n",
       "      <td>None</td>\n",
       "      <td>False</td>\n",
       "      <td>40</td>\n",
       "    </tr>\n",
       "  </tbody>\n",
       "</table>"
      ],
      "text/plain": [
       "Text(text=\"Kui Arno isaga koolimajja jõudis, olid tunnid juba alanud. \n",
       "Kooliõpetaja kutsus mõlemad oma tuppa, kõneles nendega natuke aega, \n",
       "käskis Arnol olla hoolas ja korralik ja seadis ta siis pinki ühe pikkade juustega poisi kõrvale istuma.\")"
      ]
     },
     "execution_count": 3,
     "metadata": {},
     "output_type": "execute_result"
    }
   ],
   "source": [
    "t.tag_layer(['words', 'sentences', 'paragraphs'])\n",
    "t"
   ]
  },
  {
   "cell_type": "markdown",
   "metadata": {},
   "source": [
    "If there is metadata available about the Text, it can be added using the special attribute called _meta_:"
   ]
  },
  {
   "cell_type": "code",
   "execution_count": 4,
   "metadata": {},
   "outputs": [
    {
     "data": {
      "text/html": [
       "<table border=\"1\" class=\"dataframe\">\n",
       "  <thead>\n",
       "    <tr style=\"text-align: right;\">\n",
       "      <th>text</th>\n",
       "    </tr>\n",
       "  </thead>\n",
       "  <tbody>\n",
       "    <tr>\n",
       "      <td>Kui Arno isaga koolimajja jõudis, olid tunnid juba alanud. <br/>Kooliõpetaja kutsus mõlemad oma tuppa, kõneles nendega natuke aega, <br/>käskis Arnol olla hoolas ja korralik ja seadis ta siis pinki ühe pikkade juustega poisi kõrvale istuma.</td>\n",
       "    </tr>\n",
       "  </tbody>\n",
       "</table>\n",
       "<h4>Metadata</h4>\n",
       "<table border=\"1\" class=\"dataframe\">\n",
       "  <tbody>\n",
       "    <tr>\n",
       "      <td>author</td>\n",
       "      <td>O. Luts</td>\n",
       "    </tr>\n",
       "    <tr>\n",
       "      <td>source</td>\n",
       "      <td>\"Kevade\"</td>\n",
       "    </tr>\n",
       "  </tbody>\n",
       "</table>\n",
       "<table border=\"1\" class=\"dataframe\">\n",
       "  <thead>\n",
       "    <tr style=\"text-align: right;\">\n",
       "      <th>layer name</th>\n",
       "      <th>attributes</th>\n",
       "      <th>parent</th>\n",
       "      <th>enveloping</th>\n",
       "      <th>ambiguous</th>\n",
       "      <th>span count</th>\n",
       "    </tr>\n",
       "  </thead>\n",
       "  <tbody>\n",
       "    <tr>\n",
       "      <td>paragraphs</td>\n",
       "      <td></td>\n",
       "      <td>None</td>\n",
       "      <td>sentences</td>\n",
       "      <td>False</td>\n",
       "      <td>1</td>\n",
       "    </tr>\n",
       "    <tr>\n",
       "      <td>sentences</td>\n",
       "      <td></td>\n",
       "      <td>None</td>\n",
       "      <td>words</td>\n",
       "      <td>False</td>\n",
       "      <td>2</td>\n",
       "    </tr>\n",
       "    <tr>\n",
       "      <td>words</td>\n",
       "      <td>normalized_form</td>\n",
       "      <td>None</td>\n",
       "      <td>None</td>\n",
       "      <td>False</td>\n",
       "      <td>40</td>\n",
       "    </tr>\n",
       "  </tbody>\n",
       "</table>"
      ],
      "text/plain": [
       "Text(text=\"Kui Arno isaga koolimajja jõudis, olid tunnid juba alanud. \n",
       "Kooliõpetaja kutsus mõlemad oma tuppa, kõneles nendega natuke aega, \n",
       "käskis Arnol olla hoolas ja korralik ja seadis ta siis pinki ühe pikkade juustega poisi kõrvale istuma.\")"
      ]
     },
     "execution_count": 4,
     "metadata": {},
     "output_type": "execute_result"
    }
   ],
   "source": [
    "# Example: add metadata about the text\n",
    "t.meta['author'] = 'O. Luts'\n",
    "t.meta['source'] = '\"Kevade\"'\n",
    "t"
   ]
  },
  {
   "cell_type": "markdown",
   "metadata": {},
   "source": [
    "Other attributes provide an access to raw text and annotations:"
   ]
  },
  {
   "cell_type": "code",
   "execution_count": 5,
   "metadata": {},
   "outputs": [
    {
     "data": {
      "text/plain": [
       "'Kui Arno isaga koolimajja jõudis, olid tunnid juba alanud. \\nKooliõpetaja kutsus mõlemad oma tuppa, kõneles nendega natuke aega, \\nkäskis Arnol olla hoolas ja korralik ja seadis ta siis pinki ühe pikkade juustega poisi kõrvale istuma.'"
      ]
     },
     "execution_count": 5,
     "metadata": {},
     "output_type": "execute_result"
    }
   ],
   "source": [
    "# Raw text (string)\n",
    "t.text"
   ]
  },
  {
   "cell_type": "code",
   "execution_count": 6,
   "metadata": {},
   "outputs": [
    {
     "data": {
      "text/plain": [
       "['Kui',\n",
       " 'Arno',\n",
       " 'isaga',\n",
       " 'koolimajja',\n",
       " 'jõudis',\n",
       " ',',\n",
       " 'olid',\n",
       " 'tunnid',\n",
       " 'juba',\n",
       " 'alanud',\n",
       " '.',\n",
       " 'Kooliõpetaja',\n",
       " 'kutsus',\n",
       " 'mõlemad',\n",
       " 'oma',\n",
       " 'tuppa',\n",
       " ',',\n",
       " 'kõneles',\n",
       " 'nendega',\n",
       " 'natuke',\n",
       " 'aega',\n",
       " ',',\n",
       " 'käskis',\n",
       " 'Arnol',\n",
       " 'olla',\n",
       " 'hoolas',\n",
       " 'ja',\n",
       " 'korralik',\n",
       " 'ja',\n",
       " 'seadis',\n",
       " 'ta',\n",
       " 'siis',\n",
       " 'pinki',\n",
       " 'ühe',\n",
       " 'pikkade',\n",
       " 'juustega',\n",
       " 'poisi',\n",
       " 'kõrvale',\n",
       " 'istuma',\n",
       " '.']"
      ]
     },
     "execution_count": 6,
     "metadata": {},
     "output_type": "execute_result"
    }
   ],
   "source": [
    "# Texts from layer 'words' (list of strings)\n",
    "t.words.text"
   ]
  },
  {
   "cell_type": "code",
   "execution_count": 7,
   "metadata": {},
   "outputs": [
    {
     "data": {
      "text/plain": [
       "[['Kui',\n",
       "  'Arno',\n",
       "  'isaga',\n",
       "  'koolimajja',\n",
       "  'jõudis',\n",
       "  ',',\n",
       "  'olid',\n",
       "  'tunnid',\n",
       "  'juba',\n",
       "  'alanud',\n",
       "  '.'],\n",
       " ['Kooliõpetaja',\n",
       "  'kutsus',\n",
       "  'mõlemad',\n",
       "  'oma',\n",
       "  'tuppa',\n",
       "  ',',\n",
       "  'kõneles',\n",
       "  'nendega',\n",
       "  'natuke',\n",
       "  'aega',\n",
       "  ',',\n",
       "  'käskis',\n",
       "  'Arnol',\n",
       "  'olla',\n",
       "  'hoolas',\n",
       "  'ja',\n",
       "  'korralik',\n",
       "  'ja',\n",
       "  'seadis',\n",
       "  'ta',\n",
       "  'siis',\n",
       "  'pinki',\n",
       "  'ühe',\n",
       "  'pikkade',\n",
       "  'juustega',\n",
       "  'poisi',\n",
       "  'kõrvale',\n",
       "  'istuma',\n",
       "  '.']]"
      ]
     },
     "execution_count": 7,
     "metadata": {},
     "output_type": "execute_result"
    }
   ],
   "source": [
    "# Texts from layer 'sentences' (list of lists of strings)\n",
    "t.sentences.text"
   ]
  },
  {
   "cell_type": "markdown",
   "metadata": {},
   "source": [
    "Note that the attribute `text` provides access to continuous snippets of texts. E.g. words are continuous sequences of letters/characters.\n",
    "\n",
    "Sentences are not continuous, as they are made of words and there are gaps (spaces) between words. Technically, sentences are not `Span`-s, but `SpanList`-s. So, if you want to access continuous texts corresponding to sentences, you should use the attribute `enclosing_text` (instead of the attribute `text`):"
   ]
  },
  {
   "cell_type": "code",
   "execution_count": 8,
   "metadata": {},
   "outputs": [
    {
     "data": {
      "text/plain": [
       "'Kui Arno isaga koolimajja jõudis, olid tunnid juba alanud.'"
      ]
     },
     "execution_count": 8,
     "metadata": {},
     "output_type": "execute_result"
    }
   ],
   "source": [
    "# Full text corresponding to the 1st element from layer 'sentences' (string)\n",
    "t.sentences[0].enclosing_text"
   ]
  },
  {
   "cell_type": "code",
   "execution_count": 9,
   "metadata": {},
   "outputs": [
    {
     "data": {
      "text/plain": [
       "['Kui Arno isaga koolimajja jõudis, olid tunnid juba alanud.',\n",
       " 'Kooliõpetaja kutsus mõlemad oma tuppa, kõneles nendega natuke aega, \\nkäskis Arnol olla hoolas ja korralik ja seadis ta siis pinki ühe pikkade juustega poisi kõrvale istuma.']"
      ]
     },
     "execution_count": 9,
     "metadata": {},
     "output_type": "execute_result"
    }
   ],
   "source": [
    "# Full texts of all sentences (list of strings)\n",
    "[s.enclosing_text for s in t.sentences]"
   ]
  },
  {
   "cell_type": "markdown",
   "metadata": {},
   "source": [
    "### Layer class\n",
    "\n",
    "Annotations are stored as Layers in the Text. In the following example, we will show how to create a new layer from the scratch, and how to access its elements. \n",
    "\n",
    "As we have already segmented the input text into words and sentences, we will now create a layer that builds upon existing annotations. More specifically, the new layer will add extra annotations to each word:"
   ]
  },
  {
   "cell_type": "code",
   "execution_count": 10,
   "metadata": {},
   "outputs": [
    {
     "data": {
      "text/html": [
       "<table border=\"1\" class=\"dataframe\">\n",
       "  <thead>\n",
       "    <tr style=\"text-align: right;\">\n",
       "      <th>text</th>\n",
       "    </tr>\n",
       "  </thead>\n",
       "  <tbody>\n",
       "    <tr>\n",
       "      <td>Kui Arno isaga koolimajja jõudis, olid tunnid juba alanud. <br/>Kooliõpetaja kutsus mõlemad oma tuppa, kõneles nendega natuke aega, <br/>käskis Arnol olla hoolas ja korralik ja seadis ta siis pinki ühe pikkade juustega poisi kõrvale istuma.</td>\n",
       "    </tr>\n",
       "  </tbody>\n",
       "</table>\n",
       "<h4>Metadata</h4>\n",
       "<table border=\"1\" class=\"dataframe\">\n",
       "  <tbody>\n",
       "    <tr>\n",
       "      <td>author</td>\n",
       "      <td>O. Luts</td>\n",
       "    </tr>\n",
       "    <tr>\n",
       "      <td>source</td>\n",
       "      <td>\"Kevade\"</td>\n",
       "    </tr>\n",
       "  </tbody>\n",
       "</table>\n",
       "<table border=\"1\" class=\"dataframe\">\n",
       "  <thead>\n",
       "    <tr style=\"text-align: right;\">\n",
       "      <th>layer name</th>\n",
       "      <th>attributes</th>\n",
       "      <th>parent</th>\n",
       "      <th>enveloping</th>\n",
       "      <th>ambiguous</th>\n",
       "      <th>span count</th>\n",
       "    </tr>\n",
       "  </thead>\n",
       "  <tbody>\n",
       "    <tr>\n",
       "      <td>paragraphs</td>\n",
       "      <td></td>\n",
       "      <td>None</td>\n",
       "      <td>sentences</td>\n",
       "      <td>False</td>\n",
       "      <td>1</td>\n",
       "    </tr>\n",
       "    <tr>\n",
       "      <td>sentences</td>\n",
       "      <td></td>\n",
       "      <td>None</td>\n",
       "      <td>words</td>\n",
       "      <td>False</td>\n",
       "      <td>2</td>\n",
       "    </tr>\n",
       "    <tr>\n",
       "      <td>words</td>\n",
       "      <td>normalized_form</td>\n",
       "      <td>None</td>\n",
       "      <td>None</td>\n",
       "      <td>False</td>\n",
       "      <td>40</td>\n",
       "    </tr>\n",
       "    <tr>\n",
       "      <td>uppercase</td>\n",
       "      <td>upper, reverse</td>\n",
       "      <td>words</td>\n",
       "      <td>None</td>\n",
       "      <td>False</td>\n",
       "      <td>0</td>\n",
       "    </tr>\n",
       "  </tbody>\n",
       "</table>"
      ],
      "text/plain": [
       "Text(text=\"Kui Arno isaga koolimajja jõudis, olid tunnid juba alanud. \n",
       "Kooliõpetaja kutsus mõlemad oma tuppa, kõneles nendega natuke aega, \n",
       "käskis Arnol olla hoolas ja korralik ja seadis ta siis pinki ühe pikkade juustega poisi kõrvale istuma.\")"
      ]
     },
     "execution_count": 10,
     "metadata": {},
     "output_type": "execute_result"
    }
   ],
   "source": [
    "# Example: creating a new layer\n",
    "from estnltk.text import Layer\n",
    "\n",
    "dep = Layer(name='uppercase', # name of the layer\n",
    "            parent='words',   # name of the parent layer (i.e. each element of this layer should have a parent in 'words' layer)\n",
    "            attributes=['upper', 'reverse'] # list of attributes that the new layer will have\n",
    "            )\n",
    "t['uppercase'] = dep # attach the layer to the Text\n",
    "# NB! Currently, you cannot attach a layer with the same name twice (unless you delete the old layer).\n",
    "t"
   ]
  },
  {
   "cell_type": "markdown",
   "metadata": {},
   "source": [
    "The new layer is empty. However, we can iterate over the words (the parent layer), and for each of the word, add an annotation to the new layer:"
   ]
  },
  {
   "cell_type": "code",
   "execution_count": 11,
   "metadata": {},
   "outputs": [],
   "source": [
    "# Example: populating the new layer with elements\n",
    "for word in t.words:\n",
    "    # Create new Span (markup) that belongs to the new layer\n",
    "    m = word.mark('uppercase')\n",
    "    # Fill in attributes of the new span\n",
    "    m.upper = word.text.upper()\n",
    "    m.reverse = word.upper[::-1]"
   ]
  },
  {
   "cell_type": "code",
   "execution_count": 12,
   "metadata": {},
   "outputs": [
    {
     "data": {
      "text/plain": [
       "''"
      ]
     },
     "execution_count": 12,
     "metadata": {},
     "output_type": "execute_result"
    }
   ],
   "source": [
    "# Example: accessing new annotations (attribute values) through the layer name ('uppercase')\n",
    "t.uppercase.upper # list of strings\n",
    "t.uppercase.reverse # list of strings\n",
    "t.sentences.uppercase.upper # list of lists of strings\n",
    "t.sentences.uppercase.reverse # list of lists of strings\n",
    ";"
   ]
  },
  {
   "cell_type": "code",
   "execution_count": 13,
   "metadata": {},
   "outputs": [
    {
     "name": "stdout",
     "output_type": "stream",
     "text": [
      "KUI IUK\n",
      "ARNO ONRA\n",
      "ISAGA AGASI\n",
      "KOOLIMAJJA AJJAMILOOK\n",
      "JÕUDIS SIDUÕJ\n",
      ", ,\n",
      "OLID DILO\n",
      "TUNNID DINNUT\n",
      "JUBA ABUJ\n",
      "ALANUD DUNALA\n",
      ". .\n"
     ]
    }
   ],
   "source": [
    "# Example: accessing new annotations (attribute values) through the parent layer ('words')\n",
    "for word in t.words[:11]:\n",
    "    print(word.upper, word.reverse)"
   ]
  },
  {
   "cell_type": "code",
   "execution_count": 14,
   "metadata": {},
   "outputs": [
    {
     "data": {
      "text/html": [
       "<h4>AttributeList</h4>\n",
       "<table border=\"1\" class=\"dataframe\">\n",
       "  <thead>\n",
       "    <tr style=\"text-align: right;\">\n",
       "      <th></th>\n",
       "      <th>upper</th>\n",
       "    </tr>\n",
       "  </thead>\n",
       "  <tbody>\n",
       "    <tr>\n",
       "      <td>0</td>\n",
       "      <td>KUI</td>\n",
       "    </tr>\n",
       "    <tr>\n",
       "      <td>1</td>\n",
       "      <td>ARNO</td>\n",
       "    </tr>\n",
       "    <tr>\n",
       "      <td>2</td>\n",
       "      <td>ISAGA</td>\n",
       "    </tr>\n",
       "    <tr>\n",
       "      <td>3</td>\n",
       "      <td>KOOLIMAJJA</td>\n",
       "    </tr>\n",
       "    <tr>\n",
       "      <td>4</td>\n",
       "      <td>JÕUDIS</td>\n",
       "    </tr>\n",
       "    <tr>\n",
       "      <td>5</td>\n",
       "      <td>,</td>\n",
       "    </tr>\n",
       "    <tr>\n",
       "      <td>6</td>\n",
       "      <td>OLID</td>\n",
       "    </tr>\n",
       "    <tr>\n",
       "      <td>7</td>\n",
       "      <td>TUNNID</td>\n",
       "    </tr>\n",
       "    <tr>\n",
       "      <td>8</td>\n",
       "      <td>JUBA</td>\n",
       "    </tr>\n",
       "    <tr>\n",
       "      <td>9</td>\n",
       "      <td>ALANUD</td>\n",
       "    </tr>\n",
       "    <tr>\n",
       "      <td>10</td>\n",
       "      <td>.</td>\n",
       "    </tr>\n",
       "  </tbody>\n",
       "</table>"
      ],
      "text/plain": [
       "AttributeList(['KUI', 'ARNO', 'ISAGA', 'KOOLIMAJJA', 'JÕUDIS', ',', 'OLID', 'TUNNID', 'JUBA', 'ALANUD', '.'], ('upper',))"
      ]
     },
     "execution_count": 14,
     "metadata": {},
     "output_type": "execute_result"
    }
   ],
   "source": [
    "# Example: accessing new annotations (attribute values) through the path from parent ('words' -> 'uppercase')\n",
    "t.words.uppercase.upper[:11]"
   ]
  },
  {
   "cell_type": "code",
   "execution_count": 15,
   "metadata": {},
   "outputs": [
    {
     "data": {
      "text/html": [
       "<h4>Layer</h4>\n",
       "<table border=\"1\" class=\"dataframe\">\n",
       "  <thead>\n",
       "    <tr style=\"text-align: right;\">\n",
       "      <th>layer name</th>\n",
       "      <th>attributes</th>\n",
       "      <th>parent</th>\n",
       "      <th>enveloping</th>\n",
       "      <th>ambiguous</th>\n",
       "      <th>span count</th>\n",
       "    </tr>\n",
       "  </thead>\n",
       "  <tbody>\n",
       "    <tr>\n",
       "      <td>uppercase</td>\n",
       "      <td>upper, reverse</td>\n",
       "      <td>words</td>\n",
       "      <td>None</td>\n",
       "      <td>False</td>\n",
       "      <td>11</td>\n",
       "    </tr>\n",
       "  </tbody>\n",
       "</table>\n",
       "<table border=\"1\" class=\"dataframe\">\n",
       "  <thead>\n",
       "    <tr style=\"text-align: right;\">\n",
       "      <th>text</th>\n",
       "      <th>upper</th>\n",
       "      <th>reverse</th>\n",
       "    </tr>\n",
       "  </thead>\n",
       "  <tbody>\n",
       "    <tr>\n",
       "      <td>Kui</td>\n",
       "      <td>KUI</td>\n",
       "      <td>IUK</td>\n",
       "    </tr>\n",
       "    <tr>\n",
       "      <td>Arno</td>\n",
       "      <td>ARNO</td>\n",
       "      <td>ONRA</td>\n",
       "    </tr>\n",
       "    <tr>\n",
       "      <td>isaga</td>\n",
       "      <td>ISAGA</td>\n",
       "      <td>AGASI</td>\n",
       "    </tr>\n",
       "    <tr>\n",
       "      <td>koolimajja</td>\n",
       "      <td>KOOLIMAJJA</td>\n",
       "      <td>AJJAMILOOK</td>\n",
       "    </tr>\n",
       "    <tr>\n",
       "      <td>jõudis</td>\n",
       "      <td>JÕUDIS</td>\n",
       "      <td>SIDUÕJ</td>\n",
       "    </tr>\n",
       "    <tr>\n",
       "      <td>,</td>\n",
       "      <td>,</td>\n",
       "      <td>,</td>\n",
       "    </tr>\n",
       "    <tr>\n",
       "      <td>olid</td>\n",
       "      <td>OLID</td>\n",
       "      <td>DILO</td>\n",
       "    </tr>\n",
       "    <tr>\n",
       "      <td>tunnid</td>\n",
       "      <td>TUNNID</td>\n",
       "      <td>DINNUT</td>\n",
       "    </tr>\n",
       "    <tr>\n",
       "      <td>juba</td>\n",
       "      <td>JUBA</td>\n",
       "      <td>ABUJ</td>\n",
       "    </tr>\n",
       "    <tr>\n",
       "      <td>alanud</td>\n",
       "      <td>ALANUD</td>\n",
       "      <td>DUNALA</td>\n",
       "    </tr>\n",
       "    <tr>\n",
       "      <td>.</td>\n",
       "      <td>.</td>\n",
       "      <td>.</td>\n",
       "    </tr>\n",
       "  </tbody>\n",
       "</table>"
      ],
      "text/plain": [
       "Layer(name=uppercase, spans=SL[Span(Kui, {'reverse': 'IUK', 'upper': 'KUI'}),\n",
       "Span(Arno, {'reverse': 'ONRA', 'upper': 'ARNO'}),\n",
       "Span(isaga, {'reverse': 'AGASI', 'upper': 'ISAGA'}),\n",
       "Span(koolimajja, {'reverse': 'AJJAMILOOK', 'upper': 'KOOLIMAJJA'}),\n",
       "Span(jõudis, {'reverse': 'SIDUÕJ', 'upper': 'JÕUDIS'}),\n",
       "Span(,, {'reverse': ',', 'upper': ','}),\n",
       "Span(olid, {'reverse': 'DILO', 'upper': 'OLID'}),\n",
       "Span(tunnid, {'reverse': 'DINNUT', 'upper': 'TUNNID'}),\n",
       "Span(juba, {'reverse': 'ABUJ', 'upper': 'JUBA'}),\n",
       "Span(alanud, {'reverse': 'DUNALA', 'upper': 'ALANUD'}),\n",
       "Span(., {'reverse': '.', 'upper': '.'})])"
      ]
     },
     "execution_count": 15,
     "metadata": {},
     "output_type": "execute_result"
    }
   ],
   "source": [
    "# Example: getting a subset of new annotations (SpanList of Spans)\n",
    "t.uppercase[:11]"
   ]
  },
  {
   "cell_type": "markdown",
   "metadata": {},
   "source": [
    "### Tools for linguistic annotations"
   ]
  },
  {
   "cell_type": "markdown",
   "metadata": {},
   "source": [
    "Linguistic annotations build upon one another. So, before automatically creating an annotation layer, we must make sure that all the dependency layers have already been created. Therefore, EstNLTK has a special class Resolver that automatically resolves the dependencies between annotation layers.\n",
    "\n",
    "You can use DEFAULT_RESOLVER to get an overview about the tools applied by default and their corresponding configurations:"
   ]
  },
  {
   "cell_type": "code",
   "execution_count": 16,
   "metadata": {
    "scrolled": false
   },
   "outputs": [
    {
     "data": {
      "text/html": [
       "<table border=\"1\" class=\"dataframe\">\n",
       "  <thead>\n",
       "    <tr style=\"text-align: right;\">\n",
       "      <th>name</th>\n",
       "      <th>layer</th>\n",
       "      <th>attributes</th>\n",
       "      <th>depends_on</th>\n",
       "      <th>configuration</th>\n",
       "    </tr>\n",
       "  </thead>\n",
       "  <tbody>\n",
       "    <tr>\n",
       "      <td>TokensTagger</td>\n",
       "      <td>tokens</td>\n",
       "      <td>()</td>\n",
       "      <td>[]</td>\n",
       "      <td>[apply_punct_postfixes=True]</td>\n",
       "    </tr>\n",
       "    <tr>\n",
       "      <td>CompoundTokenTagger</td>\n",
       "      <td>compound_tokens</td>\n",
       "      <td>(type, normalized)</td>\n",
       "      <td>[tokens]</td>\n",
       "      <td>[custom_abbreviations=(), ignored_words=set(), tag_numbers=True, tag_units=True, tag_email_and_www=True, tag_emoticons=True, tag_xml=True, tag_initials=True, tag_abbreviations=True, tag_case_endings=True, tag_hyphenations=True, use_custom_abbreviations=False]</td>\n",
       "    </tr>\n",
       "    <tr>\n",
       "      <td>WordTagger</td>\n",
       "      <td>words</td>\n",
       "      <td>(normalized_form,)</td>\n",
       "      <td>[compound_tokens]</td>\n",
       "      <td>[]</td>\n",
       "    </tr>\n",
       "    <tr>\n",
       "      <td>SentenceTokenizer</td>\n",
       "      <td>sentences</td>\n",
       "      <td>()</td>\n",
       "      <td>[compound_tokens, words]</td>\n",
       "      <td>[base_sentence_tokenizer=PunktSentenceTokenizer, fix_compound_tokens=True, fix_double_quotes=True, fix_inner_title_punct=True, fix_numeric=True, fix_paragraph_endings=True, fix_parentheses=True, fix_repeated_ending_punct=True, use_emoticons_as_endings=True]</td>\n",
       "    </tr>\n",
       "    <tr>\n",
       "      <td>VabamorfTagger</td>\n",
       "      <td>morph_analysis</td>\n",
       "      <td>(lemma, root, root_tokens, ending, clitic, form, partofspeech)</td>\n",
       "      <td>[words, sentences, compound_tokens]</td>\n",
       "      <td>[compound=True, disambiguate=True, guess=True, phonetic=False, postanalysis_tagger=PostMorphAnalysisTagger, propername=True]</td>\n",
       "    </tr>\n",
       "    <tr>\n",
       "      <td>MorphExtendedTagger</td>\n",
       "      <td>morph_extended</td>\n",
       "      <td>(lemma, root, root_tokens, ending, clitic, form, partofspeech, punctuation_type, pronoun_type, letter_case, fin, verb_extension_suffix, subcat)</td>\n",
       "      <td>[morph_analysis]</td>\n",
       "      <td>[allow_to_remove_all=False, fs_to_synt_rules_file=../estnltk/rewriting/syntax_preprocessing/rules_files/tmorftrtabel.txt, subcat_rules_file=../estnltk/rewriting/syntax_preprocessing/rules_files/abileksikon06utf.lx]</td>\n",
       "    </tr>\n",
       "    <tr>\n",
       "      <td>ClauseSegmenter</td>\n",
       "      <td>clauses</td>\n",
       "      <td>(clause_type,)</td>\n",
       "      <td>[words, sentences, morph_analysis]</td>\n",
       "      <td>[ignore_missing_commas=False]</td>\n",
       "    </tr>\n",
       "    <tr>\n",
       "      <td>ParagraphTokenizer</td>\n",
       "      <td>paragraphs</td>\n",
       "      <td>()</td>\n",
       "      <td>[sentences]</td>\n",
       "      <td>[regex=\\s*\\n\\n, paragraph_tokenizer=RegexpTokenizer(pattern='\\\\s*\\n\\n', gaps=True, discard_empty=True, flags=56)]</td>\n",
       "    </tr>\n",
       "  </tbody>\n",
       "</table>"
      ],
      "text/plain": [
       "<estnltk.resolve_layer_dag.Taggers at 0x7f84fbc41cf8>"
      ]
     },
     "execution_count": 16,
     "metadata": {},
     "output_type": "execute_result"
    }
   ],
   "source": [
    "from estnltk.resolve_layer_dag import DEFAULT_RESOLVER\n",
    "DEFAULT_RESOLVER.taggers"
   ]
  },
  {
   "cell_type": "markdown",
   "metadata": {},
   "source": [
    "If you want to modify the pipeline, you can use the method `make_resolver()` to create a Resolver identical to the default one, and then you can use the method `update()` to replace some existing tagger with a new one:"
   ]
  },
  {
   "cell_type": "code",
   "execution_count": 17,
   "metadata": {},
   "outputs": [
    {
     "data": {
      "text/plain": [
       "[['No', 'mida', 'teksti', ':)', 'Äge', '!']]"
      ]
     },
     "execution_count": 17,
     "metadata": {},
     "output_type": "execute_result"
    }
   ],
   "source": [
    "# Example: Modifying the pipeline -- replacing an existing tagger\n",
    "from estnltk.resolve_layer_dag import make_resolver\n",
    "\n",
    "my_resolver = make_resolver()  # Create a copy of the default pipeline\n",
    "\n",
    "# Create a new sentence tokenizer that does not split sentences by emoticons\n",
    "from estnltk.taggers import SentenceTokenizer\n",
    "new_sentence_tokenizer = SentenceTokenizer(use_emoticons_as_endings=False)\n",
    "\n",
    "# Replace the sentence tokenizer on the pipeline with the new one\n",
    "my_resolver.update( new_sentence_tokenizer )\n",
    "\n",
    "# Test out the new tokenizer\n",
    "t2 = Text('No mida teksti :) Äge!')\n",
    "t2.analyse('segmentation', resolver=my_resolver)  # Use new resolver instead of the default one\n",
    "t2.sentences.text"
   ]
  }
 ],
 "metadata": {
  "kernelspec": {
   "display_name": "Python 3",
   "language": "python",
   "name": "python3"
  },
  "language_info": {
   "codemirror_mode": {
    "name": "ipython",
    "version": 3
   },
   "file_extension": ".py",
   "mimetype": "text/x-python",
   "name": "python",
   "nbconvert_exporter": "python",
   "pygments_lexer": "ipython3",
   "version": "3.5.4"
  }
 },
 "nbformat": 4,
 "nbformat_minor": 1
}
