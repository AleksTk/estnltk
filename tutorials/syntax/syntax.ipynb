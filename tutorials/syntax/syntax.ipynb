{
 "cells": [
  {
   "cell_type": "markdown",
   "metadata": {},
   "source": [
    "# Syntax\n",
    "\n",
    "## Las score\n",
    "\n",
    "Las score is a number between 0 and 1 that shows the proportion of equal arcs starting in the window."
   ]
  },
  {
   "cell_type": "code",
   "execution_count": 1,
   "metadata": {
    "scrolled": true
   },
   "outputs": [
    {
     "data": {
      "text/html": [
       "<table border=\"1\" class=\"dataframe\">\n",
       "  <thead>\n",
       "    <tr style=\"text-align: right;\">\n",
       "      <th>text</th>\n",
       "    </tr>\n",
       "  </thead>\n",
       "  <tbody>\n",
       "    <tr>\n",
       "      <td><div align = \"left\">Milliseks kujuneb Riigikassa ja Ühispanga vahekord ? Minu arvates on Eesti pangandus tehnoloogiliselt maailma tasemel .</div></td>\n",
       "    </tr>\n",
       "  </tbody>\n",
       "</table>\n",
       "<table border=\"1\" class=\"dataframe\">\n",
       "  <thead>\n",
       "    <tr style=\"text-align: right;\">\n",
       "      <th>layer name</th>\n",
       "      <th>attributes</th>\n",
       "      <th>parent</th>\n",
       "      <th>enveloping</th>\n",
       "      <th>ambiguous</th>\n",
       "      <th>span count</th>\n",
       "    </tr>\n",
       "  </thead>\n",
       "  <tbody>\n",
       "    <tr>\n",
       "      <td>words</td>\n",
       "      <td></td>\n",
       "      <td>None</td>\n",
       "      <td>None</td>\n",
       "      <td>False</td>\n",
       "      <td>16</td>\n",
       "    </tr>\n",
       "    <tr>\n",
       "      <td>conll_a</td>\n",
       "      <td>id, lemma, upostag, xpostag, feats, head, deprel, deps, misc, parent_span, children, parent_deprel</td>\n",
       "      <td>None</td>\n",
       "      <td>None</td>\n",
       "      <td>False</td>\n",
       "      <td>16</td>\n",
       "    </tr>\n",
       "    <tr>\n",
       "      <td>conll_b</td>\n",
       "      <td>id, lemma, upostag, xpostag, feats, head, deprel, deps, misc, parent_span, children, parent_deprel</td>\n",
       "      <td>None</td>\n",
       "      <td>None</td>\n",
       "      <td>False</td>\n",
       "      <td>16</td>\n",
       "    </tr>\n",
       "  </tbody>\n",
       "</table>"
      ],
      "text/plain": [
       "Text(text='Milliseks kujuneb Riigikassa ja Ühispanga vahekord ? Minu arvates on Eesti pangandus tehnoloogiliselt maailma tasemel .')"
      ]
     },
     "execution_count": 1,
     "metadata": {},
     "output_type": "execute_result"
    }
   ],
   "source": [
    "from estnltk import Text\n",
    "from estnltk.syntax.scoring import las_score\n",
    "from estnltk.converters.conll_importer import conll_to_text, add_layer_from_conll\n",
    "\n",
    "\n",
    "text = conll_to_text(file='a.conll', syntax_layer='conll_a')\n",
    "add_layer_from_conll(file='a.conll', text=text, syntax_layer='conll_b')"
   ]
  },
  {
   "cell_type": "markdown",
   "metadata": {},
   "source": [
    "Change the second layer a little bit."
   ]
  },
  {
   "cell_type": "code",
   "execution_count": 2,
   "metadata": {},
   "outputs": [
    {
     "data": {
      "text/plain": [
       "True"
      ]
     },
     "execution_count": 2,
     "metadata": {},
     "output_type": "execute_result"
    }
   ],
   "source": [
    "text.conll_b[3].deprel = '@X'\n",
    "\n",
    "text.conll_a[3].deprel != text.conll_b[3].deprel"
   ]
  },
  {
   "cell_type": "markdown",
   "metadata": {},
   "source": [
    "Calculate las score."
   ]
  },
  {
   "cell_type": "code",
   "execution_count": 3,
   "metadata": {},
   "outputs": [
    {
     "data": {
      "text/plain": [
       "0.9375"
      ]
     },
     "execution_count": 3,
     "metadata": {},
     "output_type": "execute_result"
    }
   ],
   "source": [
    "las_score(layer_a=text.conll_a,\n",
    "          layer_b=text.conll_b,\n",
    "          start=None,\n",
    "          end=None\n",
    "          )"
   ]
  },
  {
   "cell_type": "markdown",
   "metadata": {},
   "source": [
    "Compare first 4 spans."
   ]
  },
  {
   "cell_type": "code",
   "execution_count": 4,
   "metadata": {},
   "outputs": [
    {
     "data": {
      "text/plain": [
       "0.75"
      ]
     },
     "execution_count": 4,
     "metadata": {},
     "output_type": "execute_result"
    }
   ],
   "source": [
    "las_score(text.conll_a, text.conll_b, 0, 4)"
   ]
  },
  {
   "cell_type": "markdown",
   "metadata": {},
   "source": [
    "Compare spans starting from the fifth."
   ]
  },
  {
   "cell_type": "code",
   "execution_count": 5,
   "metadata": {},
   "outputs": [
    {
     "data": {
      "text/plain": [
       "1.0"
      ]
     },
     "execution_count": 5,
     "metadata": {},
     "output_type": "execute_result"
    }
   ],
   "source": [
    "las_score(text.conll_a, text.conll_b, 4)"
   ]
  },
  {
   "cell_type": "markdown",
   "metadata": {},
   "source": [
    "## Tag sliding las scores"
   ]
  },
  {
   "cell_type": "code",
   "execution_count": 6,
   "metadata": {
    "scrolled": false
   },
   "outputs": [
    {
     "data": {
      "text/html": [
       "<h4>Tagger</h4>\n",
       "Tag sliding las scores\n",
       "<table border=\"1\" class=\"dataframe\">\n",
       "  <thead>\n",
       "    <tr style=\"text-align: right;\">\n",
       "      <th>name</th>\n",
       "      <th>output layer</th>\n",
       "      <th>output attributes</th>\n",
       "      <th>input layers</th>\n",
       "    </tr>\n",
       "  </thead>\n",
       "  <tbody>\n",
       "    <tr>\n",
       "      <td>SyntaxLasTagger</td>\n",
       "      <td>las</td>\n",
       "      <td>('deprel_sequence', 'score')</td>\n",
       "      <td>('conll_a', 'conll_b')</td>\n",
       "    </tr>\n",
       "  </tbody>\n",
       "</table>\n",
       "<h4>Configuration</h4>\n",
       "<table border=\"1\" class=\"dataframe\">\n",
       "  <tbody>\n",
       "    <tr>\n",
       "      <th>window</th>\n",
       "      <td>3</td>\n",
       "    </tr>\n",
       "  </tbody>\n",
       "</table>"
      ],
      "text/plain": [
       "SyntaxLasTagger(input_layers=('conll_a', 'conll_b'), output_layer=las, output_attributes=('deprel_sequence', 'score'), window=3)"
      ]
     },
     "execution_count": 6,
     "metadata": {},
     "output_type": "execute_result"
    }
   ],
   "source": [
    "from estnltk.taggers.syntax.syntax_las_tagger import SyntaxLasTagger\n",
    "\n",
    "tagger = SyntaxLasTagger('conll_a', 'conll_b', window=3)\n",
    "tagger"
   ]
  },
  {
   "cell_type": "code",
   "execution_count": 7,
   "metadata": {},
   "outputs": [
    {
     "data": {
      "text/html": [
       "<h4>Layer</h4>\n",
       "\n",
       "<table border=\"1\" class=\"dataframe\">\n",
       "  <thead>\n",
       "    <tr style=\"text-align: right;\">\n",
       "      <th>layer name</th>\n",
       "      <th>attributes</th>\n",
       "      <th>parent</th>\n",
       "      <th>enveloping</th>\n",
       "      <th>ambiguous</th>\n",
       "      <th>span count</th>\n",
       "    </tr>\n",
       "  </thead>\n",
       "  <tbody>\n",
       "    <tr>\n",
       "      <td>las</td>\n",
       "      <td>deprel_sequence, score</td>\n",
       "      <td>None</td>\n",
       "      <td>conll_a</td>\n",
       "      <td>False</td>\n",
       "      <td>20</td>\n",
       "    </tr>\n",
       "  </tbody>\n",
       "</table>\n",
       "<table border=\"1\" class=\"dataframe\">\n",
       "  <thead>\n",
       "    <tr style=\"text-align: right;\">\n",
       "      <th>text</th>\n",
       "      <th>deprel_sequence</th>\n",
       "      <th>score</th>\n",
       "    </tr>\n",
       "  </thead>\n",
       "  <tbody>\n",
       "    <tr>\n",
       "      <td>['Milliseks']</td>\n",
       "      <td>('@ADVL',)</td>\n",
       "      <td>1.0</td>\n",
       "    </tr>\n",
       "    <tr>\n",
       "      <td>['Milliseks', 'kujuneb']</td>\n",
       "      <td>('@ADVL', 'ROOT')</td>\n",
       "      <td>1.0</td>\n",
       "    </tr>\n",
       "    <tr>\n",
       "      <td>['Milliseks', 'kujuneb', 'Riigikassa']</td>\n",
       "      <td>('@ADVL', 'ROOT', '@SUBJ')</td>\n",
       "      <td>1.0</td>\n",
       "    </tr>\n",
       "    <tr>\n",
       "      <td>['kujuneb', 'Riigikassa', 'ja']</td>\n",
       "      <td>('ROOT', '@SUBJ', '@J')</td>\n",
       "      <td>0.6666666666666666</td>\n",
       "    </tr>\n",
       "    <tr>\n",
       "      <td>['Riigikassa', 'ja', 'Ühispanga']</td>\n",
       "      <td>('@SUBJ', '@J', '@NN&gt;')</td>\n",
       "      <td>0.6666666666666666</td>\n",
       "    </tr>\n",
       "    <tr>\n",
       "      <td>['ja', 'Ühispanga', 'vahekord']</td>\n",
       "      <td>('@J', '@NN&gt;', '@SUBJ')</td>\n",
       "      <td>0.6666666666666666</td>\n",
       "    </tr>\n",
       "    <tr>\n",
       "      <td>['Ühispanga', 'vahekord', '?']</td>\n",
       "      <td>('@NN&gt;', '@SUBJ', '@Punc')</td>\n",
       "      <td>1.0</td>\n",
       "    </tr>\n",
       "    <tr>\n",
       "      <td>['vahekord', '?']</td>\n",
       "      <td>('@SUBJ', '@Punc')</td>\n",
       "      <td>1.0</td>\n",
       "    </tr>\n",
       "    <tr>\n",
       "      <td>['?']</td>\n",
       "      <td>('@Punc',)</td>\n",
       "      <td>1.0</td>\n",
       "    </tr>\n",
       "    <tr>\n",
       "      <td>['Minu']</td>\n",
       "      <td>('@ADVL',)</td>\n",
       "      <td>1.0</td>\n",
       "    </tr>\n",
       "    <tr>\n",
       "      <td>['Minu', 'arvates']</td>\n",
       "      <td>('@ADVL', '@ADVL')</td>\n",
       "      <td>1.0</td>\n",
       "    </tr>\n",
       "    <tr>\n",
       "      <td>['Minu', 'arvates', 'on']</td>\n",
       "      <td>('@ADVL', '@ADVL', 'ROOT')</td>\n",
       "      <td>1.0</td>\n",
       "    </tr>\n",
       "    <tr>\n",
       "      <td>['arvates', 'on', 'Eesti']</td>\n",
       "      <td>('@ADVL', 'ROOT', '@NN&gt;')</td>\n",
       "      <td>1.0</td>\n",
       "    </tr>\n",
       "    <tr>\n",
       "      <td>['on', 'Eesti', 'pangandus']</td>\n",
       "      <td>('ROOT', '@NN&gt;', '@SUBJ')</td>\n",
       "      <td>1.0</td>\n",
       "    </tr>\n",
       "    <tr>\n",
       "      <td>['Eesti', 'pangandus', 'tehnoloogiliselt']</td>\n",
       "      <td>('@NN&gt;', '@SUBJ', '@ADVL')</td>\n",
       "      <td>1.0</td>\n",
       "    </tr>\n",
       "    <tr>\n",
       "      <td>['pangandus', 'tehnoloogiliselt', 'maailma']</td>\n",
       "      <td>('@SUBJ', '@ADVL', '@NN&gt;')</td>\n",
       "      <td>1.0</td>\n",
       "    </tr>\n",
       "    <tr>\n",
       "      <td>['tehnoloogiliselt', 'maailma', 'tasemel']</td>\n",
       "      <td>('@ADVL', '@NN&gt;', '@ADVL')</td>\n",
       "      <td>1.0</td>\n",
       "    </tr>\n",
       "    <tr>\n",
       "      <td>['maailma', 'tasemel', '.']</td>\n",
       "      <td>('@NN&gt;', '@ADVL', '@Punc')</td>\n",
       "      <td>1.0</td>\n",
       "    </tr>\n",
       "    <tr>\n",
       "      <td>['tasemel', '.']</td>\n",
       "      <td>('@ADVL', '@Punc')</td>\n",
       "      <td>1.0</td>\n",
       "    </tr>\n",
       "    <tr>\n",
       "      <td>['.']</td>\n",
       "      <td>('@Punc',)</td>\n",
       "      <td>1.0</td>\n",
       "    </tr>\n",
       "  </tbody>\n",
       "</table>"
      ],
      "text/plain": [
       "Layer(name='las', attributes=('deprel_sequence', 'score'), spans=SL[ES[AS[Annotation(Milliseks, {'children': None, 'deprel': '@ADVL', 'deps': None, 'feats': 'rel|sg|tr', 'head': 2, 'id': 1, 'lemma': 'milline', 'misc': None, 'parent_deprel': None, 'parent_span': None, 'upostag': 'P', 'xpostag': 'P'})]],\n",
       "ES[AS[Annotation(Milliseks, {'children': None, 'deprel': '@ADVL', 'deps': None, 'feats': 'rel|sg|tr', 'head': 2, 'id': 1, 'lemma': 'milline', 'misc': None, 'parent_deprel': None, 'parent_span': None, 'upostag': 'P', 'xpostag': 'P'})],\n",
       "AS[Annotation(kujuneb, {'children': None, 'deprel': 'ROOT', 'deps': None, 'feats': 'indic|pres|ps3|sg', 'head': 0, 'id': 2, 'lemma': 'kujune', 'misc': None, 'parent_deprel': None, 'parent_span': None, 'upostag': 'V', 'xpostag': 'V'})]],\n",
       "ES[AS[Annotation(Milliseks, {'children': None, 'deprel': '@ADVL', 'deps': None, 'feats': 'rel|sg|tr', 'head': 2, 'id': 1, 'lemma': 'milline', 'misc': None, 'parent_deprel': None, 'parent_span': None, 'upostag': 'P', 'xpostag': 'P'})],\n",
       "AS[Annotation(kujuneb, {'children': None, 'deprel': 'ROOT', 'deps': None, 'feats': 'indic|pres|ps3|sg', 'head': 0, 'id': 2, 'lemma': 'kujune', 'misc': None, 'parent_deprel': None, 'parent_span': None, 'upostag': 'V', 'xpostag': 'V'})],\n",
       "AS[Annotation(Riigikassa, {'children': None, 'deprel': '@SUBJ', 'deps': None, 'feats': 'sg|nom', 'head': 2, 'id': 3, 'lemma': 'Riigi_kassa', 'misc': None, 'parent_deprel': None, 'parent_span': None, 'upostag': 'S', 'xpostag': 'H'})]],\n",
       "ES[AS[Annotation(kujuneb, {'children': None, 'deprel': 'ROOT', 'deps': None, 'feats': 'indic|pres|ps3|sg', 'head': 0, 'id': 2, 'lemma': 'kujune', 'misc': None, 'parent_deprel': None, 'parent_span': None, 'upostag': 'V', 'xpostag': 'V'})],\n",
       "AS[Annotation(Riigikassa, {'children': None, 'deprel': '@SUBJ', 'deps': None, 'feats': 'sg|nom', 'head': 2, 'id': 3, 'lemma': 'Riigi_kassa', 'misc': None, 'parent_deprel': None, 'parent_span': None, 'upostag': 'S', 'xpostag': 'H'})],\n",
       "AS[Annotation(ja, {'children': None, 'deprel': '@J', 'deps': None, 'feats': None, 'head': 6, 'id': 4, 'lemma': 'ja', 'misc': None, 'parent_deprel': None, 'parent_span': None, 'upostag': 'J', 'xpostag': 'Jc'})]],\n",
       "ES[AS[Annotation(Riigikassa, {'children': None, 'deprel': '@SUBJ', 'deps': None, 'feats': 'sg|nom', 'head': 2, 'id': 3, 'lemma': 'Riigi_kassa', 'misc': None, 'parent_deprel': None, 'parent_span': None, 'upostag': 'S', 'xpostag': 'H'})],\n",
       "AS[Annotation(ja, {'children': None, 'deprel': '@J', 'deps': None, 'feats': None, 'head': 6, 'id': 4, 'lemma': 'ja', 'misc': None, 'parent_deprel': None, 'parent_span': None, 'upostag': 'J', 'xpostag': 'Jc'})],\n",
       "AS[Annotation(Ühispanga, {'children': None, 'deprel': '@NN>', 'deps': None, 'feats': 'sg|gen', 'head': 6, 'id': 5, 'lemma': 'ühis_pank', 'misc': None, 'parent_deprel': None, 'parent_span': None, 'upostag': 'S', 'xpostag': 'S'})]],\n",
       "ES[AS[Annotation(ja, {'children': None, 'deprel': '@J', 'deps': None, 'feats': None, 'head': 6, 'id': 4, 'lemma': 'ja', 'misc': None, 'parent_deprel': None, 'parent_span': None, 'upostag': 'J', 'xpostag': 'Jc'})],\n",
       "AS[Annotation(Ühispanga, {'children': None, 'deprel': '@NN>', 'deps': None, 'feats': 'sg|gen', 'head': 6, 'id': 5, 'lemma': 'ühis_pank', 'misc': None, 'parent_deprel': None, 'parent_span': None, 'upostag': 'S', 'xpostag': 'S'})],\n",
       "AS[Annotation(vahekord, {'children': None, 'deprel': '@SUBJ', 'deps': None, 'feats': 'sg|nom', 'head': 2, 'id': 6, 'lemma': 'vahe_kord', 'misc': None, 'parent_deprel': None, 'parent_span': None, 'upostag': 'S', 'xpostag': 'S'})]],\n",
       "ES[AS[Annotation(Ühispanga, {'children': None, 'deprel': '@NN>', 'deps': None, 'feats': 'sg|gen', 'head': 6, 'id': 5, 'lemma': 'ühis_pank', 'misc': None, 'parent_deprel': None, 'parent_span': None, 'upostag': 'S', 'xpostag': 'S'})],\n",
       "AS[Annotation(vahekord, {'children': None, 'deprel': '@SUBJ', 'deps': None, 'feats': 'sg|nom', 'head': 2, 'id': 6, 'lemma': 'vahe_kord', 'misc': None, 'parent_deprel': None, 'parent_span': None, 'upostag': 'S', 'xpostag': 'S'})],\n",
       "AS[Annotation(?, {'children': None, 'deprel': '@Punc', 'deps': None, 'feats': 'Int', 'head': 6, 'id': 7, 'lemma': '?', 'misc': None, 'parent_deprel': None, 'parent_span': None, 'upostag': 'Z', 'xpostag': 'Z'})]],\n",
       "ES[AS[Annotation(vahekord, {'children': None, 'deprel': '@SUBJ', 'deps': None, 'feats': 'sg|nom', 'head': 2, 'id': 6, 'lemma': 'vahe_kord', 'misc': None, 'parent_deprel': None, 'parent_span': None, 'upostag': 'S', 'xpostag': 'S'})],\n",
       "AS[Annotation(?, {'children': None, 'deprel': '@Punc', 'deps': None, 'feats': 'Int', 'head': 6, 'id': 7, 'lemma': '?', 'misc': None, 'parent_deprel': None, 'parent_span': None, 'upostag': 'Z', 'xpostag': 'Z'})]],\n",
       "ES[AS[Annotation(?, {'children': None, 'deprel': '@Punc', 'deps': None, 'feats': 'Int', 'head': 6, 'id': 7, 'lemma': '?', 'misc': None, 'parent_deprel': None, 'parent_span': None, 'upostag': 'Z', 'xpostag': 'Z'})]],\n",
       "ES[AS[Annotation(Minu, {'children': None, 'deprel': '@ADVL', 'deps': None, 'feats': 'ps1|sg|gen', 'head': 2, 'id': 1, 'lemma': 'mina', 'misc': None, 'parent_deprel': None, 'parent_span': None, 'upostag': 'P', 'xpostag': 'Ppers'})]],\n",
       "ES[AS[Annotation(Minu, {'children': None, 'deprel': '@ADVL', 'deps': None, 'feats': 'ps1|sg|gen', 'head': 2, 'id': 1, 'lemma': 'mina', 'misc': None, 'parent_deprel': None, 'parent_span': None, 'upostag': 'P', 'xpostag': 'Ppers'})],\n",
       "AS[Annotation(arvates, {'children': None, 'deprel': '@ADVL', 'deps': None, 'feats': 'ger', 'head': 3, 'id': 2, 'lemma': 'arva', 'misc': None, 'parent_deprel': None, 'parent_span': None, 'upostag': 'V', 'xpostag': 'V'})]],\n",
       "ES[AS[Annotation(Minu, {'children': None, 'deprel': '@ADVL', 'deps': None, 'feats': 'ps1|sg|gen', 'head': 2, 'id': 1, 'lemma': 'mina', 'misc': None, 'parent_deprel': None, 'parent_span': None, 'upostag': 'P', 'xpostag': 'Ppers'})],\n",
       "AS[Annotation(arvates, {'children': None, 'deprel': '@ADVL', 'deps': None, 'feats': 'ger', 'head': 3, 'id': 2, 'lemma': 'arva', 'misc': None, 'parent_deprel': None, 'parent_span': None, 'upostag': 'V', 'xpostag': 'V'})],\n",
       "AS[Annotation(on, {'children': None, 'deprel': 'ROOT', 'deps': None, 'feats': 'indic|pres|ps3|sg', 'head': 0, 'id': 3, 'lemma': 'ole', 'misc': None, 'parent_deprel': None, 'parent_span': None, 'upostag': 'V', 'xpostag': 'V'})]],\n",
       "ES[AS[Annotation(arvates, {'children': None, 'deprel': '@ADVL', 'deps': None, 'feats': 'ger', 'head': 3, 'id': 2, 'lemma': 'arva', 'misc': None, 'parent_deprel': None, 'parent_span': None, 'upostag': 'V', 'xpostag': 'V'})],\n",
       "AS[Annotation(on, {'children': None, 'deprel': 'ROOT', 'deps': None, 'feats': 'indic|pres|ps3|sg', 'head': 0, 'id': 3, 'lemma': 'ole', 'misc': None, 'parent_deprel': None, 'parent_span': None, 'upostag': 'V', 'xpostag': 'V'})],\n",
       "AS[Annotation(Eesti, {'children': None, 'deprel': '@NN>', 'deps': None, 'feats': 'sg|gen', 'head': 5, 'id': 4, 'lemma': 'Eesti', 'misc': None, 'parent_deprel': None, 'parent_span': None, 'upostag': 'S', 'xpostag': 'H'})]],\n",
       "ES[AS[Annotation(on, {'children': None, 'deprel': 'ROOT', 'deps': None, 'feats': 'indic|pres|ps3|sg', 'head': 0, 'id': 3, 'lemma': 'ole', 'misc': None, 'parent_deprel': None, 'parent_span': None, 'upostag': 'V', 'xpostag': 'V'})],\n",
       "AS[Annotation(Eesti, {'children': None, 'deprel': '@NN>', 'deps': None, 'feats': 'sg|gen', 'head': 5, 'id': 4, 'lemma': 'Eesti', 'misc': None, 'parent_deprel': None, 'parent_span': None, 'upostag': 'S', 'xpostag': 'H'})],\n",
       "AS[Annotation(pangandus, {'children': None, 'deprel': '@SUBJ', 'deps': None, 'feats': 'sg|nom', 'head': 3, 'id': 5, 'lemma': 'pangandus', 'misc': None, 'parent_deprel': None, 'parent_span': None, 'upostag': 'S', 'xpostag': 'S'})]],\n",
       "ES[AS[Annotation(Eesti, {'children': None, 'deprel': '@NN>', 'deps': None, 'feats': 'sg|gen', 'head': 5, 'id': 4, 'lemma': 'Eesti', 'misc': None, 'parent_deprel': None, 'parent_span': None, 'upostag': 'S', 'xpostag': 'H'})],\n",
       "AS[Annotation(pangandus, {'children': None, 'deprel': '@SUBJ', 'deps': None, 'feats': 'sg|nom', 'head': 3, 'id': 5, 'lemma': 'pangandus', 'misc': None, 'parent_deprel': None, 'parent_span': None, 'upostag': 'S', 'xpostag': 'S'})],\n",
       "AS[Annotation(tehnoloogiliselt, {'children': None, 'deprel': '@ADVL', 'deps': None, 'feats': None, 'head': 3, 'id': 6, 'lemma': 'tehnoloogilise=lt', 'misc': None, 'parent_deprel': None, 'parent_span': None, 'upostag': 'D', 'xpostag': 'D'})]],\n",
       "ES[AS[Annotation(pangandus, {'children': None, 'deprel': '@SUBJ', 'deps': None, 'feats': 'sg|nom', 'head': 3, 'id': 5, 'lemma': 'pangandus', 'misc': None, 'parent_deprel': None, 'parent_span': None, 'upostag': 'S', 'xpostag': 'S'})],\n",
       "AS[Annotation(tehnoloogiliselt, {'children': None, 'deprel': '@ADVL', 'deps': None, 'feats': None, 'head': 3, 'id': 6, 'lemma': 'tehnoloogilise=lt', 'misc': None, 'parent_deprel': None, 'parent_span': None, 'upostag': 'D', 'xpostag': 'D'})],\n",
       "AS[Annotation(maailma, {'children': None, 'deprel': '@NN>', 'deps': None, 'feats': 'sg|gen', 'head': 8, 'id': 7, 'lemma': 'maa_ilm', 'misc': None, 'parent_deprel': None, 'parent_span': None, 'upostag': 'S', 'xpostag': 'S'})]],\n",
       "ES[AS[Annotation(tehnoloogiliselt, {'children': None, 'deprel': '@ADVL', 'deps': None, 'feats': None, 'head': 3, 'id': 6, 'lemma': 'tehnoloogilise=lt', 'misc': None, 'parent_deprel': None, 'parent_span': None, 'upostag': 'D', 'xpostag': 'D'})],\n",
       "AS[Annotation(maailma, {'children': None, 'deprel': '@NN>', 'deps': None, 'feats': 'sg|gen', 'head': 8, 'id': 7, 'lemma': 'maa_ilm', 'misc': None, 'parent_deprel': None, 'parent_span': None, 'upostag': 'S', 'xpostag': 'S'})],\n",
       "AS[Annotation(tasemel, {'children': None, 'deprel': '@ADVL', 'deps': None, 'feats': 'sg|ad', 'head': 3, 'id': 8, 'lemma': 'tase', 'misc': None, 'parent_deprel': None, 'parent_span': None, 'upostag': 'S', 'xpostag': 'S'})]],\n",
       "ES[AS[Annotation(maailma, {'children': None, 'deprel': '@NN>', 'deps': None, 'feats': 'sg|gen', 'head': 8, 'id': 7, 'lemma': 'maa_ilm', 'misc': None, 'parent_deprel': None, 'parent_span': None, 'upostag': 'S', 'xpostag': 'S'})],\n",
       "AS[Annotation(tasemel, {'children': None, 'deprel': '@ADVL', 'deps': None, 'feats': 'sg|ad', 'head': 3, 'id': 8, 'lemma': 'tase', 'misc': None, 'parent_deprel': None, 'parent_span': None, 'upostag': 'S', 'xpostag': 'S'})],\n",
       "AS[Annotation(., {'children': None, 'deprel': '@Punc', 'deps': None, 'feats': 'Fst', 'head': 8, 'id': 9, 'lemma': '.', 'misc': None, 'parent_deprel': None, 'parent_span': None, 'upostag': 'Z', 'xpostag': 'Z'})]],\n",
       "ES[AS[Annotation(tasemel, {'children': None, 'deprel': '@ADVL', 'deps': None, 'feats': 'sg|ad', 'head': 3, 'id': 8, 'lemma': 'tase', 'misc': None, 'parent_deprel': None, 'parent_span': None, 'upostag': 'S', 'xpostag': 'S'})],\n",
       "AS[Annotation(., {'children': None, 'deprel': '@Punc', 'deps': None, 'feats': 'Fst', 'head': 8, 'id': 9, 'lemma': '.', 'misc': None, 'parent_deprel': None, 'parent_span': None, 'upostag': 'Z', 'xpostag': 'Z'})]],\n",
       "ES[AS[Annotation(., {'children': None, 'deprel': '@Punc', 'deps': None, 'feats': 'Fst', 'head': 8, 'id': 9, 'lemma': '.', 'misc': None, 'parent_deprel': None, 'parent_span': None, 'upostag': 'Z', 'xpostag': 'Z'})]]])"
      ]
     },
     "execution_count": 7,
     "metadata": {},
     "output_type": "execute_result"
    }
   ],
   "source": [
    "tagger.tag(text)\n",
    "text.las"
   ]
  },
  {
   "cell_type": "code",
   "execution_count": 8,
   "metadata": {},
   "outputs": [
    {
     "data": {
      "text/plain": [
       "{('@ADVL',): [1.0, 1.0],\n",
       " ('@ADVL', '@ADVL'): [1.0],\n",
       " ('@ADVL', '@ADVL', 'ROOT'): [1.0],\n",
       " ('@ADVL', '@NN>', '@ADVL'): [1.0],\n",
       " ('@ADVL', '@Punc'): [1.0],\n",
       " ('@ADVL', 'ROOT'): [1.0],\n",
       " ('@ADVL', 'ROOT', '@NN>'): [1.0],\n",
       " ('@ADVL', 'ROOT', '@SUBJ'): [1.0],\n",
       " ('@J', '@NN>', '@SUBJ'): [0.6666666666666666],\n",
       " ('@NN>', '@ADVL', '@Punc'): [1.0],\n",
       " ('@NN>', '@SUBJ', '@ADVL'): [1.0],\n",
       " ('@NN>', '@SUBJ', '@Punc'): [1.0],\n",
       " ('@Punc',): [1.0, 1.0],\n",
       " ('@SUBJ', '@ADVL', '@NN>'): [1.0],\n",
       " ('@SUBJ', '@J', '@NN>'): [0.6666666666666666],\n",
       " ('@SUBJ', '@Punc'): [1.0],\n",
       " ('ROOT', '@NN>', '@SUBJ'): [1.0],\n",
       " ('ROOT', '@SUBJ', '@J'): [0.6666666666666666]}"
      ]
     },
     "execution_count": 8,
     "metadata": {},
     "output_type": "execute_result"
    }
   ],
   "source": [
    "text.las.meta['aggregate_deprel_sequences']"
   ]
  },
  {
   "cell_type": "markdown",
   "metadata": {},
   "source": [
    "## `VislTagger`"
   ]
  },
  {
   "cell_type": "code",
   "execution_count": 9,
   "metadata": {},
   "outputs": [
    {
     "data": {
      "text/html": [
       "<h4>Layer</h4>\n",
       "\n",
       "<table border=\"1\" class=\"dataframe\">\n",
       "  <thead>\n",
       "    <tr style=\"text-align: right;\">\n",
       "      <th>layer name</th>\n",
       "      <th>attributes</th>\n",
       "      <th>parent</th>\n",
       "      <th>enveloping</th>\n",
       "      <th>ambiguous</th>\n",
       "      <th>span count</th>\n",
       "    </tr>\n",
       "  </thead>\n",
       "  <tbody>\n",
       "    <tr>\n",
       "      <td>visl</td>\n",
       "      <td>lemma, ending, partofspeech, feats, deprel, head</td>\n",
       "      <td>words</td>\n",
       "      <td>None</td>\n",
       "      <td>True</td>\n",
       "      <td>9</td>\n",
       "    </tr>\n",
       "  </tbody>\n",
       "</table>\n",
       "<table border=\"1\" class=\"dataframe\">\n",
       "  <thead>\n",
       "    <tr style=\"text-align: right;\">\n",
       "      <th>text</th>\n",
       "      <th>lemma</th>\n",
       "      <th>ending</th>\n",
       "      <th>partofspeech</th>\n",
       "      <th>feats</th>\n",
       "      <th>deprel</th>\n",
       "      <th>head</th>\n",
       "    </tr>\n",
       "  </thead>\n",
       "  <tbody>\n",
       "    <tr>\n",
       "      <td>Ise</td>\n",
       "      <td>ise</td>\n",
       "      <td>0</td>\n",
       "      <td>P</td>\n",
       "      <td>pos det refl pl nom cap</td>\n",
       "      <td>@ADVL</td>\n",
       "      <td>#1-&gt;3</td>\n",
       "    </tr>\n",
       "    <tr>\n",
       "      <td></td>\n",
       "      <td>ise</td>\n",
       "      <td>0</td>\n",
       "      <td>P</td>\n",
       "      <td>pos det refl sg nom cap</td>\n",
       "      <td>@ADVL</td>\n",
       "      <td>#1-&gt;3</td>\n",
       "    </tr>\n",
       "    <tr>\n",
       "      <td>alles</td>\n",
       "      <td>alles</td>\n",
       "      <td>0</td>\n",
       "      <td>D</td>\n",
       "      <td>_</td>\n",
       "      <td>@ADVL</td>\n",
       "      <td>#2-&gt;3</td>\n",
       "    </tr>\n",
       "    <tr>\n",
       "      <td>tee</td>\n",
       "      <td>tee</td>\n",
       "      <td>0</td>\n",
       "      <td>S</td>\n",
       "      <td>com sg gen</td>\n",
       "      <td>@NN&gt;</td>\n",
       "      <td>#3-&gt;0</td>\n",
       "    </tr>\n",
       "    <tr>\n",
       "      <td></td>\n",
       "      <td>tee</td>\n",
       "      <td>0</td>\n",
       "      <td>S</td>\n",
       "      <td>com sg gen</td>\n",
       "      <td>@OBJ</td>\n",
       "      <td>#3-&gt;0</td>\n",
       "    </tr>\n",
       "    <tr>\n",
       "      <td>esimesel</td>\n",
       "      <td>esimene</td>\n",
       "      <td>l</td>\n",
       "      <td>N</td>\n",
       "      <td>ord sg ad l</td>\n",
       "      <td>@AN&gt;</td>\n",
       "      <td>#4-&gt;5</td>\n",
       "    </tr>\n",
       "    <tr>\n",
       "      <td>poolel</td>\n",
       "      <td>pool</td>\n",
       "      <td>l</td>\n",
       "      <td>S</td>\n",
       "      <td>com sg ad</td>\n",
       "      <td>@&lt;NN @ADVL</td>\n",
       "      <td>#5-&gt;3</td>\n",
       "    </tr>\n",
       "    <tr>\n",
       "      <td>,</td>\n",
       "      <td>,</td>\n",
       "      <td>_</td>\n",
       "      <td>Z</td>\n",
       "      <td>Com</td>\n",
       "      <td>_</td>\n",
       "      <td>#6-&gt;6</td>\n",
       "    </tr>\n",
       "    <tr>\n",
       "      <td>vaevu</td>\n",
       "      <td>vaevu</td>\n",
       "      <td>0</td>\n",
       "      <td>D</td>\n",
       "      <td>_</td>\n",
       "      <td>@ADVL</td>\n",
       "      <td>#7-&gt;3</td>\n",
       "    </tr>\n",
       "    <tr>\n",
       "      <td>kolmekümnekolmene</td>\n",
       "      <td>kolme_kümne_kolmene</td>\n",
       "      <td>0</td>\n",
       "      <td>A</td>\n",
       "      <td>pos sg nom</td>\n",
       "      <td>@ADVL</td>\n",
       "      <td>#8-&gt;5</td>\n",
       "    </tr>\n",
       "    <tr>\n",
       "      <td>.</td>\n",
       "      <td>.</td>\n",
       "      <td>_</td>\n",
       "      <td>Z</td>\n",
       "      <td>Fst CLB</td>\n",
       "      <td>_</td>\n",
       "      <td>#9-&gt;9</td>\n",
       "    </tr>\n",
       "  </tbody>\n",
       "</table>"
      ],
      "text/plain": [
       "Layer(name='visl', attributes=('lemma', 'ending', 'partofspeech', 'feats', 'deprel', 'head'), spans=SL[AS[Annotation(Ise, {'deprel': '@ADVL', 'ending': '0', 'feats': 'pos det refl pl nom cap', 'head': '#1->3', 'lemma': 'ise', 'partofspeech': 'P'}), Annotation(Ise, {'deprel': '@ADVL', 'ending': '0', 'feats': 'pos det refl sg nom cap', 'head': '#1->3', 'lemma': 'ise', 'partofspeech': 'P'})],\n",
       "AS[Annotation(alles, {'deprel': '@ADVL', 'ending': '0', 'feats': '_', 'head': '#2->3', 'lemma': 'alles', 'partofspeech': 'D'})],\n",
       "AS[Annotation(tee, {'deprel': '@NN>', 'ending': '0', 'feats': 'com sg gen', 'head': '#3->0', 'lemma': 'tee', 'partofspeech': 'S'}), Annotation(tee, {'deprel': '@OBJ', 'ending': '0', 'feats': 'com sg gen', 'head': '#3->0', 'lemma': 'tee', 'partofspeech': 'S'})],\n",
       "AS[Annotation(esimesel, {'deprel': '@AN>', 'ending': 'l', 'feats': 'ord sg ad l', 'head': '#4->5', 'lemma': 'esimene', 'partofspeech': 'N'})],\n",
       "AS[Annotation(poolel, {'deprel': '@<NN @ADVL', 'ending': 'l', 'feats': 'com sg ad', 'head': '#5->3', 'lemma': 'pool', 'partofspeech': 'S'})],\n",
       "AS[Annotation(,, {'deprel': '_', 'ending': '_', 'feats': 'Com', 'head': '#6->6', 'lemma': ',', 'partofspeech': 'Z'})],\n",
       "AS[Annotation(vaevu, {'deprel': '@ADVL', 'ending': '0', 'feats': '_', 'head': '#7->3', 'lemma': 'vaevu', 'partofspeech': 'D'})],\n",
       "AS[Annotation(kolmekümnekolmene, {'deprel': '@ADVL', 'ending': '0', 'feats': 'pos sg nom', 'head': '#8->5', 'lemma': 'kolme_kümne_kolmene', 'partofspeech': 'A'})],\n",
       "AS[Annotation(., {'deprel': '_', 'ending': '_', 'feats': 'Fst CLB', 'head': '#9->9', 'lemma': '.', 'partofspeech': 'Z'})]])"
      ]
     },
     "execution_count": 9,
     "metadata": {},
     "output_type": "execute_result"
    }
   ],
   "source": [
    "from estnltk.taggers import VislTagger\n",
    "\n",
    "text = Text('Ise alles tee esimesel poolel , vaevu kolmekümnekolmene .')\n",
    "text.tag_layer(['morph_extended'])\n",
    "\n",
    "visl_tagger = VislTagger()\n",
    "visl_tagger.tag(text)\n",
    "\n",
    "text.visl"
   ]
  },
  {
   "cell_type": "markdown",
   "metadata": {},
   "source": [
    "## `ConllMorphTagger`"
   ]
  },
  {
   "cell_type": "code",
   "execution_count": 10,
   "metadata": {},
   "outputs": [
    {
     "data": {
      "text/html": [
       "<h4>Tagger</h4>\n",
       "From morph_extended towards conll_syntax\n",
       "<table border=\"1\" class=\"dataframe\">\n",
       "  <thead>\n",
       "    <tr style=\"text-align: right;\">\n",
       "      <th>name</th>\n",
       "      <th>output layer</th>\n",
       "      <th>output attributes</th>\n",
       "      <th>input layers</th>\n",
       "    </tr>\n",
       "  </thead>\n",
       "  <tbody>\n",
       "    <tr>\n",
       "      <td>ConllMorphTagger</td>\n",
       "      <td>conll_morph</td>\n",
       "      <td>('id', 'form', 'lemma', 'upostag', 'xpostag', 'feats', 'head', 'deprel', 'deps', 'misc')</td>\n",
       "      <td>('morph_extended',)</td>\n",
       "    </tr>\n",
       "  </tbody>\n",
       "</table>\n",
       "No configuration parameters."
      ],
      "text/plain": [
       "ConllMorphTagger()"
      ]
     },
     "execution_count": 10,
     "metadata": {},
     "output_type": "execute_result"
    }
   ],
   "source": [
    "from estnltk.taggers import ConllMorphTagger\n",
    "\n",
    "tagger = ConllMorphTagger(output_layer='conll_morph',  # default: 'conll_morph'\n",
    "                          morph_extended_layer='morph_extended'  # default: 'morph_extended'\n",
    "                          )\n",
    "tagger"
   ]
  },
  {
   "cell_type": "code",
   "execution_count": 11,
   "metadata": {},
   "outputs": [
    {
     "data": {
      "text/html": [
       "<h4>Layer</h4>\n",
       "\n",
       "<table border=\"1\" class=\"dataframe\">\n",
       "  <thead>\n",
       "    <tr style=\"text-align: right;\">\n",
       "      <th>layer name</th>\n",
       "      <th>attributes</th>\n",
       "      <th>parent</th>\n",
       "      <th>enveloping</th>\n",
       "      <th>ambiguous</th>\n",
       "      <th>span count</th>\n",
       "    </tr>\n",
       "  </thead>\n",
       "  <tbody>\n",
       "    <tr>\n",
       "      <td>conll_morph</td>\n",
       "      <td>id, form, lemma, upostag, xpostag, feats, head, deprel, deps, misc</td>\n",
       "      <td>words</td>\n",
       "      <td>None</td>\n",
       "      <td>True</td>\n",
       "      <td>9</td>\n",
       "    </tr>\n",
       "  </tbody>\n",
       "</table>\n",
       "<table border=\"1\" class=\"dataframe\">\n",
       "  <thead>\n",
       "    <tr style=\"text-align: right;\">\n",
       "      <th>text</th>\n",
       "      <th>id</th>\n",
       "      <th>form</th>\n",
       "      <th>lemma</th>\n",
       "      <th>upostag</th>\n",
       "      <th>xpostag</th>\n",
       "      <th>feats</th>\n",
       "      <th>head</th>\n",
       "      <th>deprel</th>\n",
       "      <th>deps</th>\n",
       "      <th>misc</th>\n",
       "    </tr>\n",
       "  </thead>\n",
       "  <tbody>\n",
       "    <tr>\n",
       "      <td>Ise</td>\n",
       "      <td>1</td>\n",
       "      <td>Ise</td>\n",
       "      <td>ise</td>\n",
       "      <td>P</td>\n",
       "      <td>P</td>\n",
       "      <td>pos|det|refl|pl|nom</td>\n",
       "      <td>_</td>\n",
       "      <td>_</td>\n",
       "      <td>_</td>\n",
       "      <td>_</td>\n",
       "    </tr>\n",
       "    <tr>\n",
       "      <td>alles</td>\n",
       "      <td>2</td>\n",
       "      <td>alles</td>\n",
       "      <td>alles</td>\n",
       "      <td>D</td>\n",
       "      <td>D</td>\n",
       "      <td>_</td>\n",
       "      <td>_</td>\n",
       "      <td>_</td>\n",
       "      <td>_</td>\n",
       "      <td>_</td>\n",
       "    </tr>\n",
       "    <tr>\n",
       "      <td>tee</td>\n",
       "      <td>3</td>\n",
       "      <td>tee</td>\n",
       "      <td>tee</td>\n",
       "      <td>S</td>\n",
       "      <td>S</td>\n",
       "      <td>sg|gen</td>\n",
       "      <td>_</td>\n",
       "      <td>_</td>\n",
       "      <td>_</td>\n",
       "      <td>_</td>\n",
       "    </tr>\n",
       "    <tr>\n",
       "      <td>esimesel</td>\n",
       "      <td>4</td>\n",
       "      <td>esimesel</td>\n",
       "      <td>esimene</td>\n",
       "      <td>N</td>\n",
       "      <td>A</td>\n",
       "      <td>ord|sg|ad|l</td>\n",
       "      <td>_</td>\n",
       "      <td>_</td>\n",
       "      <td>_</td>\n",
       "      <td>_</td>\n",
       "    </tr>\n",
       "    <tr>\n",
       "      <td>poolel</td>\n",
       "      <td>5</td>\n",
       "      <td>poolel</td>\n",
       "      <td>pool</td>\n",
       "      <td>S</td>\n",
       "      <td>S</td>\n",
       "      <td>sg|ad</td>\n",
       "      <td>_</td>\n",
       "      <td>_</td>\n",
       "      <td>_</td>\n",
       "      <td>_</td>\n",
       "    </tr>\n",
       "    <tr>\n",
       "      <td>,</td>\n",
       "      <td>6</td>\n",
       "      <td>,</td>\n",
       "      <td>,</td>\n",
       "      <td>Z</td>\n",
       "      <td>Z</td>\n",
       "      <td>Com</td>\n",
       "      <td>_</td>\n",
       "      <td>_</td>\n",
       "      <td>_</td>\n",
       "      <td>_</td>\n",
       "    </tr>\n",
       "    <tr>\n",
       "      <td>vaevu</td>\n",
       "      <td>7</td>\n",
       "      <td>vaevu</td>\n",
       "      <td>vaevu</td>\n",
       "      <td>D</td>\n",
       "      <td>D</td>\n",
       "      <td>_</td>\n",
       "      <td>_</td>\n",
       "      <td>_</td>\n",
       "      <td>_</td>\n",
       "      <td>_</td>\n",
       "    </tr>\n",
       "    <tr>\n",
       "      <td>kolmekümnekolmene</td>\n",
       "      <td>8</td>\n",
       "      <td>kolmekümnekolmene</td>\n",
       "      <td>kolme_kümne_kolmene</td>\n",
       "      <td>A</td>\n",
       "      <td>A</td>\n",
       "      <td>sg|nom</td>\n",
       "      <td>_</td>\n",
       "      <td>_</td>\n",
       "      <td>_</td>\n",
       "      <td>_</td>\n",
       "    </tr>\n",
       "    <tr>\n",
       "      <td>.</td>\n",
       "      <td>9</td>\n",
       "      <td>.</td>\n",
       "      <td>.</td>\n",
       "      <td>Z</td>\n",
       "      <td>Z</td>\n",
       "      <td>Fst</td>\n",
       "      <td>_</td>\n",
       "      <td>_</td>\n",
       "      <td>_</td>\n",
       "      <td>_</td>\n",
       "    </tr>\n",
       "  </tbody>\n",
       "</table>"
      ],
      "text/plain": [
       "Layer(name='conll_morph', attributes=('id', 'form', 'lemma', 'upostag', 'xpostag', 'feats', 'head', 'deprel', 'deps', 'misc'), spans=SL[AS[Annotation(Ise, {'deprel': '_', 'deps': '_', 'feats': 'pos|det|refl|pl|nom', 'form': 'Ise', 'head': '_', 'id': '1', 'lemma': 'ise', 'misc': '_', 'upostag': 'P', 'xpostag': 'P'})],\n",
       "AS[Annotation(alles, {'deprel': '_', 'deps': '_', 'feats': '_', 'form': 'alles', 'head': '_', 'id': '2', 'lemma': 'alles', 'misc': '_', 'upostag': 'D', 'xpostag': 'D'})],\n",
       "AS[Annotation(tee, {'deprel': '_', 'deps': '_', 'feats': 'sg|gen', 'form': 'tee', 'head': '_', 'id': '3', 'lemma': 'tee', 'misc': '_', 'upostag': 'S', 'xpostag': 'S'})],\n",
       "AS[Annotation(esimesel, {'deprel': '_', 'deps': '_', 'feats': 'ord|sg|ad|l', 'form': 'esimesel', 'head': '_', 'id': '4', 'lemma': 'esimene', 'misc': '_', 'upostag': 'N', 'xpostag': 'A'})],\n",
       "AS[Annotation(poolel, {'deprel': '_', 'deps': '_', 'feats': 'sg|ad', 'form': 'poolel', 'head': '_', 'id': '5', 'lemma': 'pool', 'misc': '_', 'upostag': 'S', 'xpostag': 'S'})],\n",
       "AS[Annotation(,, {'deprel': '_', 'deps': '_', 'feats': 'Com', 'form': ',', 'head': '_', 'id': '6', 'lemma': ',', 'misc': '_', 'upostag': 'Z', 'xpostag': 'Z'})],\n",
       "AS[Annotation(vaevu, {'deprel': '_', 'deps': '_', 'feats': '_', 'form': 'vaevu', 'head': '_', 'id': '7', 'lemma': 'vaevu', 'misc': '_', 'upostag': 'D', 'xpostag': 'D'})],\n",
       "AS[Annotation(kolmekümnekolmene, {'deprel': '_', 'deps': '_', 'feats': 'sg|nom', 'form': 'kolmekümnekolmene', 'head': '_', 'id': '8', 'lemma': 'kolme_kümne_kolmene', 'misc': '_', 'upostag': 'A', 'xpostag': 'A'})],\n",
       "AS[Annotation(., {'deprel': '_', 'deps': '_', 'feats': 'Fst', 'form': '.', 'head': '_', 'id': '9', 'lemma': '.', 'misc': '_', 'upostag': 'Z', 'xpostag': 'Z'})]])"
      ]
     },
     "execution_count": 11,
     "metadata": {},
     "output_type": "execute_result"
    }
   ],
   "source": [
    "tagger.tag(text)\n",
    "\n",
    "text.conll_morph"
   ]
  },
  {
   "cell_type": "markdown",
   "metadata": {},
   "source": [
    "Convert conll_morph layer to CoNLL-format string."
   ]
  },
  {
   "cell_type": "code",
   "execution_count": 12,
   "metadata": {},
   "outputs": [
    {
     "name": "stdout",
     "output_type": "stream",
     "text": [
      "1\tIse\tise\tP\tP\tpos|det|refl|pl|nom\t_\t_\t_\t_\t\n",
      "2\talles\talles\tD\tD\t_\t_\t_\t_\t_\t\n",
      "3\ttee\ttee\tS\tS\tsg|gen\t_\t_\t_\t_\t\n",
      "4\tesimesel\tesimene\tN\tA\tord|sg|ad|l\t_\t_\t_\t_\t\n",
      "5\tpoolel\tpool\tS\tS\tsg|ad\t_\t_\t_\t_\t\n",
      "6\t,\t,\tZ\tZ\tCom\t_\t_\t_\t_\t\n",
      "7\tvaevu\tvaevu\tD\tD\t_\t_\t_\t_\t_\t\n",
      "8\tkolmekümnekolmene\tkolme_kümne_kolmene\tA\tA\tsg|nom\t_\t_\t_\t_\t\n",
      "9\t.\t.\tZ\tZ\tFst\t_\t_\t_\t_\t\n",
      "\n",
      "\n"
     ]
    }
   ],
   "source": [
    "from estnltk.taggers.syntax.conll_morph_to_str import *\n",
    "\n",
    "print(conll_to_str(text))"
   ]
  },
  {
   "cell_type": "markdown",
   "metadata": {},
   "source": [
    "# Maltparser"
   ]
  },
  {
   "cell_type": "markdown",
   "metadata": {},
   "source": [
    "Parse CoNLL-format string with maltparser."
   ]
  },
  {
   "cell_type": "code",
   "execution_count": 13,
   "metadata": {},
   "outputs": [
    {
     "name": "stdout",
     "output_type": "stream",
     "text": [
      "1\tIse\tise\tP\tP\tpos|det|refl|pl|nom\t0\tROOT\t_\t_\n",
      "2\talles\talles\tD\tD\t_\t3\t@DN>\t_\t_\n",
      "3\ttee\ttee\tS\tS\tsg|gen\t5\t@NN>\t_\t_\n",
      "4\tesimesel\tesimene\tN\tA\tord|sg|ad|l\t5\t@AN>\t_\t_\n",
      "5\tpoolel\tpool\tS\tS\tsg|ad\t1\t@ADVL\t_\t_\n",
      "6\t,\t,\tZ\tZ\tCom\t5\t@Punc\t_\t_\n",
      "7\tvaevu\tvaevu\tD\tD\t_\t8\t@ADVL\t_\t_\n",
      "8\tkolmekümnekolmene\tkolme_kümne_kolmene\tA\tA\tsg|nom\t1\t@PRD\t_\t_\n",
      "9\t.\t.\tZ\tZ\tFst\t8\t@Punc\t_\t_\n",
      "\n"
     ]
    }
   ],
   "source": [
    "from estnltk.taggers.syntax.maltparser import MaltParser\n",
    "\n",
    "parser = MaltParser()\n",
    "initial_output = parser.parse_text(text, return_type='conll')\n",
    "print( '\\n'.join( initial_output) )"
   ]
  }
 ],
 "metadata": {
  "kernelspec": {
   "display_name": "Python 3",
   "language": "python",
   "name": "python3"
  },
  "language_info": {
   "codemirror_mode": {
    "name": "ipython",
    "version": 3
   },
   "file_extension": ".py",
   "mimetype": "text/x-python",
   "name": "python",
   "nbconvert_exporter": "python",
   "pygments_lexer": "ipython3",
   "version": "3.5.6"
  }
 },
 "nbformat": 4,
 "nbformat_minor": 2
}
