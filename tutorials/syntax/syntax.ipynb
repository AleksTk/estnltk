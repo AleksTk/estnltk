{
 "cells": [
  {
   "cell_type": "markdown",
   "metadata": {},
   "source": [
    "# Las score\n",
    "\n",
    "Las score is a number between 0 and 1 that shows the proportion of equal arcs starting in the window."
   ]
  },
  {
   "cell_type": "code",
   "execution_count": 1,
   "metadata": {
    "scrolled": true
   },
   "outputs": [
    {
     "data": {
      "text/html": [
       "<table border=\"1\" class=\"dataframe\">\n",
       "  <thead>\n",
       "    <tr style=\"text-align: right;\">\n",
       "      <th>text</th>\n",
       "    </tr>\n",
       "  </thead>\n",
       "  <tbody>\n",
       "    <tr>\n",
       "      <td><div align = \"left\">Milliseks kujuneb Riigikassa ja Ühispanga vahekord ? Minu arvates on Eesti pangandus tehnoloogiliselt maailma tasemel .</div></td>\n",
       "    </tr>\n",
       "  </tbody>\n",
       "</table>\n",
       "<table border=\"1\" class=\"dataframe\">\n",
       "  <thead>\n",
       "    <tr style=\"text-align: right;\">\n",
       "      <th>layer name</th>\n",
       "      <th>attributes</th>\n",
       "      <th>parent</th>\n",
       "      <th>enveloping</th>\n",
       "      <th>ambiguous</th>\n",
       "      <th>span count</th>\n",
       "    </tr>\n",
       "  </thead>\n",
       "  <tbody>\n",
       "    <tr>\n",
       "      <td>words</td>\n",
       "      <td></td>\n",
       "      <td>None</td>\n",
       "      <td>None</td>\n",
       "      <td>False</td>\n",
       "      <td>16</td>\n",
       "    </tr>\n",
       "    <tr>\n",
       "      <td>conll_a</td>\n",
       "      <td>id, lemma, upostag, xpostag, feats, head, deprel, deps, misc, parent_span, children</td>\n",
       "      <td>None</td>\n",
       "      <td>None</td>\n",
       "      <td>False</td>\n",
       "      <td>16</td>\n",
       "    </tr>\n",
       "    <tr>\n",
       "      <td>conll_b</td>\n",
       "      <td>id, lemma, upostag, xpostag, feats, head, deprel, deps, misc, parent_span, children</td>\n",
       "      <td>None</td>\n",
       "      <td>None</td>\n",
       "      <td>False</td>\n",
       "      <td>16</td>\n",
       "    </tr>\n",
       "  </tbody>\n",
       "</table>"
      ],
      "text/plain": [
       "Text(text='Milliseks kujuneb Riigikassa ja Ühispanga vahekord ? Minu arvates on Eesti pangandus tehnoloogiliselt maailma tasemel .')"
      ]
     },
     "execution_count": 1,
     "metadata": {},
     "output_type": "execute_result"
    }
   ],
   "source": [
    "from estnltk.syntax.scoring import las_score\n",
    "from estnltk.converters.conll_importer import conll_to_text, add_layer_from_conll\n",
    "\n",
    "\n",
    "text = conll_to_text(file='a.conll', syntax_layer='conll_a')\n",
    "add_layer_from_conll(file='a.conll', text=text, syntax_layer='conll_b')"
   ]
  },
  {
   "cell_type": "markdown",
   "metadata": {},
   "source": [
    "Change the second layer a little bit."
   ]
  },
  {
   "cell_type": "code",
   "execution_count": 2,
   "metadata": {},
   "outputs": [
    {
     "data": {
      "text/plain": [
       "True"
      ]
     },
     "execution_count": 2,
     "metadata": {},
     "output_type": "execute_result"
    }
   ],
   "source": [
    "text.conll_b[3].deprel = '@X'\n",
    "\n",
    "text.conll_a[3].deprel != text.conll_b[3].deprel"
   ]
  },
  {
   "cell_type": "markdown",
   "metadata": {},
   "source": [
    "Calculate las score."
   ]
  },
  {
   "cell_type": "code",
   "execution_count": 3,
   "metadata": {},
   "outputs": [
    {
     "data": {
      "text/plain": [
       "0.9375"
      ]
     },
     "execution_count": 3,
     "metadata": {},
     "output_type": "execute_result"
    }
   ],
   "source": [
    "las_score(layer_a=text.conll_a,\n",
    "          layer_b=text.conll_b,\n",
    "          start=None,\n",
    "          end=None\n",
    "          )"
   ]
  },
  {
   "cell_type": "markdown",
   "metadata": {},
   "source": [
    "Compare first 4 spans."
   ]
  },
  {
   "cell_type": "code",
   "execution_count": 4,
   "metadata": {},
   "outputs": [
    {
     "data": {
      "text/plain": [
       "0.75"
      ]
     },
     "execution_count": 4,
     "metadata": {},
     "output_type": "execute_result"
    }
   ],
   "source": [
    "las_score(text.conll_a, text.conll_b, 0, 4)"
   ]
  },
  {
   "cell_type": "markdown",
   "metadata": {},
   "source": [
    "Compare spans starting from the fifth."
   ]
  },
  {
   "cell_type": "code",
   "execution_count": 5,
   "metadata": {},
   "outputs": [
    {
     "data": {
      "text/plain": [
       "1.0"
      ]
     },
     "execution_count": 5,
     "metadata": {},
     "output_type": "execute_result"
    }
   ],
   "source": [
    "las_score(text.conll_a, text.conll_b, 4)"
   ]
  },
  {
   "cell_type": "markdown",
   "metadata": {},
   "source": [
    "# Tag sliding las scores"
   ]
  },
  {
   "cell_type": "code",
   "execution_count": 6,
   "metadata": {
    "scrolled": false
   },
   "outputs": [
    {
     "data": {
      "text/html": [
       "<h4>Tagger</h4>\n",
       "Tag sliding las scores\n",
       "<table border=\"1\" class=\"dataframe\">\n",
       "  <thead>\n",
       "    <tr style=\"text-align: right;\">\n",
       "      <th>name</th>\n",
       "      <th>output layer</th>\n",
       "      <th>output attributes</th>\n",
       "      <th>input layers</th>\n",
       "    </tr>\n",
       "  </thead>\n",
       "  <tbody>\n",
       "    <tr>\n",
       "      <td>SyntaxLasTagger</td>\n",
       "      <td>las</td>\n",
       "      <td>('deprel_sequence', 'score')</td>\n",
       "      <td>('conll_a', 'conll_b')</td>\n",
       "    </tr>\n",
       "  </tbody>\n",
       "</table>\n",
       "<h4>Configuration</h4>\n",
       "<table border=\"1\" class=\"dataframe\">\n",
       "  <tbody>\n",
       "    <tr>\n",
       "      <th>window</th>\n",
       "      <td>3</td>\n",
       "    </tr>\n",
       "  </tbody>\n",
       "</table>"
      ],
      "text/plain": [
       "SyntaxLasTagger(input_layers=('conll_a', 'conll_b'), output_layer=las, output_attributes=('deprel_sequence', 'score'), window=3)"
      ]
     },
     "execution_count": 6,
     "metadata": {},
     "output_type": "execute_result"
    }
   ],
   "source": [
    "from estnltk.taggers.syntax.syntax_las_tagger import SyntaxLasTagger\n",
    "\n",
    "tagger = SyntaxLasTagger('conll_a', 'conll_b', window=3)\n",
    "tagger"
   ]
  },
  {
   "cell_type": "code",
   "execution_count": 7,
   "metadata": {},
   "outputs": [
    {
     "data": {
      "text/html": [
       "<h4>Layer</h4>\n",
       "<table border=\"1\" class=\"dataframe\">\n",
       "  <thead>\n",
       "    <tr style=\"text-align: right;\">\n",
       "      <th>layer name</th>\n",
       "      <th>attributes</th>\n",
       "      <th>parent</th>\n",
       "      <th>enveloping</th>\n",
       "      <th>ambiguous</th>\n",
       "      <th>span count</th>\n",
       "    </tr>\n",
       "  </thead>\n",
       "  <tbody>\n",
       "    <tr>\n",
       "      <td>las</td>\n",
       "      <td>deprel_sequence, score</td>\n",
       "      <td>None</td>\n",
       "      <td>conll_a</td>\n",
       "      <td>False</td>\n",
       "      <td>20</td>\n",
       "    </tr>\n",
       "  </tbody>\n",
       "</table>\n",
       "<table border=\"1\" class=\"dataframe\">\n",
       "  <thead>\n",
       "    <tr style=\"text-align: right;\">\n",
       "      <th>text</th>\n",
       "      <th>deprel_sequence</th>\n",
       "      <th>score</th>\n",
       "    </tr>\n",
       "  </thead>\n",
       "  <tbody>\n",
       "    <tr>\n",
       "      <td>['Milliseks']</td>\n",
       "      <td>('@ADVL',)</td>\n",
       "      <td>1.0</td>\n",
       "    </tr>\n",
       "    <tr>\n",
       "      <td>['Milliseks', 'kujuneb']</td>\n",
       "      <td>('@ADVL', 'ROOT')</td>\n",
       "      <td>1.0</td>\n",
       "    </tr>\n",
       "    <tr>\n",
       "      <td>['Milliseks', 'kujuneb', 'Riigikassa']</td>\n",
       "      <td>('@ADVL', 'ROOT', '@SUBJ')</td>\n",
       "      <td>1.0</td>\n",
       "    </tr>\n",
       "    <tr>\n",
       "      <td>['kujuneb', 'Riigikassa', 'ja']</td>\n",
       "      <td>('ROOT', '@SUBJ', '@J')</td>\n",
       "      <td>0.6666666666666666</td>\n",
       "    </tr>\n",
       "    <tr>\n",
       "      <td>['Riigikassa', 'ja', 'Ühispanga']</td>\n",
       "      <td>('@SUBJ', '@J', '@NN&gt;')</td>\n",
       "      <td>0.6666666666666666</td>\n",
       "    </tr>\n",
       "    <tr>\n",
       "      <td>['ja', 'Ühispanga', 'vahekord']</td>\n",
       "      <td>('@J', '@NN&gt;', '@SUBJ')</td>\n",
       "      <td>0.6666666666666666</td>\n",
       "    </tr>\n",
       "    <tr>\n",
       "      <td>['Ühispanga', 'vahekord', '?']</td>\n",
       "      <td>('@NN&gt;', '@SUBJ', '@Punc')</td>\n",
       "      <td>1.0</td>\n",
       "    </tr>\n",
       "    <tr>\n",
       "      <td>['vahekord', '?']</td>\n",
       "      <td>('@SUBJ', '@Punc')</td>\n",
       "      <td>1.0</td>\n",
       "    </tr>\n",
       "    <tr>\n",
       "      <td>['?']</td>\n",
       "      <td>('@Punc',)</td>\n",
       "      <td>1.0</td>\n",
       "    </tr>\n",
       "    <tr>\n",
       "      <td>['Minu']</td>\n",
       "      <td>('@ADVL',)</td>\n",
       "      <td>1.0</td>\n",
       "    </tr>\n",
       "    <tr>\n",
       "      <td>['Minu', 'arvates']</td>\n",
       "      <td>('@ADVL', '@ADVL')</td>\n",
       "      <td>1.0</td>\n",
       "    </tr>\n",
       "    <tr>\n",
       "      <td>['Minu', 'arvates', 'on']</td>\n",
       "      <td>('@ADVL', '@ADVL', 'ROOT')</td>\n",
       "      <td>1.0</td>\n",
       "    </tr>\n",
       "    <tr>\n",
       "      <td>['arvates', 'on', 'Eesti']</td>\n",
       "      <td>('@ADVL', 'ROOT', '@NN&gt;')</td>\n",
       "      <td>1.0</td>\n",
       "    </tr>\n",
       "    <tr>\n",
       "      <td>['on', 'Eesti', 'pangandus']</td>\n",
       "      <td>('ROOT', '@NN&gt;', '@SUBJ')</td>\n",
       "      <td>1.0</td>\n",
       "    </tr>\n",
       "    <tr>\n",
       "      <td>['Eesti', 'pangandus', 'tehnoloogiliselt']</td>\n",
       "      <td>('@NN&gt;', '@SUBJ', '@ADVL')</td>\n",
       "      <td>1.0</td>\n",
       "    </tr>\n",
       "    <tr>\n",
       "      <td>['pangandus', 'tehnoloogiliselt', 'maailma']</td>\n",
       "      <td>('@SUBJ', '@ADVL', '@NN&gt;')</td>\n",
       "      <td>1.0</td>\n",
       "    </tr>\n",
       "    <tr>\n",
       "      <td>['tehnoloogiliselt', 'maailma', 'tasemel']</td>\n",
       "      <td>('@ADVL', '@NN&gt;', '@ADVL')</td>\n",
       "      <td>1.0</td>\n",
       "    </tr>\n",
       "    <tr>\n",
       "      <td>['maailma', 'tasemel', '.']</td>\n",
       "      <td>('@NN&gt;', '@ADVL', '@Punc')</td>\n",
       "      <td>1.0</td>\n",
       "    </tr>\n",
       "    <tr>\n",
       "      <td>['tasemel', '.']</td>\n",
       "      <td>('@ADVL', '@Punc')</td>\n",
       "      <td>1.0</td>\n",
       "    </tr>\n",
       "    <tr>\n",
       "      <td>['.']</td>\n",
       "      <td>('@Punc',)</td>\n",
       "      <td>1.0</td>\n",
       "    </tr>\n",
       "  </tbody>\n",
       "</table>"
      ],
      "text/plain": [
       "Layer(name=las, spans=SL[ES[AS[Annotation(Milliseks, {'children': None, 'deprel': '@ADVL', 'deps': None, 'feats': 'rel|sg|tr', 'head': 2, 'id': 1, 'lemma': 'milline', 'misc': None, 'parent_span': None, 'upostag': 'P', 'xpostag': 'P'})]],\n",
       "ES[AS[Annotation(Milliseks, {'children': None, 'deprel': '@ADVL', 'deps': None, 'feats': 'rel|sg|tr', 'head': 2, 'id': 1, 'lemma': 'milline', 'misc': None, 'parent_span': None, 'upostag': 'P', 'xpostag': 'P'})],\n",
       "AS[Annotation(kujuneb, {'children': None, 'deprel': 'ROOT', 'deps': None, 'feats': 'indic|pres|ps3|sg', 'head': 0, 'id': 2, 'lemma': 'kujune', 'misc': None, 'parent_span': None, 'upostag': 'V', 'xpostag': 'V'})]],\n",
       "ES[AS[Annotation(Milliseks, {'children': None, 'deprel': '@ADVL', 'deps': None, 'feats': 'rel|sg|tr', 'head': 2, 'id': 1, 'lemma': 'milline', 'misc': None, 'parent_span': None, 'upostag': 'P', 'xpostag': 'P'})],\n",
       "AS[Annotation(kujuneb, {'children': None, 'deprel': 'ROOT', 'deps': None, 'feats': 'indic|pres|ps3|sg', 'head': 0, 'id': 2, 'lemma': 'kujune', 'misc': None, 'parent_span': None, 'upostag': 'V', 'xpostag': 'V'})],\n",
       "AS[Annotation(Riigikassa, {'children': None, 'deprel': '@SUBJ', 'deps': None, 'feats': 'sg|nom', 'head': 2, 'id': 3, 'lemma': 'Riigi_kassa', 'misc': None, 'parent_span': None, 'upostag': 'S', 'xpostag': 'H'})]],\n",
       "ES[AS[Annotation(kujuneb, {'children': None, 'deprel': 'ROOT', 'deps': None, 'feats': 'indic|pres|ps3|sg', 'head': 0, 'id': 2, 'lemma': 'kujune', 'misc': None, 'parent_span': None, 'upostag': 'V', 'xpostag': 'V'})],\n",
       "AS[Annotation(Riigikassa, {'children': None, 'deprel': '@SUBJ', 'deps': None, 'feats': 'sg|nom', 'head': 2, 'id': 3, 'lemma': 'Riigi_kassa', 'misc': None, 'parent_span': None, 'upostag': 'S', 'xpostag': 'H'})],\n",
       "AS[Annotation(ja, {'children': None, 'deprel': '@J', 'deps': None, 'feats': None, 'head': 6, 'id': 4, 'lemma': 'ja', 'misc': None, 'parent_span': None, 'upostag': 'J', 'xpostag': 'Jc'})]],\n",
       "ES[AS[Annotation(Riigikassa, {'children': None, 'deprel': '@SUBJ', 'deps': None, 'feats': 'sg|nom', 'head': 2, 'id': 3, 'lemma': 'Riigi_kassa', 'misc': None, 'parent_span': None, 'upostag': 'S', 'xpostag': 'H'})],\n",
       "AS[Annotation(ja, {'children': None, 'deprel': '@J', 'deps': None, 'feats': None, 'head': 6, 'id': 4, 'lemma': 'ja', 'misc': None, 'parent_span': None, 'upostag': 'J', 'xpostag': 'Jc'})],\n",
       "AS[Annotation(Ühispanga, {'children': None, 'deprel': '@NN>', 'deps': None, 'feats': 'sg|gen', 'head': 6, 'id': 5, 'lemma': 'ühis_pank', 'misc': None, 'parent_span': None, 'upostag': 'S', 'xpostag': 'S'})]],\n",
       "ES[AS[Annotation(ja, {'children': None, 'deprel': '@J', 'deps': None, 'feats': None, 'head': 6, 'id': 4, 'lemma': 'ja', 'misc': None, 'parent_span': None, 'upostag': 'J', 'xpostag': 'Jc'})],\n",
       "AS[Annotation(Ühispanga, {'children': None, 'deprel': '@NN>', 'deps': None, 'feats': 'sg|gen', 'head': 6, 'id': 5, 'lemma': 'ühis_pank', 'misc': None, 'parent_span': None, 'upostag': 'S', 'xpostag': 'S'})],\n",
       "AS[Annotation(vahekord, {'children': None, 'deprel': '@SUBJ', 'deps': None, 'feats': 'sg|nom', 'head': 2, 'id': 6, 'lemma': 'vahe_kord', 'misc': None, 'parent_span': None, 'upostag': 'S', 'xpostag': 'S'})]],\n",
       "ES[AS[Annotation(Ühispanga, {'children': None, 'deprel': '@NN>', 'deps': None, 'feats': 'sg|gen', 'head': 6, 'id': 5, 'lemma': 'ühis_pank', 'misc': None, 'parent_span': None, 'upostag': 'S', 'xpostag': 'S'})],\n",
       "AS[Annotation(vahekord, {'children': None, 'deprel': '@SUBJ', 'deps': None, 'feats': 'sg|nom', 'head': 2, 'id': 6, 'lemma': 'vahe_kord', 'misc': None, 'parent_span': None, 'upostag': 'S', 'xpostag': 'S'})],\n",
       "AS[Annotation(?, {'children': None, 'deprel': '@Punc', 'deps': None, 'feats': 'Int', 'head': 6, 'id': 7, 'lemma': '?', 'misc': None, 'parent_span': None, 'upostag': 'Z', 'xpostag': 'Z'})]],\n",
       "ES[AS[Annotation(vahekord, {'children': None, 'deprel': '@SUBJ', 'deps': None, 'feats': 'sg|nom', 'head': 2, 'id': 6, 'lemma': 'vahe_kord', 'misc': None, 'parent_span': None, 'upostag': 'S', 'xpostag': 'S'})],\n",
       "AS[Annotation(?, {'children': None, 'deprel': '@Punc', 'deps': None, 'feats': 'Int', 'head': 6, 'id': 7, 'lemma': '?', 'misc': None, 'parent_span': None, 'upostag': 'Z', 'xpostag': 'Z'})]],\n",
       "ES[AS[Annotation(?, {'children': None, 'deprel': '@Punc', 'deps': None, 'feats': 'Int', 'head': 6, 'id': 7, 'lemma': '?', 'misc': None, 'parent_span': None, 'upostag': 'Z', 'xpostag': 'Z'})]],\n",
       "ES[AS[Annotation(Minu, {'children': None, 'deprel': '@ADVL', 'deps': None, 'feats': 'ps1|sg|gen', 'head': 2, 'id': 1, 'lemma': 'mina', 'misc': None, 'parent_span': None, 'upostag': 'P', 'xpostag': 'Ppers'})]],\n",
       "ES[AS[Annotation(Minu, {'children': None, 'deprel': '@ADVL', 'deps': None, 'feats': 'ps1|sg|gen', 'head': 2, 'id': 1, 'lemma': 'mina', 'misc': None, 'parent_span': None, 'upostag': 'P', 'xpostag': 'Ppers'})],\n",
       "AS[Annotation(arvates, {'children': None, 'deprel': '@ADVL', 'deps': None, 'feats': 'ger', 'head': 3, 'id': 2, 'lemma': 'arva', 'misc': None, 'parent_span': None, 'upostag': 'V', 'xpostag': 'V'})]],\n",
       "ES[AS[Annotation(Minu, {'children': None, 'deprel': '@ADVL', 'deps': None, 'feats': 'ps1|sg|gen', 'head': 2, 'id': 1, 'lemma': 'mina', 'misc': None, 'parent_span': None, 'upostag': 'P', 'xpostag': 'Ppers'})],\n",
       "AS[Annotation(arvates, {'children': None, 'deprel': '@ADVL', 'deps': None, 'feats': 'ger', 'head': 3, 'id': 2, 'lemma': 'arva', 'misc': None, 'parent_span': None, 'upostag': 'V', 'xpostag': 'V'})],\n",
       "AS[Annotation(on, {'children': None, 'deprel': 'ROOT', 'deps': None, 'feats': 'indic|pres|ps3|sg', 'head': 0, 'id': 3, 'lemma': 'ole', 'misc': None, 'parent_span': None, 'upostag': 'V', 'xpostag': 'V'})]],\n",
       "ES[AS[Annotation(arvates, {'children': None, 'deprel': '@ADVL', 'deps': None, 'feats': 'ger', 'head': 3, 'id': 2, 'lemma': 'arva', 'misc': None, 'parent_span': None, 'upostag': 'V', 'xpostag': 'V'})],\n",
       "AS[Annotation(on, {'children': None, 'deprel': 'ROOT', 'deps': None, 'feats': 'indic|pres|ps3|sg', 'head': 0, 'id': 3, 'lemma': 'ole', 'misc': None, 'parent_span': None, 'upostag': 'V', 'xpostag': 'V'})],\n",
       "AS[Annotation(Eesti, {'children': None, 'deprel': '@NN>', 'deps': None, 'feats': 'sg|gen', 'head': 5, 'id': 4, 'lemma': 'Eesti', 'misc': None, 'parent_span': None, 'upostag': 'S', 'xpostag': 'H'})]],\n",
       "ES[AS[Annotation(on, {'children': None, 'deprel': 'ROOT', 'deps': None, 'feats': 'indic|pres|ps3|sg', 'head': 0, 'id': 3, 'lemma': 'ole', 'misc': None, 'parent_span': None, 'upostag': 'V', 'xpostag': 'V'})],\n",
       "AS[Annotation(Eesti, {'children': None, 'deprel': '@NN>', 'deps': None, 'feats': 'sg|gen', 'head': 5, 'id': 4, 'lemma': 'Eesti', 'misc': None, 'parent_span': None, 'upostag': 'S', 'xpostag': 'H'})],\n",
       "AS[Annotation(pangandus, {'children': None, 'deprel': '@SUBJ', 'deps': None, 'feats': 'sg|nom', 'head': 3, 'id': 5, 'lemma': 'pangandus', 'misc': None, 'parent_span': None, 'upostag': 'S', 'xpostag': 'S'})]],\n",
       "ES[AS[Annotation(Eesti, {'children': None, 'deprel': '@NN>', 'deps': None, 'feats': 'sg|gen', 'head': 5, 'id': 4, 'lemma': 'Eesti', 'misc': None, 'parent_span': None, 'upostag': 'S', 'xpostag': 'H'})],\n",
       "AS[Annotation(pangandus, {'children': None, 'deprel': '@SUBJ', 'deps': None, 'feats': 'sg|nom', 'head': 3, 'id': 5, 'lemma': 'pangandus', 'misc': None, 'parent_span': None, 'upostag': 'S', 'xpostag': 'S'})],\n",
       "AS[Annotation(tehnoloogiliselt, {'children': None, 'deprel': '@ADVL', 'deps': None, 'feats': None, 'head': 3, 'id': 6, 'lemma': 'tehnoloogilise=lt', 'misc': None, 'parent_span': None, 'upostag': 'D', 'xpostag': 'D'})]],\n",
       "ES[AS[Annotation(pangandus, {'children': None, 'deprel': '@SUBJ', 'deps': None, 'feats': 'sg|nom', 'head': 3, 'id': 5, 'lemma': 'pangandus', 'misc': None, 'parent_span': None, 'upostag': 'S', 'xpostag': 'S'})],\n",
       "AS[Annotation(tehnoloogiliselt, {'children': None, 'deprel': '@ADVL', 'deps': None, 'feats': None, 'head': 3, 'id': 6, 'lemma': 'tehnoloogilise=lt', 'misc': None, 'parent_span': None, 'upostag': 'D', 'xpostag': 'D'})],\n",
       "AS[Annotation(maailma, {'children': None, 'deprel': '@NN>', 'deps': None, 'feats': 'sg|gen', 'head': 8, 'id': 7, 'lemma': 'maa_ilm', 'misc': None, 'parent_span': None, 'upostag': 'S', 'xpostag': 'S'})]],\n",
       "ES[AS[Annotation(tehnoloogiliselt, {'children': None, 'deprel': '@ADVL', 'deps': None, 'feats': None, 'head': 3, 'id': 6, 'lemma': 'tehnoloogilise=lt', 'misc': None, 'parent_span': None, 'upostag': 'D', 'xpostag': 'D'})],\n",
       "AS[Annotation(maailma, {'children': None, 'deprel': '@NN>', 'deps': None, 'feats': 'sg|gen', 'head': 8, 'id': 7, 'lemma': 'maa_ilm', 'misc': None, 'parent_span': None, 'upostag': 'S', 'xpostag': 'S'})],\n",
       "AS[Annotation(tasemel, {'children': None, 'deprel': '@ADVL', 'deps': None, 'feats': 'sg|ad', 'head': 3, 'id': 8, 'lemma': 'tase', 'misc': None, 'parent_span': None, 'upostag': 'S', 'xpostag': 'S'})]],\n",
       "ES[AS[Annotation(maailma, {'children': None, 'deprel': '@NN>', 'deps': None, 'feats': 'sg|gen', 'head': 8, 'id': 7, 'lemma': 'maa_ilm', 'misc': None, 'parent_span': None, 'upostag': 'S', 'xpostag': 'S'})],\n",
       "AS[Annotation(tasemel, {'children': None, 'deprel': '@ADVL', 'deps': None, 'feats': 'sg|ad', 'head': 3, 'id': 8, 'lemma': 'tase', 'misc': None, 'parent_span': None, 'upostag': 'S', 'xpostag': 'S'})],\n",
       "AS[Annotation(., {'children': None, 'deprel': '@Punc', 'deps': None, 'feats': 'Fst', 'head': 8, 'id': 9, 'lemma': '.', 'misc': None, 'parent_span': None, 'upostag': 'Z', 'xpostag': 'Z'})]],\n",
       "ES[AS[Annotation(tasemel, {'children': None, 'deprel': '@ADVL', 'deps': None, 'feats': 'sg|ad', 'head': 3, 'id': 8, 'lemma': 'tase', 'misc': None, 'parent_span': None, 'upostag': 'S', 'xpostag': 'S'})],\n",
       "AS[Annotation(., {'children': None, 'deprel': '@Punc', 'deps': None, 'feats': 'Fst', 'head': 8, 'id': 9, 'lemma': '.', 'misc': None, 'parent_span': None, 'upostag': 'Z', 'xpostag': 'Z'})]],\n",
       "ES[AS[Annotation(., {'children': None, 'deprel': '@Punc', 'deps': None, 'feats': 'Fst', 'head': 8, 'id': 9, 'lemma': '.', 'misc': None, 'parent_span': None, 'upostag': 'Z', 'xpostag': 'Z'})]]])"
      ]
     },
     "execution_count": 7,
     "metadata": {},
     "output_type": "execute_result"
    }
   ],
   "source": [
    "tagger.tag(text)\n",
    "text.las"
   ]
  },
  {
   "cell_type": "code",
   "execution_count": 8,
   "metadata": {},
   "outputs": [
    {
     "data": {
      "text/plain": [
       "{('@ADVL',): [1.0, 1.0],\n",
       " ('@ADVL', '@ADVL'): [1.0],\n",
       " ('@ADVL', '@ADVL', 'ROOT'): [1.0],\n",
       " ('@ADVL', '@NN>', '@ADVL'): [1.0],\n",
       " ('@ADVL', '@Punc'): [1.0],\n",
       " ('@ADVL', 'ROOT'): [1.0],\n",
       " ('@ADVL', 'ROOT', '@NN>'): [1.0],\n",
       " ('@ADVL', 'ROOT', '@SUBJ'): [1.0],\n",
       " ('@J', '@NN>', '@SUBJ'): [0.6666666666666666],\n",
       " ('@NN>', '@ADVL', '@Punc'): [1.0],\n",
       " ('@NN>', '@SUBJ', '@ADVL'): [1.0],\n",
       " ('@NN>', '@SUBJ', '@Punc'): [1.0],\n",
       " ('@Punc',): [1.0, 1.0],\n",
       " ('@SUBJ', '@ADVL', '@NN>'): [1.0],\n",
       " ('@SUBJ', '@J', '@NN>'): [0.6666666666666666],\n",
       " ('@SUBJ', '@Punc'): [1.0],\n",
       " ('ROOT', '@NN>', '@SUBJ'): [1.0],\n",
       " ('ROOT', '@SUBJ', '@J'): [0.6666666666666666]}"
      ]
     },
     "execution_count": 8,
     "metadata": {},
     "output_type": "execute_result"
    }
   ],
   "source": [
    "text.las.meta['aggregate_deprel_sequences']"
   ]
  }
 ],
 "metadata": {
  "kernelspec": {
   "display_name": "Python 3",
   "language": "python",
   "name": "python3"
  },
  "language_info": {
   "codemirror_mode": {
    "name": "ipython",
    "version": 3
   },
   "file_extension": ".py",
   "mimetype": "text/x-python",
   "name": "python",
   "nbconvert_exporter": "python",
   "pygments_lexer": "ipython3",
   "version": "3.5.6"
  }
 },
 "nbformat": 4,
 "nbformat_minor": 2
}
