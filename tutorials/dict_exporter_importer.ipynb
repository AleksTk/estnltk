{
 "cells": [
  {
   "cell_type": "markdown",
   "metadata": {},
   "source": [
    "# Export Text object to dict"
   ]
  },
  {
   "cell_type": "markdown",
   "metadata": {},
   "source": [
    "## Structure of the dict representation of the Text object\n",
    "```python\n",
    "{\n",
    "# raw text\n",
    "'text': ___,\n",
    "# metadata\n",
    "'meta': {... },\n",
    "# records of layers in order of dependences\n",
    "'layers': [\n",
    "           {\n",
    "            # simple layer\n",
    "            'name': ___,\n",
    "            'attributes': ['attr_1', ...],\n",
    "            'parent': None,\n",
    "            '_base': None,\n",
    "            'enveloping': None,\n",
    "            'ambiguous': False,\n",
    "            'spans': [\n",
    "                      {'start': ___, 'end': ___, 'attr_1':___, ...},\n",
    "                      {'start': ___, 'end': ___, 'attr_1':___, ...},\n",
    "                      ...                     \n",
    "                     ]\n",
    "           },\n",
    "           {\n",
    "            # parent, not ambiguous\n",
    "            'name': ___,\n",
    "            'attributes': ['attr_1', ...],\n",
    "            'parent': '___',\n",
    "            '_base': '___',\n",
    "            'enveloping': None,\n",
    "            'ambiguous': True,\n",
    "            'spans': [\n",
    "                      {'_index_': _, 'attr_1':___, ...},\n",
    "                      {'_index_': _, 'attr_1':___, ...},\n",
    "                      ...\n",
    "                     ]\n",
    "           },\n",
    "           {\n",
    "            # parent, ambiguous\n",
    "            'name': ___,\n",
    "            'attributes': ['attr_1', ...],\n",
    "            'parent': '___',\n",
    "            '_base': '___',\n",
    "            'enveloping': None,\n",
    "            'ambiguous': True,\n",
    "            'spans': [\n",
    "                      [{'_index_': _, 'attr_1':___, ...},\n",
    "                       {'_index_': _, 'attr_1':___, ...},\n",
    "                       ...\n",
    "                      ],\n",
    "                      ...\n",
    "                     ]\n",
    "           },\n",
    "           {\n",
    "            # enveloping, not ambiguous\n",
    "            'name': ___,\n",
    "            'attributes': ['attr_1', ...],\n",
    "            'parent': None,\n",
    "            '_base': None,\n",
    "            'enveloping': '___',\n",
    "            'ambiguous': False,\n",
    "            'spans': [\n",
    "                      {'_index_': [_, ...], 'attr_1':___, ...},\n",
    "                      {'_index_': [_, ...], 'attr_1':___, ...},\n",
    "                      ...\n",
    "                     ]\n",
    "           },\n",
    "           {\n",
    "            # enveloping, ambiguous\n",
    "            'name': ___,\n",
    "            'attributes': ['attr_1', ...],\n",
    "            'parent': None,\n",
    "            '_base': None,\n",
    "            'enveloping': '___',\n",
    "            'ambiguous': True,\n",
    "            'spans': [\n",
    "                      [\n",
    "                       {'_index_': [_, ...], 'attr_1':___, ...},\n",
    "                       {'_index_': [_, ...], 'attr_1':___, ...},\n",
    "                       ...\n",
    "                      ],\n",
    "                      [\n",
    "                       {'_index_': [_, ...], 'attr_1':___, ...},\n",
    "                       {'_index_': [_, ...], 'attr_1':___, ...},\n",
    "                       ...\n",
    "                      ],\n",
    "                      ...\n",
    "                     ]\n",
    "           }\n",
    "          ]\n",
    "}\n",
    "```"
   ]
  },
  {
   "cell_type": "markdown",
   "metadata": {},
   "source": [
    "## Export"
   ]
  },
  {
   "cell_type": "code",
   "execution_count": 1,
   "metadata": {},
   "outputs": [
    {
     "data": {
      "text/plain": [
       "{'layers': [{'_base': 'words',\n",
       "   'ambiguous': False,\n",
       "   'attributes': ['normalized_form'],\n",
       "   'enveloping': None,\n",
       "   'name': 'words',\n",
       "   'parent': None,\n",
       "   'spans': [{'end': 4, 'normalized_form': None, 'start': 0},\n",
       "    {'end': 10, 'normalized_form': None, 'start': 5},\n",
       "    {'end': 15, 'normalized_form': None, 'start': 11},\n",
       "    {'end': 16, 'normalized_form': None, 'start': 15}]},\n",
       "  {'_base': 'words',\n",
       "   'ambiguous': True,\n",
       "   'attributes': ('lemma',\n",
       "    'root',\n",
       "    'root_tokens',\n",
       "    'ending',\n",
       "    'clitic',\n",
       "    'form',\n",
       "    'partofspeech'),\n",
       "   'enveloping': None,\n",
       "   'name': 'morph_analysis',\n",
       "   'parent': 'words',\n",
       "   'spans': [[{'_index_': 0,\n",
       "      'clitic': '',\n",
       "      'end': 4,\n",
       "      'ending': 's',\n",
       "      'form': 'sg in',\n",
       "      'lemma': 'aed',\n",
       "      'partofspeech': 'S',\n",
       "      'root': 'aed',\n",
       "      'root_tokens': ('aed',),\n",
       "      'start': 0}],\n",
       "    [{'_index_': 1,\n",
       "      'clitic': '',\n",
       "      'end': 10,\n",
       "      'ending': 's',\n",
       "      'form': 's',\n",
       "      'lemma': 'sadama',\n",
       "      'partofspeech': 'V',\n",
       "      'root': 'sada',\n",
       "      'root_tokens': ('sada',),\n",
       "      'start': 5}],\n",
       "    [{'_index_': 2,\n",
       "      'clitic': '',\n",
       "      'end': 15,\n",
       "      'ending': '0',\n",
       "      'form': 'sg p',\n",
       "      'lemma': 'sai',\n",
       "      'partofspeech': 'S',\n",
       "      'root': 'sai',\n",
       "      'root_tokens': ('sai',),\n",
       "      'start': 11}],\n",
       "    [{'_index_': 3,\n",
       "      'clitic': '',\n",
       "      'end': 16,\n",
       "      'ending': '',\n",
       "      'form': '',\n",
       "      'lemma': '.',\n",
       "      'partofspeech': 'Z',\n",
       "      'root': '.',\n",
       "      'root_tokens': ('.',),\n",
       "      'start': 15}]]}],\n",
       " 'meta': {'month': 'december', 'year': 2017},\n",
       " 'text': 'Aias sadas saia.'}"
      ]
     },
     "execution_count": 1,
     "metadata": {},
     "output_type": "execute_result"
    }
   ],
   "source": [
    "from estnltk import Text\n",
    "from estnltk.converters import export_dict\n",
    "\n",
    "text = Text('Aias sadas saia.')\n",
    "text.meta['year'] = 2017\n",
    "text.meta['month'] = 'december'\n",
    "text.analyse('morphology')\n",
    "text_dict = export_dict(text)\n",
    "text_dict"
   ]
  },
  {
   "cell_type": "markdown",
   "metadata": {},
   "source": [
    "## Import"
   ]
  },
  {
   "cell_type": "code",
   "execution_count": 2,
   "metadata": {},
   "outputs": [
    {
     "data": {
      "text/html": [
       "<table border=\"1\" class=\"dataframe\">\n",
       "  <thead>\n",
       "    <tr style=\"text-align: right;\">\n",
       "      <th>text</th>\n",
       "    </tr>\n",
       "  </thead>\n",
       "  <tbody>\n",
       "    <tr>\n",
       "      <td>Aias sadas saia.</td>\n",
       "    </tr>\n",
       "  </tbody>\n",
       "</table>\n",
       "<h4>Metadata</h4>\n",
       "<table border=\"1\" class=\"dataframe\">\n",
       "  <tbody>\n",
       "    <tr>\n",
       "      <th>year</th>\n",
       "      <td>2017</td>\n",
       "    </tr>\n",
       "    <tr>\n",
       "      <th>month</th>\n",
       "      <td>december</td>\n",
       "    </tr>\n",
       "  </tbody>\n",
       "</table>\n",
       "<table border=\"1\" class=\"dataframe\">\n",
       "  <thead>\n",
       "    <tr style=\"text-align: right;\">\n",
       "      <th>layer name</th>\n",
       "      <th>attributes</th>\n",
       "      <th>parent</th>\n",
       "      <th>enveloping</th>\n",
       "      <th>ambiguous</th>\n",
       "      <th>span count</th>\n",
       "    </tr>\n",
       "  </thead>\n",
       "  <tbody>\n",
       "    <tr>\n",
       "      <td>words</td>\n",
       "      <td>normalized_form</td>\n",
       "      <td>None</td>\n",
       "      <td>None</td>\n",
       "      <td>False</td>\n",
       "      <td>4</td>\n",
       "    </tr>\n",
       "    <tr>\n",
       "      <td>morph_analysis</td>\n",
       "      <td>lemma, root, root_tokens, ending, clitic, form, partofspeech</td>\n",
       "      <td>words</td>\n",
       "      <td>None</td>\n",
       "      <td>True</td>\n",
       "      <td>4</td>\n",
       "    </tr>\n",
       "  </tbody>\n",
       "</table>"
      ],
      "text/plain": [
       "Text(text=\"Aias sadas saia.\")"
      ]
     },
     "execution_count": 2,
     "metadata": {},
     "output_type": "execute_result"
    }
   ],
   "source": [
    "from estnltk.converters import import_dict\n",
    "import_text = import_dict(text_dict)\n",
    "import_text"
   ]
  },
  {
   "cell_type": "code",
   "execution_count": 3,
   "metadata": {},
   "outputs": [
    {
     "data": {
      "text/plain": [
       "True"
      ]
     },
     "execution_count": 3,
     "metadata": {},
     "output_type": "execute_result"
    }
   ],
   "source": [
    "import_text == text"
   ]
  }
 ],
 "metadata": {
  "kernelspec": {
   "display_name": "Python 3",
   "language": "python",
   "name": "python3"
  },
  "language_info": {
   "codemirror_mode": {
    "name": "ipython",
    "version": 3
   },
   "file_extension": ".py",
   "mimetype": "text/x-python",
   "name": "python",
   "nbconvert_exporter": "python",
   "pygments_lexer": "ipython3",
   "version": "3.5.4"
  }
 },
 "nbformat": 4,
 "nbformat_minor": 2
}
