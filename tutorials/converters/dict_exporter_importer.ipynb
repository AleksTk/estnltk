{
 "cells": [
  {
   "cell_type": "markdown",
   "metadata": {},
   "source": [
    "# Export Text object to dict and import from dict"
   ]
  },
  {
   "cell_type": "markdown",
   "metadata": {},
   "source": [
    "## Structure of the dict representation of the Text object\n",
    "```python\n",
    "{\n",
    "# raw text\n",
    "'text': ___,\n",
    "# metadata\n",
    "'meta': {... },\n",
    "# records of layers in order of dependences\n",
    "'layers': [\n",
    "           {\n",
    "            # simple layer\n",
    "            'name': ___,\n",
    "            'attributes': ['attr_1', ...],\n",
    "            'parent': None,\n",
    "            '_base': None,\n",
    "            'enveloping': None,\n",
    "            'ambiguous': False,\n",
    "            'spans': [\n",
    "                      {'start': ___, 'end': ___, 'attr_1':___, ...},\n",
    "                      {'start': ___, 'end': ___, 'attr_1':___, ...},\n",
    "                      ...                     \n",
    "                     ]\n",
    "           },\n",
    "           {\n",
    "            # parent, not ambiguous\n",
    "            'name': ___,\n",
    "            'attributes': ['attr_1', ...],\n",
    "            'parent': '___',\n",
    "            '_base': '___',\n",
    "            'enveloping': None,\n",
    "            'ambiguous': True,\n",
    "            'spans': [\n",
    "                      {'_index_': _, 'attr_1':___, ...},\n",
    "                      {'_index_': _, 'attr_1':___, ...},\n",
    "                      ...\n",
    "                     ]\n",
    "           },\n",
    "           {\n",
    "            # parent, ambiguous\n",
    "            'name': ___,\n",
    "            'attributes': ['attr_1', ...],\n",
    "            'parent': '___',\n",
    "            '_base': '___',\n",
    "            'enveloping': None,\n",
    "            'ambiguous': True,\n",
    "            'spans': [\n",
    "                      [{'_index_': _, 'attr_1':___, ...},\n",
    "                       {'_index_': _, 'attr_1':___, ...},\n",
    "                       ...\n",
    "                      ],\n",
    "                      ...\n",
    "                     ]\n",
    "           },\n",
    "           {\n",
    "            # enveloping, not ambiguous\n",
    "            'name': ___,\n",
    "            'attributes': ['attr_1', ...],\n",
    "            'parent': None,\n",
    "            '_base': None,\n",
    "            'enveloping': '___',\n",
    "            'ambiguous': False,\n",
    "            'spans': [\n",
    "                      {'_index_': [_, ...], 'attr_1':___, ...},\n",
    "                      {'_index_': [_, ...], 'attr_1':___, ...},\n",
    "                      ...\n",
    "                     ]\n",
    "           },\n",
    "           {\n",
    "            # enveloping, ambiguous\n",
    "            'name': ___,\n",
    "            'attributes': ['attr_1', ...],\n",
    "            'parent': None,\n",
    "            '_base': None,\n",
    "            'enveloping': '___',\n",
    "            'ambiguous': True,\n",
    "            'spans': [\n",
    "                      [\n",
    "                       {'_index_': [_, ...], 'attr_1':___, ...},\n",
    "                       {'_index_': [_, ...], 'attr_1':___, ...},\n",
    "                       ...\n",
    "                      ],\n",
    "                      [\n",
    "                       {'_index_': [_, ...], 'attr_1':___, ...},\n",
    "                       {'_index_': [_, ...], 'attr_1':___, ...},\n",
    "                       ...\n",
    "                      ],\n",
    "                      ...\n",
    "                     ]\n",
    "           }\n",
    "          ]\n",
    "}\n",
    "```"
   ]
  },
  {
   "cell_type": "markdown",
   "metadata": {},
   "source": [
    "Converter functions can also convert list of objects. List of `Text` objects is converted to list of dicts, the same holds for list of `Layer` objects."
   ]
  },
  {
   "cell_type": "markdown",
   "metadata": {},
   "source": [
    "## Export `Text`"
   ]
  },
  {
   "cell_type": "code",
   "execution_count": 1,
   "metadata": {
    "scrolled": false
   },
   "outputs": [
    {
     "data": {
      "text/plain": [
       "{'text': 'Aias sadas saia.',\n",
       " 'meta': {'year': 2017, 'month': 'december'},\n",
       " 'layers': [{'name': 'words',\n",
       "   'attributes': ('normalized_form',),\n",
       "   'parent': None,\n",
       "   '_base': 'words',\n",
       "   'enveloping': None,\n",
       "   'ambiguous': False,\n",
       "   'spans': [{'normalized_form': None, 'start': 0, 'end': 4},\n",
       "    {'normalized_form': None, 'start': 5, 'end': 10},\n",
       "    {'normalized_form': None, 'start': 11, 'end': 15},\n",
       "    {'normalized_form': None, 'start': 15, 'end': 16}]},\n",
       "  {'name': 'morph_analysis',\n",
       "   'attributes': ('lemma',\n",
       "    'root',\n",
       "    'root_tokens',\n",
       "    'ending',\n",
       "    'clitic',\n",
       "    'form',\n",
       "    'partofspeech'),\n",
       "   'parent': 'words',\n",
       "   '_base': 'words',\n",
       "   'enveloping': None,\n",
       "   'ambiguous': True,\n",
       "   'spans': [[{'lemma': 'aed',\n",
       "      'root': 'aed',\n",
       "      'root_tokens': ('aed',),\n",
       "      'ending': 's',\n",
       "      'clitic': '',\n",
       "      'form': 'sg in',\n",
       "      'partofspeech': 'S',\n",
       "      'start': 0,\n",
       "      'end': 4,\n",
       "      '_index_': 0}],\n",
       "    [{'lemma': 'sadama',\n",
       "      'root': 'sada',\n",
       "      'root_tokens': ('sada',),\n",
       "      'ending': 's',\n",
       "      'clitic': '',\n",
       "      'form': 's',\n",
       "      'partofspeech': 'V',\n",
       "      'start': 5,\n",
       "      'end': 10,\n",
       "      '_index_': 1}],\n",
       "    [{'lemma': 'sai',\n",
       "      'root': 'sai',\n",
       "      'root_tokens': ('sai',),\n",
       "      'ending': '0',\n",
       "      'clitic': '',\n",
       "      'form': 'sg p',\n",
       "      'partofspeech': 'S',\n",
       "      'start': 11,\n",
       "      'end': 15,\n",
       "      '_index_': 2}],\n",
       "    [{'lemma': '.',\n",
       "      'root': '.',\n",
       "      'root_tokens': ('.',),\n",
       "      'ending': '',\n",
       "      'clitic': '',\n",
       "      'form': '',\n",
       "      'partofspeech': 'Z',\n",
       "      'start': 15,\n",
       "      'end': 16,\n",
       "      '_index_': 3}]]},\n",
       "  {'name': 'sentences',\n",
       "   'attributes': (),\n",
       "   'parent': None,\n",
       "   '_base': 'sentences',\n",
       "   'enveloping': 'words',\n",
       "   'ambiguous': False,\n",
       "   'spans': [{'_index_': [0, 1, 2, 3]}]}]}"
      ]
     },
     "execution_count": 1,
     "metadata": {},
     "output_type": "execute_result"
    }
   ],
   "source": [
    "from estnltk import Text\n",
    "from estnltk.converters import text_to_dict\n",
    "\n",
    "text = Text('Aias sadas saia.')\n",
    "text.meta['year'] = 2017\n",
    "text.meta['month'] = 'december'\n",
    "text.analyse('morphology')\n",
    "text_dict = text_to_dict(text)\n",
    "text_dict"
   ]
  },
  {
   "cell_type": "markdown",
   "metadata": {},
   "source": [
    "## Import `Text`"
   ]
  },
  {
   "cell_type": "code",
   "execution_count": 2,
   "metadata": {},
   "outputs": [
    {
     "data": {
      "text/html": [
       "<table border=\"1\" class=\"dataframe\">\n",
       "  <thead>\n",
       "    <tr style=\"text-align: right;\">\n",
       "      <th>text</th>\n",
       "    </tr>\n",
       "  </thead>\n",
       "  <tbody>\n",
       "    <tr>\n",
       "      <td><div align = \"left\">Aias sadas saia.</div></td>\n",
       "    </tr>\n",
       "  </tbody>\n",
       "</table>\n",
       "<h4>Metadata</h4>\n",
       "<table border=\"1\" class=\"dataframe\">\n",
       "  <tbody>\n",
       "    <tr>\n",
       "      <td>month</td>\n",
       "      <td>december</td>\n",
       "    </tr>\n",
       "    <tr>\n",
       "      <td>year</td>\n",
       "      <td>2017</td>\n",
       "    </tr>\n",
       "  </tbody>\n",
       "</table>\n",
       "<table border=\"1\" class=\"dataframe\">\n",
       "  <thead>\n",
       "    <tr style=\"text-align: right;\">\n",
       "      <th>layer name</th>\n",
       "      <th>attributes</th>\n",
       "      <th>parent</th>\n",
       "      <th>enveloping</th>\n",
       "      <th>ambiguous</th>\n",
       "      <th>span count</th>\n",
       "    </tr>\n",
       "  </thead>\n",
       "  <tbody>\n",
       "    <tr>\n",
       "      <td>sentences</td>\n",
       "      <td></td>\n",
       "      <td>None</td>\n",
       "      <td>words</td>\n",
       "      <td>False</td>\n",
       "      <td>1</td>\n",
       "    </tr>\n",
       "    <tr>\n",
       "      <td>words</td>\n",
       "      <td>normalized_form</td>\n",
       "      <td>None</td>\n",
       "      <td>None</td>\n",
       "      <td>False</td>\n",
       "      <td>4</td>\n",
       "    </tr>\n",
       "    <tr>\n",
       "      <td>morph_analysis</td>\n",
       "      <td>lemma, root, root_tokens, ending, clitic, form, partofspeech</td>\n",
       "      <td>words</td>\n",
       "      <td>None</td>\n",
       "      <td>True</td>\n",
       "      <td>4</td>\n",
       "    </tr>\n",
       "  </tbody>\n",
       "</table>"
      ],
      "text/plain": [
       "Text(text='Aias sadas saia.')"
      ]
     },
     "execution_count": 2,
     "metadata": {},
     "output_type": "execute_result"
    }
   ],
   "source": [
    "from estnltk.converters import dict_to_text\n",
    "import_text = dict_to_text(text_dict)\n",
    "import_text"
   ]
  },
  {
   "cell_type": "code",
   "execution_count": 3,
   "metadata": {},
   "outputs": [
    {
     "data": {
      "text/plain": [
       "True"
      ]
     },
     "execution_count": 3,
     "metadata": {},
     "output_type": "execute_result"
    }
   ],
   "source": [
    "import_text == text"
   ]
  },
  {
   "cell_type": "markdown",
   "metadata": {},
   "source": [
    "## Export and import list of `Text`"
   ]
  },
  {
   "cell_type": "code",
   "execution_count": 4,
   "metadata": {},
   "outputs": [
    {
     "data": {
      "text/plain": [
       "[{'text': 'esimene text', 'meta': {}, 'layers': []},\n",
       " {'text': 'teine text', 'meta': {}, 'layers': []}]"
      ]
     },
     "execution_count": 4,
     "metadata": {},
     "output_type": "execute_result"
    }
   ],
   "source": [
    "text_list = [Text('esimene text'), Text('teine text')]\n",
    "text_list_dict = text_to_dict(text_list)\n",
    "text_list_dict"
   ]
  },
  {
   "cell_type": "code",
   "execution_count": 5,
   "metadata": {
    "scrolled": true
   },
   "outputs": [
    {
     "data": {
      "text/plain": [
       "[Text(text='esimene text'), Text(text='teine text')]"
      ]
     },
     "execution_count": 5,
     "metadata": {},
     "output_type": "execute_result"
    }
   ],
   "source": [
    "import_text_list = dict_to_text(text_list_dict)\n",
    "import_text_list"
   ]
  },
  {
   "cell_type": "code",
   "execution_count": 6,
   "metadata": {},
   "outputs": [
    {
     "data": {
      "text/plain": [
       "True"
      ]
     },
     "execution_count": 6,
     "metadata": {},
     "output_type": "execute_result"
    }
   ],
   "source": [
    "import_text_list == text_list"
   ]
  },
  {
   "cell_type": "markdown",
   "metadata": {},
   "source": [
    "## Export layer, import layer\n",
    "Layer is represented as a dict in the same way as layers are represented inside the dict representation of a `Text` object.\n",
    "### Export a layer to a dict."
   ]
  },
  {
   "cell_type": "code",
   "execution_count": 7,
   "metadata": {
    "scrolled": true
   },
   "outputs": [
    {
     "data": {
      "text/plain": [
       "{'name': 'words',\n",
       " 'attributes': ('normalized_form',),\n",
       " 'parent': None,\n",
       " '_base': 'words',\n",
       " 'enveloping': None,\n",
       " 'ambiguous': False,\n",
       " 'spans': [{'normalized_form': None, 'start': 0, 'end': 4},\n",
       "  {'normalized_form': None, 'start': 4, 'end': 5},\n",
       "  {'normalized_form': None, 'start': 6, 'end': 12},\n",
       "  {'normalized_form': None, 'start': 12, 'end': 13}]}"
      ]
     },
     "execution_count": 7,
     "metadata": {},
     "output_type": "execute_result"
    }
   ],
   "source": [
    "from estnltk.converters import layer_to_dict\n",
    "from estnltk.converters import dict_to_layer\n",
    "\n",
    "t = Text('Tere, maailm!').tag_layer(['words'])\n",
    "d = layer_to_dict(t['words'])\n",
    "d"
   ]
  },
  {
   "cell_type": "markdown",
   "metadata": {},
   "source": [
    "### Import a layer from a dict."
   ]
  },
  {
   "cell_type": "code",
   "execution_count": 8,
   "metadata": {
    "scrolled": true
   },
   "outputs": [
    {
     "data": {
      "text/html": [
       "<h4>Layer</h4>\n",
       "\n",
       "\n",
       "<table border=\"1\" class=\"dataframe\">\n",
       "  <thead>\n",
       "    <tr style=\"text-align: right;\">\n",
       "      <th>layer name</th>\n",
       "      <th>attributes</th>\n",
       "      <th>parent</th>\n",
       "      <th>enveloping</th>\n",
       "      <th>ambiguous</th>\n",
       "      <th>span count</th>\n",
       "    </tr>\n",
       "  </thead>\n",
       "  <tbody>\n",
       "    <tr>\n",
       "      <td>words</td>\n",
       "      <td>normalized_form</td>\n",
       "      <td>None</td>\n",
       "      <td>None</td>\n",
       "      <td>False</td>\n",
       "      <td>4</td>\n",
       "    </tr>\n",
       "  </tbody>\n",
       "</table>\n",
       "<table border=\"1\" class=\"dataframe\">\n",
       "  <thead>\n",
       "    <tr style=\"text-align: right;\">\n",
       "      <th>text</th>\n",
       "      <th>normalized_form</th>\n",
       "    </tr>\n",
       "  </thead>\n",
       "  <tbody>\n",
       "    <tr>\n",
       "      <td>Tere</td>\n",
       "      <td>None</td>\n",
       "    </tr>\n",
       "    <tr>\n",
       "      <td>,</td>\n",
       "      <td>None</td>\n",
       "    </tr>\n",
       "    <tr>\n",
       "      <td>maailm</td>\n",
       "      <td>None</td>\n",
       "    </tr>\n",
       "    <tr>\n",
       "      <td>!</td>\n",
       "      <td>None</td>\n",
       "    </tr>\n",
       "  </tbody>\n",
       "</table>"
      ],
      "text/plain": [
       "Layer(name='words', attributes=('normalized_form',), spans=SL[Span('Tere', [{'normalized_form': None}]),\n",
       "Span(',', [{'normalized_form': None}]),\n",
       "Span('maailm', [{'normalized_form': None}]),\n",
       "Span('!', [{'normalized_form': None}])])"
      ]
     },
     "execution_count": 8,
     "metadata": {},
     "output_type": "execute_result"
    }
   ],
   "source": [
    "text = Text('Tere, maailm!')\n",
    "text['words'] = dict_to_layer(d, text)\n",
    "text.words"
   ]
  },
  {
   "cell_type": "markdown",
   "metadata": {},
   "source": [
    "## Export and import list of layers"
   ]
  },
  {
   "cell_type": "code",
   "execution_count": 9,
   "metadata": {
    "scrolled": false
   },
   "outputs": [
    {
     "data": {
      "text/plain": [
       "[{'name': 'words',\n",
       "  'attributes': ('normalized_form',),\n",
       "  'parent': None,\n",
       "  '_base': 'words',\n",
       "  'enveloping': None,\n",
       "  'ambiguous': False,\n",
       "  'spans': [{'normalized_form': None, 'start': 0, 'end': 4},\n",
       "   {'normalized_form': None, 'start': 4, 'end': 5},\n",
       "   {'normalized_form': None, 'start': 6, 'end': 12},\n",
       "   {'normalized_form': None, 'start': 12, 'end': 13}]},\n",
       " {'name': 'tokens',\n",
       "  'attributes': (),\n",
       "  'parent': None,\n",
       "  '_base': 'tokens',\n",
       "  'enveloping': None,\n",
       "  'ambiguous': False,\n",
       "  'spans': [{'start': 0, 'end': 4},\n",
       "   {'start': 4, 'end': 5},\n",
       "   {'start': 6, 'end': 12},\n",
       "   {'start': 12, 'end': 13}]},\n",
       " {'name': 'words',\n",
       "  'attributes': ('normalized_form',),\n",
       "  'parent': None,\n",
       "  '_base': 'words',\n",
       "  'enveloping': None,\n",
       "  'ambiguous': False,\n",
       "  'spans': [{'normalized_form': None, 'start': 0, 'end': 4},\n",
       "   {'normalized_form': None, 'start': 4, 'end': 5},\n",
       "   {'normalized_form': None, 'start': 6, 'end': 12},\n",
       "   {'normalized_form': None, 'start': 12, 'end': 13}]}]"
      ]
     },
     "execution_count": 9,
     "metadata": {},
     "output_type": "execute_result"
    }
   ],
   "source": [
    "t = Text('Tere, maailm!').tag_layer(['words'])\n",
    "layer_list = [t.words, t.tokens, t.words]\n",
    "layer_list_dict = layer_to_dict(layer_list)\n",
    "layer_list_dict"
   ]
  },
  {
   "cell_type": "code",
   "execution_count": 10,
   "metadata": {},
   "outputs": [
    {
     "data": {
      "text/plain": [
       "[Layer(name='words', attributes=('normalized_form',), spans=SL[Span('Tere', [{'normalized_form': None}]),\n",
       " Span(',', [{'normalized_form': None}]),\n",
       " Span('maailm', [{'normalized_form': None}]),\n",
       " Span('!', [{'normalized_form': None}])]),\n",
       " Layer(name='tokens', attributes=(), spans=SL[Span('Tere', [{}]),\n",
       " Span(',', [{}]),\n",
       " Span('maailm', [{}]),\n",
       " Span('!', [{}])]),\n",
       " Layer(name='words', attributes=('normalized_form',), spans=SL[Span('Tere', [{'normalized_form': None}]),\n",
       " Span(',', [{'normalized_form': None}]),\n",
       " Span('maailm', [{'normalized_form': None}]),\n",
       " Span('!', [{'normalized_form': None}])])]"
      ]
     },
     "execution_count": 10,
     "metadata": {},
     "output_type": "execute_result"
    }
   ],
   "source": [
    "import_layer_list = dict_to_layer(layer_list_dict, [t,t,t])\n",
    "import_layer_list"
   ]
  },
  {
   "cell_type": "code",
   "execution_count": 11,
   "metadata": {},
   "outputs": [
    {
     "data": {
      "text/plain": [
       "True"
      ]
     },
     "execution_count": 11,
     "metadata": {},
     "output_type": "execute_result"
    }
   ],
   "source": [
    "layer_list == import_layer_list"
   ]
  }
 ],
 "metadata": {
  "kernelspec": {
   "display_name": "Python 3",
   "language": "python",
   "name": "python3"
  },
  "language_info": {
   "codemirror_mode": {
    "name": "ipython",
    "version": 3
   },
   "file_extension": ".py",
   "mimetype": "text/x-python",
   "name": "python",
   "nbconvert_exporter": "python",
   "pygments_lexer": "ipython3",
   "version": "3.6.8"
  }
 },
 "nbformat": 4,
 "nbformat_minor": 2
}
