{
 "cells": [
  {
   "cell_type": "markdown",
   "metadata": {
    "collapsed": true
   },
   "source": [
    "# Storing Text objects in Postgres"
   ]
  },
  {
   "cell_type": "markdown",
   "metadata": {},
   "source": [
    "This tutorial demonstrates how to store and query estnltk text objects in postgres database."
   ]
  },
  {
   "cell_type": "code",
   "execution_count": 1,
   "metadata": {},
   "outputs": [],
   "source": [
    "from estnltk import Text\n",
    "from estnltk.storage.postgres import PostgresStorage, JsonbTextQuery, JsonbLayerQuery, create_schema, delete_schema\n",
    "from estnltk.taggers import VabamorfTagger"
   ]
  },
  {
   "cell_type": "markdown",
   "metadata": {},
   "source": [
    "The first line of the `pgpass` file that matches the given `PostgresStorage` arguments is used to connect to an existing PostgreSQL database. File format:\n",
    "\n",
    "    host:port:dbname:user:password"
   ]
  },
  {
   "cell_type": "code",
   "execution_count": 2,
   "metadata": {
    "scrolled": true
   },
   "outputs": [
    {
     "name": "stdout",
     "output_type": "stream",
     "text": [
      "INFO:storage.py:40: connecting to host: 'localhost', port: '5432', dbname: 'test_db', user: 'pault'\n",
      "INFO:storage.py:56: schema: 'my_schema', temporary: False, role: 'pault'\n"
     ]
    }
   ],
   "source": [
    "storage = PostgresStorage(pgpass_file='~/.pgpass',\n",
    "                          dbname='test_db',\n",
    "                          schema='my_schema')\n",
    "create_schema(storage)"
   ]
  },
  {
   "cell_type": "code",
   "execution_count": 3,
   "metadata": {},
   "outputs": [
    {
     "name": "stdout",
     "output_type": "stream",
     "text": [
      "INFO:collection.py:103: new empty collection 'my_first_collection' created\n",
      "INFO:collection.py:103: new empty collection 'my_second_collection' created\n"
     ]
    },
    {
     "data": {
      "text/html": [
       "<b>PostgresStorage</b><br/>\n",
       "host=localhost port=5432 user=pault dbname=test_db schema=my_schema<br/>temporary=False\n",
       "<table border=\"1\" class=\"dataframe\">\n",
       "  <thead>\n",
       "    <tr style=\"text-align: right;\">\n",
       "      <th></th>\n",
       "      <th></th>\n",
       "      <th>total_size</th>\n",
       "      <th>comment</th>\n",
       "    </tr>\n",
       "    <tr>\n",
       "      <th>collection</th>\n",
       "      <th>layers</th>\n",
       "      <th></th>\n",
       "      <th></th>\n",
       "    </tr>\n",
       "  </thead>\n",
       "  <tbody>\n",
       "    <tr>\n",
       "      <th>my_first_collection</th>\n",
       "      <th></th>\n",
       "      <td>32 kB</td>\n",
       "      <td>first demo collection</td>\n",
       "    </tr>\n",
       "    <tr>\n",
       "      <th>my_second_collection</th>\n",
       "      <th></th>\n",
       "      <td>32 kB</td>\n",
       "      <td>second demo collection</td>\n",
       "    </tr>\n",
       "  </tbody>\n",
       "</table>"
      ],
      "text/plain": [
       "<estnltk.storage.postgres.storage.PostgresStorage at 0x7f5eb1562518>"
      ]
     },
     "execution_count": 3,
     "metadata": {},
     "output_type": "execute_result"
    }
   ],
   "source": [
    "storage['my_first_collection'].create('first demo collection')\n",
    "storage['my_second_collection'].create('second demo collection')\n",
    "storage"
   ]
  },
  {
   "cell_type": "markdown",
   "metadata": {},
   "source": [
    "List of collection names."
   ]
  },
  {
   "cell_type": "code",
   "execution_count": 4,
   "metadata": {},
   "outputs": [
    {
     "data": {
      "text/plain": [
       "['my_first_collection', 'my_second_collection']"
      ]
     },
     "execution_count": 4,
     "metadata": {},
     "output_type": "execute_result"
    }
   ],
   "source": [
    "storage.collections"
   ]
  },
  {
   "cell_type": "markdown",
   "metadata": {},
   "source": [
    "Delete collections."
   ]
  },
  {
   "cell_type": "code",
   "execution_count": 5,
   "metadata": {},
   "outputs": [
    {
     "data": {
      "text/html": [
       "<b>PostgresStorage</b><br/>\n",
       "host=localhost port=5432 user=pault dbname=test_db schema=my_schema<br/>temporary=False\n",
       "<br/>This storage has no collections."
      ],
      "text/plain": [
       "<estnltk.storage.postgres.storage.PostgresStorage at 0x7f5eb1562518>"
      ]
     },
     "execution_count": 5,
     "metadata": {},
     "output_type": "execute_result"
    }
   ],
   "source": [
    "del storage['my_first_collection']\n",
    "# or\n",
    "storage['my_second_collection'].delete()\n",
    "\n",
    "storage"
   ]
  },
  {
   "cell_type": "markdown",
   "metadata": {},
   "source": [
    "## Collections"
   ]
  },
  {
   "cell_type": "markdown",
   "metadata": {},
   "source": [
    "Collection stores text objects and provides read/write API.\n",
    "\n",
    "Create a new collection:"
   ]
  },
  {
   "cell_type": "code",
   "execution_count": 6,
   "metadata": {},
   "outputs": [
    {
     "name": "stdout",
     "output_type": "stream",
     "text": [
      "INFO:collection.py:103: new empty collection 'my_collection' created\n"
     ]
    }
   ],
   "source": [
    "collection = storage[\"my_collection\"].create('demo collection')"
   ]
  },
  {
   "cell_type": "markdown",
   "metadata": {},
   "source": [
    "Add some data:"
   ]
  },
  {
   "cell_type": "code",
   "execution_count": 7,
   "metadata": {},
   "outputs": [
    {
     "name": "stdout",
     "output_type": "stream",
     "text": [
      "Text(text='ööbik laulab.')\n",
      "Text(text='öökull ei laula.')\n"
     ]
    }
   ],
   "source": [
    "with collection.insert() as collection_insert:\n",
    "    text1 = Text('ööbik laulab.').tag_layer(['morph_analysis'])\n",
    "    collection_insert(text1)\n",
    "    print(text1)\n",
    "\n",
    "    text2 = Text('öökull ei laula.').tag_layer(['morph_analysis'])\n",
    "    key2 = collection_insert(text2, key=7)\n",
    "    print(text2)"
   ]
  },
  {
   "cell_type": "code",
   "execution_count": 8,
   "metadata": {},
   "outputs": [
    {
     "data": {
      "text/html": [
       "<b>PgCollection</b><br/><b>name:</b> my_collection<br/><b>storage:</b> PostgresStorage(host=localhost port=5432 user=pault dbname=test_db schema=my_schema temporary=False)<br/><b>count objects:</b> 2<br/><b>Metadata</b><br/>This collection has no metadata.<br/><b>Layers</b><table border=\"1\" class=\"dataframe\">\n",
       "  <thead>\n",
       "    <tr style=\"text-align: right;\">\n",
       "      <th></th>\n",
       "      <th>detached</th>\n",
       "      <th>attributes</th>\n",
       "      <th>ambiguous</th>\n",
       "      <th>parent</th>\n",
       "      <th>enveloping</th>\n",
       "      <th>_base</th>\n",
       "      <th>meta</th>\n",
       "    </tr>\n",
       "  </thead>\n",
       "  <tbody>\n",
       "    <tr>\n",
       "      <th>compound_tokens</th>\n",
       "      <td>False</td>\n",
       "      <td>(type, normalized)</td>\n",
       "      <td>False</td>\n",
       "      <td>None</td>\n",
       "      <td>tokens</td>\n",
       "      <td>compound_tokens</td>\n",
       "      <td>[]</td>\n",
       "    </tr>\n",
       "    <tr>\n",
       "      <th>morph_analysis</th>\n",
       "      <td>False</td>\n",
       "      <td>(lemma, root, root_tokens, ending, clitic, for...</td>\n",
       "      <td>True</td>\n",
       "      <td>words</td>\n",
       "      <td>None</td>\n",
       "      <td>words</td>\n",
       "      <td>[]</td>\n",
       "    </tr>\n",
       "    <tr>\n",
       "      <th>sentences</th>\n",
       "      <td>False</td>\n",
       "      <td>()</td>\n",
       "      <td>False</td>\n",
       "      <td>None</td>\n",
       "      <td>words</td>\n",
       "      <td>sentences</td>\n",
       "      <td>[]</td>\n",
       "    </tr>\n",
       "    <tr>\n",
       "      <th>tokens</th>\n",
       "      <td>False</td>\n",
       "      <td>()</td>\n",
       "      <td>False</td>\n",
       "      <td>None</td>\n",
       "      <td>None</td>\n",
       "      <td>tokens</td>\n",
       "      <td>[]</td>\n",
       "    </tr>\n",
       "    <tr>\n",
       "      <th>words</th>\n",
       "      <td>False</td>\n",
       "      <td>(normalized_form,)</td>\n",
       "      <td>False</td>\n",
       "      <td>None</td>\n",
       "      <td>None</td>\n",
       "      <td>words</td>\n",
       "      <td>[]</td>\n",
       "    </tr>\n",
       "  </tbody>\n",
       "</table>"
      ],
      "text/plain": [
       "<estnltk.storage.postgres.collection.PgCollection at 0x7f5eb15626d8>"
      ]
     },
     "execution_count": 8,
     "metadata": {},
     "output_type": "execute_result"
    }
   ],
   "source": [
    "collection"
   ]
  },
  {
   "cell_type": "markdown",
   "metadata": {},
   "source": [
    "Iterate over collection:"
   ]
  },
  {
   "cell_type": "code",
   "execution_count": 9,
   "metadata": {},
   "outputs": [
    {
     "name": "stdout",
     "output_type": "stream",
     "text": [
      "1 Text(text='ööbik laulab.')\n",
      "7 Text(text='öökull ei laula.')\n"
     ]
    }
   ],
   "source": [
    "for key, text in collection.select():\n",
    "    print(key, text)"
   ]
  },
  {
   "cell_type": "markdown",
   "metadata": {},
   "source": [
    "Search for a particular entry by key:"
   ]
  },
  {
   "cell_type": "code",
   "execution_count": 10,
   "metadata": {},
   "outputs": [
    {
     "name": "stdout",
     "output_type": "stream",
     "text": [
      "Text(text='öökull ei laula.')\n"
     ]
    }
   ],
   "source": [
    "txt = collection.select_by_key(7)\n",
    "print(txt)"
   ]
  },
  {
   "cell_type": "markdown",
   "metadata": {},
   "source": [
    "Search using layer attributes:"
   ]
  },
  {
   "cell_type": "code",
   "execution_count": 11,
   "metadata": {},
   "outputs": [
    {
     "name": "stdout",
     "output_type": "stream",
     "text": [
      "1 Text(text='ööbik laulab.')\n",
      "7 Text(text='öökull ei laula.')\n"
     ]
    }
   ],
   "source": [
    "q = JsonbTextQuery('morph_analysis', lemma='laulma')\n",
    "for key, txt in collection.select(query=q):\n",
    "    print(key, txt)"
   ]
  },
  {
   "cell_type": "markdown",
   "metadata": {},
   "source": [
    "Search using multiple layer attributes:"
   ]
  },
  {
   "cell_type": "code",
   "execution_count": 12,
   "metadata": {},
   "outputs": [
    {
     "name": "stdout",
     "output_type": "stream",
     "text": [
      "1 Text(text='ööbik laulab.')\n"
     ]
    }
   ],
   "source": [
    "q = JsonbTextQuery('morph_analysis', lemma='laulma', form='b')\n",
    "for key, txt in collection.select(query=q):\n",
    "    print(key, txt)"
   ]
  },
  {
   "cell_type": "markdown",
   "metadata": {},
   "source": [
    "Search using \"OR\" query:"
   ]
  },
  {
   "cell_type": "code",
   "execution_count": 13,
   "metadata": {},
   "outputs": [
    {
     "name": "stdout",
     "output_type": "stream",
     "text": [
      "1 Text(text='ööbik laulab.')\n",
      "7 Text(text='öökull ei laula.')\n"
     ]
    }
   ],
   "source": [
    "q = JsonbTextQuery('morph_analysis', lemma='ööbik') | \\\n",
    "    JsonbTextQuery('morph_analysis', lemma='öökull')\n",
    "for key, txt in collection.select(query=q):\n",
    "    print(key, txt)"
   ]
  },
  {
   "cell_type": "markdown",
   "metadata": {},
   "source": [
    "Search using \"AND\" query:"
   ]
  },
  {
   "cell_type": "code",
   "execution_count": 14,
   "metadata": {},
   "outputs": [],
   "source": [
    "q = JsonbTextQuery('morph_analysis', lemma='ööbik') & \\\n",
    "    JsonbTextQuery('morph_analysis', lemma='öökull')\n",
    "for key, txt in collection.select(query=q):\n",
    "    print(key, txt)"
   ]
  },
  {
   "cell_type": "markdown",
   "metadata": {},
   "source": [
    "Search using a composite query:"
   ]
  },
  {
   "cell_type": "code",
   "execution_count": 15,
   "metadata": {
    "scrolled": true
   },
   "outputs": [
    {
     "name": "stdout",
     "output_type": "stream",
     "text": [
      "1 Text(text='ööbik laulab.')\n",
      "7 Text(text='öökull ei laula.')\n"
     ]
    }
   ],
   "source": [
    "q = (JsonbTextQuery('morph_analysis', lemma='ööbik') | JsonbTextQuery('morph_analysis', lemma='öökull')) & \\\n",
    "    JsonbTextQuery('morph_analysis', lemma='laulma')\n",
    "for key, txt in collection.select(query=q):\n",
    "    print(key, txt)"
   ]
  },
  {
   "cell_type": "markdown",
   "metadata": {},
   "source": [
    "or use a convenience method `find_fingerprint`:"
   ]
  },
  {
   "cell_type": "code",
   "execution_count": 16,
   "metadata": {
    "scrolled": true
   },
   "outputs": [
    {
     "name": "stdout",
     "output_type": "stream",
     "text": [
      "1 Text(text='ööbik laulab.')\n",
      "7 Text(text='öökull ei laula.')\n"
     ]
    }
   ],
   "source": [
    "for key, txt in collection.find_fingerprint(\n",
    "                    query={\n",
    "                        \"layer\": \"morph_analysis\",\n",
    "                        \"ambiguous\": True,\n",
    "                        \"field\": \"lemma\",\n",
    "                        \"query\": [{'ööbik', 'laulma'}, {'öökull', 'laulma'}] # (ööbik AND laulma) OR (öökull AND laulma)\n",
    "                    },\n",
    "                    order_by_key=True):\n",
    "    print(key, txt)"
   ]
  },
  {
   "cell_type": "code",
   "execution_count": 17,
   "metadata": {},
   "outputs": [
    {
     "name": "stdout",
     "output_type": "stream",
     "text": [
      "1 Text(text='ööbik laulab.')\n",
      "7 Text(text='öökull ei laula.')\n"
     ]
    }
   ],
   "source": [
    "for key, txt in collection.find_fingerprint(\n",
    "                    query={\n",
    "                        \"layer\": \"morph_analysis\",\n",
    "                        \"ambiguous\": True,\n",
    "                        \"field\": \"lemma\",\n",
    "                        \"query\": ['öökull', 'laulma'] # öökull OR laulma\n",
    "                    },\n",
    "                    order_by_key=True):\n",
    "    print(key, txt)"
   ]
  },
  {
   "cell_type": "code",
   "execution_count": 18,
   "metadata": {},
   "outputs": [
    {
     "name": "stdout",
     "output_type": "stream",
     "text": [
      "7 Text(text='öökull ei laula.')\n"
     ]
    }
   ],
   "source": [
    "for key, txt in collection.find_fingerprint(\n",
    "                    query={\n",
    "                        \"layer\": \"morph_analysis\",\n",
    "                        \"ambiguous\": True,\n",
    "                        \"field\": \"lemma\",\n",
    "                        \"query\": [{'öökull', 'laulma'}] # öökull AND laulma\n",
    "                    },\n",
    "                    order_by_key=True):\n",
    "    print(key, txt)"
   ]
  },
  {
   "cell_type": "markdown",
   "metadata": {},
   "source": [
    "Delete collection"
   ]
  },
  {
   "cell_type": "code",
   "execution_count": 19,
   "metadata": {},
   "outputs": [],
   "source": [
    "collection.delete()"
   ]
  },
  {
   "cell_type": "markdown",
   "metadata": {},
   "source": [
    "## Working with layers"
   ]
  },
  {
   "cell_type": "markdown",
   "metadata": {},
   "source": [
    "Let's say you want to create a collection which stores only layers up to \"sentences\":"
   ]
  },
  {
   "cell_type": "code",
   "execution_count": 20,
   "metadata": {},
   "outputs": [
    {
     "name": "stdout",
     "output_type": "stream",
     "text": [
      "INFO:collection.py:103: new empty collection 'collection_with_layers' created\n"
     ]
    },
    {
     "data": {
      "text/html": [
       "<b>PgCollection</b><br/><b>name:</b> collection_with_layers<br/><b>storage:</b> PostgresStorage(host=localhost port=5432 user=pault dbname=test_db schema=my_schema temporary=False)<br/><b>count objects:</b> 0<br/><b>Metadata</b><br/>This collection has no metadata.<br/><b>Layers</b><table border=\"1\" class=\"dataframe\">\n",
       "  <thead>\n",
       "    <tr style=\"text-align: right;\">\n",
       "      <th></th>\n",
       "      <th>detached</th>\n",
       "      <th>attributes</th>\n",
       "      <th>ambiguous</th>\n",
       "      <th>parent</th>\n",
       "      <th>enveloping</th>\n",
       "      <th>_base</th>\n",
       "      <th>meta</th>\n",
       "    </tr>\n",
       "  </thead>\n",
       "  <tbody>\n",
       "  </tbody>\n",
       "</table>"
      ],
      "text/plain": [
       "<estnltk.storage.postgres.collection.PgCollection at 0x7f5eb1578b00>"
      ]
     },
     "execution_count": 20,
     "metadata": {},
     "output_type": "execute_result"
    }
   ],
   "source": [
    "collection = storage.get_collection('collection_with_layers')\n",
    "collection.create()"
   ]
  },
  {
   "cell_type": "code",
   "execution_count": 21,
   "metadata": {
    "scrolled": true
   },
   "outputs": [],
   "source": [
    "with collection.insert() as collection_insert:\n",
    "    collection_insert(Text('see on esimene lause').tag_layer([\"sentences\"]))\n",
    "    collection_insert(Text('see on teine lause').tag_layer([\"sentences\"]));"
   ]
  },
  {
   "cell_type": "markdown",
   "metadata": {},
   "source": [
    "Check what layers are present:"
   ]
  },
  {
   "cell_type": "code",
   "execution_count": 22,
   "metadata": {},
   "outputs": [
    {
     "name": "stdout",
     "output_type": "stream",
     "text": [
      "1 Text(text='see on esimene lause') dict_keys(['sentences', 'words', 'compound_tokens', 'tokens'])\n",
      "2 Text(text='see on teine lause') dict_keys(['sentences', 'words', 'compound_tokens', 'tokens'])\n"
     ]
    }
   ],
   "source": [
    "for key, text in collection.select():\n",
    "    print(key, text, text.layers.keys())"
   ]
  },
  {
   "cell_type": "markdown",
   "metadata": {},
   "source": [
    "Now, you want to add new layers \"my_first_layer\" and \"my_second_layer\" to store other information. However, you want to store them in a separate table. For this purpose collection object has a `create_layer` method:"
   ]
  },
  {
   "cell_type": "code",
   "execution_count": 23,
   "metadata": {
    "scrolled": false
   },
   "outputs": [
    {
     "name": "stdout",
     "output_type": "stream",
     "text": [
      "INFO:collection.py:830: collection: 'collection_with_layers'\n",
      "INFO:collection.py:849: preparing to create a new layer: 'my_first_layer'\n",
      "INFO:collection.py:915: layer created: 'my_first_layer'\n",
      "INFO:collection.py:830: collection: 'collection_with_layers'\n",
      "INFO:collection.py:849: preparing to create a new layer: 'my_second_layer'\n",
      "INFO:collection.py:915: layer created: 'my_second_layer'\n"
     ]
    }
   ],
   "source": [
    "from estnltk.storage.postgres import RowMapperRecord\n",
    "\n",
    "\n",
    "layer1 = \"my_first_layer\"\n",
    "tagger1 = VabamorfTagger(disambiguate=False, layer_name=layer1)\n",
    "\n",
    "def row_mapper_1(row):\n",
    "    text_id, text = row[0], row[1]\n",
    "    layer = tagger1.tag(text, return_layer=True)\n",
    "    return [RowMapperRecord(layer=layer, meta=None)]\n",
    "\n",
    "collection.create_layer(layer1, data_iterator=collection.select(), row_mapper=row_mapper_1)\n",
    "\n",
    "\n",
    "layer2 = \"my_second_layer\"\n",
    "tagger2 = VabamorfTagger(disambiguate=False, layer_name=layer2)\n",
    "\n",
    "def row_mapper_2(row):\n",
    "    text_id, text = row[0], row[1]\n",
    "    layer = tagger2.tag(text, return_layer=True)\n",
    "    return [RowMapperRecord(layer=layer, meta=None)]\n",
    "\n",
    "collection.create_layer(layer2, data_iterator=collection.select(), row_mapper=row_mapper_2)"
   ]
  },
  {
   "cell_type": "markdown",
   "metadata": {},
   "source": [
    "Specified `callable` function is applied to each `text` entry in a collection and is expected to return a `Layer` instance.\n",
    "\n",
    "If your `tagger` uses layers that are stored in separate tables, use `layers` argument to specify the layers to fetch. These layers will be merged with the text object before passing it to `callable`:\n",
    "\n",
    "```\n",
    "collection.create_layer(layer,\n",
    "                        layers=['layer1', 'layer2', ...],\n",
    "                        callable=lambda t: tagger.tag(t, return_layer=True))\n",
    "```"
   ]
  },
  {
   "cell_type": "markdown",
   "metadata": {},
   "source": [
    "Make sure the new layer has been created:"
   ]
  },
  {
   "cell_type": "code",
   "execution_count": 24,
   "metadata": {},
   "outputs": [
    {
     "data": {
      "text/plain": [
       "['my_first_layer',\n",
       " 'compound_tokens',\n",
       " 'tokens',\n",
       " 'sentences',\n",
       " 'words',\n",
       " 'my_second_layer']"
      ]
     },
     "execution_count": 24,
     "metadata": {},
     "output_type": "execute_result"
    }
   ],
   "source": [
    "collection.get_layer_names()"
   ]
  },
  {
   "cell_type": "markdown",
   "metadata": {},
   "source": [
    "### Searching layers"
   ]
  },
  {
   "cell_type": "markdown",
   "metadata": {},
   "source": [
    "Iterate over collection and new layers using `select` method:"
   ]
  },
  {
   "cell_type": "code",
   "execution_count": 25,
   "metadata": {
    "scrolled": false
   },
   "outputs": [
    {
     "name": "stdout",
     "output_type": "stream",
     "text": [
      "1 Text(text='see on esimene lause') dict_keys(['my_first_layer', 'compound_tokens', 'tokens', 'sentences', 'words', 'my_second_layer'])\n",
      "2 Text(text='see on teine lause') dict_keys(['my_first_layer', 'compound_tokens', 'tokens', 'sentences', 'words', 'my_second_layer'])\n"
     ]
    }
   ],
   "source": [
    "for key, text in collection.select(layers=['my_first_layer', 'my_second_layer']):\n",
    "    print(key, text, text.layers.keys())"
   ]
  },
  {
   "cell_type": "markdown",
   "metadata": {},
   "source": [
    "Notice that the detached layers 'my_first_layer' and 'my_first_layer' are available within the returned `Text` object."
   ]
  },
  {
   "cell_type": "markdown",
   "metadata": {},
   "source": [
    "Search layer using `JsonbLayerQuery`:"
   ]
  },
  {
   "cell_type": "code",
   "execution_count": 26,
   "metadata": {
    "scrolled": true
   },
   "outputs": [
    {
     "name": "stdout",
     "output_type": "stream",
     "text": [
      "1 Text(text='see on esimene lause')\n",
      "2 Text(text='see on teine lause')\n"
     ]
    }
   ],
   "source": [
    "for key, text in collection.select(layer_query={\n",
    "        layer1: JsonbLayerQuery(layer_name=layer1, lemma='esimene') | \\\n",
    "                JsonbLayerQuery(layer_name=layer1, lemma='teine')\n",
    "        }):\n",
    "    print(key, text)"
   ]
  },
  {
   "cell_type": "markdown",
   "metadata": {},
   "source": [
    "Search over multiple layers using `JsonbLayerQuery`:"
   ]
  },
  {
   "cell_type": "code",
   "execution_count": 27,
   "metadata": {
    "scrolled": false
   },
   "outputs": [
    {
     "name": "stdout",
     "output_type": "stream",
     "text": [
      "1 Text(text='see on esimene lause')\n"
     ]
    }
   ],
   "source": [
    "for key, text in collection.select(layer_query={\n",
    "        layer1: JsonbLayerQuery(layer_name=layer1, lemma='esimene') | \\\n",
    "                JsonbLayerQuery(layer_name=layer1, lemma='teine'),\n",
    "        layer2: JsonbLayerQuery(layer_name=layer2, lemma='esimene')\n",
    "        }):\n",
    "    print(key, text)"
   ]
  },
  {
   "cell_type": "markdown",
   "metadata": {},
   "source": [
    "The same layer query can be specified using convenience method `find_fingerprint`:"
   ]
  },
  {
   "cell_type": "code",
   "execution_count": 28,
   "metadata": {},
   "outputs": [
    {
     "name": "stdout",
     "output_type": "stream",
     "text": [
      "1 Text(text='see on esimene lause')\n"
     ]
    }
   ],
   "source": [
    "for key, text in collection.find_fingerprint(layer_query={\n",
    "            layer1: {\n",
    "                \"field\": \"lemma\",\n",
    "                \"query\": [\"esimene\", \"teine\"],\n",
    "                \"ambiguous\": True\n",
    "            },\n",
    "            layer2: {\n",
    "                \"field\": \"lemma\",\n",
    "                \"query\": [\"esimene\"],\n",
    "                \"ambiguous\": True\n",
    "            }}):\n",
    "    print(key, text)"
   ]
  },
  {
   "cell_type": "markdown",
   "metadata": {},
   "source": [
    "Delete layer"
   ]
  },
  {
   "cell_type": "code",
   "execution_count": 29,
   "metadata": {},
   "outputs": [
    {
     "name": "stdout",
     "output_type": "stream",
     "text": [
      "INFO:collection.py:1024: layer deleted: 'my_first_layer'\n"
     ]
    }
   ],
   "source": [
    "collection.delete_layer(layer1)"
   ]
  },
  {
   "cell_type": "markdown",
   "metadata": {},
   "source": [
    "### Indexing layers"
   ]
  },
  {
   "cell_type": "markdown",
   "metadata": {},
   "source": [
    "Ngram index enables to index ngrams in layer attributes.\n",
    "For example, a bigram index on an attribute with values `['see', 'on', 'esimene', 'lause']` will contain pairs *'see-on'*, *'on-esimene'*, *'esimene-lause'*.\n",
    "Indices of a higher order are also supported.\n",
    "\n",
    "To build an ngram index, provide an argument *ngram_index* when creating a new layer.\n",
    "The following code creates a bi-gram index on an attribute *lemma* for a newly created layer *indexed_layer*:"
   ]
  },
  {
   "cell_type": "code",
   "execution_count": 30,
   "metadata": {},
   "outputs": [
    {
     "name": "stdout",
     "output_type": "stream",
     "text": [
      "INFO:collection.py:830: collection: 'collection_with_layers'\n",
      "INFO:collection.py:849: preparing to create a new layer: 'indexed_layer'\n",
      "INFO:collection.py:915: layer created: 'indexed_layer'\n"
     ]
    }
   ],
   "source": [
    "indexed_layer = 'indexed_layer'\n",
    "tagger1 = VabamorfTagger(disambiguate=False, layer_name=indexed_layer)\n",
    "\n",
    "def row_mapper(row):\n",
    "    text_id, text = row[0], row[1]\n",
    "    layer = tagger1.tag(text, return_layer=True)\n",
    "    return [RowMapperRecord(layer=layer, meta=None)]\n",
    "\n",
    "collection.create_layer(indexed_layer,\n",
    "                        data_iterator=collection.select(),\n",
    "                        row_mapper=row_mapper_1,\n",
    "                        ngram_index={\"lemma\": 2})"
   ]
  },
  {
   "cell_type": "markdown",
   "metadata": {},
   "source": [
    "To search an ngram index, use method `find_fingerprint` along with `layer_ngram_query` argument."
   ]
  },
  {
   "cell_type": "markdown",
   "metadata": {},
   "source": [
    "Search entries containing lemma bigram 'see-olema':"
   ]
  },
  {
   "cell_type": "code",
   "execution_count": 31,
   "metadata": {},
   "outputs": [
    {
     "name": "stdout",
     "output_type": "stream",
     "text": [
      "1 Text(text='see on esimene lause')\n",
      "2 Text(text='see on teine lause')\n"
     ]
    }
   ],
   "source": [
    "q = {indexed_layer: {\n",
    "        \"lemma\": [(\"see\", \"olema\")]\n",
    "    }}\n",
    "for key, text in collection.find_fingerprint(layer_ngram_query=q):\n",
    "    print(key, text)"
   ]
  },
  {
   "cell_type": "markdown",
   "metadata": {},
   "source": [
    "Search 'teine-lause' OR 'olema-esimene':"
   ]
  },
  {
   "cell_type": "code",
   "execution_count": 32,
   "metadata": {},
   "outputs": [
    {
     "name": "stdout",
     "output_type": "stream",
     "text": [
      "1 Text(text='see on esimene lause')\n",
      "2 Text(text='see on teine lause')\n"
     ]
    }
   ],
   "source": [
    "q = {indexed_layer: {\n",
    "        \"lemma\": [(\"teine\", \"lause\"), (\"olema\", \"esimene\")]\n",
    "    }}\n",
    "for key, text in collection.find_fingerprint(layer_ngram_query=q):\n",
    "    print(key, text)"
   ]
  },
  {
   "cell_type": "markdown",
   "metadata": {},
   "source": [
    "Search 'see-olema' AND 'olema-esimene':"
   ]
  },
  {
   "cell_type": "code",
   "execution_count": 33,
   "metadata": {},
   "outputs": [
    {
     "name": "stdout",
     "output_type": "stream",
     "text": [
      "1 Text(text='see on esimene lause')\n"
     ]
    }
   ],
   "source": [
    "q = {indexed_layer: {\n",
    "        \"lemma\": [[(\"see\", \"olema\"), (\"olema\", \"esimene\")]]\n",
    "    }}\n",
    "for key, text in collection.find_fingerprint(layer_ngram_query=q):\n",
    "    print(key, text)"
   ]
  },
  {
   "cell_type": "markdown",
   "metadata": {},
   "source": [
    "Delete schema and all collections"
   ]
  },
  {
   "cell_type": "code",
   "execution_count": 34,
   "metadata": {},
   "outputs": [],
   "source": [
    "delete_schema(storage)"
   ]
  },
  {
   "cell_type": "markdown",
   "metadata": {},
   "source": [
    "Close database connection"
   ]
  },
  {
   "cell_type": "code",
   "execution_count": 35,
   "metadata": {},
   "outputs": [],
   "source": [
    "storage.close()"
   ]
  },
  {
   "cell_type": "markdown",
   "metadata": {},
   "source": [
    "## Working with fragments"
   ]
  },
  {
   "cell_type": "code",
   "execution_count": 36,
   "metadata": {},
   "outputs": [
    {
     "name": "stdout",
     "output_type": "stream",
     "text": [
      "INFO:storage.py:40: connecting to host: 'localhost', port: '5432', dbname: 'test_db', user: 'pault'\n",
      "INFO:storage.py:56: schema: 'test_fragment', temporary: False, role: 'pault'\n"
     ]
    }
   ],
   "source": [
    "schema = \"test_fragment\"\n",
    "storage = PostgresStorage(pgpass_file='~/.pgpass',\n",
    "                          schema=schema, dbname='test_db')\n",
    "create_schema(storage)"
   ]
  },
  {
   "cell_type": "code",
   "execution_count": 37,
   "metadata": {},
   "outputs": [
    {
     "name": "stdout",
     "output_type": "stream",
     "text": [
      "INFO:collection.py:103: new empty collection 'fragment_test' created\n",
      "INFO:collection.py:689: collection: 'fragment_test'\n",
      "INFO:collection.py:700: preparing to create a new layer: 'layer_fragment_1'\n",
      "INFO:collection.py:762: layer created: 'layer_fragment_1'\n"
     ]
    }
   ],
   "source": [
    "from estnltk.storage.postgres import select_raw\n",
    "\n",
    "table_name = 'fragment_test'\n",
    "collection = storage.get_collection(table_name)\n",
    "collection.create()\n",
    "\n",
    "with collection.insert() as collection_insert:\n",
    "    text1 = Text('see on esimene lause').tag_layer([\"sentences\"])\n",
    "    collection_insert(text1)\n",
    "    text2 = Text('see on teine lause').tag_layer([\"sentences\"])\n",
    "    collection_insert(text2)\n",
    "\n",
    "layer_fragment_name = \"layer_fragment_1\"\n",
    "tagger = VabamorfTagger(disambiguate=False, layer_name=layer_fragment_name)\n",
    "collection.old_slow_create_layer(layer_fragment_name,\n",
    "                                 data_iterator=collection.select(),\n",
    "                                 row_mapper=lambda row: [\n",
    "                                     RowMapperRecord(layer=tagger.tag(row[1], return_layer=True), meta=None)])\n",
    "\n",
    "fragment_name = \"fragment_1\"\n",
    "\n",
    "def row_mapper(row):\n",
    "    text_id, text, meta, detached_layers = row\n",
    "    parent_layer = detached_layers[layer_fragment_name]['layer']\n",
    "    parent_id = detached_layers[layer_fragment_name]['layer_id']\n",
    "    return [{'fragment': parent_layer, 'parent_id': parent_id},\n",
    "            {'fragment': parent_layer, 'parent_id': parent_id}]\n",
    "\n",
    "collection.create_fragment(fragment_name,\n",
    "                    data_iterator=select_raw(storage=storage,\n",
    "                                             collection_name=table_name,\n",
    "                                             layers=[layer_fragment_name]),\n",
    "                    row_mapper=row_mapper,\n",
    "                    create_index=False,\n",
    "                    ngram_index=None)"
   ]
  },
  {
   "cell_type": "code",
   "execution_count": 38,
   "metadata": {},
   "outputs": [],
   "source": [
    "delete_schema(storage)\n",
    "storage.close()"
   ]
  }
 ],
 "metadata": {
  "kernelspec": {
   "display_name": "Python 3",
   "language": "python",
   "name": "python3"
  },
  "language_info": {
   "codemirror_mode": {
    "name": "ipython",
    "version": 3
   },
   "file_extension": ".py",
   "mimetype": "text/x-python",
   "name": "python",
   "nbconvert_exporter": "python",
   "pygments_lexer": "ipython3",
   "version": "3.5.6"
  }
 },
 "nbformat": 4,
 "nbformat_minor": 1
}
