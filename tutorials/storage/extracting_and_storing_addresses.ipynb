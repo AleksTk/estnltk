{
 "cells": [
  {
   "cell_type": "markdown",
   "metadata": {},
   "source": [
    "# Extracting and Storing Addresses"
   ]
  },
  {
   "cell_type": "markdown",
   "metadata": {},
   "source": [
    "This tutorial demonstrates how to extract addresses from text and store results in Postgres using `PostgresStorage` module."
   ]
  },
  {
   "cell_type": "code",
   "execution_count": 1,
   "metadata": {},
   "outputs": [],
   "source": [
    "from estnltk import Text\n",
    "from estnltk.taggers import AddressPartTagger, AddressGrammarTagger\n",
    "from estnltk.core import rel_path\n",
    "from estnltk.storage.postgres import PostgresStorage, JsonbTextQuery, JsonbLayerQuery, RowMapperRecord\n",
    "from estnltk.storage.postgres import create_schema, delete_schema"
   ]
  },
  {
   "cell_type": "markdown",
   "metadata": {},
   "source": [
    "In this tutorial we are going to use the following small toy dataset:"
   ]
  },
  {
   "cell_type": "code",
   "execution_count": 2,
   "metadata": {},
   "outputs": [],
   "source": [
    "text_corpus = [\n",
    "    'Kontor asub aadressil Rävala 5, Tallinn.',\n",
    "    'Salong asub uuel aadressil, üle tee asuvas Rävala pst 7 hoones',\n",
    "    'Korterite müük: Gonsiori tn 36, Tallinn'\n",
    "]"
   ]
  },
  {
   "cell_type": "markdown",
   "metadata": {},
   "source": [
    "First, let's save our dataset to the database:"
   ]
  },
  {
   "cell_type": "code",
   "execution_count": 3,
   "metadata": {},
   "outputs": [
    {
     "name": "stdout",
     "output_type": "stream",
     "text": [
      "INFO:postgres_storage.py:97: connecting to host: 'localhost', port: '5432', dbname: 'test_db', user: 'pault'\n",
      "INFO:postgres_storage.py:109: role: 'pault'\n",
      "INFO:db.py:84: new empty collection 'texts_with_addresses' created\n"
     ]
    }
   ],
   "source": [
    "storage = PostgresStorage(pgpass_file='~/.pgpass',\n",
    "                          schema=\"grammarextractor\")\n",
    "create_schema(storage)\n",
    "\n",
    "collection = storage.get_collection(\"texts_with_addresses\")\n",
    "collection.create()\n",
    "\n",
    "with collection.insert() as collection_insert:\n",
    "    for key, text in enumerate(text_corpus):\n",
    "        collection_insert(Text(text).tag_layer(['words']), key=key)"
   ]
  },
  {
   "cell_type": "markdown",
   "metadata": {},
   "source": [
    "Next, we extract addresses and save them in a separate layer:"
   ]
  },
  {
   "cell_type": "code",
   "execution_count": 4,
   "metadata": {},
   "outputs": [
    {
     "name": "stdout",
     "output_type": "stream",
     "text": [
      "INFO:db.py:823: collection: 'texts_with_addresses'\n",
      "INFO:db.py:842: preparing to create a new layer: 'address_tokens'\n",
      "INFO:db.py:908: layer created: 'address_tokens'\n",
      "INFO:db.py:823: collection: 'texts_with_addresses'\n",
      "INFO:db.py:842: preparing to create a new layer: 'addresses'\n",
      "INFO:db.py:908: layer created: 'addresses'\n"
     ]
    }
   ],
   "source": [
    "address_token_tagger = AddressPartTagger(output_layer='address_tokens')\n",
    "\n",
    "def row_mapper_1(row):\n",
    "    text_id, text = row[0], row[1]\n",
    "    layer = address_token_tagger.tag(text)[\"address_tokens\"]\n",
    "    return [RowMapperRecord(layer=layer, meta=None)]\n",
    "\n",
    "collection.create_layer('address_tokens',\n",
    "                        data_iterator=collection.select(),\n",
    "                        row_mapper=row_mapper_1)\n",
    "\n",
    "\n",
    "address_tagger = AddressGrammarTagger(output_layer='addresses', input_layer='address_tokens')\n",
    "\n",
    "def row_mapper_2(row):\n",
    "    text_id, text = row[0], row[1]\n",
    "    layer = address_tagger.tag(text)['addresses']\n",
    "    return [RowMapperRecord(layer=layer, meta=None)]\n",
    "\n",
    "\n",
    "collection.create_layer('addresses',\n",
    "                        data_iterator=collection.select(layers=[\"address_tokens\"]),\n",
    "                        row_mapper=row_mapper_2)"
   ]
  },
  {
   "cell_type": "markdown",
   "metadata": {},
   "source": [
    "Let's now load one text object and see what's inside:"
   ]
  },
  {
   "cell_type": "code",
   "execution_count": 5,
   "metadata": {},
   "outputs": [
    {
     "data": {
      "text/html": [
       "<table border=\"1\" class=\"dataframe\">\n",
       "  <thead>\n",
       "    <tr style=\"text-align: right;\">\n",
       "      <th>text</th>\n",
       "    </tr>\n",
       "  </thead>\n",
       "  <tbody>\n",
       "    <tr>\n",
       "      <td><div align = \"left\">Kontor asub aadressil Rävala 5, Tallinn.</div></td>\n",
       "    </tr>\n",
       "  </tbody>\n",
       "</table>\n",
       "<table border=\"1\" class=\"dataframe\">\n",
       "  <thead>\n",
       "    <tr style=\"text-align: right;\">\n",
       "      <th>layer name</th>\n",
       "      <th>attributes</th>\n",
       "      <th>parent</th>\n",
       "      <th>enveloping</th>\n",
       "      <th>ambiguous</th>\n",
       "      <th>span count</th>\n",
       "    </tr>\n",
       "  </thead>\n",
       "  <tbody>\n",
       "    <tr>\n",
       "      <td>tokens</td>\n",
       "      <td></td>\n",
       "      <td>None</td>\n",
       "      <td>None</td>\n",
       "      <td>False</td>\n",
       "      <td>8</td>\n",
       "    </tr>\n",
       "    <tr>\n",
       "      <td>compound_tokens</td>\n",
       "      <td>type, normalized</td>\n",
       "      <td>None</td>\n",
       "      <td>tokens</td>\n",
       "      <td>False</td>\n",
       "      <td>0</td>\n",
       "    </tr>\n",
       "    <tr>\n",
       "      <td>words</td>\n",
       "      <td>normalized_form</td>\n",
       "      <td>None</td>\n",
       "      <td>None</td>\n",
       "      <td>False</td>\n",
       "      <td>8</td>\n",
       "    </tr>\n",
       "    <tr>\n",
       "      <td>address_tokens</td>\n",
       "      <td>grammar_symbol, type</td>\n",
       "      <td>None</td>\n",
       "      <td>None</td>\n",
       "      <td>True</td>\n",
       "      <td>4</td>\n",
       "    </tr>\n",
       "    <tr>\n",
       "      <td>addresses</td>\n",
       "      <td>grammar_symbol, TÄNAV, MAJA, ASULA, MAAKOND, INDEKS</td>\n",
       "      <td>None</td>\n",
       "      <td>address_tokens</td>\n",
       "      <td>True</td>\n",
       "      <td>1</td>\n",
       "    </tr>\n",
       "  </tbody>\n",
       "</table>"
      ],
      "text/plain": [
       "Text(text='Kontor asub aadressil Rävala 5, Tallinn.')"
      ]
     },
     "execution_count": 5,
     "metadata": {},
     "output_type": "execute_result"
    }
   ],
   "source": [
    "key, text = next(collection.select(layers=['addresses']))\n",
    "text"
   ]
  },
  {
   "cell_type": "markdown",
   "metadata": {},
   "source": [
    "As we can see, the `addresses` layer has attributes TÄNAV, MAJA, ASULA, MAAKOND, INDEKS which  can be used in search. For example, we can search for records containing a street name 'Rävala' and a house number '5':"
   ]
  },
  {
   "cell_type": "code",
   "execution_count": 6,
   "metadata": {},
   "outputs": [
    {
     "name": "stdout",
     "output_type": "stream",
     "text": [
      "Text(text='Kontor asub aadressil Rävala 5, Tallinn.')\n"
     ]
    }
   ],
   "source": [
    "q = JsonbLayerQuery(layer_table=collection.layer_name_to_table_name(\"addresses\"),\n",
    "                    TÄNAV='Rävala', MAJA='5', ambiguous=True)\n",
    "for key, text in collection.select(layer_query={'addresses': q}):\n",
    "    print(text)"
   ]
  },
  {
   "cell_type": "markdown",
   "metadata": {},
   "source": [
    "Equivalently, we can use a method `find_fingerprint`:"
   ]
  },
  {
   "cell_type": "code",
   "execution_count": 7,
   "metadata": {},
   "outputs": [
    {
     "name": "stdout",
     "output_type": "stream",
     "text": [
      "Text(text='Korterite müük: Gonsiori tn 36, Tallinn')\n"
     ]
    }
   ],
   "source": [
    "q = {\"field\": \"TÄNAV\", \"query\": [\"Gonsiori tn\"], \"ambiguous\": True}\n",
    "for key, text in collection.find_fingerprint(layer_query={'addresses': q}):\n",
    "    print(text)"
   ]
  },
  {
   "cell_type": "code",
   "execution_count": 8,
   "metadata": {},
   "outputs": [],
   "source": [
    "delete_schema(storage)"
   ]
  }
 ],
 "metadata": {
  "kernelspec": {
   "display_name": "Python 3",
   "language": "python",
   "name": "python3"
  },
  "language_info": {
   "codemirror_mode": {
    "name": "ipython",
    "version": 3
   },
   "file_extension": ".py",
   "mimetype": "text/x-python",
   "name": "python",
   "nbconvert_exporter": "python",
   "pygments_lexer": "ipython3",
   "version": "3.5.6"
  }
 },
 "nbformat": 4,
 "nbformat_minor": 2
}
