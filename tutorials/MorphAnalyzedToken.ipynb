{
 "cells": [
  {
   "cell_type": "code",
   "execution_count": 1,
   "metadata": {
    "collapsed": false
   },
   "outputs": [],
   "source": [
    "from estnltk.rewriting import MorphAnalyzedToken"
   ]
  },
  {
   "cell_type": "markdown",
   "metadata": {},
   "source": [
    "# MorphAnalyzedToken\n",
    "MorphAnalyzedToken class contains validating and normalizing methods for tokens.\n",
    "\n",
    "For morphological analysis `Vabamorf` is used with the configuration\n",
    "```python\n",
    "guess=False\n",
    "propername=False\n",
    "disambiguate=False\n",
    "```\n",
    "\n",
    "## is_word\n",
    "Return `True` if the token is an Estonian word, `False` otherwise."
   ]
  },
  {
   "cell_type": "code",
   "execution_count": 2,
   "metadata": {
    "collapsed": false
   },
   "outputs": [
    {
     "data": {
      "text/plain": [
       "True"
      ]
     },
     "execution_count": 2,
     "metadata": {},
     "output_type": "execute_result"
    }
   ],
   "source": [
    "MorphAnalyzedToken('saabas').is_word"
   ]
  },
  {
   "cell_type": "markdown",
   "metadata": {},
   "source": [
    "## is_pronoun\n",
    "\n",
    "Return `True` if the token is a pronoun, `False` otherwise."
   ]
  },
  {
   "cell_type": "code",
   "execution_count": 3,
   "metadata": {
    "collapsed": false
   },
   "outputs": [
    {
     "data": {
      "text/plain": [
       "True"
      ]
     },
     "execution_count": 3,
     "metadata": {},
     "output_type": "execute_result"
    }
   ],
   "source": [
    "MorphAnalyzedToken('mina').is_pronoun"
   ]
  },
  {
   "cell_type": "markdown",
   "metadata": {},
   "source": [
    "## pronoun_type\n",
    "\n",
    "Return list of pronoun types. <br/>\n",
    "If the pronoun type is unknown, return `['invalid']`. <br/>\n",
    "If the token is not a pronoun, return `None`."
   ]
  },
  {
   "cell_type": "code",
   "execution_count": 4,
   "metadata": {
    "collapsed": false
   },
   "outputs": [
    {
     "data": {
      "text/plain": [
       "['ps1']"
      ]
     },
     "execution_count": 4,
     "metadata": {},
     "output_type": "execute_result"
    }
   ],
   "source": [
    "MorphAnalyzedToken('mina').pronoun_type"
   ]
  },
  {
   "cell_type": "markdown",
   "metadata": {},
   "source": [
    "## is_conjunction\n",
    "Return `True` if the token is a conjunction, `False` otherwise."
   ]
  },
  {
   "cell_type": "code",
   "execution_count": 5,
   "metadata": {
    "collapsed": false
   },
   "outputs": [
    {
     "data": {
      "text/plain": [
       "True"
      ]
     },
     "execution_count": 5,
     "metadata": {},
     "output_type": "execute_result"
    }
   ],
   "source": [
    "MorphAnalyzedToken('ega').is_conjunction"
   ]
  },
  {
   "cell_type": "markdown",
   "metadata": {},
   "source": [
    "## normal\n",
    "Return `MorphAnalyzedToken` without hyphenation and stammer. "
   ]
  },
  {
   "cell_type": "code",
   "execution_count": 6,
   "metadata": {
    "collapsed": false
   },
   "outputs": [
    {
     "data": {
      "text/plain": [
       "MorphAnalyzedToken('saabas')"
      ]
     },
     "execution_count": 6,
     "metadata": {},
     "output_type": "execute_result"
    }
   ],
   "source": [
    "MorphAnalyzedToken('s-s-saa-bas').normal"
   ]
  },
  {
   "cell_type": "markdown",
   "metadata": {},
   "source": [
    "## Example"
   ]
  },
  {
   "cell_type": "code",
   "execution_count": 7,
   "metadata": {
    "collapsed": false
   },
   "outputs": [
    {
     "data": {
      "text/html": [
       "<div>\n",
       "<table border=\"1\" class=\"dataframe\">\n",
       "  <thead>\n",
       "    <tr style=\"text-align: right;\">\n",
       "      <th></th>\n",
       "      <th>token</th>\n",
       "      <th>normal</th>\n",
       "      <th>is_word</th>\n",
       "      <th>is_pronoun</th>\n",
       "      <th>pronoun_type</th>\n",
       "      <th>is_conjunction</th>\n",
       "    </tr>\n",
       "  </thead>\n",
       "  <tbody>\n",
       "    <tr>\n",
       "      <th>0</th>\n",
       "      <td>-q-q-qqwer-ty-</td>\n",
       "      <td>-q-q-qqwer-ty-</td>\n",
       "      <td></td>\n",
       "      <td></td>\n",
       "      <td>None</td>\n",
       "      <td></td>\n",
       "    </tr>\n",
       "    <tr>\n",
       "      <th>1</th>\n",
       "      <td>ja</td>\n",
       "      <td>ja</td>\n",
       "      <td>True</td>\n",
       "      <td></td>\n",
       "      <td>None</td>\n",
       "      <td>True</td>\n",
       "    </tr>\n",
       "    <tr>\n",
       "      <th>2</th>\n",
       "      <td>-v-v-v-ve-ve-vere-taoline-</td>\n",
       "      <td>vere-taoline</td>\n",
       "      <td></td>\n",
       "      <td></td>\n",
       "      <td>None</td>\n",
       "      <td></td>\n",
       "    </tr>\n",
       "    <tr>\n",
       "      <th>3</th>\n",
       "      <td>vere-taoline</td>\n",
       "      <td>vere-taoline</td>\n",
       "      <td>True</td>\n",
       "      <td></td>\n",
       "      <td>None</td>\n",
       "      <td></td>\n",
       "    </tr>\n",
       "    <tr>\n",
       "      <th>4</th>\n",
       "      <td>maa-alune</td>\n",
       "      <td>maa-alune</td>\n",
       "      <td>True</td>\n",
       "      <td></td>\n",
       "      <td>None</td>\n",
       "      <td></td>\n",
       "    </tr>\n",
       "    <tr>\n",
       "      <th>5</th>\n",
       "      <td>-maa-a-lu--ne-</td>\n",
       "      <td>maa-alune</td>\n",
       "      <td></td>\n",
       "      <td></td>\n",
       "      <td>None</td>\n",
       "      <td></td>\n",
       "    </tr>\n",
       "    <tr>\n",
       "      <th>6</th>\n",
       "      <td>-m-a-a-a-l-u-n-e-</td>\n",
       "      <td>maaalune</td>\n",
       "      <td></td>\n",
       "      <td></td>\n",
       "      <td>None</td>\n",
       "      <td></td>\n",
       "    </tr>\n",
       "    <tr>\n",
       "      <th>7</th>\n",
       "      <td>maaalune</td>\n",
       "      <td>maaalune</td>\n",
       "      <td>True</td>\n",
       "      <td></td>\n",
       "      <td>None</td>\n",
       "      <td></td>\n",
       "    </tr>\n",
       "    <tr>\n",
       "      <th>8</th>\n",
       "      <td>-lil-le-pott-</td>\n",
       "      <td>lillepott</td>\n",
       "      <td></td>\n",
       "      <td></td>\n",
       "      <td>None</td>\n",
       "      <td></td>\n",
       "    </tr>\n",
       "    <tr>\n",
       "      <th>9</th>\n",
       "      <td>lillepott</td>\n",
       "      <td>lillepott</td>\n",
       "      <td>True</td>\n",
       "      <td></td>\n",
       "      <td>None</td>\n",
       "      <td></td>\n",
       "    </tr>\n",
       "    <tr>\n",
       "      <th>10</th>\n",
       "      <td>lille-pott</td>\n",
       "      <td>lille-pott</td>\n",
       "      <td>True</td>\n",
       "      <td></td>\n",
       "      <td>None</td>\n",
       "      <td></td>\n",
       "    </tr>\n",
       "    <tr>\n",
       "      <th>11</th>\n",
       "      <td>ma-tegevusnimi</td>\n",
       "      <td>ma-tegevusnimi</td>\n",
       "      <td>True</td>\n",
       "      <td></td>\n",
       "      <td>None</td>\n",
       "      <td></td>\n",
       "    </tr>\n",
       "    <tr>\n",
       "      <th>12</th>\n",
       "      <td>ma-sina</td>\n",
       "      <td>masina</td>\n",
       "      <td>True</td>\n",
       "      <td>True</td>\n",
       "      <td>[ps2]</td>\n",
       "      <td></td>\n",
       "    </tr>\n",
       "    <tr>\n",
       "      <th>13</th>\n",
       "      <td>masina</td>\n",
       "      <td>masina</td>\n",
       "      <td>True</td>\n",
       "      <td></td>\n",
       "      <td>None</td>\n",
       "      <td></td>\n",
       "    </tr>\n",
       "    <tr>\n",
       "      <th>14</th>\n",
       "      <td>-ise-enda-</td>\n",
       "      <td>ise-enda</td>\n",
       "      <td></td>\n",
       "      <td></td>\n",
       "      <td>None</td>\n",
       "      <td></td>\n",
       "    </tr>\n",
       "    <tr>\n",
       "      <th>15</th>\n",
       "      <td>iseenda</td>\n",
       "      <td>iseenda</td>\n",
       "      <td>True</td>\n",
       "      <td>True</td>\n",
       "      <td>[refl]</td>\n",
       "      <td></td>\n",
       "    </tr>\n",
       "    <tr>\n",
       "      <th>16</th>\n",
       "      <td>kes-keda</td>\n",
       "      <td>kes-keda</td>\n",
       "      <td>True</td>\n",
       "      <td></td>\n",
       "      <td>None</td>\n",
       "      <td></td>\n",
       "    </tr>\n",
       "    <tr>\n",
       "      <th>17</th>\n",
       "      <td>sulle-mulle</td>\n",
       "      <td>sulle-mulle</td>\n",
       "      <td>True</td>\n",
       "      <td>True</td>\n",
       "      <td>[ps1]</td>\n",
       "      <td></td>\n",
       "    </tr>\n",
       "    <tr>\n",
       "      <th>18</th>\n",
       "      <td>sulle-mina</td>\n",
       "      <td>sulle-mina</td>\n",
       "      <td>True</td>\n",
       "      <td></td>\n",
       "      <td>None</td>\n",
       "      <td></td>\n",
       "    </tr>\n",
       "    <tr>\n",
       "      <th>19</th>\n",
       "      <td>sulle-tead-mina</td>\n",
       "      <td>sulle-tead-mina</td>\n",
       "      <td>True</td>\n",
       "      <td>True</td>\n",
       "      <td>[ps1]</td>\n",
       "      <td></td>\n",
       "    </tr>\n",
       "    <tr>\n",
       "      <th>20</th>\n",
       "      <td>selle-ja-sellega</td>\n",
       "      <td>selle-ja-sellega</td>\n",
       "      <td>True</td>\n",
       "      <td>True</td>\n",
       "      <td>[dem]</td>\n",
       "      <td></td>\n",
       "    </tr>\n",
       "    <tr>\n",
       "      <th>21</th>\n",
       "      <td>selle-ja-sellele</td>\n",
       "      <td>selle-ja-sellele</td>\n",
       "      <td>True</td>\n",
       "      <td></td>\n",
       "      <td>None</td>\n",
       "      <td></td>\n",
       "    </tr>\n",
       "    <tr>\n",
       "      <th>22</th>\n",
       "      <td>ei-tea-kellele</td>\n",
       "      <td>ei-tea-kellele</td>\n",
       "      <td>True</td>\n",
       "      <td>True</td>\n",
       "      <td>[inter_rel]</td>\n",
       "      <td></td>\n",
       "    </tr>\n",
       "    <tr>\n",
       "      <th>23</th>\n",
       "      <td>sinule-ja-minule</td>\n",
       "      <td>sinule-ja-minule</td>\n",
       "      <td>True</td>\n",
       "      <td>True</td>\n",
       "      <td>[ps1]</td>\n",
       "      <td></td>\n",
       "    </tr>\n",
       "    <tr>\n",
       "      <th>24</th>\n",
       "      <td>ja-ma</td>\n",
       "      <td>ja-ma</td>\n",
       "      <td>True</td>\n",
       "      <td>True</td>\n",
       "      <td>[ps1]</td>\n",
       "      <td></td>\n",
       "    </tr>\n",
       "    <tr>\n",
       "      <th>25</th>\n",
       "      <td>ja-mingi-muu</td>\n",
       "      <td>ja-mingi-muu</td>\n",
       "      <td>True</td>\n",
       "      <td>True</td>\n",
       "      <td>[indef]</td>\n",
       "      <td></td>\n",
       "    </tr>\n",
       "    <tr>\n",
       "      <th>26</th>\n",
       "      <td>ise</td>\n",
       "      <td>ise</td>\n",
       "      <td>True</td>\n",
       "      <td>True</td>\n",
       "      <td>[pos, det, refl]</td>\n",
       "      <td></td>\n",
       "    </tr>\n",
       "  </tbody>\n",
       "</table>\n",
       "</div>"
      ],
      "text/plain": [
       "                         token            normal is_word is_pronoun  \\\n",
       "0               -q-q-qqwer-ty-    -q-q-qqwer-ty-                      \n",
       "1                           ja                ja    True              \n",
       "2   -v-v-v-ve-ve-vere-taoline-      vere-taoline                      \n",
       "3                 vere-taoline      vere-taoline    True              \n",
       "4                    maa-alune         maa-alune    True              \n",
       "5               -maa-a-lu--ne-         maa-alune                      \n",
       "6            -m-a-a-a-l-u-n-e-          maaalune                      \n",
       "7                     maaalune          maaalune    True              \n",
       "8                -lil-le-pott-         lillepott                      \n",
       "9                    lillepott         lillepott    True              \n",
       "10                  lille-pott        lille-pott    True              \n",
       "11              ma-tegevusnimi    ma-tegevusnimi    True              \n",
       "12                     ma-sina            masina    True       True   \n",
       "13                      masina            masina    True              \n",
       "14                  -ise-enda-          ise-enda                      \n",
       "15                     iseenda           iseenda    True       True   \n",
       "16                    kes-keda          kes-keda    True              \n",
       "17                 sulle-mulle       sulle-mulle    True       True   \n",
       "18                  sulle-mina        sulle-mina    True              \n",
       "19             sulle-tead-mina   sulle-tead-mina    True       True   \n",
       "20            selle-ja-sellega  selle-ja-sellega    True       True   \n",
       "21            selle-ja-sellele  selle-ja-sellele    True              \n",
       "22              ei-tea-kellele    ei-tea-kellele    True       True   \n",
       "23            sinule-ja-minule  sinule-ja-minule    True       True   \n",
       "24                       ja-ma             ja-ma    True       True   \n",
       "25                ja-mingi-muu      ja-mingi-muu    True       True   \n",
       "26                         ise               ise    True       True   \n",
       "\n",
       "        pronoun_type is_conjunction  \n",
       "0               None                 \n",
       "1               None           True  \n",
       "2               None                 \n",
       "3               None                 \n",
       "4               None                 \n",
       "5               None                 \n",
       "6               None                 \n",
       "7               None                 \n",
       "8               None                 \n",
       "9               None                 \n",
       "10              None                 \n",
       "11              None                 \n",
       "12             [ps2]                 \n",
       "13              None                 \n",
       "14              None                 \n",
       "15            [refl]                 \n",
       "16              None                 \n",
       "17             [ps1]                 \n",
       "18              None                 \n",
       "19             [ps1]                 \n",
       "20             [dem]                 \n",
       "21              None                 \n",
       "22       [inter_rel]                 \n",
       "23             [ps1]                 \n",
       "24             [ps1]                 \n",
       "25           [indef]                 \n",
       "26  [pos, det, refl]                 "
      ]
     },
     "execution_count": 7,
     "metadata": {},
     "output_type": "execute_result"
    }
   ],
   "source": [
    "import pandas\n",
    "\n",
    "tokens = [\n",
    "          '-q-q-qqwer-ty-',\n",
    "          'ja',\n",
    "          '-v-v-v-ve-ve-vere-taoline-',\n",
    "          'vere-taoline',\n",
    "          'maa-alune',\n",
    "          '-maa-a-lu--ne-',\n",
    "          '-m-a-a-a-l-u-n-e-',\n",
    "          'maaalune',\n",
    "          '-lil-le-pott-',\n",
    "          'lillepott',\n",
    "          'lille-pott',\n",
    "          'ma-tegevusnimi',\n",
    "          'ma-sina',\n",
    "          'masina',\n",
    "          '-ise-enda-',\n",
    "          'iseenda',\n",
    "          'kes-keda',\n",
    "          'sulle-mulle',\n",
    "          'sulle-mina',\n",
    "          'sulle-tead-mina',\n",
    "          'selle-ja-sellega',\n",
    "          'selle-ja-sellele',\n",
    "          'ei-tea-kellele',\n",
    "          'sinule-ja-minule',\n",
    "          'ja-ma',\n",
    "          'ja-mingi-muu',\n",
    "          'ise'\n",
    "         ]\n",
    "records = []\n",
    "for token in tokens:\n",
    "    token = MorphAnalyzedToken(token)\n",
    "    records.append({\n",
    "                    'token':token,\n",
    "                    'normal':token.normal,\n",
    "                    'is_word':token.is_word,\n",
    "                    'is_pronoun':token.is_pronoun,\n",
    "                    'pronoun_type':token.pronoun_type,\n",
    "                    'is_conjunction':token.is_conjunction\n",
    "                   })\n",
    "df = pandas.DataFrame.from_records(records, columns=['token', 'normal', 'is_word', \n",
    "                                                     'is_pronoun', 'pronoun_type', 'is_conjunction'])\n",
    "df.replace({False: ''})"
   ]
  }
 ],
 "metadata": {
  "kernelspec": {
   "display_name": "Python [py35]",
   "language": "python",
   "name": "Python [py35]"
  },
  "language_info": {
   "codemirror_mode": {
    "name": "ipython",
    "version": 3
   },
   "file_extension": ".py",
   "mimetype": "text/x-python",
   "name": "python",
   "nbconvert_exporter": "python",
   "pygments_lexer": "ipython3",
   "version": "3.5.3"
  }
 },
 "nbformat": 4,
 "nbformat_minor": 2
}
