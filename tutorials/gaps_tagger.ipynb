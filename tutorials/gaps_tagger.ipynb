{
 "cells": [
  {
   "cell_type": "markdown",
   "metadata": {},
   "source": [
    "# GapsTagger"
   ]
  },
  {
   "cell_type": "code",
   "execution_count": 1,
   "metadata": {},
   "outputs": [],
   "source": [
    "from estnltk import Text\n",
    "from estnltk.layer import Layer\n",
    "from estnltk.spans import Span\n",
    "from estnltk.taggers.gaps_tagging.gaps_tagger import GapsTagger"
   ]
  },
  {
   "cell_type": "code",
   "execution_count": 2,
   "metadata": {},
   "outputs": [],
   "source": [
    "text = Text('Üks kaks kolm neli viis kuus seitse.')\n",
    "layer_1 = Layer('test_1')\n",
    "layer_1.add_span(Span(4, 8))\n",
    "layer_1.add_span(Span(9, 13))\n",
    "layer_1.add_span(Span(24, 28))\n",
    "text['test_1'] = layer_1\n",
    "\n",
    "layer_2 = Layer('test_2')\n",
    "layer_2.add_span(Span(4, 8))\n",
    "layer_2.add_span(Span(9, 18))\n",
    "layer_2.add_span(Span(35, 36))\n",
    "text['test_2'] = layer_2"
   ]
  },
  {
   "cell_type": "markdown",
   "metadata": {},
   "source": [
    "## Example 1"
   ]
  },
  {
   "cell_type": "code",
   "execution_count": 3,
   "metadata": {},
   "outputs": [
    {
     "data": {
      "text/html": [
       "<h4>SpanList</h4>\n",
       "<table border=\"1\" class=\"dataframe\">\n",
       "  <thead>\n",
       "    <tr style=\"text-align: right;\">\n",
       "      <th>layer name</th>\n",
       "      <th>attributes</th>\n",
       "      <th>parent</th>\n",
       "      <th>enveloping</th>\n",
       "      <th>ambiguous</th>\n",
       "      <th>span count</th>\n",
       "    </tr>\n",
       "  </thead>\n",
       "  <tbody>\n",
       "    <tr>\n",
       "      <td>simple_gaps</td>\n",
       "      <td></td>\n",
       "      <td>None</td>\n",
       "      <td>None</td>\n",
       "      <td>False</td>\n",
       "      <td>4</td>\n",
       "    </tr>\n",
       "  </tbody>\n",
       "</table>\n",
       "<table border=\"1\" class=\"dataframe\">\n",
       "  <thead>\n",
       "    <tr style=\"text-align: right;\">\n",
       "      <th>text</th>\n",
       "      <th>start</th>\n",
       "      <th>end</th>\n",
       "    </tr>\n",
       "  </thead>\n",
       "  <tbody>\n",
       "    <tr>\n",
       "      <td>Üks</td>\n",
       "      <td>0</td>\n",
       "      <td>4</td>\n",
       "    </tr>\n",
       "    <tr>\n",
       "      <td></td>\n",
       "      <td>8</td>\n",
       "      <td>9</td>\n",
       "    </tr>\n",
       "    <tr>\n",
       "      <td>viis</td>\n",
       "      <td>18</td>\n",
       "      <td>24</td>\n",
       "    </tr>\n",
       "    <tr>\n",
       "      <td>seitse</td>\n",
       "      <td>28</td>\n",
       "      <td>35</td>\n",
       "    </tr>\n",
       "  </tbody>\n",
       "</table>"
      ],
      "text/plain": [
       "SL[Span(Üks , {}),\n",
       "Span( , {}),\n",
       "Span( viis , {}),\n",
       "Span( seitse, {})]"
      ]
     },
     "execution_count": 3,
     "metadata": {},
     "output_type": "execute_result"
    }
   ],
   "source": [
    "gaps_tagger = GapsTagger('simple_gaps', ['test_1', 'test_2'])\n",
    "gaps_tagger.tag(text)\n",
    "text.simple_gaps"
   ]
  },
  {
   "cell_type": "markdown",
   "metadata": {},
   "source": [
    "The following illustrates examples 1 and 2.\n",
    "\n",
    "    text:           'Üks kaks kolm neli viis kuus seitse.'\n",
    "    test_1:             'kaks'kolm'         'kuus'      \n",
    "    test_2:             'kaks'kolm neli'               '.'\n",
    "    simple_gaps:    'Üks '  ' '       ' viis '  ' seitse'\n",
    "    gaps:           'Üks'              'viis'    'seitse'"
   ]
  },
  {
   "cell_type": "markdown",
   "metadata": {},
   "source": [
    "## Example 2"
   ]
  },
  {
   "cell_type": "code",
   "execution_count": 4,
   "metadata": {},
   "outputs": [
    {
     "data": {
      "text/html": [
       "<h4>Tagger</h4>\n",
       "Tags gaps of input layers.\n",
       "<table border=\"1\" class=\"dataframe\">\n",
       "  <thead>\n",
       "    <tr style=\"text-align: right;\">\n",
       "      <th>name</th>\n",
       "      <th>layer</th>\n",
       "      <th>attributes</th>\n",
       "      <th>depends_on</th>\n",
       "    </tr>\n",
       "  </thead>\n",
       "  <tbody>\n",
       "    <tr>\n",
       "      <td>GapsTagger</td>\n",
       "      <td>gaps</td>\n",
       "      <td>(gap_length,)</td>\n",
       "      <td>[test_1, test_2]</td>\n",
       "    </tr>\n",
       "  </tbody>\n",
       "</table>\n",
       "<h4>Configuration</h4>\n",
       "<table border=\"1\" class=\"dataframe\">\n",
       "  <tbody>\n",
       "    <tr>\n",
       "      <th>decorator function</th>\n",
       "      <td>&lt;function decorator at 0x7fea2e6027b8&gt;</td>\n",
       "    </tr>\n",
       "    <tr>\n",
       "      <th>trim function</th>\n",
       "      <td>&lt;function trim at 0x7fea2e6029d8&gt;</td>\n",
       "    </tr>\n",
       "  </tbody>\n",
       "</table>"
      ],
      "text/plain": [
       "GapsTagger(decorator function=<function decorator at 0x7fea2e6027b8>, trim function=<function trim at 0x7fea2e6029d8>)"
      ]
     },
     "execution_count": 4,
     "metadata": {},
     "output_type": "execute_result"
    }
   ],
   "source": [
    "def trim(t:str) -> str:\n",
    "    return t.strip()\n",
    "\n",
    "def decorator(text:str):\n",
    "    return {'gap_length':len(text)}\n",
    "\n",
    "gaps_tagger = GapsTagger(layer_name='gaps',\n",
    "                         input_layers=['test_1', 'test_2'],\n",
    "                         trim=trim,\n",
    "                         decorator=decorator,\n",
    "                         attributes=['gap_length'])\n",
    "gaps_tagger"
   ]
  },
  {
   "cell_type": "code",
   "execution_count": 5,
   "metadata": {
    "scrolled": false
   },
   "outputs": [
    {
     "data": {
      "text/html": [
       "<h4>SpanList</h4>\n",
       "<table border=\"1\" class=\"dataframe\">\n",
       "  <thead>\n",
       "    <tr style=\"text-align: right;\">\n",
       "      <th>layer name</th>\n",
       "      <th>attributes</th>\n",
       "      <th>parent</th>\n",
       "      <th>enveloping</th>\n",
       "      <th>ambiguous</th>\n",
       "      <th>span count</th>\n",
       "    </tr>\n",
       "  </thead>\n",
       "  <tbody>\n",
       "    <tr>\n",
       "      <td>gaps</td>\n",
       "      <td>gap_length</td>\n",
       "      <td>None</td>\n",
       "      <td>None</td>\n",
       "      <td>False</td>\n",
       "      <td>3</td>\n",
       "    </tr>\n",
       "  </tbody>\n",
       "</table>\n",
       "<table border=\"1\" class=\"dataframe\">\n",
       "  <thead>\n",
       "    <tr style=\"text-align: right;\">\n",
       "      <th>text</th>\n",
       "      <th>start</th>\n",
       "      <th>end</th>\n",
       "      <th>gap_length</th>\n",
       "    </tr>\n",
       "  </thead>\n",
       "  <tbody>\n",
       "    <tr>\n",
       "      <td>Üks</td>\n",
       "      <td>0</td>\n",
       "      <td>3</td>\n",
       "      <td>3</td>\n",
       "    </tr>\n",
       "    <tr>\n",
       "      <td>viis</td>\n",
       "      <td>19</td>\n",
       "      <td>23</td>\n",
       "      <td>4</td>\n",
       "    </tr>\n",
       "    <tr>\n",
       "      <td>seitse</td>\n",
       "      <td>29</td>\n",
       "      <td>35</td>\n",
       "      <td>6</td>\n",
       "    </tr>\n",
       "  </tbody>\n",
       "</table>"
      ],
      "text/plain": [
       "SL[Span(Üks, {'gap_length': 3}),\n",
       "Span(viis, {'gap_length': 4}),\n",
       "Span(seitse, {'gap_length': 6})]"
      ]
     },
     "execution_count": 5,
     "metadata": {},
     "output_type": "execute_result"
    }
   ],
   "source": [
    "gaps_tagger.tag(text)\n",
    "text.gaps"
   ]
  },
  {
   "cell_type": "markdown",
   "metadata": {},
   "source": [
    "## Example 3: enveloping layers\n",
    "\n",
    "The gaps layer of enveloping layers is an unambiguous enveloping layer. All input layers must be enveloping the same layer. Input layers can be ambiguous or unambiguous."
   ]
  },
  {
   "cell_type": "code",
   "execution_count": 6,
   "metadata": {},
   "outputs": [
    {
     "data": {
      "text/html": [
       "<h4>SpanList</h4>\n",
       "<table border=\"1\" class=\"dataframe\">\n",
       "  <thead>\n",
       "    <tr style=\"text-align: right;\">\n",
       "      <th>layer name</th>\n",
       "      <th>attributes</th>\n",
       "      <th>parent</th>\n",
       "      <th>enveloping</th>\n",
       "      <th>ambiguous</th>\n",
       "      <th>span count</th>\n",
       "    </tr>\n",
       "  </thead>\n",
       "  <tbody>\n",
       "    <tr>\n",
       "      <td>test_3</td>\n",
       "      <td></td>\n",
       "      <td>None</td>\n",
       "      <td>words</td>\n",
       "      <td>False</td>\n",
       "      <td>2</td>\n",
       "    </tr>\n",
       "  </tbody>\n",
       "</table>\n",
       "<table border=\"1\" class=\"dataframe\">\n",
       "  <thead>\n",
       "    <tr style=\"text-align: right;\">\n",
       "      <th>text</th>\n",
       "      <th>start</th>\n",
       "      <th>end</th>\n",
       "    </tr>\n",
       "  </thead>\n",
       "  <tbody>\n",
       "    <tr>\n",
       "      <td><b>Üks</b> <b>kaks</b></td>\n",
       "      <td>0</td>\n",
       "      <td>8</td>\n",
       "    </tr>\n",
       "    <tr>\n",
       "      <td><b>neli</b></td>\n",
       "      <td>14</td>\n",
       "      <td>18</td>\n",
       "    </tr>\n",
       "  </tbody>\n",
       "</table>"
      ],
      "text/plain": [
       "SL[SL[Span(Üks, {'normalized_form': None}),\n",
       "Span(kaks, {'normalized_form': None})],\n",
       "SL[Span(neli, {'normalized_form': None})]]"
      ]
     },
     "execution_count": 6,
     "metadata": {},
     "output_type": "execute_result"
    }
   ],
   "source": [
    "from estnltk.spans import SpanList\n",
    "\n",
    "text = Text('Üks kaks kolm neli viis kuus seitse.')\n",
    "text.tag_layer(['words'])\n",
    "\n",
    "layer = Layer('test_3', enveloping='words')\n",
    "\n",
    "spl = SpanList()\n",
    "spl.spans = text.words[0:2]\n",
    "layer.add_span(spl)\n",
    "\n",
    "spl = SpanList()\n",
    "spl.spans = text.words[3:4]\n",
    "layer.add_span(spl)\n",
    "\n",
    "text['test_3'] = layer\n",
    "text.test_3"
   ]
  },
  {
   "cell_type": "code",
   "execution_count": 7,
   "metadata": {},
   "outputs": [
    {
     "data": {
      "text/html": [
       "SL[SL[SL[Span(neli, {'normalized_form': None}),\n",
       "Span(viis, {'normalized_form': None})],\n",
       "SL[Span(neli, {'normalized_form': None}),\n",
       "Span(viis, {'normalized_form': None})]]]"
      ],
      "text/plain": [
       "SL[SL[SL[Span(neli, {'normalized_form': None}),\n",
       "Span(viis, {'normalized_form': None})],\n",
       "SL[Span(neli, {'normalized_form': None}),\n",
       "Span(viis, {'normalized_form': None})]]]"
      ]
     },
     "execution_count": 7,
     "metadata": {},
     "output_type": "execute_result"
    }
   ],
   "source": [
    "layer = Layer('test_4', enveloping='words', ambiguous=True)\n",
    "\n",
    "spl = SpanList()\n",
    "spl.spans = text.words[3:5]\n",
    "layer.add_span(spl)\n",
    "\n",
    "spl = SpanList()\n",
    "spl.spans = text.words[3:5]\n",
    "layer.add_span(spl)\n",
    "\n",
    "text['test_4'] = layer\n",
    "text.test_4.spans"
   ]
  },
  {
   "cell_type": "code",
   "execution_count": 8,
   "metadata": {},
   "outputs": [
    {
     "data": {
      "text/html": [
       "<h4>Tagger</h4>\n",
       "Tags gaps of input layers.\n",
       "<table border=\"1\" class=\"dataframe\">\n",
       "  <thead>\n",
       "    <tr style=\"text-align: right;\">\n",
       "      <th>name</th>\n",
       "      <th>layer</th>\n",
       "      <th>attributes</th>\n",
       "      <th>depends_on</th>\n",
       "    </tr>\n",
       "  </thead>\n",
       "  <tbody>\n",
       "    <tr>\n",
       "      <td>GapsTagger</td>\n",
       "      <td>gaps</td>\n",
       "      <td>(gap_word_count,)</td>\n",
       "      <td>[test_3, test_4]</td>\n",
       "    </tr>\n",
       "  </tbody>\n",
       "</table>\n",
       "<h4>Configuration</h4>\n",
       "<table border=\"1\" class=\"dataframe\">\n",
       "  <tbody>\n",
       "    <tr>\n",
       "      <th>decorator function</th>\n",
       "      <td>&lt;function decorator at 0x7fea2e602620&gt;</td>\n",
       "    </tr>\n",
       "    <tr>\n",
       "      <th>trim function</th>\n",
       "      <td>&lt;function trim at 0x7fea2e602510&gt;</td>\n",
       "    </tr>\n",
       "  </tbody>\n",
       "</table>"
      ],
      "text/plain": [
       "GapsTagger(decorator function=<function decorator at 0x7fea2e602620>, trim function=<function trim at 0x7fea2e602510>)"
      ]
     },
     "execution_count": 8,
     "metadata": {},
     "output_type": "execute_result"
    }
   ],
   "source": [
    "def decorator(spans):\n",
    "    return {'gap_word_count': len(spans)}\n",
    "\n",
    "gaps_tagger = GapsTagger(layer_name='gaps',\n",
    "                         input_layers=['test_3', 'test_4'],\n",
    "                         decorator=decorator,\n",
    "                         attributes=['gap_word_count'])\n",
    "gaps_tagger"
   ]
  },
  {
   "cell_type": "code",
   "execution_count": 9,
   "metadata": {},
   "outputs": [
    {
     "data": {
      "text/html": [
       "<h4>SpanList</h4>\n",
       "<table border=\"1\" class=\"dataframe\">\n",
       "  <thead>\n",
       "    <tr style=\"text-align: right;\">\n",
       "      <th>layer name</th>\n",
       "      <th>attributes</th>\n",
       "      <th>parent</th>\n",
       "      <th>enveloping</th>\n",
       "      <th>ambiguous</th>\n",
       "      <th>span count</th>\n",
       "    </tr>\n",
       "  </thead>\n",
       "  <tbody>\n",
       "    <tr>\n",
       "      <td>gaps</td>\n",
       "      <td>gap_word_count</td>\n",
       "      <td>None</td>\n",
       "      <td>words</td>\n",
       "      <td>False</td>\n",
       "      <td>2</td>\n",
       "    </tr>\n",
       "  </tbody>\n",
       "</table>\n",
       "<table border=\"1\" class=\"dataframe\">\n",
       "  <thead>\n",
       "    <tr style=\"text-align: right;\">\n",
       "      <th>text</th>\n",
       "      <th>start</th>\n",
       "      <th>end</th>\n",
       "      <th>gap_word_count</th>\n",
       "    </tr>\n",
       "  </thead>\n",
       "  <tbody>\n",
       "    <tr>\n",
       "      <td><b>kolm</b></td>\n",
       "      <td>9</td>\n",
       "      <td>13</td>\n",
       "      <td>1</td>\n",
       "    </tr>\n",
       "    <tr>\n",
       "      <td><b>kuus</b> <b>seitse</b><b>.</b></td>\n",
       "      <td>24</td>\n",
       "      <td>36</td>\n",
       "      <td>3</td>\n",
       "    </tr>\n",
       "  </tbody>\n",
       "</table>"
      ],
      "text/plain": [
       "SL[SL[Span(kolm, {'normalized_form': None})],\n",
       "SL[Span(kuus, {'normalized_form': None}),\n",
       "Span(seitse, {'normalized_form': None}),\n",
       "Span(., {'normalized_form': None})]]"
      ]
     },
     "execution_count": 9,
     "metadata": {},
     "output_type": "execute_result"
    }
   ],
   "source": [
    "gaps_tagger.tag(text)\n",
    "text.gaps"
   ]
  }
 ],
 "metadata": {
  "kernelspec": {
   "display_name": "Python 3",
   "language": "python",
   "name": "python3"
  },
  "language_info": {
   "codemirror_mode": {
    "name": "ipython",
    "version": 3
   },
   "file_extension": ".py",
   "mimetype": "text/x-python",
   "name": "python",
   "nbconvert_exporter": "python",
   "pygments_lexer": "ipython3",
   "version": "3.5.4"
  }
 },
 "nbformat": 4,
 "nbformat_minor": 2
}
