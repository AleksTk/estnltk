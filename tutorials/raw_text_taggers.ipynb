{
 "cells": [
  {
   "cell_type": "markdown",
   "metadata": {},
   "source": [
    "# Raw text taggers"
   ]
  },
  {
   "cell_type": "markdown",
   "metadata": {},
   "source": [
    "## RegexTagger\n",
    "\n",
    "For initialisation RegexTagger needs the vocabulary. Vocabulary argument may be a csv file name"
   ]
  },
  {
   "cell_type": "code",
   "execution_count": 1,
   "metadata": {
    "collapsed": true
   },
   "outputs": [],
   "source": [
    "vocabulary = 'raw_text_taggers/vocabulary.csv'"
   ]
  },
  {
   "cell_type": "markdown",
   "metadata": {},
   "source": [
    "a pandas DataFrame"
   ]
  },
  {
   "cell_type": "code",
   "execution_count": 2,
   "metadata": {
    "collapsed": false
   },
   "outputs": [
    {
     "data": {
      "text/html": [
       "<div>\n",
       "<table border=\"1\" class=\"dataframe\">\n",
       "  <thead>\n",
       "    <tr style=\"text-align: right;\">\n",
       "      <th></th>\n",
       "      <th>_regex_pattern_</th>\n",
       "      <th>_group_</th>\n",
       "      <th>_priority_</th>\n",
       "      <th>normalized</th>\n",
       "      <th>comment</th>\n",
       "      <th>example</th>\n",
       "    </tr>\n",
       "  </thead>\n",
       "  <tbody>\n",
       "    <tr>\n",
       "      <th>0</th>\n",
       "      <td>-?(\\d[\\s\\.]?)+(,\\s?(\\d[\\s\\.]?)+)?</td>\n",
       "      <td>0</td>\n",
       "      <td>1</td>\n",
       "      <td>lambda m: re.sub('[\\s\\.]' ,'' , m.group(0))</td>\n",
       "      <td>number</td>\n",
       "      <td>-34 567 000 123 , 456</td>\n",
       "    </tr>\n",
       "    <tr>\n",
       "      <th>1</th>\n",
       "      <td>([a-zA-Z0-9_.+-]+@[a-zA-Z0-9-]+\\.[a-zA-Z0-9-.]+)</td>\n",
       "      <td>1</td>\n",
       "      <td>2</td>\n",
       "      <td>lambda m: None</td>\n",
       "      <td>e-mail</td>\n",
       "      <td>bla@bla.bl</td>\n",
       "    </tr>\n",
       "  </tbody>\n",
       "</table>\n",
       "</div>"
      ],
      "text/plain": [
       "                                    _regex_pattern_  _group_  _priority_  \\\n",
       "0                 -?(\\d[\\s\\.]?)+(,\\s?(\\d[\\s\\.]?)+)?        0           1   \n",
       "1  ([a-zA-Z0-9_.+-]+@[a-zA-Z0-9-]+\\.[a-zA-Z0-9-.]+)        1           2   \n",
       "\n",
       "                                    normalized comment                example  \n",
       "0  lambda m: re.sub('[\\s\\.]' ,'' , m.group(0))  number  -34 567 000 123 , 456  \n",
       "1                               lambda m: None  e-mail             bla@bla.bl  "
      ]
     },
     "execution_count": 2,
     "metadata": {},
     "output_type": "execute_result"
    }
   ],
   "source": [
    "from pandas import read_csv\n",
    "vocabulary = read_csv(vocabulary, na_filter=False, index_col=False)\n",
    "vocabulary"
   ]
  },
  {
   "cell_type": "markdown",
   "metadata": {},
   "source": [
    "or a list of dicts"
   ]
  },
  {
   "cell_type": "code",
   "execution_count": 3,
   "metadata": {
    "collapsed": false
   },
   "outputs": [
    {
     "data": {
      "text/plain": [
       "[{'_group_': 0,\n",
       "  '_priority_': 1,\n",
       "  '_regex_pattern_': '-?(\\\\d[\\\\s\\\\.]?)+(,\\\\s?(\\\\d[\\\\s\\\\.]?)+)?',\n",
       "  'comment': 'number',\n",
       "  'example': '-34 567 000 123 , 456',\n",
       "  'normalized': \"lambda m: re.sub('[\\\\s\\\\.]' ,'' , m.group(0))\"},\n",
       " {'_group_': 1,\n",
       "  '_priority_': 2,\n",
       "  '_regex_pattern_': '([a-zA-Z0-9_.+-]+@[a-zA-Z0-9-]+\\\\.[a-zA-Z0-9-.]+)',\n",
       "  'comment': 'e-mail',\n",
       "  'example': 'bla@bla.bl',\n",
       "  'normalized': 'lambda m: None'}]"
      ]
     },
     "execution_count": 3,
     "metadata": {},
     "output_type": "execute_result"
    }
   ],
   "source": [
    "vocabulary = vocabulary.to_dict('records')\n",
    "vocabulary"
   ]
  },
  {
   "cell_type": "markdown",
   "metadata": {
    "collapsed": false
   },
   "source": [
    "The keyword **\\_regex\\_pattern\\_** is required. The **\\_group\\_** and **\\_priority\\_** keywords default to zero. Banned keywords are **start** and **end**.\n",
    "\n",
    "**\\_regex\\_pattern\\_** is a regular expression given as a string or a compiled regex pattern. **\\_group\\_** is an integer that determines which group of the pattern should be tagged on the text. **\\_priority\\_** is used to resolve conflicts. Smaller numbers (or any other comparables) represent higher priorities and bigger numbers lower priorities.\n",
    "\n",
    "In case of intersecting spans, the span with lower priority is removed, if priorities are equal, the conflict resolving depends on the chosen conflict resolving strategy.\n",
    "\n",
    "Any callable is assumed to take one argument m, the match object, and return a value for the corresponding attribute.\n",
    "Any string (except the \\_regex\\_pattern\\_, \\_group\\_ and \\_priority\\_ strings) which starts with 'lambda m:' is compiled. That function should return the value for the corresponding attribute. This is also a way to express Python objects in the csv file. For example,\n",
    "```python\n",
    "lambda m: re.sub('[\\s\\.]' ,'' , m.group(0)) # remove all whitespace from the match\n",
    "lambda m: 'lambda m: ...' # represent a string that starts with 'lambda m:'\n",
    "lambda m: None # represent None\n",
    "```"
   ]
  },
  {
   "cell_type": "markdown",
   "metadata": {},
   "source": [
    "**attributes** is a set of the names of the attributes to be annotated in the layer in addition to 'start' and 'end'. The default is the empty set.\n",
    "\n",
    "**conflict_resolving_strategy** is either 'MAX', 'MIN' or 'ALL'. In case of intersecting spans, 'MAX' keeps longer, 'MIN' keeps shorter and 'ALL' keeps all spans. The default is 'MAX'.\n",
    "\n",
    "If **overlapped** is True, overlapped matches are permitted. The dafault is False\n",
    "\n",
    "If **return_layer** is True, the layer is returned and the text object is unchanged. If False, the layer is attached to the text object and None is returned. The default is False.\n",
    "\n",
    "**layer_name** is the name of the layer."
   ]
  },
  {
   "cell_type": "code",
   "execution_count": 4,
   "metadata": {
    "collapsed": false
   },
   "outputs": [
    {
     "data": {
      "text/html": [
       "<div>\n",
       "<table border=\"1\" class=\"dataframe\">\n",
       "  <thead>\n",
       "    <tr style=\"text-align: right;\">\n",
       "      <th></th>\n",
       "      <th>text</th>\n",
       "      <th>normalized</th>\n",
       "      <th>_priority_</th>\n",
       "    </tr>\n",
       "  </thead>\n",
       "  <tbody>\n",
       "    <tr>\n",
       "      <th>0</th>\n",
       "      <td>bla@bla.ee</td>\n",
       "      <td>None</td>\n",
       "      <td>2</td>\n",
       "    </tr>\n",
       "    <tr>\n",
       "      <th>1</th>\n",
       "      <td>10 456</td>\n",
       "      <td>10456</td>\n",
       "      <td>1</td>\n",
       "    </tr>\n",
       "    <tr>\n",
       "      <th>2</th>\n",
       "      <td>foo@foo.ee</td>\n",
       "      <td>None</td>\n",
       "      <td>2</td>\n",
       "    </tr>\n",
       "    <tr>\n",
       "      <th>3</th>\n",
       "      <td>10</td>\n",
       "      <td>10</td>\n",
       "      <td>1</td>\n",
       "    </tr>\n",
       "  </tbody>\n",
       "</table>\n",
       "</div>"
      ],
      "text/plain": [
       "         text normalized  _priority_\n",
       "0  bla@bla.ee       None           2\n",
       "1     10 456       10456           1\n",
       "2  foo@foo.ee       None           2\n",
       "3         10          10           1"
      ]
     },
     "execution_count": 4,
     "metadata": {},
     "output_type": "execute_result"
    }
   ],
   "source": [
    "from estnltk.taggers import RegexTagger\n",
    "from estnltk import Text\n",
    "from estnltk.layer_operations import repr_html\n",
    "\n",
    "tokenization_hints_tagger = RegexTagger(vocabulary=vocabulary,\n",
    "                                        attributes={'normalized', '_priority_'},\n",
    "                                        conflict_resolving_strategy='MAX',\n",
    "                                        overlapped=False,\n",
    "                                        return_layer=False,\n",
    "                                        layer_name='tokenization_hints')\n",
    "\n",
    "text = Text('Aadressilt bla@bla.ee tuli 10 456 kirja aadressile foo@foo.ee 10 tunni jooksul.')\n",
    "status = {}\n",
    "tokenization_hints_tagger.tag(text, status)\n",
    "repr_html(text['tokenization_hints'])"
   ]
  },
  {
   "cell_type": "code",
   "execution_count": 5,
   "metadata": {
    "collapsed": false
   },
   "outputs": [
    {
     "data": {
      "text/plain": [
       "{'number_of_conflicts': 0}"
      ]
     },
     "execution_count": 5,
     "metadata": {},
     "output_type": "execute_result"
    }
   ],
   "source": [
    "# The number of intersecting pairs of spans before conflict resolving\n",
    "status"
   ]
  }
 ],
 "metadata": {
  "kernelspec": {
   "display_name": "Python [py35]",
   "language": "python",
   "name": "Python [py35]"
  },
  "language_info": {
   "codemirror_mode": {
    "name": "ipython",
    "version": 3
   },
   "file_extension": ".py",
   "mimetype": "text/x-python",
   "name": "python",
   "nbconvert_exporter": "python",
   "pygments_lexer": "ipython3",
   "version": "3.5.3"
  }
 },
 "nbformat": 4,
 "nbformat_minor": 2
}
