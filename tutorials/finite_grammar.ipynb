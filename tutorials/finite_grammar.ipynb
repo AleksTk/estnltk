{
 "cells": [
  {
   "cell_type": "markdown",
   "metadata": {},
   "source": [
    "# Grammar\n",
    "Grammar rules object and finite grammar object."
   ]
  },
  {
   "cell_type": "code",
   "execution_count": 1,
   "metadata": {
    "scrolled": true
   },
   "outputs": [
    {
     "data": {
      "text/plain": [
       "\n",
       "Grammar:\n",
       "\tstart: S\n",
       "\tterminals: F, G\n",
       "\tnonterminals: A, B, S\n",
       "\tlegal attributes: frozenset()\n",
       "\tdepth_limit: inf\n",
       "\twidth_limit: inf\n",
       "Rules:\n",
       "\tS -> A\t: 0, val: default_validator, dec: default_decorator\n",
       "\tS -> B\t: 0, val: default_validator, dec: default_decorator\n",
       "\tA -> B F\t: 0, val: default_validator, dec: default_decorator\n",
       "\tB -> G\t: 0, val: default_validator, dec: default_decorator"
      ]
     },
     "execution_count": 1,
     "metadata": {},
     "output_type": "execute_result"
    }
   ],
   "source": [
    "from estnltk.finite_grammar.trees import Rule, Grammar\n",
    "\n",
    "grammar = Grammar(start_symbols=['S'])\n",
    "grammar.add(Rule('S', 'A'))\n",
    "grammar.add(Rule('S', 'B'))\n",
    "grammar.add(Rule('A', 'B F'))\n",
    "grammar.add(Rule('B', 'G'))\n",
    "\n",
    "grammar"
   ]
  },
  {
   "cell_type": "markdown",
   "metadata": {},
   "source": [
    "# Phrase list generator\n",
    "Generates all phrases of the finite grammar."
   ]
  },
  {
   "cell_type": "code",
   "execution_count": 2,
   "metadata": {},
   "outputs": [
    {
     "name": "stdout",
     "output_type": "stream",
     "text": [
      "['G', 'F']\n",
      "['G']\n"
     ]
    }
   ],
   "source": [
    "from estnltk.finite_grammar import phrase_list_generator\n",
    "\n",
    "for phrase in phrase_list_generator(grammar, depth_limit=float('inf')):\n",
    "    print(phrase)"
   ]
  },
  {
   "cell_type": "markdown",
   "metadata": {},
   "source": [
    "## Graph from layer"
   ]
  },
  {
   "cell_type": "code",
   "execution_count": 3,
   "metadata": {},
   "outputs": [],
   "source": [
    "from estnltk import Text\n",
    "from estnltk.layer import Layer\n",
    "from estnltk.spans import Span\n",
    "\n",
    "text = Text('a b c d e f g h i j k l m')\n",
    "\n",
    "layer = Layer(name='test_grammar',\n",
    "              attributes=['grammar_symbol']\n",
    "              )\n",
    "layer.add_span(Span( 0,  1, legal_attributes=['grammar_symbol'], grammar_symbol='A'))\n",
    "layer.add_span(Span( 2,  3, legal_attributes=['grammar_symbol'], grammar_symbol='B'))\n",
    "layer.add_span(Span( 4,  5, legal_attributes=['grammar_symbol'], grammar_symbol='C'))\n",
    "layer.add_span(Span( 6,  7, legal_attributes=['grammar_symbol'], grammar_symbol='D'))\n",
    "layer.add_span(Span( 8,  9, legal_attributes=['grammar_symbol'], grammar_symbol='E'))\n",
    "layer.add_span(Span(10, 11, legal_attributes=['grammar_symbol'], grammar_symbol='F'))\n",
    "layer.add_span(Span(12, 13, legal_attributes=['grammar_symbol'], grammar_symbol='G'))\n",
    "layer.add_span(Span(14, 15, legal_attributes=['grammar_symbol'], grammar_symbol='H'))\n",
    "layer.add_span(Span(16, 17, legal_attributes=['grammar_symbol'], grammar_symbol='I'))\n",
    "layer.add_span(Span(18, 19, legal_attributes=['grammar_symbol'], grammar_symbol='J'))\n",
    "layer.add_span(Span(20, 21, legal_attributes=['grammar_symbol'], grammar_symbol='K'))\n",
    "layer.add_span(Span(22, 23, legal_attributes=['grammar_symbol'], grammar_symbol='L'))\n",
    "layer.add_span(Span(24, 25, legal_attributes=['grammar_symbol'], grammar_symbol='M'))\n",
    "\n",
    "text['test_grammar'] = layer"
   ]
  },
  {
   "cell_type": "markdown",
   "metadata": {},
   "source": [
    "Create a graph that represents the layer."
   ]
  },
  {
   "cell_type": "code",
   "execution_count": 4,
   "metadata": {},
   "outputs": [
    {
     "data": {
      "image/png": "[encoded data removed]",
      "text/plain": [
       "<matplotlib.figure.Figure at 0x7fbe52514908>"
      ]
     },
     "metadata": {},
     "output_type": "display_data"
    }
   ],
   "source": [
    "from estnltk.finite_grammar import layer_to_graph, plot_graph\n",
    "from estnltk.finite_grammar import parse_graph\n",
    "\n",
    "graph = layer_to_graph(text['test_grammar'])\n",
    "plot_graph(graph,6)"
   ]
  },
  {
   "cell_type": "markdown",
   "metadata": {},
   "source": [
    "## Parse\n",
    "Use grammar to parse the graph above. Don't solve conflicts between the nodes."
   ]
  },
  {
   "cell_type": "code",
   "execution_count": 5,
   "metadata": {},
   "outputs": [],
   "source": [
    "class CountingDecorator:\n",
    "    __name__ = 'counting_decorator'\n",
    "\n",
    "    _count = 0\n",
    "\n",
    "    def __call__(self, support):\n",
    "        self._count += 1\n",
    "        return {'count': self._count}\n",
    "\n",
    "counting_decorator = CountingDecorator()"
   ]
  },
  {
   "cell_type": "code",
   "execution_count": 6,
   "metadata": {
    "scrolled": false
   },
   "outputs": [
    {
     "data": {
      "image/png": "[encoded data removed]",
      "text/plain": [
       "<matplotlib.figure.Figure at 0x7fbe526114a8>"
      ]
     },
     "metadata": {},
     "output_type": "display_data"
    }
   ],
   "source": [
    "rules = []\n",
    "rules.append(Rule('N', 'A B',   priority=2, group='g1', decorator=CountingDecorator()))\n",
    "rules.append(Rule('O', 'N',     priority=0, group='g1', decorator=CountingDecorator()))\n",
    "rules.append(Rule('P', 'B C',   priority=1, group='g1', decorator=CountingDecorator()))\n",
    "rules.append(Rule('Q', 'P',     priority=5, group='g1', decorator=CountingDecorator()))\n",
    "rules.append(Rule('R', 'C D E', priority=1, group='g1', decorator=CountingDecorator()))\n",
    "rules.append(Rule('S', 'R',     priority=3, group='g2', decorator=CountingDecorator()))\n",
    "rules.append(Rule('T', 'E',     priority=2, group='g2', decorator=CountingDecorator()))\n",
    "rules.append(Rule('U', 'F G',   priority=1, group='g1', decorator=CountingDecorator()))\n",
    "rules.append(Rule('V', 'G H',   priority=2, group='g1', decorator=CountingDecorator()))\n",
    "rules.append(Rule('W', 'H I',   priority=3, group='g1', decorator=CountingDecorator()))\n",
    "rules.append(Rule('X', 'J K',   priority=3, group='g1', decorator=CountingDecorator()))\n",
    "rules.append(Rule('Y', 'K L',   priority=2, group='g1', decorator=CountingDecorator()))\n",
    "rules.append(Rule('Z', 'L M',   priority=1, group='g1', decorator=CountingDecorator()))\n",
    "\n",
    "grammar = Grammar(start_symbols=['P', 'Q', 'S', 'U', 'Z'], rules=rules, legal_attributes=['count'])\n",
    "\n",
    "graph = layer_to_graph(text['test_grammar'])\n",
    "parse_graph(graph, grammar, resolve_conflicts=False, debug=False)\n",
    "\n",
    "plot_graph(graph.parse_trees, 6)"
   ]
  },
  {
   "cell_type": "code",
   "execution_count": 7,
   "metadata": {},
   "outputs": [
    {
     "data": {
      "text/plain": [
       "\n",
       "Grammar:\n",
       "\tstart: P, Q, S, U, Z\n",
       "\tterminals: A, B, C, D, E, F, G, H, I, J, K, L, M\n",
       "\tnonterminals: N, O, P, Q, R, S, T, U, V, W, X, Y, Z\n",
       "\tlegal attributes: frozenset({'count'})\n",
       "\tdepth_limit: inf\n",
       "\twidth_limit: inf\n",
       "Rules:\n",
       "\tN -> A B\t: 2, val: default_validator, dec: counting_decorator\n",
       "\tO -> N\t: 0, val: default_validator, dec: counting_decorator\n",
       "\tP -> B C\t: 1, val: default_validator, dec: counting_decorator\n",
       "\tQ -> P\t: 5, val: default_validator, dec: counting_decorator\n",
       "\tR -> C D E\t: 1, val: default_validator, dec: counting_decorator\n",
       "\tS -> R\t: 3, val: default_validator, dec: counting_decorator\n",
       "\tT -> E\t: 2, val: default_validator, dec: counting_decorator\n",
       "\tU -> F G\t: 1, val: default_validator, dec: counting_decorator\n",
       "\tV -> G H\t: 2, val: default_validator, dec: counting_decorator\n",
       "\tW -> H I\t: 3, val: default_validator, dec: counting_decorator\n",
       "\tX -> J K\t: 3, val: default_validator, dec: counting_decorator\n",
       "\tY -> K L\t: 2, val: default_validator, dec: counting_decorator\n",
       "\tZ -> L M\t: 1, val: default_validator, dec: counting_decorator"
      ]
     },
     "execution_count": 7,
     "metadata": {},
     "output_type": "execute_result"
    }
   ],
   "source": [
    "grammar"
   ]
  },
  {
   "cell_type": "code",
   "execution_count": 8,
   "metadata": {},
   "outputs": [
    {
     "data": {
      "text/plain": [
       "True"
      ]
     },
     "execution_count": 8,
     "metadata": {},
     "output_type": "execute_result"
    }
   ],
   "source": [
    "grammar.has_finite_max_depth()"
   ]
  },
  {
   "cell_type": "markdown",
   "metadata": {},
   "source": [
    "## Display nodes"
   ]
  },
  {
   "cell_type": "code",
   "execution_count": 9,
   "metadata": {
    "scrolled": true
   },
   "outputs": [
    {
     "data": {
      "text/html": [
       "<h4>LayerGraph</h4>\n",
       "<table border=\"1\" class=\"dataframe\">\n",
       "  <thead>\n",
       "    <tr style=\"text-align: right;\">\n",
       "      <th>node type</th>\n",
       "      <th>name</th>\n",
       "      <th>start</th>\n",
       "      <th>end</th>\n",
       "      <th>decoration</th>\n",
       "    </tr>\n",
       "  </thead>\n",
       "  <tbody>\n",
       "    <tr>\n",
       "      <td>PhonyNode</td>\n",
       "      <td>START</td>\n",
       "      <td>-inf</td>\n",
       "      <td>-inf</td>\n",
       "      <td>{}</td>\n",
       "    </tr>\n",
       "    <tr>\n",
       "      <td>TerminalNode</td>\n",
       "      <td>A</td>\n",
       "      <td>0</td>\n",
       "      <td>1</td>\n",
       "      <td>{}</td>\n",
       "    </tr>\n",
       "    <tr>\n",
       "      <td>NonTerminalNode</td>\n",
       "      <td>O</td>\n",
       "      <td>0</td>\n",
       "      <td>3</td>\n",
       "      <td>{'count': 1}</td>\n",
       "    </tr>\n",
       "    <tr>\n",
       "      <td>NonTerminalNode</td>\n",
       "      <td>N</td>\n",
       "      <td>0</td>\n",
       "      <td>3</td>\n",
       "      <td>{'count': 1}</td>\n",
       "    </tr>\n",
       "    <tr>\n",
       "      <td>TerminalNode</td>\n",
       "      <td>B</td>\n",
       "      <td>2</td>\n",
       "      <td>3</td>\n",
       "      <td>{}</td>\n",
       "    </tr>\n",
       "    <tr>\n",
       "      <td>NonTerminalNode</td>\n",
       "      <td>Q</td>\n",
       "      <td>2</td>\n",
       "      <td>5</td>\n",
       "      <td>{'count': 1}</td>\n",
       "    </tr>\n",
       "    <tr>\n",
       "      <td>NonTerminalNode</td>\n",
       "      <td>P</td>\n",
       "      <td>2</td>\n",
       "      <td>5</td>\n",
       "      <td>{'count': 1}</td>\n",
       "    </tr>\n",
       "    <tr>\n",
       "      <td>TerminalNode</td>\n",
       "      <td>C</td>\n",
       "      <td>4</td>\n",
       "      <td>5</td>\n",
       "      <td>{}</td>\n",
       "    </tr>\n",
       "    <tr>\n",
       "      <td>NonTerminalNode</td>\n",
       "      <td>R</td>\n",
       "      <td>4</td>\n",
       "      <td>9</td>\n",
       "      <td>{'count': 1}</td>\n",
       "    </tr>\n",
       "    <tr>\n",
       "      <td>NonTerminalNode</td>\n",
       "      <td>S</td>\n",
       "      <td>4</td>\n",
       "      <td>9</td>\n",
       "      <td>{'count': 1}</td>\n",
       "    </tr>\n",
       "    <tr>\n",
       "      <td>TerminalNode</td>\n",
       "      <td>D</td>\n",
       "      <td>6</td>\n",
       "      <td>7</td>\n",
       "      <td>{}</td>\n",
       "    </tr>\n",
       "    <tr>\n",
       "      <td>TerminalNode</td>\n",
       "      <td>E</td>\n",
       "      <td>8</td>\n",
       "      <td>9</td>\n",
       "      <td>{}</td>\n",
       "    </tr>\n",
       "    <tr>\n",
       "      <td>NonTerminalNode</td>\n",
       "      <td>T</td>\n",
       "      <td>8</td>\n",
       "      <td>9</td>\n",
       "      <td>{'count': 1}</td>\n",
       "    </tr>\n",
       "    <tr>\n",
       "      <td>TerminalNode</td>\n",
       "      <td>F</td>\n",
       "      <td>10</td>\n",
       "      <td>11</td>\n",
       "      <td>{}</td>\n",
       "    </tr>\n",
       "    <tr>\n",
       "      <td>NonTerminalNode</td>\n",
       "      <td>U</td>\n",
       "      <td>10</td>\n",
       "      <td>13</td>\n",
       "      <td>{'count': 1}</td>\n",
       "    </tr>\n",
       "    <tr>\n",
       "      <td>TerminalNode</td>\n",
       "      <td>G</td>\n",
       "      <td>12</td>\n",
       "      <td>13</td>\n",
       "      <td>{}</td>\n",
       "    </tr>\n",
       "    <tr>\n",
       "      <td>NonTerminalNode</td>\n",
       "      <td>V</td>\n",
       "      <td>12</td>\n",
       "      <td>15</td>\n",
       "      <td>{'count': 1}</td>\n",
       "    </tr>\n",
       "    <tr>\n",
       "      <td>TerminalNode</td>\n",
       "      <td>H</td>\n",
       "      <td>14</td>\n",
       "      <td>15</td>\n",
       "      <td>{}</td>\n",
       "    </tr>\n",
       "    <tr>\n",
       "      <td>NonTerminalNode</td>\n",
       "      <td>W</td>\n",
       "      <td>14</td>\n",
       "      <td>17</td>\n",
       "      <td>{'count': 1}</td>\n",
       "    </tr>\n",
       "    <tr>\n",
       "      <td>TerminalNode</td>\n",
       "      <td>I</td>\n",
       "      <td>16</td>\n",
       "      <td>17</td>\n",
       "      <td>{}</td>\n",
       "    </tr>\n",
       "    <tr>\n",
       "      <td>TerminalNode</td>\n",
       "      <td>J</td>\n",
       "      <td>18</td>\n",
       "      <td>19</td>\n",
       "      <td>{}</td>\n",
       "    </tr>\n",
       "    <tr>\n",
       "      <td>NonTerminalNode</td>\n",
       "      <td>X</td>\n",
       "      <td>18</td>\n",
       "      <td>21</td>\n",
       "      <td>{'count': 1}</td>\n",
       "    </tr>\n",
       "    <tr>\n",
       "      <td>TerminalNode</td>\n",
       "      <td>K</td>\n",
       "      <td>20</td>\n",
       "      <td>21</td>\n",
       "      <td>{}</td>\n",
       "    </tr>\n",
       "    <tr>\n",
       "      <td>NonTerminalNode</td>\n",
       "      <td>Y</td>\n",
       "      <td>20</td>\n",
       "      <td>23</td>\n",
       "      <td>{'count': 1}</td>\n",
       "    </tr>\n",
       "    <tr>\n",
       "      <td>TerminalNode</td>\n",
       "      <td>L</td>\n",
       "      <td>22</td>\n",
       "      <td>23</td>\n",
       "      <td>{}</td>\n",
       "    </tr>\n",
       "    <tr>\n",
       "      <td>NonTerminalNode</td>\n",
       "      <td>Z</td>\n",
       "      <td>22</td>\n",
       "      <td>25</td>\n",
       "      <td>{'count': 1}</td>\n",
       "    </tr>\n",
       "    <tr>\n",
       "      <td>TerminalNode</td>\n",
       "      <td>M</td>\n",
       "      <td>24</td>\n",
       "      <td>25</td>\n",
       "      <td>{}</td>\n",
       "    </tr>\n",
       "    <tr>\n",
       "      <td>PhonyNode</td>\n",
       "      <td>END</td>\n",
       "      <td>inf</td>\n",
       "      <td>inf</td>\n",
       "      <td>{}</td>\n",
       "    </tr>\n",
       "  </tbody>\n",
       "</table>"
      ],
      "text/plain": [
       "<estnltk.finite_grammar.layer_graph.LayerGraph at 0x7fbe52519c18>"
      ]
     },
     "execution_count": 9,
     "metadata": {},
     "output_type": "execute_result"
    }
   ],
   "source": [
    "graph"
   ]
  },
  {
   "cell_type": "code",
   "execution_count": 10,
   "metadata": {},
   "outputs": [
    {
     "data": {
      "text/plain": [
       "[PhonyNode(START, (-inf, -inf), 2795513439285960335),\n",
       " TerminalNode(A, (0, 1), -3815665651801647035),\n",
       " NonTerminalNode(O, (0, 3), -6255286152310744177),\n",
       " NonTerminalNode(N, (0, 3), -1296557959201267731),\n",
       " TerminalNode(B, (2, 3), 383858577313773005),\n",
       " NonTerminalNode(Q, (2, 5), -3491593641080462367),\n",
       " NonTerminalNode(P, (2, 5), -5995711263681466141),\n",
       " TerminalNode(C, (4, 5), -1306036643512321651),\n",
       " NonTerminalNode(R, (4, 9), -6775749806466806251),\n",
       " NonTerminalNode(S, (4, 9), -5235359237316552909),\n",
       " TerminalNode(D, (6, 7), 87685002235311053),\n",
       " TerminalNode(E, (8, 9), 2187856873293805509),\n",
       " NonTerminalNode(T, (8, 9), -7083370106739804563),\n",
       " TerminalNode(F, (10, 11), -7223737579580150467),\n",
       " NonTerminalNode(U, (10, 13), -4025160464544969087),\n",
       " TerminalNode(G, (12, 13), -1911042622703142667),\n",
       " NonTerminalNode(V, (12, 15), 2779574926077836890),\n",
       " TerminalNode(H, (14, 15), 4255912993786982693),\n",
       " NonTerminalNode(W, (14, 17), -7364655992119942577),\n",
       " TerminalNode(I, (16, 17), 4470013621801174061),\n",
       " TerminalNode(J, (18, 19), -7775250527910094099),\n",
       " NonTerminalNode(X, (18, 21), -4585619658021579425),\n",
       " TerminalNode(K, (20, 21), 5091335606799665461),\n",
       " NonTerminalNode(Y, (20, 23), -9215671373741009700),\n",
       " TerminalNode(L, (22, 23), 6250559364315438365),\n",
       " NonTerminalNode(Z, (22, 25), 8696768306143416661),\n",
       " TerminalNode(M, (24, 25), 8505780377037559597),\n",
       " PhonyNode(END, (inf, inf), 3348209251483848214)]"
      ]
     },
     "execution_count": 10,
     "metadata": {},
     "output_type": "execute_result"
    }
   ],
   "source": [
    "nodes = sorted(graph)\n",
    "nodes"
   ]
  },
  {
   "cell_type": "code",
   "execution_count": 11,
   "metadata": {
    "scrolled": true
   },
   "outputs": [
    {
     "data": {
      "text/html": [
       "<h4>NonTerminalNode</h4>\n",
       "<table border=\"1\" class=\"dataframe\">\n",
       "  <thead>\n",
       "    <tr style=\"text-align: right;\">\n",
       "      <th>name</th>\n",
       "      <th>start</th>\n",
       "      <th>end</th>\n",
       "      <th>decoration</th>\n",
       "    </tr>\n",
       "  </thead>\n",
       "  <tbody>\n",
       "    <tr>\n",
       "      <td>N</td>\n",
       "      <td>0</td>\n",
       "      <td>3</td>\n",
       "      <td>{'count': 1}</td>\n",
       "    </tr>\n",
       "  </tbody>\n",
       "</table><h5>Support</h5>\n",
       "<table border=\"1\" class=\"dataframe\">\n",
       "  <thead>\n",
       "    <tr style=\"text-align: right;\">\n",
       "      <th>node type</th>\n",
       "      <th>name</th>\n",
       "      <th>start</th>\n",
       "      <th>end</th>\n",
       "      <th>decoration</th>\n",
       "    </tr>\n",
       "  </thead>\n",
       "  <tbody>\n",
       "    <tr>\n",
       "      <td>TerminalNode</td>\n",
       "      <td>A</td>\n",
       "      <td>0</td>\n",
       "      <td>1</td>\n",
       "      <td>{}</td>\n",
       "    </tr>\n",
       "    <tr>\n",
       "      <td>TerminalNode</td>\n",
       "      <td>B</td>\n",
       "      <td>2</td>\n",
       "      <td>3</td>\n",
       "      <td>{}</td>\n",
       "    </tr>\n",
       "  </tbody>\n",
       "</table>"
      ],
      "text/plain": [
       "NonTerminalNode(N, (0, 3), -1296557959201267731)"
      ]
     },
     "execution_count": 11,
     "metadata": {},
     "output_type": "execute_result"
    }
   ],
   "source": [
    "nodes[3]"
   ]
  },
  {
   "cell_type": "markdown",
   "metadata": {},
   "source": [
    "## Resolve conflicts\n",
    "\n",
    "Use the same grammar to parse the same graph but also solve the conflicts. \n",
    "\n",
    "Note that\n",
    "1. P and N are in conflict. Priority of N is lower and so N and O are removed despite the fact that O has the highest priority among N, O, P and Q.\n",
    "2. P and R are in conflict, but priorities of P and R are equal, so none of them is removed.\n",
    "3. R and T are in different groups and therefore not in conflict.\n",
    "4. S and T are not in conflict.\n",
    "5. The conflicts between U, V and W can be solved in two ways. The remaining nodes can be U and W or U alone. The outcome is not determined. The same holds for X, Y and Z."
   ]
  },
  {
   "cell_type": "code",
   "execution_count": 12,
   "metadata": {},
   "outputs": [
    {
     "data": {
      "image/png": "[encoded data removed]",
      "text/plain": [
       "<matplotlib.figure.Figure at 0x7fbe4a5770f0>"
      ]
     },
     "metadata": {},
     "output_type": "display_data"
    }
   ],
   "source": [
    "graph = layer_to_graph(text['test_grammar'])\n",
    "parse_graph(graph, grammar, resolve_conflicts=True, debug=False)\n",
    "plot_graph(graph.parse_trees, 5)"
   ]
  },
  {
   "cell_type": "markdown",
   "metadata": {},
   "source": [
    "## Parse repetitions\n",
    "The `REP(.)` and `SEQ(.)` symbols are equivalent and help to parse repetitions in the graph. Both parse one or more repetitions of the symbol in the parentheses."
   ]
  },
  {
   "cell_type": "code",
   "execution_count": 13,
   "metadata": {},
   "outputs": [],
   "source": [
    "text = Text('a b c c c d')\n",
    "\n",
    "layer = Layer(name='test_grammar',\n",
    "              attributes=['grammar_symbol']\n",
    "              )\n",
    "layer.add_span(Span( 0,  1, legal_attributes=['grammar_symbol'], grammar_symbol='A'))\n",
    "layer.add_span(Span( 2,  3, legal_attributes=['grammar_symbol'], grammar_symbol='B'))\n",
    "layer.add_span(Span( 4,  5, legal_attributes=['grammar_symbol'], grammar_symbol='C'))\n",
    "layer.add_span(Span( 6,  7, legal_attributes=['grammar_symbol'], grammar_symbol='C'))\n",
    "layer.add_span(Span( 8,  9, legal_attributes=['grammar_symbol'], grammar_symbol='C'))\n",
    "layer.add_span(Span(10, 11, legal_attributes=['grammar_symbol'], grammar_symbol='D'))\n",
    "\n",
    "text['test_grammar'] = layer"
   ]
  },
  {
   "cell_type": "code",
   "execution_count": 14,
   "metadata": {
    "scrolled": false
   },
   "outputs": [
    {
     "data": {
      "image/png": "[encoded data removed]",
      "text/plain": [
       "<matplotlib.figure.Figure at 0x7fbe4a3eacf8>"
      ]
     },
     "metadata": {},
     "output_type": "display_data"
    }
   ],
   "source": [
    "grammar = Grammar(start_symbols=['E'])\n",
    "\n",
    "grammar.add(Rule('E', 'REP(B) SEQ(C) D', priority=3, group='g1'))\n",
    "graph = layer_to_graph(text['test_grammar'])\n",
    "parse_graph(graph, grammar, resolve_conflicts=False, width_limit=10, debug=False)\n",
    "\n",
    "plot_graph(graph.parse_trees, 6)"
   ]
  },
  {
   "cell_type": "markdown",
   "metadata": {},
   "source": [
    "## Grammar parsing tagger\n",
    "Grammar parsing tagger uses all above to create a new layer. The output are the spans that correspond to the start_symbols of the grammar."
   ]
  },
  {
   "cell_type": "code",
   "execution_count": 15,
   "metadata": {
    "scrolled": true
   },
   "outputs": [
    {
     "data": {
      "text/html": [
       "<h4>Tagger</h4>\n",
       "Parses input layer using grammar. Output layer envelopes input.\n",
       "<table border=\"1\" class=\"dataframe\">\n",
       "  <thead>\n",
       "    <tr style=\"text-align: right;\">\n",
       "      <th>name</th>\n",
       "      <th>layer</th>\n",
       "      <th>attributes</th>\n",
       "      <th>depends_on</th>\n",
       "    </tr>\n",
       "  </thead>\n",
       "  <tbody>\n",
       "    <tr>\n",
       "      <td>GrammarParsingTagger</td>\n",
       "      <td>parse</td>\n",
       "      <td>[name, _priority_, _group_]</td>\n",
       "      <td>[test_grammar]</td>\n",
       "    </tr>\n",
       "  </tbody>\n",
       "</table>\n",
       "<h4>Configuration</h4>\n",
       "<table border=\"1\" class=\"dataframe\">\n",
       "  <tbody>\n",
       "    <tr>\n",
       "      <th>resolve_conflicts</th>\n",
       "      <td>True</td>\n",
       "    </tr>\n",
       "  </tbody>\n",
       "</table>"
      ],
      "text/plain": [
       "GrammarParsingTagger(resolve_conflicts=True)"
      ]
     },
     "execution_count": 15,
     "metadata": {},
     "output_type": "execute_result"
    }
   ],
   "source": [
    "from estnltk.taggers.grammar_parsing.grammar_parsing_tagger import GrammarParsingTagger\n",
    "tagger = GrammarParsingTagger(grammar,'test_grammar', attributes=['name', '_priority_', '_group_'],\n",
    "                              resolve_conflicts=True)\n",
    "tagger"
   ]
  },
  {
   "cell_type": "code",
   "execution_count": 16,
   "metadata": {},
   "outputs": [
    {
     "data": {
      "text/html": [
       "<h4>SpanList</h4>\n",
       "<table border=\"1\" class=\"dataframe\">\n",
       "  <thead>\n",
       "    <tr style=\"text-align: right;\">\n",
       "      <th>layer name</th>\n",
       "      <th>attributes</th>\n",
       "      <th>parent</th>\n",
       "      <th>enveloping</th>\n",
       "      <th>ambiguous</th>\n",
       "      <th>span count</th>\n",
       "    </tr>\n",
       "  </thead>\n",
       "  <tbody>\n",
       "    <tr>\n",
       "      <td>parse</td>\n",
       "      <td>name, _priority_, _group_</td>\n",
       "      <td>None</td>\n",
       "      <td>test_grammar</td>\n",
       "      <td>False</td>\n",
       "      <td>1</td>\n",
       "    </tr>\n",
       "  </tbody>\n",
       "</table>\n",
       "<table border=\"1\" class=\"dataframe\">\n",
       "  <thead>\n",
       "    <tr style=\"text-align: right;\">\n",
       "      <th>text</th>\n",
       "      <th>start</th>\n",
       "      <th>end</th>\n",
       "      <th>name</th>\n",
       "      <th>_priority_</th>\n",
       "      <th>_group_</th>\n",
       "    </tr>\n",
       "  </thead>\n",
       "  <tbody>\n",
       "    <tr>\n",
       "      <td><b>b</b> <b>c</b> <b>c</b> <b>c</b> <b>d</b></td>\n",
       "      <td>2</td>\n",
       "      <td>11</td>\n",
       "      <td>E</td>\n",
       "      <td>3</td>\n",
       "      <td>g1</td>\n",
       "    </tr>\n",
       "  </tbody>\n",
       "</table>"
      ],
      "text/plain": [
       "SL[SL[Span(b, {'grammar_symbol': 'B'}),\n",
       "Span(c, {'grammar_symbol': 'C'}),\n",
       "Span(c, {'grammar_symbol': 'C'}),\n",
       "Span(c, {'grammar_symbol': 'C'}),\n",
       "Span(d, {'grammar_symbol': 'D'})]]"
      ]
     },
     "execution_count": 16,
     "metadata": {},
     "output_type": "execute_result"
    }
   ],
   "source": [
    "tagger.tag(text)\n",
    "text.parse"
   ]
  },
  {
   "cell_type": "markdown",
   "metadata": {},
   "source": [
    "# PhraseListTagger\n",
    "## Example 1"
   ]
  },
  {
   "cell_type": "code",
   "execution_count": 17,
   "metadata": {},
   "outputs": [
    {
     "data": {
      "text/html": [
       "<table border=\"1\" class=\"dataframe\">\n",
       "  <thead>\n",
       "    <tr style=\"text-align: right;\">\n",
       "      <th>text</th>\n",
       "    </tr>\n",
       "  </thead>\n",
       "  <tbody>\n",
       "    <tr>\n",
       "      <td>Patsient lasi jalga, sest vasaku jala suure varba pika                painutajalihase kõõluse rebend ajas tal kopsu üle maksa.</td>\n",
       "    </tr>\n",
       "  </tbody>\n",
       "</table>\n",
       "<table border=\"1\" class=\"dataframe\">\n",
       "  <thead>\n",
       "    <tr style=\"text-align: right;\">\n",
       "      <th>layer name</th>\n",
       "      <th>attributes</th>\n",
       "      <th>parent</th>\n",
       "      <th>enveloping</th>\n",
       "      <th>ambiguous</th>\n",
       "      <th>span count</th>\n",
       "    </tr>\n",
       "  </thead>\n",
       "  <tbody>\n",
       "    <tr>\n",
       "      <td>sentences</td>\n",
       "      <td></td>\n",
       "      <td>None</td>\n",
       "      <td>words</td>\n",
       "      <td>False</td>\n",
       "      <td>1</td>\n",
       "    </tr>\n",
       "    <tr>\n",
       "      <td>words</td>\n",
       "      <td>normalized_form</td>\n",
       "      <td>None</td>\n",
       "      <td>None</td>\n",
       "      <td>False</td>\n",
       "      <td>19</td>\n",
       "    </tr>\n",
       "    <tr>\n",
       "      <td>morph_analysis</td>\n",
       "      <td>lemma, root, root_tokens, ending, clitic, form, partofspeech</td>\n",
       "      <td>words</td>\n",
       "      <td>None</td>\n",
       "      <td>True</td>\n",
       "      <td>19</td>\n",
       "    </tr>\n",
       "  </tbody>\n",
       "</table>"
      ],
      "text/plain": [
       "Text(text=\"Patsient lasi jalga, sest vasaku jala suure varba pika                painutajalihase kõõluse rebend ajas tal kopsu üle maksa.\")"
      ]
     },
     "execution_count": 17,
     "metadata": {},
     "output_type": "execute_result"
    }
   ],
   "source": [
    "from estnltk import Text\n",
    "text_1 = Text('Patsient lasi jalga, sest vasaku jala suure varba pika \\\n",
    "               painutajalihase kõõluse rebend ajas tal kopsu üle maksa.')\n",
    "text_1.analyse('morphology')"
   ]
  },
  {
   "cell_type": "code",
   "execution_count": 18,
   "metadata": {},
   "outputs": [
    {
     "data": {
      "text/html": [
       "<h4>Tagger</h4>\n",
       "Tags event sequences.\n",
       "<table border=\"1\" class=\"dataframe\">\n",
       "  <thead>\n",
       "    <tr style=\"text-align: right;\">\n",
       "      <th>name</th>\n",
       "      <th>layer</th>\n",
       "      <th>attributes</th>\n",
       "      <th>depends_on</th>\n",
       "    </tr>\n",
       "  </thead>\n",
       "  <tbody>\n",
       "    <tr>\n",
       "      <td>PhraseListTagger</td>\n",
       "      <td>body_parts</td>\n",
       "      <td>(match,)</td>\n",
       "      <td>[morph_analysis]</td>\n",
       "    </tr>\n",
       "  </tbody>\n",
       "</table>\n",
       "<h4>Configuration</h4>\n",
       "<table border=\"1\" class=\"dataframe\">\n",
       "  <tbody>\n",
       "    <tr>\n",
       "      <th>attributes</th>\n",
       "      <td>('match',)</td>\n",
       "    </tr>\n",
       "    <tr>\n",
       "      <th>conflict_resolving_strategy</th>\n",
       "      <td>MAX</td>\n",
       "    </tr>\n",
       "    <tr>\n",
       "      <th>decorator</th>\n",
       "      <td>&lt;function decorator at 0x7fbe4a393840&gt;</td>\n",
       "    </tr>\n",
       "    <tr>\n",
       "      <th>input_attribute</th>\n",
       "      <td>lemma</td>\n",
       "    </tr>\n",
       "    <tr>\n",
       "      <th>input_layer</th>\n",
       "      <td>morph_analysis</td>\n",
       "    </tr>\n",
       "    <tr>\n",
       "      <th>layer_name</th>\n",
       "      <td>body_parts</td>\n",
       "    </tr>\n",
       "    <tr>\n",
       "      <th>phrase_list</th>\n",
       "      <td>14 phrases</td>\n",
       "    </tr>\n",
       "    <tr>\n",
       "      <th>validator</th>\n",
       "      <td>&lt;function consistency_checker at 0x7fbe4a393488&gt;</td>\n",
       "    </tr>\n",
       "  </tbody>\n",
       "</table>"
      ],
      "text/plain": [
       "PhraseListTagger(attributes=('match',), conflict_resolving_strategy=MAX, decorator=<function decorator at 0x7fbe4a393840>, input_attribute=lemma, input_layer=morph_analysis, layer_name=body_parts, phrase_list=14 phrases, validator=<function consistency_checker at 0x7fbe4a393488>)"
      ]
     },
     "execution_count": 18,
     "metadata": {},
     "output_type": "execute_result"
    }
   ],
   "source": [
    "from estnltk.finite_grammar import PhraseListTagger\n",
    "\n",
    "phrase_list = [\n",
    "               ('jalg'),\n",
    "               ('vasak', 'jalg',),\n",
    "               ('parem', 'jalg',),\n",
    "               ('kops',),\n",
    "               ('vasak', 'kops'),\n",
    "               ('parem', 'kops'),\n",
    "               ('kõõlus',),\n",
    "               ('lihas',),\n",
    "               ('maks',),\n",
    "               ('neer',),\n",
    "               ('parem', 'neer'),\n",
    "               ('vasak', 'neer'),\n",
    "               ('varvas',),\n",
    "               ('suur', 'varvas'),\n",
    "              ]\n",
    "\n",
    "def decorator(text, span, phrase):\n",
    "    return {'match': phrase, 'dfsd':None}\n",
    "\n",
    "def consistency_checker(text, span, phrase):\n",
    "    return True\n",
    "\n",
    "tagger = PhraseListTagger(layer_name='body_parts',\n",
    "                          input_layer='morph_analysis',\n",
    "                          input_attribute='lemma',\n",
    "                          phrase_list=phrase_list,\n",
    "                          attributes=('match',),\n",
    "                          decorator=decorator,\n",
    "                          consistency_checker=consistency_checker,\n",
    "                          conflict_resolving_strategy= 'MAX')\n",
    "tagger"
   ]
  },
  {
   "cell_type": "code",
   "execution_count": 19,
   "metadata": {},
   "outputs": [
    {
     "data": {
      "text/html": [
       "<table border=\"1\" class=\"dataframe\">\n",
       "  <thead>\n",
       "    <tr style=\"text-align: right;\">\n",
       "      <th>text</th>\n",
       "    </tr>\n",
       "  </thead>\n",
       "  <tbody>\n",
       "    <tr>\n",
       "      <td>Patsient lasi jalga, sest vasaku jala suure varba pika                painutajalihase kõõluse rebend ajas tal kopsu üle maksa.</td>\n",
       "    </tr>\n",
       "  </tbody>\n",
       "</table>\n",
       "<table border=\"1\" class=\"dataframe\">\n",
       "  <thead>\n",
       "    <tr style=\"text-align: right;\">\n",
       "      <th>layer name</th>\n",
       "      <th>attributes</th>\n",
       "      <th>parent</th>\n",
       "      <th>enveloping</th>\n",
       "      <th>ambiguous</th>\n",
       "      <th>span count</th>\n",
       "    </tr>\n",
       "  </thead>\n",
       "  <tbody>\n",
       "    <tr>\n",
       "      <td>sentences</td>\n",
       "      <td></td>\n",
       "      <td>None</td>\n",
       "      <td>words</td>\n",
       "      <td>False</td>\n",
       "      <td>1</td>\n",
       "    </tr>\n",
       "    <tr>\n",
       "      <td>words</td>\n",
       "      <td>normalized_form</td>\n",
       "      <td>None</td>\n",
       "      <td>None</td>\n",
       "      <td>False</td>\n",
       "      <td>19</td>\n",
       "    </tr>\n",
       "    <tr>\n",
       "      <td>morph_analysis</td>\n",
       "      <td>lemma, root, root_tokens, ending, clitic, form, partofspeech</td>\n",
       "      <td>words</td>\n",
       "      <td>None</td>\n",
       "      <td>True</td>\n",
       "      <td>19</td>\n",
       "    </tr>\n",
       "    <tr>\n",
       "      <td>body_parts</td>\n",
       "      <td>match</td>\n",
       "      <td>None</td>\n",
       "      <td>morph_analysis</td>\n",
       "      <td>False</td>\n",
       "      <td>4</td>\n",
       "    </tr>\n",
       "  </tbody>\n",
       "</table>"
      ],
      "text/plain": [
       "Text(text=\"Patsient lasi jalga, sest vasaku jala suure varba pika                painutajalihase kõõluse rebend ajas tal kopsu üle maksa.\")"
      ]
     },
     "execution_count": 19,
     "metadata": {},
     "output_type": "execute_result"
    }
   ],
   "source": [
    "tagger.tag(text_1)"
   ]
  },
  {
   "cell_type": "code",
   "execution_count": 20,
   "metadata": {},
   "outputs": [
    {
     "data": {
      "text/html": [
       "<h4>Layer</h4>\n",
       "<table border=\"1\" class=\"dataframe\">\n",
       "  <thead>\n",
       "    <tr style=\"text-align: right;\">\n",
       "      <th>layer name</th>\n",
       "      <th>attributes</th>\n",
       "      <th>parent</th>\n",
       "      <th>enveloping</th>\n",
       "      <th>ambiguous</th>\n",
       "      <th>span count</th>\n",
       "    </tr>\n",
       "  </thead>\n",
       "  <tbody>\n",
       "    <tr>\n",
       "      <td>body_parts</td>\n",
       "      <td>match</td>\n",
       "      <td>None</td>\n",
       "      <td>morph_analysis</td>\n",
       "      <td>False</td>\n",
       "      <td>4</td>\n",
       "    </tr>\n",
       "  </tbody>\n",
       "</table>\n",
       "<table border=\"1\" class=\"dataframe\">\n",
       "  <thead>\n",
       "    <tr style=\"text-align: right;\">\n",
       "      <th>text</th>\n",
       "      <th>match</th>\n",
       "    </tr>\n",
       "  </thead>\n",
       "  <tbody>\n",
       "    <tr>\n",
       "      <td><b>vasaku</b> <b>jala</b></td>\n",
       "      <td>(vasak, jalg)</td>\n",
       "    </tr>\n",
       "    <tr>\n",
       "      <td><b>suure</b> <b>varba</b></td>\n",
       "      <td>(suur, varvas)</td>\n",
       "    </tr>\n",
       "    <tr>\n",
       "      <td><b>kõõluse</b></td>\n",
       "      <td>(kõõlus,)</td>\n",
       "    </tr>\n",
       "    <tr>\n",
       "      <td><b>kopsu</b></td>\n",
       "      <td>(kops,)</td>\n",
       "    </tr>\n",
       "  </tbody>\n",
       "</table>"
      ],
      "text/plain": [
       "Layer(name=body_parts, spans=SL[SL[SL[Span(vasaku, {'clitic': '', 'ending': '0', 'form': 'sg g', 'lemma': 'vasak', 'partofspeech': 'A', 'root': 'vasak', 'root_tokens': ('vasak',)})],\n",
       "SL[Span(jala, {'clitic': '', 'ending': '0', 'form': 'sg g', 'lemma': 'jalg', 'partofspeech': 'S', 'root': 'jalg', 'root_tokens': ('jalg',)})]],\n",
       "SL[SL[Span(suure, {'clitic': '', 'ending': '0', 'form': 'sg g', 'lemma': 'suur', 'partofspeech': 'A', 'root': 'suur', 'root_tokens': ('suur',)})],\n",
       "SL[Span(varba, {'clitic': '', 'ending': '0', 'form': 'sg g', 'lemma': 'varvas', 'partofspeech': 'S', 'root': 'varvas', 'root_tokens': ('varvas',)})]],\n",
       "SL[SL[Span(kõõluse, {'clitic': '', 'ending': '0', 'form': 'sg g', 'lemma': 'kõõlus', 'partofspeech': 'S', 'root': 'kõõlus', 'root_tokens': ('kõõlus',)})]],\n",
       "SL[SL[Span(kopsu, {'clitic': '', 'ending': '0', 'form': 'adt', 'lemma': 'kops', 'partofspeech': 'S', 'root': 'kops', 'root_tokens': ('kops',)})]]])"
      ]
     },
     "execution_count": 20,
     "metadata": {},
     "output_type": "execute_result"
    }
   ],
   "source": [
    "text_1['body_parts']"
   ]
  },
  {
   "cell_type": "markdown",
   "metadata": {},
   "source": [
    "Note that 'maksa' is not tagged. This is because Vabamorf thinks its lemma is 'maksma'."
   ]
  },
  {
   "cell_type": "markdown",
   "metadata": {},
   "source": [
    "## Example 2: postprocessing\n",
    "Suppose that we want to postprocess the layer before adding it to the text object. Here we add an attribute 'latin_term' to the layer."
   ]
  },
  {
   "cell_type": "code",
   "execution_count": 21,
   "metadata": {},
   "outputs": [
    {
     "data": {
      "text/html": [
       "<h4>Layer</h4>\n",
       "<table border=\"1\" class=\"dataframe\">\n",
       "  <thead>\n",
       "    <tr style=\"text-align: right;\">\n",
       "      <th>layer name</th>\n",
       "      <th>attributes</th>\n",
       "      <th>parent</th>\n",
       "      <th>enveloping</th>\n",
       "      <th>ambiguous</th>\n",
       "      <th>span count</th>\n",
       "    </tr>\n",
       "  </thead>\n",
       "  <tbody>\n",
       "    <tr>\n",
       "      <td>body_parts</td>\n",
       "      <td>match, latin_term</td>\n",
       "      <td>None</td>\n",
       "      <td>morph_analysis</td>\n",
       "      <td>False</td>\n",
       "      <td>3</td>\n",
       "    </tr>\n",
       "  </tbody>\n",
       "</table>\n",
       "<table border=\"1\" class=\"dataframe\">\n",
       "  <thead>\n",
       "    <tr style=\"text-align: right;\">\n",
       "      <th>text</th>\n",
       "      <th>match</th>\n",
       "      <th>latin_term</th>\n",
       "    </tr>\n",
       "  </thead>\n",
       "  <tbody>\n",
       "    <tr>\n",
       "      <td><b>suure</b> <b>varba</b></td>\n",
       "      <td>(suur, varvas)</td>\n",
       "      <td>hallux</td>\n",
       "    </tr>\n",
       "    <tr>\n",
       "      <td><b>kõõluse</b></td>\n",
       "      <td>(kõõlus,)</td>\n",
       "      <td>tendo</td>\n",
       "    </tr>\n",
       "    <tr>\n",
       "      <td><b>kopsu</b></td>\n",
       "      <td>(kops,)</td>\n",
       "      <td>pulmo</td>\n",
       "    </tr>\n",
       "  </tbody>\n",
       "</table>"
      ],
      "text/plain": [
       "Layer(name=body_parts, spans=SL[SL[SL[Span(suure, {'clitic': '', 'ending': '0', 'form': 'sg g', 'lemma': 'suur', 'partofspeech': 'A', 'root': 'suur', 'root_tokens': ('suur',)})],\n",
       "SL[Span(varba, {'clitic': '', 'ending': '0', 'form': 'sg g', 'lemma': 'varvas', 'partofspeech': 'S', 'root': 'varvas', 'root_tokens': ('varvas',)})]],\n",
       "SL[SL[Span(kõõluse, {'clitic': '', 'ending': '0', 'form': 'sg g', 'lemma': 'kõõlus', 'partofspeech': 'S', 'root': 'kõõlus', 'root_tokens': ('kõõlus',)})]],\n",
       "SL[SL[Span(kopsu, {'clitic': '', 'ending': '0', 'form': 'adt', 'lemma': 'kops', 'partofspeech': 'S', 'root': 'kops', 'root_tokens': ('kops',)})]]])"
      ]
     },
     "execution_count": 21,
     "metadata": {},
     "output_type": "execute_result"
    }
   ],
   "source": [
    "text = Text('Vasaku jala suure varba pika painutajalihase kõõluse rebend ajas patsiendi kopsu üle maksa.')\n",
    "text.analyse('morphology')\n",
    "latin_dict = {('suur', 'varvas'):'hallux', ('kõõlus',):'tendo', ('kops',):'pulmo'}\n",
    "\n",
    "layer = tagger.tag(text, return_layer=True)\n",
    "layer.attributes = ('match','latin_term')\n",
    "for s in layer:\n",
    "    s.latin_term = latin_dict[s.match]\n",
    "text['body_parts'] = layer\n",
    "text['body_parts']"
   ]
  }
 ],
 "metadata": {
  "kernelspec": {
   "display_name": "Python 3",
   "language": "python",
   "name": "python3"
  },
  "language_info": {
   "codemirror_mode": {
    "name": "ipython",
    "version": 3
   },
   "file_extension": ".py",
   "mimetype": "text/x-python",
   "name": "python",
   "nbconvert_exporter": "python",
   "pygments_lexer": "ipython3",
   "version": "3.5.4"
  }
 },
 "nbformat": 4,
 "nbformat_minor": 2
}
