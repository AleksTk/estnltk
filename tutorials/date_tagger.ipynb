{
 "cells": [
  {
   "cell_type": "code",
   "execution_count": 1,
   "metadata": {
    "collapsed": false
   },
   "outputs": [],
   "source": [
    "from estnltk.taggers import DateTagger\n",
    "from estnltk import Text"
   ]
  },
  {
   "cell_type": "code",
   "execution_count": 2,
   "metadata": {
    "collapsed": true
   },
   "outputs": [],
   "source": [
    "datetagger = DateTagger()"
   ]
  },
  {
   "cell_type": "code",
   "execution_count": 3,
   "metadata": {
    "collapsed": false
   },
   "outputs": [],
   "source": [
    "text = Text('''07.07.2011 14:25 - KOLK, REIN - D04946 - E170 - kardioloogia. \n",
    "Tuleb 28.05., enne KTG.\n",
    "pt.-l 2007a.-l diagnoositud sügatõbi:',\n",
    "'11.09.13. tehtud S.Rhesonatiivi 1250TÜ i/m',\n",
    "'Eelmine kord 2009 ja diagnoosika jäi reaktiivne artropaatia',\n",
    "            'haava revideerimine od kl 21.20',\n",
    "' 17.09.2013.a. kell 06:09 sünnib elus ajaline T 3250/50.',\n",
    "'Kontrolli 20.04.2013 kell 11.00 I-korrus, \n",
    "'Lõikus 4.1.2013.',\n",
    "'Kontrollile- 09.2011'\n",
    "\"05.09.2012 tehtud SKG\n",
    "1.09 angiograafia leid \n",
    "02.09 kell 09.15 taastus siinusrütm''')"
   ]
  },
  {
   "cell_type": "code",
   "execution_count": 4,
   "metadata": {
    "collapsed": false
   },
   "outputs": [
    {
     "data": {
      "text/html": [
       "<table border=\"1\" class=\"dataframe\">\n",
       "  <thead>\n",
       "    <tr style=\"text-align: right;\">\n",
       "      <th>text</th>\n",
       "      <th>date_text</th>\n",
       "      <th>type</th>\n",
       "      <th>probability</th>\n",
       "      <th>groups</th>\n",
       "      <th>extracted_values</th>\n",
       "    </tr>\n",
       "  </thead>\n",
       "  <tbody>\n",
       "    <tr>\n",
       "      <td>07.07.2011 14:25</td>\n",
       "      <td>07.07.2011 14:25</td>\n",
       "      <td>date_time</td>\n",
       "      <td>0.9</td>\n",
       "      <td>{'MONTH': '07', 'hour': '14', 'second': None, 'YEAR': '2011', 'minute': '25', 'DAY': '07'}</td>\n",
       "      <td>2011-07-07 14:25:00</td>\n",
       "    </tr>\n",
       "    <tr>\n",
       "      <td>28.05</td>\n",
       "      <td>28.05</td>\n",
       "      <td>partial_date</td>\n",
       "      <td>0.3</td>\n",
       "      <td>{'MONTH': '05', 'DAY': '28'}</td>\n",
       "      <td>None</td>\n",
       "    </tr>\n",
       "    <tr>\n",
       "      <td>2007a</td>\n",
       "      <td>2007a</td>\n",
       "      <td>partial_date</td>\n",
       "      <td>0.8</td>\n",
       "      <td>{'LONGYEAR': '2007'}</td>\n",
       "      <td>None</td>\n",
       "    </tr>\n",
       "    <tr>\n",
       "      <td>11.09.13</td>\n",
       "      <td>11.09.13</td>\n",
       "      <td>date</td>\n",
       "      <td>0.8</td>\n",
       "      <td>{'MONTH': '09', 'YEAR': '13', 'DAY': '11'}</td>\n",
       "      <td>2013-09-11</td>\n",
       "    </tr>\n",
       "    <tr>\n",
       "      <td>2009</td>\n",
       "      <td>2009</td>\n",
       "      <td>partial_date</td>\n",
       "      <td>0.4</td>\n",
       "      <td>{'LONGYEAR': '2009'}</td>\n",
       "      <td>None</td>\n",
       "    </tr>\n",
       "    <tr>\n",
       "      <td>kl 21.20</td>\n",
       "      <td>kl 21.20</td>\n",
       "      <td>time</td>\n",
       "      <td>1.0</td>\n",
       "      <td>{'hour': '21', 'minute': '20', 'second': None}</td>\n",
       "      <td>21:20:00</td>\n",
       "    </tr>\n",
       "    <tr>\n",
       "      <td>17.09.2013.a. kell 06:09</td>\n",
       "      <td>17.09.2013.a. kell 06:09</td>\n",
       "      <td>date_time</td>\n",
       "      <td>1.0</td>\n",
       "      <td>{'MONTH': '09', 'hour': '06', 'second': None, 'YEAR': '2013', 'minute': '09', 'DAY': '17'}</td>\n",
       "      <td>2013-09-17 06:09:00</td>\n",
       "    </tr>\n",
       "    <tr>\n",
       "      <td>20.04.2013 kell 11.00</td>\n",
       "      <td>20.04.2013 kell 11.00</td>\n",
       "      <td>date_time</td>\n",
       "      <td>1.0</td>\n",
       "      <td>{'MONTH': '04', 'hour': '11', 'second': None, 'YEAR': '2013', 'minute': '00', 'DAY': '20'}</td>\n",
       "      <td>2013-04-20 11:00:00</td>\n",
       "    </tr>\n",
       "    <tr>\n",
       "      <td>4.1.2013</td>\n",
       "      <td>4.1.2013</td>\n",
       "      <td>date</td>\n",
       "      <td>0.8</td>\n",
       "      <td>{'MONTH': '1', 'YEAR': '2013', 'DAY': '4'}</td>\n",
       "      <td>2013-01-04</td>\n",
       "    </tr>\n",
       "    <tr>\n",
       "      <td>09.2011</td>\n",
       "      <td>09.2011</td>\n",
       "      <td>partial_date</td>\n",
       "      <td>0.6</td>\n",
       "      <td>{'MONTH': '09', 'LONGYEAR': '2011'}</td>\n",
       "      <td>None</td>\n",
       "    </tr>\n",
       "    <tr>\n",
       "      <td>05.09.2012</td>\n",
       "      <td>05.09.2012</td>\n",
       "      <td>date</td>\n",
       "      <td>0.8</td>\n",
       "      <td>{'MONTH': '09', 'YEAR': '2012', 'DAY': '05'}</td>\n",
       "      <td>2012-09-05</td>\n",
       "    </tr>\n",
       "    <tr>\n",
       "      <td>1.09</td>\n",
       "      <td>1.09</td>\n",
       "      <td>partial_date</td>\n",
       "      <td>0.3</td>\n",
       "      <td>{'MONTH': '09', 'DAY': '1'}</td>\n",
       "      <td>None</td>\n",
       "    </tr>\n",
       "    <tr>\n",
       "      <td>02.09 kell 09.15</td>\n",
       "      <td>02.09 kell 09.15</td>\n",
       "      <td>partial_date</td>\n",
       "      <td>0.8</td>\n",
       "      <td>{'MONTH': '09', 'hour': '09', 'minute': '15', 'second': None, 'DAY': '02'}</td>\n",
       "      <td>09:15:00</td>\n",
       "    </tr>\n",
       "  </tbody>\n",
       "</table>"
      ],
      "text/plain": [
       "<estnltk.text.Layer at 0x7ff0dc2f9cc0>"
      ]
     },
     "execution_count": 4,
     "metadata": {},
     "output_type": "execute_result"
    }
   ],
   "source": [
    "datetagger.tag(text)\n",
    "text['dates']"
   ]
  }
 ],
 "metadata": {
  "kernelspec": {
   "display_name": "Python [py35]",
   "language": "python",
   "name": "Python [py35]"
  },
  "language_info": {
   "codemirror_mode": {
    "name": "ipython",
    "version": 3
   },
   "file_extension": ".py",
   "mimetype": "text/x-python",
   "name": "python",
   "nbconvert_exporter": "python",
   "pygments_lexer": "ipython3",
   "version": "3.5.3"
  }
 },
 "nbformat": 4,
 "nbformat_minor": 0
}
