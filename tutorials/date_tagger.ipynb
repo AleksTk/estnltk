{
 "cells": [
  {
   "cell_type": "code",
   "execution_count": 1,
   "metadata": {
    "collapsed": false
   },
   "outputs": [],
   "source": [
    "from estnltk.taggers.raw_text_tagging.date_tagger.date_tagger import DateTagger\n",
    "from estnltk import Text"
   ]
  },
  {
   "cell_type": "code",
   "execution_count": 3,
   "metadata": {
    "collapsed": true
   },
   "outputs": [],
   "source": [
    "datetagger = DateTagger()"
   ]
  },
  {
   "cell_type": "code",
   "execution_count": 4,
   "metadata": {
    "collapsed": false
   },
   "outputs": [],
   "source": [
    "text = Text('''07.07.2011 14:25 - KOLK, REIN - D04946 - E170 - kardioloogia. \n",
    "Tuleb 28.05., enne KTG.\n",
    "pt.-l 2007a.-l diagnoositud sügatõbi:',\n",
    "'11.09.13. tehtud S.Rhesonatiivi 1250TÜ i/m',\n",
    "'Eelmine kord 2009 ja diagnoosika jäi reaktiivne artropaatia',\n",
    "            'haava revideerimine od kl 21.20',\n",
    "' 17.09.2013.a. kell 06:09 sünnib elus ajaline T 3250/50.',\n",
    "'Kontrolli 20.04.2013 kell 11.00 I-korrus, \n",
    "'Lõikus 4.1.2013.',\n",
    "'Kontrollile- 09.2011'\n",
    "\"05.09.2012 tehtud SKG\n",
    "1.09 angiograafia leid \n",
    "02.09 kell 09.15 taastus siinusrütm''')"
   ]
  },
  {
   "cell_type": "code",
   "execution_count": 5,
   "metadata": {
    "collapsed": false
   },
   "outputs": [
    {
     "data": {
      "text/plain": [
       "SL[Span(07.07.2011 14:25, {'extracted_values': datetime.datetime(2011, 7, 7, 14, 25), 'groups': {'second': None, 'YEAR': '2011', 'DAY': '07', 'minute': '25', 'MONTH': '07', 'hour': '14'}, 'probability': '0.9', 'date_text': '07.07.2011 14:25', 'type': 'date_time'}),\n",
       "Span(28.05, {'extracted_values': None, 'groups': {'DAY': '28', 'MONTH': '05'}, 'probability': '0.3', 'date_text': '28.05', 'type': 'partial_date'}),\n",
       "Span(2007a, {'extracted_values': None, 'groups': {'LONGYEAR': '2007'}, 'probability': '0.8', 'date_text': '2007a', 'type': 'partial_date'}),\n",
       "Span(11.09.13, {'extracted_values': datetime.date(2013, 9, 11), 'groups': {'DAY': '11', 'YEAR': '13', 'MONTH': '09'}, 'probability': '0.8', 'date_text': '11.09.13', 'type': 'date'}),\n",
       "Span(2009, {'extracted_values': None, 'groups': {'LONGYEAR': '2009'}, 'probability': '0.4', 'date_text': '2009', 'type': 'partial_date'}),\n",
       "Span(kl 21.20, {'extracted_values': datetime.time(21, 20), 'groups': {'second': None, 'minute': '20', 'hour': '21'}, 'probability': '1.0', 'date_text': 'kl 21.20', 'type': 'time'}),\n",
       "Span(17.09.2013.a. kell 06:09, {'extracted_values': datetime.datetime(2013, 9, 17, 6, 9), 'groups': {'second': None, 'YEAR': '2013', 'DAY': '17', 'minute': '09', 'MONTH': '09', 'hour': '06'}, 'probability': '1.0', 'date_text': '17.09.2013.a. kell 06:09', 'type': 'date_time'}),\n",
       "Span(20.04.2013 kell 11.00, {'extracted_values': datetime.datetime(2013, 4, 20, 11, 0), 'groups': {'second': None, 'YEAR': '2013', 'DAY': '20', 'minute': '00', 'MONTH': '04', 'hour': '11'}, 'probability': '1.0', 'date_text': '20.04.2013 kell 11.00', 'type': 'date_time'}),\n",
       "Span(4.1.2013, {'extracted_values': datetime.date(2013, 1, 4), 'groups': {'DAY': '4', 'YEAR': '2013', 'MONTH': '1'}, 'probability': '0.8', 'date_text': '4.1.2013', 'type': 'date'}),\n",
       "Span(09.2011, {'extracted_values': None, 'groups': {'MONTH': '09', 'LONGYEAR': '2011'}, 'probability': '0.6', 'date_text': '09.2011', 'type': 'partial_date'}),\n",
       "Span(05.09.2012, {'extracted_values': datetime.date(2012, 9, 5), 'groups': {'DAY': '05', 'YEAR': '2012', 'MONTH': '09'}, 'probability': '0.8', 'date_text': '05.09.2012', 'type': 'date'}),\n",
       "Span(1.09, {'extracted_values': None, 'groups': {'DAY': '1', 'MONTH': '09'}, 'probability': '0.3', 'date_text': '1.09', 'type': 'partial_date'}),\n",
       "Span(02.09 kell 09.15, {'extracted_values': datetime.time(9, 15), 'groups': {'second': None, 'hour': '09', 'MONTH': '09', 'DAY': '02', 'minute': '15'}, 'probability': '0.8', 'date_text': '02.09 kell 09.15', 'type': 'partial_date'})]"
      ]
     },
     "execution_count": 5,
     "metadata": {},
     "output_type": "execute_result"
    }
   ],
   "source": [
    "datetagger.tag(text)"
   ]
  }
 ],
 "metadata": {
  "kernelspec": {
   "display_name": "Python 3",
   "language": "python",
   "name": "python3"
  },
  "language_info": {
   "codemirror_mode": {
    "name": "ipython",
    "version": 3
   },
   "file_extension": ".py",
   "mimetype": "text/x-python",
   "name": "python",
   "nbconvert_exporter": "python",
   "pygments_lexer": "ipython3",
   "version": "3.5.3"
  }
 },
 "nbformat": 4,
 "nbformat_minor": 0
}
