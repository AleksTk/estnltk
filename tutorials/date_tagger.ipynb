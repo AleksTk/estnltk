{
 "cells": [
  {
   "cell_type": "code",
   "execution_count": 1,
   "metadata": {
    "collapsed": false
   },
   "outputs": [],
   "source": [
    "from estnltk.taggers import DateTagger\n",
    "from estnltk import Text"
   ]
  },
  {
   "cell_type": "code",
   "execution_count": 2,
   "metadata": {
    "collapsed": false
   },
   "outputs": [
    {
     "ename": "AttributeError",
     "evalue": "'RegexTagger' object has no attribute 'configuration'",
     "output_type": "error",
     "traceback": [
      "\u001b[0;31m---------------------------------------------------------------------------\u001b[0m",
      "\u001b[0;31mAttributeError\u001b[0m                            Traceback (most recent call last)",
      "\u001b[0;32m<ipython-input-2-883c7e79916c>\u001b[0m in \u001b[0;36m<module>\u001b[0;34m()\u001b[0m\n\u001b[0;32m----> 1\u001b[0;31m \u001b[0mdatetagger\u001b[0m \u001b[0;34m=\u001b[0m \u001b[0mDateTagger\u001b[0m\u001b[0;34m(\u001b[0m\u001b[0;34m)\u001b[0m\u001b[0;34m\u001b[0m\u001b[0m\n\u001b[0m",
      "\u001b[0;32m/home/dage/Desktop/estnltk/estnltk/taggers/raw_text_tagging/date_tagger/date_tagger.py\u001b[0m in \u001b[0;36m__init__\u001b[0;34m(self, layer_name, conflict_resolving_strategy, overlapped)\u001b[0m\n\u001b[1;32m     27\u001b[0m                                    )\n\u001b[1;32m     28\u001b[0m \u001b[0;34m\u001b[0m\u001b[0m\n\u001b[0;32m---> 29\u001b[0;31m         \u001b[0mself\u001b[0m\u001b[0;34m.\u001b[0m\u001b[0mconfiguration\u001b[0m \u001b[0;34m=\u001b[0m \u001b[0mself\u001b[0m\u001b[0;34m.\u001b[0m\u001b[0m_tagger\u001b[0m\u001b[0;34m.\u001b[0m\u001b[0mconfiguration\u001b[0m\u001b[0;34m\u001b[0m\u001b[0m\n\u001b[0m\u001b[1;32m     30\u001b[0m \u001b[0;34m\u001b[0m\u001b[0m\n\u001b[1;32m     31\u001b[0m \u001b[0;34m\u001b[0m\u001b[0m\n",
      "\u001b[0;31mAttributeError\u001b[0m: 'RegexTagger' object has no attribute 'configuration'"
     ]
    }
   ],
   "source": [
    "datetagger = DateTagger()"
   ]
  },
  {
   "cell_type": "code",
   "execution_count": null,
   "metadata": {
    "collapsed": false
   },
   "outputs": [],
   "source": [
    "text = Text('''07.07.2011 14:25 - KOLK, REIN - D04946 - E170 - kardioloogia. \n",
    "Tuleb 28.05., enne KTG.\n",
    "pt.-l 2007a.-l diagnoositud sügatõbi:',\n",
    "'11.09.13. tehtud S.Rhesonatiivi 1250TÜ i/m',\n",
    "'Eelmine kord 2009 ja diagnoosika jäi reaktiivne artropaatia',\n",
    "            'haava revideerimine od kl 21.20',\n",
    "' 17.09.2013.a. kell 06:09 sünnib elus ajaline T 3250/50.',\n",
    "'Kontrolli 20.04.2013 kell 11.00 I-korrus, \n",
    "'Lõikus 4.1.2013.',\n",
    "'Kontrollile- 09.2011'\n",
    "\"05.09.2012 tehtud SKG\n",
    "1.09 angiograafia leid \n",
    "02.09 kell 09.15 taastus siinusrütm''')"
   ]
  },
  {
   "cell_type": "code",
   "execution_count": null,
   "metadata": {
    "collapsed": false
   },
   "outputs": [],
   "source": [
    "datetagger.tag(text)\n",
    "text['dates']"
   ]
  }
 ],
 "metadata": {
  "anaconda-cloud": {},
  "kernelspec": {
   "display_name": "Python [conda env:estnltk141]",
   "language": "python",
   "name": "conda-env-estnltk141-py"
  },
  "language_info": {
   "codemirror_mode": {
    "name": "ipython",
    "version": 3
   },
   "file_extension": ".py",
   "mimetype": "text/x-python",
   "name": "python",
   "nbconvert_exporter": "python",
   "pygments_lexer": "ipython3",
   "version": "3.5.4"
  }
 },
 "nbformat": 4,
 "nbformat_minor": 0
}
