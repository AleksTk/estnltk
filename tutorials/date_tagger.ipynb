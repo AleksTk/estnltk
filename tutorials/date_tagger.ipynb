{
 "cells": [
  {
   "cell_type": "code",
   "execution_count": 1,
   "metadata": {
    "collapsed": false
   },
   "outputs": [],
   "source": [
    "from estnltk.taggers.raw_text_tagging.date_tagger.regexes_v import regexes\n",
    "\n",
    "regexes = regexes.reset_index().to_dict('records')\n",
    "vocabulary = []\n",
    "for record in regexes:\n",
    "    rec = {'_regex_pattern_': record['regex'],\n",
    "           '_group_': 0,\n",
    "           '_priority_': (0,0),\n",
    "           'normalized': lambda m: m.group(0),\n",
    "           'type': record['type'],\n",
    "           'probability': record['probability'],\n",
    "           'example': record['example'],\n",
    "          }\n",
    "    vocabulary.append(rec)"
   ]
  },
  {
   "cell_type": "code",
   "execution_count": 2,
   "metadata": {
    "collapsed": false
   },
   "outputs": [],
   "source": [
    "from estnltk.taggers import RegexTagger\n",
    "class DateTagger:\n",
    "\n",
    "    def __init__(self,\n",
    "                 return_layer=False,\n",
    "                 layer_name='dates',\n",
    "                 conflict_resolving_strategy='MAX',\n",
    "                 overlapped=False,\n",
    "                 ):\n",
    "        self._tagger = RegexTagger(vocabulary=vocabulary,\n",
    "                                   attributes={'normalized','_priority_'},\n",
    "                                   conflict_resolving_strategy=conflict_resolving_strategy,\n",
    "                                   overlapped=overlapped,\n",
    "                                   return_layer=return_layer,\n",
    "                                   layer_name=layer_name,\n",
    "                                   )\n",
    "\n",
    "    def tag(self, text):\n",
    "        return self._tagger.tag(text)"
   ]
  },
  {
   "cell_type": "code",
   "execution_count": 3,
   "metadata": {
    "collapsed": false
   },
   "outputs": [
    {
     "data": {
      "text/plain": [
       "SL[Span(07.07.2011 14:25, {'normalized': '07.07.2011 14:25', '_priority_': (0, 0)}),\n",
       "Span(28.05, {'normalized': '28.05', '_priority_': (0, 0)}),\n",
       "Span(2007a, {'normalized': '2007a', '_priority_': (0, 0)}),\n",
       "Span(11.09.13, {'normalized': '11.09.13', '_priority_': (0, 0)}),\n",
       "Span(2009, {'normalized': '2009', '_priority_': (0, 0)}),\n",
       "Span(kl 21.20, {'normalized': 'kl 21.20', '_priority_': (0, 0)}),\n",
       "Span(17.09.2013.a. kell 06:09, {'normalized': '17.09.2013.a. kell 06:09', '_priority_': (0, 0)}),\n",
       "Span(20.04.2013 kell 11.00, {'normalized': '20.04.2013 kell 11.00', '_priority_': (0, 0)}),\n",
       "Span(4.1.2013, {'normalized': '4.1.2013', '_priority_': (0, 0)}),\n",
       "Span(09.2011, {'normalized': '09.2011', '_priority_': (0, 0)}),\n",
       "Span(05.09.2012, {'normalized': '05.09.2012', '_priority_': (0, 0)}),\n",
       "Span(1.09, {'normalized': '1.09', '_priority_': (0, 0)}),\n",
       "Span(02.09 kell 09.15, {'normalized': '02.09 kell 09.15', '_priority_': (0, 0)})]"
      ]
     },
     "execution_count": 3,
     "metadata": {},
     "output_type": "execute_result"
    }
   ],
   "source": [
    "from estnltk import Text\n",
    "\n",
    "text = Text('''07.07.2011 14:25 - KOLK, REIN - D04946 - E170 - kardioloogia. \n",
    "Tuleb 28.05., enne KTG.\n",
    "pt.-l 2007a.-l diagnoositud sügatõbi:',\n",
    "'11.09.13. tehtud S.Rhesonatiivi 1250TÜ i/m',\n",
    "'Eelmine kord 2009 ja diagnoosika jäi reaktiivne artropaatia',\n",
    "            'haava revideerimine od kl 21.20',\n",
    "' 17.09.2013.a. kell 06:09 sünnib elus ajaline T 3250/50.',\n",
    "'Kontrolli 20.04.2013 kell 11.00 I-korrus, \n",
    "'Lõikus 4.1.2013.',\n",
    "'Kontrollile- 09.2011'\n",
    "\"05.09.2012 tehtud SKG\n",
    "1.09 angiograafia leid \n",
    "02.09 kell 09.15 taastus siinusrütm''')\n",
    "DateTagger().tag(text)\n",
    "text.dates"
   ]
  }
 ],
 "metadata": {
  "kernelspec": {
   "display_name": "Python [py35]",
   "language": "python",
   "name": "Python [py35]"
  },
  "language_info": {
   "codemirror_mode": {
    "name": "ipython",
    "version": 3
   },
   "file_extension": ".py",
   "mimetype": "text/x-python",
   "name": "python",
   "nbconvert_exporter": "python",
   "pygments_lexer": "ipython3",
   "version": "3.5.3"
  }
 },
 "nbformat": 4,
 "nbformat_minor": 2
}
