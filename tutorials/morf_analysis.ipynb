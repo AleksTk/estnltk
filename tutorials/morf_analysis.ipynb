{
 "cells": [
  {
   "cell_type": "code",
   "execution_count": 1,
   "metadata": {
    "collapsed": false
   },
   "outputs": [],
   "source": [
    "import sys\n",
    "import os.path\n",
    "sys.path =  [os.path.abspath('..')] + sys.path"
   ]
  },
  {
   "cell_type": "markdown",
   "metadata": {},
   "source": [
    "#  näidis mitmese kihi loomise kohta\n",
    "\n",
    "(vt funktsioon /estnltk/text/words_sentences)\n",
    "\n",
    "    dep = Layer(name='morf_analysis',\n",
    "                parent='words',\n",
    "                ambiguous=True,\n",
    "                attributes=morf_attributes\n",
    "                )\n",
    "    new.add_layer(dep)\n",
    "\n",
    "    for word, analysises in zip(new.words, old.analysis):\n",
    "        assert isinstance(word, Span)\n",
    "        for analysis in analysises:\n",
    "            m = word.mark('morf_analysis')\n",
    "            for attr in morf_attributes:\n",
    "                setattr(m, attr, analysis[attr])\n"
   ]
  },
  {
   "cell_type": "code",
   "execution_count": 2,
   "metadata": {
    "collapsed": true
   },
   "outputs": [],
   "source": [
    "from estnltk.text import words_sentences\n",
    "text = words_sentences('''\n",
    "Lennart Meri \"Hõbevalge\" on jõudnud rahvusvahelise lugejaskonnani. \n",
    "Seni vaid soome keelde tõlgitud teos ilmus äsja ka itaalia keeles \n",
    "ning seda esitleti Rooma reisikirjanduse festivalil.\n",
    "Tuntud reisikrijanduse festival valis tänavu peakülaliseks Eesti, \n",
    "Ultima Thule ning Iidse-Põhjala ja Vahemere endisaegsed kultuurikontaktid j\n",
    "ust seetõttu, et eelmisel nädalal avaldas kirjastus Gangemi \"Hõbevalge\" \n",
    "itaalia keeles, vahendas \"Aktuaalne kaamera\".''')"
   ]
  },
  {
   "cell_type": "code",
   "execution_count": 3,
   "metadata": {
    "collapsed": false
   },
   "outputs": [
    {
     "data": {
      "text/plain": [
       "[['Lennart'],\n",
       " ['Meri'],\n",
       " ['\"'],\n",
       " ['hõbevalge'],\n",
       " ['\"'],\n",
       " ['olema', 'olema'],\n",
       " ['jõudma', 'jõudnud', 'jõudnud', 'jõudnud'],\n",
       " ['rahvusvaheline'],\n",
       " ['lugejaskond'],\n",
       " ['.']]"
      ]
     },
     "execution_count": 3,
     "metadata": {},
     "output_type": "execute_result"
    }
   ],
   "source": [
    "#kümne esimese sõna lemmad\n",
    "text.words[:10].lemma"
   ]
  },
  {
   "cell_type": "code",
   "execution_count": 4,
   "metadata": {
    "collapsed": false
   },
   "outputs": [
    {
     "data": {
      "text/plain": [
       "SL[Span(on, {'root': 'ole', 'lemma': 'olema', 'ending': '0', 'form': 'b', 'clitic': '', 'root_tokens': ['ole'], 'partofspeech': 'V'}),\n",
       "Span(on, {'root': 'ole', 'lemma': 'olema', 'ending': '0', 'form': 'vad', 'clitic': '', 'root_tokens': ['ole'], 'partofspeech': 'V'})]"
      ]
     },
     "execution_count": 4,
     "metadata": {},
     "output_type": "execute_result"
    }
   ],
   "source": [
    "#viienda sõna kogu morf\n",
    "text.morf_analysis[5]"
   ]
  },
  {
   "cell_type": "code",
   "execution_count": 5,
   "metadata": {
    "collapsed": false
   },
   "outputs": [
    {
     "data": {
      "text/plain": [
       "SL[Span(on, {'root': 'ole', 'lemma': 'olema', 'ending': '0', 'form': 'b', 'clitic': '', 'root_tokens': ['ole'], 'partofspeech': 'V'}),\n",
       "Span(on, {'root': 'ole', 'lemma': 'olema', 'ending': '0', 'form': 'vad', 'clitic': '', 'root_tokens': ['ole'], 'partofspeech': 'V'})]"
      ]
     },
     "execution_count": 5,
     "metadata": {},
     "output_type": "execute_result"
    }
   ],
   "source": [
    "text.morf_analysis[5]"
   ]
  },
  {
   "cell_type": "code",
   "execution_count": 6,
   "metadata": {
    "collapsed": false
   },
   "outputs": [
    {
     "data": {
      "text/plain": [
       "[('olema', 'b'), ('olema', 'vad')]"
      ]
     },
     "execution_count": 6,
     "metadata": {},
     "output_type": "execute_result"
    }
   ],
   "source": [
    "#viienda sõna lemmad ja vormid\n",
    "list(zip(text.morf_analysis[5].lemma, text.morf_analysis[5].form))"
   ]
  },
  {
   "cell_type": "code",
   "execution_count": 7,
   "metadata": {
    "collapsed": false
   },
   "outputs": [
    {
     "data": {
      "text/plain": [
       "SL[SL[Span(Lennart, {'root': 'Lennart', 'lemma': 'Lennart', 'ending': '0', 'form': 'sg n', 'clitic': '', 'root_tokens': ['Lennart'], 'partofspeech': 'H'})],\n",
       "SL[Span(Meri, {'root': 'Meri', 'lemma': 'Meri', 'ending': '0', 'form': 'sg n', 'clitic': '', 'root_tokens': ['Meri'], 'partofspeech': 'H'})],\n",
       "SL[Span(\", {'root': '\"', 'lemma': '\"', 'ending': '', 'form': '', 'clitic': '', 'root_tokens': ['\"'], 'partofspeech': 'Z'})],\n",
       "SL[Span(Hõbevalge, {'root': 'hõbe_valge', 'lemma': 'hõbevalge', 'ending': '0', 'form': 'sg n', 'clitic': '', 'root_tokens': ['hõbe', 'valge'], 'partofspeech': 'S'})],\n",
       "SL[Span(\", {'root': '\"', 'lemma': '\"', 'ending': '', 'form': '', 'clitic': '', 'root_tokens': ['\"'], 'partofspeech': 'Z'})],\n",
       "SL[Span(on, {'root': 'ole', 'lemma': 'olema', 'ending': '0', 'form': 'b', 'clitic': '', 'root_tokens': ['ole'], 'partofspeech': 'V'}),\n",
       "Span(on, {'root': 'ole', 'lemma': 'olema', 'ending': '0', 'form': 'vad', 'clitic': '', 'root_tokens': ['ole'], 'partofspeech': 'V'})],\n",
       "SL[Span(jõudnud, {'root': 'jõud', 'lemma': 'jõudma', 'ending': 'nud', 'form': 'nud', 'clitic': '', 'root_tokens': ['jõud'], 'partofspeech': 'V'}),\n",
       "Span(jõudnud, {'root': 'jõud=nud', 'lemma': 'jõudnud', 'ending': '0', 'form': '', 'clitic': '', 'root_tokens': ['jõudnud'], 'partofspeech': 'A'}),\n",
       "Span(jõudnud, {'root': 'jõud=nud', 'lemma': 'jõudnud', 'ending': '0', 'form': 'sg n', 'clitic': '', 'root_tokens': ['jõudnud'], 'partofspeech': 'A'}),\n",
       "Span(jõudnud, {'root': 'jõud=nud', 'lemma': 'jõudnud', 'ending': 'd', 'form': 'pl n', 'clitic': '', 'root_tokens': ['jõudnud'], 'partofspeech': 'A'})],\n",
       "SL[Span(rahvusvahelise, {'root': 'rahvus_vaheline', 'lemma': 'rahvusvaheline', 'ending': '0', 'form': 'sg g', 'clitic': '', 'root_tokens': ['rahvus', 'vaheline'], 'partofspeech': 'A'})],\n",
       "SL[Span(lugejaskonnani, {'root': 'lugejaskond', 'lemma': 'lugejaskond', 'ending': 'ni', 'form': 'sg ter', 'clitic': '', 'root_tokens': ['lugejaskond'], 'partofspeech': 'S'})],\n",
       "SL[Span(., {'root': '.', 'lemma': '.', 'ending': '', 'form': '', 'clitic': '', 'root_tokens': ['.'], 'partofspeech': 'Z'})],\n",
       "SL[Span(Seni, {'root': 'seni', 'lemma': 'seni', 'ending': '0', 'form': '', 'clitic': '', 'root_tokens': ['seni'], 'partofspeech': 'D'})],\n",
       "SL[Span(vaid, {'root': 'vaid', 'lemma': 'vaid', 'ending': '0', 'form': '', 'clitic': '', 'root_tokens': ['vaid'], 'partofspeech': 'D'})],\n",
       "SL[Span(soome, {'root': 'soome', 'lemma': 'soome', 'ending': '0', 'form': '', 'clitic': '', 'root_tokens': ['soome'], 'partofspeech': 'G'})],\n",
       "SL[Span(keelde, {'root': 'keel', 'lemma': 'keel', 'ending': 'de', 'form': 'adt', 'clitic': '', 'root_tokens': ['keel'], 'partofspeech': 'S'})],\n",
       "SL[Span(tõlgitud, {'root': 'tõlki', 'lemma': 'tõlkima', 'ending': 'tud', 'form': 'tud', 'clitic': '', 'root_tokens': ['tõlki'], 'partofspeech': 'V'}),\n",
       "Span(tõlgitud, {'root': 'tõlgitud', 'lemma': 'tõlgitud', 'ending': '0', 'form': '', 'clitic': '', 'root_tokens': ['tõlgitud'], 'partofspeech': 'A'}),\n",
       "Span(tõlgitud, {'root': 'tõlgitud', 'lemma': 'tõlgitud', 'ending': '0', 'form': 'sg n', 'clitic': '', 'root_tokens': ['tõlgitud'], 'partofspeech': 'A'}),\n",
       "Span(tõlgitud, {'root': 'tõlgitud', 'lemma': 'tõlgitud', 'ending': 'd', 'form': 'pl n', 'clitic': '', 'root_tokens': ['tõlgitud'], 'partofspeech': 'A'})],\n",
       "SL[Span(teos, {'root': 'teos', 'lemma': 'teos', 'ending': '0', 'form': 'sg n', 'clitic': '', 'root_tokens': ['teos'], 'partofspeech': 'S'})],\n",
       "SL[Span(ilmus, {'root': 'ilmu', 'lemma': 'ilmuma', 'ending': 's', 'form': 's', 'clitic': '', 'root_tokens': ['ilmu'], 'partofspeech': 'V'})],\n",
       "SL[Span(äsja, {'root': 'äsja', 'lemma': 'äsja', 'ending': '0', 'form': '', 'clitic': '', 'root_tokens': ['äsja'], 'partofspeech': 'D'})],\n",
       "SL[Span(ka, {'root': 'ka', 'lemma': 'ka', 'ending': '0', 'form': '', 'clitic': '', 'root_tokens': ['ka'], 'partofspeech': 'D'})],\n",
       "SL[Span(itaalia, {'root': 'itaalia', 'lemma': 'itaalia', 'ending': '0', 'form': '', 'clitic': '', 'root_tokens': ['itaalia'], 'partofspeech': 'G'})],\n",
       "SL[Span(keeles, {'root': 'keel', 'lemma': 'keel', 'ending': 's', 'form': 'sg in', 'clitic': '', 'root_tokens': ['keel'], 'partofspeech': 'S'})],\n",
       "SL[Span(ning, {'root': 'ning', 'lemma': 'ning', 'ending': '0', 'form': '', 'clitic': '', 'root_tokens': ['ning'], 'partofspeech': 'J'})],\n",
       "SL[Span(seda, {'root': 'see', 'lemma': 'see', 'ending': 'da', 'form': 'sg p', 'clitic': '', 'root_tokens': ['see'], 'partofspeech': 'P'})],\n",
       "SL[Span(esitleti, {'root': 'esitle', 'lemma': 'esitlema', 'ending': 'ti', 'form': 'ti', 'clitic': '', 'root_tokens': ['esitle'], 'partofspeech': 'V'})],\n",
       "SL[Span(Rooma, {'root': 'Rooma', 'lemma': 'Rooma', 'ending': '0', 'form': 'sg g', 'clitic': '', 'root_tokens': ['Rooma'], 'partofspeech': 'H'})],\n",
       "SL[Span(reisikirjanduse, {'root': 'reisi_kirjandus', 'lemma': 'reisikirjandus', 'ending': '0', 'form': 'sg g', 'clitic': '', 'root_tokens': ['reisi', 'kirjandus'], 'partofspeech': 'S'})],\n",
       "SL[Span(festivalil, {'root': 'festival', 'lemma': 'festival', 'ending': 'l', 'form': 'sg ad', 'clitic': '', 'root_tokens': ['festival'], 'partofspeech': 'S'})],\n",
       "SL[Span(., {'root': '.', 'lemma': '.', 'ending': '', 'form': '', 'clitic': '', 'root_tokens': ['.'], 'partofspeech': 'Z'})],\n",
       "SL[Span(Tuntud, {'root': 'tund', 'lemma': 'tundma', 'ending': 'tud', 'form': 'tud', 'clitic': '', 'root_tokens': ['tund'], 'partofspeech': 'V'}),\n",
       "Span(Tuntud, {'root': 'tuntud', 'lemma': 'tuntud', 'ending': '0', 'form': '', 'clitic': '', 'root_tokens': ['tuntud'], 'partofspeech': 'A'}),\n",
       "Span(Tuntud, {'root': 'tuntud', 'lemma': 'tuntud', 'ending': '0', 'form': 'sg n', 'clitic': '', 'root_tokens': ['tuntud'], 'partofspeech': 'A'}),\n",
       "Span(Tuntud, {'root': 'tuntud', 'lemma': 'tuntud', 'ending': 'd', 'form': 'pl n', 'clitic': '', 'root_tokens': ['tuntud'], 'partofspeech': 'A'})],\n",
       "SL[Span(reisikrijanduse, {'root': 'reisikrijan=dus', 'lemma': 'reisikrijandus', 'ending': '0', 'form': 'sg g', 'clitic': '', 'root_tokens': ['reisikrijandus'], 'partofspeech': 'S'})],\n",
       "SL[Span(festival, {'root': 'festival', 'lemma': 'festival', 'ending': '0', 'form': 'sg n', 'clitic': '', 'root_tokens': ['festival'], 'partofspeech': 'S'})],\n",
       "SL[Span(valis, {'root': 'vali', 'lemma': 'valima', 'ending': 's', 'form': 's', 'clitic': '', 'root_tokens': ['vali'], 'partofspeech': 'V'})],\n",
       "SL[Span(tänavu, {'root': 'tänavu', 'lemma': 'tänavu', 'ending': '0', 'form': '', 'clitic': '', 'root_tokens': ['tänavu'], 'partofspeech': 'D'})],\n",
       "SL[Span(peakülaliseks, {'root': 'pea_külaline', 'lemma': 'peakülaline', 'ending': 'ks', 'form': 'sg tr', 'clitic': '', 'root_tokens': ['pea', 'külaline'], 'partofspeech': 'S'})],\n",
       "SL[Span(Eesti, {'root': 'Eesti', 'lemma': 'Eesti', 'ending': '0', 'form': 'sg g', 'clitic': '', 'root_tokens': ['Eesti'], 'partofspeech': 'H'})],\n",
       "SL[Span(,, {'root': ',', 'lemma': ',', 'ending': '', 'form': '', 'clitic': '', 'root_tokens': [','], 'partofspeech': 'Z'})],\n",
       "SL[Span(Ultima, {'root': 'Ultima', 'lemma': 'Ultima', 'ending': '0', 'form': 'sg g', 'clitic': '', 'root_tokens': ['Ultima'], 'partofspeech': 'H'})],\n",
       "SL[Span(Thule, {'root': 'Thule', 'lemma': 'Thule', 'ending': '0', 'form': 'sg g', 'clitic': '', 'root_tokens': ['Thule'], 'partofspeech': 'H'})],\n",
       "SL[Span(ning, {'root': 'ning', 'lemma': 'ning', 'ending': '0', 'form': '', 'clitic': '', 'root_tokens': ['ning'], 'partofspeech': 'J'})],\n",
       "SL[Span(Iidse-Põhjala, {'root': 'Iidse-Põhjala', 'lemma': 'Iidse-Põhjala', 'ending': '0', 'form': 'sg g', 'clitic': '', 'root_tokens': ['Iidse', 'Põhjala'], 'partofspeech': 'H'}),\n",
       "Span(Iidse-Põhjala, {'root': 'Iidse-Põhjala', 'lemma': 'Iidse-Põhjala', 'ending': '0', 'form': 'sg g', 'clitic': '', 'root_tokens': ['Iidse', 'Põhjala'], 'partofspeech': 'H'})],\n",
       "SL[Span(ja, {'root': 'ja', 'lemma': 'ja', 'ending': '0', 'form': '', 'clitic': '', 'root_tokens': ['ja'], 'partofspeech': 'J'})],\n",
       "SL[Span(Vahemere, {'root': 'Vahe_meri', 'lemma': 'Vahemeri', 'ending': '0', 'form': 'sg g', 'clitic': '', 'root_tokens': ['Vahe', 'meri'], 'partofspeech': 'H'})],\n",
       "SL[Span(endisaegsed, {'root': 'endis_aegne', 'lemma': 'endisaegne', 'ending': 'd', 'form': 'pl n', 'clitic': '', 'root_tokens': ['endis', 'aegne'], 'partofspeech': 'A'})],\n",
       "SL[Span(kultuurikontaktid, {'root': 'kultuuri_kontakt', 'lemma': 'kultuurikontakt', 'ending': 'd', 'form': 'pl n', 'clitic': '', 'root_tokens': ['kultuuri', 'kontakt'], 'partofspeech': 'S'})],\n",
       "SL[Span(j, {'root': 'j', 'lemma': 'j', 'ending': '0', 'form': '?', 'clitic': '', 'root_tokens': ['j'], 'partofspeech': 'Y'})],\n",
       "SL[Span(ust, {'root': 'uks', 'lemma': 'uks', 'ending': 't', 'form': 'sg p', 'clitic': '', 'root_tokens': ['uks'], 'partofspeech': 'S'})],\n",
       "SL[Span(seetõttu, {'root': 'see_tõttu', 'lemma': 'seetõttu', 'ending': '0', 'form': '', 'clitic': '', 'root_tokens': ['see', 'tõttu'], 'partofspeech': 'D'})],\n",
       "SL[Span(,, {'root': ',', 'lemma': ',', 'ending': '', 'form': '', 'clitic': '', 'root_tokens': [','], 'partofspeech': 'Z'})],\n",
       "SL[Span(et, {'root': 'et', 'lemma': 'et', 'ending': '0', 'form': '', 'clitic': '', 'root_tokens': ['et'], 'partofspeech': 'J'})],\n",
       "SL[Span(eelmisel, {'root': 'eelmine', 'lemma': 'eelmine', 'ending': 'l', 'form': 'sg ad', 'clitic': '', 'root_tokens': ['eelmine'], 'partofspeech': 'A'})],\n",
       "SL[Span(nädalal, {'root': 'nädal', 'lemma': 'nädal', 'ending': 'l', 'form': 'sg ad', 'clitic': '', 'root_tokens': ['nädal'], 'partofspeech': 'S'})],\n",
       "SL[Span(avaldas, {'root': 'avalda', 'lemma': 'avaldama', 'ending': 's', 'form': 's', 'clitic': '', 'root_tokens': ['avalda'], 'partofspeech': 'V'})],\n",
       "SL[Span(kirjastus, {'root': 'kirjastus', 'lemma': 'kirjastus', 'ending': '0', 'form': 'sg n', 'clitic': '', 'root_tokens': ['kirjastus'], 'partofspeech': 'S'})],\n",
       "SL[Span(Gangemi, {'root': 'Gangemi', 'lemma': 'Gangemi', 'ending': '0', 'form': 'sg n', 'clitic': '', 'root_tokens': ['Gangemi'], 'partofspeech': 'H'})],\n",
       "SL[Span(\", {'root': '\"', 'lemma': '\"', 'ending': '', 'form': '', 'clitic': '', 'root_tokens': ['\"'], 'partofspeech': 'Z'})],\n",
       "SL[Span(Hõbevalge, {'root': 'hõbe_valge', 'lemma': 'hõbevalge', 'ending': '0', 'form': 'sg n', 'clitic': '', 'root_tokens': ['hõbe', 'valge'], 'partofspeech': 'S'})],\n",
       "SL[Span(\", {'root': '\"', 'lemma': '\"', 'ending': '', 'form': '', 'clitic': '', 'root_tokens': ['\"'], 'partofspeech': 'Z'})],\n",
       "SL[Span(itaalia, {'root': 'itaalia', 'lemma': 'itaalia', 'ending': '0', 'form': '', 'clitic': '', 'root_tokens': ['itaalia'], 'partofspeech': 'G'})],\n",
       "SL[Span(keeles, {'root': 'keel', 'lemma': 'keel', 'ending': 's', 'form': 'sg in', 'clitic': '', 'root_tokens': ['keel'], 'partofspeech': 'S'})],\n",
       "SL[Span(,, {'root': ',', 'lemma': ',', 'ending': '', 'form': '', 'clitic': '', 'root_tokens': [','], 'partofspeech': 'Z'})],\n",
       "SL[Span(vahendas, {'root': 'vahenda', 'lemma': 'vahendama', 'ending': 's', 'form': 's', 'clitic': '', 'root_tokens': ['vahenda'], 'partofspeech': 'V'})],\n",
       "SL[Span(\", {'root': '\"', 'lemma': '\"', 'ending': '', 'form': '', 'clitic': '', 'root_tokens': ['\"'], 'partofspeech': 'Z'})],\n",
       "SL[Span(Aktuaalne, {'root': 'aktuaalne', 'lemma': 'aktuaalne', 'ending': '0', 'form': 'sg n', 'clitic': '', 'root_tokens': ['aktuaalne'], 'partofspeech': 'A'})],\n",
       "SL[Span(kaamera, {'root': 'kaamera', 'lemma': 'kaamera', 'ending': '0', 'form': 'sg n', 'clitic': '', 'root_tokens': ['kaamera'], 'partofspeech': 'S'})],\n",
       "SL[Span(\"., {'root': '\".', 'lemma': '\".', 'ending': '', 'form': '', 'clitic': '', 'root_tokens': ['\".'], 'partofspeech': 'Z'})]]"
      ]
     },
     "execution_count": 7,
     "metadata": {},
     "output_type": "execute_result"
    }
   ],
   "source": [
    "#kogu morf\n",
    "text.morf_analysis"
   ]
  }
 ],
 "metadata": {
  "anaconda-cloud": {},
  "kernelspec": {
   "display_name": "Python [default]",
   "language": "python",
   "name": "python3"
  },
  "language_info": {
   "codemirror_mode": {
    "name": "ipython",
    "version": 3
   },
   "file_extension": ".py",
   "mimetype": "text/x-python",
   "name": "python",
   "nbconvert_exporter": "python",
   "pygments_lexer": "ipython3",
   "version": "3.5.2"
  }
 },
 "nbformat": 4,
 "nbformat_minor": 1
}
