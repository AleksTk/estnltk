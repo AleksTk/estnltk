{
 "cells": [
  {
   "cell_type": "code",
   "execution_count": 1,
   "metadata": {
    "collapsed": false
   },
   "outputs": [],
   "source": [
    "import sys\n",
    "import os.path\n",
    "sys.path =  [os.path.abspath('..')] + sys.path"
   ]
  },
  {
   "cell_type": "markdown",
   "metadata": {},
   "source": [
    "#  näidis mitmese kihi loomise kohta\n",
    "\n",
    "(vt funktsioon /estnltk/text/words_sentences)\n",
    "\n",
    "    morf_attributes = ['form', 'root_tokens', \n",
    "    'clitic', 'partofspeech', 'ending', 'root', 'lemma']\n",
    "\n",
    "    dep = DependantLayer(name='morf_analysis',\n",
    "                     text_object=new,\n",
    "                     frozen=False,\n",
    "                     parent=new.words,\n",
    "                     ambiguous=True, #NB!! See muudab kihi mitmeseks.\n",
    "                     attributes=morf_attributes\n",
    "                     )\n",
    "    new.add_layer(dep)\n",
    "\n",
    "    for word, analysises in zip(new.words, old.analysis):\n",
    "        for analysis in analysises:\n",
    "\n",
    "            m = word.mark('morf_analysis')\n",
    "            for attr in morf_attributes:\n",
    "                setattr(m, attr, analysis[attr])\n"
   ]
  },
  {
   "cell_type": "code",
   "execution_count": 2,
   "metadata": {
    "collapsed": true
   },
   "outputs": [],
   "source": [
    "from estnltk.text import words_sentences\n",
    "text = words_sentences('''\n",
    "Lennart Meri \"Hõbevalge\" on jõudnud rahvusvahelise lugejaskonnani. \n",
    "Seni vaid soome keelde tõlgitud teos ilmus äsja ka itaalia keeles \n",
    "ning seda esitleti Rooma reisikirjanduse festivalil.\n",
    "Tuntud reisikrijanduse festival valis tänavu peakülaliseks Eesti, \n",
    "Ultima Thule ning Iidse-Põhjala ja Vahemere endisaegsed kultuurikontaktid j\n",
    "ust seetõttu, et eelmisel nädalal avaldas kirjastus Gangemi \"Hõbevalge\" \n",
    "itaalia keeles, vahendas \"Aktuaalne kaamera\".''')"
   ]
  },
  {
   "cell_type": "code",
   "execution_count": 3,
   "metadata": {
    "collapsed": false
   },
   "outputs": [
    {
     "data": {
      "text/plain": [
       "[['Lennart'],\n",
       " ['Meri'],\n",
       " ['\"'],\n",
       " ['hõbevalge'],\n",
       " ['\"'],\n",
       " ['olema', 'olema'],\n",
       " ['jõudma', 'jõudnud', 'jõudnud', 'jõudnud'],\n",
       " ['rahvusvaheline'],\n",
       " ['lugejaskond'],\n",
       " ['.']]"
      ]
     },
     "execution_count": 3,
     "metadata": {},
     "output_type": "execute_result"
    }
   ],
   "source": [
    "#kümne esimese sõna lemmad\n",
    "text.words[:10].lemma"
   ]
  },
  {
   "cell_type": "code",
   "execution_count": 4,
   "metadata": {
    "collapsed": false
   },
   "outputs": [
    {
     "data": {
      "text/plain": [
       "[Span(on, form=b, root_tokens=['ole'], clitic=, partofspeech=V, ending=0, root=ole, lemma=olema), Span(on, form=vad, root_tokens=['ole'], clitic=, partofspeech=V, ending=0, root=ole, lemma=olema)]"
      ]
     },
     "execution_count": 4,
     "metadata": {},
     "output_type": "execute_result"
    }
   ],
   "source": [
    "#viienda sõna kogu morf\n",
    "text.morf_analysis[5]"
   ]
  },
  {
   "cell_type": "code",
   "execution_count": 5,
   "metadata": {
    "collapsed": false
   },
   "outputs": [
    {
     "data": {
      "text/plain": [
       "[('olema', 'b'), ('olema', 'vad')]"
      ]
     },
     "execution_count": 5,
     "metadata": {},
     "output_type": "execute_result"
    }
   ],
   "source": [
    "#viienda sõna lemmad ja vormid\n",
    "list(zip(text.morf_analysis[5].lemma, text.morf_analysis[5].form))"
   ]
  },
  {
   "cell_type": "code",
   "execution_count": 6,
   "metadata": {
    "collapsed": false
   },
   "outputs": [
    {
     "data": {
      "text/plain": [
       "Layer(name=morf_analysis, spans=[[Span(Lennart, form=sg n, root_tokens=['Lennart'], clitic=, partofspeech=H, ending=0, root=Lennart, lemma=Lennart)], [Span(Meri, form=sg n, root_tokens=['Meri'], clitic=, partofspeech=H, ending=0, root=Meri, lemma=Meri)], [Span(\", form=, root_tokens=['\"'], clitic=, partofspeech=Z, ending=, root=\", lemma=\")], [Span(Hõbevalge, form=sg n, root_tokens=['hõbe', 'valge'], clitic=, partofspeech=S, ending=0, root=hõbe_valge, lemma=hõbevalge)], [Span(\", form=, root_tokens=['\"'], clitic=, partofspeech=Z, ending=, root=\", lemma=\")], [Span(on, form=b, root_tokens=['ole'], clitic=, partofspeech=V, ending=0, root=ole, lemma=olema), Span(on, form=vad, root_tokens=['ole'], clitic=, partofspeech=V, ending=0, root=ole, lemma=olema)], [Span(jõudnud, form=nud, root_tokens=['jõud'], clitic=, partofspeech=V, ending=nud, root=jõud, lemma=jõudma), Span(jõudnud, form=, root_tokens=['jõudnud'], clitic=, partofspeech=A, ending=0, root=jõud=nud, lemma=jõudnud), Span(jõudnud, form=sg n, root_tokens=['jõudnud'], clitic=, partofspeech=A, ending=0, root=jõud=nud, lemma=jõudnud), Span(jõudnud, form=pl n, root_tokens=['jõudnud'], clitic=, partofspeech=A, ending=d, root=jõud=nud, lemma=jõudnud)], [Span(rahvusvahelise, form=sg g, root_tokens=['rahvus', 'vaheline'], clitic=, partofspeech=A, ending=0, root=rahvus_vaheline, lemma=rahvusvaheline)], [Span(lugejaskonnani, form=sg ter, root_tokens=['lugejaskond'], clitic=, partofspeech=S, ending=ni, root=lugejaskond, lemma=lugejaskond)], [Span(., form=, root_tokens=['.'], clitic=, partofspeech=Z, ending=, root=., lemma=.)], [Span(Seni, form=, root_tokens=['seni'], clitic=, partofspeech=D, ending=0, root=seni, lemma=seni)], [Span(vaid, form=, root_tokens=['vaid'], clitic=, partofspeech=D, ending=0, root=vaid, lemma=vaid)], [Span(soome, form=, root_tokens=['soome'], clitic=, partofspeech=G, ending=0, root=soome, lemma=soome)], [Span(keelde, form=adt, root_tokens=['keel'], clitic=, partofspeech=S, ending=de, root=keel, lemma=keel)], [Span(tõlgitud, form=tud, root_tokens=['tõlki'], clitic=, partofspeech=V, ending=tud, root=tõlki, lemma=tõlkima), Span(tõlgitud, form=, root_tokens=['tõlgitud'], clitic=, partofspeech=A, ending=0, root=tõlgitud, lemma=tõlgitud), Span(tõlgitud, form=sg n, root_tokens=['tõlgitud'], clitic=, partofspeech=A, ending=0, root=tõlgitud, lemma=tõlgitud), Span(tõlgitud, form=pl n, root_tokens=['tõlgitud'], clitic=, partofspeech=A, ending=d, root=tõlgitud, lemma=tõlgitud)], [Span(teos, form=sg n, root_tokens=['teos'], clitic=, partofspeech=S, ending=0, root=teos, lemma=teos)], [Span(ilmus, form=s, root_tokens=['ilmu'], clitic=, partofspeech=V, ending=s, root=ilmu, lemma=ilmuma)], [Span(äsja, form=, root_tokens=['äsja'], clitic=, partofspeech=D, ending=0, root=äsja, lemma=äsja)], [Span(ka, form=, root_tokens=['ka'], clitic=, partofspeech=D, ending=0, root=ka, lemma=ka)], [Span(itaalia, form=, root_tokens=['itaalia'], clitic=, partofspeech=G, ending=0, root=itaalia, lemma=itaalia)], [Span(keeles, form=sg in, root_tokens=['keel'], clitic=, partofspeech=S, ending=s, root=keel, lemma=keel)], [Span(ning, form=, root_tokens=['ning'], clitic=, partofspeech=J, ending=0, root=ning, lemma=ning)], [Span(seda, form=sg p, root_tokens=['see'], clitic=, partofspeech=P, ending=da, root=see, lemma=see)], [Span(esitleti, form=ti, root_tokens=['esitle'], clitic=, partofspeech=V, ending=ti, root=esitle, lemma=esitlema)], [Span(Rooma, form=sg g, root_tokens=['Rooma'], clitic=, partofspeech=H, ending=0, root=Rooma, lemma=Rooma)], [Span(reisikirjanduse, form=sg g, root_tokens=['reisi', 'kirjandus'], clitic=, partofspeech=S, ending=0, root=reisi_kirjandus, lemma=reisikirjandus)], [Span(festivalil, form=sg ad, root_tokens=['festival'], clitic=, partofspeech=S, ending=l, root=festival, lemma=festival)], [Span(., form=, root_tokens=['.'], clitic=, partofspeech=Z, ending=, root=., lemma=.)], [Span(Tuntud, form=tud, root_tokens=['tund'], clitic=, partofspeech=V, ending=tud, root=tund, lemma=tundma), Span(Tuntud, form=, root_tokens=['tuntud'], clitic=, partofspeech=A, ending=0, root=tuntud, lemma=tuntud), Span(Tuntud, form=sg n, root_tokens=['tuntud'], clitic=, partofspeech=A, ending=0, root=tuntud, lemma=tuntud), Span(Tuntud, form=pl n, root_tokens=['tuntud'], clitic=, partofspeech=A, ending=d, root=tuntud, lemma=tuntud)], [Span(reisikrijanduse, form=sg g, root_tokens=['reisikrijandus'], clitic=, partofspeech=S, ending=0, root=reisikrijan=dus, lemma=reisikrijandus)], [Span(festival, form=sg n, root_tokens=['festival'], clitic=, partofspeech=S, ending=0, root=festival, lemma=festival)], [Span(valis, form=s, root_tokens=['vali'], clitic=, partofspeech=V, ending=s, root=vali, lemma=valima)], [Span(tänavu, form=, root_tokens=['tänavu'], clitic=, partofspeech=D, ending=0, root=tänavu, lemma=tänavu)], [Span(peakülaliseks, form=sg tr, root_tokens=['pea', 'külaline'], clitic=, partofspeech=S, ending=ks, root=pea_külaline, lemma=peakülaline)], [Span(Eesti, form=sg g, root_tokens=['Eesti'], clitic=, partofspeech=H, ending=0, root=Eesti, lemma=Eesti)], [Span(,, form=, root_tokens=[','], clitic=, partofspeech=Z, ending=, root=,, lemma=,)], [Span(Ultima, form=sg g, root_tokens=['Ultima'], clitic=, partofspeech=H, ending=0, root=Ultima, lemma=Ultima)], [Span(Thule, form=sg g, root_tokens=['Thule'], clitic=, partofspeech=H, ending=0, root=Thule, lemma=Thule)], [Span(ning, form=, root_tokens=['ning'], clitic=, partofspeech=J, ending=0, root=ning, lemma=ning)], [Span(Iidse-Põhjala, form=sg g, root_tokens=['Iidse', 'Põhjala'], clitic=, partofspeech=H, ending=0, root=Iidse-Põhjala, lemma=Iidse-Põhjala), Span(Iidse-Põhjala, form=sg g, root_tokens=['Iidse', 'Põhjala'], clitic=, partofspeech=H, ending=0, root=Iidse-Põhjala, lemma=Iidse-Põhjala)], [Span(ja, form=, root_tokens=['ja'], clitic=, partofspeech=J, ending=0, root=ja, lemma=ja)], [Span(Vahemere, form=sg g, root_tokens=['Vahe', 'meri'], clitic=, partofspeech=H, ending=0, root=Vahe_meri, lemma=Vahemeri)], [Span(endisaegsed, form=pl n, root_tokens=['endis', 'aegne'], clitic=, partofspeech=A, ending=d, root=endis_aegne, lemma=endisaegne)], [Span(kultuurikontaktid, form=pl n, root_tokens=['kultuuri', 'kontakt'], clitic=, partofspeech=S, ending=d, root=kultuuri_kontakt, lemma=kultuurikontakt)], [Span(j, form=?, root_tokens=['j'], clitic=, partofspeech=Y, ending=0, root=j, lemma=j)], [Span(ust, form=sg p, root_tokens=['uks'], clitic=, partofspeech=S, ending=t, root=uks, lemma=uks)], [Span(seetõttu, form=, root_tokens=['see', 'tõttu'], clitic=, partofspeech=D, ending=0, root=see_tõttu, lemma=seetõttu)], [Span(,, form=, root_tokens=[','], clitic=, partofspeech=Z, ending=, root=,, lemma=,)], [Span(et, form=, root_tokens=['et'], clitic=, partofspeech=J, ending=0, root=et, lemma=et)], [Span(eelmisel, form=sg ad, root_tokens=['eelmine'], clitic=, partofspeech=A, ending=l, root=eelmine, lemma=eelmine)], [Span(nädalal, form=sg ad, root_tokens=['nädal'], clitic=, partofspeech=S, ending=l, root=nädal, lemma=nädal)], [Span(avaldas, form=s, root_tokens=['avalda'], clitic=, partofspeech=V, ending=s, root=avalda, lemma=avaldama)], [Span(kirjastus, form=sg n, root_tokens=['kirjastus'], clitic=, partofspeech=S, ending=0, root=kirjastus, lemma=kirjastus)], [Span(Gangemi, form=sg n, root_tokens=['Gangemi'], clitic=, partofspeech=H, ending=0, root=Gangemi, lemma=Gangemi)], [Span(\", form=, root_tokens=['\"'], clitic=, partofspeech=Z, ending=, root=\", lemma=\")], [Span(Hõbevalge, form=sg n, root_tokens=['hõbe', 'valge'], clitic=, partofspeech=S, ending=0, root=hõbe_valge, lemma=hõbevalge)], [Span(\", form=, root_tokens=['\"'], clitic=, partofspeech=Z, ending=, root=\", lemma=\")], [Span(itaalia, form=, root_tokens=['itaalia'], clitic=, partofspeech=G, ending=0, root=itaalia, lemma=itaalia)], [Span(keeles, form=sg in, root_tokens=['keel'], clitic=, partofspeech=S, ending=s, root=keel, lemma=keel)], [Span(,, form=, root_tokens=[','], clitic=, partofspeech=Z, ending=, root=,, lemma=,)], [Span(vahendas, form=s, root_tokens=['vahenda'], clitic=, partofspeech=V, ending=s, root=vahenda, lemma=vahendama)], [Span(\", form=, root_tokens=['\"'], clitic=, partofspeech=Z, ending=, root=\", lemma=\")], [Span(Aktuaalne, form=sg n, root_tokens=['aktuaalne'], clitic=, partofspeech=A, ending=0, root=aktuaalne, lemma=aktuaalne)], [Span(kaamera, form=sg n, root_tokens=['kaamera'], clitic=, partofspeech=S, ending=0, root=kaamera, lemma=kaamera)], [Span(\"., form=, root_tokens=['\".'], clitic=, partofspeech=Z, ending=, root=\"., lemma=\".)]])"
      ]
     },
     "execution_count": 6,
     "metadata": {},
     "output_type": "execute_result"
    }
   ],
   "source": [
    "#kogu morf\n",
    "text.morf_analysis"
   ]
  }
 ],
 "metadata": {
  "kernelspec": {
   "display_name": "Python 3",
   "language": "python",
   "name": "python3"
  },
  "language_info": {
   "codemirror_mode": {
    "name": "ipython",
    "version": 3
   },
   "file_extension": ".py",
   "mimetype": "text/x-python",
   "name": "python",
   "nbconvert_exporter": "python",
   "pygments_lexer": "ipython3",
   "version": "3.5.2"
  }
 },
 "nbformat": 4,
 "nbformat_minor": 1
}
