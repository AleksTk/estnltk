{
 "cells": [
  {
   "cell_type": "markdown",
   "metadata": {},
   "source": [
    "# <span style=\"color:blue\"> B. Specific details for programmers: how it works</span>"
   ]
  },
  {
   "cell_type": "markdown",
   "metadata": {},
   "source": [
    "## <span style=\"color:purple\"> Text segmentation: Paragraphs </span>"
   ]
  },
  {
   "cell_type": "markdown",
   "metadata": {},
   "source": [
    "A paragraph is a list of sequential sentences. The process of tagging paragraphs is similar to the sentence tagging. First the possible ending points of the paragraphs are searched from the raw text and then the list of the sentences is split into the list of paragraphs taking into account only those points that are ending points of the sentences."
   ]
  },
  {
   "cell_type": "code",
   "execution_count": 1,
   "metadata": {
    "scrolled": true
   },
   "outputs": [
    {
     "data": {
      "text/html": [
       "<h4>Layer</h4>\n",
       "\n",
       "<table border=\"1\" class=\"dataframe\">\n",
       "  <thead>\n",
       "    <tr style=\"text-align: right;\">\n",
       "      <th>layer name</th>\n",
       "      <th>attributes</th>\n",
       "      <th>parent</th>\n",
       "      <th>enveloping</th>\n",
       "      <th>ambiguous</th>\n",
       "      <th>span count</th>\n",
       "    </tr>\n",
       "  </thead>\n",
       "  <tbody>\n",
       "    <tr>\n",
       "      <td>paragraphs</td>\n",
       "      <td></td>\n",
       "      <td>None</td>\n",
       "      <td>sentences</td>\n",
       "      <td>False</td>\n",
       "      <td>2</td>\n",
       "    </tr>\n",
       "  </tbody>\n",
       "</table>\n",
       "<table border=\"1\" class=\"dataframe\">\n",
       "  <thead>\n",
       "    <tr style=\"text-align: right;\">\n",
       "      <th>text</th>\n",
       "    </tr>\n",
       "  </thead>\n",
       "  <tbody>\n",
       "    <tr>\n",
       "      <td>['See', 'on', 'esimene', 'lõik', '.', 'Ja', 'siin', 'teine', 'lause', '.']</td>\n",
       "    </tr>\n",
       "    <tr>\n",
       "      <td>['Siin', 'on', 'teine', 'lõik', '.']</td>\n",
       "    </tr>\n",
       "  </tbody>\n",
       "</table>"
      ],
      "text/plain": [
       "Layer(name='paragraphs', attributes=(), spans=SL[ES[ES[Span(start=0, end=3, text='See'),\n",
       "Span(start=4, end=6, text='on'),\n",
       "Span(start=7, end=14, text='esimene'),\n",
       "Span(start=15, end=19, text='lõik'),\n",
       "Span(start=19, end=20, text='.')],\n",
       "ES[Span(start=21, end=23, text='Ja'),\n",
       "Span(start=24, end=28, text='siin'),\n",
       "Span(start=29, end=34, text='teine'),\n",
       "Span(start=35, end=40, text='lause'),\n",
       "Span(start=40, end=41, text='.')]],\n",
       "ES[ES[Span(start=43, end=47, text='Siin'),\n",
       "Span(start=48, end=50, text='on'),\n",
       "Span(start=51, end=56, text='teine'),\n",
       "Span(start=57, end=61, text='lõik'),\n",
       "Span(start=61, end=62, text='.')]]])"
      ]
     },
     "execution_count": 1,
     "metadata": {},
     "output_type": "execute_result"
    }
   ],
   "source": [
    "from estnltk import Text\n",
    "from estnltk.taggers import ParagraphTokenizer\n",
    "text = Text('''See on esimene lõik. Ja siin teine lause.\n",
    "\n",
    "Siin on teine lõik.''')\n",
    "text.tag_layer(['sentences'])\n",
    "ParagraphTokenizer().tag(text)\n",
    "text['paragraphs']"
   ]
  }
 ],
 "metadata": {
  "anaconda-cloud": {},
  "kernelspec": {
   "display_name": "Python 3",
   "language": "python",
   "name": "python3"
  },
  "language_info": {
   "codemirror_mode": {
    "name": "ipython",
    "version": 3
   },
   "file_extension": ".py",
   "mimetype": "text/x-python",
   "name": "python",
   "nbconvert_exporter": "python",
   "pygments_lexer": "ipython3",
   "version": "3.5.5"
  }
 },
 "nbformat": 4,
 "nbformat_minor": 2
}
