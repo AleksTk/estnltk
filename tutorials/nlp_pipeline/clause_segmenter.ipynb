{
 "cells": [
  {
   "cell_type": "markdown",
   "metadata": {},
   "source": [
    "## Clause Segmenter\n",
    "\n",
    "A simple sentence, also called an independent clause, typically contains a finite verb, and expresses a complete thought. However, natural language sentences can also be long and complex, consisting of two or more clauses joined together. The clause structure can be made even more complex due to embedded clauses, which divide their parent clauses into two halves, for instance:"
   ]
  },
  {
   "cell_type": "markdown",
   "metadata": {},
   "source": [
    "        'Mees, keda seal kohtasime, oli tuttav ja teretas meid.'\n",
    "        '[Mees, [keda seal kohtasime,] oli tuttav ja] [teretas meid.]'\n",
    "        (in the example, clauses are surrounded by brackets)"
   ]
  },
  {
   "cell_type": "markdown",
   "metadata": {},
   "source": [
    "Clause segmenter is a program that splits long and complex natural language sentences into clauses. Example:"
   ]
  },
  {
   "cell_type": "code",
   "execution_count": 1,
   "metadata": {},
   "outputs": [
    {
     "data": {
      "text/html": [
       "<h4>SpanList</h4>\n",
       "<table border=\"1\" class=\"dataframe\">\n",
       "  <thead>\n",
       "    <tr style=\"text-align: right;\">\n",
       "      <th>layer name</th>\n",
       "      <th>attributes</th>\n",
       "      <th>parent</th>\n",
       "      <th>enveloping</th>\n",
       "      <th>ambiguous</th>\n",
       "      <th>span count</th>\n",
       "    </tr>\n",
       "  </thead>\n",
       "  <tbody>\n",
       "    <tr>\n",
       "      <td>clauses</td>\n",
       "      <td>clause_type</td>\n",
       "      <td>None</td>\n",
       "      <td>words</td>\n",
       "      <td>False</td>\n",
       "      <td>3</td>\n",
       "    </tr>\n",
       "  </tbody>\n",
       "</table>\n",
       "<table border=\"1\" class=\"dataframe\">\n",
       "  <thead>\n",
       "    <tr style=\"text-align: right;\">\n",
       "      <th>text</th>\n",
       "      <th>start</th>\n",
       "      <th>end</th>\n",
       "      <th>clause_type</th>\n",
       "    </tr>\n",
       "  </thead>\n",
       "  <tbody>\n",
       "    <tr>\n",
       "      <td><b>Mees</b>, keda seal kohtasime, <b>oli</b> <b>tuttav</b> <b>ja</b></td>\n",
       "      <td>0</td>\n",
       "      <td>40</td>\n",
       "      <td>regular</td>\n",
       "    </tr>\n",
       "    <tr>\n",
       "      <td><b>,</b> <b>keda</b> <b>seal</b> <b>kohtasime</b><b>,</b></td>\n",
       "      <td>4</td>\n",
       "      <td>26</td>\n",
       "      <td>embedded</td>\n",
       "    </tr>\n",
       "    <tr>\n",
       "      <td><b>teretas</b> <b>meid</b><b>.</b></td>\n",
       "      <td>41</td>\n",
       "      <td>54</td>\n",
       "      <td>regular</td>\n",
       "    </tr>\n",
       "  </tbody>\n",
       "</table>"
      ],
      "text/plain": [
       "SL[SL[Span(Mees, {'normalized_form': None}),\n",
       "Span(oli, {'normalized_form': None}),\n",
       "Span(tuttav, {'normalized_form': None}),\n",
       "Span(ja, {'normalized_form': None})],\n",
       "SL[Span(,, {'normalized_form': None}),\n",
       "Span(keda, {'normalized_form': None}),\n",
       "Span(seal, {'normalized_form': None}),\n",
       "Span(kohtasime, {'normalized_form': None}),\n",
       "Span(,, {'normalized_form': None})],\n",
       "SL[Span(teretas, {'normalized_form': None}),\n",
       "Span(meid, {'normalized_form': None}),\n",
       "Span(., {'normalized_form': None})]]"
      ]
     },
     "execution_count": 1,
     "metadata": {},
     "output_type": "execute_result"
    }
   ],
   "source": [
    "from estnltk import Text\n",
    "\n",
    "text = Text('Mees, keda seal kohtasime, oli tuttav ja teretas meid.')\n",
    "\n",
    "text.tag_layer(['clauses'])\n",
    "text.clauses"
   ]
  },
  {
   "cell_type": "markdown",
   "metadata": {},
   "source": [
    "There are two types of clauses: \n",
    " * **regular** clauses, which are usually separated from one another by punctuation and/or conjunctive words (such as _ja, ning, et, sest, kuid_);\n",
    " * **embedded** clauses, which are nested inside other clauses, and divide their parent clauses into two parts; embedded clauses can also be nested inside other embedded clauses, that is, the structure of embedding can be recursive;\n"
   ]
  },
  {
   "cell_type": "markdown",
   "metadata": {},
   "source": [
    "Linguistic motivations behind the clause segmenting are discussed by Kaalep and Muischnek in the articles [(2012A)](http://www.lrec-conf.org/proceedings/lrec2012/summaries/229.html) and [(2012B)](http://arhiiv.rakenduslingvistika.ee/ajakirjad/index.php/aastaraamat/article/view/ERYa8.04/6)."
   ]
  },
  {
   "cell_type": "markdown",
   "metadata": {},
   "source": [
    "**Note**: EstNLTK's clause segmenter uses a Java-based implementation of the tool. Before using the clause segmenter, make sure that:\n",
    "  * Java SE Runtime Environment (version >= 1.8) is installed into the system;\n",
    "  * `java` is in the [PATH environment variable](https://docs.oracle.com/javase/tutorial/essential/environment/paths.html);\n",
    "\n",
    "Source code of the Java-based clause segmenter is available [here](https://github.com/soras/osalausestaja)."
   ]
  },
  {
   "cell_type": "markdown",
   "metadata": {},
   "source": [
    "### ClauseSegmenter class\n",
    "\n",
    "#### The basic mode"
   ]
  },
  {
   "cell_type": "markdown",
   "metadata": {},
   "source": [
    "Clause segmenter can also be initiated as a stand-alone class:"
   ]
  },
  {
   "cell_type": "code",
   "execution_count": 2,
   "metadata": {},
   "outputs": [
    {
     "data": {
      "text/html": [
       "<h4>Tagger</h4>\n",
       "Tags clause boundaries inside sentences. Uses Java-based clause segmenter (Osalausestaja) to perform the tagging.\n",
       "<table border=\"1\" class=\"dataframe\">\n",
       "  <thead>\n",
       "    <tr style=\"text-align: right;\">\n",
       "      <th>name</th>\n",
       "      <th>layer</th>\n",
       "      <th>attributes</th>\n",
       "      <th>depends_on</th>\n",
       "    </tr>\n",
       "  </thead>\n",
       "  <tbody>\n",
       "    <tr>\n",
       "      <td>ClauseSegmenter</td>\n",
       "      <td>clauses</td>\n",
       "      <td>(clause_type,)</td>\n",
       "      <td>[words, sentences, morph_analysis]</td>\n",
       "    </tr>\n",
       "  </tbody>\n",
       "</table>\n",
       "<h4>Configuration</h4>\n",
       "<table border=\"1\" class=\"dataframe\">\n",
       "  <tbody>\n",
       "    <tr>\n",
       "      <th>ignore_missing_commas</th>\n",
       "      <td>False</td>\n",
       "    </tr>\n",
       "  </tbody>\n",
       "</table>"
      ],
      "text/plain": [
       "ClauseSegmenter(ignore_missing_commas=False)"
      ]
     },
     "execution_count": 2,
     "metadata": {},
     "output_type": "execute_result"
    }
   ],
   "source": [
    "from estnltk.taggers import ClauseSegmenter\n",
    "clause_segmenter = ClauseSegmenter()\n",
    "clause_segmenter"
   ]
  },
  {
   "cell_type": "markdown",
   "metadata": {},
   "source": [
    "Note that before applying `ClauseSegmenter`, the input `Text` object must have layers `\"words\"`, `\"sentences\"`, and also `\"morph_analysis\"`. The last layer is required because clause tagging also needs information which about finite verbs in the text."
   ]
  },
  {
   "cell_type": "code",
   "execution_count": 3,
   "metadata": {},
   "outputs": [
    {
     "data": {
      "text/html": [
       "<h4>SpanList</h4>\n",
       "<table border=\"1\" class=\"dataframe\">\n",
       "  <thead>\n",
       "    <tr style=\"text-align: right;\">\n",
       "      <th>layer name</th>\n",
       "      <th>attributes</th>\n",
       "      <th>parent</th>\n",
       "      <th>enveloping</th>\n",
       "      <th>ambiguous</th>\n",
       "      <th>span count</th>\n",
       "    </tr>\n",
       "  </thead>\n",
       "  <tbody>\n",
       "    <tr>\n",
       "      <td>clauses</td>\n",
       "      <td>clause_type</td>\n",
       "      <td>None</td>\n",
       "      <td>words</td>\n",
       "      <td>False</td>\n",
       "      <td>3</td>\n",
       "    </tr>\n",
       "  </tbody>\n",
       "</table>\n",
       "<table border=\"1\" class=\"dataframe\">\n",
       "  <thead>\n",
       "    <tr style=\"text-align: right;\">\n",
       "      <th>text</th>\n",
       "      <th>start</th>\n",
       "      <th>end</th>\n",
       "      <th>clause_type</th>\n",
       "    </tr>\n",
       "  </thead>\n",
       "  <tbody>\n",
       "    <tr>\n",
       "      <td><b>Igaüks</b>, kes traktori eest miljon krooni lauale laob, <b>on</b> <b>huvitatud</b> <b>sellest</b><b>,</b></td>\n",
       "      <td>0</td>\n",
       "      <td>74</td>\n",
       "      <td>regular</td>\n",
       "    </tr>\n",
       "    <tr>\n",
       "      <td><b>,</b> <b>kes</b> <b>traktori</b> <b>eest</b> <b>miljon</b> <b>krooni</b> <b>lauale</b> <b>laob</b><b>,</b></td>\n",
       "      <td>6</td>\n",
       "      <td>52</td>\n",
       "      <td>embedded</td>\n",
       "    </tr>\n",
       "    <tr>\n",
       "      <td><b>et</b> <b>traktor</b> <b>meenutaks</b> <b>lisavõimaluste</b> <b>poolest</b> <b>võimalikult</b> <b>palju</b> <b>kosmoselaeva</b><b>.</b></td>\n",
       "      <td>75</td>\n",
       "      <td>150</td>\n",
       "      <td>regular</td>\n",
       "    </tr>\n",
       "  </tbody>\n",
       "</table>"
      ],
      "text/plain": [
       "SL[SL[Span(Igaüks, {'normalized_form': None}),\n",
       "Span(on, {'normalized_form': None}),\n",
       "Span(huvitatud, {'normalized_form': None}),\n",
       "Span(sellest, {'normalized_form': None}),\n",
       "Span(,, {'normalized_form': None})],\n",
       "SL[Span(,, {'normalized_form': None}),\n",
       "Span(kes, {'normalized_form': None}),\n",
       "Span(traktori, {'normalized_form': None}),\n",
       "Span(eest, {'normalized_form': None}),\n",
       "Span(miljon, {'normalized_form': None}),\n",
       "Span(krooni, {'normalized_form': None}),\n",
       "Span(lauale, {'normalized_form': None}),\n",
       "Span(laob, {'normalized_form': None}),\n",
       "Span(,, {'normalized_form': None})],\n",
       "SL[Span(et, {'normalized_form': None}),\n",
       "Span(traktor, {'normalized_form': None}),\n",
       "Span(meenutaks, {'normalized_form': None}),\n",
       "Span(lisavõimaluste, {'normalized_form': None}),\n",
       "Span(poolest, {'normalized_form': None}),\n",
       "Span(võimalikult, {'normalized_form': None}),\n",
       "Span(palju, {'normalized_form': None}),\n",
       "Span(kosmoselaeva, {'normalized_form': None}),\n",
       "Span(., {'normalized_form': None})]]"
      ]
     },
     "execution_count": 3,
     "metadata": {},
     "output_type": "execute_result"
    }
   ],
   "source": [
    "from estnltk import Text\n",
    "\n",
    "text = Text('Igaüks, kes traktori eest miljon krooni lauale laob, on huvitatud sellest, '+\\\n",
    "            'et traktor meenutaks lisavõimaluste poolest võimalikult palju kosmoselaeva.')\n",
    "# Add required layers\n",
    "text.tag_layer(['words', 'sentences', 'morph_analysis'])\n",
    "# Add clause annotation\n",
    "clause_segmenter.tag(text)\n",
    "text.clauses"
   ]
  },
  {
   "cell_type": "markdown",
   "metadata": {},
   "source": [
    "#### The `ignore_missing_commas` mode\n",
    "\n",
    "Because commas are important clause delimiters in Estonian, the quality of the clause segmentation may suffer due to accidentially missing commas in the input text. To address this issue, the clause segmenter can be initialized in a mode in which the program tries to be less sensitive to missing commas while detecting clause boundaries. Example:"
   ]
  },
  {
   "cell_type": "code",
   "execution_count": 4,
   "metadata": {},
   "outputs": [
    {
     "data": {
      "text/html": [
       "<h4>SpanList</h4>\n",
       "<table border=\"1\" class=\"dataframe\">\n",
       "  <thead>\n",
       "    <tr style=\"text-align: right;\">\n",
       "      <th>layer name</th>\n",
       "      <th>attributes</th>\n",
       "      <th>parent</th>\n",
       "      <th>enveloping</th>\n",
       "      <th>ambiguous</th>\n",
       "      <th>span count</th>\n",
       "    </tr>\n",
       "  </thead>\n",
       "  <tbody>\n",
       "    <tr>\n",
       "      <td>clauses</td>\n",
       "      <td>clause_type</td>\n",
       "      <td>None</td>\n",
       "      <td>words</td>\n",
       "      <td>False</td>\n",
       "      <td>4</td>\n",
       "    </tr>\n",
       "  </tbody>\n",
       "</table>\n",
       "<table border=\"1\" class=\"dataframe\">\n",
       "  <thead>\n",
       "    <tr style=\"text-align: right;\">\n",
       "      <th>text</th>\n",
       "      <th>start</th>\n",
       "      <th>end</th>\n",
       "      <th>clause_type</th>\n",
       "    </tr>\n",
       "  </thead>\n",
       "  <tbody>\n",
       "    <tr>\n",
       "      <td><b>Keegi</b> <b>teine</b> <b>ka</b> <b>siin</b> <b>ju</b> <b>kirjutas</b></td>\n",
       "      <td>0</td>\n",
       "      <td>31</td>\n",
       "      <td>regular</td>\n",
       "    </tr>\n",
       "    <tr>\n",
       "      <td><b>et</b> <b>ütles</b></td>\n",
       "      <td>32</td>\n",
       "      <td>40</td>\n",
       "      <td>regular</td>\n",
       "    </tr>\n",
       "    <tr>\n",
       "      <td><b>et</b> <b>saab</b> <b>ise</b> <b>asjadele</b> <b>järgi</b> <b>minna</b></td>\n",
       "      <td>41</td>\n",
       "      <td>73</td>\n",
       "      <td>regular</td>\n",
       "    </tr>\n",
       "    <tr>\n",
       "      <td><b>aga</b> <b>vastust</b> <b>seepeale</b> <b>ei</b> <b>tulnudki</b><b>.</b></td>\n",
       "      <td>74</td>\n",
       "      <td>107</td>\n",
       "      <td>regular</td>\n",
       "    </tr>\n",
       "  </tbody>\n",
       "</table>"
      ],
      "text/plain": [
       "SL[SL[Span(Keegi, {'normalized_form': None}),\n",
       "Span(teine, {'normalized_form': None}),\n",
       "Span(ka, {'normalized_form': None}),\n",
       "Span(siin, {'normalized_form': None}),\n",
       "Span(ju, {'normalized_form': None}),\n",
       "Span(kirjutas, {'normalized_form': None})],\n",
       "SL[Span(et, {'normalized_form': None}),\n",
       "Span(ütles, {'normalized_form': None})],\n",
       "SL[Span(et, {'normalized_form': None}),\n",
       "Span(saab, {'normalized_form': None}),\n",
       "Span(ise, {'normalized_form': None}),\n",
       "Span(asjadele, {'normalized_form': None}),\n",
       "Span(järgi, {'normalized_form': None}),\n",
       "Span(minna, {'normalized_form': None})],\n",
       "SL[Span(aga, {'normalized_form': None}),\n",
       "Span(vastust, {'normalized_form': None}),\n",
       "Span(seepeale, {'normalized_form': None}),\n",
       "Span(ei, {'normalized_form': None}),\n",
       "Span(tulnudki, {'normalized_form': None}),\n",
       "Span(., {'normalized_form': None})]]"
      ]
     },
     "execution_count": 4,
     "metadata": {},
     "output_type": "execute_result"
    }
   ],
   "source": [
    "from estnltk import Text\n",
    "from estnltk.taggers import ClauseSegmenter\n",
    "clause_segmenter_2 = ClauseSegmenter(ignore_missing_commas=True)\n",
    "\n",
    "text = Text('Keegi teine ka siin ju kirjutas et ütles et saab ise asjadele järgi '+\n",
    "            'minna aga vastust seepeale ei tulnudki.')\n",
    "# Add required layers\n",
    "text.tag_layer(['words', 'sentences', 'morph_analysis'])\n",
    "# Add clause annotation\n",
    "clause_segmenter_2.tag(text)\n",
    "text.clauses"
   ]
  },
  {
   "cell_type": "markdown",
   "metadata": {},
   "source": [
    "Note that compared to the basic mode, this mode may introduce additional incorrect clause boundaries, although it also improves clause boundary detection in texts with (a lot of) missing commas."
   ]
  }
 ],
 "metadata": {
  "kernelspec": {
   "display_name": "Python 3",
   "language": "python",
   "name": "python3"
  },
  "language_info": {
   "codemirror_mode": {
    "name": "ipython",
    "version": 3
   },
   "file_extension": ".py",
   "mimetype": "text/x-python",
   "name": "python",
   "nbconvert_exporter": "python",
   "pygments_lexer": "ipython3",
   "version": "3.5.4"
  }
 },
 "nbformat": 4,
 "nbformat_minor": 2
}
