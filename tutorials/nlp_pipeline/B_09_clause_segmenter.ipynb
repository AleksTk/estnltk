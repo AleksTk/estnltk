{
 "cells": [
  {
   "cell_type": "markdown",
   "metadata": {},
   "source": [
    "## Clause Segmenter\n",
    "\n",
    "A simple sentence, also called an independent clause, typically contains a finite verb, and expresses a complete thought. However, natural language sentences can also be long and complex, consisting of two or more clauses joined together. The clause structure can be made even more complex due to embedded clauses, which divide their parent clauses into two halves, for instance:"
   ]
  },
  {
   "cell_type": "markdown",
   "metadata": {},
   "source": [
    "        'Mees, keda seal kohtasime, oli tuttav ja teretas meid.'\n",
    "        '[Mees, [keda seal kohtasime,] oli tuttav ja] [teretas meid.]'\n",
    "        (in the example, clauses are surrounded by brackets)"
   ]
  },
  {
   "cell_type": "markdown",
   "metadata": {},
   "source": [
    "Clause segmenter is a program that splits long and complex natural language sentences into clauses. Example:"
   ]
  },
  {
   "cell_type": "code",
   "execution_count": 1,
   "metadata": {},
   "outputs": [
    {
     "data": {
      "text/html": [
       "<h4>Layer</h4>\n",
       "<table border=\"1\" class=\"dataframe\">\n",
       "  <thead>\n",
       "    <tr style=\"text-align: right;\">\n",
       "      <th>layer name</th>\n",
       "      <th>attributes</th>\n",
       "      <th>parent</th>\n",
       "      <th>enveloping</th>\n",
       "      <th>ambiguous</th>\n",
       "      <th>span count</th>\n",
       "    </tr>\n",
       "  </thead>\n",
       "  <tbody>\n",
       "    <tr>\n",
       "      <td>clauses</td>\n",
       "      <td>clause_type</td>\n",
       "      <td>None</td>\n",
       "      <td>words</td>\n",
       "      <td>False</td>\n",
       "      <td>3</td>\n",
       "    </tr>\n",
       "  </tbody>\n",
       "</table>\n",
       "<table border=\"1\" class=\"dataframe\">\n",
       "  <thead>\n",
       "    <tr style=\"text-align: right;\">\n",
       "      <th>text</th>\n",
       "      <th>clause_type</th>\n",
       "    </tr>\n",
       "  </thead>\n",
       "  <tbody>\n",
       "    <tr>\n",
       "      <td>['Mees', 'oli', 'tuttav', 'ja']</td>\n",
       "      <td>regular</td>\n",
       "    </tr>\n",
       "    <tr>\n",
       "      <td>[',', 'keda', 'seal', 'kohtasime', ',']</td>\n",
       "      <td>embedded</td>\n",
       "    </tr>\n",
       "    <tr>\n",
       "      <td>['teretas', 'meid', '.']</td>\n",
       "      <td>regular</td>\n",
       "    </tr>\n",
       "  </tbody>\n",
       "</table>"
      ],
      "text/plain": [
       "Layer(name=clauses, spans=SL[ES[Span(start=0, end=4, text='Mees'),\n",
       "Span(start=27, end=30, text='oli'),\n",
       "Span(start=31, end=37, text='tuttav'),\n",
       "Span(start=38, end=40, text='ja')],\n",
       "ES[Span(start=4, end=5, text=','),\n",
       "Span(start=6, end=10, text='keda'),\n",
       "Span(start=11, end=15, text='seal'),\n",
       "Span(start=16, end=25, text='kohtasime'),\n",
       "Span(start=25, end=26, text=',')],\n",
       "ES[Span(start=41, end=48, text='teretas'),\n",
       "Span(start=49, end=53, text='meid'),\n",
       "Span(start=53, end=54, text='.')]])"
      ]
     },
     "execution_count": 1,
     "metadata": {},
     "output_type": "execute_result"
    }
   ],
   "source": [
    "from estnltk import Text\n",
    "\n",
    "text = Text('Mees, keda seal kohtasime, oli tuttav ja teretas meid.')\n",
    "\n",
    "text.tag_layer(['clauses'])\n",
    "text.clauses"
   ]
  },
  {
   "cell_type": "markdown",
   "metadata": {},
   "source": [
    "There are two types of clauses: \n",
    " * **regular** clauses, which are usually separated from one another by punctuation and/or conjunctive words (such as _ja, ning, et, sest, kuid_);\n",
    " * **embedded** clauses, which are nested inside other clauses, and divide their parent clauses into two parts; embedded clauses can also be nested inside other embedded clauses, that is, the structure of embedding can be recursive;\n"
   ]
  },
  {
   "cell_type": "markdown",
   "metadata": {},
   "source": [
    "Linguistic motivations behind the clause segmenting are discussed by Kaalep and Muischnek in the articles [(2012A)](http://www.lrec-conf.org/proceedings/lrec2012/summaries/229.html) and [(2012B)](http://arhiiv.rakenduslingvistika.ee/ajakirjad/index.php/aastaraamat/article/view/ERYa8.04/6)."
   ]
  },
  {
   "cell_type": "markdown",
   "metadata": {},
   "source": [
    "**Note**: EstNLTK's clause segmenter uses a Java-based implementation of the tool. Before using the clause segmenter, make sure that:\n",
    "  * Java SE Runtime Environment (version >= 1.8) is installed into the system;\n",
    "  * `java` is in the [PATH environment variable](https://docs.oracle.com/javase/tutorial/essential/environment/paths.html);\n",
    "\n",
    "Source code of the Java-based clause segmenter is available [here](https://github.com/soras/osalausestaja)."
   ]
  },
  {
   "cell_type": "markdown",
   "metadata": {},
   "source": [
    "### ClauseSegmenter class\n",
    "\n",
    "#### The basic mode"
   ]
  },
  {
   "cell_type": "markdown",
   "metadata": {},
   "source": [
    "Clause segmenter can also be initiated as a stand-alone class:"
   ]
  },
  {
   "cell_type": "code",
   "execution_count": 2,
   "metadata": {},
   "outputs": [
    {
     "data": {
      "text/html": [
       "<h4>Tagger</h4>\n",
       "Tags clause boundaries inside sentences. Uses Java-based clause\n",
       "<table border=\"1\" class=\"dataframe\">\n",
       "  <thead>\n",
       "    <tr style=\"text-align: right;\">\n",
       "      <th>name</th>\n",
       "      <th>output layer</th>\n",
       "      <th>output attributes</th>\n",
       "      <th>input layers</th>\n",
       "    </tr>\n",
       "  </thead>\n",
       "  <tbody>\n",
       "    <tr>\n",
       "      <td>ClauseSegmenter</td>\n",
       "      <td>clauses</td>\n",
       "      <td>('clause_type',)</td>\n",
       "      <td>['words', 'sentences', 'morph_analysis']</td>\n",
       "    </tr>\n",
       "  </tbody>\n",
       "</table>\n",
       "<h4>Configuration</h4>\n",
       "<table border=\"1\" class=\"dataframe\">\n",
       "  <tbody>\n",
       "    <tr>\n",
       "      <th>ignore_missing_commas</th>\n",
       "      <td>False</td>\n",
       "    </tr>\n",
       "    <tr>\n",
       "      <th>depends_on</th>\n",
       "      <td>['words', 'sentences', 'morph_analysis']</td>\n",
       "    </tr>\n",
       "    <tr>\n",
       "      <th>layer_name</th>\n",
       "      <td>clauses</td>\n",
       "    </tr>\n",
       "  </tbody>\n",
       "</table>"
      ],
      "text/plain": [
       "ClauseSegmenter(input_layers=['words', 'sentences', 'morph_analysis'], output_layer=clauses, output_attributes=('clause_type',), ignore_missing_commas=False, depends_on=['words', 'sentences', 'morph_analysis'], layer_name=clauses)"
      ]
     },
     "execution_count": 2,
     "metadata": {},
     "output_type": "execute_result"
    }
   ],
   "source": [
    "from estnltk.taggers import ClauseSegmenter\n",
    "clause_segmenter = ClauseSegmenter()\n",
    "clause_segmenter"
   ]
  },
  {
   "cell_type": "markdown",
   "metadata": {},
   "source": [
    "Note that before applying `ClauseSegmenter`, the input `Text` object must have layers `\"words\"`, `\"sentences\"`, and also `\"morph_analysis\"`. The last layer is required because clause tagging also needs information which about finite verbs in the text."
   ]
  },
  {
   "cell_type": "code",
   "execution_count": 3,
   "metadata": {},
   "outputs": [
    {
     "data": {
      "text/html": [
       "<h4>Layer</h4>\n",
       "<table border=\"1\" class=\"dataframe\">\n",
       "  <thead>\n",
       "    <tr style=\"text-align: right;\">\n",
       "      <th>layer name</th>\n",
       "      <th>attributes</th>\n",
       "      <th>parent</th>\n",
       "      <th>enveloping</th>\n",
       "      <th>ambiguous</th>\n",
       "      <th>span count</th>\n",
       "    </tr>\n",
       "  </thead>\n",
       "  <tbody>\n",
       "    <tr>\n",
       "      <td>clauses</td>\n",
       "      <td>clause_type</td>\n",
       "      <td>None</td>\n",
       "      <td>words</td>\n",
       "      <td>False</td>\n",
       "      <td>3</td>\n",
       "    </tr>\n",
       "  </tbody>\n",
       "</table>\n",
       "<table border=\"1\" class=\"dataframe\">\n",
       "  <thead>\n",
       "    <tr style=\"text-align: right;\">\n",
       "      <th>text</th>\n",
       "      <th>clause_type</th>\n",
       "    </tr>\n",
       "  </thead>\n",
       "  <tbody>\n",
       "    <tr>\n",
       "      <td>['Igaüks', 'on', 'huvitatud', 'sellest', ',']</td>\n",
       "      <td>regular</td>\n",
       "    </tr>\n",
       "    <tr>\n",
       "      <td>[',', 'kes', 'traktori', 'eest', 'miljon', 'krooni', 'lauale', 'laob', ',']</td>\n",
       "      <td>embedded</td>\n",
       "    </tr>\n",
       "    <tr>\n",
       "      <td>['et', 'traktor', 'meenutaks', 'lisavõimaluste', 'poolest', 'võimalikult', 'palju', 'kosmoselaeva', '.']</td>\n",
       "      <td>regular</td>\n",
       "    </tr>\n",
       "  </tbody>\n",
       "</table>"
      ],
      "text/plain": [
       "Layer(name=clauses, spans=SL[ES[Span(start=0, end=6, text='Igaüks'),\n",
       "Span(start=53, end=55, text='on'),\n",
       "Span(start=56, end=65, text='huvitatud'),\n",
       "Span(start=66, end=73, text='sellest'),\n",
       "Span(start=73, end=74, text=',')],\n",
       "ES[Span(start=6, end=7, text=','),\n",
       "Span(start=8, end=11, text='kes'),\n",
       "Span(start=12, end=20, text='traktori'),\n",
       "Span(start=21, end=25, text='eest'),\n",
       "Span(start=26, end=32, text='miljon'),\n",
       "Span(start=33, end=39, text='krooni'),\n",
       "Span(start=40, end=46, text='lauale'),\n",
       "Span(start=47, end=51, text='laob'),\n",
       "Span(start=51, end=52, text=',')],\n",
       "ES[Span(start=75, end=77, text='et'),\n",
       "Span(start=78, end=85, text='traktor'),\n",
       "Span(start=86, end=95, text='meenutaks'),\n",
       "Span(start=96, end=110, text='lisavõimaluste'),\n",
       "Span(start=111, end=118, text='poolest'),\n",
       "Span(start=119, end=130, text='võimalikult'),\n",
       "Span(start=131, end=136, text='palju'),\n",
       "Span(start=137, end=149, text='kosmoselaeva'),\n",
       "Span(start=149, end=150, text='.')]])"
      ]
     },
     "execution_count": 3,
     "metadata": {},
     "output_type": "execute_result"
    }
   ],
   "source": [
    "from estnltk import Text\n",
    "\n",
    "text = Text('Igaüks, kes traktori eest miljon krooni lauale laob, on huvitatud sellest, '+\\\n",
    "            'et traktor meenutaks lisavõimaluste poolest võimalikult palju kosmoselaeva.')\n",
    "# Add required layers\n",
    "text.tag_layer(['words', 'sentences', 'morph_analysis'])\n",
    "# Add clause annotation\n",
    "clause_segmenter.tag(text)\n",
    "text.clauses"
   ]
  },
  {
   "cell_type": "markdown",
   "metadata": {},
   "source": [
    "#### The `ignore_missing_commas` mode\n",
    "\n",
    "Because commas are important clause delimiters in Estonian, the quality of the clause segmentation may suffer due to accidentially missing commas in the input text. To address this issue, the clause segmenter can be initialized in a mode in which the program tries to be less sensitive to missing commas while detecting clause boundaries. Example:"
   ]
  },
  {
   "cell_type": "code",
   "execution_count": 4,
   "metadata": {},
   "outputs": [
    {
     "data": {
      "text/html": [
       "<h4>Layer</h4>\n",
       "<table border=\"1\" class=\"dataframe\">\n",
       "  <thead>\n",
       "    <tr style=\"text-align: right;\">\n",
       "      <th>layer name</th>\n",
       "      <th>attributes</th>\n",
       "      <th>parent</th>\n",
       "      <th>enveloping</th>\n",
       "      <th>ambiguous</th>\n",
       "      <th>span count</th>\n",
       "    </tr>\n",
       "  </thead>\n",
       "  <tbody>\n",
       "    <tr>\n",
       "      <td>clauses</td>\n",
       "      <td>clause_type</td>\n",
       "      <td>None</td>\n",
       "      <td>words</td>\n",
       "      <td>False</td>\n",
       "      <td>4</td>\n",
       "    </tr>\n",
       "  </tbody>\n",
       "</table>\n",
       "<table border=\"1\" class=\"dataframe\">\n",
       "  <thead>\n",
       "    <tr style=\"text-align: right;\">\n",
       "      <th>text</th>\n",
       "      <th>clause_type</th>\n",
       "    </tr>\n",
       "  </thead>\n",
       "  <tbody>\n",
       "    <tr>\n",
       "      <td>['Keegi', 'teine', 'ka', 'siin', 'ju', 'kirjutas']</td>\n",
       "      <td>regular</td>\n",
       "    </tr>\n",
       "    <tr>\n",
       "      <td>['et', 'ütles']</td>\n",
       "      <td>regular</td>\n",
       "    </tr>\n",
       "    <tr>\n",
       "      <td>['et', 'saab', 'ise', 'asjadele', 'järgi', 'minna']</td>\n",
       "      <td>regular</td>\n",
       "    </tr>\n",
       "    <tr>\n",
       "      <td>['aga', 'vastust', 'seepeale', 'ei', 'tulnudki', '.']</td>\n",
       "      <td>regular</td>\n",
       "    </tr>\n",
       "  </tbody>\n",
       "</table>"
      ],
      "text/plain": [
       "Layer(name=clauses, spans=SL[ES[Span(start=0, end=5, text='Keegi'),\n",
       "Span(start=6, end=11, text='teine'),\n",
       "Span(start=12, end=14, text='ka'),\n",
       "Span(start=15, end=19, text='siin'),\n",
       "Span(start=20, end=22, text='ju'),\n",
       "Span(start=23, end=31, text='kirjutas')],\n",
       "ES[Span(start=32, end=34, text='et'),\n",
       "Span(start=35, end=40, text='ütles')],\n",
       "ES[Span(start=41, end=43, text='et'),\n",
       "Span(start=44, end=48, text='saab'),\n",
       "Span(start=49, end=52, text='ise'),\n",
       "Span(start=53, end=61, text='asjadele'),\n",
       "Span(start=62, end=67, text='järgi'),\n",
       "Span(start=68, end=73, text='minna')],\n",
       "ES[Span(start=74, end=77, text='aga'),\n",
       "Span(start=78, end=85, text='vastust'),\n",
       "Span(start=86, end=94, text='seepeale'),\n",
       "Span(start=95, end=97, text='ei'),\n",
       "Span(start=98, end=106, text='tulnudki'),\n",
       "Span(start=106, end=107, text='.')]])"
      ]
     },
     "execution_count": 4,
     "metadata": {},
     "output_type": "execute_result"
    }
   ],
   "source": [
    "from estnltk import Text\n",
    "from estnltk.taggers import ClauseSegmenter\n",
    "clause_segmenter_2 = ClauseSegmenter(ignore_missing_commas=True)\n",
    "\n",
    "text = Text('Keegi teine ka siin ju kirjutas et ütles et saab ise asjadele järgi '+\n",
    "            'minna aga vastust seepeale ei tulnudki.')\n",
    "# Add required layers\n",
    "text.tag_layer(['words', 'sentences', 'morph_analysis'])\n",
    "# Add clause annotation\n",
    "clause_segmenter_2.tag(text)\n",
    "text.clauses"
   ]
  },
  {
   "cell_type": "markdown",
   "metadata": {},
   "source": [
    "Note that compared to the basic mode, this mode may introduce additional incorrect clause boundaries, although it also improves clause boundary detection in texts with (a lot of) missing commas."
   ]
  }
 ],
 "metadata": {
  "kernelspec": {
   "display_name": "Python 3",
   "language": "python",
   "name": "python3"
  },
  "language_info": {
   "codemirror_mode": {
    "name": "ipython",
    "version": 3
   },
   "file_extension": ".py",
   "mimetype": "text/x-python",
   "name": "python",
   "nbconvert_exporter": "python",
   "pygments_lexer": "ipython3",
   "version": "3.5.5"
  }
 },
 "nbformat": 4,
 "nbformat_minor": 2
}
