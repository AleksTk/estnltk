{
 "cells": [
  {
   "cell_type": "markdown",
   "metadata": {},
   "source": [
    "## Morphological analysis with user dictionary\n",
    "\n",
    "If you need to analyse non-standard Estonian texts (such as the Internet language, transcribed spoken language, or written texts heavily influenced by regional dialects), the standard morphological analyser will probably have suboptimal performance. \n",
    "But if the errors are regular enough, you can compose (either manually or semi-automatically) a user dictionary with corrections.\n",
    "You can apply the dictionary to rewrite `'morph_analysis'` layer, so that words with erroneous analyses will have correct analyses from the dictionary.\n",
    "\n",
    "Let's consider an example sentence from the Internet language:"
   ]
  },
  {
   "cell_type": "code",
   "execution_count": 1,
   "metadata": {
    "collapsed": true
   },
   "outputs": [],
   "source": [
    "text_str = \"see onn hädavajalik vajd merel, xhus vxi metsas\""
   ]
  },
  {
   "cell_type": "markdown",
   "metadata": {},
   "source": [
    "First, let's try to analyse it with the standard morphological analyser:"
   ]
  },
  {
   "cell_type": "code",
   "execution_count": 2,
   "metadata": {},
   "outputs": [
    {
     "data": {
      "text/html": [
       "<h4>Layer</h4>\n",
       "<table border=\"1\" class=\"dataframe\">\n",
       "  <thead>\n",
       "    <tr style=\"text-align: right;\">\n",
       "      <th>layer name</th>\n",
       "      <th>attributes</th>\n",
       "      <th>parent</th>\n",
       "      <th>enveloping</th>\n",
       "      <th>ambiguous</th>\n",
       "      <th>span count</th>\n",
       "    </tr>\n",
       "  </thead>\n",
       "  <tbody>\n",
       "    <tr>\n",
       "      <td>morph_analysis</td>\n",
       "      <td>lemma, root, root_tokens, ending, clitic, form...</td>\n",
       "      <td>words</td>\n",
       "      <td>None</td>\n",
       "      <td>True</td>\n",
       "      <td>9</td>\n",
       "    </tr>\n",
       "  </tbody>\n",
       "</table>\n",
       "<table border=\"1\" class=\"dataframe\">\n",
       "  <thead>\n",
       "    <tr style=\"text-align: right;\">\n",
       "      <th>text</th>\n",
       "      <th>lemma</th>\n",
       "      <th>root</th>\n",
       "      <th>root_tokens</th>\n",
       "      <th>ending</th>\n",
       "      <th>clitic</th>\n",
       "      <th>form</th>\n",
       "      <th>partofspeech</th>\n",
       "    </tr>\n",
       "  </thead>\n",
       "  <tbody>\n",
       "    <tr>\n",
       "      <td>see</td>\n",
       "      <td>see</td>\n",
       "      <td>see</td>\n",
       "      <td>('see',)</td>\n",
       "      <td>0</td>\n",
       "      <td></td>\n",
       "      <td>sg n</td>\n",
       "      <td>P</td>\n",
       "    </tr>\n",
       "    <tr>\n",
       "      <td>onn</td>\n",
       "      <td>onn</td>\n",
       "      <td>onn</td>\n",
       "      <td>('onn',)</td>\n",
       "      <td>0</td>\n",
       "      <td></td>\n",
       "      <td>sg n</td>\n",
       "      <td>S</td>\n",
       "    </tr>\n",
       "    <tr>\n",
       "      <td>hädavajalik</td>\n",
       "      <td>hädavajalik</td>\n",
       "      <td>häda_vajalik</td>\n",
       "      <td>('häda', 'vajalik')</td>\n",
       "      <td>0</td>\n",
       "      <td></td>\n",
       "      <td>sg n</td>\n",
       "      <td>A</td>\n",
       "    </tr>\n",
       "    <tr>\n",
       "      <td>vajd</td>\n",
       "      <td>vajd</td>\n",
       "      <td>vajd</td>\n",
       "      <td>('vajd',)</td>\n",
       "      <td>0</td>\n",
       "      <td></td>\n",
       "      <td>sg n</td>\n",
       "      <td>S</td>\n",
       "    </tr>\n",
       "    <tr>\n",
       "      <td>merel</td>\n",
       "      <td>meri</td>\n",
       "      <td>meri</td>\n",
       "      <td>('meri',)</td>\n",
       "      <td>l</td>\n",
       "      <td></td>\n",
       "      <td>sg ad</td>\n",
       "      <td>S</td>\n",
       "    </tr>\n",
       "    <tr>\n",
       "      <td>,</td>\n",
       "      <td>,</td>\n",
       "      <td>,</td>\n",
       "      <td>(',',)</td>\n",
       "      <td></td>\n",
       "      <td></td>\n",
       "      <td></td>\n",
       "      <td>Z</td>\n",
       "    </tr>\n",
       "    <tr>\n",
       "      <td>xhus</td>\n",
       "      <td>xhu</td>\n",
       "      <td>xhu</td>\n",
       "      <td>('xhu',)</td>\n",
       "      <td>s</td>\n",
       "      <td></td>\n",
       "      <td>sg in</td>\n",
       "      <td>S</td>\n",
       "    </tr>\n",
       "    <tr>\n",
       "      <td>vxi</td>\n",
       "      <td>vxi</td>\n",
       "      <td>vxi</td>\n",
       "      <td>('vxi',)</td>\n",
       "      <td>0</td>\n",
       "      <td></td>\n",
       "      <td>sg g</td>\n",
       "      <td>S</td>\n",
       "    </tr>\n",
       "    <tr>\n",
       "      <td>metsas</td>\n",
       "      <td>mets</td>\n",
       "      <td>mets</td>\n",
       "      <td>('mets',)</td>\n",
       "      <td>s</td>\n",
       "      <td></td>\n",
       "      <td>sg in</td>\n",
       "      <td>S</td>\n",
       "    </tr>\n",
       "  </tbody>\n",
       "</table>"
      ],
      "text/plain": [
       "Layer(name=morph_analysis, spans=SL[AS[Span(see, {'clitic': '', 'ending': '0', 'form': 'sg n', 'lemma': 'see', 'partofspeech': 'P', 'root': 'see', 'root_tokens': ('see',)})],\n",
       "AS[Span(onn, {'clitic': '', 'ending': '0', 'form': 'sg n', 'lemma': 'onn', 'partofspeech': 'S', 'root': 'onn', 'root_tokens': ('onn',)})],\n",
       "AS[Span(hädavajalik, {'clitic': '', 'ending': '0', 'form': 'sg n', 'lemma': 'hädavajalik', 'partofspeech': 'A', 'root': 'häda_vajalik', 'root_tokens': ('häda', 'vajalik')})],\n",
       "AS[Span(vajd, {'clitic': '', 'ending': '0', 'form': 'sg n', 'lemma': 'vajd', 'partofspeech': 'S', 'root': 'vajd', 'root_tokens': ('vajd',)})],\n",
       "AS[Span(merel, {'clitic': '', 'ending': 'l', 'form': 'sg ad', 'lemma': 'meri', 'partofspeech': 'S', 'root': 'meri', 'root_tokens': ('meri',)})],\n",
       "AS[Span(,, {'clitic': '', 'ending': '', 'form': '', 'lemma': ',', 'partofspeech': 'Z', 'root': ',', 'root_tokens': (',',)})],\n",
       "AS[Span(xhus, {'clitic': '', 'ending': 's', 'form': 'sg in', 'lemma': 'xhu', 'partofspeech': 'S', 'root': 'xhu', 'root_tokens': ('xhu',)})],\n",
       "AS[Span(vxi, {'clitic': '', 'ending': '0', 'form': 'sg g', 'lemma': 'vxi', 'partofspeech': 'S', 'root': 'vxi', 'root_tokens': ('vxi',)})],\n",
       "AS[Span(metsas, {'clitic': '', 'ending': 's', 'form': 'sg in', 'lemma': 'mets', 'partofspeech': 'S', 'root': 'mets', 'root_tokens': ('mets',)})]])"
      ]
     },
     "execution_count": 2,
     "metadata": {},
     "output_type": "execute_result"
    }
   ],
   "source": [
    "from estnltk import Text\n",
    "text = Text(text_str)\n",
    "text.tag_layer(['morph_analysis'])\n",
    "text.morph_analysis"
   ]
  },
  {
   "cell_type": "markdown",
   "metadata": {},
   "source": [
    "Ok, the results were not so good.\n",
    "\n",
    "But we can create an user dictionary:"
   ]
  },
  {
   "cell_type": "code",
   "execution_count": 3,
   "metadata": {
    "collapsed": true
   },
   "outputs": [],
   "source": [
    "from estnltk.taggers import UserDictTagger\n",
    "\n",
    "# Create new user dictionary (stores words in case insensitive manner)\n",
    "userdict = UserDictTagger(ignore_case=True)"
   ]
  },
  {
   "cell_type": "markdown",
   "metadata": {},
   "source": [
    "... and populate it with correct analyses:"
   ]
  },
  {
   "cell_type": "code",
   "execution_count": 4,
   "metadata": {
    "collapsed": true
   },
   "outputs": [],
   "source": [
    "userdict.add_word('onn', [{'form': 'b', 'root': 'ole', 'ending':'0', 'partofspeech': 'V', 'clitic':''}] )\n",
    "userdict.add_word('vajd', [{'form': '', 'root': 'vaid', 'ending':'0', 'partofspeech': 'D', 'clitic':''}] )\n",
    "userdict.add_word('xhus', [{'form': 'sg in', 'root': 'õhk', 'ending':'s', 'partofspeech': 'S', 'clitic':''}] )\n",
    "userdict.add_word('vxi', [{'form': '', 'root': 'või', 'ending':'0', 'partofspeech': 'J', 'clitic':''}] )"
   ]
  },
  {
   "cell_type": "markdown",
   "metadata": {},
   "source": [
    "... and apply it to correct the analyses:"
   ]
  },
  {
   "cell_type": "code",
   "execution_count": 5,
   "metadata": {},
   "outputs": [
    {
     "data": {
      "text/html": [
       "<h4>Layer</h4>\n",
       "<table border=\"1\" class=\"dataframe\">\n",
       "  <thead>\n",
       "    <tr style=\"text-align: right;\">\n",
       "      <th>layer name</th>\n",
       "      <th>attributes</th>\n",
       "      <th>parent</th>\n",
       "      <th>enveloping</th>\n",
       "      <th>ambiguous</th>\n",
       "      <th>span count</th>\n",
       "    </tr>\n",
       "  </thead>\n",
       "  <tbody>\n",
       "    <tr>\n",
       "      <td>morph_analysis</td>\n",
       "      <td>lemma, root, root_tokens, ending, clitic, form, partofspeech</td>\n",
       "      <td>words</td>\n",
       "      <td>None</td>\n",
       "      <td>True</td>\n",
       "      <td>9</td>\n",
       "    </tr>\n",
       "  </tbody>\n",
       "</table>\n",
       "<table border=\"1\" class=\"dataframe\">\n",
       "  <thead>\n",
       "    <tr style=\"text-align: right;\">\n",
       "      <th>text</th>\n",
       "      <th>lemma</th>\n",
       "      <th>root</th>\n",
       "      <th>root_tokens</th>\n",
       "      <th>ending</th>\n",
       "      <th>clitic</th>\n",
       "      <th>form</th>\n",
       "      <th>partofspeech</th>\n",
       "    </tr>\n",
       "  </thead>\n",
       "  <tbody>\n",
       "    <tr>\n",
       "      <td>see</td>\n",
       "      <td>see</td>\n",
       "      <td>see</td>\n",
       "      <td>('see',)</td>\n",
       "      <td>0</td>\n",
       "      <td></td>\n",
       "      <td>sg n</td>\n",
       "      <td>P</td>\n",
       "    </tr>\n",
       "    <tr>\n",
       "      <td>onn</td>\n",
       "      <td>olema</td>\n",
       "      <td>ole</td>\n",
       "      <td>('ole',)</td>\n",
       "      <td>0</td>\n",
       "      <td></td>\n",
       "      <td>b</td>\n",
       "      <td>V</td>\n",
       "    </tr>\n",
       "    <tr>\n",
       "      <td>hädavajalik</td>\n",
       "      <td>hädavajalik</td>\n",
       "      <td>häda_vajalik</td>\n",
       "      <td>('häda', 'vajalik')</td>\n",
       "      <td>0</td>\n",
       "      <td></td>\n",
       "      <td>sg n</td>\n",
       "      <td>A</td>\n",
       "    </tr>\n",
       "    <tr>\n",
       "      <td>vajd</td>\n",
       "      <td>vaid</td>\n",
       "      <td>vaid</td>\n",
       "      <td>('vaid',)</td>\n",
       "      <td>0</td>\n",
       "      <td></td>\n",
       "      <td></td>\n",
       "      <td>D</td>\n",
       "    </tr>\n",
       "    <tr>\n",
       "      <td>merel</td>\n",
       "      <td>meri</td>\n",
       "      <td>meri</td>\n",
       "      <td>('meri',)</td>\n",
       "      <td>l</td>\n",
       "      <td></td>\n",
       "      <td>sg ad</td>\n",
       "      <td>S</td>\n",
       "    </tr>\n",
       "    <tr>\n",
       "      <td>,</td>\n",
       "      <td>,</td>\n",
       "      <td>,</td>\n",
       "      <td>(',',)</td>\n",
       "      <td></td>\n",
       "      <td></td>\n",
       "      <td></td>\n",
       "      <td>Z</td>\n",
       "    </tr>\n",
       "    <tr>\n",
       "      <td>xhus</td>\n",
       "      <td>õhk</td>\n",
       "      <td>õhk</td>\n",
       "      <td>('õhk',)</td>\n",
       "      <td>s</td>\n",
       "      <td></td>\n",
       "      <td>sg in</td>\n",
       "      <td>S</td>\n",
       "    </tr>\n",
       "    <tr>\n",
       "      <td>vxi</td>\n",
       "      <td>või</td>\n",
       "      <td>või</td>\n",
       "      <td>('või',)</td>\n",
       "      <td>0</td>\n",
       "      <td></td>\n",
       "      <td></td>\n",
       "      <td>J</td>\n",
       "    </tr>\n",
       "    <tr>\n",
       "      <td>metsas</td>\n",
       "      <td>mets</td>\n",
       "      <td>mets</td>\n",
       "      <td>('mets',)</td>\n",
       "      <td>s</td>\n",
       "      <td></td>\n",
       "      <td>sg in</td>\n",
       "      <td>S</td>\n",
       "    </tr>\n",
       "  </tbody>\n",
       "</table>"
      ],
      "text/plain": [
       "Layer(name=morph_analysis, spans=SL[AS[Span(see, {'clitic': '', 'ending': '0', 'form': 'sg n', 'lemma': 'see', 'partofspeech': 'P', 'root': 'see', 'root_tokens': ('see',)})],\n",
       "AS[Span(onn, {'clitic': '', 'ending': '0', 'form': 'b', 'lemma': 'olema', 'partofspeech': 'V', 'root': 'ole', 'root_tokens': ('ole',)})],\n",
       "AS[Span(hädavajalik, {'clitic': '', 'ending': '0', 'form': 'sg n', 'lemma': 'hädavajalik', 'partofspeech': 'A', 'root': 'häda_vajalik', 'root_tokens': ('häda', 'vajalik')})],\n",
       "AS[Span(vajd, {'clitic': '', 'ending': '0', 'form': '', 'lemma': 'vaid', 'partofspeech': 'D', 'root': 'vaid', 'root_tokens': ('vaid',)})],\n",
       "AS[Span(merel, {'clitic': '', 'ending': 'l', 'form': 'sg ad', 'lemma': 'meri', 'partofspeech': 'S', 'root': 'meri', 'root_tokens': ('meri',)})],\n",
       "AS[Span(,, {'clitic': '', 'ending': '', 'form': '', 'lemma': ',', 'partofspeech': 'Z', 'root': ',', 'root_tokens': (',',)})],\n",
       "AS[Span(xhus, {'clitic': '', 'ending': 's', 'form': 'sg in', 'lemma': 'õhk', 'partofspeech': 'S', 'root': 'õhk', 'root_tokens': ('õhk',)})],\n",
       "AS[Span(vxi, {'clitic': '', 'ending': '0', 'form': '', 'lemma': 'või', 'partofspeech': 'J', 'root': 'või', 'root_tokens': ('või',)})],\n",
       "AS[Span(metsas, {'clitic': '', 'ending': 's', 'form': 'sg in', 'lemma': 'mets', 'partofspeech': 'S', 'root': 'mets', 'root_tokens': ('mets',)})]])"
      ]
     },
     "execution_count": 5,
     "metadata": {},
     "output_type": "execute_result"
    }
   ],
   "source": [
    "userdict.tag(text)\n",
    "text.morph_analysis"
   ]
  },
  {
   "cell_type": "markdown",
   "metadata": {},
   "source": [
    "_Voilà !_"
   ]
  },
  {
   "cell_type": "markdown",
   "metadata": {},
   "source": [
    "---"
   ]
  },
  {
   "cell_type": "markdown",
   "metadata": {},
   "source": [
    "### Partial overwriting\n",
    "\n",
    "If the existing analysis only needs partial corrections (e.g. only root is incorrect), you can pass a dictionary with specific corrections to the `add_word` method. Existing analyses of the word will then be merged with the new attributes from the dictionary -- attributes present in the user dictionary will be overwritten, and attributes not present in the dictionary will remain as they are."
   ]
  },
  {
   "cell_type": "code",
   "execution_count": 6,
   "metadata": {},
   "outputs": [
    {
     "data": {
      "text/html": [
       "<h4>Layer</h4>\n",
       "<table border=\"1\" class=\"dataframe\">\n",
       "  <thead>\n",
       "    <tr style=\"text-align: right;\">\n",
       "      <th>layer name</th>\n",
       "      <th>attributes</th>\n",
       "      <th>parent</th>\n",
       "      <th>enveloping</th>\n",
       "      <th>ambiguous</th>\n",
       "      <th>span count</th>\n",
       "    </tr>\n",
       "  </thead>\n",
       "  <tbody>\n",
       "    <tr>\n",
       "      <td>morph_analysis</td>\n",
       "      <td>lemma, root, root_tokens, ending, clitic, form, partofspeech</td>\n",
       "      <td>words</td>\n",
       "      <td>None</td>\n",
       "      <td>True</td>\n",
       "      <td>1</td>\n",
       "    </tr>\n",
       "  </tbody>\n",
       "</table>\n",
       "<table border=\"1\" class=\"dataframe\">\n",
       "  <thead>\n",
       "    <tr style=\"text-align: right;\">\n",
       "      <th>text</th>\n",
       "      <th>lemma</th>\n",
       "      <th>root</th>\n",
       "      <th>root_tokens</th>\n",
       "      <th>ending</th>\n",
       "      <th>clitic</th>\n",
       "      <th>form</th>\n",
       "      <th>partofspeech</th>\n",
       "    </tr>\n",
       "  </thead>\n",
       "  <tbody>\n",
       "    <tr>\n",
       "      <td>igapäävased</td>\n",
       "      <td>igapäävask</td>\n",
       "      <td>igapää_vask</td>\n",
       "      <td>('igapää', 'vask')</td>\n",
       "      <td>d</td>\n",
       "      <td></td>\n",
       "      <td>pl n</td>\n",
       "      <td>S</td>\n",
       "    </tr>\n",
       "  </tbody>\n",
       "</table>"
      ],
      "text/plain": [
       "Layer(name=morph_analysis, spans=SL[AS[Span(igapäävased, {'clitic': '', 'ending': 'd', 'form': 'pl n', 'lemma': 'igapäävask', 'partofspeech': 'S', 'root': 'igapää_vask', 'root_tokens': ('igapää', 'vask')})]])"
      ]
     },
     "execution_count": 6,
     "metadata": {},
     "output_type": "execute_result"
    }
   ],
   "source": [
    "# Example: word thad needs corrections in the root and partofspeech\n",
    "text = Text('igapäävased')\n",
    "text.tag_layer(['morph_analysis'])\n",
    "text.morph_analysis"
   ]
  },
  {
   "cell_type": "code",
   "execution_count": 7,
   "metadata": {
    "collapsed": true
   },
   "outputs": [],
   "source": [
    "# Create new user dictionary\n",
    "userdict = UserDictTagger()\n",
    "# Correct only 'root' and 'partofspeech' of the word (leave other attributes as they are)\n",
    "userdict.add_word('igapäävased', { 'root': 'iga_päevane', 'partofspeech': 'A'} )"
   ]
  },
  {
   "cell_type": "code",
   "execution_count": 8,
   "metadata": {},
   "outputs": [
    {
     "data": {
      "text/html": [
       "<h4>Layer</h4>\n",
       "<table border=\"1\" class=\"dataframe\">\n",
       "  <thead>\n",
       "    <tr style=\"text-align: right;\">\n",
       "      <th>layer name</th>\n",
       "      <th>attributes</th>\n",
       "      <th>parent</th>\n",
       "      <th>enveloping</th>\n",
       "      <th>ambiguous</th>\n",
       "      <th>span count</th>\n",
       "    </tr>\n",
       "  </thead>\n",
       "  <tbody>\n",
       "    <tr>\n",
       "      <td>morph_analysis</td>\n",
       "      <td>lemma, root, root_tokens, ending, clitic, form, partofspeech</td>\n",
       "      <td>words</td>\n",
       "      <td>None</td>\n",
       "      <td>True</td>\n",
       "      <td>1</td>\n",
       "    </tr>\n",
       "  </tbody>\n",
       "</table>\n",
       "<table border=\"1\" class=\"dataframe\">\n",
       "  <thead>\n",
       "    <tr style=\"text-align: right;\">\n",
       "      <th>text</th>\n",
       "      <th>lemma</th>\n",
       "      <th>root</th>\n",
       "      <th>root_tokens</th>\n",
       "      <th>ending</th>\n",
       "      <th>clitic</th>\n",
       "      <th>form</th>\n",
       "      <th>partofspeech</th>\n",
       "    </tr>\n",
       "  </thead>\n",
       "  <tbody>\n",
       "    <tr>\n",
       "      <td>igapäävased</td>\n",
       "      <td>igapäevane</td>\n",
       "      <td>iga_päevane</td>\n",
       "      <td>('iga', 'päevane')</td>\n",
       "      <td>d</td>\n",
       "      <td></td>\n",
       "      <td>pl n</td>\n",
       "      <td>A</td>\n",
       "    </tr>\n",
       "  </tbody>\n",
       "</table>"
      ],
      "text/plain": [
       "Layer(name=morph_analysis, spans=SL[AS[Span(igapäävased, {'clitic': '', 'ending': 'd', 'form': 'pl n', 'lemma': 'igapäevane', 'partofspeech': 'A', 'root': 'iga_päevane', 'root_tokens': ('iga', 'päevane')})]])"
      ]
     },
     "execution_count": 8,
     "metadata": {},
     "output_type": "execute_result"
    }
   ],
   "source": [
    "# Apply corrections:\n",
    "userdict.tag(text)\n",
    "text.morph_analysis"
   ]
  },
  {
   "cell_type": "markdown",
   "metadata": {},
   "source": [
    "The minimum requirement for the dictionary of partial overwriting: it must specify at least one of the fields: `'root'`, `'ending'`, `'clitic'`, `'form'`, and `'partofspeech'`. Note: if `'root'` is provided, then `'partofspeech'` must also be provided (see below for details)."
   ]
  },
  {
   "cell_type": "markdown",
   "metadata": {},
   "source": [
    "---"
   ]
  },
  {
   "cell_type": "markdown",
   "metadata": {},
   "source": [
    "#### Overwriting `'root'`, `'lemma'` and `'root_tokens'`\n",
    "\n",
    "Attributes `'root'` and `'lemma'` and `'root_tokens'` all record information about the morphological base form of the word, and its segmentation. \n",
    "If you need to change one of these attributes, you should update all in order to keep the data consistent. \n",
    "There is a systematic way how to do it.\n",
    "You should restrict your dictionary entries only to `'root'` and `'partofspeech'` (and `'ending'`, if required). Attributes `'lemma'` and `'root_tokens'` will then be automatically generated based on `'root'` and `'partofspeech'` (so, no need to manually provide entries for `'lemma'` and `'root_tokens'`)."
   ]
  },
  {
   "cell_type": "code",
   "execution_count": 9,
   "metadata": {},
   "outputs": [
    {
     "data": {
      "text/html": [
       "<h4>Layer</h4>\n",
       "<table border=\"1\" class=\"dataframe\">\n",
       "  <thead>\n",
       "    <tr style=\"text-align: right;\">\n",
       "      <th>layer name</th>\n",
       "      <th>attributes</th>\n",
       "      <th>parent</th>\n",
       "      <th>enveloping</th>\n",
       "      <th>ambiguous</th>\n",
       "      <th>span count</th>\n",
       "    </tr>\n",
       "  </thead>\n",
       "  <tbody>\n",
       "    <tr>\n",
       "      <td>morph_analysis</td>\n",
       "      <td>lemma, root, root_tokens, ending, clitic, form, partofspeech</td>\n",
       "      <td>words</td>\n",
       "      <td>None</td>\n",
       "      <td>True</td>\n",
       "      <td>1</td>\n",
       "    </tr>\n",
       "  </tbody>\n",
       "</table>\n",
       "<table border=\"1\" class=\"dataframe\">\n",
       "  <thead>\n",
       "    <tr style=\"text-align: right;\">\n",
       "      <th>text</th>\n",
       "      <th>lemma</th>\n",
       "      <th>root</th>\n",
       "      <th>root_tokens</th>\n",
       "      <th>ending</th>\n",
       "      <th>clitic</th>\n",
       "      <th>form</th>\n",
       "      <th>partofspeech</th>\n",
       "    </tr>\n",
       "  </thead>\n",
       "  <tbody>\n",
       "    <tr>\n",
       "      <td>abieluettepanek</td>\n",
       "      <td>abieluettepanek</td>\n",
       "      <td>abi_elu_ette_panek</td>\n",
       "      <td>('abi', 'elu', 'ette', 'panek')</td>\n",
       "      <td>0</td>\n",
       "      <td></td>\n",
       "      <td>sg n</td>\n",
       "      <td>S</td>\n",
       "    </tr>\n",
       "  </tbody>\n",
       "</table>"
      ],
      "text/plain": [
       "Layer(name=morph_analysis, spans=SL[AS[Span(abieluettepanek, {'clitic': '', 'ending': '0', 'form': 'sg n', 'lemma': 'abieluettepanek', 'partofspeech': 'S', 'root': 'abi_elu_ette_panek', 'root_tokens': ('abi', 'elu', 'ette', 'panek')})]])"
      ]
     },
     "execution_count": 9,
     "metadata": {},
     "output_type": "execute_result"
    }
   ],
   "source": [
    "# Example: compound word thad needs corrections in the root\n",
    "text = Text('abieluettepanek')\n",
    "text.tag_layer(['morph_analysis'])\n",
    "text.morph_analysis"
   ]
  },
  {
   "cell_type": "code",
   "execution_count": 10,
   "metadata": {
    "collapsed": true
   },
   "outputs": [],
   "source": [
    "# Create new user dictionary with corrections to root and pos\n",
    "userdict = UserDictTagger()\n",
    "userdict.add_word('abieluettepanek', { 'root': 'abielu_ettepanek', 'partofspeech': 'S' } )"
   ]
  },
  {
   "cell_type": "code",
   "execution_count": 11,
   "metadata": {},
   "outputs": [
    {
     "data": {
      "text/html": [
       "<h4>Layer</h4>\n",
       "<table border=\"1\" class=\"dataframe\">\n",
       "  <thead>\n",
       "    <tr style=\"text-align: right;\">\n",
       "      <th>layer name</th>\n",
       "      <th>attributes</th>\n",
       "      <th>parent</th>\n",
       "      <th>enveloping</th>\n",
       "      <th>ambiguous</th>\n",
       "      <th>span count</th>\n",
       "    </tr>\n",
       "  </thead>\n",
       "  <tbody>\n",
       "    <tr>\n",
       "      <td>morph_analysis</td>\n",
       "      <td>lemma, root, root_tokens, ending, clitic, form, partofspeech</td>\n",
       "      <td>words</td>\n",
       "      <td>None</td>\n",
       "      <td>True</td>\n",
       "      <td>1</td>\n",
       "    </tr>\n",
       "  </tbody>\n",
       "</table>\n",
       "<table border=\"1\" class=\"dataframe\">\n",
       "  <thead>\n",
       "    <tr style=\"text-align: right;\">\n",
       "      <th>text</th>\n",
       "      <th>lemma</th>\n",
       "      <th>root</th>\n",
       "      <th>root_tokens</th>\n",
       "      <th>ending</th>\n",
       "      <th>clitic</th>\n",
       "      <th>form</th>\n",
       "      <th>partofspeech</th>\n",
       "    </tr>\n",
       "  </thead>\n",
       "  <tbody>\n",
       "    <tr>\n",
       "      <td>abieluettepanek</td>\n",
       "      <td>abieluettepanek</td>\n",
       "      <td>abielu_ettepanek</td>\n",
       "      <td>('abielu', 'ettepanek')</td>\n",
       "      <td>0</td>\n",
       "      <td></td>\n",
       "      <td>sg n</td>\n",
       "      <td>S</td>\n",
       "    </tr>\n",
       "  </tbody>\n",
       "</table>"
      ],
      "text/plain": [
       "Layer(name=morph_analysis, spans=SL[AS[Span(abieluettepanek, {'clitic': '', 'ending': '0', 'form': 'sg n', 'lemma': 'abieluettepanek', 'partofspeech': 'S', 'root': 'abielu_ettepanek', 'root_tokens': ('abielu', 'ettepanek')})]])"
      ]
     },
     "execution_count": 11,
     "metadata": {},
     "output_type": "execute_result"
    }
   ],
   "source": [
    "# Apply corrections\n",
    "userdict.tag(text)\n",
    "text.morph_analysis"
   ]
  },
  {
   "cell_type": "markdown",
   "metadata": {},
   "source": [
    "---"
   ]
  },
  {
   "cell_type": "markdown",
   "metadata": {},
   "source": [
    "### Complete overwriting\n",
    "\n",
    "If you pass a list of dictionaries to the method `add_word`, then all old anayses of the word will be replaced by the analyses in the user dictionary. Adding a list with a single dictionary means that the word is unambiguous, and multiple dictionaries represent different analysis variants of an ambiguous word."
   ]
  },
  {
   "cell_type": "code",
   "execution_count": 12,
   "metadata": {},
   "outputs": [
    {
     "data": {
      "text/html": [
       "<h4>Layer</h4>\n",
       "<table border=\"1\" class=\"dataframe\">\n",
       "  <thead>\n",
       "    <tr style=\"text-align: right;\">\n",
       "      <th>layer name</th>\n",
       "      <th>attributes</th>\n",
       "      <th>parent</th>\n",
       "      <th>enveloping</th>\n",
       "      <th>ambiguous</th>\n",
       "      <th>span count</th>\n",
       "    </tr>\n",
       "  </thead>\n",
       "  <tbody>\n",
       "    <tr>\n",
       "      <td>morph_analysis</td>\n",
       "      <td>lemma, root, root_tokens, ending, clitic, form, partofspeech</td>\n",
       "      <td>words</td>\n",
       "      <td>None</td>\n",
       "      <td>True</td>\n",
       "      <td>3</td>\n",
       "    </tr>\n",
       "  </tbody>\n",
       "</table>\n",
       "<table border=\"1\" class=\"dataframe\">\n",
       "  <thead>\n",
       "    <tr style=\"text-align: right;\">\n",
       "      <th>text</th>\n",
       "      <th>lemma</th>\n",
       "      <th>root</th>\n",
       "      <th>root_tokens</th>\n",
       "      <th>ending</th>\n",
       "      <th>clitic</th>\n",
       "      <th>form</th>\n",
       "      <th>partofspeech</th>\n",
       "    </tr>\n",
       "  </thead>\n",
       "  <tbody>\n",
       "    <tr>\n",
       "      <td>vist</td>\n",
       "      <td>vist</td>\n",
       "      <td>vist</td>\n",
       "      <td>('vist',)</td>\n",
       "      <td>0</td>\n",
       "      <td></td>\n",
       "      <td></td>\n",
       "      <td>D</td>\n",
       "    </tr>\n",
       "    <tr>\n",
       "      <td>onn</td>\n",
       "      <td>onn</td>\n",
       "      <td>onn</td>\n",
       "      <td>('onn',)</td>\n",
       "      <td>0</td>\n",
       "      <td></td>\n",
       "      <td>sg n</td>\n",
       "      <td>S</td>\n",
       "    </tr>\n",
       "    <tr>\n",
       "      <td>rahul</td>\n",
       "      <td>rahul</td>\n",
       "      <td>rahul</td>\n",
       "      <td>('rahul',)</td>\n",
       "      <td>0</td>\n",
       "      <td></td>\n",
       "      <td></td>\n",
       "      <td>D</td>\n",
       "    </tr>\n",
       "  </tbody>\n",
       "</table>"
      ],
      "text/plain": [
       "Layer(name=morph_analysis, spans=SL[AS[Span(vist, {'clitic': '', 'ending': '0', 'form': '', 'lemma': 'vist', 'partofspeech': 'D', 'root': 'vist', 'root_tokens': ('vist',)})],\n",
       "AS[Span(onn, {'clitic': '', 'ending': '0', 'form': 'sg n', 'lemma': 'onn', 'partofspeech': 'S', 'root': 'onn', 'root_tokens': ('onn',)})],\n",
       "AS[Span(rahul, {'clitic': '', 'ending': '0', 'form': '', 'lemma': 'rahul', 'partofspeech': 'D', 'root': 'rahul', 'root_tokens': ('rahul',)})]])"
      ]
     },
     "execution_count": 12,
     "metadata": {},
     "output_type": "execute_result"
    }
   ],
   "source": [
    "# Example: verb needs corrections, but the ambiguities should remain\n",
    "#          ( because it is not clear from the context, which form is correct )\n",
    "text = Text('vist onn rahul')\n",
    "text.tag_layer(['morph_analysis'])\n",
    "text.morph_analysis"
   ]
  },
  {
   "cell_type": "code",
   "execution_count": 13,
   "metadata": {
    "collapsed": true
   },
   "outputs": [],
   "source": [
    "# Create new user dictionary with multiple analysis variants\n",
    "userdict = UserDictTagger()\n",
    "userdict.add_word('onn', [{'form': 'b', 'root': 'ole', 'ending':'0', 'partofspeech': 'V', 'clitic':''},\\\n",
    "                          {'form': 'vad', 'root': 'ole', 'ending':'0', 'partofspeech': 'V', 'clitic':''} ] )"
   ]
  },
  {
   "cell_type": "code",
   "execution_count": 14,
   "metadata": {},
   "outputs": [
    {
     "data": {
      "text/html": [
       "<h4>Layer</h4>\n",
       "<table border=\"1\" class=\"dataframe\">\n",
       "  <thead>\n",
       "    <tr style=\"text-align: right;\">\n",
       "      <th>layer name</th>\n",
       "      <th>attributes</th>\n",
       "      <th>parent</th>\n",
       "      <th>enveloping</th>\n",
       "      <th>ambiguous</th>\n",
       "      <th>span count</th>\n",
       "    </tr>\n",
       "  </thead>\n",
       "  <tbody>\n",
       "    <tr>\n",
       "      <td>morph_analysis</td>\n",
       "      <td>lemma, root, root_tokens, ending, clitic, form, partofspeech</td>\n",
       "      <td>words</td>\n",
       "      <td>None</td>\n",
       "      <td>True</td>\n",
       "      <td>3</td>\n",
       "    </tr>\n",
       "  </tbody>\n",
       "</table>\n",
       "<table border=\"1\" class=\"dataframe\">\n",
       "  <thead>\n",
       "    <tr style=\"text-align: right;\">\n",
       "      <th>text</th>\n",
       "      <th>lemma</th>\n",
       "      <th>root</th>\n",
       "      <th>root_tokens</th>\n",
       "      <th>ending</th>\n",
       "      <th>clitic</th>\n",
       "      <th>form</th>\n",
       "      <th>partofspeech</th>\n",
       "    </tr>\n",
       "  </thead>\n",
       "  <tbody>\n",
       "    <tr>\n",
       "      <td>vist</td>\n",
       "      <td>vist</td>\n",
       "      <td>vist</td>\n",
       "      <td>('vist',)</td>\n",
       "      <td>0</td>\n",
       "      <td></td>\n",
       "      <td></td>\n",
       "      <td>D</td>\n",
       "    </tr>\n",
       "    <tr>\n",
       "      <td>onn</td>\n",
       "      <td>olema</td>\n",
       "      <td>ole</td>\n",
       "      <td>('ole',)</td>\n",
       "      <td>0</td>\n",
       "      <td></td>\n",
       "      <td>b</td>\n",
       "      <td>V</td>\n",
       "    </tr>\n",
       "    <tr>\n",
       "      <td></td>\n",
       "      <td>olema</td>\n",
       "      <td>ole</td>\n",
       "      <td>('ole',)</td>\n",
       "      <td>0</td>\n",
       "      <td></td>\n",
       "      <td>vad</td>\n",
       "      <td>V</td>\n",
       "    </tr>\n",
       "    <tr>\n",
       "      <td>rahul</td>\n",
       "      <td>rahul</td>\n",
       "      <td>rahul</td>\n",
       "      <td>('rahul',)</td>\n",
       "      <td>0</td>\n",
       "      <td></td>\n",
       "      <td></td>\n",
       "      <td>D</td>\n",
       "    </tr>\n",
       "  </tbody>\n",
       "</table>"
      ],
      "text/plain": [
       "Layer(name=morph_analysis, spans=SL[AS[Span(vist, {'clitic': '', 'ending': '0', 'form': '', 'lemma': 'vist', 'partofspeech': 'D', 'root': 'vist', 'root_tokens': ('vist',)})],\n",
       "AS[Span(onn, {'clitic': '', 'ending': '0', 'form': 'b', 'lemma': 'olema', 'partofspeech': 'V', 'root': 'ole', 'root_tokens': ('ole',)}), Span(onn, {'clitic': '', 'ending': '0', 'form': 'vad', 'lemma': 'olema', 'partofspeech': 'V', 'root': 'ole', 'root_tokens': ('ole',)})],\n",
       "AS[Span(rahul, {'clitic': '', 'ending': '0', 'form': '', 'lemma': 'rahul', 'partofspeech': 'D', 'root': 'rahul', 'root_tokens': ('rahul',)})]])"
      ]
     },
     "execution_count": 14,
     "metadata": {},
     "output_type": "execute_result"
    }
   ],
   "source": [
    "# Apply corrections\n",
    "userdict.tag(text)\n",
    "text.morph_analysis"
   ]
  },
  {
   "cell_type": "markdown",
   "metadata": {},
   "source": [
    "The minimum requirement for the dictionary used in complete overwriting: it must specify all the fields `'root'`, `'ending'`, `'clitic'`, `'form'`, and `'partofspeech'`."
   ]
  },
  {
   "cell_type": "markdown",
   "metadata": {},
   "source": [
    "---"
   ]
  },
  {
   "cell_type": "markdown",
   "metadata": {},
   "source": [
    "## Loading analyses from CSV file"
   ]
  },
  {
   "cell_type": "markdown",
   "metadata": {},
   "source": [
    "Instead of specifying analyses via method `add_word`, you can also use method `add_words_from_csv_file` to load analyses from CSV file."
   ]
  },
  {
   "cell_type": "code",
   "execution_count": 15,
   "metadata": {},
   "outputs": [
    {
     "data": {
      "text/html": [
       "<h4>Layer</h4>\n",
       "<table border=\"1\" class=\"dataframe\">\n",
       "  <thead>\n",
       "    <tr style=\"text-align: right;\">\n",
       "      <th>layer name</th>\n",
       "      <th>attributes</th>\n",
       "      <th>parent</th>\n",
       "      <th>enveloping</th>\n",
       "      <th>ambiguous</th>\n",
       "      <th>span count</th>\n",
       "    </tr>\n",
       "  </thead>\n",
       "  <tbody>\n",
       "    <tr>\n",
       "      <td>morph_analysis</td>\n",
       "      <td>lemma, root, root_tokens, ending, clitic, form, partofspeech</td>\n",
       "      <td>words</td>\n",
       "      <td>None</td>\n",
       "      <td>True</td>\n",
       "      <td>5</td>\n",
       "    </tr>\n",
       "  </tbody>\n",
       "</table>\n",
       "<table border=\"1\" class=\"dataframe\">\n",
       "  <thead>\n",
       "    <tr style=\"text-align: right;\">\n",
       "      <th>text</th>\n",
       "      <th>lemma</th>\n",
       "      <th>root</th>\n",
       "      <th>root_tokens</th>\n",
       "      <th>ending</th>\n",
       "      <th>clitic</th>\n",
       "      <th>form</th>\n",
       "      <th>partofspeech</th>\n",
       "    </tr>\n",
       "  </thead>\n",
       "  <tbody>\n",
       "    <tr>\n",
       "      <td>mxnel</td>\n",
       "      <td>mxne</td>\n",
       "      <td>mxne</td>\n",
       "      <td>('mxne',)</td>\n",
       "      <td>l</td>\n",
       "      <td></td>\n",
       "      <td>sg ad</td>\n",
       "      <td>S</td>\n",
       "    </tr>\n",
       "    <tr>\n",
       "      <td>ka</td>\n",
       "      <td>ka</td>\n",
       "      <td>ka</td>\n",
       "      <td>('ka',)</td>\n",
       "      <td>0</td>\n",
       "      <td></td>\n",
       "      <td></td>\n",
       "      <td>D</td>\n",
       "    </tr>\n",
       "    <tr>\n",
       "      <td>igapäävased</td>\n",
       "      <td>igapäävask</td>\n",
       "      <td>igapää_vask</td>\n",
       "      <td>('igapää', 'vask')</td>\n",
       "      <td>d</td>\n",
       "      <td></td>\n",
       "      <td>pl n</td>\n",
       "      <td>S</td>\n",
       "    </tr>\n",
       "    <tr>\n",
       "      <td>kxnekeeleväljändid</td>\n",
       "      <td>kxnekeeleväljänd</td>\n",
       "      <td>kxnekeeleväljänd</td>\n",
       "      <td>('kxnekeeleväljänd',)</td>\n",
       "      <td>d</td>\n",
       "      <td></td>\n",
       "      <td>pl n</td>\n",
       "      <td>S</td>\n",
       "    </tr>\n",
       "    <tr>\n",
       "      <td></td>\n",
       "      <td>kxnekeeleväljändi</td>\n",
       "      <td>kxnekeeleväljändi</td>\n",
       "      <td>('kxnekeeleväljändi',)</td>\n",
       "      <td>d</td>\n",
       "      <td></td>\n",
       "      <td>pl n</td>\n",
       "      <td>S</td>\n",
       "    </tr>\n",
       "    <tr>\n",
       "      <td></td>\n",
       "      <td>kxnekeeleväljänt</td>\n",
       "      <td>kxnekeeleväljänt</td>\n",
       "      <td>('kxnekeeleväljänt',)</td>\n",
       "      <td>d</td>\n",
       "      <td></td>\n",
       "      <td>pl n</td>\n",
       "      <td>S</td>\n",
       "    </tr>\n",
       "    <tr>\n",
       "      <td>sellged</td>\n",
       "      <td>sellged</td>\n",
       "      <td>sellged</td>\n",
       "      <td>('sellged',)</td>\n",
       "      <td>0</td>\n",
       "      <td></td>\n",
       "      <td>sg n</td>\n",
       "      <td>S</td>\n",
       "    </tr>\n",
       "    <tr>\n",
       "      <td></td>\n",
       "      <td>sellge</td>\n",
       "      <td>sellge</td>\n",
       "      <td>('sellge',)</td>\n",
       "      <td>d</td>\n",
       "      <td></td>\n",
       "      <td>pl n</td>\n",
       "      <td>S</td>\n",
       "    </tr>\n",
       "  </tbody>\n",
       "</table>"
      ],
      "text/plain": [
       "Layer(name=morph_analysis, spans=SL[AS[Span(mxnel, {'clitic': '', 'ending': 'l', 'form': 'sg ad', 'lemma': 'mxne', 'partofspeech': 'S', 'root': 'mxne', 'root_tokens': ('mxne',)})],\n",
       "AS[Span(ka, {'clitic': '', 'ending': '0', 'form': '', 'lemma': 'ka', 'partofspeech': 'D', 'root': 'ka', 'root_tokens': ('ka',)})],\n",
       "AS[Span(igapäävased, {'clitic': '', 'ending': 'd', 'form': 'pl n', 'lemma': 'igapäävask', 'partofspeech': 'S', 'root': 'igapää_vask', 'root_tokens': ('igapää', 'vask')})],\n",
       "AS[Span(kxnekeeleväljändid, {'clitic': '', 'ending': 'd', 'form': 'pl n', 'lemma': 'kxnekeeleväljänd', 'partofspeech': 'S', 'root': 'kxnekeeleväljänd', 'root_tokens': ('kxnekeeleväljänd',)}), Span(kxnekeeleväljändid, {'clitic': '', 'ending': 'd', 'form': 'pl n', 'lemma': 'kxnekeeleväljändi', 'partofspeech': 'S', 'root': 'kxnekeeleväljändi', 'root_tokens': ('kxnekeeleväljändi',)}), Span(kxnekeeleväljändid, {'clitic': '', 'ending': 'd', 'form': 'pl n', 'lemma': 'kxnekeeleväljänt', 'partofspeech': 'S', 'root': 'kxnekeeleväljänt', 'root_tokens': ('kxnekeeleväljänt',)})],\n",
       "AS[Span(sellged, {'clitic': '', 'ending': '0', 'form': 'sg n', 'lemma': 'sellged', 'partofspeech': 'S', 'root': 'sellged', 'root_tokens': ('sellged',)}), Span(sellged, {'clitic': '', 'ending': 'd', 'form': 'pl n', 'lemma': 'sellge', 'partofspeech': 'S', 'root': 'sellge', 'root_tokens': ('sellge',)})]])"
      ]
     },
     "execution_count": 15,
     "metadata": {},
     "output_type": "execute_result"
    }
   ],
   "source": [
    "# Example: a difficult-to-analyse sentence from the Internet language\n",
    "text = Text(\"mxnel ka igapäävased kxnekeeleväljändid sellged\")\n",
    "text.tag_layer(['morph_analysis'])\n",
    "text.morph_analysis"
   ]
  },
  {
   "cell_type": "code",
   "execution_count": 16,
   "metadata": {
    "collapsed": true
   },
   "outputs": [],
   "source": [
    "# Create a CSV file with correct analyses\n",
    "import tempfile\n",
    "fp = tempfile.NamedTemporaryFile(mode='w', encoding='utf-8', suffix='.csv', delete=False)\n",
    "# Add header\n",
    "fp.write('text,form,root,ending,partofspeech,clitic\\n')\n",
    "# Add analyses\n",
    "fp.write('mxnel,sg ad,mõni,l,P,\\n')\n",
    "fp.write('igapäävased,pl n,iga_päevane,d,A,\\n')\n",
    "fp.write('kxnekeeleväljändid,pl n,kõne_keele_väljend,d,S,\\n')\n",
    "fp.write('sellged,pl n,selge,d,A,\\n')\n",
    "fp.close()"
   ]
  },
  {
   "cell_type": "markdown",
   "metadata": {},
   "source": [
    "It is required that the first line of the CSV file is the header, and uses the heading names `'root'`, `'ending'`, `'clitic'`, `'form'`, `'partofspeech'`, `'text'`. This is required to determine in which order the data has to be loaded from the file.\n",
    "\n",
    "Each line following the heading specifies a single analysis for a word. The word itself must be under the column `'text'`. Note that like in case of the _complete overwriting_, all the fields `'root'`, `'ending'`, `'clitic'`, `'form'` and `'partofspeech'` must be specified. You can also provide multiple lines describing a single word: these will be then considered as different analysis variants of an ambiguous word."
   ]
  },
  {
   "cell_type": "code",
   "execution_count": 17,
   "metadata": {
    "collapsed": true
   },
   "outputs": [],
   "source": [
    "# Create new user dictionary with the analyses loaded from the CSV file\n",
    "userdict = UserDictTagger()\n",
    "userdict.add_words_from_csv_file(fp.name, encoding='utf-8', delimiter=',')"
   ]
  },
  {
   "cell_type": "code",
   "execution_count": 18,
   "metadata": {},
   "outputs": [
    {
     "data": {
      "text/html": [
       "<h4>Layer</h4>\n",
       "<table border=\"1\" class=\"dataframe\">\n",
       "  <thead>\n",
       "    <tr style=\"text-align: right;\">\n",
       "      <th>layer name</th>\n",
       "      <th>attributes</th>\n",
       "      <th>parent</th>\n",
       "      <th>enveloping</th>\n",
       "      <th>ambiguous</th>\n",
       "      <th>span count</th>\n",
       "    </tr>\n",
       "  </thead>\n",
       "  <tbody>\n",
       "    <tr>\n",
       "      <td>morph_analysis</td>\n",
       "      <td>lemma, root, root_tokens, ending, clitic, form, partofspeech</td>\n",
       "      <td>words</td>\n",
       "      <td>None</td>\n",
       "      <td>True</td>\n",
       "      <td>5</td>\n",
       "    </tr>\n",
       "  </tbody>\n",
       "</table>\n",
       "<table border=\"1\" class=\"dataframe\">\n",
       "  <thead>\n",
       "    <tr style=\"text-align: right;\">\n",
       "      <th>text</th>\n",
       "      <th>lemma</th>\n",
       "      <th>root</th>\n",
       "      <th>root_tokens</th>\n",
       "      <th>ending</th>\n",
       "      <th>clitic</th>\n",
       "      <th>form</th>\n",
       "      <th>partofspeech</th>\n",
       "    </tr>\n",
       "  </thead>\n",
       "  <tbody>\n",
       "    <tr>\n",
       "      <td>mxnel</td>\n",
       "      <td>mõni</td>\n",
       "      <td>mõni</td>\n",
       "      <td>('mõni',)</td>\n",
       "      <td>l</td>\n",
       "      <td></td>\n",
       "      <td>sg ad</td>\n",
       "      <td>P</td>\n",
       "    </tr>\n",
       "    <tr>\n",
       "      <td>ka</td>\n",
       "      <td>ka</td>\n",
       "      <td>ka</td>\n",
       "      <td>('ka',)</td>\n",
       "      <td>0</td>\n",
       "      <td></td>\n",
       "      <td></td>\n",
       "      <td>D</td>\n",
       "    </tr>\n",
       "    <tr>\n",
       "      <td>igapäävased</td>\n",
       "      <td>igapäevane</td>\n",
       "      <td>iga_päevane</td>\n",
       "      <td>('iga', 'päevane')</td>\n",
       "      <td>d</td>\n",
       "      <td></td>\n",
       "      <td>pl n</td>\n",
       "      <td>A</td>\n",
       "    </tr>\n",
       "    <tr>\n",
       "      <td>kxnekeeleväljändid</td>\n",
       "      <td>kõnekeeleväljend</td>\n",
       "      <td>kõne_keele_väljend</td>\n",
       "      <td>('kõne', 'keele', 'väljend')</td>\n",
       "      <td>d</td>\n",
       "      <td></td>\n",
       "      <td>pl n</td>\n",
       "      <td>S</td>\n",
       "    </tr>\n",
       "    <tr>\n",
       "      <td>sellged</td>\n",
       "      <td>selge</td>\n",
       "      <td>selge</td>\n",
       "      <td>('selge',)</td>\n",
       "      <td>d</td>\n",
       "      <td></td>\n",
       "      <td>pl n</td>\n",
       "      <td>A</td>\n",
       "    </tr>\n",
       "  </tbody>\n",
       "</table>"
      ],
      "text/plain": [
       "Layer(name=morph_analysis, spans=SL[AS[Span(mxnel, {'clitic': '', 'ending': 'l', 'form': 'sg ad', 'lemma': 'mõni', 'partofspeech': 'P', 'root': 'mõni', 'root_tokens': ('mõni',)})],\n",
       "AS[Span(ka, {'clitic': '', 'ending': '0', 'form': '', 'lemma': 'ka', 'partofspeech': 'D', 'root': 'ka', 'root_tokens': ('ka',)})],\n",
       "AS[Span(igapäävased, {'clitic': '', 'ending': 'd', 'form': 'pl n', 'lemma': 'igapäevane', 'partofspeech': 'A', 'root': 'iga_päevane', 'root_tokens': ('iga', 'päevane')})],\n",
       "AS[Span(kxnekeeleväljändid, {'clitic': '', 'ending': 'd', 'form': 'pl n', 'lemma': 'kõnekeeleväljend', 'partofspeech': 'S', 'root': 'kõne_keele_väljend', 'root_tokens': ('kõne', 'keele', 'väljend')})],\n",
       "AS[Span(sellged, {'clitic': '', 'ending': 'd', 'form': 'pl n', 'lemma': 'selge', 'partofspeech': 'A', 'root': 'selge', 'root_tokens': ('selge',)})]])"
      ]
     },
     "execution_count": 18,
     "metadata": {},
     "output_type": "execute_result"
    }
   ],
   "source": [
    "# Apply corrections\n",
    "userdict.tag(text)\n",
    "text.morph_analysis"
   ]
  },
  {
   "cell_type": "code",
   "execution_count": 19,
   "metadata": {
    "collapsed": true
   },
   "outputs": [],
   "source": [
    "# Clean-up: remove temporary file\n",
    "import os\n",
    "os.remove(fp.name)"
   ]
  }
 ],
 "metadata": {
  "anaconda-cloud": {},
  "kernelspec": {
   "display_name": "Python 3",
   "language": "python",
   "name": "python3"
  },
  "language_info": {
   "codemirror_mode": {
    "name": "ipython",
    "version": 3
   },
   "file_extension": ".py",
   "mimetype": "text/x-python",
   "name": "python",
   "nbconvert_exporter": "python",
   "pygments_lexer": "ipython3",
   "version": "3.5.4"
  }
 },
 "nbformat": 4,
 "nbformat_minor": 2
}
