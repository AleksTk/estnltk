{
 "cells": [
  {
   "cell_type": "markdown",
   "metadata": {},
   "source": [
    "# <span style=\"color:blue\"> B. Specific details for programmers: how it works</span>"
   ]
  },
  {
   "cell_type": "markdown",
   "metadata": {},
   "source": [
    "## <span style=\"color:purple\"> Text segmentation: Sentences </span>"
   ]
  },
  {
   "cell_type": "markdown",
   "metadata": {},
   "source": [
    "Once the layer of `words` is established, sentence boundaries between the words will be determined. In EstNLTK, the component responsible for this is the `SentenceTokenizer`.\n",
    "\n",
    "The `SentenceTokenizer` splits the text into sentences using NLTK's `PunktSentenceTokenizer` with an Estonian-specific model (available from [here](https://github.com/nltk/nltk_data/tree/gh-pages/packages/tokenizers)). After the initial sentence tokenization, `SentenceTokenizer` applies series of post-corrections to the obtained results. Post-corrections include removing sentence endings after non-ending abbreviations, adding sentence endings after emoticons, fixing endings in case of prolonged ending punctuation (e.g. `'...'`, or `'??'`), and merging together sentences that have been mistakenly split due to period-containing numeric expressions (e.g. dates/times), and periods nearby double quotes and parenthesis.\n",
    "\n",
    "In the following example, we create a text object, add the prerequisite layer (words), and then segment the text into sentences:"
   ]
  },
  {
   "cell_type": "code",
   "execution_count": 1,
   "metadata": {},
   "outputs": [
    {
     "data": {
      "text/html": [
       "<h4>Layer</h4>\n",
       "<table border=\"1\" class=\"dataframe\">\n",
       "  <thead>\n",
       "    <tr style=\"text-align: right;\">\n",
       "      <th>layer name</th>\n",
       "      <th>attributes</th>\n",
       "      <th>parent</th>\n",
       "      <th>enveloping</th>\n",
       "      <th>ambiguous</th>\n",
       "      <th>span count</th>\n",
       "    </tr>\n",
       "  </thead>\n",
       "  <tbody>\n",
       "    <tr>\n",
       "      <td>sentences</td>\n",
       "      <td></td>\n",
       "      <td>None</td>\n",
       "      <td>words</td>\n",
       "      <td>False</td>\n",
       "      <td>3</td>\n",
       "    </tr>\n",
       "  </tbody>\n",
       "</table>\n",
       "<table border=\"1\" class=\"dataframe\">\n",
       "  <thead>\n",
       "    <tr style=\"text-align: right;\">\n",
       "      <th>text</th>\n",
       "    </tr>\n",
       "  </thead>\n",
       "  <tbody>\n",
       "    <tr>\n",
       "      <td><b>Esimene</b> <b>lõik</b><b>.</b></td>\n",
       "    </tr>\n",
       "    <tr>\n",
       "      <td><b>Teine</b> <b>lause</b><b>.</b></td>\n",
       "    </tr>\n",
       "    <tr>\n",
       "      <td><b>Teine</b> <b>lõik</b><b>.</b></td>\n",
       "    </tr>\n",
       "  </tbody>\n",
       "</table>"
      ],
      "text/plain": [
       "Layer(name=sentences, spans=SL[ES[Span(Esimene, {'normalized_form': None}),\n",
       "Span(lõik, {'normalized_form': None}),\n",
       "Span(., {'normalized_form': None})],\n",
       "ES[Span(Teine, {'normalized_form': None}),\n",
       "Span(lause, {'normalized_form': None}),\n",
       "Span(., {'normalized_form': None})],\n",
       "ES[Span(Teine, {'normalized_form': None}),\n",
       "Span(lõik, {'normalized_form': None}),\n",
       "Span(., {'normalized_form': None})]])"
      ]
     },
     "execution_count": 1,
     "metadata": {},
     "output_type": "execute_result"
    }
   ],
   "source": [
    "from estnltk import Text\n",
    "from estnltk.taggers import SentenceTokenizer\n",
    "\n",
    "text = Text('''Esimene lõik. Teine lause.\n",
    "\n",
    "Teine lõik.''')\n",
    "text.tag_layer(['words'])\n",
    "SentenceTokenizer().tag(text)\n",
    "text['sentences']"
   ]
  },
  {
   "cell_type": "markdown",
   "metadata": {},
   "source": [
    "#### Post-corrections of SentenceTokenizer\n",
    "\n",
    "After obtaining the initial sentence boundaries, the `SentenceTokenizer` applies post-corrections to fix erroneous sentence boundaries. Different types of fixes are grouped together and flags can be used to switch these fixes off (by default, all fixes are switched on)."
   ]
  },
  {
   "cell_type": "markdown",
   "metadata": {},
   "source": [
    "##### Fixes related to compound tokens (`fix_compound_tokens`)\n",
    "\n",
    "The list of sentence endings is filtered, and all the sentence endings that fall inside `compound_tokens` are removed. Special attention is paid on `compound_tokens` of type `non_ending_abbreviation`: a sentence ending added after `non_ending_abbreviation` will be removed."
   ]
  },
  {
   "cell_type": "code",
   "execution_count": 2,
   "metadata": {},
   "outputs": [
    {
     "data": {
      "text/html": [
       "<h4>Layer</h4>\n",
       "<table border=\"1\" class=\"dataframe\">\n",
       "  <thead>\n",
       "    <tr style=\"text-align: right;\">\n",
       "      <th>layer name</th>\n",
       "      <th>attributes</th>\n",
       "      <th>parent</th>\n",
       "      <th>enveloping</th>\n",
       "      <th>ambiguous</th>\n",
       "      <th>span count</th>\n",
       "    </tr>\n",
       "  </thead>\n",
       "  <tbody>\n",
       "    <tr>\n",
       "      <td>sentences</td>\n",
       "      <td></td>\n",
       "      <td>None</td>\n",
       "      <td>words</td>\n",
       "      <td>False</td>\n",
       "      <td>1</td>\n",
       "    </tr>\n",
       "  </tbody>\n",
       "</table>\n",
       "<table border=\"1\" class=\"dataframe\">\n",
       "  <thead>\n",
       "    <tr style=\"text-align: right;\">\n",
       "      <th>text</th>\n",
       "    </tr>\n",
       "  </thead>\n",
       "  <tbody>\n",
       "    <tr>\n",
       "      <td><b>Lp.</b> <b>esimees</b><b>,</b> <b>vt.</b> <b>seda</b> <b>joonist</b> <b>seal</b> <b>leheküljel</b><b>.</b></td>\n",
       "    </tr>\n",
       "  </tbody>\n",
       "</table>"
      ],
      "text/plain": [
       "Layer(name=sentences, spans=SL[ES[Span(Lp., {'normalized_form': 'Lp.'}),\n",
       "Span(esimees, {'normalized_form': None}),\n",
       "Span(,, {'normalized_form': None}),\n",
       "Span(vt., {'normalized_form': 'vt.'}),\n",
       "Span(seda, {'normalized_form': None}),\n",
       "Span(joonist, {'normalized_form': None}),\n",
       "Span(seal, {'normalized_form': None}),\n",
       "Span(leheküljel, {'normalized_form': None}),\n",
       "Span(., {'normalized_form': None})]])"
      ]
     },
     "execution_count": 2,
     "metadata": {},
     "output_type": "execute_result"
    }
   ],
   "source": [
    "text = Text('''Lp. esimees, vt. seda joonist seal leheküljel.''')\n",
    "text.tag_layer(['words'])\n",
    "SentenceTokenizer( fix_compound_tokens=True ).tag(text)  # fix sentence endings related to compound tokens (default)\n",
    "text['sentences']"
   ]
  },
  {
   "cell_type": "markdown",
   "metadata": {},
   "source": [
    "In addition to `non_ending_abbreviation`-s, regular `abbreviations` in specific contexts can also cause wrong sentence endings. So, if `fix_compound_tokens=True`, then special merge patterns are also applied to detect regular abbreviations that are followed by period, and then by lowercase letters or non-ending punctuation (e.g. comma, semicolon). If a sentence break appears after the period in such contexts, then two consecutive sentences are joined together:"
   ]
  },
  {
   "cell_type": "code",
   "execution_count": 3,
   "metadata": {},
   "outputs": [
    {
     "data": {
      "text/html": [
       "<h4>Layer</h4>\n",
       "<table border=\"1\" class=\"dataframe\">\n",
       "  <thead>\n",
       "    <tr style=\"text-align: right;\">\n",
       "      <th>layer name</th>\n",
       "      <th>attributes</th>\n",
       "      <th>parent</th>\n",
       "      <th>enveloping</th>\n",
       "      <th>ambiguous</th>\n",
       "      <th>span count</th>\n",
       "    </tr>\n",
       "  </thead>\n",
       "  <tbody>\n",
       "    <tr>\n",
       "      <td>sentences</td>\n",
       "      <td></td>\n",
       "      <td>None</td>\n",
       "      <td>words</td>\n",
       "      <td>False</td>\n",
       "      <td>1</td>\n",
       "    </tr>\n",
       "  </tbody>\n",
       "</table>\n",
       "<table border=\"1\" class=\"dataframe\">\n",
       "  <thead>\n",
       "    <tr style=\"text-align: right;\">\n",
       "      <th>text</th>\n",
       "    </tr>\n",
       "  </thead>\n",
       "  <tbody>\n",
       "    <tr>\n",
       "      <td><b>Jooniste</b><b>,</b> <b>tabelite</b> <b>jm.</b> <b>abil</b> <b>on</b> <b>kõik</b> <b>selgeks</b> <b>tehtud</b><b>.</b></td>\n",
       "    </tr>\n",
       "  </tbody>\n",
       "</table>"
      ],
      "text/plain": [
       "Layer(name=sentences, spans=SL[ES[Span(Jooniste, {'normalized_form': None}),\n",
       "Span(,, {'normalized_form': None}),\n",
       "Span(tabelite, {'normalized_form': None}),\n",
       "Span(jm., {'normalized_form': 'jm.'}),\n",
       "Span(abil, {'normalized_form': None}),\n",
       "Span(on, {'normalized_form': None}),\n",
       "Span(kõik, {'normalized_form': None}),\n",
       "Span(selgeks, {'normalized_form': None}),\n",
       "Span(tehtud, {'normalized_form': None}),\n",
       "Span(., {'normalized_form': None})]])"
      ]
     },
     "execution_count": 3,
     "metadata": {},
     "output_type": "execute_result"
    }
   ],
   "source": [
    "text = Text('''Jooniste, tabelite jm. abil on kõik selgeks tehtud.''')\n",
    "\n",
    "text.tag_layer(['words'])\n",
    "SentenceTokenizer( fix_compound_tokens=True ).tag(text)  # switch on fixes related to compound tokens (default)\n",
    "text['sentences']"
   ]
  },
  {
   "cell_type": "code",
   "execution_count": 4,
   "metadata": {},
   "outputs": [
    {
     "data": {
      "text/html": [
       "<h4>Layer</h4>\n",
       "<table border=\"1\" class=\"dataframe\">\n",
       "  <thead>\n",
       "    <tr style=\"text-align: right;\">\n",
       "      <th>layer name</th>\n",
       "      <th>attributes</th>\n",
       "      <th>parent</th>\n",
       "      <th>enveloping</th>\n",
       "      <th>ambiguous</th>\n",
       "      <th>span count</th>\n",
       "    </tr>\n",
       "  </thead>\n",
       "  <tbody>\n",
       "    <tr>\n",
       "      <td>compound_tokens</td>\n",
       "      <td>type, normalized</td>\n",
       "      <td>None</td>\n",
       "      <td>tokens</td>\n",
       "      <td>False</td>\n",
       "      <td>1</td>\n",
       "    </tr>\n",
       "  </tbody>\n",
       "</table>\n",
       "<table border=\"1\" class=\"dataframe\">\n",
       "  <thead>\n",
       "    <tr style=\"text-align: right;\">\n",
       "      <th>text</th>\n",
       "      <th>type</th>\n",
       "      <th>normalized</th>\n",
       "    </tr>\n",
       "  </thead>\n",
       "  <tbody>\n",
       "    <tr>\n",
       "      <td><b>jm</b><b>.</b></td>\n",
       "      <td>(abbreviation,)</td>\n",
       "      <td>jm.</td>\n",
       "    </tr>\n",
       "  </tbody>\n",
       "</table>"
      ],
      "text/plain": [
       "Layer(name=compound_tokens, spans=SL[ES[Span(jm, {}),\n",
       "Span(., {})]])"
      ]
     },
     "execution_count": 4,
     "metadata": {},
     "output_type": "execute_result"
    }
   ],
   "source": [
    "text['compound_tokens']"
   ]
  },
  {
   "cell_type": "markdown",
   "metadata": {},
   "source": [
    "In the previous example: the compound token _'jm.'_ has type `abbreviation`, not `non_ending_abbreviation`, because it can also appear at the end of a sentence. So, we can only heuristically determine that it is likely not a sentence ending if the following text passage starts with lowercase letters or non-ending punctuation.\n",
    "\n",
    "Note: using this setting requires that `abbreviation`-s and `non_ending_abbreviation`-s are detected during the previous processing, and available in the layer `compound_tokens` (see `CompoundTokenTagger` for details);"
   ]
  },
  {
   "cell_type": "markdown",
   "metadata": {},
   "source": [
    "##### Fixes related to numeric expressions (`fix_numeric`)\n",
    "\n",
    "Removes sentence endings that are mistakenly added after periods that end date, time and (other) numeric expressions."
   ]
  },
  {
   "cell_type": "code",
   "execution_count": 5,
   "metadata": {},
   "outputs": [
    {
     "data": {
      "text/html": [
       "<h4>Layer</h4>\n",
       "<table border=\"1\" class=\"dataframe\">\n",
       "  <thead>\n",
       "    <tr style=\"text-align: right;\">\n",
       "      <th>layer name</th>\n",
       "      <th>attributes</th>\n",
       "      <th>parent</th>\n",
       "      <th>enveloping</th>\n",
       "      <th>ambiguous</th>\n",
       "      <th>span count</th>\n",
       "    </tr>\n",
       "  </thead>\n",
       "  <tbody>\n",
       "    <tr>\n",
       "      <td>sentences</td>\n",
       "      <td></td>\n",
       "      <td>None</td>\n",
       "      <td>words</td>\n",
       "      <td>False</td>\n",
       "      <td>1</td>\n",
       "    </tr>\n",
       "  </tbody>\n",
       "</table>\n",
       "<table border=\"1\" class=\"dataframe\">\n",
       "  <thead>\n",
       "    <tr style=\"text-align: right;\">\n",
       "      <th>text</th>\n",
       "    </tr>\n",
       "  </thead>\n",
       "  <tbody>\n",
       "    <tr>\n",
       "      <td><b>17 .</b> <b>okt</b><b>.</b> <b>1998</b> <b>a .</b> <b>laekus</b> <b>firmale</b> <b>täpselt</b> <b>700.</b><b>-</b> <b>eeku</b><b>.</b></td>\n",
       "    </tr>\n",
       "  </tbody>\n",
       "</table>"
      ],
      "text/plain": [
       "Layer(name=sentences, spans=SL[ES[Span(17 ., {'normalized_form': '17'}),\n",
       "Span(okt, {'normalized_form': None}),\n",
       "Span(., {'normalized_form': None}),\n",
       "Span(1998, {'normalized_form': None}),\n",
       "Span(a ., {'normalized_form': 'a.'}),\n",
       "Span(laekus, {'normalized_form': None}),\n",
       "Span(firmale, {'normalized_form': None}),\n",
       "Span(täpselt, {'normalized_form': None}),\n",
       "Span(700., {'normalized_form': '700'}),\n",
       "Span(-, {'normalized_form': None}),\n",
       "Span(eeku, {'normalized_form': None}),\n",
       "Span(., {'normalized_form': None})]])"
      ]
     },
     "execution_count": 5,
     "metadata": {},
     "output_type": "execute_result"
    }
   ],
   "source": [
    "text = Text(\"17 . okt. 1998 a . laekus firmale täpselt 700.- eeku.\")\n",
    "\n",
    "text.tag_layer(['words'])\n",
    "SentenceTokenizer( fix_numeric=True ).tag(text)  # switch on fixes related to numeric expressions (default)\n",
    "text['sentences']"
   ]
  },
  {
   "cell_type": "markdown",
   "metadata": {},
   "source": [
    "##### Fixes related to parentheses (`fix_parentheses`)\n",
    "\n",
    "Removes sentence endings that are mistakenly added inside parentheses, and fixes endings that are misplaced with respect to parentheses."
   ]
  },
  {
   "cell_type": "code",
   "execution_count": 6,
   "metadata": {},
   "outputs": [
    {
     "data": {
      "text/html": [
       "<h4>Layer</h4>\n",
       "<table border=\"1\" class=\"dataframe\">\n",
       "  <thead>\n",
       "    <tr style=\"text-align: right;\">\n",
       "      <th>layer name</th>\n",
       "      <th>attributes</th>\n",
       "      <th>parent</th>\n",
       "      <th>enveloping</th>\n",
       "      <th>ambiguous</th>\n",
       "      <th>span count</th>\n",
       "    </tr>\n",
       "  </thead>\n",
       "  <tbody>\n",
       "    <tr>\n",
       "      <td>sentences</td>\n",
       "      <td></td>\n",
       "      <td>None</td>\n",
       "      <td>words</td>\n",
       "      <td>False</td>\n",
       "      <td>2</td>\n",
       "    </tr>\n",
       "  </tbody>\n",
       "</table>\n",
       "<table border=\"1\" class=\"dataframe\">\n",
       "  <thead>\n",
       "    <tr style=\"text-align: right;\">\n",
       "      <th>text</th>\n",
       "    </tr>\n",
       "  </thead>\n",
       "  <tbody>\n",
       "    <tr>\n",
       "      <td><b>(</b> <b>Naerab</b><b>.</b> <b>)</b></td>\n",
       "    </tr>\n",
       "    <tr>\n",
       "      <td><b>Eriti</b> <b>siis</b> <b>,</b> <b>kui</b> <b>sõidan</b> <b>mootorratta</b> <b>või</b> <b>jalgrattaga</b> <b>(</b> <b>v</b><b>.</b> <b>tasakaaluliikuriga</b> <b>)</b><b>.</b></td>\n",
       "    </tr>\n",
       "  </tbody>\n",
       "</table>"
      ],
      "text/plain": [
       "Layer(name=sentences, spans=SL[ES[Span((, {'normalized_form': None}),\n",
       "Span(Naerab, {'normalized_form': None}),\n",
       "Span(., {'normalized_form': None}),\n",
       "Span(), {'normalized_form': None})],\n",
       "ES[Span(Eriti, {'normalized_form': None}),\n",
       "Span(siis, {'normalized_form': None}),\n",
       "Span(,, {'normalized_form': None}),\n",
       "Span(kui, {'normalized_form': None}),\n",
       "Span(sõidan, {'normalized_form': None}),\n",
       "Span(mootorratta, {'normalized_form': None}),\n",
       "Span(või, {'normalized_form': None}),\n",
       "Span(jalgrattaga, {'normalized_form': None}),\n",
       "Span((, {'normalized_form': None}),\n",
       "Span(v, {'normalized_form': None}),\n",
       "Span(., {'normalized_form': None}),\n",
       "Span(tasakaaluliikuriga, {'normalized_form': None}),\n",
       "Span(), {'normalized_form': None}),\n",
       "Span(., {'normalized_form': None})]])"
      ]
     },
     "execution_count": 6,
     "metadata": {},
     "output_type": "execute_result"
    }
   ],
   "source": [
    "text = Text(\"( Naerab. )\\nEriti siis , kui sõidan mootorratta või jalgrattaga ( v. tasakaaluliikuriga ).\")\n",
    "\n",
    "text.tag_layer(['words'])\n",
    "SentenceTokenizer( fix_parentheses=True ).tag(text)  # switch on fixes related to parentheses (default)\n",
    "text['sentences']"
   ]
  },
  {
   "cell_type": "markdown",
   "metadata": {},
   "source": [
    "##### Fixes related to double quotes (`fix_double_quotes`)\n",
    "\n",
    "Removes sentence endings that are misplaced with respect to quotations / double quotes."
   ]
  },
  {
   "cell_type": "code",
   "execution_count": 7,
   "metadata": {},
   "outputs": [
    {
     "data": {
      "text/html": [
       "<h4>Layer</h4>\n",
       "<table border=\"1\" class=\"dataframe\">\n",
       "  <thead>\n",
       "    <tr style=\"text-align: right;\">\n",
       "      <th>layer name</th>\n",
       "      <th>attributes</th>\n",
       "      <th>parent</th>\n",
       "      <th>enveloping</th>\n",
       "      <th>ambiguous</th>\n",
       "      <th>span count</th>\n",
       "    </tr>\n",
       "  </thead>\n",
       "  <tbody>\n",
       "    <tr>\n",
       "      <td>sentences</td>\n",
       "      <td></td>\n",
       "      <td>None</td>\n",
       "      <td>words</td>\n",
       "      <td>False</td>\n",
       "      <td>2</td>\n",
       "    </tr>\n",
       "  </tbody>\n",
       "</table>\n",
       "<table border=\"1\" class=\"dataframe\">\n",
       "  <thead>\n",
       "    <tr style=\"text-align: right;\">\n",
       "      <th>text</th>\n",
       "    </tr>\n",
       "  </thead>\n",
       "  <tbody>\n",
       "    <tr>\n",
       "      <td><b>«</b> <b>Meeste</b> <b>lihas</b> <b>on</b> <b>tühjem</b> <b>,</b> <b>aga</b> <b>võtab</b> <b>taastamistegevust</b> <b>vastu</b> <b>paremini</b> <b>kui</b> <b>varem</b> <b>.</b> <b>»</b></td>\n",
       "    </tr>\n",
       "    <tr>\n",
       "      <td><b>«</b> <b>Meie</b> <b>treeningutel</b> <b>on</b> <b>üks</b> <b>uus</b> <b>peateema</b> <b>!</b> <b>»</b> <b>elavneb</b> <b>Alaver</b> <b>.</b></td>\n",
       "    </tr>\n",
       "  </tbody>\n",
       "</table>"
      ],
      "text/plain": [
       "Layer(name=sentences, spans=SL[ES[Span(«, {'normalized_form': None}),\n",
       "Span(Meeste, {'normalized_form': None}),\n",
       "Span(lihas, {'normalized_form': None}),\n",
       "Span(on, {'normalized_form': None}),\n",
       "Span(tühjem, {'normalized_form': None}),\n",
       "Span(,, {'normalized_form': None}),\n",
       "Span(aga, {'normalized_form': None}),\n",
       "Span(võtab, {'normalized_form': None}),\n",
       "Span(taastamistegevust, {'normalized_form': None}),\n",
       "Span(vastu, {'normalized_form': None}),\n",
       "Span(paremini, {'normalized_form': None}),\n",
       "Span(kui, {'normalized_form': None}),\n",
       "Span(varem, {'normalized_form': None}),\n",
       "Span(., {'normalized_form': None}),\n",
       "Span(», {'normalized_form': None})],\n",
       "ES[Span(«, {'normalized_form': None}),\n",
       "Span(Meie, {'normalized_form': None}),\n",
       "Span(treeningutel, {'normalized_form': None}),\n",
       "Span(on, {'normalized_form': None}),\n",
       "Span(üks, {'normalized_form': None}),\n",
       "Span(uus, {'normalized_form': None}),\n",
       "Span(peateema, {'normalized_form': None}),\n",
       "Span(!, {'normalized_form': None}),\n",
       "Span(», {'normalized_form': None}),\n",
       "Span(elavneb, {'normalized_form': None}),\n",
       "Span(Alaver, {'normalized_form': None}),\n",
       "Span(., {'normalized_form': None})]])"
      ]
     },
     "execution_count": 7,
     "metadata": {},
     "output_type": "execute_result"
    }
   ],
   "source": [
    "text = Text(\"\"\"« Meeste lihas on tühjem , aga võtab taastamistegevust vastu paremini kui varem . »\n",
    "« Meie treeningutel on üks uus peateema ! » elavneb Alaver .\"\"\")\n",
    "\n",
    "text.tag_layer(['words'])\n",
    "SentenceTokenizer( fix_double_quotes=True ).tag(text)  # switch on fixes related to double quotes (default)\n",
    "text['sentences']"
   ]
  },
  {
   "cell_type": "markdown",
   "metadata": {},
   "source": [
    "##### Fixes related to inner titles ending with punctuation (`fix_inner_title_punct`)\n",
    "\n",
    "Removes sentence endings that are mistakenly placed after titles inside the sentence. Currently only fixes cases when a question mark or an exclamation mark is followed by a sentence ending and, a colon or a semicolon starts the next sentence."
   ]
  },
  {
   "cell_type": "code",
   "execution_count": 8,
   "metadata": {},
   "outputs": [
    {
     "data": {
      "text/html": [
       "<h4>Layer</h4>\n",
       "<table border=\"1\" class=\"dataframe\">\n",
       "  <thead>\n",
       "    <tr style=\"text-align: right;\">\n",
       "      <th>layer name</th>\n",
       "      <th>attributes</th>\n",
       "      <th>parent</th>\n",
       "      <th>enveloping</th>\n",
       "      <th>ambiguous</th>\n",
       "      <th>span count</th>\n",
       "    </tr>\n",
       "  </thead>\n",
       "  <tbody>\n",
       "    <tr>\n",
       "      <td>sentences</td>\n",
       "      <td></td>\n",
       "      <td>None</td>\n",
       "      <td>words</td>\n",
       "      <td>False</td>\n",
       "      <td>1</td>\n",
       "    </tr>\n",
       "  </tbody>\n",
       "</table>\n",
       "<table border=\"1\" class=\"dataframe\">\n",
       "  <thead>\n",
       "    <tr style=\"text-align: right;\">\n",
       "      <th>text</th>\n",
       "    </tr>\n",
       "  </thead>\n",
       "  <tbody>\n",
       "    <tr>\n",
       "      <td><b>Laval</b> <b>olid</b> <b>jõulise</b> <b>naissolistiga</b> <b>Conflict</b> <b>OK</b><b>!</b><b>,</b> <b>kitarripoppi</b> <b>mängivad</b> <b>Claires</b> <b>Birthday</b> <b>ja</b> <b>Seachers</b><b>.</b></td>\n",
       "    </tr>\n",
       "  </tbody>\n",
       "</table>"
      ],
      "text/plain": [
       "Layer(name=sentences, spans=SL[ES[Span(Laval, {'normalized_form': None}),\n",
       "Span(olid, {'normalized_form': None}),\n",
       "Span(jõulise, {'normalized_form': None}),\n",
       "Span(naissolistiga, {'normalized_form': None}),\n",
       "Span(Conflict, {'normalized_form': None}),\n",
       "Span(OK, {'normalized_form': None}),\n",
       "Span(!, {'normalized_form': None}),\n",
       "Span(,, {'normalized_form': None}),\n",
       "Span(kitarripoppi, {'normalized_form': None}),\n",
       "Span(mängivad, {'normalized_form': None}),\n",
       "Span(Claires, {'normalized_form': None}),\n",
       "Span(Birthday, {'normalized_form': None}),\n",
       "Span(ja, {'normalized_form': None}),\n",
       "Span(Seachers, {'normalized_form': None}),\n",
       "Span(., {'normalized_form': None})]])"
      ]
     },
     "execution_count": 8,
     "metadata": {},
     "output_type": "execute_result"
    }
   ],
   "source": [
    "text = Text(\"Laval olid jõulise naissolistiga Conflict OK!, kitarripoppi mängivad Claires Birthday ja Seachers.\")\n",
    "\n",
    "text.tag_layer(['words'])\n",
    "SentenceTokenizer( fix_inner_title_punct=True ).tag(text)  # switch on fixes related to inner titles (default)\n",
    "text['sentences']"
   ]
  },
  {
   "cell_type": "markdown",
   "metadata": {},
   "source": [
    "##### Fixes related to prolonged sentence ending punctuation (`fix_repeated_ending_punct`)\n",
    "\n",
    "Adds sentence endings that are missed in places of prolonged ending punctuation (including ellipsis / triple dots), and also  fixes misplaced sentence endings in such contexts."
   ]
  },
  {
   "cell_type": "code",
   "execution_count": 9,
   "metadata": {},
   "outputs": [
    {
     "data": {
      "text/html": [
       "<h4>Layer</h4>\n",
       "<table border=\"1\" class=\"dataframe\">\n",
       "  <thead>\n",
       "    <tr style=\"text-align: right;\">\n",
       "      <th>layer name</th>\n",
       "      <th>attributes</th>\n",
       "      <th>parent</th>\n",
       "      <th>enveloping</th>\n",
       "      <th>ambiguous</th>\n",
       "      <th>span count</th>\n",
       "    </tr>\n",
       "  </thead>\n",
       "  <tbody>\n",
       "    <tr>\n",
       "      <td>sentences</td>\n",
       "      <td></td>\n",
       "      <td>None</td>\n",
       "      <td>words</td>\n",
       "      <td>False</td>\n",
       "      <td>2</td>\n",
       "    </tr>\n",
       "  </tbody>\n",
       "</table>\n",
       "<table border=\"1\" class=\"dataframe\">\n",
       "  <thead>\n",
       "    <tr style=\"text-align: right;\">\n",
       "      <th>text</th>\n",
       "    </tr>\n",
       "  </thead>\n",
       "  <tbody>\n",
       "    <tr>\n",
       "      <td><b>Seda</b> <b>ma</b> <b>ei</b> <b>teadnud</b><b>...</b></td>\n",
       "    </tr>\n",
       "    <tr>\n",
       "      <td><b>Ja</b> <b>tegelikult</b> <b>ei</b> <b>saanudki</b> <b>teada</b> <b>!</b> <b>!!</b></td>\n",
       "    </tr>\n",
       "  </tbody>\n",
       "</table>"
      ],
      "text/plain": [
       "Layer(name=sentences, spans=SL[ES[Span(Seda, {'normalized_form': None}),\n",
       "Span(ma, {'normalized_form': None}),\n",
       "Span(ei, {'normalized_form': None}),\n",
       "Span(teadnud, {'normalized_form': None}),\n",
       "Span(..., {'normalized_form': None})],\n",
       "ES[Span(Ja, {'normalized_form': None}),\n",
       "Span(tegelikult, {'normalized_form': None}),\n",
       "Span(ei, {'normalized_form': None}),\n",
       "Span(saanudki, {'normalized_form': None}),\n",
       "Span(teada, {'normalized_form': None}),\n",
       "Span(!, {'normalized_form': None}),\n",
       "Span(!!, {'normalized_form': None})]])"
      ]
     },
     "execution_count": 9,
     "metadata": {},
     "output_type": "execute_result"
    }
   ],
   "source": [
    "text = Text(\"Seda ma ei teadnud... Ja tegelikult ei saanudki teada ! !! \")\n",
    "\n",
    "text.tag_layer(['words'])\n",
    "SentenceTokenizer( fix_repeated_ending_punct=True ).tag(text)  # switch on fixes related to repeated ending punct (default)\n",
    "text['sentences']"
   ]
  },
  {
   "cell_type": "markdown",
   "metadata": {},
   "source": [
    "##### Use emoticons as sentence endings (`use_emoticons_as_endings`)\n",
    "\n",
    "If switched on (the default setting), then emoticons are treated as sentence endings. Note: this requires that emoticons are detected during the previous processing, and available in the layer `compound_tokens` (see `CompoundTokenTagger` for details);"
   ]
  },
  {
   "cell_type": "code",
   "execution_count": 10,
   "metadata": {},
   "outputs": [
    {
     "data": {
      "text/html": [
       "<h4>Layer</h4>\n",
       "<table border=\"1\" class=\"dataframe\">\n",
       "  <thead>\n",
       "    <tr style=\"text-align: right;\">\n",
       "      <th>layer name</th>\n",
       "      <th>attributes</th>\n",
       "      <th>parent</th>\n",
       "      <th>enveloping</th>\n",
       "      <th>ambiguous</th>\n",
       "      <th>span count</th>\n",
       "    </tr>\n",
       "  </thead>\n",
       "  <tbody>\n",
       "    <tr>\n",
       "      <td>sentences</td>\n",
       "      <td></td>\n",
       "      <td>None</td>\n",
       "      <td>words</td>\n",
       "      <td>False</td>\n",
       "      <td>3</td>\n",
       "    </tr>\n",
       "  </tbody>\n",
       "</table>\n",
       "<table border=\"1\" class=\"dataframe\">\n",
       "  <thead>\n",
       "    <tr style=\"text-align: right;\">\n",
       "      <th>text</th>\n",
       "    </tr>\n",
       "  </thead>\n",
       "  <tbody>\n",
       "    <tr>\n",
       "      <td><b>Nii</b> <b>habras</b><b>,</b> <b>ilus</b> <b>ja</b> <b>minu</b> <b>oma</b> <b>:)</b></td>\n",
       "    </tr>\n",
       "    <tr>\n",
       "      <td><b>Kõige</b> <b>parem</b> <b>mis</b> <b>kunagi</b> <b>juhtuda</b> <b>saab</b> <b>:)</b><b>:)</b></td>\n",
       "    </tr>\n",
       "    <tr>\n",
       "      <td><b>Magamata</b> <b>öid</b> <b>mul</b> <b>muidugi</b> <b>ei</b> <b>olnud</b><b>.</b></td>\n",
       "    </tr>\n",
       "  </tbody>\n",
       "</table>"
      ],
      "text/plain": [
       "Layer(name=sentences, spans=SL[ES[Span(Nii, {'normalized_form': None}),\n",
       "Span(habras, {'normalized_form': None}),\n",
       "Span(,, {'normalized_form': None}),\n",
       "Span(ilus, {'normalized_form': None}),\n",
       "Span(ja, {'normalized_form': None}),\n",
       "Span(minu, {'normalized_form': None}),\n",
       "Span(oma, {'normalized_form': None}),\n",
       "Span(:), {'normalized_form': ':)'})],\n",
       "ES[Span(Kõige, {'normalized_form': None}),\n",
       "Span(parem, {'normalized_form': None}),\n",
       "Span(mis, {'normalized_form': None}),\n",
       "Span(kunagi, {'normalized_form': None}),\n",
       "Span(juhtuda, {'normalized_form': None}),\n",
       "Span(saab, {'normalized_form': None}),\n",
       "Span(:), {'normalized_form': ':)'}),\n",
       "Span(:), {'normalized_form': ':)'})],\n",
       "ES[Span(Magamata, {'normalized_form': None}),\n",
       "Span(öid, {'normalized_form': None}),\n",
       "Span(mul, {'normalized_form': None}),\n",
       "Span(muidugi, {'normalized_form': None}),\n",
       "Span(ei, {'normalized_form': None}),\n",
       "Span(olnud, {'normalized_form': None}),\n",
       "Span(., {'normalized_form': None})]])"
      ]
     },
     "execution_count": 10,
     "metadata": {},
     "output_type": "execute_result"
    }
   ],
   "source": [
    "text = Text(\"Nii habras, ilus ja minu oma :) Kõige parem mis kunagi juhtuda saab :):) Magamata öid mul muidugi ei olnud.\")\n",
    "\n",
    "text.tag_layer(['words'])\n",
    "SentenceTokenizer( use_emoticons_as_endings=True ).tag(text)  # switch on using emoticons as sentence endings (default)\n",
    "text['sentences']"
   ]
  },
  {
   "cell_type": "markdown",
   "metadata": {},
   "source": [
    "##### Fix paragraph endings (`fix_paragraph_endings`)\n",
    "\n",
    "If switched on (the default setting), then paragraph endings (double newlines) are treated as sentence endings."
   ]
  },
  {
   "cell_type": "code",
   "execution_count": 11,
   "metadata": {},
   "outputs": [
    {
     "data": {
      "text/html": [
       "<h4>Layer</h4>\n",
       "<table border=\"1\" class=\"dataframe\">\n",
       "  <thead>\n",
       "    <tr style=\"text-align: right;\">\n",
       "      <th>layer name</th>\n",
       "      <th>attributes</th>\n",
       "      <th>parent</th>\n",
       "      <th>enveloping</th>\n",
       "      <th>ambiguous</th>\n",
       "      <th>span count</th>\n",
       "    </tr>\n",
       "  </thead>\n",
       "  <tbody>\n",
       "    <tr>\n",
       "      <td>sentences</td>\n",
       "      <td></td>\n",
       "      <td>None</td>\n",
       "      <td>words</td>\n",
       "      <td>False</td>\n",
       "      <td>6</td>\n",
       "    </tr>\n",
       "  </tbody>\n",
       "</table>\n",
       "<table border=\"1\" class=\"dataframe\">\n",
       "  <thead>\n",
       "    <tr style=\"text-align: right;\">\n",
       "      <th>text</th>\n",
       "    </tr>\n",
       "  </thead>\n",
       "  <tbody>\n",
       "    <tr>\n",
       "      <td><b>Herbes</b> <b>de</b> <b>Provence</b> <b>maitseainesegu</b></td>\n",
       "    </tr>\n",
       "    <tr>\n",
       "      <td><b>Teistes</b> <b>keeltes</b></td>\n",
       "    </tr>\n",
       "    <tr>\n",
       "      <td><b>English</b><b>:</b> <b>herbes</b> <b>de</b> <b>Provence</b><b>,</b> <b>Provençal</b> <b>herbs</b></td>\n",
       "    </tr>\n",
       "    <tr>\n",
       "      <td><b>French</b><b>:</b> <b>herbes</b> <b>de</b> <b>Provence</b></td>\n",
       "    </tr>\n",
       "    <tr>\n",
       "      <td><b>Kirjeldus</b></td>\n",
       "    </tr>\n",
       "    <tr>\n",
       "      <td><b>1970ndatel</b> <b>prantsuse</b> <b>köögis</b> <b>populaarseks</b> <b>muutunud</b> <b>maitseainesegu</b><b>.</b></td>\n",
       "    </tr>\n",
       "  </tbody>\n",
       "</table>"
      ],
      "text/plain": [
       "Layer(name=sentences, spans=SL[ES[Span(Herbes, {'normalized_form': None}),\n",
       "Span(de, {'normalized_form': None}),\n",
       "Span(Provence, {'normalized_form': None}),\n",
       "Span(maitseainesegu, {'normalized_form': None})],\n",
       "ES[Span(Teistes, {'normalized_form': None}),\n",
       "Span(keeltes, {'normalized_form': None})],\n",
       "ES[Span(English, {'normalized_form': None}),\n",
       "Span(:, {'normalized_form': None}),\n",
       "Span(herbes, {'normalized_form': None}),\n",
       "Span(de, {'normalized_form': None}),\n",
       "Span(Provence, {'normalized_form': None}),\n",
       "Span(,, {'normalized_form': None}),\n",
       "Span(Provençal, {'normalized_form': None}),\n",
       "Span(herbs, {'normalized_form': None})],\n",
       "ES[Span(French, {'normalized_form': None}),\n",
       "Span(:, {'normalized_form': None}),\n",
       "Span(herbes, {'normalized_form': None}),\n",
       "Span(de, {'normalized_form': None}),\n",
       "Span(Provence, {'normalized_form': None})],\n",
       "ES[Span(Kirjeldus, {'normalized_form': None})],\n",
       "ES[Span(1970ndatel, {'normalized_form': None}),\n",
       "Span(prantsuse, {'normalized_form': None}),\n",
       "Span(köögis, {'normalized_form': None}),\n",
       "Span(populaarseks, {'normalized_form': None}),\n",
       "Span(muutunud, {'normalized_form': None}),\n",
       "Span(maitseainesegu, {'normalized_form': None}),\n",
       "Span(., {'normalized_form': None})]])"
      ]
     },
     "execution_count": 11,
     "metadata": {},
     "output_type": "execute_result"
    }
   ],
   "source": [
    "text = Text('''\n",
    "Herbes de Provence maitseainesegu\n",
    "\n",
    "Teistes keeltes\n",
    "\n",
    "English: herbes de Provence, Provençal herbs\n",
    "\n",
    "French: herbes de Provence\n",
    "\n",
    "Kirjeldus\n",
    "\n",
    "1970ndatel prantsuse köögis populaarseks muutunud maitseainesegu.\n",
    "''')\n",
    "\n",
    "text.tag_layer(['words'])\n",
    "SentenceTokenizer( fix_paragraph_endings=True ).tag(text)  # switch on using double newlines as sentence endings (default)\n",
    "text['sentences']"
   ]
  },
  {
   "cell_type": "markdown",
   "metadata": {},
   "source": [
    "#### Technical details\n",
    "\n",
    "The initial sentence tokenization is obtained via `PunktSentenceTokenizer`'s method [sentences_from_tokens()]( http://www.nltk.org/api/nltk.tokenize.html#nltk.tokenize.punkt.PunktSentenceTokenizer.sentences_from_tokens), which takes a  list of words as an input, and groups the words into sentences. Using this method ensures that:\n",
    "\n",
    "  * words consisting of compound tokens (e.g. names with initials like _'A. H. Tammsaare'_) will be treated as single text units, and sentence boundaries will not be added mistakenly inside such words;\n",
    "  * if a sentence ending symbol mistakenly \"glues together\" words in text (e.g. `'Kas on niipalju vaja?Ei ole ju.'`), then the list of words maintains the correct separation (e.g. `['Kas', 'on', 'niipalju', 'vaja', '?', 'Ei', 'ole', 'ju', '.']`), and provides basis for a correct sentence tokenization (otherwise, the sentence boundary would be missed because of the \"words glued together\");\n",
    "\n",
    "  _Remark_: If you really need to, then you can also change the initial sentence tokenizer (see the subsection _\"Customizing base tokenizer of the `SentenceTokenizer`\"_ below), but please keep in mind that post-corrections of `SentenceTokenizer` have been specifically created for the `PunktSentenceTokenizer`, and they may not work properly with other sentence tokenizers;\n",
    "\n",
    "After the initial sentence tokenization, the following post-correction steps are applied:\n",
    "\n",
    "  1. _fixing compound tokens_ ( flag `fix_compound_tokens` ) -- a built-in logic is used to remove all sentence endings that fall inside `compound_tokens`, and also sentence endings that are added after `compound_tokens` of type `non_ending_abbreviation` are removed. These fixes also have a continuation, see 6.1 for details;\n",
    "  2. _fixing repeated ending punctuation_ ( flag `fix_repeated_ending_punct` ) -- a built-in logic is used to add sentence endings after prolonged ending punctuation (including ellipsis/triple dots) if the prolonged ending punctuation is followed by a titlecased word. An exception: if prolonged ending punctuation is immediately after starting brackets, then sentence ending won't be added. These fixes also have a continuation, see 6.2 for details;\n",
    "  3. _adding sentence endings after emoticons_ ( flag `use_emoticons_as_endings` ) -- a built-in logic is used to add sentence endings after emoticons (`compound_tokens` of type `emoticon`) if emoticons are followed by a titlecased word. Also, if a sentence ending already exists before the first emoticon, then it is removed (to assure that emoticons belong with the ending sentence);\n",
    "  4. _collecting spans of potential sentences_ -- a built-in logic is used to collect spans (starts, ends) of potential sentences. Note that in steps 1-3, only sentence endings were processed, and at this step, full sentence spans are created. As a side effect, spans are also aligned with starts and ends of the words;\n",
    "  5. _fixing sentence endings related to paragraph endings_ ( flag `fix_paragraph_endings` ) -- a built-in logic is used to add sentence breaks in places where paragraphs end. The current logic marks double newlines as paragraph endings;\n",
    "  6. _applying merge patterns (and merge-and-split patterns)_ --- merging patterns are applied to join together consecutive \"sentences\" if the sentence break between them was erroneous. Patterns include a special subset called _merge-and-split patterns_ which first join two sentences together, and then split into two sentences at some other location inside one of the sentences. Merging patterns are divided into different types, which can be switched off / on by passing flags to `SentenceTokenizer`'s constructor. The following types of patterns are applied by default:\n",
    "\n",
    "  6.1. _fixing sentence endings mistakenly added after regular `abbreviation`-s_ ( flag `fix_compound_tokens` ) -- if a regular `abbreviation` is followed by a sentence break, and then by a lowercase word or non-ending punctuation (comma or semicolon), then the sentence break is removed after such abbreviation. Patterns that are applied in this step have `'fix_type'` that starts with the prefix `'abbrev'`;   \n",
    "  6.2. _fixing sentence endings mistakenly added inside prolonged punctuation_ ( flag `fix_repeated_ending_punct` ) -- if there is a sentence break inside the prolonged ending punctuation (e.g. the last exclamation mark forms a new sentence), then the sentence break will be removed. Merge patterns that are applied in this step have `'fix_type'` that starts with the prefix `'repeated_ending_punct'`;  \n",
    "  6.3. _removing sentence endings that were mistakenly added after periods that end date, time and (other) numeric expressions_ ( flag `fix_numeric`). Merge patterns applied in this step have `'fix_type'` starting with `'numeric'`;  \n",
    "  6.4. _fixing sentence endings that were misplaced with respect to parentheses_ ( flag `fix_parentheses` ). Merge patterns applied in this step have `'fix_type'` starting with `'parentheses'`;  \n",
    "  6.5. _fixing sentence endings that were misplaced with respect to quotations / double quotes_ ( flag `fix_double_quotes` ); Merge patterns applied in this step have `'fix_type'` starting with `'double_quotes'`;    \n",
    "  6.6. _removing sentence endings that were mistakenly placed after titles inside the sentence_ ( flag `fix_inner_title_punct` ); Merge patterns applied in this step have `'fix_type'` starting with `'inner_title_punct'`;       \n",
    "\n",
    "The final step of `SentenceTokenizer` is creating the layer 'sentences' based on the fixed / post-corrected list of sentence spans."
   ]
  },
  {
   "cell_type": "markdown",
   "metadata": {},
   "source": [
    "If `record_fix_types=True` is passed as a parameter to the method `SentenceTokenizer.tag()`, then the layer `'sentences'` will have attribute `'fix_types'` containing information about which types of merge patterns (from the step 6) were applied on the sentences. This information can be used for testing / debugging purposes."
   ]
  },
  {
   "cell_type": "markdown",
   "metadata": {},
   "source": [
    "##### Merge patterns (and merge-and-split patterns)\n",
    "\n",
    "Each merge pattern contains two regular expressions describing two consecutive sentences that need to be joined. The list of patterns is defined in the variable `merge_patterns` inside the module `estnltk.taggers.text_segmentation.sentence_tokenizer`. The following is an example of a pattern that merges sentences that have been mistakenly broken in the middle of a range of ordinal numbers:\n",
    "\n",
    "      { 'comment'  : '{Numeric_range_start} {period} + {dash} {Numeric_range_end}', \\\n",
    "        'example'  : '\"Tartu Muinsuskaitsepäevad toimusid 1988. a 14.\" + \"- 17. aprillil.\"', \\\n",
    "        'fix_type' : 'numeric_range', \\\n",
    "        'regexes'  : [ re.compile('(.+)?([0-9]+)\\s*\\.$', re.DOTALL), \\\n",
    "                   re.compile('-+\\s*([0-9]+)\\s*\\.(.*)?$', re.DOTALL)], \\\n",
    "      },\n",
    "      \n",
    "Attribute `'comment'` is used to give a generic description of the pattern, and `'example'` exemplifies the string joining performed by the pattern. Although these attributes are not mandatory, it is highly advisable to use them when adding new entries, as it helps to maintain interpretability.\n",
    "\n",
    "Attribute `'fix_type'` is mandatory and expresses the type of the fix. Flags passed to `SentenceTokenizer`'s constructor instruct which types of fixes will be used during the post-correction, and which ones will be skipped. For instance, the previously exemplified pattern will only be used if the flag `fix_numeric` is switched on. See 'Technical details' above for more information.\n",
    "\n",
    "Attribute `'regexes'` should be a list containing exactly two precompiled regular expressions that are used for finding the joining spot. The first should describe a sentence ending, and the second a beginning of a follow-up sentence.\n",
    "\n",
    "Attribute `'shift_end'` is an optional boolean attribute, which can be used to turn the pattern into a _merge-and-split pattern_. If switched on, then one of the regular expressions defined in `'regexes'` should contain a group named `'end'` (see \n",
    "[how to define named groups](https://docs.python.org/3.5/howto/regex.html#non-capturing-and-named-groups)), which marks the new sentence end. After two sentences are joined together, a new sentence end is created at the end of the string captured by the group `'end'`. Note that if the group  `'end'` is not defined, or it does not match, then sentences are only merged with no following split."
   ]
  },
  {
   "cell_type": "markdown",
   "metadata": {},
   "source": [
    "##### Customizing base tokenizer of the `SentenceTokenizer`\n",
    "\n",
    "If you really need to, then you can customize the `SentenceTokenizer`, and change it's base tokenizer from `PunktSentenceTokenizer` to some other tokenizer that inherits from [`nltk.tokenize.api.TokenizerI`](http://www.nltk.org/api/nltk.tokenize.html#nltk.tokenize.api.TokenizerI). For example, if you have an input text, where each sentence is systematically placed on a new line, then you may want to use NLTK's [`LineTokenizer`](http://www.nltk.org/api/nltk.tokenize.html#nltk.tokenize.simple.LineTokenizer) instead of the default `PunktSentenceTokenizer`:"
   ]
  },
  {
   "cell_type": "code",
   "execution_count": 12,
   "metadata": {
    "collapsed": true
   },
   "outputs": [],
   "source": [
    "# Create a sentence tokenizer that only splits sentences in places of new lines\n",
    "from nltk.tokenize.simple import LineTokenizer\n",
    "newline_sentence_tokenizer = SentenceTokenizer( base_sentence_tokenizer=LineTokenizer() )"
   ]
  },
  {
   "cell_type": "code",
   "execution_count": 13,
   "metadata": {},
   "outputs": [
    {
     "data": {
      "text/html": [
       "<h4>Layer</h4>\n",
       "<table border=\"1\" class=\"dataframe\">\n",
       "  <thead>\n",
       "    <tr style=\"text-align: right;\">\n",
       "      <th>layer name</th>\n",
       "      <th>attributes</th>\n",
       "      <th>parent</th>\n",
       "      <th>enveloping</th>\n",
       "      <th>ambiguous</th>\n",
       "      <th>span count</th>\n",
       "    </tr>\n",
       "  </thead>\n",
       "  <tbody>\n",
       "    <tr>\n",
       "      <td>sentences</td>\n",
       "      <td></td>\n",
       "      <td>None</td>\n",
       "      <td>words</td>\n",
       "      <td>False</td>\n",
       "      <td>3</td>\n",
       "    </tr>\n",
       "  </tbody>\n",
       "</table>\n",
       "<table border=\"1\" class=\"dataframe\">\n",
       "  <thead>\n",
       "    <tr style=\"text-align: right;\">\n",
       "      <th>text</th>\n",
       "    </tr>\n",
       "  </thead>\n",
       "  <tbody>\n",
       "    <tr>\n",
       "      <td><b>See</b> <b>on</b> <b>esimene</b> <b>lause</b></td>\n",
       "    </tr>\n",
       "    <tr>\n",
       "      <td><b>Ja</b> <b>see</b> <b>teine</b> <b>lause</b></td>\n",
       "    </tr>\n",
       "    <tr>\n",
       "      <td><b>Kolmas</b> <b>lause</b> <b>on</b> <b>kolmandal</b> <b>real</b></td>\n",
       "    </tr>\n",
       "  </tbody>\n",
       "</table>"
      ],
      "text/plain": [
       "Layer(name=sentences, spans=SL[ES[Span(See, {'normalized_form': None}),\n",
       "Span(on, {'normalized_form': None}),\n",
       "Span(esimene, {'normalized_form': None}),\n",
       "Span(lause, {'normalized_form': None})],\n",
       "ES[Span(Ja, {'normalized_form': None}),\n",
       "Span(see, {'normalized_form': None}),\n",
       "Span(teine, {'normalized_form': None}),\n",
       "Span(lause, {'normalized_form': None})],\n",
       "ES[Span(Kolmas, {'normalized_form': None}),\n",
       "Span(lause, {'normalized_form': None}),\n",
       "Span(on, {'normalized_form': None}),\n",
       "Span(kolmandal, {'normalized_form': None}),\n",
       "Span(real, {'normalized_form': None})]])"
      ]
     },
     "execution_count": 13,
     "metadata": {},
     "output_type": "execute_result"
    }
   ],
   "source": [
    "# Prepare text\n",
    "text = Text('''\n",
    "See on esimene lause\n",
    "Ja see teine lause\n",
    "Kolmas lause on kolmandal real\n",
    "''')\n",
    "text.tag_layer(['words'])\n",
    "# Apply the customized sentence tokenizer\n",
    "newline_sentence_tokenizer.tag(text)\n",
    "text['sentences']"
   ]
  },
  {
   "cell_type": "markdown",
   "metadata": {},
   "source": [
    "_Things to keep in mind:_\n",
    " * by default, the method [sentences_from_tokens()]( http://www.nltk.org/api/nltk.tokenize.html#nltk.tokenize.punkt.PunktSentenceTokenizer.sentences_from_tokens) is used for tokenization, but if the new `base_sentence_tokenizer` does not have that method, then the method [`span_tokenize()`](http://www.nltk.org/api/nltk.tokenize.html#nltk.tokenize.api.TokenizerI.span_tokenize) is used instead;\n",
    " * the post-corrections have been created specifically for the default `base_sentence_tokenizer` (which is: `PunktSentenceTokenizer` with the Estonian-specific model). If you change the `base_sentence_tokenizer`, then there is no guarantee that all the post-corrections still work properly. So, it may be a good idea to turn off the post-corrections while using a custom `base_sentence_tokenizer`;"
   ]
  },
  {
   "cell_type": "markdown",
   "metadata": {},
   "source": [
    "##### Known limitations and points for further improvement\n",
    "\n",
    " * `SentenceTokenizer` provides sentence ending fixes related to the most commonly used abbreviations and acronyms (that were found during the analysis of a sample from [KoondKorpus](https://keeleressursid.ee/et/keeleressursid-cl-ut/korpused/83-article/clutee-lehed/192-segakorpus) and [etTenTen](http://www2.keeleveeb.ee/dict/corpus/ettenten/about.html)). If you need to analyse a corpus from a specific domain, you likely need to provide additional / domain-specific fixes. For this purpose, `merge_patterns` defined in `estnltk.taggers.text_segmentation.sentence_tokenizer` could be augmented with additional rules;\n",
    " * Sentence breaks can be erroneously added inside _enumerations that contain periods_ (such as `1. ... ; 2. ... ; 3. ...`, or `a. ... ; b. ... ; c. ...`). Note that resloving these cases requires that enumerations are first detected in the text (so that enumerations are made distinct from sentences ending with numbers). As one enumeration item can contain several sentences, this problem goes beyond checking tokens in close proximity (as done in `CompoundTokenTagger`), and checking ends and starts of consecutive sentences (as done in `SentenceTokenizer`) -- a special logic involving analysis of whole document is likely required for detection of enumerations;\n",
    " * A sentence break can be erroneously added after a regular `abbreviation` followed by a titlecased word. For instance, in the sentence `'Bodhidharma tõi zeni 6. sajandil e.Kr. Hiinasse.'`, the break is added after `'e.Kr.'`, although the actual sentence continues. A solution to this problem would involve verifying that the titlecased word is actually a proper noun (or a named entity), and also checking that the second sentence is not too small (or that it contains verbs);"
   ]
  }
 ],
 "metadata": {
  "anaconda-cloud": {},
  "kernelspec": {
   "display_name": "Python 3",
   "language": "python",
   "name": "python3"
  },
  "language_info": {
   "codemirror_mode": {
    "name": "ipython",
    "version": 3
   },
   "file_extension": ".py",
   "mimetype": "text/x-python",
   "name": "python",
   "nbconvert_exporter": "python",
   "pygments_lexer": "ipython3",
   "version": "3.5.4"
  }
 },
 "nbformat": 4,
 "nbformat_minor": 2
}
