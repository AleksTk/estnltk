{
 "cells": [
  {
   "cell_type": "code",
   "execution_count": 1,
   "metadata": {
    "collapsed": false
   },
   "outputs": [],
   "source": [
    "from estnltk import Text\n",
    "from estnltk.converters.TCF_exporter import export_TCF\n",
    "from estnltk.converters.TCF_importer import import_TCF"
   ]
  },
  {
   "cell_type": "markdown",
   "metadata": {},
   "source": [
    "# TCF exporter and importer\n",
    "\n",
    "Export `Text` object to TCF and import from `TCF`.\n",
    "## Short example"
   ]
  },
  {
   "cell_type": "code",
   "execution_count": 2,
   "metadata": {
    "collapsed": false
   },
   "outputs": [
    {
     "name": "stdout",
     "output_type": "stream",
     "text": [
      "<D-Spin version=\"0.4\" xmlns=\"http://www.dspin.de/data\">\n",
      "  <MetaData xmlns=\"http://www.dspin.de/data/metadata\"/>\n",
      "  <TextCorpus lang=\"ee\" xmlns=\"http://www.dspin.de/data/textcorpus\">\n",
      "    <text>Tere</text>\n",
      "    <tc:tokens xmlns:tc=\"http://www.dspin.de/data/textcorpus\">\n",
      "      <tc:token ID=\"t0\" start=\"0\" end=\"4\">Tere</tc:token>\n",
      "    </tc:tokens>\n",
      "    <tc:sentences xmlns:tc=\"http://www.dspin.de/data/textcorpus\">\n",
      "      <tc:sentence ID=\"s0\" tokenIDs=\"t0\"/>\n",
      "    </tc:sentences>\n",
      "    <tc:lemmas xmlns:tc=\"http://www.dspin.de/data/textcorpus\">\n",
      "      <tc:lemma ID=\"l0\" tokenIDs=\"t0\">tere</tc:lemma>\n",
      "    </tc:lemmas>\n",
      "    <tc:POStags xmlns:tc=\"http://www.dspin.de/data/textcorpus\" tagset=\"\">\n",
      "      <tc:tag tokenIDs=\"t0\">I</tc:tag>\n",
      "    </tc:POStags>\n",
      "    <tc:morphology xmlns:tc=\"http://www.dspin.de/data/textcorpus\">\n",
      "      <tc:analysis tokenIDs=\"t0\">\n",
      "        <tc:tag>\n",
      "          <tc:fs>\n",
      "            <tc:f name=\"form\"></tc:f>\n",
      "            <tc:f name=\"root\">tere</tc:f>\n",
      "            <tc:f name=\"root_tokens\">tere</tc:f>\n",
      "            <tc:f name=\"ending\">0</tc:f>\n",
      "            <tc:f name=\"clitic\"></tc:f>\n",
      "          </tc:fs>\n",
      "        </tc:tag>\n",
      "      </tc:analysis>\n",
      "    </tc:morphology>\n",
      "  </TextCorpus>\n",
      "</D-Spin>\n",
      "\n"
     ]
    }
   ],
   "source": [
    "text = Text('Tere').tag_layer()\n",
    "print(export_TCF(text, 'out.xml'))"
   ]
  },
  {
   "cell_type": "code",
   "execution_count": 3,
   "metadata": {
    "collapsed": false
   },
   "outputs": [
    {
     "data": {
      "text/html": [
       "<table border=\"1\" class=\"dataframe\">\n",
       "  <thead>\n",
       "    <tr style=\"text-align: right;\">\n",
       "      <th>text</th>\n",
       "    </tr>\n",
       "  </thead>\n",
       "  <tbody>\n",
       "    <tr>\n",
       "      <td>Tere</td>\n",
       "    </tr>\n",
       "  </tbody>\n",
       "</table>\n",
       "<table border=\"1\" class=\"dataframe\">\n",
       "  <thead>\n",
       "    <tr style=\"text-align: right;\">\n",
       "      <th>layer</th>\n",
       "      <th>attributes</th>\n",
       "      <th>parent</th>\n",
       "      <th>enveloping</th>\n",
       "      <th>ambiguous</th>\n",
       "      <th>number of spans</th>\n",
       "    </tr>\n",
       "  </thead>\n",
       "  <tbody>\n",
       "    <tr>\n",
       "      <td>morf_analysis</td>\n",
       "      <td>lemma, root, root_tokens, ending, clitic, form, partofspeech</td>\n",
       "      <td>words</td>\n",
       "      <td>None</td>\n",
       "      <td>True</td>\n",
       "      <td>1</td>\n",
       "    </tr>\n",
       "    <tr>\n",
       "      <td>words</td>\n",
       "      <td></td>\n",
       "      <td>None</td>\n",
       "      <td>None</td>\n",
       "      <td>None</td>\n",
       "      <td>1</td>\n",
       "    </tr>\n",
       "  </tbody>\n",
       "</table>"
      ],
      "text/plain": [
       "Text(text=\"Tere\")"
      ]
     },
     "execution_count": 3,
     "metadata": {},
     "output_type": "execute_result"
    }
   ],
   "source": [
    "import_TCF('out.xml')"
   ]
  },
  {
   "cell_type": "code",
   "execution_count": 4,
   "metadata": {
    "collapsed": false
   },
   "outputs": [
    {
     "data": {
      "text/html": [
       "<table border=\"1\" class=\"dataframe\">\n",
       "  <thead>\n",
       "    <tr style=\"text-align: right;\">\n",
       "      <th>text</th>\n",
       "      <th>lemma</th>\n",
       "      <th>root</th>\n",
       "      <th>root_tokens</th>\n",
       "      <th>ending</th>\n",
       "      <th>clitic</th>\n",
       "      <th>form</th>\n",
       "      <th>partofspeech</th>\n",
       "    </tr>\n",
       "  </thead>\n",
       "  <tbody>\n",
       "    <tr>\n",
       "      <td>Tere</td>\n",
       "      <td>tere</td>\n",
       "      <td>tere</td>\n",
       "      <td>[tere]</td>\n",
       "      <td>0</td>\n",
       "      <td></td>\n",
       "      <td></td>\n",
       "      <td>I</td>\n",
       "    </tr>\n",
       "  </tbody>\n",
       "</table>"
      ],
      "text/plain": [
       "<estnltk.text.Layer at 0x7f7a09794a20>"
      ]
     },
     "execution_count": 4,
     "metadata": {},
     "output_type": "execute_result"
    }
   ],
   "source": [
    "text['morf_analysis']"
   ]
  },
  {
   "cell_type": "markdown",
   "metadata": {},
   "source": [
    "## Example with an ambiguous analysis"
   ]
  },
  {
   "cell_type": "code",
   "execution_count": 5,
   "metadata": {
    "collapsed": false
   },
   "outputs": [
    {
     "name": "stdout",
     "output_type": "stream",
     "text": [
      "<D-Spin version=\"0.4\" xmlns=\"http://www.dspin.de/data\">\n",
      "  <MetaData xmlns=\"http://www.dspin.de/data/metadata\"/>\n",
      "  <TextCorpus lang=\"ee\" xmlns=\"http://www.dspin.de/data/textcorpus\">\n",
      "    <text>Mis</text>\n",
      "    <tc:tokens xmlns:tc=\"http://www.dspin.de/data/textcorpus\">\n",
      "      <tc:token ID=\"t0\" start=\"0\" end=\"3\">Mis</tc:token>\n",
      "    </tc:tokens>\n",
      "    <tc:sentences xmlns:tc=\"http://www.dspin.de/data/textcorpus\">\n",
      "      <tc:sentence ID=\"s0\" tokenIDs=\"t0\"/>\n",
      "    </tc:sentences>\n",
      "    <tc:lemmas xmlns:tc=\"http://www.dspin.de/data/textcorpus\">\n",
      "      <tc:lemma ID=\"l0\" tokenIDs=\"t0\">mis</tc:lemma>\n",
      "      <tc:lemma ID=\"l0\" tokenIDs=\"t0\">mis</tc:lemma>\n",
      "    </tc:lemmas>\n",
      "    <tc:POStags xmlns:tc=\"http://www.dspin.de/data/textcorpus\" tagset=\"\">\n",
      "      <tc:tag tokenIDs=\"t0\">P</tc:tag>\n",
      "      <tc:tag tokenIDs=\"t0\">P</tc:tag>\n",
      "    </tc:POStags>\n",
      "    <tc:morphology xmlns:tc=\"http://www.dspin.de/data/textcorpus\">\n",
      "      <tc:analysis tokenIDs=\"t0\">\n",
      "        <tc:tag>\n",
      "          <tc:fs>\n",
      "            <tc:f name=\"form\">pl n</tc:f>\n",
      "            <tc:f name=\"root\">mis</tc:f>\n",
      "            <tc:f name=\"root_tokens\">mis</tc:f>\n",
      "            <tc:f name=\"ending\">0</tc:f>\n",
      "            <tc:f name=\"clitic\"></tc:f>\n",
      "          </tc:fs>\n",
      "        </tc:tag>\n",
      "      </tc:analysis>\n",
      "      <tc:analysis tokenIDs=\"t0\">\n",
      "        <tc:tag>\n",
      "          <tc:fs>\n",
      "            <tc:f name=\"form\">sg n</tc:f>\n",
      "            <tc:f name=\"root\">mis</tc:f>\n",
      "            <tc:f name=\"root_tokens\">mis</tc:f>\n",
      "            <tc:f name=\"ending\">0</tc:f>\n",
      "            <tc:f name=\"clitic\"></tc:f>\n",
      "          </tc:fs>\n",
      "        </tc:tag>\n",
      "      </tc:analysis>\n",
      "    </tc:morphology>\n",
      "  </TextCorpus>\n",
      "</D-Spin>\n",
      "\n"
     ]
    }
   ],
   "source": [
    "text = Text('Mis').tag_layer()\n",
    "print(export_TCF(text))"
   ]
  },
  {
   "cell_type": "markdown",
   "metadata": {},
   "source": [
    "## Longer example"
   ]
  },
  {
   "cell_type": "code",
   "execution_count": 6,
   "metadata": {
    "collapsed": false,
    "scrolled": false
   },
   "outputs": [
    {
     "name": "stdout",
     "output_type": "stream",
     "text": [
      "<D-Spin version=\"0.4\" xmlns=\"http://www.dspin.de/data\">\n",
      "  <MetaData xmlns=\"http://www.dspin.de/data/metadata\"/>\n",
      "  <TextCorpus lang=\"ee\" xmlns=\"http://www.dspin.de/data/textcorpus\">\n",
      "    <text>Karin lendab New Yorki. Ta tahab seal veeta puhkuse.</text>\n",
      "    <tc:tokens xmlns:tc=\"http://www.dspin.de/data/textcorpus\">\n",
      "      <tc:token ID=\"t0\" start=\"0\" end=\"5\">Karin</tc:token>\n",
      "      <tc:token ID=\"t1\" start=\"6\" end=\"12\">lendab</tc:token>\n",
      "      <tc:token ID=\"t2\" start=\"13\" end=\"16\">New</tc:token>\n",
      "      <tc:token ID=\"t3\" start=\"17\" end=\"22\">Yorki</tc:token>\n",
      "      <tc:token ID=\"t4\" start=\"22\" end=\"23\">.</tc:token>\n",
      "      <tc:token ID=\"t5\" start=\"24\" end=\"26\">Ta</tc:token>\n",
      "      <tc:token ID=\"t6\" start=\"27\" end=\"32\">tahab</tc:token>\n",
      "      <tc:token ID=\"t7\" start=\"33\" end=\"37\">seal</tc:token>\n",
      "      <tc:token ID=\"t8\" start=\"38\" end=\"43\">veeta</tc:token>\n",
      "      <tc:token ID=\"t9\" start=\"44\" end=\"51\">puhkuse</tc:token>\n",
      "      <tc:token ID=\"t10\" start=\"51\" end=\"52\">.</tc:token>\n",
      "    </tc:tokens>\n",
      "    <tc:sentences xmlns:tc=\"http://www.dspin.de/data/textcorpus\">\n",
      "      <tc:sentence ID=\"s0\" tokenIDs=\"t0 t1 t2 t3 t4\"/>\n",
      "      <tc:sentence ID=\"s1\" tokenIDs=\"t5 t6 t7 t8 t9 t10\"/>\n",
      "    </tc:sentences>\n",
      "    <tc:lemmas xmlns:tc=\"http://www.dspin.de/data/textcorpus\">\n",
      "      <tc:lemma ID=\"l0\" tokenIDs=\"t0\">Karin</tc:lemma>\n",
      "      <tc:lemma ID=\"l1\" tokenIDs=\"t1\">lendama</tc:lemma>\n",
      "      <tc:lemma ID=\"l2\" tokenIDs=\"t2\">New</tc:lemma>\n",
      "      <tc:lemma ID=\"l3\" tokenIDs=\"t3\">York</tc:lemma>\n",
      "      <tc:lemma ID=\"l4\" tokenIDs=\"t4\">.</tc:lemma>\n",
      "      <tc:lemma ID=\"l5\" tokenIDs=\"t5\">tema</tc:lemma>\n",
      "      <tc:lemma ID=\"l6\" tokenIDs=\"t6\">tahtma</tc:lemma>\n",
      "      <tc:lemma ID=\"l7\" tokenIDs=\"t7\">seal</tc:lemma>\n",
      "      <tc:lemma ID=\"l8\" tokenIDs=\"t8\">veetma</tc:lemma>\n",
      "      <tc:lemma ID=\"l9\" tokenIDs=\"t9\">puhkus</tc:lemma>\n",
      "      <tc:lemma ID=\"l10\" tokenIDs=\"t10\">.</tc:lemma>\n",
      "    </tc:lemmas>\n",
      "    <tc:POStags xmlns:tc=\"http://www.dspin.de/data/textcorpus\" tagset=\"\">\n",
      "      <tc:tag tokenIDs=\"t0\">H</tc:tag>\n",
      "      <tc:tag tokenIDs=\"t1\">V</tc:tag>\n",
      "      <tc:tag tokenIDs=\"t2\">H</tc:tag>\n",
      "      <tc:tag tokenIDs=\"t3\">H</tc:tag>\n",
      "      <tc:tag tokenIDs=\"t4\">Z</tc:tag>\n",
      "      <tc:tag tokenIDs=\"t5\">P</tc:tag>\n",
      "      <tc:tag tokenIDs=\"t6\">V</tc:tag>\n",
      "      <tc:tag tokenIDs=\"t7\">D</tc:tag>\n",
      "      <tc:tag tokenIDs=\"t8\">V</tc:tag>\n",
      "      <tc:tag tokenIDs=\"t9\">S</tc:tag>\n",
      "      <tc:tag tokenIDs=\"t10\">Z</tc:tag>\n",
      "    </tc:POStags>\n",
      "    <tc:morphology xmlns:tc=\"http://www.dspin.de/data/textcorpus\">\n",
      "      <tc:analysis tokenIDs=\"t0\">\n",
      "        <tc:tag>\n",
      "          <tc:fs>\n",
      "            <tc:f name=\"form\">sg n</tc:f>\n",
      "            <tc:f name=\"root\">Karin</tc:f>\n",
      "            <tc:f name=\"root_tokens\">Karin</tc:f>\n",
      "            <tc:f name=\"ending\">0</tc:f>\n",
      "            <tc:f name=\"clitic\"></tc:f>\n",
      "          </tc:fs>\n",
      "        </tc:tag>\n",
      "      </tc:analysis>\n",
      "      <tc:analysis tokenIDs=\"t1\">\n",
      "        <tc:tag>\n",
      "          <tc:fs>\n",
      "            <tc:f name=\"form\">b</tc:f>\n",
      "            <tc:f name=\"root\">lenda</tc:f>\n",
      "            <tc:f name=\"root_tokens\">lenda</tc:f>\n",
      "            <tc:f name=\"ending\">b</tc:f>\n",
      "            <tc:f name=\"clitic\"></tc:f>\n",
      "          </tc:fs>\n",
      "        </tc:tag>\n",
      "      </tc:analysis>\n",
      "      <tc:analysis tokenIDs=\"t2\">\n",
      "        <tc:tag>\n",
      "          <tc:fs>\n",
      "            <tc:f name=\"form\">?</tc:f>\n",
      "            <tc:f name=\"root\">New</tc:f>\n",
      "            <tc:f name=\"root_tokens\">New</tc:f>\n",
      "            <tc:f name=\"ending\"></tc:f>\n",
      "            <tc:f name=\"clitic\"></tc:f>\n",
      "          </tc:fs>\n",
      "        </tc:tag>\n",
      "      </tc:analysis>\n",
      "      <tc:analysis tokenIDs=\"t3\">\n",
      "        <tc:tag>\n",
      "          <tc:fs>\n",
      "            <tc:f name=\"form\">adt</tc:f>\n",
      "            <tc:f name=\"root\">York</tc:f>\n",
      "            <tc:f name=\"root_tokens\">York</tc:f>\n",
      "            <tc:f name=\"ending\">0</tc:f>\n",
      "            <tc:f name=\"clitic\"></tc:f>\n",
      "          </tc:fs>\n",
      "        </tc:tag>\n",
      "      </tc:analysis>\n",
      "      <tc:analysis tokenIDs=\"t4\">\n",
      "        <tc:tag>\n",
      "          <tc:fs>\n",
      "            <tc:f name=\"form\"></tc:f>\n",
      "            <tc:f name=\"root\">.</tc:f>\n",
      "            <tc:f name=\"root_tokens\">.</tc:f>\n",
      "            <tc:f name=\"ending\"></tc:f>\n",
      "            <tc:f name=\"clitic\"></tc:f>\n",
      "          </tc:fs>\n",
      "        </tc:tag>\n",
      "      </tc:analysis>\n",
      "      <tc:analysis tokenIDs=\"t5\">\n",
      "        <tc:tag>\n",
      "          <tc:fs>\n",
      "            <tc:f name=\"form\">sg n</tc:f>\n",
      "            <tc:f name=\"root\">tema</tc:f>\n",
      "            <tc:f name=\"root_tokens\">tema</tc:f>\n",
      "            <tc:f name=\"ending\">0</tc:f>\n",
      "            <tc:f name=\"clitic\"></tc:f>\n",
      "          </tc:fs>\n",
      "        </tc:tag>\n",
      "      </tc:analysis>\n",
      "      <tc:analysis tokenIDs=\"t6\">\n",
      "        <tc:tag>\n",
      "          <tc:fs>\n",
      "            <tc:f name=\"form\">b</tc:f>\n",
      "            <tc:f name=\"root\">taht</tc:f>\n",
      "            <tc:f name=\"root_tokens\">taht</tc:f>\n",
      "            <tc:f name=\"ending\">b</tc:f>\n",
      "            <tc:f name=\"clitic\"></tc:f>\n",
      "          </tc:fs>\n",
      "        </tc:tag>\n",
      "      </tc:analysis>\n",
      "      <tc:analysis tokenIDs=\"t7\">\n",
      "        <tc:tag>\n",
      "          <tc:fs>\n",
      "            <tc:f name=\"form\"></tc:f>\n",
      "            <tc:f name=\"root\">seal</tc:f>\n",
      "            <tc:f name=\"root_tokens\">seal</tc:f>\n",
      "            <tc:f name=\"ending\">0</tc:f>\n",
      "            <tc:f name=\"clitic\"></tc:f>\n",
      "          </tc:fs>\n",
      "        </tc:tag>\n",
      "      </tc:analysis>\n",
      "      <tc:analysis tokenIDs=\"t8\">\n",
      "        <tc:tag>\n",
      "          <tc:fs>\n",
      "            <tc:f name=\"form\">da</tc:f>\n",
      "            <tc:f name=\"root\">veet</tc:f>\n",
      "            <tc:f name=\"root_tokens\">veet</tc:f>\n",
      "            <tc:f name=\"ending\">a</tc:f>\n",
      "            <tc:f name=\"clitic\"></tc:f>\n",
      "          </tc:fs>\n",
      "        </tc:tag>\n",
      "      </tc:analysis>\n",
      "      <tc:analysis tokenIDs=\"t9\">\n",
      "        <tc:tag>\n",
      "          <tc:fs>\n",
      "            <tc:f name=\"form\">sg g</tc:f>\n",
      "            <tc:f name=\"root\">puhkus</tc:f>\n",
      "            <tc:f name=\"root_tokens\">puhkus</tc:f>\n",
      "            <tc:f name=\"ending\">0</tc:f>\n",
      "            <tc:f name=\"clitic\"></tc:f>\n",
      "          </tc:fs>\n",
      "        </tc:tag>\n",
      "      </tc:analysis>\n",
      "      <tc:analysis tokenIDs=\"t10\">\n",
      "        <tc:tag>\n",
      "          <tc:fs>\n",
      "            <tc:f name=\"form\"></tc:f>\n",
      "            <tc:f name=\"root\">.</tc:f>\n",
      "            <tc:f name=\"root_tokens\">.</tc:f>\n",
      "            <tc:f name=\"ending\"></tc:f>\n",
      "            <tc:f name=\"clitic\"></tc:f>\n",
      "          </tc:fs>\n",
      "        </tc:tag>\n",
      "      </tc:analysis>\n",
      "    </tc:morphology>\n",
      "  </TextCorpus>\n",
      "</D-Spin>\n",
      "\n"
     ]
    }
   ],
   "source": [
    "text = Text('Karin lendab New Yorki. Ta tahab seal veeta puhkuse.').tag_layer()\n",
    "print(export_TCF(text))"
   ]
  }
 ],
 "metadata": {
  "kernelspec": {
   "display_name": "Python [py35]",
   "language": "python",
   "name": "Python [py35]"
  },
  "language_info": {
   "codemirror_mode": {
    "name": "ipython",
    "version": 3
   },
   "file_extension": ".py",
   "mimetype": "text/x-python",
   "name": "python",
   "nbconvert_exporter": "python",
   "pygments_lexer": "ipython3",
   "version": "3.5.3"
  }
 },
 "nbformat": 4,
 "nbformat_minor": 2
}
