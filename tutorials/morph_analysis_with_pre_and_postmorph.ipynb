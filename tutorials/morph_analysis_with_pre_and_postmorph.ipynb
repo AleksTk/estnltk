{
 "cells": [
  {
   "cell_type": "markdown",
   "metadata": {},
   "source": [
    "# Morphological analysis with premorph and postmorph"
   ]
  },
  {
   "cell_type": "code",
   "execution_count": 1,
   "metadata": {
    "collapsed": true
   },
   "outputs": [],
   "source": [
    "from estnltk.text import Text"
   ]
  },
  {
   "cell_type": "markdown",
   "metadata": {},
   "source": [
    "Premorph and postmorph are tools to improve the morphological analysis given by vabamorf. Premorph normalizes the input before giving it to vabamorf, postmorph normalizes the output of vabamorf. By default, premorph and postmorph are both executed."
   ]
  },
  {
   "cell_type": "code",
   "execution_count": 2,
   "metadata": {
    "collapsed": false
   },
   "outputs": [],
   "source": [
    "# Let's take a sentence that contains an unnecessary hyphen and an incorrectly declined number.\n",
    "t = Text('Tiit müüs lil-li 10e krooniga.')"
   ]
  },
  {
   "cell_type": "code",
   "execution_count": 3,
   "metadata": {
    "collapsed": false
   },
   "outputs": [
    {
     "data": {
      "text/plain": [
       "Text(text=\"Tiit müüs lil-li 10e krooniga.\")"
      ]
     },
     "execution_count": 3,
     "metadata": {},
     "output_type": "execute_result"
    }
   ],
   "source": [
    "t"
   ]
  },
  {
   "cell_type": "code",
   "execution_count": 4,
   "metadata": {
    "collapsed": false
   },
   "outputs": [
    {
     "data": {
      "text/plain": [
       "Text(text=\"Tiit müüs lil-li 10e krooniga.\")"
      ]
     },
     "execution_count": 4,
     "metadata": {},
     "output_type": "execute_result"
    }
   ],
   "source": [
    "# And let's tag the default layers on the sentence. Cannot see that anything happened\n",
    "t.tag_layer()"
   ]
  },
  {
   "cell_type": "markdown",
   "metadata": {},
   "source": [
    "The default layer tagged by tag_layer() method is the morphological analysis layer. To perform morphological analysis, 'words', 'sentences' and 'normalized' layers are tagged on the text first.\n",
    "\n",
    "We can see the existing layers with the 'layers' class variable."
   ]
  },
  {
   "cell_type": "code",
   "execution_count": 5,
   "metadata": {
    "collapsed": false
   },
   "outputs": [
    {
     "data": {
      "text/plain": [
       "{'morf_analysis': <estnltk.text.Layer at 0x7f87f1fb4518>,\n",
       " 'normalized': <estnltk.text.Layer at 0x7f87f26d1630>,\n",
       " 'sentences': <estnltk.text.Layer at 0x7f87f1fb4ba8>,\n",
       " 'words': <estnltk.text.Layer at 0x7f87f1fb2518>}"
      ]
     },
     "execution_count": 5,
     "metadata": {},
     "output_type": "execute_result"
    }
   ],
   "source": [
    "t.layers"
   ]
  },
  {
   "cell_type": "code",
   "execution_count": 6,
   "metadata": {
    "collapsed": false,
    "scrolled": true
   },
   "outputs": [
    {
     "data": {
      "text/plain": [
       "SL[SL[Span(Tiit, {'form': 'sg n', 'root': 'Tiit', 'root_tokens': ['Tiit'], 'lemma': 'Tiit', 'ending': '0', 'partofspeech': 'H', 'clitic': ''})],\n",
       "SL[Span(müüs, {'form': 's', 'root': 'müü', 'root_tokens': ['müü'], 'lemma': 'müüma', 'ending': 's', 'partofspeech': 'V', 'clitic': ''})],\n",
       "SL[Span(lil-li, {'form': 'pl p', 'root': 'lill', 'root_tokens': ['lill'], 'lemma': 'lill', 'ending': 'i', 'partofspeech': 'S', 'clitic': ''})],\n",
       "SL[Span(10e, {'form': 'sg g', 'root': '10', 'root_tokens': ['10'], 'lemma': '10', 'ending': '0', 'partofspeech': 'N', 'clitic': ''})],\n",
       "SL[Span(krooniga, {'form': 'sg kom', 'root': 'kroon', 'root_tokens': ['kroon'], 'lemma': 'kroon', 'ending': 'ga', 'partofspeech': 'S', 'clitic': ''})],\n",
       "SL[Span(., {'form': '', 'root': '.', 'root_tokens': ['.'], 'lemma': '.', 'ending': '', 'partofspeech': 'Z', 'clitic': ''})]]"
      ]
     },
     "execution_count": 6,
     "metadata": {},
     "output_type": "execute_result"
    }
   ],
   "source": [
    "# And now we can ask for morphological analysis of the sentence\n",
    "t.morf_analysis"
   ]
  },
  {
   "cell_type": "markdown",
   "metadata": {},
   "source": [
    "As we can see, the hyphen was removed and the correct form of the word \"lilli\" was found. For 10e the form 'sg g' was given out."
   ]
  },
  {
   "cell_type": "code",
   "execution_count": 56,
   "metadata": {
    "collapsed": true
   },
   "outputs": [],
   "source": [
    "#--------IMPORTANT-----------------#\n",
    "# How to switch on/off disambiguation and/or guessing in vabamorf?\n",
    "# Do I have to do this using VabamorfTagger or can I do it with tag_layer() method? How?"
   ]
  },
  {
   "cell_type": "markdown",
   "metadata": {},
   "source": [
    "The previous code actually uses WordNormalizingTagger, VabamorfTagger and VabamordCorrectionRewriter tools. So, we can write it out as follows:"
   ]
  },
  {
   "cell_type": "code",
   "execution_count": 8,
   "metadata": {
    "collapsed": false
   },
   "outputs": [],
   "source": [
    "# Import the taggers and rewriter\n",
    "from estnltk.taggers.premorph.premorf import WordNormalizingTagger\n",
    "from estnltk.taggers.morf import VabamorfTagger\n",
    "from estnltk.rewriting.postmorph.vabamorf_corrector import VabamorfCorrectionRewriter"
   ]
  },
  {
   "cell_type": "markdown",
   "metadata": {},
   "source": [
    "An instance of VabamorfCorrectionRewriter is created that fixes the analysis of tokens containing numbers. This is the rewriter that is used for postmorph by default.\n",
    "In our example, it processes the 10e token.\n",
    "If we want, we can write our own rewriter and use that instead."
   ]
  },
  {
   "cell_type": "code",
   "execution_count": 9,
   "metadata": {
    "collapsed": true
   },
   "outputs": [],
   "source": [
    "# Create an instance of VabamorfCorrectionRewriter \n",
    "vabamorf_corrector = VabamorfCorrectionRewriter(replace=True)"
   ]
  },
  {
   "cell_type": "code",
   "execution_count": 10,
   "metadata": {
    "collapsed": true
   },
   "outputs": [],
   "source": [
    "# Let's take the same sentence as previously\n",
    "t = Text('Tiit müüs lil-li 10e krooniga.')"
   ]
  },
  {
   "cell_type": "code",
   "execution_count": 11,
   "metadata": {
    "collapsed": false
   },
   "outputs": [
    {
     "data": {
      "text/plain": [
       "Text(text=\"Tiit müüs lil-li 10e krooniga.\")"
      ]
     },
     "execution_count": 11,
     "metadata": {},
     "output_type": "execute_result"
    }
   ],
   "source": [
    "# And tag the layer 'words' on it. Cannot see that anything happened\n",
    "t.tag_layer(['words'])"
   ]
  },
  {
   "cell_type": "code",
   "execution_count": 12,
   "metadata": {
    "collapsed": false
   },
   "outputs": [
    {
     "data": {
      "text/plain": [
       "SL[Span(Tiit, {}),\n",
       "Span(müüs, {}),\n",
       "Span(lil-li, {}),\n",
       "Span(10e, {}),\n",
       "Span(krooniga, {}),\n",
       "Span(., {})]"
      ]
     },
     "execution_count": 12,
     "metadata": {},
     "output_type": "execute_result"
    }
   ],
   "source": [
    "# But now we can ask for the words layer\n",
    "t.words"
   ]
  },
  {
   "cell_type": "markdown",
   "metadata": {},
   "source": [
    "Now we can normalize the sentence with WordNormalizingTagger that takes care of the unnecessary hypens in words and [maybe sth else?]. In our example, it normalizes the word \"lilli\". It can be replaced with our own tagger if we decide to write one."
   ]
  },
  {
   "cell_type": "code",
   "execution_count": 13,
   "metadata": {
    "collapsed": false
   },
   "outputs": [
    {
     "data": {
      "text/plain": [
       "Text(text=\"Tiit müüs lil-li 10e krooniga.\")"
      ]
     },
     "execution_count": 13,
     "metadata": {},
     "output_type": "execute_result"
    }
   ],
   "source": [
    "# Normalize the sentence with WordNormalizingTagger\n",
    "WordNormalizingTagger().tag(t)"
   ]
  },
  {
   "cell_type": "code",
   "execution_count": 14,
   "metadata": {
    "collapsed": false
   },
   "outputs": [
    {
     "data": {
      "text/plain": [
       "SL[Span(lil-li, {'normal': 'lilli'})]"
      ]
     },
     "execution_count": 14,
     "metadata": {},
     "output_type": "execute_result"
    }
   ],
   "source": [
    "# And we can see the word that was changed\n",
    "t.normalized"
   ]
  },
  {
   "cell_type": "markdown",
   "metadata": {},
   "source": [
    "Now we can use the VabamorfTagger on the normalized layer received from WordNormalizingTagger and ask for the created VabamorfCorrectionRewriter to be used after vabamorf."
   ]
  },
  {
   "cell_type": "code",
   "execution_count": 15,
   "metadata": {
    "collapsed": false
   },
   "outputs": [
    {
     "data": {
      "text/plain": [
       "Text(text=\"Tiit müüs lil-li 10e krooniga.\")"
      ]
     },
     "execution_count": 15,
     "metadata": {},
     "output_type": "execute_result"
    }
   ],
   "source": [
    "# Tag the text with VabamorfTagger using default premorph and postmorph\n",
    "VabamorfTagger(premorf_layer='normalized', postmorph_rewriter=vabamorf_corrector).tag(t)"
   ]
  },
  {
   "cell_type": "code",
   "execution_count": 16,
   "metadata": {
    "collapsed": false
   },
   "outputs": [
    {
     "data": {
      "text/plain": [
       "SL[SL[Span(Tiit, {'form': 'sg n', 'root': 'Tiit', 'root_tokens': ['Tiit'], 'lemma': 'Tiit', 'ending': '0', 'partofspeech': 'H', 'clitic': ''})],\n",
       "SL[Span(müüs, {'form': 's', 'root': 'müü', 'root_tokens': ['müü'], 'lemma': 'müüma', 'ending': 's', 'partofspeech': 'V', 'clitic': ''})],\n",
       "SL[Span(lil-li, {'form': 'pl p', 'root': 'lill', 'root_tokens': ['lill'], 'lemma': 'lill', 'ending': 'i', 'partofspeech': 'S', 'clitic': ''})],\n",
       "SL[Span(10e, {'form': 'sg g', 'root': '10', 'root_tokens': ['10'], 'lemma': '10', 'ending': '0', 'partofspeech': 'N', 'clitic': ''})],\n",
       "SL[Span(krooniga, {'form': 'sg kom', 'root': 'kroon', 'root_tokens': ['kroon'], 'lemma': 'kroon', 'ending': 'ga', 'partofspeech': 'S', 'clitic': ''})],\n",
       "SL[Span(., {'form': '', 'root': '.', 'root_tokens': ['.'], 'lemma': '.', 'ending': '', 'partofspeech': 'Z', 'clitic': ''})]]"
      ]
     },
     "execution_count": 16,
     "metadata": {},
     "output_type": "execute_result"
    }
   ],
   "source": [
    "# The same output is received as in the first example\n",
    "t.morf_analysis"
   ]
  },
  {
   "cell_type": "markdown",
   "metadata": {
    "collapsed": false
   },
   "source": [
    "As mentioned, we can customize premorph or postmorph.\n",
    "\n",
    "To turn off postmorph for the same example, we need to set postmorph_rewriter to None:"
   ]
  },
  {
   "cell_type": "code",
   "execution_count": 17,
   "metadata": {
    "collapsed": false
   },
   "outputs": [],
   "source": [
    "t = Text('Tiit müüs lil-li 10e krooniga.')"
   ]
  },
  {
   "cell_type": "code",
   "execution_count": 18,
   "metadata": {
    "collapsed": false
   },
   "outputs": [
    {
     "data": {
      "text/plain": [
       "Text(text=\"Tiit müüs lil-li 10e krooniga.\")"
      ]
     },
     "execution_count": 18,
     "metadata": {},
     "output_type": "execute_result"
    }
   ],
   "source": [
    "t.tag_layer(['words'])"
   ]
  },
  {
   "cell_type": "code",
   "execution_count": 19,
   "metadata": {
    "collapsed": false
   },
   "outputs": [
    {
     "data": {
      "text/plain": [
       "Text(text=\"Tiit müüs lil-li 10e krooniga.\")"
      ]
     },
     "execution_count": 19,
     "metadata": {},
     "output_type": "execute_result"
    }
   ],
   "source": [
    "WordNormalizingTagger().tag(t)"
   ]
  },
  {
   "cell_type": "code",
   "execution_count": 20,
   "metadata": {
    "collapsed": false
   },
   "outputs": [
    {
     "data": {
      "text/plain": [
       "Text(text=\"Tiit müüs lil-li 10e krooniga.\")"
      ]
     },
     "execution_count": 20,
     "metadata": {},
     "output_type": "execute_result"
    }
   ],
   "source": [
    "# postmorph_rewriter = None says that we don't want to apply the default rewriter\n",
    "VabamorfTagger(premorf_layer='normalized', postmorph_rewriter=None).tag(t)"
   ]
  },
  {
   "cell_type": "code",
   "execution_count": 21,
   "metadata": {
    "collapsed": false
   },
   "outputs": [
    {
     "data": {
      "text/plain": [
       "SL[SL[Span(Tiit, {'root': 'Tiit', 'clitic': '', 'root_tokens': ['Tiit'], 'lemma': 'Tiit', 'form': 'sg n', 'ending': '0', 'partofspeech': 'H'})],\n",
       "SL[Span(müüs, {'root': 'müü', 'clitic': '', 'root_tokens': ['müü'], 'lemma': 'müüma', 'form': 's', 'ending': 's', 'partofspeech': 'V'})],\n",
       "SL[Span(lil-li, {'root': 'lill', 'clitic': '', 'root_tokens': ['lill'], 'lemma': 'lill', 'form': 'pl p', 'ending': 'i', 'partofspeech': 'S'})],\n",
       "SL[Span(10e, {'root': '10e', 'clitic': '', 'root_tokens': ['10e'], 'lemma': '10e', 'form': '?', 'ending': '0', 'partofspeech': 'Y'})],\n",
       "SL[Span(krooniga, {'root': 'kroon', 'clitic': '', 'root_tokens': ['kroon'], 'lemma': 'kroon', 'form': 'sg kom', 'ending': 'ga', 'partofspeech': 'S'})],\n",
       "SL[Span(., {'root': '.', 'clitic': '', 'root_tokens': ['.'], 'lemma': '.', 'form': '', 'ending': '', 'partofspeech': 'Z'})]]"
      ]
     },
     "execution_count": 21,
     "metadata": {},
     "output_type": "execute_result"
    }
   ],
   "source": [
    "t.morf_analysis"
   ]
  },
  {
   "cell_type": "markdown",
   "metadata": {},
   "source": [
    "Now we got only one analysis for the token '10e' which, unfortunately, is not correct."
   ]
  },
  {
   "cell_type": "markdown",
   "metadata": {},
   "source": [
    "We can also turn off premorph:"
   ]
  },
  {
   "cell_type": "code",
   "execution_count": 22,
   "metadata": {
    "collapsed": false
   },
   "outputs": [],
   "source": [
    "t = Text('Tiit müüs lil-li 10e krooniga.')"
   ]
  },
  {
   "cell_type": "code",
   "execution_count": 23,
   "metadata": {
    "collapsed": false
   },
   "outputs": [
    {
     "data": {
      "text/plain": [
       "Text(text=\"Tiit müüs lil-li 10e krooniga.\")"
      ]
     },
     "execution_count": 23,
     "metadata": {},
     "output_type": "execute_result"
    }
   ],
   "source": [
    "t.tag_layer(['words'])"
   ]
  },
  {
   "cell_type": "code",
   "execution_count": 24,
   "metadata": {
    "collapsed": false
   },
   "outputs": [
    {
     "data": {
      "text/plain": [
       "Text(text=\"Tiit müüs lil-li 10e krooniga.\")"
      ]
     },
     "execution_count": 24,
     "metadata": {},
     "output_type": "execute_result"
    }
   ],
   "source": [
    "# premorph_layer = None says that we don't want to apply the default rewriter\n",
    "VabamorfTagger(premorf_layer=None, postmorph_rewriter=vabamorf_corrector).tag(t)"
   ]
  },
  {
   "cell_type": "code",
   "execution_count": 25,
   "metadata": {
    "collapsed": false
   },
   "outputs": [
    {
     "data": {
      "text/plain": [
       "SL[SL[Span(Tiit, {'root': 'Tiit', 'clitic': '', 'root_tokens': ['Tiit'], 'lemma': 'Tiit', 'form': 'sg n', 'ending': '0', 'partofspeech': 'H'})],\n",
       "SL[Span(müüs, {'root': 'müü', 'clitic': '', 'root_tokens': ['müü'], 'lemma': 'müüma', 'form': 's', 'ending': 's', 'partofspeech': 'V'})],\n",
       "SL[Span(lil-li, {'root': 'lil-li', 'clitic': '', 'root_tokens': ['lil', 'li'], 'lemma': 'lil-li', 'form': '?', 'ending': '0', 'partofspeech': 'Y'})],\n",
       "SL[Span(10e, {'root': '10', 'clitic': '', 'root_tokens': ['10'], 'lemma': '10', 'form': 'sg g', 'ending': '0', 'partofspeech': 'N'})],\n",
       "SL[Span(krooniga, {'root': 'kroon', 'clitic': '', 'root_tokens': ['kroon'], 'lemma': 'kroon', 'form': 'sg kom', 'ending': 'ga', 'partofspeech': 'S'})],\n",
       "SL[Span(., {'root': '.', 'clitic': '', 'root_tokens': ['.'], 'lemma': '.', 'form': '', 'ending': '', 'partofspeech': 'Z'})]]"
      ]
     },
     "execution_count": 25,
     "metadata": {},
     "output_type": "execute_result"
    }
   ],
   "source": [
    "t.morf_analysis"
   ]
  },
  {
   "cell_type": "code",
   "execution_count": 26,
   "metadata": {
    "collapsed": false
   },
   "outputs": [
    {
     "data": {
      "text/plain": [
       "Text(text=\"Tiit müüs lil-li 10e krooniga.\")"
      ]
     },
     "execution_count": 26,
     "metadata": {},
     "output_type": "execute_result"
    }
   ],
   "source": [
    "t"
   ]
  },
  {
   "cell_type": "markdown",
   "metadata": {},
   "source": [
    "Here we can see that the word \"lil-li\" was not normalized and therefore didn't receive the correct analysis."
   ]
  },
  {
   "cell_type": "code",
   "execution_count": 27,
   "metadata": {
    "collapsed": true
   },
   "outputs": [],
   "source": [
    "# Can't we switch off premorph and postmorph some easier way?\n",
    "# Somehow without explicitly creating the VabamorfTagger?"
   ]
  },
  {
   "cell_type": "markdown",
   "metadata": {},
   "source": [
    "## Use the `morf_analysis` layer to create a `corrected_morph` layer\n"
   ]
  },
  {
   "cell_type": "code",
   "execution_count": 57,
   "metadata": {
    "collapsed": true
   },
   "outputs": [],
   "source": [
    "# What is the purpose of this?\n",
    "# According to Sven, this shows how to tag your own layer with a custom postmorph rewriter\n",
    "# in addition to the default layer.\n",
    "# The example code is too complicated  and undocumented - impossible to understand.\n",
    "# An easier example would be nice that wouldn't try to contain everything."
   ]
  },
  {
   "cell_type": "markdown",
   "metadata": {},
   "source": [
    "1. Create a text object.\n",
    "2. Tag the `normalized` layer (and also the `words` layer  #this happens somehow magically by tagging the 'normalized' layer?).\n",
    "3. Create a layer `_morph` that contains the data from the layers `morf_analysis` and `normalized`.\n",
    "5. Rewrite the `_morph` layer and get the `corrected_morph` layer as a result.\n",
    "6. Attach the `corrected_morph` layer to the text object.\n",
    "\n",
    "Now `text.corrected_morph` is the same as `t.morf_analysis` in the first example where premorph and postmorph are executed."
   ]
  },
  {
   "cell_type": "code",
   "execution_count": 29,
   "metadata": {
    "collapsed": false
   },
   "outputs": [],
   "source": [
    "# Import the necessary stuff\n",
    "from estnltk.text import Span, Layer\n",
    "from estnltk.rewriting.postmorph.vabamorf_corrector import VabamorfCorrectionRewriter"
   ]
  },
  {
   "cell_type": "code",
   "execution_count": 30,
   "metadata": {
    "collapsed": false
   },
   "outputs": [
    {
     "data": {
      "text/plain": [
       "Text(text=\"Tiit müüs lil-li 10e krooniga.\")"
      ]
     },
     "execution_count": 30,
     "metadata": {},
     "output_type": "execute_result"
    }
   ],
   "source": [
    "text = Text('Tiit müüs lil-li 10e krooniga.')\n",
    "text.tag_layer(['normalized'])\n",
    "VabamorfTagger(premorf_layer='normalized', postmorph_rewriter=None).tag(text)"
   ]
  },
  {
   "cell_type": "code",
   "execution_count": 31,
   "metadata": {
    "collapsed": true
   },
   "outputs": [],
   "source": [
    "# These are all the attributes of the morf_analysis layer? Why do I need to specify them here? \n",
    "morph_attributes = ['form', 'root_tokens', 'clitic', 'partofspeech', 'ending', 'root', 'lemma']"
   ]
  },
  {
   "cell_type": "code",
   "execution_count": 32,
   "metadata": {
    "collapsed": true
   },
   "outputs": [],
   "source": [
    "attributes = morph_attributes + ['word_normal']"
   ]
  },
  {
   "cell_type": "code",
   "execution_count": 33,
   "metadata": {
    "collapsed": true
   },
   "outputs": [],
   "source": [
    "\n",
    "_morph = Layer(name='words',\n",
    "               parent='words',\n",
    "               ambiguous=True,\n",
    "               attributes=attributes\n",
    "               )"
   ]
  },
  {
   "cell_type": "code",
   "execution_count": 34,
   "metadata": {
    "collapsed": true
   },
   "outputs": [],
   "source": [
    "for word, analyses in zip(text.words, text.morf_analysis):\n",
    "    for analysis in analyses:\n",
    "        span = _morph.add_span(Span(parent=word))\n",
    "        for attr in morph_attributes:\n",
    "            setattr(span, attr, getattr(analysis, attr))\n",
    "        setattr(span, 'word_normal', word.normal or word.text)"
   ]
  },
  {
   "cell_type": "code",
   "execution_count": 35,
   "metadata": {
    "collapsed": true
   },
   "outputs": [],
   "source": [
    "\n",
    "postmorph_rewriter = VabamorfCorrectionRewriter()"
   ]
  },
  {
   "cell_type": "code",
   "execution_count": 36,
   "metadata": {
    "collapsed": true
   },
   "outputs": [],
   "source": [
    "corrected_morph = _morph.rewrite(source_attributes=attributes,\n",
    "                                 target_attributes=morph_attributes, \n",
    "                                 rules=postmorph_rewriter,\n",
    "                                 name='corrected_morph',\n",
    "                                 ambiguous=True)"
   ]
  },
  {
   "cell_type": "code",
   "execution_count": 37,
   "metadata": {
    "collapsed": true
   },
   "outputs": [],
   "source": [
    "text['corrected_morph'] = corrected_morph"
   ]
  },
  {
   "cell_type": "code",
   "execution_count": 38,
   "metadata": {
    "collapsed": false
   },
   "outputs": [
    {
     "data": {
      "text/plain": [
       "SL[SL[Span(Tiit, {'root': 'Tiit', 'clitic': '', 'root_tokens': ['Tiit'], 'lemma': 'Tiit', 'form': 'sg n', 'ending': '0', 'partofspeech': 'H'})],\n",
       "SL[Span(müüs, {'root': 'müü', 'clitic': '', 'root_tokens': ['müü'], 'lemma': 'müüma', 'form': 's', 'ending': 's', 'partofspeech': 'V'})],\n",
       "SL[Span(lil-li, {'root': 'lill', 'clitic': '', 'root_tokens': ['lill'], 'lemma': 'lill', 'form': 'pl p', 'ending': 'i', 'partofspeech': 'S'})],\n",
       "SL[Span(10e, {'root': '10', 'clitic': '', 'root_tokens': ['10'], 'lemma': '10', 'form': 'sg g', 'ending': '0', 'partofspeech': 'N'})],\n",
       "SL[Span(krooniga, {'root': 'kroon', 'clitic': '', 'root_tokens': ['kroon'], 'lemma': 'kroon', 'form': 'sg kom', 'ending': 'ga', 'partofspeech': 'S'})],\n",
       "SL[Span(., {'root': '.', 'clitic': '', 'root_tokens': ['.'], 'lemma': '.', 'form': '', 'ending': '', 'partofspeech': 'Z'})]]"
      ]
     },
     "execution_count": 38,
     "metadata": {},
     "output_type": "execute_result"
    }
   ],
   "source": [
    "text.corrected_morph"
   ]
  }
 ],
 "metadata": {
  "anaconda-cloud": {},
  "kernelspec": {
   "display_name": "Python [conda env:estnltk141]",
   "language": "python",
   "name": "conda-env-estnltk141-py"
  },
  "language_info": {
   "codemirror_mode": {
    "name": "ipython",
    "version": 3
   },
   "file_extension": ".py",
   "mimetype": "text/x-python",
   "name": "python",
   "nbconvert_exporter": "python",
   "pygments_lexer": "ipython3",
   "version": "3.5.0"
  }
 },
 "nbformat": 4,
 "nbformat_minor": 2
}
