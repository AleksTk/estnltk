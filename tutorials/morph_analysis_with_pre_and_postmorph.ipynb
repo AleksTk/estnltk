{
 "cells": [
  {
   "cell_type": "code",
   "execution_count": 1,
   "metadata": {
    "collapsed": true
   },
   "outputs": [],
   "source": [
    "from estnltk.text import Text"
   ]
  },
  {
   "cell_type": "code",
   "execution_count": 2,
   "metadata": {
    "collapsed": true
   },
   "outputs": [],
   "source": [
    "t = Text('3 ust 5ndal korrusel.').tag_layer()"
   ]
  },
  {
   "cell_type": "code",
   "execution_count": 3,
   "metadata": {
    "collapsed": false
   },
   "outputs": [
    {
     "data": {
      "text/plain": [
       "SL[SL[Span(3, {'clitic': '', 'partofspeech': 'N', 'root': '3', 'lemma': '3', 'form': '?', 'ending': '0', 'root_tokens': ['3']})],\n",
       "SL[Span(ust, {'clitic': '', 'partofspeech': 'S', 'root': 'uks', 'lemma': 'uks', 'form': 'sg p', 'ending': 't', 'root_tokens': ['uks']})],\n",
       "SL[Span(5ndal, {'clitic': '', 'partofspeech': 'O', 'root': '5', 'lemma': '5', 'form': 'sg ad', 'ending': 'l', 'root_tokens': ['5']})],\n",
       "SL[Span(korrusel, {'clitic': '', 'partofspeech': 'S', 'root': 'korrus', 'lemma': 'korrus', 'form': 'sg ad', 'ending': 'l', 'root_tokens': ['korrus']})],\n",
       "SL[Span(., {'clitic': '', 'partofspeech': 'Z', 'root': '.', 'lemma': '.', 'form': '', 'ending': '', 'root_tokens': ['.']})]]"
      ]
     },
     "execution_count": 3,
     "metadata": {},
     "output_type": "execute_result"
    }
   ],
   "source": [
    "t.morf_analysis"
   ]
  }
 ],
 "metadata": {
  "kernelspec": {
   "display_name": "Python [py35]",
   "language": "python",
   "name": "Python [py35]"
  },
  "language_info": {
   "codemirror_mode": {
    "name": "ipython",
    "version": 3
   },
   "file_extension": ".py",
   "mimetype": "text/x-python",
   "name": "python",
   "nbconvert_exporter": "python",
   "pygments_lexer": "ipython3",
   "version": "3.5.3"
  }
 },
 "nbformat": 4,
 "nbformat_minor": 2
}
