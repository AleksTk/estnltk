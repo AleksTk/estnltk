{
 "cells": [
  {
   "cell_type": "markdown",
   "metadata": {},
   "source": [
    "# Morphological analysis with premorph and postmorph"
   ]
  },
  {
   "cell_type": "code",
   "execution_count": 1,
   "metadata": {
    "collapsed": true
   },
   "outputs": [],
   "source": [
    "from estnltk.text import Text"
   ]
  },
  {
   "cell_type": "markdown",
   "metadata": {},
   "source": [
    "Premorph and postmorph are tools to improve the morphological analysis given by vabamorf. Premorph normalizes the input before giving it to vabamorf, postmorph normalizes the output of vabamorf. By default, premorph and postmorph are both executed."
   ]
  },
  {
   "cell_type": "code",
   "execution_count": 2,
   "metadata": {
    "collapsed": false
   },
   "outputs": [],
   "source": [
    "# Let's take a sentence that contains an unnecessary hyphen and an incorrectly declined number.\n",
    "t = Text('Tiit müüs lil-li 10e krooniga.')"
   ]
  },
  {
   "cell_type": "code",
   "execution_count": 3,
   "metadata": {
    "collapsed": false
   },
   "outputs": [
    {
     "data": {
      "text/plain": [
       "Text(text=\"Tiit müüs lil-li 10e krooniga.\")"
      ]
     },
     "execution_count": 3,
     "metadata": {},
     "output_type": "execute_result"
    }
   ],
   "source": [
    "t"
   ]
  },
  {
   "cell_type": "code",
   "execution_count": 4,
   "metadata": {
    "collapsed": false
   },
   "outputs": [
    {
     "data": {
      "text/plain": [
       "Text(text=\"Tiit müüs lil-li 10e krooniga.\")"
      ]
     },
     "execution_count": 4,
     "metadata": {},
     "output_type": "execute_result"
    }
   ],
   "source": [
    "# And let's tag the default layers on the sentence. Cannot see that anything happened\n",
    "t.tag_layer()"
   ]
  },
  {
   "cell_type": "markdown",
   "metadata": {},
   "source": [
    "The default layer tagged by tag_layer() method is the morphological analysis layer. To perform morphological analysis, 'words', 'sentences' and 'normalized' layers are tagged on the text first.\n",
    "\n",
    "We can see the existing layers with the 'layers' class variable."
   ]
  },
  {
   "cell_type": "code",
   "execution_count": 5,
   "metadata": {
    "collapsed": false
   },
   "outputs": [
    {
     "data": {
      "text/plain": [
       "{'morf_analysis': <estnltk.text.Layer at 0x7f8f8901b898>,\n",
       " 'normalized': <estnltk.text.Layer at 0x7f8f8901b630>,\n",
       " 'sentences': <estnltk.text.Layer at 0x7f8f8901bfd0>,\n",
       " 'words': <estnltk.text.Layer at 0x7f8f8901b9e8>}"
      ]
     },
     "execution_count": 5,
     "metadata": {},
     "output_type": "execute_result"
    }
   ],
   "source": [
    "t.layers"
   ]
  },
  {
   "cell_type": "code",
   "execution_count": 6,
   "metadata": {
    "collapsed": false,
    "scrolled": true
   },
   "outputs": [
    {
     "data": {
      "text/plain": [
       "SL[SL[Span(Tiit, {'partofspeech': 'H', 'root_tokens': ['Tiit'], 'ending': '0', 'form': 'sg n', 'clitic': '', 'root': 'Tiit', 'lemma': 'Tiit'})],\n",
       "SL[Span(müüs, {'partofspeech': 'V', 'root_tokens': ['müü'], 'ending': 's', 'form': 's', 'clitic': '', 'root': 'müü', 'lemma': 'müüma'})],\n",
       "SL[Span(lil-li, {'partofspeech': 'S', 'root_tokens': ['lill'], 'ending': 'i', 'form': 'pl p', 'clitic': '', 'root': 'lill', 'lemma': 'lill'})],\n",
       "SL[Span(10e, {'partofspeech': 'N', 'root_tokens': ['10'], 'ending': '0', 'form': 'sg g', 'clitic': '', 'root': '10', 'lemma': '10'})],\n",
       "SL[Span(krooniga, {'partofspeech': 'S', 'root_tokens': ['kroon'], 'ending': 'ga', 'form': 'sg kom', 'clitic': '', 'root': 'kroon', 'lemma': 'kroon'})],\n",
       "SL[Span(., {'partofspeech': 'Z', 'root_tokens': ['.'], 'ending': '', 'form': '', 'clitic': '', 'root': '.', 'lemma': '.'})]]"
      ]
     },
     "execution_count": 6,
     "metadata": {},
     "output_type": "execute_result"
    }
   ],
   "source": [
    "# And now we can ask for morphological analysis of the sentence\n",
    "t.morf_analysis"
   ]
  },
  {
   "cell_type": "markdown",
   "metadata": {},
   "source": [
    "As we can see, the hyphen was removed and the correct form of the word \"lilli\" was found. For 10e the form 'sg g' was given out."
   ]
  },
  {
   "cell_type": "code",
   "execution_count": 7,
   "metadata": {
    "collapsed": true
   },
   "outputs": [],
   "source": [
    "#--------IMPORTANT-----------------#\n",
    "# How to switch on/off disambiguation and/or guessing in vabamorf?\n",
    "# Do I have to do this using VabamorfTagger or can I do it with tag_layer() method? How?"
   ]
  },
  {
   "cell_type": "markdown",
   "metadata": {},
   "source": [
    "The previous code actually uses WordNormalizingTagger, VabamorfTagger and VabamordCorrectionRewriter tools. So, we can write it out as follows:"
   ]
  },
  {
   "cell_type": "code",
   "execution_count": 8,
   "metadata": {
    "collapsed": false
   },
   "outputs": [],
   "source": [
    "# Import the taggers and rewriter\n",
    "from estnltk.taggers.premorph.premorf import WordNormalizingTagger\n",
    "from estnltk.taggers.morf import VabamorfTagger\n",
    "from estnltk.rewriting.postmorph.vabamorf_corrector import VabamorfCorrectionRewriter"
   ]
  },
  {
   "cell_type": "markdown",
   "metadata": {},
   "source": [
    "An instance of VabamorfCorrectionRewriter is created that fixes the analysis of tokens containing numbers. This is the rewriter that is used for postmorph by default.\n",
    "In our example, it processes the 10e token.\n",
    "If we want, we can write our own rewriter and use that instead."
   ]
  },
  {
   "cell_type": "code",
   "execution_count": 9,
   "metadata": {
    "collapsed": true
   },
   "outputs": [],
   "source": [
    "# Create an instance of VabamorfCorrectionRewriter \n",
    "vabamorf_corrector = VabamorfCorrectionRewriter(replace=True)"
   ]
  },
  {
   "cell_type": "code",
   "execution_count": 10,
   "metadata": {
    "collapsed": true
   },
   "outputs": [],
   "source": [
    "# Let's take the same sentence as previously\n",
    "t = Text('Tiit müüs lil-li 10e krooniga.')"
   ]
  },
  {
   "cell_type": "code",
   "execution_count": 11,
   "metadata": {
    "collapsed": false
   },
   "outputs": [
    {
     "data": {
      "text/plain": [
       "Text(text=\"Tiit müüs lil-li 10e krooniga.\")"
      ]
     },
     "execution_count": 11,
     "metadata": {},
     "output_type": "execute_result"
    }
   ],
   "source": [
    "# And tag the layer 'words' on it. Cannot see that anything happened\n",
    "t.tag_layer(['words'])"
   ]
  },
  {
   "cell_type": "code",
   "execution_count": 12,
   "metadata": {
    "collapsed": false
   },
   "outputs": [
    {
     "data": {
      "text/plain": [
       "SL[Span(Tiit, {}),\n",
       "Span(müüs, {}),\n",
       "Span(lil-li, {}),\n",
       "Span(10e, {}),\n",
       "Span(krooniga, {}),\n",
       "Span(., {})]"
      ]
     },
     "execution_count": 12,
     "metadata": {},
     "output_type": "execute_result"
    }
   ],
   "source": [
    "# But now we can ask for the words layer\n",
    "t.words"
   ]
  },
  {
   "cell_type": "markdown",
   "metadata": {},
   "source": [
    "Now we can normalize the sentence with WordNormalizingTagger that takes care of the unnecessary hypens in words and [maybe sth else?]. In our example, it normalizes the word \"lilli\". It can be replaced with our own tagger if we decide to write one."
   ]
  },
  {
   "cell_type": "code",
   "execution_count": 13,
   "metadata": {
    "collapsed": false
   },
   "outputs": [
    {
     "data": {
      "text/plain": [
       "Text(text=\"Tiit müüs lil-li 10e krooniga.\")"
      ]
     },
     "execution_count": 13,
     "metadata": {},
     "output_type": "execute_result"
    }
   ],
   "source": [
    "# Normalize the sentence with WordNormalizingTagger\n",
    "WordNormalizingTagger().tag(t)"
   ]
  },
  {
   "cell_type": "code",
   "execution_count": 14,
   "metadata": {
    "collapsed": false
   },
   "outputs": [
    {
     "data": {
      "text/plain": [
       "SL[Span(lil-li, {'normal': 'lilli'})]"
      ]
     },
     "execution_count": 14,
     "metadata": {},
     "output_type": "execute_result"
    }
   ],
   "source": [
    "# And we can see the word that was changed\n",
    "t.normalized"
   ]
  },
  {
   "cell_type": "markdown",
   "metadata": {},
   "source": [
    "Now we can use the VabamorfTagger on the normalized layer received from WordNormalizingTagger and ask for the created VabamorfCorrectionRewriter to be used after vabamorf."
   ]
  },
  {
   "cell_type": "code",
   "execution_count": 15,
   "metadata": {
    "collapsed": false
   },
   "outputs": [
    {
     "data": {
      "text/plain": [
       "Text(text=\"Tiit müüs lil-li 10e krooniga.\")"
      ]
     },
     "execution_count": 15,
     "metadata": {},
     "output_type": "execute_result"
    }
   ],
   "source": [
    "# Tag the text with VabamorfTagger using default premorph and postmorph\n",
    "VabamorfTagger(premorf_layer='normalized', postmorph_rewriter=vabamorf_corrector).tag(t)"
   ]
  },
  {
   "cell_type": "code",
   "execution_count": 16,
   "metadata": {
    "collapsed": false
   },
   "outputs": [
    {
     "data": {
      "text/plain": [
       "SL[SL[Span(Tiit, {'partofspeech': 'H', 'root_tokens': ['Tiit'], 'ending': '0', 'form': 'sg n', 'clitic': '', 'root': 'Tiit', 'lemma': 'Tiit'})],\n",
       "SL[Span(müüs, {'partofspeech': 'V', 'root_tokens': ['müü'], 'ending': 's', 'form': 's', 'clitic': '', 'root': 'müü', 'lemma': 'müüma'})],\n",
       "SL[Span(lil-li, {'partofspeech': 'S', 'root_tokens': ['lill'], 'ending': 'i', 'form': 'pl p', 'clitic': '', 'root': 'lill', 'lemma': 'lill'})],\n",
       "SL[Span(10e, {'partofspeech': 'N', 'root_tokens': ['10'], 'ending': '0', 'form': 'sg g', 'clitic': '', 'root': '10', 'lemma': '10'})],\n",
       "SL[Span(krooniga, {'partofspeech': 'S', 'root_tokens': ['kroon'], 'ending': 'ga', 'form': 'sg kom', 'clitic': '', 'root': 'kroon', 'lemma': 'kroon'})],\n",
       "SL[Span(., {'partofspeech': 'Z', 'root_tokens': ['.'], 'ending': '', 'form': '', 'clitic': '', 'root': '.', 'lemma': '.'})]]"
      ]
     },
     "execution_count": 16,
     "metadata": {},
     "output_type": "execute_result"
    }
   ],
   "source": [
    "# The same output is received as in the first example\n",
    "t.morf_analysis"
   ]
  },
  {
   "cell_type": "markdown",
   "metadata": {
    "collapsed": false
   },
   "source": [
    "As mentioned, we can customize premorph or postmorph.\n",
    "\n",
    "To turn off postmorph for the same example, we need to set postmorph_rewriter to None:"
   ]
  },
  {
   "cell_type": "code",
   "execution_count": 17,
   "metadata": {
    "collapsed": false
   },
   "outputs": [],
   "source": [
    "t = Text('Tiit müüs lil-li 10e krooniga.')"
   ]
  },
  {
   "cell_type": "code",
   "execution_count": 18,
   "metadata": {
    "collapsed": false
   },
   "outputs": [
    {
     "data": {
      "text/plain": [
       "Text(text=\"Tiit müüs lil-li 10e krooniga.\")"
      ]
     },
     "execution_count": 18,
     "metadata": {},
     "output_type": "execute_result"
    }
   ],
   "source": [
    "t.tag_layer(['words'])"
   ]
  },
  {
   "cell_type": "code",
   "execution_count": 19,
   "metadata": {
    "collapsed": false
   },
   "outputs": [
    {
     "data": {
      "text/plain": [
       "Text(text=\"Tiit müüs lil-li 10e krooniga.\")"
      ]
     },
     "execution_count": 19,
     "metadata": {},
     "output_type": "execute_result"
    }
   ],
   "source": [
    "WordNormalizingTagger().tag(t)"
   ]
  },
  {
   "cell_type": "code",
   "execution_count": 20,
   "metadata": {
    "collapsed": false
   },
   "outputs": [
    {
     "data": {
      "text/plain": [
       "Text(text=\"Tiit müüs lil-li 10e krooniga.\")"
      ]
     },
     "execution_count": 20,
     "metadata": {},
     "output_type": "execute_result"
    }
   ],
   "source": [
    "# postmorph_rewriter = None says that we don't want to apply the default rewriter\n",
    "VabamorfTagger(premorf_layer='normalized', postmorph_rewriter=None).tag(t)"
   ]
  },
  {
   "cell_type": "code",
   "execution_count": 21,
   "metadata": {
    "collapsed": false
   },
   "outputs": [
    {
     "data": {
      "text/plain": [
       "SL[SL[Span(Tiit, {'partofspeech': 'H', 'root_tokens': ['Tiit'], 'ending': '0', 'form': 'sg n', 'clitic': '', 'root': 'Tiit', 'lemma': 'Tiit'})],\n",
       "SL[Span(müüs, {'partofspeech': 'V', 'root_tokens': ['müü'], 'ending': 's', 'form': 's', 'clitic': '', 'root': 'müü', 'lemma': 'müüma'})],\n",
       "SL[Span(lil-li, {'partofspeech': 'S', 'root_tokens': ['lill'], 'ending': 'i', 'form': 'pl p', 'clitic': '', 'root': 'lill', 'lemma': 'lill'})],\n",
       "SL[Span(10e, {'partofspeech': 'Y', 'root_tokens': ['10e'], 'ending': '0', 'form': '?', 'clitic': '', 'root': '10e', 'lemma': '10e'})],\n",
       "SL[Span(krooniga, {'partofspeech': 'S', 'root_tokens': ['kroon'], 'ending': 'ga', 'form': 'sg kom', 'clitic': '', 'root': 'kroon', 'lemma': 'kroon'})],\n",
       "SL[Span(., {'partofspeech': 'Z', 'root_tokens': ['.'], 'ending': '', 'form': '', 'clitic': '', 'root': '.', 'lemma': '.'})]]"
      ]
     },
     "execution_count": 21,
     "metadata": {},
     "output_type": "execute_result"
    }
   ],
   "source": [
    "t.morf_analysis"
   ]
  },
  {
   "cell_type": "markdown",
   "metadata": {},
   "source": [
    "Now we got only one analysis for the token '10e' which, unfortunately, is not correct."
   ]
  },
  {
   "cell_type": "markdown",
   "metadata": {},
   "source": [
    "We can also turn off premorph:"
   ]
  },
  {
   "cell_type": "code",
   "execution_count": 22,
   "metadata": {
    "collapsed": false
   },
   "outputs": [],
   "source": [
    "t = Text('Tiit müüs lil-li 10e krooniga.')"
   ]
  },
  {
   "cell_type": "code",
   "execution_count": 23,
   "metadata": {
    "collapsed": false
   },
   "outputs": [
    {
     "data": {
      "text/plain": [
       "Text(text=\"Tiit müüs lil-li 10e krooniga.\")"
      ]
     },
     "execution_count": 23,
     "metadata": {},
     "output_type": "execute_result"
    }
   ],
   "source": [
    "t.tag_layer(['words'])"
   ]
  },
  {
   "cell_type": "code",
   "execution_count": 24,
   "metadata": {
    "collapsed": false
   },
   "outputs": [
    {
     "data": {
      "text/plain": [
       "Text(text=\"Tiit müüs lil-li 10e krooniga.\")"
      ]
     },
     "execution_count": 24,
     "metadata": {},
     "output_type": "execute_result"
    }
   ],
   "source": [
    "# premorph_layer = None says that we don't want to apply the default rewriter\n",
    "VabamorfTagger(premorf_layer=None, postmorph_rewriter=vabamorf_corrector).tag(t)"
   ]
  },
  {
   "cell_type": "code",
   "execution_count": 25,
   "metadata": {
    "collapsed": false
   },
   "outputs": [
    {
     "data": {
      "text/plain": [
       "SL[SL[Span(Tiit, {'partofspeech': 'H', 'root_tokens': ['Tiit'], 'ending': '0', 'form': 'sg n', 'clitic': '', 'root': 'Tiit', 'lemma': 'Tiit'})],\n",
       "SL[Span(müüs, {'partofspeech': 'V', 'root_tokens': ['müü'], 'ending': 's', 'form': 's', 'clitic': '', 'root': 'müü', 'lemma': 'müüma'})],\n",
       "SL[Span(lil-li, {'partofspeech': 'Y', 'root_tokens': ['lil', 'li'], 'ending': '0', 'form': '?', 'clitic': '', 'root': 'lil-li', 'lemma': 'lil-li'})],\n",
       "SL[Span(10e, {'partofspeech': 'N', 'root_tokens': ['10'], 'ending': '0', 'form': 'sg g', 'clitic': '', 'root': '10', 'lemma': '10'})],\n",
       "SL[Span(krooniga, {'partofspeech': 'S', 'root_tokens': ['kroon'], 'ending': 'ga', 'form': 'sg kom', 'clitic': '', 'root': 'kroon', 'lemma': 'kroon'})],\n",
       "SL[Span(., {'partofspeech': 'Z', 'root_tokens': ['.'], 'ending': '', 'form': '', 'clitic': '', 'root': '.', 'lemma': '.'})]]"
      ]
     },
     "execution_count": 25,
     "metadata": {},
     "output_type": "execute_result"
    }
   ],
   "source": [
    "t.morf_analysis"
   ]
  },
  {
   "cell_type": "code",
   "execution_count": 26,
   "metadata": {
    "collapsed": false
   },
   "outputs": [
    {
     "data": {
      "text/plain": [
       "Text(text=\"Tiit müüs lil-li 10e krooniga.\")"
      ]
     },
     "execution_count": 26,
     "metadata": {},
     "output_type": "execute_result"
    }
   ],
   "source": [
    "t"
   ]
  },
  {
   "cell_type": "markdown",
   "metadata": {},
   "source": [
    "Here we can see that the word \"lil-li\" was not normalized and therefore didn't receive the correct analysis."
   ]
  },
  {
   "cell_type": "code",
   "execution_count": 27,
   "metadata": {
    "collapsed": true
   },
   "outputs": [],
   "source": [
    "# Can't we switch off premorph and postmorph some easier way?\n",
    "# Somehow without explicitly creating the VabamorfTagger?"
   ]
  },
  {
   "cell_type": "markdown",
   "metadata": {},
   "source": [
    "## Use the `morf_analysis` layer to create a `corrected_morph` layer\n"
   ]
  },
  {
   "cell_type": "code",
   "execution_count": 28,
   "metadata": {
    "collapsed": true
   },
   "outputs": [],
   "source": [
    "# What is the purpose of this?\n",
    "# According to Sven, this shows how to tag your own layer with a custom postmorph rewriter\n",
    "# in addition to the default layer.\n",
    "# The example code is too complicated  and undocumented - impossible to understand.\n",
    "# An easier example would be nice that wouldn't try to contain everything."
   ]
  },
  {
   "cell_type": "markdown",
   "metadata": {},
   "source": [
    "1. Create a text object.\n",
    "2. Tag the `normalized` layer (and also the `words` layer  #this happens somehow magically by tagging the 'normalized' layer?).\n",
    "3. Create a layer `_morph` that contains the data from the layers `morf_analysis` and `normalized`.\n",
    "5. Rewrite the `_morph` layer and get the `corrected_morph` layer as a result.\n",
    "6. Attach the `corrected_morph` layer to the text object.\n",
    "\n",
    "Now `text.corrected_morph` is the same as `t.morf_analysis` in the first example where premorph and postmorph are executed."
   ]
  },
  {
   "cell_type": "code",
   "execution_count": 29,
   "metadata": {
    "collapsed": false
   },
   "outputs": [],
   "source": [
    "# Import the necessary stuff\n",
    "from estnltk.text import Span, Layer\n",
    "from estnltk.rewriting.postmorph.vabamorf_corrector import VabamorfCorrectionRewriter"
   ]
  },
  {
   "cell_type": "code",
   "execution_count": 30,
   "metadata": {
    "collapsed": false
   },
   "outputs": [
    {
     "data": {
      "text/plain": [
       "Text(text=\"Tiit müüs lil-li 10e krooniga.\")"
      ]
     },
     "execution_count": 30,
     "metadata": {},
     "output_type": "execute_result"
    }
   ],
   "source": [
    "text = Text('Tiit müüs lil-li 10e krooniga.')\n",
    "text.tag_layer(['normalized'])\n",
    "VabamorfTagger(premorf_layer='normalized', postmorph_rewriter=None).tag(text)"
   ]
  },
  {
   "cell_type": "code",
   "execution_count": 31,
   "metadata": {
    "collapsed": true
   },
   "outputs": [],
   "source": [
    "# These are all the attributes of the morf_analysis layer? Why do I need to specify them here? \n",
    "morph_attributes = ['form', 'root_tokens', 'clitic', 'partofspeech', 'ending', 'root', 'lemma']"
   ]
  },
  {
   "cell_type": "code",
   "execution_count": 32,
   "metadata": {
    "collapsed": true
   },
   "outputs": [],
   "source": [
    "attributes = morph_attributes + ['word_normal']"
   ]
  },
  {
   "cell_type": "code",
   "execution_count": 33,
   "metadata": {
    "collapsed": true
   },
   "outputs": [],
   "source": [
    "\n",
    "_morph = Layer(name='words',\n",
    "               parent='words',\n",
    "               ambiguous=True,\n",
    "               attributes=attributes\n",
    "               )"
   ]
  },
  {
   "cell_type": "code",
   "execution_count": 34,
   "metadata": {
    "collapsed": true
   },
   "outputs": [],
   "source": [
    "for word, analyses in zip(text.words, text.morf_analysis):\n",
    "    for analysis in analyses:\n",
    "        span = _morph.add_span(Span(parent=word))\n",
    "        for attr in morph_attributes:\n",
    "            setattr(span, attr, getattr(analysis, attr))\n",
    "        setattr(span, 'word_normal', word.normal or word.text)"
   ]
  },
  {
   "cell_type": "code",
   "execution_count": 35,
   "metadata": {
    "collapsed": true
   },
   "outputs": [],
   "source": [
    "\n",
    "postmorph_rewriter = VabamorfCorrectionRewriter()"
   ]
  },
  {
   "cell_type": "code",
   "execution_count": 36,
   "metadata": {
    "collapsed": true
   },
   "outputs": [],
   "source": [
    "corrected_morph = _morph.rewrite(source_attributes=attributes,\n",
    "                                 target_attributes=morph_attributes, \n",
    "                                 rules=postmorph_rewriter,\n",
    "                                 name='corrected_morph',\n",
    "                                 ambiguous=True)"
   ]
  },
  {
   "cell_type": "code",
   "execution_count": 37,
   "metadata": {
    "collapsed": true
   },
   "outputs": [],
   "source": [
    "text['corrected_morph'] = corrected_morph"
   ]
  },
  {
   "cell_type": "code",
   "execution_count": 38,
   "metadata": {
    "collapsed": false
   },
   "outputs": [
    {
     "data": {
      "text/plain": [
       "SL[SL[Span(Tiit, {'partofspeech': 'H', 'root_tokens': ['Tiit'], 'ending': '0', 'form': 'sg n', 'clitic': '', 'root': 'Tiit', 'lemma': 'Tiit'})],\n",
       "SL[Span(müüs, {'partofspeech': 'V', 'root_tokens': ['müü'], 'ending': 's', 'form': 's', 'clitic': '', 'root': 'müü', 'lemma': 'müüma'})],\n",
       "SL[Span(lil-li, {'partofspeech': 'S', 'root_tokens': ['lill'], 'ending': 'i', 'form': 'pl p', 'clitic': '', 'root': 'lill', 'lemma': 'lill'})],\n",
       "SL[Span(10e, {'partofspeech': 'N', 'root_tokens': ['10'], 'ending': '0', 'form': 'sg g', 'clitic': '', 'root': '10', 'lemma': '10'})],\n",
       "SL[Span(krooniga, {'partofspeech': 'S', 'root_tokens': ['kroon'], 'ending': 'ga', 'form': 'sg kom', 'clitic': '', 'root': 'kroon', 'lemma': 'kroon'})],\n",
       "SL[Span(., {'partofspeech': 'Z', 'root_tokens': ['.'], 'ending': '', 'form': '', 'clitic': '', 'root': '.', 'lemma': '.'})]]"
      ]
     },
     "execution_count": 38,
     "metadata": {},
     "output_type": "execute_result"
    }
   ],
   "source": [
    "text.corrected_morph"
   ]
  }
 ],
 "metadata": {
  "anaconda-cloud": {},
  "kernelspec": {
   "display_name": "Python [py35]",
   "language": "python",
   "name": "Python [py35]"
  },
  "language_info": {
   "codemirror_mode": {
    "name": "ipython",
    "version": 3
   },
   "file_extension": ".py",
   "mimetype": "text/x-python",
   "name": "python",
   "nbconvert_exporter": "python",
   "pygments_lexer": "ipython3",
   "version": "3.5.3"
  }
 },
 "nbformat": 4,
 "nbformat_minor": 2
}
