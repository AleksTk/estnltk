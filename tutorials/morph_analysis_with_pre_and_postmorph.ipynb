{
 "cells": [
  {
   "cell_type": "markdown",
   "metadata": {},
   "source": [
    "# Morphological analysis with premorph and postmorph"
   ]
  },
  {
   "cell_type": "code",
   "execution_count": 1,
   "metadata": {
    "collapsed": true
   },
   "outputs": [],
   "source": [
    "from estnltk.text import Text"
   ]
  },
  {
   "cell_type": "markdown",
   "metadata": {},
   "source": [
    "By default premorph and postmorph are executed."
   ]
  },
  {
   "cell_type": "code",
   "execution_count": 2,
   "metadata": {
    "collapsed": false
   },
   "outputs": [
    {
     "data": {
      "text/plain": [
       "SL[SL[Span(tu-li, {'clitic': '', 'root_tokens': ['tule'], 'root': 'tule', 'ending': 'i', 'partofspeech': 'V', 'form': 's', 'lemma': 'tulema'})],\n",
       "SL[Span(3ndaks, {'clitic': '', 'root_tokens': ['3'], 'root': '3', 'ending': 'ks', 'partofspeech': 'O', 'form': 'sg tr', 'lemma': '3'})]]"
      ]
     },
     "execution_count": 2,
     "metadata": {},
     "output_type": "execute_result"
    }
   ],
   "source": [
    "t = Text('tu-li 3ndaks').tag_layer()\n",
    "t.morf_analysis"
   ]
  },
  {
   "cell_type": "markdown",
   "metadata": {},
   "source": [
    "This is equivalent to"
   ]
  },
  {
   "cell_type": "code",
   "execution_count": 3,
   "metadata": {
    "collapsed": false
   },
   "outputs": [
    {
     "data": {
      "text/plain": [
       "SL[SL[Span(tu-li, {'clitic': '', 'root_tokens': ['tule'], 'root': 'tule', 'ending': 'i', 'partofspeech': 'V', 'form': 's', 'lemma': 'tulema'})],\n",
       "SL[Span(3ndaks, {'clitic': '', 'root_tokens': ['3'], 'root': '3', 'ending': 'ks', 'partofspeech': 'O', 'form': 'sg tr', 'lemma': '3'})]]"
      ]
     },
     "execution_count": 3,
     "metadata": {},
     "output_type": "execute_result"
    }
   ],
   "source": [
    "from estnltk.taggers.premorph.premorf import WordNormalizingTagger\n",
    "from estnltk.taggers.morf import VabamorfTagger\n",
    "from estnltk.rewriting.postmorph.vabamorf_corrector import VabamorfCorrectionRewriter\n",
    "\n",
    "vabamorf_corrector = VabamorfCorrectionRewriter(replace=True)\n",
    "\n",
    "t = Text('tu-li 3ndaks')\n",
    "t.tag_layer(['words'])\n",
    "WordNormalizingTagger().tag(t)\n",
    "VabamorfTagger(premorf_layer='normalized', postmorph_rewriter=vabamorf_corrector).tag(t)\n",
    "\n",
    "t.morf_analysis"
   ]
  },
  {
   "cell_type": "markdown",
   "metadata": {
    "collapsed": false
   },
   "source": [
    "Modify the code above to customize premorph or postmorph.\n",
    "\n",
    "For example, turn off premorph and postmorph:"
   ]
  },
  {
   "cell_type": "code",
   "execution_count": 4,
   "metadata": {
    "collapsed": false
   },
   "outputs": [
    {
     "data": {
      "text/plain": [
       "SL[SL[Span(tu-li, {'clitic': '', 'root_tokens': ['tu', 'li'], 'root': 'tu-li', 'ending': '0', 'partofspeech': 'Y', 'form': '?', 'lemma': 'tu-li'})],\n",
       "SL[Span(3ndaks, {'clitic': '', 'root_tokens': ['3s'], 'root': '3=s', 'ending': 'ks', 'partofspeech': 'O', 'form': 'sg tr', 'lemma': '3s'})]]"
      ]
     },
     "execution_count": 4,
     "metadata": {},
     "output_type": "execute_result"
    }
   ],
   "source": [
    "t = Text('tu-li 3ndaks')\n",
    "t.tag_layer(['words'])\n",
    "VabamorfTagger(premorf_layer=None, postmorph_rewriter=None).tag(t)\n",
    "\n",
    "t.morf_analysis"
   ]
  }
 ],
 "metadata": {
  "kernelspec": {
   "display_name": "Python [py35]",
   "language": "python",
   "name": "Python [py35]"
  },
  "language_info": {
   "codemirror_mode": {
    "name": "ipython",
    "version": 3
   },
   "file_extension": ".py",
   "mimetype": "text/x-python",
   "name": "python",
   "nbconvert_exporter": "python",
   "pygments_lexer": "ipython3",
   "version": "3.5.3"
  }
 },
 "nbformat": 4,
 "nbformat_minor": 2
}
