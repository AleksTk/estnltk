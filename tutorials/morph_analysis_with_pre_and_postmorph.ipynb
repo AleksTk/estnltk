{
 "cells": [
  {
   "cell_type": "markdown",
   "metadata": {},
   "source": [
    "# Morphological analysis with premorph and postmorph"
   ]
  },
  {
   "cell_type": "code",
   "execution_count": 1,
   "metadata": {
    "collapsed": true
   },
   "outputs": [],
   "source": [
    "from estnltk.text import Text"
   ]
  },
  {
   "cell_type": "markdown",
   "metadata": {},
   "source": [
    "By default premorph and postmorph are executed."
   ]
  },
  {
   "cell_type": "code",
   "execution_count": 2,
   "metadata": {
    "collapsed": false
   },
   "outputs": [
    {
     "data": {
      "text/plain": [
       "SL[SL[Span(tu-li, {'root_tokens': ['tule'], 'lemma': 'tulema', 'form': 's', 'clitic': '', 'root': 'tule', 'partofspeech': 'V', 'ending': 'i'})],\n",
       "SL[Span(3daks, {'root_tokens': ['3.'], 'lemma': '3.', 'form': 'sg tr', 'clitic': '', 'root': '3.', 'partofspeech': 'O', 'ending': 'ks'})]]"
      ]
     },
     "execution_count": 2,
     "metadata": {},
     "output_type": "execute_result"
    }
   ],
   "source": [
    "t = Text('tu-li 3daks').tag_layer()\n",
    "t.morf_analysis"
   ]
  },
  {
   "cell_type": "markdown",
   "metadata": {},
   "source": [
    "This is equivalent to"
   ]
  },
  {
   "cell_type": "code",
   "execution_count": 3,
   "metadata": {
    "collapsed": false
   },
   "outputs": [
    {
     "data": {
      "text/plain": [
       "SL[SL[Span(tu-li, {'root_tokens': ['tule'], 'lemma': 'tulema', 'form': 's', 'clitic': '', 'root': 'tule', 'partofspeech': 'V', 'ending': 'i'})],\n",
       "SL[Span(3ndaks, {'root_tokens': ['3.'], 'lemma': '3.', 'form': 'sg tr', 'clitic': '', 'root': '3.', 'partofspeech': 'O', 'ending': 'ks'})]]"
      ]
     },
     "execution_count": 3,
     "metadata": {},
     "output_type": "execute_result"
    }
   ],
   "source": [
    "from estnltk.taggers.premorph.premorf import WordNormalizingTagger\n",
    "from estnltk.taggers.morf import VabamorfTagger\n",
    "from estnltk.rewriting.postmorph.vabamorf_corrector import VabamorfCorrectionRewriter\n",
    "\n",
    "vabamorf_corrector = VabamorfCorrectionRewriter(replace=True)\n",
    "\n",
    "t = Text('tu-li 3ndaks')\n",
    "t.tag_layer(['words'])\n",
    "WordNormalizingTagger().tag(t)\n",
    "VabamorfTagger(premorf_layer='normalized', postmorph_rewriter=vabamorf_corrector).tag(t)\n",
    "\n",
    "t.morf_analysis"
   ]
  },
  {
   "cell_type": "markdown",
   "metadata": {
    "collapsed": false
   },
   "source": [
    "Modify the code above to customize premorph or postmorph.\n",
    "\n",
    "For example, turn off premorph and postmorph:"
   ]
  },
  {
   "cell_type": "code",
   "execution_count": 4,
   "metadata": {
    "collapsed": false
   },
   "outputs": [
    {
     "data": {
      "text/plain": [
       "SL[SL[Span(tu-li, {'root_tokens': ['tu', 'li'], 'lemma': 'tu-li', 'form': '?', 'clitic': '', 'root': 'tu-li', 'partofspeech': 'Y', 'ending': '0'})],\n",
       "SL[Span(3ndaks, {'root_tokens': ['3s'], 'lemma': '3s', 'form': 'sg tr', 'clitic': '', 'root': '3=s', 'partofspeech': 'O', 'ending': 'ks'})]]"
      ]
     },
     "execution_count": 4,
     "metadata": {},
     "output_type": "execute_result"
    }
   ],
   "source": [
    "t = Text('tu-li 3ndaks')\n",
    "t.tag_layer(['words'])\n",
    "VabamorfTagger(premorf_layer=None, postmorph_rewriter=None).tag(t)\n",
    "\n",
    "t.morf_analysis"
   ]
  },
  {
   "cell_type": "markdown",
   "metadata": {},
   "source": [
    "## Use the `morf_analysis` layer to create a `corrected_morph` layer\n",
    "\n",
    "1. Create a text object.\n",
    "2. Tag the `nomralized` layer (and also the `words` layer).\n",
    "3. Create a layer `_morph` that contains the data from the layers `morf_analysis` and `normalized`.\n",
    "5. Rewrite the `_morph` layer and get the `corrected_morph` layer as a result.\n",
    "6. Attach the `corrected_morph` layer to the text object.\n",
    "\n",
    "Now `text.corrected_morph` is the same as `t.morf_analysis` in the first example where premorph and postmorph are executed."
   ]
  },
  {
   "cell_type": "code",
   "execution_count": 5,
   "metadata": {
    "collapsed": false
   },
   "outputs": [
    {
     "data": {
      "text/plain": [
       "SL[SL[Span(tu-li, {'root_tokens': ['tule'], 'lemma': 'tulema', 'form': 's', 'clitic': '', 'root': 'tule', 'partofspeech': 'V', 'ending': 'i'})],\n",
       "SL[Span(3ndaks, {'root_tokens': ['3.'], 'lemma': '3.', 'form': 'sg tr', 'clitic': '', 'root': '3.', 'partofspeech': 'O', 'ending': 'ks'})]]"
      ]
     },
     "execution_count": 5,
     "metadata": {},
     "output_type": "execute_result"
    }
   ],
   "source": [
    "from estnltk.text import Span, Layer\n",
    "from estnltk.rewriting.postmorph.vabamorf_corrector import VabamorfCorrectionRewriter\n",
    "\n",
    "text = Text('tu-li 3ndaks')\n",
    "text.tag_layer(['normalized'])\n",
    "VabamorfTagger(premorf_layer='normalized', postmorph_rewriter=None).tag(text)\n",
    "\n",
    "morph_attributes = ['form', 'root_tokens', 'clitic', 'partofspeech', 'ending', 'root', 'lemma']\n",
    "attributes = morph_attributes + ['word_normal']\n",
    "\n",
    "_morph = Layer(name='words',\n",
    "               parent='words',\n",
    "               ambiguous=True,\n",
    "               attributes=attributes\n",
    "               )\n",
    "\n",
    "for word, analyses in zip(text.words, text.morf_analysis):\n",
    "    for analysis in analyses:\n",
    "        span = _morph.add_span(Span(parent=word))\n",
    "        for attr in morph_attributes:\n",
    "            setattr(span, attr, getattr(analysis, attr))\n",
    "        setattr(span, 'word_normal', word.normal or word.text)\n",
    "\n",
    "\n",
    "postmorph_rewriter = VabamorfCorrectionRewriter()\n",
    "\n",
    "corrected_morph = _morph.rewrite(source_attributes=attributes,\n",
    "                                 target_attributes=morph_attributes, \n",
    "                                 rules=postmorph_rewriter,\n",
    "                                 name='corrected_morph',\n",
    "                                 ambiguous=True)\n",
    "\n",
    "text['corrected_morph'] = corrected_morph\n",
    "text.corrected_morph"
   ]
  }
 ],
 "metadata": {
  "kernelspec": {
   "display_name": "Python [py35]",
   "language": "python",
   "name": "Python [py35]"
  },
  "language_info": {
   "codemirror_mode": {
    "name": "ipython",
    "version": 3
   },
   "file_extension": ".py",
   "mimetype": "text/x-python",
   "name": "python",
   "nbconvert_exporter": "python",
   "pygments_lexer": "ipython3",
   "version": "3.5.3"
  }
 },
 "nbformat": 4,
 "nbformat_minor": 2
}
