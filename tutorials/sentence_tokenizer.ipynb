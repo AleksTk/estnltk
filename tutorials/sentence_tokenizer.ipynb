{
 "cells": [
  {
   "cell_type": "markdown",
   "metadata": {},
   "source": [
    "# Sentence tokenizer"
   ]
  },
  {
   "cell_type": "code",
   "execution_count": 1,
   "metadata": {
    "collapsed": false
   },
   "outputs": [
    {
     "data": {
      "text/html": [
       "<table border=\"1\" class=\"dataframe\">\n",
       "  <thead>\n",
       "    <tr style=\"text-align: right;\">\n",
       "      <th>text</th>\n",
       "    </tr>\n",
       "  </thead>\n",
       "  <tbody>\n",
       "    <tr>\n",
       "      <td>Puuviljad, sealh. ubinad st. õunad s.o. õunapuu viljad hrl. nt. tuviõunad on aadressil Uus tn. 9 krt.</td>\n",
       "    </tr>\n",
       "    <tr>\n",
       "      <td>12.</td>\n",
       "    </tr>\n",
       "    <tr>\n",
       "      <td>Raamatu toim. hr. Tamm, koost. dr. Kask, toim. on sm. Kuusk Jr. aga illustraator on märkimata.</td>\n",
       "    </tr>\n",
       "    <tr>\n",
       "      <td>Noh naised, ostma!</td>\n",
       "    </tr>\n",
       "    <tr>\n",
       "      <td>Vaata www.esindus.ee/korteriturg ja kirjuta ingrid.vinn@keskkonnaamet.ee, mis juhtus 1999. a. ja 2000. aasta vahetusel.</td>\n",
       "    </tr>\n",
       "    <tr>\n",
       "      <td>Kui pudikeelne hr. Laar veel Rahumäel elas kommunaalmajas ja sm . Kõlvarti tegevust jälgis.</td>\n",
       "    </tr>\n",
       "    <tr>\n",
       "      <td>Aadressilt bla@bla.ee tuli 10 000 kirja, st. spammi aadressile foo@foo.ee 10 tunni jooksul 2017. aastal.</td>\n",
       "    </tr>\n",
       "    <tr>\n",
       "      <td>A. H. Tammsaare: 1,0 m / s = 3, 67 km/h.</td>\n",
       "    </tr>\n",
       "  </tbody>\n",
       "</table>"
      ],
      "text/plain": [
       "<estnltk.text.Layer at 0x7f1ad353eb38>"
      ]
     },
     "execution_count": 1,
     "metadata": {},
     "output_type": "execute_result"
    }
   ],
   "source": [
    "from estnltk import Text\n",
    "\n",
    "t = '''Puuviljad, sealh. ubinad st. õunad s.o. õunapuu viljad hrl. nt. tuviõunad on aadressil Uus tn. 9 krt. 12. \\\n",
    "Raamatu toim. hr. Tamm, koost. dr. Kask, toim. on sm. Kuusk Jr. aga illustraator on märkimata. \\\n",
    "Noh naised, ostma! Vaata www.esindus.ee/korteriturg ja kirjuta ingrid.vinn@keskkonnaamet.ee, \\\n",
    "mis juhtus 1999. a. ja 2000. aasta vahetusel. Kui pudikeelne hr. Laar veel Rahumäel elas kommunaalmajas ja \\\n",
    "sm . Kõlvarti tegevust jälgis. Aadressilt bla@bla.ee tuli 10 000 kirja, st. spammi aadressile \\\n",
    "foo@foo.ee 10 tunni jooksul 2017. aastal. A. H. Tammsaare: 1,0 m / s = 3, 67 km/h.'''\n",
    "\n",
    "text = Text(t)\n",
    "text.tag_layer(['sentences'])\n",
    "text['sentences']"
   ]
  },
  {
   "cell_type": "markdown",
   "metadata": {},
   "source": [
    "## Tokenize sentences without correction."
   ]
  },
  {
   "cell_type": "code",
   "execution_count": 2,
   "metadata": {
    "collapsed": false
   },
   "outputs": [
    {
     "data": {
      "text/html": [
       "<table border=\"1\" class=\"dataframe\">\n",
       "  <thead>\n",
       "    <tr style=\"text-align: right;\">\n",
       "      <th>text</th>\n",
       "    </tr>\n",
       "  </thead>\n",
       "  <tbody>\n",
       "    <tr>\n",
       "      <td>Puuviljad, sealh.</td>\n",
       "    </tr>\n",
       "    <tr>\n",
       "      <td>ubinad st.</td>\n",
       "    </tr>\n",
       "    <tr>\n",
       "      <td>õunad s.o.</td>\n",
       "    </tr>\n",
       "    <tr>\n",
       "      <td>õunapuu viljad hrl.</td>\n",
       "    </tr>\n",
       "    <tr>\n",
       "      <td>nt.</td>\n",
       "    </tr>\n",
       "    <tr>\n",
       "      <td>tuviõunad on aadressil Uus tn.</td>\n",
       "    </tr>\n",
       "    <tr>\n",
       "      <td>9 krt.</td>\n",
       "    </tr>\n",
       "    <tr>\n",
       "      <td>12.</td>\n",
       "    </tr>\n",
       "    <tr>\n",
       "      <td>Raamatu toim.</td>\n",
       "    </tr>\n",
       "    <tr>\n",
       "      <td>hr.</td>\n",
       "    </tr>\n",
       "    <tr>\n",
       "      <td>Tamm, koost.</td>\n",
       "    </tr>\n",
       "    <tr>\n",
       "      <td>dr.</td>\n",
       "    </tr>\n",
       "    <tr>\n",
       "      <td>Kask, toim.</td>\n",
       "    </tr>\n",
       "    <tr>\n",
       "      <td>on sm.</td>\n",
       "    </tr>\n",
       "    <tr>\n",
       "      <td>Kuusk Jr.</td>\n",
       "    </tr>\n",
       "    <tr>\n",
       "      <td>aga illustraator on märkimata.</td>\n",
       "    </tr>\n",
       "    <tr>\n",
       "      <td>Noh naised, ostma!</td>\n",
       "    </tr>\n",
       "    <tr>\n",
       "      <td>Vaata www.esindus.ee/korteriturg ja kirjuta ingrid.vinn@keskkonnaamet.ee, mis juhtus 1999. a.</td>\n",
       "    </tr>\n",
       "    <tr>\n",
       "      <td>ja 2000. aasta vahetusel.</td>\n",
       "    </tr>\n",
       "    <tr>\n",
       "      <td>Kui pudikeelne hr.</td>\n",
       "    </tr>\n",
       "    <tr>\n",
       "      <td>Laar veel Rahumäel elas kommunaalmajas ja sm .</td>\n",
       "    </tr>\n",
       "    <tr>\n",
       "      <td>Kõlvarti tegevust jälgis.</td>\n",
       "    </tr>\n",
       "    <tr>\n",
       "      <td>Aadressilt bla@bla.ee tuli 10 000 kirja, st.</td>\n",
       "    </tr>\n",
       "    <tr>\n",
       "      <td>spammi aadressile foo@foo.ee 10 tunni jooksul 2017. aastal.</td>\n",
       "    </tr>\n",
       "    <tr>\n",
       "      <td>A. H. Tammsaare: 1,0 m / s = 3, 67 km/h.</td>\n",
       "    </tr>\n",
       "  </tbody>\n",
       "</table>"
      ],
      "text/plain": [
       "<estnltk.text.Layer at 0x7f1ad3554b00>"
      ]
     },
     "execution_count": 2,
     "metadata": {},
     "output_type": "execute_result"
    }
   ],
   "source": [
    "from estnltk.taggers.sentence_tokenizer import SentenceTokenizer\n",
    "from estnltk.taggers.word_tokenizer import WordTokenizer\n",
    "\n",
    "word_tokenizer = WordTokenizer()\n",
    "sentence_tokenizer = SentenceTokenizer()\n",
    "text = Text(t)\n",
    "word_tokenizer.tag(text)\n",
    "sentence_tokenizer.tag(text, fix=False)\n",
    "text['sentences']"
   ]
  }
 ],
 "metadata": {
  "kernelspec": {
   "display_name": "Python [py35]",
   "language": "python",
   "name": "Python [py35]"
  },
  "language_info": {
   "codemirror_mode": {
    "name": "ipython",
    "version": 3
   },
   "file_extension": ".py",
   "mimetype": "text/x-python",
   "name": "python",
   "nbconvert_exporter": "python",
   "pygments_lexer": "ipython3",
   "version": "3.5.3"
  }
 },
 "nbformat": 4,
 "nbformat_minor": 2
}
