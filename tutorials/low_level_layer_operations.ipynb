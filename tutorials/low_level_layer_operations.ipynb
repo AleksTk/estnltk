{
 "cells": [
  {
   "cell_type": "code",
   "execution_count": 1,
   "metadata": {
    "collapsed": true
   },
   "outputs": [],
   "source": [
    "from estnltk.text import Layer, Span, Text"
   ]
  },
  {
   "cell_type": "markdown",
   "metadata": {},
   "source": [
    "# Low-level layer operations\n",
    "## Create a layer"
   ]
  },
  {
   "cell_type": "code",
   "execution_count": 2,
   "metadata": {
    "collapsed": false
   },
   "outputs": [],
   "source": [
    "layer = Layer(name='test_layer',\n",
    "              attributes=['a'],\n",
    "              parent='words', \n",
    "              ambiguous=True\n",
    "              )"
   ]
  },
  {
   "cell_type": "markdown",
   "metadata": {},
   "source": [
    "Layer must have a name. The default values are:\n",
    "```python\n",
    "name=None,\n",
    "attributes:Union[Tuple, List]=tuple(),\n",
    "parent:str=None,\n",
    "enveloping:str=None,\n",
    "ambiguous:bool=None\n",
    "```"
   ]
  },
  {
   "cell_type": "markdown",
   "metadata": {},
   "source": [
    "## Add spans and attributes"
   ]
  },
  {
   "cell_type": "code",
   "execution_count": 3,
   "metadata": {
    "collapsed": false
   },
   "outputs": [
    {
     "data": {
      "text/plain": [
       "SL[SL[Span(Tere, {'a': 1}),\n",
       "Span(Tere, {'a': 2})],\n",
       "SL[Span(maailm, {'a': 1}),\n",
       "Span(maailm, {'a': 2})],\n",
       "SL[Span(!, {'a': 1}),\n",
       "Span(!, {'a': 2})]]"
      ]
     },
     "execution_count": 3,
     "metadata": {},
     "output_type": "execute_result"
    }
   ],
   "source": [
    "text = Text('Tere maailm!').tag_layer()\n",
    "\n",
    "for word in text.words:\n",
    "    layer.add_span(Span(parent=word)).a = 1\n",
    "    layer.add_span(Span(parent=word)).a = 2\n",
    "\n",
    "text['test_layer'] = layer\n",
    "text.test_layer"
   ]
  },
  {
   "cell_type": "markdown",
   "metadata": {},
   "source": [
    "# Rewrite"
   ]
  },
  {
   "cell_type": "markdown",
   "metadata": {},
   "source": [
    "Rewriter is a class that contains a `rewrite` method. If `rewrite` returns `None`, the corresponding span is not created."
   ]
  },
  {
   "cell_type": "code",
   "execution_count": 4,
   "metadata": {
    "collapsed": false
   },
   "outputs": [
    {
     "data": {
      "text/plain": [
       "SL[Span(maailm, {}),\n",
       "Span(!, {})]"
      ]
     },
     "execution_count": 4,
     "metadata": {},
     "output_type": "execute_result"
    }
   ],
   "source": [
    "class TestRewriter:\n",
    "    def rewrite(self, record):\n",
    "        if record['start'] == 0:\n",
    "            return None\n",
    "        return record\n",
    "\n",
    "t = Text('Tere maailm!')\n",
    "t.tag_layer(('words',))\n",
    "test_layer = t['words'].rewrite(source_attributes=[],\n",
    "                                target_attributes=[],\n",
    "                                rules = TestRewriter(),\n",
    "                                name='test_layer')\n",
    "t['test_layer'] = test_layer\n",
    "t.test_layer"
   ]
  },
  {
   "cell_type": "markdown",
   "metadata": {},
   "source": [
    "# Tag phrases"
   ]
  },
  {
   "cell_type": "code",
   "execution_count": 5,
   "metadata": {
    "collapsed": false
   },
   "outputs": [
    {
     "name": "stdout",
     "output_type": "stream",
     "text": [
      "[[('karu on punane', 'KARU'), ('karu on punane', 'ON'), ('karu on punane', 'PUNANE')], [('sinu karu', 'SINU'), ('sinu karu', 'KARU')]]\n",
      "['karu on punane', 'sinu karu']\n",
      "[[['karu'], ['olema', 'olema'], ['punane']], [['sina'], ['karu']]]\n",
      "['Minu', '.', 'MIS', 'värvi', 'on', '?', 'Kuidas', 'PALUN', '?']\n",
      "['Minu', '.', 'MIS', 'värvi', 'on', '?', 'Kuidas', 'PALUN', '?']\n",
      "['Minu', 0, 0, 0, '.', 'MIS', 'värvi', 1, 1, 'on', '?', 'Kuidas', 'PALUN', '?']\n"
     ]
    }
   ],
   "source": [
    "import itertools\n",
    "\n",
    "from estnltk import Text\n",
    "from estnltk.text import Layer\n",
    "\n",
    "\n",
    "class UppercasePhraseTagger:\n",
    "    # demo tagger, mis markeerib ära lause piirides järjestikused jooksud suurtähtedega sõnu\n",
    "\n",
    "    def tag(self, text:Text) -> Text:\n",
    "\n",
    "        uppercases = []\n",
    "        prevstart = 0\n",
    "        for sentence in (text.sentences.words):\n",
    "            for idx, word in enumerate(sentence.words):\n",
    "                if word.text.upper() == word.text and word.text.lower() != word.text:\n",
    "                    uppercases.append((idx + prevstart, word))\n",
    "            prevstart += len(sentence)\n",
    "\n",
    "        from operator import itemgetter\n",
    "        from itertools import groupby\n",
    "        rs = []\n",
    "        for k, g in groupby(enumerate(uppercases), lambda i: i[0] - i[1][0]):\n",
    "            r = map(itemgetter(1), g)\n",
    "            rs.append(list(r))\n",
    "\n",
    "\n",
    "        spans = [[j for _, j in i] for i in rs if len(i) > 1]\n",
    "        l = Layer(enveloping='words', name='uppercasephrase', attributes=['phrasetext', 'tag'])\n",
    "\n",
    "        for idx, s in enumerate(spans):\n",
    "            sps = l._add_spans_to_enveloping(s)\n",
    "            sps.phrasetext =  ' '.join([i.text for i in s]).lower()\n",
    "            sps.tag = idx\n",
    "        text._add_layer(l)\n",
    "\n",
    "        return text\n",
    "\n",
    "\n",
    "w = UppercasePhraseTagger()\n",
    "t = w.tag(Text('Minu KARU ON PUNANE. MIS värvi SINU KARU on? Kuidas PALUN?').tag_layer(['words', 'sentences']))\n",
    "t.tag_layer(['morf_analysis'])\n",
    "print(t.uppercasephrase.get_attributes(['phrasetext', 'text']))\n",
    "#[[('karu on punane', 'KARU'), ('karu on punane', 'ON'), ('karu on punane', 'PUNANE')], [('sinu karu', 'SINU'), ('sinu karu', 'KARU')]]\n",
    "\n",
    "print(t.phrasetext)\n",
    "#['karu on punane', 'sinu karu']\n",
    "\n",
    "print(t.uppercasephrase.lemma)\n",
    "# [[['karu'], ['olema', 'olema'], ['punane']], [['sina'], ['karu']]]\n",
    "\n",
    "print([i.text for i in t.words if i not in list(itertools.chain(*t.uppercasephrase.spans))])\n",
    "# ['Minu', '.', 'MIS', 'värvi', 'on', '?', 'Kuidas', 'PALUN', '?']\n",
    "\n",
    "mapping ={i:[j for j in t.uppercasephrase.spans if i in j][0] for i in list(itertools.chain(*t.uppercasephrase.spans))}\n",
    "print([i.text for i in t.words if i not in list(itertools.chain(*t.uppercasephrase.spans))])\n",
    "# ['Minu', '.', 'MIS', 'värvi', 'on', '?', 'Kuidas', 'PALUN', '?']\n",
    "\n",
    "print([i.text if i not in mapping.keys() else mapping[i].tag for i in t.words])\n",
    "# ['Minu', 0, 0, 0, '.', 'MIS', 'värvi', 1, 1, 'on', '?', 'Kuidas', 'PALUN', '?']"
   ]
  }
 ],
 "metadata": {
  "kernelspec": {
   "display_name": "Python [py35]",
   "language": "python",
   "name": "Python [py35]"
  },
  "language_info": {
   "codemirror_mode": {
    "name": "ipython",
    "version": 3
   },
   "file_extension": ".py",
   "mimetype": "text/x-python",
   "name": "python",
   "nbconvert_exporter": "python",
   "pygments_lexer": "ipython3",
   "version": "3.5.3"
  }
 },
 "nbformat": 4,
 "nbformat_minor": 2
}
