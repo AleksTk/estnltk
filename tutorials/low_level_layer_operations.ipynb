{
 "cells": [
  {
   "cell_type": "code",
   "execution_count": 1,
   "metadata": {
    "scrolled": true
   },
   "outputs": [],
   "source": [
    "from estnltk import Span, EnvelopingSpan, Layer\n",
    "from estnltk import Text"
   ]
  },
  {
   "cell_type": "markdown",
   "metadata": {},
   "source": [
    "# Low-level layer operations\n",
    "## Create a layer\n",
    "```python\n",
    "Layer(\n",
    "      name:str=None,\n",
    "      attributes:Union[Tuple, List]=tuple(),\n",
    "      parent:str=None,\n",
    "      enveloping:str=None,\n",
    "      ambiguous:bool=False\n",
    "     )\n",
    "```\n",
    "**name**: the name of the layer, required argument<br/>\n",
    "**attributes**: the list of the attributes of the layer<br/>\n",
    "**parent**: the name of the parent layer<br/>\n",
    "**enveloping**: the layer is enveloping<br/>\n",
    "**ambiguous**: the layer is ambiguous\n",
    "\n",
    "If `parent is not None`, then `enveloping is None`.<br>\n",
    "If `enveloping is not None`, then `parent is None`."
   ]
  },
  {
   "cell_type": "markdown",
   "metadata": {},
   "source": [
    "### Has no parent, is not enveloping, is  not ambiguous"
   ]
  },
  {
   "cell_type": "code",
   "execution_count": 2,
   "metadata": {},
   "outputs": [
    {
     "data": {
      "text/html": [
       "<h4>Layer</h4>\n",
       "<table border=\"1\" class=\"dataframe\">\n",
       "  <thead>\n",
       "    <tr style=\"text-align: right;\">\n",
       "      <th>layer name</th>\n",
       "      <th>attributes</th>\n",
       "      <th>parent</th>\n",
       "      <th>enveloping</th>\n",
       "      <th>ambiguous</th>\n",
       "      <th>span count</th>\n",
       "    </tr>\n",
       "  </thead>\n",
       "  <tbody>\n",
       "    <tr>\n",
       "      <td>test_layer</td>\n",
       "      <td>attr_1</td>\n",
       "      <td>None</td>\n",
       "      <td>None</td>\n",
       "      <td>False</td>\n",
       "      <td>3</td>\n",
       "    </tr>\n",
       "  </tbody>\n",
       "</table>\n",
       "<table border=\"1\" class=\"dataframe\">\n",
       "  <thead>\n",
       "    <tr style=\"text-align: right;\">\n",
       "      <th>text</th>\n",
       "      <th>attr_1</th>\n",
       "    </tr>\n",
       "  </thead>\n",
       "  <tbody>\n",
       "    <tr>\n",
       "      <td>Tere</td>\n",
       "      <td>TERE</td>\n",
       "    </tr>\n",
       "    <tr>\n",
       "      <td>maailm</td>\n",
       "      <td>MAAILM</td>\n",
       "    </tr>\n",
       "    <tr>\n",
       "      <td>!</td>\n",
       "      <td>!</td>\n",
       "    </tr>\n",
       "  </tbody>\n",
       "</table>"
      ],
      "text/plain": [
       "Layer(name=test_layer, spans=SL[Span(Tere, {'attr_1': 'TERE'}),\n",
       "Span(maailm, {'attr_1': 'MAAILM'}),\n",
       "Span(!, {'attr_1': '!'})])"
      ]
     },
     "execution_count": 2,
     "metadata": {},
     "output_type": "execute_result"
    }
   ],
   "source": [
    "text = Text('Tere, maailm!')\n",
    "\n",
    "layer = Layer(name='test_layer',\n",
    "              attributes=['attr_1']\n",
    "              )\n",
    "\n",
    "layer.add_span(Span(start= 0, end= 4, legal_attributes=['attr_1'], attr_1='TERE'))\n",
    "layer.add_span(Span(start= 6, end=12, legal_attributes=['attr_1'], attr_1='MAAILM'))\n",
    "layer.add_span(Span(start=12, end=13, legal_attributes=['attr_1'], attr_1='!'))\n",
    "\n",
    "text['test_layer'] = layer\n",
    "text['test_layer']"
   ]
  },
  {
   "cell_type": "markdown",
   "metadata": {},
   "source": [
    "### Has no parent, is not enveloping, is ambiguous\n",
    "The code below differs from the code above by one line:\n",
    "```python\n",
    "ambiguous=True\n",
    "```\n",
    "Note that in this case equal spans are grouped together."
   ]
  },
  {
   "cell_type": "code",
   "execution_count": 3,
   "metadata": {},
   "outputs": [
    {
     "data": {
      "text/html": [
       "<h4>Layer</h4>\n",
       "<table border=\"1\" class=\"dataframe\">\n",
       "  <thead>\n",
       "    <tr style=\"text-align: right;\">\n",
       "      <th>layer name</th>\n",
       "      <th>attributes</th>\n",
       "      <th>parent</th>\n",
       "      <th>enveloping</th>\n",
       "      <th>ambiguous</th>\n",
       "      <th>span count</th>\n",
       "    </tr>\n",
       "  </thead>\n",
       "  <tbody>\n",
       "    <tr>\n",
       "      <td>test_layer</td>\n",
       "      <td>attr_1</td>\n",
       "      <td>None</td>\n",
       "      <td>None</td>\n",
       "      <td>True</td>\n",
       "      <td>2</td>\n",
       "    </tr>\n",
       "  </tbody>\n",
       "</table>\n",
       "<table border=\"1\" class=\"dataframe\">\n",
       "  <thead>\n",
       "    <tr style=\"text-align: right;\">\n",
       "      <th>text</th>\n",
       "      <th>attr_1</th>\n",
       "    </tr>\n",
       "  </thead>\n",
       "  <tbody>\n",
       "    <tr>\n",
       "      <td>Tere</td>\n",
       "      <td>TERE</td>\n",
       "    </tr>\n",
       "    <tr>\n",
       "      <td>maailm</td>\n",
       "      <td>MAAILM</td>\n",
       "    </tr>\n",
       "    <tr>\n",
       "      <td></td>\n",
       "      <td>MaaIlm</td>\n",
       "    </tr>\n",
       "  </tbody>\n",
       "</table>"
      ],
      "text/plain": [
       "Layer(name=test_layer, spans=SL[AS[Span(Tere, {'attr_1': 'TERE'})],\n",
       "AS[Span(maailm, {'attr_1': 'MAAILM'}), Span(maailm, {'attr_1': 'MaaIlm'})]])"
      ]
     },
     "execution_count": 3,
     "metadata": {},
     "output_type": "execute_result"
    }
   ],
   "source": [
    "text = Text('Tere, maailm!')\n",
    "\n",
    "layer = Layer(name='test_layer',\n",
    "              attributes=['attr_1'],\n",
    "              ambiguous=True\n",
    "              )\n",
    "layer.add_span(Span(start=0, end= 4, legal_attributes=['attr_1'], attr_1='TERE'))\n",
    "layer.add_span(Span(start=6, end=12, legal_attributes=['attr_1'], attr_1='MAAILM'))\n",
    "layer.add_span(Span(start=6, end=12, legal_attributes=['attr_1'], attr_1='MaaIlm'))\n",
    "\n",
    "text['test_layer'] = layer\n",
    "text['test_layer']"
   ]
  },
  {
   "cell_type": "markdown",
   "metadata": {},
   "source": [
    "### Has a parent, is not enveloping, is  ambiguous"
   ]
  },
  {
   "cell_type": "code",
   "execution_count": 5,
   "metadata": {},
   "outputs": [
    {
     "data": {
      "text/html": [
       "<h4>Layer</h4>\n",
       "<table border=\"1\" class=\"dataframe\">\n",
       "  <thead>\n",
       "    <tr style=\"text-align: right;\">\n",
       "      <th>layer name</th>\n",
       "      <th>attributes</th>\n",
       "      <th>parent</th>\n",
       "      <th>enveloping</th>\n",
       "      <th>ambiguous</th>\n",
       "      <th>span count</th>\n",
       "    </tr>\n",
       "  </thead>\n",
       "  <tbody>\n",
       "    <tr>\n",
       "      <td>test_layer</td>\n",
       "      <td>a</td>\n",
       "      <td>words</td>\n",
       "      <td>None</td>\n",
       "      <td>True</td>\n",
       "      <td>4</td>\n",
       "    </tr>\n",
       "  </tbody>\n",
       "</table>\n",
       "<table border=\"1\" class=\"dataframe\">\n",
       "  <thead>\n",
       "    <tr style=\"text-align: right;\">\n",
       "      <th>text</th>\n",
       "      <th>a</th>\n",
       "    </tr>\n",
       "  </thead>\n",
       "  <tbody>\n",
       "    <tr>\n",
       "      <td>Tere</td>\n",
       "      <td>1</td>\n",
       "    </tr>\n",
       "    <tr>\n",
       "      <td></td>\n",
       "      <td>2</td>\n",
       "    </tr>\n",
       "    <tr>\n",
       "      <td>,</td>\n",
       "      <td>1</td>\n",
       "    </tr>\n",
       "    <tr>\n",
       "      <td></td>\n",
       "      <td>2</td>\n",
       "    </tr>\n",
       "    <tr>\n",
       "      <td>maailm</td>\n",
       "      <td>1</td>\n",
       "    </tr>\n",
       "    <tr>\n",
       "      <td></td>\n",
       "      <td>2</td>\n",
       "    </tr>\n",
       "    <tr>\n",
       "      <td>!</td>\n",
       "      <td>1</td>\n",
       "    </tr>\n",
       "    <tr>\n",
       "      <td></td>\n",
       "      <td>2</td>\n",
       "    </tr>\n",
       "  </tbody>\n",
       "</table>"
      ],
      "text/plain": [
       "Layer(name=test_layer, spans=SL[AS[Span(Tere, {'a': 1}), Span(Tere, {'a': 2})],\n",
       "AS[Span(,, {'a': 1}), Span(,, {'a': 2})],\n",
       "AS[Span(maailm, {'a': 1}), Span(maailm, {'a': 2})],\n",
       "AS[Span(!, {'a': 1}), Span(!, {'a': 2})]])"
      ]
     },
     "execution_count": 5,
     "metadata": {},
     "output_type": "execute_result"
    }
   ],
   "source": [
    "text = Text('Tere, maailm!').tag_layer(['words'])\n",
    "\n",
    "layer = Layer(name='test_layer',\n",
    "              attributes=['a'],\n",
    "              parent='words', \n",
    "              ambiguous=True\n",
    "              )\n",
    "for word in text.words:\n",
    "    layer.add_span(Span(parent=word, legal_attributes=['a'], a=1))\n",
    "    # or the same in 3 lines\n",
    "    span = Span(parent=word)\n",
    "    setattr(span, 'a', 2)\n",
    "    layer.add_span(span)\n",
    "\n",
    "text['test_layer'] = layer\n",
    "text['test_layer']"
   ]
  },
  {
   "cell_type": "markdown",
   "metadata": {},
   "source": [
    "### Does not have a parent, Is enveloping, is not  ambiguous"
   ]
  },
  {
   "cell_type": "code",
   "execution_count": 6,
   "metadata": {},
   "outputs": [
    {
     "data": {
      "text/html": [
       "<h4>Layer</h4>\n",
       "<table border=\"1\" class=\"dataframe\">\n",
       "  <thead>\n",
       "    <tr style=\"text-align: right;\">\n",
       "      <th>layer name</th>\n",
       "      <th>attributes</th>\n",
       "      <th>parent</th>\n",
       "      <th>enveloping</th>\n",
       "      <th>ambiguous</th>\n",
       "      <th>span count</th>\n",
       "    </tr>\n",
       "  </thead>\n",
       "  <tbody>\n",
       "    <tr>\n",
       "      <td>test_layer</td>\n",
       "      <td>value</td>\n",
       "      <td>None</td>\n",
       "      <td>words</td>\n",
       "      <td>False</td>\n",
       "      <td>3</td>\n",
       "    </tr>\n",
       "  </tbody>\n",
       "</table>\n",
       "<table border=\"1\" class=\"dataframe\">\n",
       "  <thead>\n",
       "    <tr style=\"text-align: right;\">\n",
       "      <th>text</th>\n",
       "      <th>value</th>\n",
       "    </tr>\n",
       "  </thead>\n",
       "  <tbody>\n",
       "    <tr>\n",
       "      <td>['Kolmkümmend', 'kolm']</td>\n",
       "      <td>33</td>\n",
       "    </tr>\n",
       "    <tr>\n",
       "      <td>['kolm', 'kui']</td>\n",
       "      <td>0</td>\n",
       "    </tr>\n",
       "    <tr>\n",
       "      <td>['kaheksateist']</td>\n",
       "      <td>18</td>\n",
       "    </tr>\n",
       "  </tbody>\n",
       "</table>"
      ],
      "text/plain": [
       "Layer(name=test_layer, spans=SL[ES[Span(Kolmkümmend, {'normalized_form': None}),\n",
       "Span(kolm, {'normalized_form': None})],\n",
       "ES[Span(kolm, {'normalized_form': None}),\n",
       "Span(kui, {'normalized_form': None})],\n",
       "ES[Span(kaheksateist, {'normalized_form': None})]])"
      ]
     },
     "execution_count": 6,
     "metadata": {},
     "output_type": "execute_result"
    }
   ],
   "source": [
    "t = 'Kolmkümmend kolm on suurem kui kaheksateist.'\n",
    "text = Text(t)\n",
    "text.tag_layer(['words'])\n",
    "\n",
    "layer = Layer(name='test_layer', enveloping='words', attributes=['value'], ambiguous=False)\n",
    "\n",
    "spl = EnvelopingSpan(spans=text.words[0:2])\n",
    "spl.value = '33'\n",
    "layer.add_span(spl)\n",
    "\n",
    "spl = EnvelopingSpan(spans=[text.words[1], text.words[4]])\n",
    "spl.value = 0\n",
    "layer.add_span(spl)\n",
    "\n",
    "spl = EnvelopingSpan(spans=text.words[5:6])\n",
    "spl.value = '18'\n",
    "layer.add_span(spl)\n",
    "\n",
    "text['test_layer'] = layer\n",
    "text['test_layer']"
   ]
  },
  {
   "cell_type": "markdown",
   "metadata": {},
   "source": [
    "The next demo phrase tagger marks all consequtive uppercase words inside a sentence."
   ]
  },
  {
   "cell_type": "code",
   "execution_count": 7,
   "metadata": {},
   "outputs": [
    {
     "data": {
      "text/html": [
       "<table border=\"1\" class=\"dataframe\">\n",
       "  <thead>\n",
       "    <tr style=\"text-align: right;\">\n",
       "      <th>text</th>\n",
       "    </tr>\n",
       "  </thead>\n",
       "  <tbody>\n",
       "    <tr>\n",
       "      <td>Minu KARU ON PUNANE. MIS värvi SINU KARU on? Kuidas PALUN?</td>\n",
       "    </tr>\n",
       "  </tbody>\n",
       "</table>\n",
       "<table border=\"1\" class=\"dataframe\">\n",
       "  <thead>\n",
       "    <tr style=\"text-align: right;\">\n",
       "      <th>layer name</th>\n",
       "      <th>attributes</th>\n",
       "      <th>parent</th>\n",
       "      <th>enveloping</th>\n",
       "      <th>ambiguous</th>\n",
       "      <th>span count</th>\n",
       "    </tr>\n",
       "  </thead>\n",
       "  <tbody>\n",
       "    <tr>\n",
       "      <td>sentences</td>\n",
       "      <td></td>\n",
       "      <td>None</td>\n",
       "      <td>words</td>\n",
       "      <td>False</td>\n",
       "      <td>3</td>\n",
       "    </tr>\n",
       "    <tr>\n",
       "      <td>tokens</td>\n",
       "      <td></td>\n",
       "      <td>None</td>\n",
       "      <td>None</td>\n",
       "      <td>False</td>\n",
       "      <td>14</td>\n",
       "    </tr>\n",
       "    <tr>\n",
       "      <td>words</td>\n",
       "      <td>normalized_form</td>\n",
       "      <td>None</td>\n",
       "      <td>None</td>\n",
       "      <td>False</td>\n",
       "      <td>14</td>\n",
       "    </tr>\n",
       "    <tr>\n",
       "      <td>uppercasephrase</td>\n",
       "      <td>phrasetext, tag</td>\n",
       "      <td>None</td>\n",
       "      <td>words</td>\n",
       "      <td>False</td>\n",
       "      <td>2</td>\n",
       "    </tr>\n",
       "  </tbody>\n",
       "</table>"
      ],
      "text/plain": [
       "Text(text=\"Minu KARU ON PUNANE. MIS värvi SINU KARU on? Kuidas PALUN?\")"
      ]
     },
     "execution_count": 7,
     "metadata": {},
     "output_type": "execute_result"
    }
   ],
   "source": [
    "import itertools\n",
    "\n",
    "class UppercasePhraseTagger:\n",
    "    def tag(self, text:Text) -> Text:\n",
    "        uppercases = []\n",
    "        prevstart = 0\n",
    "        for sentence in text.sentences:\n",
    "            for idx, word in enumerate(sentence.words):\n",
    "                if word.text.upper() == word.text and word.text.lower() != word.text:\n",
    "                    uppercases.append((idx + prevstart, word))\n",
    "            prevstart += len(sentence)\n",
    "\n",
    "        from operator import itemgetter\n",
    "        from itertools import groupby\n",
    "        rs = []\n",
    "        for k, g in groupby(enumerate(uppercases), lambda i: i[0] - i[1][0]):\n",
    "            r = map(itemgetter(1), g)\n",
    "            rs.append(list(r))\n",
    "\n",
    "        spans = [[j for _, j in i] for i in rs if len(i) > 1]\n",
    "        l = Layer(name='uppercasephrase', enveloping='words', attributes=['phrasetext', 'tag'])\n",
    "\n",
    "        for idx, s in enumerate(spans):\n",
    "            sps = l.add_span(EnvelopingSpan(spans=s))\n",
    "            sps.phrasetext = ' '.join([i.text for i in s]).lower()\n",
    "            sps.tag = idx\n",
    "        text['uppercasephrase'] = l\n",
    "\n",
    "        return text\n",
    "\n",
    "\n",
    "w = UppercasePhraseTagger()\n",
    "t = Text('Minu KARU ON PUNANE. MIS värvi SINU KARU on? Kuidas PALUN?')\n",
    "t.tag_layer(['words', 'sentences'])\n",
    "w.tag(t)"
   ]
  },
  {
   "cell_type": "code",
   "execution_count": 8,
   "metadata": {},
   "outputs": [
    {
     "data": {
      "text/html": [
       "<h4>Layer</h4>\n",
       "<table border=\"1\" class=\"dataframe\">\n",
       "  <thead>\n",
       "    <tr style=\"text-align: right;\">\n",
       "      <th>layer name</th>\n",
       "      <th>attributes</th>\n",
       "      <th>parent</th>\n",
       "      <th>enveloping</th>\n",
       "      <th>ambiguous</th>\n",
       "      <th>span count</th>\n",
       "    </tr>\n",
       "  </thead>\n",
       "  <tbody>\n",
       "    <tr>\n",
       "      <td>uppercasephrase</td>\n",
       "      <td>phrasetext, tag</td>\n",
       "      <td>None</td>\n",
       "      <td>words</td>\n",
       "      <td>False</td>\n",
       "      <td>2</td>\n",
       "    </tr>\n",
       "  </tbody>\n",
       "</table>\n",
       "<table border=\"1\" class=\"dataframe\">\n",
       "  <thead>\n",
       "    <tr style=\"text-align: right;\">\n",
       "      <th>text</th>\n",
       "      <th>phrasetext</th>\n",
       "      <th>tag</th>\n",
       "    </tr>\n",
       "  </thead>\n",
       "  <tbody>\n",
       "    <tr>\n",
       "      <td>['KARU', 'ON', 'PUNANE']</td>\n",
       "      <td>karu on punane</td>\n",
       "      <td>0</td>\n",
       "    </tr>\n",
       "    <tr>\n",
       "      <td>['SINU', 'KARU']</td>\n",
       "      <td>sinu karu</td>\n",
       "      <td>1</td>\n",
       "    </tr>\n",
       "  </tbody>\n",
       "</table>"
      ],
      "text/plain": [
       "Layer(name=uppercasephrase, spans=SL[ES[Span(KARU, {'normalized_form': None}),\n",
       "Span(ON, {'normalized_form': None}),\n",
       "Span(PUNANE, {'normalized_form': None})],\n",
       "ES[Span(SINU, {'normalized_form': None}),\n",
       "Span(KARU, {'normalized_form': None})]])"
      ]
     },
     "execution_count": 8,
     "metadata": {},
     "output_type": "execute_result"
    }
   ],
   "source": [
    "t['uppercasephrase']"
   ]
  },
  {
   "cell_type": "code",
   "execution_count": 9,
   "metadata": {},
   "outputs": [
    {
     "name": "stdout",
     "output_type": "stream",
     "text": [
      "[[('karu on punane', 'KARU'), ('karu on punane', 'ON'), ('karu on punane', 'PUNANE')], [('sinu karu', 'SINU'), ('sinu karu', 'KARU')]]\n",
      "['karu on punane', 'sinu karu']\n",
      "[[['karu'], ['olema', 'olema'], ['punane']], [['sina'], ['karu']]]\n",
      "['Minu', '.', 'MIS', 'värvi', 'on', '?', 'Kuidas', 'PALUN', '?']\n",
      "['Minu', '.', 'MIS', 'värvi', 'on', '?', 'Kuidas', 'PALUN', '?']\n",
      "['Minu', 0, 0, 0, '.', 'MIS', 'värvi', 1, 1, 'on', '?', 'Kuidas', 'PALUN', '?']\n"
     ]
    }
   ],
   "source": [
    "t.tag_layer(['morph_analysis'])\n",
    "print(t.uppercasephrase.get_attributes(['phrasetext', 'text']))\n",
    "#[[('karu on punane', 'KARU'), ('karu on punane', 'ON'), ('karu on punane', 'PUNANE')], [('sinu karu', 'SINU'), ('sinu karu', 'KARU')]]\n",
    "\n",
    "print(t.phrasetext)\n",
    "#['karu on punane', 'sinu karu']\n",
    "\n",
    "print(t.uppercasephrase.lemma)\n",
    "# [[['karu'], ['olema', 'olema'], ['punane']], [['sina'], ['karu']]]\n",
    "\n",
    "print([i.text for i in t.words if i not in list(itertools.chain(*t.uppercasephrase.spans))])\n",
    "# ['Minu', '.', 'MIS', 'värvi', 'on', '?', 'Kuidas', 'PALUN', '?']\n",
    "\n",
    "mapping ={i:[j for j in t.uppercasephrase.spans if i in j][0] for i in list(itertools.chain(*t.uppercasephrase.spans))}\n",
    "print([i.text for i in t.words if i not in list(itertools.chain(*t.uppercasephrase.spans))])\n",
    "# ['Minu', '.', 'MIS', 'värvi', 'on', '?', 'Kuidas', 'PALUN', '?']\n",
    "\n",
    "print([i.text if i not in mapping.keys() else mapping[i].tag for i in t.words])\n",
    "# ['Minu', 0, 0, 0, '.', 'MIS', 'värvi', 1, 1, 'on', '?', 'Kuidas', 'PALUN', '?']"
   ]
  },
  {
   "cell_type": "markdown",
   "metadata": {},
   "source": [
    "# Rewriting"
   ]
  },
  {
   "cell_type": "markdown",
   "metadata": {},
   "source": [
    "Rewriter is a class that contains a `rewrite` method. This method is used to convert the input layer to the resulting layer span by span. If the layer is not ambiguous, the span data is passed as a dict, and if the layer is ambiguous, the span data is passed as a list of dicts. If `rewrite` returns `None`, the corresponding span is not created.\n",
    "\n",
    "Rewriting a layer `L` creates a new layer `N` such that the parent of `N` is `L`.\n",
    "\n",
    "In the next example 'test_layer' contains spans with uppercase values in the 'upper' attribute for all but the first word."
   ]
  },
  {
   "cell_type": "code",
   "execution_count": 10,
   "metadata": {},
   "outputs": [
    {
     "data": {
      "text/html": [
       "<h4>Layer</h4>\n",
       "<table border=\"1\" class=\"dataframe\">\n",
       "  <thead>\n",
       "    <tr style=\"text-align: right;\">\n",
       "      <th>layer name</th>\n",
       "      <th>attributes</th>\n",
       "      <th>parent</th>\n",
       "      <th>enveloping</th>\n",
       "      <th>ambiguous</th>\n",
       "      <th>span count</th>\n",
       "    </tr>\n",
       "  </thead>\n",
       "  <tbody>\n",
       "    <tr>\n",
       "      <td>test_layer</td>\n",
       "      <td>upper</td>\n",
       "      <td>words</td>\n",
       "      <td>None</td>\n",
       "      <td>False</td>\n",
       "      <td>2</td>\n",
       "    </tr>\n",
       "  </tbody>\n",
       "</table>\n",
       "<table border=\"1\" class=\"dataframe\">\n",
       "  <thead>\n",
       "    <tr style=\"text-align: right;\">\n",
       "      <th>text</th>\n",
       "      <th>upper</th>\n",
       "    </tr>\n",
       "  </thead>\n",
       "  <tbody>\n",
       "    <tr>\n",
       "      <td>maailm</td>\n",
       "      <td>MAAILM</td>\n",
       "    </tr>\n",
       "    <tr>\n",
       "      <td>!</td>\n",
       "      <td>!</td>\n",
       "    </tr>\n",
       "  </tbody>\n",
       "</table>"
      ],
      "text/plain": [
       "Layer(name=test_layer, spans=SL[Span(maailm, {'upper': 'MAAILM'}),\n",
       "Span(!, {'upper': '!'})])"
      ]
     },
     "execution_count": 10,
     "metadata": {},
     "output_type": "execute_result"
    }
   ],
   "source": [
    "class TestRewriter:\n",
    "    def rewrite(self, record):\n",
    "        if record['start'] == 0:\n",
    "            return None\n",
    "        record['upper'] = record['text'].upper()\n",
    "        return record\n",
    "\n",
    "t = Text('Tere maailm!')\n",
    "t.tag_layer(['words'])\n",
    "test_layer = t['words'].rewrite(source_attributes=('text',),\n",
    "                                target_attributes=('upper',),\n",
    "                                rules = TestRewriter(),\n",
    "                                name='test_layer')\n",
    "t['test_layer'] = test_layer\n",
    "t['test_layer']"
   ]
  },
  {
   "cell_type": "markdown",
   "metadata": {},
   "source": [
    "The previous example demonstrates the case when the rewritten layer and the resulting layer are not ambiguous.\n",
    "\n",
    "In the next example an ambiguous layer is rewritten and the result is also an ambiguous layer. The demo rewriter makes a copy of the first analysis of every word."
   ]
  },
  {
   "cell_type": "code",
   "execution_count": 11,
   "metadata": {},
   "outputs": [
    {
     "data": {
      "text/html": [
       "<h4>Layer</h4>\n",
       "<table border=\"1\" class=\"dataframe\">\n",
       "  <thead>\n",
       "    <tr style=\"text-align: right;\">\n",
       "      <th>layer name</th>\n",
       "      <th>attributes</th>\n",
       "      <th>parent</th>\n",
       "      <th>enveloping</th>\n",
       "      <th>ambiguous</th>\n",
       "      <th>span count</th>\n",
       "    </tr>\n",
       "  </thead>\n",
       "  <tbody>\n",
       "    <tr>\n",
       "      <td>demo</td>\n",
       "      <td>lemma, root, root_tokens, ending, clitic, form, partofspeech</td>\n",
       "      <td>morph_analysis</td>\n",
       "      <td>None</td>\n",
       "      <td>True</td>\n",
       "      <td>3</td>\n",
       "    </tr>\n",
       "  </tbody>\n",
       "</table>\n",
       "<table border=\"1\" class=\"dataframe\">\n",
       "  <thead>\n",
       "    <tr style=\"text-align: right;\">\n",
       "      <th>text</th>\n",
       "      <th>lemma</th>\n",
       "      <th>root</th>\n",
       "      <th>root_tokens</th>\n",
       "      <th>ending</th>\n",
       "      <th>clitic</th>\n",
       "      <th>form</th>\n",
       "      <th>partofspeech</th>\n",
       "    </tr>\n",
       "  </thead>\n",
       "  <tbody>\n",
       "    <tr>\n",
       "      <td>Tere</td>\n",
       "      <td>tere</td>\n",
       "      <td>tere</td>\n",
       "      <td>('tere',)</td>\n",
       "      <td>0</td>\n",
       "      <td></td>\n",
       "      <td></td>\n",
       "      <td>I</td>\n",
       "    </tr>\n",
       "    <tr>\n",
       "      <td></td>\n",
       "      <td>tere</td>\n",
       "      <td>tere</td>\n",
       "      <td>('tere',)</td>\n",
       "      <td>0</td>\n",
       "      <td></td>\n",
       "      <td></td>\n",
       "      <td>I</td>\n",
       "    </tr>\n",
       "    <tr>\n",
       "      <td>maailm</td>\n",
       "      <td>maailm</td>\n",
       "      <td>maa_ilm</td>\n",
       "      <td>('maa', 'ilm')</td>\n",
       "      <td>0</td>\n",
       "      <td></td>\n",
       "      <td>sg n</td>\n",
       "      <td>S</td>\n",
       "    </tr>\n",
       "    <tr>\n",
       "      <td></td>\n",
       "      <td>maailm</td>\n",
       "      <td>maa_ilm</td>\n",
       "      <td>('maa', 'ilm')</td>\n",
       "      <td>0</td>\n",
       "      <td></td>\n",
       "      <td>sg n</td>\n",
       "      <td>S</td>\n",
       "    </tr>\n",
       "    <tr>\n",
       "      <td>!</td>\n",
       "      <td>!</td>\n",
       "      <td>!</td>\n",
       "      <td>('!',)</td>\n",
       "      <td></td>\n",
       "      <td></td>\n",
       "      <td></td>\n",
       "      <td>Z</td>\n",
       "    </tr>\n",
       "    <tr>\n",
       "      <td></td>\n",
       "      <td>!</td>\n",
       "      <td>!</td>\n",
       "      <td>('!',)</td>\n",
       "      <td></td>\n",
       "      <td></td>\n",
       "      <td></td>\n",
       "      <td>Z</td>\n",
       "    </tr>\n",
       "  </tbody>\n",
       "</table>"
      ],
      "text/plain": [
       "Layer(name=demo, spans=SL[SL[Span(Tere, {'clitic': '', 'ending': '0', 'form': '', 'lemma': 'tere', 'partofspeech': 'I', 'root': 'tere', 'root_tokens': ('tere',)}),\n",
       "Span(Tere, {'clitic': '', 'ending': '0', 'form': '', 'lemma': 'tere', 'partofspeech': 'I', 'root': 'tere', 'root_tokens': ('tere',)})],\n",
       "SL[Span(maailm, {'clitic': '', 'ending': '0', 'form': 'sg n', 'lemma': 'maailm', 'partofspeech': 'S', 'root': 'maa_ilm', 'root_tokens': ('maa', 'ilm')}),\n",
       "Span(maailm, {'clitic': '', 'ending': '0', 'form': 'sg n', 'lemma': 'maailm', 'partofspeech': 'S', 'root': 'maa_ilm', 'root_tokens': ('maa', 'ilm')})],\n",
       "SL[Span(!, {'clitic': '', 'ending': '', 'form': '', 'lemma': '!', 'partofspeech': 'Z', 'root': '!', 'root_tokens': ('!',)}),\n",
       "Span(!, {'clitic': '', 'ending': '', 'form': '', 'lemma': '!', 'partofspeech': 'Z', 'root': '!', 'root_tokens': ('!',)})]])"
      ]
     },
     "execution_count": 11,
     "metadata": {},
     "output_type": "execute_result"
    }
   ],
   "source": [
    "class AmbiguousLayerRewriter:\n",
    "    def rewrite(self, records):\n",
    "        records.append(records[0])\n",
    "        return records\n",
    "\n",
    "t = Text('Tere maailm!').analyse('morphology')\n",
    "input_layer = t['morph_analysis']\n",
    "t['demo'] = input_layer.rewrite(source_attributes=input_layer.attributes,\n",
    "                                target_attributes=input_layer.attributes,\n",
    "                                rules=AmbiguousLayerRewriter(),                                       \n",
    "                                name='demo', \n",
    "                                ambiguous=True)\n",
    "t['demo']"
   ]
  },
  {
   "cell_type": "markdown",
   "metadata": {},
   "source": [
    "The rewriting mechanism does not work with enveloping layers. Here is an example how to create a new layer on top of enveloping layer."
   ]
  },
  {
   "cell_type": "code",
   "execution_count": 12,
   "metadata": {
    "scrolled": true
   },
   "outputs": [
    {
     "data": {
      "text/html": [
       "<h4>Layer</h4>\n",
       "<table border=\"1\" class=\"dataframe\">\n",
       "  <thead>\n",
       "    <tr style=\"text-align: right;\">\n",
       "      <th>layer name</th>\n",
       "      <th>attributes</th>\n",
       "      <th>parent</th>\n",
       "      <th>enveloping</th>\n",
       "      <th>ambiguous</th>\n",
       "      <th>span count</th>\n",
       "    </tr>\n",
       "  </thead>\n",
       "  <tbody>\n",
       "    <tr>\n",
       "      <td>sentence_type</td>\n",
       "      <td>type</td>\n",
       "      <td>sentences</td>\n",
       "      <td>None</td>\n",
       "      <td>False</td>\n",
       "      <td>3</td>\n",
       "    </tr>\n",
       "  </tbody>\n",
       "</table>\n",
       "<table border=\"1\" class=\"dataframe\">\n",
       "  <thead>\n",
       "    <tr style=\"text-align: right;\">\n",
       "      <th>text</th>\n",
       "      <th>type</th>\n",
       "    </tr>\n",
       "  </thead>\n",
       "  <tbody>\n",
       "    <tr>\n",
       "      <td>['Esimene', 'lause', '?']</td>\n",
       "      <td>question</td>\n",
       "    </tr>\n",
       "    <tr>\n",
       "      <td>['Teine', 'lause', '!']</td>\n",
       "      <td>exclamation</td>\n",
       "    </tr>\n",
       "    <tr>\n",
       "      <td>['Kolmas', 'lause', '.']</td>\n",
       "      <td>statement</td>\n",
       "    </tr>\n",
       "  </tbody>\n",
       "</table>"
      ],
      "text/plain": [
       "Layer(name=sentence_type, spans=SL[ES[Span(Esimene, {'normalized_form': None}),\n",
       "Span(lause, {'normalized_form': None}),\n",
       "Span(?, {'normalized_form': None})],\n",
       "ES[Span(Teine, {'normalized_form': None}),\n",
       "Span(lause, {'normalized_form': None}),\n",
       "Span(!, {'normalized_form': None})],\n",
       "ES[Span(Kolmas, {'normalized_form': None}),\n",
       "Span(lause, {'normalized_form': None}),\n",
       "Span(., {'normalized_form': None})]])"
      ]
     },
     "execution_count": 12,
     "metadata": {},
     "output_type": "execute_result"
    }
   ],
   "source": [
    "text = Text('Esimene lause? Teine lause! Kolmas lause.').analyse('segmentation')\n",
    "sentence_types={'.':'statement', '?':'question', '!':'exclamation'}\n",
    "layer = Layer(name='sentence_type', parent='sentences', attributes=('type',))\n",
    "for s in text['sentences']:\n",
    "    s.type = sentence_types.get(s[-1].text)\n",
    "    layer.add_span(s)\n",
    "\n",
    "text['sentence_type'] = layer\n",
    "text['sentence_type']"
   ]
  },
  {
   "cell_type": "markdown",
   "metadata": {},
   "source": [
    "# Attribute lists\n",
    "Immutable lists for layer attribute value representation."
   ]
  },
  {
   "cell_type": "code",
   "execution_count": 13,
   "metadata": {},
   "outputs": [],
   "source": [
    "from estnltk.layer import AttributeList\n",
    "from estnltk.layer import AmbiguousAttributeList\n",
    "from estnltk.layer import AttributeTupleList\n",
    "from estnltk.layer import AmbiguousAttributeTupleList"
   ]
  },
  {
   "cell_type": "code",
   "execution_count": 14,
   "metadata": {},
   "outputs": [
    {
     "data": {
      "text/html": [
       "<h4>AttributeList</h4>\n",
       "<table border=\"1\" class=\"dataframe\">\n",
       "  <thead>\n",
       "    <tr style=\"text-align: right;\">\n",
       "      <th></th>\n",
       "      <th>attr</th>\n",
       "    </tr>\n",
       "  </thead>\n",
       "  <tbody>\n",
       "    <tr>\n",
       "      <td>0</td>\n",
       "      <td>1</td>\n",
       "    </tr>\n",
       "    <tr>\n",
       "      <td>1</td>\n",
       "      <td>2</td>\n",
       "    </tr>\n",
       "    <tr>\n",
       "      <td>2</td>\n",
       "      <td>3</td>\n",
       "    </tr>\n",
       "    <tr>\n",
       "      <td>3</td>\n",
       "      <td>4</td>\n",
       "    </tr>\n",
       "  </tbody>\n",
       "</table>"
      ],
      "text/plain": [
       "AttributeList([1, 2, 3, 4], ('attr',))"
      ]
     },
     "execution_count": 14,
     "metadata": {},
     "output_type": "execute_result"
    }
   ],
   "source": [
    "al = AttributeList([1,2,3,4], 'attr')\n",
    "al"
   ]
  },
  {
   "cell_type": "code",
   "execution_count": 15,
   "metadata": {},
   "outputs": [
    {
     "data": {
      "text/html": [
       "<h4>AmbiguousAttributeList</h4>\n",
       "<table border=\"1\" class=\"dataframe\">\n",
       "  <thead>\n",
       "    <tr style=\"text-align: right;\">\n",
       "      <th></th>\n",
       "      <th>attr</th>\n",
       "    </tr>\n",
       "  </thead>\n",
       "  <tbody>\n",
       "    <tr>\n",
       "      <td>0</td>\n",
       "      <td>1</td>\n",
       "    </tr>\n",
       "    <tr>\n",
       "      <td></td>\n",
       "      <td>2</td>\n",
       "    </tr>\n",
       "    <tr>\n",
       "      <td>1</td>\n",
       "      <td>3</td>\n",
       "    </tr>\n",
       "    <tr>\n",
       "      <td></td>\n",
       "      <td>4</td>\n",
       "    </tr>\n",
       "    <tr>\n",
       "      <td>2</td>\n",
       "      <td>5</td>\n",
       "    </tr>\n",
       "  </tbody>\n",
       "</table>"
      ],
      "text/plain": [
       "AmbiguousAttributeList([[1, 2], [3, 4], [5]], ('attr',))"
      ]
     },
     "execution_count": 15,
     "metadata": {},
     "output_type": "execute_result"
    }
   ],
   "source": [
    "aal = AmbiguousAttributeList([[1,2], [3,4], [5]], 'attr')\n",
    "aal"
   ]
  },
  {
   "cell_type": "code",
   "execution_count": 16,
   "metadata": {},
   "outputs": [
    {
     "data": {
      "text/html": [
       "<h4>AttributeTupleList</h4>\n",
       "<table border=\"1\" class=\"dataframe\">\n",
       "  <thead>\n",
       "    <tr style=\"text-align: right;\">\n",
       "      <th></th>\n",
       "      <th>attr_1</th>\n",
       "      <th>attr_2</th>\n",
       "      <th>attr_3</th>\n",
       "    </tr>\n",
       "  </thead>\n",
       "  <tbody>\n",
       "    <tr>\n",
       "      <td>0</td>\n",
       "      <td>1</td>\n",
       "      <td>2</td>\n",
       "      <td>3</td>\n",
       "    </tr>\n",
       "    <tr>\n",
       "      <td>1</td>\n",
       "      <td>4</td>\n",
       "      <td>5</td>\n",
       "      <td>6</td>\n",
       "    </tr>\n",
       "    <tr>\n",
       "      <td>2</td>\n",
       "      <td>7</td>\n",
       "      <td>8</td>\n",
       "      <td>9</td>\n",
       "    </tr>\n",
       "  </tbody>\n",
       "</table>"
      ],
      "text/plain": [
       "AttributeTupleList([[1, 2, 3], [4, 5, 6], [7, 8, 9]], ('attr_1', 'attr_2', 'attr_3'))"
      ]
     },
     "execution_count": 16,
     "metadata": {},
     "output_type": "execute_result"
    }
   ],
   "source": [
    "atl = AttributeTupleList([[1,2,3], [4,5,6], [7,8,9]], ['attr_1', 'attr_2', 'attr_3'])\n",
    "atl.index = False\n",
    "atl"
   ]
  },
  {
   "cell_type": "code",
   "execution_count": 17,
   "metadata": {},
   "outputs": [
    {
     "data": {
      "text/html": [
       "<h4>AmbiguousAttributeTupleList</h4>\n",
       "<table border=\"1\" class=\"dataframe\">\n",
       "  <thead>\n",
       "    <tr style=\"text-align: right;\">\n",
       "      <th></th>\n",
       "      <th>attr_1</th>\n",
       "      <th>attr_2</th>\n",
       "    </tr>\n",
       "  </thead>\n",
       "  <tbody>\n",
       "    <tr>\n",
       "      <td>0</td>\n",
       "      <td>1</td>\n",
       "      <td>2</td>\n",
       "    </tr>\n",
       "    <tr>\n",
       "      <td></td>\n",
       "      <td>3</td>\n",
       "      <td>4</td>\n",
       "    </tr>\n",
       "    <tr>\n",
       "      <td>1</td>\n",
       "      <td>5</td>\n",
       "      <td>6</td>\n",
       "    </tr>\n",
       "    <tr>\n",
       "      <td></td>\n",
       "      <td>7</td>\n",
       "      <td>8</td>\n",
       "    </tr>\n",
       "    <tr>\n",
       "      <td></td>\n",
       "      <td>9</td>\n",
       "      <td>10</td>\n",
       "    </tr>\n",
       "    <tr>\n",
       "      <td>2</td>\n",
       "      <td>11</td>\n",
       "      <td>12</td>\n",
       "    </tr>\n",
       "  </tbody>\n",
       "</table>"
      ],
      "text/plain": [
       "AmbiguousAttributeTupleList([[[1, 2], [3, 4]], [[5, 6], [7, 8], [9, 10]], [[11, 12]]], ('attr_1', 'attr_2'))"
      ]
     },
     "execution_count": 17,
     "metadata": {},
     "output_type": "execute_result"
    }
   ],
   "source": [
    "aatl = AmbiguousAttributeTupleList([[[1,2], [3,4]], [[5,6], [7,8], [9,10]], [[11,12]]],\n",
    "                                   ['attr_1', 'attr_2'])\n",
    "aatl"
   ]
  }
 ],
 "metadata": {
  "kernelspec": {
   "display_name": "Python 3",
   "language": "python",
   "name": "python3"
  },
  "language_info": {
   "codemirror_mode": {
    "name": "ipython",
    "version": 3
   },
   "file_extension": ".py",
   "mimetype": "text/x-python",
   "name": "python",
   "nbconvert_exporter": "python",
   "pygments_lexer": "ipython3",
   "version": "3.5.4"
  }
 },
 "nbformat": 4,
 "nbformat_minor": 2
}
