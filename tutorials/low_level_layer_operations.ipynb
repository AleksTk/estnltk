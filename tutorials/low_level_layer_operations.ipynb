{
 "cells": [
  {
   "cell_type": "code",
   "execution_count": 1,
   "metadata": {
    "collapsed": true
   },
   "outputs": [],
   "source": [
    "from estnltk import Text\n",
    "from estnltk.text import Span, SpanList, Layer"
   ]
  },
  {
   "cell_type": "markdown",
   "metadata": {},
   "source": [
    "# Low-level layer operations\n",
    "## Create a layer\n",
    "```python\n",
    "Layer(\n",
    "      name:str=None,\n",
    "      attributes:Union[Tuple, List]=tuple(),\n",
    "      parent:str=None,\n",
    "      enveloping:str=None,\n",
    "      ambiguous:bool=False\n",
    "     )\n",
    "```\n",
    "**name**: the name of the layer, required argument<br/>\n",
    "**attributes**: the list of the attributes of the layer<br/>\n",
    "**parent**: the name of the parent layer<br/>\n",
    "**enveloping**: the layer is enveloping<br/>\n",
    "**ambiguous**: the layer is ambiguous\n",
    "\n",
    "### Has a parent, is not enveloping, is  ambiguous"
   ]
  },
  {
   "cell_type": "code",
   "execution_count": 2,
   "metadata": {
    "collapsed": false
   },
   "outputs": [],
   "source": [
    "layer = Layer(name='test_layer',\n",
    "              attributes=['a'],\n",
    "              parent='words', \n",
    "              ambiguous=True\n",
    "              )"
   ]
  },
  {
   "cell_type": "markdown",
   "metadata": {},
   "source": [
    "Add spans and attributes"
   ]
  },
  {
   "cell_type": "code",
   "execution_count": 3,
   "metadata": {
    "collapsed": false
   },
   "outputs": [
    {
     "data": {
      "text/html": [
       "<table border=\"1\" class=\"dataframe\">\n",
       "  <thead>\n",
       "    <tr style=\"text-align: right;\">\n",
       "      <th>text</th>\n",
       "      <th>a</th>\n",
       "    </tr>\n",
       "  </thead>\n",
       "  <tbody>\n",
       "    <tr>\n",
       "      <td>Tere</td>\n",
       "      <td>1</td>\n",
       "    </tr>\n",
       "    <tr>\n",
       "      <td></td>\n",
       "      <td>2</td>\n",
       "    </tr>\n",
       "    <tr>\n",
       "      <td>maailm</td>\n",
       "      <td>1</td>\n",
       "    </tr>\n",
       "    <tr>\n",
       "      <td></td>\n",
       "      <td>2</td>\n",
       "    </tr>\n",
       "    <tr>\n",
       "      <td>!</td>\n",
       "      <td>1</td>\n",
       "    </tr>\n",
       "    <tr>\n",
       "      <td></td>\n",
       "      <td>2</td>\n",
       "    </tr>\n",
       "  </tbody>\n",
       "</table>"
      ],
      "text/plain": [
       "<estnltk.text.Layer at 0x7f447ad2b6d8>"
      ]
     },
     "execution_count": 3,
     "metadata": {},
     "output_type": "execute_result"
    }
   ],
   "source": [
    "text = Text('Tere maailm!').tag_layer(['words'])\n",
    "\n",
    "for word in text.words:\n",
    "    layer.add_span(Span(parent=word)).a = 1\n",
    "    layer.add_span(Span(parent=word)).a = 2\n",
    "\n",
    "text['test_layer'] = layer\n",
    "text['test_layer']"
   ]
  },
  {
   "cell_type": "markdown",
   "metadata": {},
   "source": [
    "### Does not have a parent, Is enveloping, is not  ambiguous"
   ]
  },
  {
   "cell_type": "code",
   "execution_count": 4,
   "metadata": {
    "collapsed": false
   },
   "outputs": [
    {
     "data": {
      "text/html": [
       "<table border=\"1\" class=\"dataframe\">\n",
       "  <thead>\n",
       "    <tr style=\"text-align: right;\">\n",
       "      <th>text</th>\n",
       "      <th>value</th>\n",
       "    </tr>\n",
       "  </thead>\n",
       "  <tbody>\n",
       "    <tr>\n",
       "      <td><b>Kolmkümmend</b> <b>kolm</b></td>\n",
       "      <td>33</td>\n",
       "    </tr>\n",
       "    <tr>\n",
       "      <td><b>kaheksateist</b></td>\n",
       "      <td>18</td>\n",
       "    </tr>\n",
       "  </tbody>\n",
       "</table>"
      ],
      "text/plain": [
       "<estnltk.text.Layer at 0x7f447ad45c50>"
      ]
     },
     "execution_count": 4,
     "metadata": {},
     "output_type": "execute_result"
    }
   ],
   "source": [
    "t = 'Kolmkümmend kolm on suurem kui kaheksateist.'\n",
    "text = Text(t)\n",
    "text.tag_layer(['words'])\n",
    "\n",
    "layer = Layer(name='test_layer', enveloping='words', attributes=['value'], ambiguous=False)\n",
    "\n",
    "spl = SpanList()\n",
    "spl.spans = text.words[0:2]\n",
    "spl.value = '33'\n",
    "layer.add_span(spl)\n",
    "spl = SpanList()\n",
    "spl.spans = text.words[5:6]\n",
    "spl.value = '18'\n",
    "layer.add_span(spl)\n",
    "\n",
    "text['test_layer'] = layer\n",
    "text['test_layer']"
   ]
  },
  {
   "cell_type": "markdown",
   "metadata": {},
   "source": [
    "The next demo phrase tagger marks all consequtive uppercase words inside a sentence."
   ]
  },
  {
   "cell_type": "code",
   "execution_count": 5,
   "metadata": {
    "collapsed": false
   },
   "outputs": [
    {
     "data": {
      "text/html": [
       "<table border=\"1\" class=\"dataframe\">\n",
       "  <thead>\n",
       "    <tr style=\"text-align: right;\">\n",
       "      <th>text</th>\n",
       "    </tr>\n",
       "  </thead>\n",
       "  <tbody>\n",
       "    <tr>\n",
       "      <td>Minu KARU ON PUNANE. MIS värvi SINU KARU on? Kuidas PALUN?</td>\n",
       "    </tr>\n",
       "  </tbody>\n",
       "</table>\n",
       "<table border=\"1\" class=\"dataframe\">\n",
       "  <thead>\n",
       "    <tr style=\"text-align: right;\">\n",
       "      <th>layer</th>\n",
       "      <th>attributes</th>\n",
       "      <th>parent</th>\n",
       "      <th>enveloping</th>\n",
       "      <th>ambiguous</th>\n",
       "      <th>number of spans</th>\n",
       "    </tr>\n",
       "  </thead>\n",
       "  <tbody>\n",
       "    <tr>\n",
       "      <td>tokens</td>\n",
       "      <td></td>\n",
       "      <td>None</td>\n",
       "      <td>None</td>\n",
       "      <td>False</td>\n",
       "      <td>14</td>\n",
       "    </tr>\n",
       "    <tr>\n",
       "      <td>compound_tokens</td>\n",
       "      <td>type</td>\n",
       "      <td>None</td>\n",
       "      <td>tokens</td>\n",
       "      <td>False</td>\n",
       "      <td>0</td>\n",
       "    </tr>\n",
       "    <tr>\n",
       "      <td>words</td>\n",
       "      <td></td>\n",
       "      <td>None</td>\n",
       "      <td>None</td>\n",
       "      <td>False</td>\n",
       "      <td>14</td>\n",
       "    </tr>\n",
       "    <tr>\n",
       "      <td>sentences</td>\n",
       "      <td></td>\n",
       "      <td>None</td>\n",
       "      <td>words</td>\n",
       "      <td>False</td>\n",
       "      <td>3</td>\n",
       "    </tr>\n",
       "    <tr>\n",
       "      <td>uppercasephrase</td>\n",
       "      <td>phrasetext, tag</td>\n",
       "      <td>None</td>\n",
       "      <td>words</td>\n",
       "      <td>False</td>\n",
       "      <td>2</td>\n",
       "    </tr>\n",
       "  </tbody>\n",
       "</table>"
      ],
      "text/plain": [
       "Text(text=\"Minu KARU ON PUNANE. MIS värvi SINU KARU on? Kuidas PALUN?\")"
      ]
     },
     "execution_count": 5,
     "metadata": {},
     "output_type": "execute_result"
    }
   ],
   "source": [
    "import itertools\n",
    "\n",
    "class UppercasePhraseTagger:\n",
    "    def tag(self, text:Text) -> Text:\n",
    "        uppercases = []\n",
    "        prevstart = 0\n",
    "        for sentence in (text.sentences.words):\n",
    "            for idx, word in enumerate(sentence.words):\n",
    "                if word.text.upper() == word.text and word.text.lower() != word.text:\n",
    "                    uppercases.append((idx + prevstart, word))\n",
    "            prevstart += len(sentence)\n",
    "\n",
    "        from operator import itemgetter\n",
    "        from itertools import groupby\n",
    "        rs = []\n",
    "        for k, g in groupby(enumerate(uppercases), lambda i: i[0] - i[1][0]):\n",
    "            r = map(itemgetter(1), g)\n",
    "            rs.append(list(r))\n",
    "\n",
    "        spans = [[j for _, j in i] for i in rs if len(i) > 1]\n",
    "        l = Layer(name='uppercasephrase', enveloping='words', attributes=['phrasetext', 'tag'])\n",
    "\n",
    "        for idx, s in enumerate(spans):\n",
    "            sps = l._add_spans_to_enveloping(s)\n",
    "            sps.phrasetext =  ' '.join([i.text for i in s]).lower()\n",
    "            sps.tag = idx\n",
    "        text._add_layer(l)\n",
    "\n",
    "        return text\n",
    "\n",
    "\n",
    "w = UppercasePhraseTagger()\n",
    "t = Text('Minu KARU ON PUNANE. MIS värvi SINU KARU on? Kuidas PALUN?')\n",
    "t.tag_layer(['words', 'sentences'])\n",
    "w.tag(t)"
   ]
  },
  {
   "cell_type": "code",
   "execution_count": 6,
   "metadata": {
    "collapsed": false
   },
   "outputs": [
    {
     "data": {
      "text/html": [
       "<table border=\"1\" class=\"dataframe\">\n",
       "  <thead>\n",
       "    <tr style=\"text-align: right;\">\n",
       "      <th>text</th>\n",
       "      <th>phrasetext</th>\n",
       "      <th>tag</th>\n",
       "    </tr>\n",
       "  </thead>\n",
       "  <tbody>\n",
       "    <tr>\n",
       "      <td><b>KARU</b> <b>ON</b> <b>PUNANE</b></td>\n",
       "      <td>karu on punane</td>\n",
       "      <td>0</td>\n",
       "    </tr>\n",
       "    <tr>\n",
       "      <td><b>SINU</b> <b>KARU</b></td>\n",
       "      <td>sinu karu</td>\n",
       "      <td>1</td>\n",
       "    </tr>\n",
       "  </tbody>\n",
       "</table>"
      ],
      "text/plain": [
       "<estnltk.text.Layer at 0x7f447acdfc18>"
      ]
     },
     "execution_count": 6,
     "metadata": {},
     "output_type": "execute_result"
    }
   ],
   "source": [
    "t['uppercasephrase']"
   ]
  },
  {
   "cell_type": "code",
   "execution_count": 7,
   "metadata": {
    "collapsed": false
   },
   "outputs": [
    {
     "name": "stdout",
     "output_type": "stream",
     "text": [
      "[[('karu on punane', 'KARU'), ('karu on punane', 'ON'), ('karu on punane', 'PUNANE')], [('sinu karu', 'SINU'), ('sinu karu', 'KARU')]]\n",
      "['karu on punane', 'sinu karu']\n",
      "[[['karu'], ['olema', 'olema'], ['punane']], [['sina'], ['karu']]]\n",
      "['Minu', '.', 'MIS', 'värvi', 'on', '?', 'Kuidas', 'PALUN', '?']\n",
      "['Minu', '.', 'MIS', 'värvi', 'on', '?', 'Kuidas', 'PALUN', '?']\n",
      "['Minu', 0, 0, 0, '.', 'MIS', 'värvi', 1, 1, 'on', '?', 'Kuidas', 'PALUN', '?']\n"
     ]
    }
   ],
   "source": [
    "t.tag_layer(['morph_analysis'])\n",
    "print(t.uppercasephrase.get_attributes(['phrasetext', 'text']))\n",
    "#[[('karu on punane', 'KARU'), ('karu on punane', 'ON'), ('karu on punane', 'PUNANE')], [('sinu karu', 'SINU'), ('sinu karu', 'KARU')]]\n",
    "\n",
    "print(t.phrasetext)\n",
    "#['karu on punane', 'sinu karu']\n",
    "\n",
    "print(t.uppercasephrase.lemma)\n",
    "# [[['karu'], ['olema', 'olema'], ['punane']], [['sina'], ['karu']]]\n",
    "\n",
    "print([i.text for i in t.words if i not in list(itertools.chain(*t.uppercasephrase.spans))])\n",
    "# ['Minu', '.', 'MIS', 'värvi', 'on', '?', 'Kuidas', 'PALUN', '?']\n",
    "\n",
    "mapping ={i:[j for j in t.uppercasephrase.spans if i in j][0] for i in list(itertools.chain(*t.uppercasephrase.spans))}\n",
    "print([i.text for i in t.words if i not in list(itertools.chain(*t.uppercasephrase.spans))])\n",
    "# ['Minu', '.', 'MIS', 'värvi', 'on', '?', 'Kuidas', 'PALUN', '?']\n",
    "\n",
    "print([i.text if i not in mapping.keys() else mapping[i].tag for i in t.words])\n",
    "# ['Minu', 0, 0, 0, '.', 'MIS', 'värvi', 1, 1, 'on', '?', 'Kuidas', 'PALUN', '?']"
   ]
  },
  {
   "cell_type": "markdown",
   "metadata": {},
   "source": [
    "# Rewrite"
   ]
  },
  {
   "cell_type": "markdown",
   "metadata": {},
   "source": [
    "Rewriter is a class that contains a `rewrite` method. If `rewrite` returns `None`, the corresponding span is not created."
   ]
  },
  {
   "cell_type": "code",
   "execution_count": 8,
   "metadata": {
    "collapsed": false
   },
   "outputs": [
    {
     "data": {
      "text/html": [
       "<table border=\"1\" class=\"dataframe\">\n",
       "  <thead>\n",
       "    <tr style=\"text-align: right;\">\n",
       "      <th>text</th>\n",
       "    </tr>\n",
       "  </thead>\n",
       "  <tbody>\n",
       "    <tr>\n",
       "      <td>maailm</td>\n",
       "    </tr>\n",
       "    <tr>\n",
       "      <td>!</td>\n",
       "    </tr>\n",
       "  </tbody>\n",
       "</table>"
      ],
      "text/plain": [
       "<estnltk.text.Layer at 0x7f447acdca58>"
      ]
     },
     "execution_count": 8,
     "metadata": {},
     "output_type": "execute_result"
    }
   ],
   "source": [
    "class TestRewriter:\n",
    "    def rewrite(self, record):\n",
    "        if record['start'] == 0:\n",
    "            return None\n",
    "        return record\n",
    "\n",
    "t = Text('Tere maailm!')\n",
    "t.tag_layer(('words',))\n",
    "test_layer = t['words'].rewrite(source_attributes=[],\n",
    "                                target_attributes=[],\n",
    "                                rules = TestRewriter(),\n",
    "                                name='test_layer')\n",
    "t['test_layer'] = test_layer\n",
    "t['test_layer']"
   ]
  }
 ],
 "metadata": {
  "kernelspec": {
   "display_name": "Python [py35]",
   "language": "python",
   "name": "Python [py35]"
  },
  "language_info": {
   "codemirror_mode": {
    "name": "ipython",
    "version": 3
   },
   "file_extension": ".py",
   "mimetype": "text/x-python",
   "name": "python",
   "nbconvert_exporter": "python",
   "pygments_lexer": "ipython3",
   "version": "3.5.3"
  }
 },
 "nbformat": 4,
 "nbformat_minor": 2
}
