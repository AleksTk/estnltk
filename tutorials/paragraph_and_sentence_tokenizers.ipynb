{
 "cells": [
  {
   "cell_type": "markdown",
   "metadata": {},
   "source": [
    "## Tokenization of paragraphs and sentences (WIP)"
   ]
  },
  {
   "cell_type": "code",
   "execution_count": null,
   "metadata": {
    "collapsed": false
   },
   "outputs": [],
   "source": [
    "from estnltk.text import *\n",
    "\n",
    "from estnltk.taggers.text_segmentation.paragraph_tokenizer import ParagraphTokenizer\n",
    "from estnltk.taggers.text_segmentation.sentence_tokenizer import SentenceTokenizer\n",
    "\n",
    "test_text = Text(''' Mida tähendab Brasiilias orkutiseerumine? Kuidas kasutavad hindud sotsiaalmeediat karma kasvatamiseks? \n",
    "Antropoloogide mammutuuring süübis sotsiaalmeedia kasutamise varjatud maailma.\n",
    "\n",
    "University College Londoni teadusprojekti «Why we post?» (Miks me postitame?) raames elas üheksa \n",
    "antropoloogi viisteist kuud üheksas erinevas kogukonnas üle maailma eesmärgiga saada pilk inimeste \n",
    "sotsiaalmeedia kasutamise kulisside tagusesse. Mis eesmärke sotsiaalmeedia kasutamine teenib? Kuidas \n",
    "see sobitub meie sotsiaalsete kogemuste kirjusse maailma?\n",
    "''')\n",
    "\n",
    "paragraph_tokenizer = ParagraphTokenizer()\n",
    "sentence_tokenizer = SentenceTokenizer()\n",
    "\n",
    "text_with_paragraphs = paragraph_tokenizer.tag( test_text )\n",
    "text_with_sentences = sentence_tokenizer.tag( text_with_paragraphs )\n",
    "\n",
    "print( text_with_sentences.paragraphs )\n",
    "print( text_with_sentences.sentences )"
   ]
  }
 ],
 "metadata": {
  "anaconda-cloud": {},
  "kernelspec": {
   "display_name": "Python [conda env:py3.5.2_v1.6]",
   "language": "python",
   "name": "conda-env-py3.5.2_v1.6-py"
  },
  "language_info": {
   "codemirror_mode": {
    "name": "ipython",
    "version": 3
   },
   "file_extension": ".py",
   "mimetype": "text/x-python",
   "name": "python",
   "nbconvert_exporter": "python",
   "pygments_lexer": "ipython3",
   "version": "3.5.2"
  }
 },
 "nbformat": 4,
 "nbformat_minor": 1
}
