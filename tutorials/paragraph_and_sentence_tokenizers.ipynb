{
 "cells": [
  {
   "cell_type": "markdown",
   "metadata": {},
   "source": [
    "## Tokenization of paragraphs and sentences (WIP)"
   ]
  },
  {
   "cell_type": "code",
   "execution_count": 1,
   "metadata": {
    "collapsed": false
   },
   "outputs": [
    {
     "data": {
      "text/html": [
       "<table border=\"1\" class=\"dataframe\">\n",
       "  <thead>\n",
       "    <tr style=\"text-align: right;\">\n",
       "      <th>attribute</th>\n",
       "      <th>value</th>\n",
       "    </tr>\n",
       "  </thead>\n",
       "  <tbody>\n",
       "    <tr>\n",
       "      <td>text</td>\n",
       "      <td>Mida tähendab Brasiilias orkutiseerumine? Kuidas kasutavad hindud sotsiaalmeediat karma kasvatamiseks? <br/>Antropoloogide mammutuuring süübis sotsiaalmeedia kasutamise varjatud maailma. University College Londoni<br/>teadusprojekti «Why we post?» (Miks me postitame?) raames elas üheksa antropoloogi viisteist kuud üheksas <br/>erinevas kogukonnas üle maailma.<br/><br/>Puuviljad, sealh. ubinad st. õunad s.o. õunapuu viljad hrl. nt tuviõunad on aadressil Uus tn. 9 krt. 12. Noh naised, ostma! Raamatu toim. on hr. Tamm, koost. dr. Kask, tlk. sm. Kuusk Jr., aga illustraator on märkimata. Vaata www.esindus.ee/korteriturg ja kirjuta ingrid.vinn@keskkonnaamet.ee, mis juhtus 1999. a. ja 2000. aasta vahetusel. <br/><br/>Kui pudikeelne hr. M. Laar veel Rahumäel elas kommunaalmajas ja sm . Kõlvarti tegevust jälgis. <br/><br/>Aadressilt bla@bla.ee tuli <br/>10 000 kirja, st. spammi aadressile foo@foo.ee 10 tunni jooksul 2017. aastal. A. H. Tammsaare: 1,0 m / s = 3, 67 km/h.<br/></td>\n",
       "    </tr>\n",
       "    <tr>\n",
       "      <td>layers</td>\n",
       "      <td>words, sentences, paragraphs, compound_tokens</td>\n",
       "    </tr>\n",
       "  </tbody>\n",
       "</table>"
      ],
      "text/plain": [
       "Text(text=\" Mida tähendab Brasiilias orkutiseerumine? Kuidas kasutavad hindud sotsiaalmeediat karma kasvatamiseks? \n",
       "Antropoloogide mammutuuring süübis sotsiaalmeedia kasutamise varjatud maailma. University College Londoni\n",
       "teadusprojekti «Why we post?» (Miks me postitame?) raames elas üheksa antropoloogi viisteist kuud üheksas \n",
       "erinevas kogukonnas üle maailma.\n",
       "\n",
       "Puuviljad, sealh. ubinad st. õunad s.o. õunapuu viljad hrl. nt tuviõunad on aadressil Uus tn. 9 krt. 12. Noh naised, ostma! Raamatu toim. on hr. Tamm, koost. dr. Kask, tlk. sm. Kuusk Jr., aga illustraator on märkimata. Vaata www.esindus.ee/korteriturg ja kirjuta ingrid.vinn@keskkonnaamet.ee, mis juhtus 1999. a. ja 2000. aasta vahetusel. \n",
       "\n",
       "Kui pudikeelne hr. M. Laar veel Rahumäel elas kommunaalmajas ja sm . Kõlvarti tegevust jälgis. \n",
       "\n",
       "Aadressilt bla@bla.ee tuli \n",
       "10 000 kirja, st. spammi aadressile foo@foo.ee 10 tunni jooksul 2017. aastal. A. H. Tammsaare: 1,0 m / s = 3, 67 km/h.\n",
       "\")"
      ]
     },
     "execution_count": 1,
     "metadata": {},
     "output_type": "execute_result"
    }
   ],
   "source": [
    "from estnltk import Text\n",
    "\n",
    "t = ''' Mida tähendab Brasiilias orkutiseerumine? Kuidas kasutavad hindud sotsiaalmeediat karma kasvatamiseks? \n",
    "Antropoloogide mammutuuring süübis sotsiaalmeedia kasutamise varjatud maailma. University College Londoni\n",
    "teadusprojekti «Why we post?» (Miks me postitame?) raames elas üheksa antropoloogi viisteist kuud üheksas \n",
    "erinevas kogukonnas üle maailma.\n",
    "\n",
    "Puuviljad, sealh. ubinad st. õunad s.o. õunapuu viljad hrl. nt tuviõunad on aadressil Uus tn. 9 krt. 12. \\\n",
    "Noh naised, ostma! Raamatu toim. on hr. Tamm, koost. dr. Kask, tlk. sm. Kuusk Jr., aga illustraator on märkimata. \\\n",
    "Vaata www.esindus.ee/korteriturg ja kirjuta ingrid.vinn@keskkonnaamet.ee, \\\n",
    "mis juhtus 1999. a. ja 2000. aasta vahetusel. \n",
    "\n",
    "Kui pudikeelne hr. M. Laar veel Rahumäel elas kommunaalmajas ja sm . Kõlvarti tegevust jälgis. \n",
    "\n",
    "Aadressilt bla@bla.ee tuli \n",
    "10 000 kirja, st. spammi aadressile \\\n",
    "foo@foo.ee 10 tunni jooksul 2017. aastal. A. H. Tammsaare: 1,0 m / s = 3, 67 km/h.\n",
    "'''\n",
    "text = Text(t)\n",
    "text.tag_layer(['paragraphs'])\n",
    "text"
   ]
  },
  {
   "cell_type": "code",
   "execution_count": 2,
   "metadata": {
    "collapsed": false
   },
   "outputs": [
    {
     "data": {
      "text/html": [
       "<table border=\"1\" class=\"dataframe\">\n",
       "  <thead>\n",
       "    <tr style=\"text-align: right;\">\n",
       "      <th>text</th>\n",
       "      <th>type</th>\n",
       "    </tr>\n",
       "  </thead>\n",
       "  <tbody>\n",
       "    <tr>\n",
       "      <td><b>sealh</b><b>.</b></td>\n",
       "      <td>non_ending_abbreviation</td>\n",
       "    </tr>\n",
       "    <tr>\n",
       "      <td><b>st</b><b>.</b></td>\n",
       "      <td>non_ending_abbreviation</td>\n",
       "    </tr>\n",
       "    <tr>\n",
       "      <td><b>hrl</b><b>.</b></td>\n",
       "      <td>non_ending_abbreviation</td>\n",
       "    </tr>\n",
       "    <tr>\n",
       "      <td><b>nt</b></td>\n",
       "      <td>non_ending_abbreviation</td>\n",
       "    </tr>\n",
       "    <tr>\n",
       "      <td><b>tn</b><b>.</b></td>\n",
       "      <td>non_ending_abbreviation</td>\n",
       "    </tr>\n",
       "    <tr>\n",
       "      <td><b>krt</b><b>.</b></td>\n",
       "      <td>non_ending_abbreviation</td>\n",
       "    </tr>\n",
       "    <tr>\n",
       "      <td><b>toim</b><b>.</b></td>\n",
       "      <td>non_ending_abbreviation</td>\n",
       "    </tr>\n",
       "    <tr>\n",
       "      <td><b>hr</b><b>.</b></td>\n",
       "      <td>non_ending_abbreviation</td>\n",
       "    </tr>\n",
       "    <tr>\n",
       "      <td><b>koost</b><b>.</b></td>\n",
       "      <td>non_ending_abbreviation</td>\n",
       "    </tr>\n",
       "    <tr>\n",
       "      <td><b>dr</b><b>.</b></td>\n",
       "      <td>non_ending_abbreviation</td>\n",
       "    </tr>\n",
       "    <tr>\n",
       "      <td><b>tlk</b><b>.</b></td>\n",
       "      <td>non_ending_abbreviation</td>\n",
       "    </tr>\n",
       "    <tr>\n",
       "      <td><b>sm</b><b>.</b></td>\n",
       "      <td>non_ending_abbreviation</td>\n",
       "    </tr>\n",
       "    <tr>\n",
       "      <td><b>Jr</b></td>\n",
       "      <td>non_ending_abbreviation</td>\n",
       "    </tr>\n",
       "    <tr>\n",
       "      <td><b>a</b><b>.</b></td>\n",
       "      <td>non_ending_abbreviation</td>\n",
       "    </tr>\n",
       "    <tr>\n",
       "      <td><b>hr</b><b>.</b></td>\n",
       "      <td>non_ending_abbreviation</td>\n",
       "    </tr>\n",
       "    <tr>\n",
       "      <td><b>M</b><b>.</b> <b>Laar</b></td>\n",
       "      <td>name</td>\n",
       "    </tr>\n",
       "    <tr>\n",
       "      <td><b>sm</b> <b>.</b></td>\n",
       "      <td>non_ending_abbreviation</td>\n",
       "    </tr>\n",
       "    <tr>\n",
       "      <td><b>st</b><b>.</b></td>\n",
       "      <td>non_ending_abbreviation</td>\n",
       "    </tr>\n",
       "    <tr>\n",
       "      <td><b>A</b><b>.</b> <b>H</b><b>.</b> <b>Tammsaare</b></td>\n",
       "      <td>name</td>\n",
       "    </tr>\n",
       "  </tbody>\n",
       "</table>"
      ],
      "text/plain": [
       "<estnltk.text.Layer at 0x7f5a40b8aa58>"
      ]
     },
     "execution_count": 2,
     "metadata": {},
     "output_type": "execute_result"
    }
   ],
   "source": [
    "text['compound_tokens']"
   ]
  },
  {
   "cell_type": "code",
   "execution_count": 3,
   "metadata": {
    "collapsed": false
   },
   "outputs": [
    {
     "data": {
      "text/html": [
       "<table border=\"1\" class=\"dataframe\">\n",
       "  <thead>\n",
       "    <tr style=\"text-align: right;\">\n",
       "      <th>text</th>\n",
       "    </tr>\n",
       "  </thead>\n",
       "  <tbody>\n",
       "    <tr>\n",
       "      <td><b>Mida</b> <b>tähendab</b> <b>Brasiilias</b> <b>orkutiseerumine</b><b>?</b></td>\n",
       "    </tr>\n",
       "    <tr>\n",
       "      <td><b>Kuidas</b> <b>kasutavad</b> <b>hindud</b> <b>sotsiaalmeediat</b> <b>karma</b> <b>kasvatamiseks</b><b>?</b></td>\n",
       "    </tr>\n",
       "    <tr>\n",
       "      <td><b>Antropoloogide</b> <b>mammutuuring</b> <b>süübis</b> <b>sotsiaalmeedia</b> <b>kasutamise</b> <b>varjatud</b> <b>maailma</b><b>.</b></td>\n",
       "    </tr>\n",
       "    <tr>\n",
       "      <td><b>University</b> <b>College</b> <b>Londoni</b>\\n<b>teadusprojekti</b> <b>«</b><b>Why</b> <b>we</b> <b>post</b><b>?»</b> <b>(</b><b>Miks</b> <b>me</b> <b>postitame</b><b>?)</b></td>\n",
       "    </tr>\n",
       "    <tr>\n",
       "      <td><b>raames</b> <b>elas</b> <b>üheksa</b> <b>antropoloogi</b> <b>viisteist</b> <b>kuud</b> <b>üheksas</b> \\n<b>erinevas</b> <b>kogukonnas</b> <b>üle</b> <b>maailma</b><b>.</b></td>\n",
       "    </tr>\n",
       "    <tr>\n",
       "      <td><b>Puuviljad</b><b>,</b> <b>sealh</b><b>.</b> <b>ubinad</b> <b>st</b><b>.</b> <b>õunad</b> <b>s</b><b>.</b><b>o</b><b>.</b></td>\n",
       "    </tr>\n",
       "    <tr>\n",
       "      <td><b>õunapuu</b> <b>viljad</b> <b>hrl</b><b>.</b> <b>nt</b> <b>tuviõunad</b> <b>on</b> <b>aadressil</b> <b>Uus</b> <b>tn</b><b>.</b> <b>9</b> <b>krt</b><b>.</b> <b>12</b><b>.</b></td>\n",
       "    </tr>\n",
       "    <tr>\n",
       "      <td><b>Noh</b> <b>naised</b><b>,</b> <b>ostma</b><b>!</b></td>\n",
       "    </tr>\n",
       "    <tr>\n",
       "      <td><b>Raamatu</b> <b>toim</b><b>.</b> <b>on</b> <b>hr</b><b>.</b> <b>Tamm</b><b>,</b> <b>koost</b><b>.</b> <b>dr</b><b>.</b> <b>Kask</b><b>,</b> <b>tlk</b><b>.</b> <b>sm</b><b>.</b> <b>Kuusk</b> <b>Jr</b><b>.,</b> <b>aga</b> <b>illustraator</b> <b>on</b> <b>märkimata</b><b>.</b></td>\n",
       "    </tr>\n",
       "    <tr>\n",
       "      <td><b>Vaata</b> <b>www</b><b>.</b><b>esindus</b><b>.</b><b>ee</b><b>/</b><b>korteriturg</b> <b>ja</b> <b>kirjuta</b> <b>ingrid</b><b>.</b><b>vinn</b><b>@</b><b>keskkonnaamet</b><b>.</b><b>ee</b><b>,</b> <b>mis</b> <b>juhtus</b> <b>1999</b><b>.</b> <b>a</b><b>.</b> <b>ja</b> <b>2000</b><b>.</b> <b>aasta</b> <b>vahetusel</b><b>.</b></td>\n",
       "    </tr>\n",
       "    <tr>\n",
       "      <td><b>Kui</b> <b>pudikeelne</b> <b>hr</b><b>.</b> <b>M</b><b>.</b> <b>Laar</b> <b>veel</b> <b>Rahumäel</b> <b>elas</b> <b>kommunaalmajas</b> <b>ja</b> <b>sm</b> <b>.</b> <b>Kõlvarti</b> <b>tegevust</b> <b>jälgis</b><b>.</b></td>\n",
       "    </tr>\n",
       "    <tr>\n",
       "      <td><b>Aadressilt</b> <b>bla</b><b>@</b><b>bla</b><b>.</b><b>ee</b> <b>tuli</b> \\n<b>10</b> <b>000</b> <b>kirja</b><b>,</b> <b>st</b><b>.</b> <b>spammi</b> <b>aadressile</b> <b>foo</b><b>@</b><b>foo</b><b>.</b><b>ee</b> <b>10</b> <b>tunni</b> <b>jooksul</b> <b>2017</b><b>.</b> <b>aastal</b><b>.</b></td>\n",
       "    </tr>\n",
       "    <tr>\n",
       "      <td><b>A</b><b>.</b> <b>H</b><b>.</b> <b>Tammsaare</b><b>:</b> <b>1</b><b>,</b><b>0</b> <b>m</b> <b>/</b> <b>s</b> <b>=</b> <b>3</b><b>,</b> <b>67</b> <b>km</b><b>/</b><b>h</b><b>.</b></td>\n",
       "    </tr>\n",
       "  </tbody>\n",
       "</table>"
      ],
      "text/plain": [
       "<estnltk.text.Layer at 0x7f5a6bd26be0>"
      ]
     },
     "execution_count": 3,
     "metadata": {},
     "output_type": "execute_result"
    }
   ],
   "source": [
    "text['sentences']"
   ]
  },
  {
   "cell_type": "code",
   "execution_count": 4,
   "metadata": {
    "collapsed": false
   },
   "outputs": [
    {
     "data": {
      "text/html": [
       "<table border=\"1\" class=\"dataframe\">\n",
       "  <thead>\n",
       "    <tr style=\"text-align: right;\">\n",
       "      <th>text</th>\n",
       "    </tr>\n",
       "  </thead>\n",
       "  <tbody>\n",
       "    <tr>\n",
       "      <td><b>Mida tähendab Brasiilias orkutiseerumine?</b> <b>Kuidas kasutavad hindud sotsiaalmeediat karma kasvatamiseks?</b> \\n<b>Antropoloogide mammutuuring süübis sotsiaalmeedia kasutamise varjatud maailma.</b> <b>University College Londoni\\nteadusprojekti «Why we post?» (Miks me postitame?)</b> <b>raames elas üheksa antropoloogi viisteist kuud üheksas \\nerinevas kogukonnas üle maailma.</b></td>\n",
       "    </tr>\n",
       "    <tr>\n",
       "      <td><b>Puuviljad, sealh. ubinad st. õunad s.o.</b> <b>õunapuu viljad hrl. nt tuviõunad on aadressil Uus tn. 9 krt. 12.</b> <b>Noh naised, ostma!</b> <b>Raamatu toim. on hr. Tamm, koost. dr. Kask, tlk. sm. Kuusk Jr., aga illustraator on märkimata.</b> <b>Vaata www.esindus.ee/korteriturg ja kirjuta ingrid.vinn@keskkonnaamet.ee, mis juhtus 1999. a. ja 2000. aasta vahetusel.</b></td>\n",
       "    </tr>\n",
       "    <tr>\n",
       "      <td><b>Kui pudikeelne hr. M. Laar veel Rahumäel elas kommunaalmajas ja sm . Kõlvarti tegevust jälgis.</b></td>\n",
       "    </tr>\n",
       "    <tr>\n",
       "      <td><b>Aadressilt bla@bla.ee tuli \\n10 000 kirja, st. spammi aadressile foo@foo.ee 10 tunni jooksul 2017. aastal.</b> <b>A. H. Tammsaare: 1,0 m / s = 3, 67 km/h.</b></td>\n",
       "    </tr>\n",
       "  </tbody>\n",
       "</table>"
      ],
      "text/plain": [
       "<estnltk.text.Layer at 0x7f5a6bd267f0>"
      ]
     },
     "execution_count": 4,
     "metadata": {},
     "output_type": "execute_result"
    }
   ],
   "source": [
    "text['paragraphs']"
   ]
  }
 ],
 "metadata": {
  "anaconda-cloud": {},
  "kernelspec": {
   "display_name": "Python [py35]",
   "language": "python",
   "name": "Python [py35]"
  },
  "language_info": {
   "codemirror_mode": {
    "name": "ipython",
    "version": 3
   },
   "file_extension": ".py",
   "mimetype": "text/x-python",
   "name": "python",
   "nbconvert_exporter": "python",
   "pygments_lexer": "ipython3",
   "version": "3.5.3"
  }
 },
 "nbformat": 4,
 "nbformat_minor": 1
}
