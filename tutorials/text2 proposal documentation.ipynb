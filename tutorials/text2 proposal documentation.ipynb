{
 "cells": [
  {
   "cell_type": "code",
   "execution_count": 1,
   "metadata": {
    "collapsed": true
   },
   "outputs": [],
   "source": [
    "import sys\n",
    "import os.path\n",
    "sys.path =  [os.path.abspath('..')] + sys.path\n",
    "from estnltk.text import *"
   ]
  },
  {
   "cell_type": "code",
   "execution_count": 2,
   "metadata": {
    "collapsed": true
   },
   "outputs": [],
   "source": [
    "t = words_sentences('''Kui Arno isaga koolimajja jõudis, olid tunnid juba alanud. \n",
    "Kooliõpetaja kutsus mõlemad oma tuppa, kõneles nendega natuke aega, \n",
    "käskis Arnol olla hoolas ja korralik ja seadis ta siis pinki ühe pikkade juustega poisi kõrvale istuma.''')"
   ]
  },
  {
   "cell_type": "code",
   "execution_count": 3,
   "metadata": {
    "collapsed": false
   },
   "outputs": [
    {
     "data": {
      "text/plain": [
       "''"
      ]
     },
     "execution_count": 3,
     "metadata": {},
     "output_type": "execute_result"
    }
   ],
   "source": [
    "t.text #tekst ise //string\n",
    "t.words.text #sõnade teks //  list of strings\n",
    "t.sentences.text #lausete tekst sõnahaaval //list of lists of strings\n",
    ";"
   ]
  },
  {
   "cell_type": "code",
   "execution_count": 4,
   "metadata": {
    "collapsed": true
   },
   "outputs": [],
   "source": [
    "#Näide uue kihi loomise kohta \n",
    "dep = DependantLayer(name='uppercase', #uue kihi nimi\n",
    "                     text_object=t,    #tekstobjekt, millega see seotud on\n",
    "                     parent=t.words,   #kiht, millega uue kihi elemendid on seotud\n",
    "                     attributes=['upper', 'reverse'] #nimekiri uue kihi atribuutidest\n",
    "                     )\n",
    "t.add_layer(dep) #lisame kihi tekstiobjektile \n",
    "#NB! Ühele tekstiobjektile ei saa kaks korda sama nimega kihti lisada"
   ]
  },
  {
   "cell_type": "code",
   "execution_count": 5,
   "metadata": {
    "collapsed": true
   },
   "outputs": [],
   "source": [
    "for word in t.words:\n",
    "    #anname igale sõnale atribuudi\n",
    "    word.mark('uppercase').upper = word.text.upper()\n",
    "    word.mark('uppercase').reverse = word.upper[::-1]"
   ]
  },
  {
   "cell_type": "code",
   "execution_count": 6,
   "metadata": {
    "collapsed": false
   },
   "outputs": [
    {
     "data": {
      "text/plain": [
       "''"
      ]
     },
     "execution_count": 6,
     "metadata": {},
     "output_type": "execute_result"
    }
   ],
   "source": [
    "t.uppercase.upper #list of strings\n",
    "t.uppercase.reverse #list of strings\n",
    "t.sentences.uppercase.upper #list of lists of strings\n",
    "t.sentences.uppercase.reverse #list of lists of strings\n",
    ";"
   ]
  },
  {
   "cell_type": "code",
   "execution_count": 7,
   "metadata": {
    "collapsed": false
   },
   "outputs": [
    {
     "name": "stdout",
     "output_type": "stream",
     "text": [
      "KUI IUK\n",
      "ARNO ONRA\n",
      "ISAGA AGASI\n",
      "KOOLIMAJJA AJJAMILOOK\n",
      "JÕUDIS SIDUÕJ\n",
      ", ,\n",
      "OLID DILO\n",
      "TUNNID DINNUT\n",
      "JUBA ABUJ\n",
      "ALANUD DUNALA\n",
      ". .\n",
      "KOOLIÕPETAJA AJATEPÕILOOK\n",
      "KUTSUS SUSTUK\n",
      "MÕLEMAD DAMELÕM\n",
      "OMA AMO\n",
      "TUPPA APPUT\n",
      ", ,\n",
      "KÕNELES SELENÕK\n",
      "NENDEGA AGEDNEN\n",
      "NATUKE EKUTAN\n",
      "AEGA AGEA\n",
      ", ,\n",
      "KÄSKIS SIKSÄK\n",
      "ARNOL LONRA\n",
      "OLLA ALLO\n",
      "HOOLAS SALOOH\n",
      "JA AJ\n",
      "KORRALIK KILARROK\n",
      "JA AJ\n",
      "SEADIS SIDAES\n",
      "TA AT\n",
      "SIIS SIIS\n",
      "PINKI IKNIP\n",
      "ÜHE EHÜ\n",
      "PIKKADE EDAKKIP\n",
      "JUUSTEGA AGETSUUJ\n",
      "POISI ISIOP\n",
      "KÕRVALE ELAVRÕK\n",
      "ISTUMA AMUTSI\n",
      ". .\n"
     ]
    }
   ],
   "source": [
    "for word in t.words:\n",
    "    print(word.upper, word.reverse)"
   ]
  },
  {
   "cell_type": "code",
   "execution_count": 10,
   "metadata": {
    "collapsed": false
   },
   "outputs": [],
   "source": [
    "#t.words.uppercase.upper #does not work"
   ]
  }
 ],
 "metadata": {
  "kernelspec": {
   "display_name": "Python 3",
   "language": "python",
   "name": "python3"
  },
  "language_info": {
   "codemirror_mode": {
    "name": "ipython",
    "version": 3
   },
   "file_extension": ".py",
   "mimetype": "text/x-python",
   "name": "python",
   "nbconvert_exporter": "python",
   "pygments_lexer": "ipython3",
   "version": "3.5.2"
  }
 },
 "nbformat": 4,
 "nbformat_minor": 1
}
