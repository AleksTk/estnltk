{
 "cells": [
  {
   "cell_type": "code",
   "execution_count": 1,
   "metadata": {
    "collapsed": true
   },
   "outputs": [],
   "source": [
    "from estnltk.text import Layer, Text"
   ]
  },
  {
   "cell_type": "code",
   "execution_count": 2,
   "metadata": {
    "collapsed": false
   },
   "outputs": [
    {
     "data": {
      "text/html": [
       "<table border=\"1\" class=\"dataframe\">\n",
       "  <thead>\n",
       "    <tr style=\"text-align: right;\">\n",
       "      <th>text</th>\n",
       "    </tr>\n",
       "  </thead>\n",
       "  <tbody>\n",
       "    <tr>\n",
       "      <td>Kui Arno isaga koolimajja jõudis, olid tunnid juba alanud. <br/>Kooliõpetaja kutsus mõlemad oma tuppa, kõneles nendega natuke aega, <br/>käskis Arnol olla hoolas ja korralik ja seadis ta siis pinki ühe pikkade juustega poisi kõrvale istuma.</td>\n",
       "    </tr>\n",
       "  </tbody>\n",
       "</table>\n",
       "<table border=\"1\" class=\"dataframe\">\n",
       "  <thead>\n",
       "    <tr style=\"text-align: right;\">\n",
       "      <th>layer</th>\n",
       "      <th>attributes</th>\n",
       "      <th>parent</th>\n",
       "      <th>enveloping</th>\n",
       "      <th>ambiguous</th>\n",
       "      <th>number of spans</th>\n",
       "    </tr>\n",
       "  </thead>\n",
       "  <tbody>\n",
       "    <tr>\n",
       "      <td>words</td>\n",
       "      <td></td>\n",
       "      <td>None</td>\n",
       "      <td>None</td>\n",
       "      <td>False</td>\n",
       "      <td>40</td>\n",
       "    </tr>\n",
       "    <tr>\n",
       "      <td>sentences</td>\n",
       "      <td></td>\n",
       "      <td>None</td>\n",
       "      <td>words</td>\n",
       "      <td>False</td>\n",
       "      <td>2</td>\n",
       "    </tr>\n",
       "    <tr>\n",
       "      <td>paragraphs</td>\n",
       "      <td></td>\n",
       "      <td>None</td>\n",
       "      <td>sentences</td>\n",
       "      <td>False</td>\n",
       "      <td>1</td>\n",
       "    </tr>\n",
       "  </tbody>\n",
       "</table>"
      ],
      "text/plain": [
       "Text(text=\"Kui Arno isaga koolimajja jõudis, olid tunnid juba alanud. \n",
       "Kooliõpetaja kutsus mõlemad oma tuppa, kõneles nendega natuke aega, \n",
       "käskis Arnol olla hoolas ja korralik ja seadis ta siis pinki ühe pikkade juustega poisi kõrvale istuma.\")"
      ]
     },
     "execution_count": 2,
     "metadata": {},
     "output_type": "execute_result"
    }
   ],
   "source": [
    "t = Text('''Kui Arno isaga koolimajja jõudis, olid tunnid juba alanud. \n",
    "Kooliõpetaja kutsus mõlemad oma tuppa, kõneles nendega natuke aega, \n",
    "käskis Arnol olla hoolas ja korralik ja seadis ta siis pinki ühe pikkade juustega poisi kõrvale istuma.''')\n",
    "t.analyse('segmentation')"
   ]
  },
  {
   "cell_type": "code",
   "execution_count": 3,
   "metadata": {
    "collapsed": false
   },
   "outputs": [
    {
     "data": {
      "text/plain": [
       "''"
      ]
     },
     "execution_count": 3,
     "metadata": {},
     "output_type": "execute_result"
    }
   ],
   "source": [
    "t.text #tekst ise //string\n",
    "t.words.text #sõnade teks //  list of strings\n",
    "t.sentences.text #lausete tekst sõnahaaval //list of lists of strings\n",
    ";"
   ]
  },
  {
   "cell_type": "code",
   "execution_count": 4,
   "metadata": {
    "collapsed": false
   },
   "outputs": [],
   "source": [
    "#Näide uue kihi loomise kohta \n",
    "dep = Layer(name='uppercase', #uue kihi nimi\n",
    "            parent='words',   #kihi nime, millega uue kihi elemendid on seotud\n",
    "            attributes=['upper', 'reverse'] #nimekiri uue kihi atribuutidest\n",
    "            )\n",
    "t['uppercase'] = dep #lisame kihi tekstiobjektile \n",
    "#NB! Ühele tekstiobjektile ei saa kaks korda sama nimega kihti lisada"
   ]
  },
  {
   "cell_type": "code",
   "execution_count": 5,
   "metadata": {
    "collapsed": true
   },
   "outputs": [],
   "source": [
    "for word in t.words:\n",
    "    #anname igale sõnale atribuudi\n",
    "    word.mark('uppercase').upper = word.text.upper()\n",
    "    word.mark('uppercase').reverse = word.upper[::-1]"
   ]
  },
  {
   "cell_type": "code",
   "execution_count": 6,
   "metadata": {
    "collapsed": false
   },
   "outputs": [
    {
     "data": {
      "text/plain": [
       "''"
      ]
     },
     "execution_count": 6,
     "metadata": {},
     "output_type": "execute_result"
    }
   ],
   "source": [
    "t.uppercase.upper #list of strings\n",
    "t.uppercase.reverse #list of strings\n",
    "t.sentences.uppercase.upper #list of lists of strings\n",
    "t.sentences.uppercase.reverse #list of lists of strings\n",
    ";"
   ]
  },
  {
   "cell_type": "code",
   "execution_count": 7,
   "metadata": {
    "collapsed": false
   },
   "outputs": [
    {
     "name": "stdout",
     "output_type": "stream",
     "text": [
      "KUI None\n",
      "ARNO None\n",
      "ISAGA None\n",
      "KOOLIMAJJA None\n",
      "JÕUDIS None\n",
      ", None\n",
      "OLID None\n",
      "TUNNID None\n",
      "JUBA None\n",
      "ALANUD None\n",
      ". None\n",
      "KOOLIÕPETAJA None\n",
      "KUTSUS None\n",
      "MÕLEMAD None\n",
      "OMA None\n",
      "TUPPA None\n",
      ", None\n",
      "KÕNELES None\n",
      "NENDEGA None\n",
      "NATUKE None\n",
      "AEGA None\n",
      ", None\n",
      "KÄSKIS None\n",
      "ARNOL None\n",
      "OLLA None\n",
      "HOOLAS None\n",
      "JA None\n",
      "KORRALIK None\n",
      "JA None\n",
      "SEADIS None\n",
      "TA None\n",
      "SIIS None\n",
      "PINKI None\n",
      "ÜHE None\n",
      "PIKKADE None\n",
      "JUUSTEGA None\n",
      "POISI None\n",
      "KÕRVALE None\n",
      "ISTUMA None\n",
      ". None\n"
     ]
    }
   ],
   "source": [
    "for word in t.words:\n",
    "    print(word.upper, word.reverse)"
   ]
  },
  {
   "cell_type": "code",
   "execution_count": 8,
   "metadata": {
    "collapsed": false
   },
   "outputs": [
    {
     "data": {
      "text/plain": [
       "['KUI',\n",
       " 'KUI',\n",
       " 'ARNO',\n",
       " 'ARNO',\n",
       " 'ISAGA',\n",
       " 'ISAGA',\n",
       " 'KOOLIMAJJA',\n",
       " 'KOOLIMAJJA',\n",
       " 'JÕUDIS',\n",
       " 'JÕUDIS',\n",
       " ',',\n",
       " ',',\n",
       " 'OLID',\n",
       " 'OLID',\n",
       " 'TUNNID',\n",
       " 'TUNNID',\n",
       " 'JUBA',\n",
       " 'JUBA',\n",
       " 'ALANUD',\n",
       " 'ALANUD',\n",
       " '.',\n",
       " '.',\n",
       " 'KOOLIÕPETAJA',\n",
       " 'KOOLIÕPETAJA',\n",
       " 'KUTSUS',\n",
       " 'KUTSUS',\n",
       " 'MÕLEMAD',\n",
       " 'MÕLEMAD',\n",
       " 'OMA',\n",
       " 'OMA',\n",
       " 'TUPPA',\n",
       " 'TUPPA',\n",
       " ',',\n",
       " ',',\n",
       " 'KÕNELES',\n",
       " 'KÕNELES',\n",
       " 'NENDEGA',\n",
       " 'NENDEGA',\n",
       " 'NATUKE',\n",
       " 'NATUKE',\n",
       " 'AEGA',\n",
       " 'AEGA',\n",
       " ',',\n",
       " ',',\n",
       " 'KÄSKIS',\n",
       " 'KÄSKIS',\n",
       " 'ARNOL',\n",
       " 'ARNOL',\n",
       " 'OLLA',\n",
       " 'OLLA',\n",
       " 'HOOLAS',\n",
       " 'HOOLAS',\n",
       " 'JA',\n",
       " 'JA',\n",
       " 'KORRALIK',\n",
       " 'KORRALIK',\n",
       " 'JA',\n",
       " 'JA',\n",
       " 'SEADIS',\n",
       " 'SEADIS',\n",
       " 'TA',\n",
       " 'TA',\n",
       " 'SIIS',\n",
       " 'SIIS',\n",
       " 'PINKI',\n",
       " 'PINKI',\n",
       " 'ÜHE',\n",
       " 'ÜHE',\n",
       " 'PIKKADE',\n",
       " 'PIKKADE',\n",
       " 'JUUSTEGA',\n",
       " 'JUUSTEGA',\n",
       " 'POISI',\n",
       " 'POISI',\n",
       " 'KÕRVALE',\n",
       " 'KÕRVALE',\n",
       " 'ISTUMA',\n",
       " 'ISTUMA',\n",
       " '.',\n",
       " '.']"
      ]
     },
     "execution_count": 8,
     "metadata": {},
     "output_type": "execute_result"
    }
   ],
   "source": [
    "t.words.uppercase.upper"
   ]
  }
 ],
 "metadata": {
  "kernelspec": {
   "display_name": "Python [py35]",
   "language": "python",
   "name": "Python [py35]"
  },
  "language_info": {
   "codemirror_mode": {
    "name": "ipython",
    "version": 3
   },
   "file_extension": ".py",
   "mimetype": "text/x-python",
   "name": "python",
   "nbconvert_exporter": "python",
   "pygments_lexer": "ipython3",
   "version": "3.5.3"
  }
 },
 "nbformat": 4,
 "nbformat_minor": 1
}
