{
 "cells": [
  {
   "cell_type": "code",
   "execution_count": 1,
   "metadata": {},
   "outputs": [],
   "source": [
    "from estnltk.text import Layer, Text"
   ]
  },
  {
   "cell_type": "code",
   "execution_count": 2,
   "metadata": {},
   "outputs": [
    {
     "data": {
      "text/html": [
       "<table border=\"1\" class=\"dataframe\">\n",
       "  <thead>\n",
       "    <tr style=\"text-align: right;\">\n",
       "      <th>text</th>\n",
       "    </tr>\n",
       "  </thead>\n",
       "  <tbody>\n",
       "    <tr>\n",
       "      <td>Kui Arno isaga koolimajja jõudis, olid tunnid juba alanud. <br/>Kooliõpetaja kutsus mõlemad oma tuppa, kõneles nendega natuke aega, <br/>käskis Arnol olla hoolas ja korralik ja seadis ta siis pinki ühe pikkade juustega poisi kõrvale istuma.</td>\n",
       "    </tr>\n",
       "  </tbody>\n",
       "</table>\n",
       "<table border=\"1\" class=\"dataframe\">\n",
       "  <thead>\n",
       "    <tr style=\"text-align: right;\">\n",
       "      <th>layer name</th>\n",
       "      <th>attributes</th>\n",
       "      <th>parent</th>\n",
       "      <th>enveloping</th>\n",
       "      <th>ambiguous</th>\n",
       "      <th>span count</th>\n",
       "    </tr>\n",
       "  </thead>\n",
       "  <tbody>\n",
       "    <tr>\n",
       "      <td>paragraphs</td>\n",
       "      <td></td>\n",
       "      <td>None</td>\n",
       "      <td>sentences</td>\n",
       "      <td>False</td>\n",
       "      <td>1</td>\n",
       "    </tr>\n",
       "    <tr>\n",
       "      <td>sentences</td>\n",
       "      <td></td>\n",
       "      <td>None</td>\n",
       "      <td>words</td>\n",
       "      <td>False</td>\n",
       "      <td>2</td>\n",
       "    </tr>\n",
       "    <tr>\n",
       "      <td>words</td>\n",
       "      <td></td>\n",
       "      <td>None</td>\n",
       "      <td>None</td>\n",
       "      <td>False</td>\n",
       "      <td>40</td>\n",
       "    </tr>\n",
       "  </tbody>\n",
       "</table>"
      ],
      "text/plain": [
       "Text(text=\"Kui Arno isaga koolimajja jõudis, olid tunnid juba alanud. \n",
       "Kooliõpetaja kutsus mõlemad oma tuppa, kõneles nendega natuke aega, \n",
       "käskis Arnol olla hoolas ja korralik ja seadis ta siis pinki ühe pikkade juustega poisi kõrvale istuma.\")"
      ]
     },
     "execution_count": 2,
     "metadata": {},
     "output_type": "execute_result"
    }
   ],
   "source": [
    "t = Text('''Kui Arno isaga koolimajja jõudis, olid tunnid juba alanud. \n",
    "Kooliõpetaja kutsus mõlemad oma tuppa, kõneles nendega natuke aega, \n",
    "käskis Arnol olla hoolas ja korralik ja seadis ta siis pinki ühe pikkade juustega poisi kõrvale istuma.''')\n",
    "t.analyse('segmentation')"
   ]
  },
  {
   "cell_type": "code",
   "execution_count": 3,
   "metadata": {},
   "outputs": [],
   "source": [
    "t.text #tekst ise //string\n",
    "t.words.text #sõnade teks //  list of strings\n",
    "t.sentences.text #lausete tekst sõnahaaval //list of lists of strings\n",
    "None"
   ]
  },
  {
   "cell_type": "code",
   "execution_count": 4,
   "metadata": {},
   "outputs": [
    {
     "data": {
      "text/plain": [
       "'Kui Arno isaga koolimajja jõudis, olid tunnid juba alanud.'"
      ]
     },
     "execution_count": 4,
     "metadata": {},
     "output_type": "execute_result"
    }
   ],
   "source": [
    "# SpanListile vastav toore teksti osa. Kui SpanList pole pidev, sisaldab ka vahepealseid sõnu või märke.\n",
    "t.sentences[0].enclosing_text # esimese lause tekst"
   ]
  },
  {
   "cell_type": "code",
   "execution_count": 5,
   "metadata": {},
   "outputs": [],
   "source": [
    "#Näide uue kihi loomise kohta \n",
    "dep = Layer(name='uppercase', #uue kihi nimi\n",
    "            parent='words',   #kihi nime, millega uue kihi elemendid on seotud\n",
    "            attributes=['upper', 'reverse'] #nimekiri uue kihi atribuutidest\n",
    "            )\n",
    "t['uppercase'] = dep #lisame kihi tekstiobjektile \n",
    "#NB! Ühele tekstiobjektile ei saa kaks korda sama nimega kihti lisada"
   ]
  },
  {
   "cell_type": "code",
   "execution_count": 6,
   "metadata": {
    "collapsed": true
   },
   "outputs": [],
   "source": [
    "for word in t.words:\n",
    "    #anname igale sõnale atribuudi\n",
    "    m = word.mark('uppercase')\n",
    "    m.upper = word.text.upper()\n",
    "    m.reverse = word.upper[::-1]"
   ]
  },
  {
   "cell_type": "code",
   "execution_count": 7,
   "metadata": {},
   "outputs": [
    {
     "data": {
      "text/plain": [
       "''"
      ]
     },
     "execution_count": 7,
     "metadata": {},
     "output_type": "execute_result"
    }
   ],
   "source": [
    "t.uppercase.upper #list of strings\n",
    "t.uppercase.reverse #list of strings\n",
    "t.sentences.uppercase.upper #list of lists of strings\n",
    "t.sentences.uppercase.reverse #list of lists of strings\n",
    ";"
   ]
  },
  {
   "cell_type": "code",
   "execution_count": 8,
   "metadata": {},
   "outputs": [
    {
     "name": "stdout",
     "output_type": "stream",
     "text": [
      "KUI IUK\n",
      "ARNO ONRA\n",
      "ISAGA AGASI\n",
      "KOOLIMAJJA AJJAMILOOK\n",
      "JÕUDIS SIDUÕJ\n",
      ", ,\n",
      "OLID DILO\n",
      "TUNNID DINNUT\n",
      "JUBA ABUJ\n",
      "ALANUD DUNALA\n",
      ". .\n"
     ]
    }
   ],
   "source": [
    "for word in t.words[:11]:\n",
    "    print(word.upper, word.reverse)"
   ]
  },
  {
   "cell_type": "code",
   "execution_count": 9,
   "metadata": {},
   "outputs": [
    {
     "data": {
      "text/plain": [
       "['KUI',\n",
       " 'ARNO',\n",
       " 'ISAGA',\n",
       " 'KOOLIMAJJA',\n",
       " 'JÕUDIS',\n",
       " ',',\n",
       " 'OLID',\n",
       " 'TUNNID',\n",
       " 'JUBA',\n",
       " 'ALANUD',\n",
       " '.']"
      ]
     },
     "execution_count": 9,
     "metadata": {},
     "output_type": "execute_result"
    }
   ],
   "source": [
    "t.words.uppercase.upper[:11]"
   ]
  },
  {
   "cell_type": "code",
   "execution_count": 10,
   "metadata": {},
   "outputs": [
    {
     "data": {
      "text/plain": [
       "SL[Span(Kui, {'reverse': 'IUK', 'upper': 'KUI'}),\n",
       "Span(Arno, {'reverse': 'ONRA', 'upper': 'ARNO'}),\n",
       "Span(isaga, {'reverse': 'AGASI', 'upper': 'ISAGA'}),\n",
       "Span(koolimajja, {'reverse': 'AJJAMILOOK', 'upper': 'KOOLIMAJJA'}),\n",
       "Span(jõudis, {'reverse': 'SIDUÕJ', 'upper': 'JÕUDIS'}),\n",
       "Span(,, {'reverse': ',', 'upper': ','}),\n",
       "Span(olid, {'reverse': 'DILO', 'upper': 'OLID'}),\n",
       "Span(tunnid, {'reverse': 'DINNUT', 'upper': 'TUNNID'}),\n",
       "Span(juba, {'reverse': 'ABUJ', 'upper': 'JUBA'}),\n",
       "Span(alanud, {'reverse': 'DUNALA', 'upper': 'ALANUD'}),\n",
       "Span(., {'reverse': '.', 'upper': '.'})]"
      ]
     },
     "execution_count": 10,
     "metadata": {},
     "output_type": "execute_result"
    }
   ],
   "source": [
    "t.uppercase[:11]"
   ]
  },
  {
   "cell_type": "code",
   "execution_count": 11,
   "metadata": {},
   "outputs": [
    {
     "data": {
      "text/html": [
       "<table border=\"1\" class=\"dataframe\">\n",
       "  <thead>\n",
       "    <tr style=\"text-align: right;\">\n",
       "      <th>name</th>\n",
       "      <th>layer</th>\n",
       "      <th>attributes</th>\n",
       "      <th>depends_on</th>\n",
       "      <th>configuration</th>\n",
       "    </tr>\n",
       "  </thead>\n",
       "  <tbody>\n",
       "    <tr>\n",
       "      <td>TokensTagger</td>\n",
       "      <td>tokens</td>\n",
       "      <td>[]</td>\n",
       "      <td>[]</td>\n",
       "      <td>{'apply_punct_postfixes': True}</td>\n",
       "    </tr>\n",
       "    <tr>\n",
       "      <td>CompoundTokenTagger</td>\n",
       "      <td>compound_tokens</td>\n",
       "      <td>[type, normalized]</td>\n",
       "      <td>[tokens]</td>\n",
       "      <td>{'tag_abbreviations': True, 'conflict_resolving_strategy': 'MAX', 'tag_units': True, 'tag_emails': True, 'compound_types_to_merge': {'name', 'abbrevation'}, 'tag_numbers': True, 'tag_initials': True}</td>\n",
       "    </tr>\n",
       "    <tr>\n",
       "      <td>WordTokenizer</td>\n",
       "      <td>words</td>\n",
       "      <td>[]</td>\n",
       "      <td>[compound_tokens]</td>\n",
       "      <td>{}</td>\n",
       "    </tr>\n",
       "    <tr>\n",
       "      <td>SentenceTokenizer</td>\n",
       "      <td>sentences</td>\n",
       "      <td>[]</td>\n",
       "      <td>[compound_tokens, words]</td>\n",
       "      <td>{}</td>\n",
       "    </tr>\n",
       "    <tr>\n",
       "      <td>ParagraphTokenizer</td>\n",
       "      <td>paragraphs</td>\n",
       "      <td>[]</td>\n",
       "      <td>[sentences]</td>\n",
       "      <td>{'regex': '\\s*\n",
       "\n",
       "'}</td>\n",
       "    </tr>\n",
       "    <tr>\n",
       "      <td>WordNormalizingTagger</td>\n",
       "      <td>normalized_words</td>\n",
       "      <td>[normal]</td>\n",
       "      <td>[words]</td>\n",
       "      <td>{}</td>\n",
       "    </tr>\n",
       "    <tr>\n",
       "      <td>VabamorfTagger</td>\n",
       "      <td>morph_analysis</td>\n",
       "      <td>[lemma, root, root_tokens, ending, clitic, form, partofspeech]</td>\n",
       "      <td>[words, normalized_words]</td>\n",
       "      <td>{'disambiguate': True, 'premorph_layer': 'normalized_words', 'guess': True, 'compound': True, 'propername': True, 'postmorph_rewriter': 'VabamorfCorrectionRewriter', 'phonetic': False}</td>\n",
       "    </tr>\n",
       "    <tr>\n",
       "      <td>MorphExtendedTagger</td>\n",
       "      <td>morph_extended</td>\n",
       "      <td>[lemma, root, root_tokens, ending, clitic, form, partofspeech, punctuation_type, pronoun_type, letter_case, fin, verb_extension_suffix, subcat]</td>\n",
       "      <td>[morph_analysis]</td>\n",
       "      <td>{'subcat_rules_file': '/home/paul/workspace/estnltk/estnltk/rewriting/syntax_preprocessing/rules_files/abileksikon06utf.lx', 'allow_to_remove_all': False, 'fs_to_synt_rules_file': '/home/paul/workspace/estnltk/estnltk/rewriting/syntax_preprocessing/rules_files/tmorftrtabel.txt'}</td>\n",
       "    </tr>\n",
       "  </tbody>\n",
       "</table>"
      ],
      "text/plain": [
       "<estnltk.resolve_layer_dag.Taggers at 0x7fdbf47df160>"
      ]
     },
     "execution_count": 11,
     "metadata": {},
     "output_type": "execute_result"
    }
   ],
   "source": [
    "from estnltk.resolve_layer_dag import DEFAULT_RESOLVER\n",
    "DEFAULT_RESOLVER.taggers"
   ]
  }
 ],
 "metadata": {
  "kernelspec": {
   "display_name": "Python 3",
   "language": "python",
   "name": "python3"
  },
  "language_info": {
   "codemirror_mode": {
    "name": "ipython",
    "version": 3
   },
   "file_extension": ".py",
   "mimetype": "text/x-python",
   "name": "python",
   "nbconvert_exporter": "python",
   "pygments_lexer": "ipython3",
   "version": "3.5.4"
  }
 },
 "nbformat": 4,
 "nbformat_minor": 1
}
