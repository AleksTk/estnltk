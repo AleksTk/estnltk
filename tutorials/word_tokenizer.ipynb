{
 "cells": [
  {
   "cell_type": "markdown",
   "metadata": {},
   "source": [
    "# Word tokenization\n",
    "## Tokenize words without tokenization hints"
   ]
  },
  {
   "cell_type": "code",
   "execution_count": 1,
   "metadata": {
    "collapsed": false
   },
   "outputs": [
    {
     "data": {
      "text/plain": [
       "'Aadressilt bla@bla.ee tuli 10 000 kirja aadressile foo@foo.ee 10 tunni jooksul 2017. aastal. A. H. Tammsaare: 1,0 m / s = 3, 67 km/h.'"
      ]
     },
     "execution_count": 1,
     "metadata": {},
     "output_type": "execute_result"
    }
   ],
   "source": [
    "from estnltk import Text\n",
    "from estnltk.layer_operations import repr_html\n",
    "\n",
    "t = '''Aadressilt bla@bla.ee tuli 10 000 kirja aadressile foo@foo.ee 10 tunni jooksul 2017. aastal. \\\n",
    "A. H. Tammsaare: 1,0 m / s = 3, 67 km/h.'''\n",
    "t"
   ]
  },
  {
   "cell_type": "code",
   "execution_count": 2,
   "metadata": {
    "collapsed": false
   },
   "outputs": [
    {
     "data": {
      "text/plain": [
       "['Aadressilt',\n",
       " 'bla',\n",
       " '@',\n",
       " 'bla.ee',\n",
       " 'tuli',\n",
       " '10',\n",
       " '000',\n",
       " 'kirja',\n",
       " 'aadressile',\n",
       " 'foo',\n",
       " '@',\n",
       " 'foo.ee',\n",
       " '10',\n",
       " 'tunni',\n",
       " 'jooksul',\n",
       " '2017.',\n",
       " 'aastal',\n",
       " '.',\n",
       " 'A.',\n",
       " 'H.',\n",
       " 'Tammsaare',\n",
       " ':',\n",
       " '1,0',\n",
       " 'm',\n",
       " '/',\n",
       " 's',\n",
       " '=',\n",
       " '3',\n",
       " ',',\n",
       " '67',\n",
       " 'km',\n",
       " '/',\n",
       " 'h',\n",
       " '.']"
      ]
     },
     "execution_count": 2,
     "metadata": {},
     "output_type": "execute_result"
    }
   ],
   "source": [
    "text = Text(t)\n",
    "text.tag_layer(['words'])\n",
    "text.words.text"
   ]
  },
  {
   "cell_type": "markdown",
   "metadata": {},
   "source": [
    "## Tokenize words with tokenization hints\n",
    "### Create tokenization hints layer"
   ]
  },
  {
   "cell_type": "markdown",
   "metadata": {},
   "source": [
    "Word tokenizer can use hints from the tokenization_hints layer. One can create tokenization_hints layer with TokenizationHintsTagger."
   ]
  },
  {
   "cell_type": "code",
   "execution_count": 3,
   "metadata": {
    "collapsed": false
   },
   "outputs": [
    {
     "data": {
      "text/html": [
       "<div>\n",
       "<table border=\"1\" class=\"dataframe\">\n",
       "  <thead>\n",
       "    <tr style=\"text-align: right;\">\n",
       "      <th></th>\n",
       "      <th>text</th>\n",
       "      <th>_priority_</th>\n",
       "      <th>normalized</th>\n",
       "    </tr>\n",
       "  </thead>\n",
       "  <tbody>\n",
       "    <tr>\n",
       "      <th>0</th>\n",
       "      <td>bla@bla.ee</td>\n",
       "      <td>(0, 0)</td>\n",
       "      <td>None</td>\n",
       "    </tr>\n",
       "    <tr>\n",
       "      <th>1</th>\n",
       "      <td>10 000</td>\n",
       "      <td>(1, 0)</td>\n",
       "      <td>10000</td>\n",
       "    </tr>\n",
       "    <tr>\n",
       "      <th>2</th>\n",
       "      <td>foo@foo.ee</td>\n",
       "      <td>(0, 0)</td>\n",
       "      <td>None</td>\n",
       "    </tr>\n",
       "    <tr>\n",
       "      <th>3</th>\n",
       "      <td>10</td>\n",
       "      <td>(1, 0)</td>\n",
       "      <td>10</td>\n",
       "    </tr>\n",
       "    <tr>\n",
       "      <th>4</th>\n",
       "      <td>2017.</td>\n",
       "      <td>(1, 0)</td>\n",
       "      <td>2017</td>\n",
       "    </tr>\n",
       "    <tr>\n",
       "      <th>5</th>\n",
       "      <td>A. H. Tammsaare</td>\n",
       "      <td>(3, 0)</td>\n",
       "      <td>A. H. Tammsaare</td>\n",
       "    </tr>\n",
       "    <tr>\n",
       "      <th>6</th>\n",
       "      <td>1,0</td>\n",
       "      <td>(1, 0)</td>\n",
       "      <td>1,0</td>\n",
       "    </tr>\n",
       "    <tr>\n",
       "      <th>7</th>\n",
       "      <td>m / s</td>\n",
       "      <td>(2, 0)</td>\n",
       "      <td>m/s</td>\n",
       "    </tr>\n",
       "    <tr>\n",
       "      <th>8</th>\n",
       "      <td>3, 67</td>\n",
       "      <td>(1, 0)</td>\n",
       "      <td>3,67</td>\n",
       "    </tr>\n",
       "    <tr>\n",
       "      <th>9</th>\n",
       "      <td>km/h</td>\n",
       "      <td>(2, 0)</td>\n",
       "      <td>km/h</td>\n",
       "    </tr>\n",
       "  </tbody>\n",
       "</table>\n",
       "</div>"
      ],
      "text/plain": [
       "              text _priority_       normalized\n",
       "0       bla@bla.ee     (0, 0)             None\n",
       "1          10 000      (1, 0)            10000\n",
       "2       foo@foo.ee     (0, 0)             None\n",
       "3              10      (1, 0)               10\n",
       "4            2017.     (1, 0)             2017\n",
       "5  A. H. Tammsaare     (3, 0)  A. H. Tammsaare\n",
       "6             1,0      (1, 0)              1,0\n",
       "7            m / s     (2, 0)              m/s\n",
       "8           3, 67      (1, 0)             3,67\n",
       "9             km/h     (2, 0)             km/h"
      ]
     },
     "execution_count": 3,
     "metadata": {},
     "output_type": "execute_result"
    }
   ],
   "source": [
    "from estnltk.taggers import TokenizationHintsTagger\n",
    "\n",
    "tokenization_hints_tagger = TokenizationHintsTagger()\n",
    "\n",
    "text = Text(t)\n",
    "status = {}\n",
    "tokenization_hints_tagger.tag(text, status)\n",
    "repr_html(text['tokenization_hints'])"
   ]
  },
  {
   "cell_type": "code",
   "execution_count": 4,
   "metadata": {
    "collapsed": false
   },
   "outputs": [
    {
     "data": {
      "text/plain": [
       "{'number_of_conflicts': 0}"
      ]
     },
     "execution_count": 4,
     "metadata": {},
     "output_type": "execute_result"
    }
   ],
   "source": [
    "status"
   ]
  },
  {
   "cell_type": "markdown",
   "metadata": {},
   "source": [
    "### Tokenize words\n",
    "Word tokenizer uses tokenizaton hints layer if it is present."
   ]
  },
  {
   "cell_type": "code",
   "execution_count": 5,
   "metadata": {
    "collapsed": false
   },
   "outputs": [
    {
     "data": {
      "text/plain": [
       "['Aadressilt',\n",
       " 'bla@bla.ee',\n",
       " 'tuli',\n",
       " '10 000 ',\n",
       " 'kirja',\n",
       " 'aadressile',\n",
       " 'foo@foo.ee',\n",
       " '10 ',\n",
       " 'tunni',\n",
       " 'jooksul',\n",
       " '2017.',\n",
       " 'aastal',\n",
       " '.',\n",
       " 'A. H. Tammsaare',\n",
       " ':',\n",
       " '1,0 ',\n",
       " 'm / s',\n",
       " '=',\n",
       " '3, 67 ',\n",
       " 'km/h',\n",
       " '.']"
      ]
     },
     "execution_count": 5,
     "metadata": {},
     "output_type": "execute_result"
    }
   ],
   "source": [
    "text.tag_layer(['words'])\n",
    "text.words.text"
   ]
  }
 ],
 "metadata": {
  "kernelspec": {
   "display_name": "Python [py35]",
   "language": "python",
   "name": "Python [py35]"
  },
  "language_info": {
   "codemirror_mode": {
    "name": "ipython",
    "version": 3
   },
   "file_extension": ".py",
   "mimetype": "text/x-python",
   "name": "python",
   "nbconvert_exporter": "python",
   "pygments_lexer": "ipython3",
   "version": "3.5.3"
  }
 },
 "nbformat": 4,
 "nbformat_minor": 2
}
