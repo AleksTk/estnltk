{
 "cells": [
  {
   "cell_type": "markdown",
   "metadata": {},
   "source": [
    "# Word tokenization\n",
    "## Tokenize words without tokenization hints"
   ]
  },
  {
   "cell_type": "code",
   "execution_count": 1,
   "metadata": {
    "collapsed": false
   },
   "outputs": [
    {
     "data": {
      "text/plain": [
       "'Aadressilt bla@bla.ee tuli 10 000 kirja aadressile foo@foo.ee 10 tunni jooksul. A. H. Tammsaare: 1,0 m / s = 3, 67 km/h.'"
      ]
     },
     "execution_count": 1,
     "metadata": {},
     "output_type": "execute_result"
    }
   ],
   "source": [
    "from estnltk import Text\n",
    "t = '''Aadressilt bla@bla.ee tuli 10 000 kirja aadressile foo@foo.ee 10 tunni jooksul. \\\n",
    "A. H. Tammsaare: 1,0 m / s = 3, 67 km/h.'''\n",
    "t"
   ]
  },
  {
   "cell_type": "code",
   "execution_count": 2,
   "metadata": {
    "collapsed": false
   },
   "outputs": [
    {
     "data": {
      "text/plain": [
       "['Aadressilt',\n",
       " 'bla',\n",
       " '@',\n",
       " 'bla.ee',\n",
       " 'tuli',\n",
       " '10',\n",
       " '000',\n",
       " 'kirja',\n",
       " 'aadressile',\n",
       " 'foo',\n",
       " '@',\n",
       " 'foo.ee',\n",
       " '10',\n",
       " 'tunni',\n",
       " 'jooksul',\n",
       " '.',\n",
       " 'A.',\n",
       " 'H.',\n",
       " 'Tammsaare',\n",
       " ':',\n",
       " '1,0',\n",
       " 'm',\n",
       " '/',\n",
       " 's',\n",
       " '=',\n",
       " '3',\n",
       " ',',\n",
       " '67',\n",
       " 'km',\n",
       " '/',\n",
       " 'h',\n",
       " '.']"
      ]
     },
     "execution_count": 2,
     "metadata": {},
     "output_type": "execute_result"
    }
   ],
   "source": [
    "text = Text(t)\n",
    "text.tag_layer(['words'])\n",
    "text.words.text"
   ]
  },
  {
   "cell_type": "markdown",
   "metadata": {},
   "source": [
    "## Tokenize words with tokenization hints\n",
    "### Create tokenization hints layer"
   ]
  },
  {
   "cell_type": "code",
   "execution_count": 3,
   "metadata": {
    "collapsed": false
   },
   "outputs": [
    {
     "data": {
      "text/plain": [
       "SL[Span(bla@bla.ee, {'priority': 2, 'normalized': None}),\n",
       "Span(10 000 , {'priority': 1, 'normalized': '10000'}),\n",
       "Span(foo@foo.ee, {'priority': 2, 'normalized': None}),\n",
       "Span(10 , {'priority': 1, 'normalized': '10'}),\n",
       "Span(A. H. Tammsaare, {'priority': 3, 'normalized': 'A.H. Tammsaare'}),\n",
       "Span( H. Tammsaare, {'priority': 4, 'normalized': 'H. Tammsaare'}),\n",
       "Span(1,0 , {'priority': 1, 'normalized': '1,0'}),\n",
       "Span(m / s, {'priority': 0, 'normalized': 'm/s'}),\n",
       "Span(3, 67 , {'priority': 1, 'normalized': '3,67'}),\n",
       "Span(km/h, {'priority': 0, 'normalized': 'km/h'})]"
      ]
     },
     "execution_count": 3,
     "metadata": {},
     "output_type": "execute_result"
    }
   ],
   "source": [
    "from estnltk.taggers import TokenizationHintsTagger\n",
    "\n",
    "tokenization_hints_tagger = TokenizationHintsTagger()\n",
    "\n",
    "text = Text(t)\n",
    "tokenization_hints_tagger.tag(text)\n",
    "text.tokenization_hints"
   ]
  },
  {
   "cell_type": "markdown",
   "metadata": {},
   "source": [
    "## Tokenize words\n",
    "Word tokenizer uses tokenizaton hints layer if it is present."
   ]
  },
  {
   "cell_type": "code",
   "execution_count": 4,
   "metadata": {
    "collapsed": false
   },
   "outputs": [
    {
     "data": {
      "text/plain": [
       "['Aadressilt',\n",
       " 'bla@bla.ee',\n",
       " 'tuli',\n",
       " '10 000 ',\n",
       " 'kirja',\n",
       " 'aadressile',\n",
       " 'foo@foo.ee',\n",
       " '10 ',\n",
       " 'tunni',\n",
       " 'jooksul',\n",
       " '.',\n",
       " 'A. H. Tammsaare',\n",
       " ' H. Tammsaare',\n",
       " ':',\n",
       " '1,0 ',\n",
       " 'm / s',\n",
       " '=',\n",
       " '3, 67 ',\n",
       " 'km/h',\n",
       " '.']"
      ]
     },
     "execution_count": 4,
     "metadata": {},
     "output_type": "execute_result"
    }
   ],
   "source": [
    "text.tag_layer(['words'])\n",
    "text.words.text"
   ]
  }
 ],
 "metadata": {
  "kernelspec": {
   "display_name": "Python [py35]",
   "language": "python",
   "name": "Python [py35]"
  },
  "language_info": {
   "codemirror_mode": {
    "name": "ipython",
    "version": 3
   },
   "file_extension": ".py",
   "mimetype": "text/x-python",
   "name": "python",
   "nbconvert_exporter": "python",
   "pygments_lexer": "ipython3",
   "version": "3.5.3"
  }
 },
 "nbformat": 4,
 "nbformat_minor": 2
}
