{
 "cells": [
  {
   "cell_type": "markdown",
   "metadata": {},
   "source": [
    "# Word tokenization\n",
    "## Tokenize words without tokenization hints"
   ]
  },
  {
   "cell_type": "code",
   "execution_count": 1,
   "metadata": {
    "collapsed": false
   },
   "outputs": [
    {
     "data": {
      "text/plain": [
       "'Aadressilt bla@bla.ee tuli 10 000 kirja, st. spammi aadressile foo@foo.ee 10 tunni jooksul 2017. aastal. A. H. Tammsaare: 1,0 m / s = 3, 67 km/h.'"
      ]
     },
     "execution_count": 1,
     "metadata": {},
     "output_type": "execute_result"
    }
   ],
   "source": [
    "from estnltk import Text\n",
    "\n",
    "t = '''Aadressilt bla@bla.ee tuli 10 000 kirja, st. spammi aadressile foo@foo.ee 10 tunni jooksul 2017. aastal. \\\n",
    "A. H. Tammsaare: 1,0 m / s = 3, 67 km/h.'''\n",
    "t"
   ]
  },
  {
   "cell_type": "code",
   "execution_count": 2,
   "metadata": {
    "collapsed": false
   },
   "outputs": [
    {
     "data": {
      "text/html": [
       "<table border=\"1\" class=\"dataframe\">\n",
       "  <thead>\n",
       "    <tr style=\"text-align: right;\">\n",
       "      <th>text</th>\n",
       "    </tr>\n",
       "  </thead>\n",
       "  <tbody>\n",
       "    <tr>\n",
       "      <td>Aadressilt</td>\n",
       "    </tr>\n",
       "    <tr>\n",
       "      <td>bla</td>\n",
       "    </tr>\n",
       "    <tr>\n",
       "      <td>@</td>\n",
       "    </tr>\n",
       "    <tr>\n",
       "      <td>bla.ee</td>\n",
       "    </tr>\n",
       "    <tr>\n",
       "      <td>tuli</td>\n",
       "    </tr>\n",
       "    <tr>\n",
       "      <td>10</td>\n",
       "    </tr>\n",
       "    <tr>\n",
       "      <td>000</td>\n",
       "    </tr>\n",
       "    <tr>\n",
       "      <td>kirja</td>\n",
       "    </tr>\n",
       "    <tr>\n",
       "      <td>,</td>\n",
       "    </tr>\n",
       "    <tr>\n",
       "      <td>st</td>\n",
       "    </tr>\n",
       "    <tr>\n",
       "      <td>.</td>\n",
       "    </tr>\n",
       "    <tr>\n",
       "      <td>spammi</td>\n",
       "    </tr>\n",
       "    <tr>\n",
       "      <td>aadressile</td>\n",
       "    </tr>\n",
       "    <tr>\n",
       "      <td>foo</td>\n",
       "    </tr>\n",
       "    <tr>\n",
       "      <td>@</td>\n",
       "    </tr>\n",
       "    <tr>\n",
       "      <td>foo.ee</td>\n",
       "    </tr>\n",
       "    <tr>\n",
       "      <td>10</td>\n",
       "    </tr>\n",
       "    <tr>\n",
       "      <td>tunni</td>\n",
       "    </tr>\n",
       "    <tr>\n",
       "      <td>jooksul</td>\n",
       "    </tr>\n",
       "    <tr>\n",
       "      <td>2017.</td>\n",
       "    </tr>\n",
       "    <tr>\n",
       "      <td>aastal</td>\n",
       "    </tr>\n",
       "    <tr>\n",
       "      <td>.</td>\n",
       "    </tr>\n",
       "    <tr>\n",
       "      <td>A.</td>\n",
       "    </tr>\n",
       "    <tr>\n",
       "      <td>H.</td>\n",
       "    </tr>\n",
       "    <tr>\n",
       "      <td>Tammsaare</td>\n",
       "    </tr>\n",
       "    <tr>\n",
       "      <td>:</td>\n",
       "    </tr>\n",
       "    <tr>\n",
       "      <td>1,0</td>\n",
       "    </tr>\n",
       "    <tr>\n",
       "      <td>m</td>\n",
       "    </tr>\n",
       "    <tr>\n",
       "      <td>/</td>\n",
       "    </tr>\n",
       "    <tr>\n",
       "      <td>s</td>\n",
       "    </tr>\n",
       "    <tr>\n",
       "      <td>=</td>\n",
       "    </tr>\n",
       "    <tr>\n",
       "      <td>3</td>\n",
       "    </tr>\n",
       "    <tr>\n",
       "      <td>,</td>\n",
       "    </tr>\n",
       "    <tr>\n",
       "      <td>67</td>\n",
       "    </tr>\n",
       "    <tr>\n",
       "      <td>km</td>\n",
       "    </tr>\n",
       "    <tr>\n",
       "      <td>/</td>\n",
       "    </tr>\n",
       "    <tr>\n",
       "      <td>h</td>\n",
       "    </tr>\n",
       "    <tr>\n",
       "      <td>.</td>\n",
       "    </tr>\n",
       "  </tbody>\n",
       "</table>"
      ],
      "text/plain": [
       "<estnltk.text.Layer at 0x7f32ca19cef0>"
      ]
     },
     "execution_count": 2,
     "metadata": {},
     "output_type": "execute_result"
    }
   ],
   "source": [
    "text = Text(t)\n",
    "text.tag_layer(['words'])\n",
    "text['words']"
   ]
  },
  {
   "cell_type": "markdown",
   "metadata": {},
   "source": [
    "## Tokenize words with tokenization hints\n",
    "### Create tokenization hints layer"
   ]
  },
  {
   "cell_type": "markdown",
   "metadata": {},
   "source": [
    "Word tokenizer can use hints from the tokenization_hints layer. One can create tokenization_hints layer with TokenizationHintsTagger."
   ]
  },
  {
   "cell_type": "code",
   "execution_count": 3,
   "metadata": {
    "collapsed": false
   },
   "outputs": [
    {
     "data": {
      "text/html": [
       "<table border=\"1\" class=\"dataframe\">\n",
       "  <thead>\n",
       "    <tr style=\"text-align: right;\">\n",
       "      <th>text</th>\n",
       "      <th>normalized</th>\n",
       "      <th>_priority_</th>\n",
       "    </tr>\n",
       "  </thead>\n",
       "  <tbody>\n",
       "    <tr>\n",
       "      <td>bla@bla.ee</td>\n",
       "      <td>None</td>\n",
       "      <td>(0, 0)</td>\n",
       "    </tr>\n",
       "    <tr>\n",
       "      <td>10 000</td>\n",
       "      <td>10000</td>\n",
       "      <td>(1, 0)</td>\n",
       "    </tr>\n",
       "    <tr>\n",
       "      <td>st.</td>\n",
       "      <td>None</td>\n",
       "      <td>(4, 0)</td>\n",
       "    </tr>\n",
       "    <tr>\n",
       "      <td>foo@foo.ee</td>\n",
       "      <td>None</td>\n",
       "      <td>(0, 0)</td>\n",
       "    </tr>\n",
       "    <tr>\n",
       "      <td>10</td>\n",
       "      <td>10</td>\n",
       "      <td>(1, 0)</td>\n",
       "    </tr>\n",
       "    <tr>\n",
       "      <td>2017.</td>\n",
       "      <td>2017</td>\n",
       "      <td>(1, 0)</td>\n",
       "    </tr>\n",
       "    <tr>\n",
       "      <td>A. H. Tammsaare</td>\n",
       "      <td>A. H. Tammsaare</td>\n",
       "      <td>(3, 0)</td>\n",
       "    </tr>\n",
       "    <tr>\n",
       "      <td>1,0</td>\n",
       "      <td>1,0</td>\n",
       "      <td>(1, 0)</td>\n",
       "    </tr>\n",
       "    <tr>\n",
       "      <td>m / s</td>\n",
       "      <td>m/s</td>\n",
       "      <td>(2, 0)</td>\n",
       "    </tr>\n",
       "    <tr>\n",
       "      <td>3, 67</td>\n",
       "      <td>3,67</td>\n",
       "      <td>(1, 0)</td>\n",
       "    </tr>\n",
       "    <tr>\n",
       "      <td>km/h</td>\n",
       "      <td>km/h</td>\n",
       "      <td>(2, 0)</td>\n",
       "    </tr>\n",
       "  </tbody>\n",
       "</table>"
      ],
      "text/plain": [
       "<estnltk.text.Layer at 0x7f32ca1c5128>"
      ]
     },
     "execution_count": 3,
     "metadata": {},
     "output_type": "execute_result"
    }
   ],
   "source": [
    "from estnltk.taggers import TokenizationHintsTagger\n",
    "\n",
    "tokenization_hints_tagger = TokenizationHintsTagger()\n",
    "\n",
    "text = Text(t)\n",
    "status = {}\n",
    "tokenization_hints_tagger.tag(text, status)\n",
    "text['tokenization_hints']"
   ]
  },
  {
   "cell_type": "code",
   "execution_count": 4,
   "metadata": {
    "collapsed": false
   },
   "outputs": [
    {
     "data": {
      "text/plain": [
       "{'number_of_conflicts': 0}"
      ]
     },
     "execution_count": 4,
     "metadata": {},
     "output_type": "execute_result"
    }
   ],
   "source": [
    "status"
   ]
  },
  {
   "cell_type": "markdown",
   "metadata": {},
   "source": [
    "### Tokenize words\n",
    "Word tokenizer uses tokenizaton hints layer if it is present."
   ]
  },
  {
   "cell_type": "code",
   "execution_count": 5,
   "metadata": {
    "collapsed": false
   },
   "outputs": [
    {
     "data": {
      "text/html": [
       "<table border=\"1\" class=\"dataframe\">\n",
       "  <thead>\n",
       "    <tr style=\"text-align: right;\">\n",
       "      <th>text</th>\n",
       "    </tr>\n",
       "  </thead>\n",
       "  <tbody>\n",
       "    <tr>\n",
       "      <td>Aadressilt</td>\n",
       "    </tr>\n",
       "    <tr>\n",
       "      <td>bla@bla.ee</td>\n",
       "    </tr>\n",
       "    <tr>\n",
       "      <td>tuli</td>\n",
       "    </tr>\n",
       "    <tr>\n",
       "      <td>10 000</td>\n",
       "    </tr>\n",
       "    <tr>\n",
       "      <td>kirja</td>\n",
       "    </tr>\n",
       "    <tr>\n",
       "      <td>,</td>\n",
       "    </tr>\n",
       "    <tr>\n",
       "      <td>st.</td>\n",
       "    </tr>\n",
       "    <tr>\n",
       "      <td>spammi</td>\n",
       "    </tr>\n",
       "    <tr>\n",
       "      <td>aadressile</td>\n",
       "    </tr>\n",
       "    <tr>\n",
       "      <td>foo@foo.ee</td>\n",
       "    </tr>\n",
       "    <tr>\n",
       "      <td>10</td>\n",
       "    </tr>\n",
       "    <tr>\n",
       "      <td>tunni</td>\n",
       "    </tr>\n",
       "    <tr>\n",
       "      <td>jooksul</td>\n",
       "    </tr>\n",
       "    <tr>\n",
       "      <td>2017.</td>\n",
       "    </tr>\n",
       "    <tr>\n",
       "      <td>aastal</td>\n",
       "    </tr>\n",
       "    <tr>\n",
       "      <td>.</td>\n",
       "    </tr>\n",
       "    <tr>\n",
       "      <td>A. H. Tammsaare</td>\n",
       "    </tr>\n",
       "    <tr>\n",
       "      <td>:</td>\n",
       "    </tr>\n",
       "    <tr>\n",
       "      <td>1,0</td>\n",
       "    </tr>\n",
       "    <tr>\n",
       "      <td>m / s</td>\n",
       "    </tr>\n",
       "    <tr>\n",
       "      <td>=</td>\n",
       "    </tr>\n",
       "    <tr>\n",
       "      <td>3, 67</td>\n",
       "    </tr>\n",
       "    <tr>\n",
       "      <td>km/h</td>\n",
       "    </tr>\n",
       "    <tr>\n",
       "      <td>.</td>\n",
       "    </tr>\n",
       "  </tbody>\n",
       "</table>"
      ],
      "text/plain": [
       "<estnltk.text.Layer at 0x7f32ca1bdfd0>"
      ]
     },
     "execution_count": 5,
     "metadata": {},
     "output_type": "execute_result"
    }
   ],
   "source": [
    "text.tag_layer(['words'])\n",
    "text['words']"
   ]
  }
 ],
 "metadata": {
  "kernelspec": {
   "display_name": "Python [py35]",
   "language": "python",
   "name": "Python [py35]"
  },
  "language_info": {
   "codemirror_mode": {
    "name": "ipython",
    "version": 3
   },
   "file_extension": ".py",
   "mimetype": "text/x-python",
   "name": "python",
   "nbconvert_exporter": "python",
   "pygments_lexer": "ipython3",
   "version": "3.5.3"
  }
 },
 "nbformat": 4,
 "nbformat_minor": 2
}
