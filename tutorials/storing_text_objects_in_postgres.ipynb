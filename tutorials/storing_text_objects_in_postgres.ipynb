{
 "cells": [
  {
   "cell_type": "markdown",
   "metadata": {
    "collapsed": true
   },
   "source": [
    "# Storing Text objects in Postgres"
   ]
  },
  {
   "cell_type": "markdown",
   "metadata": {},
   "source": [
    "This tutorial demonstrates how to store and query estnltk text objects in postgres database."
   ]
  },
  {
   "cell_type": "code",
   "execution_count": 31,
   "metadata": {},
   "outputs": [],
   "source": [
    "from estnltk import Text\n",
    "from estnltk.storage.postgres import PostgresStorage, JsonbTextQuery,  JsonbLayerQuery\n",
    "from estnltk.taggers import VabamorfTagger"
   ]
  },
  {
   "cell_type": "markdown",
   "metadata": {},
   "source": [
    "Connect to an existing postgres database"
   ]
  },
  {
   "cell_type": "code",
   "execution_count": 32,
   "metadata": {},
   "outputs": [],
   "source": [
    "storage = PostgresStorage(pgpass_file=r\"C:\\Users\\distorti\\projects\\ut\\estnltk\\estnltk\\storage\\postgres\\.pgpass\")"
   ]
  },
  {
   "cell_type": "markdown",
   "metadata": {},
   "source": [
    "## Collections"
   ]
  },
  {
   "cell_type": "markdown",
   "metadata": {},
   "source": [
    "Collection stores text objects and provides read/write API.\n",
    "\n",
    "Create a new collection:"
   ]
  },
  {
   "cell_type": "code",
   "execution_count": 34,
   "metadata": {},
   "outputs": [],
   "source": [
    "collection = storage.get_collection(\"my_collection\")\n",
    "collection.create()"
   ]
  },
  {
   "cell_type": "markdown",
   "metadata": {},
   "source": [
    "Add some data:"
   ]
  },
  {
   "cell_type": "code",
   "execution_count": 35,
   "metadata": {},
   "outputs": [
    {
     "name": "stdout",
     "output_type": "stream",
     "text": [
      "1 Text(text=\"ööbik laulab.\")\n",
      "7 Text(text=\"öökull ei laula.\")\n"
     ]
    }
   ],
   "source": [
    "text1 = Text('ööbik laulab.').tag_layer(['morph_analysis'])\n",
    "key1 = collection.insert(text1)\n",
    "print(key1, text1)\n",
    "\n",
    "text2 = Text('öökull ei laula.').tag_layer(['morph_analysis'])\n",
    "key2 = collection.insert(text2, key=7)\n",
    "print(key2, text2)"
   ]
  },
  {
   "cell_type": "markdown",
   "metadata": {},
   "source": [
    "Iterate over collection:"
   ]
  },
  {
   "cell_type": "code",
   "execution_count": 36,
   "metadata": {},
   "outputs": [
    {
     "name": "stdout",
     "output_type": "stream",
     "text": [
      "1 Text(text=\"ööbik laulab.\")\n",
      "7 Text(text=\"öökull ei laula.\")\n"
     ]
    }
   ],
   "source": [
    "for key, text in collection.select():\n",
    "    print(key, text)"
   ]
  },
  {
   "cell_type": "markdown",
   "metadata": {},
   "source": [
    "Search for a particular entry by key:"
   ]
  },
  {
   "cell_type": "code",
   "execution_count": 37,
   "metadata": {},
   "outputs": [
    {
     "name": "stdout",
     "output_type": "stream",
     "text": [
      "Text(text=\"öökull ei laula.\")\n"
     ]
    }
   ],
   "source": [
    "txt = collection.select_by_key(7)\n",
    "print(txt)"
   ]
  },
  {
   "cell_type": "markdown",
   "metadata": {},
   "source": [
    "Search using layer attributes:"
   ]
  },
  {
   "cell_type": "code",
   "execution_count": 38,
   "metadata": {},
   "outputs": [
    {
     "name": "stdout",
     "output_type": "stream",
     "text": [
      "1 Text(text=\"ööbik laulab.\")\n",
      "7 Text(text=\"öökull ei laula.\")\n"
     ]
    }
   ],
   "source": [
    "q = JsonbTextQuery('morph_analysis', lemma='laulma')\n",
    "for key, txt in collection.select(query=q):\n",
    "    print(key, txt)"
   ]
  },
  {
   "cell_type": "markdown",
   "metadata": {},
   "source": [
    "Search using multiple layer attributes:"
   ]
  },
  {
   "cell_type": "code",
   "execution_count": 39,
   "metadata": {},
   "outputs": [
    {
     "name": "stdout",
     "output_type": "stream",
     "text": [
      "1 Text(text=\"ööbik laulab.\")\n"
     ]
    }
   ],
   "source": [
    "q = JsonbTextQuery('morph_analysis', lemma='laulma', form='b')\n",
    "for key, txt in collection.select(query=q):\n",
    "    print(key, txt)"
   ]
  },
  {
   "cell_type": "markdown",
   "metadata": {},
   "source": [
    "Search using \"OR\" query:"
   ]
  },
  {
   "cell_type": "code",
   "execution_count": 40,
   "metadata": {},
   "outputs": [
    {
     "name": "stdout",
     "output_type": "stream",
     "text": [
      "1 Text(text=\"ööbik laulab.\")\n",
      "7 Text(text=\"öökull ei laula.\")\n"
     ]
    }
   ],
   "source": [
    "q = JsonbTextQuery('morph_analysis', lemma='ööbik') | \\\n",
    "    JsonbTextQuery('morph_analysis', lemma='öökull')\n",
    "for key, txt in collection.select(query=q):\n",
    "    print(key, txt)"
   ]
  },
  {
   "cell_type": "markdown",
   "metadata": {},
   "source": [
    "Search using \"AND\" query:"
   ]
  },
  {
   "cell_type": "code",
   "execution_count": 41,
   "metadata": {},
   "outputs": [],
   "source": [
    "q = JsonbTextQuery('morph_analysis', lemma='ööbik') & \\\n",
    "    JsonbTextQuery('morph_analysis', lemma='öökull')\n",
    "for key, txt in collection.select(query=q):\n",
    "    print(key, txt)"
   ]
  },
  {
   "cell_type": "markdown",
   "metadata": {},
   "source": [
    "Search using a composite query:"
   ]
  },
  {
   "cell_type": "code",
   "execution_count": 42,
   "metadata": {
    "scrolled": true
   },
   "outputs": [
    {
     "name": "stdout",
     "output_type": "stream",
     "text": [
      "1 Text(text=\"ööbik laulab.\")\n",
      "7 Text(text=\"öökull ei laula.\")\n"
     ]
    }
   ],
   "source": [
    "q = (JsonbTextQuery('morph_analysis', lemma='ööbik') | JsonbTextQuery('morph_analysis', lemma='öökull')) & \\\n",
    "    JsonbTextQuery('morph_analysis', lemma='laulma')\n",
    "for key, txt in collection.select(query=q):\n",
    "    print(key, txt)"
   ]
  },
  {
   "cell_type": "markdown",
   "metadata": {},
   "source": [
    "or use a convenience method `find_fingerprint`:"
   ]
  },
  {
   "cell_type": "code",
   "execution_count": 43,
   "metadata": {
    "scrolled": true
   },
   "outputs": [
    {
     "name": "stdout",
     "output_type": "stream",
     "text": [
      "1 Text(text=\"ööbik laulab.\")\n",
      "7 Text(text=\"öökull ei laula.\")\n"
     ]
    }
   ],
   "source": [
    "for key, txt in collection.find_fingerprint(\n",
    "                    query={\n",
    "                        \"layer\": \"morph_analysis\",\n",
    "                        \"ambiguous\": True,\n",
    "                        \"field\": \"lemma\",\n",
    "                        \"query\": [{'ööbik', 'laulma'}, {'öökull', 'laulma'}] # (ööbik AND laulma) OR (öökull AND laulma)\n",
    "                    },\n",
    "                    order_by_key=True):\n",
    "    print(key, txt)"
   ]
  },
  {
   "cell_type": "code",
   "execution_count": 44,
   "metadata": {},
   "outputs": [
    {
     "name": "stdout",
     "output_type": "stream",
     "text": [
      "1 Text(text=\"ööbik laulab.\")\n",
      "7 Text(text=\"öökull ei laula.\")\n"
     ]
    }
   ],
   "source": [
    "for key, txt in collection.find_fingerprint(\n",
    "                    query={\n",
    "                        \"layer\": \"morph_analysis\",\n",
    "                        \"ambiguous\": True,\n",
    "                        \"field\": \"lemma\",\n",
    "                        \"query\": ['öökull', 'laulma'] # öökull OR laulma\n",
    "                    },\n",
    "                    order_by_key=True):\n",
    "    print(key, txt)"
   ]
  },
  {
   "cell_type": "code",
   "execution_count": 45,
   "metadata": {},
   "outputs": [
    {
     "name": "stdout",
     "output_type": "stream",
     "text": [
      "7 Text(text=\"öökull ei laula.\")\n"
     ]
    }
   ],
   "source": [
    "for key, txt in collection.find_fingerprint(\n",
    "                    query={\n",
    "                        \"layer\": \"morph_analysis\",\n",
    "                        \"ambiguous\": True,\n",
    "                        \"field\": \"lemma\",\n",
    "                        \"query\": [{'öökull', 'laulma'}] # öökull AND laulma\n",
    "                    },\n",
    "                    order_by_key=True):\n",
    "    print(key, txt)"
   ]
  },
  {
   "cell_type": "markdown",
   "metadata": {},
   "source": [
    "Delete collection"
   ]
  },
  {
   "cell_type": "code",
   "execution_count": 46,
   "metadata": {},
   "outputs": [],
   "source": [
    "collection.delete()"
   ]
  },
  {
   "cell_type": "markdown",
   "metadata": {},
   "source": [
    "## Working with layers"
   ]
  },
  {
   "cell_type": "markdown",
   "metadata": {},
   "source": [
    "Let's say you want to create a collection which stores only layers up to \"sentences\":"
   ]
  },
  {
   "cell_type": "code",
   "execution_count": 47,
   "metadata": {
    "scrolled": true
   },
   "outputs": [],
   "source": [
    "collection = storage.get_collection(\"collection_with_layers\")\n",
    "collection.create()\n",
    "\n",
    "collection.insert(Text('see on esimene lause').tag_layer([\"sentences\"]))\n",
    "collection.insert(Text('see on teine lause').tag_layer([\"sentences\"]));"
   ]
  },
  {
   "cell_type": "markdown",
   "metadata": {},
   "source": [
    "Check what layers are present:"
   ]
  },
  {
   "cell_type": "code",
   "execution_count": 48,
   "metadata": {},
   "outputs": [
    {
     "name": "stdout",
     "output_type": "stream",
     "text": [
      "1 Text(text=\"see on esimene lause\") dict_keys(['tokens', 'words', 'sentences', 'compound_tokens'])\n",
      "2 Text(text=\"see on teine lause\") dict_keys(['tokens', 'words', 'sentences', 'compound_tokens'])\n"
     ]
    }
   ],
   "source": [
    "for key, text in collection.select():\n",
    "    print(key, text, text.layers.keys())"
   ]
  },
  {
   "cell_type": "markdown",
   "metadata": {},
   "source": [
    "Now, you want to add new layers \"my_first_layer\" and \"my_second_layer\" to store other information. However, you want to store them in a separate table. For this purpose collection object has a `create_layer` method:"
   ]
  },
  {
   "cell_type": "code",
   "execution_count": 49,
   "metadata": {
    "scrolled": true
   },
   "outputs": [],
   "source": [
    "layer1 = \"my_first_layer\"\n",
    "layer1_table = collection.layer_name_to_table_name(layer1)\n",
    "tagger1 = VabamorfTagger(disambiguate=False, layer_name=layer1)\n",
    "collection.create_layer(layer1, callable=lambda t: tagger1.tag(t, return_layer=True))\n",
    "\n",
    "layer2 = \"my_second_layer\"\n",
    "layer2_table = collection.layer_name_to_table_name(layer2)\n",
    "tagger2 = VabamorfTagger(disambiguate=False, layer_name=layer2)\n",
    "collection.create_layer(layer2, callable=lambda t: tagger2.tag(t, return_layer=True))"
   ]
  },
  {
   "cell_type": "markdown",
   "metadata": {},
   "source": [
    "Specified `callable` function is applied to each `text` entry in a collection and is expected to return a `Layer` instance.\n",
    "\n",
    "If your `tagger` uses layers that are stored in separate tables, use `layers` argument to specify the layers to fetch. These layers will be merged with the text object before passing it to `callable`:\n",
    "\n",
    "```\n",
    "collection.create_layer(layer,\n",
    "                        layers=['layer1', 'layer2', ...],\n",
    "                        callable=lambda t: tagger.tag(t, return_layer=True))\n",
    "```"
   ]
  },
  {
   "cell_type": "markdown",
   "metadata": {},
   "source": [
    "Make sure the new layer has been created:"
   ]
  },
  {
   "cell_type": "code",
   "execution_count": 50,
   "metadata": {},
   "outputs": [
    {
     "data": {
      "text/plain": [
       "['my_first_layer', 'my_second_layer']"
      ]
     },
     "execution_count": 50,
     "metadata": {},
     "output_type": "execute_result"
    }
   ],
   "source": [
    "collection.get_layer_names()"
   ]
  },
  {
   "cell_type": "markdown",
   "metadata": {},
   "source": [
    "### Searching layers"
   ]
  },
  {
   "cell_type": "markdown",
   "metadata": {},
   "source": [
    "Iterate over collection and new layers using `select` method:"
   ]
  },
  {
   "cell_type": "code",
   "execution_count": 51,
   "metadata": {
    "scrolled": false
   },
   "outputs": [
    {
     "name": "stdout",
     "output_type": "stream",
     "text": [
      "1 Text(text=\"see on esimene lause\") dict_keys(['sentences', 'compound_tokens', 'words', 'tokens', 'my_first_layer', 'my_second_layer'])\n",
      "2 Text(text=\"see on teine lause\") dict_keys(['sentences', 'compound_tokens', 'words', 'tokens', 'my_first_layer', 'my_second_layer'])\n"
     ]
    }
   ],
   "source": [
    "for key, text in collection.select(layers=['my_first_layer', 'my_second_layer']):\n",
    "    print(key, text, text.layers.keys())"
   ]
  },
  {
   "cell_type": "markdown",
   "metadata": {},
   "source": [
    "Notice that the detached layers 'my_first_layer' and 'my_first_layer' are available within the returned `Text` object."
   ]
  },
  {
   "cell_type": "markdown",
   "metadata": {},
   "source": [
    "Search layer using `JsonbLayerQuery`:"
   ]
  },
  {
   "cell_type": "code",
   "execution_count": 52,
   "metadata": {
    "scrolled": true
   },
   "outputs": [
    {
     "name": "stdout",
     "output_type": "stream",
     "text": [
      "1 Text(text=\"see on esimene lause\")\n",
      "2 Text(text=\"see on teine lause\")\n"
     ]
    }
   ],
   "source": [
    "for key, text in collection.select(layer_query={\n",
    "        layer1: JsonbLayerQuery(layer_table=layer1_table, lemma='esimene') | \\\n",
    "                JsonbLayerQuery(layer_table=layer1_table, lemma='teine')\n",
    "        }):\n",
    "    print(key, text)"
   ]
  },
  {
   "cell_type": "markdown",
   "metadata": {},
   "source": [
    "Search over multiple layers using `JsonbLayerQuery`:"
   ]
  },
  {
   "cell_type": "code",
   "execution_count": 53,
   "metadata": {
    "scrolled": false
   },
   "outputs": [
    {
     "name": "stdout",
     "output_type": "stream",
     "text": [
      "1 Text(text=\"see on esimene lause\")\n"
     ]
    }
   ],
   "source": [
    "for key, text in collection.select(layer_query={\n",
    "        layer1: JsonbLayerQuery(layer_table=layer1_table, lemma='esimene') | \\\n",
    "                JsonbLayerQuery(layer_table=layer1_table, lemma='teine'),\n",
    "        layer2: JsonbLayerQuery(layer_table=layer2_table, lemma='esimene')\n",
    "        }):\n",
    "    print(key, text)"
   ]
  },
  {
   "cell_type": "markdown",
   "metadata": {},
   "source": [
    "The same layer query can be specified using convenience method `find_fingerprint`:"
   ]
  },
  {
   "cell_type": "code",
   "execution_count": 54,
   "metadata": {},
   "outputs": [
    {
     "name": "stdout",
     "output_type": "stream",
     "text": [
      "1 Text(text=\"see on esimene lause\")\n"
     ]
    }
   ],
   "source": [
    "for key, text in collection.find_fingerprint(layer_query={\n",
    "            layer1: {\n",
    "                \"field\": \"lemma\",\n",
    "                \"query\": [\"esimene\", \"teine\"],\n",
    "                \"ambiguous\": True\n",
    "            },\n",
    "            layer2: {\n",
    "                \"field\": \"lemma\",\n",
    "                \"query\": [\"esimene\"],\n",
    "                \"ambiguous\": True\n",
    "            }}):\n",
    "    print(key, text)"
   ]
  },
  {
   "cell_type": "markdown",
   "metadata": {},
   "source": [
    "Delete layer"
   ]
  },
  {
   "cell_type": "code",
   "execution_count": 55,
   "metadata": {},
   "outputs": [],
   "source": [
    "collection.delete_layer(layer1)"
   ]
  },
  {
   "cell_type": "markdown",
   "metadata": {},
   "source": [
    "Delete collection"
   ]
  },
  {
   "cell_type": "code",
   "execution_count": 56,
   "metadata": {},
   "outputs": [],
   "source": [
    "collection.delete()"
   ]
  },
  {
   "cell_type": "markdown",
   "metadata": {},
   "source": [
    "Close database connection"
   ]
  },
  {
   "cell_type": "code",
   "execution_count": 57,
   "metadata": {},
   "outputs": [],
   "source": [
    "storage.close()"
   ]
  }
 ],
 "metadata": {
  "kernelspec": {
   "display_name": "Python 3",
   "language": "python",
   "name": "python3"
  },
  "language_info": {
   "codemirror_mode": {
    "name": "ipython",
    "version": 3
   },
   "file_extension": ".py",
   "mimetype": "text/x-python",
   "name": "python",
   "nbconvert_exporter": "python",
   "pygments_lexer": "ipython3",
   "version": "3.5.4"
  }
 },
 "nbformat": 4,
 "nbformat_minor": 1
}
