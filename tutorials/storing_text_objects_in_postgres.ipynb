{
 "cells": [
  {
   "cell_type": "markdown",
   "metadata": {
    "collapsed": true
   },
   "source": [
    "# Storing Text objects in Postgres"
   ]
  },
  {
   "cell_type": "markdown",
   "metadata": {},
   "source": [
    "This tutorial demonstrates how to store and query estnltk text objects in postgres database."
   ]
  },
  {
   "cell_type": "code",
   "execution_count": 2,
   "metadata": {},
   "outputs": [],
   "source": [
    "from estnltk import Text\n",
    "from estnltk.storage.postgres import PostgresStorage, JsonbQuery as Q\n",
    "from estnltk.taggers import VabamorfTagger"
   ]
  },
  {
   "cell_type": "markdown",
   "metadata": {},
   "source": [
    "Connect to an existing postgres database"
   ]
  },
  {
   "cell_type": "code",
   "execution_count": 3,
   "metadata": {},
   "outputs": [],
   "source": [
    "storage = PostgresStorage(pgpass_file=r\"C:\\Users\\distorti\\projects\\ut\\estnltk\\estnltk\\storage\\postgres\\.pgpass\")"
   ]
  },
  {
   "cell_type": "code",
   "execution_count": 4,
   "metadata": {},
   "outputs": [],
   "source": [
    "storage.drop_table_if_exists('my_collection')\n",
    "storage.drop_table_if_exists('collection_with_layers')"
   ]
  },
  {
   "cell_type": "markdown",
   "metadata": {},
   "source": [
    "## Collections"
   ]
  },
  {
   "cell_type": "markdown",
   "metadata": {},
   "source": [
    "Collection stores text objects and provides read/write API.\n",
    "\n",
    "Create a new collection:"
   ]
  },
  {
   "cell_type": "code",
   "execution_count": 5,
   "metadata": {},
   "outputs": [],
   "source": [
    "collection = storage.get_collection(\"my_collection\")\n",
    "collection.create()"
   ]
  },
  {
   "cell_type": "markdown",
   "metadata": {},
   "source": [
    "Add some data:"
   ]
  },
  {
   "cell_type": "code",
   "execution_count": 6,
   "metadata": {},
   "outputs": [
    {
     "name": "stdout",
     "output_type": "stream",
     "text": [
      "1 Text(text=\"ööbik laulab.\")\n",
      "7 Text(text=\"öökull ei laula.\")\n"
     ]
    }
   ],
   "source": [
    "text1 = Text('ööbik laulab.').tag_layer(['morph_analysis'])\n",
    "key1 = collection.insert(text1)\n",
    "print(key1, text1)\n",
    "\n",
    "text2 = Text('öökull ei laula.').tag_layer(['morph_analysis'])\n",
    "key2 = collection.insert(text2, key=7)\n",
    "print(key2, text2)"
   ]
  },
  {
   "cell_type": "markdown",
   "metadata": {},
   "source": [
    "Iterate over collection:"
   ]
  },
  {
   "cell_type": "code",
   "execution_count": 7,
   "metadata": {},
   "outputs": [
    {
     "name": "stdout",
     "output_type": "stream",
     "text": [
      "1 Text(text=\"ööbik laulab.\")\n",
      "7 Text(text=\"öökull ei laula.\")\n"
     ]
    }
   ],
   "source": [
    "for key, text in collection.select():\n",
    "    print(key, text)"
   ]
  },
  {
   "cell_type": "markdown",
   "metadata": {},
   "source": [
    "Search for a particular entry by key:"
   ]
  },
  {
   "cell_type": "code",
   "execution_count": 8,
   "metadata": {},
   "outputs": [
    {
     "name": "stdout",
     "output_type": "stream",
     "text": [
      "Text(text=\"öökull ei laula.\")\n"
     ]
    }
   ],
   "source": [
    "txt = collection.select_by_key(7)\n",
    "print(txt)"
   ]
  },
  {
   "cell_type": "markdown",
   "metadata": {},
   "source": [
    "Search using layer attributes:"
   ]
  },
  {
   "cell_type": "code",
   "execution_count": 9,
   "metadata": {},
   "outputs": [
    {
     "name": "stdout",
     "output_type": "stream",
     "text": [
      "1 Text(text=\"ööbik laulab.\")\n",
      "7 Text(text=\"öökull ei laula.\")\n"
     ]
    }
   ],
   "source": [
    "q = Q('morph_analysis', lemma='laulma')\n",
    "for key, txt in collection.select(query=q):\n",
    "    print(key, txt)"
   ]
  },
  {
   "cell_type": "markdown",
   "metadata": {},
   "source": [
    "Search using multiple layer attributes:"
   ]
  },
  {
   "cell_type": "code",
   "execution_count": 10,
   "metadata": {},
   "outputs": [
    {
     "name": "stdout",
     "output_type": "stream",
     "text": [
      "1 Text(text=\"ööbik laulab.\")\n"
     ]
    }
   ],
   "source": [
    "q = Q('morph_analysis', lemma='laulma', form='b')\n",
    "for key, txt in collection.select(query=q):\n",
    "    print(key, txt)"
   ]
  },
  {
   "cell_type": "markdown",
   "metadata": {},
   "source": [
    "Search using \"OR\" query:"
   ]
  },
  {
   "cell_type": "code",
   "execution_count": 11,
   "metadata": {},
   "outputs": [
    {
     "name": "stdout",
     "output_type": "stream",
     "text": [
      "1 Text(text=\"ööbik laulab.\")\n",
      "7 Text(text=\"öökull ei laula.\")\n"
     ]
    }
   ],
   "source": [
    "q = Q('morph_analysis', lemma='ööbik') | Q('morph_analysis', lemma='öökull')\n",
    "for key, txt in collection.select(query=q):\n",
    "    print(key, txt)"
   ]
  },
  {
   "cell_type": "markdown",
   "metadata": {},
   "source": [
    "Search using \"AND\" query:"
   ]
  },
  {
   "cell_type": "code",
   "execution_count": 12,
   "metadata": {},
   "outputs": [],
   "source": [
    "q = Q('morph_analysis', lemma='ööbik') & Q('morph_analysis', lemma='öökull')\n",
    "for key, txt in collection.select(query=q):\n",
    "    print(key, txt)"
   ]
  },
  {
   "cell_type": "markdown",
   "metadata": {},
   "source": [
    "Search using a composite query:"
   ]
  },
  {
   "cell_type": "code",
   "execution_count": 13,
   "metadata": {
    "scrolled": true
   },
   "outputs": [
    {
     "name": "stdout",
     "output_type": "stream",
     "text": [
      "1 Text(text=\"ööbik laulab.\")\n",
      "7 Text(text=\"öökull ei laula.\")\n"
     ]
    }
   ],
   "source": [
    "q = (Q('morph_analysis', lemma='ööbik') | Q('morph_analysis', lemma='öökull')) & Q('morph_analysis', lemma='laulma')\n",
    "for key, txt in collection.select(query=q):\n",
    "    print(key, txt)"
   ]
  },
  {
   "cell_type": "markdown",
   "metadata": {},
   "source": [
    "or use a convenience method `find_fingerprint`:"
   ]
  },
  {
   "cell_type": "code",
   "execution_count": 14,
   "metadata": {},
   "outputs": [
    {
     "name": "stdout",
     "output_type": "stream",
     "text": [
      "1 Text(text=\"ööbik laulab.\")\n",
      "7 Text(text=\"öökull ei laula.\")\n"
     ]
    }
   ],
   "source": [
    "for key, txt in collection.find_fingerprint(layer=\"morph_analysis\", \n",
    "                                            field=\"lemma\", \n",
    "                                            query_list=[{'ööbik', 'laulma'}, {'öökull', 'laulma'}],\n",
    "                                            ambiguous=True, \n",
    "                                            order_by_key=False):\n",
    "    print(key, txt)"
   ]
  },
  {
   "cell_type": "markdown",
   "metadata": {},
   "source": [
    "Delete collection"
   ]
  },
  {
   "cell_type": "code",
   "execution_count": 15,
   "metadata": {},
   "outputs": [],
   "source": [
    "collection.delete()"
   ]
  },
  {
   "cell_type": "markdown",
   "metadata": {},
   "source": [
    "## Working with layers"
   ]
  },
  {
   "cell_type": "markdown",
   "metadata": {},
   "source": [
    "Let's say you want to create a collection which stores only layers up to \"sentences\":"
   ]
  },
  {
   "cell_type": "code",
   "execution_count": 21,
   "metadata": {
    "scrolled": true
   },
   "outputs": [],
   "source": [
    "collection = storage.get_collection(\"collection_with_layers\")\n",
    "collection.create()\n",
    "\n",
    "collection.insert(Text('see on esimene lause').tag_layer([\"sentences\"]))\n",
    "collection.insert(Text('see on teine lause').tag_layer([\"sentences\"]));"
   ]
  },
  {
   "cell_type": "markdown",
   "metadata": {},
   "source": [
    "Check what layers are present:"
   ]
  },
  {
   "cell_type": "code",
   "execution_count": 22,
   "metadata": {},
   "outputs": [
    {
     "name": "stdout",
     "output_type": "stream",
     "text": [
      "1 Text(text=\"see on esimene lause\") dict_keys(['sentences', 'words', 'compound_tokens', 'tokens'])\n",
      "2 Text(text=\"see on teine lause\") dict_keys(['sentences', 'words', 'compound_tokens', 'tokens'])\n"
     ]
    }
   ],
   "source": [
    "for key, text in collection.select():\n",
    "    print(key, text, text.layers.keys())"
   ]
  },
  {
   "cell_type": "markdown",
   "metadata": {},
   "source": [
    "Now, you want to add a new layer \"my_layer\", which will store morphological analysis. However, you want to store it in a searate table. For this purpose collection object has a `create_layer` method:"
   ]
  },
  {
   "cell_type": "code",
   "execution_count": 23,
   "metadata": {
    "scrolled": true
   },
   "outputs": [],
   "source": [
    "layer = \"my_layer\"\n",
    "tagger = VabamorfTagger(disambiguate=False, layer_name=layer)\n",
    "collection.create_layer(layer, callable=lambda t: tagger.tag(t, return_layer=True))"
   ]
  },
  {
   "cell_type": "markdown",
   "metadata": {},
   "source": [
    "Make sure the new layer has been created:"
   ]
  },
  {
   "cell_type": "code",
   "execution_count": 24,
   "metadata": {},
   "outputs": [
    {
     "data": {
      "text/plain": [
       "['my_layer']"
      ]
     },
     "execution_count": 24,
     "metadata": {},
     "output_type": "execute_result"
    }
   ],
   "source": [
    "collection.get_layer_names()"
   ]
  },
  {
   "cell_type": "markdown",
   "metadata": {},
   "source": [
    "Retrieve the new layer using `select` method:"
   ]
  },
  {
   "cell_type": "code",
   "execution_count": 25,
   "metadata": {
    "scrolled": true
   },
   "outputs": [
    {
     "name": "stdout",
     "output_type": "stream",
     "text": [
      "1 Text(text=\"see on esimene lause\") dict_keys(['sentences', 'words', 'compound_tokens', 'my_layer', 'tokens'])\n",
      "2 Text(text=\"see on teine lause\") dict_keys(['sentences', 'words', 'compound_tokens', 'my_layer', 'tokens'])\n"
     ]
    }
   ],
   "source": [
    "for key, text in collection.select(layers=['my_layer']):\n",
    "    print(key, text, text.layers.keys())"
   ]
  },
  {
   "cell_type": "markdown",
   "metadata": {},
   "source": [
    "Delete layer"
   ]
  },
  {
   "cell_type": "code",
   "execution_count": 26,
   "metadata": {},
   "outputs": [],
   "source": [
    "collection.delete_layer(\"my_layer\")"
   ]
  },
  {
   "cell_type": "markdown",
   "metadata": {},
   "source": [
    "Delete collection"
   ]
  },
  {
   "cell_type": "code",
   "execution_count": 27,
   "metadata": {},
   "outputs": [],
   "source": [
    "collection.delete()"
   ]
  },
  {
   "cell_type": "markdown",
   "metadata": {},
   "source": [
    "Close database connection"
   ]
  },
  {
   "cell_type": "code",
   "execution_count": 28,
   "metadata": {},
   "outputs": [],
   "source": [
    "storage.close()"
   ]
  }
 ],
 "metadata": {
  "kernelspec": {
   "display_name": "Python 3",
   "language": "python",
   "name": "python3"
  },
  "language_info": {
   "codemirror_mode": {
    "name": "ipython",
    "version": 3
   },
   "file_extension": ".py",
   "mimetype": "text/x-python",
   "name": "python",
   "nbconvert_exporter": "python",
   "pygments_lexer": "ipython3",
   "version": "3.5.4"
  }
 },
 "nbformat": 4,
 "nbformat_minor": 1
}
