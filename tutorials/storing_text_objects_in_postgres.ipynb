{
 "cells": [
  {
   "cell_type": "markdown",
   "metadata": {
    "collapsed": true
   },
   "source": [
    "# Storing Text objects in Postgres"
   ]
  },
  {
   "cell_type": "markdown",
   "metadata": {},
   "source": [
    "This tutorial demonstrates how to store and query estnltk text objects in a postgres database."
   ]
  },
  {
   "cell_type": "code",
   "execution_count": 2,
   "metadata": {},
   "outputs": [],
   "source": [
    "from estnltk import Text\n",
    "from estnltk.storage.postgres import PostgresStorage, JsonbQuery as Q"
   ]
  },
  {
   "cell_type": "markdown",
   "metadata": {},
   "source": [
    "First, let's connect to an existing postgres database and create a new table:"
   ]
  },
  {
   "cell_type": "code",
   "execution_count": 3,
   "metadata": {},
   "outputs": [],
   "source": [
    "storage = PostgresStorage(dbname='estnltk', user='distorti', password='kolobog2511')\n",
    "table = 'tmp'\n",
    "storage.create_table(table)"
   ]
  },
  {
   "cell_type": "markdown",
   "metadata": {},
   "source": [
    "Next, we insert some data:"
   ]
  },
  {
   "cell_type": "code",
   "execution_count": 4,
   "metadata": {},
   "outputs": [
    {
     "name": "stdout",
     "output_type": "stream",
     "text": [
      "1 Text(text=\"ööbik laulab.\")\n",
      "7 Text(text=\"öökull ei laula.\")\n"
     ]
    }
   ],
   "source": [
    "text1 = Text('ööbik laulab.').analyse('morphology')\n",
    "key1 = storage.insert(table, text1)\n",
    "print(key1, text1)\n",
    "\n",
    "text2 = Text('öökull ei laula.').analyse('morphology')\n",
    "key2 = storage.insert(table, text2, key=7)\n",
    "print(key2, text2)"
   ]
  },
  {
   "cell_type": "markdown",
   "metadata": {},
   "source": [
    "Select all the data in our table:"
   ]
  },
  {
   "cell_type": "code",
   "execution_count": 5,
   "metadata": {},
   "outputs": [
    {
     "name": "stdout",
     "output_type": "stream",
     "text": [
      "1 Text(text=\"ööbik laulab.\")\n",
      "7 Text(text=\"öökull ei laula.\")\n"
     ]
    }
   ],
   "source": [
    "for key, text in storage.select(table):\n",
    "    print(key, text)"
   ]
  },
  {
   "cell_type": "markdown",
   "metadata": {},
   "source": [
    "Find row by key:"
   ]
  },
  {
   "cell_type": "code",
   "execution_count": 6,
   "metadata": {},
   "outputs": [
    {
     "name": "stdout",
     "output_type": "stream",
     "text": [
      "Text(text=\"öökull ei laula.\")\n"
     ]
    }
   ],
   "source": [
    "txt = storage.select_by_key(table, key=7)\n",
    "print(txt)"
   ]
  },
  {
   "cell_type": "markdown",
   "metadata": {},
   "source": [
    "Search using layer attributes:"
   ]
  },
  {
   "cell_type": "code",
   "execution_count": 7,
   "metadata": {},
   "outputs": [
    {
     "name": "stdout",
     "output_type": "stream",
     "text": [
      "1 Text(text=\"ööbik laulab.\")\n",
      "7 Text(text=\"öökull ei laula.\")\n"
     ]
    }
   ],
   "source": [
    "q = Q('morph_analysis', lemma='laulma')\n",
    "for key, txt in storage.select(table, query=q):\n",
    "    print(key, txt)"
   ]
  },
  {
   "cell_type": "markdown",
   "metadata": {},
   "source": [
    "Search using multiple layer attributes:"
   ]
  },
  {
   "cell_type": "code",
   "execution_count": 8,
   "metadata": {},
   "outputs": [
    {
     "name": "stdout",
     "output_type": "stream",
     "text": [
      "1 Text(text=\"ööbik laulab.\")\n"
     ]
    }
   ],
   "source": [
    "q = Q('morph_analysis', lemma='laulma', form='b')\n",
    "for key, txt in storage.select(table, query=q):\n",
    "    print(key, txt)"
   ]
  },
  {
   "cell_type": "markdown",
   "metadata": {},
   "source": [
    "Search using \"OR\" query:"
   ]
  },
  {
   "cell_type": "code",
   "execution_count": 9,
   "metadata": {},
   "outputs": [
    {
     "name": "stdout",
     "output_type": "stream",
     "text": [
      "1 Text(text=\"ööbik laulab.\")\n",
      "7 Text(text=\"öökull ei laula.\")\n"
     ]
    }
   ],
   "source": [
    "q = Q('morph_analysis', lemma='ööbik') | Q('morph_analysis', lemma='öökull')\n",
    "for key, txt in storage.select(table, query=q):\n",
    "    print(key, txt)"
   ]
  },
  {
   "cell_type": "markdown",
   "metadata": {},
   "source": [
    "Search using \"AND\" query:"
   ]
  },
  {
   "cell_type": "code",
   "execution_count": 10,
   "metadata": {
    "collapsed": true
   },
   "outputs": [],
   "source": [
    "q = Q('morph_analysis', lemma='ööbik') & Q('morph_analysis', lemma='öökull')\n",
    "for key, txt in storage.select(table, query=q):\n",
    "    print(key, txt)"
   ]
  },
  {
   "cell_type": "markdown",
   "metadata": {},
   "source": [
    "Search using a composite query:"
   ]
  },
  {
   "cell_type": "code",
   "execution_count": 11,
   "metadata": {},
   "outputs": [
    {
     "name": "stdout",
     "output_type": "stream",
     "text": [
      "1 Text(text=\"ööbik laulab.\")\n",
      "7 Text(text=\"öökull ei laula.\")\n"
     ]
    }
   ],
   "source": [
    "q = (Q('morph_analysis', lemma='ööbik') | Q('morph_analysis', lemma='öökull')) & Q('morph_analysis', lemma='laulma')\n",
    "for key, txt in storage.select(table, query=q):\n",
    "    print(key, txt)"
   ]
  },
  {
   "cell_type": "markdown",
   "metadata": {},
   "source": [
    "Drop table and close connection:"
   ]
  },
  {
   "cell_type": "code",
   "execution_count": 12,
   "metadata": {
    "collapsed": true
   },
   "outputs": [],
   "source": [
    "storage.drop_table(table)\n",
    "storage.close()"
   ]
  }
 ],
 "metadata": {
  "kernelspec": {
   "display_name": "Python 3",
   "language": "python",
   "name": "python3"
  },
  "language_info": {
   "codemirror_mode": {
    "name": "ipython",
    "version": 3
   },
   "file_extension": ".py",
   "mimetype": "text/x-python",
   "name": "python",
   "nbconvert_exporter": "python",
   "pygments_lexer": "ipython3",
   "version": "3.5.4"
  }
 },
 "nbformat": 4,
 "nbformat_minor": 2
}
