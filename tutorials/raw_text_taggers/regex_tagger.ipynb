{
 "cells": [
  {
   "cell_type": "markdown",
   "metadata": {},
   "source": [
    "# RegexTagger\n",
    "\n",
    "For initialisation RegexTagger needs the vocabulary. Vocabulary argument may be a csv file name"
   ]
  },
  {
   "cell_type": "code",
   "execution_count": 1,
   "metadata": {},
   "outputs": [],
   "source": [
    "vocabulary = 'vocabulary.csv'"
   ]
  },
  {
   "cell_type": "markdown",
   "metadata": {},
   "source": [
    "a pandas DataFrame"
   ]
  },
  {
   "cell_type": "code",
   "execution_count": 2,
   "metadata": {},
   "outputs": [
    {
     "data": {
      "text/html": [
       "<div>\n",
       "<style scoped>\n",
       "    .dataframe tbody tr th:only-of-type {\n",
       "        vertical-align: middle;\n",
       "    }\n",
       "\n",
       "    .dataframe tbody tr th {\n",
       "        vertical-align: top;\n",
       "    }\n",
       "\n",
       "    .dataframe thead th {\n",
       "        text-align: right;\n",
       "    }\n",
       "</style>\n",
       "<table border=\"1\" class=\"dataframe\">\n",
       "  <thead>\n",
       "    <tr style=\"text-align: right;\">\n",
       "      <th></th>\n",
       "      <th>_regex_pattern_</th>\n",
       "      <th>_group_</th>\n",
       "      <th>_priority_</th>\n",
       "      <th>_validator_</th>\n",
       "      <th>normalized</th>\n",
       "      <th>comment</th>\n",
       "      <th>example</th>\n",
       "    </tr>\n",
       "  </thead>\n",
       "  <tbody>\n",
       "    <tr>\n",
       "      <th>0</th>\n",
       "      <td>-?(\\d[\\s\\.]?)+(,\\s?(\\d[\\s\\.]?)+)?</td>\n",
       "      <td>0</td>\n",
       "      <td>1</td>\n",
       "      <td>lambda m: True</td>\n",
       "      <td>lambda m: re.sub('[\\s\\.]' ,'' , m.group(0))</td>\n",
       "      <td>number</td>\n",
       "      <td>-34 567 000 123 , 456</td>\n",
       "    </tr>\n",
       "    <tr>\n",
       "      <th>1</th>\n",
       "      <td>([a-zA-Z0-9_.+-]+@[a-zA-Z0-9-]+\\.[a-zA-Z0-9-.]+)</td>\n",
       "      <td>1</td>\n",
       "      <td>2</td>\n",
       "      <td>lambda m: True</td>\n",
       "      <td>lambda m: None</td>\n",
       "      <td>e-mail</td>\n",
       "      <td>bla@bla.bl</td>\n",
       "    </tr>\n",
       "  </tbody>\n",
       "</table>\n",
       "</div>"
      ],
      "text/plain": [
       "                                    _regex_pattern_  _group_  _priority_  \\\n",
       "0                 -?(\\d[\\s\\.]?)+(,\\s?(\\d[\\s\\.]?)+)?        0           1   \n",
       "1  ([a-zA-Z0-9_.+-]+@[a-zA-Z0-9-]+\\.[a-zA-Z0-9-.]+)        1           2   \n",
       "\n",
       "      _validator_                                   normalized comment  \\\n",
       "0  lambda m: True  lambda m: re.sub('[\\s\\.]' ,'' , m.group(0))  number   \n",
       "1  lambda m: True                               lambda m: None  e-mail   \n",
       "\n",
       "                 example  \n",
       "0  -34 567 000 123 , 456  \n",
       "1             bla@bla.bl  "
      ]
     },
     "execution_count": 2,
     "metadata": {},
     "output_type": "execute_result"
    }
   ],
   "source": [
    "from pandas import read_csv\n",
    "vocabulary = read_csv(vocabulary, na_filter=False, index_col=False)\n",
    "vocabulary"
   ]
  },
  {
   "cell_type": "markdown",
   "metadata": {},
   "source": [
    "or a list of dicts"
   ]
  },
  {
   "cell_type": "code",
   "execution_count": 3,
   "metadata": {},
   "outputs": [
    {
     "data": {
      "text/plain": [
       "[{'_group_': 0,\n",
       "  '_priority_': 1,\n",
       "  '_regex_pattern_': '-?(\\\\d[\\\\s\\\\.]?)+(,\\\\s?(\\\\d[\\\\s\\\\.]?)+)?',\n",
       "  '_validator_': 'lambda m: True',\n",
       "  'comment': 'number',\n",
       "  'example': '-34 567 000 123 , 456',\n",
       "  'normalized': \"lambda m: re.sub('[\\\\s\\\\.]' ,'' , m.group(0))\"},\n",
       " {'_group_': 1,\n",
       "  '_priority_': 2,\n",
       "  '_regex_pattern_': '([a-zA-Z0-9_.+-]+@[a-zA-Z0-9-]+\\\\.[a-zA-Z0-9-.]+)',\n",
       "  '_validator_': 'lambda m: True',\n",
       "  'comment': 'e-mail',\n",
       "  'example': 'bla@bla.bl',\n",
       "  'normalized': 'lambda m: None'}]"
      ]
     },
     "execution_count": 3,
     "metadata": {},
     "output_type": "execute_result"
    }
   ],
   "source": [
    "vocabulary = vocabulary.to_dict('records')\n",
    "vocabulary"
   ]
  },
  {
   "cell_type": "markdown",
   "metadata": {},
   "source": [
    "The keyword **\\_regex\\_pattern\\_** is required. The **\\_group\\_** and **\\_priority\\_** keywords default to zero. Banned keywords are **start** and **end**.\n",
    "\n",
    "**\\_regex\\_pattern\\_** is a regular expression given as a string or a compiled regex pattern. **\\_group\\_** is an integer that determines which group of the pattern should be tagged on the text (the default is `0`). **\\_priority\\_** is used to resolve conflicts (the default is `0`). Smaller numbers (or any other comparables) represent higher priorities and bigger numbers lower priorities.\n",
    "\n",
    "In case of intersecting spans, the span with lower priority is removed, if priorities are equal, the conflict resolving depends on the chosen conflict resolving strategy.\n",
    "\n",
    "**\\_validator\\_** is used to validate matches (the default is `lambda m: True`).\n",
    "\n",
    "Any callable is assumed to take one argument m, the match object, and return a value for the corresponding attribute.\n",
    "Any string (except the \\_regex\\_pattern\\_, \\_group\\_ and \\_priority\\_ strings) which starts with 'lambda m:' is compiled. That function should return the value for the corresponding attribute. This is also a way to express Python objects in the csv file. For example,\n",
    "```python\n",
    "lambda m: re.sub('[\\s\\.]' ,'' , m.group(0)) # remove all whitespace from the match\n",
    "lambda m: 'lambda m: ...' # represent a string that starts with 'lambda m:'\n",
    "lambda m: None # represent None\n",
    "```"
   ]
  },
  {
   "cell_type": "markdown",
   "metadata": {},
   "source": [
    "**attributes** is a set of the names of the attributes to be annotated in the layer in addition to 'start' and 'end'. The default is the empty set.\n",
    "\n",
    "**conflict_resolving_strategy** is either 'MAX', 'MIN' or 'ALL'. In case of intersecting spans, 'MAX' keeps longer, 'MIN' keeps shorter and 'ALL' keeps all spans. The default is 'MAX'.\n",
    "\n",
    "If **overlapped** is True, overlapped matches are permitted. The dafault is False\n",
    "\n",
    "If **return_layer** is True, the layer is returned and the text object is unchanged. If False, the layer is attached to the text object and None is returned. The default is False.\n",
    "\n",
    "**layer_name** is the name of the layer."
   ]
  },
  {
   "cell_type": "code",
   "execution_count": 4,
   "metadata": {},
   "outputs": [
    {
     "data": {
      "text/html": [
       "<h4>Tagger</h4>\n",
       "Tags regular expression matches on the text.\n",
       "<table border=\"1\" class=\"dataframe\">\n",
       "  <thead>\n",
       "    <tr style=\"text-align: right;\">\n",
       "      <th>name</th>\n",
       "      <th>layer</th>\n",
       "      <th>attributes</th>\n",
       "      <th>depends_on</th>\n",
       "    </tr>\n",
       "  </thead>\n",
       "  <tbody>\n",
       "    <tr>\n",
       "      <td>RegexTagger</td>\n",
       "      <td>tokenization_hints</td>\n",
       "      <td>[normalized, _priority_]</td>\n",
       "      <td>[]</td>\n",
       "    </tr>\n",
       "  </tbody>\n",
       "</table>\n",
       "<h4>Configuration</h4>\n",
       "<table border=\"1\" class=\"dataframe\">\n",
       "  <tbody>\n",
       "    <tr>\n",
       "      <th>overlapped</th>\n",
       "      <td>False</td>\n",
       "    </tr>\n",
       "    <tr>\n",
       "      <th>conflict_resolving_strategy</th>\n",
       "      <td>MAX</td>\n",
       "    </tr>\n",
       "  </tbody>\n",
       "</table>"
      ],
      "text/plain": [
       "<estnltk.taggers.raw_text_tagging.regex_tagger.RegexTagger at 0x7f39178c9f98>"
      ]
     },
     "execution_count": 4,
     "metadata": {},
     "output_type": "execute_result"
    }
   ],
   "source": [
    "from estnltk.taggers import RegexTagger\n",
    "from estnltk import Text\n",
    "\n",
    "tokenization_hints_tagger = RegexTagger(vocabulary=vocabulary,\n",
    "                                        attributes=['normalized', '_priority_'],\n",
    "                                        conflict_resolving_strategy='MAX',\n",
    "                                        overlapped=False,\n",
    "                                        layer_name='tokenization_hints')\n",
    "tokenization_hints_tagger"
   ]
  },
  {
   "cell_type": "code",
   "execution_count": 5,
   "metadata": {},
   "outputs": [
    {
     "data": {
      "text/html": [
       "<h4>Layer</h4>\n",
       "<table border=\"1\" class=\"dataframe\">\n",
       "  <thead>\n",
       "    <tr style=\"text-align: right;\">\n",
       "      <th>layer name</th>\n",
       "      <th>attributes</th>\n",
       "      <th>parent</th>\n",
       "      <th>enveloping</th>\n",
       "      <th>ambiguous</th>\n",
       "      <th>span count</th>\n",
       "    </tr>\n",
       "  </thead>\n",
       "  <tbody>\n",
       "    <tr>\n",
       "      <td>tokenization_hints</td>\n",
       "      <td>normalized, _priority_</td>\n",
       "      <td>None</td>\n",
       "      <td>None</td>\n",
       "      <td>False</td>\n",
       "      <td>4</td>\n",
       "    </tr>\n",
       "  </tbody>\n",
       "</table>\n",
       "<table border=\"1\" class=\"dataframe\">\n",
       "  <thead>\n",
       "    <tr style=\"text-align: right;\">\n",
       "      <th>text</th>\n",
       "      <th>normalized</th>\n",
       "      <th>_priority_</th>\n",
       "    </tr>\n",
       "  </thead>\n",
       "  <tbody>\n",
       "    <tr>\n",
       "      <td>bla@bla.ee</td>\n",
       "      <td>None</td>\n",
       "      <td>2</td>\n",
       "    </tr>\n",
       "    <tr>\n",
       "      <td>10 456</td>\n",
       "      <td>10456</td>\n",
       "      <td>1</td>\n",
       "    </tr>\n",
       "    <tr>\n",
       "      <td>foo@foo.ee</td>\n",
       "      <td>None</td>\n",
       "      <td>2</td>\n",
       "    </tr>\n",
       "    <tr>\n",
       "      <td>10</td>\n",
       "      <td>10</td>\n",
       "      <td>1</td>\n",
       "    </tr>\n",
       "  </tbody>\n",
       "</table>"
      ],
      "text/plain": [
       "<estnltk.layer.Layer at 0x7f39138bec50>"
      ]
     },
     "execution_count": 5,
     "metadata": {},
     "output_type": "execute_result"
    }
   ],
   "source": [
    "text = Text('Aadressilt bla@bla.ee tuli 10 456 kirja aadressile foo@foo.ee 10 tunni jooksul.')\n",
    "status = {}\n",
    "tokenization_hints_tagger.tag(text, return_layer=False, status=status)\n",
    "text['tokenization_hints']"
   ]
  },
  {
   "cell_type": "code",
   "execution_count": 6,
   "metadata": {},
   "outputs": [
    {
     "data": {
      "text/plain": [
       "{'number_of_conflicts': 0}"
      ]
     },
     "execution_count": 6,
     "metadata": {},
     "output_type": "execute_result"
    }
   ],
   "source": [
    "# The number of intersecting pairs of spans before conflict resolving\n",
    "status"
   ]
  },
  {
   "cell_type": "markdown",
   "metadata": {},
   "source": [
    "## Conflict resolving"
   ]
  },
  {
   "cell_type": "code",
   "execution_count": 7,
   "metadata": {},
   "outputs": [
    {
     "name": "stdout",
     "output_type": "stream",
     "text": [
      "{}\n"
     ]
    },
    {
     "data": {
      "text/html": [
       "<h4>Layer</h4>\n",
       "<table border=\"1\" class=\"dataframe\">\n",
       "  <thead>\n",
       "    <tr style=\"text-align: right;\">\n",
       "      <th>layer name</th>\n",
       "      <th>attributes</th>\n",
       "      <th>parent</th>\n",
       "      <th>enveloping</th>\n",
       "      <th>ambiguous</th>\n",
       "      <th>span count</th>\n",
       "    </tr>\n",
       "  </thead>\n",
       "  <tbody>\n",
       "    <tr>\n",
       "      <td>regexes</td>\n",
       "      <td></td>\n",
       "      <td>None</td>\n",
       "      <td>None</td>\n",
       "      <td>False</td>\n",
       "      <td>5</td>\n",
       "    </tr>\n",
       "  </tbody>\n",
       "</table>\n",
       "<table border=\"1\" class=\"dataframe\">\n",
       "  <thead>\n",
       "    <tr style=\"text-align: right;\">\n",
       "      <th>text</th>\n",
       "    </tr>\n",
       "  </thead>\n",
       "  <tbody>\n",
       "    <tr>\n",
       "      <td>kaks</td>\n",
       "    </tr>\n",
       "    <tr>\n",
       "      <td>kakskümmend</td>\n",
       "    </tr>\n",
       "    <tr>\n",
       "      <td>kakskümmend kaks</td>\n",
       "    </tr>\n",
       "    <tr>\n",
       "      <td>kümme</td>\n",
       "    </tr>\n",
       "    <tr>\n",
       "      <td>kaks</td>\n",
       "    </tr>\n",
       "  </tbody>\n",
       "</table>"
      ],
      "text/plain": [
       "<estnltk.layer.Layer at 0x7f39138a51d0>"
      ]
     },
     "execution_count": 7,
     "metadata": {},
     "output_type": "execute_result"
    }
   ],
   "source": [
    "# no _priority_, conflict_resolving_strategy='ALL'\n",
    "vocabulary = [\n",
    "              {'_regex_pattern_': 'kaks'},\n",
    "              {'_regex_pattern_': 'kümme'},\n",
    "              {'_regex_pattern_': 'kakskümmend'},\n",
    "              {'_regex_pattern_': 'kakskümmend kaks'}\n",
    "             ]\n",
    "\n",
    "regex_tagger = RegexTagger(vocabulary=vocabulary, conflict_resolving_strategy='ALL')\n",
    "text = Text('kakskümmend kaks')\n",
    "status = {}\n",
    "regex_tagger.tag(text, status)\n",
    "print(status)\n",
    "text['regexes']"
   ]
  },
  {
   "cell_type": "code",
   "execution_count": 8,
   "metadata": {},
   "outputs": [
    {
     "data": {
      "text/html": [
       "<h4>Layer</h4>\n",
       "<table border=\"1\" class=\"dataframe\">\n",
       "  <thead>\n",
       "    <tr style=\"text-align: right;\">\n",
       "      <th>layer name</th>\n",
       "      <th>attributes</th>\n",
       "      <th>parent</th>\n",
       "      <th>enveloping</th>\n",
       "      <th>ambiguous</th>\n",
       "      <th>span count</th>\n",
       "    </tr>\n",
       "  </thead>\n",
       "  <tbody>\n",
       "    <tr>\n",
       "      <td>regexes</td>\n",
       "      <td></td>\n",
       "      <td>None</td>\n",
       "      <td>None</td>\n",
       "      <td>False</td>\n",
       "      <td>1</td>\n",
       "    </tr>\n",
       "  </tbody>\n",
       "</table>\n",
       "<table border=\"1\" class=\"dataframe\">\n",
       "  <thead>\n",
       "    <tr style=\"text-align: right;\">\n",
       "      <th>text</th>\n",
       "    </tr>\n",
       "  </thead>\n",
       "  <tbody>\n",
       "    <tr>\n",
       "      <td>kakskümmend kaks</td>\n",
       "    </tr>\n",
       "  </tbody>\n",
       "</table>"
      ],
      "text/plain": [
       "<estnltk.layer.Layer at 0x7f39138be5c0>"
      ]
     },
     "execution_count": 8,
     "metadata": {},
     "output_type": "execute_result"
    }
   ],
   "source": [
    "# no _priority_, conflict_resolving_strategy='MAX'\n",
    "regex_tagger = RegexTagger(vocabulary=vocabulary, conflict_resolving_strategy='MAX')\n",
    "text = Text('kakskümmend kaks')\n",
    "regex_tagger.tag(text)\n",
    "text['regexes']"
   ]
  },
  {
   "cell_type": "code",
   "execution_count": 9,
   "metadata": {},
   "outputs": [
    {
     "data": {
      "text/html": [
       "<h4>Layer</h4>\n",
       "<table border=\"1\" class=\"dataframe\">\n",
       "  <thead>\n",
       "    <tr style=\"text-align: right;\">\n",
       "      <th>layer name</th>\n",
       "      <th>attributes</th>\n",
       "      <th>parent</th>\n",
       "      <th>enveloping</th>\n",
       "      <th>ambiguous</th>\n",
       "      <th>span count</th>\n",
       "    </tr>\n",
       "  </thead>\n",
       "  <tbody>\n",
       "    <tr>\n",
       "      <td>regexes</td>\n",
       "      <td></td>\n",
       "      <td>None</td>\n",
       "      <td>None</td>\n",
       "      <td>False</td>\n",
       "      <td>3</td>\n",
       "    </tr>\n",
       "  </tbody>\n",
       "</table>\n",
       "<table border=\"1\" class=\"dataframe\">\n",
       "  <thead>\n",
       "    <tr style=\"text-align: right;\">\n",
       "      <th>text</th>\n",
       "    </tr>\n",
       "  </thead>\n",
       "  <tbody>\n",
       "    <tr>\n",
       "      <td>kaks</td>\n",
       "    </tr>\n",
       "    <tr>\n",
       "      <td>kümme</td>\n",
       "    </tr>\n",
       "    <tr>\n",
       "      <td>kaks</td>\n",
       "    </tr>\n",
       "  </tbody>\n",
       "</table>"
      ],
      "text/plain": [
       "<estnltk.layer.Layer at 0x7f39138be7b8>"
      ]
     },
     "execution_count": 9,
     "metadata": {},
     "output_type": "execute_result"
    }
   ],
   "source": [
    "# no _priority_, conflict_resolving_strategy='MIN'\n",
    "regex_tagger = RegexTagger(vocabulary=vocabulary, conflict_resolving_strategy='MIN')\n",
    "text = Text('kakskümmend kaks')\n",
    "regex_tagger.tag(text)\n",
    "text['regexes']"
   ]
  },
  {
   "cell_type": "code",
   "execution_count": 10,
   "metadata": {},
   "outputs": [
    {
     "data": {
      "text/html": [
       "<h4>Layer</h4>\n",
       "<table border=\"1\" class=\"dataframe\">\n",
       "  <thead>\n",
       "    <tr style=\"text-align: right;\">\n",
       "      <th>layer name</th>\n",
       "      <th>attributes</th>\n",
       "      <th>parent</th>\n",
       "      <th>enveloping</th>\n",
       "      <th>ambiguous</th>\n",
       "      <th>span count</th>\n",
       "    </tr>\n",
       "  </thead>\n",
       "  <tbody>\n",
       "    <tr>\n",
       "      <td>regexes</td>\n",
       "      <td>_priority_</td>\n",
       "      <td>None</td>\n",
       "      <td>None</td>\n",
       "      <td>False</td>\n",
       "      <td>3</td>\n",
       "    </tr>\n",
       "  </tbody>\n",
       "</table>\n",
       "<table border=\"1\" class=\"dataframe\">\n",
       "  <thead>\n",
       "    <tr style=\"text-align: right;\">\n",
       "      <th>text</th>\n",
       "      <th>_priority_</th>\n",
       "    </tr>\n",
       "  </thead>\n",
       "  <tbody>\n",
       "    <tr>\n",
       "      <td>kaks</td>\n",
       "      <td>0</td>\n",
       "    </tr>\n",
       "    <tr>\n",
       "      <td>kümme</td>\n",
       "      <td>1</td>\n",
       "    </tr>\n",
       "    <tr>\n",
       "      <td>kaks</td>\n",
       "      <td>0</td>\n",
       "    </tr>\n",
       "  </tbody>\n",
       "</table>"
      ],
      "text/plain": [
       "<estnltk.layer.Layer at 0x7f39138289b0>"
      ]
     },
     "execution_count": 10,
     "metadata": {},
     "output_type": "execute_result"
    }
   ],
   "source": [
    "# _priority_ given and conflict_resolving_strategy='ALL'\n",
    "event_vocabulary = [\n",
    "                    {'_regex_pattern_': 'kaks', '_priority_': 0},\n",
    "                    {'_regex_pattern_': 'kümme', '_priority_': 1},\n",
    "                    {'_regex_pattern_': 'kakskümmend', '_priority_': 2},\n",
    "                    {'_regex_pattern_': 'kakskümmend kaks', '_priority_': 3}\n",
    "                   ]\n",
    "\n",
    "regex_tagger = RegexTagger(vocabulary=event_vocabulary,attributes=['_priority_'], conflict_resolving_strategy='ALL')\n",
    "text = Text('kakskümmend kaks')\n",
    "regex_tagger.tag(text)\n",
    "text['regexes']"
   ]
  },
  {
   "cell_type": "markdown",
   "metadata": {},
   "source": [
    "## Validating\n",
    "Match results can be validated using a validator functinon. Validator function must take one argument, the match object `m` and return an object that can be tested for the bool value. If the result is `False`, the match is omitted. Validator is passed to the tagger inside the vocabulary using the `_validator_` keyword. Validator function can be a regular function or a lambda function given as a string starting with `lambda m:`. The next example demonstrates both options. The default validator is\n",
    "```python\n",
    "lambda m: True\n",
    "```"
   ]
  },
  {
   "cell_type": "code",
   "execution_count": 11,
   "metadata": {},
   "outputs": [
    {
     "data": {
      "text/html": [
       "<h4>Layer</h4>\n",
       "<table border=\"1\" class=\"dataframe\">\n",
       "  <thead>\n",
       "    <tr style=\"text-align: right;\">\n",
       "      <th>layer name</th>\n",
       "      <th>attributes</th>\n",
       "      <th>parent</th>\n",
       "      <th>enveloping</th>\n",
       "      <th>ambiguous</th>\n",
       "      <th>span count</th>\n",
       "    </tr>\n",
       "  </thead>\n",
       "  <tbody>\n",
       "    <tr>\n",
       "      <td>numbers</td>\n",
       "      <td>comment</td>\n",
       "      <td>None</td>\n",
       "      <td>None</td>\n",
       "      <td>False</td>\n",
       "      <td>5</td>\n",
       "    </tr>\n",
       "  </tbody>\n",
       "</table>\n",
       "<table border=\"1\" class=\"dataframe\">\n",
       "  <thead>\n",
       "    <tr style=\"text-align: right;\">\n",
       "      <th>text</th>\n",
       "      <th>comment</th>\n",
       "    </tr>\n",
       "  </thead>\n",
       "  <tbody>\n",
       "    <tr>\n",
       "      <td>3209</td>\n",
       "      <td>starts with non-zero</td>\n",
       "    </tr>\n",
       "    <tr>\n",
       "      <td>0930</td>\n",
       "      <td>starts with zero</td>\n",
       "    </tr>\n",
       "    <tr>\n",
       "      <td>093</td>\n",
       "      <td>starts with zero</td>\n",
       "    </tr>\n",
       "    <tr>\n",
       "      <td>2304209</td>\n",
       "      <td>starts with non-zero</td>\n",
       "    </tr>\n",
       "    <tr>\n",
       "      <td>093402</td>\n",
       "      <td>starts with zero</td>\n",
       "    </tr>\n",
       "  </tbody>\n",
       "</table>"
      ],
      "text/plain": [
       "<estnltk.layer.Layer at 0x7f39138a5eb8>"
      ]
     },
     "execution_count": 11,
     "metadata": {},
     "output_type": "execute_result"
    }
   ],
   "source": [
    "def validator(m):\n",
    "    return not m.group(0).startswith('0')\n",
    "    \n",
    "\n",
    "vocabulary = [\n",
    "              {'_regex_pattern_': '\\d+',\n",
    "               '_validator_': validator, \n",
    "               'comment':'starts with non-zero'},\n",
    "              {'_regex_pattern_': '\\d+', \n",
    "               '_validator_': \"lambda m: m.group(0).startswith('0')\",\n",
    "               'comment':'starts with zero'}\n",
    "             ]\n",
    "\n",
    "regex_tagger = RegexTagger(layer_name='numbers', vocabulary=vocabulary, attributes=['comment'])\n",
    "text = Text('3209 n  0930 093 2304209 093402')\n",
    "regex_tagger.tag(text)\n",
    "text['numbers']"
   ]
  }
 ],
 "metadata": {
  "kernelspec": {
   "display_name": "Python 3",
   "language": "python",
   "name": "python3"
  },
  "language_info": {
   "codemirror_mode": {
    "name": "ipython",
    "version": 3
   },
   "file_extension": ".py",
   "mimetype": "text/x-python",
   "name": "python",
   "nbconvert_exporter": "python",
   "pygments_lexer": "ipython3",
   "version": "3.5.4"
  }
 },
 "nbformat": 4,
 "nbformat_minor": 2
}
