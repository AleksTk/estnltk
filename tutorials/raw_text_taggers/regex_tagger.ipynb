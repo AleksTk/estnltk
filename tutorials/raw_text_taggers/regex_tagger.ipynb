{
 "cells": [
  {
   "cell_type": "markdown",
   "metadata": {},
   "source": [
    "# RegexTagger\n",
    "\n",
    "For initialisation RegexTagger needs the vocabulary. Vocabulary argument may be a csv file name"
   ]
  },
  {
   "cell_type": "code",
   "execution_count": 1,
   "metadata": {},
   "outputs": [],
   "source": [
    "from estnltk.taggers import Vocabulary\n",
    "\n",
    "vocabulary = 'vocabulary.csv'"
   ]
  },
  {
   "cell_type": "markdown",
   "metadata": {},
   "source": [
    "A `Vocabulary` object"
   ]
  },
  {
   "cell_type": "code",
   "execution_count": 2,
   "metadata": {},
   "outputs": [
    {
     "data": {
      "text/html": [
       "<h4>Vocabulary</h4>\n",
       "<table border=\"1\" class=\"dataframe\">\n",
       "  <thead>\n",
       "    <tr style=\"text-align: right;\">\n",
       "      <th>_regex_pattern_</th>\n",
       "      <th>_group_</th>\n",
       "      <th>_priority_</th>\n",
       "      <th>_validator_</th>\n",
       "      <th>normalized</th>\n",
       "      <th>comment</th>\n",
       "      <th>example</th>\n",
       "    </tr>\n",
       "  </thead>\n",
       "  <tbody>\n",
       "    <tr>\n",
       "      <td>&lt;Regex ([a-zA-Z0-9_.+-]+@[a-zA-Z0-9-]+\\.[a-zA-Z0-9-.]+)&gt;</td>\n",
       "      <td>1</td>\n",
       "      <td>2</td>\n",
       "      <td>&lt;function estnltk.taggers.dict_taggers.vocabulary.&lt;lambda&gt;&gt;</td>\n",
       "      <td>&lt;function estnltk.taggers.dict_taggers.vocabulary.&lt;lambda&gt;&gt;</td>\n",
       "      <td>e-mail</td>\n",
       "      <td>bla@bla.bl</td>\n",
       "    </tr>\n",
       "    <tr>\n",
       "      <td>&lt;Regex -?(\\d[\\s\\.]?)+(,\\s?(\\d[\\s\\.]?)+)?&gt;</td>\n",
       "      <td>0</td>\n",
       "      <td>1</td>\n",
       "      <td>&lt;function estnltk.taggers.dict_taggers.vocabulary.&lt;lambda&gt;&gt;</td>\n",
       "      <td>&lt;function estnltk.taggers.dict_taggers.vocabulary.&lt;lambda&gt;&gt;</td>\n",
       "      <td>number</td>\n",
       "      <td>-34 567 000 123 , 456</td>\n",
       "    </tr>\n",
       "  </tbody>\n",
       "</table>"
      ],
      "text/plain": [
       "Vocabulary(key='_regex_pattern_', len=2)"
      ]
     },
     "execution_count": 2,
     "metadata": {},
     "output_type": "execute_result"
    }
   ],
   "source": [
    "vocabulary = Vocabulary(vocabulary=vocabulary,\n",
    "                        key='_regex_pattern_')\n",
    "vocabulary"
   ]
  },
  {
   "cell_type": "markdown",
   "metadata": {},
   "source": [
    "a pandas `DataFrame` where the regex column title is '\\_regex\\_pattern\\_'"
   ]
  },
  {
   "cell_type": "markdown",
   "metadata": {},
   "source": [
    "or a dict in the Vocabulary format"
   ]
  },
  {
   "cell_type": "code",
   "execution_count": 3,
   "metadata": {},
   "outputs": [
    {
     "data": {
      "text/plain": [
       "{regex.Regex('([a-zA-Z0-9_.+-]+@[a-zA-Z0-9-]+\\\\.[a-zA-Z0-9-.]+)', flags=regex.V0): [{'_group_': 1,\n",
       "   '_priority_': 2,\n",
       "   '_validator_': <function estnltk.taggers.dict_taggers.vocabulary.<lambda>>,\n",
       "   'comment': 'e-mail',\n",
       "   'example': 'bla@bla.bl',\n",
       "   'normalized': <function estnltk.taggers.dict_taggers.vocabulary.<lambda>>}],\n",
       " regex.Regex('-?(\\\\d[\\\\s\\\\.]?)+(,\\\\s?(\\\\d[\\\\s\\\\.]?)+)?', flags=regex.V0): [{'_group_': 0,\n",
       "   '_priority_': 1,\n",
       "   '_validator_': <function estnltk.taggers.dict_taggers.vocabulary.<lambda>>,\n",
       "   'comment': 'number',\n",
       "   'example': '-34 567 000 123 , 456',\n",
       "   'normalized': <function estnltk.taggers.dict_taggers.vocabulary.<lambda>>}]}"
      ]
     },
     "execution_count": 3,
     "metadata": {},
     "output_type": "execute_result"
    }
   ],
   "source": [
    "vocabulary.to_dict()"
   ]
  },
  {
   "cell_type": "markdown",
   "metadata": {},
   "source": [
    "**\\_regex\\_pattern\\_** is a regular expression given as a string in csv file or a compiled regex pattern. **\\_group\\_** is an integer that determines which group of the pattern should be tagged on the text (the default is `0`). **\\_priority\\_** is used to resolve conflicts (the default is `0`). Smaller numbers (or any other comparables) represent higher priorities and bigger numbers lower priorities.\n",
    "\n",
    "In case of intersecting spans, the span with lower priority is removed, if priorities are equal, the conflict resolving depends on the chosen conflict resolving strategy.\n",
    "\n",
    "**\\_validator\\_** is used to validate matches (the default is `lambda m: True`).\n",
    "\n",
    "Any callable is assumed to take one argument m, the match object, and return a value for the corresponding attribute."
   ]
  },
  {
   "cell_type": "markdown",
   "metadata": {},
   "source": [
    "**output_attributes** is a sequence of the attribute names to be annotated in the layer.\n",
    "\n",
    "**conflict_resolving_strategy** is either 'MAX', 'MIN' or 'ALL'. In case of intersecting spans, 'MAX' keeps longer, 'MIN' keeps shorter and 'ALL' keeps all spans. The default is 'MAX'.\n",
    "\n",
    "If **overlapped** is True, overlapped matches are permitted. The dafault is False\n",
    "\n",
    "If **return_layer** is True, the layer is returned and the text object is unchanged. If False, the layer is attached to the text object and None is returned. The default is False.\n",
    "\n",
    "**layer_name** is the name of the layer."
   ]
  },
  {
   "cell_type": "code",
   "execution_count": 4,
   "metadata": {},
   "outputs": [
    {
     "data": {
      "text/html": [
       "<h4>Tagger</h4>\n",
       "Tags regular expression matches on the text.\n",
       "<table border=\"1\" class=\"dataframe\">\n",
       "  <thead>\n",
       "    <tr style=\"text-align: right;\">\n",
       "      <th>name</th>\n",
       "      <th>output layer</th>\n",
       "      <th>output attributes</th>\n",
       "      <th>input layers</th>\n",
       "    </tr>\n",
       "  </thead>\n",
       "  <tbody>\n",
       "    <tr>\n",
       "      <td>RegexTagger</td>\n",
       "      <td>tokenization_hints</td>\n",
       "      <td>['normalized', '_priority_']</td>\n",
       "      <td>()</td>\n",
       "    </tr>\n",
       "  </tbody>\n",
       "</table>\n",
       "<h4>Configuration</h4>\n",
       "<table border=\"1\" class=\"dataframe\">\n",
       "  <tbody>\n",
       "    <tr>\n",
       "      <th>conflict_resolving_strategy</th>\n",
       "      <td>MAX</td>\n",
       "    </tr>\n",
       "    <tr>\n",
       "      <th>overlapped</th>\n",
       "      <td>False</td>\n",
       "    </tr>\n",
       "    <tr>\n",
       "      <th>priority_attribute</th>\n",
       "      <td>None</td>\n",
       "    </tr>\n",
       "    <tr>\n",
       "      <th>vocabulary</th>\n",
       "      <td>Vocabulary(key='_regex_pattern_', len=2)</td>\n",
       "    </tr>\n",
       "  </tbody>\n",
       "</table>"
      ],
      "text/plain": [
       "RegexTagger(input_layers=(), output_layer=tokenization_hints, output_attributes=['normalized', '_priority_'], conflict_resolving_strategy=MAX, overlapped=False, priority_attribute=None, vocabulary=Vocabulary(key='_regex_pattern_', len=2))"
      ]
     },
     "execution_count": 4,
     "metadata": {},
     "output_type": "execute_result"
    }
   ],
   "source": [
    "from estnltk.taggers import RegexTagger\n",
    "from estnltk import Text\n",
    "\n",
    "tokenization_hints_tagger = RegexTagger(vocabulary=vocabulary,\n",
    "                                        output_layer='tokenization_hints', # default 'regexes'\n",
    "                                        output_attributes=['normalized', '_priority_'], # default: None\n",
    "                                        conflict_resolving_strategy='MAX', # default 'MAX'\n",
    "                                        overlapped=False, # default False\n",
    "                                        priority_attribute=None) # default None\n",
    "tokenization_hints_tagger"
   ]
  },
  {
   "cell_type": "code",
   "execution_count": 5,
   "metadata": {},
   "outputs": [
    {
     "data": {
      "text/html": [
       "<h4>Layer</h4>\n",
       "<table border=\"1\" class=\"dataframe\">\n",
       "  <thead>\n",
       "    <tr style=\"text-align: right;\">\n",
       "      <th>layer name</th>\n",
       "      <th>attributes</th>\n",
       "      <th>parent</th>\n",
       "      <th>enveloping</th>\n",
       "      <th>ambiguous</th>\n",
       "      <th>span count</th>\n",
       "    </tr>\n",
       "  </thead>\n",
       "  <tbody>\n",
       "    <tr>\n",
       "      <td>tokenization_hints</td>\n",
       "      <td>normalized, _priority_</td>\n",
       "      <td>None</td>\n",
       "      <td>None</td>\n",
       "      <td>False</td>\n",
       "      <td>4</td>\n",
       "    </tr>\n",
       "  </tbody>\n",
       "</table>\n",
       "<table border=\"1\" class=\"dataframe\">\n",
       "  <thead>\n",
       "    <tr style=\"text-align: right;\">\n",
       "      <th>text</th>\n",
       "      <th>normalized</th>\n",
       "      <th>_priority_</th>\n",
       "    </tr>\n",
       "  </thead>\n",
       "  <tbody>\n",
       "    <tr>\n",
       "      <td>bla@bla.ee</td>\n",
       "      <td>None</td>\n",
       "      <td>2</td>\n",
       "    </tr>\n",
       "    <tr>\n",
       "      <td>10 456</td>\n",
       "      <td>10456</td>\n",
       "      <td>1</td>\n",
       "    </tr>\n",
       "    <tr>\n",
       "      <td>foo@foo.ee</td>\n",
       "      <td>None</td>\n",
       "      <td>2</td>\n",
       "    </tr>\n",
       "    <tr>\n",
       "      <td>10</td>\n",
       "      <td>10</td>\n",
       "      <td>1</td>\n",
       "    </tr>\n",
       "  </tbody>\n",
       "</table>"
      ],
      "text/plain": [
       "Layer(name=tokenization_hints, spans=SL[Span(bla@bla.ee, {'_priority_': 2, 'normalized': None}),\n",
       "Span(10 456 , {'_priority_': 1, 'normalized': '10456'}),\n",
       "Span(foo@foo.ee, {'_priority_': 2, 'normalized': None}),\n",
       "Span(10 , {'_priority_': 1, 'normalized': '10'})])"
      ]
     },
     "execution_count": 5,
     "metadata": {},
     "output_type": "execute_result"
    }
   ],
   "source": [
    "text = Text('Aadressilt bla@bla.ee tuli 10 456 kirja aadressile foo@foo.ee 10 tunni jooksul.')\n",
    "status = {}\n",
    "tokenization_hints_tagger.tag(text, status=status)\n",
    "text['tokenization_hints']"
   ]
  },
  {
   "cell_type": "code",
   "execution_count": 6,
   "metadata": {},
   "outputs": [
    {
     "data": {
      "text/html": [
       "<h4>Vocabulary</h4>\n",
       "<table border=\"1\" class=\"dataframe\">\n",
       "  <thead>\n",
       "    <tr style=\"text-align: right;\">\n",
       "      <th>_regex_pattern_</th>\n",
       "      <th>_group_</th>\n",
       "      <th>_priority_</th>\n",
       "      <th>_validator_</th>\n",
       "      <th>normalized</th>\n",
       "      <th>comment</th>\n",
       "      <th>example</th>\n",
       "    </tr>\n",
       "  </thead>\n",
       "  <tbody>\n",
       "    <tr>\n",
       "      <td>&lt;Regex ([a-zA-Z0-9_.+-]+@[a-zA-Z0-9-]+\\.[a-zA-Z0-9-.]+)&gt;</td>\n",
       "      <td>1</td>\n",
       "      <td>2</td>\n",
       "      <td>&lt;function estnltk.taggers.dict_taggers.vocabulary.&lt;lambda&gt;&gt;</td>\n",
       "      <td>&lt;function estnltk.taggers.dict_taggers.vocabulary.&lt;lambda&gt;&gt;</td>\n",
       "      <td>e-mail</td>\n",
       "      <td>bla@bla.bl</td>\n",
       "    </tr>\n",
       "    <tr>\n",
       "      <td>&lt;Regex -?(\\d[\\s\\.]?)+(,\\s?(\\d[\\s\\.]?)+)?&gt;</td>\n",
       "      <td>0</td>\n",
       "      <td>1</td>\n",
       "      <td>&lt;function estnltk.taggers.dict_taggers.vocabulary.&lt;lambda&gt;&gt;</td>\n",
       "      <td>&lt;function estnltk.taggers.dict_taggers.vocabulary.&lt;lambda&gt;&gt;</td>\n",
       "      <td>number</td>\n",
       "      <td>-34 567 000 123 , 456</td>\n",
       "    </tr>\n",
       "  </tbody>\n",
       "</table>"
      ],
      "text/plain": [
       "Vocabulary(key='_regex_pattern_', len=2)"
      ]
     },
     "execution_count": 6,
     "metadata": {},
     "output_type": "execute_result"
    }
   ],
   "source": [
    "tokenization_hints_tagger.vocabulary"
   ]
  },
  {
   "cell_type": "code",
   "execution_count": 7,
   "metadata": {},
   "outputs": [
    {
     "data": {
      "text/plain": [
       "{'number_of_conflicts': 0}"
      ]
     },
     "execution_count": 7,
     "metadata": {},
     "output_type": "execute_result"
    }
   ],
   "source": [
    "# The number of intersecting pairs of spans before conflict resolving\n",
    "status"
   ]
  },
  {
   "cell_type": "markdown",
   "metadata": {},
   "source": [
    "## Conflict resolving"
   ]
  },
  {
   "cell_type": "code",
   "execution_count": 8,
   "metadata": {},
   "outputs": [
    {
     "data": {
      "text/html": [
       "<h4>Vocabulary</h4>\n",
       "<table border=\"1\" class=\"dataframe\">\n",
       "  <thead>\n",
       "    <tr style=\"text-align: right;\">\n",
       "      <th>_regex_pattern_</th>\n",
       "      <th>_group_</th>\n",
       "      <th>_validator_</th>\n",
       "    </tr>\n",
       "  </thead>\n",
       "  <tbody>\n",
       "    <tr>\n",
       "      <td>&lt;Regex kaks&gt;</td>\n",
       "      <td>0</td>\n",
       "      <td>&lt;function __main__.&lt;lambda&gt;&gt;</td>\n",
       "    </tr>\n",
       "    <tr>\n",
       "      <td>&lt;Regex kakskümmend kaks&gt;</td>\n",
       "      <td>0</td>\n",
       "      <td>&lt;function __main__.&lt;lambda&gt;&gt;</td>\n",
       "    </tr>\n",
       "    <tr>\n",
       "      <td>&lt;Regex kakskümmend&gt;</td>\n",
       "      <td>0</td>\n",
       "      <td>&lt;function __main__.&lt;lambda&gt;&gt;</td>\n",
       "    </tr>\n",
       "    <tr>\n",
       "      <td>&lt;Regex kümme&gt;</td>\n",
       "      <td>0</td>\n",
       "      <td>&lt;function __main__.&lt;lambda&gt;&gt;</td>\n",
       "    </tr>\n",
       "  </tbody>\n",
       "</table>"
      ],
      "text/plain": [
       "Vocabulary(key='_regex_pattern_', len=4)"
      ]
     },
     "execution_count": 8,
     "metadata": {},
     "output_type": "execute_result"
    }
   ],
   "source": [
    "# no _priority_, conflict_resolving_strategy='ALL'\n",
    "vocabulary = [\n",
    "              {'_regex_pattern_': 'kaks'},\n",
    "              {'_regex_pattern_': 'kümme'},\n",
    "              {'_regex_pattern_': 'kakskümmend'},\n",
    "              {'_regex_pattern_': 'kakskümmend kaks'}\n",
    "             ]\n",
    "vocabulary = Vocabulary(vocabulary=vocabulary,\n",
    "                        key='_regex_pattern_',\n",
    "                        regex_attributes=['_regex_pattern_'],\n",
    "                        default_rec={'_group_': 0, '_validator_': lambda s: True}\n",
    "                       )\n",
    "vocabulary"
   ]
  },
  {
   "cell_type": "code",
   "execution_count": 9,
   "metadata": {},
   "outputs": [
    {
     "name": "stdout",
     "output_type": "stream",
     "text": [
      "{'number_of_conflicts': 6}\n"
     ]
    },
    {
     "data": {
      "text/html": [
       "<h4>Layer</h4>\n",
       "<table border=\"1\" class=\"dataframe\">\n",
       "  <thead>\n",
       "    <tr style=\"text-align: right;\">\n",
       "      <th>layer name</th>\n",
       "      <th>attributes</th>\n",
       "      <th>parent</th>\n",
       "      <th>enveloping</th>\n",
       "      <th>ambiguous</th>\n",
       "      <th>span count</th>\n",
       "    </tr>\n",
       "  </thead>\n",
       "  <tbody>\n",
       "    <tr>\n",
       "      <td>regexes</td>\n",
       "      <td></td>\n",
       "      <td>None</td>\n",
       "      <td>None</td>\n",
       "      <td>False</td>\n",
       "      <td>5</td>\n",
       "    </tr>\n",
       "  </tbody>\n",
       "</table>\n",
       "<table border=\"1\" class=\"dataframe\">\n",
       "  <thead>\n",
       "    <tr style=\"text-align: right;\">\n",
       "      <th>text</th>\n",
       "    </tr>\n",
       "  </thead>\n",
       "  <tbody>\n",
       "    <tr>\n",
       "      <td>kaks</td>\n",
       "    </tr>\n",
       "    <tr>\n",
       "      <td>kakskümmend</td>\n",
       "    </tr>\n",
       "    <tr>\n",
       "      <td>kakskümmend kaks</td>\n",
       "    </tr>\n",
       "    <tr>\n",
       "      <td>kümme</td>\n",
       "    </tr>\n",
       "    <tr>\n",
       "      <td>kaks</td>\n",
       "    </tr>\n",
       "  </tbody>\n",
       "</table>"
      ],
      "text/plain": [
       "Layer(name=regexes, spans=SL[Span(kaks, {}),\n",
       "Span(kakskümmend, {}),\n",
       "Span(kakskümmend kaks, {}),\n",
       "Span(kümme, {}),\n",
       "Span(kaks, {})])"
      ]
     },
     "execution_count": 9,
     "metadata": {},
     "output_type": "execute_result"
    }
   ],
   "source": [
    "regex_tagger = RegexTagger(vocabulary=vocabulary, conflict_resolving_strategy='ALL')\n",
    "text = Text('kakskümmend kaks')\n",
    "status = {}\n",
    "regex_tagger.tag(text, status)\n",
    "print(status)\n",
    "text['regexes']"
   ]
  },
  {
   "cell_type": "code",
   "execution_count": 10,
   "metadata": {},
   "outputs": [
    {
     "data": {
      "text/html": [
       "<h4>Layer</h4>\n",
       "<table border=\"1\" class=\"dataframe\">\n",
       "  <thead>\n",
       "    <tr style=\"text-align: right;\">\n",
       "      <th>layer name</th>\n",
       "      <th>attributes</th>\n",
       "      <th>parent</th>\n",
       "      <th>enveloping</th>\n",
       "      <th>ambiguous</th>\n",
       "      <th>span count</th>\n",
       "    </tr>\n",
       "  </thead>\n",
       "  <tbody>\n",
       "    <tr>\n",
       "      <td>regexes</td>\n",
       "      <td></td>\n",
       "      <td>None</td>\n",
       "      <td>None</td>\n",
       "      <td>False</td>\n",
       "      <td>1</td>\n",
       "    </tr>\n",
       "  </tbody>\n",
       "</table>\n",
       "<table border=\"1\" class=\"dataframe\">\n",
       "  <thead>\n",
       "    <tr style=\"text-align: right;\">\n",
       "      <th>text</th>\n",
       "    </tr>\n",
       "  </thead>\n",
       "  <tbody>\n",
       "    <tr>\n",
       "      <td>kakskümmend kaks</td>\n",
       "    </tr>\n",
       "  </tbody>\n",
       "</table>"
      ],
      "text/plain": [
       "Layer(name=regexes, spans=SL[Span(kakskümmend kaks, {})])"
      ]
     },
     "execution_count": 10,
     "metadata": {},
     "output_type": "execute_result"
    }
   ],
   "source": [
    "# no _priority_, conflict_resolving_strategy='MAX'\n",
    "regex_tagger = RegexTagger(vocabulary=vocabulary, conflict_resolving_strategy='MAX')\n",
    "text = Text('kakskümmend kaks')\n",
    "regex_tagger.tag(text)\n",
    "text['regexes']"
   ]
  },
  {
   "cell_type": "code",
   "execution_count": 11,
   "metadata": {},
   "outputs": [
    {
     "data": {
      "text/html": [
       "<h4>Layer</h4>\n",
       "<table border=\"1\" class=\"dataframe\">\n",
       "  <thead>\n",
       "    <tr style=\"text-align: right;\">\n",
       "      <th>layer name</th>\n",
       "      <th>attributes</th>\n",
       "      <th>parent</th>\n",
       "      <th>enveloping</th>\n",
       "      <th>ambiguous</th>\n",
       "      <th>span count</th>\n",
       "    </tr>\n",
       "  </thead>\n",
       "  <tbody>\n",
       "    <tr>\n",
       "      <td>regexes</td>\n",
       "      <td></td>\n",
       "      <td>None</td>\n",
       "      <td>None</td>\n",
       "      <td>False</td>\n",
       "      <td>3</td>\n",
       "    </tr>\n",
       "  </tbody>\n",
       "</table>\n",
       "<table border=\"1\" class=\"dataframe\">\n",
       "  <thead>\n",
       "    <tr style=\"text-align: right;\">\n",
       "      <th>text</th>\n",
       "    </tr>\n",
       "  </thead>\n",
       "  <tbody>\n",
       "    <tr>\n",
       "      <td>kaks</td>\n",
       "    </tr>\n",
       "    <tr>\n",
       "      <td>kümme</td>\n",
       "    </tr>\n",
       "    <tr>\n",
       "      <td>kaks</td>\n",
       "    </tr>\n",
       "  </tbody>\n",
       "</table>"
      ],
      "text/plain": [
       "Layer(name=regexes, spans=SL[Span(kaks, {}),\n",
       "Span(kümme, {}),\n",
       "Span(kaks, {})])"
      ]
     },
     "execution_count": 11,
     "metadata": {},
     "output_type": "execute_result"
    }
   ],
   "source": [
    "# no _priority_, conflict_resolving_strategy='MIN'\n",
    "regex_tagger = RegexTagger(vocabulary=vocabulary, conflict_resolving_strategy='MIN')\n",
    "text = Text('kakskümmend kaks')\n",
    "regex_tagger.tag(text)\n",
    "text['regexes']"
   ]
  },
  {
   "cell_type": "code",
   "execution_count": 12,
   "metadata": {},
   "outputs": [
    {
     "data": {
      "text/html": [
       "<h4>Layer</h4>\n",
       "<table border=\"1\" class=\"dataframe\">\n",
       "  <thead>\n",
       "    <tr style=\"text-align: right;\">\n",
       "      <th>layer name</th>\n",
       "      <th>attributes</th>\n",
       "      <th>parent</th>\n",
       "      <th>enveloping</th>\n",
       "      <th>ambiguous</th>\n",
       "      <th>span count</th>\n",
       "    </tr>\n",
       "  </thead>\n",
       "  <tbody>\n",
       "    <tr>\n",
       "      <td>regexes</td>\n",
       "      <td>_priority_</td>\n",
       "      <td>None</td>\n",
       "      <td>None</td>\n",
       "      <td>False</td>\n",
       "      <td>3</td>\n",
       "    </tr>\n",
       "  </tbody>\n",
       "</table>\n",
       "<table border=\"1\" class=\"dataframe\">\n",
       "  <thead>\n",
       "    <tr style=\"text-align: right;\">\n",
       "      <th>text</th>\n",
       "      <th>_priority_</th>\n",
       "    </tr>\n",
       "  </thead>\n",
       "  <tbody>\n",
       "    <tr>\n",
       "      <td>kaks</td>\n",
       "      <td>0</td>\n",
       "    </tr>\n",
       "    <tr>\n",
       "      <td>kümme</td>\n",
       "      <td>1</td>\n",
       "    </tr>\n",
       "    <tr>\n",
       "      <td>kaks</td>\n",
       "      <td>0</td>\n",
       "    </tr>\n",
       "  </tbody>\n",
       "</table>"
      ],
      "text/plain": [
       "Layer(name=regexes, spans=SL[Span(kaks, {'_priority_': 0}),\n",
       "Span(kümme, {'_priority_': 1}),\n",
       "Span(kaks, {'_priority_': 0})])"
      ]
     },
     "execution_count": 12,
     "metadata": {},
     "output_type": "execute_result"
    }
   ],
   "source": [
    "# _priority_ given and conflict_resolving_strategy='ALL'\n",
    "vocabulary = [\n",
    "              {'_regex_pattern_': 'kaks', '_priority_': 0},\n",
    "              {'_regex_pattern_': 'kümme', '_priority_': 1},\n",
    "              {'_regex_pattern_': 'kakskümmend', '_priority_': 2},\n",
    "              {'_regex_pattern_': 'kakskümmend kaks', '_priority_': 3}\n",
    "             ]\n",
    "_vocabulary = Vocabulary(vocabulary=vocabulary,\n",
    "                        key='_regex_pattern_',\n",
    "                        default_rec={'_group_': 0, '_validator_': lambda s: True},\n",
    "                        regex_attributes=['_regex_pattern_'])\n",
    "\n",
    "regex_tagger = RegexTagger(vocabulary=vocabulary,\n",
    "                           output_attributes=['_priority_'],\n",
    "                           conflict_resolving_strategy='ALL',\n",
    "                           priority_attribute='_priority_')\n",
    "text = Text('kakskümmend kaks')\n",
    "regex_tagger.tag(text)\n",
    "text['regexes']"
   ]
  },
  {
   "cell_type": "markdown",
   "metadata": {},
   "source": [
    "## Validating\n",
    "Match results can be validated using a validator functinon. Validator function must take one argument, the match object `m` and return an object that can be tested for the bool value. If the result is `False`, the match is omitted. Validator is passed to the tagger inside the vocabulary using the `_validator_` keyword. Validator function can be a regular function or a lambda function given as a string starting with `lambda m:`. The next example demonstrates both options. The default validator is\n",
    "```python\n",
    "lambda m: True\n",
    "```"
   ]
  },
  {
   "cell_type": "code",
   "execution_count": 13,
   "metadata": {},
   "outputs": [
    {
     "data": {
      "text/html": [
       "<h4>Layer</h4>\n",
       "<table border=\"1\" class=\"dataframe\">\n",
       "  <thead>\n",
       "    <tr style=\"text-align: right;\">\n",
       "      <th>layer name</th>\n",
       "      <th>attributes</th>\n",
       "      <th>parent</th>\n",
       "      <th>enveloping</th>\n",
       "      <th>ambiguous</th>\n",
       "      <th>span count</th>\n",
       "    </tr>\n",
       "  </thead>\n",
       "  <tbody>\n",
       "    <tr>\n",
       "      <td>numbers</td>\n",
       "      <td>comment</td>\n",
       "      <td>None</td>\n",
       "      <td>None</td>\n",
       "      <td>False</td>\n",
       "      <td>5</td>\n",
       "    </tr>\n",
       "  </tbody>\n",
       "</table>\n",
       "<table border=\"1\" class=\"dataframe\">\n",
       "  <thead>\n",
       "    <tr style=\"text-align: right;\">\n",
       "      <th>text</th>\n",
       "      <th>comment</th>\n",
       "    </tr>\n",
       "  </thead>\n",
       "  <tbody>\n",
       "    <tr>\n",
       "      <td>3209</td>\n",
       "      <td>starts with non-zero</td>\n",
       "    </tr>\n",
       "    <tr>\n",
       "      <td>0930</td>\n",
       "      <td>starts with zero</td>\n",
       "    </tr>\n",
       "    <tr>\n",
       "      <td>093</td>\n",
       "      <td>starts with zero</td>\n",
       "    </tr>\n",
       "    <tr>\n",
       "      <td>2304209</td>\n",
       "      <td>starts with non-zero</td>\n",
       "    </tr>\n",
       "    <tr>\n",
       "      <td>093402</td>\n",
       "      <td>starts with zero</td>\n",
       "    </tr>\n",
       "  </tbody>\n",
       "</table>"
      ],
      "text/plain": [
       "Layer(name=numbers, spans=SL[Span(3209, {'comment': 'starts with non-zero'}),\n",
       "Span(0930, {'comment': 'starts with zero'}),\n",
       "Span(093, {'comment': 'starts with zero'}),\n",
       "Span(2304209, {'comment': 'starts with non-zero'}),\n",
       "Span(093402, {'comment': 'starts with zero'})])"
      ]
     },
     "execution_count": 13,
     "metadata": {},
     "output_type": "execute_result"
    }
   ],
   "source": [
    "def validator(m):\n",
    "    return not m.group(0).startswith('0')\n",
    "    \n",
    "\n",
    "vocabulary = [\n",
    "              {'_regex_pattern_': '\\d+',\n",
    "               '_validator_': validator, \n",
    "               'comment':'starts with non-zero'},\n",
    "              {'_regex_pattern_': '\\d+', \n",
    "               '_validator_': lambda m: m.group(0).startswith('0'),\n",
    "               'comment':'starts with zero'}\n",
    "             ]\n",
    "\n",
    "regex_tagger = RegexTagger(output_layer='numbers',\n",
    "                           vocabulary=vocabulary,\n",
    "                           output_attributes=['comment'])\n",
    "text = Text('3209 n  0930 093 2304209 093402')\n",
    "regex_tagger.tag(text)\n",
    "text['numbers']"
   ]
  }
 ],
 "metadata": {
  "kernelspec": {
   "display_name": "Python 3",
   "language": "python",
   "name": "python3"
  },
  "language_info": {
   "codemirror_mode": {
    "name": "ipython",
    "version": 3
   },
   "file_extension": ".py",
   "mimetype": "text/x-python",
   "name": "python",
   "nbconvert_exporter": "python",
   "pygments_lexer": "ipython3",
   "version": "3.5.4"
  }
 },
 "nbformat": 4,
 "nbformat_minor": 2
}
