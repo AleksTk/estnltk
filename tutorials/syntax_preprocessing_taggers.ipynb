{
 "cells": [
  {
   "cell_type": "markdown",
   "metadata": {},
   "source": [
    "# Syntax preprocessing taggers and rewriters\n",
    "\n",
    "|tagger|rewriters|source attributes|target attributes|values|\n",
    "|------|---------|-----------------|-----------------|------|\n",
    "||PunctuatinonTypeRewriter|partofspeech, root|punctuation_type|```None```, 'Fst', 'Com', 'Col', ... |\n",
    "||MorphToSyntaxMorphRewriter|partofspeech, form|partofspeech, form||\n",
    "|PronounTypeTagger|PronounTypeRewriter|root, ending, clitic, partofspeech|pronoun_type| ```None```, ('det',), ('pers ps3',), ('pos', 'det', 'refl'), ... |\n",
    "||RemoveDuplicateAnalysesRewriter||||\n",
    "||LetterCaseRewriter|word_text|cap|```None```, 'cap'|\n",
    "|FiniteFormTagger|MorphToSyntaxMorphRewriter, FiniteFormRewriter|partofspeech, form|fin|```None```, 'fin'|\n",
    "|VerbExtensionSuffixTagger|VerbExtensionSuffixRewriter|root|verb_extension_suffix|```None```,'tud','nud','mine','nu','tu','v','tav','mata','ja'|\n",
    "|SubcatTagger|MorphToSyntaxMorphRewriter, SubcatRewriter|root, partofspeech, form|subcat|```None```, 'Intr', 'Part', 'gen', ...|\n",
    "|MorphExtendedTagger|PunctuatinonTypeRewriter, MorphToSyntaxMorphRewriter, PronounTypeRewriter, RemoveDuplicateAnalysesRewriter, LetterCaseRewriter, FiniteFormRewriter, VerbExtensionSuffixRewriter, SubcatRewriter|root, ending, clitic, partofspeech, form|partofspeech, form, punctuation_type, pronoun_type, cap, fin, verb_extension_suffix, subcat ||"
   ]
  },
  {
   "cell_type": "code",
   "execution_count": 1,
   "metadata": {
    "collapsed": true
   },
   "outputs": [],
   "source": [
    "from estnltk.text import words_sentences"
   ]
  },
  {
   "cell_type": "markdown",
   "metadata": {},
   "source": [
    "## PronounTypeTagger"
   ]
  },
  {
   "cell_type": "code",
   "execution_count": 2,
   "metadata": {
    "collapsed": false
   },
   "outputs": [
    {
     "data": {
      "text/plain": [
       "SL[SL[Span(Kumb, {'ending': '0', 'partofspeech': 'P', 'lemma': 'kumb', 'clitic': '', 'form': 'sg n', 'root': 'kumb', 'pronoun_type': ('rel',), 'root_tokens': ['kumb']})],\n",
       "SL[Span(,, {'ending': '', 'partofspeech': 'Z', 'lemma': ',', 'clitic': '', 'form': '', 'root': ',', 'pronoun_type': None, 'root_tokens': [',']})],\n",
       "SL[Span(sina, {'ending': '0', 'partofspeech': 'P', 'lemma': 'sina', 'clitic': '', 'form': 'sg n', 'root': 'sina', 'pronoun_type': ('pers ps2',), 'root_tokens': ['sina']})],\n",
       "SL[Span(või, {'ending': '0', 'partofspeech': 'J', 'lemma': 'või', 'clitic': '', 'form': '', 'root': 'või', 'pronoun_type': None, 'root_tokens': ['või']})],\n",
       "SL[Span(mina, {'ending': '0', 'partofspeech': 'S', 'lemma': 'mina', 'clitic': '', 'form': 'sg n', 'root': 'mina', 'pronoun_type': None, 'root_tokens': ['mina']})],\n",
       "SL[Span(?, {'ending': '', 'partofspeech': 'Z', 'lemma': '?', 'clitic': '', 'form': '', 'root': '?', 'pronoun_type': None, 'root_tokens': ['?']})]]"
      ]
     },
     "execution_count": 2,
     "metadata": {},
     "output_type": "execute_result"
    }
   ],
   "source": [
    "from estnltk.taggers import PronounTypeTagger\n",
    "\n",
    "tagger = PronounTypeTagger()\n",
    "text = words_sentences('Kumb, sina või mina?')\n",
    "tagger.tag(text)\n",
    "text.morph_extended"
   ]
  },
  {
   "cell_type": "markdown",
   "metadata": {},
   "source": [
    "## FiniteFormTagger"
   ]
  },
  {
   "cell_type": "code",
   "execution_count": 3,
   "metadata": {
    "collapsed": false
   },
   "outputs": [
    {
     "data": {
      "text/plain": [
       "SL[SL[Span(Hüppas, {'ending': 's', 'partofspeech': 'V', 'lemma': 'hüppama', 'clitic': '', 'fin': '<FinV>', 'form': 'mod indic impf ps3 sg ps af', 'root': 'hüppa', 'root_tokens': ['hüppa']}),\n",
       "Span(Hüppas, {'ending': 's', 'partofspeech': 'V', 'lemma': 'hüppama', 'clitic': '', 'fin': '<FinV>', 'form': 'aux indic impf ps3 sg ps af', 'root': 'hüppa', 'root_tokens': ['hüppa']}),\n",
       "Span(Hüppas, {'ending': 's', 'partofspeech': 'V', 'lemma': 'hüppama', 'clitic': '', 'fin': '<FinV>', 'form': 'main indic impf ps3 sg ps af', 'root': 'hüppa', 'root_tokens': ['hüppa']})],\n",
       "SL[Span(,, {'ending': '', 'partofspeech': 'Z', 'lemma': ',', 'clitic': '', 'fin': None, 'form': '', 'root': ',', 'root_tokens': [',']})],\n",
       "SL[Span(kargas, {'ending': 's', 'partofspeech': 'V', 'lemma': 'kargama', 'clitic': '', 'fin': '<FinV>', 'form': 'mod indic impf ps3 sg ps af', 'root': 'karga', 'root_tokens': ['karga']}),\n",
       "Span(kargas, {'ending': 's', 'partofspeech': 'V', 'lemma': 'kargama', 'clitic': '', 'fin': '<FinV>', 'form': 'aux indic impf ps3 sg ps af', 'root': 'karga', 'root_tokens': ['karga']}),\n",
       "Span(kargas, {'ending': 's', 'partofspeech': 'V', 'lemma': 'kargama', 'clitic': '', 'fin': '<FinV>', 'form': 'main indic impf ps3 sg ps af', 'root': 'karga', 'root_tokens': ['karga']})],\n",
       "SL[Span(ja, {'ending': '0', 'partofspeech': 'J', 'lemma': 'ja', 'clitic': '', 'fin': None, 'form': 'sub crd', 'root': 'ja', 'root_tokens': ['ja']})],\n",
       "SL[Span(lõi, {'ending': 'i', 'partofspeech': 'V', 'lemma': 'looma', 'clitic': '', 'fin': '<FinV>', 'form': 'mod indic impf ps3 sg ps af', 'root': 'loo', 'root_tokens': ['loo']}),\n",
       "Span(lõi, {'ending': 'i', 'partofspeech': 'V', 'lemma': 'looma', 'clitic': '', 'fin': '<FinV>', 'form': 'aux indic impf ps3 sg ps af', 'root': 'loo', 'root_tokens': ['loo']}),\n",
       "Span(lõi, {'ending': 'i', 'partofspeech': 'V', 'lemma': 'looma', 'clitic': '', 'fin': '<FinV>', 'form': 'main indic impf ps3 sg ps af', 'root': 'loo', 'root_tokens': ['loo']}),\n",
       "Span(lõi, {'ending': 'i', 'partofspeech': 'V', 'lemma': 'lööma', 'clitic': '', 'fin': '<FinV>', 'form': 'mod indic impf ps3 sg ps af', 'root': 'löö', 'root_tokens': ['löö']}),\n",
       "Span(lõi, {'ending': 'i', 'partofspeech': 'V', 'lemma': 'lööma', 'clitic': '', 'fin': '<FinV>', 'form': 'aux indic impf ps3 sg ps af', 'root': 'löö', 'root_tokens': ['löö']}),\n",
       "Span(lõi, {'ending': 'i', 'partofspeech': 'V', 'lemma': 'lööma', 'clitic': '', 'fin': '<FinV>', 'form': 'main indic impf ps3 sg ps af', 'root': 'löö', 'root_tokens': ['löö']})],\n",
       "SL[Span(trummi, {'ending': '0', 'partofspeech': 'S', 'lemma': 'trumm', 'clitic': '', 'fin': None, 'form': 'com sg gen', 'root': 'trumm', 'root_tokens': ['trumm']})],\n",
       "SL[Span(., {'ending': '', 'partofspeech': 'Z', 'lemma': '.', 'clitic': '', 'fin': None, 'form': '', 'root': '.', 'root_tokens': ['.']})]]"
      ]
     },
     "execution_count": 3,
     "metadata": {},
     "output_type": "execute_result"
    }
   ],
   "source": [
    "from estnltk.taggers import FiniteFormTagger\n",
    "\n",
    "fsToSyntFulesFile = '../estnltk/rewriting/syntax_preprocessing/files/tmorftrtabel.txt'\n",
    "\n",
    "tagger = FiniteFormTagger(fs_to_synt_rules_file=fsToSyntFulesFile)\n",
    "text = words_sentences('Hüppas, kargas ja lõi trummi.')\n",
    "tagger.tag(text)\n",
    "text.morph_extended"
   ]
  },
  {
   "cell_type": "markdown",
   "metadata": {},
   "source": [
    "## VerbExtensionSuffixTagger"
   ]
  },
  {
   "cell_type": "code",
   "execution_count": 4,
   "metadata": {
    "collapsed": false,
    "scrolled": true
   },
   "outputs": [
    {
     "data": {
      "text/plain": [
       "SL[SL[Span(Laulev, {'ending': '0', 'partofspeech': 'A', 'lemma': 'laulev', 'clitic': '', 'verb_extension_suffix': None, 'form': 'sg n', 'root': 'laulev', 'root_tokens': ['laulev']})],\n",
       "SL[Span(hüpelnud, {'ending': 'nud', 'partofspeech': 'V', 'lemma': 'hüplema', 'clitic': '', 'verb_extension_suffix': None, 'form': 'nud', 'root': 'hüple', 'root_tokens': ['hüple']}),\n",
       "Span(hüpelnud, {'ending': '0', 'partofspeech': 'A', 'lemma': 'hüpelnud', 'clitic': '', 'verb_extension_suffix': 'nud', 'form': '', 'root': 'hüpel=nud', 'root_tokens': ['hüpelnud']}),\n",
       "Span(hüpelnud, {'ending': '0', 'partofspeech': 'A', 'lemma': 'hüpelnud', 'clitic': '', 'verb_extension_suffix': 'nud', 'form': 'sg n', 'root': 'hüpel=nud', 'root_tokens': ['hüpelnud']}),\n",
       "Span(hüpelnud, {'ending': 'd', 'partofspeech': 'A', 'lemma': 'hüpelnud', 'clitic': '', 'verb_extension_suffix': 'nud', 'form': 'pl n', 'root': 'hüpel=nud', 'root_tokens': ['hüpelnud']})],\n",
       "SL[Span(tantsija, {'ending': '0', 'partofspeech': 'S', 'lemma': 'tantsija', 'clitic': '', 'verb_extension_suffix': None, 'form': 'sg n', 'root': 'tantsija', 'root_tokens': ['tantsija']})]]"
      ]
     },
     "execution_count": 4,
     "metadata": {},
     "output_type": "execute_result"
    }
   ],
   "source": [
    "from estnltk.taggers import VerbExtensionSuffixTagger\n",
    "\n",
    "tagger = VerbExtensionSuffixTagger()\n",
    "text = words_sentences('Laulev hüpelnud tantsija')\n",
    "tagger.tag(text)\n",
    "text.morph_extended"
   ]
  },
  {
   "cell_type": "markdown",
   "metadata": {},
   "source": [
    "## SubcatTagger"
   ]
  },
  {
   "cell_type": "code",
   "execution_count": 5,
   "metadata": {
    "collapsed": false
   },
   "outputs": [
    {
     "data": {
      "text/plain": [
       "SL[SL[Span(Järel, {'ending': '0', 'partofspeech': 'K', 'lemma': 'järel', 'clitic': '', 'subcat': ['gen'], 'form': 'post', 'root': 'järel', 'root_tokens': ['järel']}),\n",
       "Span(Järel, {'ending': '0', 'partofspeech': 'K', 'lemma': 'järel', 'clitic': '', 'subcat': None, 'form': 'pre', 'root': 'järel', 'root_tokens': ['järel']})],\n",
       "SL[Span(juurduma, {'ending': 'ma', 'partofspeech': 'V', 'lemma': 'juurduma', 'clitic': '', 'subcat': ['Intr'], 'form': 'mod sup ps ill', 'root': 'juurdu', 'root_tokens': ['juurdu']}),\n",
       "Span(juurduma, {'ending': 'ma', 'partofspeech': 'V', 'lemma': 'juurduma', 'clitic': '', 'subcat': ['Intr'], 'form': 'aux sup ps ill', 'root': 'juurdu', 'root_tokens': ['juurdu']}),\n",
       "Span(juurduma, {'ending': 'ma', 'partofspeech': 'V', 'lemma': 'juurduma', 'clitic': '', 'subcat': ['Intr'], 'form': 'main sup ps ill', 'root': 'juurdu', 'root_tokens': ['juurdu']})]]"
      ]
     },
     "execution_count": 5,
     "metadata": {},
     "output_type": "execute_result"
    }
   ],
   "source": [
    "from estnltk.taggers import SubcatTagger\n",
    "\n",
    "fsToSyntFulesFile = '../estnltk/rewriting/syntax_preprocessing/files/tmorftrtabel.txt'\n",
    "subcatFile = '../estnltk/rewriting/syntax_preprocessing/files/abileksikon06utf.lx'\n",
    "\n",
    "tagger = SubcatTagger(fs_to_synt_rules_file=fsToSyntFulesFile, \n",
    "                      subcat_rules_file=subcatFile)\n",
    "text = words_sentences('Järel juurduma')\n",
    "tagger.tag(text)\n",
    "text.morph_extended"
   ]
  },
  {
   "cell_type": "markdown",
   "metadata": {},
   "source": [
    "## MorphExtendedTagger"
   ]
  },
  {
   "cell_type": "code",
   "execution_count": 7,
   "metadata": {
    "collapsed": false
   },
   "outputs": [
    {
     "name": "stdout",
     "output_type": "stream",
     "text": [
      "zmpdcfps"
     ]
    },
    {
     "data": {
      "text/plain": [
       "SL[SL[Span(Ta, {'ending': '0', 'subcat': None, 'partofspeech': 'P', 'fin': None, 'letter_case': 'cap', 'clitic': '', 'verb_extension_suffix': None, 'form': 'sg nom', 'root': 'tema', 'pronoun_type': ('pers ps3',), 'punctuation_type': None, 'word_text': 'Ta'})],\n",
       "SL[Span(on, {'ending': '0', 'subcat': ['Intr'], 'partofspeech': 'V', 'fin': '<FinV>', 'letter_case': None, 'clitic': '', 'verb_extension_suffix': None, 'form': 'mod indic pres ps3 sg ps af', 'root': 'ole', 'pronoun_type': None, 'punctuation_type': None, 'word_text': 'on'}),\n",
       "Span(on, {'ending': '0', 'subcat': ['Intr'], 'partofspeech': 'V', 'fin': '<FinV>', 'letter_case': None, 'clitic': '', 'verb_extension_suffix': None, 'form': 'aux indic pres ps3 sg ps af', 'root': 'ole', 'pronoun_type': None, 'punctuation_type': None, 'word_text': 'on'}),\n",
       "Span(on, {'ending': '0', 'subcat': ['Intr'], 'partofspeech': 'V', 'fin': '<FinV>', 'letter_case': None, 'clitic': '', 'verb_extension_suffix': None, 'form': 'main indic pres ps3 sg ps af', 'root': 'ole', 'pronoun_type': None, 'punctuation_type': None, 'word_text': 'on'}),\n",
       "Span(on, {'ending': '0', 'subcat': ['Intr'], 'partofspeech': 'V', 'fin': '<FinV>', 'letter_case': None, 'clitic': '', 'verb_extension_suffix': None, 'form': 'mod indic pres ps3 pl ps af', 'root': 'ole', 'pronoun_type': None, 'punctuation_type': None, 'word_text': 'on'}),\n",
       "Span(on, {'ending': '0', 'subcat': ['Intr'], 'partofspeech': 'V', 'fin': '<FinV>', 'letter_case': None, 'clitic': '', 'verb_extension_suffix': None, 'form': 'aux indic pres ps3 pl ps af', 'root': 'ole', 'pronoun_type': None, 'punctuation_type': None, 'word_text': 'on'}),\n",
       "Span(on, {'ending': '0', 'subcat': ['Intr'], 'partofspeech': 'V', 'fin': '<FinV>', 'letter_case': None, 'clitic': '', 'verb_extension_suffix': None, 'form': 'main indic pres ps3 pl ps af', 'root': 'ole', 'pronoun_type': None, 'punctuation_type': None, 'word_text': 'on'})],\n",
       "SL[Span(rääkinud, {'ending': 'nud', 'subcat': ['Part-P', 'El'], 'partofspeech': 'V', 'fin': '<FinV>', 'letter_case': None, 'clitic': '', 'verb_extension_suffix': None, 'form': 'mod indic impf ps neg', 'root': 'rääki', 'pronoun_type': None, 'punctuation_type': None, 'word_text': 'rääkinud'}),\n",
       "Span(rääkinud, {'ending': 'nud', 'subcat': ['Part-P', 'El'], 'partofspeech': 'V', 'fin': None, 'letter_case': None, 'clitic': '', 'verb_extension_suffix': None, 'form': 'mod partic past ps', 'root': 'rääki', 'pronoun_type': None, 'punctuation_type': None, 'word_text': 'rääkinud'}),\n",
       "Span(rääkinud, {'ending': 'nud', 'subcat': ['Part-P', 'El'], 'partofspeech': 'V', 'fin': '<FinV>', 'letter_case': None, 'clitic': '', 'verb_extension_suffix': None, 'form': 'aux indic impf ps neg', 'root': 'rääki', 'pronoun_type': None, 'punctuation_type': None, 'word_text': 'rääkinud'}),\n",
       "Span(rääkinud, {'ending': 'nud', 'subcat': ['Part-P', 'El'], 'partofspeech': 'V', 'fin': None, 'letter_case': None, 'clitic': '', 'verb_extension_suffix': None, 'form': 'aux partic past ps', 'root': 'rääki', 'pronoun_type': None, 'punctuation_type': None, 'word_text': 'rääkinud'}),\n",
       "Span(rääkinud, {'ending': 'nud', 'subcat': ['Part-P', 'El'], 'partofspeech': 'V', 'fin': '<FinV>', 'letter_case': None, 'clitic': '', 'verb_extension_suffix': None, 'form': 'main indic impf ps neg', 'root': 'rääki', 'pronoun_type': None, 'punctuation_type': None, 'word_text': 'rääkinud'}),\n",
       "Span(rääkinud, {'ending': 'nud', 'subcat': ['Part-P', 'El'], 'partofspeech': 'V', 'fin': None, 'letter_case': None, 'clitic': '', 'verb_extension_suffix': None, 'form': 'main partic past ps', 'root': 'rääki', 'pronoun_type': None, 'punctuation_type': None, 'word_text': 'rääkinud'}),\n",
       "Span(rääkinud, {'ending': '0', 'subcat': None, 'partofspeech': 'A', 'fin': None, 'letter_case': None, 'clitic': '', 'verb_extension_suffix': 'nud', 'form': 'pos', 'root': 'rääki=nud', 'pronoun_type': None, 'punctuation_type': None, 'word_text': 'rääkinud'}),\n",
       "Span(rääkinud, {'ending': '0', 'subcat': None, 'partofspeech': 'A', 'fin': None, 'letter_case': None, 'clitic': '', 'verb_extension_suffix': 'nud', 'form': 'pos sg nom', 'root': 'rääki=nud', 'pronoun_type': None, 'punctuation_type': None, 'word_text': 'rääkinud'}),\n",
       "Span(rääkinud, {'ending': 'd', 'subcat': None, 'partofspeech': 'A', 'fin': None, 'letter_case': None, 'clitic': '', 'verb_extension_suffix': 'nud', 'form': 'pos pl nom', 'root': 'rääki=nud', 'pronoun_type': None, 'punctuation_type': None, 'word_text': 'rääkinud'})],\n",
       "SL[Span(!, {'ending': '', 'subcat': None, 'partofspeech': 'Z', 'fin': None, 'letter_case': None, 'clitic': '', 'verb_extension_suffix': None, 'form': '', 'root': '!', 'pronoun_type': None, 'punctuation_type': 'Exc', 'word_text': '!'})]]"
      ]
     },
     "execution_count": 7,
     "metadata": {},
     "output_type": "execute_result"
    }
   ],
   "source": [
    "from estnltk.taggers import MorphExtendedTagger\n",
    "\n",
    "fsToSyntFulesFile = '../estnltk/rewriting/syntax_preprocessing/files/tmorftrtabel.txt'\n",
    "subcatFile = '../estnltk/rewriting/syntax_preprocessing/files/abileksikon06utf.lx'\n",
    "\n",
    "tagger = MorphExtendedTagger(fs_to_synt_rules_file=fsToSyntFulesFile, \n",
    "                             allow_to_remove_all=False, \n",
    "                             subcat_rules_file=subcatFile)\n",
    "text = words_sentences('Ta on rääkinud!')\n",
    "tagger.tag(text)\n",
    "text.morph_extended"
   ]
  }
 ],
 "metadata": {
  "anaconda-cloud": {},
  "kernelspec": {
   "display_name": "Python [conda env:py35]",
   "language": "python",
   "name": "conda-env-py35-py"
  },
  "language_info": {
   "codemirror_mode": {
    "name": "ipython",
    "version": 3
   },
   "file_extension": ".py",
   "mimetype": "text/x-python",
   "name": "python",
   "nbconvert_exporter": "python",
   "pygments_lexer": "ipython3",
   "version": "3.5.2"
  }
 },
 "nbformat": 4,
 "nbformat_minor": 1
}
