{
 "cells": [
  {
   "cell_type": "markdown",
   "metadata": {},
   "source": [
    "# Syntax preprocessing taggers and rewriters\n",
    "\n",
    "|tagger|rewriters|source attributes|target attributes|values|\n",
    "|------|---------|-----------------|-----------------|------|\n",
    "||PunctuatinonTypeRewriter|partofspeech, root|punctuation_type|```None```, 'Fst', 'Com', 'Col', ... |\n",
    "||MorphToSyntaxMorphRewriter|partofspeech, form|partofspeech, form||\n",
    "|PronounTypeTagger|PronounTypeRewriter|root, ending, clitic, partofspeech|pronoun_type| ```None```, ('det',), ('pers ps3',), ('pos', 'det', 'refl'), ... |\n",
    "||RemoveDuplicateAnalysesRewriter|root, ending, clitic, partofspeech, form|||\n",
    "||RemoveAdpositionAnalysesRewriter|partofspeech, form|||\n",
    "||LetterCaseRewriter|word_text|cap|```None```, 'cap'|\n",
    "|FiniteFormTagger|MorphToSyntaxMorphRewriter, FiniteFormRewriter|partofspeech, form|fin|```None```, ```True```, ```False```|\n",
    "|VerbExtensionSuffixTagger|VerbExtensionSuffixRewriter|root|verb_extension_suffix|```None```,'tud','nud','mine','nu','tu','v','tav','mata','ja'|\n",
    "|SubcatTagger|MorphToSyntaxMorphRewriter, SubcatRewriter|root, partofspeech, form|subcat|```None```, 'Intr', 'Part', 'gen', ...|\n",
    "|MorphExtendedTagger|PunctuatinonTypeRewriter, MorphToSyntaxMorphRewriter, PronounTypeRewriter, RemoveDuplicateAnalysesRewriter, RemoveAdpositionAnalysesRewriter, LetterCaseRewriter, FiniteFormRewriter, VerbExtensionSuffixRewriter, SubcatRewriter|root, ending, clitic, partofspeech, form|partofspeech, form, punctuation_type, pronoun_type, cap, fin, verb_extension_suffix, subcat ||"
   ]
  },
  {
   "cell_type": "code",
   "execution_count": 1,
   "metadata": {
    "collapsed": false
   },
   "outputs": [],
   "source": [
    "from estnltk import Text"
   ]
  },
  {
   "cell_type": "markdown",
   "metadata": {},
   "source": [
    "## PronounTypeTagger"
   ]
  },
  {
   "cell_type": "code",
   "execution_count": 2,
   "metadata": {
    "collapsed": false
   },
   "outputs": [
    {
     "data": {
      "text/plain": [
       "SL[SL[Span(Kumb, {'lemma': 'kumb', 'form': 'sg n', 'root': 'kumb', 'clitic': '', 'ending': '0', 'root_tokens': ['kumb'], 'partofspeech': 'P', 'pronoun_type': ['rel']})],\n",
       "SL[Span(,, {'lemma': ',', 'form': '', 'root': ',', 'clitic': '', 'ending': '', 'root_tokens': [','], 'partofspeech': 'Z', 'pronoun_type': None})],\n",
       "SL[Span(sina, {'lemma': 'sina', 'form': 'sg n', 'root': 'sina', 'clitic': '', 'ending': '0', 'root_tokens': ['sina'], 'partofspeech': 'P', 'pronoun_type': ['ps2']})],\n",
       "SL[Span(või, {'lemma': 'või', 'form': '', 'root': 'või', 'clitic': '', 'ending': '0', 'root_tokens': ['või'], 'partofspeech': 'J', 'pronoun_type': None})],\n",
       "SL[Span(mina, {'lemma': 'mina', 'form': 'sg n', 'root': 'mina', 'clitic': '', 'ending': '0', 'root_tokens': ['mina'], 'partofspeech': 'S', 'pronoun_type': None})],\n",
       "SL[Span(?, {'lemma': '?', 'form': '', 'root': '?', 'clitic': '', 'ending': '', 'root_tokens': ['?'], 'partofspeech': 'Z', 'pronoun_type': None})]]"
      ]
     },
     "execution_count": 2,
     "metadata": {},
     "output_type": "execute_result"
    }
   ],
   "source": [
    "from estnltk.taggers import PronounTypeTagger\n",
    "\n",
    "tagger = PronounTypeTagger()\n",
    "text = Text('Kumb, sina või mina?').tag_layer()\n",
    "tagger.tag(text)\n",
    "text.pronoun_type"
   ]
  },
  {
   "cell_type": "markdown",
   "metadata": {},
   "source": [
    "## FiniteFormTagger"
   ]
  },
  {
   "cell_type": "code",
   "execution_count": 3,
   "metadata": {
    "collapsed": false
   },
   "outputs": [
    {
     "data": {
      "text/plain": [
       "SL[SL[Span(laulma, {'lemma': 'laulma', 'form': 'mod sup ps ill', 'root': 'laul', 'clitic': '', 'ending': 'ma', 'fin': False, 'root_tokens': ['laul'], 'partofspeech': 'V'}),\n",
       "Span(laulma, {'lemma': 'laulma', 'form': 'aux sup ps ill', 'root': 'laul', 'clitic': '', 'ending': 'ma', 'fin': False, 'root_tokens': ['laul'], 'partofspeech': 'V'}),\n",
       "Span(laulma, {'lemma': 'laulma', 'form': 'main sup ps ill', 'root': 'laul', 'clitic': '', 'ending': 'ma', 'fin': False, 'root_tokens': ['laul'], 'partofspeech': 'V'})],\n",
       "SL[Span(hüpelnud, {'lemma': 'hüplema', 'form': 'mod indic impf ps neg', 'root': 'hüple', 'clitic': '', 'ending': 'nud', 'fin': True, 'root_tokens': ['hüple'], 'partofspeech': 'V'}),\n",
       "Span(hüpelnud, {'lemma': 'hüplema', 'form': 'mod partic past ps', 'root': 'hüple', 'clitic': '', 'ending': 'nud', 'fin': False, 'root_tokens': ['hüple'], 'partofspeech': 'V'}),\n",
       "Span(hüpelnud, {'lemma': 'hüplema', 'form': 'aux indic impf ps neg', 'root': 'hüple', 'clitic': '', 'ending': 'nud', 'fin': True, 'root_tokens': ['hüple'], 'partofspeech': 'V'}),\n",
       "Span(hüpelnud, {'lemma': 'hüplema', 'form': 'aux partic past ps', 'root': 'hüple', 'clitic': '', 'ending': 'nud', 'fin': False, 'root_tokens': ['hüple'], 'partofspeech': 'V'}),\n",
       "Span(hüpelnud, {'lemma': 'hüplema', 'form': 'main indic impf ps neg', 'root': 'hüple', 'clitic': '', 'ending': 'nud', 'fin': True, 'root_tokens': ['hüple'], 'partofspeech': 'V'}),\n",
       "Span(hüpelnud, {'lemma': 'hüplema', 'form': 'main partic past ps', 'root': 'hüple', 'clitic': '', 'ending': 'nud', 'fin': False, 'root_tokens': ['hüple'], 'partofspeech': 'V'}),\n",
       "Span(hüpelnud, {'lemma': 'hüpelnud', 'form': 'pos', 'root': 'hüpel=nud', 'clitic': '', 'ending': '0', 'fin': None, 'root_tokens': ['hüpelnud'], 'partofspeech': 'A'}),\n",
       "Span(hüpelnud, {'lemma': 'hüpelnud', 'form': 'pos sg nom', 'root': 'hüpel=nud', 'clitic': '', 'ending': '0', 'fin': None, 'root_tokens': ['hüpelnud'], 'partofspeech': 'A'}),\n",
       "Span(hüpelnud, {'lemma': 'hüpelnud', 'form': 'pos pl nom', 'root': 'hüpel=nud', 'clitic': '', 'ending': 'd', 'fin': None, 'root_tokens': ['hüpelnud'], 'partofspeech': 'A'})],\n",
       "SL[Span(tantsija, {'lemma': 'tantsija', 'form': 'com sg nom', 'root': 'tantsija', 'clitic': '', 'ending': '0', 'fin': None, 'root_tokens': ['tantsija'], 'partofspeech': 'S'})]]"
      ]
     },
     "execution_count": 3,
     "metadata": {},
     "output_type": "execute_result"
    }
   ],
   "source": [
    "from estnltk.taggers import FiniteFormTagger\n",
    "\n",
    "fsToSyntFulesFile = '../estnltk/rewriting/syntax_preprocessing/rules_files/tmorftrtabel.txt'\n",
    "\n",
    "tagger = FiniteFormTagger(fs_to_synt_rules_file=fsToSyntFulesFile)\n",
    "text = Text('laulma hüpelnud tantsija').tag_layer()\n",
    "tagger.tag(text)\n",
    "text.finite_form"
   ]
  },
  {
   "cell_type": "markdown",
   "metadata": {},
   "source": [
    "## VerbExtensionSuffixTagger"
   ]
  },
  {
   "cell_type": "code",
   "execution_count": 4,
   "metadata": {
    "collapsed": false,
    "scrolled": true
   },
   "outputs": [
    {
     "data": {
      "text/plain": [
       "SL[SL[Span(Laulev, {'lemma': 'laulev', 'form': 'sg n', 'root': 'laulev', 'verb_extension_suffix': [], 'clitic': '', 'ending': '0', 'root_tokens': ['laulev'], 'partofspeech': 'A'})],\n",
       "SL[Span(hüpelnud, {'lemma': 'hüplema', 'form': 'nud', 'root': 'hüple', 'verb_extension_suffix': [], 'clitic': '', 'ending': 'nud', 'root_tokens': ['hüple'], 'partofspeech': 'V'}),\n",
       "Span(hüpelnud, {'lemma': 'hüpelnud', 'form': '', 'root': 'hüpel=nud', 'verb_extension_suffix': ['nud'], 'clitic': '', 'ending': '0', 'root_tokens': ['hüpelnud'], 'partofspeech': 'A'}),\n",
       "Span(hüpelnud, {'lemma': 'hüpelnud', 'form': 'sg n', 'root': 'hüpel=nud', 'verb_extension_suffix': ['nud'], 'clitic': '', 'ending': '0', 'root_tokens': ['hüpelnud'], 'partofspeech': 'A'}),\n",
       "Span(hüpelnud, {'lemma': 'hüpelnud', 'form': 'pl n', 'root': 'hüpel=nud', 'verb_extension_suffix': ['nud'], 'clitic': '', 'ending': 'd', 'root_tokens': ['hüpelnud'], 'partofspeech': 'A'})],\n",
       "SL[Span(tantsija, {'lemma': 'tantsija', 'form': 'sg n', 'root': 'tantsija', 'verb_extension_suffix': [], 'clitic': '', 'ending': '0', 'root_tokens': ['tantsija'], 'partofspeech': 'S'})]]"
      ]
     },
     "execution_count": 4,
     "metadata": {},
     "output_type": "execute_result"
    }
   ],
   "source": [
    "from estnltk.taggers import VerbExtensionSuffixTagger\n",
    "\n",
    "tagger = VerbExtensionSuffixTagger()\n",
    "text = Text('Laulev hüpelnud tantsija').tag_layer()\n",
    "tagger.tag(text)\n",
    "text.verb_extension_suffix"
   ]
  },
  {
   "cell_type": "markdown",
   "metadata": {},
   "source": [
    "## SubcatTagger"
   ]
  },
  {
   "cell_type": "code",
   "execution_count": 5,
   "metadata": {
    "collapsed": false
   },
   "outputs": [
    {
     "data": {
      "text/plain": [
       "SL[SL[Span(Järel, {'lemma': 'järel', 'form': 'post', 'root': 'järel', 'clitic': '', 'ending': '0', 'root_tokens': ['järel'], 'partofspeech': 'K', 'subcat': ['gen']}),\n",
       "Span(Järel, {'lemma': 'järel', 'form': 'pre', 'root': 'järel', 'clitic': '', 'ending': '0', 'root_tokens': ['järel'], 'partofspeech': 'K', 'subcat': None})],\n",
       "SL[Span(juurduma, {'lemma': 'juurduma', 'form': 'mod sup ps ill', 'root': 'juurdu', 'clitic': '', 'ending': 'ma', 'root_tokens': ['juurdu'], 'partofspeech': 'V', 'subcat': ['Intr']}),\n",
       "Span(juurduma, {'lemma': 'juurduma', 'form': 'aux sup ps ill', 'root': 'juurdu', 'clitic': '', 'ending': 'ma', 'root_tokens': ['juurdu'], 'partofspeech': 'V', 'subcat': ['Intr']}),\n",
       "Span(juurduma, {'lemma': 'juurduma', 'form': 'main sup ps ill', 'root': 'juurdu', 'clitic': '', 'ending': 'ma', 'root_tokens': ['juurdu'], 'partofspeech': 'V', 'subcat': ['Intr']})]]"
      ]
     },
     "execution_count": 5,
     "metadata": {},
     "output_type": "execute_result"
    }
   ],
   "source": [
    "from estnltk.taggers import SubcatTagger\n",
    "\n",
    "fsToSyntFulesFile = '../estnltk/rewriting/syntax_preprocessing/rules_files/tmorftrtabel.txt'\n",
    "subcatFile = '../estnltk/rewriting/syntax_preprocessing/rules_files/abileksikon06utf.lx'\n",
    "\n",
    "tagger = SubcatTagger(fs_to_synt_rules_file=fsToSyntFulesFile, \n",
    "                      subcat_rules_file=subcatFile)\n",
    "text = Text('Järel juurduma').tag_layer()\n",
    "tagger.tag(text)\n",
    "text.subcat"
   ]
  },
  {
   "cell_type": "markdown",
   "metadata": {},
   "source": [
    "## MorphExtendedTagger"
   ]
  },
  {
   "cell_type": "code",
   "execution_count": 6,
   "metadata": {
    "collapsed": false
   },
   "outputs": [
    {
     "data": {
      "text/plain": [
       "SL[SL[Span(Ta, {'form': 'sg nom', 'root': 'tema', 'letter_case': 'cap', 'ending': '0', 'punctuation_type': None, 'word_text': 'Ta', 'fin': None, 'pronoun_type': ['ps3'], 'lemma': 'tema', 'verb_extension_suffix': [], 'clitic': '', 'partofspeech': 'P', 'subcat': None})],\n",
       "SL[Span(on, {'form': 'mod indic pres ps3 sg ps af', 'root': 'ole', 'letter_case': None, 'ending': '0', 'punctuation_type': None, 'word_text': 'on', 'fin': True, 'pronoun_type': None, 'lemma': 'olema', 'verb_extension_suffix': [], 'clitic': '', 'partofspeech': 'V', 'subcat': ['Intr']}),\n",
       "Span(on, {'form': 'aux indic pres ps3 sg ps af', 'root': 'ole', 'letter_case': None, 'ending': '0', 'punctuation_type': None, 'word_text': 'on', 'fin': True, 'pronoun_type': None, 'lemma': 'olema', 'verb_extension_suffix': [], 'clitic': '', 'partofspeech': 'V', 'subcat': ['Intr']}),\n",
       "Span(on, {'form': 'main indic pres ps3 sg ps af', 'root': 'ole', 'letter_case': None, 'ending': '0', 'punctuation_type': None, 'word_text': 'on', 'fin': True, 'pronoun_type': None, 'lemma': 'olema', 'verb_extension_suffix': [], 'clitic': '', 'partofspeech': 'V', 'subcat': ['Intr']}),\n",
       "Span(on, {'form': 'mod indic pres ps3 pl ps af', 'root': 'ole', 'letter_case': None, 'ending': '0', 'punctuation_type': None, 'word_text': 'on', 'fin': True, 'pronoun_type': None, 'lemma': 'olema', 'verb_extension_suffix': [], 'clitic': '', 'partofspeech': 'V', 'subcat': ['Intr']}),\n",
       "Span(on, {'form': 'aux indic pres ps3 pl ps af', 'root': 'ole', 'letter_case': None, 'ending': '0', 'punctuation_type': None, 'word_text': 'on', 'fin': True, 'pronoun_type': None, 'lemma': 'olema', 'verb_extension_suffix': [], 'clitic': '', 'partofspeech': 'V', 'subcat': ['Intr']}),\n",
       "Span(on, {'form': 'main indic pres ps3 pl ps af', 'root': 'ole', 'letter_case': None, 'ending': '0', 'punctuation_type': None, 'word_text': 'on', 'fin': True, 'pronoun_type': None, 'lemma': 'olema', 'verb_extension_suffix': [], 'clitic': '', 'partofspeech': 'V', 'subcat': ['Intr']})],\n",
       "SL[Span(rääkinud, {'form': 'mod indic impf ps neg', 'root': 'rääki', 'letter_case': None, 'ending': 'nud', 'punctuation_type': None, 'word_text': 'rääkinud', 'fin': True, 'pronoun_type': None, 'lemma': 'rääkima', 'verb_extension_suffix': [], 'clitic': '', 'partofspeech': 'V', 'subcat': ['Part-P', 'El']}),\n",
       "Span(rääkinud, {'form': 'mod partic past ps', 'root': 'rääki', 'letter_case': None, 'ending': 'nud', 'punctuation_type': None, 'word_text': 'rääkinud', 'fin': False, 'pronoun_type': None, 'lemma': 'rääkima', 'verb_extension_suffix': [], 'clitic': '', 'partofspeech': 'V', 'subcat': ['Part-P', 'El']}),\n",
       "Span(rääkinud, {'form': 'aux indic impf ps neg', 'root': 'rääki', 'letter_case': None, 'ending': 'nud', 'punctuation_type': None, 'word_text': 'rääkinud', 'fin': True, 'pronoun_type': None, 'lemma': 'rääkima', 'verb_extension_suffix': [], 'clitic': '', 'partofspeech': 'V', 'subcat': ['Part-P', 'El']}),\n",
       "Span(rääkinud, {'form': 'aux partic past ps', 'root': 'rääki', 'letter_case': None, 'ending': 'nud', 'punctuation_type': None, 'word_text': 'rääkinud', 'fin': False, 'pronoun_type': None, 'lemma': 'rääkima', 'verb_extension_suffix': [], 'clitic': '', 'partofspeech': 'V', 'subcat': ['Part-P', 'El']}),\n",
       "Span(rääkinud, {'form': 'main indic impf ps neg', 'root': 'rääki', 'letter_case': None, 'ending': 'nud', 'punctuation_type': None, 'word_text': 'rääkinud', 'fin': True, 'pronoun_type': None, 'lemma': 'rääkima', 'verb_extension_suffix': [], 'clitic': '', 'partofspeech': 'V', 'subcat': ['Part-P', 'El']}),\n",
       "Span(rääkinud, {'form': 'main partic past ps', 'root': 'rääki', 'letter_case': None, 'ending': 'nud', 'punctuation_type': None, 'word_text': 'rääkinud', 'fin': False, 'pronoun_type': None, 'lemma': 'rääkima', 'verb_extension_suffix': [], 'clitic': '', 'partofspeech': 'V', 'subcat': ['Part-P', 'El']}),\n",
       "Span(rääkinud, {'form': 'pos', 'root': 'rääki=nud', 'letter_case': None, 'ending': '0', 'punctuation_type': None, 'word_text': 'rääkinud', 'fin': None, 'pronoun_type': None, 'lemma': 'rääkinud', 'verb_extension_suffix': ['nud'], 'clitic': '', 'partofspeech': 'A', 'subcat': None}),\n",
       "Span(rääkinud, {'form': 'pos sg nom', 'root': 'rääki=nud', 'letter_case': None, 'ending': '0', 'punctuation_type': None, 'word_text': 'rääkinud', 'fin': None, 'pronoun_type': None, 'lemma': 'rääkinud', 'verb_extension_suffix': ['nud'], 'clitic': '', 'partofspeech': 'A', 'subcat': None}),\n",
       "Span(rääkinud, {'form': 'pos pl nom', 'root': 'rääki=nud', 'letter_case': None, 'ending': 'd', 'punctuation_type': None, 'word_text': 'rääkinud', 'fin': None, 'pronoun_type': None, 'lemma': 'rääkinud', 'verb_extension_suffix': ['nud'], 'clitic': '', 'partofspeech': 'A', 'subcat': None})],\n",
       "SL[Span(!, {'form': '', 'root': '!', 'letter_case': None, 'ending': '', 'punctuation_type': 'Exc', 'word_text': '!', 'fin': None, 'pronoun_type': None, 'lemma': '!', 'verb_extension_suffix': [], 'clitic': '', 'partofspeech': 'Z', 'subcat': None})]]"
      ]
     },
     "execution_count": 6,
     "metadata": {},
     "output_type": "execute_result"
    }
   ],
   "source": [
    "from estnltk.taggers import MorphExtendedTagger\n",
    "\n",
    "fsToSyntFulesFile = '../estnltk/rewriting/syntax_preprocessing/rules_files/tmorftrtabel.txt'\n",
    "subcat_file = '../estnltk/rewriting/syntax_preprocessing/rules_files/abileksikon06utf.lx'\n",
    "\n",
    "tagger = MorphExtendedTagger(fs_to_synt_rules_file=fsToSyntFulesFile, \n",
    "                             allow_to_remove_all=False, \n",
    "                             subcat_rules_file=subcat_file)\n",
    "text = Text('Ta on rääkinud!').tag_layer()\n",
    "tagger.tag(text)\n",
    "text.morph_extended"
   ]
  }
 ],
 "metadata": {
  "anaconda-cloud": {},
  "kernelspec": {
   "display_name": "Python [py35]",
   "language": "python",
   "name": "Python [py35]"
  },
  "language_info": {
   "codemirror_mode": {
    "name": "ipython",
    "version": 3
   },
   "file_extension": ".py",
   "mimetype": "text/x-python",
   "name": "python",
   "nbconvert_exporter": "python",
   "pygments_lexer": "ipython3",
   "version": "3.5.3"
  }
 },
 "nbformat": 4,
 "nbformat_minor": 1
}
