{
 "cells": [
  {
   "cell_type": "markdown",
   "metadata": {},
   "source": [
    "# Syntax preprocessing taggers and rewriters\n",
    "\n",
    "|tagger|rewriters|source attributes|target attributes|values|\n",
    "|------|---------|-----------------|-----------------|------|\n",
    "||PunctuatinonTypeRewriter|partofspeech, root|punctuation_type|```None```, 'Fst', 'Com', 'Col', ... |\n",
    "||MorphToSyntaxMorphRewriter|partofspeech, form|partofspeech, form||\n",
    "|PronounTypeTagger|PronounTypeRewriter|root, ending, clitic|pronoun_type| ```None```, ('det',), ('pers ps3',), ('pos', 'det', 'refl'), ... |\n",
    "||RemoveDuplicateAnalysesRewriter||||\n",
    "||LetterCaseRewriter|word_text|cap|```None```, 'cap'|\n",
    "|FiniteFormTagger|MorphToSyntaxMorphRewriter, FiniteFormRewriter|partofspeech, form|fin|```None```, 'fin'|\n",
    "|VerbExtensionSuffixTagger|VerbExtensionSuffixRewriter|root|verb_extension_suffix|```None```,'tud','nud','mine','nu','tu','v','tav','mata','ja'|\n",
    "|SubcatTagger|SubcatRewriter|root, partofspeech, form|subcat|```None```, 'Intr', 'Part', 'gen', ...|\n",
    "|MorphExtendedTagger|PunctuatinonTypeRewriter, MorphToSyntaxMorphRewriter, PronounTypeRewriter, FiniteFormRewriter, VerbExtensionSuffixRewriter, SubcatRewriter|root, ending, clitic, partofspeech, form|partofspeech, form, punctuation_type, pronoun_type, cap, fin, verb_extension_suffix, subcat ||"
   ]
  },
  {
   "cell_type": "code",
   "execution_count": 1,
   "metadata": {
    "collapsed": true
   },
   "outputs": [],
   "source": [
    "from estnltk.text import words_sentences"
   ]
  },
  {
   "cell_type": "markdown",
   "metadata": {},
   "source": [
    "## PronounTypeTagger"
   ]
  },
  {
   "cell_type": "code",
   "execution_count": 2,
   "metadata": {
    "collapsed": false
   },
   "outputs": [
    {
     "data": {
      "text/plain": [
       "SL[SL[Span(Kumb, {'root_tokens': ['kumb'], 'pronoun_type': ('rel',), 'clitic': '', 'form': 'sg n', 'root': 'kumb', 'lemma': 'kumb', 'partofspeech': 'P', 'ending': '0'})],\n",
       "SL[Span(,, {'root_tokens': [','], 'pronoun_type': None, 'clitic': '', 'form': '', 'root': ',', 'lemma': ',', 'partofspeech': 'Z', 'ending': ''})],\n",
       "SL[Span(sina, {'root_tokens': ['sina'], 'pronoun_type': ('pers ps2',), 'clitic': '', 'form': 'sg n', 'root': 'sina', 'lemma': 'sina', 'partofspeech': 'P', 'ending': '0'})],\n",
       "SL[Span(või, {'root_tokens': ['või'], 'pronoun_type': None, 'clitic': '', 'form': '', 'root': 'või', 'lemma': 'või', 'partofspeech': 'J', 'ending': '0'})],\n",
       "SL[Span(mina, {'root_tokens': ['mina'], 'pronoun_type': None, 'clitic': '', 'form': 'sg n', 'root': 'mina', 'lemma': 'mina', 'partofspeech': 'S', 'ending': '0'})],\n",
       "SL[Span(?, {'root_tokens': ['?'], 'pronoun_type': None, 'clitic': '', 'form': '', 'root': '?', 'lemma': '?', 'partofspeech': 'Z', 'ending': ''})]]"
      ]
     },
     "execution_count": 2,
     "metadata": {},
     "output_type": "execute_result"
    }
   ],
   "source": [
    "from estnltk.taggers import PronounTypeTagger\n",
    "\n",
    "tagger = PronounTypeTagger()\n",
    "text = words_sentences('Kumb, sina või mina?')\n",
    "tagger.tag(text)\n",
    "text.morph_extended"
   ]
  },
  {
   "cell_type": "markdown",
   "metadata": {},
   "source": [
    "## FiniteFormTagger"
   ]
  },
  {
   "cell_type": "code",
   "execution_count": 3,
   "metadata": {
    "collapsed": false
   },
   "outputs": [
    {
     "data": {
      "text/plain": [
       "SL[SL[Span(Hüppas, {'root_tokens': ['hüppa'], 'clitic': '', 'form': 'mod indic impf ps3 sg ps af', 'root': 'hüppa', 'fin': '<FinV>', 'lemma': 'hüppama', 'partofspeech': 'V', 'ending': 's'}),\n",
       "Span(Hüppas, {'root_tokens': ['hüppa'], 'clitic': '', 'form': 'aux indic impf ps3 sg ps af', 'root': 'hüppa', 'fin': '<FinV>', 'lemma': 'hüppama', 'partofspeech': 'V', 'ending': 's'}),\n",
       "Span(Hüppas, {'root_tokens': ['hüppa'], 'clitic': '', 'form': 'main indic impf ps3 sg ps af', 'root': 'hüppa', 'fin': '<FinV>', 'lemma': 'hüppama', 'partofspeech': 'V', 'ending': 's'})],\n",
       "SL[Span(,, {'root_tokens': [','], 'clitic': '', 'form': '', 'root': ',', 'fin': None, 'lemma': ',', 'partofspeech': 'Z', 'ending': ''})],\n",
       "SL[Span(kargas, {'root_tokens': ['karga'], 'clitic': '', 'form': 'mod indic impf ps3 sg ps af', 'root': 'karga', 'fin': '<FinV>', 'lemma': 'kargama', 'partofspeech': 'V', 'ending': 's'}),\n",
       "Span(kargas, {'root_tokens': ['karga'], 'clitic': '', 'form': 'aux indic impf ps3 sg ps af', 'root': 'karga', 'fin': '<FinV>', 'lemma': 'kargama', 'partofspeech': 'V', 'ending': 's'}),\n",
       "Span(kargas, {'root_tokens': ['karga'], 'clitic': '', 'form': 'main indic impf ps3 sg ps af', 'root': 'karga', 'fin': '<FinV>', 'lemma': 'kargama', 'partofspeech': 'V', 'ending': 's'})],\n",
       "SL[Span(ja, {'root_tokens': ['ja'], 'clitic': '', 'form': 'sub crd', 'root': 'ja', 'fin': None, 'lemma': 'ja', 'partofspeech': 'J', 'ending': '0'})],\n",
       "SL[Span(lõi, {'root_tokens': ['loo'], 'clitic': '', 'form': 'mod indic impf ps3 sg ps af', 'root': 'loo', 'fin': '<FinV>', 'lemma': 'looma', 'partofspeech': 'V', 'ending': 'i'}),\n",
       "Span(lõi, {'root_tokens': ['loo'], 'clitic': '', 'form': 'aux indic impf ps3 sg ps af', 'root': 'loo', 'fin': '<FinV>', 'lemma': 'looma', 'partofspeech': 'V', 'ending': 'i'}),\n",
       "Span(lõi, {'root_tokens': ['loo'], 'clitic': '', 'form': 'main indic impf ps3 sg ps af', 'root': 'loo', 'fin': '<FinV>', 'lemma': 'looma', 'partofspeech': 'V', 'ending': 'i'}),\n",
       "Span(lõi, {'root_tokens': ['löö'], 'clitic': '', 'form': 'mod indic impf ps3 sg ps af', 'root': 'löö', 'fin': '<FinV>', 'lemma': 'lööma', 'partofspeech': 'V', 'ending': 'i'}),\n",
       "Span(lõi, {'root_tokens': ['löö'], 'clitic': '', 'form': 'aux indic impf ps3 sg ps af', 'root': 'löö', 'fin': '<FinV>', 'lemma': 'lööma', 'partofspeech': 'V', 'ending': 'i'}),\n",
       "Span(lõi, {'root_tokens': ['löö'], 'clitic': '', 'form': 'main indic impf ps3 sg ps af', 'root': 'löö', 'fin': '<FinV>', 'lemma': 'lööma', 'partofspeech': 'V', 'ending': 'i'})],\n",
       "SL[Span(trummi, {'root_tokens': ['trumm'], 'clitic': '', 'form': 'com sg gen', 'root': 'trumm', 'fin': None, 'lemma': 'trumm', 'partofspeech': 'S', 'ending': '0'})],\n",
       "SL[Span(., {'root_tokens': ['.'], 'clitic': '', 'form': '', 'root': '.', 'fin': None, 'lemma': '.', 'partofspeech': 'Z', 'ending': ''})]]"
      ]
     },
     "execution_count": 3,
     "metadata": {},
     "output_type": "execute_result"
    }
   ],
   "source": [
    "from estnltk.taggers import FiniteFormTagger\n",
    "\n",
    "fsToSyntFulesFile = '../estnltk/rewriting/syntax_preprocessing/files/tmorftrtabel.txt'\n",
    "\n",
    "tagger = FiniteFormTagger(fs_to_synt_rules_file=fsToSyntFulesFile)\n",
    "text = words_sentences('Hüppas, kargas ja lõi trummi.')\n",
    "tagger.tag(text)\n",
    "text.morph_extended"
   ]
  },
  {
   "cell_type": "markdown",
   "metadata": {},
   "source": [
    "## VerbExtensionSuffixTagger"
   ]
  },
  {
   "cell_type": "code",
   "execution_count": 4,
   "metadata": {
    "collapsed": false,
    "scrolled": true
   },
   "outputs": [
    {
     "data": {
      "text/plain": [
       "SL[SL[Span(Laulev, {'verb_extension_suffix': None, 'root_tokens': ['laulev'], 'clitic': '', 'form': 'sg n', 'root': 'laulev', 'lemma': 'laulev', 'partofspeech': 'A', 'ending': '0'})],\n",
       "SL[Span(hüpelnud, {'verb_extension_suffix': None, 'root_tokens': ['hüple'], 'clitic': '', 'form': 'nud', 'root': 'hüple', 'lemma': 'hüplema', 'partofspeech': 'V', 'ending': 'nud'}),\n",
       "Span(hüpelnud, {'verb_extension_suffix': 'nud', 'root_tokens': ['hüpelnud'], 'clitic': '', 'form': '', 'root': 'hüpel=nud', 'lemma': 'hüpelnud', 'partofspeech': 'A', 'ending': '0'}),\n",
       "Span(hüpelnud, {'verb_extension_suffix': 'nud', 'root_tokens': ['hüpelnud'], 'clitic': '', 'form': 'sg n', 'root': 'hüpel=nud', 'lemma': 'hüpelnud', 'partofspeech': 'A', 'ending': '0'}),\n",
       "Span(hüpelnud, {'verb_extension_suffix': 'nud', 'root_tokens': ['hüpelnud'], 'clitic': '', 'form': 'pl n', 'root': 'hüpel=nud', 'lemma': 'hüpelnud', 'partofspeech': 'A', 'ending': 'd'})],\n",
       "SL[Span(tantsija, {'verb_extension_suffix': None, 'root_tokens': ['tantsija'], 'clitic': '', 'form': 'sg n', 'root': 'tantsija', 'lemma': 'tantsija', 'partofspeech': 'S', 'ending': '0'})]]"
      ]
     },
     "execution_count": 4,
     "metadata": {},
     "output_type": "execute_result"
    }
   ],
   "source": [
    "from estnltk.taggers import VerbExtensionSuffixTagger\n",
    "\n",
    "tagger = VerbExtensionSuffixTagger()\n",
    "text = words_sentences('Laulev hüpelnud tantsija')\n",
    "tagger.tag(text)\n",
    "text.morph_extended"
   ]
  },
  {
   "cell_type": "markdown",
   "metadata": {},
   "source": [
    "## SubcatTagger"
   ]
  },
  {
   "cell_type": "code",
   "execution_count": 9,
   "metadata": {
    "collapsed": false
   },
   "outputs": [
    {
     "data": {
      "text/plain": [
       "SL[SL[Span(Järel, {'subcat': ['gen'], 'root_tokens': ['järel'], 'clitic': '', 'form': 'post', 'root': 'järel', 'lemma': 'järel', 'partofspeech': 'K', 'ending': '0'}),\n",
       "Span(Järel, {'subcat': None, 'root_tokens': ['järel'], 'clitic': '', 'form': 'pre', 'root': 'järel', 'lemma': 'järel', 'partofspeech': 'K', 'ending': '0'})],\n",
       "SL[Span(juurduma, {'subcat': ['Intr'], 'root_tokens': ['juurdu'], 'clitic': '', 'form': 'mod sup ps ill', 'root': 'juurdu', 'lemma': 'juurduma', 'partofspeech': 'V', 'ending': 'ma'}),\n",
       "Span(juurduma, {'subcat': ['Intr'], 'root_tokens': ['juurdu'], 'clitic': '', 'form': 'aux sup ps ill', 'root': 'juurdu', 'lemma': 'juurduma', 'partofspeech': 'V', 'ending': 'ma'}),\n",
       "Span(juurduma, {'subcat': ['Intr'], 'root_tokens': ['juurdu'], 'clitic': '', 'form': 'main sup ps ill', 'root': 'juurdu', 'lemma': 'juurduma', 'partofspeech': 'V', 'ending': 'ma'})]]"
      ]
     },
     "execution_count": 9,
     "metadata": {},
     "output_type": "execute_result"
    }
   ],
   "source": [
    "from estnltk.taggers import SubcatTagger\n",
    "\n",
    "fsToSyntFulesFile = '../estnltk/rewriting/syntax_preprocessing/files/tmorftrtabel.txt'\n",
    "subcatFile = '../estnltk/rewriting/syntax_preprocessing/files/abileksikon06utf.lx'\n",
    "\n",
    "tagger = SubcatTagger(fs_to_synt_rules_file=fsToSyntFulesFile, \n",
    "                      subcat_rules_file=subcatFile)\n",
    "text = words_sentences('Järel juurduma')\n",
    "\n",
    "tagger.tag(text)\n",
    "text.morph_extended"
   ]
  },
  {
   "cell_type": "markdown",
   "metadata": {},
   "source": [
    "## MorphExtendedTagger"
   ]
  },
  {
   "cell_type": "code",
   "execution_count": 6,
   "metadata": {
    "collapsed": false
   },
   "outputs": [
    {
     "name": "stdout",
     "output_type": "stream",
     "text": [
      "zmpdcfps"
     ]
    },
    {
     "data": {
      "text/plain": [
       "SL[SL[Span(Täna, {'punctuation_type': None, 'letter_case': 'cap', 'pronoun_type': None, 'clitic': '', 'partofspeech': 'D', 'fin': None, 'root': 'täna', 'word_text': 'Täna', 'subcat': None, 'form': '', 'ending': '0', 'verb_extension_suffix': None})],\n",
       "SL[Span(on, {'punctuation_type': None, 'letter_case': None, 'pronoun_type': None, 'clitic': '', 'partofspeech': 'V', 'fin': '<FinV>', 'root': 'ole', 'word_text': 'on', 'subcat': ['Intr'], 'form': 'mod indic pres ps3 sg ps af', 'ending': '0', 'verb_extension_suffix': None}),\n",
       "Span(on, {'punctuation_type': None, 'letter_case': None, 'pronoun_type': None, 'clitic': '', 'partofspeech': 'V', 'fin': '<FinV>', 'root': 'ole', 'word_text': 'on', 'subcat': ['Intr'], 'form': 'aux indic pres ps3 sg ps af', 'ending': '0', 'verb_extension_suffix': None}),\n",
       "Span(on, {'punctuation_type': None, 'letter_case': None, 'pronoun_type': None, 'clitic': '', 'partofspeech': 'V', 'fin': '<FinV>', 'root': 'ole', 'word_text': 'on', 'subcat': ['Intr'], 'form': 'main indic pres ps3 sg ps af', 'ending': '0', 'verb_extension_suffix': None}),\n",
       "Span(on, {'punctuation_type': None, 'letter_case': None, 'pronoun_type': None, 'clitic': '', 'partofspeech': 'V', 'fin': '<FinV>', 'root': 'ole', 'word_text': 'on', 'subcat': ['Intr'], 'form': 'mod indic pres ps3 pl ps af', 'ending': '0', 'verb_extension_suffix': None}),\n",
       "Span(on, {'punctuation_type': None, 'letter_case': None, 'pronoun_type': None, 'clitic': '', 'partofspeech': 'V', 'fin': '<FinV>', 'root': 'ole', 'word_text': 'on', 'subcat': ['Intr'], 'form': 'aux indic pres ps3 pl ps af', 'ending': '0', 'verb_extension_suffix': None}),\n",
       "Span(on, {'punctuation_type': None, 'letter_case': None, 'pronoun_type': None, 'clitic': '', 'partofspeech': 'V', 'fin': '<FinV>', 'root': 'ole', 'word_text': 'on', 'subcat': ['Intr'], 'form': 'main indic pres ps3 pl ps af', 'ending': '0', 'verb_extension_suffix': None})],\n",
       "SL[Span(15., {'punctuation_type': None, 'letter_case': None, 'pronoun_type': None, 'clitic': '', 'partofspeech': 'N', 'fin': None, 'root': '15.', 'word_text': '15.', 'subcat': None, 'form': 'ord #? roman', 'ending': '0', 'verb_extension_suffix': None}),\n",
       "Span(15., {'punctuation_type': None, 'letter_case': None, 'pronoun_type': None, 'clitic': '', 'partofspeech': 'N', 'fin': None, 'root': '15.', 'word_text': '15.', 'subcat': None, 'form': 'ord #? digit', 'ending': '0', 'verb_extension_suffix': None})],\n",
       "SL[Span(detsember, {'punctuation_type': None, 'letter_case': None, 'pronoun_type': None, 'clitic': '', 'partofspeech': 'S', 'fin': None, 'root': 'detsember', 'word_text': 'detsember', 'subcat': None, 'form': 'com sg nom', 'ending': '0', 'verb_extension_suffix': None})],\n",
       "SL[Span(., {'punctuation_type': 'Fst', 'letter_case': None, 'pronoun_type': None, 'clitic': '', 'partofspeech': 'Z', 'fin': None, 'root': '.', 'word_text': '.', 'subcat': None, 'form': '', 'ending': '', 'verb_extension_suffix': None})]]"
      ]
     },
     "execution_count": 6,
     "metadata": {},
     "output_type": "execute_result"
    }
   ],
   "source": [
    "from estnltk.taggers import MorphExtendedTagger\n",
    "\n",
    "fsToSyntFulesFile = '../estnltk/rewriting/syntax_preprocessing/files/tmorftrtabel.txt'\n",
    "subcatFile = '../estnltk/rewriting/syntax_preprocessing/files/abileksikon06utf.lx'\n",
    "\n",
    "tagger = MorphExtendedTagger(fs_to_synt_rules_file=fsToSyntFulesFile, \n",
    "                             allow_to_remove_all=False, \n",
    "                             subcat_rules_file=subcatFile)\n",
    "text = words_sentences('Täna on 15. detsember.')\n",
    "\n",
    "tagger.tag(text)\n",
    "text.morph_extended"
   ]
  }
 ],
 "metadata": {
  "anaconda-cloud": {},
  "kernelspec": {
   "display_name": "Python [conda env:py35]",
   "language": "python",
   "name": "conda-env-py35-py"
  },
  "language_info": {
   "codemirror_mode": {
    "name": "ipython",
    "version": 3
   },
   "file_extension": ".py",
   "mimetype": "text/x-python",
   "name": "python",
   "nbconvert_exporter": "python",
   "pygments_lexer": "ipython3",
   "version": "3.5.2"
  }
 },
 "nbformat": 4,
 "nbformat_minor": 1
}
