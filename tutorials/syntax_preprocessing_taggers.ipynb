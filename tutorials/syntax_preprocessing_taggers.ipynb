{
 "cells": [
  {
   "cell_type": "markdown",
   "metadata": {},
   "source": [
    "# Syntax preprocessing taggers and rewriters\n",
    "\n",
    "|tagger|rewriters|source attributes|target attributes|values|\n",
    "|------|---------|-----------------|-----------------|------|\n",
    "||PunctuatinonTypeRewriter|partofspeech, root|punctuation_type|```None```, 'Fst', 'Com', 'Col', ... |\n",
    "||MorphToSyntaxMorphRewriter|partofspeech, form|partofspeech, form||\n",
    "|PronounTypeTagger|PronounTypeRewriter|root, ending, clitic, partofspeech|pronoun_type| ```None```, ('det',), ('pers ps3',), ('pos', 'det', 'refl'), ... |\n",
    "||RemoveDuplicateAnalysesRewriter||||\n",
    "||LetterCaseRewriter|word_text|cap|```None```, 'cap'|\n",
    "|FiniteFormTagger|MorphToSyntaxMorphRewriter, FiniteFormRewriter|partofspeech, form|fin|```None```, 'fin'|\n",
    "|VerbExtensionSuffixTagger|VerbExtensionSuffixRewriter|root|verb_extension_suffix|```None```,'tud','nud','mine','nu','tu','v','tav','mata','ja'|\n",
    "|SubcatTagger|MorphToSyntaxMorphRewriter, SubcatRewriter|root, partofspeech, form|subcat|```None```, 'Intr', 'Part', 'gen', ...|\n",
    "|MorphExtendedTagger|PunctuatinonTypeRewriter, MorphToSyntaxMorphRewriter, PronounTypeRewriter, RemoveDuplicateAnalysesRewriter, LetterCaseRewriter, FiniteFormRewriter, VerbExtensionSuffixRewriter, SubcatRewriter|root, ending, clitic, partofspeech, form|partofspeech, form, punctuation_type, pronoun_type, cap, fin, verb_extension_suffix, subcat ||"
   ]
  },
  {
   "cell_type": "code",
   "execution_count": 1,
   "metadata": {
    "collapsed": true
   },
   "outputs": [],
   "source": [
    "from estnltk.text import words_sentences"
   ]
  },
  {
   "cell_type": "markdown",
   "metadata": {},
   "source": [
    "## PronounTypeTagger"
   ]
  },
  {
   "cell_type": "code",
   "execution_count": 2,
   "metadata": {
    "collapsed": false
   },
   "outputs": [
    {
     "data": {
      "text/plain": [
       "SL[SL[Span(Kumb, {'root': 'kumb', 'form': 'sg n', 'partofspeech': 'P', 'pronoun_type': ('rel',), 'ending': '0', 'lemma': 'kumb', 'root_tokens': ['kumb'], 'clitic': ''})],\n",
       "SL[Span(,, {'root': ',', 'form': '', 'partofspeech': 'Z', 'pronoun_type': None, 'ending': '', 'lemma': ',', 'root_tokens': [','], 'clitic': ''})],\n",
       "SL[Span(sina, {'root': 'sina', 'form': 'sg n', 'partofspeech': 'P', 'pronoun_type': ('pers ps2',), 'ending': '0', 'lemma': 'sina', 'root_tokens': ['sina'], 'clitic': ''})],\n",
       "SL[Span(või, {'root': 'või', 'form': '', 'partofspeech': 'J', 'pronoun_type': None, 'ending': '0', 'lemma': 'või', 'root_tokens': ['või'], 'clitic': ''})],\n",
       "SL[Span(mina, {'root': 'mina', 'form': 'sg n', 'partofspeech': 'S', 'pronoun_type': None, 'ending': '0', 'lemma': 'mina', 'root_tokens': ['mina'], 'clitic': ''})],\n",
       "SL[Span(?, {'root': '?', 'form': '', 'partofspeech': 'Z', 'pronoun_type': None, 'ending': '', 'lemma': '?', 'root_tokens': ['?'], 'clitic': ''})]]"
      ]
     },
     "execution_count": 2,
     "metadata": {},
     "output_type": "execute_result"
    }
   ],
   "source": [
    "from estnltk.taggers import PronounTypeTagger\n",
    "\n",
    "tagger = PronounTypeTagger()\n",
    "text = words_sentences('Kumb, sina või mina?')\n",
    "tagger.tag(text)\n",
    "text.pronoun_type"
   ]
  },
  {
   "cell_type": "markdown",
   "metadata": {},
   "source": [
    "## FiniteFormTagger"
   ]
  },
  {
   "cell_type": "code",
   "execution_count": 3,
   "metadata": {
    "collapsed": false
   },
   "outputs": [
    {
     "data": {
      "text/plain": [
       "SL[SL[Span(Hüppas, {'fin': '<FinV>', 'root': 'hüppa', 'form': 'mod indic impf ps3 sg ps af', 'partofspeech': 'V', 'ending': 's', 'lemma': 'hüppama', 'root_tokens': ['hüppa'], 'clitic': ''}),\n",
       "Span(Hüppas, {'fin': '<FinV>', 'root': 'hüppa', 'form': 'aux indic impf ps3 sg ps af', 'partofspeech': 'V', 'ending': 's', 'lemma': 'hüppama', 'root_tokens': ['hüppa'], 'clitic': ''}),\n",
       "Span(Hüppas, {'fin': '<FinV>', 'root': 'hüppa', 'form': 'main indic impf ps3 sg ps af', 'partofspeech': 'V', 'ending': 's', 'lemma': 'hüppama', 'root_tokens': ['hüppa'], 'clitic': ''})],\n",
       "SL[Span(,, {'fin': None, 'root': ',', 'form': '', 'partofspeech': 'Z', 'ending': '', 'lemma': ',', 'root_tokens': [','], 'clitic': ''})],\n",
       "SL[Span(kargas, {'fin': '<FinV>', 'root': 'karga', 'form': 'mod indic impf ps3 sg ps af', 'partofspeech': 'V', 'ending': 's', 'lemma': 'kargama', 'root_tokens': ['karga'], 'clitic': ''}),\n",
       "Span(kargas, {'fin': '<FinV>', 'root': 'karga', 'form': 'aux indic impf ps3 sg ps af', 'partofspeech': 'V', 'ending': 's', 'lemma': 'kargama', 'root_tokens': ['karga'], 'clitic': ''}),\n",
       "Span(kargas, {'fin': '<FinV>', 'root': 'karga', 'form': 'main indic impf ps3 sg ps af', 'partofspeech': 'V', 'ending': 's', 'lemma': 'kargama', 'root_tokens': ['karga'], 'clitic': ''})],\n",
       "SL[Span(ja, {'fin': None, 'root': 'ja', 'form': 'sub crd', 'partofspeech': 'J', 'ending': '0', 'lemma': 'ja', 'root_tokens': ['ja'], 'clitic': ''})],\n",
       "SL[Span(lõi, {'fin': '<FinV>', 'root': 'loo', 'form': 'mod indic impf ps3 sg ps af', 'partofspeech': 'V', 'ending': 'i', 'lemma': 'looma', 'root_tokens': ['loo'], 'clitic': ''}),\n",
       "Span(lõi, {'fin': '<FinV>', 'root': 'loo', 'form': 'aux indic impf ps3 sg ps af', 'partofspeech': 'V', 'ending': 'i', 'lemma': 'looma', 'root_tokens': ['loo'], 'clitic': ''}),\n",
       "Span(lõi, {'fin': '<FinV>', 'root': 'loo', 'form': 'main indic impf ps3 sg ps af', 'partofspeech': 'V', 'ending': 'i', 'lemma': 'looma', 'root_tokens': ['loo'], 'clitic': ''}),\n",
       "Span(lõi, {'fin': '<FinV>', 'root': 'löö', 'form': 'mod indic impf ps3 sg ps af', 'partofspeech': 'V', 'ending': 'i', 'lemma': 'lööma', 'root_tokens': ['löö'], 'clitic': ''}),\n",
       "Span(lõi, {'fin': '<FinV>', 'root': 'löö', 'form': 'aux indic impf ps3 sg ps af', 'partofspeech': 'V', 'ending': 'i', 'lemma': 'lööma', 'root_tokens': ['löö'], 'clitic': ''}),\n",
       "Span(lõi, {'fin': '<FinV>', 'root': 'löö', 'form': 'main indic impf ps3 sg ps af', 'partofspeech': 'V', 'ending': 'i', 'lemma': 'lööma', 'root_tokens': ['löö'], 'clitic': ''})],\n",
       "SL[Span(trummi, {'fin': None, 'root': 'trumm', 'form': 'com sg gen', 'partofspeech': 'S', 'ending': '0', 'lemma': 'trumm', 'root_tokens': ['trumm'], 'clitic': ''})],\n",
       "SL[Span(., {'fin': None, 'root': '.', 'form': '', 'partofspeech': 'Z', 'ending': '', 'lemma': '.', 'root_tokens': ['.'], 'clitic': ''})]]"
      ]
     },
     "execution_count": 3,
     "metadata": {},
     "output_type": "execute_result"
    }
   ],
   "source": [
    "from estnltk.taggers import FiniteFormTagger\n",
    "\n",
    "fsToSyntFulesFile = '../estnltk/rewriting/syntax_preprocessing/rules_files/tmorftrtabel.txt'\n",
    "\n",
    "tagger = FiniteFormTagger(fs_to_synt_rules_file=fsToSyntFulesFile)\n",
    "text = words_sentences('Hüppas, kargas ja lõi trummi.')\n",
    "tagger.tag(text)\n",
    "text.finite_form"
   ]
  },
  {
   "cell_type": "markdown",
   "metadata": {},
   "source": [
    "## VerbExtensionSuffixTagger"
   ]
  },
  {
   "cell_type": "code",
   "execution_count": 4,
   "metadata": {
    "collapsed": false,
    "scrolled": true
   },
   "outputs": [
    {
     "data": {
      "text/plain": [
       "SL[SL[Span(Laulev, {'root': 'laulev', 'form': 'sg n', 'partofspeech': 'A', 'verb_extension_suffix': None, 'ending': '0', 'lemma': 'laulev', 'root_tokens': ['laulev'], 'clitic': ''})],\n",
       "SL[Span(hüpelnud, {'root': 'hüple', 'form': 'nud', 'partofspeech': 'V', 'verb_extension_suffix': None, 'ending': 'nud', 'lemma': 'hüplema', 'root_tokens': ['hüple'], 'clitic': ''}),\n",
       "Span(hüpelnud, {'root': 'hüpel=nud', 'form': '', 'partofspeech': 'A', 'verb_extension_suffix': 'nud', 'ending': '0', 'lemma': 'hüpelnud', 'root_tokens': ['hüpelnud'], 'clitic': ''}),\n",
       "Span(hüpelnud, {'root': 'hüpel=nud', 'form': 'sg n', 'partofspeech': 'A', 'verb_extension_suffix': 'nud', 'ending': '0', 'lemma': 'hüpelnud', 'root_tokens': ['hüpelnud'], 'clitic': ''}),\n",
       "Span(hüpelnud, {'root': 'hüpel=nud', 'form': 'pl n', 'partofspeech': 'A', 'verb_extension_suffix': 'nud', 'ending': 'd', 'lemma': 'hüpelnud', 'root_tokens': ['hüpelnud'], 'clitic': ''})],\n",
       "SL[Span(tantsija, {'root': 'tantsija', 'form': 'sg n', 'partofspeech': 'S', 'verb_extension_suffix': None, 'ending': '0', 'lemma': 'tantsija', 'root_tokens': ['tantsija'], 'clitic': ''})]]"
      ]
     },
     "execution_count": 4,
     "metadata": {},
     "output_type": "execute_result"
    }
   ],
   "source": [
    "from estnltk.taggers import VerbExtensionSuffixTagger\n",
    "\n",
    "tagger = VerbExtensionSuffixTagger()\n",
    "text = words_sentences('Laulev hüpelnud tantsija')\n",
    "tagger.tag(text)\n",
    "text.verb_extension_suffix"
   ]
  },
  {
   "cell_type": "markdown",
   "metadata": {},
   "source": [
    "## SubcatTagger"
   ]
  },
  {
   "cell_type": "code",
   "execution_count": 5,
   "metadata": {
    "collapsed": false
   },
   "outputs": [
    {
     "data": {
      "text/plain": [
       "SL[SL[Span(Järel, {'root': 'järel', 'form': 'post', 'partofspeech': 'K', 'ending': '0', 'lemma': 'järel', 'root_tokens': ['järel'], 'subcat': ['gen'], 'clitic': ''}),\n",
       "Span(Järel, {'root': 'järel', 'form': 'pre', 'partofspeech': 'K', 'ending': '0', 'lemma': 'järel', 'root_tokens': ['järel'], 'subcat': None, 'clitic': ''})],\n",
       "SL[Span(juurduma, {'root': 'juurdu', 'form': 'mod sup ps ill', 'partofspeech': 'V', 'ending': 'ma', 'lemma': 'juurduma', 'root_tokens': ['juurdu'], 'subcat': ['Intr'], 'clitic': ''}),\n",
       "Span(juurduma, {'root': 'juurdu', 'form': 'aux sup ps ill', 'partofspeech': 'V', 'ending': 'ma', 'lemma': 'juurduma', 'root_tokens': ['juurdu'], 'subcat': ['Intr'], 'clitic': ''}),\n",
       "Span(juurduma, {'root': 'juurdu', 'form': 'main sup ps ill', 'partofspeech': 'V', 'ending': 'ma', 'lemma': 'juurduma', 'root_tokens': ['juurdu'], 'subcat': ['Intr'], 'clitic': ''})]]"
      ]
     },
     "execution_count": 5,
     "metadata": {},
     "output_type": "execute_result"
    }
   ],
   "source": [
    "from estnltk.taggers import SubcatTagger\n",
    "\n",
    "fsToSyntFulesFile = '../estnltk/rewriting/syntax_preprocessing/rules_files/tmorftrtabel.txt'\n",
    "subcatFile = '../estnltk/rewriting/syntax_preprocessing/rules_files/abileksikon06utf.lx'\n",
    "\n",
    "tagger = SubcatTagger(fs_to_synt_rules_file=fsToSyntFulesFile, \n",
    "                      subcat_rules_file=subcatFile)\n",
    "text = words_sentences('Järel juurduma')\n",
    "tagger.tag(text)\n",
    "text.subcat"
   ]
  },
  {
   "cell_type": "markdown",
   "metadata": {},
   "source": [
    "## MorphExtendedTagger"
   ]
  },
  {
   "cell_type": "code",
   "execution_count": 6,
   "metadata": {
    "collapsed": false
   },
   "outputs": [
    {
     "name": "stdout",
     "output_type": "stream",
     "text": [
      "zmpdcfps"
     ]
    },
    {
     "data": {
      "text/plain": [
       "SL[SL[Span(Ta, {'word_text': 'Ta', 'clitic': '', 'partofspeech': 'P', 'verb_extension_suffix': None, 'punctuation_type': None, 'ending': '0', 'root': 'tema', 'fin': None, 'form': 'sg nom', 'pronoun_type': ('pers ps3',), 'subcat': None, 'letter_case': 'cap'})],\n",
       "SL[Span(on, {'word_text': 'on', 'clitic': '', 'partofspeech': 'V', 'verb_extension_suffix': None, 'punctuation_type': None, 'ending': '0', 'root': 'ole', 'fin': '<FinV>', 'form': 'mod indic pres ps3 sg ps af', 'pronoun_type': None, 'subcat': ['Intr'], 'letter_case': None}),\n",
       "Span(on, {'word_text': 'on', 'clitic': '', 'partofspeech': 'V', 'verb_extension_suffix': None, 'punctuation_type': None, 'ending': '0', 'root': 'ole', 'fin': '<FinV>', 'form': 'aux indic pres ps3 sg ps af', 'pronoun_type': None, 'subcat': ['Intr'], 'letter_case': None}),\n",
       "Span(on, {'word_text': 'on', 'clitic': '', 'partofspeech': 'V', 'verb_extension_suffix': None, 'punctuation_type': None, 'ending': '0', 'root': 'ole', 'fin': '<FinV>', 'form': 'main indic pres ps3 sg ps af', 'pronoun_type': None, 'subcat': ['Intr'], 'letter_case': None}),\n",
       "Span(on, {'word_text': 'on', 'clitic': '', 'partofspeech': 'V', 'verb_extension_suffix': None, 'punctuation_type': None, 'ending': '0', 'root': 'ole', 'fin': '<FinV>', 'form': 'mod indic pres ps3 pl ps af', 'pronoun_type': None, 'subcat': ['Intr'], 'letter_case': None}),\n",
       "Span(on, {'word_text': 'on', 'clitic': '', 'partofspeech': 'V', 'verb_extension_suffix': None, 'punctuation_type': None, 'ending': '0', 'root': 'ole', 'fin': '<FinV>', 'form': 'aux indic pres ps3 pl ps af', 'pronoun_type': None, 'subcat': ['Intr'], 'letter_case': None}),\n",
       "Span(on, {'word_text': 'on', 'clitic': '', 'partofspeech': 'V', 'verb_extension_suffix': None, 'punctuation_type': None, 'ending': '0', 'root': 'ole', 'fin': '<FinV>', 'form': 'main indic pres ps3 pl ps af', 'pronoun_type': None, 'subcat': ['Intr'], 'letter_case': None})],\n",
       "SL[Span(rääkinud, {'word_text': 'rääkinud', 'clitic': '', 'partofspeech': 'V', 'verb_extension_suffix': None, 'punctuation_type': None, 'ending': 'nud', 'root': 'rääki', 'fin': '<FinV>', 'form': 'mod indic impf ps neg', 'pronoun_type': None, 'subcat': ['Part-P', 'El'], 'letter_case': None}),\n",
       "Span(rääkinud, {'word_text': 'rääkinud', 'clitic': '', 'partofspeech': 'V', 'verb_extension_suffix': None, 'punctuation_type': None, 'ending': 'nud', 'root': 'rääki', 'fin': None, 'form': 'mod partic past ps', 'pronoun_type': None, 'subcat': ['Part-P', 'El'], 'letter_case': None}),\n",
       "Span(rääkinud, {'word_text': 'rääkinud', 'clitic': '', 'partofspeech': 'V', 'verb_extension_suffix': None, 'punctuation_type': None, 'ending': 'nud', 'root': 'rääki', 'fin': '<FinV>', 'form': 'aux indic impf ps neg', 'pronoun_type': None, 'subcat': ['Part-P', 'El'], 'letter_case': None}),\n",
       "Span(rääkinud, {'word_text': 'rääkinud', 'clitic': '', 'partofspeech': 'V', 'verb_extension_suffix': None, 'punctuation_type': None, 'ending': 'nud', 'root': 'rääki', 'fin': None, 'form': 'aux partic past ps', 'pronoun_type': None, 'subcat': ['Part-P', 'El'], 'letter_case': None}),\n",
       "Span(rääkinud, {'word_text': 'rääkinud', 'clitic': '', 'partofspeech': 'V', 'verb_extension_suffix': None, 'punctuation_type': None, 'ending': 'nud', 'root': 'rääki', 'fin': '<FinV>', 'form': 'main indic impf ps neg', 'pronoun_type': None, 'subcat': ['Part-P', 'El'], 'letter_case': None}),\n",
       "Span(rääkinud, {'word_text': 'rääkinud', 'clitic': '', 'partofspeech': 'V', 'verb_extension_suffix': None, 'punctuation_type': None, 'ending': 'nud', 'root': 'rääki', 'fin': None, 'form': 'main partic past ps', 'pronoun_type': None, 'subcat': ['Part-P', 'El'], 'letter_case': None}),\n",
       "Span(rääkinud, {'word_text': 'rääkinud', 'clitic': '', 'partofspeech': 'A', 'verb_extension_suffix': 'nud', 'punctuation_type': None, 'ending': '0', 'root': 'rääki=nud', 'fin': None, 'form': 'pos', 'pronoun_type': None, 'subcat': None, 'letter_case': None}),\n",
       "Span(rääkinud, {'word_text': 'rääkinud', 'clitic': '', 'partofspeech': 'A', 'verb_extension_suffix': 'nud', 'punctuation_type': None, 'ending': '0', 'root': 'rääki=nud', 'fin': None, 'form': 'pos sg nom', 'pronoun_type': None, 'subcat': None, 'letter_case': None}),\n",
       "Span(rääkinud, {'word_text': 'rääkinud', 'clitic': '', 'partofspeech': 'A', 'verb_extension_suffix': 'nud', 'punctuation_type': None, 'ending': 'd', 'root': 'rääki=nud', 'fin': None, 'form': 'pos pl nom', 'pronoun_type': None, 'subcat': None, 'letter_case': None})],\n",
       "SL[Span(!, {'word_text': '!', 'clitic': '', 'partofspeech': 'Z', 'verb_extension_suffix': None, 'punctuation_type': 'Exc', 'ending': '', 'root': '!', 'fin': None, 'form': '', 'pronoun_type': None, 'subcat': None, 'letter_case': None})]]"
      ]
     },
     "execution_count": 6,
     "metadata": {},
     "output_type": "execute_result"
    }
   ],
   "source": [
    "from estnltk.taggers import MorphExtendedTagger\n",
    "\n",
    "fsToSyntFulesFile = '../estnltk/rewriting/syntax_preprocessing/rules_files/tmorftrtabel.txt'\n",
    "subcat_file = '../estnltk/rewriting/syntax_preprocessing/rules_files/abileksikon06utf.lx'\n",
    "subcat_extra_file = '../estnltk/rewriting/syntax_preprocessing/rules_files/abileksikon_extra.lx'\n",
    "\n",
    "tagger = MorphExtendedTagger(fs_to_synt_rules_file=fsToSyntFulesFile, \n",
    "                             allow_to_remove_all=False, \n",
    "                             subcat_rules_file=subcat_file,\n",
    "                             subcat_rules_extra_file=subcat_extra_file)\n",
    "text = words_sentences('Ta on rääkinud!')\n",
    "tagger.tag(text)\n",
    "text.morph_extended"
   ]
  }
 ],
 "metadata": {
  "anaconda-cloud": {},
  "kernelspec": {
   "display_name": "Python [conda env:py35]",
   "language": "python",
   "name": "conda-env-py35-py"
  },
  "language_info": {
   "codemirror_mode": {
    "name": "ipython",
    "version": 3
   },
   "file_extension": ".py",
   "mimetype": "text/x-python",
   "name": "python",
   "nbconvert_exporter": "python",
   "pygments_lexer": "ipython3",
   "version": "3.5.2"
  }
 },
 "nbformat": 4,
 "nbformat_minor": 1
}
