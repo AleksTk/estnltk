{
 "cells": [
  {
   "cell_type": "markdown",
   "metadata": {},
   "source": [
    "# Syntax preprocessing taggers and rewriters\n",
    "\n",
    "|tagger|rewriters|source attributes|target attributes|values|\n",
    "|------|---------|-----------------|-----------------|------|\n",
    "||PunctuatinonTypeRewriter|partofspeech, root|punctuation_type|```None```, 'Fst', 'Com', 'Col', ... |\n",
    "||MorphToSyntaxMorphRewriter|partofspeech, form|partofspeech, form||\n",
    "|PronounTypeTagger|PronounTypeRewriter|root, ending, clitic, partofspeech|pronoun_type| ```None```, ('det',), ('pers ps3',), ('pos', 'det', 'refl'), ... |\n",
    "||RemoveDuplicateAnalysesRewriter||||\n",
    "||LetterCaseRewriter|word_text|cap|```None```, 'cap'|\n",
    "|FiniteFormTagger|MorphToSyntaxMorphRewriter, FiniteFormRewriter|partofspeech, form|fin|```None```, ```True```, ```False```|\n",
    "|VerbExtensionSuffixTagger|VerbExtensionSuffixRewriter|root|verb_extension_suffix|```None```,'tud','nud','mine','nu','tu','v','tav','mata','ja'|\n",
    "|SubcatTagger|MorphToSyntaxMorphRewriter, SubcatRewriter|root, partofspeech, form|subcat|```None```, 'Intr', 'Part', 'gen', ...|\n",
    "|MorphExtendedTagger|PunctuatinonTypeRewriter, MorphToSyntaxMorphRewriter, PronounTypeRewriter, RemoveDuplicateAnalysesRewriter, LetterCaseRewriter, FiniteFormRewriter, VerbExtensionSuffixRewriter, SubcatRewriter|root, ending, clitic, partofspeech, form|partofspeech, form, punctuation_type, pronoun_type, cap, fin, verb_extension_suffix, subcat ||"
   ]
  },
  {
   "cell_type": "code",
   "execution_count": 1,
   "metadata": {
    "collapsed": true
   },
   "outputs": [],
   "source": [
    "from estnltk.text import words_sentences"
   ]
  },
  {
   "cell_type": "markdown",
   "metadata": {},
   "source": [
    "## PronounTypeTagger"
   ]
  },
  {
   "cell_type": "code",
   "execution_count": 2,
   "metadata": {
    "collapsed": false
   },
   "outputs": [
    {
     "data": {
      "text/plain": [
       "SL[SL[Span(Kumb, {'lemma': 'kumb', 'partofspeech': 'P', 'root': 'kumb', 'pronoun_type': ('rel',), 'clitic': '', 'ending': '0', 'form': 'sg n', 'root_tokens': ['kumb']})],\n",
       "SL[Span(,, {'lemma': ',', 'partofspeech': 'Z', 'root': ',', 'pronoun_type': None, 'clitic': '', 'ending': '', 'form': '', 'root_tokens': [',']})],\n",
       "SL[Span(sina, {'lemma': 'sina', 'partofspeech': 'P', 'root': 'sina', 'pronoun_type': ('pers ps2',), 'clitic': '', 'ending': '0', 'form': 'sg n', 'root_tokens': ['sina']})],\n",
       "SL[Span(või, {'lemma': 'või', 'partofspeech': 'J', 'root': 'või', 'pronoun_type': None, 'clitic': '', 'ending': '0', 'form': '', 'root_tokens': ['või']})],\n",
       "SL[Span(mina, {'lemma': 'mina', 'partofspeech': 'S', 'root': 'mina', 'pronoun_type': None, 'clitic': '', 'ending': '0', 'form': 'sg n', 'root_tokens': ['mina']})],\n",
       "SL[Span(?, {'lemma': '?', 'partofspeech': 'Z', 'root': '?', 'pronoun_type': None, 'clitic': '', 'ending': '', 'form': '', 'root_tokens': ['?']})]]"
      ]
     },
     "execution_count": 2,
     "metadata": {},
     "output_type": "execute_result"
    }
   ],
   "source": [
    "from estnltk.taggers import PronounTypeTagger\n",
    "\n",
    "tagger = PronounTypeTagger()\n",
    "text = words_sentences('Kumb, sina või mina?')\n",
    "tagger.tag(text)\n",
    "text.pronoun_type"
   ]
  },
  {
   "cell_type": "markdown",
   "metadata": {},
   "source": [
    "## FiniteFormTagger"
   ]
  },
  {
   "cell_type": "code",
   "execution_count": 3,
   "metadata": {
    "collapsed": false
   },
   "outputs": [
    {
     "data": {
      "text/plain": [
       "SL[SL[Span(laulma, {'fin': False, 'lemma': 'laulma', 'partofspeech': 'V', 'root': 'laul', 'clitic': '', 'ending': 'ma', 'form': 'mod sup ps ill', 'root_tokens': ['laul']}),\n",
       "Span(laulma, {'fin': False, 'lemma': 'laulma', 'partofspeech': 'V', 'root': 'laul', 'clitic': '', 'ending': 'ma', 'form': 'aux sup ps ill', 'root_tokens': ['laul']}),\n",
       "Span(laulma, {'fin': False, 'lemma': 'laulma', 'partofspeech': 'V', 'root': 'laul', 'clitic': '', 'ending': 'ma', 'form': 'main sup ps ill', 'root_tokens': ['laul']})],\n",
       "SL[Span(hüpelnud, {'fin': True, 'lemma': 'hüplema', 'partofspeech': 'V', 'root': 'hüple', 'clitic': '', 'ending': 'nud', 'form': 'mod indic impf ps neg', 'root_tokens': ['hüple']}),\n",
       "Span(hüpelnud, {'fin': False, 'lemma': 'hüplema', 'partofspeech': 'V', 'root': 'hüple', 'clitic': '', 'ending': 'nud', 'form': 'mod partic past ps', 'root_tokens': ['hüple']}),\n",
       "Span(hüpelnud, {'fin': True, 'lemma': 'hüplema', 'partofspeech': 'V', 'root': 'hüple', 'clitic': '', 'ending': 'nud', 'form': 'aux indic impf ps neg', 'root_tokens': ['hüple']}),\n",
       "Span(hüpelnud, {'fin': False, 'lemma': 'hüplema', 'partofspeech': 'V', 'root': 'hüple', 'clitic': '', 'ending': 'nud', 'form': 'aux partic past ps', 'root_tokens': ['hüple']}),\n",
       "Span(hüpelnud, {'fin': True, 'lemma': 'hüplema', 'partofspeech': 'V', 'root': 'hüple', 'clitic': '', 'ending': 'nud', 'form': 'main indic impf ps neg', 'root_tokens': ['hüple']}),\n",
       "Span(hüpelnud, {'fin': False, 'lemma': 'hüplema', 'partofspeech': 'V', 'root': 'hüple', 'clitic': '', 'ending': 'nud', 'form': 'main partic past ps', 'root_tokens': ['hüple']}),\n",
       "Span(hüpelnud, {'fin': None, 'lemma': 'hüpelnud', 'partofspeech': 'A', 'root': 'hüpel=nud', 'clitic': '', 'ending': '0', 'form': 'pos', 'root_tokens': ['hüpelnud']}),\n",
       "Span(hüpelnud, {'fin': None, 'lemma': 'hüpelnud', 'partofspeech': 'A', 'root': 'hüpel=nud', 'clitic': '', 'ending': '0', 'form': 'pos sg nom', 'root_tokens': ['hüpelnud']}),\n",
       "Span(hüpelnud, {'fin': None, 'lemma': 'hüpelnud', 'partofspeech': 'A', 'root': 'hüpel=nud', 'clitic': '', 'ending': 'd', 'form': 'pos pl nom', 'root_tokens': ['hüpelnud']})],\n",
       "SL[Span(tantsija, {'fin': None, 'lemma': 'tantsija', 'partofspeech': 'S', 'root': 'tantsija', 'clitic': '', 'ending': '0', 'form': 'com sg nom', 'root_tokens': ['tantsija']})]]"
      ]
     },
     "execution_count": 3,
     "metadata": {},
     "output_type": "execute_result"
    }
   ],
   "source": [
    "from estnltk.taggers import FiniteFormTagger\n",
    "\n",
    "fsToSyntFulesFile = '../estnltk/rewriting/syntax_preprocessing/rules_files/tmorftrtabel.txt'\n",
    "\n",
    "tagger = FiniteFormTagger(fs_to_synt_rules_file=fsToSyntFulesFile)\n",
    "text = words_sentences('laulma hüpelnud tantsija')\n",
    "tagger.tag(text)\n",
    "text.finite_form"
   ]
  },
  {
   "cell_type": "markdown",
   "metadata": {},
   "source": [
    "## VerbExtensionSuffixTagger"
   ]
  },
  {
   "cell_type": "code",
   "execution_count": 4,
   "metadata": {
    "collapsed": false,
    "scrolled": true
   },
   "outputs": [
    {
     "data": {
      "text/plain": [
       "SL[SL[Span(Laulev, {'verb_extension_suffix': None, 'lemma': 'laulev', 'partofspeech': 'A', 'root': 'laulev', 'clitic': '', 'ending': '0', 'form': 'sg n', 'root_tokens': ['laulev']})],\n",
       "SL[Span(hüpelnud, {'verb_extension_suffix': None, 'lemma': 'hüplema', 'partofspeech': 'V', 'root': 'hüple', 'clitic': '', 'ending': 'nud', 'form': 'nud', 'root_tokens': ['hüple']}),\n",
       "Span(hüpelnud, {'verb_extension_suffix': 'nud', 'lemma': 'hüpelnud', 'partofspeech': 'A', 'root': 'hüpel=nud', 'clitic': '', 'ending': '0', 'form': '', 'root_tokens': ['hüpelnud']}),\n",
       "Span(hüpelnud, {'verb_extension_suffix': 'nud', 'lemma': 'hüpelnud', 'partofspeech': 'A', 'root': 'hüpel=nud', 'clitic': '', 'ending': '0', 'form': 'sg n', 'root_tokens': ['hüpelnud']}),\n",
       "Span(hüpelnud, {'verb_extension_suffix': 'nud', 'lemma': 'hüpelnud', 'partofspeech': 'A', 'root': 'hüpel=nud', 'clitic': '', 'ending': 'd', 'form': 'pl n', 'root_tokens': ['hüpelnud']})],\n",
       "SL[Span(tantsija, {'verb_extension_suffix': None, 'lemma': 'tantsija', 'partofspeech': 'S', 'root': 'tantsija', 'clitic': '', 'ending': '0', 'form': 'sg n', 'root_tokens': ['tantsija']})]]"
      ]
     },
     "execution_count": 4,
     "metadata": {},
     "output_type": "execute_result"
    }
   ],
   "source": [
    "from estnltk.taggers import VerbExtensionSuffixTagger\n",
    "\n",
    "tagger = VerbExtensionSuffixTagger()\n",
    "text = words_sentences('Laulev hüpelnud tantsija')\n",
    "tagger.tag(text)\n",
    "text.verb_extension_suffix"
   ]
  },
  {
   "cell_type": "markdown",
   "metadata": {},
   "source": [
    "## SubcatTagger"
   ]
  },
  {
   "cell_type": "code",
   "execution_count": 5,
   "metadata": {
    "collapsed": false
   },
   "outputs": [
    {
     "data": {
      "text/plain": [
       "SL[SL[Span(Järel, {'lemma': 'järel', 'partofspeech': 'K', 'root': 'järel', 'clitic': '', 'ending': '0', 'form': 'post', 'root_tokens': ['järel'], 'subcat': ['gen']}),\n",
       "Span(Järel, {'lemma': 'järel', 'partofspeech': 'K', 'root': 'järel', 'clitic': '', 'ending': '0', 'form': 'pre', 'root_tokens': ['järel'], 'subcat': None})],\n",
       "SL[Span(juurduma, {'lemma': 'juurduma', 'partofspeech': 'V', 'root': 'juurdu', 'clitic': '', 'ending': 'ma', 'form': 'mod sup ps ill', 'root_tokens': ['juurdu'], 'subcat': ['Intr']}),\n",
       "Span(juurduma, {'lemma': 'juurduma', 'partofspeech': 'V', 'root': 'juurdu', 'clitic': '', 'ending': 'ma', 'form': 'aux sup ps ill', 'root_tokens': ['juurdu'], 'subcat': ['Intr']}),\n",
       "Span(juurduma, {'lemma': 'juurduma', 'partofspeech': 'V', 'root': 'juurdu', 'clitic': '', 'ending': 'ma', 'form': 'main sup ps ill', 'root_tokens': ['juurdu'], 'subcat': ['Intr']})]]"
      ]
     },
     "execution_count": 5,
     "metadata": {},
     "output_type": "execute_result"
    }
   ],
   "source": [
    "from estnltk.taggers import SubcatTagger\n",
    "\n",
    "fsToSyntFulesFile = '../estnltk/rewriting/syntax_preprocessing/rules_files/tmorftrtabel.txt'\n",
    "subcatFile = '../estnltk/rewriting/syntax_preprocessing/rules_files/abileksikon06utf.lx'\n",
    "\n",
    "tagger = SubcatTagger(fs_to_synt_rules_file=fsToSyntFulesFile, \n",
    "                      subcat_rules_file=subcatFile)\n",
    "text = words_sentences('Järel juurduma')\n",
    "tagger.tag(text)\n",
    "text.subcat"
   ]
  },
  {
   "cell_type": "markdown",
   "metadata": {},
   "source": [
    "## MorphExtendedTagger"
   ]
  },
  {
   "cell_type": "code",
   "execution_count": 6,
   "metadata": {
    "collapsed": false
   },
   "outputs": [
    {
     "name": "stdout",
     "output_type": "stream",
     "text": [
      "zmpdcfps"
     ]
    },
    {
     "data": {
      "text/plain": [
       "SL[SL[Span(Ta, {'verb_extension_suffix': None, 'punctuation_type': None, 'word_text': 'Ta', 'fin': None, 'ending': '0', 'form': 'sg nom', 'letter_case': 'cap', 'partofspeech': 'P', 'root': 'tema', 'pronoun_type': ('pers ps3',), 'clitic': '', 'subcat': None})],\n",
       "SL[Span(on, {'verb_extension_suffix': None, 'punctuation_type': None, 'word_text': 'on', 'fin': True, 'ending': '0', 'form': 'mod indic pres ps3 sg ps af', 'letter_case': None, 'partofspeech': 'V', 'root': 'ole', 'pronoun_type': None, 'clitic': '', 'subcat': ['Intr']}),\n",
       "Span(on, {'verb_extension_suffix': None, 'punctuation_type': None, 'word_text': 'on', 'fin': True, 'ending': '0', 'form': 'aux indic pres ps3 sg ps af', 'letter_case': None, 'partofspeech': 'V', 'root': 'ole', 'pronoun_type': None, 'clitic': '', 'subcat': ['Intr']}),\n",
       "Span(on, {'verb_extension_suffix': None, 'punctuation_type': None, 'word_text': 'on', 'fin': True, 'ending': '0', 'form': 'main indic pres ps3 sg ps af', 'letter_case': None, 'partofspeech': 'V', 'root': 'ole', 'pronoun_type': None, 'clitic': '', 'subcat': ['Intr']}),\n",
       "Span(on, {'verb_extension_suffix': None, 'punctuation_type': None, 'word_text': 'on', 'fin': True, 'ending': '0', 'form': 'mod indic pres ps3 pl ps af', 'letter_case': None, 'partofspeech': 'V', 'root': 'ole', 'pronoun_type': None, 'clitic': '', 'subcat': ['Intr']}),\n",
       "Span(on, {'verb_extension_suffix': None, 'punctuation_type': None, 'word_text': 'on', 'fin': True, 'ending': '0', 'form': 'aux indic pres ps3 pl ps af', 'letter_case': None, 'partofspeech': 'V', 'root': 'ole', 'pronoun_type': None, 'clitic': '', 'subcat': ['Intr']}),\n",
       "Span(on, {'verb_extension_suffix': None, 'punctuation_type': None, 'word_text': 'on', 'fin': True, 'ending': '0', 'form': 'main indic pres ps3 pl ps af', 'letter_case': None, 'partofspeech': 'V', 'root': 'ole', 'pronoun_type': None, 'clitic': '', 'subcat': ['Intr']})],\n",
       "SL[Span(rääkinud, {'verb_extension_suffix': None, 'punctuation_type': None, 'word_text': 'rääkinud', 'fin': True, 'ending': 'nud', 'form': 'mod indic impf ps neg', 'letter_case': None, 'partofspeech': 'V', 'root': 'rääki', 'pronoun_type': None, 'clitic': '', 'subcat': ['Part-P', 'El']}),\n",
       "Span(rääkinud, {'verb_extension_suffix': None, 'punctuation_type': None, 'word_text': 'rääkinud', 'fin': False, 'ending': 'nud', 'form': 'mod partic past ps', 'letter_case': None, 'partofspeech': 'V', 'root': 'rääki', 'pronoun_type': None, 'clitic': '', 'subcat': ['Part-P', 'El']}),\n",
       "Span(rääkinud, {'verb_extension_suffix': None, 'punctuation_type': None, 'word_text': 'rääkinud', 'fin': True, 'ending': 'nud', 'form': 'aux indic impf ps neg', 'letter_case': None, 'partofspeech': 'V', 'root': 'rääki', 'pronoun_type': None, 'clitic': '', 'subcat': ['Part-P', 'El']}),\n",
       "Span(rääkinud, {'verb_extension_suffix': None, 'punctuation_type': None, 'word_text': 'rääkinud', 'fin': False, 'ending': 'nud', 'form': 'aux partic past ps', 'letter_case': None, 'partofspeech': 'V', 'root': 'rääki', 'pronoun_type': None, 'clitic': '', 'subcat': ['Part-P', 'El']}),\n",
       "Span(rääkinud, {'verb_extension_suffix': None, 'punctuation_type': None, 'word_text': 'rääkinud', 'fin': True, 'ending': 'nud', 'form': 'main indic impf ps neg', 'letter_case': None, 'partofspeech': 'V', 'root': 'rääki', 'pronoun_type': None, 'clitic': '', 'subcat': ['Part-P', 'El']}),\n",
       "Span(rääkinud, {'verb_extension_suffix': None, 'punctuation_type': None, 'word_text': 'rääkinud', 'fin': False, 'ending': 'nud', 'form': 'main partic past ps', 'letter_case': None, 'partofspeech': 'V', 'root': 'rääki', 'pronoun_type': None, 'clitic': '', 'subcat': ['Part-P', 'El']}),\n",
       "Span(rääkinud, {'verb_extension_suffix': 'nud', 'punctuation_type': None, 'word_text': 'rääkinud', 'fin': None, 'ending': '0', 'form': 'pos', 'letter_case': None, 'partofspeech': 'A', 'root': 'rääki=nud', 'pronoun_type': None, 'clitic': '', 'subcat': None}),\n",
       "Span(rääkinud, {'verb_extension_suffix': 'nud', 'punctuation_type': None, 'word_text': 'rääkinud', 'fin': None, 'ending': '0', 'form': 'pos sg nom', 'letter_case': None, 'partofspeech': 'A', 'root': 'rääki=nud', 'pronoun_type': None, 'clitic': '', 'subcat': None}),\n",
       "Span(rääkinud, {'verb_extension_suffix': 'nud', 'punctuation_type': None, 'word_text': 'rääkinud', 'fin': None, 'ending': 'd', 'form': 'pos pl nom', 'letter_case': None, 'partofspeech': 'A', 'root': 'rääki=nud', 'pronoun_type': None, 'clitic': '', 'subcat': None})],\n",
       "SL[Span(!, {'verb_extension_suffix': None, 'punctuation_type': 'Exc', 'word_text': '!', 'fin': None, 'ending': '', 'form': '', 'letter_case': None, 'partofspeech': 'Z', 'root': '!', 'pronoun_type': None, 'clitic': '', 'subcat': None})]]"
      ]
     },
     "execution_count": 6,
     "metadata": {},
     "output_type": "execute_result"
    }
   ],
   "source": [
    "from estnltk.taggers import MorphExtendedTagger\n",
    "\n",
    "fsToSyntFulesFile = '../estnltk/rewriting/syntax_preprocessing/rules_files/tmorftrtabel.txt'\n",
    "subcat_file = '../estnltk/rewriting/syntax_preprocessing/rules_files/abileksikon06utf.lx'\n",
    "subcat_extra_file = '../estnltk/rewriting/syntax_preprocessing/rules_files/abileksikon_extra.lx'\n",
    "\n",
    "tagger = MorphExtendedTagger(fs_to_synt_rules_file=fsToSyntFulesFile, \n",
    "                             allow_to_remove_all=False, \n",
    "                             subcat_rules_file=subcat_file,\n",
    "                             subcat_rules_extra_file=subcat_extra_file)\n",
    "text = words_sentences('Ta on rääkinud!')\n",
    "tagger.tag(text)\n",
    "text.morph_extended"
   ]
  }
 ],
 "metadata": {
  "anaconda-cloud": {},
  "kernelspec": {
   "display_name": "Python [conda env:py35]",
   "language": "python",
   "name": "conda-env-py35-py"
  },
  "language_info": {
   "codemirror_mode": {
    "name": "ipython",
    "version": 3
   },
   "file_extension": ".py",
   "mimetype": "text/x-python",
   "name": "python",
   "nbconvert_exporter": "python",
   "pygments_lexer": "ipython3",
   "version": "3.5.2"
  }
 },
 "nbformat": 4,
 "nbformat_minor": 1
}
