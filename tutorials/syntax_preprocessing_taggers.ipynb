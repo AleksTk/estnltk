{
 "cells": [
  {
   "cell_type": "markdown",
   "metadata": {},
   "source": [
    "# Syntax preprocessing taggers and rewriters\n",
    "\n",
    "|tagger|rewriters|source attributes|target attributes|values|\n",
    "|------|---------|-----------------|-----------------|------|\n",
    "||PunctuatinonTypeRewriter|partofspeech, root|punctuation_type|```None```, 'Fst', 'Com', 'Col', ... |\n",
    "||MorphToSyntaxMorphRewriter|partofspeech, form|partofspeech, form||\n",
    "|PronounTypeTagger|PronounTypeRewriter|root, ending, clitic, partofspeech|pronoun_type| ```None```, ('det',), ('pers ps3',), ('pos', 'det', 'refl'), ... |\n",
    "||RemoveDuplicateAnalysesRewriter|root, ending, clitic, partofspeech, form|||\n",
    "||RemoveAdpositionAnalysesRewriter|partofspeech, form|||\n",
    "||LetterCaseRewriter|word_text|cap|```None```, 'cap'|\n",
    "|FiniteFormTagger|MorphToSyntaxMorphRewriter, FiniteFormRewriter|partofspeech, form|fin|```None```, ```True```, ```False```|\n",
    "|VerbExtensionSuffixTagger|VerbExtensionSuffixRewriter|root|verb_extension_suffix|```None```,'tud','nud','mine','nu','tu','v','tav','mata','ja'|\n",
    "|SubcatTagger|MorphToSyntaxMorphRewriter, SubcatRewriter|root, partofspeech, form|subcat|```None```, 'Intr', 'Part', 'gen', ...|\n",
    "|MorphExtendedTagger|PunctuatinonTypeRewriter, MorphToSyntaxMorphRewriter, PronounTypeRewriter, RemoveDuplicateAnalysesRewriter, RemoveAdpositionAnalysesRewriter, LetterCaseRewriter, FiniteFormRewriter, VerbExtensionSuffixRewriter, SubcatRewriter|root, ending, clitic, partofspeech, form|partofspeech, form, punctuation_type, pronoun_type, cap, fin, verb_extension_suffix, subcat ||"
   ]
  },
  {
   "cell_type": "code",
   "execution_count": 1,
   "metadata": {
    "collapsed": true
   },
   "outputs": [],
   "source": [
    "from estnltk.text import words_sentences"
   ]
  },
  {
   "cell_type": "markdown",
   "metadata": {},
   "source": [
    "## PronounTypeTagger"
   ]
  },
  {
   "cell_type": "code",
   "execution_count": 2,
   "metadata": {
    "collapsed": false
   },
   "outputs": [
    {
     "data": {
      "text/plain": [
       "SL[SL[Span(Kumb, {'ending': '0', 'pronoun_type': ('rel',), 'root': 'kumb', 'clitic': '', 'form': 'sg n', 'lemma': 'kumb', 'root_tokens': ['kumb'], 'partofspeech': 'P'})],\n",
       "SL[Span(,, {'ending': '', 'pronoun_type': None, 'root': ',', 'clitic': '', 'form': '', 'lemma': ',', 'root_tokens': [','], 'partofspeech': 'Z'})],\n",
       "SL[Span(sina, {'ending': '0', 'pronoun_type': ('pers ps2',), 'root': 'sina', 'clitic': '', 'form': 'sg n', 'lemma': 'sina', 'root_tokens': ['sina'], 'partofspeech': 'P'})],\n",
       "SL[Span(või, {'ending': '0', 'pronoun_type': None, 'root': 'või', 'clitic': '', 'form': '', 'lemma': 'või', 'root_tokens': ['või'], 'partofspeech': 'J'})],\n",
       "SL[Span(mina, {'ending': '0', 'pronoun_type': None, 'root': 'mina', 'clitic': '', 'form': 'sg n', 'lemma': 'mina', 'root_tokens': ['mina'], 'partofspeech': 'S'})],\n",
       "SL[Span(?, {'ending': '', 'pronoun_type': None, 'root': '?', 'clitic': '', 'form': '', 'lemma': '?', 'root_tokens': ['?'], 'partofspeech': 'Z'})]]"
      ]
     },
     "execution_count": 2,
     "metadata": {},
     "output_type": "execute_result"
    }
   ],
   "source": [
    "from estnltk.taggers import PronounTypeTagger\n",
    "\n",
    "tagger = PronounTypeTagger()\n",
    "text = words_sentences('Kumb, sina või mina?')\n",
    "tagger.tag(text)\n",
    "text.pronoun_type"
   ]
  },
  {
   "cell_type": "markdown",
   "metadata": {},
   "source": [
    "## FiniteFormTagger"
   ]
  },
  {
   "cell_type": "code",
   "execution_count": 3,
   "metadata": {
    "collapsed": false
   },
   "outputs": [
    {
     "data": {
      "text/plain": [
       "SL[SL[Span(laulma, {'ending': 'ma', 'root': 'laul', 'clitic': '', 'form': 'mod sup ps ill', 'fin': False, 'lemma': 'laulma', 'root_tokens': ['laul'], 'partofspeech': 'V'}),\n",
       "Span(laulma, {'ending': 'ma', 'root': 'laul', 'clitic': '', 'form': 'aux sup ps ill', 'fin': False, 'lemma': 'laulma', 'root_tokens': ['laul'], 'partofspeech': 'V'}),\n",
       "Span(laulma, {'ending': 'ma', 'root': 'laul', 'clitic': '', 'form': 'main sup ps ill', 'fin': False, 'lemma': 'laulma', 'root_tokens': ['laul'], 'partofspeech': 'V'})],\n",
       "SL[Span(hüpelnud, {'ending': 'nud', 'root': 'hüple', 'clitic': '', 'form': 'mod indic impf ps neg', 'fin': True, 'lemma': 'hüplema', 'root_tokens': ['hüple'], 'partofspeech': 'V'}),\n",
       "Span(hüpelnud, {'ending': 'nud', 'root': 'hüple', 'clitic': '', 'form': 'mod partic past ps', 'fin': False, 'lemma': 'hüplema', 'root_tokens': ['hüple'], 'partofspeech': 'V'}),\n",
       "Span(hüpelnud, {'ending': 'nud', 'root': 'hüple', 'clitic': '', 'form': 'aux indic impf ps neg', 'fin': True, 'lemma': 'hüplema', 'root_tokens': ['hüple'], 'partofspeech': 'V'}),\n",
       "Span(hüpelnud, {'ending': 'nud', 'root': 'hüple', 'clitic': '', 'form': 'aux partic past ps', 'fin': False, 'lemma': 'hüplema', 'root_tokens': ['hüple'], 'partofspeech': 'V'}),\n",
       "Span(hüpelnud, {'ending': 'nud', 'root': 'hüple', 'clitic': '', 'form': 'main indic impf ps neg', 'fin': True, 'lemma': 'hüplema', 'root_tokens': ['hüple'], 'partofspeech': 'V'}),\n",
       "Span(hüpelnud, {'ending': 'nud', 'root': 'hüple', 'clitic': '', 'form': 'main partic past ps', 'fin': False, 'lemma': 'hüplema', 'root_tokens': ['hüple'], 'partofspeech': 'V'}),\n",
       "Span(hüpelnud, {'ending': '0', 'root': 'hüpel=nud', 'clitic': '', 'form': 'pos', 'fin': None, 'lemma': 'hüpelnud', 'root_tokens': ['hüpelnud'], 'partofspeech': 'A'}),\n",
       "Span(hüpelnud, {'ending': '0', 'root': 'hüpel=nud', 'clitic': '', 'form': 'pos sg nom', 'fin': None, 'lemma': 'hüpelnud', 'root_tokens': ['hüpelnud'], 'partofspeech': 'A'}),\n",
       "Span(hüpelnud, {'ending': 'd', 'root': 'hüpel=nud', 'clitic': '', 'form': 'pos pl nom', 'fin': None, 'lemma': 'hüpelnud', 'root_tokens': ['hüpelnud'], 'partofspeech': 'A'})],\n",
       "SL[Span(tantsija, {'ending': '0', 'root': 'tantsija', 'clitic': '', 'form': 'com sg nom', 'fin': None, 'lemma': 'tantsija', 'root_tokens': ['tantsija'], 'partofspeech': 'S'})]]"
      ]
     },
     "execution_count": 3,
     "metadata": {},
     "output_type": "execute_result"
    }
   ],
   "source": [
    "from estnltk.taggers import FiniteFormTagger\n",
    "\n",
    "fsToSyntFulesFile = '../estnltk/rewriting/syntax_preprocessing/rules_files/tmorftrtabel.txt'\n",
    "\n",
    "tagger = FiniteFormTagger(fs_to_synt_rules_file=fsToSyntFulesFile)\n",
    "text = words_sentences('laulma hüpelnud tantsija')\n",
    "tagger.tag(text)\n",
    "text.finite_form"
   ]
  },
  {
   "cell_type": "markdown",
   "metadata": {},
   "source": [
    "## VerbExtensionSuffixTagger"
   ]
  },
  {
   "cell_type": "code",
   "execution_count": 4,
   "metadata": {
    "collapsed": false,
    "scrolled": true
   },
   "outputs": [
    {
     "data": {
      "text/plain": [
       "SL[SL[Span(Laulev, {'ending': '0', 'root': 'laulev', 'clitic': '', 'form': 'sg n', 'verb_extension_suffix': None, 'lemma': 'laulev', 'root_tokens': ['laulev'], 'partofspeech': 'A'})],\n",
       "SL[Span(hüpelnud, {'ending': 'nud', 'root': 'hüple', 'clitic': '', 'form': 'nud', 'verb_extension_suffix': None, 'lemma': 'hüplema', 'root_tokens': ['hüple'], 'partofspeech': 'V'}),\n",
       "Span(hüpelnud, {'ending': '0', 'root': 'hüpel=nud', 'clitic': '', 'form': '', 'verb_extension_suffix': 'nud', 'lemma': 'hüpelnud', 'root_tokens': ['hüpelnud'], 'partofspeech': 'A'}),\n",
       "Span(hüpelnud, {'ending': '0', 'root': 'hüpel=nud', 'clitic': '', 'form': 'sg n', 'verb_extension_suffix': 'nud', 'lemma': 'hüpelnud', 'root_tokens': ['hüpelnud'], 'partofspeech': 'A'}),\n",
       "Span(hüpelnud, {'ending': 'd', 'root': 'hüpel=nud', 'clitic': '', 'form': 'pl n', 'verb_extension_suffix': 'nud', 'lemma': 'hüpelnud', 'root_tokens': ['hüpelnud'], 'partofspeech': 'A'})],\n",
       "SL[Span(tantsija, {'ending': '0', 'root': 'tantsija', 'clitic': '', 'form': 'sg n', 'verb_extension_suffix': None, 'lemma': 'tantsija', 'root_tokens': ['tantsija'], 'partofspeech': 'S'})]]"
      ]
     },
     "execution_count": 4,
     "metadata": {},
     "output_type": "execute_result"
    }
   ],
   "source": [
    "from estnltk.taggers import VerbExtensionSuffixTagger\n",
    "\n",
    "tagger = VerbExtensionSuffixTagger()\n",
    "text = words_sentences('Laulev hüpelnud tantsija')\n",
    "tagger.tag(text)\n",
    "text.verb_extension_suffix"
   ]
  },
  {
   "cell_type": "markdown",
   "metadata": {},
   "source": [
    "## SubcatTagger"
   ]
  },
  {
   "cell_type": "code",
   "execution_count": 5,
   "metadata": {
    "collapsed": false
   },
   "outputs": [
    {
     "data": {
      "text/plain": [
       "SL[SL[Span(Järel, {'ending': '0', 'root': 'järel', 'clitic': '', 'form': 'post', 'subcat': ['gen'], 'lemma': 'järel', 'root_tokens': ['järel'], 'partofspeech': 'K'}),\n",
       "Span(Järel, {'ending': '0', 'root': 'järel', 'clitic': '', 'form': 'pre', 'subcat': None, 'lemma': 'järel', 'root_tokens': ['järel'], 'partofspeech': 'K'})],\n",
       "SL[Span(juurduma, {'ending': 'ma', 'root': 'juurdu', 'clitic': '', 'form': 'mod sup ps ill', 'subcat': ['Intr'], 'lemma': 'juurduma', 'root_tokens': ['juurdu'], 'partofspeech': 'V'}),\n",
       "Span(juurduma, {'ending': 'ma', 'root': 'juurdu', 'clitic': '', 'form': 'aux sup ps ill', 'subcat': ['Intr'], 'lemma': 'juurduma', 'root_tokens': ['juurdu'], 'partofspeech': 'V'}),\n",
       "Span(juurduma, {'ending': 'ma', 'root': 'juurdu', 'clitic': '', 'form': 'main sup ps ill', 'subcat': ['Intr'], 'lemma': 'juurduma', 'root_tokens': ['juurdu'], 'partofspeech': 'V'})]]"
      ]
     },
     "execution_count": 5,
     "metadata": {},
     "output_type": "execute_result"
    }
   ],
   "source": [
    "from estnltk.taggers import SubcatTagger\n",
    "\n",
    "fsToSyntFulesFile = '../estnltk/rewriting/syntax_preprocessing/rules_files/tmorftrtabel.txt'\n",
    "subcatFile = '../estnltk/rewriting/syntax_preprocessing/rules_files/abileksikon06utf.lx'\n",
    "\n",
    "tagger = SubcatTagger(fs_to_synt_rules_file=fsToSyntFulesFile, \n",
    "                      subcat_rules_file=subcatFile)\n",
    "text = words_sentences('Järel juurduma')\n",
    "tagger.tag(text)\n",
    "text.subcat"
   ]
  },
  {
   "cell_type": "markdown",
   "metadata": {},
   "source": [
    "## MorphExtendedTagger"
   ]
  },
  {
   "cell_type": "code",
   "execution_count": 6,
   "metadata": {
    "collapsed": false
   },
   "outputs": [
    {
     "data": {
      "text/plain": [
       "SL[SL[Span(Ta, {'ending': '0', 'pronoun_type': ('pers ps3',), 'root': 'tema', 'clitic': '', 'verb_extension_suffix': None, 'subcat': None, 'fin': None, 'partofspeech': 'P', 'punctuation_type': None, 'form': 'sg nom', 'word_text': 'Ta', 'letter_case': 'cap'})],\n",
       "SL[Span(on, {'ending': '0', 'pronoun_type': None, 'root': 'ole', 'clitic': '', 'verb_extension_suffix': None, 'subcat': ['Intr'], 'fin': True, 'partofspeech': 'V', 'punctuation_type': None, 'form': 'mod indic pres ps3 sg ps af', 'word_text': 'on', 'letter_case': None}),\n",
       "Span(on, {'ending': '0', 'pronoun_type': None, 'root': 'ole', 'clitic': '', 'verb_extension_suffix': None, 'subcat': ['Intr'], 'fin': True, 'partofspeech': 'V', 'punctuation_type': None, 'form': 'aux indic pres ps3 sg ps af', 'word_text': 'on', 'letter_case': None}),\n",
       "Span(on, {'ending': '0', 'pronoun_type': None, 'root': 'ole', 'clitic': '', 'verb_extension_suffix': None, 'subcat': ['Intr'], 'fin': True, 'partofspeech': 'V', 'punctuation_type': None, 'form': 'main indic pres ps3 sg ps af', 'word_text': 'on', 'letter_case': None}),\n",
       "Span(on, {'ending': '0', 'pronoun_type': None, 'root': 'ole', 'clitic': '', 'verb_extension_suffix': None, 'subcat': ['Intr'], 'fin': True, 'partofspeech': 'V', 'punctuation_type': None, 'form': 'mod indic pres ps3 pl ps af', 'word_text': 'on', 'letter_case': None}),\n",
       "Span(on, {'ending': '0', 'pronoun_type': None, 'root': 'ole', 'clitic': '', 'verb_extension_suffix': None, 'subcat': ['Intr'], 'fin': True, 'partofspeech': 'V', 'punctuation_type': None, 'form': 'aux indic pres ps3 pl ps af', 'word_text': 'on', 'letter_case': None}),\n",
       "Span(on, {'ending': '0', 'pronoun_type': None, 'root': 'ole', 'clitic': '', 'verb_extension_suffix': None, 'subcat': ['Intr'], 'fin': True, 'partofspeech': 'V', 'punctuation_type': None, 'form': 'main indic pres ps3 pl ps af', 'word_text': 'on', 'letter_case': None})],\n",
       "SL[Span(rääkinud, {'ending': 'nud', 'pronoun_type': None, 'root': 'rääki', 'clitic': '', 'verb_extension_suffix': None, 'subcat': ['Part-P', 'El'], 'fin': True, 'partofspeech': 'V', 'punctuation_type': None, 'form': 'mod indic impf ps neg', 'word_text': 'rääkinud', 'letter_case': None}),\n",
       "Span(rääkinud, {'ending': 'nud', 'pronoun_type': None, 'root': 'rääki', 'clitic': '', 'verb_extension_suffix': None, 'subcat': ['Part-P', 'El'], 'fin': False, 'partofspeech': 'V', 'punctuation_type': None, 'form': 'mod partic past ps', 'word_text': 'rääkinud', 'letter_case': None}),\n",
       "Span(rääkinud, {'ending': 'nud', 'pronoun_type': None, 'root': 'rääki', 'clitic': '', 'verb_extension_suffix': None, 'subcat': ['Part-P', 'El'], 'fin': True, 'partofspeech': 'V', 'punctuation_type': None, 'form': 'aux indic impf ps neg', 'word_text': 'rääkinud', 'letter_case': None}),\n",
       "Span(rääkinud, {'ending': 'nud', 'pronoun_type': None, 'root': 'rääki', 'clitic': '', 'verb_extension_suffix': None, 'subcat': ['Part-P', 'El'], 'fin': False, 'partofspeech': 'V', 'punctuation_type': None, 'form': 'aux partic past ps', 'word_text': 'rääkinud', 'letter_case': None}),\n",
       "Span(rääkinud, {'ending': 'nud', 'pronoun_type': None, 'root': 'rääki', 'clitic': '', 'verb_extension_suffix': None, 'subcat': ['Part-P', 'El'], 'fin': True, 'partofspeech': 'V', 'punctuation_type': None, 'form': 'main indic impf ps neg', 'word_text': 'rääkinud', 'letter_case': None}),\n",
       "Span(rääkinud, {'ending': 'nud', 'pronoun_type': None, 'root': 'rääki', 'clitic': '', 'verb_extension_suffix': None, 'subcat': ['Part-P', 'El'], 'fin': False, 'partofspeech': 'V', 'punctuation_type': None, 'form': 'main partic past ps', 'word_text': 'rääkinud', 'letter_case': None}),\n",
       "Span(rääkinud, {'ending': '0', 'pronoun_type': None, 'root': 'rääki=nud', 'clitic': '', 'verb_extension_suffix': 'nud', 'subcat': None, 'fin': None, 'partofspeech': 'A', 'punctuation_type': None, 'form': 'pos', 'word_text': 'rääkinud', 'letter_case': None}),\n",
       "Span(rääkinud, {'ending': '0', 'pronoun_type': None, 'root': 'rääki=nud', 'clitic': '', 'verb_extension_suffix': 'nud', 'subcat': None, 'fin': None, 'partofspeech': 'A', 'punctuation_type': None, 'form': 'pos sg nom', 'word_text': 'rääkinud', 'letter_case': None}),\n",
       "Span(rääkinud, {'ending': 'd', 'pronoun_type': None, 'root': 'rääki=nud', 'clitic': '', 'verb_extension_suffix': 'nud', 'subcat': None, 'fin': None, 'partofspeech': 'A', 'punctuation_type': None, 'form': 'pos pl nom', 'word_text': 'rääkinud', 'letter_case': None})],\n",
       "SL[Span(!, {'ending': '', 'pronoun_type': None, 'root': '!', 'clitic': '', 'verb_extension_suffix': None, 'subcat': None, 'fin': None, 'partofspeech': 'Z', 'punctuation_type': 'Exc', 'form': '', 'word_text': '!', 'letter_case': None})]]"
      ]
     },
     "execution_count": 6,
     "metadata": {},
     "output_type": "execute_result"
    }
   ],
   "source": [
    "from estnltk.taggers import MorphExtendedTagger\n",
    "\n",
    "fsToSyntFulesFile = '../estnltk/rewriting/syntax_preprocessing/rules_files/tmorftrtabel.txt'\n",
    "subcat_file = '../estnltk/rewriting/syntax_preprocessing/rules_files/abileksikon06utf.lx'\n",
    "subcat_extra_file = '../estnltk/rewriting/syntax_preprocessing/rules_files/abileksikon_extra.lx'\n",
    "\n",
    "tagger = MorphExtendedTagger(fs_to_synt_rules_file=fsToSyntFulesFile, \n",
    "                             allow_to_remove_all=False, \n",
    "                             subcat_rules_file=subcat_file,\n",
    "                             subcat_rules_extra_file=subcat_extra_file)\n",
    "text = words_sentences('Ta on rääkinud!')\n",
    "tagger.tag(text)\n",
    "text.morph_extended"
   ]
  }
 ],
 "metadata": {
  "anaconda-cloud": {},
  "kernelspec": {
   "display_name": "Python [conda env:py35]",
   "language": "python",
   "name": "conda-env-py35-py"
  },
  "language_info": {
   "codemirror_mode": {
    "name": "ipython",
    "version": 3
   },
   "file_extension": ".py",
   "mimetype": "text/x-python",
   "name": "python",
   "nbconvert_exporter": "python",
   "pygments_lexer": "ipython3",
   "version": "3.5.2"
  }
 },
 "nbformat": 4,
 "nbformat_minor": 1
}
