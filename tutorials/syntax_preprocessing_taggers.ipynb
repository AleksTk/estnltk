{
 "cells": [
  {
   "cell_type": "markdown",
   "metadata": {},
   "source": [
    "# Syntax preprocessing taggers and rewriters\n",
    "\n",
    "|tagger|rewriters|source attributes|target attributes|values|\n",
    "|------|---------|-----------------|-----------------|------|\n",
    "||PunctuatinonTypeRewriter|partofspeech, root|punctuation_type|```None```, 'Fst', 'Com', 'Col', ... |\n",
    "||MorphToSyntaxMorphRewriter|partofspeech, form|partofspeech, form||\n",
    "|PronounTypeTagger|PronounTypeRewriter|root, ending, clitic, partofspeech|pronoun_type| ```None```, ('det',), ('pers ps3',), ('pos', 'det', 'refl'), ... |\n",
    "||RemoveDuplicateAnalysesRewriter|root, ending, clitic, partofspeech, form|||\n",
    "||RemoveAdpositionAnalysesRewriter|partofspeech, form|||\n",
    "||LetterCaseRewriter|word_text|cap|```None```, 'cap'|\n",
    "|FiniteFormTagger|MorphToSyntaxMorphRewriter, FiniteFormRewriter|partofspeech, form|fin|```None```, ```True```, ```False```|\n",
    "|VerbExtensionSuffixTagger|VerbExtensionSuffixRewriter|root|verb_extension_suffix|```None```,'tud','nud','mine','nu','tu','v','tav','mata','ja'|\n",
    "|SubcatTagger|MorphToSyntaxMorphRewriter, SubcatRewriter|root, partofspeech, form|subcat|```None```, 'Intr', 'Part', 'gen', ...|\n",
    "|MorphExtendedTagger|PunctuatinonTypeRewriter, MorphToSyntaxMorphRewriter, PronounTypeRewriter, RemoveDuplicateAnalysesRewriter, RemoveAdpositionAnalysesRewriter, LetterCaseRewriter, FiniteFormRewriter, VerbExtensionSuffixRewriter, SubcatRewriter|root, ending, clitic, partofspeech, form|partofspeech, form, punctuation_type, pronoun_type, cap, fin, verb_extension_suffix, subcat ||"
   ]
  },
  {
   "cell_type": "code",
   "execution_count": 1,
   "metadata": {
    "collapsed": false
   },
   "outputs": [],
   "source": [
    "from estnltk import Text"
   ]
  },
  {
   "cell_type": "markdown",
   "metadata": {},
   "source": [
    "## PronounTypeTagger"
   ]
  },
  {
   "cell_type": "code",
   "execution_count": 2,
   "metadata": {
    "collapsed": false
   },
   "outputs": [
    {
     "data": {
      "text/plain": [
       "SL[SL[Span(Kumb, {'ending': '0', 'root': 'kumb', 'clitic': '', 'lemma': 'kumb', 'partofspeech': 'P', 'root_tokens': ['kumb'], 'pronoun_type': ['rel'], 'form': 'sg n'})],\n",
       "SL[Span(,, {'ending': '', 'root': ',', 'clitic': '', 'lemma': ',', 'partofspeech': 'Z', 'root_tokens': [','], 'pronoun_type': None, 'form': ''})],\n",
       "SL[Span(sina, {'ending': '0', 'root': 'sina', 'clitic': '', 'lemma': 'sina', 'partofspeech': 'P', 'root_tokens': ['sina'], 'pronoun_type': ['ps2'], 'form': 'sg n'})],\n",
       "SL[Span(või, {'ending': '0', 'root': 'või', 'clitic': '', 'lemma': 'või', 'partofspeech': 'J', 'root_tokens': ['või'], 'pronoun_type': None, 'form': ''})],\n",
       "SL[Span(mina, {'ending': '0', 'root': 'mina', 'clitic': '', 'lemma': 'mina', 'partofspeech': 'S', 'root_tokens': ['mina'], 'pronoun_type': None, 'form': 'sg n'})],\n",
       "SL[Span(?, {'ending': '', 'root': '?', 'clitic': '', 'lemma': '?', 'partofspeech': 'Z', 'root_tokens': ['?'], 'pronoun_type': None, 'form': ''})]]"
      ]
     },
     "execution_count": 2,
     "metadata": {},
     "output_type": "execute_result"
    }
   ],
   "source": [
    "from estnltk.taggers import PronounTypeTagger\n",
    "\n",
    "tagger = PronounTypeTagger()\n",
    "text = Text('Kumb, sina või mina?').tag_layer()\n",
    "tagger.tag(text)\n",
    "text.pronoun_type"
   ]
  },
  {
   "cell_type": "markdown",
   "metadata": {},
   "source": [
    "## FiniteFormTagger"
   ]
  },
  {
   "cell_type": "code",
   "execution_count": 3,
   "metadata": {
    "collapsed": false
   },
   "outputs": [
    {
     "data": {
      "text/plain": [
       "SL[SL[Span(laulma, {'form': 'mod sup ps ill', 'partofspeech': 'V', 'root_tokens': ['laul'], 'fin': False, 'root': 'laul', 'lemma': 'laulma', 'clitic': '', 'ending': 'ma'}),\n",
       "Span(laulma, {'form': 'aux sup ps ill', 'partofspeech': 'V', 'root_tokens': ['laul'], 'fin': False, 'root': 'laul', 'lemma': 'laulma', 'clitic': '', 'ending': 'ma'}),\n",
       "Span(laulma, {'form': 'main sup ps ill', 'partofspeech': 'V', 'root_tokens': ['laul'], 'fin': False, 'root': 'laul', 'lemma': 'laulma', 'clitic': '', 'ending': 'ma'})],\n",
       "SL[Span(hüpelnud, {'form': 'mod indic impf ps neg', 'partofspeech': 'V', 'root_tokens': ['hüple'], 'fin': True, 'root': 'hüple', 'lemma': 'hüplema', 'clitic': '', 'ending': 'nud'}),\n",
       "Span(hüpelnud, {'form': 'mod partic past ps', 'partofspeech': 'V', 'root_tokens': ['hüple'], 'fin': False, 'root': 'hüple', 'lemma': 'hüplema', 'clitic': '', 'ending': 'nud'}),\n",
       "Span(hüpelnud, {'form': 'aux indic impf ps neg', 'partofspeech': 'V', 'root_tokens': ['hüple'], 'fin': True, 'root': 'hüple', 'lemma': 'hüplema', 'clitic': '', 'ending': 'nud'}),\n",
       "Span(hüpelnud, {'form': 'aux partic past ps', 'partofspeech': 'V', 'root_tokens': ['hüple'], 'fin': False, 'root': 'hüple', 'lemma': 'hüplema', 'clitic': '', 'ending': 'nud'}),\n",
       "Span(hüpelnud, {'form': 'main indic impf ps neg', 'partofspeech': 'V', 'root_tokens': ['hüple'], 'fin': True, 'root': 'hüple', 'lemma': 'hüplema', 'clitic': '', 'ending': 'nud'}),\n",
       "Span(hüpelnud, {'form': 'main partic past ps', 'partofspeech': 'V', 'root_tokens': ['hüple'], 'fin': False, 'root': 'hüple', 'lemma': 'hüplema', 'clitic': '', 'ending': 'nud'}),\n",
       "Span(hüpelnud, {'form': 'pos', 'partofspeech': 'A', 'root_tokens': ['hüpelnud'], 'fin': None, 'root': 'hüpel=nud', 'lemma': 'hüpelnud', 'clitic': '', 'ending': '0'}),\n",
       "Span(hüpelnud, {'form': 'pos sg nom', 'partofspeech': 'A', 'root_tokens': ['hüpelnud'], 'fin': None, 'root': 'hüpel=nud', 'lemma': 'hüpelnud', 'clitic': '', 'ending': '0'}),\n",
       "Span(hüpelnud, {'form': 'pos pl nom', 'partofspeech': 'A', 'root_tokens': ['hüpelnud'], 'fin': None, 'root': 'hüpel=nud', 'lemma': 'hüpelnud', 'clitic': '', 'ending': 'd'})],\n",
       "SL[Span(tantsija, {'form': 'com sg nom', 'partofspeech': 'S', 'root_tokens': ['tantsija'], 'fin': None, 'root': 'tantsija', 'lemma': 'tantsija', 'clitic': '', 'ending': '0'})]]"
      ]
     },
     "execution_count": 3,
     "metadata": {},
     "output_type": "execute_result"
    }
   ],
   "source": [
    "from estnltk.taggers import FiniteFormTagger\n",
    "\n",
    "fsToSyntFulesFile = '../estnltk/rewriting/syntax_preprocessing/rules_files/tmorftrtabel.txt'\n",
    "\n",
    "tagger = FiniteFormTagger(fs_to_synt_rules_file=fsToSyntFulesFile)\n",
    "text = Text('laulma hüpelnud tantsija').tag_layer()\n",
    "tagger.tag(text)\n",
    "text.finite_form"
   ]
  },
  {
   "cell_type": "markdown",
   "metadata": {},
   "source": [
    "## VerbExtensionSuffixTagger"
   ]
  },
  {
   "cell_type": "code",
   "execution_count": 4,
   "metadata": {
    "collapsed": false,
    "scrolled": true
   },
   "outputs": [
    {
     "data": {
      "text/plain": [
       "SL[SL[Span(Laulev, {'form': 'sg n', 'partofspeech': 'A', 'verb_extension_suffix': [], 'root_tokens': ['laulev'], 'root': 'laulev', 'lemma': 'laulev', 'clitic': '', 'ending': '0'})],\n",
       "SL[Span(hüpelnud, {'form': 'nud', 'partofspeech': 'V', 'verb_extension_suffix': [], 'root_tokens': ['hüple'], 'root': 'hüple', 'lemma': 'hüplema', 'clitic': '', 'ending': 'nud'}),\n",
       "Span(hüpelnud, {'form': '', 'partofspeech': 'A', 'verb_extension_suffix': ['nud'], 'root_tokens': ['hüpelnud'], 'root': 'hüpel=nud', 'lemma': 'hüpelnud', 'clitic': '', 'ending': '0'}),\n",
       "Span(hüpelnud, {'form': 'sg n', 'partofspeech': 'A', 'verb_extension_suffix': ['nud'], 'root_tokens': ['hüpelnud'], 'root': 'hüpel=nud', 'lemma': 'hüpelnud', 'clitic': '', 'ending': '0'}),\n",
       "Span(hüpelnud, {'form': 'pl n', 'partofspeech': 'A', 'verb_extension_suffix': ['nud'], 'root_tokens': ['hüpelnud'], 'root': 'hüpel=nud', 'lemma': 'hüpelnud', 'clitic': '', 'ending': 'd'})],\n",
       "SL[Span(tantsija, {'form': 'sg n', 'partofspeech': 'S', 'verb_extension_suffix': [], 'root_tokens': ['tantsija'], 'root': 'tantsija', 'lemma': 'tantsija', 'clitic': '', 'ending': '0'})]]"
      ]
     },
     "execution_count": 4,
     "metadata": {},
     "output_type": "execute_result"
    }
   ],
   "source": [
    "from estnltk.taggers import VerbExtensionSuffixTagger\n",
    "\n",
    "tagger = VerbExtensionSuffixTagger()\n",
    "text = Text('Laulev hüpelnud tantsija').tag_layer()\n",
    "tagger.tag(text)\n",
    "text.verb_extension_suffix"
   ]
  },
  {
   "cell_type": "markdown",
   "metadata": {},
   "source": [
    "## SubcatTagger"
   ]
  },
  {
   "cell_type": "code",
   "execution_count": 5,
   "metadata": {
    "collapsed": false
   },
   "outputs": [
    {
     "data": {
      "text/plain": [
       "SL[SL[Span(Järel, {'form': 'post', 'partofspeech': 'K', 'root_tokens': ['järel'], 'subcat': ['gen'], 'root': 'järel', 'lemma': 'järel', 'clitic': '', 'ending': '0'}),\n",
       "Span(Järel, {'form': 'pre', 'partofspeech': 'K', 'root_tokens': ['järel'], 'subcat': None, 'root': 'järel', 'lemma': 'järel', 'clitic': '', 'ending': '0'})],\n",
       "SL[Span(juurduma, {'form': 'mod sup ps ill', 'partofspeech': 'V', 'root_tokens': ['juurdu'], 'subcat': ['Intr'], 'root': 'juurdu', 'lemma': 'juurduma', 'clitic': '', 'ending': 'ma'}),\n",
       "Span(juurduma, {'form': 'aux sup ps ill', 'partofspeech': 'V', 'root_tokens': ['juurdu'], 'subcat': ['Intr'], 'root': 'juurdu', 'lemma': 'juurduma', 'clitic': '', 'ending': 'ma'}),\n",
       "Span(juurduma, {'form': 'main sup ps ill', 'partofspeech': 'V', 'root_tokens': ['juurdu'], 'subcat': ['Intr'], 'root': 'juurdu', 'lemma': 'juurduma', 'clitic': '', 'ending': 'ma'})]]"
      ]
     },
     "execution_count": 5,
     "metadata": {},
     "output_type": "execute_result"
    }
   ],
   "source": [
    "from estnltk.taggers import SubcatTagger\n",
    "\n",
    "fsToSyntFulesFile = '../estnltk/rewriting/syntax_preprocessing/rules_files/tmorftrtabel.txt'\n",
    "subcatFile = '../estnltk/rewriting/syntax_preprocessing/rules_files/abileksikon06utf.lx'\n",
    "\n",
    "tagger = SubcatTagger(fs_to_synt_rules_file=fsToSyntFulesFile, \n",
    "                      subcat_rules_file=subcatFile)\n",
    "text = Text('Järel juurduma').tag_layer()\n",
    "tagger.tag(text)\n",
    "text.subcat"
   ]
  },
  {
   "cell_type": "markdown",
   "metadata": {},
   "source": [
    "## MorphExtendedTagger"
   ]
  },
  {
   "cell_type": "code",
   "execution_count": 6,
   "metadata": {
    "collapsed": false
   },
   "outputs": [
    {
     "data": {
      "text/plain": [
       "SL[SL[Span(Ta, {'form': 'sg nom', 'verb_extension_suffix': [], 'subcat': None, 'lemma': 'tema', 'root': 'tema', 'pronoun_type': ['ps3'], 'clitic': '', 'partofspeech': 'P', 'punctuation_type': None, 'fin': None, 'letter_case': 'cap', 'word_text': 'Ta', 'ending': '0'})],\n",
       "SL[Span(on, {'form': 'mod indic pres ps3 sg ps af', 'verb_extension_suffix': [], 'subcat': ['Intr'], 'lemma': 'olema', 'root': 'ole', 'pronoun_type': None, 'clitic': '', 'partofspeech': 'V', 'punctuation_type': None, 'fin': True, 'letter_case': None, 'word_text': 'on', 'ending': '0'}),\n",
       "Span(on, {'form': 'aux indic pres ps3 sg ps af', 'verb_extension_suffix': [], 'subcat': ['Intr'], 'lemma': 'olema', 'root': 'ole', 'pronoun_type': None, 'clitic': '', 'partofspeech': 'V', 'punctuation_type': None, 'fin': True, 'letter_case': None, 'word_text': 'on', 'ending': '0'}),\n",
       "Span(on, {'form': 'main indic pres ps3 sg ps af', 'verb_extension_suffix': [], 'subcat': ['Intr'], 'lemma': 'olema', 'root': 'ole', 'pronoun_type': None, 'clitic': '', 'partofspeech': 'V', 'punctuation_type': None, 'fin': True, 'letter_case': None, 'word_text': 'on', 'ending': '0'}),\n",
       "Span(on, {'form': 'mod indic pres ps3 pl ps af', 'verb_extension_suffix': [], 'subcat': ['Intr'], 'lemma': 'olema', 'root': 'ole', 'pronoun_type': None, 'clitic': '', 'partofspeech': 'V', 'punctuation_type': None, 'fin': True, 'letter_case': None, 'word_text': 'on', 'ending': '0'}),\n",
       "Span(on, {'form': 'aux indic pres ps3 pl ps af', 'verb_extension_suffix': [], 'subcat': ['Intr'], 'lemma': 'olema', 'root': 'ole', 'pronoun_type': None, 'clitic': '', 'partofspeech': 'V', 'punctuation_type': None, 'fin': True, 'letter_case': None, 'word_text': 'on', 'ending': '0'}),\n",
       "Span(on, {'form': 'main indic pres ps3 pl ps af', 'verb_extension_suffix': [], 'subcat': ['Intr'], 'lemma': 'olema', 'root': 'ole', 'pronoun_type': None, 'clitic': '', 'partofspeech': 'V', 'punctuation_type': None, 'fin': True, 'letter_case': None, 'word_text': 'on', 'ending': '0'})],\n",
       "SL[Span(rääkinud, {'form': 'mod indic impf ps neg', 'verb_extension_suffix': [], 'subcat': ['Part-P', 'El'], 'lemma': 'rääkima', 'root': 'rääki', 'pronoun_type': None, 'clitic': '', 'partofspeech': 'V', 'punctuation_type': None, 'fin': True, 'letter_case': None, 'word_text': 'rääkinud', 'ending': 'nud'}),\n",
       "Span(rääkinud, {'form': 'mod partic past ps', 'verb_extension_suffix': [], 'subcat': ['Part-P', 'El'], 'lemma': 'rääkima', 'root': 'rääki', 'pronoun_type': None, 'clitic': '', 'partofspeech': 'V', 'punctuation_type': None, 'fin': False, 'letter_case': None, 'word_text': 'rääkinud', 'ending': 'nud'}),\n",
       "Span(rääkinud, {'form': 'aux indic impf ps neg', 'verb_extension_suffix': [], 'subcat': ['Part-P', 'El'], 'lemma': 'rääkima', 'root': 'rääki', 'pronoun_type': None, 'clitic': '', 'partofspeech': 'V', 'punctuation_type': None, 'fin': True, 'letter_case': None, 'word_text': 'rääkinud', 'ending': 'nud'}),\n",
       "Span(rääkinud, {'form': 'aux partic past ps', 'verb_extension_suffix': [], 'subcat': ['Part-P', 'El'], 'lemma': 'rääkima', 'root': 'rääki', 'pronoun_type': None, 'clitic': '', 'partofspeech': 'V', 'punctuation_type': None, 'fin': False, 'letter_case': None, 'word_text': 'rääkinud', 'ending': 'nud'}),\n",
       "Span(rääkinud, {'form': 'main indic impf ps neg', 'verb_extension_suffix': [], 'subcat': ['Part-P', 'El'], 'lemma': 'rääkima', 'root': 'rääki', 'pronoun_type': None, 'clitic': '', 'partofspeech': 'V', 'punctuation_type': None, 'fin': True, 'letter_case': None, 'word_text': 'rääkinud', 'ending': 'nud'}),\n",
       "Span(rääkinud, {'form': 'main partic past ps', 'verb_extension_suffix': [], 'subcat': ['Part-P', 'El'], 'lemma': 'rääkima', 'root': 'rääki', 'pronoun_type': None, 'clitic': '', 'partofspeech': 'V', 'punctuation_type': None, 'fin': False, 'letter_case': None, 'word_text': 'rääkinud', 'ending': 'nud'}),\n",
       "Span(rääkinud, {'form': 'pos', 'verb_extension_suffix': ['nud'], 'subcat': None, 'lemma': 'rääkinud', 'root': 'rääki=nud', 'pronoun_type': None, 'clitic': '', 'partofspeech': 'A', 'punctuation_type': None, 'fin': None, 'letter_case': None, 'word_text': 'rääkinud', 'ending': '0'}),\n",
       "Span(rääkinud, {'form': 'pos sg nom', 'verb_extension_suffix': ['nud'], 'subcat': None, 'lemma': 'rääkinud', 'root': 'rääki=nud', 'pronoun_type': None, 'clitic': '', 'partofspeech': 'A', 'punctuation_type': None, 'fin': None, 'letter_case': None, 'word_text': 'rääkinud', 'ending': '0'}),\n",
       "Span(rääkinud, {'form': 'pos pl nom', 'verb_extension_suffix': ['nud'], 'subcat': None, 'lemma': 'rääkinud', 'root': 'rääki=nud', 'pronoun_type': None, 'clitic': '', 'partofspeech': 'A', 'punctuation_type': None, 'fin': None, 'letter_case': None, 'word_text': 'rääkinud', 'ending': 'd'})],\n",
       "SL[Span(!, {'form': '', 'verb_extension_suffix': [], 'subcat': None, 'lemma': '!', 'root': '!', 'pronoun_type': None, 'clitic': '', 'partofspeech': 'Z', 'punctuation_type': 'Exc', 'fin': None, 'letter_case': None, 'word_text': '!', 'ending': ''})]]"
      ]
     },
     "execution_count": 6,
     "metadata": {},
     "output_type": "execute_result"
    }
   ],
   "source": [
    "from estnltk.taggers import MorphExtendedTagger\n",
    "\n",
    "fsToSyntFulesFile = '../estnltk/rewriting/syntax_preprocessing/rules_files/tmorftrtabel.txt'\n",
    "subcat_file = '../estnltk/rewriting/syntax_preprocessing/rules_files/abileksikon06utf.lx'\n",
    "\n",
    "tagger = MorphExtendedTagger(fs_to_synt_rules_file=fsToSyntFulesFile, \n",
    "                             allow_to_remove_all=False, \n",
    "                             subcat_rules_file=subcat_file)\n",
    "text = Text('Ta on rääkinud!').tag_layer()\n",
    "tagger.tag(text)\n",
    "text.morph_extended"
   ]
  }
 ],
 "metadata": {
  "anaconda-cloud": {},
  "kernelspec": {
   "display_name": "Python [py35]",
   "language": "python",
   "name": "Python [py35]"
  },
  "language_info": {
   "codemirror_mode": {
    "name": "ipython",
    "version": 3
   },
   "file_extension": ".py",
   "mimetype": "text/x-python",
   "name": "python",
   "nbconvert_exporter": "python",
   "pygments_lexer": "ipython3",
   "version": "3.5.3"
  }
 },
 "nbformat": 4,
 "nbformat_minor": 1
}
