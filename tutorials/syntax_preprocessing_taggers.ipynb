{
 "cells": [
  {
   "cell_type": "markdown",
   "metadata": {},
   "source": [
    "# Syntax preprocessing taggers and rewriters\n",
    "\n",
    "|tagger|rewriters|source attributes|target attributes|values|\n",
    "|------|---------|-----------------|-----------------|------|\n",
    "||PunctuatinonTypeRewriter|partofspeech, root|punctuation_type|```None```, 'Fst', 'Com', 'Col', ... |\n",
    "||MorphToSyntaxMorphRewriter|partofspeech, form|partofspeech, form||\n",
    "|PronounTypeTagger|PronounTypeRewriter|root, ending, clitic|pronoun_type| ```None```, ('det',), ('pers ps3',), ('pos', 'det', 'refl'), ... |\n",
    "||RemoveDuplicateAnalysesRewriter||||\n",
    "||LetterCaseRewriter|word_text|cap|```None```, 'cap'|\n",
    "|FiniteFormTagger|FiniteFormRewriter|partofspeech, form|fin|```None```, 'fin'|\n",
    "|VerbExtensionSuffixTagger|VerbExtensionSuffixRewriter|root|verb_extension_suffix|```None```,'tud','nud','mine','nu','tu','v','tav','mata','ja'|\n",
    "|SubcatTagger|SubcatRewriter|root, partofspeech, form|subcat|```None```, 'Intr', 'Part', 'gen', ...|\n",
    "|MorphExtendedTagger|PunctuatinonTypeRewriter, MorphToSyntaxMorphRewriter, PronounTypeRewriter, FiniteFormRewriter, VerbExtensionSuffixRewriter, SubcatRewriter|root, ending, clitic, partofspeech, form|partofspeech, form, punctuation_type, pronoun_type, cap, fin, verb_extension_suffix, subcat ||"
   ]
  },
  {
   "cell_type": "code",
   "execution_count": 1,
   "metadata": {
    "collapsed": true
   },
   "outputs": [],
   "source": [
    "from estnltk.text import words_sentences"
   ]
  },
  {
   "cell_type": "markdown",
   "metadata": {},
   "source": [
    "## MorphExtendedTagger"
   ]
  },
  {
   "cell_type": "code",
   "execution_count": 2,
   "metadata": {
    "collapsed": false
   },
   "outputs": [
    {
     "name": "stdout",
     "output_type": "stream",
     "text": [
      "zmpdcfps"
     ]
    },
    {
     "data": {
      "text/plain": [
       "SL[SL[Span(Täna, {'fin': None, 'root': 'täna', 'pronoun_type': None, 'punctuation_type': None, 'form': '', 'clitic': '', 'partofspeech': 'D', 'subcat': None, 'word_text': 'Täna', 'letter_case': 'cap', 'verb_extension_suffix': None, 'ending': '0'})],\n",
       "SL[Span(on, {'fin': '<FinV>', 'root': 'ole', 'pronoun_type': None, 'punctuation_type': None, 'form': 'mod indic pres ps3 sg ps af', 'clitic': '', 'partofspeech': 'V', 'subcat': ['Intr'], 'word_text': 'on', 'letter_case': None, 'verb_extension_suffix': None, 'ending': '0'}),\n",
       "Span(on, {'fin': '<FinV>', 'root': 'ole', 'pronoun_type': None, 'punctuation_type': None, 'form': 'aux indic pres ps3 sg ps af', 'clitic': '', 'partofspeech': 'V', 'subcat': ['Intr'], 'word_text': 'on', 'letter_case': None, 'verb_extension_suffix': None, 'ending': '0'}),\n",
       "Span(on, {'fin': '<FinV>', 'root': 'ole', 'pronoun_type': None, 'punctuation_type': None, 'form': 'main indic pres ps3 sg ps af', 'clitic': '', 'partofspeech': 'V', 'subcat': ['Intr'], 'word_text': 'on', 'letter_case': None, 'verb_extension_suffix': None, 'ending': '0'}),\n",
       "Span(on, {'fin': '<FinV>', 'root': 'ole', 'pronoun_type': None, 'punctuation_type': None, 'form': 'mod indic pres ps3 pl ps af', 'clitic': '', 'partofspeech': 'V', 'subcat': ['Intr'], 'word_text': 'on', 'letter_case': None, 'verb_extension_suffix': None, 'ending': '0'}),\n",
       "Span(on, {'fin': '<FinV>', 'root': 'ole', 'pronoun_type': None, 'punctuation_type': None, 'form': 'aux indic pres ps3 pl ps af', 'clitic': '', 'partofspeech': 'V', 'subcat': ['Intr'], 'word_text': 'on', 'letter_case': None, 'verb_extension_suffix': None, 'ending': '0'}),\n",
       "Span(on, {'fin': '<FinV>', 'root': 'ole', 'pronoun_type': None, 'punctuation_type': None, 'form': 'main indic pres ps3 pl ps af', 'clitic': '', 'partofspeech': 'V', 'subcat': ['Intr'], 'word_text': 'on', 'letter_case': None, 'verb_extension_suffix': None, 'ending': '0'})],\n",
       "SL[Span(15., {'fin': None, 'root': '15.', 'pronoun_type': None, 'punctuation_type': None, 'form': 'ord #? roman', 'clitic': '', 'partofspeech': 'N', 'subcat': None, 'word_text': '15.', 'letter_case': None, 'verb_extension_suffix': None, 'ending': '0'}),\n",
       "Span(15., {'fin': None, 'root': '15.', 'pronoun_type': None, 'punctuation_type': None, 'form': 'ord #? digit', 'clitic': '', 'partofspeech': 'N', 'subcat': None, 'word_text': '15.', 'letter_case': None, 'verb_extension_suffix': None, 'ending': '0'})],\n",
       "SL[Span(detsember, {'fin': None, 'root': 'detsember', 'pronoun_type': None, 'punctuation_type': None, 'form': 'com sg nom', 'clitic': '', 'partofspeech': 'S', 'subcat': None, 'word_text': 'detsember', 'letter_case': None, 'verb_extension_suffix': None, 'ending': '0'})],\n",
       "SL[Span(., {'fin': None, 'root': '.', 'pronoun_type': None, 'punctuation_type': 'Fst', 'form': '', 'clitic': '', 'partofspeech': 'Z', 'subcat': None, 'word_text': '.', 'letter_case': None, 'verb_extension_suffix': None, 'ending': ''})]]"
      ]
     },
     "execution_count": 2,
     "metadata": {},
     "output_type": "execute_result"
    }
   ],
   "source": [
    "from estnltk.taggers import MorphExtendedTagger\n",
    "\n",
    "fsToSyntFulesFile = '../estnltk/rewriting/syntax_preprocessing/files/tmorftrtabel.txt'\n",
    "subcatFile = '../estnltk/rewriting/syntax_preprocessing/files/abileksikon06utf.lx'\n",
    "\n",
    "tagger = MorphExtendedTagger(fs_to_synt_rules_file=fsToSyntFulesFile, \n",
    "                             allow_to_remove_all=False, \n",
    "                             subcat_rules_file=subcatFile)\n",
    "text = words_sentences('Täna on 15. detsember.')\n",
    "\n",
    "tagger.tag(text)\n",
    "text.morph_extended"
   ]
  },
  {
   "cell_type": "markdown",
   "metadata": {},
   "source": [
    "## PronounTypeTagger"
   ]
  },
  {
   "cell_type": "code",
   "execution_count": 3,
   "metadata": {
    "collapsed": false
   },
   "outputs": [
    {
     "data": {
      "text/plain": [
       "SL[SL[Span(Kumb, {'root': 'kumb', 'pronoun_type': ('rel',), 'form': 'sg n', 'clitic': '', 'root_tokens': ['kumb'], 'lemma': 'kumb', 'partofspeech': 'P', 'ending': '0'})],\n",
       "SL[Span(,, {'root': ',', 'pronoun_type': None, 'form': '', 'clitic': '', 'root_tokens': [','], 'lemma': ',', 'partofspeech': 'Z', 'ending': ''})],\n",
       "SL[Span(sina, {'root': 'sina', 'pronoun_type': ('pers ps2',), 'form': 'sg n', 'clitic': '', 'root_tokens': ['sina'], 'lemma': 'sina', 'partofspeech': 'P', 'ending': '0'})],\n",
       "SL[Span(või, {'root': 'või', 'pronoun_type': None, 'form': '', 'clitic': '', 'root_tokens': ['või'], 'lemma': 'või', 'partofspeech': 'J', 'ending': '0'})],\n",
       "SL[Span(mina, {'root': 'mina', 'pronoun_type': None, 'form': 'sg n', 'clitic': '', 'root_tokens': ['mina'], 'lemma': 'mina', 'partofspeech': 'S', 'ending': '0'})],\n",
       "SL[Span(?, {'root': '?', 'pronoun_type': None, 'form': '', 'clitic': '', 'root_tokens': ['?'], 'lemma': '?', 'partofspeech': 'Z', 'ending': ''})]]"
      ]
     },
     "execution_count": 3,
     "metadata": {},
     "output_type": "execute_result"
    }
   ],
   "source": [
    "from estnltk.taggers import PronounTypeTagger\n",
    "\n",
    "tagger = PronounTypeTagger()\n",
    "text = words_sentences('Kumb, sina või mina?')\n",
    "tagger.tag(text)\n",
    "text.morph_extended"
   ]
  }
 ],
 "metadata": {
  "anaconda-cloud": {},
  "kernelspec": {
   "display_name": "Python [conda env:py35]",
   "language": "python",
   "name": "conda-env-py35-py"
  },
  "language_info": {
   "codemirror_mode": {
    "name": "ipython",
    "version": 3
   },
   "file_extension": ".py",
   "mimetype": "text/x-python",
   "name": "python",
   "nbconvert_exporter": "python",
   "pygments_lexer": "ipython3",
   "version": "3.5.2"
  }
 },
 "nbformat": 4,
 "nbformat_minor": 1
}
