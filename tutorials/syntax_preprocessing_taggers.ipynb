{
 "cells": [
  {
   "cell_type": "markdown",
   "metadata": {},
   "source": [
    "# Syntax preprocessing taggers and rewriters\n",
    "\n",
    "|tagger|rewriters|source attributes|target attributes|values|\n",
    "|------|---------|-----------------|-----------------|------|\n",
    "||PunctuatinonTypeRewriter|partofspeech, root|punctuation_type|```None```, 'Fst', 'Com', 'Col', ... |\n",
    "||MorphToSyntaxMorphRewriter|partofspeech, form|partofspeech, form||\n",
    "|PronounTypeTagger|PronounTypeRewriter|root, ending, clitic, partofspeech|pronoun_type| ```None```, ('det',), ('pers ps3',), ('pos', 'det', 'refl'), ... |\n",
    "||RemoveDuplicateAnalysesRewriter|root, ending, clitic, partofspeech, form|||\n",
    "||RemoveAdpositionAnalysesRewriter|partofspeech, form|||\n",
    "||LetterCaseRewriter|word_text|cap|```None```, 'cap'|\n",
    "|FiniteFormTagger|MorphToSyntaxMorphRewriter, FiniteFormRewriter|partofspeech, form|fin|```None```, ```True```, ```False```|\n",
    "|VerbExtensionSuffixTagger|VerbExtensionSuffixRewriter|root|verb_extension_suffix|```None```,'tud','nud','mine','nu','tu','v','tav','mata','ja'|\n",
    "|SubcatTagger|MorphToSyntaxMorphRewriter, SubcatRewriter|root, partofspeech, form|subcat|```None```, 'Intr', 'Part', 'gen', ...|\n",
    "|MorphExtendedTagger|PunctuatinonTypeRewriter, MorphToSyntaxMorphRewriter, PronounTypeRewriter, RemoveDuplicateAnalysesRewriter, RemoveAdpositionAnalysesRewriter, LetterCaseRewriter, FiniteFormRewriter, VerbExtensionSuffixRewriter, SubcatRewriter|root, ending, clitic, partofspeech, form|partofspeech, form, punctuation_type, pronoun_type, cap, fin, verb_extension_suffix, subcat ||"
   ]
  },
  {
   "cell_type": "code",
   "execution_count": 1,
   "metadata": {
    "collapsed": false
   },
   "outputs": [],
   "source": [
    "from estnltk import Text"
   ]
  },
  {
   "cell_type": "markdown",
   "metadata": {},
   "source": [
    "## PronounTypeTagger"
   ]
  },
  {
   "cell_type": "code",
   "execution_count": 2,
   "metadata": {
    "collapsed": false
   },
   "outputs": [
    {
     "data": {
      "text/plain": [
       "SL[SL[Span(Kumb, {'ending': '0', 'pronoun_type': ['rel'], 'root': 'kumb', 'partofspeech': 'P', 'lemma': 'kumb', 'root_tokens': ['kumb'], 'clitic': '', 'form': 'sg n'})],\n",
       "SL[Span(,, {'ending': '', 'pronoun_type': None, 'root': ',', 'partofspeech': 'Z', 'lemma': ',', 'root_tokens': [','], 'clitic': '', 'form': ''})],\n",
       "SL[Span(sina, {'ending': '0', 'pronoun_type': ['ps2'], 'root': 'sina', 'partofspeech': 'P', 'lemma': 'sina', 'root_tokens': ['sina'], 'clitic': '', 'form': 'sg n'})],\n",
       "SL[Span(või, {'ending': '0', 'pronoun_type': None, 'root': 'või', 'partofspeech': 'J', 'lemma': 'või', 'root_tokens': ['või'], 'clitic': '', 'form': ''})],\n",
       "SL[Span(mina, {'ending': '0', 'pronoun_type': None, 'root': 'mina', 'partofspeech': 'S', 'lemma': 'mina', 'root_tokens': ['mina'], 'clitic': '', 'form': 'sg n'})],\n",
       "SL[Span(?, {'ending': '', 'pronoun_type': None, 'root': '?', 'partofspeech': 'Z', 'lemma': '?', 'root_tokens': ['?'], 'clitic': '', 'form': ''})]]"
      ]
     },
     "execution_count": 2,
     "metadata": {},
     "output_type": "execute_result"
    }
   ],
   "source": [
    "from estnltk.taggers import PronounTypeTagger\n",
    "\n",
    "tagger = PronounTypeTagger()\n",
    "text = Text('Kumb, sina või mina?').tag_layer()\n",
    "tagger.tag(text)\n",
    "text.pronoun_type"
   ]
  },
  {
   "cell_type": "markdown",
   "metadata": {},
   "source": [
    "## FiniteFormTagger"
   ]
  },
  {
   "cell_type": "code",
   "execution_count": 3,
   "metadata": {
    "collapsed": false
   },
   "outputs": [
    {
     "data": {
      "text/plain": [
       "SL[SL[Span(laulma, {'fin': False, 'ending': 'ma', 'root': 'laul', 'partofspeech': 'V', 'lemma': 'laulma', 'root_tokens': ['laul'], 'clitic': '', 'form': 'mod sup ps ill'}),\n",
       "Span(laulma, {'fin': False, 'ending': 'ma', 'root': 'laul', 'partofspeech': 'V', 'lemma': 'laulma', 'root_tokens': ['laul'], 'clitic': '', 'form': 'aux sup ps ill'}),\n",
       "Span(laulma, {'fin': False, 'ending': 'ma', 'root': 'laul', 'partofspeech': 'V', 'lemma': 'laulma', 'root_tokens': ['laul'], 'clitic': '', 'form': 'main sup ps ill'})],\n",
       "SL[Span(hüpelnud, {'fin': True, 'ending': 'nud', 'root': 'hüple', 'partofspeech': 'V', 'lemma': 'hüplema', 'root_tokens': ['hüple'], 'clitic': '', 'form': 'mod indic impf ps neg'}),\n",
       "Span(hüpelnud, {'fin': False, 'ending': 'nud', 'root': 'hüple', 'partofspeech': 'V', 'lemma': 'hüplema', 'root_tokens': ['hüple'], 'clitic': '', 'form': 'mod partic past ps'}),\n",
       "Span(hüpelnud, {'fin': True, 'ending': 'nud', 'root': 'hüple', 'partofspeech': 'V', 'lemma': 'hüplema', 'root_tokens': ['hüple'], 'clitic': '', 'form': 'aux indic impf ps neg'}),\n",
       "Span(hüpelnud, {'fin': False, 'ending': 'nud', 'root': 'hüple', 'partofspeech': 'V', 'lemma': 'hüplema', 'root_tokens': ['hüple'], 'clitic': '', 'form': 'aux partic past ps'}),\n",
       "Span(hüpelnud, {'fin': True, 'ending': 'nud', 'root': 'hüple', 'partofspeech': 'V', 'lemma': 'hüplema', 'root_tokens': ['hüple'], 'clitic': '', 'form': 'main indic impf ps neg'}),\n",
       "Span(hüpelnud, {'fin': False, 'ending': 'nud', 'root': 'hüple', 'partofspeech': 'V', 'lemma': 'hüplema', 'root_tokens': ['hüple'], 'clitic': '', 'form': 'main partic past ps'}),\n",
       "Span(hüpelnud, {'fin': None, 'ending': '0', 'root': 'hüpel=nud', 'partofspeech': 'A', 'lemma': 'hüpelnud', 'root_tokens': ['hüpelnud'], 'clitic': '', 'form': 'pos'}),\n",
       "Span(hüpelnud, {'fin': None, 'ending': '0', 'root': 'hüpel=nud', 'partofspeech': 'A', 'lemma': 'hüpelnud', 'root_tokens': ['hüpelnud'], 'clitic': '', 'form': 'pos sg nom'}),\n",
       "Span(hüpelnud, {'fin': None, 'ending': 'd', 'root': 'hüpel=nud', 'partofspeech': 'A', 'lemma': 'hüpelnud', 'root_tokens': ['hüpelnud'], 'clitic': '', 'form': 'pos pl nom'})],\n",
       "SL[Span(tantsija, {'fin': None, 'ending': '0', 'root': 'tantsija', 'partofspeech': 'S', 'lemma': 'tantsija', 'root_tokens': ['tantsija'], 'clitic': '', 'form': 'com sg nom'})]]"
      ]
     },
     "execution_count": 3,
     "metadata": {},
     "output_type": "execute_result"
    }
   ],
   "source": [
    "from estnltk.taggers import FiniteFormTagger\n",
    "\n",
    "fsToSyntFulesFile = '../estnltk/rewriting/syntax_preprocessing/rules_files/tmorftrtabel.txt'\n",
    "\n",
    "tagger = FiniteFormTagger(fs_to_synt_rules_file=fsToSyntFulesFile)\n",
    "text = Text('laulma hüpelnud tantsija').tag_layer()\n",
    "tagger.tag(text)\n",
    "text.finite_form"
   ]
  },
  {
   "cell_type": "markdown",
   "metadata": {},
   "source": [
    "## VerbExtensionSuffixTagger"
   ]
  },
  {
   "cell_type": "code",
   "execution_count": 4,
   "metadata": {
    "collapsed": false,
    "scrolled": true
   },
   "outputs": [
    {
     "data": {
      "text/plain": [
       "SL[SL[Span(Laulev, {'ending': '0', 'root': 'laulev', 'verb_extension_suffix': [], 'partofspeech': 'A', 'lemma': 'laulev', 'root_tokens': ['laulev'], 'clitic': '', 'form': 'sg n'})],\n",
       "SL[Span(hüpelnud, {'ending': 'nud', 'root': 'hüple', 'verb_extension_suffix': [], 'partofspeech': 'V', 'lemma': 'hüplema', 'root_tokens': ['hüple'], 'clitic': '', 'form': 'nud'}),\n",
       "Span(hüpelnud, {'ending': '0', 'root': 'hüpel=nud', 'verb_extension_suffix': ['nud'], 'partofspeech': 'A', 'lemma': 'hüpelnud', 'root_tokens': ['hüpelnud'], 'clitic': '', 'form': ''}),\n",
       "Span(hüpelnud, {'ending': '0', 'root': 'hüpel=nud', 'verb_extension_suffix': ['nud'], 'partofspeech': 'A', 'lemma': 'hüpelnud', 'root_tokens': ['hüpelnud'], 'clitic': '', 'form': 'sg n'}),\n",
       "Span(hüpelnud, {'ending': 'd', 'root': 'hüpel=nud', 'verb_extension_suffix': ['nud'], 'partofspeech': 'A', 'lemma': 'hüpelnud', 'root_tokens': ['hüpelnud'], 'clitic': '', 'form': 'pl n'})],\n",
       "SL[Span(tantsija, {'ending': '0', 'root': 'tantsija', 'verb_extension_suffix': [], 'partofspeech': 'S', 'lemma': 'tantsija', 'root_tokens': ['tantsija'], 'clitic': '', 'form': 'sg n'})]]"
      ]
     },
     "execution_count": 4,
     "metadata": {},
     "output_type": "execute_result"
    }
   ],
   "source": [
    "from estnltk.taggers import VerbExtensionSuffixTagger\n",
    "\n",
    "tagger = VerbExtensionSuffixTagger()\n",
    "text = Text('Laulev hüpelnud tantsija').tag_layer()\n",
    "tagger.tag(text)\n",
    "text.verb_extension_suffix"
   ]
  },
  {
   "cell_type": "markdown",
   "metadata": {},
   "source": [
    "## SubcatTagger"
   ]
  },
  {
   "cell_type": "code",
   "execution_count": 5,
   "metadata": {
    "collapsed": false
   },
   "outputs": [
    {
     "data": {
      "text/plain": [
       "SL[SL[Span(Järel, {'subcat': ['gen'], 'ending': '0', 'root': 'järel', 'partofspeech': 'K', 'lemma': 'järel', 'root_tokens': ['järel'], 'clitic': '', 'form': 'post'}),\n",
       "Span(Järel, {'subcat': None, 'ending': '0', 'root': 'järel', 'partofspeech': 'K', 'lemma': 'järel', 'root_tokens': ['järel'], 'clitic': '', 'form': 'pre'})],\n",
       "SL[Span(juurduma, {'subcat': ['Intr'], 'ending': 'ma', 'root': 'juurdu', 'partofspeech': 'V', 'lemma': 'juurduma', 'root_tokens': ['juurdu'], 'clitic': '', 'form': 'mod sup ps ill'}),\n",
       "Span(juurduma, {'subcat': ['Intr'], 'ending': 'ma', 'root': 'juurdu', 'partofspeech': 'V', 'lemma': 'juurduma', 'root_tokens': ['juurdu'], 'clitic': '', 'form': 'aux sup ps ill'}),\n",
       "Span(juurduma, {'subcat': ['Intr'], 'ending': 'ma', 'root': 'juurdu', 'partofspeech': 'V', 'lemma': 'juurduma', 'root_tokens': ['juurdu'], 'clitic': '', 'form': 'main sup ps ill'})]]"
      ]
     },
     "execution_count": 5,
     "metadata": {},
     "output_type": "execute_result"
    }
   ],
   "source": [
    "from estnltk.taggers import SubcatTagger\n",
    "\n",
    "fsToSyntFulesFile = '../estnltk/rewriting/syntax_preprocessing/rules_files/tmorftrtabel.txt'\n",
    "subcatFile = '../estnltk/rewriting/syntax_preprocessing/rules_files/abileksikon06utf.lx'\n",
    "\n",
    "tagger = SubcatTagger(fs_to_synt_rules_file=fsToSyntFulesFile, \n",
    "                      subcat_rules_file=subcatFile)\n",
    "text = Text('Järel juurduma').tag_layer()\n",
    "tagger.tag(text)\n",
    "text.subcat"
   ]
  },
  {
   "cell_type": "markdown",
   "metadata": {},
   "source": [
    "## MorphExtendedTagger"
   ]
  },
  {
   "cell_type": "code",
   "execution_count": 6,
   "metadata": {
    "collapsed": false
   },
   "outputs": [
    {
     "data": {
      "text/plain": [
       "SL[SL[Span(Ta, {'subcat': None, 'ending': '0', 'pronoun_type': ['ps3'], 'root': 'tema', 'clitic': '', 'lemma': 'tema', 'punctuation_type': None, 'fin': None, 'letter_case': 'cap', 'verb_extension_suffix': [], 'partofspeech': 'P', 'word_text': 'Ta', 'form': 'sg nom'})],\n",
       "SL[Span(on, {'subcat': ['Intr'], 'ending': '0', 'pronoun_type': None, 'root': 'ole', 'clitic': '', 'lemma': 'olema', 'punctuation_type': None, 'fin': True, 'letter_case': None, 'verb_extension_suffix': [], 'partofspeech': 'V', 'word_text': 'on', 'form': 'mod indic pres ps3 sg ps af'}),\n",
       "Span(on, {'subcat': ['Intr'], 'ending': '0', 'pronoun_type': None, 'root': 'ole', 'clitic': '', 'lemma': 'olema', 'punctuation_type': None, 'fin': True, 'letter_case': None, 'verb_extension_suffix': [], 'partofspeech': 'V', 'word_text': 'on', 'form': 'aux indic pres ps3 sg ps af'}),\n",
       "Span(on, {'subcat': ['Intr'], 'ending': '0', 'pronoun_type': None, 'root': 'ole', 'clitic': '', 'lemma': 'olema', 'punctuation_type': None, 'fin': True, 'letter_case': None, 'verb_extension_suffix': [], 'partofspeech': 'V', 'word_text': 'on', 'form': 'main indic pres ps3 sg ps af'}),\n",
       "Span(on, {'subcat': ['Intr'], 'ending': '0', 'pronoun_type': None, 'root': 'ole', 'clitic': '', 'lemma': 'olema', 'punctuation_type': None, 'fin': True, 'letter_case': None, 'verb_extension_suffix': [], 'partofspeech': 'V', 'word_text': 'on', 'form': 'mod indic pres ps3 pl ps af'}),\n",
       "Span(on, {'subcat': ['Intr'], 'ending': '0', 'pronoun_type': None, 'root': 'ole', 'clitic': '', 'lemma': 'olema', 'punctuation_type': None, 'fin': True, 'letter_case': None, 'verb_extension_suffix': [], 'partofspeech': 'V', 'word_text': 'on', 'form': 'aux indic pres ps3 pl ps af'}),\n",
       "Span(on, {'subcat': ['Intr'], 'ending': '0', 'pronoun_type': None, 'root': 'ole', 'clitic': '', 'lemma': 'olema', 'punctuation_type': None, 'fin': True, 'letter_case': None, 'verb_extension_suffix': [], 'partofspeech': 'V', 'word_text': 'on', 'form': 'main indic pres ps3 pl ps af'})],\n",
       "SL[Span(rääkinud, {'subcat': ['Part-P', 'El'], 'ending': 'nud', 'pronoun_type': None, 'root': 'rääki', 'clitic': '', 'lemma': 'rääkima', 'punctuation_type': None, 'fin': True, 'letter_case': None, 'verb_extension_suffix': [], 'partofspeech': 'V', 'word_text': 'rääkinud', 'form': 'mod indic impf ps neg'}),\n",
       "Span(rääkinud, {'subcat': ['Part-P', 'El'], 'ending': 'nud', 'pronoun_type': None, 'root': 'rääki', 'clitic': '', 'lemma': 'rääkima', 'punctuation_type': None, 'fin': False, 'letter_case': None, 'verb_extension_suffix': [], 'partofspeech': 'V', 'word_text': 'rääkinud', 'form': 'mod partic past ps'}),\n",
       "Span(rääkinud, {'subcat': ['Part-P', 'El'], 'ending': 'nud', 'pronoun_type': None, 'root': 'rääki', 'clitic': '', 'lemma': 'rääkima', 'punctuation_type': None, 'fin': True, 'letter_case': None, 'verb_extension_suffix': [], 'partofspeech': 'V', 'word_text': 'rääkinud', 'form': 'aux indic impf ps neg'}),\n",
       "Span(rääkinud, {'subcat': ['Part-P', 'El'], 'ending': 'nud', 'pronoun_type': None, 'root': 'rääki', 'clitic': '', 'lemma': 'rääkima', 'punctuation_type': None, 'fin': False, 'letter_case': None, 'verb_extension_suffix': [], 'partofspeech': 'V', 'word_text': 'rääkinud', 'form': 'aux partic past ps'}),\n",
       "Span(rääkinud, {'subcat': ['Part-P', 'El'], 'ending': 'nud', 'pronoun_type': None, 'root': 'rääki', 'clitic': '', 'lemma': 'rääkima', 'punctuation_type': None, 'fin': True, 'letter_case': None, 'verb_extension_suffix': [], 'partofspeech': 'V', 'word_text': 'rääkinud', 'form': 'main indic impf ps neg'}),\n",
       "Span(rääkinud, {'subcat': ['Part-P', 'El'], 'ending': 'nud', 'pronoun_type': None, 'root': 'rääki', 'clitic': '', 'lemma': 'rääkima', 'punctuation_type': None, 'fin': False, 'letter_case': None, 'verb_extension_suffix': [], 'partofspeech': 'V', 'word_text': 'rääkinud', 'form': 'main partic past ps'}),\n",
       "Span(rääkinud, {'subcat': None, 'ending': '0', 'pronoun_type': None, 'root': 'rääki=nud', 'clitic': '', 'lemma': 'rääkinud', 'punctuation_type': None, 'fin': None, 'letter_case': None, 'verb_extension_suffix': ['nud'], 'partofspeech': 'A', 'word_text': 'rääkinud', 'form': 'pos'}),\n",
       "Span(rääkinud, {'subcat': None, 'ending': '0', 'pronoun_type': None, 'root': 'rääki=nud', 'clitic': '', 'lemma': 'rääkinud', 'punctuation_type': None, 'fin': None, 'letter_case': None, 'verb_extension_suffix': ['nud'], 'partofspeech': 'A', 'word_text': 'rääkinud', 'form': 'pos sg nom'}),\n",
       "Span(rääkinud, {'subcat': None, 'ending': 'd', 'pronoun_type': None, 'root': 'rääki=nud', 'clitic': '', 'lemma': 'rääkinud', 'punctuation_type': None, 'fin': None, 'letter_case': None, 'verb_extension_suffix': ['nud'], 'partofspeech': 'A', 'word_text': 'rääkinud', 'form': 'pos pl nom'})],\n",
       "SL[Span(!, {'subcat': None, 'ending': '', 'pronoun_type': None, 'root': '!', 'clitic': '', 'lemma': '!', 'punctuation_type': 'Exc', 'fin': None, 'letter_case': None, 'verb_extension_suffix': [], 'partofspeech': 'Z', 'word_text': '!', 'form': ''})]]"
      ]
     },
     "execution_count": 6,
     "metadata": {},
     "output_type": "execute_result"
    }
   ],
   "source": [
    "from estnltk.taggers import MorphExtendedTagger\n",
    "\n",
    "fsToSyntFulesFile = '../estnltk/rewriting/syntax_preprocessing/rules_files/tmorftrtabel.txt'\n",
    "subcat_file = '../estnltk/rewriting/syntax_preprocessing/rules_files/abileksikon06utf.lx'\n",
    "\n",
    "tagger = MorphExtendedTagger(fs_to_synt_rules_file=fsToSyntFulesFile, \n",
    "                             allow_to_remove_all=False, \n",
    "                             subcat_rules_file=subcat_file)\n",
    "text = Text('Ta on rääkinud!').tag_layer()\n",
    "tagger.tag(text)\n",
    "text.morph_extended"
   ]
  }
 ],
 "metadata": {
  "anaconda-cloud": {},
  "kernelspec": {
   "display_name": "Python [py35]",
   "language": "python",
   "name": "Python [py35]"
  },
  "language_info": {
   "codemirror_mode": {
    "name": "ipython",
    "version": 3
   },
   "file_extension": ".py",
   "mimetype": "text/x-python",
   "name": "python",
   "nbconvert_exporter": "python",
   "pygments_lexer": "ipython3",
   "version": "3.5.3"
  }
 },
 "nbformat": 4,
 "nbformat_minor": 1
}
