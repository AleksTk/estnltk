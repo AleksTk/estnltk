{
 "cells": [
  {
   "cell_type": "markdown",
   "metadata": {},
   "source": [
    "# Syntax preprocessing taggers and rewriters\n",
    "\n",
    "|tagger|rewriters|source attributes|target attributes|values|\n",
    "|------|---------|-----------------|-----------------|------|\n",
    "||PunctuatinonTypeRewriter|partofspeech, root|punctuation_type|```None```, 'Fst', 'Com', 'Col', ... |\n",
    "||MorphToSyntaxMorphRewriter|partofspeech, form|partofspeech, form||\n",
    "|PronounTypeTagger|PronounTypeRewriter|root, ending, clitic|pronoun_type| ```None```, ('det',), ('pers ps3',), ('pos', 'det', 'refl'), ... |\n",
    "||RemoveDuplicateAnalysesRewriter||||\n",
    "||LetterCaseRewriter|word_text|cap|```None```, 'cap'|\n",
    "|FiniteFormTagger|MorphToSyntaxMorphRewriter, FiniteFormRewriter|partofspeech, form|fin|```None```, 'fin'|\n",
    "|VerbExtensionSuffixTagger|VerbExtensionSuffixRewriter|root|verb_extension_suffix|```None```,'tud','nud','mine','nu','tu','v','tav','mata','ja'|\n",
    "|SubcatTagger|SubcatRewriter|root, partofspeech, form|subcat|```None```, 'Intr', 'Part', 'gen', ...|\n",
    "|MorphExtendedTagger|PunctuatinonTypeRewriter, MorphToSyntaxMorphRewriter, PronounTypeRewriter, FiniteFormRewriter, VerbExtensionSuffixRewriter, SubcatRewriter|root, ending, clitic, partofspeech, form|partofspeech, form, punctuation_type, pronoun_type, cap, fin, verb_extension_suffix, subcat ||"
   ]
  },
  {
   "cell_type": "code",
   "execution_count": 1,
   "metadata": {
    "collapsed": true
   },
   "outputs": [],
   "source": [
    "from estnltk.text import words_sentences"
   ]
  },
  {
   "cell_type": "markdown",
   "metadata": {},
   "source": [
    "## PronounTypeTagger"
   ]
  },
  {
   "cell_type": "code",
   "execution_count": 2,
   "metadata": {
    "collapsed": false
   },
   "outputs": [
    {
     "data": {
      "text/plain": [
       "SL[SL[Span(Kumb, {'partofspeech': 'P', 'form': 'sg n', 'lemma': 'kumb', 'root_tokens': ['kumb'], 'ending': '0', 'clitic': '', 'root': 'kumb', 'pronoun_type': ('rel',)})],\n",
       "SL[Span(,, {'partofspeech': 'Z', 'form': '', 'lemma': ',', 'root_tokens': [','], 'ending': '', 'clitic': '', 'root': ',', 'pronoun_type': None})],\n",
       "SL[Span(sina, {'partofspeech': 'P', 'form': 'sg n', 'lemma': 'sina', 'root_tokens': ['sina'], 'ending': '0', 'clitic': '', 'root': 'sina', 'pronoun_type': ('pers ps2',)})],\n",
       "SL[Span(või, {'partofspeech': 'J', 'form': '', 'lemma': 'või', 'root_tokens': ['või'], 'ending': '0', 'clitic': '', 'root': 'või', 'pronoun_type': None})],\n",
       "SL[Span(mina, {'partofspeech': 'S', 'form': 'sg n', 'lemma': 'mina', 'root_tokens': ['mina'], 'ending': '0', 'clitic': '', 'root': 'mina', 'pronoun_type': None})],\n",
       "SL[Span(?, {'partofspeech': 'Z', 'form': '', 'lemma': '?', 'root_tokens': ['?'], 'ending': '', 'clitic': '', 'root': '?', 'pronoun_type': None})]]"
      ]
     },
     "execution_count": 2,
     "metadata": {},
     "output_type": "execute_result"
    }
   ],
   "source": [
    "from estnltk.taggers import PronounTypeTagger\n",
    "\n",
    "tagger = PronounTypeTagger()\n",
    "text = words_sentences('Kumb, sina või mina?')\n",
    "tagger.tag(text)\n",
    "text.morph_extended"
   ]
  },
  {
   "cell_type": "markdown",
   "metadata": {},
   "source": [
    "## FiniteFormTagger"
   ]
  },
  {
   "cell_type": "code",
   "execution_count": 3,
   "metadata": {
    "collapsed": false
   },
   "outputs": [
    {
     "data": {
      "text/plain": [
       "SL[SL[Span(Hüppas, {'partofspeech': 'V', 'form': 'mod indic impf ps3 sg ps af', 'lemma': 'hüppama', 'fin': '<FinV>', 'root_tokens': ['hüppa'], 'ending': 's', 'clitic': '', 'root': 'hüppa'}),\n",
       "Span(Hüppas, {'partofspeech': 'V', 'form': 'aux indic impf ps3 sg ps af', 'lemma': 'hüppama', 'fin': '<FinV>', 'root_tokens': ['hüppa'], 'ending': 's', 'clitic': '', 'root': 'hüppa'}),\n",
       "Span(Hüppas, {'partofspeech': 'V', 'form': 'main indic impf ps3 sg ps af', 'lemma': 'hüppama', 'fin': '<FinV>', 'root_tokens': ['hüppa'], 'ending': 's', 'clitic': '', 'root': 'hüppa'})],\n",
       "SL[Span(,, {'partofspeech': 'Z', 'form': '', 'lemma': ',', 'fin': None, 'root_tokens': [','], 'ending': '', 'clitic': '', 'root': ','})],\n",
       "SL[Span(kargas, {'partofspeech': 'V', 'form': 'mod indic impf ps3 sg ps af', 'lemma': 'kargama', 'fin': '<FinV>', 'root_tokens': ['karga'], 'ending': 's', 'clitic': '', 'root': 'karga'}),\n",
       "Span(kargas, {'partofspeech': 'V', 'form': 'aux indic impf ps3 sg ps af', 'lemma': 'kargama', 'fin': '<FinV>', 'root_tokens': ['karga'], 'ending': 's', 'clitic': '', 'root': 'karga'}),\n",
       "Span(kargas, {'partofspeech': 'V', 'form': 'main indic impf ps3 sg ps af', 'lemma': 'kargama', 'fin': '<FinV>', 'root_tokens': ['karga'], 'ending': 's', 'clitic': '', 'root': 'karga'})],\n",
       "SL[Span(ja, {'partofspeech': 'J', 'form': 'sub crd', 'lemma': 'ja', 'fin': None, 'root_tokens': ['ja'], 'ending': '0', 'clitic': '', 'root': 'ja'})],\n",
       "SL[Span(lõi, {'partofspeech': 'V', 'form': 'mod indic impf ps3 sg ps af', 'lemma': 'looma', 'fin': '<FinV>', 'root_tokens': ['loo'], 'ending': 'i', 'clitic': '', 'root': 'loo'}),\n",
       "Span(lõi, {'partofspeech': 'V', 'form': 'aux indic impf ps3 sg ps af', 'lemma': 'looma', 'fin': '<FinV>', 'root_tokens': ['loo'], 'ending': 'i', 'clitic': '', 'root': 'loo'}),\n",
       "Span(lõi, {'partofspeech': 'V', 'form': 'main indic impf ps3 sg ps af', 'lemma': 'looma', 'fin': '<FinV>', 'root_tokens': ['loo'], 'ending': 'i', 'clitic': '', 'root': 'loo'}),\n",
       "Span(lõi, {'partofspeech': 'V', 'form': 'mod indic impf ps3 sg ps af', 'lemma': 'lööma', 'fin': '<FinV>', 'root_tokens': ['löö'], 'ending': 'i', 'clitic': '', 'root': 'löö'}),\n",
       "Span(lõi, {'partofspeech': 'V', 'form': 'aux indic impf ps3 sg ps af', 'lemma': 'lööma', 'fin': '<FinV>', 'root_tokens': ['löö'], 'ending': 'i', 'clitic': '', 'root': 'löö'}),\n",
       "Span(lõi, {'partofspeech': 'V', 'form': 'main indic impf ps3 sg ps af', 'lemma': 'lööma', 'fin': '<FinV>', 'root_tokens': ['löö'], 'ending': 'i', 'clitic': '', 'root': 'löö'})],\n",
       "SL[Span(trummi, {'partofspeech': 'S', 'form': 'com sg gen', 'lemma': 'trumm', 'fin': None, 'root_tokens': ['trumm'], 'ending': '0', 'clitic': '', 'root': 'trumm'})],\n",
       "SL[Span(., {'partofspeech': 'Z', 'form': '', 'lemma': '.', 'fin': None, 'root_tokens': ['.'], 'ending': '', 'clitic': '', 'root': '.'})]]"
      ]
     },
     "execution_count": 3,
     "metadata": {},
     "output_type": "execute_result"
    }
   ],
   "source": [
    "from estnltk.taggers import FiniteFormTagger\n",
    "\n",
    "fsToSyntFulesFile = '../estnltk/rewriting/syntax_preprocessing/files/tmorftrtabel.txt'\n",
    "\n",
    "tagger = FiniteFormTagger(fs_to_synt_rules_file=fsToSyntFulesFile)\n",
    "text = words_sentences('Hüppas, kargas ja lõi trummi.')\n",
    "tagger.tag(text)\n",
    "text.morph_extended"
   ]
  },
  {
   "cell_type": "markdown",
   "metadata": {},
   "source": [
    "## VerbExtensionSuffixTagger"
   ]
  },
  {
   "cell_type": "code",
   "execution_count": 4,
   "metadata": {
    "collapsed": false
   },
   "outputs": [
    {
     "data": {
      "text/plain": [
       "SL[SL[Span(Laulev, {'verb_extension_suffix': None, 'partofspeech': 'A', 'form': 'sg n', 'lemma': 'laulev', 'root_tokens': ['laulev'], 'ending': '0', 'clitic': '', 'root': 'laulev'})],\n",
       "SL[Span(hüpelnud, {'verb_extension_suffix': None, 'partofspeech': 'V', 'form': 'nud', 'lemma': 'hüplema', 'root_tokens': ['hüple'], 'ending': 'nud', 'clitic': '', 'root': 'hüple'}),\n",
       "Span(hüpelnud, {'verb_extension_suffix': 'nud', 'partofspeech': 'A', 'form': '', 'lemma': 'hüpelnud', 'root_tokens': ['hüpelnud'], 'ending': '0', 'clitic': '', 'root': 'hüpel=nud'}),\n",
       "Span(hüpelnud, {'verb_extension_suffix': 'nud', 'partofspeech': 'A', 'form': 'sg n', 'lemma': 'hüpelnud', 'root_tokens': ['hüpelnud'], 'ending': '0', 'clitic': '', 'root': 'hüpel=nud'}),\n",
       "Span(hüpelnud, {'verb_extension_suffix': 'nud', 'partofspeech': 'A', 'form': 'pl n', 'lemma': 'hüpelnud', 'root_tokens': ['hüpelnud'], 'ending': 'd', 'clitic': '', 'root': 'hüpel=nud'})],\n",
       "SL[Span(tantsija, {'verb_extension_suffix': None, 'partofspeech': 'S', 'form': 'sg n', 'lemma': 'tantsija', 'root_tokens': ['tantsija'], 'ending': '0', 'clitic': '', 'root': 'tantsija'})]]"
      ]
     },
     "execution_count": 4,
     "metadata": {},
     "output_type": "execute_result"
    }
   ],
   "source": [
    "from estnltk.taggers import VerbExtensionSuffixTagger\n",
    "\n",
    "tagger = VerbExtensionSuffixTagger()\n",
    "text = words_sentences('Laulev hüpelnud tantsija')\n",
    "tagger.tag(text)\n",
    "text.morph_extended"
   ]
  },
  {
   "cell_type": "markdown",
   "metadata": {},
   "source": [
    "## MorphExtendedTagger"
   ]
  },
  {
   "cell_type": "code",
   "execution_count": 5,
   "metadata": {
    "collapsed": false
   },
   "outputs": [
    {
     "name": "stdout",
     "output_type": "stream",
     "text": [
      "zmpdcfps"
     ]
    },
    {
     "data": {
      "text/plain": [
       "SL[SL[Span(Täna, {'word_text': 'Täna', 'partofspeech': 'D', 'verb_extension_suffix': None, 'subcat': None, 'letter_case': 'cap', 'ending': '0', 'root': 'täna', 'pronoun_type': None, 'punctuation_type': None, 'clitic': '', 'form': '', 'fin': None})],\n",
       "SL[Span(on, {'word_text': 'on', 'partofspeech': 'V', 'verb_extension_suffix': None, 'subcat': ['Intr'], 'letter_case': None, 'ending': '0', 'root': 'ole', 'pronoun_type': None, 'punctuation_type': None, 'clitic': '', 'form': 'mod indic pres ps3 sg ps af', 'fin': '<FinV>'}),\n",
       "Span(on, {'word_text': 'on', 'partofspeech': 'V', 'verb_extension_suffix': None, 'subcat': ['Intr'], 'letter_case': None, 'ending': '0', 'root': 'ole', 'pronoun_type': None, 'punctuation_type': None, 'clitic': '', 'form': 'aux indic pres ps3 sg ps af', 'fin': '<FinV>'}),\n",
       "Span(on, {'word_text': 'on', 'partofspeech': 'V', 'verb_extension_suffix': None, 'subcat': ['Intr'], 'letter_case': None, 'ending': '0', 'root': 'ole', 'pronoun_type': None, 'punctuation_type': None, 'clitic': '', 'form': 'main indic pres ps3 sg ps af', 'fin': '<FinV>'}),\n",
       "Span(on, {'word_text': 'on', 'partofspeech': 'V', 'verb_extension_suffix': None, 'subcat': ['Intr'], 'letter_case': None, 'ending': '0', 'root': 'ole', 'pronoun_type': None, 'punctuation_type': None, 'clitic': '', 'form': 'mod indic pres ps3 pl ps af', 'fin': '<FinV>'}),\n",
       "Span(on, {'word_text': 'on', 'partofspeech': 'V', 'verb_extension_suffix': None, 'subcat': ['Intr'], 'letter_case': None, 'ending': '0', 'root': 'ole', 'pronoun_type': None, 'punctuation_type': None, 'clitic': '', 'form': 'aux indic pres ps3 pl ps af', 'fin': '<FinV>'}),\n",
       "Span(on, {'word_text': 'on', 'partofspeech': 'V', 'verb_extension_suffix': None, 'subcat': ['Intr'], 'letter_case': None, 'ending': '0', 'root': 'ole', 'pronoun_type': None, 'punctuation_type': None, 'clitic': '', 'form': 'main indic pres ps3 pl ps af', 'fin': '<FinV>'})],\n",
       "SL[Span(15., {'word_text': '15.', 'partofspeech': 'N', 'verb_extension_suffix': None, 'subcat': None, 'letter_case': None, 'ending': '0', 'root': '15.', 'pronoun_type': None, 'punctuation_type': None, 'clitic': '', 'form': 'ord #? roman', 'fin': None}),\n",
       "Span(15., {'word_text': '15.', 'partofspeech': 'N', 'verb_extension_suffix': None, 'subcat': None, 'letter_case': None, 'ending': '0', 'root': '15.', 'pronoun_type': None, 'punctuation_type': None, 'clitic': '', 'form': 'ord #? digit', 'fin': None})],\n",
       "SL[Span(detsember, {'word_text': 'detsember', 'partofspeech': 'S', 'verb_extension_suffix': None, 'subcat': None, 'letter_case': None, 'ending': '0', 'root': 'detsember', 'pronoun_type': None, 'punctuation_type': None, 'clitic': '', 'form': 'com sg nom', 'fin': None})],\n",
       "SL[Span(., {'word_text': '.', 'partofspeech': 'Z', 'verb_extension_suffix': None, 'subcat': None, 'letter_case': None, 'ending': '', 'root': '.', 'pronoun_type': None, 'punctuation_type': 'Fst', 'clitic': '', 'form': '', 'fin': None})]]"
      ]
     },
     "execution_count": 5,
     "metadata": {},
     "output_type": "execute_result"
    }
   ],
   "source": [
    "from estnltk.taggers import MorphExtendedTagger\n",
    "\n",
    "fsToSyntFulesFile = '../estnltk/rewriting/syntax_preprocessing/files/tmorftrtabel.txt'\n",
    "subcatFile = '../estnltk/rewriting/syntax_preprocessing/files/abileksikon06utf.lx'\n",
    "\n",
    "tagger = MorphExtendedTagger(fs_to_synt_rules_file=fsToSyntFulesFile, \n",
    "                             allow_to_remove_all=False, \n",
    "                             subcat_rules_file=subcatFile)\n",
    "text = words_sentences('Täna on 15. detsember.')\n",
    "\n",
    "tagger.tag(text)\n",
    "text.morph_extended"
   ]
  }
 ],
 "metadata": {
  "anaconda-cloud": {},
  "kernelspec": {
   "display_name": "Python [conda env:py35]",
   "language": "python",
   "name": "conda-env-py35-py"
  },
  "language_info": {
   "codemirror_mode": {
    "name": "ipython",
    "version": 3
   },
   "file_extension": ".py",
   "mimetype": "text/x-python",
   "name": "python",
   "nbconvert_exporter": "python",
   "pygments_lexer": "ipython3",
   "version": "3.5.2"
  }
 },
 "nbformat": 4,
 "nbformat_minor": 1
}
