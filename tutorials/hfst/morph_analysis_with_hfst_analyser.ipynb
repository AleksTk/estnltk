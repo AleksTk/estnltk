{
 "cells": [
  {
   "cell_type": "markdown",
   "metadata": {},
   "source": [
    "# <span style=\"color:purple\">Morphological analysis with HFST analyser</span>\n",
    "\n",
    "In addition to [Vabamorf](https://github.com/Filosoft/vabamorf/)'s morphological analysis (`VabamorfTagger`), EstNLTK also has an alternative morphological analysis model, which is based on [HFST](https://github.com/hfst/hfst) (_Helsinki Finite-State Technology_).\n",
    "Currently, the HFST-based model is still under development, and it is not so complete and throughly-tested as Vabamorf's one. \n",
    "Still, it can be a viable alternative to Vabamorf's analyser, especially from the perspective of analysing compound words."
   ]
  },
  {
   "cell_type": "markdown",
   "metadata": {},
   "source": [
    "##### Technical notes\n",
    "\n",
    "Before using HFST-based analyser, you need to install Python's package [hfst](https://pypi.org/project/hfst/).\n",
    "You can install it via PyPI, as [the installation instructions recommend](https://pypi.org/project/hfst/#installation-via-pypi).  However, on Windows platform, only 32-bit binary wheels are currently available, so a 32-bit Python is required.\n",
    "If you are using an Anaconda environment with 64-bit Python on Windows, you need to create an environment with a 32-bit Python, and install _hfst_ into it (along with _estnltk_):\n",
    "\n",
    "      REM force using 32-bit Python in conda\n",
    "      set CONDA_FORCE_32BIT=1\n",
    "      \n",
    "      REM create a new environment that uses 32bit Python\n",
    "      conda create -n py3.5_32bit python=3.5.5\n",
    "\n",
    "      REM activate the environment and install hfst (and estnltk)\n",
    "      ...\n",
    "      \n",
    "**(!)** After you have successfully installed _hfst_ and intend to use HFST-based analyser in your code, you need to import _hfst_ before you import anything from _estnltk_:"
   ]
  },
  {
   "cell_type": "code",
   "execution_count": 1,
   "metadata": {},
   "outputs": [],
   "source": [
    "import hfst"
   ]
  },
  {
   "cell_type": "markdown",
   "metadata": {},
   "source": [
    "The reason: there is an import conflict between _hfst_ and _estnltk.vabamorf_ -- if you import _estnltk_ first, and then import _hfst_, then you will get a \"segmentation fault\" on using _estnltk.vabamorf_. \n",
    "The conflict is yet to be solved and until then, we suggest to use fixed import order to avoid problems.\n",
    "\n"
   ]
  },
  {
   "cell_type": "markdown",
   "metadata": {},
   "source": [
    "## Using HfstEstMorphAnalyser\n",
    "\n",
    "### Basic usage\n",
    "\n",
    "The main class is `HfstEstMorphAnalyser`. \n",
    "It uses `'words'` as the input layer, and tags the `'hfst_gt_morph_analysis'` layer on the `'words'` layer. \n",
    "Note that the output layer will be _ambiguous_, as morphological disambiguation is currently not available."
   ]
  },
  {
   "cell_type": "code",
   "execution_count": 2,
   "metadata": {},
   "outputs": [],
   "source": [
    "# import and initialize HfstEstMorphAnalyser\n",
    "from estnltk.taggers.morph_analysis.hfst.hfst_gt_morph_analyser import HfstEstMorphAnalyser\n",
    "hfst_analyser = HfstEstMorphAnalyser()"
   ]
  },
  {
   "cell_type": "code",
   "execution_count": 3,
   "metadata": {},
   "outputs": [
    {
     "data": {
      "text/html": [
       "<h4>Layer</h4>\n",
       "<table border=\"1\" class=\"dataframe\">\n",
       "  <thead>\n",
       "    <tr style=\"text-align: right;\">\n",
       "      <th>layer name</th>\n",
       "      <th>attributes</th>\n",
       "      <th>parent</th>\n",
       "      <th>enveloping</th>\n",
       "      <th>ambiguous</th>\n",
       "      <th>span count</th>\n",
       "    </tr>\n",
       "  </thead>\n",
       "  <tbody>\n",
       "    <tr>\n",
       "      <td>hfst_gt_morph_analysis</td>\n",
       "      <td>morphemes_lemmas, postags, forms, is_guessed, ...</td>\n",
       "      <td>words</td>\n",
       "      <td>None</td>\n",
       "      <td>True</td>\n",
       "      <td>5</td>\n",
       "    </tr>\n",
       "  </tbody>\n",
       "</table>\n",
       "<table border=\"1\" class=\"dataframe\">\n",
       "  <thead>\n",
       "    <tr style=\"text-align: right;\">\n",
       "      <th>text</th>\n",
       "      <th>morphemes_lemmas</th>\n",
       "      <th>postags</th>\n",
       "      <th>forms</th>\n",
       "      <th>is_guessed</th>\n",
       "      <th>has_clitic</th>\n",
       "      <th>usage</th>\n",
       "      <th>weight</th>\n",
       "    </tr>\n",
       "  </thead>\n",
       "  <tbody>\n",
       "    <tr>\n",
       "      <td>Mäesuusatamine</td>\n",
       "      <td>('mäesuusatamine',)</td>\n",
       "      <td>('N',)</td>\n",
       "      <td>('Sg+Nom',)</td>\n",
       "      <td>False</td>\n",
       "      <td>False</td>\n",
       "      <td>()</td>\n",
       "      <td>30.0</td>\n",
       "    </tr>\n",
       "    <tr>\n",
       "      <td></td>\n",
       "      <td>('mägi', 'suusatamine')</td>\n",
       "      <td>('N', 'N')</td>\n",
       "      <td>('Sg+Gen', 'Sg+Nom')</td>\n",
       "      <td>False</td>\n",
       "      <td>False</td>\n",
       "      <td>()</td>\n",
       "      <td>41.0</td>\n",
       "    </tr>\n",
       "    <tr>\n",
       "      <td></td>\n",
       "      <td>('mägi', 'suusatama', 'mine')</td>\n",
       "      <td>('N', 'V', 'N')</td>\n",
       "      <td>('Sg+Gen', 'Der', 'Sg+Nom')</td>\n",
       "      <td>False</td>\n",
       "      <td>False</td>\n",
       "      <td>()</td>\n",
       "      <td>51.0</td>\n",
       "    </tr>\n",
       "    <tr>\n",
       "      <td>on</td>\n",
       "      <td>('olema',)</td>\n",
       "      <td>('V',)</td>\n",
       "      <td>('Pers+Prs+Ind+Pl3+Aff',)</td>\n",
       "      <td>False</td>\n",
       "      <td>False</td>\n",
       "      <td>()</td>\n",
       "      <td>0.0</td>\n",
       "    </tr>\n",
       "    <tr>\n",
       "      <td></td>\n",
       "      <td>('olema',)</td>\n",
       "      <td>('V',)</td>\n",
       "      <td>('Pers+Prs+Ind+Sg3+Aff',)</td>\n",
       "      <td>False</td>\n",
       "      <td>False</td>\n",
       "      <td>()</td>\n",
       "      <td>0.0</td>\n",
       "    </tr>\n",
       "    <tr>\n",
       "      <td>üsna</td>\n",
       "      <td>('üsna',)</td>\n",
       "      <td>('Adv',)</td>\n",
       "      <td>('',)</td>\n",
       "      <td>False</td>\n",
       "      <td>False</td>\n",
       "      <td>()</td>\n",
       "      <td>0.0</td>\n",
       "    </tr>\n",
       "    <tr>\n",
       "      <td>lõbupakkuv</td>\n",
       "      <td>('lõbu', 'pakkuv')</td>\n",
       "      <td>('N', 'A')</td>\n",
       "      <td>('Sg+Par', 'Sg+Nom')</td>\n",
       "      <td>False</td>\n",
       "      <td>False</td>\n",
       "      <td>()</td>\n",
       "      <td>42.0</td>\n",
       "    </tr>\n",
       "    <tr>\n",
       "      <td></td>\n",
       "      <td>('lõbu', 'pakkuma', 'v')</td>\n",
       "      <td>('N', 'V', 'A')</td>\n",
       "      <td>('Sg+Par', 'Der', 'Sg+Nom')</td>\n",
       "      <td>False</td>\n",
       "      <td>False</td>\n",
       "      <td>()</td>\n",
       "      <td>52.0</td>\n",
       "    </tr>\n",
       "    <tr>\n",
       "      <td>.</td>\n",
       "      <td>('.',)</td>\n",
       "      <td>('CLB',)</td>\n",
       "      <td>('',)</td>\n",
       "      <td>False</td>\n",
       "      <td>False</td>\n",
       "      <td>()</td>\n",
       "      <td>0.0</td>\n",
       "    </tr>\n",
       "  </tbody>\n",
       "</table>"
      ],
      "text/plain": [
       "Layer(name=hfst_gt_morph_analysis, spans=SL[AS[Annotation(Mäesuusatamine, {'forms': ('Sg+Nom',), 'has_clitic': False, 'is_guessed': False, 'morphemes_lemmas': ('mäesuusatamine',), 'postags': ('N',), 'usage': (), 'weight': 30.0}), Annotation(Mäesuusatamine, {'forms': ('Sg+Gen', 'Sg+Nom'), 'has_clitic': False, 'is_guessed': False, 'morphemes_lemmas': ('mägi', 'suusatamine'), 'postags': ('N', 'N'), 'usage': (), 'weight': 41.0}), Annotation(Mäesuusatamine, {'forms': ('Sg+Gen', 'Der', 'Sg+Nom'), 'has_clitic': False, 'is_guessed': False, 'morphemes_lemmas': ('mägi', 'suusatama', 'mine'), 'postags': ('N', 'V', 'N'), 'usage': (), 'weight': 51.0})],\n",
       "AS[Annotation(on, {'forms': ('Pers+Prs+Ind+Pl3+Aff',), 'has_clitic': False, 'is_guessed': False, 'morphemes_lemmas': ('olema',), 'postags': ('V',), 'usage': (), 'weight': 0.0}), Annotation(on, {'forms': ('Pers+Prs+Ind+Sg3+Aff',), 'has_clitic': False, 'is_guessed': False, 'morphemes_lemmas': ('olema',), 'postags': ('V',), 'usage': (), 'weight': 0.0})],\n",
       "AS[Annotation(üsna, {'forms': ('',), 'has_clitic': False, 'is_guessed': False, 'morphemes_lemmas': ('üsna',), 'postags': ('Adv',), 'usage': (), 'weight': 0.0})],\n",
       "AS[Annotation(lõbupakkuv, {'forms': ('Sg+Par', 'Sg+Nom'), 'has_clitic': False, 'is_guessed': False, 'morphemes_lemmas': ('lõbu', 'pakkuv'), 'postags': ('N', 'A'), 'usage': (), 'weight': 42.0}), Annotation(lõbupakkuv, {'forms': ('Sg+Par', 'Der', 'Sg+Nom'), 'has_clitic': False, 'is_guessed': False, 'morphemes_lemmas': ('lõbu', 'pakkuma', 'v'), 'postags': ('N', 'V', 'A'), 'usage': (), 'weight': 52.0})],\n",
       "AS[Annotation(., {'forms': ('',), 'has_clitic': False, 'is_guessed': False, 'morphemes_lemmas': ('.',), 'postags': ('CLB',), 'usage': (), 'weight': 0.0})]])"
      ]
     },
     "execution_count": 3,
     "metadata": {},
     "output_type": "execute_result"
    }
   ],
   "source": [
    "# create input text\n",
    "from estnltk import Text\n",
    "text = Text('Mäesuusatamine on üsna lõbupakkuv.')\n",
    "\n",
    "# add prerequisite layer\n",
    "text.tag_layer(['words'])\n",
    "\n",
    "# Tag hfst morph analyses\n",
    "hfst_analyser.tag(text)\n",
    "\n",
    "# Examine results\n",
    "text['hfst_gt_morph_analysis']"
   ]
  },
  {
   "cell_type": "markdown",
   "metadata": {},
   "source": [
    "In the `'hfst_gt_morph_analysis'` layer, each analysis will have following attributes:\n",
    "\n",
    "\n",
    "   * **`morphemes_lemmas`** -- a tuple containing morphemes and/or lemmas that the word consists of. In transducer's output, there is no marked distinction between morphemes and lemmas, so the attribute name is also ambiguous. Linguistically, you can note that a part of a compound word can be normalised as a lemma: for instance, in `('mägi','suusatama','mine')`, `'mäe'` from the original word was normalised into lemma `'mägi'`, and `'suusata'` was normalized into the lemma `'suusatama'`. And a part of a compound word can also be a morpheme -- e.g., in `('mägi','suusatama','mine')`, `'mine'` is a morpheme (it does not stand out as a word or a lemma);\n",
    "\n",
    "\n",
    "   * **`postags`** -- a tuple containing part of speech tags corresponding to the word parts in `morphemes_lemmas`. The tuple always has the same size as `morphemes_lemmas`, and if a part of speech tag for some morpheme/lemma is missing, then the corresponding place is filled in with an empty string. The tagset used is a bit different from that of Vabamorf's and GT's, you can trace the tagset from the definitions in the file https://victorio.uit.no/langtech/trunk/experiment-langs/est/src/morphology/lexlang.xfscript;\n",
    "   \n",
    "   \n",
    "   * **`forms`** -- a tuple containing form categories corresponding to the word parts in `morphemes_lemmas`. The tuple always has the same size as `morphemes_lemmas`, and if form categories of a morpheme/lemma are missing or unknown, then the corresponding place is filled in with an empty string. Categories used are similar to GT's, but not exactly the same, you can trace the tagset from the definitions in the file https://victorio.uit.no/langtech/trunk/experiment-langs/est/src/morphology/lexlang.xfscript;\n",
    "\n",
    "\n",
    "   * **`is_guessed`** -- a boolean indicating whether some part of the word (some of the `morphemes_lemmas`) was guessed;\n",
    "   \n",
    "   \n",
    "   * **`has_clitic`** -- a boolean indicating whether the word ends with a clitic (_-ki_ or _-gi_);\n",
    "   \n",
    "\n",
    "   * **`usage`** -- a tuple containing remarks about word's usage. This is filled in usually in case of rare words or irregular inflections;\n",
    "   \n",
    "   \n",
    "   * **`weight`** -- weight of the analysis. Lower weight indicates higher likelyhood of an analysis, but please keep in mind that adjusting weights is still work in progress;\n",
    "   "
   ]
  },
  {
   "cell_type": "markdown",
   "metadata": {},
   "source": [
    "### Guessed and unknown words\n",
    "\n",
    "The boolean attribute `is_guessed` shows if the word was guessed by the analyser.\n",
    "However, if a word is unknown and the analyser was unable to guess it, all of attribute values of the analysis will be set to `None`, except the weight, which will be set to `inf`:"
   ]
  },
  {
   "cell_type": "code",
   "execution_count": 4,
   "metadata": {},
   "outputs": [
    {
     "data": {
      "text/html": [
       "<h4>Layer</h4>\n",
       "<table border=\"1\" class=\"dataframe\">\n",
       "  <thead>\n",
       "    <tr style=\"text-align: right;\">\n",
       "      <th>layer name</th>\n",
       "      <th>attributes</th>\n",
       "      <th>parent</th>\n",
       "      <th>enveloping</th>\n",
       "      <th>ambiguous</th>\n",
       "      <th>span count</th>\n",
       "    </tr>\n",
       "  </thead>\n",
       "  <tbody>\n",
       "    <tr>\n",
       "      <td>hfst_gt_morph_analysis</td>\n",
       "      <td>morphemes_lemmas, postags, forms, is_guessed, has_clitic, usage, weight</td>\n",
       "      <td>words</td>\n",
       "      <td>None</td>\n",
       "      <td>True</td>\n",
       "      <td>2</td>\n",
       "    </tr>\n",
       "  </tbody>\n",
       "</table>\n",
       "<table border=\"1\" class=\"dataframe\">\n",
       "  <thead>\n",
       "    <tr style=\"text-align: right;\">\n",
       "      <th>text</th>\n",
       "      <th>morphemes_lemmas</th>\n",
       "      <th>postags</th>\n",
       "      <th>forms</th>\n",
       "      <th>is_guessed</th>\n",
       "      <th>has_clitic</th>\n",
       "      <th>usage</th>\n",
       "      <th>weight</th>\n",
       "    </tr>\n",
       "  </thead>\n",
       "  <tbody>\n",
       "    <tr>\n",
       "      <td>Vannaema</td>\n",
       "      <td>('vanna', 'ema')</td>\n",
       "      <td>('', 'N')</td>\n",
       "      <td>('', 'Sg+Nom')</td>\n",
       "      <td>True</td>\n",
       "      <td>False</td>\n",
       "      <td>()</td>\n",
       "      <td>240.0</td>\n",
       "    </tr>\n",
       "    <tr>\n",
       "      <td></td>\n",
       "      <td>('vanna', 'ema')</td>\n",
       "      <td>('', 'N')</td>\n",
       "      <td>('', 'Sg+Gen')</td>\n",
       "      <td>True</td>\n",
       "      <td>False</td>\n",
       "      <td>()</td>\n",
       "      <td>241.0</td>\n",
       "    </tr>\n",
       "    <tr>\n",
       "      <td></td>\n",
       "      <td>('vanna', 'ema')</td>\n",
       "      <td>('', 'N')</td>\n",
       "      <td>('', 'Sg+Par')</td>\n",
       "      <td>True</td>\n",
       "      <td>False</td>\n",
       "      <td>()</td>\n",
       "      <td>242.0</td>\n",
       "    </tr>\n",
       "    <tr>\n",
       "      <td>BaabaJagaa</td>\n",
       "      <td>None</td>\n",
       "      <td>None</td>\n",
       "      <td>None</td>\n",
       "      <td>None</td>\n",
       "      <td>None</td>\n",
       "      <td>None</td>\n",
       "      <td>inf</td>\n",
       "    </tr>\n",
       "  </tbody>\n",
       "</table>"
      ],
      "text/plain": [
       "Layer(name=hfst_gt_morph_analysis, spans=SL[AS[Annotation(Vannaema, {'forms': ('', 'Sg+Nom'), 'has_clitic': False, 'is_guessed': True, 'morphemes_lemmas': ('vanna', 'ema'), 'postags': ('', 'N'), 'usage': (), 'weight': 240.0}), Annotation(Vannaema, {'forms': ('', 'Sg+Gen'), 'has_clitic': False, 'is_guessed': True, 'morphemes_lemmas': ('vanna', 'ema'), 'postags': ('', 'N'), 'usage': (), 'weight': 241.0}), Annotation(Vannaema, {'forms': ('', 'Sg+Par'), 'has_clitic': False, 'is_guessed': True, 'morphemes_lemmas': ('vanna', 'ema'), 'postags': ('', 'N'), 'usage': (), 'weight': 242.0})],\n",
       "AS[Annotation(BaabaJagaa, {'forms': None, 'has_clitic': None, 'is_guessed': None, 'morphemes_lemmas': None, 'postags': None, 'usage': None, 'weight': inf})]])"
      ]
     },
     "execution_count": 4,
     "metadata": {},
     "output_type": "execute_result"
    }
   ],
   "source": [
    "# create input text\n",
    "from estnltk import Text\n",
    "text = Text('Vannaema BaabaJagaa')\n",
    "\n",
    "# add prerequisite layer\n",
    "text.tag_layer(['words'])\n",
    "\n",
    "# Tag hfst morph analyses\n",
    "hfst_analyser.tag(text)\n",
    "\n",
    "# Examine results\n",
    "text['hfst_gt_morph_analysis']"
   ]
  },
  {
   "cell_type": "markdown",
   "metadata": {},
   "source": [
    "### Output raw analyses\n",
    "\n",
    "By default, `HfstEstMorphAnalyser` tries to extract morphemes/lemmas and their corresponding postags/forms from the output (the output format called `'morphemes_lemmas'`). \n",
    "If you want to get the original output of the HFST analyser (the output similar to that of the command line tool [hfst-lookup]( https://github.com/hfst/hfst/wiki/HfstLookUp)), then you need to change the output format to `'raw'`:"
   ]
  },
  {
   "cell_type": "code",
   "execution_count": 5,
   "metadata": {},
   "outputs": [],
   "source": [
    "# import and initialize a HfstEstMorphAnalyser that output's raw analyses\n",
    "from estnltk.taggers.morph_analysis.hfst.hfst_gt_morph_analyser import HfstEstMorphAnalyser\n",
    "hfst_analyser_raw = HfstEstMorphAnalyser(output_format='raw')"
   ]
  },
  {
   "cell_type": "code",
   "execution_count": 6,
   "metadata": {},
   "outputs": [
    {
     "data": {
      "text/html": [
       "<h4>Layer</h4>\n",
       "<table border=\"1\" class=\"dataframe\">\n",
       "  <thead>\n",
       "    <tr style=\"text-align: right;\">\n",
       "      <th>layer name</th>\n",
       "      <th>attributes</th>\n",
       "      <th>parent</th>\n",
       "      <th>enveloping</th>\n",
       "      <th>ambiguous</th>\n",
       "      <th>span count</th>\n",
       "    </tr>\n",
       "  </thead>\n",
       "  <tbody>\n",
       "    <tr>\n",
       "      <td>hfst_gt_morph_analysis</td>\n",
       "      <td>raw_analysis, weight</td>\n",
       "      <td>words</td>\n",
       "      <td>None</td>\n",
       "      <td>True</td>\n",
       "      <td>5</td>\n",
       "    </tr>\n",
       "  </tbody>\n",
       "</table>\n",
       "<table border=\"1\" class=\"dataframe\">\n",
       "  <thead>\n",
       "    <tr style=\"text-align: right;\">\n",
       "      <th>text</th>\n",
       "      <th>raw_analysis</th>\n",
       "      <th>weight</th>\n",
       "    </tr>\n",
       "  </thead>\n",
       "  <tbody>\n",
       "    <tr>\n",
       "      <td>Mäesuusatamine</td>\n",
       "      <td>mäesuusatamine+N+Sg+Nom</td>\n",
       "      <td>30.0</td>\n",
       "    </tr>\n",
       "    <tr>\n",
       "      <td></td>\n",
       "      <td>mägi+N+Sg+Gen#suusatamine+N+Sg+Nom</td>\n",
       "      <td>41.0</td>\n",
       "    </tr>\n",
       "    <tr>\n",
       "      <td></td>\n",
       "      <td>mägi+N+Sg+Gen#suusatama+V+Der/mine+N+Sg+Nom</td>\n",
       "      <td>51.0</td>\n",
       "    </tr>\n",
       "    <tr>\n",
       "      <td>on</td>\n",
       "      <td>olema+V+Pers+Prs+Ind+Pl3+Aff</td>\n",
       "      <td>0.0</td>\n",
       "    </tr>\n",
       "    <tr>\n",
       "      <td></td>\n",
       "      <td>olema+V+Pers+Prs+Ind+Sg3+Aff</td>\n",
       "      <td>0.0</td>\n",
       "    </tr>\n",
       "    <tr>\n",
       "      <td>üsna</td>\n",
       "      <td>üsna+Adv</td>\n",
       "      <td>0.0</td>\n",
       "    </tr>\n",
       "    <tr>\n",
       "      <td>lõbupakkuv</td>\n",
       "      <td>lõbu+N+Sg+Par#pakkuv+A+Sg+Nom</td>\n",
       "      <td>42.0</td>\n",
       "    </tr>\n",
       "    <tr>\n",
       "      <td></td>\n",
       "      <td>lõbu+N+Sg+Par#pakkuma+V+Der/v+A+Sg+Nom</td>\n",
       "      <td>52.0</td>\n",
       "    </tr>\n",
       "    <tr>\n",
       "      <td>.</td>\n",
       "      <td>.+CLB</td>\n",
       "      <td>0.0</td>\n",
       "    </tr>\n",
       "  </tbody>\n",
       "</table>"
      ],
      "text/plain": [
       "Layer(name=hfst_gt_morph_analysis, spans=SL[AS[Annotation(Mäesuusatamine, {'raw_analysis': 'mäesuusatamine+N+Sg+Nom', 'weight': 30.0}), Annotation(Mäesuusatamine, {'raw_analysis': 'mägi+N+Sg+Gen#suusatamine+N+Sg+Nom', 'weight': 41.0}), Annotation(Mäesuusatamine, {'raw_analysis': 'mägi+N+Sg+Gen#suusatama+V+Der/mine+N+Sg+Nom', 'weight': 51.0})],\n",
       "AS[Annotation(on, {'raw_analysis': 'olema+V+Pers+Prs+Ind+Pl3+Aff', 'weight': 0.0}), Annotation(on, {'raw_analysis': 'olema+V+Pers+Prs+Ind+Sg3+Aff', 'weight': 0.0})],\n",
       "AS[Annotation(üsna, {'raw_analysis': 'üsna+Adv', 'weight': 0.0})],\n",
       "AS[Annotation(lõbupakkuv, {'raw_analysis': 'lõbu+N+Sg+Par#pakkuv+A+Sg+Nom', 'weight': 42.0}), Annotation(lõbupakkuv, {'raw_analysis': 'lõbu+N+Sg+Par#pakkuma+V+Der/v+A+Sg+Nom', 'weight': 52.0})],\n",
       "AS[Annotation(., {'raw_analysis': '.+CLB', 'weight': 0.0})]])"
      ]
     },
     "execution_count": 6,
     "metadata": {},
     "output_type": "execute_result"
    }
   ],
   "source": [
    "# create input text\n",
    "from estnltk import Text\n",
    "text = Text('Mäesuusatamine on üsna lõbupakkuv.')\n",
    "\n",
    "# add prerequisite layer\n",
    "text.tag_layer(['words'])\n",
    "\n",
    "# Tag hfst morph analyses\n",
    "hfst_analyser_raw.tag(text)\n",
    "\n",
    "# Examine results\n",
    "text['hfst_gt_morph_analysis']"
   ]
  },
  {
   "cell_type": "markdown",
   "metadata": {},
   "source": [
    "In this output format, there are only two attributes: `raw_analysis` which encapsulates the morphological analysis of the word, and `weight` which encapsulates the weight of the corresponding analysis.\n",
    "In similar to `'morphemes_lemmas'` output format, in case of an unknown word, `raw_analysis` will be `None`, and `weight` will be `inf`."
   ]
  },
  {
   "cell_type": "markdown",
   "metadata": {},
   "source": [
    "### The lookup function\n",
    "\n",
    "There may be situations when you only need to look up analyses of a single word, without the need for analysing a full text.\n",
    "For this purpose, `HfstEstMorphAnalyser` provides function `lookup()`, which performs analysis of the input word and returns results as a list of dictionaries:"
   ]
  },
  {
   "cell_type": "code",
   "execution_count": 7,
   "metadata": {},
   "outputs": [
    {
     "data": {
      "text/plain": [
       "[{'forms': ('', 'Der', 'Sg+Nom'),\n",
       "  'has_clitic': False,\n",
       "  'is_guessed': False,\n",
       "  'morphemes_lemmas': ('üle', 'guugeldama', 'mine'),\n",
       "  'postags': ('Adv', 'V', 'N'),\n",
       "  'usage': (),\n",
       "  'weight': 50.0}]"
      ]
     },
     "execution_count": 7,
     "metadata": {},
     "output_type": "execute_result"
    }
   ],
   "source": [
    "hfst_analyser.lookup('üleguugeldamine')"
   ]
  },
  {
   "cell_type": "markdown",
   "metadata": {},
   "source": [
    "The format of the output depends on the `output_format` parameter used in the initialization of the `HfstEstMorphAnalyser`. So, with `hfst_analyser_raw`, we get:"
   ]
  },
  {
   "cell_type": "code",
   "execution_count": 8,
   "metadata": {},
   "outputs": [
    {
     "data": {
      "text/plain": [
       "[{'raw_analysis': 'üle+Adv#guugeldama+V+Der/mine+N+Sg+Nom', 'weight': 50.0}]"
      ]
     },
     "execution_count": 8,
     "metadata": {},
     "output_type": "execute_result"
    }
   ],
   "source": [
    "hfst_analyser_raw.lookup('üleguugeldamine')"
   ]
  },
  {
   "cell_type": "markdown",
   "metadata": {},
   "source": [
    "In case of an unknown word, the lookup function returns an empty list.\n",
    "\n",
    "You can only analyse _a single word_ with this function -- if you attempt to analyse sentences or texts, you will also get an empty list."
   ]
  },
  {
   "cell_type": "markdown",
   "metadata": {},
   "source": [
    "### Notes about the HFST model\n",
    "\n",
    "The HFST-based morphological analysis model currently used in EstNLTK is based on the source code that is available here: https://victorio.uit.no/langtech/trunk/experiment-langs/est/ (on the source revision 176161 from 2019-01-28). In order to create a new model, you need to download the source, compile the HFST models, and look for file `'src/analyser-gt-desc.hfstol'`. This is the file that can be given to `HfstEstMorphAnalyser` as the transducer model:\n",
    "\n",
    "    # Initialize HfstEstMorphAnalyser with a custom model:\n",
    "    from estnltk.taggers.morph_analysis.hfst.hfst_gt_morph_analyser import HfstEstMorphAnalyser\n",
    "    hfst_analyser_raw = HfstEstMorphAnalyser(transducer_file = 'analyser-gt-desc.hfstol')\n",
    "    \n"
   ]
  }
 ],
 "metadata": {
  "kernelspec": {
   "display_name": "Python 3",
   "language": "python",
   "name": "python3"
  },
  "language_info": {
   "codemirror_mode": {
    "name": "ipython",
    "version": 3
   },
   "file_extension": ".py",
   "mimetype": "text/x-python",
   "name": "python",
   "nbconvert_exporter": "python",
   "pygments_lexer": "ipython3",
   "version": "3.5.5"
  }
 },
 "nbformat": 4,
 "nbformat_minor": 2
}
