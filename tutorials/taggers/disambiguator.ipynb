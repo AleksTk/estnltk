{
 "cells": [
  {
   "cell_type": "markdown",
   "metadata": {},
   "source": [
    "# DisambiguatingTagger"
   ]
  },
  {
   "cell_type": "code",
   "execution_count": 1,
   "metadata": {
    "scrolled": false
   },
   "outputs": [],
   "source": [
    "from estnltk import Text, Layer, Span, EnvelopingSpan\n",
    "from estnltk.taggers import DisambiguatingTagger"
   ]
  },
  {
   "cell_type": "code",
   "execution_count": 2,
   "metadata": {},
   "outputs": [
    {
     "data": {
      "text/html": [
       "Layer(name=enveloping_ambiguous, spans=SL[AS[ES[AS[Span(Tere, {'attr_1': 1, 'attr_2': 2}),\n",
       "Span(Tere, {'attr_1': 3, 'attr_2': 4}),\n",
       "Span(Tere, {'attr_1': 5, 'attr_2': 6}),\n",
       "Span(Tere, {'attr_1': 11, 'attr_2': 12})],\n",
       "AS[Span(,, {'attr_1': 7, 'attr_2': 8}),\n",
       "Span(,, {'attr_1': 9, 'attr_2': 10})]],\n",
       "ES[AS[Span(Tere, {'attr_1': 1, 'attr_2': 2}),\n",
       "Span(Tere, {'attr_1': 3, 'attr_2': 4}),\n",
       "Span(Tere, {'attr_1': 5, 'attr_2': 6}),\n",
       "Span(Tere, {'attr_1': 11, 'attr_2': 12})],\n",
       "AS[Span(,, {'attr_1': 7, 'attr_2': 8}),\n",
       "Span(,, {'attr_1': 9, 'attr_2': 10})]]],\n",
       "AS[ES[AS[Span(maailm, {'attr_1': 13, 'attr_2': 14}),\n",
       "Span(maailm, {'attr_1': 15, 'attr_2': 16})],\n",
       "AS[Span(!, {'attr_1': 17, 'attr_2': 18})]]]])"
      ],
      "text/plain": [
       "Layer(name=enveloping_ambiguous, spans=SL[AS[ES[AS[Span(Tere, {'attr_1': 1, 'attr_2': 2}),\n",
       "Span(Tere, {'attr_1': 3, 'attr_2': 4}),\n",
       "Span(Tere, {'attr_1': 5, 'attr_2': 6}),\n",
       "Span(Tere, {'attr_1': 11, 'attr_2': 12})],\n",
       "AS[Span(,, {'attr_1': 7, 'attr_2': 8}),\n",
       "Span(,, {'attr_1': 9, 'attr_2': 10})]],\n",
       "ES[AS[Span(Tere, {'attr_1': 1, 'attr_2': 2}),\n",
       "Span(Tere, {'attr_1': 3, 'attr_2': 4}),\n",
       "Span(Tere, {'attr_1': 5, 'attr_2': 6}),\n",
       "Span(Tere, {'attr_1': 11, 'attr_2': 12})],\n",
       "AS[Span(,, {'attr_1': 7, 'attr_2': 8}),\n",
       "Span(,, {'attr_1': 9, 'attr_2': 10})]]],\n",
       "AS[ES[AS[Span(maailm, {'attr_1': 13, 'attr_2': 14}),\n",
       "Span(maailm, {'attr_1': 15, 'attr_2': 16})],\n",
       "AS[Span(!, {'attr_1': 17, 'attr_2': 18})]]]])"
      ]
     },
     "execution_count": 2,
     "metadata": {},
     "output_type": "execute_result"
    }
   ],
   "source": [
    "text = Text('Tere, maailm!')\n",
    "\n",
    "attributes = ['attr_1', 'attr_2']\n",
    "layer_1 = Layer(name='simple_ambiguous', attributes=attributes, ambiguous=True)\n",
    "layer_1.add_span(Span( 0,  4, legal_attributes=attributes, attr_1= 1, attr_2= 2))\n",
    "layer_1.add_span(Span( 0,  4, legal_attributes=attributes, attr_1= 3, attr_2= 4))\n",
    "layer_1.add_span(Span( 0,  4, legal_attributes=attributes, attr_1= 5, attr_2= 6))\n",
    "layer_1.add_span(Span( 4,  5, legal_attributes=attributes, attr_1= 7, attr_2= 8))\n",
    "layer_1.add_span(Span( 4,  5, legal_attributes=attributes, attr_1= 9, attr_2=10))\n",
    "layer_1.add_span(Span( 0,  4, legal_attributes=attributes, attr_1=11, attr_2=12))\n",
    "layer_1.add_span(Span( 6, 12, legal_attributes=attributes, attr_1=13, attr_2=14))\n",
    "layer_1.add_span(Span( 6, 12, legal_attributes=attributes, attr_1=15, attr_2=16))\n",
    "layer_1.add_span(Span(12, 13, legal_attributes=attributes, attr_1=17, attr_2=18))\n",
    "text['simple_ambiguous'] = layer_1\n",
    "\n",
    "layer_2 = Layer(name='enveloping_ambiguous',\n",
    "                attributes=attributes,\n",
    "                enveloping='simple_ambiguous',\n",
    "                ambiguous=True)\n",
    "layer_2.add_span(EnvelopingSpan(spans=text.simple_ambiguous[0:2]))\n",
    "layer_2.add_span(EnvelopingSpan(spans=text.simple_ambiguous[0:2]))\n",
    "layer_2.add_span(EnvelopingSpan(spans=text.simple_ambiguous[2:4]))\n",
    "text['enveloping_ambiguous'] = layer_2\n",
    "\n",
    "\n",
    "text#.simple_ambiguous\n",
    "text.enveloping_ambiguous"
   ]
  },
  {
   "cell_type": "code",
   "execution_count": 3,
   "metadata": {},
   "outputs": [
    {
     "data": {
      "text/html": [
       "<h4>Tagger</h4>\n",
       "Disambiguates ambiguous layer.\n",
       "<table border=\"1\" class=\"dataframe\">\n",
       "  <thead>\n",
       "    <tr style=\"text-align: right;\">\n",
       "      <th>name</th>\n",
       "      <th>output layer</th>\n",
       "      <th>output attributes</th>\n",
       "      <th>input layers</th>\n",
       "    </tr>\n",
       "  </thead>\n",
       "  <tbody>\n",
       "    <tr>\n",
       "      <td>DisambiguatingTagger</td>\n",
       "      <td>enveloping</td>\n",
       "      <td>['attr_1']</td>\n",
       "      <td>['enveloping_ambiguous']</td>\n",
       "    </tr>\n",
       "  </tbody>\n",
       "</table>\n",
       "<h4>Configuration</h4>\n",
       "<table border=\"1\" class=\"dataframe\">\n",
       "  <tbody>\n",
       "    <tr>\n",
       "      <th>decorator</th>\n",
       "      <td>&lt;function __main__.decorator&gt;</td>\n",
       "    </tr>\n",
       "  </tbody>\n",
       "</table>"
      ],
      "text/plain": [
       "DisambiguatingTagger(input_layers=['enveloping_ambiguous'], output_layer=enveloping, output_attributes=['attr_1'], decorator=<function __main__.decorator>)"
      ]
     },
     "execution_count": 3,
     "metadata": {},
     "output_type": "execute_result"
    }
   ],
   "source": [
    "def decorator(ambiguous_span, raw_text):\n",
    "    return {'attr_1': len(ambiguous_span)}\n",
    "\n",
    "tagger_2 = DisambiguatingTagger(output_layer='enveloping',\n",
    "                                input_layer='enveloping_ambiguous',\n",
    "                                output_attributes=['attr_1',],\n",
    "                                decorator=decorator\n",
    "                                )\n",
    "tagger_2"
   ]
  },
  {
   "cell_type": "code",
   "execution_count": 4,
   "metadata": {
    "scrolled": true
   },
   "outputs": [
    {
     "data": {
      "text/html": [
       "<h4>Layer</h4>\n",
       "<table border=\"1\" class=\"dataframe\">\n",
       "  <thead>\n",
       "    <tr style=\"text-align: right;\">\n",
       "      <th>layer name</th>\n",
       "      <th>attributes</th>\n",
       "      <th>parent</th>\n",
       "      <th>enveloping</th>\n",
       "      <th>ambiguous</th>\n",
       "      <th>span count</th>\n",
       "    </tr>\n",
       "  </thead>\n",
       "  <tbody>\n",
       "    <tr>\n",
       "      <td>enveloping</td>\n",
       "      <td>attr_1</td>\n",
       "      <td>None</td>\n",
       "      <td>simple_ambiguous</td>\n",
       "      <td>False</td>\n",
       "      <td>2</td>\n",
       "    </tr>\n",
       "  </tbody>\n",
       "</table>\n",
       "<table border=\"1\" class=\"dataframe\">\n",
       "  <thead>\n",
       "    <tr style=\"text-align: right;\">\n",
       "      <th>text</th>\n",
       "      <th>attr_1</th>\n",
       "    </tr>\n",
       "  </thead>\n",
       "  <tbody>\n",
       "    <tr>\n",
       "      <td><b>Tere</b><b>,</b></td>\n",
       "      <td>2</td>\n",
       "    </tr>\n",
       "    <tr>\n",
       "      <td><b>maailm</b><b>!</b></td>\n",
       "      <td>1</td>\n",
       "    </tr>\n",
       "  </tbody>\n",
       "</table>"
      ],
      "text/plain": [
       "Layer(name=enveloping, spans=SL[ES[AS[Span(Tere, {'attr_1': 1, 'attr_2': 2}),\n",
       "Span(Tere, {'attr_1': 3, 'attr_2': 4}),\n",
       "Span(Tere, {'attr_1': 5, 'attr_2': 6}),\n",
       "Span(Tere, {'attr_1': 11, 'attr_2': 12})],\n",
       "AS[Span(,, {'attr_1': 7, 'attr_2': 8}),\n",
       "Span(,, {'attr_1': 9, 'attr_2': 10})]],\n",
       "ES[AS[Span(maailm, {'attr_1': 13, 'attr_2': 14}),\n",
       "Span(maailm, {'attr_1': 15, 'attr_2': 16})],\n",
       "AS[Span(!, {'attr_1': 17, 'attr_2': 18})]]])"
      ]
     },
     "execution_count": 4,
     "metadata": {},
     "output_type": "execute_result"
    }
   ],
   "source": [
    "tagger_2.tag(text)\n",
    "text.enveloping"
   ]
  },
  {
   "cell_type": "code",
   "execution_count": 5,
   "metadata": {},
   "outputs": [
    {
     "data": {
      "text/html": [
       "<h4>Tagger</h4>\n",
       "Disambiguates ambiguous layer.\n",
       "<table border=\"1\" class=\"dataframe\">\n",
       "  <thead>\n",
       "    <tr style=\"text-align: right;\">\n",
       "      <th>name</th>\n",
       "      <th>output layer</th>\n",
       "      <th>output attributes</th>\n",
       "      <th>input layers</th>\n",
       "    </tr>\n",
       "  </thead>\n",
       "  <tbody>\n",
       "    <tr>\n",
       "      <td>DisambiguatingTagger</td>\n",
       "      <td>simple</td>\n",
       "      <td>['attr_1']</td>\n",
       "      <td>['simple_ambiguous']</td>\n",
       "    </tr>\n",
       "  </tbody>\n",
       "</table>\n",
       "<h4>Configuration</h4>\n",
       "<table border=\"1\" class=\"dataframe\">\n",
       "  <tbody>\n",
       "    <tr>\n",
       "      <th>decorator</th>\n",
       "      <td>&lt;function __main__.decorator&gt;</td>\n",
       "    </tr>\n",
       "  </tbody>\n",
       "</table>"
      ],
      "text/plain": [
       "DisambiguatingTagger(input_layers=['simple_ambiguous'], output_layer=simple, output_attributes=['attr_1'], decorator=<function __main__.decorator>)"
      ]
     },
     "execution_count": 5,
     "metadata": {},
     "output_type": "execute_result"
    }
   ],
   "source": [
    "def decorator(ambiguous_span, raw_text):\n",
    "    attr_1 = 0\n",
    "    for span in ambiguous_span:\n",
    "        attr_1 += span.attr_1\n",
    "    return {'attr_1': attr_1}\n",
    "\n",
    "tagger_1 = DisambiguatingTagger(output_layer='simple',\n",
    "                                input_layer='simple_ambiguous',\n",
    "                                output_attributes=['attr_1'],\n",
    "                                decorator=decorator)\n",
    "tagger_1"
   ]
  },
  {
   "cell_type": "code",
   "execution_count": 6,
   "metadata": {},
   "outputs": [
    {
     "data": {
      "text/html": [
       "<h4>Layer</h4>\n",
       "<table border=\"1\" class=\"dataframe\">\n",
       "  <thead>\n",
       "    <tr style=\"text-align: right;\">\n",
       "      <th>layer name</th>\n",
       "      <th>attributes</th>\n",
       "      <th>parent</th>\n",
       "      <th>enveloping</th>\n",
       "      <th>ambiguous</th>\n",
       "      <th>span count</th>\n",
       "    </tr>\n",
       "  </thead>\n",
       "  <tbody>\n",
       "    <tr>\n",
       "      <td>simple</td>\n",
       "      <td>attr_1</td>\n",
       "      <td>None</td>\n",
       "      <td>None</td>\n",
       "      <td>False</td>\n",
       "      <td>4</td>\n",
       "    </tr>\n",
       "  </tbody>\n",
       "</table>\n",
       "<table border=\"1\" class=\"dataframe\">\n",
       "  <thead>\n",
       "    <tr style=\"text-align: right;\">\n",
       "      <th>text</th>\n",
       "      <th>attr_1</th>\n",
       "    </tr>\n",
       "  </thead>\n",
       "  <tbody>\n",
       "    <tr>\n",
       "      <td>Tere</td>\n",
       "      <td>20</td>\n",
       "    </tr>\n",
       "    <tr>\n",
       "      <td>,</td>\n",
       "      <td>16</td>\n",
       "    </tr>\n",
       "    <tr>\n",
       "      <td>maailm</td>\n",
       "      <td>28</td>\n",
       "    </tr>\n",
       "    <tr>\n",
       "      <td>!</td>\n",
       "      <td>17</td>\n",
       "    </tr>\n",
       "  </tbody>\n",
       "</table>"
      ],
      "text/plain": [
       "Layer(name=simple, spans=SL[Span(Tere, {'attr_1': 20}),\n",
       "Span(,, {'attr_1': 16}),\n",
       "Span(maailm, {'attr_1': 28}),\n",
       "Span(!, {'attr_1': 17})])"
      ]
     },
     "execution_count": 6,
     "metadata": {},
     "output_type": "execute_result"
    }
   ],
   "source": [
    "tagger_1.tag(text)\n",
    "text.simple"
   ]
  }
 ],
 "metadata": {
  "kernelspec": {
   "display_name": "Python 3",
   "language": "python",
   "name": "python3"
  },
  "language_info": {
   "codemirror_mode": {
    "name": "ipython",
    "version": 3
   },
   "file_extension": ".py",
   "mimetype": "text/x-python",
   "name": "python",
   "nbconvert_exporter": "python",
   "pygments_lexer": "ipython3",
   "version": "3.5.4"
  }
 },
 "nbformat": 4,
 "nbformat_minor": 2
}
