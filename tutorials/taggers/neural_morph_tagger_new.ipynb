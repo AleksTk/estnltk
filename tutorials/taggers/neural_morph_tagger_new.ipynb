{
 "cells": [
  {
   "cell_type": "markdown",
   "metadata": {},
   "source": [
    "# Neural Morphological Tagger\n",
    "\n",
    "Performs neural morphological tagging. It takes vabamorf analyses as input to predict morphological tags with better accuracy than vabamorf, but uses a different tag set. The tagger can be obtained using the following methods defined in `estnltk.taggers.neural_morph.new_neural_morph.neural_morph_tagger`, each one of them loads a neural model with different configuration from others:\n",
    "\n",
    "* `SoftmaxEmbTagSumTagger()`\n",
    "* `SoftmaxEmbCatSumTagger()`\n",
    "* `Seq2SeqEmbTagSumTagger()`\n",
    "* `Seq2SeqEmbCatSumTagger()`"
   ]
  },
  {
   "cell_type": "code",
   "execution_count": null,
   "metadata": {},
   "outputs": [],
   "source": [
    "from estnltk.taggers.neural_morph.new_neural_morph.neural_morph_tagger import SoftmaxEmbTagSumTagger\n",
    "\n",
    "text = Text(\"See on lause.\")\n",
    "text.tag_layer(['morph_analysis'])\n",
    "        \n",
    "tagger = SoftmaxEmbTagSumTagger()\n",
    "tagger.tag(text)"
   ]
  },
  {
   "cell_type": "markdown",
   "metadata": {},
   "source": [
    "The object `text` now has a layer named `neural_morph_analysis`, which contains three attributes for every word: `morphtag` (which is the original tag predicted by the neural model), `pos` and `form` (which are morptags converted into vabamorf format)."
   ]
  },
  {
   "cell_type": "code",
   "execution_count": null,
   "metadata": {},
   "outputs": [],
   "source": [
    "text.neural_morph_analysis['morphtag']"
   ]
  },
  {
   "cell_type": "code",
   "execution_count": null,
   "metadata": {},
   "outputs": [],
   "source": [
    "text.neural_morph_analysis['pos']"
   ]
  },
  {
   "cell_type": "code",
   "execution_count": null,
   "metadata": {},
   "outputs": [],
   "source": [
    "text.neural_morph_analysis['form']"
   ]
  },
  {
   "cell_type": "markdown",
   "metadata": {},
   "source": [
    "If you want to load a new tagger with a different neural model, you need to reset the previously loaded one with the `tagger.reset()` method."
   ]
  },
  {
   "cell_type": "code",
   "execution_count": null,
   "metadata": {},
   "outputs": [],
   "source": [
    "from estnltk.taggers.neural_morph.new_neural_morph.neural_morph_tagger import Seq2SeqEmbCatSumTagger\n",
    "\n",
    "tagger.reset()\n",
    "new_tagger = Seq2SeqEmbCatSumTagger()"
   ]
  }
 ],
 "metadata": {
  "kernelspec": {
   "display_name": "Python 3",
   "language": "python",
   "name": "python3"
  },
  "language_info": {
   "codemirror_mode": {
    "name": "ipython",
    "version": 3
   },
   "file_extension": ".py",
   "mimetype": "text/x-python",
   "name": "python",
   "nbconvert_exporter": "python",
   "pygments_lexer": "ipython3",
   "version": "3.6.9"
  }
 },
 "nbformat": 4,
 "nbformat_minor": 2
}
