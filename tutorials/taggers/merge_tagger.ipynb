{
 "cells": [
  {
   "cell_type": "markdown",
   "metadata": {},
   "source": [
    "# MergeTagger"
   ]
  },
  {
   "cell_type": "code",
   "execution_count": 1,
   "metadata": {},
   "outputs": [],
   "source": [
    "from estnltk.text import Span, Layer, Text\n",
    "from estnltk.taggers import MergeTagger"
   ]
  },
  {
   "cell_type": "code",
   "execution_count": 2,
   "metadata": {},
   "outputs": [
    {
     "data": {
      "text/html": [
       "<h4>SpanList</h4>\n",
       "<table border=\"1\" class=\"dataframe\">\n",
       "  <thead>\n",
       "    <tr style=\"text-align: right;\">\n",
       "      <th>layer name</th>\n",
       "      <th>attributes</th>\n",
       "      <th>parent</th>\n",
       "      <th>enveloping</th>\n",
       "      <th>ambiguous</th>\n",
       "      <th>span count</th>\n",
       "    </tr>\n",
       "  </thead>\n",
       "  <tbody>\n",
       "    <tr>\n",
       "      <td>test_1</td>\n",
       "      <td>attr_1</td>\n",
       "      <td>None</td>\n",
       "      <td>None</td>\n",
       "      <td>False</td>\n",
       "      <td>3</td>\n",
       "    </tr>\n",
       "  </tbody>\n",
       "</table>\n",
       "<table border=\"1\" class=\"dataframe\">\n",
       "  <thead>\n",
       "    <tr style=\"text-align: right;\">\n",
       "      <th>text</th>\n",
       "      <th>start</th>\n",
       "      <th>end</th>\n",
       "      <th>attr_1</th>\n",
       "    </tr>\n",
       "  </thead>\n",
       "  <tbody>\n",
       "    <tr>\n",
       "      <td>Tere,</td>\n",
       "      <td>0</td>\n",
       "      <td>5</td>\n",
       "      <td>TERE</td>\n",
       "    </tr>\n",
       "    <tr>\n",
       "      <td>maailm</td>\n",
       "      <td>6</td>\n",
       "      <td>12</td>\n",
       "      <td>MAAILM</td>\n",
       "    </tr>\n",
       "    <tr>\n",
       "      <td>maailm</td>\n",
       "      <td>6</td>\n",
       "      <td>12</td>\n",
       "      <td>MaaIlm</td>\n",
       "    </tr>\n",
       "  </tbody>\n",
       "</table>"
      ],
      "text/plain": [
       "SL[Span(Tere,, {'attr_1': 'TERE'}),\n",
       "Span(maailm, {'attr_1': 'MAAILM'}),\n",
       "Span(maailm, {'attr_1': 'MaaIlm'})]"
      ]
     },
     "execution_count": 2,
     "metadata": {},
     "output_type": "execute_result"
    }
   ],
   "source": [
    "text = Text('Tere, maailm!')\n",
    "\n",
    "layer = Layer(name='test_1',\n",
    "              attributes=['attr_1']\n",
    "             )\n",
    "span = Span(start=0, end=5)\n",
    "span.attr_1 = 'TERE'\n",
    "layer.add_span(span)\n",
    "\n",
    "span = Span(start=6, end=12)\n",
    "span.attr_1 = 'MAAILM'\n",
    "layer.add_span(span)\n",
    "\n",
    "span = Span(start=6, end=12)\n",
    "span.attr_1 = 'MaaIlm'\n",
    "layer.add_span(span)\n",
    "\n",
    "text['test_1'] = layer\n",
    "text.test_1"
   ]
  },
  {
   "cell_type": "code",
   "execution_count": 3,
   "metadata": {},
   "outputs": [
    {
     "data": {
      "text/html": [
       "<h4>SpanList</h4>\n",
       "<table border=\"1\" class=\"dataframe\">\n",
       "  <thead>\n",
       "    <tr style=\"text-align: right;\">\n",
       "      <th>layer name</th>\n",
       "      <th>attributes</th>\n",
       "      <th>parent</th>\n",
       "      <th>enveloping</th>\n",
       "      <th>ambiguous</th>\n",
       "      <th>span count</th>\n",
       "    </tr>\n",
       "  </thead>\n",
       "  <tbody>\n",
       "    <tr>\n",
       "      <td>test_2</td>\n",
       "      <td>attr_2</td>\n",
       "      <td>None</td>\n",
       "      <td>None</td>\n",
       "      <td>False</td>\n",
       "      <td>3</td>\n",
       "    </tr>\n",
       "  </tbody>\n",
       "</table>\n",
       "<table border=\"1\" class=\"dataframe\">\n",
       "  <thead>\n",
       "    <tr style=\"text-align: right;\">\n",
       "      <th>text</th>\n",
       "      <th>start</th>\n",
       "      <th>end</th>\n",
       "      <th>attr_2</th>\n",
       "    </tr>\n",
       "  </thead>\n",
       "  <tbody>\n",
       "    <tr>\n",
       "      <td>Tere,</td>\n",
       "      <td>0</td>\n",
       "      <td>5</td>\n",
       "      <td>tere</td>\n",
       "    </tr>\n",
       "    <tr>\n",
       "      <td>maa</td>\n",
       "      <td>6</td>\n",
       "      <td>9</td>\n",
       "      <td>MAA</td>\n",
       "    </tr>\n",
       "    <tr>\n",
       "      <td>ilm</td>\n",
       "      <td>9</td>\n",
       "      <td>12</td>\n",
       "      <td>ILM</td>\n",
       "    </tr>\n",
       "  </tbody>\n",
       "</table>"
      ],
      "text/plain": [
       "SL[Span(Tere,, {'attr_2': 'tere'}),\n",
       "Span(maa, {'attr_2': 'MAA'}),\n",
       "Span(ilm, {'attr_2': 'ILM'})]"
      ]
     },
     "execution_count": 3,
     "metadata": {},
     "output_type": "execute_result"
    }
   ],
   "source": [
    "layer = Layer(name='test_2',\n",
    "              attributes=['attr_2']\n",
    "              )\n",
    "span = Span(start=0, end=5)\n",
    "span.attr_2 = 'tere'\n",
    "layer.add_span(span)\n",
    "\n",
    "span = Span(start=6, end=9)\n",
    "span.attr_2 = 'MAA'\n",
    "layer.add_span(span)\n",
    "\n",
    "span = Span(start=9, end=12)\n",
    "span.attr_2 = 'ILM'\n",
    "layer.add_span(span)\n",
    "\n",
    "text['test_2'] = layer\n",
    "text.test_2"
   ]
  },
  {
   "cell_type": "code",
   "execution_count": 4,
   "metadata": {},
   "outputs": [
    {
     "data": {
      "text/html": [
       "<h4>Tagger</h4>\n",
       "Merges input layers.\n",
       "<table border=\"1\" class=\"dataframe\">\n",
       "  <thead>\n",
       "    <tr style=\"text-align: right;\">\n",
       "      <th>name</th>\n",
       "      <th>output layer</th>\n",
       "      <th>output attributes</th>\n",
       "      <th>input layers</th>\n",
       "    </tr>\n",
       "  </thead>\n",
       "  <tbody>\n",
       "    <tr>\n",
       "      <td>MergeTagger</td>\n",
       "      <td>merged</td>\n",
       "      <td>('attr_1', 'attr_2')</td>\n",
       "      <td>['test_1', 'test_2']</td>\n",
       "    </tr>\n",
       "  </tbody>\n",
       "</table>\n",
       "No configuration parameters."
      ],
      "text/plain": [
       "MergeTagger()"
      ]
     },
     "execution_count": 4,
     "metadata": {},
     "output_type": "execute_result"
    }
   ],
   "source": [
    "merge_tagger = MergeTagger(output_layer='merged',\n",
    "                           input_layers=['test_1', 'test_2'],\n",
    "                           output_attributes=['attr_1','attr_2'])\n",
    "merge_tagger"
   ]
  },
  {
   "cell_type": "code",
   "execution_count": 5,
   "metadata": {
    "scrolled": true
   },
   "outputs": [
    {
     "data": {
      "text/html": [
       "<table border=\"1\" class=\"dataframe\">\n",
       "  <thead>\n",
       "    <tr style=\"text-align: right;\">\n",
       "      <th>text</th>\n",
       "    </tr>\n",
       "  </thead>\n",
       "  <tbody>\n",
       "    <tr>\n",
       "      <td>Tere, maailm!</td>\n",
       "    </tr>\n",
       "  </tbody>\n",
       "</table>\n",
       "<table border=\"1\" class=\"dataframe\">\n",
       "  <thead>\n",
       "    <tr style=\"text-align: right;\">\n",
       "      <th>layer name</th>\n",
       "      <th>attributes</th>\n",
       "      <th>parent</th>\n",
       "      <th>enveloping</th>\n",
       "      <th>ambiguous</th>\n",
       "      <th>span count</th>\n",
       "    </tr>\n",
       "  </thead>\n",
       "  <tbody>\n",
       "    <tr>\n",
       "      <td>merged</td>\n",
       "      <td>attr_1, attr_2</td>\n",
       "      <td>None</td>\n",
       "      <td>None</td>\n",
       "      <td>False</td>\n",
       "      <td>6</td>\n",
       "    </tr>\n",
       "    <tr>\n",
       "      <td>test_1</td>\n",
       "      <td>attr_1</td>\n",
       "      <td>None</td>\n",
       "      <td>None</td>\n",
       "      <td>False</td>\n",
       "      <td>3</td>\n",
       "    </tr>\n",
       "    <tr>\n",
       "      <td>test_2</td>\n",
       "      <td>attr_2</td>\n",
       "      <td>None</td>\n",
       "      <td>None</td>\n",
       "      <td>False</td>\n",
       "      <td>3</td>\n",
       "    </tr>\n",
       "  </tbody>\n",
       "</table>"
      ],
      "text/plain": [
       "Text(text=\"Tere, maailm!\")"
      ]
     },
     "execution_count": 5,
     "metadata": {},
     "output_type": "execute_result"
    }
   ],
   "source": [
    "merge_tagger.tag(text)\n",
    "text"
   ]
  },
  {
   "cell_type": "code",
   "execution_count": 6,
   "metadata": {},
   "outputs": [
    {
     "data": {
      "text/html": [
       "<h4>SpanList</h4>\n",
       "<table border=\"1\" class=\"dataframe\">\n",
       "  <thead>\n",
       "    <tr style=\"text-align: right;\">\n",
       "      <th>layer name</th>\n",
       "      <th>attributes</th>\n",
       "      <th>parent</th>\n",
       "      <th>enveloping</th>\n",
       "      <th>ambiguous</th>\n",
       "      <th>span count</th>\n",
       "    </tr>\n",
       "  </thead>\n",
       "  <tbody>\n",
       "    <tr>\n",
       "      <td>merged</td>\n",
       "      <td>attr_1, attr_2</td>\n",
       "      <td>None</td>\n",
       "      <td>None</td>\n",
       "      <td>False</td>\n",
       "      <td>6</td>\n",
       "    </tr>\n",
       "  </tbody>\n",
       "</table>\n",
       "<table border=\"1\" class=\"dataframe\">\n",
       "  <thead>\n",
       "    <tr style=\"text-align: right;\">\n",
       "      <th>text</th>\n",
       "      <th>start</th>\n",
       "      <th>end</th>\n",
       "      <th>attr_1</th>\n",
       "      <th>attr_2</th>\n",
       "    </tr>\n",
       "  </thead>\n",
       "  <tbody>\n",
       "    <tr>\n",
       "      <td>Tere,</td>\n",
       "      <td>0</td>\n",
       "      <td>5</td>\n",
       "      <td>TERE</td>\n",
       "      <td>None</td>\n",
       "    </tr>\n",
       "    <tr>\n",
       "      <td>Tere,</td>\n",
       "      <td>0</td>\n",
       "      <td>5</td>\n",
       "      <td>None</td>\n",
       "      <td>tere</td>\n",
       "    </tr>\n",
       "    <tr>\n",
       "      <td>maa</td>\n",
       "      <td>6</td>\n",
       "      <td>9</td>\n",
       "      <td>None</td>\n",
       "      <td>MAA</td>\n",
       "    </tr>\n",
       "    <tr>\n",
       "      <td>maailm</td>\n",
       "      <td>6</td>\n",
       "      <td>12</td>\n",
       "      <td>MAAILM</td>\n",
       "      <td>None</td>\n",
       "    </tr>\n",
       "    <tr>\n",
       "      <td>maailm</td>\n",
       "      <td>6</td>\n",
       "      <td>12</td>\n",
       "      <td>MaaIlm</td>\n",
       "      <td>None</td>\n",
       "    </tr>\n",
       "    <tr>\n",
       "      <td>ilm</td>\n",
       "      <td>9</td>\n",
       "      <td>12</td>\n",
       "      <td>None</td>\n",
       "      <td>ILM</td>\n",
       "    </tr>\n",
       "  </tbody>\n",
       "</table>"
      ],
      "text/plain": [
       "SL[Span(Tere,, {'attr_1': 'TERE', 'attr_2': None}),\n",
       "Span(Tere,, {'attr_1': None, 'attr_2': 'tere'}),\n",
       "Span(maa, {'attr_1': None, 'attr_2': 'MAA'}),\n",
       "Span(maailm, {'attr_1': 'MAAILM', 'attr_2': None}),\n",
       "Span(maailm, {'attr_1': 'MaaIlm', 'attr_2': None}),\n",
       "Span(ilm, {'attr_1': None, 'attr_2': 'ILM'})]"
      ]
     },
     "execution_count": 6,
     "metadata": {},
     "output_type": "execute_result"
    }
   ],
   "source": [
    "text.merged"
   ]
  }
 ],
 "metadata": {
  "kernelspec": {
   "display_name": "Python 3",
   "language": "python",
   "name": "python3"
  },
  "language_info": {
   "codemirror_mode": {
    "name": "ipython",
    "version": 3
   },
   "file_extension": ".py",
   "mimetype": "text/x-python",
   "name": "python",
   "nbconvert_exporter": "python",
   "pygments_lexer": "ipython3",
   "version": "3.5.4"
  }
 },
 "nbformat": 4,
 "nbformat_minor": 2
}
