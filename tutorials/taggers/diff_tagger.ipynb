{
 "cells": [
  {
   "cell_type": "markdown",
   "metadata": {},
   "source": [
    "# DiffTagger\n",
    "The output layer of the `DiffTagger` consists of differences in input layers."
   ]
  },
  {
   "cell_type": "code",
   "execution_count": 1,
   "metadata": {},
   "outputs": [
    {
     "data": {
      "text/html": [
       "<h4>Tagger</h4>\n",
       "Finds differences of input layers.\n",
       "<table border=\"1\" class=\"dataframe\">\n",
       "  <thead>\n",
       "    <tr style=\"text-align: right;\">\n",
       "      <th>name</th>\n",
       "      <th>output layer</th>\n",
       "      <th>output attributes</th>\n",
       "      <th>input layers</th>\n",
       "    </tr>\n",
       "  </thead>\n",
       "  <tbody>\n",
       "    <tr>\n",
       "      <td>DiffTagger</td>\n",
       "      <td>diff_layer</td>\n",
       "      <td>('input_layer_name', 'span_status', 'attr', 'attr_5')</td>\n",
       "      <td>('layer_5', 'layer_5_new')</td>\n",
       "    </tr>\n",
       "  </tbody>\n",
       "</table>\n",
       "<h4>Configuration</h4>\n",
       "<table border=\"1\" class=\"dataframe\">\n",
       "  <tbody>\n",
       "    <tr>\n",
       "      <th>input_layer_attribute</th>\n",
       "      <td>input_layer_name</td>\n",
       "    </tr>\n",
       "    <tr>\n",
       "      <th>span_status_attribute</th>\n",
       "      <td>span_status</td>\n",
       "    </tr>\n",
       "    <tr>\n",
       "      <th>compare_function</th>\n",
       "      <td>&lt;function _operator.eq&gt;</td>\n",
       "    </tr>\n",
       "  </tbody>\n",
       "</table>"
      ],
      "text/plain": [
       "DiffTagger(input_layers=('layer_5', 'layer_5_new'), output_layer=diff_layer, output_attributes=('input_layer_name', 'span_status', 'attr', 'attr_5'), input_layer_attribute=input_layer_name, span_status_attribute=span_status, compare_function=<function _operator.eq>)"
      ]
     },
     "execution_count": 1,
     "metadata": {},
     "output_type": "execute_result"
    }
   ],
   "source": [
    "from estnltk import Layer\n",
    "from estnltk.taggers import DiffTagger\n",
    "\n",
    "Layer.print_start_end = True\n",
    "\n",
    "diff_tagger = DiffTagger(layer_a='layer_5',\n",
    "                         layer_b='layer_5_new',\n",
    "                         output_layer='diff_layer',\n",
    "                         output_attributes=('span_status', 'attr', 'attr_5'),\n",
    "                         span_status_attribute='span_status')\n",
    "diff_tagger"
   ]
  },
  {
   "cell_type": "markdown",
   "metadata": {},
   "source": [
    "Ambiguous envelopoing demo layer."
   ]
  },
  {
   "cell_type": "code",
   "execution_count": 2,
   "metadata": {},
   "outputs": [
    {
     "data": {
      "text/html": [
       "<h4>Layer</h4>\n",
       "\n",
       "<table border=\"1\" class=\"dataframe\">\n",
       "  <thead>\n",
       "    <tr style=\"text-align: right;\">\n",
       "      <th>layer name</th>\n",
       "      <th>attributes</th>\n",
       "      <th>parent</th>\n",
       "      <th>enveloping</th>\n",
       "      <th>ambiguous</th>\n",
       "      <th>span count</th>\n",
       "    </tr>\n",
       "  </thead>\n",
       "  <tbody>\n",
       "    <tr>\n",
       "      <td>layer_5</td>\n",
       "      <td>attr, attr_5</td>\n",
       "      <td>None</td>\n",
       "      <td>layer_1</td>\n",
       "      <td>True</td>\n",
       "      <td>9</td>\n",
       "    </tr>\n",
       "  </tbody>\n",
       "</table>\n",
       "<table border=\"1\" class=\"dataframe\">\n",
       "  <thead>\n",
       "    <tr style=\"text-align: right;\">\n",
       "      <th>text</th>\n",
       "      <th>start</th>\n",
       "      <th>end</th>\n",
       "      <th>attr</th>\n",
       "      <th>attr_5</th>\n",
       "    </tr>\n",
       "  </thead>\n",
       "  <tbody>\n",
       "    <tr>\n",
       "      <td>['Sada', 'kaks']</td>\n",
       "      <td>0</td>\n",
       "      <td>9</td>\n",
       "      <td>L5-0-0</td>\n",
       "      <td>SADA KAKS</td>\n",
       "    </tr>\n",
       "    <tr>\n",
       "      <td>['Sada', 'kakskümmend']</td>\n",
       "      <td>0</td>\n",
       "      <td>16</td>\n",
       "      <td>L5-1-1</td>\n",
       "      <td>SADA KAKS</td>\n",
       "    </tr>\n",
       "    <tr>\n",
       "      <td></td>\n",
       "      <td>0</td>\n",
       "      <td>16</td>\n",
       "      <td>L5-1-2</td>\n",
       "      <td>SADA KÜMME</td>\n",
       "    </tr>\n",
       "    <tr>\n",
       "      <td></td>\n",
       "      <td>0</td>\n",
       "      <td>16</td>\n",
       "      <td>L5-1-3</td>\n",
       "      <td>SADA KAKSKÜMMEND</td>\n",
       "    </tr>\n",
       "    <tr>\n",
       "      <td>['Sada', 'kakskümmend', 'kolm']</td>\n",
       "      <td>0</td>\n",
       "      <td>21</td>\n",
       "      <td>L5-2-4</td>\n",
       "      <td>SADA KAKSKÜMMEND KOLM</td>\n",
       "    </tr>\n",
       "    <tr>\n",
       "      <td>['Neli', 'tuhat']</td>\n",
       "      <td>23</td>\n",
       "      <td>33</td>\n",
       "      <td>L5-3-5</td>\n",
       "      <td>NELI TUHAT</td>\n",
       "    </tr>\n",
       "    <tr>\n",
       "      <td>['tuhat', 'viis']</td>\n",
       "      <td>28</td>\n",
       "      <td>38</td>\n",
       "      <td>L5-4-6</td>\n",
       "      <td>TUHAT VIIS</td>\n",
       "    </tr>\n",
       "    <tr>\n",
       "      <td>['viis']</td>\n",
       "      <td>34</td>\n",
       "      <td>38</td>\n",
       "      <td>L5-5-7</td>\n",
       "      <td>VIIS</td>\n",
       "    </tr>\n",
       "    <tr>\n",
       "      <td>['viissada', 'kuuskümmend']</td>\n",
       "      <td>34</td>\n",
       "      <td>54</td>\n",
       "      <td>L5-6-8</td>\n",
       "      <td>VIISSADA KUUS</td>\n",
       "    </tr>\n",
       "    <tr>\n",
       "      <td></td>\n",
       "      <td>34</td>\n",
       "      <td>54</td>\n",
       "      <td>L5-6-9</td>\n",
       "      <td>VIISSADA KÜMME</td>\n",
       "    </tr>\n",
       "    <tr>\n",
       "      <td></td>\n",
       "      <td>34</td>\n",
       "      <td>54</td>\n",
       "      <td>L5-6-10</td>\n",
       "      <td>VIISSADA KUUSKÜMMEND</td>\n",
       "    </tr>\n",
       "    <tr>\n",
       "      <td>['kümme', 'koma', 'kaheksa']</td>\n",
       "      <td>47</td>\n",
       "      <td>74</td>\n",
       "      <td>L5-7-11</td>\n",
       "      <td>KÜMME KOMA KAHEKSA</td>\n",
       "    </tr>\n",
       "    <tr>\n",
       "      <td>['seitse', 'koma', 'kaheksa']</td>\n",
       "      <td>55</td>\n",
       "      <td>74</td>\n",
       "      <td>L5-8-12</td>\n",
       "      <td>SEITSE KOMA KAHEKSA</td>\n",
       "    </tr>\n",
       "  </tbody>\n",
       "</table>"
      ],
      "text/plain": [
       "Layer(name='layer_5', attributes=('attr', 'attr_5'), spans=SL[AS[Annotation(['Sada', 'kaks'], {'attr': 'L5-0-0', 'attr_5': 'SADA KAKS'})],\n",
       "AS[Annotation(['Sada', 'kakskümmend'], {'attr': 'L5-1-1', 'attr_5': 'SADA KAKS'}), Annotation(['Sada', 'kakskümmend'], {'attr': 'L5-1-2', 'attr_5': 'SADA KÜMME'}), Annotation(['Sada', 'kakskümmend'], {'attr': 'L5-1-3', 'attr_5': 'SADA KAKSKÜMMEND'})],\n",
       "AS[Annotation(['Sada', 'kakskümmend', 'kolm'], {'attr': 'L5-2-4', 'attr_5': 'SADA KAKSKÜMMEND KOLM'})],\n",
       "AS[Annotation(['Neli', 'tuhat'], {'attr': 'L5-3-5', 'attr_5': 'NELI TUHAT'})],\n",
       "AS[Annotation(['tuhat', 'viis'], {'attr': 'L5-4-6', 'attr_5': 'TUHAT VIIS'})],\n",
       "AS[Annotation(['viis'], {'attr': 'L5-5-7', 'attr_5': 'VIIS'})],\n",
       "AS[Annotation(['viissada', 'kuuskümmend'], {'attr': 'L5-6-8', 'attr_5': 'VIISSADA KUUS'}), Annotation(['viissada', 'kuuskümmend'], {'attr': 'L5-6-9', 'attr_5': 'VIISSADA KÜMME'}), Annotation(['viissada', 'kuuskümmend'], {'attr': 'L5-6-10', 'attr_5': 'VIISSADA KUUSKÜMMEND'})],\n",
       "AS[Annotation(['kümme', 'koma', 'kaheksa'], {'attr': 'L5-7-11', 'attr_5': 'KÜMME KOMA KAHEKSA'})],\n",
       "AS[Annotation(['seitse', 'koma', 'kaheksa'], {'attr': 'L5-8-12', 'attr_5': 'SEITSE KOMA KAHEKSA'})]])"
      ]
     },
     "execution_count": 2,
     "metadata": {},
     "output_type": "execute_result"
    }
   ],
   "source": [
    "from estnltk.tests import new_text\n",
    "from estnltk.layer_operations import merge_layers\n",
    "\n",
    "text = new_text(5)\n",
    "layer_5 = text.layer_5\n",
    "layer_5"
   ]
  },
  {
   "cell_type": "code",
   "execution_count": 3,
   "metadata": {},
   "outputs": [
    {
     "data": {
      "text/html": [
       "<h4>Layer</h4>\n",
       "\n",
       "<table border=\"1\" class=\"dataframe\">\n",
       "  <thead>\n",
       "    <tr style=\"text-align: right;\">\n",
       "      <th>layer name</th>\n",
       "      <th>attributes</th>\n",
       "      <th>parent</th>\n",
       "      <th>enveloping</th>\n",
       "      <th>ambiguous</th>\n",
       "      <th>span count</th>\n",
       "    </tr>\n",
       "  </thead>\n",
       "  <tbody>\n",
       "    <tr>\n",
       "      <td>layer_5</td>\n",
       "      <td>attr, attr_5</td>\n",
       "      <td>None</td>\n",
       "      <td>layer_1</td>\n",
       "      <td>True</td>\n",
       "      <td>6</td>\n",
       "    </tr>\n",
       "  </tbody>\n",
       "</table>\n",
       "<table border=\"1\" class=\"dataframe\">\n",
       "  <thead>\n",
       "    <tr style=\"text-align: right;\">\n",
       "      <th>text</th>\n",
       "      <th>start</th>\n",
       "      <th>end</th>\n",
       "      <th>attr</th>\n",
       "      <th>attr_5</th>\n",
       "    </tr>\n",
       "  </thead>\n",
       "  <tbody>\n",
       "    <tr>\n",
       "      <td>['Sada', 'kaks']</td>\n",
       "      <td>0</td>\n",
       "      <td>9</td>\n",
       "      <td>L5-0-0</td>\n",
       "      <td>SADA KAKS</td>\n",
       "    </tr>\n",
       "    <tr>\n",
       "      <td>['Sada', 'kakskümmend']</td>\n",
       "      <td>0</td>\n",
       "      <td>16</td>\n",
       "      <td>L5-1-1</td>\n",
       "      <td>SADA KAKS</td>\n",
       "    </tr>\n",
       "    <tr>\n",
       "      <td></td>\n",
       "      <td>0</td>\n",
       "      <td>16</td>\n",
       "      <td>L5-1-2</td>\n",
       "      <td>SADA KÜMME</td>\n",
       "    </tr>\n",
       "    <tr>\n",
       "      <td></td>\n",
       "      <td>0</td>\n",
       "      <td>16</td>\n",
       "      <td>L5-1-3</td>\n",
       "      <td>SADA KAKSKÜMMEND</td>\n",
       "    </tr>\n",
       "    <tr>\n",
       "      <td>['Sada', 'kakskümmend', 'kolm']</td>\n",
       "      <td>0</td>\n",
       "      <td>21</td>\n",
       "      <td>L5-2-4</td>\n",
       "      <td>SADA KAKSKÜMMEND KOLM</td>\n",
       "    </tr>\n",
       "    <tr>\n",
       "      <td>['Neli', 'tuhat']</td>\n",
       "      <td>23</td>\n",
       "      <td>33</td>\n",
       "      <td>L5-3-5</td>\n",
       "      <td>NELI TUHAT</td>\n",
       "    </tr>\n",
       "    <tr>\n",
       "      <td>['tuhat', 'viis']</td>\n",
       "      <td>28</td>\n",
       "      <td>38</td>\n",
       "      <td>L5-4-6</td>\n",
       "      <td>TUHAT VIIS</td>\n",
       "    </tr>\n",
       "    <tr>\n",
       "      <td>['kümme', 'koma', 'kaheksa']</td>\n",
       "      <td>47</td>\n",
       "      <td>74</td>\n",
       "      <td>L5-7-11</td>\n",
       "      <td>KÜMME KOMA KAHEKSA</td>\n",
       "    </tr>\n",
       "  </tbody>\n",
       "</table>"
      ],
      "text/plain": [
       "Layer(name='layer_5', attributes=('attr', 'attr_5'), spans=SL[AS[Annotation(['Sada', 'kaks'], {'attr': 'L5-0-0', 'attr_5': 'SADA KAKS'})],\n",
       "AS[Annotation(['Sada', 'kakskümmend'], {'attr': 'L5-1-1', 'attr_5': 'SADA KAKS'}), Annotation(['Sada', 'kakskümmend'], {'attr': 'L5-1-2', 'attr_5': 'SADA KÜMME'}), Annotation(['Sada', 'kakskümmend'], {'attr': 'L5-1-3', 'attr_5': 'SADA KAKSKÜMMEND'})],\n",
       "AS[Annotation(['Sada', 'kakskümmend', 'kolm'], {'attr': 'L5-2-4', 'attr_5': 'SADA KAKSKÜMMEND KOLM'})],\n",
       "AS[Annotation(['Neli', 'tuhat'], {'attr': 'L5-3-5', 'attr_5': 'NELI TUHAT'})],\n",
       "AS[Annotation(['tuhat', 'viis'], {'attr': 'L5-4-6', 'attr_5': 'TUHAT VIIS'})],\n",
       "AS[Annotation(['kümme', 'koma', 'kaheksa'], {'attr': 'L5-7-11', 'attr_5': 'KÜMME KOMA KAHEKSA'})]])"
      ]
     },
     "execution_count": 3,
     "metadata": {},
     "output_type": "execute_result"
    }
   ],
   "source": [
    "# copy layer_5\n",
    "layer_5_new = merge_layers(layers=[layer_5],\n",
    "                           output_layer='layer_5_new',\n",
    "                           output_attributes=['attr', 'attr_5'])\n",
    "\n",
    "del layer_5.spans[8]\n",
    "del layer_5.spans[6]\n",
    "del layer_5.spans[5]\n",
    "layer_5"
   ]
  },
  {
   "cell_type": "markdown",
   "metadata": {},
   "source": [
    "Copy and change demo layer."
   ]
  },
  {
   "cell_type": "code",
   "execution_count": 4,
   "metadata": {},
   "outputs": [
    {
     "data": {
      "text/html": [
       "<h4>Layer</h4>\n",
       "\n",
       "<table border=\"1\" class=\"dataframe\">\n",
       "  <thead>\n",
       "    <tr style=\"text-align: right;\">\n",
       "      <th>layer name</th>\n",
       "      <th>attributes</th>\n",
       "      <th>parent</th>\n",
       "      <th>enveloping</th>\n",
       "      <th>ambiguous</th>\n",
       "      <th>span count</th>\n",
       "    </tr>\n",
       "  </thead>\n",
       "  <tbody>\n",
       "    <tr>\n",
       "      <td>layer_5_new</td>\n",
       "      <td>attr, attr_5</td>\n",
       "      <td>None</td>\n",
       "      <td>layer_1</td>\n",
       "      <td>True</td>\n",
       "      <td>7</td>\n",
       "    </tr>\n",
       "  </tbody>\n",
       "</table>\n",
       "<table border=\"1\" class=\"dataframe\">\n",
       "  <thead>\n",
       "    <tr style=\"text-align: right;\">\n",
       "      <th>text</th>\n",
       "      <th>start</th>\n",
       "      <th>end</th>\n",
       "      <th>attr</th>\n",
       "      <th>attr_5</th>\n",
       "    </tr>\n",
       "  </thead>\n",
       "  <tbody>\n",
       "    <tr>\n",
       "      <td>['Sada', 'kaks']</td>\n",
       "      <td>0</td>\n",
       "      <td>9</td>\n",
       "      <td>L5-0-0</td>\n",
       "      <td>SADA KAKS</td>\n",
       "    </tr>\n",
       "    <tr>\n",
       "      <td>['Sada', 'kakskümmend']</td>\n",
       "      <td>0</td>\n",
       "      <td>16</td>\n",
       "      <td>L5-1-1</td>\n",
       "      <td>sada kaks</td>\n",
       "    </tr>\n",
       "    <tr>\n",
       "      <td></td>\n",
       "      <td>0</td>\n",
       "      <td>16</td>\n",
       "      <td>L5-1-2</td>\n",
       "      <td>SADA KÜMME</td>\n",
       "    </tr>\n",
       "    <tr>\n",
       "      <td></td>\n",
       "      <td>0</td>\n",
       "      <td>16</td>\n",
       "      <td>L5-1-3</td>\n",
       "      <td>SADA KAKSKÜMMEND</td>\n",
       "    </tr>\n",
       "    <tr>\n",
       "      <td>['Sada', 'kakskümmend', 'kolm']</td>\n",
       "      <td>0</td>\n",
       "      <td>21</td>\n",
       "      <td>L5-2-4</td>\n",
       "      <td>SADA KAKSKÜMMEND KOLM</td>\n",
       "    </tr>\n",
       "    <tr>\n",
       "      <td>['viis']</td>\n",
       "      <td>34</td>\n",
       "      <td>38</td>\n",
       "      <td>L5-5-7</td>\n",
       "      <td>VIIS</td>\n",
       "    </tr>\n",
       "    <tr>\n",
       "      <td>['viissada', 'kuuskümmend']</td>\n",
       "      <td>34</td>\n",
       "      <td>54</td>\n",
       "      <td>L5-6-8</td>\n",
       "      <td>VIISSADA KUUS</td>\n",
       "    </tr>\n",
       "    <tr>\n",
       "      <td></td>\n",
       "      <td>34</td>\n",
       "      <td>54</td>\n",
       "      <td>L5-6-10</td>\n",
       "      <td>VIISSADA KUUSKÜMMEND</td>\n",
       "    </tr>\n",
       "    <tr>\n",
       "      <td>['kümme', 'koma', 'kaheksa']</td>\n",
       "      <td>47</td>\n",
       "      <td>74</td>\n",
       "      <td>L5-7-11</td>\n",
       "      <td>KÜMME KOMA KAHEKSA</td>\n",
       "    </tr>\n",
       "    <tr>\n",
       "      <td>['seitse', 'koma', 'kaheksa']</td>\n",
       "      <td>55</td>\n",
       "      <td>74</td>\n",
       "      <td>L5-8-12</td>\n",
       "      <td>SEITSE KOMA KAHEKSA</td>\n",
       "    </tr>\n",
       "  </tbody>\n",
       "</table>"
      ],
      "text/plain": [
       "Layer(name='layer_5_new', attributes=('attr', 'attr_5'), spans=SL[AS(start=0, end=9, text:['Sada', 'kaks']),\n",
       "AS(start=0, end=16, text:['Sada', 'kakskümmend']),\n",
       "AS(start=0, end=21, text:['Sada', 'kakskümmend', 'kolm']),\n",
       "AS(start=34, end=38, text:['viis']),\n",
       "AS(start=34, end=54, text:['viissada', 'kuuskümmend']),\n",
       "AS(start=47, end=74, text:['kümme', 'koma', 'kaheksa']),\n",
       "AS(start=55, end=74, text:['seitse', 'koma', 'kaheksa'])])"
      ]
     },
     "execution_count": 4,
     "metadata": {},
     "output_type": "execute_result"
    }
   ],
   "source": [
    "layer_5_new[1][0].attr_5 = 'sada kaks'\n",
    "del layer_5_new.spans[6][1]\n",
    "del layer_5_new.spans[4]\n",
    "del layer_5_new.spans[3]\n",
    "text['layer_5_new'] = layer_5_new\n",
    "layer_5_new"
   ]
  },
  {
   "cell_type": "markdown",
   "metadata": {},
   "source": [
    "Create and show layer of differences."
   ]
  },
  {
   "cell_type": "code",
   "execution_count": 5,
   "metadata": {},
   "outputs": [
    {
     "data": {
      "text/html": [
       "<h4>Layer</h4>\n",
       "\n",
       "<table border=\"1\" class=\"dataframe\">\n",
       "  <thead>\n",
       "    <tr style=\"text-align: right;\">\n",
       "      <th>layer name</th>\n",
       "      <th>attributes</th>\n",
       "      <th>parent</th>\n",
       "      <th>enveloping</th>\n",
       "      <th>ambiguous</th>\n",
       "      <th>span count</th>\n",
       "    </tr>\n",
       "  </thead>\n",
       "  <tbody>\n",
       "    <tr>\n",
       "      <td>diff_layer</td>\n",
       "      <td>input_layer_name, span_status, attr, attr_5</td>\n",
       "      <td>None</td>\n",
       "      <td>layer_1</td>\n",
       "      <td>True</td>\n",
       "      <td>6</td>\n",
       "    </tr>\n",
       "  </tbody>\n",
       "</table>\n",
       "<table border=\"1\" class=\"dataframe\">\n",
       "  <thead>\n",
       "    <tr style=\"text-align: right;\">\n",
       "      <th>text</th>\n",
       "      <th>start</th>\n",
       "      <th>end</th>\n",
       "      <th>input_layer_name</th>\n",
       "      <th>span_status</th>\n",
       "      <th>attr</th>\n",
       "      <th>attr_5</th>\n",
       "    </tr>\n",
       "  </thead>\n",
       "  <tbody>\n",
       "    <tr>\n",
       "      <td>['Sada', 'kakskümmend']</td>\n",
       "      <td>0</td>\n",
       "      <td>16</td>\n",
       "      <td>layer_5</td>\n",
       "      <td>modified</td>\n",
       "      <td>L5-1-1</td>\n",
       "      <td>SADA KAKS</td>\n",
       "    </tr>\n",
       "    <tr>\n",
       "      <td></td>\n",
       "      <td>0</td>\n",
       "      <td>16</td>\n",
       "      <td>layer_5_new</td>\n",
       "      <td>modified</td>\n",
       "      <td>L5-1-1</td>\n",
       "      <td>sada kaks</td>\n",
       "    </tr>\n",
       "    <tr>\n",
       "      <td>['Neli', 'tuhat']</td>\n",
       "      <td>23</td>\n",
       "      <td>33</td>\n",
       "      <td>layer_5</td>\n",
       "      <td>missing</td>\n",
       "      <td>L5-3-5</td>\n",
       "      <td>NELI TUHAT</td>\n",
       "    </tr>\n",
       "    <tr>\n",
       "      <td>['tuhat', 'viis']</td>\n",
       "      <td>28</td>\n",
       "      <td>38</td>\n",
       "      <td>layer_5</td>\n",
       "      <td>missing</td>\n",
       "      <td>L5-4-6</td>\n",
       "      <td>TUHAT VIIS</td>\n",
       "    </tr>\n",
       "    <tr>\n",
       "      <td>['viis']</td>\n",
       "      <td>34</td>\n",
       "      <td>38</td>\n",
       "      <td>layer_5_new</td>\n",
       "      <td>extra</td>\n",
       "      <td>L5-5-7</td>\n",
       "      <td>VIIS</td>\n",
       "    </tr>\n",
       "    <tr>\n",
       "      <td>['viissada', 'kuuskümmend']</td>\n",
       "      <td>34</td>\n",
       "      <td>54</td>\n",
       "      <td>layer_5_new</td>\n",
       "      <td>extra</td>\n",
       "      <td>L5-6-8</td>\n",
       "      <td>VIISSADA KUUS</td>\n",
       "    </tr>\n",
       "    <tr>\n",
       "      <td></td>\n",
       "      <td>34</td>\n",
       "      <td>54</td>\n",
       "      <td>layer_5_new</td>\n",
       "      <td>extra</td>\n",
       "      <td>L5-6-10</td>\n",
       "      <td>VIISSADA KUUSKÜMMEND</td>\n",
       "    </tr>\n",
       "    <tr>\n",
       "      <td>['seitse', 'koma', 'kaheksa']</td>\n",
       "      <td>55</td>\n",
       "      <td>74</td>\n",
       "      <td>layer_5_new</td>\n",
       "      <td>extra</td>\n",
       "      <td>L5-8-12</td>\n",
       "      <td>SEITSE KOMA KAHEKSA</td>\n",
       "    </tr>\n",
       "  </tbody>\n",
       "</table>"
      ],
      "text/plain": [
       "Layer(name='diff_layer', attributes=('input_layer_name', 'span_status', 'attr', 'attr_5'), spans=SL[AS(start=0, end=16, text:['Sada', 'kakskümmend']),\n",
       "AS(start=23, end=33, text:['Neli', 'tuhat']),\n",
       "AS(start=28, end=38, text:['tuhat', 'viis']),\n",
       "AS(start=34, end=38, text:['viis']),\n",
       "AS(start=34, end=54, text:['viissada', 'kuuskümmend']),\n",
       "AS(start=55, end=74, text:['seitse', 'koma', 'kaheksa'])])"
      ]
     },
     "execution_count": 5,
     "metadata": {},
     "output_type": "execute_result"
    }
   ],
   "source": [
    "status = {}\n",
    "diff_tagger(text, status).diff_layer"
   ]
  },
  {
   "cell_type": "markdown",
   "metadata": {},
   "source": [
    "## `status`\n",
    "`status` contains descriptive statistics of differences."
   ]
  },
  {
   "cell_type": "code",
   "execution_count": 6,
   "metadata": {},
   "outputs": [
    {
     "data": {
      "text/plain": [
       "{'modified_spans': 1,\n",
       " 'missing_spans': 2,\n",
       " 'extra_spans': 3,\n",
       " 'extra_annotations': 5,\n",
       " 'missing_annotations': 3,\n",
       " 'overlapped': 1,\n",
       " 'prolonged': 0,\n",
       " 'shortened': 1,\n",
       " 'conflicts': 2,\n",
       " 'unchanged_spans': 3,\n",
       " 'unchanged_annotations': 5}"
      ]
     },
     "execution_count": 6,
     "metadata": {},
     "output_type": "execute_result"
    }
   ],
   "source": [
    "status"
   ]
  },
  {
   "cell_type": "markdown",
   "metadata": {},
   "source": [
    "    unchanged_spans + modified_spans + missing_spans = length_of_old_layer\n",
    "    unchanged_spans + modified_spans + extra_spans = length_of_new_layer\n",
    "    unchanged_annotations + missing_annotations = number_of_annotations_in_old_layer\n",
    "    unchanged_annotations + extra_annotations   = number_of_annotations_in_new_layer\n",
    "    overlapped + prolonged + shortened = conflicts <= missing_spans x extra_spans\n",
    "    \n",
    "A **raw span** is the text segment corresponding to the span (a span without annotations).\n",
    "\n",
    "A span is a **missing span** if its raw span is in the first layer but not in the second layer.\n",
    "\n",
    "A span is an **extra span** if its raw span is in the second layer but not in the first layer.\n",
    "\n",
    "A span is **modified** if the raw span exists in the first and in the second layer but the annotations are different.\n",
    "\n",
    "A **conflict** is a pair of a missing span and an extra span that cover partially the same text. The annotations are not compared in this case."
   ]
  },
  {
   "cell_type": "markdown",
   "metadata": {},
   "source": [
    "# Iterate layer of differences"
   ]
  },
  {
   "cell_type": "code",
   "execution_count": 7,
   "metadata": {},
   "outputs": [],
   "source": [
    "from estnltk.taggers.standard_taggers.diff_tagger import iterate_modified\n",
    "from estnltk.taggers.standard_taggers.diff_tagger import iterate_missing\n",
    "from estnltk.taggers.standard_taggers.diff_tagger import iterate_extra\n",
    "from estnltk.taggers.standard_taggers.diff_tagger import iterate_diff_conflicts\n",
    "from estnltk.taggers.standard_taggers.diff_tagger import iterate_overlapped\n",
    "from estnltk.taggers.standard_taggers.diff_tagger import iterate_prolonged\n",
    "from estnltk.taggers.standard_taggers.diff_tagger import iterate_shortened"
   ]
  },
  {
   "cell_type": "markdown",
   "metadata": {},
   "source": [
    "## Iterate modified spans\n",
    "Note that only missing and extra annotations of the span are shown."
   ]
  },
  {
   "cell_type": "code",
   "execution_count": 8,
   "metadata": {},
   "outputs": [
    {
     "data": {
      "text/html": [
       "<b>AmbiguousSpan</b>\n",
       "<table border=\"1\" class=\"dataframe\">\n",
       "  <thead>\n",
       "    <tr style=\"text-align: left;\">\n",
       "      <th>text</th>\n",
       "      <th>start</th>\n",
       "      <th>end</th>\n",
       "      <th>input_layer_name</th>\n",
       "      <th>span_status</th>\n",
       "      <th>attr</th>\n",
       "      <th>attr_5</th>\n",
       "    </tr>\n",
       "  </thead>\n",
       "  <tbody>\n",
       "    <tr>\n",
       "      <td>[Sada, kakskümmend]</td>\n",
       "      <td>0</td>\n",
       "      <td>16</td>\n",
       "      <td>layer_5</td>\n",
       "      <td>modified</td>\n",
       "      <td>L5-1-1</td>\n",
       "      <td>SADA KAKS</td>\n",
       "    </tr>\n",
       "    <tr>\n",
       "      <td></td>\n",
       "      <td>0</td>\n",
       "      <td>16</td>\n",
       "      <td>layer_5_new</td>\n",
       "      <td>modified</td>\n",
       "      <td>L5-1-1</td>\n",
       "      <td>sada kaks</td>\n",
       "    </tr>\n",
       "  </tbody>\n",
       "</table>"
      ]
     },
     "metadata": {},
     "output_type": "display_data"
    }
   ],
   "source": [
    "for a in iterate_modified(text.diff_layer, 'span_status'):\n",
    "    a.display()"
   ]
  },
  {
   "cell_type": "markdown",
   "metadata": {},
   "source": [
    "## Iterate missing spans"
   ]
  },
  {
   "cell_type": "code",
   "execution_count": 9,
   "metadata": {},
   "outputs": [
    {
     "data": {
      "text/html": [
       "<b>AmbiguousSpan</b>\n",
       "<table border=\"1\" class=\"dataframe\">\n",
       "  <thead>\n",
       "    <tr style=\"text-align: left;\">\n",
       "      <th>text</th>\n",
       "      <th>start</th>\n",
       "      <th>end</th>\n",
       "      <th>input_layer_name</th>\n",
       "      <th>span_status</th>\n",
       "      <th>attr</th>\n",
       "      <th>attr_5</th>\n",
       "    </tr>\n",
       "  </thead>\n",
       "  <tbody>\n",
       "    <tr>\n",
       "      <td>[Neli, tuhat]</td>\n",
       "      <td>23</td>\n",
       "      <td>33</td>\n",
       "      <td>layer_5</td>\n",
       "      <td>missing</td>\n",
       "      <td>L5-3-5</td>\n",
       "      <td>NELI TUHAT</td>\n",
       "    </tr>\n",
       "  </tbody>\n",
       "</table>"
      ]
     },
     "metadata": {},
     "output_type": "display_data"
    },
    {
     "data": {
      "text/html": [
       "<b>AmbiguousSpan</b>\n",
       "<table border=\"1\" class=\"dataframe\">\n",
       "  <thead>\n",
       "    <tr style=\"text-align: left;\">\n",
       "      <th>text</th>\n",
       "      <th>start</th>\n",
       "      <th>end</th>\n",
       "      <th>input_layer_name</th>\n",
       "      <th>span_status</th>\n",
       "      <th>attr</th>\n",
       "      <th>attr_5</th>\n",
       "    </tr>\n",
       "  </thead>\n",
       "  <tbody>\n",
       "    <tr>\n",
       "      <td>[tuhat, viis]</td>\n",
       "      <td>28</td>\n",
       "      <td>38</td>\n",
       "      <td>layer_5</td>\n",
       "      <td>missing</td>\n",
       "      <td>L5-4-6</td>\n",
       "      <td>TUHAT VIIS</td>\n",
       "    </tr>\n",
       "  </tbody>\n",
       "</table>"
      ]
     },
     "metadata": {},
     "output_type": "display_data"
    }
   ],
   "source": [
    "for a in iterate_missing(text.diff_layer, 'span_status'):\n",
    "    a.display()"
   ]
  },
  {
   "cell_type": "markdown",
   "metadata": {},
   "source": [
    "## Iterate extra spans"
   ]
  },
  {
   "cell_type": "code",
   "execution_count": 10,
   "metadata": {},
   "outputs": [
    {
     "data": {
      "text/html": [
       "<b>AmbiguousSpan</b>\n",
       "<table border=\"1\" class=\"dataframe\">\n",
       "  <thead>\n",
       "    <tr style=\"text-align: left;\">\n",
       "      <th>text</th>\n",
       "      <th>start</th>\n",
       "      <th>end</th>\n",
       "      <th>input_layer_name</th>\n",
       "      <th>span_status</th>\n",
       "      <th>attr</th>\n",
       "      <th>attr_5</th>\n",
       "    </tr>\n",
       "  </thead>\n",
       "  <tbody>\n",
       "    <tr>\n",
       "      <td>[viis]</td>\n",
       "      <td>34</td>\n",
       "      <td>38</td>\n",
       "      <td>layer_5_new</td>\n",
       "      <td>extra</td>\n",
       "      <td>L5-5-7</td>\n",
       "      <td>VIIS</td>\n",
       "    </tr>\n",
       "  </tbody>\n",
       "</table>"
      ]
     },
     "metadata": {},
     "output_type": "display_data"
    },
    {
     "data": {
      "text/html": [
       "<b>AmbiguousSpan</b>\n",
       "<table border=\"1\" class=\"dataframe\">\n",
       "  <thead>\n",
       "    <tr style=\"text-align: left;\">\n",
       "      <th>text</th>\n",
       "      <th>start</th>\n",
       "      <th>end</th>\n",
       "      <th>input_layer_name</th>\n",
       "      <th>span_status</th>\n",
       "      <th>attr</th>\n",
       "      <th>attr_5</th>\n",
       "    </tr>\n",
       "  </thead>\n",
       "  <tbody>\n",
       "    <tr>\n",
       "      <td>[viissada, kuuskümmend]</td>\n",
       "      <td>34</td>\n",
       "      <td>54</td>\n",
       "      <td>layer_5_new</td>\n",
       "      <td>extra</td>\n",
       "      <td>L5-6-8</td>\n",
       "      <td>VIISSADA KUUS</td>\n",
       "    </tr>\n",
       "    <tr>\n",
       "      <td></td>\n",
       "      <td>34</td>\n",
       "      <td>54</td>\n",
       "      <td>layer_5_new</td>\n",
       "      <td>extra</td>\n",
       "      <td>L5-6-10</td>\n",
       "      <td>VIISSADA KUUSKÜMMEND</td>\n",
       "    </tr>\n",
       "  </tbody>\n",
       "</table>"
      ]
     },
     "metadata": {},
     "output_type": "display_data"
    },
    {
     "data": {
      "text/html": [
       "<b>AmbiguousSpan</b>\n",
       "<table border=\"1\" class=\"dataframe\">\n",
       "  <thead>\n",
       "    <tr style=\"text-align: left;\">\n",
       "      <th>text</th>\n",
       "      <th>start</th>\n",
       "      <th>end</th>\n",
       "      <th>input_layer_name</th>\n",
       "      <th>span_status</th>\n",
       "      <th>attr</th>\n",
       "      <th>attr_5</th>\n",
       "    </tr>\n",
       "  </thead>\n",
       "  <tbody>\n",
       "    <tr>\n",
       "      <td>[seitse, koma, kaheksa]</td>\n",
       "      <td>55</td>\n",
       "      <td>74</td>\n",
       "      <td>layer_5_new</td>\n",
       "      <td>extra</td>\n",
       "      <td>L5-8-12</td>\n",
       "      <td>SEITSE KOMA KAHEKSA</td>\n",
       "    </tr>\n",
       "  </tbody>\n",
       "</table>"
      ]
     },
     "metadata": {},
     "output_type": "display_data"
    }
   ],
   "source": [
    "for a in iterate_extra(text.diff_layer, 'span_status'):\n",
    "    a.display()"
   ]
  },
  {
   "cell_type": "markdown",
   "metadata": {},
   "source": [
    "## Iterate overlapped spans"
   ]
  },
  {
   "cell_type": "code",
   "execution_count": 11,
   "metadata": {},
   "outputs": [
    {
     "data": {
      "text/html": [
       "<b>AmbiguousSpan</b>\n",
       "<table border=\"1\" class=\"dataframe\">\n",
       "  <thead>\n",
       "    <tr style=\"text-align: left;\">\n",
       "      <th>text</th>\n",
       "      <th>start</th>\n",
       "      <th>end</th>\n",
       "      <th>input_layer_name</th>\n",
       "      <th>span_status</th>\n",
       "      <th>attr</th>\n",
       "      <th>attr_5</th>\n",
       "    </tr>\n",
       "  </thead>\n",
       "  <tbody>\n",
       "    <tr>\n",
       "      <td>[tuhat, viis]</td>\n",
       "      <td>28</td>\n",
       "      <td>38</td>\n",
       "      <td>layer_5</td>\n",
       "      <td>missing</td>\n",
       "      <td>L5-4-6</td>\n",
       "      <td>TUHAT VIIS</td>\n",
       "    </tr>\n",
       "  </tbody>\n",
       "</table>"
      ]
     },
     "metadata": {},
     "output_type": "display_data"
    },
    {
     "data": {
      "text/html": [
       "<b>AmbiguousSpan</b>\n",
       "<table border=\"1\" class=\"dataframe\">\n",
       "  <thead>\n",
       "    <tr style=\"text-align: left;\">\n",
       "      <th>text</th>\n",
       "      <th>start</th>\n",
       "      <th>end</th>\n",
       "      <th>input_layer_name</th>\n",
       "      <th>span_status</th>\n",
       "      <th>attr</th>\n",
       "      <th>attr_5</th>\n",
       "    </tr>\n",
       "  </thead>\n",
       "  <tbody>\n",
       "    <tr>\n",
       "      <td>[viissada, kuuskümmend]</td>\n",
       "      <td>34</td>\n",
       "      <td>54</td>\n",
       "      <td>layer_5_new</td>\n",
       "      <td>extra</td>\n",
       "      <td>L5-6-8</td>\n",
       "      <td>VIISSADA KUUS</td>\n",
       "    </tr>\n",
       "    <tr>\n",
       "      <td></td>\n",
       "      <td>34</td>\n",
       "      <td>54</td>\n",
       "      <td>layer_5_new</td>\n",
       "      <td>extra</td>\n",
       "      <td>L5-6-10</td>\n",
       "      <td>VIISSADA KUUSKÜMMEND</td>\n",
       "    </tr>\n",
       "  </tbody>\n",
       "</table>"
      ]
     },
     "metadata": {},
     "output_type": "display_data"
    }
   ],
   "source": [
    "for a, b in iterate_overlapped(text.diff_layer, 'span_status'):\n",
    "    a.display()\n",
    "    b.display()"
   ]
  },
  {
   "cell_type": "markdown",
   "metadata": {},
   "source": [
    "## Iterate prolonged spans"
   ]
  },
  {
   "cell_type": "code",
   "execution_count": 12,
   "metadata": {},
   "outputs": [],
   "source": [
    "for a, b in iterate_prolonged(text.diff_layer, 'span_status'):\n",
    "    a.display()\n",
    "    b.display()"
   ]
  },
  {
   "cell_type": "markdown",
   "metadata": {},
   "source": [
    "## Iterate shortened spans"
   ]
  },
  {
   "cell_type": "code",
   "execution_count": 13,
   "metadata": {},
   "outputs": [
    {
     "data": {
      "text/html": [
       "<b>AmbiguousSpan</b>\n",
       "<table border=\"1\" class=\"dataframe\">\n",
       "  <thead>\n",
       "    <tr style=\"text-align: left;\">\n",
       "      <th>text</th>\n",
       "      <th>start</th>\n",
       "      <th>end</th>\n",
       "      <th>input_layer_name</th>\n",
       "      <th>span_status</th>\n",
       "      <th>attr</th>\n",
       "      <th>attr_5</th>\n",
       "    </tr>\n",
       "  </thead>\n",
       "  <tbody>\n",
       "    <tr>\n",
       "      <td>[tuhat, viis]</td>\n",
       "      <td>28</td>\n",
       "      <td>38</td>\n",
       "      <td>layer_5</td>\n",
       "      <td>missing</td>\n",
       "      <td>L5-4-6</td>\n",
       "      <td>TUHAT VIIS</td>\n",
       "    </tr>\n",
       "  </tbody>\n",
       "</table>"
      ]
     },
     "metadata": {},
     "output_type": "display_data"
    },
    {
     "data": {
      "text/html": [
       "<b>AmbiguousSpan</b>\n",
       "<table border=\"1\" class=\"dataframe\">\n",
       "  <thead>\n",
       "    <tr style=\"text-align: left;\">\n",
       "      <th>text</th>\n",
       "      <th>start</th>\n",
       "      <th>end</th>\n",
       "      <th>input_layer_name</th>\n",
       "      <th>span_status</th>\n",
       "      <th>attr</th>\n",
       "      <th>attr_5</th>\n",
       "    </tr>\n",
       "  </thead>\n",
       "  <tbody>\n",
       "    <tr>\n",
       "      <td>[viis]</td>\n",
       "      <td>34</td>\n",
       "      <td>38</td>\n",
       "      <td>layer_5_new</td>\n",
       "      <td>extra</td>\n",
       "      <td>L5-5-7</td>\n",
       "      <td>VIIS</td>\n",
       "    </tr>\n",
       "  </tbody>\n",
       "</table>"
      ]
     },
     "metadata": {},
     "output_type": "display_data"
    }
   ],
   "source": [
    "for a, b in iterate_shortened(text.diff_layer, 'span_status'):\n",
    "    a.display()\n",
    "    b.display()"
   ]
  },
  {
   "cell_type": "markdown",
   "metadata": {},
   "source": [
    "## Iterate all conflicts between missing and extra spans"
   ]
  },
  {
   "cell_type": "code",
   "execution_count": 14,
   "metadata": {},
   "outputs": [
    {
     "name": "stdout",
     "output_type": "stream",
     "text": [
      "Conflicting pair:\n"
     ]
    },
    {
     "data": {
      "text/html": [
       "<b>AmbiguousSpan</b>\n",
       "<table border=\"1\" class=\"dataframe\">\n",
       "  <thead>\n",
       "    <tr style=\"text-align: left;\">\n",
       "      <th>text</th>\n",
       "      <th>start</th>\n",
       "      <th>end</th>\n",
       "      <th>input_layer_name</th>\n",
       "      <th>span_status</th>\n",
       "      <th>attr</th>\n",
       "      <th>attr_5</th>\n",
       "    </tr>\n",
       "  </thead>\n",
       "  <tbody>\n",
       "    <tr>\n",
       "      <td>[tuhat, viis]</td>\n",
       "      <td>28</td>\n",
       "      <td>38</td>\n",
       "      <td>layer_5</td>\n",
       "      <td>missing</td>\n",
       "      <td>L5-4-6</td>\n",
       "      <td>TUHAT VIIS</td>\n",
       "    </tr>\n",
       "  </tbody>\n",
       "</table>"
      ]
     },
     "metadata": {},
     "output_type": "display_data"
    },
    {
     "data": {
      "text/html": [
       "<b>AmbiguousSpan</b>\n",
       "<table border=\"1\" class=\"dataframe\">\n",
       "  <thead>\n",
       "    <tr style=\"text-align: left;\">\n",
       "      <th>text</th>\n",
       "      <th>start</th>\n",
       "      <th>end</th>\n",
       "      <th>input_layer_name</th>\n",
       "      <th>span_status</th>\n",
       "      <th>attr</th>\n",
       "      <th>attr_5</th>\n",
       "    </tr>\n",
       "  </thead>\n",
       "  <tbody>\n",
       "    <tr>\n",
       "      <td>[viis]</td>\n",
       "      <td>34</td>\n",
       "      <td>38</td>\n",
       "      <td>layer_5_new</td>\n",
       "      <td>extra</td>\n",
       "      <td>L5-5-7</td>\n",
       "      <td>VIIS</td>\n",
       "    </tr>\n",
       "  </tbody>\n",
       "</table>"
      ]
     },
     "metadata": {},
     "output_type": "display_data"
    },
    {
     "name": "stdout",
     "output_type": "stream",
     "text": [
      "Conflicting pair:\n"
     ]
    },
    {
     "data": {
      "text/html": [
       "<b>AmbiguousSpan</b>\n",
       "<table border=\"1\" class=\"dataframe\">\n",
       "  <thead>\n",
       "    <tr style=\"text-align: left;\">\n",
       "      <th>text</th>\n",
       "      <th>start</th>\n",
       "      <th>end</th>\n",
       "      <th>input_layer_name</th>\n",
       "      <th>span_status</th>\n",
       "      <th>attr</th>\n",
       "      <th>attr_5</th>\n",
       "    </tr>\n",
       "  </thead>\n",
       "  <tbody>\n",
       "    <tr>\n",
       "      <td>[tuhat, viis]</td>\n",
       "      <td>28</td>\n",
       "      <td>38</td>\n",
       "      <td>layer_5</td>\n",
       "      <td>missing</td>\n",
       "      <td>L5-4-6</td>\n",
       "      <td>TUHAT VIIS</td>\n",
       "    </tr>\n",
       "  </tbody>\n",
       "</table>"
      ]
     },
     "metadata": {},
     "output_type": "display_data"
    },
    {
     "data": {
      "text/html": [
       "<b>AmbiguousSpan</b>\n",
       "<table border=\"1\" class=\"dataframe\">\n",
       "  <thead>\n",
       "    <tr style=\"text-align: left;\">\n",
       "      <th>text</th>\n",
       "      <th>start</th>\n",
       "      <th>end</th>\n",
       "      <th>input_layer_name</th>\n",
       "      <th>span_status</th>\n",
       "      <th>attr</th>\n",
       "      <th>attr_5</th>\n",
       "    </tr>\n",
       "  </thead>\n",
       "  <tbody>\n",
       "    <tr>\n",
       "      <td>[viissada, kuuskümmend]</td>\n",
       "      <td>34</td>\n",
       "      <td>54</td>\n",
       "      <td>layer_5_new</td>\n",
       "      <td>extra</td>\n",
       "      <td>L5-6-8</td>\n",
       "      <td>VIISSADA KUUS</td>\n",
       "    </tr>\n",
       "    <tr>\n",
       "      <td></td>\n",
       "      <td>34</td>\n",
       "      <td>54</td>\n",
       "      <td>layer_5_new</td>\n",
       "      <td>extra</td>\n",
       "      <td>L5-6-10</td>\n",
       "      <td>VIISSADA KUUSKÜMMEND</td>\n",
       "    </tr>\n",
       "  </tbody>\n",
       "</table>"
      ]
     },
     "metadata": {},
     "output_type": "display_data"
    }
   ],
   "source": [
    "for a, b in iterate_diff_conflicts(text.diff_layer, 'span_status'):\n",
    "    print('Conflicting pair:')\n",
    "    a.display()\n",
    "    b.display()"
   ]
  }
 ],
 "metadata": {
  "kernelspec": {
   "display_name": "Python 3",
   "language": "python",
   "name": "python3"
  },
  "language_info": {
   "codemirror_mode": {
    "name": "ipython",
    "version": 3
   },
   "file_extension": ".py",
   "mimetype": "text/x-python",
   "name": "python",
   "nbconvert_exporter": "python",
   "pygments_lexer": "ipython3",
   "version": "3.6.8"
  }
 },
 "nbformat": 4,
 "nbformat_minor": 2
}
