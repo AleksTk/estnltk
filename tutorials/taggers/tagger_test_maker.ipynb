{
 "cells": [
  {
   "cell_type": "markdown",
   "metadata": {},
   "source": [
    "# Tagger test maker\n",
    "This tutorial expalins how the `make_tagger_test` method helps to create test files for taggers."
   ]
  },
  {
   "cell_type": "code",
   "execution_count": 1,
   "metadata": {},
   "outputs": [],
   "source": [
    "from estnltk import Text\n",
    "from estnltk.core import abs_path\n",
    "from estnltk.taggers import make_tagger_test"
   ]
  },
  {
   "cell_type": "markdown",
   "metadata": {},
   "source": [
    "Write a code that initializes the tagger to be tested. Include all imports and parameters. The variable name must be 'tagger'."
   ]
  },
  {
   "cell_type": "code",
   "execution_count": 2,
   "metadata": {},
   "outputs": [],
   "source": [
    "from estnltk.taggers import GapTagger\n",
    "\n",
    "tagger = GapTagger('gaps', ['words'])"
   ]
  },
  {
   "cell_type": "markdown",
   "metadata": {},
   "source": [
    "Store this code as a string."
   ]
  },
  {
   "cell_type": "code",
   "execution_count": 3,
   "metadata": {},
   "outputs": [
    {
     "name": "stdout",
     "output_type": "stream",
     "text": [
      "from estnltk.taggers import GapTagger\n",
      "\n",
      "tagger = GapTagger('gaps', ['words'])\n"
     ]
    }
   ],
   "source": [
    "tagger_creation = In[-2]\n",
    "print(tagger_creation)"
   ]
  },
  {
   "cell_type": "markdown",
   "metadata": {},
   "source": [
    "Create a Text object for which the tagger is applicable to, that is,\n",
    "```python\n",
    "tagger.tag(text)\n",
    "```\n",
    "should work."
   ]
  },
  {
   "cell_type": "code",
   "execution_count": 4,
   "metadata": {},
   "outputs": [],
   "source": [
    "text = Text('Tere, maailm!').tag_layer(['words'])"
   ]
  },
  {
   "cell_type": "markdown",
   "metadata": {},
   "source": [
    "Make sure, that the tagger works correctly on this input:"
   ]
  },
  {
   "cell_type": "code",
   "execution_count": 5,
   "metadata": {},
   "outputs": [
    {
     "data": {
      "text/html": [
       "<h4>SpanList</h4>\n",
       "<table border=\"1\" class=\"dataframe\">\n",
       "  <thead>\n",
       "    <tr style=\"text-align: right;\">\n",
       "      <th>layer name</th>\n",
       "      <th>attributes</th>\n",
       "      <th>parent</th>\n",
       "      <th>enveloping</th>\n",
       "      <th>ambiguous</th>\n",
       "      <th>span count</th>\n",
       "    </tr>\n",
       "  </thead>\n",
       "  <tbody>\n",
       "    <tr>\n",
       "      <td>gaps</td>\n",
       "      <td></td>\n",
       "      <td>None</td>\n",
       "      <td>None</td>\n",
       "      <td>False</td>\n",
       "      <td>1</td>\n",
       "    </tr>\n",
       "  </tbody>\n",
       "</table>\n",
       "<table border=\"1\" class=\"dataframe\">\n",
       "  <thead>\n",
       "    <tr style=\"text-align: right;\">\n",
       "      <th>text</th>\n",
       "      <th>start</th>\n",
       "      <th>end</th>\n",
       "    </tr>\n",
       "  </thead>\n",
       "  <tbody>\n",
       "    <tr>\n",
       "      <td></td>\n",
       "      <td>5</td>\n",
       "      <td>6</td>\n",
       "    </tr>\n",
       "  </tbody>\n",
       "</table>"
      ],
      "text/plain": [
       "SL[Span( , {})]"
      ]
     },
     "execution_count": 5,
     "metadata": {},
     "output_type": "execute_result"
    }
   ],
   "source": [
    "from copy import deepcopy\n",
    "expected_layer = tagger.tag(deepcopy(text))['gaps']\n",
    "expected_layer.spans"
   ]
  },
  {
   "cell_type": "markdown",
   "metadata": {},
   "source": [
    "For the basic test store the layer text."
   ]
  },
  {
   "cell_type": "code",
   "execution_count": 6,
   "metadata": {},
   "outputs": [
    {
     "data": {
      "text/plain": [
       "[' ']"
      ]
     },
     "execution_count": 6,
     "metadata": {},
     "output_type": "execute_result"
    }
   ],
   "source": [
    "expected_layer_text = expected_layer.text\n",
    "expected_layer_text"
   ]
  },
  {
   "cell_type": "markdown",
   "metadata": {},
   "source": [
    "Annotation describes the test and is dispalayed with the error message."
   ]
  },
  {
   "cell_type": "code",
   "execution_count": 7,
   "metadata": {},
   "outputs": [],
   "source": [
    "annotation = 'GapsTagger test demo'"
   ]
  },
  {
   "cell_type": "markdown",
   "metadata": {},
   "source": [
    "`abs_path` helps to create the path to the test file:"
   ]
  },
  {
   "cell_type": "code",
   "execution_count": 8,
   "metadata": {},
   "outputs": [],
   "source": [
    "test_file = abs_path('../tutorials/taggers/test_gaps_tagger_demo.py')"
   ]
  },
  {
   "cell_type": "markdown",
   "metadata": {},
   "source": [
    "`overwrite` flag helps to protect existing test files."
   ]
  },
  {
   "cell_type": "code",
   "execution_count": 9,
   "metadata": {},
   "outputs": [],
   "source": [
    "overwrite = False"
   ]
  },
  {
   "cell_type": "markdown",
   "metadata": {},
   "source": [
    "The next method creates the test file in the desired location."
   ]
  },
  {
   "cell_type": "code",
   "execution_count": 10,
   "metadata": {},
   "outputs": [
    {
     "name": "stdout",
     "output_type": "stream",
     "text": [
      "Created 'test_gaps_tagger_demo.py'.\n"
     ]
    }
   ],
   "source": [
    "make_tagger_test(tagger_creation=tagger_creation, # str\n",
    "                 text=text, # Text\n",
    "                 expected_layer_text=expected_layer_text, # List[str]\n",
    "                 test_file=test_file, # str\n",
    "                 annotation=annotation, # str\n",
    "                 overwrite=overwrite # bool, default False\n",
    "                )"
   ]
  },
  {
   "cell_type": "markdown",
   "metadata": {},
   "source": [
    "Wrap it all up in a single cell:"
   ]
  },
  {
   "cell_type": "code",
   "execution_count": 11,
   "metadata": {},
   "outputs": [
    {
     "name": "stdout",
     "output_type": "stream",
     "text": [
      "File 'test_gaps_tagger_demo.py' already exists. Use 'overwrite=True' to overwrite.\n"
     ]
    }
   ],
   "source": [
    "tagger_creation = \"\"\"from estnltk.taggers import GapTagger\n",
    "\n",
    "tagger = GapTagger('gaps', ['words'])\n",
    "\"\"\"\n",
    "text = Text('Tere, maailm!').tag_layer(['words'])\n",
    "expected_layer_text = [' ']\n",
    "annotation = 'GapsTagger test demo'\n",
    "test_file = abs_path('../tutorials/taggers/test_gaps_tagger_demo.py')\n",
    "\n",
    "make_tagger_test(tagger_creation, text, expected_layer_text, test_file, annotation, overwrite)"
   ]
  },
  {
   "cell_type": "markdown",
   "metadata": {},
   "source": [
    "The test file can be executed with `pytest`. Here is what the file looks like:"
   ]
  },
  {
   "cell_type": "code",
   "execution_count": 12,
   "metadata": {
    "scrolled": false
   },
   "outputs": [
    {
     "name": "stdout",
     "output_type": "stream",
     "text": [
      "# this test file is automatically generated by make_test_file method in tagger_test_maker.py\n",
      "\n",
      "from estnltk.converters import import_dict\n",
      "from estnltk.taggers import GapTagger\n",
      "\n",
      "tagger = GapTagger('gaps', ['words'])\n",
      "input_text_dict = \\\n",
      "{'layers': [{'_base': 'tokens',\n",
      "             'ambiguous': False,\n",
      "             'attributes': (),\n",
      "             'enveloping': None,\n",
      "             'name': 'tokens',\n",
      "             'parent': None,\n",
      "             'spans': [{'end': 4, 'start': 0},\n",
      "                       {'end': 5, 'start': 4},\n",
      "                       {'end': 12, 'start': 6},\n",
      "                       {'end': 13, 'start': 12}]},\n",
      "            {'_base': 'compound_tokens',\n",
      "             'ambiguous': False,\n",
      "             'attributes': ('type', 'normalized'),\n",
      "             'enveloping': 'tokens',\n",
      "             'name': 'compound_tokens',\n",
      "             'parent': None,\n",
      "             'spans': []},\n",
      "            {'_base': 'words',\n",
      "             'ambiguous': False,\n",
      "             'attributes': ('normalized_form',),\n",
      "             'enveloping': None,\n",
      "             'name': 'words',\n",
      "             'parent': None,\n",
      "             'spans': [{'end': 4, 'normalized_form': None, 'start': 0},\n",
      "                       {'end': 5, 'normalized_form': None, 'start': 4},\n",
      "                       {'end': 12, 'normalized_form': None, 'start': 6},\n",
      "                       {'end': 13, 'normalized_form': None, 'start': 12}]}],\n",
      " 'meta': {},\n",
      " 'text': 'Tere, maailm!'}\n",
      "\n",
      "expected_text_dict = \\\n",
      "{'layers': [{'_base': 'gaps',\n",
      "             'ambiguous': False,\n",
      "             'attributes': (),\n",
      "             'enveloping': None,\n",
      "             'name': 'gaps',\n",
      "             'parent': None,\n",
      "             'spans': [{'end': 6, 'start': 5}]},\n",
      "            {'_base': 'tokens',\n",
      "             'ambiguous': False,\n",
      "             'attributes': (),\n",
      "             'enveloping': None,\n",
      "             'name': 'tokens',\n",
      "             'parent': None,\n",
      "             'spans': [{'end': 4, 'start': 0},\n",
      "                       {'end': 5, 'start': 4},\n",
      "                       {'end': 12, 'start': 6},\n",
      "                       {'end': 13, 'start': 12}]},\n",
      "            {'_base': 'compound_tokens',\n",
      "             'ambiguous': False,\n",
      "             'attributes': ('type', 'normalized'),\n",
      "             'enveloping': 'tokens',\n",
      "             'name': 'compound_tokens',\n",
      "             'parent': None,\n",
      "             'spans': []},\n",
      "            {'_base': 'words',\n",
      "             'ambiguous': False,\n",
      "             'attributes': ('normalized_form',),\n",
      "             'enveloping': None,\n",
      "             'name': 'words',\n",
      "             'parent': None,\n",
      "             'spans': [{'end': 4, 'normalized_form': None, 'start': 0},\n",
      "                       {'end': 5, 'normalized_form': None, 'start': 4},\n",
      "                       {'end': 12, 'normalized_form': None, 'start': 6},\n",
      "                       {'end': 13, 'normalized_form': None, 'start': 12}]}],\n",
      " 'meta': {},\n",
      " 'text': 'Tere, maailm!'}\n",
      "\n",
      "\n",
      "expected_layer_text = [' ']\n",
      "\n",
      "expected_text = import_dict(expected_text_dict)\n",
      "\n",
      "input_text = import_dict(input_text_dict)\n",
      "result = tagger.tag(input_text)\n",
      "diff = expected_text.diff(result)\n",
      "\n",
      "\n",
      "def test_basic():\n",
      "    assert expected_layer_text == result[tagger.output_layer].text, 'GapsTagger test demo'\n",
      "\n",
      "\n",
      "def test_complete():\n",
      "    assert not diff, diff + '\\n' + 'GapsTagger test demo'\n",
      "\n"
     ]
    }
   ],
   "source": [
    "with open(test_file) as f:\n",
    "    print(f.read())"
   ]
  },
  {
   "cell_type": "code",
   "execution_count": 13,
   "metadata": {},
   "outputs": [],
   "source": [
    "# remove the demo test file\n",
    "from os import remove\n",
    "\n",
    "remove(test_file)"
   ]
  }
 ],
 "metadata": {
  "kernelspec": {
   "display_name": "Python 3",
   "language": "python",
   "name": "python3"
  },
  "language_info": {
   "codemirror_mode": {
    "name": "ipython",
    "version": 3
   },
   "file_extension": ".py",
   "mimetype": "text/x-python",
   "name": "python",
   "nbconvert_exporter": "python",
   "pygments_lexer": "ipython3",
   "version": "3.5.4"
  }
 },
 "nbformat": 4,
 "nbformat_minor": 2
}
