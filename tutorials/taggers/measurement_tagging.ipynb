{
 "cells": [
  {
   "cell_type": "markdown",
   "metadata": {},
   "source": [
    "# Measurement taggers\n",
    "\n",
    "``RobustDateNumberTagger``, ``MeasurementObjectTagger`` and ``UnitTagger`` all wrap ``RegexTagger`` and differ mainly by ``vocabulary``. These taggers in turn are wrapped by ``MeasurementTagger``.\n",
    "## RobustDateNumberTagger"
   ]
  },
  {
   "cell_type": "code",
   "execution_count": 1,
   "metadata": {},
   "outputs": [],
   "source": [
    "from estnltk import Text\n",
    "from estnltk.taggers.measurement_tagging.robust_date_number_tagger import RobustDateNumberTagger"
   ]
  },
  {
   "cell_type": "code",
   "execution_count": 2,
   "metadata": {},
   "outputs": [
    {
     "data": {
      "text/html": [
       "<h4>Tagger</h4>\n",
       "Tags dates and numbers.\n",
       "<table border=\"1\" class=\"dataframe\">\n",
       "  <thead>\n",
       "    <tr style=\"text-align: right;\">\n",
       "      <th>name</th>\n",
       "      <th>layer</th>\n",
       "      <th>attributes</th>\n",
       "      <th>depends_on</th>\n",
       "    </tr>\n",
       "  </thead>\n",
       "  <tbody>\n",
       "    <tr>\n",
       "      <td>RobustDateNumberTagger</td>\n",
       "      <td>dates_numbers</td>\n",
       "      <td>('grammar_symbol', 'regex_type', 'value')</td>\n",
       "      <td>[]</td>\n",
       "    </tr>\n",
       "  </tbody>\n",
       "</table>\n",
       "<h4>Configuration</h4>\n",
       "<table border=\"1\" class=\"dataframe\">\n",
       "  <tbody>\n",
       "    <tr>\n",
       "      <th>tagger</th>\n",
       "      <td>RegexTagger(conflict_resolving_strategy=ALL, overlapped=True)</td>\n",
       "    </tr>\n",
       "  </tbody>\n",
       "</table>"
      ],
      "text/plain": [
       "RobustDateNumberTagger(tagger=RegexTagger(conflict_resolving_strategy=ALL, overlapped=True))"
      ]
     },
     "execution_count": 2,
     "metadata": {},
     "output_type": "execute_result"
    }
   ],
   "source": [
    "date_number_tagger = RobustDateNumberTagger(conflict_resolving_strategy='ALL')\n",
    "date_number_tagger"
   ]
  },
  {
   "cell_type": "code",
   "execution_count": 3,
   "metadata": {},
   "outputs": [
    {
     "data": {
      "text/html": [
       "<table border=\"1\" class=\"dataframe\">\n",
       "  <thead>\n",
       "    <tr style=\"text-align: right;\">\n",
       "      <th>text</th>\n",
       "    </tr>\n",
       "  </thead>\n",
       "  <tbody>\n",
       "    <tr>\n",
       "      <td>PSA 2010. 3ng/ml, PSA 2012. 1,53ng/ml . - Bx va</td>\n",
       "    </tr>\n",
       "  </tbody>\n",
       "</table>"
      ],
      "text/plain": [
       "Text(text=\"PSA 2010. 3ng/ml, PSA 2012. 1,53ng/ml . - Bx va\")"
      ]
     },
     "execution_count": 3,
     "metadata": {},
     "output_type": "execute_result"
    }
   ],
   "source": [
    "text = Text('PSA 2010. 3ng/ml, PSA 2012. 1,53ng/ml . - Bx va')\n",
    "text"
   ]
  },
  {
   "cell_type": "code",
   "execution_count": 4,
   "metadata": {
    "scrolled": false
   },
   "outputs": [
    {
     "data": {
      "text/html": [
       "<h4>SpanList</h4>\n",
       "<table border=\"1\" class=\"dataframe\">\n",
       "  <thead>\n",
       "    <tr style=\"text-align: right;\">\n",
       "      <th>layer name</th>\n",
       "      <th>attributes</th>\n",
       "      <th>parent</th>\n",
       "      <th>enveloping</th>\n",
       "      <th>ambiguous</th>\n",
       "      <th>span count</th>\n",
       "    </tr>\n",
       "  </thead>\n",
       "  <tbody>\n",
       "    <tr>\n",
       "      <td>dates_numbers</td>\n",
       "      <td>grammar_symbol, regex_type, value</td>\n",
       "      <td>None</td>\n",
       "      <td>None</td>\n",
       "      <td>False</td>\n",
       "      <td>4</td>\n",
       "    </tr>\n",
       "  </tbody>\n",
       "</table>\n",
       "<table border=\"1\" class=\"dataframe\">\n",
       "  <thead>\n",
       "    <tr style=\"text-align: right;\">\n",
       "      <th>text</th>\n",
       "      <th>start</th>\n",
       "      <th>end</th>\n",
       "      <th>grammar_symbol</th>\n",
       "      <th>regex_type</th>\n",
       "      <th>value</th>\n",
       "    </tr>\n",
       "  </thead>\n",
       "  <tbody>\n",
       "    <tr>\n",
       "      <td>2010</td>\n",
       "      <td>4</td>\n",
       "      <td>8</td>\n",
       "      <td>DATE</td>\n",
       "      <td>date9</td>\n",
       "      <td>partial_date</td>\n",
       "    </tr>\n",
       "    <tr>\n",
       "      <td>3</td>\n",
       "      <td>10</td>\n",
       "      <td>11</td>\n",
       "      <td>NUMBER</td>\n",
       "      <td>anynumber</td>\n",
       "      <td>3</td>\n",
       "    </tr>\n",
       "    <tr>\n",
       "      <td>2012</td>\n",
       "      <td>22</td>\n",
       "      <td>26</td>\n",
       "      <td>DATE</td>\n",
       "      <td>date9</td>\n",
       "      <td>partial_date</td>\n",
       "    </tr>\n",
       "    <tr>\n",
       "      <td>1,53</td>\n",
       "      <td>28</td>\n",
       "      <td>32</td>\n",
       "      <td>NUMBER</td>\n",
       "      <td>anynumber</td>\n",
       "      <td>1.53</td>\n",
       "    </tr>\n",
       "  </tbody>\n",
       "</table>"
      ],
      "text/plain": [
       "SL[Span(2010, {'grammar_symbol': 'DATE', 'regex_type': 'date9', 'value': 'partial_date'}),\n",
       "Span(3, {'grammar_symbol': 'NUMBER', 'regex_type': 'anynumber', 'value': '3'}),\n",
       "Span(2012, {'grammar_symbol': 'DATE', 'regex_type': 'date9', 'value': 'partial_date'}),\n",
       "Span(1,53, {'grammar_symbol': 'NUMBER', 'regex_type': 'anynumber', 'value': '1.53'})]"
      ]
     },
     "execution_count": 4,
     "metadata": {},
     "output_type": "execute_result"
    }
   ],
   "source": [
    "date_number_tagger.tag(text)\n",
    "text.dates_numbers"
   ]
  },
  {
   "cell_type": "markdown",
   "metadata": {},
   "source": [
    "## UnitTagger"
   ]
  },
  {
   "cell_type": "code",
   "execution_count": 5,
   "metadata": {},
   "outputs": [
    {
     "data": {
      "text/html": [
       "<h4>Tagger</h4>\n",
       "Tags units.\n",
       "<table border=\"1\" class=\"dataframe\">\n",
       "  <thead>\n",
       "    <tr style=\"text-align: right;\">\n",
       "      <th>name</th>\n",
       "      <th>layer</th>\n",
       "      <th>attributes</th>\n",
       "      <th>depends_on</th>\n",
       "    </tr>\n",
       "  </thead>\n",
       "  <tbody>\n",
       "    <tr>\n",
       "      <td>UnitTagger</td>\n",
       "      <td>units</td>\n",
       "      <td>('grammar_symbol', 'regex_type', 'value')</td>\n",
       "      <td>[]</td>\n",
       "    </tr>\n",
       "  </tbody>\n",
       "</table>\n",
       "<h4>Configuration</h4>\n",
       "<table border=\"1\" class=\"dataframe\">\n",
       "  <tbody>\n",
       "    <tr>\n",
       "      <th>tagger</th>\n",
       "      <td>RegexTagger(conflict_resolving_strategy=ALL, overlapped=True)</td>\n",
       "    </tr>\n",
       "  </tbody>\n",
       "</table>"
      ],
      "text/plain": [
       "UnitTagger(tagger=RegexTagger(conflict_resolving_strategy=ALL, overlapped=True))"
      ]
     },
     "execution_count": 5,
     "metadata": {},
     "output_type": "execute_result"
    }
   ],
   "source": [
    "from estnltk.taggers.measurement_tagging.unit_tagger import UnitTagger\n",
    "\n",
    "unit_tagger = UnitTagger(conflict_resolving_strategy='ALL')\n",
    "unit_tagger"
   ]
  },
  {
   "cell_type": "code",
   "execution_count": 6,
   "metadata": {
    "scrolled": false
   },
   "outputs": [
    {
     "data": {
      "text/html": [
       "<h4>SpanList</h4>\n",
       "<table border=\"1\" class=\"dataframe\">\n",
       "  <thead>\n",
       "    <tr style=\"text-align: right;\">\n",
       "      <th>layer name</th>\n",
       "      <th>attributes</th>\n",
       "      <th>parent</th>\n",
       "      <th>enveloping</th>\n",
       "      <th>ambiguous</th>\n",
       "      <th>span count</th>\n",
       "    </tr>\n",
       "  </thead>\n",
       "  <tbody>\n",
       "    <tr>\n",
       "      <td>units</td>\n",
       "      <td>grammar_symbol, regex_type, value</td>\n",
       "      <td>None</td>\n",
       "      <td>None</td>\n",
       "      <td>False</td>\n",
       "      <td>7</td>\n",
       "    </tr>\n",
       "  </tbody>\n",
       "</table>\n",
       "<table border=\"1\" class=\"dataframe\">\n",
       "  <thead>\n",
       "    <tr style=\"text-align: right;\">\n",
       "      <th>text</th>\n",
       "      <th>start</th>\n",
       "      <th>end</th>\n",
       "      <th>grammar_symbol</th>\n",
       "      <th>regex_type</th>\n",
       "      <th>value</th>\n",
       "    </tr>\n",
       "  </thead>\n",
       "  <tbody>\n",
       "    <tr>\n",
       "      <td>ng/ml</td>\n",
       "      <td>11</td>\n",
       "      <td>16</td>\n",
       "      <td>UNIT</td>\n",
       "      <td>psa_unit</td>\n",
       "      <td>ng/ml</td>\n",
       "    </tr>\n",
       "    <tr>\n",
       "      <td>g</td>\n",
       "      <td>12</td>\n",
       "      <td>13</td>\n",
       "      <td>UNIT</td>\n",
       "      <td>kaal_unit</td>\n",
       "      <td>x</td>\n",
       "    </tr>\n",
       "    <tr>\n",
       "      <td>m</td>\n",
       "      <td>14</td>\n",
       "      <td>15</td>\n",
       "      <td>UNIT</td>\n",
       "      <td>pikkus_unit</td>\n",
       "      <td>x</td>\n",
       "    </tr>\n",
       "    <tr>\n",
       "      <td>ng/ml</td>\n",
       "      <td>32</td>\n",
       "      <td>37</td>\n",
       "      <td>UNIT</td>\n",
       "      <td>psa_unit</td>\n",
       "      <td>ng/ml</td>\n",
       "    </tr>\n",
       "    <tr>\n",
       "      <td>g</td>\n",
       "      <td>33</td>\n",
       "      <td>34</td>\n",
       "      <td>UNIT</td>\n",
       "      <td>kaal_unit</td>\n",
       "      <td>x</td>\n",
       "    </tr>\n",
       "    <tr>\n",
       "      <td>m</td>\n",
       "      <td>35</td>\n",
       "      <td>36</td>\n",
       "      <td>UNIT</td>\n",
       "      <td>pikkus_unit</td>\n",
       "      <td>x</td>\n",
       "    </tr>\n",
       "    <tr>\n",
       "      <td>x</td>\n",
       "      <td>43</td>\n",
       "      <td>44</td>\n",
       "      <td>UNIT</td>\n",
       "      <td>time_unit</td>\n",
       "      <td>x</td>\n",
       "    </tr>\n",
       "  </tbody>\n",
       "</table>"
      ],
      "text/plain": [
       "SL[Span(ng/ml, {'grammar_symbol': 'UNIT', 'regex_type': 'psa_unit', 'value': 'ng/ml'}),\n",
       "Span(g, {'grammar_symbol': 'UNIT', 'regex_type': 'kaal_unit', 'value': 'x'}),\n",
       "Span(m, {'grammar_symbol': 'UNIT', 'regex_type': 'pikkus_unit', 'value': 'x'}),\n",
       "Span(ng/ml, {'grammar_symbol': 'UNIT', 'regex_type': 'psa_unit', 'value': 'ng/ml'}),\n",
       "Span(g, {'grammar_symbol': 'UNIT', 'regex_type': 'kaal_unit', 'value': 'x'}),\n",
       "Span(m, {'grammar_symbol': 'UNIT', 'regex_type': 'pikkus_unit', 'value': 'x'}),\n",
       "Span(x, {'grammar_symbol': 'UNIT', 'regex_type': 'time_unit', 'value': 'x'})]"
      ]
     },
     "execution_count": 6,
     "metadata": {},
     "output_type": "execute_result"
    }
   ],
   "source": [
    "unit_tagger.tag(text)\n",
    "text.units"
   ]
  },
  {
   "cell_type": "markdown",
   "metadata": {},
   "source": [
    "## MeasurementObjectTagger"
   ]
  },
  {
   "cell_type": "code",
   "execution_count": 7,
   "metadata": {},
   "outputs": [
    {
     "data": {
      "text/html": [
       "<h4>Tagger</h4>\n",
       "Tags measurement objects.\n",
       "<table border=\"1\" class=\"dataframe\">\n",
       "  <thead>\n",
       "    <tr style=\"text-align: right;\">\n",
       "      <th>name</th>\n",
       "      <th>layer</th>\n",
       "      <th>attributes</th>\n",
       "      <th>depends_on</th>\n",
       "    </tr>\n",
       "  </thead>\n",
       "  <tbody>\n",
       "    <tr>\n",
       "      <td>MeasurementObjectTagger</td>\n",
       "      <td>measurement_objects</td>\n",
       "      <td>('grammar_symbol', 'regex_type', 'value')</td>\n",
       "      <td>[]</td>\n",
       "    </tr>\n",
       "  </tbody>\n",
       "</table>\n",
       "<h4>Configuration</h4>\n",
       "<table border=\"1\" class=\"dataframe\">\n",
       "  <tbody>\n",
       "    <tr>\n",
       "      <th>tagger</th>\n",
       "      <td>RegexTagger(conflict_resolving_strategy=ALL, overlapped=True)</td>\n",
       "    </tr>\n",
       "  </tbody>\n",
       "</table>"
      ],
      "text/plain": [
       "MeasurementObjectTagger(tagger=RegexTagger(conflict_resolving_strategy=ALL, overlapped=True))"
      ]
     },
     "execution_count": 7,
     "metadata": {},
     "output_type": "execute_result"
    }
   ],
   "source": [
    "from estnltk.taggers.measurement_tagging.measurement_object_tagger import MeasurementObjectTagger\n",
    "mo_tagger = MeasurementObjectTagger(conflict_resolving_strategy='ALL')\n",
    "mo_tagger"
   ]
  },
  {
   "cell_type": "code",
   "execution_count": 8,
   "metadata": {},
   "outputs": [
    {
     "data": {
      "text/html": [
       "<h4>SpanList</h4>\n",
       "<table border=\"1\" class=\"dataframe\">\n",
       "  <thead>\n",
       "    <tr style=\"text-align: right;\">\n",
       "      <th>layer name</th>\n",
       "      <th>attributes</th>\n",
       "      <th>parent</th>\n",
       "      <th>enveloping</th>\n",
       "      <th>ambiguous</th>\n",
       "      <th>span count</th>\n",
       "    </tr>\n",
       "  </thead>\n",
       "  <tbody>\n",
       "    <tr>\n",
       "      <td>measurement_objects</td>\n",
       "      <td>grammar_symbol, regex_type, value</td>\n",
       "      <td>None</td>\n",
       "      <td>None</td>\n",
       "      <td>False</td>\n",
       "      <td>3</td>\n",
       "    </tr>\n",
       "  </tbody>\n",
       "</table>\n",
       "<table border=\"1\" class=\"dataframe\">\n",
       "  <thead>\n",
       "    <tr style=\"text-align: right;\">\n",
       "      <th>text</th>\n",
       "      <th>start</th>\n",
       "      <th>end</th>\n",
       "      <th>grammar_symbol</th>\n",
       "      <th>regex_type</th>\n",
       "      <th>value</th>\n",
       "    </tr>\n",
       "  </thead>\n",
       "  <tbody>\n",
       "    <tr>\n",
       "      <td>PSA</td>\n",
       "      <td>0</td>\n",
       "      <td>3</td>\n",
       "      <td>MO</td>\n",
       "      <td>measurement_object</td>\n",
       "      <td>psa</td>\n",
       "    </tr>\n",
       "    <tr>\n",
       "      <td>PSA</td>\n",
       "      <td>17</td>\n",
       "      <td>21</td>\n",
       "      <td>MO</td>\n",
       "      <td>measurement_object</td>\n",
       "      <td>psa</td>\n",
       "    </tr>\n",
       "    <tr>\n",
       "      <td>PSA</td>\n",
       "      <td>18</td>\n",
       "      <td>21</td>\n",
       "      <td>MO</td>\n",
       "      <td>measurement_object</td>\n",
       "      <td>psa</td>\n",
       "    </tr>\n",
       "  </tbody>\n",
       "</table>"
      ],
      "text/plain": [
       "SL[Span(PSA, {'grammar_symbol': 'MO', 'regex_type': 'measurement_object', 'value': 'psa'}),\n",
       "Span( PSA, {'grammar_symbol': 'MO', 'regex_type': 'measurement_object', 'value': 'psa'}),\n",
       "Span(PSA, {'grammar_symbol': 'MO', 'regex_type': 'measurement_object', 'value': 'psa'})]"
      ]
     },
     "execution_count": 8,
     "metadata": {},
     "output_type": "execute_result"
    }
   ],
   "source": [
    "mo_tagger(text)\n",
    "text.measurement_objects"
   ]
  },
  {
   "cell_type": "code",
   "execution_count": 9,
   "metadata": {},
   "outputs": [
    {
     "data": {
      "text/html": [
       "<table border=\"1\" class=\"dataframe\">\n",
       "  <thead>\n",
       "    <tr style=\"text-align: right;\">\n",
       "      <th>text</th>\n",
       "    </tr>\n",
       "  </thead>\n",
       "  <tbody>\n",
       "    <tr>\n",
       "      <td>PSA 2010. 3ng/ml, PSA 2012. 1,53ng/ml . - Bx va</td>\n",
       "    </tr>\n",
       "  </tbody>\n",
       "</table>\n",
       "<table border=\"1\" class=\"dataframe\">\n",
       "  <thead>\n",
       "    <tr style=\"text-align: right;\">\n",
       "      <th>layer name</th>\n",
       "      <th>attributes</th>\n",
       "      <th>parent</th>\n",
       "      <th>enveloping</th>\n",
       "      <th>ambiguous</th>\n",
       "      <th>span count</th>\n",
       "    </tr>\n",
       "  </thead>\n",
       "  <tbody>\n",
       "    <tr>\n",
       "      <td>dates_numbers</td>\n",
       "      <td>grammar_symbol, regex_type, value</td>\n",
       "      <td>None</td>\n",
       "      <td>None</td>\n",
       "      <td>False</td>\n",
       "      <td>4</td>\n",
       "    </tr>\n",
       "    <tr>\n",
       "      <td>measurement_objects</td>\n",
       "      <td>grammar_symbol, regex_type, value</td>\n",
       "      <td>None</td>\n",
       "      <td>None</td>\n",
       "      <td>False</td>\n",
       "      <td>3</td>\n",
       "    </tr>\n",
       "    <tr>\n",
       "      <td>units</td>\n",
       "      <td>grammar_symbol, regex_type, value</td>\n",
       "      <td>None</td>\n",
       "      <td>None</td>\n",
       "      <td>False</td>\n",
       "      <td>7</td>\n",
       "    </tr>\n",
       "  </tbody>\n",
       "</table>"
      ],
      "text/plain": [
       "Text(text=\"PSA 2010. 3ng/ml, PSA 2012. 1,53ng/ml . - Bx va\")"
      ]
     },
     "execution_count": 9,
     "metadata": {},
     "output_type": "execute_result"
    }
   ],
   "source": [
    "text"
   ]
  },
  {
   "cell_type": "markdown",
   "metadata": {},
   "source": [
    "## MeasurementTagger\n",
    "``MeasurementTagger`` merges ``RobustDatesNumbersTagger``, ``MeasurementObjectTagger`` and ``UnitsTagger`` outputs using ``MergeTagger`` and creates the ``grammar_tags`` layer."
   ]
  },
  {
   "cell_type": "code",
   "execution_count": 10,
   "metadata": {},
   "outputs": [
    {
     "data": {
      "text/html": [
       "<h4>Tagger</h4>\n",
       "Wraps RobustDatesNumbersTagger, MeasurementObjectTagger and UnitsTagger.\n",
       "<table border=\"1\" class=\"dataframe\">\n",
       "  <thead>\n",
       "    <tr style=\"text-align: right;\">\n",
       "      <th>name</th>\n",
       "      <th>layer</th>\n",
       "      <th>attributes</th>\n",
       "      <th>depends_on</th>\n",
       "    </tr>\n",
       "  </thead>\n",
       "  <tbody>\n",
       "    <tr>\n",
       "      <td>MeasurementTagger</td>\n",
       "      <td>grammar_tags</td>\n",
       "      <td>('grammar_symbol', 'regex_type', 'value')</td>\n",
       "      <td>[]</td>\n",
       "    </tr>\n",
       "  </tbody>\n",
       "</table>\n",
       "<h4>Configuration</h4>\n",
       "<table border=\"1\" class=\"dataframe\">\n",
       "  <tbody>\n",
       "    <tr>\n",
       "      <th>date_number_tagger</th>\n",
       "      <td>RobustDateNumberTagger(tagger=RegexTagger(conflict_resolving_strategy=ALL, overlapped=True))</td>\n",
       "    </tr>\n",
       "    <tr>\n",
       "      <th>measurement_object_tagger</th>\n",
       "      <td>MeasurementObjectTagger(tagger=RegexTagger(conflict_resolving_strategy=ALL, overlapped=True))</td>\n",
       "    </tr>\n",
       "    <tr>\n",
       "      <th>unit_tagger</th>\n",
       "      <td>UnitTagger(tagger=RegexTagger(conflict_resolving_strategy=ALL, overlapped=True))</td>\n",
       "    </tr>\n",
       "    <tr>\n",
       "      <th>merge_tagger</th>\n",
       "      <td>MergeTagger()</td>\n",
       "    </tr>\n",
       "  </tbody>\n",
       "</table>"
      ],
      "text/plain": [
       "MeasurementTagger(date_number_tagger=RobustDateNumberTagger(tagger=RegexTagger(conflict_resolving_strategy=ALL, overlapped=True)), measurement_object_tagger=MeasurementObjectTagger(tagger=RegexTagger(conflict_resolving_strategy=ALL, overlapped=True)), unit_tagger=UnitTagger(tagger=RegexTagger(conflict_resolving_strategy=ALL, overlapped=True)), merge_tagger=MergeTagger())"
      ]
     },
     "execution_count": 10,
     "metadata": {},
     "output_type": "execute_result"
    }
   ],
   "source": [
    "from estnltk.taggers.measurement_tagging.measurement_tagger import MeasurementTagger\n",
    "\n",
    "measurement_tagger = MeasurementTagger(attributes=('grammar_symbol', 'regex_type', 'value'), # default\n",
    "                                       conflict_resolving_strategy='ALL', # default: 'MAX'\n",
    "                                       overlapped=True, # default\n",
    "                                       layer_name='grammar_tags' # default\n",
    "                                      )\n",
    "measurement_tagger"
   ]
  },
  {
   "cell_type": "code",
   "execution_count": 11,
   "metadata": {},
   "outputs": [
    {
     "data": {
      "text/html": [
       "<table border=\"1\" class=\"dataframe\">\n",
       "  <thead>\n",
       "    <tr style=\"text-align: right;\">\n",
       "      <th>text</th>\n",
       "    </tr>\n",
       "  </thead>\n",
       "  <tbody>\n",
       "    <tr>\n",
       "      <td>PSA 2010. 3ng/ml, PSA 2012. 1,53ng/ml . - Bx va</td>\n",
       "    </tr>\n",
       "  </tbody>\n",
       "</table>\n",
       "<table border=\"1\" class=\"dataframe\">\n",
       "  <thead>\n",
       "    <tr style=\"text-align: right;\">\n",
       "      <th>layer name</th>\n",
       "      <th>attributes</th>\n",
       "      <th>parent</th>\n",
       "      <th>enveloping</th>\n",
       "      <th>ambiguous</th>\n",
       "      <th>span count</th>\n",
       "    </tr>\n",
       "  </thead>\n",
       "  <tbody>\n",
       "    <tr>\n",
       "      <td>grammar_tags</td>\n",
       "      <td>grammar_symbol, value</td>\n",
       "      <td>None</td>\n",
       "      <td>None</td>\n",
       "      <td>False</td>\n",
       "      <td>14</td>\n",
       "    </tr>\n",
       "  </tbody>\n",
       "</table>"
      ],
      "text/plain": [
       "Text(text=\"PSA 2010. 3ng/ml, PSA 2012. 1,53ng/ml . - Bx va\")"
      ]
     },
     "execution_count": 11,
     "metadata": {},
     "output_type": "execute_result"
    }
   ],
   "source": [
    "text = Text('PSA 2010. 3ng/ml, PSA 2012. 1,53ng/ml . - Bx va')\n",
    "measurement_tagger.tag(text)"
   ]
  },
  {
   "cell_type": "code",
   "execution_count": 12,
   "metadata": {},
   "outputs": [
    {
     "data": {
      "text/html": [
       "<h4>SpanList</h4>\n",
       "<table border=\"1\" class=\"dataframe\">\n",
       "  <thead>\n",
       "    <tr style=\"text-align: right;\">\n",
       "      <th>layer name</th>\n",
       "      <th>attributes</th>\n",
       "      <th>parent</th>\n",
       "      <th>enveloping</th>\n",
       "      <th>ambiguous</th>\n",
       "      <th>span count</th>\n",
       "    </tr>\n",
       "  </thead>\n",
       "  <tbody>\n",
       "    <tr>\n",
       "      <td>grammar_tags</td>\n",
       "      <td>grammar_symbol, value</td>\n",
       "      <td>None</td>\n",
       "      <td>None</td>\n",
       "      <td>False</td>\n",
       "      <td>14</td>\n",
       "    </tr>\n",
       "  </tbody>\n",
       "</table>\n",
       "<table border=\"1\" class=\"dataframe\">\n",
       "  <thead>\n",
       "    <tr style=\"text-align: right;\">\n",
       "      <th>text</th>\n",
       "      <th>start</th>\n",
       "      <th>end</th>\n",
       "      <th>grammar_symbol</th>\n",
       "      <th>value</th>\n",
       "    </tr>\n",
       "  </thead>\n",
       "  <tbody>\n",
       "    <tr>\n",
       "      <td>PSA</td>\n",
       "      <td>0</td>\n",
       "      <td>3</td>\n",
       "      <td>MO</td>\n",
       "      <td>psa</td>\n",
       "    </tr>\n",
       "    <tr>\n",
       "      <td>2010</td>\n",
       "      <td>4</td>\n",
       "      <td>8</td>\n",
       "      <td>DATE</td>\n",
       "      <td>partial_date</td>\n",
       "    </tr>\n",
       "    <tr>\n",
       "      <td>3</td>\n",
       "      <td>10</td>\n",
       "      <td>11</td>\n",
       "      <td>NUMBER</td>\n",
       "      <td>3</td>\n",
       "    </tr>\n",
       "    <tr>\n",
       "      <td>ng/ml</td>\n",
       "      <td>11</td>\n",
       "      <td>16</td>\n",
       "      <td>UNIT</td>\n",
       "      <td>ng/ml</td>\n",
       "    </tr>\n",
       "    <tr>\n",
       "      <td>g</td>\n",
       "      <td>12</td>\n",
       "      <td>13</td>\n",
       "      <td>UNIT</td>\n",
       "      <td>x</td>\n",
       "    </tr>\n",
       "    <tr>\n",
       "      <td>m</td>\n",
       "      <td>14</td>\n",
       "      <td>15</td>\n",
       "      <td>UNIT</td>\n",
       "      <td>x</td>\n",
       "    </tr>\n",
       "    <tr>\n",
       "      <td>PSA</td>\n",
       "      <td>17</td>\n",
       "      <td>21</td>\n",
       "      <td>MO</td>\n",
       "      <td>psa</td>\n",
       "    </tr>\n",
       "    <tr>\n",
       "      <td>PSA</td>\n",
       "      <td>18</td>\n",
       "      <td>21</td>\n",
       "      <td>MO</td>\n",
       "      <td>psa</td>\n",
       "    </tr>\n",
       "    <tr>\n",
       "      <td>2012</td>\n",
       "      <td>22</td>\n",
       "      <td>26</td>\n",
       "      <td>DATE</td>\n",
       "      <td>partial_date</td>\n",
       "    </tr>\n",
       "    <tr>\n",
       "      <td>1,53</td>\n",
       "      <td>28</td>\n",
       "      <td>32</td>\n",
       "      <td>NUMBER</td>\n",
       "      <td>1.53</td>\n",
       "    </tr>\n",
       "    <tr>\n",
       "      <td>ng/ml</td>\n",
       "      <td>32</td>\n",
       "      <td>37</td>\n",
       "      <td>UNIT</td>\n",
       "      <td>ng/ml</td>\n",
       "    </tr>\n",
       "    <tr>\n",
       "      <td>g</td>\n",
       "      <td>33</td>\n",
       "      <td>34</td>\n",
       "      <td>UNIT</td>\n",
       "      <td>x</td>\n",
       "    </tr>\n",
       "    <tr>\n",
       "      <td>m</td>\n",
       "      <td>35</td>\n",
       "      <td>36</td>\n",
       "      <td>UNIT</td>\n",
       "      <td>x</td>\n",
       "    </tr>\n",
       "    <tr>\n",
       "      <td>x</td>\n",
       "      <td>43</td>\n",
       "      <td>44</td>\n",
       "      <td>UNIT</td>\n",
       "      <td>x</td>\n",
       "    </tr>\n",
       "  </tbody>\n",
       "</table>"
      ],
      "text/plain": [
       "SL[Span(PSA, {'grammar_symbol': 'MO', 'value': 'psa'}),\n",
       "Span(2010, {'grammar_symbol': 'DATE', 'value': 'partial_date'}),\n",
       "Span(3, {'grammar_symbol': 'NUMBER', 'value': '3'}),\n",
       "Span(ng/ml, {'grammar_symbol': 'UNIT', 'value': 'ng/ml'}),\n",
       "Span(g, {'grammar_symbol': 'UNIT', 'value': 'x'}),\n",
       "Span(m, {'grammar_symbol': 'UNIT', 'value': 'x'}),\n",
       "Span( PSA, {'grammar_symbol': 'MO', 'value': 'psa'}),\n",
       "Span(PSA, {'grammar_symbol': 'MO', 'value': 'psa'}),\n",
       "Span(2012, {'grammar_symbol': 'DATE', 'value': 'partial_date'}),\n",
       "Span(1,53, {'grammar_symbol': 'NUMBER', 'value': '1.53'}),\n",
       "Span(ng/ml, {'grammar_symbol': 'UNIT', 'value': 'ng/ml'}),\n",
       "Span(g, {'grammar_symbol': 'UNIT', 'value': 'x'}),\n",
       "Span(m, {'grammar_symbol': 'UNIT', 'value': 'x'}),\n",
       "Span(x, {'grammar_symbol': 'UNIT', 'value': 'x'})]"
      ]
     },
     "execution_count": 12,
     "metadata": {},
     "output_type": "execute_result"
    }
   ],
   "source": [
    "text.grammar_tags"
   ]
  }
 ],
 "metadata": {
  "kernelspec": {
   "display_name": "Python 3",
   "language": "python",
   "name": "python3"
  },
  "language_info": {
   "codemirror_mode": {
    "name": "ipython",
    "version": 3
   },
   "file_extension": ".py",
   "mimetype": "text/x-python",
   "name": "python",
   "nbconvert_exporter": "python",
   "pygments_lexer": "ipython3",
   "version": "3.5.4"
  }
 },
 "nbformat": 4,
 "nbformat_minor": 2
}
