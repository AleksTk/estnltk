{
 "cells": [
  {
   "cell_type": "markdown",
   "metadata": {
    "collapsed": true
   },
   "source": [
    "## Temporal expression (TIMEX) tagger\n",
    "\n",
    "### Introduction\n",
    "\n",
    "Natural language texts often convey semantics related to time. Frequently, time is expressed in calendrical terms (or in terms closely related to calendrical time-keeping). We can use _temporal expressions_ to answer time-related questions, such as:\n",
    "  \n",
    "  *  _when did it (some event) happen_?\n",
    "      * _24. aprillil_ (on 24th of April), _neljapäeva pärastlõunal_ (on Thursday afternoon), _eile kell 3 päeval_ (yesterday at 3 p.m.)\n",
    "      \n",
    "      \n",
    "  * _how long did it last_?\n",
    "      * _kaks aastat_ (two years), _kolmveerand tundi_ (three-fourths of an hour), _pool päeva_ (half a day)\n",
    "      \n",
    "      \n",
    "  * _how often does it reoccur_? \n",
    "      * _kolmapäeviti_ (on every Wednesday), _igal aastal_ (annually)\n",
    "\n",
    "Temporal expressions (like in the examples above) can be automatically detected and semantically analysed by a temporal expression tagger. This tool identifies temporal expression phrases (in short: _timexes_) in text and normalizes these expressions, providing corresponding calendrical dates, times and durations. Example:"
   ]
  },
  {
   "cell_type": "code",
   "execution_count": 1,
   "metadata": {},
   "outputs": [
    {
     "data": {
      "text/html": [
       "<h4>Layer</h4>\n",
       "<table border=\"1\" class=\"dataframe\">\n",
       "  <thead>\n",
       "    <tr style=\"text-align: right;\">\n",
       "      <th>layer name</th>\n",
       "      <th>attributes</th>\n",
       "      <th>parent</th>\n",
       "      <th>enveloping</th>\n",
       "      <th>ambiguous</th>\n",
       "      <th>span count</th>\n",
       "    </tr>\n",
       "  </thead>\n",
       "  <tbody>\n",
       "    <tr>\n",
       "      <td>timexes</td>\n",
       "      <td>tid, type, value, temporal_function, anchor_ti...</td>\n",
       "      <td>None</td>\n",
       "      <td>words</td>\n",
       "      <td>False</td>\n",
       "      <td>3</td>\n",
       "    </tr>\n",
       "  </tbody>\n",
       "</table>\n",
       "<table border=\"1\" class=\"dataframe\">\n",
       "  <thead>\n",
       "    <tr style=\"text-align: right;\">\n",
       "      <th>text</th>\n",
       "      <th>tid</th>\n",
       "      <th>type</th>\n",
       "      <th>value</th>\n",
       "      <th>temporal_function</th>\n",
       "      <th>anchor_time_id</th>\n",
       "      <th>mod</th>\n",
       "      <th>quant</th>\n",
       "      <th>freq</th>\n",
       "      <th>begin_point</th>\n",
       "      <th>end_point</th>\n",
       "      <th>part_of_interval</th>\n",
       "    </tr>\n",
       "  </thead>\n",
       "  <tbody>\n",
       "    <tr>\n",
       "      <td>['eile']</td>\n",
       "      <td>t1</td>\n",
       "      <td>DATE</td>\n",
       "      <td>2014-12-02</td>\n",
       "      <td>True</td>\n",
       "      <td>t0</td>\n",
       "      <td>None</td>\n",
       "      <td>None</td>\n",
       "      <td>None</td>\n",
       "      <td>None</td>\n",
       "      <td>None</td>\n",
       "      <td>None</td>\n",
       "    </tr>\n",
       "    <tr>\n",
       "      <td>['nüüd']</td>\n",
       "      <td>t2</td>\n",
       "      <td>DATE</td>\n",
       "      <td>PRESENT_REF</td>\n",
       "      <td>True</td>\n",
       "      <td>t0</td>\n",
       "      <td>None</td>\n",
       "      <td>None</td>\n",
       "      <td>None</td>\n",
       "      <td>None</td>\n",
       "      <td>None</td>\n",
       "      <td>None</td>\n",
       "    </tr>\n",
       "    <tr>\n",
       "      <td>['viie', 'aasta']</td>\n",
       "      <td>t3</td>\n",
       "      <td>DURATION</td>\n",
       "      <td>P5Y</td>\n",
       "      <td>False</td>\n",
       "      <td>None</td>\n",
       "      <td>None</td>\n",
       "      <td>None</td>\n",
       "      <td>None</td>\n",
       "      <td>None</td>\n",
       "      <td>None</td>\n",
       "      <td>None</td>\n",
       "    </tr>\n",
       "  </tbody>\n",
       "</table>"
      ],
      "text/plain": [
       "Layer(name=timexes, spans=SL[ES[Span(eile, {'normalized_form': None})],\n",
       "ES[Span(nüüd, {'normalized_form': None})],\n",
       "ES[Span(viie, {'normalized_form': None}),\n",
       "Span(aasta, {'normalized_form': None})]])"
      ]
     },
     "execution_count": 1,
     "metadata": {},
     "output_type": "execute_result"
    }
   ],
   "source": [
    "from estnltk import Text\n",
    "from estnltk.taggers import TimexTagger\n",
    "\n",
    "# Create new timex tagger\n",
    "timexTagger = TimexTagger()\n",
    "\n",
    "# Create new text object and add prerequisite layers\n",
    "text = Text('Potsataja ütles eile, et vaatavad nüüd Genaga viie aasta plaanid uuesti üle.')\n",
    "text.analyse('morphology')\n",
    "\n",
    "# Mark creation time of the document\n",
    "text.meta['document_creation_time'] = '2014-12-03'\n",
    "\n",
    "# Annotate temporal expressions\n",
    "timexTagger.tag(text)\n",
    "\n",
    "# Browse results\n",
    "text.timexes"
   ]
  },
  {
   "cell_type": "markdown",
   "metadata": {},
   "source": [
    "**Technical note**: EstNLTK's temporal expression tagger uses a Java-based implementation of the tool. Before using the tagger, make sure that:\n",
    "  * Java SE Runtime Environment (version >= 1.8) is installed into the system;\n",
    "  * `java` is in the [PATH environment variable](https://docs.oracle.com/javase/tutorial/essential/environment/paths.html);\n",
    "\n",
    "Source code of the Java-based temporal expression tagger is available [here](https://github.com/soras/Ajavt)."
   ]
  },
  {
   "cell_type": "markdown",
   "metadata": {},
   "source": [
    "### TIMEX attributes: a breif overview\n",
    "\n",
    "The attributes of temporal expression are based on the attributes of the TIMEX3 tag in [TimeML](http://www.timeml.org/). For concerns of a robust practical analysis, the most important normalization information is conveyed in attributes `type`, `value` and `temporal_function`, so you may want to focus firstly at these attributes:"
   ]
  },
  {
   "cell_type": "code",
   "execution_count": 2,
   "metadata": {},
   "outputs": [
    {
     "data": {
      "text/html": [
       "<h4>AttributeTupleList</h4>\n",
       "<table border=\"1\" class=\"dataframe\">\n",
       "  <thead>\n",
       "    <tr style=\"text-align: right;\">\n",
       "      <th></th>\n",
       "      <th>text</th>\n",
       "      <th>type</th>\n",
       "      <th>value</th>\n",
       "      <th>temporal_function</th>\n",
       "    </tr>\n",
       "  </thead>\n",
       "  <tbody>\n",
       "    <tr>\n",
       "      <td>0</td>\n",
       "      <td>['eile']</td>\n",
       "      <td>DATE</td>\n",
       "      <td>2014-12-02</td>\n",
       "      <td>True</td>\n",
       "    </tr>\n",
       "    <tr>\n",
       "      <td>1</td>\n",
       "      <td>['nüüd']</td>\n",
       "      <td>DATE</td>\n",
       "      <td>PRESENT_REF</td>\n",
       "      <td>True</td>\n",
       "    </tr>\n",
       "    <tr>\n",
       "      <td>2</td>\n",
       "      <td>['viie', 'aasta']</td>\n",
       "      <td>DURATION</td>\n",
       "      <td>P5Y</td>\n",
       "      <td>False</td>\n",
       "    </tr>\n",
       "  </tbody>\n",
       "</table>"
      ],
      "text/plain": [
       "AttributeTupleList([[['eile'], 'DATE', '2014-12-02', True], [['nüüd'], 'DATE', 'PRESENT_REF', True], [['viie', 'aasta'], 'DURATION', 'P5Y', False]], ('text', 'type', 'value', 'temporal_function'))"
      ]
     },
     "execution_count": 2,
     "metadata": {},
     "output_type": "execute_result"
    }
   ],
   "source": [
    "# Browse types, values, mods and temporal functions\n",
    "text.timexes[['text','type', 'value', 'temporal_function']]"
   ]
  },
  {
   "cell_type": "markdown",
   "metadata": {},
   "source": [
    "Attributes explained in more detail:\n",
    "\n",
    "   * **`type`** -- type of the temporal expression. Can be one of the following:\n",
    "       * `DATE` -- occurrence dates, such as _24. aprillil_ (on 24th of April), or _eelmise aastal_ (in last year);\n",
    "       * `TIME` -- occurrence times which have a granularity smaller than day, \n",
    "         such as _neljapäeva pärastlõunal_ (on Thursday afternoon),  _eile kell 3 päeval_ (yesterday at 3 p.m.);\n",
    "       * `DURATION` -- duration specifications, such as _kaks aastat_ (two years), or _pool päeva_ (half a day);\n",
    "       * `SET` -- recurrence specifications, such as _kolmapäeviti_ (on every Wednesday) or _igal aastal_ (annually);\n",
    "\n",
    "\n",
    "   * **`value`** -- semantics of the expression (mostly calendrical). Examples:\n",
    "   \n",
    "       * Most date and time expressions will be normalized based on the ISO datetime format `yyyy-mm-ddThh:mm`. For instance, _'24. aprillil 2009'_ (on 24th of April, 2009) will be normalized as `value=2009-04-24`;\n",
    "       * Duration expressions will be normalized based on the ISO duration format `P[n]Y[n]M[n]DT[n]H[n]M[n]S`. For instance, _'kaks aastat'_ (two years) will be normalized as `value=P2Y`;\n",
    "       * For common non-calendrical time expressions, special labels will be used in the value part. For instance, _'nüüd'_ (now) will be normalised as a reference to the present time (`value=PRESENT_REF`);\n",
    "       \n",
    "       See below TODO for details about possible formats of the `value`;\n",
    "       \n",
    "     \n",
    "   * **`temporal_function`** -- boolean indicating whether the semantics of the expression are relative to the context ( that is: have been calculated/need to be calculated by some function, hence the name `temporal_function` );\n",
    "   \n",
    "      * For `DATE` and `TIME` expressions:\n",
    "      \n",
    "           * `temporal_function=true` indicates that the expression is relative. For instance, _'eile'_ (yesterday) has `temporal_function=true` because its value will be calculated relative to the context (the creation time of the document);\n",
    "           \n",
    "           * `temporal_function=false` indicates that the expression is absolute. For instance, _'2009. aastal'_ (in 2009) has `temporal_function=false` because its value will be copied from the textual part of the expression (no need for calculations);\n",
    "           \n",
    "     * For `DURATION` expressions, `temporal_function` is mostly `false`, except for vague durations;\n",
    "     * For `SET` expressions, `temporal_function` is always `true`;"
   ]
  },
  {
   "cell_type": "markdown",
   "metadata": {},
   "source": [
    "### Document creation date\n",
    "\n",
    "In order to get the semantics of relative date and time expressions correct, you need to provide the _document creation time_ (_DCT_ in short), which is then used to calculate semantics of expressions such as _'eile'_ (yesterday) and _'järgmisel neljapäeval'_ (on next Thursday).\n",
    "\n",
    "`TimexTagger` looks for the _document creation time_ under the text metadata, searching for keys named `'document_creation_time'`, `'creation_time'` or `'dct'`. Normally, it is expected that values under these keys are in the ISO datetime format (`YYYY-mm-ddTHH:MM`) or in ISO date format (`YYYY-mm-dd`):"
   ]
  },
  {
   "cell_type": "code",
   "execution_count": 3,
   "metadata": {},
   "outputs": [
    {
     "data": {
      "text/html": [
       "<h4>AttributeTupleList</h4>\n",
       "<table border=\"1\" class=\"dataframe\">\n",
       "  <thead>\n",
       "    <tr style=\"text-align: right;\">\n",
       "      <th></th>\n",
       "      <th>text</th>\n",
       "      <th>type</th>\n",
       "      <th>value</th>\n",
       "      <th>temporal_function</th>\n",
       "    </tr>\n",
       "  </thead>\n",
       "  <tbody>\n",
       "    <tr>\n",
       "      <td>0</td>\n",
       "      <td>['eile']</td>\n",
       "      <td>DATE</td>\n",
       "      <td>2010-04-25</td>\n",
       "      <td>True</td>\n",
       "    </tr>\n",
       "    <tr>\n",
       "      <td>1</td>\n",
       "      <td>['täna']</td>\n",
       "      <td>DATE</td>\n",
       "      <td>2010-04-26</td>\n",
       "      <td>True</td>\n",
       "    </tr>\n",
       "  </tbody>\n",
       "</table>"
      ],
      "text/plain": [
       "AttributeTupleList([[['eile'], 'DATE', '2010-04-25', True], [['täna'], 'DATE', '2010-04-26', True]], ('text', 'type', 'value', 'temporal_function'))"
      ]
     },
     "execution_count": 3,
     "metadata": {},
     "output_type": "execute_result"
    }
   ],
   "source": [
    "# Create new text object and add prerequisite layers\n",
    "text = Text('Tulid eile meile, selle asemel et tulla täna?')\n",
    "text.analyse('morphology')\n",
    "\n",
    "# Mark creation time of the document in the metadata\n",
    "text.meta['document_creation_time'] = '2010-04-26'\n",
    "\n",
    "# Annotate temporal expressions\n",
    "timexTagger.tag(text)\n",
    "\n",
    "# Browse results\n",
    "text.timexes[['text', 'type', 'value', 'temporal_function']]"
   ]
  },
  {
   "cell_type": "markdown",
   "metadata": {},
   "source": [
    "Optionally, you can also use Python's `datetime` object to specify the creation date:"
   ]
  },
  {
   "cell_type": "code",
   "execution_count": 4,
   "metadata": {},
   "outputs": [
    {
     "data": {
      "text/html": [
       "<h4>AttributeTupleList</h4>\n",
       "<table border=\"1\" class=\"dataframe\">\n",
       "  <thead>\n",
       "    <tr style=\"text-align: right;\">\n",
       "      <th></th>\n",
       "      <th>text</th>\n",
       "      <th>type</th>\n",
       "      <th>value</th>\n",
       "      <th>temporal_function</th>\n",
       "    </tr>\n",
       "  </thead>\n",
       "  <tbody>\n",
       "    <tr>\n",
       "      <td>0</td>\n",
       "      <td>['eile']</td>\n",
       "      <td>DATE</td>\n",
       "      <td>1986-12-20</td>\n",
       "      <td>True</td>\n",
       "    </tr>\n",
       "    <tr>\n",
       "      <td>1</td>\n",
       "      <td>['täna']</td>\n",
       "      <td>DATE</td>\n",
       "      <td>1986-12-21</td>\n",
       "      <td>True</td>\n",
       "    </tr>\n",
       "    <tr>\n",
       "      <td>2</td>\n",
       "      <td>['homme']</td>\n",
       "      <td>DATE</td>\n",
       "      <td>1986-12-22</td>\n",
       "      <td>True</td>\n",
       "    </tr>\n",
       "  </tbody>\n",
       "</table>"
      ],
      "text/plain": [
       "AttributeTupleList([[['eile'], 'DATE', '1986-12-20', True], [['täna'], 'DATE', '1986-12-21', True], [['homme'], 'DATE', '1986-12-22', True]], ('text', 'type', 'value', 'temporal_function'))"
      ]
     },
     "execution_count": 4,
     "metadata": {},
     "output_type": "execute_result"
    }
   ],
   "source": [
    "# Create new text object and add prerequisite layers\n",
    "text = Text('Tulid eile meile, selle asemel et tulla täna või homme?')\n",
    "text.analyse('morphology')\n",
    "\n",
    "# Mark creation time of the document in the metadata\n",
    "import datetime\n",
    "text.meta['document_creation_time'] = datetime.datetime(1986, 12, 21)\n",
    "\n",
    "# Annotate temporal expressions\n",
    "timexTagger.tag(text)\n",
    "\n",
    "# Browse results\n",
    "text.timexes[['text', 'type', 'value', 'temporal_function']]"
   ]
  },
  {
   "cell_type": "markdown",
   "metadata": {},
   "source": [
    " * **Note:** if there is no _document creation time_ specified in the metadata of the `Text` object, then `TimexTagger` assumes that the execution time of the tagger is the DCT. As a result of tagging, the execution time of the tagger will also be stored in the metadata, under the key `'document_creation_time'`;"
   ]
  },
  {
   "cell_type": "markdown",
   "metadata": {},
   "source": [
    "#### Gaps in document creation date\n",
    "\n",
    "There can be situations when the exact document creation date cannot be specified. \n",
    "For instance, it may be that only year or month when the document was created is known, and there is no information about the exact date. \n",
    "In such cases, the string-based document creation date can have gaps: unknown granulatities can be replaced by `'X'` symbols. For instance, if we only know the year of writing (_2009_), we can use `'2009-XX-XX'` as the document creation date:"
   ]
  },
  {
   "cell_type": "code",
   "execution_count": 5,
   "metadata": {},
   "outputs": [
    {
     "data": {
      "text/html": [
       "<h4>AttributeTupleList</h4>\n",
       "<table border=\"1\" class=\"dataframe\">\n",
       "  <thead>\n",
       "    <tr style=\"text-align: right;\">\n",
       "      <th></th>\n",
       "      <th>text</th>\n",
       "      <th>type</th>\n",
       "      <th>value</th>\n",
       "      <th>temporal_function</th>\n",
       "    </tr>\n",
       "  </thead>\n",
       "  <tbody>\n",
       "    <tr>\n",
       "      <td>0</td>\n",
       "      <td>['Homme']</td>\n",
       "      <td>DATE</td>\n",
       "      <td>XXXX-XX-XX</td>\n",
       "      <td>True</td>\n",
       "    </tr>\n",
       "    <tr>\n",
       "      <td>1</td>\n",
       "      <td>['järgmisel', 'aastal']</td>\n",
       "      <td>DATE</td>\n",
       "      <td>2010</td>\n",
       "      <td>True</td>\n",
       "    </tr>\n",
       "  </tbody>\n",
       "</table>"
      ],
      "text/plain": [
       "AttributeTupleList([[['Homme'], 'DATE', 'XXXX-XX-XX', True], [['järgmisel', 'aastal'], 'DATE', '2010', True]], ('text', 'type', 'value', 'temporal_function'))"
      ]
     },
     "execution_count": 5,
     "metadata": {},
     "output_type": "execute_result"
    }
   ],
   "source": [
    "# Create new text object and add prerequisite layers\n",
    "text = Text('Homme või järgmisel aastal?')\n",
    "text.analyse('morphology')\n",
    "\n",
    "# Mark creation time of the document\n",
    "text.meta['document_creation_time'] = '2009-XX-XX'\n",
    "\n",
    "# Annotate temporal expressions\n",
    "timexTagger.tag(text)\n",
    "\n",
    "# Browse results\n",
    "text.timexes[['text', 'type', 'value', 'temporal_function']]"
   ]
  },
  {
   "cell_type": "markdown",
   "metadata": {},
   "source": [
    "Note that using gaps in DCT also affects how relative date and time expressions are normalized. If a relative expression has granularity that is not specified ( such as the expression _homme_ (tomorrow) in the previous example -- it has granularities _day_ and _month_ which cannot be resolved using the given DCT ), then its value is also covered with `'X'` symbols, indicating that there is not enough information to find the exact value. "
   ]
  },
  {
   "cell_type": "markdown",
   "metadata": {},
   "source": [
    " * What to keep in mind when using gaps in DCT:\n",
    "\n",
    "    * You should start marking `'X'` symbols from the right side of DCT, and the markings should be continuous. Discontinuous gaps (such as `'2009-0X-X1'`) and gaps that cover a granularity only partially (such as `'2009-1X-XX'`) do not work -- they may actually lead to unexpected processing errors. However, DCT formats `XXXX-XX-XX`, `yyyy-XX-XX` and `yyyy-mm-XX` should be safe for usage;\n",
    "\n",
    "    * Marking gaps in DCT is an _experimental feature_. Do not expect that it always works automagically, rather, test it by yourself and see, if the results fit your purpose;\n"
   ]
  },
  {
   "cell_type": "markdown",
   "metadata": {},
   "source": [
    "### Details of the annotation format\n",
    "\n",
    "In this section, we will introduce more details about the TIMEX attributes used by the `TimexTagger`."
   ]
  },
  {
   "cell_type": "markdown",
   "metadata": {},
   "source": [
    "#### The attribute `tid`\n",
    "\n",
    "The attribute `tid` provides a unique identifier for each temporal expressions. Identifier is a string that has prefix `t`, followed by the number of the timex. Numbering of the timexes starts from 1. Example:"
   ]
  },
  {
   "cell_type": "code",
   "execution_count": 6,
   "metadata": {},
   "outputs": [
    {
     "data": {
      "text/html": [
       "<h4>AttributeTupleList</h4>\n",
       "<table border=\"1\" class=\"dataframe\">\n",
       "  <thead>\n",
       "    <tr style=\"text-align: right;\">\n",
       "      <th></th>\n",
       "      <th>text</th>\n",
       "      <th>tid</th>\n",
       "      <th>type</th>\n",
       "      <th>value</th>\n",
       "    </tr>\n",
       "  </thead>\n",
       "  <tbody>\n",
       "    <tr>\n",
       "      <td>0</td>\n",
       "      <td>['Kaks', 'aastat']</td>\n",
       "      <td>t1</td>\n",
       "      <td>DURATION</td>\n",
       "      <td>P2Y</td>\n",
       "    </tr>\n",
       "    <tr>\n",
       "      <td>1</td>\n",
       "      <td>['14', 'aastat']</td>\n",
       "      <td>t2</td>\n",
       "      <td>DURATION</td>\n",
       "      <td>P14Y</td>\n",
       "    </tr>\n",
       "    <tr>\n",
       "      <td>2</td>\n",
       "      <td>['30', 'aastat']</td>\n",
       "      <td>t3</td>\n",
       "      <td>DURATION</td>\n",
       "      <td>P30Y</td>\n",
       "    </tr>\n",
       "  </tbody>\n",
       "</table>"
      ],
      "text/plain": [
       "AttributeTupleList([[['Kaks', 'aastat'], 't1', 'DURATION', 'P2Y'], [['14', 'aastat'], 't2', 'DURATION', 'P14Y'], [['30', 'aastat'], 't3', 'DURATION', 'P30Y']], ('text', 'tid', 'type', 'value'))"
      ]
     },
     "execution_count": 6,
     "metadata": {},
     "output_type": "execute_result"
    }
   ],
   "source": [
    "# Create new text object and add prerequisite layers\n",
    "text = Text('Kaks aastat põrandaalust aktiivset tegevust, 14 aastat vanglat ning 30 aastat pideva '+\n",
    "            'nuhkimise all elamist.')\n",
    "text.analyse('morphology')\n",
    "\n",
    "# Annotate temporal expressions\n",
    "timexTagger.tag(text)\n",
    "\n",
    "# See results\n",
    "text.timexes[['text', 'tid', 'type', 'value']]"
   ]
  },
  {
   "cell_type": "markdown",
   "metadata": {},
   "source": [
    " * **Note:** the identifier **`t0`** refers to the _document creation time_. It is never used as a `tid` of a timex, but it can be used in the attributes `anchor_time_id`, `begin_point` and `end_point`, whenever calculations of semantics involve the using _document creation time_;"
   ]
  },
  {
   "cell_type": "markdown",
   "metadata": {},
   "source": [
    "#### The attribute `type`\n",
    "\n",
    "... indicates the type of the temporal expression. Can be one of the following:\n",
    "   * `DATE` -- occurrence dates, such as _24. aprillil_ (on 24th of April), or _eelmise aastal_ (in last year);\n",
    "   * `TIME` -- occurrence times which have a granularity smaller than day, such as _neljapäeva pärastlõunal_ (on Thursday afternoon),  _eile kell 3 päeval_ (yesterday at 3 p.m.);\n",
    "   * `DURATION` -- duration specifications, such as _kaks aastat_ (two years), or _pool päeva_ (half a day);\n",
    "   * `SET` -- recurrence specifications, such as _kolmapäeviti_ (on every Wednesday) or _igal aastal_ (annually);\n"
   ]
  },
  {
   "cell_type": "markdown",
   "metadata": {},
   "source": [
    "#### The attribute `value`\n",
    "\n",
    "The attribute `value` conveys most important part of the semantics of the temporal expression -- the semantics of a date, time or duration based on the ISO datetime format. There are five possible formats:\n",
    "\n",
    "   * I. Date-based format: `yyyy-mm-ddThh:mm`\n",
    "\n",
    "           yyyy - year (4 digits)\n",
    "           mm - month (01-12)\n",
    "           dd - day (01-31)\n",
    "             \n",
    "   * II. Weekday-based: `yyyy-Wnn-wdThh:mm`\n",
    "\n",
    "           nn - the week of the year (01-53)\n",
    "           wd - day of the week (1-7, where 1 denotes Monday).\n",
    "\n",
    "   * III. Time-based: `Thh:mm`\n",
    "\n",
    "           hh - hour of day (00-23)\n",
    "           mm - minute of hour (00-59)\n",
    "       \n",
    "   * IV. Time span: `Pn1Yn2Mn3Wn4DTn5Hn6M`\n",
    "\n",
    "           where ni denotes a value and Y (year), M (month), \n",
    "           W (week), D (day), H (hours), M (minutes) denotes \n",
    "           respective time granularity.\n",
    "       \n",
    "   * V. Special labels, such as `PRESENT_REF` and `PAST_REF`\n",
    "             \n",
    "           in some cases, special labels are used to \n",
    "           express the date & time semantics. See the \n",
    "           annotation guidelines below for more details \n",
    "           \n",
    "           \n",
    "Formats I and II are used with DATE, TIME and SET types. Format I is always preferred if both I and II can be used. Format III is used in cases it is impossible to extract the date. Format IV is used in time span expressions, and in some recurrence expressions.\n",
    "\n",
    "Parts of the ISO datetime format can be replaced by labels conveying special semantics of commonly used temporal expressions:\n",
    "\n",
    "   * `hh:mm` (_hours and minutes_) can be replaced by a label referring to a _time of the day_:\n",
    "         \n",
    "         MO - morning - hommik\n",
    "         AF - afternoon - pärastlõuna\n",
    "         EV - evening - õhtu\n",
    "         NI - night - öö\n",
    "         DT - daytime - päevane aeg\n",
    "\n",
    "   * `wd` (_weekday_) can be replaced by a general label referring to a group of weekdays:\n",
    "   \n",
    "         WD - workday - tööpäev\n",
    "         WE - weekend - nädalalõpp\n",
    "\n",
    "   * `mm` (_month_) can be replaced by a general label referring to a season:\n",
    "         \n",
    "         SP - spring - kevad\n",
    "         SU - summer - suvi\n",
    "         FA - fall - sügis\n",
    "         WI - winter - talv\n",
    "         \n",
    "   * `mm` (_month_) can also be replaced by a general label referring to a quarter (of year):\n",
    "   \n",
    "         Q1, Q2, Q3, Q4\n",
    "         QX - unknown/unspecified quarter\n",
    "         "
   ]
  },
  {
   "cell_type": "markdown",
   "metadata": {},
   "source": [
    "If the expression refers to date/time before the Common Era, then its `value` will have prefix `BC`:"
   ]
  },
  {
   "cell_type": "code",
   "execution_count": 7,
   "metadata": {},
   "outputs": [
    {
     "data": {
      "text/html": [
       "<h4>AttributeTupleList</h4>\n",
       "<table border=\"1\" class=\"dataframe\">\n",
       "  <thead>\n",
       "    <tr style=\"text-align: right;\">\n",
       "      <th></th>\n",
       "      <th>text</th>\n",
       "      <th>type</th>\n",
       "      <th>value</th>\n",
       "    </tr>\n",
       "  </thead>\n",
       "  <tbody>\n",
       "    <tr>\n",
       "      <td>0</td>\n",
       "      <td>['umbes', '8.', 'sajandil', 'e.m.a.']</td>\n",
       "      <td>DATE</td>\n",
       "      <td>BC07</td>\n",
       "    </tr>\n",
       "  </tbody>\n",
       "</table>"
      ],
      "text/plain": [
       "AttributeTupleList([[['umbes', '8.', 'sajandil', 'e.m.a.'], 'DATE', 'BC07']], ('text', 'type', 'value'))"
      ]
     },
     "execution_count": 7,
     "metadata": {},
     "output_type": "execute_result"
    }
   ],
   "source": [
    "# Create new text object and add prerequisite layers\n",
    "text = Text('Lülle laevkalmed, rajatud umbes 8. sajandil e.m.a., on Eestis ainulaadsed .')\n",
    "text.analyse('morphology')\n",
    "\n",
    "# Annotate temporal expressions\n",
    "timexTagger.tag(text)\n",
    "\n",
    "# See results\n",
    "text.timexes[['text', 'type', 'value']]"
   ]
  },
  {
   "cell_type": "markdown",
   "metadata": {},
   "source": [
    "More detailed description of the `value` can be found in the annotation guidelines [here](https://github.com/soras/Ajavt/blob/master/doc/margendusformaat_et.pdf?raw=true) (currently only in Estonian);"
   ]
  },
  {
   "cell_type": "markdown",
   "metadata": {},
   "source": [
    "#### The attribute `temporal_function`\n",
    "\n",
    "... is boolean value indicating whether the semantics of the expression are relative to the context ( that is: have been calculated/need to be calculated by some function, hence the name `temporal_function` );\n",
    "   \n",
    "   * For `DATE` and `TIME` expressions:\n",
    "      \n",
    "       * `temporal_function=true` indicates that the expression is relative. For instance, _'eile'_ (yesterday) has `temporal_function=true` because its value will be calculated relative to the context (the creation time of the document);\n",
    "           \n",
    "       * `temporal_function=false` indicates that the expression is absolute. For instance, _'2009. aastal'_ (in 2009) has `temporal_function=false` because its value will be copied from the textual part of the expression (no need for calculations);\n",
    "           \n",
    "           \n",
    "   * For `DURATION` expressions, `temporal_function` is mostly `false`, except for vague durations;\n",
    "   * For `SET` expressions, `temporal_function` is always `true`;"
   ]
  },
  {
   "cell_type": "markdown",
   "metadata": {},
   "source": [
    "#### The attribute `mod`\n",
    "\n",
    "... refers to a modifier of the semantics part in the `value`. It is used in special occasions when semantics cannot be expressed completely by the attribute `value` -- there is a need for an elaboration. For instance, the expression _'2009. aasta alguses'_ (in the beginning of 2009) will have `value=2009` and `mod=START`.\n",
    "      \n",
    "Another example:"
   ]
  },
  {
   "cell_type": "code",
   "execution_count": 8,
   "metadata": {},
   "outputs": [
    {
     "data": {
      "text/html": [
       "<h4>AttributeTupleList</h4>\n",
       "<table border=\"1\" class=\"dataframe\">\n",
       "  <thead>\n",
       "    <tr style=\"text-align: right;\">\n",
       "      <th></th>\n",
       "      <th>text</th>\n",
       "      <th>type</th>\n",
       "      <th>value</th>\n",
       "      <th>mod</th>\n",
       "    </tr>\n",
       "  </thead>\n",
       "  <tbody>\n",
       "    <tr>\n",
       "      <td>0</td>\n",
       "      <td>['umbes', 'kaks', 'aastat']</td>\n",
       "      <td>DURATION</td>\n",
       "      <td>P2Y</td>\n",
       "      <td>APPROX</td>\n",
       "    </tr>\n",
       "  </tbody>\n",
       "</table>"
      ],
      "text/plain": [
       "AttributeTupleList([[['umbes', 'kaks', 'aastat'], 'DURATION', 'P2Y', 'APPROX']], ('text', 'type', 'value', 'mod'))"
      ]
     },
     "execution_count": 8,
     "metadata": {},
     "output_type": "execute_result"
    }
   ],
   "source": [
    "# Create new text object and add prerequisite layers\n",
    "text = Text('Tavaliselt võtab paariks kasvamine aega umbes kaks aastat, mil toimub teineteise nurkade '+\n",
    "            'mahalihvimine ning ühiste reeglite ja maailmapildi kujunemine.')\n",
    "text.analyse('morphology')\n",
    "\n",
    "# Annotate temporal expressions\n",
    "timexTagger.tag(text)\n",
    "\n",
    "# See results\n",
    "text.timexes[['text', 'type', 'value', 'mod']]"
   ]
  },
  {
   "cell_type": "markdown",
   "metadata": {},
   "source": [
    "The attribute `mod` can have the following string values: `START`, `MID`, `END`, `FIRST_HALF`, `SECOND_HALF`, `APPROX`, `LESS_THAN`, `MORE_THAN`, `EQUAL_OR_LESS` or `EQUAL_OR_MORE`."
   ]
  },
  {
   "cell_type": "markdown",
   "metadata": {},
   "source": [
    "---"
   ]
  },
  {
   "cell_type": "markdown",
   "metadata": {},
   "source": [
    "**T O D O**"
   ]
  },
  {
   "cell_type": "markdown",
   "metadata": {},
   "source": [
    "---"
   ]
  }
 ],
 "metadata": {
  "kernelspec": {
   "display_name": "Python 3",
   "language": "python",
   "name": "python3"
  },
  "language_info": {
   "codemirror_mode": {
    "name": "ipython",
    "version": 3
   },
   "file_extension": ".py",
   "mimetype": "text/x-python",
   "name": "python",
   "nbconvert_exporter": "python",
   "pygments_lexer": "ipython3",
   "version": "3.5.4"
  }
 },
 "nbformat": 4,
 "nbformat_minor": 2
}
