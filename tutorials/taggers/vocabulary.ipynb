{
 "cells": [
  {
   "cell_type": "markdown",
   "metadata": {},
   "source": [
    "# Vocabulary\n",
    "Vocabulary is an input data object for SpanTagger, PhraseTagger, RegexTagger."
   ]
  },
  {
   "cell_type": "code",
   "execution_count": 1,
   "metadata": {},
   "outputs": [
    {
     "name": "stdout",
     "output_type": "stream",
     "text": [
      "_token_,value,_priority_\n",
      "string,string,callable\n",
      "tundma,T,1\n",
      "päike,P,2\n",
      "inimene,K,2\n",
      "inimene,I,3\n",
      "\n"
     ]
    }
   ],
   "source": [
    "vocabulary_file='span_vocabulary.csv'\n",
    "\n",
    "with open(vocabulary_file) as f:\n",
    "    print(f.read())"
   ]
  },
  {
   "cell_type": "code",
   "execution_count": 2,
   "metadata": {},
   "outputs": [
    {
     "data": {
      "text/html": [
       "<h4>Vocabulary</h4>\n",
       "<table border=\"1\" class=\"dataframe\">\n",
       "  <thead>\n",
       "    <tr style=\"text-align: right;\">\n",
       "      <th>_token_</th>\n",
       "      <th>value</th>\n",
       "      <th>_priority_</th>\n",
       "      <th>default</th>\n",
       "    </tr>\n",
       "  </thead>\n",
       "  <tbody>\n",
       "    <tr>\n",
       "      <td>inimene</td>\n",
       "      <td>K</td>\n",
       "      <td>2</td>\n",
       "      <td>def</td>\n",
       "    </tr>\n",
       "    <tr>\n",
       "      <td></td>\n",
       "      <td>I</td>\n",
       "      <td>3</td>\n",
       "      <td>def</td>\n",
       "    </tr>\n",
       "    <tr>\n",
       "      <td>päike</td>\n",
       "      <td>P</td>\n",
       "      <td>2</td>\n",
       "      <td>def</td>\n",
       "    </tr>\n",
       "    <tr>\n",
       "      <td>tundma</td>\n",
       "      <td>T</td>\n",
       "      <td>1</td>\n",
       "      <td>def</td>\n",
       "    </tr>\n",
       "  </tbody>\n",
       "</table>"
      ],
      "text/plain": [
       "Vocabulary(key='_token_', len=3)"
      ]
     },
     "execution_count": 2,
     "metadata": {},
     "output_type": "execute_result"
    }
   ],
   "source": [
    "from estnltk.taggers import Vocabulary\n",
    "\n",
    "vocabulary = Vocabulary(vocabulary=vocabulary_file,\n",
    "                        key = '_token_',\n",
    "                        default_rec = {'default': 'def'}\n",
    "                       )\n",
    "vocabulary"
   ]
  },
  {
   "cell_type": "markdown",
   "metadata": {},
   "source": [
    "Internal vocabulary format is a dict:"
   ]
  },
  {
   "cell_type": "code",
   "execution_count": 3,
   "metadata": {
    "scrolled": true
   },
   "outputs": [
    {
     "data": {
      "text/plain": [
       "{'inimene': [{'_priority_': 2, 'default': 'def', 'value': 'K'},\n",
       "  {'_priority_': 3, 'default': 'def', 'value': 'I'}],\n",
       " 'päike': [{'_priority_': 2, 'default': 'def', 'value': 'P'}],\n",
       " 'tundma': [{'_priority_': 1, 'default': 'def', 'value': 'T'}]}"
      ]
     },
     "execution_count": 3,
     "metadata": {},
     "output_type": "execute_result"
    }
   ],
   "source": [
    "# NBVAL_IGNORE_OUTPUT\n",
    "vocabulary.to_dict()"
   ]
  },
  {
   "cell_type": "code",
   "execution_count": 4,
   "metadata": {},
   "outputs": [
    {
     "data": {
      "text/plain": [
       "[{'_priority_': 2, '_token_': 'inimene', 'default': 'def', 'value': 'K'},\n",
       " {'_priority_': 3, '_token_': 'inimene', 'default': 'def', 'value': 'I'},\n",
       " {'_priority_': 2, '_token_': 'päike', 'default': 'def', 'value': 'P'},\n",
       " {'_priority_': 1, '_token_': 'tundma', 'default': 'def', 'value': 'T'}]"
      ]
     },
     "execution_count": 4,
     "metadata": {},
     "output_type": "execute_result"
    }
   ],
   "source": [
    "# NBVAL_IGNORE_OUTPUT\n",
    "records = vocabulary.to_records()\n",
    "records"
   ]
  },
  {
   "cell_type": "code",
   "execution_count": 5,
   "metadata": {},
   "outputs": [
    {
     "data": {
      "text/html": [
       "<div>\n",
       "<style scoped>\n",
       "    .dataframe tbody tr th:only-of-type {\n",
       "        vertical-align: middle;\n",
       "    }\n",
       "\n",
       "    .dataframe tbody tr th {\n",
       "        vertical-align: top;\n",
       "    }\n",
       "\n",
       "    .dataframe thead th {\n",
       "        text-align: right;\n",
       "    }\n",
       "</style>\n",
       "<table border=\"1\" class=\"dataframe\">\n",
       "  <thead>\n",
       "    <tr style=\"text-align: right;\">\n",
       "      <th></th>\n",
       "      <th>_token_</th>\n",
       "      <th>value</th>\n",
       "      <th>_priority_</th>\n",
       "      <th>default</th>\n",
       "    </tr>\n",
       "  </thead>\n",
       "  <tbody>\n",
       "    <tr>\n",
       "      <th>0</th>\n",
       "      <td>inimene</td>\n",
       "      <td>K</td>\n",
       "      <td>2</td>\n",
       "      <td>def</td>\n",
       "    </tr>\n",
       "    <tr>\n",
       "      <th>1</th>\n",
       "      <td>inimene</td>\n",
       "      <td>I</td>\n",
       "      <td>3</td>\n",
       "      <td>def</td>\n",
       "    </tr>\n",
       "    <tr>\n",
       "      <th>2</th>\n",
       "      <td>päike</td>\n",
       "      <td>P</td>\n",
       "      <td>2</td>\n",
       "      <td>def</td>\n",
       "    </tr>\n",
       "    <tr>\n",
       "      <th>3</th>\n",
       "      <td>tundma</td>\n",
       "      <td>T</td>\n",
       "      <td>1</td>\n",
       "      <td>def</td>\n",
       "    </tr>\n",
       "  </tbody>\n",
       "</table>\n",
       "</div>"
      ],
      "text/plain": [
       "   _token_ value  _priority_ default\n",
       "0  inimene  K     2           def   \n",
       "1  inimene  I     3           def   \n",
       "2  päike    P     2           def   \n",
       "3  tundma   T     1           def   "
      ]
     },
     "execution_count": 5,
     "metadata": {},
     "output_type": "execute_result"
    }
   ],
   "source": [
    "df = vocabulary.to_df()\n",
    "df"
   ]
  }
 ],
 "metadata": {
  "kernelspec": {
   "display_name": "Python 3",
   "language": "python",
   "name": "python3"
  },
  "language_info": {
   "codemirror_mode": {
    "name": "ipython",
    "version": 3
   },
   "file_extension": ".py",
   "mimetype": "text/x-python",
   "name": "python",
   "nbconvert_exporter": "python",
   "pygments_lexer": "ipython3",
   "version": "3.5.4"
  }
 },
 "nbformat": 4,
 "nbformat_minor": 2
}
