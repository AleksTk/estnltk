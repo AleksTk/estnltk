{
 "cells": [
  {
   "cell_type": "markdown",
   "metadata": {},
   "source": [
    "# Vocabulary\n",
    "Vocabulary is an input data object for SpanTagger, PhraseTagger, RegexTagger."
   ]
  },
  {
   "cell_type": "code",
   "execution_count": 1,
   "metadata": {},
   "outputs": [
    {
     "name": "stdout",
     "output_type": "stream",
     "text": [
      "_token_,value,_priority_\n",
      "string,string,callable\n",
      "tundma,T,1\n",
      "päike,P,2\n",
      "inimene,K,2\n",
      "inimene,I,3\n",
      "\n"
     ]
    }
   ],
   "source": [
    "vocabulary_file='span_vocabulary.csv'\n",
    "\n",
    "with open(vocabulary_file) as f:\n",
    "    print(f.read())"
   ]
  },
  {
   "cell_type": "code",
   "execution_count": 2,
   "metadata": {},
   "outputs": [
    {
     "data": {
      "text/html": [
       "<h4>Vocabulary</h4>\n",
       "key: '_token_'\n",
       "<style  type=\"text/css\" >\n",
       "    #T_2ad79b94_f313_11e8_88d3_d326e09d1482  {\n",
       "    }    #T_2ad79b94_f313_11e8_88d3_d326e09d1482  {\n",
       "    }    #T_2ad79b94_f313_11e8_88d3_d326e09d1482row0_col0 {\n",
       "            background-color:  LightSteelBlue;\n",
       "        }    #T_2ad79b94_f313_11e8_88d3_d326e09d1482row0_col1 {\n",
       "            background-color:  LightSteelBlue;\n",
       "        }    #T_2ad79b94_f313_11e8_88d3_d326e09d1482row0_col2 {\n",
       "            background-color:  Moccasin;\n",
       "        }    #T_2ad79b94_f313_11e8_88d3_d326e09d1482row0_col3 {\n",
       "            background-color:  LightSteelBlue;\n",
       "        }    #T_2ad79b94_f313_11e8_88d3_d326e09d1482row1_col0 {\n",
       "            background-color:  LightSteelBlue;\n",
       "        }    #T_2ad79b94_f313_11e8_88d3_d326e09d1482row1_col1 {\n",
       "            background-color:  LightSteelBlue;\n",
       "        }    #T_2ad79b94_f313_11e8_88d3_d326e09d1482row1_col2 {\n",
       "            background-color:  Moccasin;\n",
       "        }    #T_2ad79b94_f313_11e8_88d3_d326e09d1482row1_col3 {\n",
       "            background-color:  LightSteelBlue;\n",
       "        }    #T_2ad79b94_f313_11e8_88d3_d326e09d1482row2_col0 {\n",
       "            background-color:  LightSteelBlue;\n",
       "        }    #T_2ad79b94_f313_11e8_88d3_d326e09d1482row2_col1 {\n",
       "            background-color:  LightSteelBlue;\n",
       "        }    #T_2ad79b94_f313_11e8_88d3_d326e09d1482row2_col2 {\n",
       "            background-color:  Moccasin;\n",
       "        }    #T_2ad79b94_f313_11e8_88d3_d326e09d1482row2_col3 {\n",
       "            background-color:  LightSteelBlue;\n",
       "        }    #T_2ad79b94_f313_11e8_88d3_d326e09d1482row3_col0 {\n",
       "            background-color:  LightSteelBlue;\n",
       "        }    #T_2ad79b94_f313_11e8_88d3_d326e09d1482row3_col1 {\n",
       "            background-color:  LightSteelBlue;\n",
       "        }    #T_2ad79b94_f313_11e8_88d3_d326e09d1482row3_col2 {\n",
       "            background-color:  Moccasin;\n",
       "        }    #T_2ad79b94_f313_11e8_88d3_d326e09d1482row3_col3 {\n",
       "            background-color:  LightSteelBlue;\n",
       "        }</style>  \n",
       "<table id=\"T_2ad79b94_f313_11e8_88d3_d326e09d1482\" > \n",
       "<thead>    <tr> \n",
       "        <th class=\"col_heading level0 col0\" >_token_</th> \n",
       "        <th class=\"col_heading level0 col1\" >value</th> \n",
       "        <th class=\"col_heading level0 col2\" >_priority_</th> \n",
       "        <th class=\"col_heading level0 col3\" >default</th> \n",
       "    </tr></thead> \n",
       "<tbody>    <tr> \n",
       "        <td id=\"T_2ad79b94_f313_11e8_88d3_d326e09d1482row0_col0\" class=\"data row0 col0\" >inimene</td> \n",
       "        <td id=\"T_2ad79b94_f313_11e8_88d3_d326e09d1482row0_col1\" class=\"data row0 col1\" >K</td> \n",
       "        <td id=\"T_2ad79b94_f313_11e8_88d3_d326e09d1482row0_col2\" class=\"data row0 col2\" >2</td> \n",
       "        <td id=\"T_2ad79b94_f313_11e8_88d3_d326e09d1482row0_col3\" class=\"data row0 col3\" >default_value</td> \n",
       "    </tr>    <tr> \n",
       "        <td id=\"T_2ad79b94_f313_11e8_88d3_d326e09d1482row1_col0\" class=\"data row1 col0\" ></td> \n",
       "        <td id=\"T_2ad79b94_f313_11e8_88d3_d326e09d1482row1_col1\" class=\"data row1 col1\" >I</td> \n",
       "        <td id=\"T_2ad79b94_f313_11e8_88d3_d326e09d1482row1_col2\" class=\"data row1 col2\" >3</td> \n",
       "        <td id=\"T_2ad79b94_f313_11e8_88d3_d326e09d1482row1_col3\" class=\"data row1 col3\" >default_value</td> \n",
       "    </tr>    <tr> \n",
       "        <td id=\"T_2ad79b94_f313_11e8_88d3_d326e09d1482row2_col0\" class=\"data row2 col0\" >päike</td> \n",
       "        <td id=\"T_2ad79b94_f313_11e8_88d3_d326e09d1482row2_col1\" class=\"data row2 col1\" >P</td> \n",
       "        <td id=\"T_2ad79b94_f313_11e8_88d3_d326e09d1482row2_col2\" class=\"data row2 col2\" >2</td> \n",
       "        <td id=\"T_2ad79b94_f313_11e8_88d3_d326e09d1482row2_col3\" class=\"data row2 col3\" >default_value</td> \n",
       "    </tr>    <tr> \n",
       "        <td id=\"T_2ad79b94_f313_11e8_88d3_d326e09d1482row3_col0\" class=\"data row3 col0\" >tundma</td> \n",
       "        <td id=\"T_2ad79b94_f313_11e8_88d3_d326e09d1482row3_col1\" class=\"data row3 col1\" >T</td> \n",
       "        <td id=\"T_2ad79b94_f313_11e8_88d3_d326e09d1482row3_col2\" class=\"data row3 col2\" >1</td> \n",
       "        <td id=\"T_2ad79b94_f313_11e8_88d3_d326e09d1482row3_col3\" class=\"data row3 col3\" >default_value</td> \n",
       "    </tr></tbody> \n",
       "</table> "
      ],
      "text/plain": [
       "Vocabulary(key='_token_', len=3)"
      ]
     },
     "execution_count": 2,
     "metadata": {},
     "output_type": "execute_result"
    }
   ],
   "source": [
    "from estnltk.taggers import Vocabulary\n",
    "\n",
    "vocabulary = Vocabulary.read_csv(vocabulary_file=vocabulary_file,\n",
    "                                 key = '_token_',\n",
    "                                 default_rec = {'default': 'default_value'}\n",
    "                                 )\n",
    "vocabulary"
   ]
  },
  {
   "cell_type": "markdown",
   "metadata": {},
   "source": [
    "Internal vocabulary format is a dict:"
   ]
  },
  {
   "cell_type": "code",
   "execution_count": 3,
   "metadata": {
    "scrolled": true
   },
   "outputs": [
    {
     "data": {
      "text/plain": [
       "{'inimene': [{'_priority_': 2,\n",
       "   '_token_': 'inimene',\n",
       "   'default': 'default_value',\n",
       "   'value': 'K'},\n",
       "  {'_priority_': 3,\n",
       "   '_token_': 'inimene',\n",
       "   'default': 'default_value',\n",
       "   'value': 'I'}],\n",
       " 'päike': [{'_priority_': 2,\n",
       "   '_token_': 'päike',\n",
       "   'default': 'default_value',\n",
       "   'value': 'P'}],\n",
       " 'tundma': [{'_priority_': 1,\n",
       "   '_token_': 'tundma',\n",
       "   'default': 'default_value',\n",
       "   'value': 'T'}]}"
      ]
     },
     "execution_count": 3,
     "metadata": {},
     "output_type": "execute_result"
    }
   ],
   "source": [
    "# NBVAL_IGNORE_OUTPUT\n",
    "vocabulary.to_dict()"
   ]
  },
  {
   "cell_type": "code",
   "execution_count": 4,
   "metadata": {},
   "outputs": [
    {
     "data": {
      "text/plain": [
       "[{'_priority_': 2,\n",
       "  '_token_': 'inimene',\n",
       "  'default': 'default_value',\n",
       "  'value': 'K'},\n",
       " {'_priority_': 3,\n",
       "  '_token_': 'inimene',\n",
       "  'default': 'default_value',\n",
       "  'value': 'I'},\n",
       " {'_priority_': 2,\n",
       "  '_token_': 'päike',\n",
       "  'default': 'default_value',\n",
       "  'value': 'P'},\n",
       " {'_priority_': 1,\n",
       "  '_token_': 'tundma',\n",
       "  'default': 'default_value',\n",
       "  'value': 'T'}]"
      ]
     },
     "execution_count": 4,
     "metadata": {},
     "output_type": "execute_result"
    }
   ],
   "source": [
    "# NBVAL_IGNORE_OUTPUT\n",
    "records = vocabulary.to_records()\n",
    "records"
   ]
  },
  {
   "cell_type": "markdown",
   "metadata": {},
   "source": [
    "The following colors codes are in use for value types."
   ]
  },
  {
   "cell_type": "code",
   "execution_count": 5,
   "metadata": {
    "scrolled": false
   },
   "outputs": [
    {
     "data": {
      "text/html": [
       "<h4>Vocabulary</h4>\n",
       "key: 'color'\n",
       "<style  type=\"text/css\" >\n",
       "    #T_2ae7151a_f313_11e8_88d3_d326e09d1482  {\n",
       "    }    #T_2ae7151a_f313_11e8_88d3_d326e09d1482  {\n",
       "    }    #T_2ae7151a_f313_11e8_88d3_d326e09d1482row0_col0 {\n",
       "            background-color:  LightSteelBlue;\n",
       "        }    #T_2ae7151a_f313_11e8_88d3_d326e09d1482row0_col1 {\n",
       "            background-color:  LightSteelBlue;\n",
       "        }    #T_2ae7151a_f313_11e8_88d3_d326e09d1482row0_col2 {\n",
       "            background-color:  cyan;\n",
       "        }    #T_2ae7151a_f313_11e8_88d3_d326e09d1482row1_col0 {\n",
       "            background-color:  LightSteelBlue;\n",
       "        }    #T_2ae7151a_f313_11e8_88d3_d326e09d1482row1_col1 {\n",
       "            background-color:  LightSteelBlue;\n",
       "        }    #T_2ae7151a_f313_11e8_88d3_d326e09d1482row1_col2 {\n",
       "            background-color:  LightPink;\n",
       "        }    #T_2ae7151a_f313_11e8_88d3_d326e09d1482row2_col0 {\n",
       "            background-color:  LightSteelBlue;\n",
       "        }    #T_2ae7151a_f313_11e8_88d3_d326e09d1482row2_col1 {\n",
       "            background-color:  LightSteelBlue;\n",
       "        }    #T_2ae7151a_f313_11e8_88d3_d326e09d1482row2_col2 {\n",
       "            background-color:  LightSteelBlue;\n",
       "        }    #T_2ae7151a_f313_11e8_88d3_d326e09d1482row3_col0 {\n",
       "            background-color:  LightSteelBlue;\n",
       "        }    #T_2ae7151a_f313_11e8_88d3_d326e09d1482row3_col1 {\n",
       "            background-color:  LightSteelBlue;\n",
       "        }    #T_2ae7151a_f313_11e8_88d3_d326e09d1482row3_col2 {\n",
       "            background-color:  Moccasin;\n",
       "        }    #T_2ae7151a_f313_11e8_88d3_d326e09d1482row4_col0 {\n",
       "            background-color:  LightSteelBlue;\n",
       "        }    #T_2ae7151a_f313_11e8_88d3_d326e09d1482row4_col1 {\n",
       "            background-color:  LightSteelBlue;\n",
       "        }    #T_2ae7151a_f313_11e8_88d3_d326e09d1482row4_col2 {\n",
       "            background-color:  Moccasin;\n",
       "        }    #T_2ae7151a_f313_11e8_88d3_d326e09d1482row5_col0 {\n",
       "            background-color:  LightSteelBlue;\n",
       "        }    #T_2ae7151a_f313_11e8_88d3_d326e09d1482row5_col1 {\n",
       "            background-color:  LightSteelBlue;\n",
       "        }    #T_2ae7151a_f313_11e8_88d3_d326e09d1482row5_col2 {\n",
       "            background-color:  OrangeRed;\n",
       "        }    #T_2ae7151a_f313_11e8_88d3_d326e09d1482row6_col0 {\n",
       "            background-color:  LightSteelBlue;\n",
       "        }    #T_2ae7151a_f313_11e8_88d3_d326e09d1482row6_col1 {\n",
       "            background-color:  LightSteelBlue;\n",
       "        }    #T_2ae7151a_f313_11e8_88d3_d326e09d1482row6_col2 {\n",
       "            background-color:  white;\n",
       "        }    #T_2ae7151a_f313_11e8_88d3_d326e09d1482row7_col0 {\n",
       "            background-color:  LightSteelBlue;\n",
       "        }    #T_2ae7151a_f313_11e8_88d3_d326e09d1482row7_col1 {\n",
       "            background-color:  LightSteelBlue;\n",
       "        }    #T_2ae7151a_f313_11e8_88d3_d326e09d1482row7_col2 {\n",
       "            background-color:  yellow;\n",
       "        }</style>  \n",
       "<table id=\"T_2ae7151a_f313_11e8_88d3_d326e09d1482\" > \n",
       "<thead>    <tr> \n",
       "        <th class=\"col_heading level0 col0\" >color</th> \n",
       "        <th class=\"col_heading level0 col1\" >value type</th> \n",
       "        <th class=\"col_heading level0 col2\" >example</th> \n",
       "    </tr></thead> \n",
       "<tbody>    <tr> \n",
       "        <td id=\"T_2ae7151a_f313_11e8_88d3_d326e09d1482row0_col0\" class=\"data row0 col0\" >Cyan</td> \n",
       "        <td id=\"T_2ae7151a_f313_11e8_88d3_d326e09d1482row0_col1\" class=\"data row0 col1\" >float</td> \n",
       "        <td id=\"T_2ae7151a_f313_11e8_88d3_d326e09d1482row0_col2\" class=\"data row0 col2\" >0.123</td> \n",
       "    </tr>    <tr> \n",
       "        <td id=\"T_2ae7151a_f313_11e8_88d3_d326e09d1482row1_col0\" class=\"data row1 col0\" >LightPink</td> \n",
       "        <td id=\"T_2ae7151a_f313_11e8_88d3_d326e09d1482row1_col1\" class=\"data row1 col1\" >tuple</td> \n",
       "        <td id=\"T_2ae7151a_f313_11e8_88d3_d326e09d1482row1_col2\" class=\"data row1 col2\" >(&#x27;pi&#x27;, 3, 0.14)</td> \n",
       "    </tr>    <tr> \n",
       "        <td id=\"T_2ae7151a_f313_11e8_88d3_d326e09d1482row2_col0\" class=\"data row2 col0\" >LightSteelBlue</td> \n",
       "        <td id=\"T_2ae7151a_f313_11e8_88d3_d326e09d1482row2_col1\" class=\"data row2 col1\" >str</td> \n",
       "        <td id=\"T_2ae7151a_f313_11e8_88d3_d326e09d1482row2_col2\" class=\"data row2 col2\" >string</td> \n",
       "    </tr>    <tr> \n",
       "        <td id=\"T_2ae7151a_f313_11e8_88d3_d326e09d1482row3_col0\" class=\"data row3 col0\" >Moccasin</td> \n",
       "        <td id=\"T_2ae7151a_f313_11e8_88d3_d326e09d1482row3_col1\" class=\"data row3 col1\" >int</td> \n",
       "        <td id=\"T_2ae7151a_f313_11e8_88d3_d326e09d1482row3_col2\" class=\"data row3 col2\" >12345</td> \n",
       "    </tr>    <tr> \n",
       "        <td id=\"T_2ae7151a_f313_11e8_88d3_d326e09d1482row4_col0\" class=\"data row4 col0\" ></td> \n",
       "        <td id=\"T_2ae7151a_f313_11e8_88d3_d326e09d1482row4_col1\" class=\"data row4 col1\" >int</td> \n",
       "        <td id=\"T_2ae7151a_f313_11e8_88d3_d326e09d1482row4_col2\" class=\"data row4 col2\" >True</td> \n",
       "    </tr>    <tr> \n",
       "        <td id=\"T_2ae7151a_f313_11e8_88d3_d326e09d1482row5_col0\" class=\"data row5 col0\" >OrangeRed</td> \n",
       "        <td id=\"T_2ae7151a_f313_11e8_88d3_d326e09d1482row5_col1\" class=\"data row5 col1\" >list</td> \n",
       "        <td id=\"T_2ae7151a_f313_11e8_88d3_d326e09d1482row5_col2\" class=\"data row5 col2\" >[&#x27;L&#x27;, &#x27;I&#x27;, &#x27;S&#x27;, &#x27;T&#x27;]</td> \n",
       "    </tr>    <tr> \n",
       "        <td id=\"T_2ae7151a_f313_11e8_88d3_d326e09d1482row6_col0\" class=\"data row6 col0\" >White</td> \n",
       "        <td id=\"T_2ae7151a_f313_11e8_88d3_d326e09d1482row6_col1\" class=\"data row6 col1\" >other</td> \n",
       "        <td id=\"T_2ae7151a_f313_11e8_88d3_d326e09d1482row6_col2\" class=\"data row6 col2\" >{&#x27;t&#x27;, &#x27;s&#x27;, &#x27;e&#x27;}</td> \n",
       "    </tr>    <tr> \n",
       "        <td id=\"T_2ae7151a_f313_11e8_88d3_d326e09d1482row7_col0\" class=\"data row7 col0\" >Yellow</td> \n",
       "        <td id=\"T_2ae7151a_f313_11e8_88d3_d326e09d1482row7_col1\" class=\"data row7 col1\" >re.Pattern</td> \n",
       "        <td id=\"T_2ae7151a_f313_11e8_88d3_d326e09d1482row7_col2\" class=\"data row7 col2\" >&lt;Regex pattern&gt;</td> \n",
       "    </tr></tbody> \n",
       "</table> "
      ],
      "text/plain": [
       "Vocabulary(key='color', len=7)"
      ]
     },
     "execution_count": 5,
     "metadata": {},
     "output_type": "execute_result"
    }
   ],
   "source": [
    "import regex as re\n",
    "\n",
    "voc = Vocabulary.from_records(key='color', attributes=('color', 'value type', 'example'),\n",
    "                              records=[ \n",
    "                                       {'example': 'string', 'value type': 'str', 'color':'LightSteelBlue'},\n",
    "                                       {'example': 12345, 'value type': 'int', 'color':'Moccasin'},\n",
    "                                       {'example': True, 'value type': 'int', 'color':'Moccasin'},\n",
    "                                       {'example': 0.123, 'value type': 'float', 'color':'Cyan'},\n",
    "                                       {'example': ('pi', 3, .14), 'value type': 'tuple', 'color':'LightPink'},\n",
    "                                       {'example': list('LIST'), 'value type': 'list', 'color':'OrangeRed'},\n",
    "                                       {'example': re.compile('pattern'), 'value type': 're.Pattern', 'color':'Yellow'},\n",
    "                                       {'example': set('set'), 'value type': 'other', 'color':'White'},\n",
    "                                       ])\n",
    "voc"
   ]
  },
  {
   "cell_type": "markdown",
   "metadata": {},
   "source": [
    "Internally `Vocabulary` is a `Mapping[Hashable, List[Mapping[Hashable, Any]]]`"
   ]
  },
  {
   "cell_type": "code",
   "execution_count": 6,
   "metadata": {
    "scrolled": true
   },
   "outputs": [
    {
     "data": {
      "text/plain": [
       "{'Cyan': [{'color': 'Cyan', 'example': 0.123, 'value type': 'float'}],\n",
       " 'LightPink': [{'color': 'LightPink',\n",
       "   'example': ('pi', 3, 0.14),\n",
       "   'value type': 'tuple'}],\n",
       " 'LightSteelBlue': [{'color': 'LightSteelBlue',\n",
       "   'example': 'string',\n",
       "   'value type': 'str'}],\n",
       " 'Moccasin': [{'color': 'Moccasin', 'example': 12345, 'value type': 'int'},\n",
       "  {'color': 'Moccasin', 'example': True, 'value type': 'int'}],\n",
       " 'OrangeRed': [{'color': 'OrangeRed',\n",
       "   'example': ['L', 'I', 'S', 'T'],\n",
       "   'value type': 'list'}],\n",
       " 'White': [{'color': 'White',\n",
       "   'example': {'e', 's', 't'},\n",
       "   'value type': 'other'}],\n",
       " 'Yellow': [{'color': 'Yellow',\n",
       "   'example': regex.Regex('pattern', flags=regex.V0),\n",
       "   'value type': 're.Pattern'}]}"
      ]
     },
     "execution_count": 6,
     "metadata": {},
     "output_type": "execute_result"
    }
   ],
   "source": [
    "voc.mapping"
   ]
  },
  {
   "cell_type": "markdown",
   "metadata": {},
   "source": [
    "`to_lower` method creates a new `Vocabulary` with lowercase `key` values. This method raises an exception if all the keys can't be lowercased or there are different keys that are lowercase equal."
   ]
  },
  {
   "cell_type": "code",
   "execution_count": 7,
   "metadata": {
    "scrolled": true
   },
   "outputs": [
    {
     "data": {
      "text/html": [
       "<h4>Vocabulary</h4>\n",
       "key: 'color'\n",
       "<style  type=\"text/css\" >\n",
       "    #T_2afc722a_f313_11e8_88d3_d326e09d1482  {\n",
       "    }    #T_2afc722a_f313_11e8_88d3_d326e09d1482  {\n",
       "    }    #T_2afc722a_f313_11e8_88d3_d326e09d1482row0_col0 {\n",
       "            background-color:  LightSteelBlue;\n",
       "        }    #T_2afc722a_f313_11e8_88d3_d326e09d1482row0_col1 {\n",
       "            background-color:  LightSteelBlue;\n",
       "        }    #T_2afc722a_f313_11e8_88d3_d326e09d1482row0_col2 {\n",
       "            background-color:  cyan;\n",
       "        }    #T_2afc722a_f313_11e8_88d3_d326e09d1482row1_col0 {\n",
       "            background-color:  LightSteelBlue;\n",
       "        }    #T_2afc722a_f313_11e8_88d3_d326e09d1482row1_col1 {\n",
       "            background-color:  LightSteelBlue;\n",
       "        }    #T_2afc722a_f313_11e8_88d3_d326e09d1482row1_col2 {\n",
       "            background-color:  LightPink;\n",
       "        }    #T_2afc722a_f313_11e8_88d3_d326e09d1482row2_col0 {\n",
       "            background-color:  LightSteelBlue;\n",
       "        }    #T_2afc722a_f313_11e8_88d3_d326e09d1482row2_col1 {\n",
       "            background-color:  LightSteelBlue;\n",
       "        }    #T_2afc722a_f313_11e8_88d3_d326e09d1482row2_col2 {\n",
       "            background-color:  LightSteelBlue;\n",
       "        }    #T_2afc722a_f313_11e8_88d3_d326e09d1482row3_col0 {\n",
       "            background-color:  LightSteelBlue;\n",
       "        }    #T_2afc722a_f313_11e8_88d3_d326e09d1482row3_col1 {\n",
       "            background-color:  LightSteelBlue;\n",
       "        }    #T_2afc722a_f313_11e8_88d3_d326e09d1482row3_col2 {\n",
       "            background-color:  Moccasin;\n",
       "        }    #T_2afc722a_f313_11e8_88d3_d326e09d1482row4_col0 {\n",
       "            background-color:  LightSteelBlue;\n",
       "        }    #T_2afc722a_f313_11e8_88d3_d326e09d1482row4_col1 {\n",
       "            background-color:  LightSteelBlue;\n",
       "        }    #T_2afc722a_f313_11e8_88d3_d326e09d1482row4_col2 {\n",
       "            background-color:  Moccasin;\n",
       "        }    #T_2afc722a_f313_11e8_88d3_d326e09d1482row5_col0 {\n",
       "            background-color:  LightSteelBlue;\n",
       "        }    #T_2afc722a_f313_11e8_88d3_d326e09d1482row5_col1 {\n",
       "            background-color:  LightSteelBlue;\n",
       "        }    #T_2afc722a_f313_11e8_88d3_d326e09d1482row5_col2 {\n",
       "            background-color:  OrangeRed;\n",
       "        }    #T_2afc722a_f313_11e8_88d3_d326e09d1482row6_col0 {\n",
       "            background-color:  LightSteelBlue;\n",
       "        }    #T_2afc722a_f313_11e8_88d3_d326e09d1482row6_col1 {\n",
       "            background-color:  LightSteelBlue;\n",
       "        }    #T_2afc722a_f313_11e8_88d3_d326e09d1482row6_col2 {\n",
       "            background-color:  white;\n",
       "        }    #T_2afc722a_f313_11e8_88d3_d326e09d1482row7_col0 {\n",
       "            background-color:  LightSteelBlue;\n",
       "        }    #T_2afc722a_f313_11e8_88d3_d326e09d1482row7_col1 {\n",
       "            background-color:  LightSteelBlue;\n",
       "        }    #T_2afc722a_f313_11e8_88d3_d326e09d1482row7_col2 {\n",
       "            background-color:  yellow;\n",
       "        }</style>  \n",
       "<table id=\"T_2afc722a_f313_11e8_88d3_d326e09d1482\" > \n",
       "<thead>    <tr> \n",
       "        <th class=\"col_heading level0 col0\" >color</th> \n",
       "        <th class=\"col_heading level0 col1\" >value type</th> \n",
       "        <th class=\"col_heading level0 col2\" >example</th> \n",
       "    </tr></thead> \n",
       "<tbody>    <tr> \n",
       "        <td id=\"T_2afc722a_f313_11e8_88d3_d326e09d1482row0_col0\" class=\"data row0 col0\" >cyan</td> \n",
       "        <td id=\"T_2afc722a_f313_11e8_88d3_d326e09d1482row0_col1\" class=\"data row0 col1\" >float</td> \n",
       "        <td id=\"T_2afc722a_f313_11e8_88d3_d326e09d1482row0_col2\" class=\"data row0 col2\" >0.123</td> \n",
       "    </tr>    <tr> \n",
       "        <td id=\"T_2afc722a_f313_11e8_88d3_d326e09d1482row1_col0\" class=\"data row1 col0\" >lightpink</td> \n",
       "        <td id=\"T_2afc722a_f313_11e8_88d3_d326e09d1482row1_col1\" class=\"data row1 col1\" >tuple</td> \n",
       "        <td id=\"T_2afc722a_f313_11e8_88d3_d326e09d1482row1_col2\" class=\"data row1 col2\" >(&#x27;pi&#x27;, 3, 0.14)</td> \n",
       "    </tr>    <tr> \n",
       "        <td id=\"T_2afc722a_f313_11e8_88d3_d326e09d1482row2_col0\" class=\"data row2 col0\" >lightsteelblue</td> \n",
       "        <td id=\"T_2afc722a_f313_11e8_88d3_d326e09d1482row2_col1\" class=\"data row2 col1\" >str</td> \n",
       "        <td id=\"T_2afc722a_f313_11e8_88d3_d326e09d1482row2_col2\" class=\"data row2 col2\" >string</td> \n",
       "    </tr>    <tr> \n",
       "        <td id=\"T_2afc722a_f313_11e8_88d3_d326e09d1482row3_col0\" class=\"data row3 col0\" >moccasin</td> \n",
       "        <td id=\"T_2afc722a_f313_11e8_88d3_d326e09d1482row3_col1\" class=\"data row3 col1\" >int</td> \n",
       "        <td id=\"T_2afc722a_f313_11e8_88d3_d326e09d1482row3_col2\" class=\"data row3 col2\" >12345</td> \n",
       "    </tr>    <tr> \n",
       "        <td id=\"T_2afc722a_f313_11e8_88d3_d326e09d1482row4_col0\" class=\"data row4 col0\" ></td> \n",
       "        <td id=\"T_2afc722a_f313_11e8_88d3_d326e09d1482row4_col1\" class=\"data row4 col1\" >int</td> \n",
       "        <td id=\"T_2afc722a_f313_11e8_88d3_d326e09d1482row4_col2\" class=\"data row4 col2\" >True</td> \n",
       "    </tr>    <tr> \n",
       "        <td id=\"T_2afc722a_f313_11e8_88d3_d326e09d1482row5_col0\" class=\"data row5 col0\" >orangered</td> \n",
       "        <td id=\"T_2afc722a_f313_11e8_88d3_d326e09d1482row5_col1\" class=\"data row5 col1\" >list</td> \n",
       "        <td id=\"T_2afc722a_f313_11e8_88d3_d326e09d1482row5_col2\" class=\"data row5 col2\" >[&#x27;L&#x27;, &#x27;I&#x27;, &#x27;S&#x27;, &#x27;T&#x27;]</td> \n",
       "    </tr>    <tr> \n",
       "        <td id=\"T_2afc722a_f313_11e8_88d3_d326e09d1482row6_col0\" class=\"data row6 col0\" >white</td> \n",
       "        <td id=\"T_2afc722a_f313_11e8_88d3_d326e09d1482row6_col1\" class=\"data row6 col1\" >other</td> \n",
       "        <td id=\"T_2afc722a_f313_11e8_88d3_d326e09d1482row6_col2\" class=\"data row6 col2\" >{&#x27;t&#x27;, &#x27;s&#x27;, &#x27;e&#x27;}</td> \n",
       "    </tr>    <tr> \n",
       "        <td id=\"T_2afc722a_f313_11e8_88d3_d326e09d1482row7_col0\" class=\"data row7 col0\" >yellow</td> \n",
       "        <td id=\"T_2afc722a_f313_11e8_88d3_d326e09d1482row7_col1\" class=\"data row7 col1\" >re.Pattern</td> \n",
       "        <td id=\"T_2afc722a_f313_11e8_88d3_d326e09d1482row7_col2\" class=\"data row7 col2\" >&lt;Regex pattern&gt;</td> \n",
       "    </tr></tbody> \n",
       "</table> "
      ],
      "text/plain": [
       "Vocabulary(key='color', len=7)"
      ]
     },
     "execution_count": 7,
     "metadata": {},
     "output_type": "execute_result"
    }
   ],
   "source": [
    "voc_low = voc.to_lower()\n",
    "voc_low"
   ]
  }
 ],
 "metadata": {
  "kernelspec": {
   "display_name": "Python 3",
   "language": "python",
   "name": "python3"
  },
  "language_info": {
   "codemirror_mode": {
    "name": "ipython",
    "version": 3
   },
   "file_extension": ".py",
   "mimetype": "text/x-python",
   "name": "python",
   "nbconvert_exporter": "python",
   "pygments_lexer": "ipython3",
   "version": "3.5.6"
  }
 },
 "nbformat": 4,
 "nbformat_minor": 2
}
