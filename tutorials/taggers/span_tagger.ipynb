{
 "cells": [
  {
   "cell_type": "markdown",
   "metadata": {},
   "source": [
    "# SpanTagger"
   ]
  },
  {
   "cell_type": "code",
   "execution_count": 2,
   "metadata": {
    "collapsed": false
   },
   "outputs": [
    {
     "data": {
      "text/html": [
       "<h4>Layer</h4>\n",
       "<table border=\"1\" class=\"dataframe\">\n",
       "  <thead>\n",
       "    <tr style=\"text-align: right;\">\n",
       "      <th>layer name</th>\n",
       "      <th>attributes</th>\n",
       "      <th>parent</th>\n",
       "      <th>enveloping</th>\n",
       "      <th>ambiguous</th>\n",
       "      <th>span count</th>\n",
       "    </tr>\n",
       "  </thead>\n",
       "  <tbody>\n",
       "    <tr>\n",
       "      <td>tagged_tokens</td>\n",
       "      <td>value, _priority_</td>\n",
       "      <td>morph_analysis</td>\n",
       "      <td>None</td>\n",
       "      <td>True</td>\n",
       "      <td>3</td>\n",
       "    </tr>\n",
       "  </tbody>\n",
       "</table>\n",
       "<table border=\"1\" class=\"dataframe\">\n",
       "  <thead>\n",
       "    <tr style=\"text-align: right;\">\n",
       "      <th>text</th>\n",
       "      <th>value</th>\n",
       "      <th>_priority_</th>\n",
       "    </tr>\n",
       "  </thead>\n",
       "  <tbody>\n",
       "    <tr>\n",
       "      <td>tunnevad</td>\n",
       "      <td>T</td>\n",
       "      <td>1</td>\n",
       "    </tr>\n",
       "    <tr>\n",
       "      <td>inimesed</td>\n",
       "      <td>K</td>\n",
       "      <td>2</td>\n",
       "    </tr>\n",
       "    <tr>\n",
       "      <td></td>\n",
       "      <td>I</td>\n",
       "      <td>3</td>\n",
       "    </tr>\n",
       "    <tr>\n",
       "      <td>päikesest</td>\n",
       "      <td>P</td>\n",
       "      <td>2</td>\n",
       "    </tr>\n",
       "  </tbody>\n",
       "</table>"
      ],
      "text/plain": [
       "Layer(name=tagged_tokens, spans=SL[AS[Span(tunnevad, {'_priority_': 1, 'value': 'T'})],\n",
       "AS[Span(inimesed, {'_priority_': 2, 'value': 'K'}),\n",
       "Span(inimesed, {'_priority_': 3, 'value': 'I'})],\n",
       "AS[Span(päikesest, {'_priority_': 2, 'value': 'P'})]])"
      ]
     },
     "execution_count": 2,
     "metadata": {},
     "output_type": "execute_result"
    }
   ],
   "source": [
    "from estnltk import Text\n",
    "\n",
    "text = Text('Eestimaal tunnevad inimesed palju puudust päikesest ja energiast.').tag_layer(['morph_analysis'])\n",
    "\n",
    "from estnltk.taggers import SpanTagger\n",
    "\n",
    "vocabulary='span_vocabulary.csv'\n",
    "\n",
    "tagger = SpanTagger(output_layer='tagged_tokens',\n",
    "                    input_layer='morph_analysis',\n",
    "                    input_attribute='lemma',\n",
    "                    vocabulary=vocabulary,\n",
    "                    output_attributes=['value', '_priority_'], # default: None\n",
    "                    key='_token_', # default: '_token_'\n",
    "                    validator_attribute='_validator_', # default: '_validator_'\n",
    "                    ambiguous=True # default: False\n",
    "                    )\n",
    "tagger.tag(text)\n",
    "text.tagged_tokens"
   ]
  },
  {
   "cell_type": "code",
   "execution_count": 3,
   "metadata": {
    "collapsed": false,
    "scrolled": false
   },
   "outputs": [
    {
     "data": {
      "text/html": [
       "<h4>Tagger</h4>\n",
       "Tags spans on a given layer. Creates a layer for which the input layer is the parent layer.\n",
       "<table border=\"1\" class=\"dataframe\">\n",
       "  <thead>\n",
       "    <tr style=\"text-align: right;\">\n",
       "      <th>name</th>\n",
       "      <th>output layer</th>\n",
       "      <th>output attributes</th>\n",
       "      <th>input layers</th>\n",
       "    </tr>\n",
       "  </thead>\n",
       "  <tbody>\n",
       "    <tr>\n",
       "      <td>SpanTagger</td>\n",
       "      <td>tagged_tokens</td>\n",
       "      <td>['value', '_priority_']</td>\n",
       "      <td>['morph_analysis']</td>\n",
       "    </tr>\n",
       "  </tbody>\n",
       "</table>\n",
       "<h4>Configuration</h4>\n",
       "<table border=\"1\" class=\"dataframe\">\n",
       "  <tbody>\n",
       "    <tr>\n",
       "      <th>input_attribute</th>\n",
       "      <td>lemma</td>\n",
       "    </tr>\n",
       "    <tr>\n",
       "      <th>global_validator</th>\n",
       "      <td>&lt;function estnltk.taggers.dict_taggers.span_tagger.default_validator&gt;</td>\n",
       "    </tr>\n",
       "    <tr>\n",
       "      <th>validator_attribute</th>\n",
       "      <td>_validator_</td>\n",
       "    </tr>\n",
       "    <tr>\n",
       "      <th>priority_attribute</th>\n",
       "      <td>None</td>\n",
       "    </tr>\n",
       "    <tr>\n",
       "      <th>ambiguous</th>\n",
       "      <td>True</td>\n",
       "    </tr>\n",
       "  </tbody>\n",
       "</table>"
      ],
      "text/plain": [
       "SpanTagger(input_layers=['morph_analysis'], output_layer=tagged_tokens, output_attributes=['value', '_priority_'], input_attribute=lemma, global_validator=<function estnltk.taggers.dict_taggers.span_tagger.default_validator>, validator_attribute=_validator_, priority_attribute=None, ambiguous=True)"
      ]
     },
     "execution_count": 3,
     "metadata": {},
     "output_type": "execute_result"
    }
   ],
   "source": [
    "tagger"
   ]
  }
 ],
 "metadata": {
  "anaconda-cloud": {},
  "kernelspec": {
   "display_name": "Python [default]",
   "language": "python",
   "name": "python3"
  },
  "language_info": {
   "codemirror_mode": {
    "name": "ipython",
    "version": 3
   },
   "file_extension": ".py",
   "mimetype": "text/x-python",
   "name": "python",
   "nbconvert_exporter": "python",
   "pygments_lexer": "ipython3",
   "version": "3.5.4"
  }
 },
 "nbformat": 4,
 "nbformat_minor": 2
}
