{
 "cells": [
  {
   "cell_type": "markdown",
   "metadata": {},
   "source": [
    "# PhraseTagger\n",
    "`PhraseTagger` can be used to tag sequencial attribute values of a layer. The result is an enveloping layer.\n",
    "Let's create a Text object with `morph_analysis` layer."
   ]
  },
  {
   "cell_type": "code",
   "execution_count": 1,
   "metadata": {},
   "outputs": [
    {
     "data": {
      "text/html": [
       "<h4>Layer</h4>\n",
       "<table border=\"1\" class=\"dataframe\">\n",
       "  <thead>\n",
       "    <tr style=\"text-align: right;\">\n",
       "      <th>layer name</th>\n",
       "      <th>attributes</th>\n",
       "      <th>parent</th>\n",
       "      <th>enveloping</th>\n",
       "      <th>ambiguous</th>\n",
       "      <th>span count</th>\n",
       "    </tr>\n",
       "  </thead>\n",
       "  <tbody>\n",
       "    <tr>\n",
       "      <td>morph_analysis</td>\n",
       "      <td>lemma, root, root_tokens, ending, clitic, form, partofspeech</td>\n",
       "      <td>words</td>\n",
       "      <td>None</td>\n",
       "      <td>True</td>\n",
       "      <td>9</td>\n",
       "    </tr>\n",
       "  </tbody>\n",
       "</table>\n",
       "<table border=\"1\" class=\"dataframe\">\n",
       "  <thead>\n",
       "    <tr style=\"text-align: right;\">\n",
       "      <th>text</th>\n",
       "      <th>lemma</th>\n",
       "      <th>root</th>\n",
       "      <th>root_tokens</th>\n",
       "      <th>ending</th>\n",
       "      <th>clitic</th>\n",
       "      <th>form</th>\n",
       "      <th>partofspeech</th>\n",
       "    </tr>\n",
       "  </thead>\n",
       "  <tbody>\n",
       "    <tr>\n",
       "      <td>Eestimaal</td>\n",
       "      <td>Eestimaa</td>\n",
       "      <td>Eesti_maa</td>\n",
       "      <td>(Eesti, maa)</td>\n",
       "      <td>l</td>\n",
       "      <td></td>\n",
       "      <td>sg ad</td>\n",
       "      <td>H</td>\n",
       "    </tr>\n",
       "    <tr>\n",
       "      <td>tunnevad</td>\n",
       "      <td>tundma</td>\n",
       "      <td>tund</td>\n",
       "      <td>(tund,)</td>\n",
       "      <td>vad</td>\n",
       "      <td></td>\n",
       "      <td>vad</td>\n",
       "      <td>V</td>\n",
       "    </tr>\n",
       "    <tr>\n",
       "      <td>inimesed</td>\n",
       "      <td>inimene</td>\n",
       "      <td>inimene</td>\n",
       "      <td>(inimene,)</td>\n",
       "      <td>d</td>\n",
       "      <td></td>\n",
       "      <td>pl n</td>\n",
       "      <td>S</td>\n",
       "    </tr>\n",
       "    <tr>\n",
       "      <td>palju</td>\n",
       "      <td>palju</td>\n",
       "      <td>palju</td>\n",
       "      <td>(palju,)</td>\n",
       "      <td>0</td>\n",
       "      <td></td>\n",
       "      <td></td>\n",
       "      <td>D</td>\n",
       "    </tr>\n",
       "    <tr>\n",
       "      <td>puudust</td>\n",
       "      <td>puudus</td>\n",
       "      <td>puudus</td>\n",
       "      <td>(puudus,)</td>\n",
       "      <td>t</td>\n",
       "      <td></td>\n",
       "      <td>sg p</td>\n",
       "      <td>S</td>\n",
       "    </tr>\n",
       "    <tr>\n",
       "      <td>päikesest</td>\n",
       "      <td>päikene</td>\n",
       "      <td>päikene</td>\n",
       "      <td>(päikene,)</td>\n",
       "      <td>st</td>\n",
       "      <td></td>\n",
       "      <td>sg el</td>\n",
       "      <td>S</td>\n",
       "    </tr>\n",
       "    <tr>\n",
       "      <td></td>\n",
       "      <td>päike</td>\n",
       "      <td>päike</td>\n",
       "      <td>(päike,)</td>\n",
       "      <td>st</td>\n",
       "      <td></td>\n",
       "      <td>sg el</td>\n",
       "      <td>S</td>\n",
       "    </tr>\n",
       "    <tr>\n",
       "      <td>ja</td>\n",
       "      <td>ja</td>\n",
       "      <td>ja</td>\n",
       "      <td>(ja,)</td>\n",
       "      <td>0</td>\n",
       "      <td></td>\n",
       "      <td></td>\n",
       "      <td>J</td>\n",
       "    </tr>\n",
       "    <tr>\n",
       "      <td>energiast</td>\n",
       "      <td>energia</td>\n",
       "      <td>energia</td>\n",
       "      <td>(energia,)</td>\n",
       "      <td>st</td>\n",
       "      <td></td>\n",
       "      <td>sg el</td>\n",
       "      <td>S</td>\n",
       "    </tr>\n",
       "    <tr>\n",
       "      <td>.</td>\n",
       "      <td>.</td>\n",
       "      <td>.</td>\n",
       "      <td>(.,)</td>\n",
       "      <td></td>\n",
       "      <td></td>\n",
       "      <td></td>\n",
       "      <td>Z</td>\n",
       "    </tr>\n",
       "  </tbody>\n",
       "</table>"
      ],
      "text/plain": [
       "Layer(name=morph_analysis, spans=SL[SL[Span(Eestimaal, {'clitic': '', 'ending': 'l', 'form': 'sg ad', 'lemma': 'Eestimaa', 'partofspeech': 'H', 'root': 'Eesti_maa', 'root_tokens': ('Eesti', 'maa')})],\n",
       "SL[Span(tunnevad, {'clitic': '', 'ending': 'vad', 'form': 'vad', 'lemma': 'tundma', 'partofspeech': 'V', 'root': 'tund', 'root_tokens': ('tund',)})],\n",
       "SL[Span(inimesed, {'clitic': '', 'ending': 'd', 'form': 'pl n', 'lemma': 'inimene', 'partofspeech': 'S', 'root': 'inimene', 'root_tokens': ('inimene',)})],\n",
       "SL[Span(palju, {'clitic': '', 'ending': '0', 'form': '', 'lemma': 'palju', 'partofspeech': 'D', 'root': 'palju', 'root_tokens': ('palju',)})],\n",
       "SL[Span(puudust, {'clitic': '', 'ending': 't', 'form': 'sg p', 'lemma': 'puudus', 'partofspeech': 'S', 'root': 'puudus', 'root_tokens': ('puudus',)})],\n",
       "SL[Span(päikesest, {'clitic': '', 'ending': 'st', 'form': 'sg el', 'lemma': 'päikene', 'partofspeech': 'S', 'root': 'päikene', 'root_tokens': ('päikene',)}),\n",
       "Span(päikesest, {'clitic': '', 'ending': 'st', 'form': 'sg el', 'lemma': 'päike', 'partofspeech': 'S', 'root': 'päike', 'root_tokens': ('päike',)})],\n",
       "SL[Span(ja, {'clitic': '', 'ending': '0', 'form': '', 'lemma': 'ja', 'partofspeech': 'J', 'root': 'ja', 'root_tokens': ('ja',)})],\n",
       "SL[Span(energiast, {'clitic': '', 'ending': 'st', 'form': 'sg el', 'lemma': 'energia', 'partofspeech': 'S', 'root': 'energia', 'root_tokens': ('energia',)})],\n",
       "SL[Span(., {'clitic': '', 'ending': '', 'form': '', 'lemma': '.', 'partofspeech': 'Z', 'root': '.', 'root_tokens': ('.',)})]])"
      ]
     },
     "execution_count": 1,
     "metadata": {},
     "output_type": "execute_result"
    }
   ],
   "source": [
    "from estnltk import Text\n",
    "\n",
    "text = Text('Eestimaal tunnevad inimesed palju puudust päikesest ja energiast.').tag_layer(['morph_analysis'])\n",
    "text.morph_analysis"
   ]
  },
  {
   "cell_type": "markdown",
   "metadata": {},
   "source": [
    "Use `PhraseTagger` to tag sequences of lemmas on that text. The lemma sequences are read from a file."
   ]
  },
  {
   "cell_type": "code",
   "execution_count": 2,
   "metadata": {},
   "outputs": [
    {
     "data": {
      "text/html": [
       "<h4>Vocabulary</h4>\n",
       "<table border=\"1\" class=\"dataframe\">\n",
       "  <thead>\n",
       "    <tr style=\"text-align: right;\">\n",
       "      <th>_phrase_</th>\n",
       "      <th>value</th>\n",
       "      <th>_priority_</th>\n",
       "    </tr>\n",
       "  </thead>\n",
       "  <tbody>\n",
       "    <tr>\n",
       "      <td>('päike',)</td>\n",
       "      <td>P</td>\n",
       "      <td>0</td>\n",
       "    </tr>\n",
       "    <tr>\n",
       "      <td>('tundma', 'inimene')</td>\n",
       "      <td>TI_1</td>\n",
       "      <td>0</td>\n",
       "    </tr>\n",
       "    <tr>\n",
       "      <td></td>\n",
       "      <td>TI_2</td>\n",
       "      <td>0</td>\n",
       "    </tr>\n",
       "    <tr>\n",
       "      <td>('tundma', 'inimene', 'palju')</td>\n",
       "      <td>TIP</td>\n",
       "      <td>0</td>\n",
       "    </tr>\n",
       "  </tbody>\n",
       "</table>"
      ],
      "text/plain": [
       "Vocabulary(key='_phrase_', len=3)"
      ]
     },
     "execution_count": 2,
     "metadata": {},
     "output_type": "execute_result"
    }
   ],
   "source": [
    "from estnltk.taggers import Vocabulary\n",
    "\n",
    "vocabulary_file = 'phrase_vocabulary.csv'\n",
    "Vocabulary(vocabulary=vocabulary_file, key='_phrase_')"
   ]
  },
  {
   "cell_type": "code",
   "execution_count": 3,
   "metadata": {
    "scrolled": false
   },
   "outputs": [
    {
     "data": {
      "text/html": [
       "<h4>Tagger</h4>\n",
       "Tags phrases on a given layer. Creates an enveloping layer.\n",
       "<table border=\"1\" class=\"dataframe\">\n",
       "  <thead>\n",
       "    <tr style=\"text-align: right;\">\n",
       "      <th>name</th>\n",
       "      <th>output layer</th>\n",
       "      <th>output attributes</th>\n",
       "      <th>input layers</th>\n",
       "    </tr>\n",
       "  </thead>\n",
       "  <tbody>\n",
       "    <tr>\n",
       "      <td>PhraseTagger</td>\n",
       "      <td>phrases</td>\n",
       "      <td>['value', '_priority_']</td>\n",
       "      <td>['morph_analysis']</td>\n",
       "    </tr>\n",
       "  </tbody>\n",
       "</table>\n",
       "<h4>Configuration</h4>\n",
       "<table border=\"1\" class=\"dataframe\">\n",
       "  <tbody>\n",
       "    <tr>\n",
       "      <th>input_attribute</th>\n",
       "      <td>lemma</td>\n",
       "    </tr>\n",
       "    <tr>\n",
       "      <th>global_validator</th>\n",
       "      <td>&lt;function estnltk.taggers.dict_taggers.phrase_tagger.default_validator&gt;</td>\n",
       "    </tr>\n",
       "    <tr>\n",
       "      <th>validator_attribute</th>\n",
       "      <td>_validator_</td>\n",
       "    </tr>\n",
       "    <tr>\n",
       "      <th>conflict_resolving_strategy</th>\n",
       "      <td>ALL</td>\n",
       "    </tr>\n",
       "    <tr>\n",
       "      <th>priority_attribute</th>\n",
       "      <td>_priority_</td>\n",
       "    </tr>\n",
       "    <tr>\n",
       "      <th>ambiguous</th>\n",
       "      <td>False</td>\n",
       "    </tr>\n",
       "  </tbody>\n",
       "</table>"
      ],
      "text/plain": [
       "PhraseTagger(input_layers=['morph_analysis'], output_layer=phrases, output_attributes=['value', '_priority_'], input_attribute=lemma, global_validator=<function estnltk.taggers.dict_taggers.phrase_tagger.default_validator>, validator_attribute=_validator_, conflict_resolving_strategy=ALL, priority_attribute=_priority_, ambiguous=False)"
      ]
     },
     "execution_count": 3,
     "metadata": {},
     "output_type": "execute_result"
    }
   ],
   "source": [
    "from estnltk.taggers import PhraseTagger\n",
    "\n",
    "tagger = PhraseTagger(output_layer='phrases',\n",
    "                      input_layer='morph_analysis',\n",
    "                      input_attribute='lemma',\n",
    "                      vocabulary=vocabulary_file,\n",
    "                      output_attributes=['value', '_priority_'],\n",
    "                      conflict_resolving_strategy='ALL',\n",
    "                      priority_attribute='_priority_')\n",
    "tagger"
   ]
  },
  {
   "cell_type": "markdown",
   "metadata": {},
   "source": [
    "The vocabulary parsed into a dict looks like this"
   ]
  },
  {
   "cell_type": "code",
   "execution_count": 4,
   "metadata": {},
   "outputs": [
    {
     "data": {
      "text/html": [
       "<h4>Vocabulary</h4>\n",
       "<table border=\"1\" class=\"dataframe\">\n",
       "  <thead>\n",
       "    <tr style=\"text-align: right;\">\n",
       "      <th>_phrase_</th>\n",
       "      <th>value</th>\n",
       "      <th>_priority_</th>\n",
       "      <th>_validator_</th>\n",
       "    </tr>\n",
       "  </thead>\n",
       "  <tbody>\n",
       "    <tr>\n",
       "      <td>('päike',)</td>\n",
       "      <td>P</td>\n",
       "      <td>0</td>\n",
       "      <td>&lt;function estnltk.taggers.dict_taggers.phrase_tagger.default_validator&gt;</td>\n",
       "    </tr>\n",
       "    <tr>\n",
       "      <td>('tundma', 'inimene')</td>\n",
       "      <td>TI_1</td>\n",
       "      <td>0</td>\n",
       "      <td>&lt;function estnltk.taggers.dict_taggers.phrase_tagger.default_validator&gt;</td>\n",
       "    </tr>\n",
       "    <tr>\n",
       "      <td></td>\n",
       "      <td>TI_2</td>\n",
       "      <td>0</td>\n",
       "      <td>&lt;function estnltk.taggers.dict_taggers.phrase_tagger.default_validator&gt;</td>\n",
       "    </tr>\n",
       "    <tr>\n",
       "      <td>('tundma', 'inimene', 'palju')</td>\n",
       "      <td>TIP</td>\n",
       "      <td>0</td>\n",
       "      <td>&lt;function estnltk.taggers.dict_taggers.phrase_tagger.default_validator&gt;</td>\n",
       "    </tr>\n",
       "  </tbody>\n",
       "</table>"
      ],
      "text/plain": [
       "Vocabulary(key='_phrase_', len=3)"
      ]
     },
     "execution_count": 4,
     "metadata": {},
     "output_type": "execute_result"
    }
   ],
   "source": [
    "tagger._vocabulary"
   ]
  },
  {
   "cell_type": "markdown",
   "metadata": {},
   "source": [
    "The vocabulari can be used to initialize the tagger in form of dict as well as in form of file name.\n",
    "\n",
    "So single lemma 'päike' is tagged, sequencial lemmas 'tundma', 'inimene' are tagged twice since the vocabulary contains two interpretations for that phrase and also sequence of lemmas 'tundma', 'inimene', 'palju' is tagged:"
   ]
  },
  {
   "cell_type": "code",
   "execution_count": 5,
   "metadata": {
    "scrolled": true
   },
   "outputs": [
    {
     "data": {
      "text/html": [
       "<h4>Layer</h4>\n",
       "<table border=\"1\" class=\"dataframe\">\n",
       "  <thead>\n",
       "    <tr style=\"text-align: right;\">\n",
       "      <th>layer name</th>\n",
       "      <th>attributes</th>\n",
       "      <th>parent</th>\n",
       "      <th>enveloping</th>\n",
       "      <th>ambiguous</th>\n",
       "      <th>span count</th>\n",
       "    </tr>\n",
       "  </thead>\n",
       "  <tbody>\n",
       "    <tr>\n",
       "      <td>phrases</td>\n",
       "      <td>value, _priority_</td>\n",
       "      <td>None</td>\n",
       "      <td>morph_analysis</td>\n",
       "      <td>False</td>\n",
       "      <td>4</td>\n",
       "    </tr>\n",
       "  </tbody>\n",
       "</table>\n",
       "<table border=\"1\" class=\"dataframe\">\n",
       "  <thead>\n",
       "    <tr style=\"text-align: right;\">\n",
       "      <th>text</th>\n",
       "      <th>value</th>\n",
       "      <th>_priority_</th>\n",
       "    </tr>\n",
       "  </thead>\n",
       "  <tbody>\n",
       "    <tr>\n",
       "      <td><b>tunnevad</b> <b>inimesed</b></td>\n",
       "      <td>TI_1</td>\n",
       "      <td>0</td>\n",
       "    </tr>\n",
       "    <tr>\n",
       "      <td><b>tunnevad</b> <b>inimesed</b></td>\n",
       "      <td>TI_2</td>\n",
       "      <td>0</td>\n",
       "    </tr>\n",
       "    <tr>\n",
       "      <td><b>tunnevad</b> <b>inimesed</b> <b>palju</b></td>\n",
       "      <td>TIP</td>\n",
       "      <td>0</td>\n",
       "    </tr>\n",
       "    <tr>\n",
       "      <td><b>päikesest</b></td>\n",
       "      <td>P</td>\n",
       "      <td>0</td>\n",
       "    </tr>\n",
       "  </tbody>\n",
       "</table>"
      ],
      "text/plain": [
       "Layer(name=phrases, spans=SL[SL[SL[Span(tunnevad, {'clitic': '', 'ending': 'vad', 'form': 'vad', 'lemma': 'tundma', 'partofspeech': 'V', 'root': 'tund', 'root_tokens': ('tund',)})],\n",
       "SL[Span(inimesed, {'clitic': '', 'ending': 'd', 'form': 'pl n', 'lemma': 'inimene', 'partofspeech': 'S', 'root': 'inimene', 'root_tokens': ('inimene',)})]],\n",
       "SL[SL[Span(tunnevad, {'clitic': '', 'ending': 'vad', 'form': 'vad', 'lemma': 'tundma', 'partofspeech': 'V', 'root': 'tund', 'root_tokens': ('tund',)})],\n",
       "SL[Span(inimesed, {'clitic': '', 'ending': 'd', 'form': 'pl n', 'lemma': 'inimene', 'partofspeech': 'S', 'root': 'inimene', 'root_tokens': ('inimene',)})]],\n",
       "SL[SL[Span(tunnevad, {'clitic': '', 'ending': 'vad', 'form': 'vad', 'lemma': 'tundma', 'partofspeech': 'V', 'root': 'tund', 'root_tokens': ('tund',)})],\n",
       "SL[Span(inimesed, {'clitic': '', 'ending': 'd', 'form': 'pl n', 'lemma': 'inimene', 'partofspeech': 'S', 'root': 'inimene', 'root_tokens': ('inimene',)})],\n",
       "SL[Span(palju, {'clitic': '', 'ending': '0', 'form': '', 'lemma': 'palju', 'partofspeech': 'D', 'root': 'palju', 'root_tokens': ('palju',)})]],\n",
       "SL[SL[Span(päikesest, {'clitic': '', 'ending': 'st', 'form': 'sg el', 'lemma': 'päikene', 'partofspeech': 'S', 'root': 'päikene', 'root_tokens': ('päikene',)}),\n",
       "Span(päikesest, {'clitic': '', 'ending': 'st', 'form': 'sg el', 'lemma': 'päike', 'partofspeech': 'S', 'root': 'päike', 'root_tokens': ('päike',)})]]])"
      ]
     },
     "execution_count": 5,
     "metadata": {},
     "output_type": "execute_result"
    }
   ],
   "source": [
    "tagger.tag(text)\n",
    "text.phrases"
   ]
  },
  {
   "cell_type": "markdown",
   "metadata": {},
   "source": [
    "All of the spans are kept by conflict resolving because the priorities are all equal."
   ]
  }
 ],
 "metadata": {
  "kernelspec": {
   "display_name": "Python 3",
   "language": "python",
   "name": "python3"
  },
  "language_info": {
   "codemirror_mode": {
    "name": "ipython",
    "version": 3
   },
   "file_extension": ".py",
   "mimetype": "text/x-python",
   "name": "python",
   "nbconvert_exporter": "python",
   "pygments_lexer": "ipython3",
   "version": "3.5.4"
  }
 },
 "nbformat": 4,
 "nbformat_minor": 2
}
