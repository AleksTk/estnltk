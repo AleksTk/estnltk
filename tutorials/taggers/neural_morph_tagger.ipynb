{
 "cells": [
  {
   "cell_type": "markdown",
   "metadata": {},
   "source": [
    "# Neural Morphological Tagger\n",
    "\n",
    "Neural morphological tagger performs morphological analysis and disambiguation. Unlike the `VabamorfTagger`, which in some cases outputs ambiguous results, the neural tagger always returns exactly one analysis per word.\n",
    "\n",
    "The default model was trained on Morphologically Disambiguated Corpus [1] and achieves an accuracy of 98.02%. As a side effect, the neural tagger uses a tag set [2] which is not compatible with the Vabamorf's own.\n",
    "\n",
    "For technical details, check the paper [3], where the current model is referred to as a multiclass (MC).\n",
    "\n",
    "1.\tMorphologically disambiguated corpus http://www.cl.ut.ee/korpused/morfkorpus/index.php?lang=en\n",
    "2.\tMorpho-syntactic categories http://www.cl.ut.ee/korpused/morfliides/seletus\n",
    "3.\tTkachenko, A. and Sirts, K. (2018, September). Neural Morphological Tagging for Estonian. In BalticHLT.\n",
    "\n",
    "\n",
    "## Usage\n",
    "\n",
    "\n",
    "Preliminary steps:\n",
    "* Install tensorflow 1.4.0:\n",
    "    * using conda: *conda install -c conda-forge tensorflow==1.4.0*\n",
    "    \n",
    "    * using pip: *pip install tensorflow==1.4.0*\n",
    "    \n",
    "* Download the pre-trained model from `http://kodu.ut.ee/~distorti/estnltk/neural_morph_tagger/models/md-mc-emb-tag.tar.gz`.\n",
    "* Provide a configuration file which specifies the location of your model. For this, make a copy of a default configuration file `estnltk/estnltk/neural_morph/config.py` and edit the `model_dir` attribute.\n",
    "* Define an environment variable 'NEURAL_MORPH_TAGGER_CONFIG' to point to your configuration file.\n",
    "\n",
    "Finally, you can run the tagger:"
   ]
  },
  {
   "cell_type": "code",
   "execution_count": 1,
   "metadata": {
    "scrolled": false
   },
   "outputs": [],
   "source": [
    "from estnltk.taggers.neural_morph.neural_morph_tagger import NeuralMorphTagger\n",
    "from estnltk import Text\n",
    "import pandas as pd\n",
    "import os\n",
    "\n",
    "os.environ['NEURAL_MORPH_TAGGER_CONFIG'] = os.path.expanduser('~/neural_morph_tagger_config.py')"
   ]
  },
  {
   "cell_type": "code",
   "execution_count": null,
   "metadata": {
    "scrolled": true
   },
   "outputs": [],
   "source": [
    "tagger = NeuralMorphTagger()"
   ]
  },
  {
   "cell_type": "code",
   "execution_count": 3,
   "metadata": {
    "scrolled": true
   },
   "outputs": [],
   "source": [
    "text = Text(\"Eberhardt'i poolt katsetatud prototüübi baasil loodud masin\")\n",
    "text.tag_layer([\"morph_analysis\"])\n",
    "tagger.tag(text)"
   ]
  },
  {
   "cell_type": "markdown",
   "metadata": {},
   "source": [
    "The morpholoical tags can be now accessed using an attribute `morphtag`:"
   ]
  },
  {
   "cell_type": "code",
   "execution_count": 4,
   "metadata": {
    "scrolled": false
   },
   "outputs": [
    {
     "data": {
      "text/html": [
       "<div>\n",
       "<style scoped>\n",
       "    .dataframe tbody tr th:only-of-type {\n",
       "        vertical-align: middle;\n",
       "    }\n",
       "\n",
       "    .dataframe tbody tr th {\n",
       "        vertical-align: top;\n",
       "    }\n",
       "\n",
       "    .dataframe thead th {\n",
       "        text-align: right;\n",
       "    }\n",
       "</style>\n",
       "<table border=\"1\" class=\"dataframe\">\n",
       "  <thead>\n",
       "    <tr style=\"text-align: right;\">\n",
       "      <th></th>\n",
       "      <th>word</th>\n",
       "      <th>morphtag</th>\n",
       "      <th>partofspeech</th>\n",
       "      <th>form</th>\n",
       "    </tr>\n",
       "  </thead>\n",
       "  <tbody>\n",
       "    <tr>\n",
       "      <th>0</th>\n",
       "      <td>Eberhardt'i</td>\n",
       "      <td>_S_|prop|sg|gen</td>\n",
       "      <td>(H)</td>\n",
       "      <td>(sg g)</td>\n",
       "    </tr>\n",
       "    <tr>\n",
       "      <th>1</th>\n",
       "      <td>poolt</td>\n",
       "      <td>_K_|post</td>\n",
       "      <td>(K)</td>\n",
       "      <td>()</td>\n",
       "    </tr>\n",
       "    <tr>\n",
       "      <th>2</th>\n",
       "      <td>katsetatud</td>\n",
       "      <td>_A_|pos</td>\n",
       "      <td>(A, A, A, V)</td>\n",
       "      <td>(, sg n, pl n, tud)</td>\n",
       "    </tr>\n",
       "    <tr>\n",
       "      <th>3</th>\n",
       "      <td>prototüübi</td>\n",
       "      <td>_S_|com|sg|gen</td>\n",
       "      <td>(S)</td>\n",
       "      <td>(sg g)</td>\n",
       "    </tr>\n",
       "    <tr>\n",
       "      <th>4</th>\n",
       "      <td>baasil</td>\n",
       "      <td>_S_|com|sg|ad</td>\n",
       "      <td>(S)</td>\n",
       "      <td>(sg ad)</td>\n",
       "    </tr>\n",
       "    <tr>\n",
       "      <th>5</th>\n",
       "      <td>loodud</td>\n",
       "      <td>_A_|pos</td>\n",
       "      <td>(A, A, V, A)</td>\n",
       "      <td>(, sg n, tud, pl n)</td>\n",
       "    </tr>\n",
       "    <tr>\n",
       "      <th>6</th>\n",
       "      <td>masin</td>\n",
       "      <td>_S_|com|sg|nom</td>\n",
       "      <td>(S)</td>\n",
       "      <td>(sg n)</td>\n",
       "    </tr>\n",
       "  </tbody>\n",
       "</table>\n",
       "</div>"
      ],
      "text/plain": [
       "          word         morphtag  partofspeech                 form\n",
       "0  Eberhardt'i  _S_|prop|sg|gen           (H)               (sg g)\n",
       "1        poolt         _K_|post           (K)                   ()\n",
       "2   katsetatud          _A_|pos  (A, A, A, V)  (, sg n, pl n, tud)\n",
       "3   prototüübi   _S_|com|sg|gen           (S)               (sg g)\n",
       "4       baasil    _S_|com|sg|ad           (S)              (sg ad)\n",
       "5       loodud          _A_|pos  (A, A, V, A)  (, sg n, tud, pl n)\n",
       "6        masin   _S_|com|sg|nom           (S)               (sg n)"
      ]
     },
     "execution_count": 4,
     "metadata": {},
     "output_type": "execute_result"
    }
   ],
   "source": [
    "pd.DataFrame(data=[(w.text, w.morphtag, w.partofspeech, w.form) for w in text.words],\n",
    "             columns=[\"word\", \"morphtag\", \"partofspeech\", \"form\"])"
   ]
  },
  {
   "cell_type": "markdown",
   "metadata": {},
   "source": [
    "Note that the neural tagger correcty analysed words *katsetatud* and *loodud* for which vabamorf produced ambiguous results."
   ]
  },
  {
   "cell_type": "markdown",
   "metadata": {},
   "source": [
    "## Training\n",
    "    \n",
    "To train your own model, first, download the training data from http://kodu.ut.ee/~distorti/estnltk/neural_morph_tagger/data/md/data.tar.gz.\n",
    "\n",
    "Second, download pre-trained fastText word embeddings from https://github.com/facebookresearch/fastText/blob/master/pretrained-vectors.md.\n",
    "\n",
    "Third, create a configuration file. For this, make a copy of the default configuration file `estnltk/estnltk/neural_morph/config.py` and edit attributes:\n",
    "* data_dir - folder containing train/dev/test files (e.g. resources/data/md)\n",
    "* embeddings_file - embeddings file\n",
    "* model_dir - directory where the model will be saved\n",
    "\n",
    "Finally, you can train the model:\n",
    "\n",
    "    python estnltk/estnltk/neural_morph/scripts/train.py --config <configuration-file>\n",
    "\n",
    "To evaluate the model on the test set, run:\n",
    "    \n",
    "    python estnltk/estnltk/neural_morph/scripts/evaluate.py --config <configuration-file> --test"
   ]
  },
  {
   "cell_type": "markdown",
   "metadata": {},
   "source": [
    "## Unit Tests\n",
    "\n",
    "To unit test the morphological tagger, define an environment variable *NEURAL_MORPH_TAGGER_CONFIG* as explained above (otherwise the tests will be skipped) and run a command\n",
    "    \n",
    "    python -m unittest discover estnltk.tests.test_taggers.test_neural_morf_tagger -vvv"
   ]
  }
 ],
 "metadata": {
  "kernelspec": {
   "display_name": "Python 3",
   "language": "python",
   "name": "python3"
  },
  "language_info": {
   "codemirror_mode": {
    "name": "ipython",
    "version": 3
   },
   "file_extension": ".py",
   "mimetype": "text/x-python",
   "name": "python",
   "nbconvert_exporter": "python",
   "pygments_lexer": "ipython3",
   "version": "3.6.8"
  }
 },
 "nbformat": 4,
 "nbformat_minor": 2
}
