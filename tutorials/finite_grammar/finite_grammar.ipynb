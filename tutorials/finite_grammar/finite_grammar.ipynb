{
 "cells": [
  {
   "cell_type": "markdown",
   "metadata": {},
   "source": [
    "# Finite grammar\n",
    "## Rule\n",
    "Rules are used by graph parser to create no nodes."
   ]
  },
  {
   "cell_type": "code",
   "execution_count": 1,
   "metadata": {},
   "outputs": [
    {
     "data": {
      "text/plain": [
       "A -> B C SEQ(F)\t: 0, val: default_validator, dec: default_decorator, scoring: default_scoring"
      ]
     },
     "execution_count": 1,
     "metadata": {},
     "output_type": "execute_result"
    }
   ],
   "source": [
    "from estnltk.finite_grammar import Rule\n",
    "\n",
    "Rule(lhs='A',\n",
    "     rhs=['B', 'C', 'SEQ(F)'], # or 'B C SEQ(F)'\n",
    "     priority=0, # the default\n",
    "     group=None, # the default\n",
    "     decorator=None, # the default\n",
    "     validator=None, # the default\n",
    "     scoring=None # the default\n",
    "    )"
   ]
  },
  {
   "cell_type": "markdown",
   "metadata": {},
   "source": [
    "group is a hashable, used to resolve support conflicts. By default, every rule has a unique group. Different nodes created by the same rule are in the same group.\n",
    "\n",
    "decorator, validator and scoring are methods that take one argument, the support. The support is a list of nodes parsed by the rule.\n",
    "\n",
    "decorator returns a dict with attributes for the new node, by default empty dict.\n",
    "\n",
    "validator returns True or False. Default is True. If False, the node is not created.\n",
    "\n",
    "scoring gives value for the score attribute of the new node, used to resolve start-end and terminals conflicts. Should be orderable."
   ]
  },
  {
   "cell_type": "markdown",
   "metadata": {},
   "source": [
    "## Grammar\n",
    "Grammar is a container for rules."
   ]
  },
  {
   "cell_type": "code",
   "execution_count": 2,
   "metadata": {
    "scrolled": true
   },
   "outputs": [
    {
     "data": {
      "text/plain": [
       "\n",
       "Grammar:\n",
       "\tstart: S\n",
       "\tterminals: B, C, F, G, H, I, K\n",
       "\tnonterminals: A, S, SEQ(G)\n",
       "\tlegal attributes: frozenset()\n",
       "\tdepth_limit: inf\n",
       "\twidth_limit: inf\n",
       "Rules:\n",
       "\tS -> A A\t: 0, val: default_validator, dec: default_decorator, scoring: default_scoring\n",
       "\tA -> B C\t: 0, val: default_validator, dec: default_decorator, scoring: default_scoring\n",
       "\tA -> B F\t: 0, val: default_validator, dec: default_decorator, scoring: default_scoring\n",
       "\tS -> I SEQ(G)\t: 0, val: default_validator, dec: default_decorator, scoring: default_scoring\n",
       "\tS -> F G H\t: 0, val: default_validator, dec: default_decorator, scoring: default_scoring\n",
       "\tS -> K\t: 0, val: default_validator, dec: default_decorator, scoring: default_scoring"
      ]
     },
     "execution_count": 2,
     "metadata": {},
     "output_type": "execute_result"
    }
   ],
   "source": [
    "from estnltk.finite_grammar import Rule, Grammar\n",
    "\n",
    "grammar = Grammar(start_symbols=['S'], \n",
    "                  rules=None, # the default, deprecated\n",
    "                  depth_limit=float('inf'), # the default\n",
    "                  width_limit=float('inf'), # the default\n",
    "                  legal_attributes=None # the default\n",
    "                 )\n",
    "grammar.add_rule('S', 'A A')\n",
    "grammar.add_rule('A', 'B C')\n",
    "grammar.add_rule('A', 'B F')\n",
    "grammar.add_rule('S', 'I SEQ(G)')\n",
    "grammar.add_rule('S', 'F G H')\n",
    "grammar.add_rule('S', 'K')\n",
    "\n",
    "grammar"
   ]
  },
  {
   "cell_type": "markdown",
   "metadata": {},
   "source": [
    "Test if the height of the parse tree is finite even on an infinite graph. That is, there is no rules with loops like\n",
    "\n",
    "```\n",
    "    A -> B F\n",
    "    F -> A\n",
    "```"
   ]
  },
  {
   "cell_type": "code",
   "execution_count": 3,
   "metadata": {},
   "outputs": [
    {
     "data": {
      "text/plain": [
       "True"
      ]
     },
     "execution_count": 3,
     "metadata": {},
     "output_type": "execute_result"
    }
   ],
   "source": [
    "grammar.has_finite_max_depth()"
   ]
  },
  {
   "cell_type": "markdown",
   "metadata": {},
   "source": [
    "## Phrase list generator\n",
    "Generates all phrases of the finite grammar."
   ]
  },
  {
   "cell_type": "code",
   "execution_count": 4,
   "metadata": {},
   "outputs": [
    {
     "name": "stdout",
     "output_type": "stream",
     "text": [
      "('B', 'C', 'B', 'C')\n",
      "('B', 'C', 'B', 'F')\n",
      "('B', 'F', 'B', 'C')\n",
      "('B', 'F', 'B', 'F')\n",
      "('I', 'G')\n",
      "('I', 'G', 'G')\n",
      "('I', 'G', 'G', 'G')\n",
      "('F', 'G', 'H')\n",
      "('K',)\n"
     ]
    }
   ],
   "source": [
    "from estnltk.finite_grammar import phrase_list_generator\n",
    "\n",
    "for phrase in phrase_list_generator(grammar=grammar,\n",
    "                                    depth_limit=None,  # the default\n",
    "                                    width_limit=4,     # default: None\n",
    "                                    expand_seq=None    # the default\n",
    "                                   ):\n",
    "    print(phrase)"
   ]
  },
  {
   "cell_type": "markdown",
   "metadata": {},
   "source": [
    "If `depth_limit` is `None`, `grammar.depth_limit` is used. <br>\n",
    "If `width_limit` is `None`, `grammar.width_limit` is used. <br>\n",
    "`expand_seq` is the maximum number of descendants that a SEQ rule can have. If `width_limit==3` then \n",
    "\n",
    "    S -> I SEQ(G) \n",
    "translates to \n",
    "\n",
    "     S -> I G\n",
    "     S -> I G G\n",
    "     S -> I G G G\n",
    "Either `width_limit` or  `expand_seq` must be a positive integer."
   ]
  },
  {
   "cell_type": "markdown",
   "metadata": {},
   "source": [
    "## Fingerprinting\n",
    "Create an ngram fingerprint for the grammar output phrases."
   ]
  },
  {
   "cell_type": "code",
   "execution_count": 5,
   "metadata": {},
   "outputs": [
    {
     "data": {
      "text/plain": [
       "[[('I', 'G')],\n",
       " [('K',)],\n",
       " [('B', 'C'), ('C', 'B')],\n",
       " [('B', 'F'), ('F', 'B')],\n",
       " [('F', 'G'), ('G', 'H')]]"
      ]
     },
     "execution_count": 5,
     "metadata": {},
     "output_type": "execute_result"
    }
   ],
   "source": [
    "from estnltk.finite_grammar import ngram_fingerprint \n",
    "\n",
    "ngram_fingerprint(n=2,\n",
    "                  grammar=grammar,\n",
    "                  depth_limit=None,  # the default\n",
    "                  width_limit=4,     # deafult: None\n",
    "                  expand_seq=None    # the default\n",
    "                  )"
   ]
  },
  {
   "cell_type": "markdown",
   "metadata": {},
   "source": [
    "`n` is the maximal length of the ngram grammar symbol tuple. If the grammar output phrase is shorter, then the ngram symbol tuple is also shorter (`'K'` in this example)."
   ]
  },
  {
   "cell_type": "markdown",
   "metadata": {},
   "source": [
    "## Graph from layer"
   ]
  },
  {
   "cell_type": "code",
   "execution_count": 6,
   "metadata": {},
   "outputs": [
    {
     "data": {
      "text/html": [
       "<h4>Layer</h4>\n",
       "\n",
       "\n",
       "<table border=\"1\" class=\"dataframe\">\n",
       "  <thead>\n",
       "    <tr style=\"text-align: right;\">\n",
       "      <th>layer name</th>\n",
       "      <th>attributes</th>\n",
       "      <th>parent</th>\n",
       "      <th>enveloping</th>\n",
       "      <th>ambiguous</th>\n",
       "      <th>span count</th>\n",
       "    </tr>\n",
       "  </thead>\n",
       "  <tbody>\n",
       "    <tr>\n",
       "      <td>test_grammar</td>\n",
       "      <td>grammar_symbol</td>\n",
       "      <td>None</td>\n",
       "      <td>None</td>\n",
       "      <td>False</td>\n",
       "      <td>13</td>\n",
       "    </tr>\n",
       "  </tbody>\n",
       "</table>\n",
       "<table border=\"1\" class=\"dataframe\">\n",
       "  <thead>\n",
       "    <tr style=\"text-align: right;\">\n",
       "      <th>text</th>\n",
       "      <th>grammar_symbol</th>\n",
       "    </tr>\n",
       "  </thead>\n",
       "  <tbody>\n",
       "    <tr>\n",
       "      <td>a</td>\n",
       "      <td>A</td>\n",
       "    </tr>\n",
       "    <tr>\n",
       "      <td>b</td>\n",
       "      <td>B</td>\n",
       "    </tr>\n",
       "    <tr>\n",
       "      <td>c</td>\n",
       "      <td>C</td>\n",
       "    </tr>\n",
       "    <tr>\n",
       "      <td>d</td>\n",
       "      <td>D</td>\n",
       "    </tr>\n",
       "    <tr>\n",
       "      <td>e</td>\n",
       "      <td>E</td>\n",
       "    </tr>\n",
       "    <tr>\n",
       "      <td>f</td>\n",
       "      <td>F</td>\n",
       "    </tr>\n",
       "    <tr>\n",
       "      <td>g</td>\n",
       "      <td>G</td>\n",
       "    </tr>\n",
       "    <tr>\n",
       "      <td>h</td>\n",
       "      <td>H</td>\n",
       "    </tr>\n",
       "    <tr>\n",
       "      <td>i</td>\n",
       "      <td>I</td>\n",
       "    </tr>\n",
       "    <tr>\n",
       "      <td>j</td>\n",
       "      <td>J</td>\n",
       "    </tr>\n",
       "    <tr>\n",
       "      <td>k</td>\n",
       "      <td>K</td>\n",
       "    </tr>\n",
       "    <tr>\n",
       "      <td>l</td>\n",
       "      <td>L</td>\n",
       "    </tr>\n",
       "    <tr>\n",
       "      <td>m</td>\n",
       "      <td>M</td>\n",
       "    </tr>\n",
       "  </tbody>\n",
       "</table>"
      ],
      "text/plain": [
       "Layer(name='test_grammar', attributes=('grammar_symbol',), spans=SL[Span('a', [{'grammar_symbol': 'A'}]),\n",
       "Span('b', [{'grammar_symbol': 'B'}]),\n",
       "Span('c', [{'grammar_symbol': 'C'}]),\n",
       "Span('d', [{'grammar_symbol': 'D'}]),\n",
       "Span('e', [{'grammar_symbol': 'E'}]),\n",
       "Span('f', [{'grammar_symbol': 'F'}]),\n",
       "Span('g', [{'grammar_symbol': 'G'}]),\n",
       "Span('h', [{'grammar_symbol': 'H'}]),\n",
       "Span('i', [{'grammar_symbol': 'I'}]),\n",
       "Span('j', [{'grammar_symbol': 'J'}]),\n",
       "Span('k', [{'grammar_symbol': 'K'}]),\n",
       "Span('l', [{'grammar_symbol': 'L'}]),\n",
       "Span('m', [{'grammar_symbol': 'M'}])])"
      ]
     },
     "execution_count": 6,
     "metadata": {},
     "output_type": "execute_result"
    }
   ],
   "source": [
    "from estnltk import Text\n",
    "from estnltk import Layer\n",
    "from estnltk import Span\n",
    "\n",
    "text = Text('a b c d e f g h i j k l m')\n",
    "\n",
    "layer = Layer(name='test_grammar',\n",
    "              attributes=['grammar_symbol']\n",
    "              )\n",
    "layer.add_annotation(( 0,  1), grammar_symbol='A')\n",
    "layer.add_annotation(( 2,  3), grammar_symbol='B')\n",
    "layer.add_annotation(( 4,  5), grammar_symbol='C')\n",
    "layer.add_annotation(( 6,  7), grammar_symbol='D')\n",
    "layer.add_annotation(( 8,  9), grammar_symbol='E')\n",
    "layer.add_annotation((10, 11), grammar_symbol='F')\n",
    "layer.add_annotation((12, 13), grammar_symbol='G')\n",
    "layer.add_annotation((14, 15), grammar_symbol='H')\n",
    "layer.add_annotation((16, 17), grammar_symbol='I')\n",
    "layer.add_annotation((18, 19), grammar_symbol='J')\n",
    "layer.add_annotation((20, 21), grammar_symbol='K')\n",
    "layer.add_annotation((22, 23), grammar_symbol='L')\n",
    "layer.add_annotation((24, 25), grammar_symbol='M')\n",
    "\n",
    "text.add_layer(layer)\n",
    "text.test_grammar"
   ]
  },
  {
   "cell_type": "markdown",
   "metadata": {},
   "source": [
    "Create a graph that represents the layer."
   ]
  },
  {
   "cell_type": "code",
   "execution_count": 7,
   "metadata": {},
   "outputs": [
    {
     "data": {
      "image/png": "[encoded data removed]",
      "text/plain": [
       "<Figure size 432x432 with 1 Axes>"
      ]
     },
     "metadata": {},
     "output_type": "display_data"
    }
   ],
   "source": [
    "# NBVAL_IGNORE_OUTPUT\n",
    "from estnltk.finite_grammar import layer_to_graph, plot_graph\n",
    "from estnltk.finite_grammar import parse_graph\n",
    "\n",
    "graph = layer_to_graph(layer=text['test_grammar'], raw_text=text.text, name_attribute='grammar_symbol')\n",
    "plot_graph(graph,6)"
   ]
  },
  {
   "cell_type": "markdown",
   "metadata": {},
   "source": [
    "## Parse\n",
    "Use grammar to parse the graph above. Don't solve conflicts between the nodes."
   ]
  },
  {
   "cell_type": "code",
   "execution_count": 8,
   "metadata": {},
   "outputs": [],
   "source": [
    "class CountingDecorator:\n",
    "    __name__ = 'counting_decorator'\n",
    "\n",
    "    _count = 0\n",
    "\n",
    "    def __call__(self, support):\n",
    "        self._count += 1\n",
    "        return {'count': self._count}\n",
    "\n",
    "counting_decorator = CountingDecorator()"
   ]
  },
  {
   "cell_type": "code",
   "execution_count": 9,
   "metadata": {
    "scrolled": false
   },
   "outputs": [
    {
     "data": {
      "image/png": "[encoded data removed]",
      "text/plain": [
       "<Figure size 432x432 with 1 Axes>"
      ]
     },
     "metadata": {},
     "output_type": "display_data"
    }
   ],
   "source": [
    "# NBVAL_IGNORE_OUTPUT\n",
    "grammar = Grammar(start_symbols=['P', 'Q', 'S', 'U', 'Z'], legal_attributes=['count', 'bla', 'blu'])\n",
    "\n",
    "grammar.add_rule('N', 'A B',   priority=2, group='g1', decorator=CountingDecorator())\n",
    "grammar.add_rule('O', 'N',     priority=0, group='g1', decorator=CountingDecorator())\n",
    "grammar.add_rule('P', 'B C',   priority=1, group='g1', decorator=CountingDecorator())\n",
    "grammar.add_rule('Q', 'P',     priority=5, group='g1', decorator=CountingDecorator())\n",
    "grammar.add_rule('R', 'C D E', priority=1, group='g1', decorator=CountingDecorator())\n",
    "grammar.add_rule('S', 'R',     priority=3, group='g2', decorator=CountingDecorator())\n",
    "grammar.add_rule('T', 'E',     priority=2, group='g2', decorator=CountingDecorator())\n",
    "grammar.add_rule('U', 'F G',   priority=1, group='g1', decorator=CountingDecorator())\n",
    "grammar.add_rule('V', 'G H',   priority=2, group='g1', decorator=CountingDecorator())\n",
    "grammar.add_rule('W', 'H I',   priority=3, group='g1', decorator=CountingDecorator())\n",
    "grammar.add_rule('X', 'J K',   priority=3, group='g1', decorator=CountingDecorator())\n",
    "grammar.add_rule('Y', 'K L',   priority=2, group='g1', decorator=CountingDecorator())\n",
    "grammar.add_rule('Z', 'L M',   priority=1, group='g1', decorator=CountingDecorator())\n",
    "\n",
    "\n",
    "graph = layer_to_graph(text['test_grammar'], text.text)\n",
    "parse_graph(graph,\n",
    "            grammar,\n",
    "            depth_limit=None, # the default\n",
    "            width_limit=None, # the default\n",
    "            resolve_support_conflicts=False,  # default: True\n",
    "            resolve_start_end_conflicts=False,  # default: True\n",
    "            resolve_terminals_conflicts=False,  # default: True\n",
    "            ignore_validators=False, # the default\n",
    "            debug=False # the default\n",
    "           )\n",
    "\n",
    "plot_graph(graph.parse_trees, 6)"
   ]
  },
  {
   "cell_type": "markdown",
   "metadata": {},
   "source": [
    "## Parse repetitions\n",
    "The `REP(.)` and `SEQ(.)` symbols are equivalent and help to parse repetitions in the graph. Both parse one or more repetitions of the symbol in the parentheses."
   ]
  },
  {
   "cell_type": "code",
   "execution_count": 10,
   "metadata": {},
   "outputs": [],
   "source": [
    "text_2 = Text('a b c c c d')\n",
    "\n",
    "layer_2 = Layer(name='test_grammar',\n",
    "                attributes=['grammar_symbol']\n",
    "               )\n",
    "layer_2.add_annotation(( 0,  1), grammar_symbol='A')\n",
    "layer_2.add_annotation(( 2,  3), grammar_symbol='B')\n",
    "layer_2.add_annotation(( 4,  5), grammar_symbol='C')\n",
    "layer_2.add_annotation(( 6,  7), grammar_symbol='C')\n",
    "layer_2.add_annotation(( 8,  9), grammar_symbol='C')\n",
    "layer_2.add_annotation((10, 11), grammar_symbol='D')\n",
    "\n",
    "text_2.add_layer(layer_2)"
   ]
  },
  {
   "cell_type": "code",
   "execution_count": 11,
   "metadata": {
    "scrolled": false
   },
   "outputs": [
    {
     "data": {
      "image/png": "[encoded data removed]",
      "text/plain": [
       "<Figure size 432x432 with 1 Axes>"
      ]
     },
     "metadata": {},
     "output_type": "display_data"
    }
   ],
   "source": [
    "# NBVAL_IGNORE_OUTPUT\n",
    "grammar_2 = Grammar(start_symbols=['E'])\n",
    "\n",
    "grammar_2.add(Rule('E', 'SEQ(B) SEQ(C) D', priority=3, group='g1'))\n",
    "graph_2 = layer_to_graph(text_2['test_grammar'], text.text)\n",
    "parse_graph(graph_2,\n",
    "            grammar_2,\n",
    "            resolve_support_conflicts=False,\n",
    "            resolve_start_end_conflicts=False,\n",
    "            resolve_terminals_conflicts=False,\n",
    "            width_limit=10,\n",
    "            debug=False)\n",
    "\n",
    "plot_graph(graph_2.parse_trees, 6)"
   ]
  },
  {
   "cell_type": "markdown",
   "metadata": {},
   "source": [
    "## LayerGraph"
   ]
  },
  {
   "cell_type": "code",
   "execution_count": 12,
   "metadata": {
    "scrolled": false
   },
   "outputs": [
    {
     "data": {
      "text/html": [
       "<h4>LayerGraph</h4>\n",
       "<table border=\"1\" class=\"dataframe\">\n",
       "  <thead>\n",
       "    <tr style=\"text-align: right;\">\n",
       "      <th>node type</th>\n",
       "      <th>name</th>\n",
       "      <th>start</th>\n",
       "      <th>end</th>\n",
       "    </tr>\n",
       "  </thead>\n",
       "  <tbody>\n",
       "    <tr>\n",
       "      <td>TerminalNode</td>\n",
       "      <td>A</td>\n",
       "      <td>0</td>\n",
       "      <td>1</td>\n",
       "    </tr>\n",
       "    <tr>\n",
       "      <td>TerminalNode</td>\n",
       "      <td>B</td>\n",
       "      <td>2</td>\n",
       "      <td>3</td>\n",
       "    </tr>\n",
       "    <tr>\n",
       "      <td>PlusNode</td>\n",
       "      <td>SEQ(B)</td>\n",
       "      <td>2</td>\n",
       "      <td>3</td>\n",
       "    </tr>\n",
       "    <tr>\n",
       "      <td>NonTerminalNode</td>\n",
       "      <td>E</td>\n",
       "      <td>2</td>\n",
       "      <td>11</td>\n",
       "    </tr>\n",
       "    <tr>\n",
       "      <td>TerminalNode</td>\n",
       "      <td>C</td>\n",
       "      <td>4</td>\n",
       "      <td>5</td>\n",
       "    </tr>\n",
       "    <tr>\n",
       "      <td>PlusNode</td>\n",
       "      <td>SEQ(C)</td>\n",
       "      <td>4</td>\n",
       "      <td>5</td>\n",
       "    </tr>\n",
       "    <tr>\n",
       "      <td>PlusNode</td>\n",
       "      <td>SEQ(C)</td>\n",
       "      <td>4</td>\n",
       "      <td>7</td>\n",
       "    </tr>\n",
       "    <tr>\n",
       "      <td>PlusNode</td>\n",
       "      <td>SEQ(C)</td>\n",
       "      <td>4</td>\n",
       "      <td>9</td>\n",
       "    </tr>\n",
       "    <tr>\n",
       "      <td>TerminalNode</td>\n",
       "      <td>C</td>\n",
       "      <td>6</td>\n",
       "      <td>7</td>\n",
       "    </tr>\n",
       "    <tr>\n",
       "      <td>PlusNode</td>\n",
       "      <td>SEQ(C)</td>\n",
       "      <td>6</td>\n",
       "      <td>7</td>\n",
       "    </tr>\n",
       "    <tr>\n",
       "      <td>PlusNode</td>\n",
       "      <td>SEQ(C)</td>\n",
       "      <td>6</td>\n",
       "      <td>9</td>\n",
       "    </tr>\n",
       "    <tr>\n",
       "      <td>TerminalNode</td>\n",
       "      <td>C</td>\n",
       "      <td>8</td>\n",
       "      <td>9</td>\n",
       "    </tr>\n",
       "    <tr>\n",
       "      <td>PlusNode</td>\n",
       "      <td>SEQ(C)</td>\n",
       "      <td>8</td>\n",
       "      <td>9</td>\n",
       "    </tr>\n",
       "    <tr>\n",
       "      <td>TerminalNode</td>\n",
       "      <td>D</td>\n",
       "      <td>10</td>\n",
       "      <td>11</td>\n",
       "    </tr>\n",
       "  </tbody>\n",
       "</table>"
      ],
      "text/plain": [
       "<estnltk.finite_grammar.layer_graph.LayerGraph at 0x7f7a5847f2e8>"
      ]
     },
     "execution_count": 12,
     "metadata": {},
     "output_type": "execute_result"
    }
   ],
   "source": [
    "graph_2"
   ]
  },
  {
   "cell_type": "code",
   "execution_count": 13,
   "metadata": {
    "scrolled": false
   },
   "outputs": [
    {
     "data": {
      "text/plain": [
       "[TerminalNode\n",
       "   name                 A\n",
       "   text                 a\n",
       "   start                0\n",
       "   end                  1\n",
       "   attributes           {'grammar_symbol': 'A'}\n",
       "   group                -7407235654678356827\n",
       "   priority             0\n",
       "   score                0\n",
       "   span                 Span('a', [{'grammar_symbol': 'A'}])\n",
       "   support              TerminalNode('A', 0, 1, -5559834070196376404)\n",
       "   terminals            TerminalNode('A', 0, 1, -5559834070196376404),\n",
       " TerminalNode\n",
       "   name                 B\n",
       "   text                 b\n",
       "   start                2\n",
       "   end                  3\n",
       "   attributes           {'grammar_symbol': 'B'}\n",
       "   group                -5981615823079797237\n",
       "   priority             0\n",
       "   score                0\n",
       "   span                 Span('b', [{'grammar_symbol': 'B'}])\n",
       "   support              TerminalNode('B', 2, 3, 8487131997563609843)\n",
       "   terminals            TerminalNode('B', 2, 3, 8487131997563609843),\n",
       " PlusNode\n",
       "   name                 SEQ(B)\n",
       "   start                2\n",
       "   end                  3\n",
       "   attributes           {}\n",
       "   group                -6052890827901719709\n",
       "   priority             0\n",
       "   score                0\n",
       "   support              TerminalNode('B', 2, 3, 8487131997563609843)\n",
       "   terminals            TerminalNode('B', 2, 3, 8487131997563609843),\n",
       " NonTerminalNode\n",
       "   name                 E\n",
       "   start                2\n",
       "   end                  11\n",
       "   attributes           {}\n",
       "   group                g1\n",
       "   priority             3\n",
       "   score                0\n",
       "   support              PlusNode('SEQ(B)', 2, 3, -518889219415208350), PlusNode('SEQ(C)', 4, 9, 3024883261683425621), TerminalNode('D', 10, 11, -3419467645404535884)\n",
       "   terminals            TerminalNode('B', 2, 3, 8487131997563609843), TerminalNode('C', 4, 5, 4244823895006332590), TerminalNode('C', 6, 7, -7398830083665483726), TerminalNode('C', 8, 9, -5341271266595239338), TerminalNode('D', 10, 11, -3419467645404535884),\n",
       " TerminalNode\n",
       "   name                 C\n",
       "   text                 c\n",
       "   start                4\n",
       "   end                  5\n",
       "   attributes           {'grammar_symbol': 'C'}\n",
       "   group                -1894405460603046259\n",
       "   priority             0\n",
       "   score                0\n",
       "   span                 Span('c', [{'grammar_symbol': 'C'}])\n",
       "   support              TerminalNode('C', 4, 5, 4244823895006332590)\n",
       "   terminals            TerminalNode('C', 4, 5, 4244823895006332590),\n",
       " PlusNode\n",
       "   name                 SEQ(C)\n",
       "   start                4\n",
       "   end                  5\n",
       "   attributes           {}\n",
       "   group                -3489179326036056312\n",
       "   priority             0\n",
       "   score                0\n",
       "   support              TerminalNode('C', 4, 5, 4244823895006332590)\n",
       "   terminals            TerminalNode('C', 4, 5, 4244823895006332590),\n",
       " PlusNode\n",
       "   name                 SEQ(C)\n",
       "   start                4\n",
       "   end                  7\n",
       "   attributes           {}\n",
       "   group                3615302230008707425\n",
       "   priority             0\n",
       "   score                0\n",
       "   support              TerminalNode('C', 4, 5, 4244823895006332590), TerminalNode('C', 6, 7, -7398830083665483726)\n",
       "   terminals            TerminalNode('C', 4, 5, 4244823895006332590), TerminalNode('C', 6, 7, -7398830083665483726),\n",
       " PlusNode\n",
       "   name                 SEQ(C)\n",
       "   start                4\n",
       "   end                  9\n",
       "   attributes           {}\n",
       "   group                3615302230008707425\n",
       "   priority             0\n",
       "   score                0\n",
       "   support              TerminalNode('C', 4, 5, 4244823895006332590), TerminalNode('C', 6, 7, -7398830083665483726), TerminalNode('C', 8, 9, -5341271266595239338)\n",
       "   terminals            TerminalNode('C', 4, 5, 4244823895006332590), TerminalNode('C', 6, 7, -7398830083665483726), TerminalNode('C', 8, 9, -5341271266595239338),\n",
       " TerminalNode\n",
       "   name                 C\n",
       "   text                 c\n",
       "   start                6\n",
       "   end                  7\n",
       "   attributes           {'grammar_symbol': 'C'}\n",
       "   group                -2407262237907190303\n",
       "   priority             0\n",
       "   score                0\n",
       "   span                 Span('c', [{'grammar_symbol': 'C'}])\n",
       "   support              TerminalNode('C', 6, 7, -7398830083665483726)\n",
       "   terminals            TerminalNode('C', 6, 7, -7398830083665483726),\n",
       " PlusNode\n",
       "   name                 SEQ(C)\n",
       "   start                6\n",
       "   end                  7\n",
       "   attributes           {}\n",
       "   group                -3489179326036056312\n",
       "   priority             0\n",
       "   score                0\n",
       "   support              TerminalNode('C', 6, 7, -7398830083665483726)\n",
       "   terminals            TerminalNode('C', 6, 7, -7398830083665483726),\n",
       " PlusNode\n",
       "   name                 SEQ(C)\n",
       "   start                6\n",
       "   end                  9\n",
       "   attributes           {}\n",
       "   group                3615302230008707425\n",
       "   priority             0\n",
       "   score                0\n",
       "   support              TerminalNode('C', 6, 7, -7398830083665483726), TerminalNode('C', 8, 9, -5341271266595239338)\n",
       "   terminals            TerminalNode('C', 6, 7, -7398830083665483726), TerminalNode('C', 8, 9, -5341271266595239338),\n",
       " TerminalNode\n",
       "   name                 C\n",
       "   text                 c\n",
       "   start                8\n",
       "   end                  9\n",
       "   attributes           {'grammar_symbol': 'C'}\n",
       "   group                2595653179211009781\n",
       "   priority             0\n",
       "   score                0\n",
       "   span                 Span('c', [{'grammar_symbol': 'C'}])\n",
       "   support              TerminalNode('C', 8, 9, -5341271266595239338)\n",
       "   terminals            TerminalNode('C', 8, 9, -5341271266595239338),\n",
       " PlusNode\n",
       "   name                 SEQ(C)\n",
       "   start                8\n",
       "   end                  9\n",
       "   attributes           {}\n",
       "   group                -3489179326036056312\n",
       "   priority             0\n",
       "   score                0\n",
       "   support              TerminalNode('C', 8, 9, -5341271266595239338)\n",
       "   terminals            TerminalNode('C', 8, 9, -5341271266595239338),\n",
       " TerminalNode\n",
       "   name                 D\n",
       "   text                 d\n",
       "   start                10\n",
       "   end                  11\n",
       "   attributes           {'grammar_symbol': 'D'}\n",
       "   group                5457905209392719225\n",
       "   priority             0\n",
       "   score                0\n",
       "   span                 Span('d', [{'grammar_symbol': 'D'}])\n",
       "   support              TerminalNode('D', 10, 11, -3419467645404535884)\n",
       "   terminals            TerminalNode('D', 10, 11, -3419467645404535884)]"
      ]
     },
     "execution_count": 13,
     "metadata": {},
     "output_type": "execute_result"
    }
   ],
   "source": [
    "nodes = sorted(graph_2)\n",
    "nodes"
   ]
  },
  {
   "cell_type": "code",
   "execution_count": 14,
   "metadata": {
    "scrolled": true
   },
   "outputs": [
    {
     "data": {
      "text/html": [
       "<h4>PlusNode</h4>\n",
       "<table border=\"1\" class=\"dataframe\">\n",
       "  <thead>\n",
       "    <tr style=\"text-align: right;\">\n",
       "      <th>name</th>\n",
       "      <th>start</th>\n",
       "      <th>end</th>\n",
       "    </tr>\n",
       "  </thead>\n",
       "  <tbody>\n",
       "    <tr>\n",
       "      <td>SEQ(C)</td>\n",
       "      <td>4</td>\n",
       "      <td>9</td>\n",
       "    </tr>\n",
       "  </tbody>\n",
       "</table><h5>Support</h5>\n",
       "<table border=\"1\" class=\"dataframe\">\n",
       "  <thead>\n",
       "    <tr style=\"text-align: right;\">\n",
       "      <th>node type</th>\n",
       "      <th>name</th>\n",
       "      <th>start</th>\n",
       "      <th>end</th>\n",
       "    </tr>\n",
       "  </thead>\n",
       "  <tbody>\n",
       "    <tr>\n",
       "      <td>TerminalNode</td>\n",
       "      <td>C</td>\n",
       "      <td>4</td>\n",
       "      <td>5</td>\n",
       "    </tr>\n",
       "    <tr>\n",
       "      <td>TerminalNode</td>\n",
       "      <td>C</td>\n",
       "      <td>6</td>\n",
       "      <td>7</td>\n",
       "    </tr>\n",
       "    <tr>\n",
       "      <td>TerminalNode</td>\n",
       "      <td>C</td>\n",
       "      <td>8</td>\n",
       "      <td>9</td>\n",
       "    </tr>\n",
       "  </tbody>\n",
       "</table>"
      ],
      "text/plain": [
       "PlusNode\n",
       "  name                 SEQ(C)\n",
       "  start                4\n",
       "  end                  9\n",
       "  attributes           {}\n",
       "  group                3615302230008707425\n",
       "  priority             0\n",
       "  score                0\n",
       "  support              TerminalNode('C', 4, 5, 4244823895006332590), TerminalNode('C', 6, 7, -7398830083665483726), TerminalNode('C', 8, 9, -5341271266595239338)\n",
       "  terminals            TerminalNode('C', 4, 5, 4244823895006332590), TerminalNode('C', 6, 7, -7398830083665483726), TerminalNode('C', 8, 9, -5341271266595239338)"
      ]
     },
     "execution_count": 14,
     "metadata": {},
     "output_type": "execute_result"
    }
   ],
   "source": [
    "nodes[7]"
   ]
  },
  {
   "cell_type": "markdown",
   "metadata": {},
   "source": [
    "## Resolve conflicts\n",
    "### Support conflicts\n",
    "Two nodes are in 'support' conflict if they have intersecting supports and the same group but different priorities. The node with the higher priority (smaller value) is kept.\n",
    "\n",
    "Use the same grammar to parse the same graph as above, but also resolve the conflicts. \n",
    "\n",
    "Note that\n",
    "1. P and N are in conflict. Priority of N is lower and so N and O are removed despite the fact that O has the highest priority among N, O, P and Q.\n",
    "2. P and R are in conflict, but priorities of P and R are equal, so none of them is removed.\n",
    "3. R and T are in different groups and therefore not in conflict.\n",
    "4. S and T are not in conflict.\n",
    "5. The conflicts between U, V and W can be solved in two ways. The remaining nodes can be U and W or U alone. The outcome is not defined. The same holds for X, Y and Z."
   ]
  },
  {
   "cell_type": "code",
   "execution_count": 15,
   "metadata": {
    "scrolled": false
   },
   "outputs": [
    {
     "data": {
      "image/png": "[encoded data removed]",
      "text/plain": [
       "<Figure size 360x360 with 1 Axes>"
      ]
     },
     "metadata": {},
     "output_type": "display_data"
    }
   ],
   "source": [
    "# NBVAL_IGNORE_OUTPUT\n",
    "graph = layer_to_graph(text['test_grammar'], text.text)\n",
    "parse_graph(graph, grammar, debug=False)\n",
    "\n",
    "parse_graph(graph,\n",
    "            grammar,\n",
    "            resolve_support_conflicts=True,\n",
    "            resolve_start_end_conflicts=False,\n",
    "            resolve_terminals_conflicts=False\n",
    "            )\n",
    "\n",
    "\n",
    "plot_graph(graph.parse_trees, 5)"
   ]
  },
  {
   "cell_type": "markdown",
   "metadata": {},
   "source": [
    "### Terminals conflict and start-end conflict\n",
    "\n",
    "Again we start with an example graph."
   ]
  },
  {
   "cell_type": "code",
   "execution_count": 16,
   "metadata": {},
   "outputs": [
    {
     "data": {
      "image/png": "[encoded data removed]",
      "text/plain": [
       "<Figure size 432x432 with 1 Axes>"
      ]
     },
     "metadata": {},
     "output_type": "display_data"
    }
   ],
   "source": [
    "# NBVAL_IGNORE_OUTPUT\n",
    "text = Text('a b c d e')\n",
    "\n",
    "layer = Layer(name='test_grammar',\n",
    "              attributes=['grammar_symbol'],\n",
    "              ambiguous=True\n",
    "              )\n",
    "layer.add_annotation(( 0,  1), grammar_symbol='A')\n",
    "layer.add_annotation(( 2,  3), grammar_symbol='B')\n",
    "layer.add_annotation(( 2,  3), grammar_symbol='C')\n",
    "layer.add_annotation(( 4,  5), grammar_symbol='D')\n",
    "layer.add_annotation(( 8,  9), grammar_symbol='E')\n",
    "\n",
    "text.add_layer(layer)\n",
    "graph = layer_to_graph(text['test_grammar'], text.text)\n",
    "plot_graph(graph, 6)"
   ]
  },
  {
   "cell_type": "markdown",
   "metadata": {},
   "source": [
    "Here the nodes B and C have the same start and end values, but are based on different spans."
   ]
  },
  {
   "cell_type": "code",
   "execution_count": 17,
   "metadata": {},
   "outputs": [],
   "source": [
    "grammar = Grammar()\n",
    "grammar.add_rule('N', 'A B', scoring=lambda x: 2)\n",
    "grammar.add_rule('N', 'A C', scoring=lambda x: 3)\n",
    "grammar.add_rule('O', 'D E', scoring=lambda x: 4)\n",
    "grammar.add_rule('P', 'D E', scoring=lambda x: 5)\n",
    "grammar.add_rule('P', 'O',   scoring=lambda x: 6)"
   ]
  },
  {
   "cell_type": "markdown",
   "metadata": {},
   "source": [
    "Turn off all conflict resolving."
   ]
  },
  {
   "cell_type": "code",
   "execution_count": 18,
   "metadata": {
    "scrolled": false
   },
   "outputs": [
    {
     "data": {
      "image/png": "[encoded data removed]",
      "text/plain": [
       "<Figure size 432x432 with 1 Axes>"
      ]
     },
     "metadata": {},
     "output_type": "display_data"
    }
   ],
   "source": [
    "# NBVAL_IGNORE_OUTPUT\n",
    "graph = layer_to_graph(text['test_grammar'], text.text)\n",
    "parse_graph(graph,\n",
    "            grammar,\n",
    "            depth_limit=None,\n",
    "            width_limit=None,\n",
    "            resolve_support_conflicts=False,\n",
    "            resolve_start_end_conflicts=False,\n",
    "            resolve_terminals_conflicts=False,\n",
    "            ignore_validators=False,\n",
    "            debug=False)\n",
    "plot_graph(graph.parse_trees, 6)"
   ]
  },
  {
   "cell_type": "markdown",
   "metadata": {},
   "source": [
    "Two nodes are in 'start-end' conflict if they have the same start, end and name but different score.\n",
    "The node with the higher score value is kept.\n",
    "\n",
    "Two nodes are in 'terminals' conflict if they have the same terminals and name but different score.\n",
    "The node with the higher score value is kept.\n",
    "\n",
    "If `resolve_terminals_conflicts` is `True`, then the value of `resolve_start_end_conflicts` has no effect.\n",
    "\n",
    "For equal scores/priorities both nodes are kept.\n",
    "\n",
    "Above the nodes `N` and `N` are in start-end conflict, but not in terminals conflict. The nodes `P` and `P` are in start-end conflict as well as in terminals conflict. Next we turn on the start-end conflict resolving. By default, all nodes have different group and the same priority, so there is no support conflicts."
   ]
  },
  {
   "cell_type": "code",
   "execution_count": 19,
   "metadata": {},
   "outputs": [
    {
     "data": {
      "image/png": "[encoded data removed]",
      "text/plain": [
       "<Figure size 432x432 with 1 Axes>"
      ]
     },
     "metadata": {},
     "output_type": "display_data"
    }
   ],
   "source": [
    "# NBVAL_IGNORE_OUTPUT\n",
    "graph = layer_to_graph(text['test_grammar'], text.text)\n",
    "parse_graph(graph,\n",
    "            grammar,\n",
    "            resolve_support_conflicts=False,\n",
    "            resolve_start_end_conflicts=True,\n",
    "            resolve_terminals_conflicts=True\n",
    "           )\n",
    "plot_graph(graph.parse_trees, 6)"
   ]
  },
  {
   "cell_type": "markdown",
   "metadata": {},
   "source": [
    "## Grammar parsing tagger\n",
    "Grammar parsing tagger converts an input layer to a graph, parses the graph using a grammar and finally converts the graph to an output layer."
   ]
  },
  {
   "cell_type": "code",
   "execution_count": 20,
   "metadata": {},
   "outputs": [
    {
     "data": {
      "text/html": [
       "<h4>Layer</h4>\n",
       "\n",
       "\n",
       "<table border=\"1\" class=\"dataframe\">\n",
       "  <thead>\n",
       "    <tr style=\"text-align: right;\">\n",
       "      <th>layer name</th>\n",
       "      <th>attributes</th>\n",
       "      <th>parent</th>\n",
       "      <th>enveloping</th>\n",
       "      <th>ambiguous</th>\n",
       "      <th>span count</th>\n",
       "    </tr>\n",
       "  </thead>\n",
       "  <tbody>\n",
       "    <tr>\n",
       "      <td>test_layer</td>\n",
       "      <td>grammar_symbol</td>\n",
       "      <td>None</td>\n",
       "      <td>None</td>\n",
       "      <td>False</td>\n",
       "      <td>3</td>\n",
       "    </tr>\n",
       "  </tbody>\n",
       "</table>\n",
       "<table border=\"1\" class=\"dataframe\">\n",
       "  <thead>\n",
       "    <tr style=\"text-align: right;\">\n",
       "      <th>text</th>\n",
       "      <th>grammar_symbol</th>\n",
       "    </tr>\n",
       "  </thead>\n",
       "  <tbody>\n",
       "    <tr>\n",
       "      <td>a</td>\n",
       "      <td>A</td>\n",
       "    </tr>\n",
       "    <tr>\n",
       "      <td>b</td>\n",
       "      <td>B</td>\n",
       "    </tr>\n",
       "    <tr>\n",
       "      <td>c</td>\n",
       "      <td>C</td>\n",
       "    </tr>\n",
       "  </tbody>\n",
       "</table>"
      ],
      "text/plain": [
       "Layer(name='test_layer', attributes=('grammar_symbol',), spans=SL[Span('a', [{'grammar_symbol': 'A'}]),\n",
       "Span('b', [{'grammar_symbol': 'B'}]),\n",
       "Span('c', [{'grammar_symbol': 'C'}])])"
      ]
     },
     "execution_count": 20,
     "metadata": {},
     "output_type": "execute_result"
    }
   ],
   "source": [
    "text = Text('a b c')\n",
    "\n",
    "layer = Layer(name='test_layer',\n",
    "              attributes=['grammar_symbol']\n",
    "              )\n",
    "layer.add_annotation((0,  1), grammar_symbol='A')\n",
    "layer.add_annotation((2,  3), grammar_symbol='B')\n",
    "layer.add_annotation((4,  5), grammar_symbol='C')\n",
    "\n",
    "text.add_layer(layer)\n",
    "text.test_layer"
   ]
  },
  {
   "cell_type": "code",
   "execution_count": 21,
   "metadata": {},
   "outputs": [
    {
     "data": {
      "text/plain": [
       "\n",
       "Grammar:\n",
       "\tstart: S, E\n",
       "\tterminals: A, B, C\n",
       "\tnonterminals: D, E, S\n",
       "\tlegal attributes: frozenset({'span_count'})\n",
       "\tdepth_limit: inf\n",
       "\twidth_limit: inf\n",
       "Rules:\n",
       "\tS -> A\t: 0, val: default_validator, dec: decorator, scoring: default_scoring\n",
       "\tS -> B\t: 0, val: default_validator, dec: decorator, scoring: default_scoring\n",
       "\tD -> B C\t: 0, val: default_validator, dec: decorator, scoring: default_scoring\n",
       "\tE -> D\t: 0, val: default_validator, dec: decorator, scoring: default_scoring"
      ]
     },
     "execution_count": 21,
     "metadata": {},
     "output_type": "execute_result"
    }
   ],
   "source": [
    "def decorator(support):\n",
    "    return {'span_count': sum(len(s.terminals) for s in support)}\n",
    "\n",
    "grammar = Grammar(start_symbols=['S', 'E'], legal_attributes={'span_count'})\n",
    "\n",
    "grammar.add_rule('S', 'A', decorator=decorator)\n",
    "grammar.add_rule('S', 'B', decorator=decorator)\n",
    "grammar.add_rule('D', 'B C', decorator=decorator)\n",
    "grammar.add_rule('E', 'D', decorator=decorator)\n",
    "\n",
    "grammar"
   ]
  },
  {
   "cell_type": "code",
   "execution_count": 22,
   "metadata": {
    "scrolled": false
   },
   "outputs": [
    {
     "data": {
      "text/html": [
       "<h4>Tagger</h4>\n",
       "Parses input layer using grammar. Output layer envelopes input.\n",
       "<table border=\"1\" class=\"dataframe\">\n",
       "  <thead>\n",
       "    <tr style=\"text-align: right;\">\n",
       "      <th>name</th>\n",
       "      <th>output layer</th>\n",
       "      <th>output attributes</th>\n",
       "      <th>input layers</th>\n",
       "    </tr>\n",
       "  </thead>\n",
       "  <tbody>\n",
       "    <tr>\n",
       "      <td>GrammarParsingTagger</td>\n",
       "      <td>parse</td>\n",
       "      <td>('span_count', 'name', '_priority_', '_group_')</td>\n",
       "      <td>('test_layer',)</td>\n",
       "    </tr>\n",
       "  </tbody>\n",
       "</table>\n",
       "<h4>Configuration</h4>\n",
       "<table border=\"1\" class=\"dataframe\">\n",
       "  <tbody>\n",
       "    <tr>\n",
       "      <th>grammar</th>\n",
       "      <td>\\nGrammar:\\n\\tstart: S, E\\n\\tterminals: A, B, C\\n\\tnonterminals: D, E, S\\n\\tlegal attribu ..., type: &lt;class 'estnltk.finite_grammar.grammar.Grammar'&gt;</td>\n",
       "    </tr>\n",
       "    <tr>\n",
       "      <th>name_attribute</th>\n",
       "      <td>grammar_symbol</td>\n",
       "    </tr>\n",
       "    <tr>\n",
       "      <th>output_nodes</th>\n",
       "      <td>{'S', 'E'}</td>\n",
       "    </tr>\n",
       "    <tr>\n",
       "      <th>resolve_support_conflicts</th>\n",
       "      <td>True</td>\n",
       "    </tr>\n",
       "    <tr>\n",
       "      <th>resolve_start_end_conflicts</th>\n",
       "      <td>True</td>\n",
       "    </tr>\n",
       "    <tr>\n",
       "      <th>resolve_terminals_conflicts</th>\n",
       "      <td>True</td>\n",
       "    </tr>\n",
       "    <tr>\n",
       "      <th>ambiguous</th>\n",
       "      <td>False</td>\n",
       "    </tr>\n",
       "    <tr>\n",
       "      <th>gap_validator</th>\n",
       "      <td>None</td>\n",
       "    </tr>\n",
       "    <tr>\n",
       "      <th>debug</th>\n",
       "      <td>False</td>\n",
       "    </tr>\n",
       "  </tbody>\n",
       "</table>"
      ],
      "text/plain": [
       "GrammarParsingTagger(input_layers=('test_layer',), output_layer=parse, output_attributes=('span_count', 'name', '_priority_', '_group_'), grammar=\n",
       "Grammar:\n",
       "\tstart: S, E\n",
       "\tterminals: A, B, C\n",
       "\tnonterminals: D, E, S\n",
       "\tlegal attribu ..., type: <class 'estnltk.finite_grammar.grammar.Grammar'>, name_attribute=grammar_symbol, output_nodes={'S', 'E'}, resolve_support_conflicts=True, resolve_start_end_conflicts=True, resolve_terminals_conflicts=True, ambiguous=False, gap_validator=None, debug=False)"
      ]
     },
     "execution_count": 22,
     "metadata": {},
     "output_type": "execute_result"
    }
   ],
   "source": [
    "from estnltk.taggers import GrammarParsingTagger\n",
    "tagger = GrammarParsingTagger(grammar=grammar,\n",
    "                              layer_of_tokens='test_layer',\n",
    "                              name_attribute='grammar_symbol', # the default\n",
    "                              output_layer='parse', # the default\n",
    "                              attributes=['span_count', 'name', '_priority_', '_group_'], # default: ()\n",
    "                              output_nodes=None, # by default grammar.start_symbols are used\n",
    "                              resolve_support_conflicts=True, # the default\n",
    "                              resolve_start_end_conflicts=True, # the default\n",
    "                              resolve_terminals_conflicts=True, # the default\n",
    "                              output_ambiguous=False # default False\n",
    "                              )\n",
    "tagger"
   ]
  },
  {
   "cell_type": "code",
   "execution_count": 23,
   "metadata": {},
   "outputs": [
    {
     "data": {
      "text/html": [
       "<h4>Layer</h4>\n",
       "\n",
       "\n",
       "<table border=\"1\" class=\"dataframe\">\n",
       "  <thead>\n",
       "    <tr style=\"text-align: right;\">\n",
       "      <th>layer name</th>\n",
       "      <th>attributes</th>\n",
       "      <th>parent</th>\n",
       "      <th>enveloping</th>\n",
       "      <th>ambiguous</th>\n",
       "      <th>span count</th>\n",
       "    </tr>\n",
       "  </thead>\n",
       "  <tbody>\n",
       "    <tr>\n",
       "      <td>parse</td>\n",
       "      <td>span_count, name, _priority_, _group_</td>\n",
       "      <td>None</td>\n",
       "      <td>test_layer</td>\n",
       "      <td>False</td>\n",
       "      <td>3</td>\n",
       "    </tr>\n",
       "  </tbody>\n",
       "</table>\n",
       "<table border=\"1\" class=\"dataframe\">\n",
       "  <thead>\n",
       "    <tr style=\"text-align: right;\">\n",
       "      <th>text</th>\n",
       "      <th>span_count</th>\n",
       "      <th>name</th>\n",
       "      <th>_priority_</th>\n",
       "      <th>_group_</th>\n",
       "    </tr>\n",
       "  </thead>\n",
       "  <tbody>\n",
       "    <tr>\n",
       "      <td>['a']</td>\n",
       "      <td>1</td>\n",
       "      <td>S</td>\n",
       "      <td>0</td>\n",
       "      <td>4815505998941172137</td>\n",
       "    </tr>\n",
       "    <tr>\n",
       "      <td>['b']</td>\n",
       "      <td>1</td>\n",
       "      <td>S</td>\n",
       "      <td>0</td>\n",
       "      <td>-2602477773697008168</td>\n",
       "    </tr>\n",
       "    <tr>\n",
       "      <td>['b', 'c']</td>\n",
       "      <td>2</td>\n",
       "      <td>E</td>\n",
       "      <td>0</td>\n",
       "      <td>2548973584308737697</td>\n",
       "    </tr>\n",
       "  </tbody>\n",
       "</table>"
      ],
      "text/plain": [
       "Layer(name='parse', attributes=('span_count', 'name', '_priority_', '_group_'), spans=SL[EnvelopingSpan(['a'], [{'span_count': 1, 'name': 'S', '_priority_': 0, '_group_': 4815505998941172137}]),\n",
       "EnvelopingSpan(['b'], [{'span_count': 1, 'name': 'S', '_priority_': 0, '_group_': -2602477773697008168}]),\n",
       "EnvelopingSpan(['b', 'c'], [{'span_count': 2, 'name': 'E', '_priority_': 0, '_group_': 2548973584308737697}])])"
      ]
     },
     "execution_count": 23,
     "metadata": {},
     "output_type": "execute_result"
    }
   ],
   "source": [
    "tagger.tag(text)\n",
    "text.parse"
   ]
  }
 ],
 "metadata": {
  "anaconda-cloud": {},
  "kernelspec": {
   "display_name": "Python 3",
   "language": "python",
   "name": "python3"
  },
  "language_info": {
   "codemirror_mode": {
    "name": "ipython",
    "version": 3
   },
   "file_extension": ".py",
   "mimetype": "text/x-python",
   "name": "python",
   "nbconvert_exporter": "python",
   "pygments_lexer": "ipython3",
   "version": "3.6.8"
  }
 },
 "nbformat": 4,
 "nbformat_minor": 2
}
