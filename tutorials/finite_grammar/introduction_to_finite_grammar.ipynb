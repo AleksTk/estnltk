{
 "cells": [
  {
   "cell_type": "markdown",
   "metadata": {},
   "source": [
    "# Introduction to GrammarParsingTagger"
   ]
  },
  {
   "cell_type": "markdown",
   "metadata": {},
   "source": [
    "GrammarParsingTagger is a tool that allows us to write a context-free grammar and apply the grammar on our Text object, creating a new layer that contains all the matches found by the grammar. This means that we can define the sequences of symbols that we want to extract from the text. Let's look at an example of extracting addresses from a text."
   ]
  },
  {
   "cell_type": "markdown",
   "metadata": {},
   "source": [
    "First, we need to have our Text object. Let's create one containing an address:"
   ]
  },
  {
   "cell_type": "code",
   "execution_count": 1,
   "metadata": {},
   "outputs": [],
   "source": [
    "from estnltk import Text\n",
    "\n",
    "text = Text('Jüri Homenja kontsert toimub E, 22. mai kl 18:00 kultuurimajas Veski 5, Elva, Tartumaa.')"
   ]
  },
  {
   "cell_type": "code",
   "execution_count": 2,
   "metadata": {},
   "outputs": [
    {
     "data": {
      "text/html": [
       "<table border=\"1\" class=\"dataframe\">\n",
       "  <thead>\n",
       "    <tr style=\"text-align: right;\">\n",
       "      <th>text</th>\n",
       "    </tr>\n",
       "  </thead>\n",
       "  <tbody>\n",
       "    <tr>\n",
       "      <td>Jüri Homenja kontsert toimub E, 22. mai kl 18:00 kultuurimajas Veski 5, Elva, Tartumaa.</td>\n",
       "    </tr>\n",
       "  </tbody>\n",
       "</table>"
      ],
      "text/plain": [
       "Text(text=\"Jüri Homenja kontsert toimub E, 22. mai kl 18:00 kultuurimajas Veski 5, Elva, Tartumaa.\")"
      ]
     },
     "execution_count": 2,
     "metadata": {},
     "output_type": "execute_result"
    }
   ],
   "source": [
    "text"
   ]
  },
  {
   "cell_type": "markdown",
   "metadata": {},
   "source": [
    "Next, we need to tag the symbols whose sequences we want to search with our grammar. You can find out about different taggers from [here](https://github.com/estnltk/estnltk/tree/devel_1.6/tutorials/taggers), but for the GrammarParsingTagger example, let's not dive into this but use an existing tagger called AddressPartTagger. AddressPartTagger needs the text to be segmented into words, that's why we tag the layer *words* on the text before applying the tagger."
   ]
  },
  {
   "cell_type": "code",
   "execution_count": 3,
   "metadata": {},
   "outputs": [
    {
     "data": {
      "text/html": [
       "<h4>Layer</h4>\n",
       "<table border=\"1\" class=\"dataframe\">\n",
       "  <thead>\n",
       "    <tr style=\"text-align: right;\">\n",
       "      <th>layer name</th>\n",
       "      <th>attributes</th>\n",
       "      <th>parent</th>\n",
       "      <th>enveloping</th>\n",
       "      <th>ambiguous</th>\n",
       "      <th>span count</th>\n",
       "    </tr>\n",
       "  </thead>\n",
       "  <tbody>\n",
       "    <tr>\n",
       "      <td>address_parts</td>\n",
       "      <td>grammar_symbol, type</td>\n",
       "      <td>None</td>\n",
       "      <td>None</td>\n",
       "      <td>True</td>\n",
       "      <td>11</td>\n",
       "    </tr>\n",
       "  </tbody>\n",
       "</table>\n",
       "<table border=\"1\" class=\"dataframe\">\n",
       "  <thead>\n",
       "    <tr style=\"text-align: right;\">\n",
       "      <th>text</th>\n",
       "      <th>grammar_symbol</th>\n",
       "      <th>type</th>\n",
       "    </tr>\n",
       "  </thead>\n",
       "  <tbody>\n",
       "    <tr>\n",
       "      <td></td>\n",
       "      <td>RANDOM_TEXT</td>\n",
       "      <td>None</td>\n",
       "    </tr>\n",
       "    <tr>\n",
       "      <td></td>\n",
       "      <td>RANDOM_TEXT</td>\n",
       "      <td>None</td>\n",
       "    </tr>\n",
       "    <tr>\n",
       "      <td>Jüri</td>\n",
       "      <td>ASULA</td>\n",
       "      <td>asula</td>\n",
       "    </tr>\n",
       "    <tr>\n",
       "      <td></td>\n",
       "      <td>ASULA</td>\n",
       "      <td>asula</td>\n",
       "    </tr>\n",
       "    <tr>\n",
       "      <td></td>\n",
       "      <td>TÄNAV</td>\n",
       "      <td>tänav</td>\n",
       "    </tr>\n",
       "    <tr>\n",
       "      <td>22</td>\n",
       "      <td>MAJA</td>\n",
       "      <td>None</td>\n",
       "    </tr>\n",
       "    <tr>\n",
       "      <td>18</td>\n",
       "      <td>MAJA</td>\n",
       "      <td>None</td>\n",
       "    </tr>\n",
       "    <tr>\n",
       "      <td>00</td>\n",
       "      <td>MAJA</td>\n",
       "      <td>None</td>\n",
       "    </tr>\n",
       "    <tr>\n",
       "      <td>kultuurimajas</td>\n",
       "      <td>RANDOM_TEXT</td>\n",
       "      <td>None</td>\n",
       "    </tr>\n",
       "    <tr>\n",
       "      <td>Veski</td>\n",
       "      <td>ASULA</td>\n",
       "      <td>asula</td>\n",
       "    </tr>\n",
       "    <tr>\n",
       "      <td></td>\n",
       "      <td>ASULA</td>\n",
       "      <td>asula</td>\n",
       "    </tr>\n",
       "    <tr>\n",
       "      <td></td>\n",
       "      <td>TÄNAV</td>\n",
       "      <td>tänav</td>\n",
       "    </tr>\n",
       "    <tr>\n",
       "      <td>5</td>\n",
       "      <td>MAJA</td>\n",
       "      <td>None</td>\n",
       "    </tr>\n",
       "    <tr>\n",
       "      <td>Elva</td>\n",
       "      <td>ASULA</td>\n",
       "      <td>asula</td>\n",
       "    </tr>\n",
       "    <tr>\n",
       "      <td></td>\n",
       "      <td>TÄNAV</td>\n",
       "      <td>tänav</td>\n",
       "    </tr>\n",
       "    <tr>\n",
       "      <td>Tartumaa</td>\n",
       "      <td>MAAKOND</td>\n",
       "      <td>maakond</td>\n",
       "    </tr>\n",
       "  </tbody>\n",
       "</table>"
      ],
      "text/plain": [
       "Layer(name=address_parts, spans=SL[AS[Span(, {'grammar_symbol': 'RANDOM_TEXT', 'type': None})],\n",
       "AS[Span(, {'grammar_symbol': 'RANDOM_TEXT', 'type': None})],\n",
       "AS[Span(Jüri, {'grammar_symbol': 'ASULA', 'type': 'asula'}), Span(Jüri, {'grammar_symbol': 'ASULA', 'type': 'asula'}), Span(Jüri, {'grammar_symbol': 'TÄNAV', 'type': 'tänav'})],\n",
       "AS[Span(22, {'grammar_symbol': 'MAJA', 'type': None})],\n",
       "AS[Span(18, {'grammar_symbol': 'MAJA', 'type': None})],\n",
       "AS[Span(00, {'grammar_symbol': 'MAJA', 'type': None})],\n",
       "AS[Span(kultuurimajas, {'grammar_symbol': 'RANDOM_TEXT', 'type': None})],\n",
       "AS[Span(Veski, {'grammar_symbol': 'ASULA', 'type': 'asula'}), Span(Veski, {'grammar_symbol': 'ASULA', 'type': 'asula'}), Span(Veski, {'grammar_symbol': 'TÄNAV', 'type': 'tänav'})],\n",
       "AS[Span(5, {'grammar_symbol': 'MAJA', 'type': None})],\n",
       "AS[Span(Elva, {'grammar_symbol': 'ASULA', 'type': 'asula'}), Span(Elva, {'grammar_symbol': 'TÄNAV', 'type': 'tänav'})],\n",
       "AS[Span(Tartumaa, {'grammar_symbol': 'MAAKOND', 'type': 'maakond'})]])"
      ]
     },
     "execution_count": 3,
     "metadata": {},
     "output_type": "execute_result"
    }
   ],
   "source": [
    "from estnltk.taggers import AddressPartTagger\n",
    "\n",
    "address_part_tagger = AddressPartTagger()\n",
    "text.tag_layer(['words'])\n",
    "address_part_tagger.tag(text)\n",
    "text.address_parts"
   ]
  },
  {
   "cell_type": "markdown",
   "metadata": {},
   "source": [
    "Now, we can see that we have different symbols tagged on the text in the layer called *address_parts*. Some of the tagged symbols are in fact parts of the address, but others are not. To know whether the symbol is part of an address, we have to define the sequences of symbols that make up an address. These sequences are called grammar **rules**. "
   ]
  },
  {
   "cell_type": "markdown",
   "metadata": {},
   "source": [
    "## Rules and Grammar\n",
    "\n",
    "To define rules and a grammar, we first need to import the classes Rule and Grammar."
   ]
  },
  {
   "cell_type": "code",
   "execution_count": 4,
   "metadata": {},
   "outputs": [],
   "source": [
    "from estnltk.finite_grammar import Rule, Grammar"
   ]
  },
  {
   "cell_type": "markdown",
   "metadata": {},
   "source": [
    "Then it is possible to start defining the rules. A rule consists of a left side (non-terminal), a right side (non-terminals and terminals), and optional parameters. In the following example of a rule, the left side is 'ADDRESS', the right side is 'TÄNAV MAJA ASULA', and there are optional parameters *group* and *priority*. The rule says that if symbols 'TÄNAV', 'MAJA', and 'ASULA' occur in this order, this is an 'ADDRESS'. The parameter *group* is a name for the group into which the rule belongs, it can be anything, but all rules that we want to put into one group need to have the same name for *group*. *priority* defines which rule of the ones belonging to the *group* is applied if several rules match. **NB!** The **higher** the value, the **lower** the priority. Therefore, if a there are two rules with priorities 2 and 3 that both match, the rule with the priority of 2 is applied."
   ]
  },
  {
   "cell_type": "code",
   "execution_count": 5,
   "metadata": {},
   "outputs": [
    {
     "data": {
      "text/plain": [
       "ADDRESS -> TÄNAV MAJA ASULA\t: 3, val: default_validator, dec: default_decorator, scoring: default_scoring"
      ]
     },
     "execution_count": 5,
     "metadata": {},
     "output_type": "execute_result"
    }
   ],
   "source": [
    "Rule('ADDRESS', 'TÄNAV MAJA ASULA', group='g0', priority=3)"
   ]
  },
  {
   "cell_type": "markdown",
   "metadata": {},
   "source": [
    "To apply the rules, we need to create a grammar:"
   ]
  },
  {
   "cell_type": "code",
   "execution_count": 6,
   "metadata": {},
   "outputs": [],
   "source": [
    "grammar = Grammar(start_symbols=['ADDRESS'], \n",
    "                  depth_limit=float('inf'), # the default\n",
    "                  width_limit=float('inf'), # the default\n",
    "                  legal_attributes=None # the default\n",
    "                  )"
   ]
  },
  {
   "cell_type": "markdown",
   "metadata": {},
   "source": [
    "And then we need to add rules to the grammar. Let's first add two rules that belong to the same group and have equal priorities:"
   ]
  },
  {
   "cell_type": "code",
   "execution_count": 7,
   "metadata": {},
   "outputs": [
    {
     "data": {
      "text/plain": [
       "\n",
       "Grammar:\n",
       "\tstart: ADDRESS\n",
       "\tterminals: ASULA, MAJA, TÄNAV\n",
       "\tnonterminals: ADDRESS\n",
       "\tlegal attributes: frozenset()\n",
       "\tdepth_limit: inf\n",
       "\twidth_limit: inf\n",
       "Rules:\n",
       "\tADDRESS -> TÄNAV MAJA ASULA\t: 3, val: default_validator, dec: default_decorator, scoring: default_scoring\n",
       "\tADDRESS -> TÄNAV MAJA\t: 3, val: default_validator, dec: default_decorator, scoring: default_scoring"
      ]
     },
     "execution_count": 7,
     "metadata": {},
     "output_type": "execute_result"
    }
   ],
   "source": [
    "grammar.add_rule('ADDRESS', 'TÄNAV MAJA ASULA', group='g0', priority=3)\n",
    "grammar.add_rule('ADDRESS', 'TÄNAV MAJA',       group='g0', priority=3)\n",
    "grammar"
   ]
  },
  {
   "cell_type": "markdown",
   "metadata": {},
   "source": [
    "To apply the grammar on our text, we need to create a tagger - a GrammarParsingTagger object. This tagger gets our grammar for the parameter *grammar*. *layer_of_tokens* is the name of the layer that we want to apply our grammar on and *layer_name* is the name of the layer that we are creating with the GrammarParsingTagger. "
   ]
  },
  {
   "cell_type": "code",
   "execution_count": 8,
   "metadata": {},
   "outputs": [
    {
     "data": {
      "text/html": [
       "<h4>Tagger</h4>\n",
       "Parses input layer using grammar. Output layer envelopes input.\n",
       "<table border=\"1\" class=\"dataframe\">\n",
       "  <thead>\n",
       "    <tr style=\"text-align: right;\">\n",
       "      <th>name</th>\n",
       "      <th>output layer</th>\n",
       "      <th>output attributes</th>\n",
       "      <th>input layers</th>\n",
       "    </tr>\n",
       "  </thead>\n",
       "  <tbody>\n",
       "    <tr>\n",
       "      <td>GrammarParsingTagger</td>\n",
       "      <td>addresses</td>\n",
       "      <td>()</td>\n",
       "      <td>['address_parts']</td>\n",
       "    </tr>\n",
       "  </tbody>\n",
       "</table>\n",
       "<h4>Configuration</h4>\n",
       "<table border=\"1\" class=\"dataframe\">\n",
       "  <tbody>\n",
       "    <tr>\n",
       "      <th>grammar</th>\n",
       "      <td>\\nGrammar:\\n\\tstart: ADDRESS\\n\\tterminals: ASULA, MAJA, TÄNAV\\n\\tnonterminals: ADDRESS\\n ..., type: &lt;class 'estnltk.finite_grammar.grammar.Grammar'&gt;</td>\n",
       "    </tr>\n",
       "    <tr>\n",
       "      <th>name_attribute</th>\n",
       "      <td>grammar_symbol</td>\n",
       "    </tr>\n",
       "    <tr>\n",
       "      <th>output_nodes</th>\n",
       "      <td>{'ADDRESS'}</td>\n",
       "    </tr>\n",
       "    <tr>\n",
       "      <th>resolve_support_conflicts</th>\n",
       "      <td>True</td>\n",
       "    </tr>\n",
       "    <tr>\n",
       "      <th>resolve_start_end_conflicts</th>\n",
       "      <td>True</td>\n",
       "    </tr>\n",
       "    <tr>\n",
       "      <th>resolve_terminals_conflicts</th>\n",
       "      <td>True</td>\n",
       "    </tr>\n",
       "    <tr>\n",
       "      <th>ambiguous</th>\n",
       "      <td>True</td>\n",
       "    </tr>\n",
       "    <tr>\n",
       "      <th>gap_validator</th>\n",
       "      <td>None</td>\n",
       "    </tr>\n",
       "    <tr>\n",
       "      <th>debug</th>\n",
       "      <td>False</td>\n",
       "    </tr>\n",
       "  </tbody>\n",
       "</table>"
      ],
      "text/plain": [
       "GrammarParsingTagger(input_layers=['address_parts'], output_layer=addresses, output_attributes=(), grammar=\n",
       "Grammar:\n",
       "\tstart: ADDRESS\n",
       "\tterminals: ASULA, MAJA, TÄNAV\n",
       "\tnonterminals: ADDRESS\n",
       " ..., type: <class 'estnltk.finite_grammar.grammar.Grammar'>, name_attribute=grammar_symbol, output_nodes={'ADDRESS'}, resolve_support_conflicts=True, resolve_start_end_conflicts=True, resolve_terminals_conflicts=True, ambiguous=True, gap_validator=None, debug=False)"
      ]
     },
     "execution_count": 8,
     "metadata": {},
     "output_type": "execute_result"
    }
   ],
   "source": [
    "from estnltk.taggers import GrammarParsingTagger\n",
    "\n",
    "tagger = GrammarParsingTagger(grammar=grammar,\n",
    "                              layer_of_tokens='address_parts',\n",
    "                              layer_name='addresses', # default: 'parse'\n",
    "                              output_ambiguous=True # default False, True recommended\n",
    "                              )\n",
    "tagger"
   ]
  },
  {
   "cell_type": "markdown",
   "metadata": {},
   "source": [
    "Then we can use the tagger to tag the text:"
   ]
  },
  {
   "cell_type": "code",
   "execution_count": 9,
   "metadata": {},
   "outputs": [
    {
     "data": {
      "text/html": [
       "<table border=\"1\" class=\"dataframe\">\n",
       "  <thead>\n",
       "    <tr style=\"text-align: right;\">\n",
       "      <th>text</th>\n",
       "    </tr>\n",
       "  </thead>\n",
       "  <tbody>\n",
       "    <tr>\n",
       "      <td>Jüri Homenja kontsert toimub E, 22. mai kl 18:00 kultuurimajas Veski 5, Elva, Tartumaa.</td>\n",
       "    </tr>\n",
       "  </tbody>\n",
       "</table>\n",
       "<table border=\"1\" class=\"dataframe\">\n",
       "  <thead>\n",
       "    <tr style=\"text-align: right;\">\n",
       "      <th>layer name</th>\n",
       "      <th>attributes</th>\n",
       "      <th>parent</th>\n",
       "      <th>enveloping</th>\n",
       "      <th>ambiguous</th>\n",
       "      <th>span count</th>\n",
       "    </tr>\n",
       "  </thead>\n",
       "  <tbody>\n",
       "    <tr>\n",
       "      <td>tokens</td>\n",
       "      <td></td>\n",
       "      <td>None</td>\n",
       "      <td>None</td>\n",
       "      <td>False</td>\n",
       "      <td>21</td>\n",
       "    </tr>\n",
       "    <tr>\n",
       "      <td>compound_tokens</td>\n",
       "      <td>type, normalized</td>\n",
       "      <td>None</td>\n",
       "      <td>tokens</td>\n",
       "      <td>False</td>\n",
       "      <td>2</td>\n",
       "    </tr>\n",
       "    <tr>\n",
       "      <td>words</td>\n",
       "      <td>normalized_form</td>\n",
       "      <td>None</td>\n",
       "      <td>None</td>\n",
       "      <td>False</td>\n",
       "      <td>18</td>\n",
       "    </tr>\n",
       "    <tr>\n",
       "      <td>address_parts</td>\n",
       "      <td>grammar_symbol, type</td>\n",
       "      <td>None</td>\n",
       "      <td>None</td>\n",
       "      <td>True</td>\n",
       "      <td>11</td>\n",
       "    </tr>\n",
       "    <tr>\n",
       "      <td>addresses</td>\n",
       "      <td></td>\n",
       "      <td>None</td>\n",
       "      <td>address_parts</td>\n",
       "      <td>True</td>\n",
       "      <td>3</td>\n",
       "    </tr>\n",
       "  </tbody>\n",
       "</table>"
      ],
      "text/plain": [
       "Text(text=\"Jüri Homenja kontsert toimub E, 22. mai kl 18:00 kultuurimajas Veski 5, Elva, Tartumaa.\")"
      ]
     },
     "execution_count": 9,
     "metadata": {},
     "output_type": "execute_result"
    }
   ],
   "source": [
    "tagger.tag(text)"
   ]
  },
  {
   "cell_type": "code",
   "execution_count": 10,
   "metadata": {
    "scrolled": true
   },
   "outputs": [
    {
     "data": {
      "text/html": [
       "<h4>Layer</h4>\n",
       "<table border=\"1\" class=\"dataframe\">\n",
       "  <thead>\n",
       "    <tr style=\"text-align: right;\">\n",
       "      <th>layer name</th>\n",
       "      <th>attributes</th>\n",
       "      <th>parent</th>\n",
       "      <th>enveloping</th>\n",
       "      <th>ambiguous</th>\n",
       "      <th>span count</th>\n",
       "    </tr>\n",
       "  </thead>\n",
       "  <tbody>\n",
       "    <tr>\n",
       "      <td>addresses</td>\n",
       "      <td></td>\n",
       "      <td>None</td>\n",
       "      <td>address_parts</td>\n",
       "      <td>True</td>\n",
       "      <td>3</td>\n",
       "    </tr>\n",
       "  </tbody>\n",
       "</table>\n",
       "<table border=\"1\" class=\"dataframe\">\n",
       "  <thead>\n",
       "    <tr style=\"text-align: right;\">\n",
       "      <th>text</th>\n",
       "    </tr>\n",
       "  </thead>\n",
       "  <tbody>\n",
       "    <tr>\n",
       "      <td>['Jüri', '22']</td>\n",
       "    </tr>\n",
       "    <tr>\n",
       "      <td>['Veski', '5']</td>\n",
       "    </tr>\n",
       "    <tr>\n",
       "      <td>['Veski', '5', 'Elva']</td>\n",
       "    </tr>\n",
       "  </tbody>\n",
       "</table>"
      ],
      "text/plain": [
       "Layer(name=addresses, spans=SL[AS[ES[AS[Span(Jüri, {'grammar_symbol': 'ASULA', 'type': 'asula'}), Span(Jüri, {'grammar_symbol': 'ASULA', 'type': 'asula'}), Span(Jüri, {'grammar_symbol': 'TÄNAV', 'type': 'tänav'})],\n",
       "AS[Span(22, {'grammar_symbol': 'MAJA', 'type': None})]]],\n",
       "AS[ES[AS[Span(Veski, {'grammar_symbol': 'ASULA', 'type': 'asula'}), Span(Veski, {'grammar_symbol': 'ASULA', 'type': 'asula'}), Span(Veski, {'grammar_symbol': 'TÄNAV', 'type': 'tänav'})],\n",
       "AS[Span(5, {'grammar_symbol': 'MAJA', 'type': None})]]],\n",
       "AS[ES[AS[Span(Veski, {'grammar_symbol': 'ASULA', 'type': 'asula'}), Span(Veski, {'grammar_symbol': 'ASULA', 'type': 'asula'}), Span(Veski, {'grammar_symbol': 'TÄNAV', 'type': 'tänav'})],\n",
       "AS[Span(5, {'grammar_symbol': 'MAJA', 'type': None})],\n",
       "AS[Span(Elva, {'grammar_symbol': 'ASULA', 'type': 'asula'}), Span(Elva, {'grammar_symbol': 'TÄNAV', 'type': 'tänav'})]]]])"
      ]
     },
     "execution_count": 10,
     "metadata": {},
     "output_type": "execute_result"
    }
   ],
   "source": [
    "text.addresses"
   ]
  },
  {
   "cell_type": "markdown",
   "metadata": {},
   "source": [
    "The first problem that we see is that 'Jüri', '22' has been tagged as address, although the tokens are not even next to each other in the original text. However, as the grammar is looking at the layer *address_parts* and there's nothing between the grammar_symbols of these tokens, they are tagged as an address. To overcome this problem, we can use a gaps_validator function where we can define what kind of gaps we allow between our tagged symbols - e.g. we would probably want to accept a space between the parts of an address but not long sequences of words or sentences. "
   ]
  },
  {
   "cell_type": "code",
   "execution_count": null,
   "metadata": {},
   "outputs": [],
   "source": []
  },
  {
   "cell_type": "markdown",
   "metadata": {},
   "source": [
    "# Priorities"
   ]
  },
  {
   "cell_type": "code",
   "execution_count": 11,
   "metadata": {},
   "outputs": [
    {
     "data": {
      "text/html": [
       "<h4>Layer</h4>\n",
       "<table border=\"1\" class=\"dataframe\">\n",
       "  <thead>\n",
       "    <tr style=\"text-align: right;\">\n",
       "      <th>layer name</th>\n",
       "      <th>attributes</th>\n",
       "      <th>parent</th>\n",
       "      <th>enveloping</th>\n",
       "      <th>ambiguous</th>\n",
       "      <th>span count</th>\n",
       "    </tr>\n",
       "  </thead>\n",
       "  <tbody>\n",
       "    <tr>\n",
       "      <td>addresses_2</td>\n",
       "      <td></td>\n",
       "      <td>None</td>\n",
       "      <td>address_parts</td>\n",
       "      <td>True</td>\n",
       "      <td>2</td>\n",
       "    </tr>\n",
       "  </tbody>\n",
       "</table>\n",
       "<table border=\"1\" class=\"dataframe\">\n",
       "  <thead>\n",
       "    <tr style=\"text-align: right;\">\n",
       "      <th>text</th>\n",
       "    </tr>\n",
       "  </thead>\n",
       "  <tbody>\n",
       "    <tr>\n",
       "      <td>['Jüri', '22']</td>\n",
       "    </tr>\n",
       "    <tr>\n",
       "      <td>['Veski', '5', 'Elva']</td>\n",
       "    </tr>\n",
       "  </tbody>\n",
       "</table>"
      ],
      "text/plain": [
       "Layer(name=addresses_2, spans=SL[AS[ES[AS[Span(Jüri, {'grammar_symbol': 'ASULA', 'type': 'asula'}), Span(Jüri, {'grammar_symbol': 'ASULA', 'type': 'asula'}), Span(Jüri, {'grammar_symbol': 'TÄNAV', 'type': 'tänav'})],\n",
       "AS[Span(22, {'grammar_symbol': 'MAJA', 'type': None})]]],\n",
       "AS[ES[AS[Span(Veski, {'grammar_symbol': 'ASULA', 'type': 'asula'}), Span(Veski, {'grammar_symbol': 'ASULA', 'type': 'asula'}), Span(Veski, {'grammar_symbol': 'TÄNAV', 'type': 'tänav'})],\n",
       "AS[Span(5, {'grammar_symbol': 'MAJA', 'type': None})],\n",
       "AS[Span(Elva, {'grammar_symbol': 'ASULA', 'type': 'asula'}), Span(Elva, {'grammar_symbol': 'TÄNAV', 'type': 'tänav'})]]]])"
      ]
     },
     "execution_count": 11,
     "metadata": {},
     "output_type": "execute_result"
    }
   ],
   "source": [
    "grammar = Grammar(start_symbols=['ADDRESS'], \n",
    "                  rules=None, # the default, deprecated\n",
    "                  depth_limit=float('inf'), # the default\n",
    "                  width_limit=float('inf'), # the default\n",
    "                  legal_attributes=None # the default\n",
    "                  )\n",
    "\n",
    "grammar.add_rule('ADDRESS', 'TÄNAV MAJA ASULA', group='g0', priority=2)\n",
    "grammar.add_rule('ADDRESS', 'TÄNAV MAJA',       group='g0', priority=3)\n",
    "tagger = GrammarParsingTagger(grammar=grammar,\n",
    "                              layer_of_tokens='address_parts',\n",
    "                              name_attribute='grammar_symbol', # the default\n",
    "                              layer_name='addresses_2', # the default\n",
    "                              attributes=(), # default: ()\n",
    "                              output_ambiguous=True # default False\n",
    "                              )\n",
    "tagger.tag(text)\n",
    "text.addresses_2"
   ]
  },
  {
   "cell_type": "markdown",
   "metadata": {},
   "source": [
    "# Decorators"
   ]
  },
  {
   "cell_type": "code",
   "execution_count": 12,
   "metadata": {},
   "outputs": [
    {
     "data": {
      "text/html": [
       "<h4>Layer</h4>\n",
       "<table border=\"1\" class=\"dataframe\">\n",
       "  <thead>\n",
       "    <tr style=\"text-align: right;\">\n",
       "      <th>layer name</th>\n",
       "      <th>attributes</th>\n",
       "      <th>parent</th>\n",
       "      <th>enveloping</th>\n",
       "      <th>ambiguous</th>\n",
       "      <th>span count</th>\n",
       "    </tr>\n",
       "  </thead>\n",
       "  <tbody>\n",
       "    <tr>\n",
       "      <td>addresses_3</td>\n",
       "      <td>INDEKS, grammar_symbol, MAJA, TÄNAV, MAAKOND, ASULA</td>\n",
       "      <td>None</td>\n",
       "      <td>address_parts</td>\n",
       "      <td>False</td>\n",
       "      <td>3</td>\n",
       "    </tr>\n",
       "  </tbody>\n",
       "</table>\n",
       "<table border=\"1\" class=\"dataframe\">\n",
       "  <thead>\n",
       "    <tr style=\"text-align: right;\">\n",
       "      <th>text</th>\n",
       "      <th>INDEKS</th>\n",
       "      <th>grammar_symbol</th>\n",
       "      <th>MAJA</th>\n",
       "      <th>TÄNAV</th>\n",
       "      <th>MAAKOND</th>\n",
       "      <th>ASULA</th>\n",
       "    </tr>\n",
       "  </thead>\n",
       "  <tbody>\n",
       "    <tr>\n",
       "      <td>['Jüri', '22']</td>\n",
       "      <td></td>\n",
       "      <td>ADDRESS</td>\n",
       "      <td>22</td>\n",
       "      <td>Jüri</td>\n",
       "      <td></td>\n",
       "      <td></td>\n",
       "    </tr>\n",
       "    <tr>\n",
       "      <td>['Veski', '5']</td>\n",
       "      <td></td>\n",
       "      <td>ADDRESS</td>\n",
       "      <td>5</td>\n",
       "      <td>Veski</td>\n",
       "      <td></td>\n",
       "      <td></td>\n",
       "    </tr>\n",
       "    <tr>\n",
       "      <td>['Veski', '5', 'Elva']</td>\n",
       "      <td></td>\n",
       "      <td>ADDRESS</td>\n",
       "      <td>5</td>\n",
       "      <td>Veski</td>\n",
       "      <td></td>\n",
       "      <td>Elva</td>\n",
       "    </tr>\n",
       "  </tbody>\n",
       "</table>"
      ],
      "text/plain": [
       "Layer(name=addresses_3, spans=SL[ES[AS[Span(Jüri, {'grammar_symbol': 'ASULA', 'type': 'asula'}), Span(Jüri, {'grammar_symbol': 'ASULA', 'type': 'asula'}), Span(Jüri, {'grammar_symbol': 'TÄNAV', 'type': 'tänav'})],\n",
       "AS[Span(22, {'grammar_symbol': 'MAJA', 'type': None})]],\n",
       "ES[AS[Span(Veski, {'grammar_symbol': 'ASULA', 'type': 'asula'}), Span(Veski, {'grammar_symbol': 'ASULA', 'type': 'asula'}), Span(Veski, {'grammar_symbol': 'TÄNAV', 'type': 'tänav'})],\n",
       "AS[Span(5, {'grammar_symbol': 'MAJA', 'type': None})]],\n",
       "ES[AS[Span(Veski, {'grammar_symbol': 'ASULA', 'type': 'asula'}), Span(Veski, {'grammar_symbol': 'ASULA', 'type': 'asula'}), Span(Veski, {'grammar_symbol': 'TÄNAV', 'type': 'tänav'})],\n",
       "AS[Span(5, {'grammar_symbol': 'MAJA', 'type': None})],\n",
       "AS[Span(Elva, {'grammar_symbol': 'ASULA', 'type': 'asula'}), Span(Elva, {'grammar_symbol': 'TÄNAV', 'type': 'tänav'})]]])"
      ]
     },
     "execution_count": 12,
     "metadata": {},
     "output_type": "execute_result"
    }
   ],
   "source": [
    "def address_decorator(nodes):\n",
    "    asula = ''\n",
    "    maakond = ''\n",
    "    t2nav = ''\n",
    "    indeks = ''\n",
    "    maja = ''\n",
    "    for node in nodes:\n",
    "        if node.name == 'ASULA':\n",
    "            asula = node.text#[0]\n",
    "        elif node.name == 'TÄNAV':\n",
    "            t2nav = node.text#[0]\n",
    "        elif node.name == 'MAAKOND':\n",
    "            maakond = node.text#[0]\n",
    "        elif node.name == 'MAJA':\n",
    "            maja = node.text#[0]\n",
    "        elif node.name == 'INDEKS':\n",
    "            indeks = node.text#[0]\n",
    "    return {'grammar_symbol': 'ADDRESS',\n",
    "            'ASULA': asula,\n",
    "            'TÄNAV': t2nav,\n",
    "            'INDEKS': indeks,\n",
    "            'MAAKOND': maakond,\n",
    "            'MAJA': maja}\n",
    "\n",
    "grammar = Grammar(start_symbols=['ADDRESS'], \n",
    "                  rules=None, # the default, deprecated\n",
    "                  depth_limit=float('inf'), # the default\n",
    "                  width_limit=float('inf'), # the default\n",
    "                  legal_attributes=['INDEKS', 'grammar_symbol', 'MAJA', 'TÄNAV', 'MAAKOND', 'ASULA']\n",
    "                  )\n",
    "\n",
    "grammar.add_rule('ADDRESS', 'TÄNAV MAJA ASULA', group='g0', priority=3, decorator=address_decorator)\n",
    "grammar.add_rule('ADDRESS', 'TÄNAV MAJA',       group='g0', priority=3, decorator=address_decorator)\n",
    "tagger = GrammarParsingTagger(grammar=grammar,\n",
    "                              layer_of_tokens='address_parts',\n",
    "                              name_attribute='grammar_symbol',\n",
    "                              layer_name='addresses_3',\n",
    "                              attributes=('INDEKS', 'grammar_symbol', 'MAJA', 'TÄNAV', 'MAAKOND', 'ASULA'),\n",
    "                              output_nodes=None,\n",
    "                              resolve_support_conflicts=True,\n",
    "                              resolve_start_end_conflicts=True,\n",
    "                              resolve_terminals_conflicts=True,\n",
    "                              output_ambiguous=False # default False\n",
    "                              )\n",
    "tagger.tag(text)\n",
    "text.addresses_3"
   ]
  },
  {
   "cell_type": "markdown",
   "metadata": {},
   "source": [
    "# Validators"
   ]
  },
  {
   "cell_type": "code",
   "execution_count": 13,
   "metadata": {
    "scrolled": true
   },
   "outputs": [
    {
     "data": {
      "text/html": [
       "<h4>Layer</h4>\n",
       "<table border=\"1\" class=\"dataframe\">\n",
       "  <thead>\n",
       "    <tr style=\"text-align: right;\">\n",
       "      <th>layer name</th>\n",
       "      <th>attributes</th>\n",
       "      <th>parent</th>\n",
       "      <th>enveloping</th>\n",
       "      <th>ambiguous</th>\n",
       "      <th>span count</th>\n",
       "    </tr>\n",
       "  </thead>\n",
       "  <tbody>\n",
       "    <tr>\n",
       "      <td>addresses_4</td>\n",
       "      <td>INDEKS, grammar_symbol, MAJA, TÄNAV, MAAKOND, ASULA</td>\n",
       "      <td>None</td>\n",
       "      <td>address_parts</td>\n",
       "      <td>False</td>\n",
       "      <td>2</td>\n",
       "    </tr>\n",
       "  </tbody>\n",
       "</table>\n",
       "<table border=\"1\" class=\"dataframe\">\n",
       "  <thead>\n",
       "    <tr style=\"text-align: right;\">\n",
       "      <th>text</th>\n",
       "      <th>INDEKS</th>\n",
       "      <th>grammar_symbol</th>\n",
       "      <th>MAJA</th>\n",
       "      <th>TÄNAV</th>\n",
       "      <th>MAAKOND</th>\n",
       "      <th>ASULA</th>\n",
       "    </tr>\n",
       "  </thead>\n",
       "  <tbody>\n",
       "    <tr>\n",
       "      <td>['Ülikooli', '5']</td>\n",
       "      <td></td>\n",
       "      <td>ADDRESS</td>\n",
       "      <td>5</td>\n",
       "      <td>Ülikooli</td>\n",
       "      <td></td>\n",
       "      <td></td>\n",
       "    </tr>\n",
       "    <tr>\n",
       "      <td>['Ülikooli', '5', 'Elva']</td>\n",
       "      <td></td>\n",
       "      <td>ADDRESS</td>\n",
       "      <td>5</td>\n",
       "      <td>Ülikooli</td>\n",
       "      <td></td>\n",
       "      <td>Elva</td>\n",
       "    </tr>\n",
       "  </tbody>\n",
       "</table>"
      ],
      "text/plain": [
       "Layer(name=addresses_4, spans=SL[ES[AS[Span(Ülikooli, {'grammar_symbol': 'TÄNAV', 'type': 'tänav'})],\n",
       "AS[Span(5, {'grammar_symbol': 'MAJA', 'type': None})]],\n",
       "ES[AS[Span(Ülikooli, {'grammar_symbol': 'TÄNAV', 'type': 'tänav'})],\n",
       "AS[Span(5, {'grammar_symbol': 'MAJA', 'type': None})],\n",
       "AS[Span(Elva, {'grammar_symbol': 'ASULA', 'type': 'asula'}), Span(Elva, {'grammar_symbol': 'TÄNAV', 'type': 'tänav'})]]])"
      ]
     },
     "execution_count": 13,
     "metadata": {},
     "output_type": "execute_result"
    }
   ],
   "source": [
    "text = Text('Inimesed, kes töötavad Tartus Ülikooli 5, Elva haiglas \\\n",
    "            ja Tõravere observatooriumis, söövad esmaspäeviti õunu.').tag_layer(['words'])\n",
    "address_part_tagger.tag(text)\n",
    "\n",
    "grammar = Grammar(start_symbols=['ADDRESS'],\n",
    "                  legal_attributes=['INDEKS', 'grammar_symbol', 'MAJA', 'TÄNAV', 'MAAKOND', 'ASULA']\n",
    "                  )\n",
    "\n",
    "grammar.add_rule('ADDRESS', 'TÄNAV MAJA ASULA', group='g0', priority=3, decorator=address_decorator)\n",
    "grammar.add_rule('ADDRESS', 'TÄNAV MAJA',       group='g0', priority=3, decorator=address_decorator)\n",
    "tagger = GrammarParsingTagger(grammar=grammar,\n",
    "                              layer_of_tokens='address_parts',\n",
    "                              name_attribute='grammar_symbol',\n",
    "                              layer_name='addresses_4',\n",
    "                              attributes=('INDEKS', 'grammar_symbol', 'MAJA', 'TÄNAV', 'MAAKOND', 'ASULA')\n",
    "                              )\n",
    "tagger.tag(text)\n",
    "text.addresses_4"
   ]
  },
  {
   "cell_type": "code",
   "execution_count": 14,
   "metadata": {
    "scrolled": true
   },
   "outputs": [
    {
     "data": {
      "text/html": [
       "<h4>Layer</h4>\n",
       "<table border=\"1\" class=\"dataframe\">\n",
       "  <thead>\n",
       "    <tr style=\"text-align: right;\">\n",
       "      <th>layer name</th>\n",
       "      <th>attributes</th>\n",
       "      <th>parent</th>\n",
       "      <th>enveloping</th>\n",
       "      <th>ambiguous</th>\n",
       "      <th>span count</th>\n",
       "    </tr>\n",
       "  </thead>\n",
       "  <tbody>\n",
       "    <tr>\n",
       "      <td>addresses_4</td>\n",
       "      <td>INDEKS, grammar_symbol, MAJA, TÄNAV, MAAKOND, ASULA</td>\n",
       "      <td>None</td>\n",
       "      <td>address_parts</td>\n",
       "      <td>True</td>\n",
       "      <td>1</td>\n",
       "    </tr>\n",
       "  </tbody>\n",
       "</table>\n",
       "<table border=\"1\" class=\"dataframe\">\n",
       "  <thead>\n",
       "    <tr style=\"text-align: right;\">\n",
       "      <th>text</th>\n",
       "      <th>INDEKS</th>\n",
       "      <th>grammar_symbol</th>\n",
       "      <th>MAJA</th>\n",
       "      <th>TÄNAV</th>\n",
       "      <th>MAAKOND</th>\n",
       "      <th>ASULA</th>\n",
       "    </tr>\n",
       "  </thead>\n",
       "  <tbody>\n",
       "    <tr>\n",
       "      <td>['Ülikooli', '5']</td>\n",
       "      <td></td>\n",
       "      <td>ADDRESS</td>\n",
       "      <td>5</td>\n",
       "      <td>Ülikooli</td>\n",
       "      <td></td>\n",
       "      <td></td>\n",
       "    </tr>\n",
       "  </tbody>\n",
       "</table>"
      ],
      "text/plain": [
       "Layer(name=addresses_4, spans=SL[AS[ES[AS[Span(Ülikooli, {'grammar_symbol': 'TÄNAV', 'type': 'tänav'})],\n",
       "AS[Span(5, {'grammar_symbol': 'MAJA', 'type': None})]]]])"
      ]
     },
     "execution_count": 14,
     "metadata": {},
     "output_type": "execute_result"
    }
   ],
   "source": [
    "text = Text('Inimesed, kes töötavad Tartus Ülikooli 5, Elva haiglas \\\n",
    "            ja Tõravere observatooriumis, söövad esmaspäeviti õunu.').tag_layer(['words'])\n",
    "address_part_tagger.tag(text)\n",
    "\n",
    "town_streets = {'Elva': {'Veski', 'Tuletõrje'},\n",
    "                'Tartu': {'Veski', 'Ülikooli'}}\n",
    "\n",
    "def validator(node):\n",
    "    street = node[0].text\n",
    "    town = node[2].text\n",
    "    if town in town_streets:\n",
    "        return street in town_streets[town]\n",
    "    return True\n",
    "\n",
    "grammar = Grammar(start_symbols=['ADDRESS'], \n",
    "                  legal_attributes=['INDEKS', 'grammar_symbol', 'MAJA', 'TÄNAV', 'MAAKOND', 'ASULA']\n",
    "                  )\n",
    "\n",
    "grammar.add_rule('ADDRESS', 'TÄNAV MAJA ASULA', group='g0', priority=3, decorator=address_decorator, validator=validator)\n",
    "grammar.add_rule('ADDRESS', 'TÄNAV MAJA',       group='g0', priority=3, decorator=address_decorator)\n",
    "tagger = GrammarParsingTagger(grammar=grammar,\n",
    "                              layer_of_tokens='address_parts',\n",
    "                              name_attribute='grammar_symbol',\n",
    "                              layer_name='addresses_4',\n",
    "                              attributes=('INDEKS', 'grammar_symbol', 'MAJA', 'TÄNAV', 'MAAKOND', 'ASULA'),\n",
    "                              output_ambiguous=True\n",
    "                              )\n",
    "tagger.tag(text)\n",
    "text.addresses_4"
   ]
  },
  {
   "cell_type": "markdown",
   "metadata": {},
   "source": [
    "## `SEQ` rules"
   ]
  },
  {
   "cell_type": "code",
   "execution_count": 15,
   "metadata": {
    "scrolled": true
   },
   "outputs": [
    {
     "data": {
      "text/html": [
       "<h4>Layer</h4>\n",
       "<table border=\"1\" class=\"dataframe\">\n",
       "  <thead>\n",
       "    <tr style=\"text-align: right;\">\n",
       "      <th>layer name</th>\n",
       "      <th>attributes</th>\n",
       "      <th>parent</th>\n",
       "      <th>enveloping</th>\n",
       "      <th>ambiguous</th>\n",
       "      <th>span count</th>\n",
       "    </tr>\n",
       "  </thead>\n",
       "  <tbody>\n",
       "    <tr>\n",
       "      <td>addresses_4</td>\n",
       "      <td>INDEKS, grammar_symbol, MAJA, TÄNAV, MAAKOND, ASULA</td>\n",
       "      <td>None</td>\n",
       "      <td>address_parts</td>\n",
       "      <td>True</td>\n",
       "      <td>3</td>\n",
       "    </tr>\n",
       "  </tbody>\n",
       "</table>\n",
       "<table border=\"1\" class=\"dataframe\">\n",
       "  <thead>\n",
       "    <tr style=\"text-align: right;\">\n",
       "      <th>text</th>\n",
       "      <th>INDEKS</th>\n",
       "      <th>grammar_symbol</th>\n",
       "      <th>MAJA</th>\n",
       "      <th>TÄNAV</th>\n",
       "      <th>MAAKOND</th>\n",
       "      <th>ASULA</th>\n",
       "    </tr>\n",
       "  </thead>\n",
       "  <tbody>\n",
       "    <tr>\n",
       "      <td>['Tartu', 'Veski', '3']</td>\n",
       "      <td></td>\n",
       "      <td>ADDRESS</td>\n",
       "      <td>['3']</td>\n",
       "      <td>Veski</td>\n",
       "      <td></td>\n",
       "      <td>Tartu</td>\n",
       "    </tr>\n",
       "    <tr>\n",
       "      <td>['Tartu', 'Veski', '3', '5']</td>\n",
       "      <td></td>\n",
       "      <td>ADDRESS</td>\n",
       "      <td>['3', '5']</td>\n",
       "      <td>Veski</td>\n",
       "      <td></td>\n",
       "      <td>Tartu</td>\n",
       "    </tr>\n",
       "    <tr>\n",
       "      <td>['Tartu', 'Veski', '3', '5', '7']</td>\n",
       "      <td></td>\n",
       "      <td>ADDRESS</td>\n",
       "      <td>['3', '5', '7']</td>\n",
       "      <td>Veski</td>\n",
       "      <td></td>\n",
       "      <td>Tartu</td>\n",
       "    </tr>\n",
       "  </tbody>\n",
       "</table>"
      ],
      "text/plain": [
       "Layer(name=addresses_4, spans=SL[AS[ES[AS[Span(Tartu, {'grammar_symbol': 'ASULA', 'type': 'asula'}), Span(Tartu, {'grammar_symbol': 'TÄNAV', 'type': 'tänav'})],\n",
       "AS[Span(Veski, {'grammar_symbol': 'ASULA', 'type': 'asula'}), Span(Veski, {'grammar_symbol': 'ASULA', 'type': 'asula'}), Span(Veski, {'grammar_symbol': 'TÄNAV', 'type': 'tänav'})],\n",
       "AS[Span(3, {'grammar_symbol': 'MAJA', 'type': None})]]],\n",
       "AS[ES[AS[Span(Tartu, {'grammar_symbol': 'ASULA', 'type': 'asula'}), Span(Tartu, {'grammar_symbol': 'TÄNAV', 'type': 'tänav'})],\n",
       "AS[Span(Veski, {'grammar_symbol': 'ASULA', 'type': 'asula'}), Span(Veski, {'grammar_symbol': 'ASULA', 'type': 'asula'}), Span(Veski, {'grammar_symbol': 'TÄNAV', 'type': 'tänav'})],\n",
       "AS[Span(3, {'grammar_symbol': 'MAJA', 'type': None})],\n",
       "AS[Span(5, {'grammar_symbol': 'MAJA', 'type': None})]]],\n",
       "AS[ES[AS[Span(Tartu, {'grammar_symbol': 'ASULA', 'type': 'asula'}), Span(Tartu, {'grammar_symbol': 'TÄNAV', 'type': 'tänav'})],\n",
       "AS[Span(Veski, {'grammar_symbol': 'ASULA', 'type': 'asula'}), Span(Veski, {'grammar_symbol': 'ASULA', 'type': 'asula'}), Span(Veski, {'grammar_symbol': 'TÄNAV', 'type': 'tänav'})],\n",
       "AS[Span(3, {'grammar_symbol': 'MAJA', 'type': None})],\n",
       "AS[Span(5, {'grammar_symbol': 'MAJA', 'type': None})],\n",
       "AS[Span(7, {'grammar_symbol': 'MAJA', 'type': None})]]]])"
      ]
     },
     "execution_count": 15,
     "metadata": {},
     "output_type": "execute_result"
    }
   ],
   "source": [
    "def address_decorator(nodes):\n",
    "    asula = ''\n",
    "    maakond = ''\n",
    "    t2nav = ''\n",
    "    indeks = ''\n",
    "    maja = ''\n",
    "    for node in nodes:\n",
    "        if node.name == 'ASULA':\n",
    "            asula = node.text\n",
    "        elif node.name == 'TÄNAV':\n",
    "            t2nav = node.text\n",
    "        elif node.name == 'MAAKOND':\n",
    "            maakond = node.text\n",
    "        elif node.name == 'MAJA':\n",
    "            maja = node.text\n",
    "        elif node.name == 'SEQ(MAJA)':\n",
    "            maja = [n.text for n in node.support]\n",
    "        elif node.name == 'INDEKS':\n",
    "            indeks = node.text\n",
    "    return {'grammar_symbol': 'ADDRESS',\n",
    "            'ASULA': asula,\n",
    "            'TÄNAV': t2nav,\n",
    "            'INDEKS': indeks,\n",
    "            'MAAKOND': maakond,\n",
    "            'MAJA': maja}\n",
    "\n",
    "text = Text('Veekatkestus Tartu Veski tänava majades 3, 5, 7.').tag_layer(['words'])\n",
    "address_part_tagger.tag(text)\n",
    "\n",
    "grammar = Grammar(start_symbols=['ADDRESS'],\n",
    "                  legal_attributes=['INDEKS', 'grammar_symbol', 'MAJA', 'TÄNAV', 'MAAKOND', 'ASULA']\n",
    "                  )\n",
    "def scoring(node):\n",
    "    return len(node[2].support)\n",
    "\n",
    "grammar.add_rule('ADDRESS', 'ASULA TÄNAV SEQ(MAJA)', group='g0', priority=3, decorator=address_decorator, scoring=scoring)\n",
    "tagger = GrammarParsingTagger(grammar=grammar,\n",
    "                              layer_of_tokens='address_parts',\n",
    "                              name_attribute='grammar_symbol',\n",
    "                              layer_name='addresses_4',\n",
    "                              attributes=('INDEKS', 'grammar_symbol', 'MAJA', 'TÄNAV', 'MAAKOND', 'ASULA'),\n",
    "                              output_ambiguous=True\n",
    "                              )\n",
    "tagger.tag(text)\n",
    "text.addresses_4"
   ]
  },
  {
   "cell_type": "markdown",
   "metadata": {},
   "source": [
    "## MSEQ rules\n",
    "MSEQ rule matches the maximal of the symbol sequences."
   ]
  },
  {
   "cell_type": "code",
   "execution_count": 16,
   "metadata": {},
   "outputs": [
    {
     "data": {
      "text/html": [
       "<h4>Layer</h4>\n",
       "<table border=\"1\" class=\"dataframe\">\n",
       "  <thead>\n",
       "    <tr style=\"text-align: right;\">\n",
       "      <th>layer name</th>\n",
       "      <th>attributes</th>\n",
       "      <th>parent</th>\n",
       "      <th>enveloping</th>\n",
       "      <th>ambiguous</th>\n",
       "      <th>span count</th>\n",
       "    </tr>\n",
       "  </thead>\n",
       "  <tbody>\n",
       "    <tr>\n",
       "      <td>addresses_4</td>\n",
       "      <td>INDEKS, grammar_symbol, MAJA, TÄNAV, MAAKOND, ASULA</td>\n",
       "      <td>None</td>\n",
       "      <td>address_parts</td>\n",
       "      <td>True</td>\n",
       "      <td>1</td>\n",
       "    </tr>\n",
       "  </tbody>\n",
       "</table>\n",
       "<table border=\"1\" class=\"dataframe\">\n",
       "  <thead>\n",
       "    <tr style=\"text-align: right;\">\n",
       "      <th>text</th>\n",
       "      <th>INDEKS</th>\n",
       "      <th>grammar_symbol</th>\n",
       "      <th>MAJA</th>\n",
       "      <th>TÄNAV</th>\n",
       "      <th>MAAKOND</th>\n",
       "      <th>ASULA</th>\n",
       "    </tr>\n",
       "  </thead>\n",
       "  <tbody>\n",
       "    <tr>\n",
       "      <td>['Tartu', 'Veski', '3', '5', '7']</td>\n",
       "      <td></td>\n",
       "      <td>ADDRESS</td>\n",
       "      <td>['3', '5', '7']</td>\n",
       "      <td>Veski</td>\n",
       "      <td></td>\n",
       "      <td>Tartu</td>\n",
       "    </tr>\n",
       "  </tbody>\n",
       "</table>"
      ],
      "text/plain": [
       "Layer(name=addresses_4, spans=SL[AS[ES[AS[Span(Tartu, {'grammar_symbol': 'ASULA', 'type': 'asula'}), Span(Tartu, {'grammar_symbol': 'TÄNAV', 'type': 'tänav'})],\n",
       "AS[Span(Veski, {'grammar_symbol': 'ASULA', 'type': 'asula'}), Span(Veski, {'grammar_symbol': 'ASULA', 'type': 'asula'}), Span(Veski, {'grammar_symbol': 'TÄNAV', 'type': 'tänav'})],\n",
       "AS[Span(3, {'grammar_symbol': 'MAJA', 'type': None})],\n",
       "AS[Span(5, {'grammar_symbol': 'MAJA', 'type': None})],\n",
       "AS[Span(7, {'grammar_symbol': 'MAJA', 'type': None})]]]])"
      ]
     },
     "execution_count": 16,
     "metadata": {},
     "output_type": "execute_result"
    }
   ],
   "source": [
    "def address_decorator(nodes):\n",
    "    asula = ''\n",
    "    maakond = ''\n",
    "    t2nav = ''\n",
    "    indeks = ''\n",
    "    maja = ''\n",
    "    for node in nodes:\n",
    "        if node.name == 'ASULA':\n",
    "            asula = node.text#[0]\n",
    "        elif node.name == 'TÄNAV':\n",
    "            t2nav = node.text#[0]\n",
    "        elif node.name == 'MAAKOND':\n",
    "            maakond = node.text#[0]\n",
    "        elif node.name == 'MAJA':\n",
    "            maja = node.text#[0]\n",
    "        elif node.name == 'MSEQ(MAJA)':\n",
    "            maja = [n.text for n in node.support]\n",
    "        elif node.name == 'INDEKS':\n",
    "            indeks = node.text#[0]\n",
    "    return {'grammar_symbol': 'ADDRESS',\n",
    "            'ASULA': asula,\n",
    "            'TÄNAV': t2nav,\n",
    "            'INDEKS': indeks,\n",
    "            'MAAKOND': maakond,\n",
    "            'MAJA': maja}\n",
    "\n",
    "text = Text('Veekatkestus Tartu Veski tänava majades 3, 5, 7.').tag_layer(['words'])\n",
    "address_part_tagger.tag(text)\n",
    "\n",
    "grammar = Grammar(start_symbols=['ADDRESS'],\n",
    "                  legal_attributes=['INDEKS', 'grammar_symbol', 'MAJA', 'TÄNAV', 'MAAKOND', 'ASULA']\n",
    "                  )\n",
    "def scoring(node):\n",
    "    return len(node[2].support)\n",
    "\n",
    "grammar.add_rule('ADDRESS', 'ASULA TÄNAV MSEQ(MAJA)', group='g0', priority=3, decorator=address_decorator, scoring=scoring)\n",
    "tagger = GrammarParsingTagger(grammar=grammar,\n",
    "                              layer_of_tokens='address_parts',\n",
    "                              name_attribute='grammar_symbol',\n",
    "                              layer_name='addresses_4',\n",
    "                              attributes=('INDEKS', 'grammar_symbol', 'MAJA', 'TÄNAV', 'MAAKOND', 'ASULA'),\n",
    "                              output_ambiguous=True\n",
    "                              )\n",
    "tagger.tag(text)\n",
    "text.addresses_4"
   ]
  }
 ],
 "metadata": {
  "anaconda-cloud": {},
  "kernelspec": {
   "display_name": "Python 3",
   "language": "python",
   "name": "python3"
  },
  "language_info": {
   "codemirror_mode": {
    "name": "ipython",
    "version": 3
   },
   "file_extension": ".py",
   "mimetype": "text/x-python",
   "name": "python",
   "nbconvert_exporter": "python",
   "pygments_lexer": "ipython3",
   "version": "3.5.4"
  }
 },
 "nbformat": 4,
 "nbformat_minor": 2
}
