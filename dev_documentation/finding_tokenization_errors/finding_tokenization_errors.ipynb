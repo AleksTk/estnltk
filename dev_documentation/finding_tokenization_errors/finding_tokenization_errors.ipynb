{
 "cells": [
  {
   "cell_type": "markdown",
   "metadata": {},
   "source": [
    "## Finding potential tokenization errors\n",
    "\n",
    "The module `estnltk.taggers.text_segmentation.annotation_validation` contains heuristic functions that can be used to detect tokenization errors. If you need to apply EstNLTK on a corpus from a specific domain, you may find these functions useful for discovering potential issues in tokenization. \n",
    "\n",
    "All of the functions have a similar interface: they take `Text` object as an input, analyse its tokenization (tokenization annotations must be present), and yield dictionary objects, describing locations of potentially problematic tokenizations. Here, we provide a minute overview of the functions. For detailed descriptions, see the documentation in [`annotation_validation.py`](https://github.com/estnltk/estnltk/blob/devel_1.6/estnltk/taggers/text_segmentation/annotation_validation.py).\n",
    "\n",
    "* `find_sentence_breaks_inside_parentheses_generator( text: 'Text' )` -- detects sequences of sentences in which the first sentence contains '(', and the last sentence contains ')', thus, it is possible that a single sentence containing parentheses has been broken mistakenly into several sentences;\n",
    "\n",
    "\n",
    "* `find_sentence_breaks_inside_double_quotes_generator( text: 'Text' )` -- detects sequences of sentences in which the first sentence contains starting double quotes, and the last sentence contains ending double quotes, thus, it is possible that a single sentence containing quotes has been broken mistakenly into several sentences;\n",
    "\n",
    "\n",
    "* `find_sentence_breaking_abbreviations_generator( text: 'Text' )` -- detects pairs of sentences in which the first sentence ends with a potential abbreviation (a word ending with a period), and the second sentence has a prefix which is unlikely a sentence start (a word starting with lowercase letter, or with punctuation). Thus, it is possible that the pair represents a single sentence mistakenly split into two sentences;\n",
    "\n",
    "\n",
    "* `find_short_sentences_generator( text: 'Text' )` -- yields sentences which are \"suspiciously short\", that is, contain less  than 2 words (the minimal value can be changed). It is possible that short sentences are parts of a longer sentence that has been mistakenly split into pieces;\n",
    "\n",
    "\n",
    "* `find_sentences_containing_paragraphs_generator( text: 'Text' )` -- yields sentences which contain more than 3 paragraph markers ('\\n\\n'). It is possible that such sentences consist of (many) smaller sentences mistakenly joined together;\n",
    "\n",
    "\n",
    "* `find_camel_case_word_pairs_generator( text: 'Text' )` -- yields camel case words (such  as \"EessõnaEsimese\"), along with the subwords they consist of (e.g. \"EessõnaEsimese\" ==> [\"Eessõna\",\"Esimese\"]). Note that a camel case string may point to a typographical error (missing whitespace between words), but it may also be legal word, such as in names \"iPhone\", \"eBay\". The current method does not attempt to distinguish between the latter two cases;"
   ]
  }
 ],
 "metadata": {
  "kernelspec": {
   "display_name": "Python 3",
   "language": "python",
   "name": "python3"
  },
  "language_info": {
   "codemirror_mode": {
    "name": "ipython",
    "version": 3
   },
   "file_extension": ".py",
   "mimetype": "text/x-python",
   "name": "python",
   "nbconvert_exporter": "python",
   "pygments_lexer": "ipython3",
   "version": "3.5.4"
  }
 },
 "nbformat": 4,
 "nbformat_minor": 2
}
