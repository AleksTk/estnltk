{
 "cells": [
  {
   "cell_type": "markdown",
   "metadata": {
    "collapsed": true
   },
   "source": [
    "# Import tokenization patterns from etTenTen patterns\n",
    "\n",
    "The file `ettenten_patterns.py` is downloaded from [https://github.com/kristiinavaik/ettenten-eeltootlus](https://github.com/kristiinavaik/ettenten-eeltootlus)."
   ]
  },
  {
   "cell_type": "code",
   "execution_count": 1,
   "metadata": {},
   "outputs": [],
   "source": [
    "from ettenten_patterns import PATTERNS"
   ]
  },
  {
   "cell_type": "code",
   "execution_count": 2,
   "metadata": {},
   "outputs": [
    {
     "name": "stdout",
     "output_type": "stream",
     "text": [
      "<function PATT_16 at 0x7fc26941a620> None\n"
     ]
    }
   ],
   "source": [
    "# NBVAL_IGNORE_OUTPUT\n",
    "patterns_and_replacements = []\n",
    "\n",
    "for pattern, replacement in PATTERNS:\n",
    "    if isinstance(replacement, str):\n",
    "        patterns_and_replacements.append((pattern.pattern.strip(), replacement))\n",
    "    else:\n",
    "        print (pattern, replacement)\n",
    "# üks musteritest (PATT_16) on hoopis funktsioon"
   ]
  },
  {
   "cell_type": "code",
   "execution_count": 3,
   "metadata": {},
   "outputs": [
    {
     "data": {
      "text/plain": [
       "89"
      ]
     },
     "execution_count": 3,
     "metadata": {},
     "output_type": "execute_result"
    }
   ],
   "source": [
    "len(patterns_and_replacements)"
   ]
  },
  {
   "cell_type": "code",
   "execution_count": 4,
   "metadata": {},
   "outputs": [
    {
     "name": "stdout",
     "output_type": "stream",
     "text": [
      "['<+/>', '</doc>', '</ignore>', '</p>', '</s>', '<>', '<\\\\+/>', '<\\\\+[^:]+:<\\\\+/>', '<]+)</s>', '<a>', '<b>', '<ignore>', '<p[^>', '<s>']\n",
      "['<+/>', '</ignore>', '</s>', '<ignore>', '<s>']\n"
     ]
    }
   ],
   "source": [
    "import re\n",
    "# vaatame millised tagid esinevad mustrite ja asenduste sees\n",
    "pattern_tag_set = set()\n",
    "replace_tag_set = set()\n",
    "for p, r in patterns_and_replacements:\n",
    "    for tag in re.finditer('<.*?>', p):\n",
    "        pattern_tag_set.add(tag.group())\n",
    "    for tag in re.finditer('<.*?>', r):\n",
    "        replace_tag_set.add(tag.group())\n",
    "print(sorted(pattern_tag_set))\n",
    "print(sorted(replace_tag_set))"
   ]
  },
  {
   "cell_type": "code",
   "execution_count": 5,
   "metadata": {},
   "outputs": [
    {
     "name": "stdout",
     "output_type": "stream",
     "text": [
      "(\\d+)\\s?(±)\\s?((<+/>)?\\d+)\n"
     ]
    }
   ],
   "source": [
    "# mustrid, mis sisaldavad <+/>\n",
    "for p, r in patterns_and_replacements:\n",
    "    if '<+/>' in p:\n",
    "        print(p)"
   ]
  },
  {
   "cell_type": "code",
   "execution_count": 6,
   "metadata": {
    "scrolled": false
   },
   "outputs": [
    {
     "name": "stdout",
     "output_type": "stream",
     "text": [
      "pattern:\n",
      "(\\d+)\\s(\\.\\.\\.)\\s(\\d+)\n",
      "replacement: \\1<+/>\\2<+/>\\3\n",
      "--------------------------------------------------------------------------\n",
      "pattern:\n",
      "((\\s|\\s?[-–+]|<\\+/>)\\d+±?)\\s((?![0-9]+:)\\d+(,\\d+)?(\\s|<\\+/>|\\.)(?!aasta))\n",
      "replacement: \\1<+/>\\3\n",
      "--------------------------------------------------------------------------\n",
      "pattern:\n",
      "(\\d+<\\+/>\\d+)\\s\n",
      "    (\\d+(<\\+/>\\d+(<\\+/>\\d+)?)?)\n",
      "replacement: \\1<+/>\\2\n",
      "--------------------------------------------------------------------------\n",
      "pattern:\n",
      "(\\d+)\\s?(±)\\s?((<+/>)?\\d+)\n",
      "replacement: \\1<+/>\\2<+/>\\3\n",
      "--------------------------------------------------------------------------\n",
      "pattern:\n",
      "([0-9]+)\\s\n",
      "    ([–-])\\s?\n",
      "    ((?![0-9]+:)[0-9]+%?)\n",
      "replacement: \\1<+/>\\2<+/>\\3\n",
      "--------------------------------------------------------------------------\n",
      "pattern:\n",
      "(\\s[A-ZÕÜÖÄ][A-ZÕÜÖÄa-zõüöä]*)   # mistahes mittetühik\n",
      "    \\s         # kuni tühik\n",
      "    (&amp;)\\s  # ampersand ja kogu järgnev tühikuni\n",
      "    ([A-ZÕÜÖÄ])\n",
      "replacement: \\1<+/>\\2<+/>\\3\n",
      "--------------------------------------------------------------------------\n",
      "pattern:\n",
      "((<\\+/>)?\\d+([,–.]|<\\+/>)?\\d*\\^?-?|½)\\s\n",
      "    (?!j[au]|[oO]n|ca\\s|\\d{4}|a|e\\.|[Ee][id]|[tTMm]a|[mn]e|[ksg]a\\s|Nr\\s|lk.|vs\\s|pr\\.|jm\\.\\s|jt\\.?|jj\\.|in|Ja\\s|Et\\s|öö\\s|kl\\s|st\\s|ni\\s)\n",
      "    (([a-zõüöäμ]{1,2}[0-9.\\-]?%?³?²?|[a-zõüöä][A-ZÕÜÖÄ]{1,2}[a-zõüöä]?|[A-ZÕÜÖÄ][a-zõüöä]|[°º0o]C|C°|min|μM|spl|MHz|EEK|eur|eek|sec|\\$|€|fps|kcal|m\\^2)(\\s|\\s?-[a-zõüöä]{1,2}\\s|/))\n",
      "replacement: \\1<+/>\\4\n",
      "--------------------------------------------------------------------------\n",
      "pattern:\n",
      "((\\s|<\\+/>)(\\d+,)?\\d{1,3}\\.?)\\s(a\\.?\\s)\n",
      "replacement: \\1<+/>\\4\n",
      "--------------------------------------------------------------------------\n",
      "pattern:\n",
      "(\\d+[.%]?)\\s?\n",
      "    ([-–*])\\s\n",
      "    ((?![0-9]+:)\\d+[.%]?)\n",
      "replacement: \\1<+/>\\2<+/>\\3\n",
      "--------------------------------------------------------------------------\n",
      "pattern:\n",
      "(\\d+)\\s?(\\.?)\n",
      "    ([-–])\\s\n",
      "    ((?![0-9]+:)\\d+)\\s?(\\.?)\n",
      "replacement: \\1\\2<+/>\\3<+/>\\4\\5\n",
      "--------------------------------------------------------------------------\n",
      "pattern:\n",
      "((?!P\\.)[A-ZÕÜÖÄ][a-zõüöä]?)   # initsiaalid, millele võib\n",
      "    \\s?\\.\\s?                 # tühikute vahel järgneda punkt\n",
      "    ((?!S\\.)[A-ZÕÜÖÄ][a-zõüöä]?)   # initsiaalid, millele võib\n",
      "    \\s?\\.\\s?       # tühikute vahel järgneda punkt\n",
      "    ((\\.[A-ZÕÜÖÄ]\\.)?[A-ZÕÜÖÄ][a-zõüöä]+)   # perekonnanimi\n",
      "replacement: \\1.\\2.<+/>\\3\n",
      "--------------------------------------------------------------------------\n",
      "pattern:\n",
      "(\\s(?!Hr|Pr|Dr|Mrs?|Sm|Nn|Lp|Nt|Jr)[A-ZÕÜÖÄ][a-zõüöä]?)   # initsiaalid, millele võib\n",
      "    \\s?\\.\\s                 # tühikute vahel järgneda punkt\n",
      "    ((?!Ja|Ei)[A-ZÕÜÖÄ][a-zõüöä]+)   # perekonnanimi\n",
      "replacement: \\1.<+/>\\2\n",
      "--------------------------------------------------------------------------\n",
      "pattern:\n",
      "((\\s|>)\\d+)\\s:\\s?(\\d+)\n",
      "replacement: \\1<+/>:<+/>\\3\n",
      "--------------------------------------------------------------------------\n",
      "pattern:\n",
      "([0-9]+)\\s\n",
      "    (x|×)\\s\n",
      "    ([0-9]+)\n",
      "replacement: \\1<+/>\\2<+/>\\3\n",
      "--------------------------------------------------------------------------\n",
      "pattern:\n",
      "([0-9])\\s([+=≈])\\s([+–-]?[0-9])\n",
      "replacement: \\1<+/>\\2<+/>\\3\n",
      "--------------------------------------------------------------------------\n",
      "pattern:\n",
      "([\\s>][xX*])\\s([0-9])\n",
      "replacement: \\1<+/>\\2\n",
      "--------------------------------------------------------------------------\n",
      "pattern:\n",
      "(\\s[a-zõüöäA-ZÕÜÖÄ])\\s([=≈])\\s(-?[0-9])\n",
      "replacement: \\1<+/>\\2<+/>\\3\n",
      "--------------------------------------------------------------------------\n",
      "pattern:\n",
      "(\\s[A-ZÕÜÖÄ])\\s([0-9]+\\s)\n",
      "replacement: \\1<+/>\\2\n",
      "--------------------------------------------------------------------------\n",
      "pattern:\n",
      "((\\s|>)\\d+)\\s:\\s?(\\d+)\n",
      "replacement: \\1<+/>:<+/>\\3\n",
      "--------------------------------------------------------------------------\n",
      "pattern:\n",
      "(\\s?\\d+,?\\d*)\\s  # algab arvuga, mis võib olla täis- või ujukomaarv,\n",
      "    ([^\\s<]{1,3})\\s?       # millele järgneb vähemalt ühe korra miskit\n",
      "    /\\s?              # ja millele omakorda järgneb kaldkriips(/)\n",
      "    ([^\\s]{1,3}\\s)       # ja millele järgneb omakorda miskit\n",
      "replacement: \\1<+/>\\2/\\3\n",
      "--------------------------------------------------------------------------\n",
      "pattern:\n",
      "([-–][0-9]+)\\s([0-9]+<\\+/>)\n",
      "replacement: \\1<+/>\\2\n",
      "--------------------------------------------------------------------------\n"
     ]
    }
   ],
   "source": [
    "# asendused, mis sisaldavad '<+/>'\n",
    "for p, r in patterns_and_replacements:\n",
    "    if '<+/>' in r:\n",
    "        print('pattern:')\n",
    "        print(p)\n",
    "        print('replacement:', r)\n",
    "        print('--------------------------------------------------------------------------')"
   ]
  },
  {
   "cell_type": "code",
   "execution_count": 7,
   "metadata": {},
   "outputs": [
    {
     "name": "stdout",
     "output_type": "stream",
     "text": [
      "(<ignore>\\s)?\n",
      "    (\\(\\s\n",
      "        (\n",
      "            ([A-ZÕÜÖÄa-zõüöä0-9,-<>[]/]{1,3}|\\+)\\s?\n",
      "        )*\n",
      "    \\s\\))\n",
      "    (\\s</ignore>)?\n",
      "-------------------------------------------------------\n",
      "(<ignore>[^>]+?)\n",
      "        <ignore>\\s([^>]+?)\\s</ignore>\n",
      "    ([^>]+?</ignore>)\n",
      "-------------------------------------------------------\n",
      "(?P<a>\\s</ignore>\\s,\\s)\n",
      "    (?P<b><ignore>)\n",
      "-------------------------------------------------------\n",
      "([0-9a-zõüöäA-ZÕÜÖÄ])(</ignore>)\n",
      "-------------------------------------------------------\n",
      "(?P<a>\\s</ignore>\\sja\\s)\n",
      "    (?P<b><ignore>)\n",
      "-------------------------------------------------------\n",
      "(<ignore>\\s\\(\\s([A-ZÕÜÖÄa-zõüöä]+\\s)+\\.\\s)</s>\\s<s>\\s<ignore>\\s(\\d+\\s\\)\\s)</ignore>\\s(</ignore>)\n",
      "-------------------------------------------------------\n",
      "(<ignore>((?!<ignore>).)+)<ignore>\\s(((?!</ignore>).)+)\\s</ignore>(((?!</ignore>).)+</ignore>)\n",
      "-------------------------------------------------------\n",
      "(?P<a>\\s</ignore>\\s)\n",
      "    (?P<b><ignore>)\n",
      "-------------------------------------------------------\n",
      "(\\s[^\\s]+)(</?ignore)\n",
      "-------------------------------------------------------\n",
      "(ignore>)([^\\s]+\\s)\n",
      "-------------------------------------------------------\n"
     ]
    }
   ],
   "source": [
    "# mustrid, mis sisaldavad 'ignore'\n",
    "for p, r in patterns_and_replacements:\n",
    "    if 'ignore' in p:\n",
    "        print(p)\n",
    "        print('-------------------------------------------------------')"
   ]
  },
  {
   "cell_type": "code",
   "execution_count": 8,
   "metadata": {},
   "outputs": [
    {
     "name": "stdout",
     "output_type": "stream",
     "text": [
      "pattern:\n",
      "(\\([^)]+\\))?\n",
      "    (\\(              # viide algab suluga\n",
      "        (            # viite sees võivad olla\n",
      "            [^()]  # sümbolid, mis pole sulud\n",
      "        )+    # rekursiivselt analoogiline struktuur\n",
      "        \n",
      "    \\s?\\d+,?\\s?[a-zõüöäA-ZÕÜÖÄ%'\"\\]!]*  # arv (aasta)\n",
      "    (/\\d+)?[-']?\\s               # valikuline kaldkriipsuga aastaarv\n",
      "    (                       # valikulise grupi 2 algus\n",
      "        :\\s                 # koolon\n",
      "        \\d+                 # arvud, nt lk nr\n",
      "        ([-–]\\d+[\\.,]+)\\s     # kuni-märk ja arvud, nt lk 5-6\n",
      "    )?                      # grupi 2 lõpp\n",
      "    -?\\w*\\s?\\.?\\s?                     # lõpus tühik\n",
      "        # viide lõpeb aastaarvuga\n",
      "    \\))              # viide lõpeb suluga\n",
      "replacement: <ignore> \\2 </ignore>\n",
      "--------------------------------------------------------------------------\n",
      "pattern:\n",
      "(<ignore>\\s)?\n",
      "    (\\(\\s\n",
      "        (\n",
      "            ([A-ZÕÜÖÄa-zõüöä0-9,-<>[]/]{1,3}|\\+)\\s?\n",
      "        )*\n",
      "    \\s\\))\n",
      "    (\\s</ignore>)?\n",
      "replacement: <ignore> \\2 </ignore>\n",
      "--------------------------------------------------------------------------\n",
      "pattern:\n",
      "([^>])(\\s\\(\\s(\\d+\\s?\\.(\\s[a-zõüöä]+)?|[A-ZÕÜÖÄ]+\\s\\d+\\s?\\.)\\s\\))\n",
      "replacement: \\1 <ignore>\\2 </ignore>\n",
      "--------------------------------------------------------------------------\n",
      "pattern:\n",
      "([a-zõüöäA-ZÕÜÖÄ0-9]+\\s)(\\(\\s[A-ZÕÜÖÄ][a-zõüöä]+(-[A-ZÕÜÖÄ][a-zõüöä]+)?\\s?(,\\s[A-ZÕÜÖÄ][a-zõüöä]+\\s)?\\)\\s)\n",
      "replacement: \\1<ignore> \\2</ignore> \n",
      "--------------------------------------------------------------------------\n",
      "pattern:\n",
      "(</s>\\s<s>)(\\s[0-9]+\\s)(</s>\\s</p>)\n",
      "replacement: \\1 <ignore>\\2</ignore> \\3\n",
      "--------------------------------------------------------------------------\n",
      "pattern:\n",
      "(\\[\\s[0-9]+\\s\\])\n",
      "replacement: <ignore> \\1 </ignore>\n",
      "--------------------------------------------------------------------------\n",
      "pattern:\n",
      "(<p[^>]+>\\s)(<s>\\s[0-9]+\\s\\.\\s</s>)(\\s</p>)\n",
      "replacement: \\1<ignore> \\2 <ignore>\\3\n",
      "--------------------------------------------------------------------------\n",
      "pattern:\n",
      "(<s>\\s)(-?[0-9,%*]+)(\\s</s>\\s</p>)\n",
      "replacement: \\1<ignore> \\2 </ignore>\\3\n",
      "--------------------------------------------------------------------------\n",
      "pattern:\n",
      "(<s>\\s)([\\s.…0-9]+)(\\s</s>)\n",
      "replacement: \\1<ignore> \\2 </ignore>\\3\n",
      "--------------------------------------------------------------------------\n"
     ]
    }
   ],
   "source": [
    "# asendused, mis sisaldavad 'ignore'\n",
    "for p, r in patterns_and_replacements:\n",
    "    if 'ignore' in r:\n",
    "        print('pattern:')\n",
    "        print(p)\n",
    "        print('replacement:', r)\n",
    "        print('--------------------------------------------------------------------------')"
   ]
  },
  {
   "cell_type": "code",
   "execution_count": 9,
   "metadata": {},
   "outputs": [
    {
     "name": "stdout",
     "output_type": "stream",
     "text": [
      "\\1 \\2 </s> <s> \\3\n",
      "\\1\\2 </s> <s> \\3\n",
      "\\2\\1\n",
      "\\2\\1\n",
      "\\1\n",
      "\\1\n",
      "\\1\\3\\2\\4\n",
      "\\1\\3\\4\n",
      "\\1\\3\\2\n",
      "\\1\\3\\4\n",
      "\\1\\2\n",
      "\\1\\3\n",
      "\\1\\2\\3\\4\n",
      "\\2\\1 \\4\n",
      "\\1.\\2\n",
      "\\1\\2\n",
      "\\1\\2\\3\n",
      "\\1.\\2\n",
      "<ignore> \\2 </ignore>\n",
      "<ignore> \\2 </ignore>\n",
      "\\1\\2\\3\n",
      "\\1<+/>\\2<+/>\\3\n",
      "\\1<+/>\\3\n",
      "\\1<+/>\\2\n",
      "\\1<+/>\\2<+/>\\3\n",
      "\\1<+/>\\2<+/>\\3\n",
      "\\1\\2\n",
      "\\1.\\2.\\3\n",
      "\\1<+/>\\2<+/>\\3\n",
      "\\1\\2\\3\n",
      "\\1\\2\\3\n",
      "\\1<+/>\\4\n",
      "\\1<+/>\\4\n",
      "\\1\\2\n",
      "\\1<+/>\\2<+/>\\3\n",
      "\\1\\2<+/>\\3<+/>\\4\\5\n",
      "\\1\\2\n",
      "\\1.\\2.<+/>\\3\n",
      "\\1.<+/>\\2\n",
      "\\1 \\2\n",
      "\\1\\2\\3\\4\\5\n",
      "\\1<+/>:<+/>\\3\n",
      ",\n",
      "\\1 \\2\n",
      " ja\n",
      "\\1\\2\n",
      "\\1 \\2\n",
      "\\1<+/>\\2<+/>\\3\n",
      "\\1\\3\\4\n",
      "\\1 <ignore>\\2 </ignore>\n",
      "\\1 \\2\n",
      "\\1<ignore> \\2</ignore> \n",
      "\\1,\\2,\\3\n",
      "\\1\\3\\4\n",
      "\\1\\3\\5\n",
      "\\1<+/>\\2<+/>\\3\n",
      "\\1<+/>\\2\n",
      "\\1<+/>\\2<+/>\\3\n",
      "\\1<+/>\\2\n",
      "\\1<+/>:<+/>\\3\n",
      "\\1\\3\n",
      "\\1\\2\n",
      "\\1\\2\\3\n",
      "\\1\\2\\3\n",
      "\\1\\3\n",
      "\\1\\2\n",
      "\\1\\3\n",
      "\\1<+/>\\2/\\3\n",
      "\\1 <ignore>\\2</ignore> \\3\n",
      "<ignore> \\1 </ignore>\n",
      "\n",
      "\\1 \\2\n",
      "\\1<ignore> \\2 <ignore>\\3\n",
      "\\1<+/>\\2\n",
      "\\1\\2\\3[\\4]\\5\n",
      "\\1\\2\\3[\\4]\\5\n",
      "\\1[\\2]\\3\n",
      "\\1 \\2\n",
      "\\1 \\2\n",
      "\\1<ignore> \\2 </ignore>\\3\n",
      "\\1<ignore> \\2 </ignore>\\3\n",
      "\\1.\\2.\\3\n",
      "\\1.\\2.\\3\n",
      "\\1:\\2\\3\n",
      "\\1\\2\\3\n",
      "\n",
      "\\1\n",
      "\\1\n",
      "\\1\n"
     ]
    }
   ],
   "source": [
    "# nimekiri kõikidest asendustest\n",
    "for p, r in patterns_and_replacements:\n",
    "    print(r)"
   ]
  },
  {
   "cell_type": "code",
   "execution_count": 10,
   "metadata": {},
   "outputs": [
    {
     "data": {
      "text/plain": [
       "21"
      ]
     },
     "execution_count": 10,
     "metadata": {},
     "output_type": "execute_result"
    }
   ],
   "source": [
    "# asendused, mis sisaldavad '<+/>'\n",
    "len([r for p, r in patterns_and_replacements if '<+/>' in r])"
   ]
  },
  {
   "cell_type": "code",
   "execution_count": 11,
   "metadata": {},
   "outputs": [
    {
     "data": {
      "text/plain": [
       "9"
      ]
     },
     "execution_count": 11,
     "metadata": {},
     "output_type": "execute_result"
    }
   ],
   "source": [
    "# asendused, mis sisaldavad 'ignore'\n",
    "len([r for p, r in patterns_and_replacements if 'ignore' in r])"
   ]
  },
  {
   "cell_type": "code",
   "execution_count": 12,
   "metadata": {},
   "outputs": [
    {
     "data": {
      "text/plain": [
       "0"
      ]
     },
     "execution_count": 12,
     "metadata": {},
     "output_type": "execute_result"
    }
   ],
   "source": [
    "# asendused, mis sisaldavad '<+/>' ja 'ignore'\n",
    "len([r for p, r in patterns_and_replacements if '<+/>' in r and 'ignore' in r])"
   ]
  },
  {
   "cell_type": "code",
   "execution_count": 13,
   "metadata": {},
   "outputs": [
    {
     "data": {
      "text/plain": [
       "35"
      ]
     },
     "execution_count": 13,
     "metadata": {},
     "output_type": "execute_result"
    }
   ],
   "source": [
    "# mustrid, mis sisaldavad '<s>' või '</s>'\n",
    "len([p for p, r in patterns_and_replacements if '<s>' in p or '</s>' in p])"
   ]
  },
  {
   "cell_type": "code",
   "execution_count": 14,
   "metadata": {},
   "outputs": [],
   "source": [
    "import rstr\n",
    "import sys\n",
    "sys.modules['rstr.xeger'].STAR_PLUS_LIMIT = 2\n",
    "\n",
    "def examine_pattern(n, line):\n",
    "    '''abimees asendusreeglite uurimiseks\n",
    "    mõne reegliga rstr ei tööda\n",
    "    n - reegli number\n",
    "    line - suvaline string, millele reeglit rakendada\n",
    "    '''\n",
    "    r, s = PATTERNS[n]\n",
    "    print('pattern')\n",
    "    print(PATTERNS[n][0].pattern.strip())\n",
    "    compact_pattrern = re.sub('\\s*(#.*)?' , '',  PATTERNS[n][0].pattern)\n",
    "    separator = '-'*len(compact_pattrern)\n",
    "    print(separator)\n",
    "    print('compact_pattern')\n",
    "    print(compact_pattrern)\n",
    "    print(separator)\n",
    "    print('some examples')\n",
    "    print(re.sub('\\s', ' ', rstr.xeger(compact_pattrern)))\n",
    "    print(re.sub('\\s', ' ', rstr.xeger(compact_pattrern)))\n",
    "    print(re.sub('\\s', ' ', rstr.xeger(compact_pattrern)))\n",
    "    print(separator)\n",
    "    print('substitution')\n",
    "    print(PATTERNS[n][1])\n",
    "    print(separator)\n",
    "    result = r.sub(s, line)\n",
    "    print('line:  ', repr(line))\n",
    "    print('result:', repr(result))\n",
    "    print('result != line:', result != line)\n",
    "    print(separator)\n",
    "    print('line for testset')\n",
    "    print(\"('\" + line + \"', '\" + result + \"'), #\" + str(n))"
   ]
  },
  {
   "cell_type": "code",
   "execution_count": 15,
   "metadata": {},
   "outputs": [
    {
     "name": "stdout",
     "output_type": "stream",
     "text": [
      "pattern\n",
      "([-–][0-9]+)\\s([0-9]+<\\+/>)\n",
      "---------------------------\n",
      "compact_pattern\n",
      "([-–][0-9]+)\\s([0-9]+<\\+/>)\n",
      "---------------------------\n",
      "some examples\n",
      "–7 0<+/>\n",
      "-58 6<+/>\n",
      "-58 4<+/>\n",
      "---------------------------\n",
      "substitution\n",
      "\\1<+/>\\2\n",
      "---------------------------\n",
      "line:   '–86 70,9.'\n",
      "result: '–86 70,9.'\n",
      "result != line: False\n",
      "---------------------------\n",
      "line for testset\n",
      "('–86 70,9.', '–86 70,9.'), #74\n"
     ]
    }
   ],
   "source": [
    "# NBVAL_IGNORE_OUTPUT\n",
    "examine_pattern(74,  '–86 70,9.')"
   ]
  },
  {
   "cell_type": "code",
   "execution_count": 16,
   "metadata": {},
   "outputs": [],
   "source": [
    "testset = [\n",
    "           ('a..Aa', 'a .. </s> <s> Aa'), #0 kaks punkti on lause piir\n",
    "           ('a .Aa', 'a . </s> <s> Aa'), #1 tühik ja punkt on lause piir\n",
    "           ('</s> <s> ) . ', ') . </s> <s> '), #2 ümarsulg kinni lause alguses kuulub eelmise lause lõppu\n",
    "           ('</s> <s> ] ', '] </s> <s> '), #3 nurksulg kinni lause alguses kuulub eelmise lause lõppu\n",
    "           ('</s> <s> ) , ', ') , '), #4 kui lause algab sulu ja komaga, siis see pole uus lause\n",
    "           ('</s> <s> </s> <', '</s> <'), #5 tühja lause kustutamine\n",
    "           (' a . Aa </s> <s> a', ' a . </s> <s> Aa a'), #6 suurtähega sõna lause lõpus pärast punkti on järgmise lause algus\n",
    "           (' Hr . Aa </s> <s>', ' Hr. Aa'), #7 tiitel, punkt ja nimi ei ole lause lõpp\n",
    "           (' a . Aa , </s> <s>', ' a . </s> <s> Aa ,'), #8 suurtäht ja koma pärast punkti on järgmise lause algus\n",
    "           (' a - e ', ' a-e '), #9 käändelõpp sõne külge\n",
    "           (' so . </s> <s>', ' so.'), #10 'so.' ei ole lause lõpp\n",
    "           (' vrd . </s> <s>', ' vrd.'), #11 'vrd.' ei ole lause lõpp\n",
    "           (' ibid . a </s> <s> Lk. 1', ' ibid. a Lk. 1'), #12 ibid. ei ole lause lõpp\n",
    "           ('</s> a <s>', 'a </s> <s>'), #13 kui midagi on kahe lause vahel, siis see on eelmise lause lõpp\n",
    "           ('1 . </s> <s> a. ', '1.a. '), #14 1.a.\n",
    "           (' hrl . </s> <s>', ' hrl.'), #15 'hrl.' ei ole lause lõpp\n",
    "           (' Jr . </s> <s> , ', ' Jr. , '), #16 'Jr.' komaga ei ole lause lõpp\n",
    "           ('1 . </s> <s> aasta', '1. aasta'), #17 järgarv ja aasta käivad kokku\n",
    "           ('(a)(b , 2000 : lk 1-8. c 2002 . )', '<ignore> (b , 2000 : lk 1-8. c 2002 . ) </ignore>'), #18 viiteid ignoreeritakse\n",
    "           ('<ignore>  ( + ) </ignore>', '<ignore>  <ignore> ( + ) </ignore>'), #19\n",
    "           ('<ignore> a <ignore> a </ignore>a</ignore>', '<ignore> a aa</ignore>'), #20 pesastatud <ignore>\n",
    "           ('89 ... 4', '89<+/>...<+/>4'), #21 kolme punktiga eraldatud arvud kuuluvad kokku\n",
    "           ('<+/>61± 8,5.', '<+/>61±<+/>8,5.'), #22 sellele rakendub ka #24\n",
    "           ('53<+/>60 1', '53<+/>60<+/>1'), #23\n",
    "           ('9±92', '9<+/>±<+/>92'), #24\n",
    "           ('1 -34', '1<+/>-<+/>34'), #25\n",
    "           ('55 %a ', '55%a '), #26\n",
    "           ('6 .66 .27 ', '6.66.27 '), #27\n",
    "           (' A &amp; B', ' A<+/>&amp;<+/>B'), #28\n",
    "           ('2017. a. ', '2017.a. '), #29\n",
    "           (' 3 . 0 megavatti', ' 3.0 megavatti'), #30\n",
    "           ('4 kcal ', '4<+/>kcal '), #31\n",
    "           ('<+/>20,17. a. ', '<+/>20,17.<+/>a. '), #32\n",
    "           (' § -p ', ' §-p '), #33\n",
    "           ('35- 6%', '35<+/>-<+/>6%'), #34\n",
    "           ('9.- 5', '9.<+/>-<+/>5'), #35\n",
    "           ('2017 a ', '2017a '), #36\n",
    "           ('V .I. Lenin', 'V.I.<+/>Lenin'), #37\n",
    "           ('V . I . Lenin', 'V . I.<+/>Lenin'), #38\n",
    "           ('', None),#39 on funktsioon\n",
    "           ('5<+/>8-st', '5 8-st'), #40\n",
    "           ('8 ... 3 , 1', '8...3,1'), #41\n",
    "           ('>5 :13', '>5<+/>:<+/>13'), #42 avaldis jagamisega on üks sõne\n",
    "           (' </ignore> , <ignore>', ','), #43 üksikut koma ei ignoreeri\n",
    "           ('G</ignore>', 'G </ignore>'), #44 üksikut sümbolit pärast <ignore> tuleb ka ignoreerida\n",
    "           (' </ignore> ja <ignore>', ' ja'), #45 üksikut 'ja' ei ignoreei\n",
    "           ('<+/> 1', '<+/>1'), #46 '<+/>1' järel ei ole tühik\n",
    "           ('1234<+/>56.', '1234 56.'), #47\n",
    "           ('71 x 3', '71<+/>x<+/>3'), #48 korrutustehe on üks sõne\n",
    "           ('( 37-50 . </s> <s> aasta', '( 37-50. aasta'), #49 järgarvu punkt ei lõpeta lauset\n",
    "           ('u ( XD 4. )', 'u <ignore> ( XD 4. ) </ignore>'), #50\n",
    "           (')  +4', ') +4'), #51 topelttühiku eemaldus\n",
    "           ('Bla ( Lenin , Marx ) ', 'Bla <ignore> ( Lenin , Marx ) </ignore> '), #52 viite ignoreerimine\n",
    "           ('31 , 4<+e9:<+/>3 , 79', '31,4<+e9:<+/>3,79'), #53\n",
    "           ('<ignore> ( V d . </s> <s> <ignore> 3 ) </ignore> </ignore>', '<ignore> ( V d . 3 ) </ignore>'), #54 pesastatud <ignore>\n",
    "           ('<ignore> ( V d . </s> <s> <ignore> 3 ) </ignore> </ignore>', '<ignore> ( V d . </s> <s> 3 ) </ignore>'), #55 sarnane eelmisele\n",
    "           ('9 + -7', '9<+/>+<+/>-7'), #56 avaldis on üks sõne\n",
    "           (' x 2', ' x<+/>2'), #57 korrutamismärk kuulub arvuga kokku\n",
    "           (' h = -4', ' h<+/>=<+/>-4'), #58 avaldis on üks sõne\n",
    "           (' B 30 ', ' B<+/>30 '), #59 suurtäht ja arv kuuluvad kokku\n",
    "           ('> 6 :83 ', '> 6<+/>:<+/>83 '), #60 kordab #42\n",
    "           (' lüh. </s> <s>', ' lüh.'), #61 punkt lühendi lõpus ei ole lause lõpp\n",
    "           (' st . </s> <s>', ' st.'), #62 punkt lühendi lõpus ei ole lause lõpp\n",
    "           (' s . </s> <s> t. ', ' s.t. '), #63 punkt lühendi lõpus ei ole lause lõpp\n",
    "           (' tn. </s> <s> 0', ' tn. 0'), #64 punkt lühendi lõpus ei ole lause lõpp\n",
    "           (' Koost . </s> <s>', ' Koost.'), #65 punkt lühendi lõpus ei ole lause lõpp\n",
    "           (' Mrs . </s> <s>', ' Mrs.'), #66 punkt lühendi lõpus ei ole lause lõpp\n",
    "           (' tlk. </s> <s>', ' tlk.'), #67 punkt lühendi lõpus ei ole lause lõpp\n",
    "           ('27 km/ h ', '27<+/>km/h '), #68 arv koos murrulise mõõtühikuga on üks sõne\n",
    "           ('</s> <s> 1 </s> </p>', '</s> <s> <ignore> 1 </ignore> </s> </p>'), #69 ühest arvust koosnevat lauset paragrahvi lõpus ignoreeritakse\n",
    "           ('[ 1 ]', '<ignore> [ 1 ] </ignore>'), #70 nurksulgudes arvu ignoreeritakse\n",
    "           (' </ignore> <ignore>', ''), #71 kaks järjestikust ignore on üks ignore\n",
    "           ('28.detsemb', '28. detsemb'), #72 kuupäev koos kuu nimega on kaks eraldi sõne\n",
    "           ('<px> <s> 5 . </s> </p>', '<px> <ignore> <s> 5 . </s> <ignore> </p>'), #73 paragrahvi? ainsat (järg)arvust koosnevat lauset ignoreeritakse\n",
    "           ('-2 4<+/>', '-2<+/>4<+/>'), #74\n",
    "           (' nikita . </s> <s> h [ -at- ] kreml.ru', ' nikita.h[-at-]kreml.ru'), #75 punkt meiliaadressis pole lause lõpp\n",
    "           (' nikita . h </s> <s> [ -at- ] kreml.ru', ' nikita.h[-at-]kreml.ru'), #76 -at- meiliaadressis ei alusta uut lauset\n",
    "           (' nikita.h [ -at- ] kreml.ru', ' nikita.h[-at-]kreml.ru'), #77 meiliaadress on üks sõne\n",
    "           (' bla</ignore', ' bla </ignore'), #78 </ignore> märgendit eraldab tühik\n",
    "           ('ignore>bla ', 'ignore> bla '), #79 <ignore> märgendit eraldab tühik\n",
    "           ('<s> 99% </s> </p>', '<s> <ignore> 99% </ignore> </s> </p>'), #80 lühikese lause sisu paragrahvi lõpus ignoreeritakse\n",
    "           ('<s> 2. </s>', '<s> <ignore> 2. </ignore> </s>'), #81 lühikese lause sisu ignoreeritakse\n",
    "           (' /www . </s> <s> bla . </s> <s> ee', ' /www.bla.ee'), #82 veebiaadress on üks sõne, mitte mitu lauset\n",
    "           (' /www . </s> <s> bla . ee', ' /www.bla.ee'), #83 veebiaadress on üks sõne, mitte mitu lauset\n",
    "           ('http : /www ', 'http:/www '), #84 veebiaadress on üks sõne\n",
    "           ('www? / x ', 'www?/x '), #85\n",
    "           ('<p> <s> </s> </p>\\n', ''), #86 tühi paragrahv enne reavahetust kustutatakse\n",
    "           (' <s> </s> ', ' '), #87 tühi lause kustutatakse\n",
    "           ('<p??> </p> </doc>', '</doc>'), #88 tühi paragrahv dokumendi lõpus kustutatakse\n",
    "           ('</doc>\\n', '</doc>'), #89 dokumendi lõpus reavahetus eemaldatakse\n",
    "          ]\n",
    "\n",
    "# PATT_4_2 on listist PATTERNS välja jäetud\n",
    "# PATT_48 on topelt\n",
    "# PATT_3_4 sisaldab (<+/>), aga vist peaks olema (<\\+/>)\n",
    "\n",
    "# test PATTERNS\n",
    "for i, ((r, s), (line_1, line_2)) in enumerate(zip(PATTERNS, testset)):\n",
    "    if callable(r):\n",
    "        continue\n",
    "    result = r.sub(s, line_1)\n",
    "    assert line_2 == result, 'rule #' +str(i)+ '\\nexpected: ' + repr(line_2) + '\\nresult:   '+repr(result)"
   ]
  }
 ],
 "metadata": {
  "kernelspec": {
   "display_name": "Python 3",
   "language": "python",
   "name": "python3"
  },
  "language_info": {
   "codemirror_mode": {
    "name": "ipython",
    "version": 3
   },
   "file_extension": ".py",
   "mimetype": "text/x-python",
   "name": "python",
   "nbconvert_exporter": "python",
   "pygments_lexer": "ipython3",
   "version": "3.5.4"
  }
 },
 "nbformat": 4,
 "nbformat_minor": 2
}
