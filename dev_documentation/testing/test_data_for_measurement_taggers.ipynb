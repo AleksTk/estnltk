{
 "cells": [
  {
   "cell_type": "markdown",
   "metadata": {},
   "source": [
    "## Create test data for `RobustDateNumberTagger`"
   ]
  },
  {
   "cell_type": "code",
   "execution_count": 1,
   "metadata": {},
   "outputs": [],
   "source": [
    "from estnltk.core import rel_path\n",
    "from estnltk import Text\n",
    "from estnltk.taggers import TaggerTester\n",
    "from estnltk.taggers import RobustDateNumberTagger\n",
    "\n",
    "\n",
    "tagger = RobustDateNumberTagger(conflict_resolving_strategy='ALL')\n",
    "\n",
    "input_file = rel_path('tests/test_taggers/test_standard_taggers/robust_date_number_tagger_input.json')\n",
    "target_file = rel_path('tests/test_taggers/test_standard_taggers/robust_date_number_tagger_target.json')"
   ]
  },
  {
   "cell_type": "code",
   "execution_count": 2,
   "metadata": {},
   "outputs": [
    {
     "name": "stdout",
     "output_type": "stream",
     "text": [
      "Input texts file '../../estnltk/tests/test_taggers/test_standard_taggers/robust_date_number_tagger_input.json' already exists. Use 'overwrite=True' to overwrite.\n",
      "Target layers file '../../estnltk/tests/test_taggers/test_standard_taggers/robust_date_number_tagger_target.json' already exists. Use 'overwrite=True' to overwrite.\n"
     ]
    }
   ],
   "source": [
    "tester = TaggerTester(tagger, input_file=input_file, target_file=target_file)\n",
    "\n",
    "text = Text('')\n",
    "tester.add_test(annotation='empty_text', text=text, expected_text=[])\n",
    "\n",
    "text = Text('PSA 2012. 1,53')\n",
    "tester.add_test(annotation='test_1', text=text, expected_text=['2012', '1,53'])\n",
    "\n",
    "text = Text('PSA 12. 53')\n",
    "tester.add_test(annotation='test_2', text=text, expected_text=['12. ', '12. 53', '53'])\n",
    "\n",
    "tester.save_input()\n",
    "tester.save_target()"
   ]
  },
  {
   "cell_type": "markdown",
   "metadata": {},
   "source": [
    "### Run tests"
   ]
  },
  {
   "cell_type": "code",
   "execution_count": 3,
   "metadata": {},
   "outputs": [
    {
     "name": "stdout",
     "output_type": "stream",
     "text": [
      "empty_text PASSED\n",
      "test_1 PASSED\n",
      "test_2 PASSED\n"
     ]
    }
   ],
   "source": [
    "tagger = RobustDateNumberTagger(conflict_resolving_strategy='ALL')\n",
    "tester = TaggerTester(tagger, input_file, target_file).load()\n",
    "tester.run_tests()"
   ]
  },
  {
   "cell_type": "markdown",
   "metadata": {},
   "source": [
    "### Show tests"
   ]
  },
  {
   "cell_type": "code",
   "execution_count": 4,
   "metadata": {},
   "outputs": [
    {
     "data": {
      "text/html": [
       "<h3>Test</h3>\n",
       "test_1\n",
       "<h4>Input text</h4>\n",
       "PSA 2012. 1,53\n",
       "<h4>Expected layer</h4>\n",
       "<table border=\"1\" class=\"dataframe\">\n",
       "  <thead>\n",
       "    <tr style=\"text-align: right;\">\n",
       "      <th>layer name</th>\n",
       "      <th>attributes</th>\n",
       "      <th>parent</th>\n",
       "      <th>enveloping</th>\n",
       "      <th>ambiguous</th>\n",
       "      <th>span count</th>\n",
       "    </tr>\n",
       "  </thead>\n",
       "  <tbody>\n",
       "    <tr>\n",
       "      <td>dates_numbers</td>\n",
       "      <td>grammar_symbol, regex_type, value, _priority_</td>\n",
       "      <td>None</td>\n",
       "      <td>None</td>\n",
       "      <td>True</td>\n",
       "      <td>2</td>\n",
       "    </tr>\n",
       "  </tbody>\n",
       "</table>\n",
       "<table border=\"1\" class=\"dataframe\">\n",
       "  <thead>\n",
       "    <tr style=\"text-align: right;\">\n",
       "      <th>text</th>\n",
       "      <th>start</th>\n",
       "      <th>end</th>\n",
       "      <th>grammar_symbol</th>\n",
       "      <th>regex_type</th>\n",
       "      <th>value</th>\n",
       "      <th>_priority_</th>\n",
       "    </tr>\n",
       "  </thead>\n",
       "  <tbody>\n",
       "    <tr>\n",
       "      <td>2012</td>\n",
       "      <td>4</td>\n",
       "      <td>8</td>\n",
       "      <td>DATE</td>\n",
       "      <td>date9</td>\n",
       "      <td>partial_date</td>\n",
       "      <td>0</td>\n",
       "    </tr>\n",
       "    <tr>\n",
       "      <td>1,53</td>\n",
       "      <td>10</td>\n",
       "      <td>14</td>\n",
       "      <td>NUMBER</td>\n",
       "      <td>anynumber</td>\n",
       "      <td>1.53</td>\n",
       "      <td>1</td>\n",
       "    </tr>\n",
       "  </tbody>\n",
       "</table>"
      ],
      "text/plain": [
       "Test(test_1, Text(text=\"PSA 2012. 1,53\"))"
      ]
     },
     "execution_count": 4,
     "metadata": {},
     "output_type": "execute_result"
    }
   ],
   "source": [
    "tester.tests[1]"
   ]
  }
 ],
 "metadata": {
  "kernelspec": {
   "display_name": "Python 3",
   "language": "python",
   "name": "python3"
  },
  "language_info": {
   "codemirror_mode": {
    "name": "ipython",
    "version": 3
   },
   "file_extension": ".py",
   "mimetype": "text/x-python",
   "name": "python",
   "nbconvert_exporter": "python",
   "pygments_lexer": "ipython3",
   "version": "3.5.4"
  }
 },
 "nbformat": 4,
 "nbformat_minor": 2
}
