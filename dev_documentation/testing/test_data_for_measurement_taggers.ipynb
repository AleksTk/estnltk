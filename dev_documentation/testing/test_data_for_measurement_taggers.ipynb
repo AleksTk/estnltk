{
 "cells": [
  {
   "cell_type": "markdown",
   "metadata": {},
   "source": [
    "## Create test data for `RobustDateNumberTagger`"
   ]
  },
  {
   "cell_type": "code",
   "execution_count": 1,
   "metadata": {},
   "outputs": [
    {
     "name": "stdout",
     "output_type": "stream",
     "text": [
      "Input texts file '../../estnltk/tests/test_taggers/test_standard_taggers/robust_date_number_tagger_input.json' already exists. Use 'overwrite=True' to overwrite.\n",
      "Target layers file '../../estnltk/tests/test_taggers/test_standard_taggers/robust_date_number_tagger_target.json' already exists. Use 'overwrite=True' to overwrite.\n"
     ]
    }
   ],
   "source": [
    "from estnltk.core import rel_path\n",
    "from estnltk import Text\n",
    "from estnltk.taggers import TaggerTester\n",
    "from estnltk.taggers import RobustDateNumberTagger\n",
    "\n",
    "\n",
    "tagger = RobustDateNumberTagger(conflict_resolving_strategy='ALL')\n",
    "\n",
    "\n",
    "input_file = rel_path('tests/test_taggers/test_standard_taggers/robust_date_number_tagger_input.json')\n",
    "target_file = rel_path('tests/test_taggers/test_standard_taggers/robust_date_number_tagger_target.json')\n",
    "\n",
    "tester = TaggerTester(tagger, input_file=input_file, target_file=target_file)\n",
    "\n",
    "text = Text('')\n",
    "tester.add_test(annotation='empty_text', text=text, expected_text=[])\n",
    "\n",
    "text = Text('PSA 2012. 1,53')\n",
    "tester.add_test(annotation='test_1', text=text, expected_text=['2012', '1,53'])\n",
    "\n",
    "text = Text('PSA 12. 53')\n",
    "tester.add_test(annotation='test_2', text=text, expected_text=['12. ', '12. 53', '53'])\n",
    "\n",
    "tester.save_input()\n",
    "tester.save_target()"
   ]
  },
  {
   "cell_type": "markdown",
   "metadata": {},
   "source": [
    "### Run tests"
   ]
  },
  {
   "cell_type": "code",
   "execution_count": 2,
   "metadata": {},
   "outputs": [
    {
     "name": "stdout",
     "output_type": "stream",
     "text": [
      "empty_text PASSED\n",
      "test_1 PASSED\n",
      "test_2 PASSED\n"
     ]
    }
   ],
   "source": [
    "tagger = RobustDateNumberTagger(conflict_resolving_strategy='ALL')\n",
    "tester = TaggerTester(tagger, input_file, target_file).load()\n",
    "tester.run_tests()"
   ]
  }
 ],
 "metadata": {
  "kernelspec": {
   "display_name": "Python 3",
   "language": "python",
   "name": "python3"
  },
  "language_info": {
   "codemirror_mode": {
    "name": "ipython",
    "version": 3
   },
   "file_extension": ".py",
   "mimetype": "text/x-python",
   "name": "python",
   "nbconvert_exporter": "python",
   "pygments_lexer": "ipython3",
   "version": "3.5.4"
  }
 },
 "nbformat": 4,
 "nbformat_minor": 2
}
