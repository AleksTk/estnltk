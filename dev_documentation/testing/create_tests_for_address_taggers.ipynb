{
 "cells": [
  {
   "cell_type": "markdown",
   "metadata": {},
   "source": [
    "# Create tests for address taggers"
   ]
  },
  {
   "cell_type": "markdown",
   "metadata": {},
   "source": [
    "## Old style test creation\n",
    "### Test AddressPartTagger"
   ]
  },
  {
   "cell_type": "code",
   "execution_count": 1,
   "metadata": {},
   "outputs": [
    {
     "name": "stdout",
     "output_type": "stream",
     "text": [
      "File 'test_address_part_tagger.py' already exists. Use 'overwrite=True' to overwrite.\n"
     ]
    }
   ],
   "source": [
    "from estnltk import Text\n",
    "from estnltk.taggers import make_tagger_test\n",
    "from estnltk.core import rel_path\n",
    "\n",
    "tagger_creation = \"\"\"from estnltk.taggers import AddressPartTagger\n",
    "\n",
    "tagger = AddressPartTagger()\n",
    "\"\"\"\n",
    "text = Text('Rävala 5, Tallinn').tag_layer(['words'])\n",
    "del text.tokens\n",
    "\n",
    "expected_layer_text = ['Rävala', '5', 'Tallinn']\n",
    "annotation = 'AddressTagger test'\n",
    "test_file = rel_path('tests/test_taggers/test_standard_taggers/test_address_part_tagger.py')\n",
    "\n",
    "make_tagger_test(tagger_creation, text, expected_layer_text, test_file, annotation, overwrite=False)"
   ]
  },
  {
   "cell_type": "markdown",
   "metadata": {},
   "source": [
    "### Test AddressGrammarTagger"
   ]
  },
  {
   "cell_type": "code",
   "execution_count": 2,
   "metadata": {},
   "outputs": [
    {
     "name": "stdout",
     "output_type": "stream",
     "text": [
      "File 'test_address_grammar_tagger.py' already exists. Use 'overwrite=True' to overwrite.\n"
     ]
    }
   ],
   "source": [
    "from estnltk import Text\n",
    "from estnltk.taggers import AddressPartTagger\n",
    "from estnltk.taggers import make_tagger_test\n",
    "from estnltk.core import rel_path\n",
    "\n",
    "part_tagger = AddressPartTagger()\n",
    "\n",
    "tagger_creation = \"\"\"from estnltk.taggers import AddressGrammarTagger\n",
    "\n",
    "tagger = AddressGrammarTagger()\n",
    "\"\"\"\n",
    "\n",
    "text = Text('Rävala 5, Tallinn').tag_layer(['words'])\n",
    "part_tagger.tag(text)\n",
    "del text.tokens\n",
    "\n",
    "expected_layer_text = ['Rävala', '5', 'Tallinn']\n",
    "annotation = 'AddressGrammarTagger test'\n",
    "test_file = rel_path('tests/test_taggers/test_standard_taggers/test_address_grammar_tagger.py')\n",
    "\n",
    "make_tagger_test(tagger_creation, text, expected_layer_text, test_file, annotation, overwrite=False)"
   ]
  },
  {
   "cell_type": "markdown",
   "metadata": {},
   "source": [
    "## New style test creation\n",
    "### Test AddressGrammarTagger"
   ]
  },
  {
   "cell_type": "code",
   "execution_count": 3,
   "metadata": {},
   "outputs": [
    {
     "name": "stdout",
     "output_type": "stream",
     "text": [
      "File 'address_grammar_tagger_input.json' already exists. Use 'overwrite=True' to overwrite.\n"
     ]
    }
   ],
   "source": [
    "from estnltk import Text\n",
    "from estnltk.core import rel_path\n",
    "from estnltk.taggers import make_tagger_test_files\n",
    "\n",
    "from estnltk.taggers import AddressPartTagger\n",
    "from estnltk.taggers import AddressGrammarTagger\n",
    "\n",
    "part_tagger = AddressPartTagger()\n",
    "\n",
    "tagger = AddressGrammarTagger()\n",
    "text = Text('Rävala 5, Tallinn').tag_layer(['words'])\n",
    "part_tagger.tag(text)\n",
    "del text.tokens\n",
    "\n",
    "input_text_file = rel_path('tests/test_taggers/test_standard_taggers/address_grammar_tagger_input.json')\n",
    "expected_text_file = rel_path('tests/test_taggers/test_standard_taggers/address_grammar_tagger_expected.json')\n",
    "\n",
    "make_tagger_test_files(input_text=text,\n",
    "                       tagger=tagger,\n",
    "                       expected_layer_text=['Rävala', '5', 'Tallinn'],\n",
    "                       input_text_file=input_text_file,\n",
    "                       expected_text_file=expected_text_file,\n",
    "                       overwrite=False)"
   ]
  },
  {
   "cell_type": "markdown",
   "metadata": {},
   "source": [
    "### The pytest file example"
   ]
  },
  {
   "cell_type": "code",
   "execution_count": 4,
   "metadata": {},
   "outputs": [],
   "source": [
    "from estnltk.core import rel_path\n",
    "from estnltk.taggers import test_tagger\n",
    "from estnltk.taggers import AddressGrammarTagger\n",
    "\n",
    "tagger = AddressGrammarTagger()\n",
    "\n",
    "input_text_file = rel_path('tests/test_taggers/test_standard_taggers/address_grammar_tagger_input.json')\n",
    "expected_text_file = rel_path('tests/test_taggers/test_standard_taggers/address_grammar_tagger_expected.json')\n",
    "\n",
    "test_tagger(tagger=tagger,\n",
    "            input_text_file=input_text_file,\n",
    "            expected_text_file=expected_text_file,\n",
    "            annotation='AddressGrammarTAgger test')"
   ]
  }
 ],
 "metadata": {
  "kernelspec": {
   "display_name": "Python 3",
   "language": "python",
   "name": "python3"
  },
  "language_info": {
   "codemirror_mode": {
    "name": "ipython",
    "version": 3
   },
   "file_extension": ".py",
   "mimetype": "text/x-python",
   "name": "python",
   "nbconvert_exporter": "python",
   "pygments_lexer": "ipython3",
   "version": "3.5.4"
  }
 },
 "nbformat": 4,
 "nbformat_minor": 2
}
