{
 "cells": [
  {
   "cell_type": "markdown",
   "metadata": {},
   "source": [
    "# Create tests for address taggers"
   ]
  },
  {
   "cell_type": "markdown",
   "metadata": {},
   "source": [
    "## Old style test creation\n",
    "### Test AddressPartTagger"
   ]
  },
  {
   "cell_type": "code",
   "execution_count": 1,
   "metadata": {},
   "outputs": [
    {
     "name": "stdout",
     "output_type": "stream",
     "text": [
      "File 'test_address_part_tagger.py' already exists. Use 'overwrite=True' to overwrite.\n"
     ]
    }
   ],
   "source": [
    "from estnltk import Text\n",
    "from estnltk.taggers import make_tagger_test\n",
    "from estnltk.core import rel_path\n",
    "\n",
    "tagger_creation = \"\"\"from estnltk.taggers import AddressPartTagger\n",
    "\n",
    "tagger = AddressPartTagger()\n",
    "\"\"\"\n",
    "text = Text('Rävala 5, Tallinn').tag_layer(['words'])\n",
    "del text.tokens\n",
    "\n",
    "expected_layer_text = ['Rävala', '5', 'Tallinn']\n",
    "annotation = 'AddressTagger test'\n",
    "test_file = rel_path('tests/test_taggers/test_standard_taggers/test_address_part_tagger.py')\n",
    "\n",
    "make_tagger_test(tagger_creation, text, expected_layer_text, test_file, annotation, overwrite=False)"
   ]
  },
  {
   "cell_type": "markdown",
   "metadata": {},
   "source": [
    "### Test AddressGrammarTagger"
   ]
  },
  {
   "cell_type": "code",
   "execution_count": 2,
   "metadata": {},
   "outputs": [
    {
     "name": "stdout",
     "output_type": "stream",
     "text": [
      "File 'test_address_grammar_tagger.py' already exists. Use 'overwrite=True' to overwrite.\n"
     ]
    }
   ],
   "source": [
    "from estnltk import Text\n",
    "from estnltk.taggers import AddressPartTagger\n",
    "from estnltk.taggers import make_tagger_test\n",
    "from estnltk.core import rel_path\n",
    "\n",
    "part_tagger = AddressPartTagger()\n",
    "\n",
    "tagger_creation = \"\"\"from estnltk.taggers import AddressGrammarTagger\n",
    "\n",
    "tagger = AddressGrammarTagger()\n",
    "\"\"\"\n",
    "\n",
    "text = Text('Rävala 5, Tallinn').tag_layer(['words'])\n",
    "part_tagger.tag(text)\n",
    "del text.tokens\n",
    "\n",
    "expected_layer_text = ['Rävala', '5', 'Tallinn']\n",
    "annotation = 'AddressGrammarTagger test'\n",
    "test_file = rel_path('tests/test_taggers/test_standard_taggers/test_address_grammar_tagger.py')\n",
    "\n",
    "make_tagger_test(tagger_creation, text, expected_layer_text, test_file, annotation, overwrite=False)"
   ]
  },
  {
   "cell_type": "code",
   "execution_count": 1,
   "metadata": {},
   "outputs": [],
   "source": [
    "from estnltk import Text\n",
    "from estnltk.core import rel_path\n",
    "from estnltk.taggers.tagger_testing import TaggerTester\n",
    "\n",
    "from estnltk.taggers import AddressPartTagger\n",
    "from estnltk.taggers import AddressGrammarTagger"
   ]
  },
  {
   "cell_type": "markdown",
   "metadata": {},
   "source": [
    "## Create test data for `AddressPartTagger`"
   ]
  },
  {
   "cell_type": "code",
   "execution_count": 3,
   "metadata": {},
   "outputs": [
    {
     "name": "stdout",
     "output_type": "stream",
     "text": [
      "Input texts file '../../estnltk/tests/test_taggers/test_standard_taggers/address_part_tagger_input.json' already exists. Use 'overwrite_input=True' to overwrite.\n",
      "Target layers file '../../estnltk/tests/test_taggers/test_standard_taggers/address_part_tagger_target.json' already exists. Use 'overwrite_target=True' to overwrite.\n"
     ]
    }
   ],
   "source": [
    "def input_text(t):\n",
    "    text = Text(t).tag_layer(['words'])\n",
    "    del text.tokens\n",
    "    return text\n",
    "\n",
    "tagger = AddressPartTagger()\n",
    "input_file = rel_path('tests/test_taggers/test_standard_taggers/address_part_tagger_input.json')\n",
    "target_file = rel_path('tests/test_taggers/test_standard_taggers/address_part_tagger_target.json')\n",
    "\n",
    "tester = TaggerTester(tagger, input_file=input_file, target_file=target_file)\n",
    "\n",
    "text = input_text('')\n",
    "tester.add_test(annotation='empty text', text=text, expected_text=[])\n",
    "\n",
    "text = input_text('Rävala 5, Tallinn')\n",
    "tester.add_test(annotation='simple', text=text, expected_text=['Rävala', '5', 'Tallinn'])\n",
    "\n",
    "tester.save(overwrite_input=False, overwrite_target=False)"
   ]
  },
  {
   "cell_type": "markdown",
   "metadata": {},
   "source": [
    "## Create test data for `AddressGrammarTagger`"
   ]
  },
  {
   "cell_type": "code",
   "execution_count": 4,
   "metadata": {},
   "outputs": [
    {
     "name": "stdout",
     "output_type": "stream",
     "text": [
      "Input texts file '../../estnltk/tests/test_taggers/test_standard_taggers/address_grammar_tagger_input.json' already exists. Use 'overwrite_input=True' to overwrite.\n",
      "Target layers file '../../estnltk/tests/test_taggers/test_standard_taggers/address_grammar_tagger_target.json' already exists. Use 'overwrite_target=True' to overwrite.\n"
     ]
    }
   ],
   "source": [
    "part_tagger = AddressPartTagger()\n",
    "\n",
    "def input_text(t):\n",
    "    text = Text(t).tag_layer(['words'])\n",
    "    part_tagger.tag(text)\n",
    "    del text.tokens\n",
    "    return text\n",
    "    \n",
    "\n",
    "tagger = AddressGrammarTagger()\n",
    "input_file = rel_path('tests/test_taggers/test_standard_taggers/address_grammar_tagger_input.json')\n",
    "target_file = rel_path('tests/test_taggers/test_standard_taggers/address_grammar_tagger_target.json')\n",
    "\n",
    "tester = TaggerTester(tagger, input_file=input_file, target_file=target_file)\n",
    "\n",
    "text = input_text('')\n",
    "tester.add_test(annotation='empty text', text=text, expected_text=[])\n",
    "\n",
    "text = input_text('Rävala 5, Tallinn')\n",
    "tester.add_test(annotation='simple', text=text, expected_text=['Rävala', '5', 'Tallinn'])\n",
    "\n",
    "tester.save(overwrite_input=False, overwrite_target=False)"
   ]
  }
 ],
 "metadata": {
  "kernelspec": {
   "display_name": "Python 3",
   "language": "python",
   "name": "python3"
  },
  "language_info": {
   "codemirror_mode": {
    "name": "ipython",
    "version": 3
   },
   "file_extension": ".py",
   "mimetype": "text/x-python",
   "name": "python",
   "nbconvert_exporter": "python",
   "pygments_lexer": "ipython3",
   "version": "3.5.4"
  }
 },
 "nbformat": 4,
 "nbformat_minor": 2
}
