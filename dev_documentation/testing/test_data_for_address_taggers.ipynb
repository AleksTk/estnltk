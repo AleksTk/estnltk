{
 "cells": [
  {
   "cell_type": "markdown",
   "metadata": {},
   "source": [
    "## Create test data for `AddressPartTagger`"
   ]
  },
  {
   "cell_type": "code",
   "execution_count": 1,
   "metadata": {},
   "outputs": [
    {
     "name": "stdout",
     "output_type": "stream",
     "text": [
      "Input texts file '../../estnltk/tests/test_taggers/test_standard_taggers/address_part_tagger_input.json' already exists. Use 'overwrite=True' to overwrite.\n",
      "Target layers file '../../estnltk/tests/test_taggers/test_standard_taggers/address_part_tagger_target.json' already exists. Use 'overwrite=True' to overwrite.\n"
     ]
    }
   ],
   "source": [
    "from estnltk.core import rel_path\n",
    "from estnltk import Text\n",
    "from estnltk.taggers import TaggerTester\n",
    "from estnltk.taggers import AddressPartTagger\n",
    "\n",
    "def input_text(t):\n",
    "    text = Text(t).tag_layer(['words'])\n",
    "    del text.tokens\n",
    "    return text\n",
    "\n",
    "tagger = AddressPartTagger()\n",
    "input_file = rel_path('tests/test_taggers/test_standard_taggers/address_part_tagger_input.json')\n",
    "target_file = rel_path('tests/test_taggers/test_standard_taggers/address_part_tagger_target.json')\n",
    "\n",
    "tester = TaggerTester(tagger, input_file=input_file, target_file=target_file)\n",
    "\n",
    "text = input_text('')\n",
    "tester.add_test(annotation='empty text', text=text, expected_text=[])\n",
    "\n",
    "text = input_text('Rävala 5, Tallinn')\n",
    "tester.add_test(annotation='simple', text=text, expected_text=['Rävala', '5', 'Tallinn'])\n",
    "\n",
    "tester.save_input()\n",
    "tester.save_target()"
   ]
  },
  {
   "cell_type": "markdown",
   "metadata": {},
   "source": [
    "## Create test data for `AddressGrammarTagger`"
   ]
  },
  {
   "cell_type": "code",
   "execution_count": 2,
   "metadata": {},
   "outputs": [
    {
     "name": "stdout",
     "output_type": "stream",
     "text": [
      "Input texts file '../../estnltk/tests/test_taggers/test_standard_taggers/address_grammar_tagger_input.json' already exists. Use 'overwrite=True' to overwrite.\n",
      "Target layers file '../../estnltk/tests/test_taggers/test_standard_taggers/address_grammar_tagger_target.json' already exists. Use 'overwrite=True' to overwrite.\n"
     ]
    }
   ],
   "source": [
    "from estnltk.taggers import AddressGrammarTagger\n",
    "\n",
    "part_tagger = AddressPartTagger()\n",
    "\n",
    "def input_text(t):\n",
    "    text = Text(t).tag_layer(['words'])\n",
    "    part_tagger.tag(text)\n",
    "    del text.tokens\n",
    "    return text\n",
    "    \n",
    "\n",
    "tagger = AddressGrammarTagger()\n",
    "input_file = rel_path('tests/test_taggers/test_standard_taggers/address_grammar_tagger_input.json')\n",
    "target_file = rel_path('tests/test_taggers/test_standard_taggers/address_grammar_tagger_target.json')\n",
    "\n",
    "tester = TaggerTester(tagger, input_file=input_file, target_file=target_file)\n",
    "\n",
    "text = input_text('')\n",
    "tester.add_test(annotation='empty text', text=text, expected_text=[])\n",
    "\n",
    "text = input_text('Rävala 5, Tallinn')\n",
    "tester.add_test(annotation='simple', text=text, expected_text=['Rävala', '5', 'Tallinn'])\n",
    "\n",
    "tester.save_input()\n",
    "tester.save_target()"
   ]
  }
 ],
 "metadata": {
  "kernelspec": {
   "display_name": "Python 3",
   "language": "python",
   "name": "python3"
  },
  "language_info": {
   "codemirror_mode": {
    "name": "ipython",
    "version": 3
   },
   "file_extension": ".py",
   "mimetype": "text/x-python",
   "name": "python",
   "nbconvert_exporter": "python",
   "pygments_lexer": "ipython3",
   "version": "3.5.4"
  }
 },
 "nbformat": 4,
 "nbformat_minor": 2
}
