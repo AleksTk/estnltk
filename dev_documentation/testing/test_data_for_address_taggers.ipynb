{
 "cells": [
  {
   "cell_type": "markdown",
   "metadata": {},
   "source": [
    "## Create test data for `AddressPartTagger`"
   ]
  },
  {
   "cell_type": "code",
   "execution_count": 1,
   "metadata": {},
   "outputs": [],
   "source": [
    "from estnltk.core import rel_path\n",
    "from estnltk import Text\n",
    "from estnltk.taggers import TaggerTester\n",
    "from estnltk.taggers import AddressPartTagger\n",
    "\n",
    "tagger = AddressPartTagger()\n",
    "input_file = rel_path('tests/test_taggers/test_standard_taggers/address_part_tagger_input.json')\n",
    "target_file = rel_path('tests/test_taggers/test_standard_taggers/address_part_tagger_target.json')"
   ]
  },
  {
   "cell_type": "code",
   "execution_count": 2,
   "metadata": {
    "scrolled": true
   },
   "outputs": [
    {
     "name": "stdout",
     "output_type": "stream",
     "text": [
      "Input texts file '../../estnltk/tests/test_taggers/test_standard_taggers/address_part_tagger_input.json' already exists. Use 'overwrite=True' to overwrite.\n",
      "Target layers file '../../estnltk/tests/test_taggers/test_standard_taggers/address_part_tagger_target.json' already exists. Use 'overwrite=True' to overwrite.\n"
     ]
    }
   ],
   "source": [
    "def input_text(t):\n",
    "    text = Text(t).tag_layer(['words'])\n",
    "    del text.tokens\n",
    "    return text\n",
    "\n",
    "\n",
    "tester = TaggerTester(tagger, input_file=input_file, target_file=target_file)\n",
    "\n",
    "text = input_text('')\n",
    "tester.add_test(annotation='empty text', text=text, expected_text=[])\n",
    "\n",
    "text = input_text('Rävala 5, Tallinn')\n",
    "tester.add_test(annotation='simple', text=text, expected_text=['Rävala', '5', 'Tallinn'])\n",
    "\n",
    "tester.save_input()\n",
    "tester.save_target()"
   ]
  },
  {
   "cell_type": "code",
   "execution_count": 3,
   "metadata": {},
   "outputs": [
    {
     "data": {
      "text/html": [
       "<table border=\"1\" class=\"dataframe\">\n",
       "  <thead>\n",
       "    <tr style=\"text-align: right;\">\n",
       "      <th>text</th>\n",
       "    </tr>\n",
       "  </thead>\n",
       "  <tbody>\n",
       "    <tr>\n",
       "      <td>Rävala 5, Tallinn</td>\n",
       "    </tr>\n",
       "  </tbody>\n",
       "</table>\n",
       "<h4>Metadata</h4>\n",
       "<table border=\"1\" class=\"dataframe\">\n",
       "  <tbody>\n",
       "    <tr>\n",
       "      <td>test_description</td>\n",
       "      <td>simple</td>\n",
       "    </tr>\n",
       "  </tbody>\n",
       "</table>\n",
       "<table border=\"1\" class=\"dataframe\">\n",
       "  <thead>\n",
       "    <tr style=\"text-align: right;\">\n",
       "      <th>layer name</th>\n",
       "      <th>attributes</th>\n",
       "      <th>parent</th>\n",
       "      <th>enveloping</th>\n",
       "      <th>ambiguous</th>\n",
       "      <th>span count</th>\n",
       "    </tr>\n",
       "  </thead>\n",
       "  <tbody>\n",
       "    <tr>\n",
       "      <td>words</td>\n",
       "      <td>normalized_form</td>\n",
       "      <td>None</td>\n",
       "      <td>None</td>\n",
       "      <td>False</td>\n",
       "      <td>4</td>\n",
       "    </tr>\n",
       "    <tr>\n",
       "      <td>address_parts</td>\n",
       "      <td>grammar_symbol, type</td>\n",
       "      <td>None</td>\n",
       "      <td>None</td>\n",
       "      <td>True</td>\n",
       "      <td>3</td>\n",
       "    </tr>\n",
       "  </tbody>\n",
       "</table>"
      ],
      "text/plain": [
       "Text(text=\"Rävala 5, Tallinn\")"
      ]
     },
     "execution_count": 3,
     "metadata": {},
     "output_type": "execute_result"
    }
   ],
   "source": [
    "tagger.tag(text)"
   ]
  },
  {
   "cell_type": "code",
   "execution_count": 4,
   "metadata": {},
   "outputs": [
    {
     "name": "stdout",
     "output_type": "stream",
     "text": [
      "empty text PASSED\n",
      "simple PASSED\n"
     ]
    }
   ],
   "source": [
    "tester = TaggerTester(tagger, input_file, target_file).load()\n",
    "tester.run_tests()"
   ]
  },
  {
   "cell_type": "markdown",
   "metadata": {},
   "source": [
    "### Show tests"
   ]
  },
  {
   "cell_type": "code",
   "execution_count": 5,
   "metadata": {},
   "outputs": [
    {
     "data": {
      "text/html": [
       "<h3>Test</h3>\n",
       "simple\n",
       "<h4>Input text</h4>\n",
       "Rävala 5, Tallinn\n",
       "<h4>Expected layer</h4>\n",
       "<table border=\"1\" class=\"dataframe\">\n",
       "  <thead>\n",
       "    <tr style=\"text-align: right;\">\n",
       "      <th>layer name</th>\n",
       "      <th>attributes</th>\n",
       "      <th>parent</th>\n",
       "      <th>enveloping</th>\n",
       "      <th>ambiguous</th>\n",
       "      <th>span count</th>\n",
       "    </tr>\n",
       "  </thead>\n",
       "  <tbody>\n",
       "    <tr>\n",
       "      <td>address_parts</td>\n",
       "      <td>grammar_symbol, type</td>\n",
       "      <td>None</td>\n",
       "      <td>None</td>\n",
       "      <td>True</td>\n",
       "      <td>3</td>\n",
       "    </tr>\n",
       "  </tbody>\n",
       "</table>\n",
       "<table border=\"1\" class=\"dataframe\">\n",
       "  <thead>\n",
       "    <tr style=\"text-align: right;\">\n",
       "      <th>text</th>\n",
       "      <th>start</th>\n",
       "      <th>end</th>\n",
       "      <th>grammar_symbol</th>\n",
       "      <th>type</th>\n",
       "    </tr>\n",
       "  </thead>\n",
       "  <tbody>\n",
       "    <tr>\n",
       "      <td>Rävala</td>\n",
       "      <td>0</td>\n",
       "      <td>6</td>\n",
       "      <td>TÄNAV</td>\n",
       "      <td>tänav</td>\n",
       "    </tr>\n",
       "    <tr>\n",
       "      <td>5</td>\n",
       "      <td>7</td>\n",
       "      <td>8</td>\n",
       "      <td>MAJA</td>\n",
       "      <td>None</td>\n",
       "    </tr>\n",
       "    <tr>\n",
       "      <td>Tallinn</td>\n",
       "      <td>10</td>\n",
       "      <td>17</td>\n",
       "      <td>ASULA</td>\n",
       "      <td>asula</td>\n",
       "    </tr>\n",
       "  </tbody>\n",
       "</table>"
      ],
      "text/plain": [
       "Test(simple, Text(text=\"Rävala 5, Tallinn\"))"
      ]
     },
     "execution_count": 5,
     "metadata": {},
     "output_type": "execute_result"
    }
   ],
   "source": [
    "tester.tests[1]"
   ]
  },
  {
   "cell_type": "markdown",
   "metadata": {},
   "source": [
    "## Create test data for `AddressGrammarTagger`"
   ]
  },
  {
   "cell_type": "code",
   "execution_count": 6,
   "metadata": {},
   "outputs": [],
   "source": [
    "from estnltk.taggers import AddressGrammarTagger\n",
    "\n",
    "\n",
    "tagger = AddressGrammarTagger()\n",
    "input_file = rel_path('tests/test_taggers/test_standard_taggers/address_grammar_tagger_input.json')\n",
    "target_file = rel_path('tests/test_taggers/test_standard_taggers/address_grammar_tagger_target.json')"
   ]
  },
  {
   "cell_type": "code",
   "execution_count": 7,
   "metadata": {},
   "outputs": [
    {
     "name": "stdout",
     "output_type": "stream",
     "text": [
      "Input texts file '../../estnltk/tests/test_taggers/test_standard_taggers/address_grammar_tagger_input.json' already exists. Use 'overwrite=True' to overwrite.\n",
      "Created target layers file '../../estnltk/tests/test_taggers/test_standard_taggers/address_grammar_tagger_target.json'.\n"
     ]
    }
   ],
   "source": [
    "part_tagger = AddressPartTagger()\n",
    "\n",
    "\n",
    "def input_text(t):\n",
    "    text = Text(t).tag_layer(['words'])\n",
    "    part_tagger.tag(text)\n",
    "    del text.tokens\n",
    "    return text\n",
    "\n",
    "\n",
    "tester = TaggerTester(tagger, input_file=input_file, target_file=target_file)\n",
    "\n",
    "text = input_text('')\n",
    "tester.add_test(annotation='empty text', text=text, expected_text=[])\n",
    "\n",
    "text = input_text('Rävala 5, Tallinn')\n",
    "tester.add_test(annotation='simple', text=text, expected_text=[['Rävala', '5', 'Tallinn']])\n",
    "\n",
    "tester.save_input()\n",
    "tester.save_target(overwrite=True)"
   ]
  },
  {
   "cell_type": "markdown",
   "metadata": {},
   "source": [
    "### Run tests"
   ]
  },
  {
   "cell_type": "code",
   "execution_count": 8,
   "metadata": {},
   "outputs": [
    {
     "name": "stdout",
     "output_type": "stream",
     "text": [
      "empty text PASSED\n",
      "simple PASSED\n"
     ]
    }
   ],
   "source": [
    "tester = TaggerTester(tagger, input_file, target_file).load()\n",
    "tester.run_tests()"
   ]
  },
  {
   "cell_type": "code",
   "execution_count": 9,
   "metadata": {},
   "outputs": [
    {
     "data": {
      "text/plain": [
       "[]"
      ]
     },
     "execution_count": 9,
     "metadata": {},
     "output_type": "execute_result"
    }
   ],
   "source": [
    "list(tester.inspect_tests())"
   ]
  },
  {
   "cell_type": "markdown",
   "metadata": {},
   "source": [
    "### Show tests"
   ]
  },
  {
   "cell_type": "code",
   "execution_count": 10,
   "metadata": {},
   "outputs": [
    {
     "data": {
      "text/html": [
       "<h3>Test</h3>\n",
       "simple\n",
       "<h4>Input text</h4>\n",
       "Rävala 5, Tallinn\n",
       "<h4>Expected layer</h4>\n",
       "<table border=\"1\" class=\"dataframe\">\n",
       "  <thead>\n",
       "    <tr style=\"text-align: right;\">\n",
       "      <th>layer name</th>\n",
       "      <th>attributes</th>\n",
       "      <th>parent</th>\n",
       "      <th>enveloping</th>\n",
       "      <th>ambiguous</th>\n",
       "      <th>span count</th>\n",
       "    </tr>\n",
       "  </thead>\n",
       "  <tbody>\n",
       "    <tr>\n",
       "      <td>addresses</td>\n",
       "      <td>grammar_symbol, TÄNAV, MAJA, ASULA, MAAKOND, INDEKS</td>\n",
       "      <td>None</td>\n",
       "      <td>address_parts</td>\n",
       "      <td>True</td>\n",
       "      <td>1</td>\n",
       "    </tr>\n",
       "  </tbody>\n",
       "</table>\n",
       "<table border=\"1\" class=\"dataframe\">\n",
       "  <thead>\n",
       "    <tr style=\"text-align: right;\">\n",
       "      <th>text</th>\n",
       "      <th>start</th>\n",
       "      <th>end</th>\n",
       "      <th>grammar_symbol</th>\n",
       "      <th>TÄNAV</th>\n",
       "      <th>MAJA</th>\n",
       "      <th>ASULA</th>\n",
       "      <th>MAAKOND</th>\n",
       "      <th>INDEKS</th>\n",
       "    </tr>\n",
       "  </thead>\n",
       "  <tbody>\n",
       "    <tr>\n",
       "      <td>['Rävala', '5', 'Tallinn']</td>\n",
       "      <td>0</td>\n",
       "      <td>17</td>\n",
       "      <td>ADDRESS</td>\n",
       "      <td>Rävala</td>\n",
       "      <td>5</td>\n",
       "      <td>Tallinn</td>\n",
       "      <td></td>\n",
       "      <td></td>\n",
       "    </tr>\n",
       "  </tbody>\n",
       "</table>"
      ],
      "text/plain": [
       "Test(simple, Text(text=\"Rävala 5, Tallinn\"))"
      ]
     },
     "execution_count": 10,
     "metadata": {},
     "output_type": "execute_result"
    }
   ],
   "source": [
    "tester.tests[1]"
   ]
  }
 ],
 "metadata": {
  "kernelspec": {
   "display_name": "Python 3",
   "language": "python",
   "name": "python3"
  },
  "language_info": {
   "codemirror_mode": {
    "name": "ipython",
    "version": 3
   },
   "file_extension": ".py",
   "mimetype": "text/x-python",
   "name": "python",
   "nbconvert_exporter": "python",
   "pygments_lexer": "ipython3",
   "version": "3.5.4"
  }
 },
 "nbformat": 4,
 "nbformat_minor": 2
}
