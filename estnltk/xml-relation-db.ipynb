{
 "cells": [
  {
   "cell_type": "code",
   "execution_count": 1,
   "metadata": {},
   "outputs": [],
   "source": [
    "from lxml import etree    "
   ]
  },
  {
   "cell_type": "code",
   "execution_count": 2,
   "metadata": {},
   "outputs": [],
   "source": [
    "tree = etree.parse(\"estwn-et-2.0.0.beta.xml\")"
   ]
  },
  {
   "cell_type": "markdown",
   "metadata": {},
   "source": [
    "Get all lexical entries"
   ]
  },
  {
   "cell_type": "code",
   "execution_count": 3,
   "metadata": {},
   "outputs": [
    {
     "name": "stdout",
     "output_type": "stream",
     "text": [
      "113840\n"
     ]
    }
   ],
   "source": [
    "entries = tree.xpath('/LexicalResource/Lexicon/LexicalEntry')\n",
    "print(len(entries))"
   ]
  },
  {
   "cell_type": "markdown",
   "metadata": {},
   "source": [
    "Each lexicon element is al lemma and pos pair and it can correspond to many synsets"
   ]
  },
  {
   "cell_type": "code",
   "execution_count": 4,
   "metadata": {},
   "outputs": [
    {
     "name": "stdout",
     "output_type": "stream",
     "text": [
      "Lemma\n",
      "väntaja\n",
      "n\n"
     ]
    },
    {
     "data": {
      "text/plain": [
       "{'partOfSpeech': 'n', 'writtenForm': 'väntaja'}"
      ]
     },
     "execution_count": 4,
     "metadata": {},
     "output_type": "execute_result"
    }
   ],
   "source": [
    "entry = entries[6]\n",
    "print(entry[0].tag)\n",
    "print(entry[0].attrib['writtenForm'])\n",
    "print(entry[0].attrib['partOfSpeech'])\n",
    "entry[0].attrib"
   ]
  },
  {
   "cell_type": "code",
   "execution_count": null,
   "metadata": {
    "collapsed": true
   },
   "outputs": [],
   "source": []
  },
  {
   "cell_type": "markdown",
   "metadata": {},
   "source": [
    "Corresponding synset mapping is defined as sens element in the second, third,... components of an entry"
   ]
  },
  {
   "cell_type": "code",
   "execution_count": 5,
   "metadata": {},
   "outputs": [
    {
     "name": "stdout",
     "output_type": "stream",
     "text": [
      "Sense\n",
      "Long name =  s-väntaja-n3\n",
      "Status =  unchecked\n",
      "synset = estwn-et-38039-n\n"
     ]
    }
   ],
   "source": [
    "print(entry[1].tag)\n",
    "print('Long name = ', entry[1].attrib['id']) #synset name\n",
    "print('Status = ', entry[1].attrib['status'])\n",
    "print('synset =', entry[1].attrib['synset']) #synset id\n"
   ]
  },
  {
   "cell_type": "code",
   "execution_count": null,
   "metadata": {
    "collapsed": true
   },
   "outputs": [],
   "source": [
    "There can be several sense components"
   ]
  },
  {
   "cell_type": "code",
   "execution_count": 6,
   "metadata": {},
   "outputs": [
    {
     "name": "stdout",
     "output_type": "stream",
     "text": [
      "3\n",
      "{'synset': 'estwn-et-3972-v', 'status': 'unchecked', 'id': 's-sisse_ajama-v1'}\n",
      "{'synset': 'estwn-et-19302-v', 'status': 'unchecked', 'id': 's-sisse_ajama-v2'}\n",
      "{'partOfSpeech': 'v', 'writtenForm': 'sisse ajama'}\n"
     ]
    }
   ],
   "source": [
    "print(len(entries[2]))\n",
    "print(entries[2][1].attrib)\n",
    "print(entries[2][2].attrib)\n",
    "print(entries[2][0].attrib)"
   ]
  },
  {
   "cell_type": "markdown",
   "metadata": {},
   "source": [
    "Get all sysets"
   ]
  },
  {
   "cell_type": "code",
   "execution_count": 46,
   "metadata": {},
   "outputs": [
    {
     "name": "stdout",
     "output_type": "stream",
     "text": [
      "44226\n",
      "{'status': 'unchecked', 'confidenceScore': '1.0', 'relType': 'involved_instrument', 'target': 'estwn-et-16204-n'}\n"
     ]
    }
   ],
   "source": [
    "i=0\n",
    "for sset in synsets:\n",
    "    if sset.attrib['id'] == \"estwn-et-38039-n\":\n",
    "        print(i)\n",
    "        print(sset[0].attrib)\n",
    "    i+=1"
   ]
  },
  {
   "cell_type": "code",
   "execution_count": 58,
   "metadata": {},
   "outputs": [
    {
     "name": "stdout",
     "output_type": "stream",
     "text": [
      "3\n"
     ]
    },
    {
     "data": {
      "text/plain": [
       "{'status': 'checked', '{http://purl.org/dc/elements/1.1/}type': 'C', 'confidenceScore': '0.5', 'id': 'estwn-et-38039-n', 'ili': ''}"
      ]
     },
     "execution_count": 58,
     "metadata": {},
     "output_type": "execute_result"
    }
   ],
   "source": [
    "var  = synsets[44226]\n",
    "print(len(var))\n",
    "var.attrib\n"
   ]
  },
  {
   "cell_type": "code",
   "execution_count": 7,
   "metadata": {},
   "outputs": [
    {
     "name": "stdout",
     "output_type": "stream",
     "text": [
      "83557\n"
     ]
    }
   ],
   "source": [
    "synsets = tree.xpath('/LexicalResource/Lexicon/Synset')\n",
    "print(len(synsets))"
   ]
  },
  {
   "cell_type": "markdown",
   "metadata": {},
   "source": [
    "The most important property of a synset is its identifier, status and confidence "
   ]
  },
  {
   "cell_type": "code",
   "execution_count": 8,
   "metadata": {},
   "outputs": [
    {
     "name": "stdout",
     "output_type": "stream",
     "text": [
      "synset_id= estwn-et-8645-n\n",
      "synset_status= checked\n",
      "confidence_score= 1.0\n"
     ]
    }
   ],
   "source": [
    "#Millise attrib all on synset nimi panemaks vastavusse Lexicon 'id'-ga ?\n",
    "synset=synsets[0]\n",
    "print('synset_id=', synset.attrib['id']) #start vertex\n",
    "print('synset_status=', synset.attrib['status'])\n",
    "print('confidence_score=', synset.attrib['confidenceScore'])\n"
   ]
  },
  {
   "cell_type": "markdown",
   "metadata": {},
   "source": [
    "The first element of the synset chhild is its definition that links back to lexicon element senses"
   ]
  },
  {
   "cell_type": "code",
   "execution_count": 11,
   "metadata": {},
   "outputs": [
    {
     "name": "stdout",
     "output_type": "stream",
     "text": [
      "Definition\n",
      "language =  et\n",
      "lecicon_sense =  s-kalapüük-n1\n"
     ]
    }
   ],
   "source": [
    "print(synset[0].tag)\n",
    "print('language = ', synset[0].attrib['language'])\n",
    "print('lecicon_sense = ', synset[0].attrib['sourceSense'])"
   ]
  },
  {
   "cell_type": "code",
   "execution_count": null,
   "metadata": {
    "collapsed": true
   },
   "outputs": [],
   "source": []
  },
  {
   "cell_type": "markdown",
   "metadata": {},
   "source": [
    "Next elements are relations between synsets spacified through target and relation type"
   ]
  },
  {
   "cell_type": "code",
   "execution_count": 9,
   "metadata": {},
   "outputs": [
    {
     "name": "stdout",
     "output_type": "stream",
     "text": [
      "SynsetRelation\n",
      "rel_confidence= 1.0\n",
      "rel_type= similar\n",
      "rel_status= unchecked\n",
      "rel_target= estwn-et-34038-n\n"
     ]
    }
   ],
   "source": [
    "print(synset[1].tag)\n",
    "print('rel_confidence=', synset[1].attrib['confidenceScore'])\n",
    "print('rel_type=', synset[1].attrib['relType'])\n",
    "print('rel_status=', synset[1].attrib['status'])\n",
    "print('rel_target=', synset[1].attrib['target'])#end vertex\n"
   ]
  },
  {
   "cell_type": "markdown",
   "metadata": {},
   "source": [
    "You can access these elements by specifying relative paths"
   ]
  },
  {
   "cell_type": "code",
   "execution_count": 20,
   "metadata": {},
   "outputs": [
    {
     "name": "stdout",
     "output_type": "stream",
     "text": [
      "1 105\n"
     ]
    }
   ],
   "source": [
    "definition = synset.xpath('Definition')\n",
    "relations = synset.xpath('SynsetRelation')\n",
    "print(len(definition),len(relations))"
   ]
  },
  {
   "cell_type": "code",
   "execution_count": null,
   "metadata": {},
   "outputs": [],
   "source": []
  }
 ],
 "metadata": {
  "kernelspec": {
   "display_name": "Python 3",
   "language": "python",
   "name": "python3"
  },
  "language_info": {
   "codemirror_mode": {
    "name": "ipython",
    "version": 3
   },
   "file_extension": ".py",
   "mimetype": "text/x-python",
   "name": "python",
   "nbconvert_exporter": "python",
   "pygments_lexer": "ipython3",
   "version": "3.5.5"
  }
 },
 "nbformat": 4,
 "nbformat_minor": 2
}
