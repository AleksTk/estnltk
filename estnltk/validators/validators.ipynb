{
 "cells": [
  {
   "cell_type": "code",
   "execution_count": 1,
   "metadata": {
    "collapsed": true
   },
   "outputs": [],
   "source": [
    "from estnltk.validators.word_validator import Token"
   ]
  },
  {
   "cell_type": "markdown",
   "metadata": {},
   "source": [
    "`Token` is a subclass of `str`."
   ]
  },
  {
   "cell_type": "code",
   "execution_count": 2,
   "metadata": {
    "collapsed": false
   },
   "outputs": [
    {
     "data": {
      "text/plain": [
       "'seda-ja-teist'"
      ]
     },
     "execution_count": 2,
     "metadata": {},
     "output_type": "execute_result"
    }
   ],
   "source": [
    "t = Token('seda-ja-teist')\n",
    "t"
   ]
  },
  {
   "cell_type": "markdown",
   "metadata": {},
   "source": [
    "`Token.replace` returns a `Token`."
   ]
  },
  {
   "cell_type": "code",
   "execution_count": 3,
   "metadata": {
    "collapsed": false
   },
   "outputs": [
    {
     "data": {
      "text/plain": [
       "'sedajateist'"
      ]
     },
     "execution_count": 3,
     "metadata": {},
     "output_type": "execute_result"
    }
   ],
   "source": [
    "t.replace('-', '')"
   ]
  },
  {
   "cell_type": "markdown",
   "metadata": {},
   "source": [
    "`Token.split` returns a `list` of `Token`."
   ]
  },
  {
   "cell_type": "code",
   "execution_count": 4,
   "metadata": {
    "collapsed": false
   },
   "outputs": [
    {
     "data": {
      "text/plain": [
       "['seda', 'ja', 'teist']"
      ]
     },
     "execution_count": 4,
     "metadata": {},
     "output_type": "execute_result"
    }
   ],
   "source": [
    "t.split('-')"
   ]
  },
  {
   "cell_type": "code",
   "execution_count": 5,
   "metadata": {
    "collapsed": false
   },
   "outputs": [
    {
     "data": {
      "text/plain": [
       "[{'clitic': '',\n",
       "  'ending': 'st',\n",
       "  'form': 'pl el',\n",
       "  'lemma': 'seda-ja-sina',\n",
       "  'partofspeech': 'P',\n",
       "  'root': 'se+da-ja-sina',\n",
       "  'root_tokens': ['seda', 'ja', 'sina']},\n",
       " {'clitic': '',\n",
       "  'ending': 'ist',\n",
       "  'form': 'pl el',\n",
       "  'lemma': 'seda-ja-tee',\n",
       "  'partofspeech': 'S',\n",
       "  'root': 'se+da-ja-tee',\n",
       "  'root_tokens': ['seda', 'ja', 'tee']},\n",
       " {'clitic': '',\n",
       "  'ending': '0',\n",
       "  'form': '',\n",
       "  'lemma': 'seda-ja-teist',\n",
       "  'partofspeech': 'D',\n",
       "  'root': 'se+da-ja-teist',\n",
       "  'root_tokens': ['seda', 'ja', 'teist']},\n",
       " {'clitic': '',\n",
       "  'ending': 't',\n",
       "  'form': 'sg p',\n",
       "  'lemma': 'seda-ja-teine',\n",
       "  'partofspeech': 'O',\n",
       "  'root': 'se+da-ja-teine',\n",
       "  'root_tokens': ['seda', 'ja', 'teine']},\n",
       " {'clitic': '',\n",
       "  'ending': 't',\n",
       "  'form': 'sg p',\n",
       "  'lemma': 'seda-ja-teine',\n",
       "  'partofspeech': 'P',\n",
       "  'root': 'se+da-ja-teine',\n",
       "  'root_tokens': ['seda', 'ja', 'teine']}]"
      ]
     },
     "execution_count": 5,
     "metadata": {},
     "output_type": "execute_result"
    }
   ],
   "source": [
    "t.analysis"
   ]
  },
  {
   "cell_type": "code",
   "execution_count": 6,
   "metadata": {
    "collapsed": false
   },
   "outputs": [
    {
     "data": {
      "text/plain": [
       "{'D', 'O', 'P', 'S'}"
      ]
     },
     "execution_count": 6,
     "metadata": {},
     "output_type": "execute_result"
    }
   ],
   "source": [
    "t.part_of_speeches"
   ]
  },
  {
   "cell_type": "code",
   "execution_count": 7,
   "metadata": {
    "collapsed": false
   },
   "outputs": [
    {
     "data": {
      "text/plain": [
       "{'seda-ja-sina', 'seda-ja-tee', 'seda-ja-teine', 'seda-ja-teist'}"
      ]
     },
     "execution_count": 7,
     "metadata": {},
     "output_type": "execute_result"
    }
   ],
   "source": [
    "t.lemmas()"
   ]
  },
  {
   "cell_type": "code",
   "execution_count": 8,
   "metadata": {
    "collapsed": false
   },
   "outputs": [
    {
     "data": {
      "text/plain": [
       "{'seda-ja-sina', 'seda-ja-teine'}"
      ]
     },
     "execution_count": 8,
     "metadata": {},
     "output_type": "execute_result"
    }
   ],
   "source": [
    "t.lemmas('P')"
   ]
  },
  {
   "cell_type": "markdown",
   "metadata": {},
   "source": [
    "A **case** is one of the"
   ]
  },
  {
   "cell_type": "code",
   "execution_count": 9,
   "metadata": {
    "collapsed": false
   },
   "outputs": [
    {
     "data": {
      "text/plain": [
       "frozenset({'ab',\n",
       "           'abl',\n",
       "           'ad',\n",
       "           'adt',\n",
       "           'adt_or_ill',\n",
       "           'all',\n",
       "           'el',\n",
       "           'es',\n",
       "           'g',\n",
       "           'ill',\n",
       "           'in',\n",
       "           'kom',\n",
       "           'n',\n",
       "           'p',\n",
       "           'ter',\n",
       "           'tr'})"
      ]
     },
     "execution_count": 9,
     "metadata": {},
     "output_type": "execute_result"
    }
   ],
   "source": [
    "t.all_cases"
   ]
  },
  {
   "cell_type": "markdown",
   "metadata": {},
   "source": [
    "If the token has a case `'adt'` or `'ill'`, then `'adt_or_ill'` is also addet to the set of cases."
   ]
  },
  {
   "cell_type": "code",
   "execution_count": 10,
   "metadata": {
    "collapsed": false
   },
   "outputs": [
    {
     "data": {
      "text/plain": [
       "{'el', 'p'}"
      ]
     },
     "execution_count": 10,
     "metadata": {},
     "output_type": "execute_result"
    }
   ],
   "source": [
    "t.cases()"
   ]
  },
  {
   "cell_type": "code",
   "execution_count": 11,
   "metadata": {
    "collapsed": false
   },
   "outputs": [
    {
     "data": {
      "text/plain": [
       "{'el'}"
      ]
     },
     "execution_count": 11,
     "metadata": {},
     "output_type": "execute_result"
    }
   ],
   "source": [
    "t.cases('S')"
   ]
  },
  {
   "cell_type": "code",
   "execution_count": 12,
   "metadata": {
    "collapsed": false
   },
   "outputs": [
    {
     "data": {
      "text/plain": [
       "{'ab', 'adt', 'adt_or_ill', 'p'}"
      ]
     },
     "execution_count": 12,
     "metadata": {},
     "output_type": "execute_result"
    }
   ],
   "source": [
    "Token('lauta').cases()"
   ]
  },
  {
   "cell_type": "markdown",
   "metadata": {},
   "source": [
    "A token is a **word** if it has at least one analysis where the part of speech isnot `'Y'` or `'Z'`."
   ]
  },
  {
   "cell_type": "code",
   "execution_count": 13,
   "metadata": {
    "collapsed": false
   },
   "outputs": [
    {
     "data": {
      "text/plain": [
       "True"
      ]
     },
     "execution_count": 13,
     "metadata": {},
     "output_type": "execute_result"
    }
   ],
   "source": [
    "t.is_word"
   ]
  },
  {
   "cell_type": "markdown",
   "metadata": {},
   "source": [
    "A token is a **conjunction** if it has at least one analysis where the part of speech is `'J'`."
   ]
  },
  {
   "cell_type": "code",
   "execution_count": 14,
   "metadata": {
    "collapsed": false
   },
   "outputs": [
    {
     "data": {
      "text/plain": [
       "False"
      ]
     },
     "execution_count": 14,
     "metadata": {},
     "output_type": "execute_result"
    }
   ],
   "source": [
    "t.is_conjunction"
   ]
  },
  {
   "cell_type": "markdown",
   "metadata": {},
   "source": [
    "A **normal** form of a token is the token with removed stammer and hyphenation if the result is a word. Otherwise, the normal form of the token is the token itself."
   ]
  },
  {
   "cell_type": "code",
   "execution_count": 15,
   "metadata": {
    "collapsed": false
   },
   "outputs": [
    {
     "data": {
      "text/plain": [
       "'veretaoline'"
      ]
     },
     "execution_count": 15,
     "metadata": {},
     "output_type": "execute_result"
    }
   ],
   "source": [
    "Token('v-v-v-ve-ve-ve-vere-taoline').normal"
   ]
  },
  {
   "cell_type": "markdown",
   "metadata": {},
   "source": [
    "A token is a **simple pronoun** if it has an analysis where the part of speech is `'P'` and the lemma is listed in `estnltk/estnltk/rewriting/syntax_preprocessing/rules_files/pronouns.csv`\n",
    "\n",
    "A token is a **pronoun** if \n",
    "- it is a simple pronoun\n",
    "\n",
    "or\n",
    "- the normal form of the token consists of hyphen-separated parts such that the last part is a simple pronoun and\n",
    "    - one of the parts has a lemma `'teadma'`\n",
    "    \n",
    "    or\n",
    "    \n",
    "    - all the parts are either conjunctions or simple pronouns and the simple pronouns have a common case\n",
    "    \n",
    "    or\n",
    "    \n",
    "    - the last part has the case `'ter'`, `'es'`, `'ab'`, or `'kom'` and the rest of the parts are either conjunctions or simple pronouns with case `'g'`. "
   ]
  },
  {
   "cell_type": "code",
   "execution_count": 16,
   "metadata": {
    "collapsed": false
   },
   "outputs": [
    {
     "data": {
      "text/plain": [
       "True"
      ]
     },
     "execution_count": 16,
     "metadata": {},
     "output_type": "execute_result"
    }
   ],
   "source": [
    "t.is_pronoun"
   ]
  }
 ],
 "metadata": {
  "kernelspec": {
   "display_name": "Python [py35]",
   "language": "python",
   "name": "Python [py35]"
  },
  "language_info": {
   "codemirror_mode": {
    "name": "ipython",
    "version": 3
   },
   "file_extension": ".py",
   "mimetype": "text/x-python",
   "name": "python",
   "nbconvert_exporter": "python",
   "pygments_lexer": "ipython3",
   "version": "3.5.3"
  }
 },
 "nbformat": 4,
 "nbformat_minor": 2
}
