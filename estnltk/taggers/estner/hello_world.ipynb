{
 "cells": [
  {
   "cell_type": "code",
   "execution_count": 1,
   "metadata": {},
   "outputs": [],
   "source": [
    "%load_ext autoreload\n",
    "%autoreload 2"
   ]
  },
  {
   "cell_type": "code",
   "execution_count": 2,
   "metadata": {},
   "outputs": [],
   "source": [
    "import estnltk\n",
    "from estnltk import Text"
   ]
  },
  {
   "cell_type": "code",
   "execution_count": 3,
   "metadata": {
    "scrolled": true
   },
   "outputs": [],
   "source": [
    "from estnltk.taggers.estner.refac.ner import NerTagger\n",
    "ntager = NerTagger()\n"
   ]
  },
  {
   "cell_type": "code",
   "execution_count": 18,
   "metadata": {},
   "outputs": [],
   "source": [
    "textobject2 = Text(\"Eesti Vabariik on riik Põhja-Euroopas. Eesti piirneb põhjas üle Soome lahe Soome Vabariigiga.\")"
   ]
  },
  {
   "cell_type": "code",
   "execution_count": 22,
   "metadata": {},
   "outputs": [],
   "source": [
    "sisend = [{'named_entities': [{'end': 14, 'label': 'LOC', 'start': 0},\n",
    "   {'end': 37, 'label': 'LOC', 'start': 23}],\n",
    "  'paragraphs': [{'end': 43, 'start': 0}],\n",
    "  'sentences': [{'end': 38, 'start': 0}],\n",
    "  'text': 'Eesti Vabariik on riik Põhja-Euroopas.\\n    ',\n",
    "  'words': [{'analysis': [{'clitic': '',\n",
    "      'ending': '0',\n",
    "      'form': 'sg g',\n",
    "      'lemma': 'Eesti',\n",
    "      'partofspeech': 'H',\n",
    "      'root': 'Eesti',\n",
    "      'root_tokens': ['Eesti']}],\n",
    "    'end': 5,\n",
    "    'label': 'B-LOC',\n",
    "    'start': 0,\n",
    "    'text': 'Eesti'},\n",
    "   {'analysis': [{'clitic': '',\n",
    "      'ending': '0',\n",
    "      'form': 'sg n',\n",
    "      'lemma': 'vabariik',\n",
    "      'partofspeech': 'S',\n",
    "      'root': 'vaba_riik',\n",
    "      'root_tokens': ['vaba', 'riik']}],\n",
    "    'end': 14,\n",
    "    'label': 'I-LOC',\n",
    "    'start': 6,\n",
    "    'text': 'Vabariik'},\n",
    "   {'analysis': [{'clitic': '',\n",
    "      'ending': '0',\n",
    "      'form': 'b',\n",
    "      'lemma': 'olema',\n",
    "      'partofspeech': 'V',\n",
    "      'root': 'ole',\n",
    "      'root_tokens': ['ole']},\n",
    "     {'clitic': '',\n",
    "      'ending': '0',\n",
    "      'form': 'vad',\n",
    "      'lemma': 'olema',\n",
    "      'partofspeech': 'V',\n",
    "      'root': 'ole',\n",
    "      'root_tokens': ['ole']}],\n",
    "    'end': 17,\n",
    "    'label': 'O',\n",
    "    'start': 15,\n",
    "    'text': 'on'},\n",
    "   {'analysis': [{'clitic': '',\n",
    "      'ending': '0',\n",
    "      'form': 'sg n',\n",
    "      'lemma': 'riik',\n",
    "      'partofspeech': 'S',\n",
    "      'root': 'riik',\n",
    "      'root_tokens': ['riik']}],\n",
    "    'end': 22,\n",
    "    'label': 'O',\n",
    "    'start': 18,\n",
    "    'text': 'riik'},\n",
    "   {'analysis': [{'clitic': '',\n",
    "      'ending': 's',\n",
    "      'form': 'sg in',\n",
    "      'lemma': 'Põhja-Euroobas',\n",
    "      'partofspeech': 'H',\n",
    "      'root': 'Põhja-Eu_roobas',\n",
    "      'root_tokens': ['Põhja', 'Eu', 'roobas']},\n",
    "     {'clitic': '',\n",
    "      'ending': 's',\n",
    "      'form': 'sg in',\n",
    "      'lemma': 'Põhja-Euroopa',\n",
    "      'partofspeech': 'H',\n",
    "      'root': 'Põhja-Euroopa',\n",
    "      'root_tokens': ['Põhja', 'Euroopa']}],\n",
    "    'end': 37,\n",
    "    'label': 'B-LOC',\n",
    "    'start': 23,\n",
    "    'text': 'Põhja-Euroopas'},\n",
    "   {'analysis': [{'clitic': '',\n",
    "      'ending': '',\n",
    "      'form': '',\n",
    "      'lemma': '.',\n",
    "      'partofspeech': 'Z',\n",
    "      'root': '.',\n",
    "      'root_tokens': ['.']}],\n",
    "    'end': 38,\n",
    "    'label': 'O',\n",
    "    'start': 37,\n",
    "    'text': '.'}]}]"
   ]
  },
  {
   "cell_type": "code",
   "execution_count": 19,
   "metadata": {
    "scrolled": false
   },
   "outputs": [],
   "source": [
    "tagged2 = ntager.tag_documents([textobject2])"
   ]
  },
  {
   "cell_type": "code",
   "execution_count": 20,
   "metadata": {},
   "outputs": [
    {
     "data": {
      "text/html": [
       "<h4>Layer</h4>\n",
       "\n",
       "\n",
       "<table border=\"1\" class=\"dataframe\">\n",
       "  <thead>\n",
       "    <tr style=\"text-align: right;\">\n",
       "      <th>layer name</th>\n",
       "      <th>attributes</th>\n",
       "      <th>parent</th>\n",
       "      <th>enveloping</th>\n",
       "      <th>ambiguous</th>\n",
       "      <th>span count</th>\n",
       "    </tr>\n",
       "  </thead>\n",
       "  <tbody>\n",
       "    <tr>\n",
       "      <td>ner</td>\n",
       "      <td>nertag, name</td>\n",
       "      <td>None</td>\n",
       "      <td>words</td>\n",
       "      <td>False</td>\n",
       "      <td>4</td>\n",
       "    </tr>\n",
       "  </tbody>\n",
       "</table>\n",
       "<table border=\"1\" class=\"dataframe\">\n",
       "  <thead>\n",
       "    <tr style=\"text-align: right;\">\n",
       "      <th>text</th>\n",
       "      <th>nertag</th>\n",
       "      <th>name</th>\n",
       "    </tr>\n",
       "  </thead>\n",
       "  <tbody>\n",
       "    <tr>\n",
       "      <td>['Eesti', 'Vabariik']</td>\n",
       "      <td>LOC</td>\n",
       "      <td>po</td>\n",
       "    </tr>\n",
       "    <tr>\n",
       "      <td>['Põhja-Euroopas']</td>\n",
       "      <td>LOC</td>\n",
       "      <td>po</td>\n",
       "    </tr>\n",
       "    <tr>\n",
       "      <td>['Eesti']</td>\n",
       "      <td>LOC</td>\n",
       "      <td>po</td>\n",
       "    </tr>\n",
       "    <tr>\n",
       "      <td>['Soome', 'lahe', 'Soome', 'Vabariigiga']</td>\n",
       "      <td>LOC</td>\n",
       "      <td>po</td>\n",
       "    </tr>\n",
       "  </tbody>\n",
       "</table>"
      ],
      "text/plain": [
       "Layer(name='ner', attributes=('nertag', 'name'), spans=SL[EnvelopingSpan(['Eesti', 'Vabariik'], [{'nertag': 'LOC', 'name': 'po'}]),\n",
       "EnvelopingSpan(['Põhja-Euroopas'], [{'nertag': 'LOC', 'name': 'po'}]),\n",
       "EnvelopingSpan(['Eesti'], [{'nertag': 'LOC', 'name': 'po'}]),\n",
       "EnvelopingSpan(['Soome', 'lahe', 'Soome', 'Vabariigiga'], [{'nertag': 'LOC', 'name': 'po'}])])"
      ]
     },
     "execution_count": 20,
     "metadata": {},
     "output_type": "execute_result"
    }
   ],
   "source": [
    "tagged2[0].ner"
   ]
  },
  {
   "cell_type": "code",
   "execution_count": 25,
   "metadata": {},
   "outputs": [
    {
     "name": "stdout",
     "output_type": "stream",
     "text": [
      "Span('Eesti', [{'normalized_form': None}])\n"
     ]
    }
   ],
   "source": [
    "for i, tekst in enumerate(textobject.words):\n",
    "    print(tekst)\n",
    "    break"
   ]
  },
  {
   "cell_type": "code",
   "execution_count": 16,
   "metadata": {},
   "outputs": [
    {
     "data": {
      "text/plain": [
       "['B-LOC',\n",
       " 'I-LOC',\n",
       " 'O',\n",
       " 'O',\n",
       " 'B-LOC',\n",
       " 'O',\n",
       " 'B-LOC',\n",
       " 'O',\n",
       " 'O',\n",
       " 'O',\n",
       " 'B-LOC',\n",
       " 'I-LOC',\n",
       " 'B-LOC',\n",
       " 'I-LOC',\n",
       " 'O']"
      ]
     },
     "execution_count": 16,
     "metadata": {},
     "output_type": "execute_result"
    }
   ],
   "source": [
    "tagged[0].ner[0].nertag"
   ]
  },
  {
   "cell_type": "code",
   "execution_count": 15,
   "metadata": {},
   "outputs": [
    {
     "data": {
      "text/html": [
       "<table border=\"1\" class=\"dataframe\">\n",
       "  <thead>\n",
       "    <tr style=\"text-align: right;\">\n",
       "      <th>text</th>\n",
       "    </tr>\n",
       "  </thead>\n",
       "  <tbody>\n",
       "    <tr>\n",
       "      <td><div align = \"left\">Eesti Vabariik on riik Põhja-Euroopas. Eesti piirneb põhjas üle Soome lahe Soome Vabariigiga.</div></td>\n",
       "    </tr>\n",
       "  </tbody>\n",
       "</table>\n",
       "<table border=\"1\" class=\"dataframe\">\n",
       "  <thead>\n",
       "    <tr style=\"text-align: right;\">\n",
       "      <th>layer name</th>\n",
       "      <th>attributes</th>\n",
       "      <th>parent</th>\n",
       "      <th>enveloping</th>\n",
       "      <th>ambiguous</th>\n",
       "      <th>span count</th>\n",
       "    </tr>\n",
       "  </thead>\n",
       "  <tbody>\n",
       "    <tr>\n",
       "      <td>sentences</td>\n",
       "      <td></td>\n",
       "      <td>None</td>\n",
       "      <td>words</td>\n",
       "      <td>False</td>\n",
       "      <td>2</td>\n",
       "    </tr>\n",
       "    <tr>\n",
       "      <td>tokens</td>\n",
       "      <td></td>\n",
       "      <td>None</td>\n",
       "      <td>None</td>\n",
       "      <td>False</td>\n",
       "      <td>17</td>\n",
       "    </tr>\n",
       "    <tr>\n",
       "      <td>compound_tokens</td>\n",
       "      <td>type, normalized</td>\n",
       "      <td>None</td>\n",
       "      <td>tokens</td>\n",
       "      <td>False</td>\n",
       "      <td>1</td>\n",
       "    </tr>\n",
       "    <tr>\n",
       "      <td>words</td>\n",
       "      <td>normalized_form</td>\n",
       "      <td>None</td>\n",
       "      <td>None</td>\n",
       "      <td>True</td>\n",
       "      <td>15</td>\n",
       "    </tr>\n",
       "    <tr>\n",
       "      <td>morph_analysis</td>\n",
       "      <td>normalized_text, lemma, root, root_tokens, ending, clitic, form, partofspeech</td>\n",
       "      <td>words</td>\n",
       "      <td>None</td>\n",
       "      <td>True</td>\n",
       "      <td>15</td>\n",
       "    </tr>\n",
       "  </tbody>\n",
       "</table>"
      ],
      "text/plain": [
       "Text(text='Eesti Vabariik on riik Põhja-Euroopas. Eesti piirneb põhjas üle Soome lahe Soome Vabariigiga.')"
      ]
     },
     "execution_count": 15,
     "metadata": {},
     "output_type": "execute_result"
    }
   ],
   "source": [
    "textobject"
   ]
  }
 ],
 "metadata": {
  "kernelspec": {
   "display_name": "Python 3",
   "language": "python",
   "name": "python3"
  },
  "language_info": {
   "codemirror_mode": {
    "name": "ipython",
    "version": 3
   },
   "file_extension": ".py",
   "mimetype": "text/x-python",
   "name": "python",
   "nbconvert_exporter": "python",
   "pygments_lexer": "ipython3",
   "version": "3.5.5"
  }
 },
 "nbformat": 4,
 "nbformat_minor": 2
}
