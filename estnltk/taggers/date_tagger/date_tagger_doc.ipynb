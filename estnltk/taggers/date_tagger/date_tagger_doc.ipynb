{
 "cells": [
  {
   "cell_type": "markdown",
   "metadata": {},
   "source": [
    "# DateTagger\n",
    "\n",
    "A class that tags dates in **Text** object.\n",
    "\n",
    "## Usage"
   ]
  },
  {
   "cell_type": "code",
   "execution_count": 1,
   "metadata": {
    "collapsed": false
   },
   "outputs": [],
   "source": [
    "from date_tagger import DateTagger\n",
    "from estnltk import *\n",
    "from pprint import pprint\n",
    "from IPython.display import HTML, FileLink\n",
    "from estnltk.names import TEXT, START, END"
   ]
  },
  {
   "cell_type": "code",
   "execution_count": 2,
   "metadata": {
    "collapsed": true
   },
   "outputs": [],
   "source": [
    "tagger = DateTagger(return_layer=False, layer_name = 'date')\n"
   ]
  },
  {
   "cell_type": "markdown",
   "metadata": {},
   "source": [
    "### Example"
   ]
  },
  {
   "cell_type": "code",
   "execution_count": 3,
   "metadata": {
    "collapsed": false
   },
   "outputs": [],
   "source": [
    "sent = Text('''07.07.2011 14:25 - KOLK, REIN - D04946 - E170 - kardioloogia. \n",
    "Tuleb 28.05., enne KTG.\n",
    "pt.-l 2007a.-l diagnoositud sügatõbi:',\n",
    "'11.09.13. tehtud S.Rhesonatiivi 1250TÜ i/m',\n",
    "'Eelmine kord 2009 ja diagnoosika jäi reaktiivne artropaatia',\n",
    "            'haava revideerimine od kl 21.20',\n",
    "' 17.09.2013.a. kell 06:09 sünnib elus ajaline T 3250/50.',\n",
    "'Kontrolli 20.04.2013 kell 11.00 I-korrus, \n",
    "'Lõikus 4.1.2013.',\n",
    "'Kontrollile- 09.2011'\n",
    "\"05.09.2012 tehtud SKG\n",
    "1.09 angiograafia leid \n",
    "02.09 kell 09.15 taastus siinusrütm''')"
   ]
  },
  {
   "cell_type": "code",
   "execution_count": 4,
   "metadata": {
    "collapsed": false,
    "scrolled": true
   },
   "outputs": [
    {
     "data": {
      "text/plain": [
       "{'date': [{'end': 16,\n",
       "   'example': '21.03.2015 15:30:45',\n",
       "   'extracted_values': {'datetime': datetime.datetime(2011, 7, 7, 14, 25)},\n",
       "   'groups': {'DAY': '07',\n",
       "    'MONTH': '07',\n",
       "    'YEAR': '2011',\n",
       "    'hour': '14',\n",
       "    'minute': '25',\n",
       "    'second': None},\n",
       "   'probability': '0.9',\n",
       "   'regex': '(^|[^0-9])(?P<DAY>(0?[1-9]|[12][0-9]|3[01]))\\\\.\\\\s*(?P<MONTH>(0?[1-9]|1[0-2]))\\\\.\\\\s*(?P<YEAR>((19[0-9]{2})|(20[0-9]{2})|([0-9]{2})))\\\\s*(?P<hour>[0-2][0-9])[:](?P<minute>[0-5][0-9])(:(?P<second>[0-5][0-9]))?',\n",
       "   'start': 0,\n",
       "   'type': 'date_time'},\n",
       "  {'end': 98,\n",
       "   'example': '1998a',\n",
       "   'extracted_values': {},\n",
       "   'groups': {'LONGYEAR': '2007'},\n",
       "   'probability': '0.8',\n",
       "   'regex': '(^|[^0-9])(?P<LONGYEAR>((19[0-9]{2})|(20[0-9]{2})))\\\\s*a',\n",
       "   'start': 92,\n",
       "   'type': 'partial_date'},\n",
       "  {'end': 137,\n",
       "   'example': '12.01.98',\n",
       "   'extracted_values': {'date': datetime.date(2013, 9, 11)},\n",
       "   'groups': {'DAY': '11', 'MONTH': '09', 'YEAR': '13'},\n",
       "   'probability': '0.8',\n",
       "   'regex': '(^|[^0-9])(?P<DAY>(0?[1-9]|[12][0-9]|3[01]))\\\\.\\\\s*(?P<MONTH>(0?[1-9]|1[0-2]))\\\\.\\\\s*(?P<YEAR>((19[0-9]{2})|(20[0-9]{2})|([0-9]{2})))($|[^0-9])',\n",
       "   'start': 127,\n",
       "   'type': 'date'},\n",
       "  {'end': 192,\n",
       "   'example': '1998',\n",
       "   'extracted_values': {},\n",
       "   'groups': {'LONGYEAR': '2009'},\n",
       "   'probability': '0.4',\n",
       "   'regex': '(^|[^0-9])(?P<LONGYEAR>((19[0-9]{2})|(20[0-9]{2})))($|[^0-9])',\n",
       "   'start': 186,\n",
       "   'type': 'partial_date'},\n",
       "  {'end': 309,\n",
       "   'example': '21.03.2015. kell 15:30',\n",
       "   'extracted_values': {'datetime': datetime.datetime(2013, 9, 17, 6, 9)},\n",
       "   'groups': {'DAY': '17',\n",
       "    'MONTH': '09',\n",
       "    'YEAR': '2013',\n",
       "    'hour': '06',\n",
       "    'minute': '09',\n",
       "    'second': None},\n",
       "   'probability': '1.0',\n",
       "   'regex': '(^|[^0-9])(?P<DAY>(0?[1-9]|[12][0-9]|3[01]))\\\\.\\\\s*(?P<MONTH>(0?[1-9]|1[0-2]))\\\\.\\\\s*(?P<YEAR>((19[0-9]{2})|(20[0-9]{2})|([0-9]{2})))[.a ]+\\\\s*k(el)?l\\\\.*\\\\s*(?P<hour>[0-2][0-9])[:](?P<minute>[0-5][0-9])(:(?P<second>[0-5][0-9]))?',\n",
       "   'start': 284,\n",
       "   'type': 'date_time'},\n",
       "  {'end': 365,\n",
       "   'example': '12.01.98',\n",
       "   'extracted_values': {'date': datetime.date(2013, 4, 20)},\n",
       "   'groups': {'DAY': '20', 'MONTH': '04', 'YEAR': '2013'},\n",
       "   'probability': '0.8',\n",
       "   'regex': '(^|[^0-9])(?P<DAY>(0?[1-9]|[12][0-9]|3[01]))\\\\.\\\\s*(?P<MONTH>(0?[1-9]|1[0-2]))\\\\.\\\\s*(?P<YEAR>((19[0-9]{2})|(20[0-9]{2})|([0-9]{2})))($|[^0-9])',\n",
       "   'start': 353,\n",
       "   'type': 'date'},\n",
       "  {'end': 404,\n",
       "   'example': '12.01.98',\n",
       "   'extracted_values': {'date': datetime.date(2013, 1, 4)},\n",
       "   'groups': {'DAY': '4', 'MONTH': '1', 'YEAR': '2013'},\n",
       "   'probability': '0.8',\n",
       "   'regex': '(^|[^0-9])(?P<DAY>(0?[1-9]|[12][0-9]|3[01]))\\\\.\\\\s*(?P<MONTH>(0?[1-9]|1[0-2]))\\\\.\\\\s*(?P<YEAR>((19[0-9]{2})|(20[0-9]{2})|([0-9]{2})))($|[^0-9])',\n",
       "   'start': 394,\n",
       "   'type': 'date'},\n",
       "  {'end': 429,\n",
       "   'example': '03.2012',\n",
       "   'extracted_values': {},\n",
       "   'groups': {'LONGYEAR': '2011', 'MONTH': '09'},\n",
       "   'probability': '0.6',\n",
       "   'regex': '(^|[^0-9])(?P<MONTH>(0?[1-9]|1[0-2]))\\\\.\\\\s?(?P<LONGYEAR>((19[0-9]{2})|(20[0-9]{2})))($|[^0-9])',\n",
       "   'start': 420,\n",
       "   'type': 'partial_date'},\n",
       "  {'end': 442,\n",
       "   'example': '12.01.98',\n",
       "   'extracted_values': {'date': datetime.date(2012, 9, 5)},\n",
       "   'groups': {'DAY': '05', 'MONTH': '09', 'YEAR': '2012'},\n",
       "   'probability': '0.8',\n",
       "   'regex': '(^|[^0-9])(?P<DAY>(0?[1-9]|[12][0-9]|3[01]))\\\\.\\\\s*(?P<MONTH>(0?[1-9]|1[0-2]))\\\\.\\\\s*(?P<YEAR>((19[0-9]{2})|(20[0-9]{2})|([0-9]{2})))($|[^0-9])',\n",
       "   'start': 430,\n",
       "   'type': 'date'}],\n",
       " 'text': '07.07.2011 14:25 - KOLK, REIN - D04946 - E170 - kardioloogia. \\nTuleb 28.05., enne KTG.\\npt.-l 2007a.-l diagnoositud sügatõbi:\\',\\n\\'11.09.13. tehtud S.Rhesonatiivi 1250TÜ i/m\\',\\n\\'Eelmine kord 2009 ja diagnoosika jäi reaktiivne artropaatia\\',\\n            \\'haava revideerimine od kl 21.20\\',\\n\\' 17.09.2013.a. kell 06:09 sünnib elus ajaline T 3250/50.\\',\\n\\'Kontrolli 20.04.2013 kell 11.00 I-korrus, \\n\\'Lõikus 4.1.2013.\\',\\n\\'Kontrollile- 09.2011\\'\\n\"05.09.2012 tehtud SKG\\n1.09 angiograafia leid \\n02.09 kell 09.15 taastus siinusrütm'}"
      ]
     },
     "execution_count": 4,
     "metadata": {},
     "output_type": "execute_result"
    }
   ],
   "source": [
    "tagger.tag(sent)"
   ]
  },
  {
   "cell_type": "markdown",
   "metadata": {},
   "source": [
    "The tagger tags 4 types of dates: date_time, date, time and partial_date (only a year, year and month or month and day). The examples of different types can be seen from below (meanings of colours are seen from the list 'rules'). For the first three types, an attribute 'extracted_values' is added which contains the detected datetime object."
   ]
  },
  {
   "cell_type": "code",
   "execution_count": 5,
   "metadata": {
    "collapsed": false
   },
   "outputs": [
    {
     "data": {
      "text/html": [
       "<!DOCTYPE html>\n",
       "<html>\n",
       "    <head>\n",
       "        <link rel=\"stylesheet\" type=\"text/css\" href=\"prettyprinter.css\">\n",
       "        <meta charset=\"utf-8\">\n",
       "        <title>PrettyPrinter</title>\n",
       "    </head>\n",
       "    <style>\n",
       "\n",
       "\n",
       "\t\tmark {\n",
       "\t\t\tbackground:none;\n",
       "\t\t}\n",
       "\t\tmark.background_0 {\n",
       "\t\t\tbackground-color: pink;\n",
       "\t\t}\n",
       "\t\tmark.background_1 {\n",
       "\t\t\tbackground-color: lightgreen;\n",
       "\t\t}\n",
       "\t\tmark.background_2 {\n",
       "\t\t\tbackground-color: yellow;\n",
       "\t\t}\n",
       "\t\tmark.background_3 {\n",
       "\t\t\tbackground-color: lightblue;\n",
       "\t\t}\n",
       "\n",
       "    </style>\n",
       "    <body>\n",
       "\n",
       "<mark class=\"background_0\">07.07.2011 14:25</mark> - KOLK, REIN - D04946 - E170 - kardioloogia. <br/>Tuleb 28.05., enne KTG.<br/>pt.-l<mark class=\"background_2\"> 2007a</mark>.-l diagnoositud sügatõbi:&#x27;,<br/><mark class=\"background_1\">&#x27;11.09.13.</mark> tehtud S.Rhesonatiivi 1250TÜ i/m&#x27;,<br/>&#x27;Eelmine kord<mark class=\"background_2\"> 2009 </mark>ja diagnoosika jäi reaktiivne artropaatia&#x27;,<br/>            &#x27;haava revideerimine od kl 21.20&#x27;,<br/>&#x27;<mark class=\"background_0\"> 17.09.2013.a. kell 06:09</mark> sünnib elus ajaline T 3250/50.&#x27;,<br/>&#x27;Kontrolli<mark class=\"background_1\"> 20.04.2013 </mark>kell 11.00 I-korrus, <br/>&#x27;Lõikus<mark class=\"background_1\"> 4.1.2013.</mark>&#x27;,<br/>&#x27;Kontrollile-<mark class=\"background_2\"> 09.2011&#x27;</mark><br/><mark class=\"background_1\">&quot;05.09.2012 </mark>tehtud SKG<br/>1.09 angiograafia leid <br/>02.09 kell 09.15 taastus siinusrütm\n",
       "\t</body>\n",
       "</html>"
      ],
      "text/plain": [
       "<IPython.core.display.HTML object>"
      ]
     },
     "execution_count": 5,
     "metadata": {},
     "output_type": "execute_result"
    }
   ],
   "source": [
    "rules = [\n",
    "            ('date_time', 'pink'),\n",
    "            ('date', 'lightgreen'),\n",
    "            ('partial_date', 'yellow'),\n",
    "            ('time', 'lightblue')\n",
    "        ]\n",
    "\n",
    "\n",
    "\n",
    "def extract(text):\n",
    "    return ({TEXT: t['type'], \n",
    "            START: t[START], \n",
    "             END: t[END]} \n",
    "            for t in text['date'])\n",
    "\n",
    "pp = PrettyPrinter(background=extract, background_value=rules)\n",
    "html = pp.render(sent, True)\n",
    "HTML(html)"
   ]
  }
 ],
 "metadata": {
  "anaconda-cloud": {},
  "kernelspec": {
   "display_name": "Python [default]",
   "language": "python",
   "name": "python3"
  },
  "language_info": {
   "codemirror_mode": {
    "name": "ipython",
    "version": 3
   },
   "file_extension": ".py",
   "mimetype": "text/x-python",
   "name": "python",
   "nbconvert_exporter": "python",
   "pygments_lexer": "ipython3",
   "version": "3.5.0"
  }
 },
 "nbformat": 4,
 "nbformat_minor": 0
}
