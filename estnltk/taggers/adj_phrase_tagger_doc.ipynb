{
 "cells": [
  {
   "cell_type": "markdown",
   "metadata": {},
   "source": [
    "# AdjectivePhraseTagger\n",
    "\n",
    "A class that finds adjective phrases consisting of adverbs and adjectives from **Text** object.\n",
    "\n",
    "## Usage"
   ]
  },
  {
   "cell_type": "code",
   "execution_count": 19,
   "metadata": {
    "collapsed": false
   },
   "outputs": [],
   "source": [
    "from adjective_phrase_tagger.adj_phrase_tagger import AdjectivePhraseTagger\n",
    "from estnltk import *\n",
    "from pprint import pprint\n",
    "import codecs"
   ]
  },
  {
   "cell_type": "markdown",
   "metadata": {},
   "source": [
    "### Example 1\n",
    "Create **Text** object, **AdjectivePhraseTagger** object and get the list of adjective phrases."
   ]
  },
  {
   "cell_type": "code",
   "execution_count": 20,
   "metadata": {
    "collapsed": false
   },
   "outputs": [
    {
     "data": {
      "text/plain": [
       "[{'end': 17,\n",
       "  'intersects_with_verb': False,\n",
       "  'lemmas': ['peaaegu', '8aastane'],\n",
       "  'measurement_adj': True,\n",
       "  'start': 0,\n",
       "  'text': 'Peaaegu 8-aastane',\n",
       "  'type': 'adjective'},\n",
       " {'end': 59,\n",
       "  'intersects_with_verb': False,\n",
       "  'lemmas': ['väga', 'energiline', 'ja', 'mänguhimuline'],\n",
       "  'measurement_adj': False,\n",
       "  'start': 27,\n",
       "  'text': 'väga energiline ja mänguhimuline',\n",
       "  'type': 'adjective'}]"
      ]
     },
     "execution_count": 20,
     "metadata": {},
     "output_type": "execute_result"
    }
   ],
   "source": [
    "tagger = AdjectivePhraseTagger(return_layer=True)\n",
    "sent = Text(\"Peaaegu 8-aastane koer oli väga energiline ja mänguhimuline.\")\n",
    "tagger.tag(sent)"
   ]
  },
  {
   "cell_type": "markdown",
   "metadata": {},
   "source": [
    "'type' is the type of the phrase: normal adjective phrase ('adjective'), comparative phrase or participle phrase"
   ]
  },
  {
   "cell_type": "markdown",
   "metadata": {},
   "source": [
    "'measurement_adj' means that the adjective in the phrase either contains a number or some other type of measurement\n"
   ]
  },
  {
   "cell_type": "markdown",
   "metadata": {},
   "source": [
    "'intersects_with_verb' signifies whether the found adjective phrase intersects with a verb phrase in the text; this happens mostly in the case of participles as in the following sentence:"
   ]
  },
  {
   "cell_type": "code",
   "execution_count": 21,
   "metadata": {
    "collapsed": false,
    "scrolled": true
   },
   "outputs": [
    {
     "data": {
      "text/plain": [
       "[{'end': 21,\n",
       "  'intersects_with_verb': True,\n",
       "  'lemmas': ['väga', 'üllatuma|üllatunu|üllatunud'],\n",
       "  'measurement_adj': False,\n",
       "  'start': 7,\n",
       "  'text': 'väga üllatunud',\n",
       "  'type': 'participle'}]"
      ]
     },
     "execution_count": 21,
     "metadata": {},
     "output_type": "execute_result"
    }
   ],
   "source": [
    "tagger.tag(Text(\"Ta oli väga üllatunud.\"))"
   ]
  },
  {
   "cell_type": "markdown",
   "metadata": {},
   "source": [
    "### Example 2\n",
    "Tag the adjective phrases in the **Text** object "
   ]
  },
  {
   "cell_type": "code",
   "execution_count": 22,
   "metadata": {
    "collapsed": false
   },
   "outputs": [
    {
     "data": {
      "text/plain": [
       "{'adjective_phrase': [{'end': 17,\n",
       "   'intersects_with_verb': False,\n",
       "   'lemmas': ['peaaegu', '8aastane'],\n",
       "   'measurement_adj': True,\n",
       "   'start': 0,\n",
       "   'text': 'Peaaegu 8-aastane',\n",
       "   'type': 'adjective'},\n",
       "  {'end': 59,\n",
       "   'intersects_with_verb': False,\n",
       "   'lemmas': ['väga', 'energiline', 'ja', 'mänguhimuline'],\n",
       "   'measurement_adj': False,\n",
       "   'start': 27,\n",
       "   'text': 'väga energiline ja mänguhimuline',\n",
       "   'type': 'adjective'}],\n",
       " 'clauses': [{'end': [60], 'start': [0]}],\n",
       " 'paragraphs': [{'end': 60, 'start': 0}],\n",
       " 'sentences': [{'end': 60, 'start': 0}],\n",
       " 'text': 'Peaaegu 8-aastane koer oli väga energiline ja mänguhimuline.',\n",
       " 'verb_chains': [{'analysis_ids': [[0]],\n",
       "   'clause_index': 0,\n",
       "   'end': [26],\n",
       "   'mood': 'indic',\n",
       "   'morph': ['V_s'],\n",
       "   'other_verbs': False,\n",
       "   'pattern': ['ole'],\n",
       "   'phrase': [3],\n",
       "   'pol': 'POS',\n",
       "   'roots': ['ole'],\n",
       "   'start': [23],\n",
       "   'tense': 'imperfect',\n",
       "   'voice': 'personal'}],\n",
       " 'words': [{'analysis': [{'clitic': '',\n",
       "     'ending': '0',\n",
       "     'form': '',\n",
       "     'lemma': 'peaaegu',\n",
       "     'partofspeech': 'D',\n",
       "     'root': 'pea_aegu',\n",
       "     'root_tokens': ['pea', 'aegu']}],\n",
       "   'clause_index': 0,\n",
       "   'end': 7,\n",
       "   'start': 0,\n",
       "   'text': 'Peaaegu',\n",
       "   'word_id': 0},\n",
       "  {'analysis': [{'clitic': '',\n",
       "     'ending': '0',\n",
       "     'form': 'sg n',\n",
       "     'lemma': '8aastane',\n",
       "     'partofspeech': 'A',\n",
       "     'root': '8_aastane',\n",
       "     'root_tokens': ['8', 'aastane']}],\n",
       "   'clause_index': 0,\n",
       "   'end': 17,\n",
       "   'start': 8,\n",
       "   'text': '8-aastane',\n",
       "   'word_id': 1},\n",
       "  {'analysis': [{'clitic': '',\n",
       "     'ending': '0',\n",
       "     'form': 'sg n',\n",
       "     'lemma': 'koer',\n",
       "     'partofspeech': 'S',\n",
       "     'root': 'koer',\n",
       "     'root_tokens': ['koer']}],\n",
       "   'clause_index': 0,\n",
       "   'end': 22,\n",
       "   'start': 18,\n",
       "   'text': 'koer',\n",
       "   'word_id': 2},\n",
       "  {'analysis': [{'clitic': '',\n",
       "     'ending': 'i',\n",
       "     'form': 's',\n",
       "     'lemma': 'olema',\n",
       "     'partofspeech': 'V',\n",
       "     'root': 'ole',\n",
       "     'root_tokens': ['ole']}],\n",
       "   'clause_index': 0,\n",
       "   'end': 26,\n",
       "   'start': 23,\n",
       "   'text': 'oli',\n",
       "   'word_id': 3},\n",
       "  {'analysis': [{'clitic': '',\n",
       "     'ending': '0',\n",
       "     'form': '',\n",
       "     'lemma': 'väga',\n",
       "     'partofspeech': 'D',\n",
       "     'root': 'väga',\n",
       "     'root_tokens': ['väga']}],\n",
       "   'clause_index': 0,\n",
       "   'end': 31,\n",
       "   'start': 27,\n",
       "   'text': 'väga',\n",
       "   'word_id': 4},\n",
       "  {'analysis': [{'clitic': '',\n",
       "     'ending': '0',\n",
       "     'form': 'sg n',\n",
       "     'lemma': 'energiline',\n",
       "     'partofspeech': 'A',\n",
       "     'root': 'energiline',\n",
       "     'root_tokens': ['energiline']}],\n",
       "   'clause_index': 0,\n",
       "   'end': 42,\n",
       "   'start': 32,\n",
       "   'text': 'energiline',\n",
       "   'word_id': 5},\n",
       "  {'analysis': [{'clitic': '',\n",
       "     'ending': '0',\n",
       "     'form': '',\n",
       "     'lemma': 'ja',\n",
       "     'partofspeech': 'J',\n",
       "     'root': 'ja',\n",
       "     'root_tokens': ['ja']}],\n",
       "   'clause_index': 0,\n",
       "   'end': 45,\n",
       "   'start': 43,\n",
       "   'text': 'ja',\n",
       "   'word_id': 6},\n",
       "  {'analysis': [{'clitic': '',\n",
       "     'ending': '0',\n",
       "     'form': 'sg n',\n",
       "     'lemma': 'mänguhimuline',\n",
       "     'partofspeech': 'A',\n",
       "     'root': 'mängu_himuline',\n",
       "     'root_tokens': ['mängu', 'himuline']}],\n",
       "   'clause_index': 0,\n",
       "   'end': 59,\n",
       "   'start': 46,\n",
       "   'text': 'mänguhimuline',\n",
       "   'word_id': 7},\n",
       "  {'analysis': [{'clitic': '',\n",
       "     'ending': '',\n",
       "     'form': '',\n",
       "     'lemma': '.',\n",
       "     'partofspeech': 'Z',\n",
       "     'root': '.',\n",
       "     'root_tokens': ['.']}],\n",
       "   'clause_index': 0,\n",
       "   'end': 60,\n",
       "   'start': 59,\n",
       "   'text': '.',\n",
       "   'word_id': 8}]}"
      ]
     },
     "execution_count": 22,
     "metadata": {},
     "output_type": "execute_result"
    }
   ],
   "source": [
    "tagger2 = AdjectivePhraseTagger(return_layer=False, layer_name = 'adjective_phrase')\n",
    "sent = Text(\"Peaaegu 8-aastane koer oli väga energiline ja mänguhimuline.\")\n",
    "tagger2.tag(sent)"
   ]
  },
  {
   "cell_type": "code",
   "execution_count": null,
   "metadata": {
    "collapsed": false
   },
   "outputs": [],
   "source": []
  },
  {
   "cell_type": "code",
   "execution_count": null,
   "metadata": {
    "collapsed": true
   },
   "outputs": [],
   "source": []
  }
 ],
 "metadata": {
  "kernelspec": {
   "display_name": "Python 3",
   "language": "python",
   "name": "python3"
  },
  "language_info": {
   "codemirror_mode": {
    "name": "ipython",
    "version": 3
   },
   "file_extension": ".py",
   "mimetype": "text/x-python",
   "name": "python",
   "nbconvert_exporter": "python",
   "pygments_lexer": "ipython3",
   "version": "3.5.1"
  }
 },
 "nbformat": 4,
 "nbformat_minor": 0
}
