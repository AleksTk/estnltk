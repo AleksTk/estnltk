{
 "cells": [
  {
   "cell_type": "code",
   "execution_count": 6,
   "metadata": {},
   "outputs": [],
   "source": [
    "from lxml import etree\n",
    "import sqlite3"
   ]
  },
  {
   "cell_type": "code",
   "execution_count": 7,
   "metadata": {},
   "outputs": [],
   "source": [
    "xml_db = 'wordnet/data/xml_entries.db'\n",
    "sset_db = 'wordnet/data/all_synsets.db'\n",
    "xml_rel_db = 'wordnet/data/xml_relations.db'"
   ]
  },
  {
   "cell_type": "code",
   "execution_count": 8,
   "metadata": {},
   "outputs": [],
   "source": [
    "tree = etree.parse(\"estwn-et-2.0.0.beta.xml\")"
   ]
  },
  {
   "cell_type": "code",
   "execution_count": 9,
   "metadata": {},
   "outputs": [],
   "source": [
    "def create_connection(db_file):\n",
    "    \"\"\" create a database connection to the SQLite database\n",
    "        specified by db_file\n",
    "    :param db_file: database file\n",
    "    :return: Connection object or None\n",
    "    \"\"\"\n",
    "    try:\n",
    "        conn = sqlite3.connect(db_file)\n",
    "        return conn\n",
    "    except sqlite3.Error as e:\n",
    "        print(\"Connection error: [%s]\" % e)\n",
    "\n",
    "    return None\n",
    "\n",
    "def create_table(conn, create_table_sql ):\n",
    "    \"\"\" create a table from the create_table_sql statement\n",
    "    :param conn: Connection object\n",
    "    :param create_table_sql: a CREATE TABLE statement\n",
    "    :return:\n",
    "    \"\"\"\n",
    "    try:\n",
    "        c = conn.cursor()\n",
    "        c.execute(create_table_sql)\n",
    "    except sqlite3.Error as e:\n",
    "        print(\"Connection error while creating table: [%s]\" % e)\n",
    "\n",
    "\n",
    "def entryTable(databaseLoc):\n",
    "\n",
    "    sql_create_synset_table = ''' CREATE TABLE IF NOT EXISTS xml_LexicalEntry(\n",
    "                                        \n",
    "                                        estwn_id TEXT NOT NULL,\n",
    "                                        writtenForm TEXT NOT NULL,\n",
    "                                        pos TEXT NOT NULL,\n",
    "                                        sense INT NOT NULL,\n",
    "                                        status TEXT NOT NULL\n",
    "                                                    ); '''\n",
    "    conn = create_connection(databaseLoc)\n",
    "    if conn is not None:\n",
    "        create_table(conn,sql_create_synset_table)\n",
    "    else:\n",
    "        print(\"Error! cannot create db conn.\")        "
   ]
  },
  {
   "cell_type": "code",
   "execution_count": 10,
   "metadata": {},
   "outputs": [],
   "source": [
    "\n",
    "def fetch_entries(tree):\n",
    "    synsets = tree.xpath('/LexicalResource/Lexicon/LexicalEntry')\n",
    "    j=0\n",
    "    for sset in synsets:\n",
    "        if len(sset)>1:\n",
    "            for i in range(1, len(sset)):\n",
    "                status_list.append(sset[i].attrib['status'])\n",
    "                sset_list.append(sset[i].attrib['id'])\n",
    "                pos_list.append(sset[0].attrib['partOfSpeech'])\n",
    "                lemma_list.append(sset[0].attrib['writtenForm'])    \n",
    "                sense = sset[i].attrib['id']\n",
    "                sense_list.append(sense[-1:])\n",
    "                \n",
    "                \n",
    "        else:\n",
    "            try:\n",
    "                pos_list.append(sset[0].attrib['partOfSpeech'])\n",
    "                lemma_list.append(sset[0].attrib['writtenForm'])\n",
    "                word = sset[0].attrib['writtenForm']\n",
    "                \n",
    "                if \" \" in word:\n",
    "                    var = word.replace(\" \", \"_\")\n",
    "                    word = var\n",
    "                sset_list.append( \"s-\" + word + \"-\" + sset[0].attrib['partOfSpeech'] )\n",
    "                \n",
    "                estwnId_list.append(sset.attrib['id'])\n",
    "                sense = sset.attrib['id']\n",
    "                sense_list.append(sense[-1:])\n",
    "                status_list.append(\"None\")\n",
    "            except:\n",
    "                print(\"pass @\",j)\n",
    "                pass\n",
    "        j+=1\n",
    "        '''\n",
    "        for relations\n",
    "        \n",
    "        if len(sset) > 2:\n",
    "            for data in sset:\n",
    "                #print(data.attrib)\n",
    "                \n",
    "                status_list.append(data.attrib['target'])\n",
    "                conf_list.append((data.attrib['confidenceScore']))\n",
    "                source_sense.append(data[0].attrib['sourceSense'])           \n",
    "                '''"
   ]
  },
  {
   "cell_type": "code",
   "execution_count": 11,
   "metadata": {},
   "outputs": [],
   "source": [
    "def upload_entries(db_file):\n",
    "    entryTable(db_file)\n",
    "    conn = create_connection(db_file)\n",
    "    cursor = conn.cursor()\n",
    "    \n",
    "    with conn:\n",
    "        for i in range(len(sset_list)):\n",
    "              \n",
    "            cursor.execute(\"INSERT INTO XML_LexicalEntry(estwn_id, writtenForm, pos, sense, status) VALUES(?,?,?,?, ?)\"\\\n",
    "                                                        ,(estwnId_list[i],lemma_list[i], pos_list[i], sense_list[i], status_list[i]))\n",
    "            conn.commit()"
   ]
  },
  {
   "cell_type": "code",
   "execution_count": 12,
   "metadata": {},
   "outputs": [],
   "source": [
    "def fetch_lemma(estwn_id):\n",
    "    '''\n",
    "    \n",
    "    '''\n",
    "    xml_conn = create_connection(xml_db)\n",
    "    cursor = xml_conn.cursor()\n",
    "    with xml_conn:\n",
    "        #select all synsets with different indices from table.\n",
    "        cursor.execute(\"SELECT DISTINCT writtenForm FROM XML_LexicalEntry WHERE estwn_id = ?\", (estwn_id,))\n",
    "        row = cursor.fetchone()\n",
    "        #print(row[0])\n",
    "        if row is not None:\n",
    "            return row[0]"
   ]
  },
  {
   "cell_type": "code",
   "execution_count": 13,
   "metadata": {},
   "outputs": [],
   "source": [
    "def fetch_ssetId(estwn_id):\n",
    "    \n",
    "    lemma = fetch_lemma(estwn_id)\n",
    "    \n",
    "    db_conn = create_connection(sset_db)\n",
    "    cursor = db_conn.cursor()\n",
    "    with db_conn:\n",
    "        cursor.execute(\"SELECT DISTINCT synset_id FROM synset_table WHERE synset_word = ?\", (lemma,))\n",
    "        row = cursor.fetchone()\n",
    "        if row is not None:\n",
    "            #print(row[0])\n",
    "            return row[0]"
   ]
  },
  {
   "cell_type": "code",
   "execution_count": 16,
   "metadata": {},
   "outputs": [],
   "source": [
    "\n",
    "status_list=[]\n",
    "pos_list = []\n",
    "lemma_list = []\n",
    "sset_list=[]\n",
    "sense_list=[]\n",
    "\n",
    "\n",
    "fetch_entries(tree)"
   ]
  },
  {
   "cell_type": "code",
   "execution_count": 90,
   "metadata": {
    "collapsed": true
   },
   "outputs": [
    {
     "name": "stdout",
     "output_type": "stream",
     "text": [
      "133161\n",
      "133161\n",
      "133161\n",
      "133161\n",
      "133161\n",
      "133161\n"
     ]
    }
   ],
   "source": [
    "\n",
    "\n",
    "upload_entries(xml_db)"
   ]
  }
 ],
 "metadata": {
  "kernelspec": {
   "display_name": "Python 3",
   "language": "python",
   "name": "python3"
  },
  "language_info": {
   "codemirror_mode": {
    "name": "ipython",
    "version": 3
   },
   "file_extension": ".py",
   "mimetype": "text/x-python",
   "name": "python",
   "nbconvert_exporter": "python",
   "pygments_lexer": "ipython3",
   "version": "3.5.5"
  }
 },
 "nbformat": 4,
 "nbformat_minor": 2
}
