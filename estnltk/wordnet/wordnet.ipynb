{
 "cells": [
  {
   "cell_type": "code",
   "execution_count": 1,
   "metadata": {},
   "outputs": [],
   "source": [
    "import sqlite3\n",
    "from psycopg2.sql import SQL, Identifier, Literal, DEFAULT, Composed"
   ]
  },
  {
   "cell_type": "code",
   "execution_count": 2,
   "metadata": {},
   "outputs": [],
   "source": [
    "entry_db = 'data/estwn_kb74/wordnet_entry.db'"
   ]
  },
  {
   "cell_type": "code",
   "execution_count": 3,
   "metadata": {},
   "outputs": [],
   "source": [
    "def create_connection(db_file):\n",
    "    \"\"\" create a database connection to the SQLite database\n",
    "        specified by db_file\n",
    "    :param db_file: database file\n",
    "    :return: Connection object or None\n",
    "    \"\"\"\n",
    "    try:\n",
    "        conn = sqlite3.connect(db_file)\n",
    "        return conn\n",
    "    except sqlite3.Error as e:\n",
    "        print(\"Connection error: [%s]\" % e)\n",
    "\n",
    "    return None"
   ]
  },
  {
   "cell_type": "code",
   "execution_count": 4,
   "metadata": {},
   "outputs": [],
   "source": [
    "conn= create_connection('data/estwn_kb74/wordnet_entry.db')\n",
    "crsr = conn.cursor()"
   ]
  },
  {
   "cell_type": "code",
   "execution_count": 5,
   "metadata": {},
   "outputs": [
    {
     "data": {
      "text/plain": [
       "<sqlite3.Cursor at 0x7fc2a868f030>"
      ]
     },
     "execution_count": 5,
     "metadata": {},
     "output_type": "execute_result"
    }
   ],
   "source": [
    "conn.execute(\"ATTACH DATABASE 'data/estwn_kb74/wordnet_relation.db' AS wordnet_relation\")"
   ]
  },
  {
   "cell_type": "code",
   "execution_count": 27,
   "metadata": {},
   "outputs": [],
   "source": [
    "def get_synset(conn,crsr,synset_id):\n",
    "    \n",
    "    with conn:\n",
    "        crsr.execute('''SELECT literal FROM wordnet_entry WHERE id = {} ''' .format(synset_id))\n",
    "        data = crsr.fetchall()\n",
    "    \n",
    "    return [row[0] for row in data]"
   ]
  },
  {
   "cell_type": "code",
   "execution_count": 38,
   "metadata": {},
   "outputs": [
    {
     "data": {
      "text/plain": [
       "['patustus', 'eksimine', 'libastumine', 'komistamine', 'patustamine']"
      ]
     },
     "execution_count": 38,
     "metadata": {},
     "output_type": "execute_result"
    }
   ],
   "source": [
    "get_synset(conn,crsr,'2')"
   ]
  },
  {
   "cell_type": "code",
   "execution_count": 29,
   "metadata": {},
   "outputs": [],
   "source": [
    "def synsets(conn,crsr,lemma,pos=None):\n",
    "    \n",
    "    with conn:\n",
    "        if pos == None:\n",
    "            crsr.execute('''SELECT id FROM wordnet_entry WHERE literal = '{}' '''.format(lemma))\n",
    "        else:\n",
    "            crsr.execute('''SELECT id FROM wordnet_entry WHERE literal = '{}' AND pos = '{}' '''.format(lemma,pos))\n",
    "        return [row[0] for row in crsr.fetchall()]"
   ]
  },
  {
   "cell_type": "code",
   "execution_count": 43,
   "metadata": {},
   "outputs": [
    {
     "name": "stdout",
     "output_type": "stream",
     "text": [
      "['sooritama', 'tegema']\n",
      "['tegema']\n",
      "['valmistama', 'tegema']\n",
      "['toimima', 'tegutsema', 'tegema']\n",
      "['häält tegema', 'kõlama', 'tegema']\n",
      "['tingima', 'põhjustama', 'tegema', 'tekitama']\n",
      "['sünnitama', 'esile kutsuma', 'tegema', 'tekitama', 'looma']\n"
     ]
    }
   ],
   "source": [
    "for id_data in synsets(conn,crsr,'tegema','v'):\n",
    "    print(get_synset(conn,crsr,id_data))"
   ]
  },
  {
   "cell_type": "code",
   "execution_count": 30,
   "metadata": {},
   "outputs": [],
   "source": [
    "def get_related_synset(conn,cursor,synset_id,relation=None):\n",
    "    \n",
    "    with conn:\n",
    "        if relation == None:\n",
    "            cursor.execute('''SELECT start_vertex,relation FROM wordnet_relation WHERE end_vertex = '{}' '''.format(synset_id))\n",
    "        else:\n",
    "            cursor.execute('''SELECT start_vertex,relation FROM wordnet_relation WHERE end_vertex = '{}' AND relation = '{}' '''.format(synset_id, relation))\n",
    "        return [row for row in cursor.fetchall()]"
   ]
  },
  {
   "cell_type": "code",
   "execution_count": 56,
   "metadata": {},
   "outputs": [
    {
     "data": {
      "text/plain": [
       "[(8209, 'hyponym'),\n",
       " (23100, 'similar'),\n",
       " (83552, 'hypernym'),\n",
       " (83553, 'hypernym')]"
      ]
     },
     "execution_count": 56,
     "metadata": {},
     "output_type": "execute_result"
    }
   ],
   "source": [
    "get_related_synset(conn,crsr,83551)"
   ]
  },
  {
   "cell_type": "code",
   "execution_count": 14,
   "metadata": {},
   "outputs": [],
   "source": [
    "class Wordnet:\n",
    "    def __init__(self,version='74'):\n",
    "        self.conn = None\n",
    "        self.crsr = None\n",
    "        self.version = version\n",
    "        \n",
    "        try: \n",
    "            self.conn = sqlite3.connect('data/estwn_kb{}/wordnet_entry.db'.format(self.version))\n",
    "        except sqlite3.Error as e:\n",
    "            print(\"Connection error: [%s]\" % e)\n",
    "            return\n",
    "        \n",
    "        self.crsr = self.conn.cursor()\n",
    "        self.conn.execute(\"ATTACH DATABASE 'data/estwn_kb74/wordnet_relation.db' AS wordnet_relation\")\n",
    "        \n",
    "    def __del__(self):\n",
    "        self.conn.close()\n",
    "        \n",
    "    def get_synset(self, synset_id):\n",
    "    \n",
    "        with self.conn:\n",
    "            self.crsr.execute('''SELECT literal FROM wordnet_entry WHERE id = {} ''' .format(synset_id))\n",
    "            return [row[0] for row in self.crsr.fetchall()]"
   ]
  },
  {
   "cell_type": "code",
   "execution_count": 15,
   "metadata": {},
   "outputs": [],
   "source": [
    "wn = Wordnet()"
   ]
  },
  {
   "cell_type": "code",
   "execution_count": 16,
   "metadata": {},
   "outputs": [
    {
     "data": {
      "text/plain": [
       "['alistaja', 'võitja', 'lööja']"
      ]
     },
     "execution_count": 16,
     "metadata": {},
     "output_type": "execute_result"
    }
   ],
   "source": [
    "wn.get_synset(4)"
   ]
  },
  {
   "cell_type": "code",
   "execution_count": 3,
   "metadata": {},
   "outputs": [],
   "source": [
    "def _get_key_from_id(id,conn,cursor):\n",
    "    \n",
    "    with conn:\n",
    "        cursor.execute('''SELECT literal, pos, sense FROM wordnet_entry WHERE id = '{}' LIMIT 1'''.format(id))\n",
    "        data = cursor.fetchall()[0]\n",
    "        literal = data[0]\n",
    "        pos = data[1]\n",
    "        sense = \"%02d\"%data[2]\n",
    "        \n",
    "        return '.'.join([literal,pos,sense])\n"
   ]
  },
  {
   "cell_type": "code",
   "execution_count": 4,
   "metadata": {},
   "outputs": [],
   "source": [
    "'''\n",
    "tee wordnet.py fail milles on Wordnet klass, mille _init_ meetod teeb kaks SQLight andmebaasi ühendust\n",
    "\n",
    "üks wordnet_relations jaoks ja teine wordnet_entries jaoks\n",
    "\n",
    "sul on juba olemas kaks funktsiooni mida sellel klassil vaja läheb\n",
    "\n",
    "lisaks on sul vaja defineerida kõik wn.py olevad meetodid, mis ei alga alakriipsuga\n",
    "\n",
    "lisaks on sul vaja defineerida _del_ funktsioon, mis paneb SQLight ühendused kinni\n",
    "'''\n",
    "\n",
    "class Synset:\n",
    "    \"\"\"Represents a WordNet synset.\n",
    "    Attributes\n",
    "    ----------\n",
    "    wordnet: wordnet version\n",
    "    name : str\n",
    "      Synset  string identifier in the form `lemma.pos.sense_id`.\n",
    "    id : int\n",
    "      Synset integer identifier.\n",
    "    pos : str\n",
    "      Synset's part-of-speech.\n",
    "    _raw_synset: eurown.Synset\n",
    "      Underlying Synset object. Not intended to access directly.\n",
    "    \"\"\"\n",
    "    \n",
    "    def __init__(self,wordnet,id):\n",
    "        \n",
    "        self.wordnet = wordnet\n",
    "        self.conn = None\n",
    "        self.cursor = None\n",
    "        self.name = str()\n",
    "        self._raw_synset = None\n",
    "        self.pos = None\n",
    "        self.id = id\n",
    "                  \n",
    "        try: \n",
    "            self.conn = sqlite3.connect('data/estwn_kb{}/wordnet_entry.db'.format(self.wordnet))\n",
    "            self.cursor = self.conn.cursor()\n",
    "        except sqlite3.Error as e:\n",
    "            print(\"Connection error: [%s]\" % e)\n",
    "            return\n",
    "        \n",
    "        self.cursor.execute('''SELECT pos FROM wordnet_entry WHERE id = '{}' LIMIT 1'''.format(id))\n",
    "        self.pos = self.cursor.fetchone()[0]\n",
    "\n",
    "        self.cursor.execute('''SELECT estwn_id FROM wordnet_entry WHERE id = '{}' LIMIT 1'''.format(id))\n",
    "        self._raw_synset =  self.cursor.fetchone()[0]\n",
    "\n",
    "        self.cursor = self.conn.cursor()\n",
    "        self.conn.execute(\"ATTACH DATABASE 'data/estwn_kb74/wordnet_relation.db' AS wordnet_relation\")\n",
    "\n",
    "        self.name = _get_key_from_id(id,self.conn,self.cursor)\n",
    "        \n",
    "        \n",
    "    def __eq__(self,other):\n",
    "        \n",
    "        return self.wordnet == other.wordnet\n",
    "    \n",
    "    def __del__(self):\n",
    "        \n",
    "        self.conn.close()\n",
    "    \n",
    "    def get_related_synset(self,synset_id,relation=None):\n",
    "        '''Returns all relation names and start_vertex if relation not specified, else returns start_vertex of specified relation.\n",
    "        Parameters\n",
    "        ----------\n",
    "        synset_id : int\n",
    "        relation  : str\n",
    "        '''   \n",
    "        with self.conn:\n",
    "            if relation == None:\n",
    "                self.cursor.execute('''SELECT end_vertex,relation FROM wordnet_relation WHERE start_vertex = '{}' '''.format(synset_id))\n",
    "                return [row for row in self.cursor.fetchall()]\n",
    "            else:\n",
    "                self.cursor.execute('''SELECT end_vertex FROM wordnet_relation WHERE start_vertex = '{}' AND relation = '{}' '''.format(synset_id, relation))\n",
    "                return [row[0] for row in self.cursor.fetchall()]\n",
    "        \n",
    "    def get_synset(self, synset_id):\n",
    "\n",
    "        with self.conn:\n",
    "            self.cursor.execute('''SELECT literal FROM wordnet_entry WHERE id = {} ''' .format(synset_id))\n",
    "            return [row[0] for row in self.cursor.fetchall()]\n",
    "        \n",
    "\n",
    "    def closure(self, relation, depth=float('inf')):   \n",
    "        \n",
    "        \"\"\"Finds all the ancestors of the synset using provided relation.\n",
    "        Parameters\n",
    "        ----------\n",
    "          relation : str\n",
    "        Name of the relation which is recursively used to fetch the ancestors.\n",
    "        Returns\n",
    "        -------\n",
    "          list of Synsets\n",
    "        Returns the ancestors of the synset via given relations.\n",
    "        \"\"\"\n",
    "    \n",
    "        #TODO: return depth-first iteration. Current breath-first.\n",
    "        ancestors = []\n",
    "        unvisited_ancestors = [(synset,1) for synset in self.get_related_synset(self.id, relation)]\n",
    "        while len(unvisited_ancestors) > 0:\n",
    "            ancestor_depth = unvisited_ancestors.pop()\n",
    "            if ancestor_depth[1] > depth:\n",
    "                continue    \n",
    "            unvisited_ancestors.extend([(synset,ancestor_depth[1]+1) for synset in self.get_related_synset(ancestor_depth[0],relation)])\n",
    "            ancestors.append(ancestor_depth[0])\n",
    "\n",
    "        return list(set(ancestors))\n",
    "    \n",
    "    \n",
    "    def hypernyms(self, newId=None):\n",
    "        \"\"\"Retrieves all the hypernyms.\n",
    "        \n",
    "        Returns\n",
    "        -------\n",
    "          list of Synsets\n",
    "        Synsets which are linked via hypernymy relation.\n",
    "        \n",
    "        \"\"\"\n",
    "        if newId == None:\n",
    "            return self.get_related_synset(self.id,\"hypernym\")\n",
    "        else:\n",
    "            return self.get_related_synset(newId, \"hypernym\")\n",
    "    def hyponyms(self):\n",
    "        \"\"\"Retrieves all the hyponyms.\n",
    "        \n",
    "        Returns\n",
    "        -------\n",
    "          list of Synsets\n",
    "        Synsets which are linked via hyponymy relation.\n",
    "        \n",
    "        \"\"\"\n",
    "        \n",
    "        return self.get_related_synset(self.id,\"hyponym\")\n",
    "    \n",
    "    def holonyms(self):\n",
    "        \"\"\"Retrieves all the holonyms.\n",
    "        \n",
    "        Returns\n",
    "        -------\n",
    "          list of Synsets\n",
    "        Synsets which are linked via holonymy relation.\n",
    "        \n",
    "        \"\"\"\n",
    "        return self.get_related_synset(self.id,\"holonym\")\n",
    "\n",
    "    def meronyms(self):\n",
    "        \"\"\"Retrieves all the meronyms.\n",
    "        \n",
    "        Returns\n",
    "        -------\n",
    "          list of Synsets\n",
    "        Synsets which are linked via meronymy relation.\n",
    "        \n",
    "        \"\"\"\n",
    "        return self.get_related_synset(self.id,\"meronym\")\n",
    "\n",
    "    def member_holonyms(self):\n",
    "        \"\"\"Retrieves all the member holoynms.\n",
    "        \n",
    "        Returns\n",
    "        -------\n",
    "          list of Synsets\n",
    "        Synsets which are \"wholes\" of what the synset represents.\n",
    "        \n",
    "        \"\"\"\n",
    "        return self.get_related_synset(self.id,\"holo_member\")\n",
    "\n",
    "    def root_hypernyms(self,hypernym=None):\n",
    "        \"\"\"Retrieves all the root hypernyms.\n",
    "        \n",
    "        Returns\n",
    "        -------\n",
    "          list of Synsets\n",
    "        Roots via hypernymy relation.\n",
    "        \n",
    "        \"\"\"\n",
    "        #TODO: retrieve depth-first hypernyms as in commented out portion.\n",
    "        \n",
    "        visited = set()\n",
    "        current_hypernyms = set(self.hypernyms())\n",
    "        next_hypernyms = set()\n",
    "        return_hypernyms = set()\n",
    "        \n",
    "        for sset in current_hypernyms:\n",
    "            if sset in visited:\n",
    "                continue\n",
    "            visited.add(sset)\n",
    "            next_hypernyms = set(self.hypernyms(sset.id))\n",
    "            return_hypernyms |= next_hypernyms\n",
    "            \n",
    "            for subsset in next_hypernyms:\n",
    "                if subsset in visited:\n",
    "                    continue\n",
    "                visited.add(subsset)\n",
    "                return_hypernyms |= set(self.hypernyms(subsset))\n",
    "        \n",
    "        return list(return_hypernyms)\n",
    "            \n",
    "        '''\n",
    "        visited = set()\n",
    "        hypernyms_next_level = set(self.hypernyms())\n",
    "        current_hypernyms = set(hypernyms_next_level)\n",
    "\n",
    "        while len(hypernyms_next_level) > 0:\n",
    "            current_hypernyms = set(hypernyms_next_level)\n",
    "            hypernyms_next_level = set()\n",
    "          \n",
    "            for synset in current_hypernyms:\n",
    "                if synset in visited:\n",
    "                    continue\n",
    "                visited.add(synset)\n",
    "                hypernyms_next_level |= set(self.hypernyms(synset))\n",
    "\n",
    "        return list(current_hypernyms)\n",
    "        '''\n",
    "    \n",
    "    def get_variants(self):\n",
    "        \"\"\"Returns variants/lemmas of the synset.\n",
    "        \n",
    "        Returns\n",
    "        -------\n",
    "          list of eurown.Variants\n",
    "        Lemmas/variants of the synset.\n",
    "        \n",
    "        \"\"\"\n",
    "        print(\"Not implemented.\")\n",
    "      \n",
    "    def definition(self):\n",
    "        \"\"\"Returns the definition of the synset.\n",
    "        \n",
    "        Returns\n",
    "        -------\n",
    "          str\n",
    "        Definition of the synset as a new-line separated concatenated string from all its variants' definitions.\n",
    "        \n",
    "        \"\"\"\n",
    "        return print(\"not implemented\")#'\\n'.join([variant.gloss for variant in self._raw_synset.variants if variant.gloss])\n",
    "      \n",
    "\n",
    "      #TODO compare 1.4 wn lemma return value with entry.db values.\n",
    "    def lemmas(self):\n",
    "        \"\"\"Returns the synset's lemmas/variants' literal represantions.\n",
    "        \n",
    "        Returns\n",
    "        -------\n",
    "          list of Lemmas\n",
    "        List of its variations' literals as Lemma objects.\n",
    "        \n",
    "        \"\"\"\n",
    "        with self.conn:\n",
    "            self.cursor.execute('''SELECT literal FROM wordnet_entry WHERE id = {} ''' .format(self.id))\n",
    "            return [row[0] for row in self.cursor.fetchall()]\n"
   ]
  },
  {
   "cell_type": "code",
   "execution_count": 5,
   "metadata": {},
   "outputs": [
    {
     "data": {
      "text/plain": [
       "[41779, 42966, 44234]"
      ]
     },
     "execution_count": 5,
     "metadata": {},
     "output_type": "execute_result"
    }
   ],
   "source": [
    "sset = Synset('74',4)\n",
    "sset.hypernyms()"
   ]
  },
  {
   "cell_type": "code",
   "execution_count": 6,
   "metadata": {},
   "outputs": [
    {
     "data": {
      "text/plain": [
       "'estwn-et-36144-n'"
      ]
     },
     "execution_count": 6,
     "metadata": {},
     "output_type": "execute_result"
    }
   ],
   "source": [
    "sset._raw_synset"
   ]
  },
  {
   "cell_type": "code",
   "execution_count": 7,
   "metadata": {},
   "outputs": [
    {
     "data": {
      "text/plain": [
       "[44234, 41779, 42966]"
      ]
     },
     "execution_count": 7,
     "metadata": {},
     "output_type": "execute_result"
    }
   ],
   "source": [
    "sset.closure('hypernym')"
   ]
  },
  {
   "cell_type": "code",
   "execution_count": 8,
   "metadata": {},
   "outputs": [
    {
     "data": {
      "text/plain": [
       "[]"
      ]
     },
     "execution_count": 8,
     "metadata": {},
     "output_type": "execute_result"
    }
   ],
   "source": [
    "sset.member_holonyms()"
   ]
  },
  {
   "cell_type": "code",
   "execution_count": 17,
   "metadata": {
    "scrolled": false
   },
   "outputs": [
    {
     "name": "stdout",
     "output_type": "stream",
     "text": [
      "44234\n"
     ]
    },
    {
     "ename": "AttributeError",
     "evalue": "'int' object has no attribute 'id'",
     "output_type": "error",
     "traceback": [
      "\u001b[0;31m---------------------------------------------------------------------------\u001b[0m",
      "\u001b[0;31mAttributeError\u001b[0m                            Traceback (most recent call last)",
      "\u001b[0;32m<ipython-input-17-41c52944969d>\u001b[0m in \u001b[0;36m<module>\u001b[0;34m()\u001b[0m\n\u001b[0;32m----> 1\u001b[0;31m \u001b[0msset\u001b[0m\u001b[0;34m.\u001b[0m\u001b[0mroot_hypernyms\u001b[0m\u001b[0;34m(\u001b[0m\u001b[0;34m)\u001b[0m\u001b[0;34m\u001b[0m\u001b[0m\n\u001b[0m",
      "\u001b[0;32m<ipython-input-15-73c572bd238f>\u001b[0m in \u001b[0;36mroot_hypernyms\u001b[0;34m(self, hypernym)\u001b[0m\n\u001b[1;32m    181\u001b[0m         \u001b[0;32mfor\u001b[0m \u001b[0msset\u001b[0m \u001b[0;32min\u001b[0m \u001b[0mcurrent_hypernyms\u001b[0m\u001b[0;34m:\u001b[0m\u001b[0;34m\u001b[0m\u001b[0m\n\u001b[1;32m    182\u001b[0m             \u001b[0mprint\u001b[0m\u001b[0;34m(\u001b[0m\u001b[0msset\u001b[0m\u001b[0;34m)\u001b[0m\u001b[0;34m\u001b[0m\u001b[0m\n\u001b[0;32m--> 183\u001b[0;31m             \u001b[0mprint\u001b[0m\u001b[0;34m(\u001b[0m\u001b[0mself\u001b[0m\u001b[0;34m.\u001b[0m\u001b[0mhypernyms\u001b[0m\u001b[0;34m(\u001b[0m\u001b[0msset\u001b[0m\u001b[0;34m.\u001b[0m\u001b[0mid\u001b[0m\u001b[0;34m)\u001b[0m\u001b[0;34m)\u001b[0m\u001b[0;34m\u001b[0m\u001b[0m\n\u001b[0m\u001b[1;32m    184\u001b[0m \u001b[0;34m\u001b[0m\u001b[0m\n\u001b[1;32m    185\u001b[0m         \u001b[0;31m#-------------\u001b[0m\u001b[0;34m\u001b[0m\u001b[0;34m\u001b[0m\u001b[0m\n",
      "\u001b[0;31mAttributeError\u001b[0m: 'int' object has no attribute 'id'"
     ]
    }
   ],
   "source": [
    "sset.root_hypernyms()"
   ]
  },
  {
   "cell_type": "code",
   "execution_count": 10,
   "metadata": {},
   "outputs": [
    {
     "name": "stdout",
     "output_type": "stream",
     "text": [
      "Not implemented.\n"
     ]
    }
   ],
   "source": [
    "sset.get_variants()"
   ]
  },
  {
   "cell_type": "code",
   "execution_count": 11,
   "metadata": {},
   "outputs": [
    {
     "data": {
      "text/plain": [
       "['alistaja', 'võitja', 'lööja']"
      ]
     },
     "execution_count": 11,
     "metadata": {},
     "output_type": "execute_result"
    }
   ],
   "source": [
    "sset.lemmas()"
   ]
  },
  {
   "cell_type": "code",
   "execution_count": 26,
   "metadata": {},
   "outputs": [
    {
     "ename": "TypeError",
     "evalue": "'int' object is not iterable",
     "output_type": "error",
     "traceback": [
      "\u001b[0;31m---------------------------------------------------------------------------\u001b[0m",
      "\u001b[0;31mTypeError\u001b[0m                                 Traceback (most recent call last)",
      "\u001b[0;32m<ipython-input-26-dcb7df833080>\u001b[0m in \u001b[0;36m<module>\u001b[0;34m()\u001b[0m\n\u001b[1;32m      3\u001b[0m \u001b[0;34m\u001b[0m\u001b[0m\n\u001b[1;32m      4\u001b[0m \u001b[0;32mfor\u001b[0m \u001b[0mid\u001b[0m \u001b[0;32min\u001b[0m \u001b[0mcurrent\u001b[0m\u001b[0;34m:\u001b[0m\u001b[0;34m\u001b[0m\u001b[0m\n\u001b[0;32m----> 5\u001b[0;31m     \u001b[0mnextid\u001b[0m \u001b[0;34m|=\u001b[0m \u001b[0mset\u001b[0m\u001b[0;34m(\u001b[0m\u001b[0mid\u001b[0m\u001b[0;34m+\u001b[0m\u001b[0;36m2\u001b[0m\u001b[0;34m)\u001b[0m\u001b[0;34m\u001b[0m\u001b[0m\n\u001b[0m\u001b[1;32m      6\u001b[0m     \u001b[0mprint\u001b[0m\u001b[0;34m(\u001b[0m\u001b[0mid\u001b[0m\u001b[0;34m)\u001b[0m\u001b[0;34m\u001b[0m\u001b[0m\n\u001b[1;32m      7\u001b[0m     \u001b[0;32mfor\u001b[0m \u001b[0msubId\u001b[0m \u001b[0;32min\u001b[0m \u001b[0mnextid\u001b[0m\u001b[0;34m:\u001b[0m\u001b[0;34m\u001b[0m\u001b[0m\n",
      "\u001b[0;31mTypeError\u001b[0m: 'int' object is not iterable"
     ]
    }
   ],
   "source": [
    "current = set([1,3,6,8])\n",
    "nextid = set([2,3])\n",
    "\n",
    "for id in current:\n",
    "    nextid |= set(id+2)\n",
    "    print(id)\n",
    "    for subId in nextid:\n",
    "        print(subId)\n",
    "        nextId.insert(0,\"new\" + subId)"
   ]
  },
  {
   "cell_type": "code",
   "execution_count": null,
   "metadata": {},
   "outputs": [],
   "source": []
  }
 ],
 "metadata": {
  "kernelspec": {
   "display_name": "Python 3",
   "language": "python",
   "name": "python3"
  },
  "language_info": {
   "codemirror_mode": {
    "name": "ipython",
    "version": 3
   },
   "file_extension": ".py",
   "mimetype": "text/x-python",
   "name": "python",
   "nbconvert_exporter": "python",
   "pygments_lexer": "ipython3",
   "version": "3.6.5"
  }
 },
 "nbformat": 4,
 "nbformat_minor": 2
}
