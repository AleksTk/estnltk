{
 "cells": [
  {
   "cell_type": "code",
   "execution_count": 43,
   "metadata": {},
   "outputs": [],
   "source": [
    "from lxml import etree\n",
    "import sqlite3"
   ]
  },
  {
   "cell_type": "code",
   "execution_count": 53,
   "metadata": {},
   "outputs": [],
   "source": [
    "xml_entry_db = 'xml_lexical_entry-2.db'\n",
    "xml_sset_db = 'xml_synset-2.db'\n",
    "xml_rel_db = 'xml_relation-2.db'"
   ]
  },
  {
   "cell_type": "code",
   "execution_count": 45,
   "metadata": {},
   "outputs": [],
   "source": [
    "tree = etree.parse(\"../../source_data/estwn_kb74/estwn-et-2.0.0.beta.xml\")"
   ]
  },
  {
   "cell_type": "code",
   "execution_count": 46,
   "metadata": {},
   "outputs": [],
   "source": [
    "def create_connection(db_file):\n",
    "    \"\"\" create a database connection to the SQLite database\n",
    "        specified by db_file\n",
    "    :param db_file: database file\n",
    "    :return: Connection object or None\n",
    "    \"\"\"\n",
    "    try:\n",
    "        conn = sqlite3.connect(db_file)\n",
    "        return conn\n",
    "    except sqlite3.Error as e:\n",
    "        print(\"Connection error: [%s]\" % e)\n",
    "\n",
    "    return None\n",
    "\n",
    "def create_table(conn, create_table_sql ):\n",
    "    \"\"\" create a table from the create_table_sql statement\n",
    "    :param conn: Connection object\n",
    "    :param create_table_sql: a CREATE TABLE statement\n",
    "    :return:\n",
    "    \"\"\"\n",
    "    try:\n",
    "        c = conn.cursor()\n",
    "        c.execute(create_table_sql)\n",
    "    except sqlite3.Error as e:\n",
    "        print(\"Connection error while creating table: [%s]\" % e)\n",
    "\n",
    "\n",
    "def entryTable(databaseLoc):\n",
    "\n",
    "    sql_create_synset_table = ''' CREATE TABLE IF NOT EXISTS xml_lexical_entry(\n",
    "                                        \n",
    "                                        estwn_id TEXT,\n",
    "                                        synset,\n",
    "                                        written_form TEXT,\n",
    "                                        pos TEXT ,\n",
    "                                        sense INT \n",
    "                                                    ); '''\n",
    "    conn = create_connection(databaseLoc)\n",
    "    if conn is not None:\n",
    "        create_table(conn,sql_create_synset_table)\n",
    "    else:\n",
    "        print(\"Error! cannot create db conn.\")        \n",
    "\n",
    "def synsetTable(databaseLoc):\n",
    "\n",
    "    sql_create_synset_table = ''' CREATE TABLE IF NOT EXISTS xml_synset(\n",
    "                                        \n",
    "                                        id INT NOT NULL,\n",
    "                                        estwn_id TEXT NOT NULL,\n",
    "                                        source_sense TEXT NOT NULL\n",
    "                                                    ); '''\n",
    "    conn = create_connection(databaseLoc)\n",
    "    if conn is not None:\n",
    "        create_table(conn,sql_create_synset_table)\n",
    "    else:\n",
    "        print(\"Error! cannot create db conn.\")  \n",
    "        \n",
    "def rel_table(databaseLoc):\n",
    "\n",
    "    sql_create_synset_table = ''' CREATE TABLE IF NOT EXISTS xml_relation(\n",
    "\n",
    "                                        start_estwn TEXT NOT NULL,\n",
    "                                        end_estwn TEXT NOT NULL,\n",
    "                                        relation TEXT NOT NULL\n",
    "                                                    ); '''\n",
    "    conn = create_connection(databaseLoc)\n",
    "    if conn is not None:\n",
    "        create_table(conn,sql_create_synset_table)\n",
    "    else:\n",
    "        print(\"Error! cannot create db conn.\")"
   ]
  },
  {
   "cell_type": "code",
   "execution_count": 47,
   "metadata": {},
   "outputs": [],
   "source": [
    "def fetch_entry():\n",
    "    synsets = tree.xpath('/LexicalResource/Lexicon/LexicalEntry')\n",
    "    j=0\n",
    "    for sset in synsets:\n",
    "        if len(sset)>1:\n",
    "            for i in range(1, len(sset)):\n",
    "                #status_list.append(sset[i].attrib['status'])\n",
    "                sset_list.append(sset[i].attrib['id'])\n",
    "                pos_list.append(sset[0].attrib['partOfSpeech'])\n",
    "                lemma_list.append(sset[0].attrib['writtenForm'])\n",
    "                estwnId_list.append(sset[i].attrib['synset'])\n",
    "                sense = sset[i].attrib['id']\n",
    "                sense_list.append(sense[-1:])           \n",
    "        else:\n",
    "            try:\n",
    "                pos_list.append(sset[0].attrib['partOfSpeech'])\n",
    "                lemma_list.append(sset[0].attrib['writtenForm'])\n",
    "                word = sset[0].attrib['writtenForm']\n",
    "                \n",
    "                if \" \" in word:\n",
    "                    var = word.replace(\" \", \"_\")\n",
    "                    word = var\n",
    "                sset_list.append( \"s-\" + word + \"-\" + sset[0].attrib['partOfSpeech'] )\n",
    "                \n",
    "                estwnId_list.append('null')\n",
    "                sense = sset.attrib['id']\n",
    "                sense_list.append(sense[-1:])\n",
    "                status_list.append(\"null\")\n",
    "            except:\n",
    "                #print(\"pass @\",j)\n",
    "                pass\n",
    "        j+=1"
   ]
  },
  {
   "cell_type": "code",
   "execution_count": 48,
   "metadata": {},
   "outputs": [],
   "source": [
    "def fetch_synset(entry_xml_db):\n",
    "    '''\n",
    "     Appends to list estwn-id and sourceSense from xml database.\n",
    "    '''\n",
    "    synsets = tree.xpath('/LexicalResource/Lexicon/Synset')\n",
    "    \n",
    "    conn = create_connection(entry_xml_db)\n",
    "    cursor = conn.cursor()\n",
    "    with conn:\n",
    "        i=0\n",
    "        j=0\n",
    "        for sset in synsets:\n",
    "            estwnId_list.append(sset.attrib['id'])\n",
    "            try:\n",
    "                var   = sset[0].attrib['sourceSense']\n",
    "                sset_word.append(var[2:-3])\n",
    "\n",
    "            except:\n",
    "                cursor.execute(\"SELECT written_form FROM xml_lexical_entry WHERE estwn_id = ?\", (sset.attrib['id'],))\n",
    "                row = cursor.fetchone()\n",
    "                sset_word.append(row[0])"
   ]
  },
  {
   "cell_type": "code",
   "execution_count": 49,
   "metadata": {},
   "outputs": [],
   "source": [
    "def fetch_relation():\n",
    "\n",
    "    synsetList  = tree.xpath('/LexicalResource/Lexicon/Synset')\n",
    "    for sset in synsetList: \n",
    "        end = sset.attrib['id']        \n",
    "        if len(sset) > 1:\n",
    "            for subset in sset[1:]:\n",
    "                try:\n",
    "                    start_estwn.append(subset.attrib['target'])\n",
    "                    rel_type.append(subset.attrib['relType'])\n",
    "                    end_estwn.append(end)\n",
    "                except: pass\n",
    "            \n",
    "        else:\n",
    "            end_estwn.append(end)\n",
    "            try:\n",
    "                start_estwn.append( sset[0].attrib['target'] )\n",
    "                rel_type.append( sset[0].attrib['relType'] )            \n",
    "            except:\n",
    "                start_estwn.append(\"null\")\n",
    "                rel_type.append(\"null\")\n",
    "                pass"
   ]
  },
  {
   "cell_type": "code",
   "execution_count": 50,
   "metadata": {},
   "outputs": [],
   "source": [
    "def upload_entries(db_file):\n",
    "    entryTable(db_file)\n",
    "    conn = create_connection(db_file)\n",
    "    cursor = conn.cursor()\n",
    "    with conn:\n",
    "        for i in range(len(sset_list)):\n",
    "            #ssetId = fetch_ssetId(estwnId_list[i])\n",
    "            cursor.execute(\"INSERT INTO xml_lexical_entry(estwn_id,synset, written_form, pos, sense) VALUES(?,?,?,?,?)\"\\\n",
    "                                                        ,(estwnId_list[i],sset_list[i], lemma_list[i], pos_list[i], sense_list[i]))\n",
    "        conn.commit()"
   ]
  },
  {
   "cell_type": "code",
   "execution_count": 51,
   "metadata": {},
   "outputs": [],
   "source": [
    "def upload_synsets(synset_db):\n",
    "\n",
    "    synsetTable(synset_db)\n",
    "    conn = create_connection(synset_db)\n",
    "    cursor = conn.cursor()\n",
    "    with conn:\n",
    "        for i in range(len(estwnId_list)):\n",
    "            cursor.execute(\"INSERT INTO xml_synset(id, estwn_id, source_sense) VALUES (?,?,?)\"\\\n",
    "                                                ,(i,estwnId_list[i],sset_word[i]))"
   ]
  },
  {
   "cell_type": "code",
   "execution_count": 57,
   "metadata": {},
   "outputs": [],
   "source": [
    "def upload_relations(db_file):\n",
    "    \n",
    "    rel_table(db_file)\n",
    "    conn = create_connection(db_file)\n",
    "    cursor = conn.cursor()\n",
    "    with conn:\n",
    "        for i in range(len(end_estwn)):    \n",
    "            cursor.execute(\"INSERT INTO xml_relation(start_estwn, end_estwn, relation) VALUES(?,?,?)\"\\\n",
    "                                                            ,(start_estwn[i], end_estwn[i],rel_type[i]))\n",
    "        conn.commit()"
   ]
  },
  {
   "cell_type": "code",
   "execution_count": null,
   "metadata": {},
   "outputs": [],
   "source": [
    "#yet unnecesary functions."
   ]
  },
  {
   "cell_type": "code",
   "execution_count": 48,
   "metadata": {},
   "outputs": [],
   "source": [
    "def fetch_lemma(estwn_id):\n",
    "    '''\n",
    "    \n",
    "    '''\n",
    "    xml_conn = create_connection(xml_db)\n",
    "    cursor = xml_conn.cursor()\n",
    "    with xml_conn:\n",
    "        #select all synsets with different indices from table.\n",
    "        cursor.execute(\"SELECT DISTINCT written_form FROM xml_lexical_entry WHERE estwn_id = ?\", (estwn_id,))\n",
    "        row = cursor.fetchone()\n",
    "        #print(row[0])\n",
    "        if row is not None:\n",
    "            return row[0]"
   ]
  },
  {
   "cell_type": "code",
   "execution_count": 49,
   "metadata": {},
   "outputs": [],
   "source": [
    "def fetch_ssetId(estwn_id):\n",
    "    \n",
    "    lemma = fetch_lemma(estwn_id)\n",
    "    \n",
    "    db_conn = create_connection(sset_db)\n",
    "    cursor = db_conn.cursor()\n",
    "    with db_conn:\n",
    "        cursor.execute(\"SELECT DISTINCT synset_id FROM synset_table WHERE synset_word = ?\", (lemma,))\n",
    "        row = cursor.fetchone()\n",
    "        if row is not None:\n",
    "            #print(row[0])\n",
    "            return row[0]"
   ]
  },
  {
   "cell_type": "code",
   "execution_count": 20,
   "metadata": {},
   "outputs": [],
   "source": [
    "def fetch_estwnId(estwnId):\n",
    "    \n",
    "    db_conn = create_connection(sset_db)\n",
    "    cursor = db_conn.cursor()\n",
    "    with db_conn:\n",
    "        cursor.execute(\"SELECT DISTINCT id FROM xml_synsets WHERE estwn_id = ?\", (estwnId,))\n",
    "        row = cursor.fetchone()\n",
    "        if row is not None:\n",
    "            #print(row[0])\n",
    "            return row[0]\n",
    "        else: return 'null'"
   ]
  },
  {
   "cell_type": "code",
   "execution_count": 33,
   "metadata": {},
   "outputs": [],
   "source": [
    "ssetId =[]\n",
    "def addId(entry_db, ssetId):\n",
    "    '''\n",
    "    Adds id from xml_synsets to xml_lexical_entry db. (If does not exist.)\n",
    "    '''\n",
    "    \n",
    "    conn = create_connection(entry_db)\n",
    "    cursor = conn.cursor()\n",
    "    \n",
    "    with conn:\n",
    "        #cursor.execute(\"ALTER TABLE xml_LexicalEntry ADD COLUMN id\")\n",
    "        cursor.execute(\"SELECT estwn_id FROM xml_lexical_entry\")\n",
    "        for get in cursor.fetchall():\n",
    "            data = get[0]\n",
    "            estwnIdList.append(data)\n",
    "            ssetId.append(fetch_estwnId(data))   \n",
    "        i=0\n",
    "        for data in ssetId:\n",
    "            #print(data)\n",
    "            cursor.execute(\"UPDATE xml_lexical_entry SET id = ? WHERE estwn_id = ?\", (data,estwnIdList[i]))\n",
    "            i+=1\n",
    "        conn.commit()"
   ]
  },
  {
   "cell_type": "code",
   "execution_count": 55,
   "metadata": {
    "collapsed": true
   },
   "outputs": [
    {
     "ename": "NameError",
     "evalue": "name 'get_relations' is not defined",
     "output_type": "error",
     "traceback": [
      "\u001b[0;31m---------------------------------------------------------------------------\u001b[0m",
      "\u001b[0;31mNameError\u001b[0m                                 Traceback (most recent call last)",
      "\u001b[0;32m<ipython-input-55-e577fb5641df>\u001b[0m in \u001b[0;36m<module>\u001b[0;34m()\u001b[0m\n\u001b[1;32m     19\u001b[0m \u001b[0mrel_type\u001b[0m    \u001b[0;34m=\u001b[0m \u001b[0;34m[\u001b[0m\u001b[0;34m]\u001b[0m\u001b[0;34m\u001b[0m\u001b[0m\n\u001b[1;32m     20\u001b[0m \u001b[0;31m#uploads xml_lexical_entry.db\u001b[0m\u001b[0;34m\u001b[0m\u001b[0;34m\u001b[0m\u001b[0m\n\u001b[0;32m---> 21\u001b[0;31m \u001b[0mget_relations\u001b[0m\u001b[0;34m(\u001b[0m\u001b[0;34m)\u001b[0m\u001b[0;34m\u001b[0m\u001b[0m\n\u001b[0m\u001b[1;32m     22\u001b[0m \u001b[0mupload_relations\u001b[0m\u001b[0;34m(\u001b[0m\u001b[0mxml_rel_db\u001b[0m\u001b[0;34m)\u001b[0m\u001b[0;34m\u001b[0m\u001b[0m\n",
      "\u001b[0;31mNameError\u001b[0m: name 'get_relations' is not defined"
     ]
    }
   ],
   "source": [
    "estwnId_list=[]\n",
    "pos_list = []\n",
    "lemma_list = []\n",
    "sset_list=[]\n",
    "sense_list=[]\n",
    "#uploads xml_entry.db\n",
    "fetch_entry()\n",
    "upload_entries(xml_entry_db)\n",
    "\n",
    "estwnId_list = []\n",
    "sset_word = []\n",
    "#uploads xml_synset.db\n",
    "fetch_synset(xml_entry_db)\n",
    "upload_synsets(xml_sset_db)\n",
    "\n",
    "start_estwn = []\n",
    "end_estwn   = []\n",
    "rel_type    = []\n",
    "#uploads xml_lexical_entry.db\n",
    "fetch_relation()\n",
    "upload_relations(xml_rel_db)"
   ]
  },
  {
   "cell_type": "code",
   "execution_count": null,
   "metadata": {},
   "outputs": [],
   "source": []
  }
 ],
 "metadata": {
  "kernelspec": {
   "display_name": "Python 3",
   "language": "python",
   "name": "python3"
  },
  "language_info": {
   "codemirror_mode": {
    "name": "ipython",
    "version": 3
   },
   "file_extension": ".py",
   "mimetype": "text/x-python",
   "name": "python",
   "nbconvert_exporter": "python",
   "pygments_lexer": "ipython3",
   "version": "3.6.5"
  }
 },
 "nbformat": 4,
 "nbformat_minor": 2
}
