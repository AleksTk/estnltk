{
 "cells": [
  {
   "cell_type": "code",
   "execution_count": null,
   "metadata": {},
   "outputs": [],
   "source": [
    "'''\n",
    "This script is intended for combinig values from xml_synsets and xml_relations tables into\n",
    "clear relations table 'relations_complete.db'\n",
    "'''"
   ]
  },
  {
   "cell_type": "code",
   "execution_count": 1,
   "metadata": {},
   "outputs": [],
   "source": [
    "import sqlite3\n",
    "from lxml import etree"
   ]
  },
  {
   "cell_type": "code",
   "execution_count": 36,
   "metadata": {},
   "outputs": [],
   "source": [
    "xml_sset_db = 'xml_synset.db'\n",
    "xml_relation_db = 'xml_relation.db'\n",
    "xml_rel_db = 'relation_complete.db'\n"
   ]
  },
  {
   "cell_type": "code",
   "execution_count": 3,
   "metadata": {},
   "outputs": [],
   "source": [
    "def create_connection(db_file):\n",
    "    \"\"\" create a database connection to the SQLite database\n",
    "        specified by db_file\n",
    "    :param db_file: database file\n",
    "    :return: Connection object or None\n",
    "    \"\"\"\n",
    "    try:\n",
    "        conn = sqlite3.connect(db_file)\n",
    "        return conn\n",
    "    except sqlite3.Error as e:\n",
    "        print(\"Connection error: [%s]\" % e)\n",
    "\n",
    "    return None\n",
    "\n",
    "def create_table(conn, create_table_sql ):\n",
    "    \"\"\" create a table from the create_table_sql statement\n",
    "    :param conn: Connection object\n",
    "    :param create_table_sql: a CREATE TABLE statement\n",
    "    :return:\n",
    "    \"\"\"\n",
    "    try:\n",
    "        c = conn.cursor()\n",
    "        c.execute(create_table_sql)\n",
    "    except sqlite3.Error as e:\n",
    "        print(\"Connection error while creating table: [%s]\" % e)\n",
    "\n",
    "def sql_table(databaseLoc):\n",
    "\n",
    "    sql_create_synset_table = ''' CREATE TABLE IF NOT EXISTS synset_rel(\n",
    "\n",
    "                                        start_id TEXT NOT NULL,\n",
    "                                        start_estwn TEXT NOT NULL,\n",
    "                                        end_estwn TEXT NOT NULL,\n",
    "                                        end_id TEXT NOT NULL,\n",
    "                                        relation TEXT NOT NULL\n",
    "                                                    ); '''\n",
    "    conn = create_connection(databaseLoc)\n",
    "    if conn is not None:\n",
    "        create_table(conn,sql_create_synset_table)\n",
    "    else:\n",
    "        print(\"Error! cannot create db conn.\")"
   ]
  },
  {
   "cell_type": "code",
   "execution_count": 30,
   "metadata": {},
   "outputs": [],
   "source": [
    "join_str = '''CREATE TABLE synset_relations\n",
    "            AS\n",
    "            SELECT\n",
    "                start_index.id AS start_vertex,\n",
    "                start_index.source_sense AS start_synset, xml_relation.start_estwn,\n",
    "                end_index.id AS end_vertex,\n",
    "                end_index.source_sense AS end_synset, xml_relation.end_estwn,\n",
    "                xml_relation.relation AS relation \n",
    "            FROM xml_relation\n",
    "            LEFT JOIN\n",
    "            (\n",
    "                SELECT DISTINCT id, estwn_id, source_sense FROM xml_synset\n",
    "            ) AS start_index\n",
    "            ON xml_relation.start_estwn = start_index.estwn_id\n",
    "            LEFT JOIN\n",
    "            (\n",
    "                SELECT DISTINCT id, estwn_id, source_sense FROM xml_synset\n",
    "            ) AS end_index\n",
    "            ON xml_relation.end_estwn = end_index.estwn_id\n",
    "'''"
   ]
  },
  {
   "cell_type": "code",
   "execution_count": 34,
   "metadata": {},
   "outputs": [
    {
     "data": {
      "text/plain": [
       "<sqlite3.Cursor at 0x7f180bce5e30>"
      ]
     },
     "execution_count": 34,
     "metadata": {},
     "output_type": "execute_result"
    }
   ],
   "source": [
    "conn_rel = create_connection(rel_db)\n",
    "crsr_rel   = conn_rel.cursor()\n",
    "    \n",
    "crsr_rel.execute(\"ATTACH DATABASE 'xml_synset.db' AS xml_synset\")\n",
    "crsr_rel.execute(\"ATTACH DATABASE 'xml_relation.db' AS xml_relation\")"
   ]
  },
  {
   "cell_type": "code",
   "execution_count": 35,
   "metadata": {},
   "outputs": [],
   "source": [
    "with conn_rel:\n",
    "    crsr_rel.execute(join_str)"
   ]
  },
  {
   "cell_type": "code",
   "execution_count": null,
   "metadata": {},
   "outputs": [],
   "source": []
  }
 ],
 "metadata": {
  "kernelspec": {
   "display_name": "Python 3",
   "language": "python",
   "name": "python3"
  },
  "language_info": {
   "codemirror_mode": {
    "name": "ipython",
    "version": 3
   },
   "file_extension": ".py",
   "mimetype": "text/x-python",
   "name": "python",
   "nbconvert_exporter": "python",
   "pygments_lexer": "ipython3",
   "version": "3.6.5"
  }
 },
 "nbformat": 4,
 "nbformat_minor": 2
}
