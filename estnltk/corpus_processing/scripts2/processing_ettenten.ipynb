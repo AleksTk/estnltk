{
 "cells": [
  {
   "cell_type": "markdown",
   "metadata": {},
   "source": [
    "## Processing files of the etTenTen corpus (_Veebikorpus13_)"
   ]
  },
  {
   "cell_type": "markdown",
   "metadata": {},
   "source": [
    "This folder contains command line scripts that can be used for processing etTenTen (aka _Eesti veeb 2013_, or _Veebikorpus13_) with EstNLTK 1.6.x.\n",
    "\n",
    "For processing the whole corpus, proceed in the following steps:\n",
    "\n",
    "**1.** Download and unpack the corpus, e.g. from here: [https://metashare.ut.ee/repository/browse/ettenten-korpus-toortekst/b564ca760de111e6a6e4005056b4002419cacec839ad4b7a93c3f7c45a97c55f](https://metashare.ut.ee/repository/browse/ettenten-korpus-toortekst/b564ca760de111e6a6e4005056b4002419cacec839ad4b7a93c3f7c45a97c55f)\n",
    " \n",
    "**2.** Use the script **`convert_ettenten_to_json.py`** for splitting the large file into JSON format files, one file per each document of the corpus. The script needs two input arguments: name of the corpus file, and the output directory where the script can store the JSON format files. It is advisable to create a new directory for the output. Be aware that all the converted files will be put into the output directory; so, there will be a lot of files (approx. 686,000 files).\n",
    "\n",
    "**3.** (_Optional_) Use **`split_large_corpus_files_into_subsets.py`** for splitting the large set of files from the previous step into N smaller subsets. This will enable parallel processing of the subsets.\n",
    "\n",
    "**4.** Use the script **`process_and_save_results.py`** to analyze the JSON format files with EstNLTK 1.6.x. The script will add linguistic annotations up to the level of morphology. Before using the script, you'll also need to create a new folder where the script can store the results of analysis. \n",
    "\n",
    "   Optionally, you may want to evoke N instances of **`process_and_save_results.py`** for faster processing. You can get more information about the processing options with:\n",
    "\n",
    "    python  process_and_save_results.py  -h\n"
   ]
  }
 ],
 "metadata": {
  "kernelspec": {
   "display_name": "Python 3",
   "language": "python",
   "name": "python3"
  },
  "language_info": {
   "codemirror_mode": {
    "name": "ipython",
    "version": 3
   },
   "file_extension": ".py",
   "mimetype": "text/x-python",
   "name": "python",
   "nbconvert_exporter": "python",
   "pygments_lexer": "ipython3",
   "version": "3.5.4"
  }
 },
 "nbformat": 4,
 "nbformat_minor": 2
}
