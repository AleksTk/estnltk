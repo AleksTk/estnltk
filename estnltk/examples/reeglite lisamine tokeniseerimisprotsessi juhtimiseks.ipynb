{
 "cells": [
  {
   "cell_type": "markdown",
   "metadata": {},
   "source": [
    "## Probleemikirjeldus:\n",
    "   \n",
    "Vahel on tarvis töötada tekstidega, mille tokeniseerimisel tuleks rakendada spetsiifilisemaid reegleid kui üldjuhul.\n",
    "Näiteks seadustekstide töötlemisel oleks kasulik paragrahvimärk siduda talle järgneva numbriga, sest need kannavad koos olulist teavet, mis eraldivõttes läheks kaduma.\n",
    "\n",
    "\n",
    "## Lahendus:\n",
    "\n",
    "Estnltk kasutab vaikimisi punktuatsioonipõhist tokeniseerijat, mille väljundile rakendatakse kombineerimisreegleid. Neid reegleid on võimalik vajadusel muuta või ülekirjutada."
   ]
  },
  {
   "cell_type": "markdown",
   "metadata": {},
   "source": [
    "### Enne"
   ]
  },
  {
   "cell_type": "code",
   "execution_count": 1,
   "metadata": {
    "collapsed": false
   },
   "outputs": [
    {
     "data": {
      "text/plain": [
       "['KarS', '$', '123']"
      ]
     },
     "execution_count": 1,
     "metadata": {},
     "output_type": "execute_result"
    }
   ],
   "source": [
    "import estnltk\n",
    "estnltk.Text('KarS $123').lemmas"
   ]
  },
  {
   "cell_type": "markdown",
   "metadata": {},
   "source": [
    "Kirjutame reegli, mis tagastab tõese väärtuse kui paragrahvimärgile järgneb number ning lisame selle reegli kaheargumendiliste reeglite loetellu."
   ]
  },
  {
   "cell_type": "code",
   "execution_count": 2,
   "metadata": {
    "collapsed": false
   },
   "outputs": [],
   "source": [
    "def join_paragraph(left, right):\n",
    "    #return true if left token is \"$\" and right token is a number\n",
    "    return (left == '$') and set('1234567890') - set(right) \n",
    "\n",
    "estnltk.tokenizers.word_tokenizer.bi_rules.append(join_paragraph)"
   ]
  },
  {
   "cell_type": "markdown",
   "metadata": {},
   "source": [
    "### Pärast"
   ]
  },
  {
   "cell_type": "code",
   "execution_count": 3,
   "metadata": {
    "collapsed": false
   },
   "outputs": [
    {
     "data": {
      "text/plain": [
       "['KarS', '$123']"
      ]
     },
     "execution_count": 3,
     "metadata": {},
     "output_type": "execute_result"
    }
   ],
   "source": [
    "estnltk.Text('KarS $123').lemmas"
   ]
  }
 ],
 "metadata": {
  "kernelspec": {
   "display_name": "Python 3",
   "language": "python",
   "name": "python3"
  },
  "language_info": {
   "codemirror_mode": {
    "name": "ipython",
    "version": 3
   },
   "file_extension": ".py",
   "mimetype": "text/x-python",
   "name": "python",
   "nbconvert_exporter": "python",
   "pygments_lexer": "ipython3",
   "version": "3.5.1"
  }
 },
 "nbformat": 4,
 "nbformat_minor": 0
}
