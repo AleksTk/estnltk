{
 "cells": [
  {
   "cell_type": "code",
   "execution_count": 1,
   "metadata": {},
   "outputs": [],
   "source": [
    "from estnltk.wordnet import wn\n"
   ]
  },
  {
   "cell_type": "code",
   "execution_count": 2,
   "metadata": {},
   "outputs": [],
   "source": [
    "pos = [wn.ADJ, wn.ADV, wn.VERB, wn.NOUN]\n",
    "ssetList = []\n",
    "target = []"
   ]
  },
  {
   "cell_type": "code",
   "execution_count": 3,
   "metadata": {},
   "outputs": [],
   "source": [
    "ssetList = []\n",
    "for i in pos:\n",
    "    synsets = wn.all_synsets(i)\n",
    "    for sset in synsets:\n",
    "        ssetList.append(sset)"
   ]
  },
  {
   "cell_type": "code",
   "execution_count": 4,
   "metadata": {},
   "outputs": [
    {
     "data": {
      "text/plain": [
       "65517"
      ]
     },
     "execution_count": 4,
     "metadata": {},
     "output_type": "execute_result"
    }
   ],
   "source": [
    "len(ssetList)"
   ]
  },
  {
   "cell_type": "code",
   "execution_count": 6,
   "metadata": {},
   "outputs": [],
   "source": [
    "def synset_name(raw_synset):\n",
    "    pos = raw_synset.pos\n",
    "    literal = raw_synset.variants[0].literal\n",
    "    sense = \"%02d\"%raw_synset.variants[0].sense\n",
    "    return '.'.join([literal,pos,sense])"
   ]
  },
  {
   "cell_type": "code",
   "execution_count": 152,
   "metadata": {},
   "outputs": [
    {
     "name": "stdout",
     "output_type": "stream",
     "text": [
      "\"Synset('samasugune.a.01')\"\n",
      "monokultuur\n",
      "1\n",
      "a\n",
      "monokultuur.n.01\n"
     ]
    },
    {
     "data": {
      "text/plain": [
       "['samasugune', 'samane', 'ühesugune', 'niisamasugune']"
      ]
     },
     "execution_count": 152,
     "metadata": {},
     "output_type": "execute_result"
    }
   ],
   "source": [
    "sset = ssetList[100]\n",
    "rsset = sset._raw_synset #start_name\n",
    "relation_candidate = rsset.internalLinks[2]\n",
    "print(sset)\n",
    "print(relation_candidate.target_concept.variants[0].literal)\n",
    "print(relation_candidate.target_concept.variants[0].sense)\n",
    "print(rsset.pos)\n",
    "print(synset_name(relation_candidate.target_concept))\n",
    "\n",
    "\n",
    "[nimi.literal for nimi in rsset.variants]\n"
   ]
  },
  {
   "cell_type": "code",
   "execution_count": 116,
   "metadata": {},
   "outputs": [
    {
     "data": {
      "text/plain": [
       "['elamuslikult']"
      ]
     },
     "execution_count": 116,
     "metadata": {},
     "output_type": "execute_result"
    }
   ],
   "source": [
    "[nimi.literal for nimi in rsset.variants]"
   ]
  },
  {
   "cell_type": "code",
   "execution_count": 55,
   "metadata": {},
   "outputs": [
    {
     "data": {
      "text/plain": [
       "\"Synset('hea.a.06')\""
      ]
     },
     "execution_count": 55,
     "metadata": {},
     "output_type": "execute_result"
    }
   ],
   "source": [
    "sset"
   ]
  },
  {
   "cell_type": "code",
   "execution_count": 105,
   "metadata": {},
   "outputs": [
    {
     "name": "stdout",
     "output_type": "stream",
     "text": [
      "literal == 1\n",
      "literal == 1\n",
      "literal == 1\n",
      "literal == 1\n",
      "literal == 1\n",
      "literal == 1\n",
      "literal == 1\n",
      "literal == 1\n",
      "literal == 1\n",
      "literal == 1\n",
      "literal == 1\n",
      "literal == 1\n",
      "literal == 1\n",
      "literal == 1\n",
      "literal == 1\n",
      "literal == 1\n",
      "literal == 1\n",
      "literal == 1\n",
      "literal == 1\n",
      "literal == 1\n",
      "literal == 1\n",
      "literal == 1\n",
      "literal == 1\n",
      "literal == 1\n",
      "literal == 1\n",
      "literal == 1\n",
      "literal == 1\n",
      "literal == 1\n",
      "literal == 1\n",
      "literal == 1\n",
      "literal == 1\n",
      "literal == 1\n",
      "literal == 1\n",
      "literal == 1\n",
      "literal == 1\n",
      "literal == 1\n",
      "literal == 1\n",
      "literal == 1\n",
      "literal == 1\n",
      "literal == 1\n",
      "literal == 1\n",
      "literal == 1\n",
      "literal == 1\n",
      "literal == 1\n",
      "literal == 1\n",
      "literal == 1\n",
      "literal == 1\n",
      "literal == 1\n",
      "literal == 1\n",
      "literal == 1\n",
      "literal == 1\n",
      "literal == 1\n",
      "literal == 1\n",
      "literal == 1\n",
      "literal == 1\n",
      "literal == 1\n",
      "literal == 1\n",
      "literal == 1\n",
      "literal == 1\n",
      "literal == 1\n",
      "literal == 1\n",
      "literal == 1\n",
      "literal == 1\n",
      "literal == 1\n",
      "literal == 1\n",
      "literal == 1\n",
      "literal == 1\n",
      "literal == 1\n",
      "literal == 1\n",
      "literal == 1\n",
      "literal == 1\n",
      "literal == 1\n",
      "literal == 1\n",
      "literal == 1\n",
      "literal == 1\n",
      "literal == 1\n",
      "literal == 1\n",
      "literal == 1\n",
      "literal == 1\n",
      "literal == 1\n",
      "literal == 1\n",
      "literal == 1\n",
      "literal == 1\n",
      "literal == 1\n",
      "literal == 1\n",
      "literal == 1\n",
      "literal == 1\n",
      "literal == 1\n",
      "literal == 1\n",
      "literal == 1\n",
      "literal == 1\n",
      "literal == 1\n",
      "literal == 1\n",
      "literal == 1\n",
      "literal == 1\n",
      "literal == 1\n",
      "literal == 1\n",
      "literal == 1\n",
      "literal == 1\n",
      "literal == 1\n",
      "literal == 1\n",
      "literal == 1\n",
      "literal == 1\n",
      "literal == 1\n",
      "literal == 1\n",
      "literal == 1\n",
      "literal == 1\n",
      "literal == 1\n",
      "literal == 1\n",
      "literal == 1\n",
      "literal == 1\n",
      "literal == 1\n",
      "literal == 1\n",
      "literal == 1\n",
      "literal == 1\n",
      "literal == 1\n",
      "literal == 1\n",
      "literal == 1\n",
      "literal == 1\n",
      "literal == 1\n",
      "literal == 1\n",
      "literal == 1\n",
      "literal == 1\n",
      "literal == 1\n",
      "literal == 1\n",
      "literal == 1\n",
      "literal == 1\n",
      "literal == 1\n",
      "literal == 1\n",
      "literal == 1\n",
      "literal == 1\n",
      "literal == 1\n",
      "literal == 1\n",
      "literal == 1\n",
      "literal == 1\n",
      "literal == 1\n",
      "literal == 1\n",
      "literal == 1\n",
      "literal == 1\n",
      "literal == 1\n",
      "literal == 1\n",
      "literal == 1\n",
      "literal == 1\n",
      "literal == 1\n",
      "literal == 1\n",
      "literal == 1\n",
      "literal == 1\n",
      "literal == 1\n",
      "literal == 1\n",
      "literal == 1\n",
      "literal == 1\n",
      "literal == 1\n",
      "literal == 1\n",
      "literal == 1\n",
      "literal == 1\n",
      "literal == 1\n",
      "literal == 1\n",
      "literal == 1\n",
      "literal == 1\n",
      "literal == 1\n",
      "literal == 1\n",
      "literal == 1\n",
      "literal == 1\n",
      "literal == 1\n",
      "literal == 1\n",
      "literal == 1\n",
      "literal == 1\n",
      "literal == 1\n",
      "literal == 1\n",
      "literal == 1\n",
      "literal == 1\n",
      "literal == 1\n",
      "literal == 1\n",
      "literal == 1\n",
      "literal == 1\n",
      "literal == 1\n",
      "literal == 1\n",
      "literal == 1\n",
      "literal == 1\n",
      "literal == 1\n",
      "literal == 1\n",
      "literal == 1\n",
      "literal == 1\n",
      "literal == 1\n",
      "literal == 1\n",
      "literal == 1\n",
      "literal == 1\n",
      "literal == 1\n",
      "literal == 1\n"
     ]
    }
   ],
   "source": [
    "literals = []\n",
    "\n",
    "for sset in ssetList:\n",
    "    rsset = sset._raw_synset\n",
    "    for relation_candidate in rsset.internalLinks:\n",
    "        for name in rsset.variants:\n",
    "            literal = name.literal\n",
    "            if len(name.literal) == 1:\n",
    "                #literal = None\n",
    "                print(\"literal == 1\")\n",
    "            else:\n",
    "                literal = str(name.literal)\n",
    "                #[nimi.literal for nimi in rsset.variants ]\n",
    "                #write to database\n",
    "        '''\n",
    "            linked_synset = synset(_get_key_from_raw_synset(relation_candidate.target_concept))\n",
    "            relation_candidate.target_concept = linked_synset._raw_synset\n",
    "            results.append(linked_synset)\n",
    "        '''"
   ]
  },
  {
   "cell_type": "code",
   "execution_count": 11,
   "metadata": {},
   "outputs": [
    {
     "name": "stdout",
     "output_type": "stream",
     "text": [
      "[]\n"
     ]
    }
   ],
   "source": [
    "print(results)"
   ]
  },
  {
   "cell_type": "code",
   "execution_count": 109,
   "metadata": {},
   "outputs": [],
   "source": [
    "relation_list = []\n",
    "end_node = []\n",
    "for name in synsetName:\n",
    "    ssetList= wn.synsets(name)\n",
    "    for sset in ssetList:\n",
    "        rsset=sset._raw_synset\n",
    "        for relation_candidate in rsset.internalLinks:\n",
    "            relation_list.append(relation_candidate.name)\n",
    "            end_node.append(relation_candidate.target_concept)"
   ]
  },
  {
   "cell_type": "code",
   "execution_count": 114,
   "metadata": {},
   "outputs": [],
   "source": [
    "i=1\n",
    "print(synsetName[i]+ \"\\n~~\")\n",
    "print(str(end_node[i])+ \"\\n~~\")\n",
    "print(relation_list[i]+ \"\\n~~\")"
   ]
  },
  {
   "cell_type": "code",
   "execution_count": null,
   "metadata": {},
   "outputs": [],
   "source": []
  }
 ],
 "metadata": {
  "kernelspec": {
   "display_name": "Python 3",
   "language": "python",
   "name": "python3"
  },
  "language_info": {
   "codemirror_mode": {
    "name": "ipython",
    "version": 3
   },
   "file_extension": ".py",
   "mimetype": "text/x-python",
   "name": "python",
   "nbconvert_exporter": "python",
   "pygments_lexer": "ipython3",
   "version": "3.5.5"
  }
 },
 "nbformat": 4,
 "nbformat_minor": 2
}
