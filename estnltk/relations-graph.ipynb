{
 "cells": [
  {
   "cell_type": "code",
   "execution_count": 1,
   "metadata": {},
   "outputs": [],
   "source": [
    "from estnltk.wordnet import wn\n",
    "import sqlite3\n",
    "import igraph as ig\n",
    "import plotly.plotly as py\n",
    "from plotly.graph_objs import *"
   ]
  },
  {
   "cell_type": "code",
   "execution_count": 2,
   "metadata": {},
   "outputs": [],
   "source": [
    "sset_db = 'wordnet/data/all_synsets.db'\n",
    "relation_db = 'wordnet/data/all_relations_strings.db'"
   ]
  },
  {
   "cell_type": "code",
   "execution_count": 3,
   "metadata": {},
   "outputs": [],
   "source": [
    "g = ig.Graph()\n",
    "g.es[\"relation\"] = []\n",
    "g.vs[\"synset\"] =[]"
   ]
  },
  {
   "cell_type": "code",
   "execution_count": 4,
   "metadata": {},
   "outputs": [],
   "source": [
    "def create_connection(db_file):\n",
    "    \"\"\" create a database connection to the SQLite database\n",
    "        specified by db_file\n",
    "    :param db_file: database file\n",
    "    :return: Connection object or None\n",
    "    \"\"\"\n",
    "    try:\n",
    "        conn = sqlite3.connect(db_file)\n",
    "        return conn\n",
    "    except sqlite3.Error as e:\n",
    "        print(\"Connection error: [%s]\" % e)\n",
    "\n",
    "    return None\n",
    "\n",
    "def create_table(conn, create_table_sql ):\n",
    "    \"\"\" create a table from the create_table_sql statement\n",
    "    :param conn: Connection object\n",
    "    :param create_table_sql: a CREATE TABLE statement\n",
    "    :return:\n",
    "    \"\"\"\n",
    "    try:\n",
    "        c = conn.cursor()\n",
    "        c.execute(create_table_sql)\n",
    "    except sqlite3.Error as e:\n",
    "        print(\"Connection error while creating table: [%s]\" % e)\n",
    "\n",
    "def sqlTables(databaseLoc):\n",
    "\n",
    "    sql_create_synset_table = ''' CREATE TABLE IF NOT EXISTS graph_table(\n",
    "\n",
    "                                        start_vertex INT NOT NULL,\n",
    "                                        start_synset TEXT NOT NULL,\n",
    "                                        end_synset TEXT NOT NULL,\n",
    "                                        end_vertex INT NOT NULL,\n",
    "                                        relation TEXT NOT NULL\n",
    "                                                    ); '''\n",
    "    conn = create_connection(databaseLoc)\n",
    "    if conn is not None:\n",
    "        create_table(conn,sql_create_synset_table)\n",
    "    else:\n",
    "        print(\"Error! cannot create db conn.\")"
   ]
  },
  {
   "cell_type": "code",
   "execution_count": 5,
   "metadata": {},
   "outputs": [],
   "source": [
    "def get_ssets(db_file):\n",
    "\n",
    "    sqlTables(db_file)\n",
    "    conn = create_connection(db_file)\n",
    "    cursor = conn.cursor()\n",
    "    with conn:\n",
    "        cursor.execute(\"SELECT DISTINCT synset_word FROM synset_table\")\n",
    "        for row in cursor.fetchall():\n",
    "            sset_word.append(row[0])"
   ]
  },
  {
   "cell_type": "code",
   "execution_count": 6,
   "metadata": {},
   "outputs": [],
   "source": [
    "\n",
    "\n",
    "def get_relations(db_file):\n",
    "    \n",
    "    sqlTables(db_file)\n",
    "    conn = create_connection(db_file)\n",
    "    cursor = conn.cursor()\n",
    "    \n",
    "    with conn:\n",
    "        cursor.execute(\"SELECT start_vertex FROM graph_table\")\n",
    "        for row in cursor.fetchall():\n",
    "            start_vrtx.append(row[0])\n",
    "        cursor.execute(\"SELECT end_vertex FROM graph_table\")\n",
    "        for row in cursor.fetchall():\n",
    "            end_vrtx.append(row[0])\n",
    "        cursor.execute(\"SELECT relation FROM graph_table\")\n",
    "        for row in cursor.fetchall():\n",
    "            relation.append(row[0])"
   ]
  },
  {
   "cell_type": "code",
   "execution_count": 7,
   "metadata": {},
   "outputs": [],
   "source": [
    "def add_edges(start_vertex, end_vertex, N):\n",
    "    '''\n",
    "    Edges are added between start_vertex[i] and end_vertex\n",
    "    If end vertex ID changes, it means that there are no more start IDs corresponding to end ID, so\n",
    "    we take N-1 as end ID and continiue adding start_vertex[i] to end_vertex[N-1], etc.\n",
    "    '''\n",
    "    sset_list = [None]*N\n",
    "    rel_list = [None]*N\n",
    "    #max_vrt = max(max(start_vertex[N]), max(end_vertex[N]))\n",
    "    g.add_vertices(N)\n",
    "    end = int((N/2)-1) # edges indexed from 0\n",
    "    j=1\n",
    "    print(end)\n",
    "    for i in range(N):\n",
    "        g.add_edge(i, end)        \n",
    "        sset_list[i] = sset_word[ start_vertex[i] ]\n",
    "        sset_list[N-(i+1)] = sset_word[ end_vertex[i] ]\n",
    "        #rel_list[i] = relation[i]\n",
    "        if end_vertex[i] != end_vertex[i+1]:\n",
    "            end = N-j\n",
    "            j+=1            \n",
    "    g.es[\"relation\"] = relation[:N]#rel_list\n",
    "    g.vs[\"synset\"] = sset_list\n",
    "    \n"
   ]
  },
  {
   "cell_type": "code",
   "execution_count": 8,
   "metadata": {},
   "outputs": [],
   "source": [
    "start_vrtx = []\n",
    "end_vrtx   = []\n",
    "relation   = []\n",
    "\n",
    "get_relations(relation_db)"
   ]
  },
  {
   "cell_type": "code",
   "execution_count": 9,
   "metadata": {},
   "outputs": [],
   "source": [
    "sset_word = []\n",
    "get_ssets(sset_db)"
   ]
  },
  {
   "cell_type": "code",
   "execution_count": 20,
   "metadata": {},
   "outputs": [
    {
     "data": {
      "text/plain": [
       "['hea',\n",
       " 'viimane',\n",
       " 'nooruslik',\n",
       " 'keskmine',\n",
       " 'pikakoivaline',\n",
       " 'kena',\n",
       " 'kiire',\n",
       " 'kindel',\n",
       " 'õige',\n",
       " 'kääbuslik',\n",
       " 'hiiglaslik',\n",
       " 'massiivne',\n",
       " 'mahukas',\n",
       " 'ulatuslik',\n",
       " 'ruumikas',\n",
       " 'miniatuurne',\n",
       " 'pisitilluke',\n",
       " 'mikroskoopiline',\n",
       " 'uhiuus',\n",
       " 'halb']"
      ]
     },
     "execution_count": 20,
     "metadata": {},
     "output_type": "execute_result"
    }
   ],
   "source": [
    "sset_word[:20]"
   ]
  },
  {
   "cell_type": "code",
   "execution_count": 66,
   "metadata": {},
   "outputs": [
    {
     "name": "stdout",
     "output_type": "stream",
     "text": [
      "49\n"
     ]
    }
   ],
   "source": [
    "g = ig.Graph()\n",
    "g.vs[\"synset\"]=[]\n",
    "g.es[\"relation\"]=[]\n",
    "amount = 100\n",
    "add_edges(start_vrtx, end_vrtx, amount)"
   ]
  },
  {
   "cell_type": "code",
   "execution_count": 64,
   "metadata": {
    "scrolled": true
   },
   "outputs": [
    {
     "name": "stdout",
     "output_type": "stream",
     "text": [
      "145889\n",
      "145889\n"
     ]
    },
    {
     "data": {
      "text/plain": [
       "['matsakas',\n",
       " 'matsakas',\n",
       " 'matsakas',\n",
       " 'matsakas',\n",
       " 'matsakas',\n",
       " 'matsakas',\n",
       " 'matsakas',\n",
       " 'matsakas',\n",
       " 'matsakas',\n",
       " 'matsakas',\n",
       " 'matsakas',\n",
       " 'matsakas',\n",
       " 'matsakas',\n",
       " 'matsakas',\n",
       " 'matsakas',\n",
       " 'matsakas',\n",
       " 'matsakas',\n",
       " 'matsakas',\n",
       " 'matsakas',\n",
       " 'matsakas',\n",
       " 'matsakas',\n",
       " 'matsakas',\n",
       " 'matsakas',\n",
       " 'matsakas',\n",
       " 'matsakas',\n",
       " 'matsakas',\n",
       " 'matsakas',\n",
       " 'matsakas',\n",
       " 'matsakas',\n",
       " 'matsakas',\n",
       " 'matsakas',\n",
       " 'matsakas',\n",
       " 'matsakas',\n",
       " 'matsakas',\n",
       " 'matsakas',\n",
       " 'matsakas',\n",
       " 'matsakas',\n",
       " 'matsakas',\n",
       " 'matsakas',\n",
       " 'matsakas',\n",
       " 'matsakas',\n",
       " 'matsakas',\n",
       " 'matsakas',\n",
       " 'matsakas',\n",
       " 'matsakas',\n",
       " 'matsakas',\n",
       " 'matsakas',\n",
       " 'matsakas',\n",
       " 'matsakas',\n",
       " 'matsakas',\n",
       " 'kahjasinine',\n",
       " 'kahkjassinine',\n",
       " 'kahvatusinine',\n",
       " 'kannikesesinine',\n",
       " 'kirgassinine',\n",
       " 'koobaltsinine',\n",
       " 'krellsinine',\n",
       " 'külmsinine',\n",
       " 'lasuursinine',\n",
       " 'lavendelsinine',\n",
       " 'lillakassinine',\n",
       " 'linaõissinine',\n",
       " 'mahesinine',\n",
       " 'meresinine',\n",
       " 'metüleensinine',\n",
       " 'mustjassinine',\n",
       " 'mustsinine',\n",
       " 'piimjassinine',\n",
       " 'pimestavsinine',\n",
       " 'pleeksinine',\n",
       " 'ploomisinine',\n",
       " 'portselansinine',\n",
       " 'potisinine',\n",
       " 'puhassinine',\n",
       " 'punakassinine',\n",
       " 'purpursinine',\n",
       " 'puusinine',\n",
       " 'põuasinine',\n",
       " 'rohekassinine',\n",
       " 'roosakassinine',\n",
       " 'rukkilillesinine',\n",
       " 'safiirsinine',\n",
       " 'sinilillesinine',\n",
       " 'sinisinine',\n",
       " 'siresinine',\n",
       " 'säravsinine',\n",
       " 'sügavsinine',\n",
       " 'taevasinine',\n",
       " 'terassinine',\n",
       " 'tindisinine',\n",
       " 'tuhmsinine',\n",
       " 'tumesinine',\n",
       " 'türkiissinine',\n",
       " 'ultramariinsinine',\n",
       " 'valkjassinine',\n",
       " 'vesisinine',\n",
       " 'viiulisinine',\n",
       " 'õrnsinine',\n",
       " 'öösinine',\n",
       " 'helepruun']"
      ]
     },
     "execution_count": 64,
     "metadata": {},
     "output_type": "execute_result"
    }
   ],
   "source": [
    "print(len(start_vrtx))\n",
    "print(len(end_vrtx))\n",
    "g.vs[\"synset\"]"
   ]
  },
  {
   "cell_type": "code",
   "execution_count": 73,
   "metadata": {},
   "outputs": [
    {
     "ename": "AttributeError",
     "evalue": "'bytes' object has no attribute 'encode'",
     "output_type": "error",
     "traceback": [
      "\u001b[0;31m---------------------------------------------------------------------------\u001b[0m",
      "\u001b[0;31mAttributeError\u001b[0m                            Traceback (most recent call last)",
      "\u001b[0;32m~/anaconda3/envs/py35/lib/python3.5/site-packages/IPython/core/formatters.py\u001b[0m in \u001b[0;36m__call__\u001b[0;34m(self, obj)\u001b[0m\n\u001b[1;32m    343\u001b[0m             \u001b[0mmethod\u001b[0m \u001b[0;34m=\u001b[0m \u001b[0mget_real_method\u001b[0m\u001b[0;34m(\u001b[0m\u001b[0mobj\u001b[0m\u001b[0;34m,\u001b[0m \u001b[0mself\u001b[0m\u001b[0;34m.\u001b[0m\u001b[0mprint_method\u001b[0m\u001b[0;34m)\u001b[0m\u001b[0;34m\u001b[0m\u001b[0m\n\u001b[1;32m    344\u001b[0m             \u001b[0;32mif\u001b[0m \u001b[0mmethod\u001b[0m \u001b[0;32mis\u001b[0m \u001b[0;32mnot\u001b[0m \u001b[0;32mNone\u001b[0m\u001b[0;34m:\u001b[0m\u001b[0;34m\u001b[0m\u001b[0m\n\u001b[0;32m--> 345\u001b[0;31m                 \u001b[0;32mreturn\u001b[0m \u001b[0mmethod\u001b[0m\u001b[0;34m(\u001b[0m\u001b[0;34m)\u001b[0m\u001b[0;34m\u001b[0m\u001b[0m\n\u001b[0m\u001b[1;32m    346\u001b[0m             \u001b[0;32mreturn\u001b[0m \u001b[0;32mNone\u001b[0m\u001b[0;34m\u001b[0m\u001b[0m\n\u001b[1;32m    347\u001b[0m         \u001b[0;32melse\u001b[0m\u001b[0;34m:\u001b[0m\u001b[0;34m\u001b[0m\u001b[0m\n",
      "\u001b[0;32m~/anaconda3/envs/py35/lib/python3.5/site-packages/igraph/drawing/__init__.py\u001b[0m in \u001b[0;36m_repr_svg_\u001b[0;34m(self)\u001b[0m\n\u001b[1;32m    352\u001b[0m         \u001b[0;31m# Return the raw SVG representation\u001b[0m\u001b[0;34m\u001b[0m\u001b[0;34m\u001b[0m\u001b[0m\n\u001b[1;32m    353\u001b[0m         \u001b[0mresult\u001b[0m \u001b[0;34m=\u001b[0m \u001b[0mio\u001b[0m\u001b[0;34m.\u001b[0m\u001b[0mgetvalue\u001b[0m\u001b[0;34m(\u001b[0m\u001b[0;34m)\u001b[0m\u001b[0;34m\u001b[0m\u001b[0m\n\u001b[0;32m--> 354\u001b[0;31m         \u001b[0;32mif\u001b[0m \u001b[0mhasattr\u001b[0m\u001b[0;34m(\u001b[0m\u001b[0mresult\u001b[0m\u001b[0;34m,\u001b[0m \u001b[0;34m\"encode\"\u001b[0m\u001b[0;34m)\u001b[0m\u001b[0;34m:\u001b[0m\u001b[0;34m\u001b[0m\u001b[0m\n\u001b[0m\u001b[1;32m    355\u001b[0m             \u001b[0;32mreturn\u001b[0m \u001b[0mresult\u001b[0m\u001b[0;34m.\u001b[0m\u001b[0mencode\u001b[0m\u001b[0;34m(\u001b[0m\u001b[0;34m\"utf-8\"\u001b[0m\u001b[0;34m)\u001b[0m          \u001b[0;31m# for Python 2.x\u001b[0m\u001b[0;34m\u001b[0m\u001b[0m\n\u001b[1;32m    356\u001b[0m         \u001b[0;32melse\u001b[0m\u001b[0;34m:\u001b[0m\u001b[0;34m\u001b[0m\u001b[0m\n",
      "\u001b[0;31mAttributeError\u001b[0m: 'bytes' object has no attribute 'encode'"
     ]
    },
    {
     "data": {
      "text/plain": [
       "<igraph.drawing.Plot at 0x7fd37d757fd0>"
      ]
     },
     "execution_count": 73,
     "metadata": {},
     "output_type": "execute_result"
    }
   ],
   "source": [
    "layout = g.layout(\"kamada_kawai\")\n",
    "ig.plot(g, layout = layout)"
   ]
  },
  {
   "cell_type": "code",
   "execution_count": 67,
   "metadata": {},
   "outputs": [
    {
     "data": {
      "text/plain": [
       "igraph.layout.Layout"
      ]
     },
     "execution_count": 67,
     "metadata": {},
     "output_type": "execute_result"
    }
   ],
   "source": [
    "\n",
    "labels=list(g.vs['synset'])\n",
    "N=len(labels)\n",
    "E=[e.tuple for e in g.es]# list of edges\n",
    "layt=g.layout('kk') #spherical layout\n",
    "type(layt)"
   ]
  },
  {
   "cell_type": "code",
   "execution_count": 68,
   "metadata": {},
   "outputs": [
    {
     "ename": "AttributeError",
     "evalue": "'bytes' object has no attribute 'encode'",
     "output_type": "error",
     "traceback": [
      "\u001b[0;31m---------------------------------------------------------------------------\u001b[0m",
      "\u001b[0;31mAttributeError\u001b[0m                            Traceback (most recent call last)",
      "\u001b[0;32m~/anaconda3/envs/py35/lib/python3.5/site-packages/IPython/core/formatters.py\u001b[0m in \u001b[0;36m__call__\u001b[0;34m(self, obj)\u001b[0m\n\u001b[1;32m    343\u001b[0m             \u001b[0mmethod\u001b[0m \u001b[0;34m=\u001b[0m \u001b[0mget_real_method\u001b[0m\u001b[0;34m(\u001b[0m\u001b[0mobj\u001b[0m\u001b[0;34m,\u001b[0m \u001b[0mself\u001b[0m\u001b[0;34m.\u001b[0m\u001b[0mprint_method\u001b[0m\u001b[0;34m)\u001b[0m\u001b[0;34m\u001b[0m\u001b[0m\n\u001b[1;32m    344\u001b[0m             \u001b[0;32mif\u001b[0m \u001b[0mmethod\u001b[0m \u001b[0;32mis\u001b[0m \u001b[0;32mnot\u001b[0m \u001b[0;32mNone\u001b[0m\u001b[0;34m:\u001b[0m\u001b[0;34m\u001b[0m\u001b[0m\n\u001b[0;32m--> 345\u001b[0;31m                 \u001b[0;32mreturn\u001b[0m \u001b[0mmethod\u001b[0m\u001b[0;34m(\u001b[0m\u001b[0;34m)\u001b[0m\u001b[0;34m\u001b[0m\u001b[0m\n\u001b[0m\u001b[1;32m    346\u001b[0m             \u001b[0;32mreturn\u001b[0m \u001b[0;32mNone\u001b[0m\u001b[0;34m\u001b[0m\u001b[0m\n\u001b[1;32m    347\u001b[0m         \u001b[0;32melse\u001b[0m\u001b[0;34m:\u001b[0m\u001b[0;34m\u001b[0m\u001b[0m\n",
      "\u001b[0;32m~/anaconda3/envs/py35/lib/python3.5/site-packages/igraph/drawing/__init__.py\u001b[0m in \u001b[0;36m_repr_svg_\u001b[0;34m(self)\u001b[0m\n\u001b[1;32m    352\u001b[0m         \u001b[0msurface\u001b[0m\u001b[0;34m.\u001b[0m\u001b[0mfinish\u001b[0m\u001b[0;34m(\u001b[0m\u001b[0;34m)\u001b[0m\u001b[0;34m\u001b[0m\u001b[0m\n\u001b[1;32m    353\u001b[0m         \u001b[0;31m# Return the raw SVG representation\u001b[0m\u001b[0;34m\u001b[0m\u001b[0;34m\u001b[0m\u001b[0m\n\u001b[0;32m--> 354\u001b[0;31m         \u001b[0;32mreturn\u001b[0m \u001b[0mio\u001b[0m\u001b[0;34m.\u001b[0m\u001b[0mgetvalue\u001b[0m\u001b[0;34m(\u001b[0m\u001b[0;34m)\u001b[0m\u001b[0;34m.\u001b[0m\u001b[0mencode\u001b[0m\u001b[0;34m(\u001b[0m\u001b[0;34m\"utf-8\"\u001b[0m\u001b[0;34m)\u001b[0m\u001b[0;34m\u001b[0m\u001b[0m\n\u001b[0m\u001b[1;32m    355\u001b[0m \u001b[0;34m\u001b[0m\u001b[0m\n\u001b[1;32m    356\u001b[0m     \u001b[0;34m@\u001b[0m\u001b[0mproperty\u001b[0m\u001b[0;34m\u001b[0m\u001b[0m\n",
      "\u001b[0;31mAttributeError\u001b[0m: 'bytes' object has no attribute 'encode'"
     ]
    },
    {
     "data": {
      "text/plain": [
       "<igraph.drawing.Plot at 0x7fd37bf44278>"
      ]
     },
     "execution_count": 68,
     "metadata": {},
     "output_type": "execute_result"
    }
   ],
   "source": [
    "ig.plot(g)"
   ]
  },
  {
   "cell_type": "code",
   "execution_count": 70,
   "metadata": {},
   "outputs": [
    {
     "ename": "AttributeError",
     "evalue": "'tuple' object has no attribute 'XAxis'",
     "output_type": "error",
     "traceback": [
      "\u001b[0;31m---------------------------------------------------------------------------\u001b[0m",
      "\u001b[0;31mAttributeError\u001b[0m                            Traceback (most recent call last)",
      "\u001b[0;32m<ipython-input-70-bd4b72952b29>\u001b[0m in \u001b[0;36m<module>\u001b[0;34m()\u001b[0m\n\u001b[1;32m     41\u001b[0m     \u001b[0mwidth\u001b[0m\u001b[0;34m=\u001b[0m\u001b[0mwidth\u001b[0m\u001b[0;34m,\u001b[0m\u001b[0;34m\u001b[0m\u001b[0m\n\u001b[1;32m     42\u001b[0m     \u001b[0mheight\u001b[0m\u001b[0;34m=\u001b[0m\u001b[0mheight\u001b[0m\u001b[0;34m,\u001b[0m\u001b[0;34m\u001b[0m\u001b[0m\n\u001b[0;32m---> 43\u001b[0;31m     \u001b[0mxaxis\u001b[0m\u001b[0;34m=\u001b[0m\u001b[0mlayout\u001b[0m\u001b[0;34m.\u001b[0m\u001b[0mXAxis\u001b[0m\u001b[0;34m(\u001b[0m\u001b[0maxis\u001b[0m\u001b[0;34m)\u001b[0m\u001b[0;34m,\u001b[0m\u001b[0;34m\u001b[0m\u001b[0m\n\u001b[0m\u001b[1;32m     44\u001b[0m     \u001b[0myaxis\u001b[0m\u001b[0;34m=\u001b[0m\u001b[0mlayout\u001b[0m\u001b[0;34m.\u001b[0m\u001b[0mYAxis\u001b[0m\u001b[0;34m(\u001b[0m\u001b[0maxis\u001b[0m\u001b[0;34m)\u001b[0m\u001b[0;34m,\u001b[0m\u001b[0;34m\u001b[0m\u001b[0m\n\u001b[1;32m     45\u001b[0m     margin=layout.Margin(\n",
      "\u001b[0;31mAttributeError\u001b[0m: 'tuple' object has no attribute 'XAxis'"
     ]
    }
   ],
   "source": [
    "Xn=[layt[k][0] for k in range(N)]\n",
    "Yn=[layt[k][1] for k in range(N)]\n",
    "Xe=[]\n",
    "Ye=[]\n",
    "for e in E:\n",
    "    Xe+=[layt[e[0]][0],layt[e[1]][0], None]\n",
    "    Ye+=[layt[e[0]][1],layt[e[1]][1], None] \n",
    "    \n",
    "trace1=Scatter(x=Xe,\n",
    "               y=Ye,\n",
    "               mode='lines',\n",
    "               line= dict(color='rgb(210,210,210)', width=1),\n",
    "               hoverinfo='none'\n",
    "               )\n",
    "trace2=Scatter(x=Xn,\n",
    "               y=Yn,\n",
    "               mode='markers',\n",
    "               name='ntw',\n",
    "               marker=dict(symbol='circle-dot',\n",
    "                                        size=5,\n",
    "                                        color='#6959CD',\n",
    "                                        line=dict(color='rgb(50,50,50)', width=0.5)\n",
    "                                        ),\n",
    "               text=labels,\n",
    "               hoverinfo='text'\n",
    "               )\n",
    "\n",
    "axis=dict(showline=False, # hide axis line, grid, ticklabels and  title\n",
    "          zeroline=False,\n",
    "          showgrid=False,\n",
    "          showticklabels=False,\n",
    "          title='' \n",
    "          )\n",
    "\n",
    "width=800\n",
    "height=800\n",
    "layout=Layout(title= \"Coauthorship network of scientists working on network theory and experiment\"+\\\n",
    "              \"<br> Data source: <a href='https://networkdata.ics.uci.edu/data.php?id=11'> [1]</a>\",  \n",
    "    font= dict(size=12),\n",
    "    showlegend=False,\n",
    "    autosize=False,\n",
    "    width=width,\n",
    "    height=height,\n",
    "    xaxis=layout.XAxis(axis),\n",
    "    yaxis=layout.YAxis(axis),          \n",
    "    margin=layout.Margin(\n",
    "        l=40,\n",
    "        r=40,\n",
    "        b=85,\n",
    "        t=100,\n",
    "    ),\n",
    "    hovermode='closest',\n",
    "    annotations=[\n",
    "           dict(\n",
    "           showarrow=False, \n",
    "            text='This igraph.Graph has the Kamada-Kawai layout',  \n",
    "            xref='paper',     \n",
    "            yref='paper',     \n",
    "            x=0,  \n",
    "            y=-0.1,  \n",
    "            xanchor='left',   \n",
    "            yanchor='bottom',  \n",
    "            font=dict(\n",
    "            size=14 \n",
    "            )     \n",
    "            )\n",
    "        ]          \n",
    "    )\n",
    "\n",
    "data=[trace1, trace2]\n",
    "fig=Figure(data=data, layout=layout)\n",
    "py.iplot(fig, filename='Coautorship-network-igraph') "
   ]
  },
  {
   "cell_type": "code",
   "execution_count": null,
   "metadata": {},
   "outputs": [],
   "source": []
  }
 ],
 "metadata": {
  "kernelspec": {
   "display_name": "Python 3",
   "language": "python",
   "name": "python3"
  },
  "language_info": {
   "codemirror_mode": {
    "name": "ipython",
    "version": 3
   },
   "file_extension": ".py",
   "mimetype": "text/x-python",
   "name": "python",
   "nbconvert_exporter": "python",
   "pygments_lexer": "ipython3",
   "version": "3.5.5"
  }
 },
 "nbformat": 4,
 "nbformat_minor": 2
}
