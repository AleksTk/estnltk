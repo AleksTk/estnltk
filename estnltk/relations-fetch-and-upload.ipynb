{
 "cells": [
  {
   "cell_type": "code",
   "execution_count": 1,
   "metadata": {},
   "outputs": [],
   "source": [
    "from estnltk.wordnet import wn\n",
    "import sqlite3"
   ]
  },
  {
   "cell_type": "code",
   "execution_count": null,
   "metadata": {},
   "outputs": [],
   "source": [
    "# save all synsets from wn to synsetList\n",
    "pos = [wn.ADJ, wn.ADV, wn.VERB, wn.NOUN]\n",
    "synsetList=[]\n",
    "for i in pos:\n",
    "    tmp = wn.all_synsets(i)\n",
    "    for j in tmp:\n",
    "        synsetList.append(j)  "
   ]
  },
  {
   "cell_type": "code",
   "execution_count": 3,
   "metadata": {},
   "outputs": [],
   "source": [
    "sset_db = 'wordnet/data/all_synsets.db'\n",
    "relation_db = 'wordnet/data/all_relations_strings.db'"
   ]
  },
  {
   "cell_type": "code",
   "execution_count": 4,
   "metadata": {},
   "outputs": [],
   "source": [
    "end_vrtx = []\n",
    "start_vrtx = []\n",
    "start_sset = []\n",
    "end_sset = []\n",
    "rel_type = []"
   ]
  },
  {
   "cell_type": "code",
   "execution_count": 6,
   "metadata": {},
   "outputs": [],
   "source": [
    "def create_connection(db_file):\n",
    "    \"\"\" create a database connection to the SQLite database\n",
    "        specified by db_file\n",
    "    :param db_file: database file\n",
    "    :return: Connection object or None\n",
    "    \"\"\"\n",
    "    try:\n",
    "        conn = sqlite3.connect(db_file)\n",
    "        return conn\n",
    "    except sqlite3.Error as e:\n",
    "        print(\"Connection error: [%s]\" % e)\n",
    "\n",
    "    return None\n",
    "\n",
    "def create_table(conn, create_table_sql ):\n",
    "    \"\"\" create a table from the create_table_sql statement\n",
    "    :param conn: Connection object\n",
    "    :param create_table_sql: a CREATE TABLE statement\n",
    "    :return:\n",
    "    \"\"\"\n",
    "    try:\n",
    "        c = conn.cursor()\n",
    "        c.execute(create_table_sql)\n",
    "    except sqlite3.Error as e:\n",
    "        print(\"Connection error while creating table: [%s]\" % e)\n",
    "\n",
    "def sqlTables(databaseLoc):\n",
    "\n",
    "    sql_create_synset_table = ''' CREATE TABLE IF NOT EXISTS graph_table1(\n",
    "\n",
    "                                        start_vertex INT NOT NULL,\n",
    "                                        start_synset TEXT NOT NULL,\n",
    "                                        end_synset TEXT NOT NULL,\n",
    "                                        end_vertex INT NOT NULL,\n",
    "                                        relation TEXT NOT NULL\n",
    "                                                    ); '''\n",
    "    conn = create_connection(databaseLoc)\n",
    "    if conn is not None:\n",
    "        create_table(conn,sql_create_synset_table)\n",
    "    else:\n",
    "        print(\"Error! cannot create db conn.\")"
   ]
  },
  {
   "cell_type": "code",
   "execution_count": 7,
   "metadata": {},
   "outputs": [],
   "source": [
    "def synset_str(synset_word, cursor):\n",
    "    cursor.execute('SELECT pos, sense FROM wordnet_entries WHERE synset_word = ?',(synset_word,))\n",
    "    data = cursor.fetchone()\n",
    "    if data is not None:\n",
    "        var = \".\" + data[0] + \".\" + str(data[1])\n",
    "        synset_word += var\n",
    "    else: return None\n",
    "    \n",
    "    return synset_word\n",
    "    "
   ]
  },
  {
   "cell_type": "code",
   "execution_count": 8,
   "metadata": {},
   "outputs": [],
   "source": [
    "def fetch_id(synset_word,cursor):\n",
    "    \n",
    "    cursor.execute('SELECT synset_id FROM synset_table WHERE synset_word = ?',(synset_word,))\n",
    "    data = cursor.fetchone()\n",
    "    if data is not None:\n",
    "        return data[0]\n",
    "    else: return None"
   ]
  },
  {
   "cell_type": "code",
   "execution_count": 9,
   "metadata": {},
   "outputs": [],
   "source": [
    "def get_literals(synset_list):\n",
    "    lit_word = []\n",
    "    for sset in synset_list:\n",
    "        for word in sset._raw_synset.variants:\n",
    "            lit_word.append(word.literal)\n",
    "    \n",
    "    return lit_word"
   ]
  },
  {
   "cell_type": "code",
   "execution_count": 10,
   "metadata": {},
   "outputs": [],
   "source": [
    "def fetch_synsets(synset_db):\n",
    "    '''\n",
    "    Reads synsets from database in order first to last: synset_id - int, synset_word - str, POS - str, sense - int, literal- str\n",
    "    '''\n",
    "    \n",
    "    conn = create_connection(synset_db)\n",
    "    cursor = conn.cursor()\n",
    "    with conn:\n",
    "        #select all synsets with different indices from table.\n",
    "        cursor.execute(\"SELECT DISTINCT synset_word FROM synset_table\")\n",
    "        for row in cursor.fetchall():\n",
    "            synsetList.append(row[0])\n",
    "    "
   ]
  },
  {
   "cell_type": "code",
   "execution_count": 11,
   "metadata": {},
   "outputs": [],
   "source": [
    "def fetch_relations(db_file):\n",
    "    \n",
    "    relationList = [\"has_hyperonym\", \"has_hyponym\", \"has_holonym\", \"has_meronym\", \"has_member_holo\"]\n",
    "    relation_str = [\"hyperonym\", \"hyponym\", \"holonym\", \"meronym\", \"member_holonym\"]\n",
    "    conn = create_connection(db_file)\n",
    "    cursor = conn.cursor()\n",
    "    \n",
    "    with conn:\n",
    "        for sset in synsetList:\n",
    "            i=0\n",
    "            sset_word = sset._raw_synset.firstVariant.literal\n",
    "            end = fetch_id(sset_word,cursor) \n",
    "            sset_str = synset_str(sset_word, cursor)\n",
    "            for rel in relationList:\n",
    "                rel_sset_list = sset.get_related_synsets(rel)\n",
    "                if rel_sset_list:                 \n",
    "                    rel_word = get_literals(rel_sset_list)\n",
    "                    '''\n",
    "                    # FIXME: few words from wn are returned in form of single list \"[word]\" instead of \"word\".\n",
    "                    if len(rel_word) == 1:\n",
    "                        rel_word = rel_word[0]\n",
    "                    #~~~\n",
    "                   ''' \n",
    "                    start = []\n",
    "                    if len(rel_word) > 1 and rel_word[0] is not '[':\n",
    "                        for word in rel_word:\n",
    "                            rel_type.append(relation_str[i])\n",
    "                            word_str = synset_str(word,cursor)\n",
    "                            start_sset.append(word_str)\n",
    "                            end_sset.append(sset_str)\n",
    "                            start = fetch_id(word,cursor)\n",
    "                            #if start is not None:\n",
    "                            start_vrtx.append(start)\n",
    "                            #if end is not None:\n",
    "                            end_vrtx.append(end)\n",
    "                            #else: end_vrtx.append(\"None\")\n",
    "                    elif len(rel_word) == 1:\n",
    "                        rel_type.append(relation_str[i]) \n",
    "                        rel_str = synset_str(rel_word[0], cursor)\n",
    "                        end_sset.append(sset_str)\n",
    "                        start_sset.append(rel_str)\n",
    "                        start = fetch_id(rel_word[0],cursor)\n",
    "                        #if start is not None:\n",
    "                        start_vrtx.append(start)\n",
    "                        #if end is not None:\n",
    "                        end_vrtx.append(end)\n",
    "                        #else: end_vrtx.append(\"None\")\n",
    "                i+=1"
   ]
  },
  {
   "cell_type": "code",
   "execution_count": null,
   "metadata": {},
   "outputs": [],
   "source": [
    "start_vrtx = []\n",
    "end_vrtx   = []\n",
    "end_sset   = []\n",
    "start_sset = []\n",
    "rel_type = []\n",
    "db_file = 'wordnet/data/all_synsets.db'\n",
    "conn = create_connection(db_file)\n",
    "cursor = conn.cursor()\n",
    "for sset in synsetList:\n",
    "    i=0\n",
    "    sset_word = sset._raw_synset.firstVariant.literal\n",
    "    end = fetch_id(sset_word,cursor) \n",
    "    sset_str = synset_str(sset_word, cursor)\n",
    "    rel_sset_list = sset.get_related_synsets(\"has_member_holo\")\n",
    "    if rel_sset_list:                 \n",
    "        rel_word = get_literals(rel_sset_list)\n",
    "        '''\n",
    "        # FIXME: few words from wn are returned in form of single list \"[word]\" instead of \"word\".\n",
    "        if len(rel_word) == 1:\n",
    "            rel_word = rel_word[0]\n",
    "        #~~~\n",
    "       ''' \n",
    "        start = []\n",
    "        if len(rel_word) > 1 and rel_word[0] is not '[':\n",
    "            for word in rel_word:\n",
    "                rel_type.append(relation_str[i])\n",
    "                word_str = synset_str(word,cursor)\n",
    "                start_sset.append(word_str)\n",
    "                end_sset.append(sset_str)\n",
    "                start = fetch_id(word,cursor)\n",
    "                #if start is not None:\n",
    "                start_vrtx.append(start)\n",
    "                #if end is not None:\n",
    "                end_vrtx.append(end)\n",
    "                #else: end_vrtx.append(\"None\")\n",
    "        elif len(rel_word) == 1:\n",
    "            rel_type.append(relation_str[i]) \n",
    "            rel_str = synset_str(rel_word[0], cursor)\n",
    "            end_sset.append(sset_str)\n",
    "            start_sset.append(rel_str)\n",
    "            start = fetch_id(rel_word[0],cursor)\n",
    "            #if start is not None:\n",
    "            start_vrtx.append(start)\n",
    "            #if end is not None:\n",
    "            end_vrtx.append(end)\n",
    "            #else: end_vrtx.append(\"None\")\n",
    "    i+=1"
   ]
  },
  {
   "cell_type": "code",
   "execution_count": 78,
   "metadata": {},
   "outputs": [
    {
     "ename": "KeyboardInterrupt",
     "evalue": "",
     "output_type": "error",
     "traceback": [
      "\u001b[0;31m---------------------------------------------------------------------------\u001b[0m",
      "\u001b[0;31mKeyboardInterrupt\u001b[0m                         Traceback (most recent call last)",
      "\u001b[0;32m<ipython-input-78-35413f9bfc4b>\u001b[0m in \u001b[0;36m<module>\u001b[0;34m()\u001b[0m\n\u001b[1;32m      4\u001b[0m     \u001b[0msset_word\u001b[0m \u001b[0;34m=\u001b[0m \u001b[0msset\u001b[0m\u001b[0;34m.\u001b[0m\u001b[0m_raw_synset\u001b[0m\u001b[0;34m.\u001b[0m\u001b[0mfirstVariant\u001b[0m\u001b[0;34m.\u001b[0m\u001b[0mliteral\u001b[0m\u001b[0;34m\u001b[0m\u001b[0m\n\u001b[1;32m      5\u001b[0m     \u001b[0;31m#end = fetch_id(sset_word,cursor)\u001b[0m\u001b[0;34m\u001b[0m\u001b[0;34m\u001b[0m\u001b[0m\n\u001b[0;32m----> 6\u001b[0;31m     \u001b[0msset_str\u001b[0m \u001b[0;34m=\u001b[0m \u001b[0msynset_str\u001b[0m\u001b[0;34m(\u001b[0m\u001b[0msset_word\u001b[0m\u001b[0;34m,\u001b[0m \u001b[0mcursor\u001b[0m\u001b[0;34m)\u001b[0m\u001b[0;34m\u001b[0m\u001b[0m\n\u001b[0m\u001b[1;32m      7\u001b[0m     \u001b[0mrel_sset_list\u001b[0m \u001b[0;34m=\u001b[0m \u001b[0msset\u001b[0m\u001b[0;34m.\u001b[0m\u001b[0mget_related_synsets\u001b[0m\u001b[0;34m(\u001b[0m\u001b[0;34m\"has_member_holo\"\u001b[0m\u001b[0;34m)\u001b[0m\u001b[0;34m\u001b[0m\u001b[0m\n\u001b[1;32m      8\u001b[0m     \u001b[0;32mif\u001b[0m \u001b[0mrel_sset_list\u001b[0m\u001b[0;34m:\u001b[0m\u001b[0;34m\u001b[0m\u001b[0m\n",
      "\u001b[0;32m<ipython-input-41-f42f3f5e6bce>\u001b[0m in \u001b[0;36msynset_str\u001b[0;34m(synset_word, cursor)\u001b[0m\n\u001b[1;32m      1\u001b[0m \u001b[0;32mdef\u001b[0m \u001b[0msynset_str\u001b[0m\u001b[0;34m(\u001b[0m\u001b[0msynset_word\u001b[0m\u001b[0;34m,\u001b[0m \u001b[0mcursor\u001b[0m\u001b[0;34m)\u001b[0m\u001b[0;34m:\u001b[0m\u001b[0;34m\u001b[0m\u001b[0m\n\u001b[1;32m      2\u001b[0m     \u001b[0mcursor\u001b[0m\u001b[0;34m.\u001b[0m\u001b[0mexecute\u001b[0m\u001b[0;34m(\u001b[0m\u001b[0;34m'SELECT POS, sense FROM synset_table WHERE synset_word = ?'\u001b[0m\u001b[0;34m,\u001b[0m\u001b[0;34m(\u001b[0m\u001b[0msynset_word\u001b[0m\u001b[0;34m,\u001b[0m\u001b[0;34m)\u001b[0m\u001b[0;34m)\u001b[0m\u001b[0;34m\u001b[0m\u001b[0m\n\u001b[0;32m----> 3\u001b[0;31m     \u001b[0mdata\u001b[0m \u001b[0;34m=\u001b[0m \u001b[0mcursor\u001b[0m\u001b[0;34m.\u001b[0m\u001b[0mfetchone\u001b[0m\u001b[0;34m(\u001b[0m\u001b[0;34m)\u001b[0m\u001b[0;34m\u001b[0m\u001b[0m\n\u001b[0m\u001b[1;32m      4\u001b[0m     \u001b[0;32mif\u001b[0m \u001b[0mdata\u001b[0m \u001b[0;32mis\u001b[0m \u001b[0;32mnot\u001b[0m \u001b[0;32mNone\u001b[0m\u001b[0;34m:\u001b[0m\u001b[0;34m\u001b[0m\u001b[0m\n\u001b[1;32m      5\u001b[0m         \u001b[0mvar\u001b[0m \u001b[0;34m=\u001b[0m \u001b[0;34m\".\"\u001b[0m \u001b[0;34m+\u001b[0m \u001b[0mdata\u001b[0m\u001b[0;34m[\u001b[0m\u001b[0;36m0\u001b[0m\u001b[0;34m]\u001b[0m \u001b[0;34m+\u001b[0m \u001b[0;34m\".\"\u001b[0m \u001b[0;34m+\u001b[0m \u001b[0mstr\u001b[0m\u001b[0;34m(\u001b[0m\u001b[0mdata\u001b[0m\u001b[0;34m[\u001b[0m\u001b[0;36m1\u001b[0m\u001b[0;34m]\u001b[0m\u001b[0;34m)\u001b[0m\u001b[0;34m\u001b[0m\u001b[0m\n",
      "\u001b[0;31mKeyboardInterrupt\u001b[0m: "
     ]
    }
   ],
   "source": [
    "i=0\n",
    "for sset in synsetList:\n",
    "    \n",
    "    sset_word = sset._raw_synset.firstVariant.literal\n",
    "    #end = fetch_id(sset_word,cursor) \n",
    "    sset_str = synset_str(sset_word, cursor)\n",
    "    rel_sset_list = sset.get_related_synsets(\"has_member_holo\")\n",
    "    if rel_sset_list:\n",
    "        print(i)\n",
    "        print(rel_sset_list)\n",
    "    i+=1"
   ]
  },
  {
   "cell_type": "code",
   "execution_count": 23,
   "metadata": {},
   "outputs": [
    {
     "ename": "KeyboardInterrupt",
     "evalue": "",
     "output_type": "error",
     "traceback": [
      "\u001b[0;31m---------------------------------------------------------------------------\u001b[0m",
      "\u001b[0;31mKeyboardInterrupt\u001b[0m                         Traceback (most recent call last)",
      "\u001b[0;32m<ipython-input-23-27b507450c2b>\u001b[0m in \u001b[0;36m<module>\u001b[0;34m()\u001b[0m\n\u001b[1;32m      5\u001b[0m \u001b[0mrel_type\u001b[0m \u001b[0;34m=\u001b[0m \u001b[0;34m[\u001b[0m\u001b[0;34m]\u001b[0m\u001b[0;34m\u001b[0m\u001b[0m\n\u001b[1;32m      6\u001b[0m \u001b[0;34m\u001b[0m\u001b[0m\n\u001b[0;32m----> 7\u001b[0;31m \u001b[0mfetch_relations\u001b[0m\u001b[0;34m(\u001b[0m\u001b[0msset_db\u001b[0m\u001b[0;34m)\u001b[0m\u001b[0;34m\u001b[0m\u001b[0m\n\u001b[0m",
      "\u001b[0;32m<ipython-input-20-e4947dfa1823>\u001b[0m in \u001b[0;36mfetch_relations\u001b[0;34m(db_file)\u001b[0m\n\u001b[1;32m     29\u001b[0m                             \u001b[0mstart_sset\u001b[0m\u001b[0;34m.\u001b[0m\u001b[0mappend\u001b[0m\u001b[0;34m(\u001b[0m\u001b[0mword_str\u001b[0m\u001b[0;34m)\u001b[0m\u001b[0;34m\u001b[0m\u001b[0m\n\u001b[1;32m     30\u001b[0m                             \u001b[0mend_sset\u001b[0m\u001b[0;34m.\u001b[0m\u001b[0mappend\u001b[0m\u001b[0;34m(\u001b[0m\u001b[0msset_str\u001b[0m\u001b[0;34m)\u001b[0m\u001b[0;34m\u001b[0m\u001b[0m\n\u001b[0;32m---> 31\u001b[0;31m                             \u001b[0mstart\u001b[0m \u001b[0;34m=\u001b[0m \u001b[0mfetch_id\u001b[0m\u001b[0;34m(\u001b[0m\u001b[0mword\u001b[0m\u001b[0;34m,\u001b[0m\u001b[0mcursor\u001b[0m\u001b[0;34m)\u001b[0m\u001b[0;34m\u001b[0m\u001b[0m\n\u001b[0m\u001b[1;32m     32\u001b[0m                             \u001b[0;31m#if start is not None:\u001b[0m\u001b[0;34m\u001b[0m\u001b[0;34m\u001b[0m\u001b[0m\n\u001b[1;32m     33\u001b[0m                             \u001b[0mstart_vrtx\u001b[0m\u001b[0;34m.\u001b[0m\u001b[0mappend\u001b[0m\u001b[0;34m(\u001b[0m\u001b[0mstart\u001b[0m\u001b[0;34m)\u001b[0m\u001b[0;34m\u001b[0m\u001b[0m\n",
      "\u001b[0;32m<ipython-input-12-85b57a207bc9>\u001b[0m in \u001b[0;36mfetch_id\u001b[0;34m(synset_word, cursor)\u001b[0m\n\u001b[1;32m      1\u001b[0m \u001b[0;32mdef\u001b[0m \u001b[0mfetch_id\u001b[0m\u001b[0;34m(\u001b[0m\u001b[0msynset_word\u001b[0m\u001b[0;34m,\u001b[0m\u001b[0mcursor\u001b[0m\u001b[0;34m)\u001b[0m\u001b[0;34m:\u001b[0m\u001b[0;34m\u001b[0m\u001b[0m\n\u001b[1;32m      2\u001b[0m \u001b[0;34m\u001b[0m\u001b[0m\n\u001b[0;32m----> 3\u001b[0;31m     \u001b[0mcursor\u001b[0m\u001b[0;34m.\u001b[0m\u001b[0mexecute\u001b[0m\u001b[0;34m(\u001b[0m\u001b[0;34m'SELECT synset_id FROM synset_table WHERE synset_word = ?'\u001b[0m\u001b[0;34m,\u001b[0m\u001b[0;34m(\u001b[0m\u001b[0msynset_word\u001b[0m\u001b[0;34m,\u001b[0m\u001b[0;34m)\u001b[0m\u001b[0;34m)\u001b[0m\u001b[0;34m\u001b[0m\u001b[0m\n\u001b[0m\u001b[1;32m      4\u001b[0m     \u001b[0mdata\u001b[0m \u001b[0;34m=\u001b[0m \u001b[0mcursor\u001b[0m\u001b[0;34m.\u001b[0m\u001b[0mfetchone\u001b[0m\u001b[0;34m(\u001b[0m\u001b[0;34m)\u001b[0m\u001b[0;34m\u001b[0m\u001b[0m\n\u001b[1;32m      5\u001b[0m     \u001b[0;32mif\u001b[0m \u001b[0mdata\u001b[0m \u001b[0;32mis\u001b[0m \u001b[0;32mnot\u001b[0m \u001b[0;32mNone\u001b[0m\u001b[0;34m:\u001b[0m\u001b[0;34m\u001b[0m\u001b[0m\n",
      "\u001b[0;31mKeyboardInterrupt\u001b[0m: "
     ]
    }
   ],
   "source": [
    "start_vrtx = []\n",
    "end_vrtx   = []\n",
    "end_sset   = []\n",
    "start_sset = []\n",
    "rel_type = []\n",
    "\n",
    "fetch_relations(sset_db)"
   ]
  },
  {
   "cell_type": "code",
   "execution_count": 50,
   "metadata": {},
   "outputs": [],
   "source": [
    "def upload_relations(db_file):\n",
    "    \n",
    "    sqlTables(db_file)\n",
    "    conn = create_connection(db_file)\n",
    "    cursor = conn.cursor()\n",
    "    \n",
    "    with conn:\n",
    "        for i in range(len(start_vrtx)):\n",
    "            start_id   = start_vrtx[i]\n",
    "            end_word   = str(end_sset[i])\n",
    "            start_word = str(start_sset[i])\n",
    "            end_id     = end_vrtx[i]\n",
    "            relation   = rel_type[i]\n",
    "            cursor.execute(\"INSERT INTO graph_table(start_vertex, start_synset, end_synset, end_vertex, relation) VALUES(?,?,?,?,?)\"\\\n",
    "                                                            ,(start_id, start_word, end_word, end_id,relation))\n",
    "            conn.commit()"
   ]
  },
  {
   "cell_type": "code",
   "execution_count": null,
   "metadata": {},
   "outputs": [],
   "source": [
    "#First holonym @ index 11186,  meronym @ 11184, hyponym @ 123\n",
    "upload_relations(relation_db)"
   ]
  },
  {
   "cell_type": "code",
   "execution_count": 142,
   "metadata": {},
   "outputs": [],
   "source": [
    "def synset_name(raw_synset):\n",
    "    pos = raw_synset.pos\n",
    "    literal = raw_synset.variants[0].literal\n",
    "    sense = \"%02d\"%raw_synset.variants[0].sense\n",
    "    return '.'.join([literal,pos,sense])"
   ]
  },
  {
   "cell_type": "code",
   "execution_count": 24,
   "metadata": {},
   "outputs": [
    {
     "ename": "NameError",
     "evalue": "name 'synset_name' is not defined",
     "output_type": "error",
     "traceback": [
      "\u001b[0;31m---------------------------------------------------------------------------\u001b[0m",
      "\u001b[0;31mNameError\u001b[0m                                 Traceback (most recent call last)",
      "\u001b[0;32m<ipython-input-24-8b9ffe541f96>\u001b[0m in \u001b[0;36m<module>\u001b[0;34m()\u001b[0m\n\u001b[1;32m      1\u001b[0m \u001b[0msset\u001b[0m \u001b[0;34m=\u001b[0m \u001b[0msynsetList\u001b[0m\u001b[0;34m[\u001b[0m\u001b[0;36m0\u001b[0m\u001b[0;34m]\u001b[0m\u001b[0;34m\u001b[0m\u001b[0m\n\u001b[0;32m----> 2\u001b[0;31m \u001b[0msset_string\u001b[0m \u001b[0;34m=\u001b[0m \u001b[0msynset_name\u001b[0m\u001b[0;34m(\u001b[0m\u001b[0msset\u001b[0m\u001b[0;34m.\u001b[0m\u001b[0m_raw_synset\u001b[0m\u001b[0;34m)\u001b[0m\u001b[0;34m\u001b[0m\u001b[0m\n\u001b[0m\u001b[1;32m      3\u001b[0m \u001b[0mprint\u001b[0m\u001b[0;34m(\u001b[0m\u001b[0msset_string\u001b[0m\u001b[0;34m)\u001b[0m\u001b[0;34m\u001b[0m\u001b[0m\n\u001b[1;32m      4\u001b[0m \u001b[0mprint\u001b[0m\u001b[0;34m(\u001b[0m\u001b[0msset\u001b[0m\u001b[0;34m.\u001b[0m\u001b[0m_raw_synset\u001b[0m\u001b[0;34m.\u001b[0m\u001b[0mpos\u001b[0m\u001b[0;34m)\u001b[0m\u001b[0;34m\u001b[0m\u001b[0m\n\u001b[1;32m      5\u001b[0m \u001b[0;31m#sset_li = get_literals(synsetList[0])\u001b[0m\u001b[0;34m\u001b[0m\u001b[0;34m\u001b[0m\u001b[0m\n",
      "\u001b[0;31mNameError\u001b[0m: name 'synset_name' is not defined"
     ]
    }
   ],
   "source": [
    "sset = synsetList[0]\n",
    "sset_string = synset_name(sset._raw_synset)\n",
    "print(sset_string)\n",
    "print(sset._raw_synset.pos)\n",
    "#sset_li = get_literals(synsetList[0])\n"
   ]
  },
  {
   "cell_type": "code",
   "execution_count": null,
   "metadata": {},
   "outputs": [],
   "source": [
    "def synset_name(raw_synset):\n",
    "    pos = raw_synset.pos\n",
    "    literal = raw_synset.variants[0].literal\n",
    "    sense = \"%02d\"%raw_synset.variants[0].sense\n",
    "    return '.'.join([literal,pos,sense])"
   ]
  },
  {
   "cell_type": "code",
   "execution_count": 7,
   "metadata": {},
   "outputs": [
    {
     "data": {
      "text/plain": [
       "45"
      ]
     },
     "execution_count": 7,
     "metadata": {},
     "output_type": "execute_result"
    }
   ],
   "source": [
    "sset = synsetList[122]\n",
    "len(sset.get_related_synsets(\"has_hyponym\"))"
   ]
  },
  {
   "cell_type": "code",
   "execution_count": null,
   "metadata": {},
   "outputs": [],
   "source": [
    "hyperList = []\n",
    "for sset in synsetList:\n",
    "    if sset.get_related_synsets(\"has_hyperonym\"):\n",
    "        var = sset.get_related_synsets(\"has_hyperonym\")[0]\n",
    "        print(var)\n",
    "        rsset = var._raw_synset\n",
    "        name = rsset.variants[0].literal\n",
    "        print(name)\n",
    "        \n",
    "        #print(\"synset: \", sset)\n",
    "        #print(\"hyperonym: \", sset.get_related_synsets(\"has_hyperonym\")[0])"
   ]
  },
  {
   "cell_type": "code",
   "execution_count": null,
   "metadata": {},
   "outputs": [],
   "source": [
    "'''cycle for relations - hyponym,hypernym, etc.'''   \n",
    "for sset in synsetList:\n",
    "        rsset = sset._raw_synset\n",
    "        #print(sset)\n",
    "        for relation_candidate in rsset.internalLinks:\n",
    "            linked_synset = wn.synset(wn._get_key_from_raw_synset(relation_candidate.target_concept))\n",
    "            relation_candidate.target_concept = linked_synset._raw_synset\n",
    "            #print(relation_candidate.target_concept)\n",
    "            #print(linked_synset)\n",
    "            #print(relation_candidate.name)            \n",
    "            '''\n",
    "            sset_literal    =relation_candidate.target_concept.variants[0].literal\n",
    "            sset_sense      =relation_candidate.target_concept.variants[0].sense\n",
    "            sset_pos        =rsset.pos\n",
    "            #[nimi.literal for nimi in rsset.variants ]\n",
    "            '''"
   ]
  }
 ],
 "metadata": {
  "kernelspec": {
   "display_name": "Python 3",
   "language": "python",
   "name": "python3"
  },
  "language_info": {
   "codemirror_mode": {
    "name": "ipython",
    "version": 3
   },
   "file_extension": ".py",
   "mimetype": "text/x-python",
   "name": "python",
   "nbconvert_exporter": "python",
   "pygments_lexer": "ipython3",
   "version": "3.5.5"
  }
 },
 "nbformat": 4,
 "nbformat_minor": 2
}
