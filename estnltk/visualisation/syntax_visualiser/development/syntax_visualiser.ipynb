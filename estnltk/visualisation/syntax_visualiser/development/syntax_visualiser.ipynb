{
 "cells": [
  {
   "cell_type": "code",
   "execution_count": 1,
   "metadata": {},
   "outputs": [],
   "source": [
    "%load_ext autoreload\n",
    "%autoreload 2"
   ]
  },
  {
   "cell_type": "code",
   "execution_count": null,
   "metadata": {},
   "outputs": [],
   "source": [
    "import sys"
   ]
  },
  {
   "cell_type": "code",
   "execution_count": null,
   "metadata": {},
   "outputs": [],
   "source": [
    "sys.path.append(\"~/Documents/estnltk\")\n",
    "sys.path.append(\"~/Documents/estnltk/estnltk\")"
   ]
  },
  {
   "cell_type": "code",
   "execution_count": 2,
   "metadata": {},
   "outputs": [],
   "source": [
    "import estnltk"
   ]
  },
  {
   "cell_type": "code",
   "execution_count": 3,
   "metadata": {},
   "outputs": [],
   "source": [
    "from estnltk.converters.conll_importer import conll_to_text\n",
    "from estnltk.converters.conll_importer import add_layer_from_conll"
   ]
  },
  {
   "cell_type": "code",
   "execution_count": 4,
   "metadata": {},
   "outputs": [],
   "source": [
    "textmalt = conll_to_text(file='data/test_parsed_short.conll', syntax_layer='malt')\n",
    "textgold = add_layer_from_conll(file='data/test_gold_short.conll', text=textmalt, syntax_layer='gold')"
   ]
  },
  {
   "cell_type": "code",
   "execution_count": null,
   "metadata": {},
   "outputs": [],
   "source": [
    "textgold"
   ]
  },
  {
   "cell_type": "code",
   "execution_count": null,
   "metadata": {},
   "outputs": [],
   "source": [
    "len(textgold.sentences)"
   ]
  },
  {
   "cell_type": "code",
   "execution_count": 5,
   "metadata": {},
   "outputs": [],
   "source": [
    "from syntax_visualiser import SyntaxVisualiser\n",
    "\n",
    "display = SyntaxVisualiser()"
   ]
  },
  {
   "cell_type": "code",
   "execution_count": null,
   "metadata": {},
   "outputs": [],
   "source": [
    "#display.attributes = [\"id\", \"text\", \"lemma\", \"head\", \"deprel\"]"
   ]
  },
  {
   "cell_type": "code",
   "execution_count": null,
   "metadata": {},
   "outputs": [],
   "source": [
    "#display.attributes = ['deprel', 'head']"
   ]
  },
  {
   "cell_type": "code",
   "execution_count": 11,
   "metadata": {
    "scrolled": false
   },
   "outputs": [
    {
     "data": {
      "text/html": [
       "<style>\n",
       "select {\n",
       "    margin: -10px;\n",
       "}\n",
       "\n",
       "td, th {\n",
       "    font-size: 0.9vw;\n",
       "}\n",
       "\n",
       "/*button {\n",
       "    margin-left: 877px;\n",
       "}*/\n",
       "\n",
       ".iterable-table {\n",
       "    width: max-content;\n",
       "    width: -moz-max-content;\n",
       "    table-layout: fixed;\n",
       "    display: block;\n",
       "}\n",
       "\n",
       "</style><script>console.log(typeof all_tables); \n",
       " if (typeof all_tables === 'undefined'){\n",
       " var all_tables = [];\n",
       "} \n",
       " else {\n",
       " all_tables = [] \n",
       "} \n",
       "all_tables.push('<table class=\"iterable-table\"><tr><th>id</th><th>text</th><th>lemma</th><th>head</th><th>head1</th><th>head2</th><th>deprel</th><th>deprel1</th><th>deprel2</th><th>upostag</th><th>xpostag</th><th>feats</th><th>deps</th><th>misc</th></tr><tr><td>1</td><td>Selles</td><td>see</td><td><select class = \"syntax_choice\" id=\"head0;0\"><option value=\"0;original\">3: olla</option><option value=\"0;0\">0</option><option value=0;1>1: Selles</option><option value=0;2>2: võib</option><option value=0;3>3: olla</option><option value=0;4>4: koguni</option><option value=0;5>5: 95</option><option value=0;6>6: protsenti</option><option value=0;7>7: õhku</option><option value=0;8>8: ja</option><option value=0;9>9: ainult</option><option value=0;10>10: 5</option><option value=0;11>11: protsenti</option><option value=0;12>12: vett</option><option value=0;13>13: .</option></select></td><td>3: olla</td><td>3: olla</td><td><select class = \"syntax_choice\" id = \"deprel0;0\"><option value=\"0;original\">@ADVL</option><option value=0;@ADVL>@ADVL</option><option value=0;@FCV>@FCV</option><option value=0;ROOT>ROOT</option><option value=0;@SUBJ>@SUBJ</option></select></td><td>@ADVL</td><td>@ADVL</td><td>P</td><td>P</td><td>dem sg in </td><td>None</td><td>None</td></tr><tr><td>2</td><td>võib</td><td>või</td><td><select class = \"syntax_choice\" id=\"head1;0\"><option value=\"0;original\">3: olla</option><option value=\"0;0\">0</option><option value=0;1>1: Selles</option><option value=0;2>2: võib</option><option value=0;3>3: olla</option><option value=0;4>4: koguni</option><option value=0;5>5: 95</option><option value=0;6>6: protsenti</option><option value=0;7>7: õhku</option><option value=0;8>8: ja</option><option value=0;9>9: ainult</option><option value=0;10>10: 5</option><option value=0;11>11: protsenti</option><option value=0;12>12: vett</option><option value=0;13>13: .</option></select></td><td>3: olla</td><td>3: olla</td><td><select class = \"syntax_choice\" id = \"deprel1;0\"><option value=\"0;original\">@FCV</option><option value=0;@ADVL>@ADVL</option><option value=0;@FCV>@FCV</option><option value=0;ROOT>ROOT</option><option value=0;@SUBJ>@SUBJ</option></select></td><td>@FCV</td><td>@FCV</td><td>V</td><td>Vmod</td><td>indic pres ps3 sg </td><td>None</td><td>None</td></tr><tr><td>3</td><td>olla</td><td>ole</td><td><select class = \"syntax_choice\" id=\"head2;0\"><option value=\"0;original\">0</option><option value=\"0;0\">0</option><option value=0;1>1: Selles</option><option value=0;2>2: võib</option><option value=0;3>3: olla</option><option value=0;4>4: koguni</option><option value=0;5>5: 95</option><option value=0;6>6: protsenti</option><option value=0;7>7: õhku</option><option value=0;8>8: ja</option><option value=0;9>9: ainult</option><option value=0;10>10: 5</option><option value=0;11>11: protsenti</option><option value=0;12>12: vett</option><option value=0;13>13: .</option></select></td><td>0</td><td>0</td><td><select class = \"syntax_choice\" id = \"deprel2;0\"><option value=\"0;original\">ROOT</option><option value=0;@ADVL>@ADVL</option><option value=0;@FCV>@FCV</option><option value=0;ROOT>ROOT</option><option value=0;@SUBJ>@SUBJ</option></select></td><td>ROOT</td><td>ROOT</td><td>V</td><td>Vinf</td><td>inf </td><td>None</td><td>None</td></tr><tr><td>4</td><td>koguni</td><td>koguni</td><td><select class = \"syntax_choice\" id=\"head3;0\"><option value=\"0;original\">5: 95</option><option value=\"0;0\">0</option><option value=0;1>1: Selles</option><option value=0;2>2: võib</option><option value=0;3>3: olla</option><option value=0;4>4: koguni</option><option value=0;5>5: 95</option><option value=0;6>6: protsenti</option><option value=0;7>7: õhku</option><option value=0;8>8: ja</option><option value=0;9>9: ainult</option><option value=0;10>10: 5</option><option value=0;11>11: protsenti</option><option value=0;12>12: vett</option><option value=0;13>13: .</option></select></td><td>5: 95</td><td>5: 95</td><td><select class = \"syntax_choice\" id = \"deprel3;0\"><option value=\"0;original\"></option><option value=0;@ADVL>@ADVL</option><option value=0;@FCV>@FCV</option><option value=0;ROOT>ROOT</option><option value=0;@SUBJ>@SUBJ</option></select></td><td>@ADVL</td><td>@DN&gt;</td><td>D</td><td>D</td><td>None</td><td>None</td><td>None</td></tr><tr><td>5</td><td>95</td><td>95</td><td><select class = \"syntax_choice\" id=\"head4;0\"><option value=\"0;original\">3: olla</option><option value=\"0;0\">0</option><option value=0;1>1: Selles</option><option value=0;2>2: võib</option><option value=0;3>3: olla</option><option value=0;4>4: koguni</option><option value=0;5>5: 95</option><option value=0;6>6: protsenti</option><option value=0;7>7: õhku</option><option value=0;8>8: ja</option><option value=0;9>9: ainult</option><option value=0;10>10: 5</option><option value=0;11>11: protsenti</option><option value=0;12>12: vett</option><option value=0;13>13: .</option></select></td><td>3: olla</td><td>3: olla</td><td><select class = \"syntax_choice\" id = \"deprel4;0\"><option value=\"0;original\">@SUBJ</option><option value=0;@ADVL>@ADVL</option><option value=0;@FCV>@FCV</option><option value=0;ROOT>ROOT</option><option value=0;@SUBJ>@SUBJ</option></select></td><td>@SUBJ</td><td>@SUBJ</td><td>N</td><td>N</td><td>card sg nom </td><td>None</td><td>None</td></tr><tr><td>6</td><td>protsenti</td><td>protsent</td><td><select class = \"syntax_choice\" id=\"head5;0\"><option value=\"0;original\">5: 95</option><option value=\"0;0\">0</option><option value=0;1>1: Selles</option><option value=0;2>2: võib</option><option value=0;3>3: olla</option><option value=0;4>4: koguni</option><option value=0;5>5: 95</option><option value=0;6>6: protsenti</option><option value=0;7>7: õhku</option><option value=0;8>8: ja</option><option value=0;9>9: ainult</option><option value=0;10>10: 5</option><option value=0;11>11: protsenti</option><option value=0;12>12: vett</option><option value=0;13>13: .</option></select></td><td>5: 95</td><td>5: 95</td><td><select class = \"syntax_choice\" id = \"deprel5;0\"><option value=\"0;original\">@&lt;Q</option><option value=0;@ADVL>@ADVL</option><option value=0;@FCV>@FCV</option><option value=0;ROOT>ROOT</option><option value=0;@SUBJ>@SUBJ</option></select></td><td>@&lt;Q</td><td>@&lt;Q</td><td>S</td><td>S</td><td>sg part </td><td>None</td><td>None</td></tr><tr><td>7</td><td>õhku</td><td>õhk</td><td><select class = \"syntax_choice\" id=\"head6;0\"><option value=\"0;original\">6: protsenti</option><option value=\"0;0\">0</option><option value=0;1>1: Selles</option><option value=0;2>2: võib</option><option value=0;3>3: olla</option><option value=0;4>4: koguni</option><option value=0;5>5: 95</option><option value=0;6>6: protsenti</option><option value=0;7>7: õhku</option><option value=0;8>8: ja</option><option value=0;9>9: ainult</option><option value=0;10>10: 5</option><option value=0;11>11: protsenti</option><option value=0;12>12: vett</option><option value=0;13>13: .</option></select></td><td>6: protsenti</td><td>6: protsenti</td><td><select class = \"syntax_choice\" id = \"deprel6;0\"><option value=\"0;original\">@&lt;Q</option><option value=0;@ADVL>@ADVL</option><option value=0;@FCV>@FCV</option><option value=0;ROOT>ROOT</option><option value=0;@SUBJ>@SUBJ</option></select></td><td>@&lt;Q</td><td>@&lt;Q</td><td>S</td><td>S</td><td>sg part </td><td>None</td><td>None</td></tr><tr><td>8</td><td>ja</td><td>ja</td><td><select class = \"syntax_choice\" id=\"head7;0\"><option value=\"0;original\">10: 5</option><option value=\"0;0\">0</option><option value=0;1>1: Selles</option><option value=0;2>2: võib</option><option value=0;3>3: olla</option><option value=0;4>4: koguni</option><option value=0;5>5: 95</option><option value=0;6>6: protsenti</option><option value=0;7>7: õhku</option><option value=0;8>8: ja</option><option value=0;9>9: ainult</option><option value=0;10>10: 5</option><option value=0;11>11: protsenti</option><option value=0;12>12: vett</option><option value=0;13>13: .</option></select></td><td>10: 5</td><td>10: 5</td><td><select class = \"syntax_choice\" id = \"deprel7;0\"><option value=\"0;original\">@J</option><option value=0;@ADVL>@ADVL</option><option value=0;@FCV>@FCV</option><option value=0;ROOT>ROOT</option><option value=0;@SUBJ>@SUBJ</option></select></td><td>@J</td><td>@J</td><td>J</td><td>Jc</td><td>None</td><td>None</td><td>None</td></tr><tr><td>9</td><td>ainult</td><td>ainult</td><td><select class = \"syntax_choice\" id=\"head8;0\"><option value=\"0;original\">10: 5</option><option value=\"0;0\">0</option><option value=0;1>1: Selles</option><option value=0;2>2: võib</option><option value=0;3>3: olla</option><option value=0;4>4: koguni</option><option value=0;5>5: 95</option><option value=0;6>6: protsenti</option><option value=0;7>7: õhku</option><option value=0;8>8: ja</option><option value=0;9>9: ainult</option><option value=0;10>10: 5</option><option value=0;11>11: protsenti</option><option value=0;12>12: vett</option><option value=0;13>13: .</option></select></td><td>10: 5</td><td>10: 5</td><td><select class = \"syntax_choice\" id = \"deprel8;0\"><option value=\"0;original\"></option><option value=0;@ADVL>@ADVL</option><option value=0;@FCV>@FCV</option><option value=0;ROOT>ROOT</option><option value=0;@SUBJ>@SUBJ</option></select></td><td>@ADVL</td><td>@DN&gt;</td><td>D</td><td>D</td><td>None</td><td>None</td><td>None</td></tr><tr><td>10</td><td>5</td><td>5</td><td><select class = \"syntax_choice\" id=\"head9;0\"><option value=\"0;original\">5: 95</option><option value=\"0;0\">0</option><option value=0;1>1: Selles</option><option value=0;2>2: võib</option><option value=0;3>3: olla</option><option value=0;4>4: koguni</option><option value=0;5>5: 95</option><option value=0;6>6: protsenti</option><option value=0;7>7: õhku</option><option value=0;8>8: ja</option><option value=0;9>9: ainult</option><option value=0;10>10: 5</option><option value=0;11>11: protsenti</option><option value=0;12>12: vett</option><option value=0;13>13: .</option></select></td><td>5: 95</td><td>5: 95</td><td><select class = \"syntax_choice\" id = \"deprel9;0\"><option value=\"0;original\">@SUBJ</option><option value=0;@ADVL>@ADVL</option><option value=0;@FCV>@FCV</option><option value=0;ROOT>ROOT</option><option value=0;@SUBJ>@SUBJ</option></select></td><td>@SUBJ</td><td>@SUBJ</td><td>N</td><td>N</td><td>card sg nom </td><td>None</td><td>None</td></tr><tr><td>11</td><td>protsenti</td><td>protsent</td><td><select class = \"syntax_choice\" id=\"head10;0\"><option value=\"0;original\">10: 5</option><option value=\"0;0\">0</option><option value=0;1>1: Selles</option><option value=0;2>2: võib</option><option value=0;3>3: olla</option><option value=0;4>4: koguni</option><option value=0;5>5: 95</option><option value=0;6>6: protsenti</option><option value=0;7>7: õhku</option><option value=0;8>8: ja</option><option value=0;9>9: ainult</option><option value=0;10>10: 5</option><option value=0;11>11: protsenti</option><option value=0;12>12: vett</option><option value=0;13>13: .</option></select></td><td>10: 5</td><td>10: 5</td><td><select class = \"syntax_choice\" id = \"deprel10;0\"><option value=\"0;original\">@&lt;Q</option><option value=0;@ADVL>@ADVL</option><option value=0;@FCV>@FCV</option><option value=0;ROOT>ROOT</option><option value=0;@SUBJ>@SUBJ</option></select></td><td>@&lt;Q</td><td>@&lt;Q</td><td>S</td><td>S</td><td>sg part </td><td>None</td><td>None</td></tr><tr><td>12</td><td>vett</td><td>vesi</td><td><select class = \"syntax_choice\" id=\"head11;0\"><option value=\"0;original\">11: protsenti</option><option value=\"0;0\">0</option><option value=0;1>1: Selles</option><option value=0;2>2: võib</option><option value=0;3>3: olla</option><option value=0;4>4: koguni</option><option value=0;5>5: 95</option><option value=0;6>6: protsenti</option><option value=0;7>7: õhku</option><option value=0;8>8: ja</option><option value=0;9>9: ainult</option><option value=0;10>10: 5</option><option value=0;11>11: protsenti</option><option value=0;12>12: vett</option><option value=0;13>13: .</option></select></td><td>11: protsenti</td><td>11: protsenti</td><td><select class = \"syntax_choice\" id = \"deprel11;0\"><option value=\"0;original\">@&lt;Q</option><option value=0;@ADVL>@ADVL</option><option value=0;@FCV>@FCV</option><option value=0;ROOT>ROOT</option><option value=0;@SUBJ>@SUBJ</option></select></td><td>@&lt;Q</td><td>@&lt;Q</td><td>S</td><td>S</td><td>sg part </td><td>None</td><td>None</td></tr><tr><td>13</td><td>.</td><td>.</td><td><select class = \"syntax_choice\" id=\"head12;0\"><option value=\"0;original\">12: vett</option><option value=\"0;0\">0</option><option value=0;1>1: Selles</option><option value=0;2>2: võib</option><option value=0;3>3: olla</option><option value=0;4>4: koguni</option><option value=0;5>5: 95</option><option value=0;6>6: protsenti</option><option value=0;7>7: õhku</option><option value=0;8>8: ja</option><option value=0;9>9: ainult</option><option value=0;10>10: 5</option><option value=0;11>11: protsenti</option><option value=0;12>12: vett</option><option value=0;13>13: .</option></select></td><td>12: vett</td><td>12: vett</td><td><select class = \"syntax_choice\" id = \"deprel12;0\"><option value=\"0;original\">@Punc</option><option value=0;@ADVL>@ADVL</option><option value=0;@FCV>@FCV</option><option value=0;ROOT>ROOT</option><option value=0;@SUBJ>@SUBJ</option></select></td><td>@Punc</td><td>@Punc</td><td>Z</td><td>Z</td><td>Fst </td><td>None</td><td>None</td></tr></table>'); \n",
       "all_tables.push('<table class=\"iterable-table\"><tr><th>id</th><th>text</th><th>lemma</th><th>head</th><th>head1</th><th>head2</th><th>deprel</th><th>deprel1</th><th>deprel2</th><th>upostag</th><th>xpostag</th><th>feats</th><th>deps</th><th>misc</th></tr><tr><td>1</td><td>Poole</td><td>pool</td><td><select class = \"syntax_choice\" id=\"head0;0\"><option value=\"0;original\">3: pärast</option><option value=\"0;0\">0</option><option value=0;1>1: Poole</option><option value=0;2>2: tunni</option><option value=0;3>3: pärast</option><option value=0;4>4: on</option><option value=0;5>5: varbad</option><option value=0;6>6: külmast</option><option value=0;7>7: kanged</option><option value=0;8>8: .</option></select></td><td>3: pärast</td><td>3: pärast</td><td><select class = \"syntax_choice\" id = \"deprel0;0\"><option value=\"0;original\">@P&gt;</option><option value=0;@ADVL>@ADVL</option><option value=0;@FCV>@FCV</option><option value=0;ROOT>ROOT</option><option value=0;@SUBJ>@SUBJ</option></select></td><td>@P&gt;</td><td>@P&gt;</td><td>N</td><td>N</td><td>card sg gen l </td><td>None</td><td>None</td></tr><tr><td>2</td><td>tunni</td><td>tund</td><td><select class = \"syntax_choice\" id=\"head1;0\"><option value=\"0;original\">1: Poole</option><option value=\"0;0\">0</option><option value=0;1>1: Poole</option><option value=0;2>2: tunni</option><option value=0;3>3: pärast</option><option value=0;4>4: on</option><option value=0;5>5: varbad</option><option value=0;6>6: külmast</option><option value=0;7>7: kanged</option><option value=0;8>8: .</option></select></td><td>1: Poole</td><td>1: Poole</td><td><select class = \"syntax_choice\" id = \"deprel1;0\"><option value=\"0;original\">@&lt;Q</option><option value=0;@ADVL>@ADVL</option><option value=0;@FCV>@FCV</option><option value=0;ROOT>ROOT</option><option value=0;@SUBJ>@SUBJ</option></select></td><td>@&lt;Q</td><td>@&lt;Q</td><td>S</td><td>S</td><td>sg gen </td><td>None</td><td>None</td></tr><tr><td>3</td><td>pärast</td><td>pärast</td><td><select class = \"syntax_choice\" id=\"head2;0\"><option value=\"0;original\">4: on</option><option value=\"0;0\">0</option><option value=0;1>1: Poole</option><option value=0;2>2: tunni</option><option value=0;3>3: pärast</option><option value=0;4>4: on</option><option value=0;5>5: varbad</option><option value=0;6>6: külmast</option><option value=0;7>7: kanged</option><option value=0;8>8: .</option></select></td><td>4: on</td><td>4: on</td><td><select class = \"syntax_choice\" id = \"deprel2;0\"><option value=\"0;original\">@ADVL</option><option value=0;@ADVL>@ADVL</option><option value=0;@FCV>@FCV</option><option value=0;ROOT>ROOT</option><option value=0;@SUBJ>@SUBJ</option></select></td><td>@ADVL</td><td>@ADVL</td><td>K</td><td>Kt</td><td>None</td><td>None</td><td>None</td></tr><tr><td>4</td><td>on</td><td>ole</td><td><select class = \"syntax_choice\" id=\"head3;0\"><option value=\"0;original\">0</option><option value=\"0;0\">0</option><option value=0;1>1: Poole</option><option value=0;2>2: tunni</option><option value=0;3>3: pärast</option><option value=0;4>4: on</option><option value=0;5>5: varbad</option><option value=0;6>6: külmast</option><option value=0;7>7: kanged</option><option value=0;8>8: .</option></select></td><td>0</td><td>0</td><td><select class = \"syntax_choice\" id = \"deprel3;0\"><option value=\"0;original\">ROOT</option><option value=0;@ADVL>@ADVL</option><option value=0;@FCV>@FCV</option><option value=0;ROOT>ROOT</option><option value=0;@SUBJ>@SUBJ</option></select></td><td>ROOT</td><td>ROOT</td><td>V</td><td>V</td><td>indic pres ps3 pl </td><td>None</td><td>None</td></tr><tr><td>5</td><td>varbad</td><td>varvas</td><td><select class = \"syntax_choice\" id=\"head4;0\"><option value=\"0;original\">4: on</option><option value=\"0;0\">0</option><option value=0;1>1: Poole</option><option value=0;2>2: tunni</option><option value=0;3>3: pärast</option><option value=0;4>4: on</option><option value=0;5>5: varbad</option><option value=0;6>6: külmast</option><option value=0;7>7: kanged</option><option value=0;8>8: .</option></select></td><td>4: on</td><td>4: on</td><td><select class = \"syntax_choice\" id = \"deprel4;0\"><option value=\"0;original\">@SUBJ</option><option value=0;@ADVL>@ADVL</option><option value=0;@FCV>@FCV</option><option value=0;ROOT>ROOT</option><option value=0;@SUBJ>@SUBJ</option></select></td><td>@SUBJ</td><td>@SUBJ</td><td>S</td><td>S</td><td>pl nom </td><td>None</td><td>None</td></tr><tr><td>6</td><td>külmast</td><td>külm</td><td><select class = \"syntax_choice\" id=\"head5;0\"><option value=\"0;original\"></option><option value=\"0;0\">0</option><option value=0;1>1: Poole</option><option value=0;2>2: tunni</option><option value=0;3>3: pärast</option><option value=0;4>4: on</option><option value=0;5>5: varbad</option><option value=0;6>6: külmast</option><option value=0;7>7: kanged</option><option value=0;8>8: .</option></select></td><td>4: on</td><td>7: kanged</td><td><select class = \"syntax_choice\" id = \"deprel5;0\"><option value=\"0;original\">@ADVL</option><option value=0;@ADVL>@ADVL</option><option value=0;@FCV>@FCV</option><option value=0;ROOT>ROOT</option><option value=0;@SUBJ>@SUBJ</option></select></td><td>@ADVL</td><td>@ADVL</td><td>S</td><td>S</td><td>sg el </td><td>None</td><td>None</td></tr><tr><td>7</td><td>kanged</td><td>kange</td><td><select class = \"syntax_choice\" id=\"head6;0\"><option value=\"0;original\">4: on</option><option value=\"0;0\">0</option><option value=0;1>1: Poole</option><option value=0;2>2: tunni</option><option value=0;3>3: pärast</option><option value=0;4>4: on</option><option value=0;5>5: varbad</option><option value=0;6>6: külmast</option><option value=0;7>7: kanged</option><option value=0;8>8: .</option></select></td><td>4: on</td><td>4: on</td><td><select class = \"syntax_choice\" id = \"deprel6;0\"><option value=\"0;original\">@PRD</option><option value=0;@ADVL>@ADVL</option><option value=0;@FCV>@FCV</option><option value=0;ROOT>ROOT</option><option value=0;@SUBJ>@SUBJ</option></select></td><td>@PRD</td><td>@PRD</td><td>A</td><td>A</td><td>pl nom </td><td>None</td><td>None</td></tr><tr><td>8</td><td>.</td><td>.</td><td><select class = \"syntax_choice\" id=\"head7;0\"><option value=\"0;original\">7: kanged</option><option value=\"0;0\">0</option><option value=0;1>1: Poole</option><option value=0;2>2: tunni</option><option value=0;3>3: pärast</option><option value=0;4>4: on</option><option value=0;5>5: varbad</option><option value=0;6>6: külmast</option><option value=0;7>7: kanged</option><option value=0;8>8: .</option></select></td><td>7: kanged</td><td>7: kanged</td><td><select class = \"syntax_choice\" id = \"deprel7;0\"><option value=\"0;original\">@Punc</option><option value=0;@ADVL>@ADVL</option><option value=0;@FCV>@FCV</option><option value=0;ROOT>ROOT</option><option value=0;@SUBJ>@SUBJ</option></select></td><td>@Punc</td><td>@Punc</td><td>Z</td><td>Z</td><td>Fst </td><td>None</td><td>None</td></tr></table>'); \n",
       "all_tables.push('<table class=\"iterable-table\"><tr><th>id</th><th>text</th><th>lemma</th><th>head</th><th>head1</th><th>head2</th><th>deprel</th><th>deprel1</th><th>deprel2</th><th>upostag</th><th>xpostag</th><th>feats</th><th>deps</th><th>misc</th></tr><tr><td>1</td><td>Jaamas</td><td>jaam</td><td><select class = \"syntax_choice\" id=\"head0;0\"><option value=\"0;original\">8: soojendada</option><option value=\"0;0\">0</option><option value=0;1>1: Jaamas</option><option value=0;2>2: saab</option><option value=0;3>3: need</option><option value=0;4>4: sooja</option><option value=0;5>5: plekkahju</option><option value=0;6>6: vastas</option><option value=0;7>7: üles</option><option value=0;8>8: soojendada</option><option value=0;9>9: .</option></select></td><td>8: soojendada</td><td>8: soojendada</td><td><select class = \"syntax_choice\" id = \"deprel0;0\"><option value=\"0;original\">@ADVL</option><option value=0;@ADVL>@ADVL</option><option value=0;@FCV>@FCV</option><option value=0;ROOT>ROOT</option><option value=0;@SUBJ>@SUBJ</option></select></td><td>@ADVL</td><td>@ADVL</td><td>S</td><td>S</td><td>sg in </td><td>None</td><td>None</td></tr><tr><td>2</td><td>saab</td><td>saa</td><td><select class = \"syntax_choice\" id=\"head1;0\"><option value=\"0;original\">8: soojendada</option><option value=\"0;0\">0</option><option value=0;1>1: Jaamas</option><option value=0;2>2: saab</option><option value=0;3>3: need</option><option value=0;4>4: sooja</option><option value=0;5>5: plekkahju</option><option value=0;6>6: vastas</option><option value=0;7>7: üles</option><option value=0;8>8: soojendada</option><option value=0;9>9: .</option></select></td><td>8: soojendada</td><td>8: soojendada</td><td><select class = \"syntax_choice\" id = \"deprel1;0\"><option value=\"0;original\">@FCV</option><option value=0;@ADVL>@ADVL</option><option value=0;@FCV>@FCV</option><option value=0;ROOT>ROOT</option><option value=0;@SUBJ>@SUBJ</option></select></td><td>@FCV</td><td>@FCV</td><td>V</td><td>Vmod</td><td>indic pres ps3 sg </td><td>None</td><td>None</td></tr><tr><td>3</td><td>need</td><td>see</td><td><select class = \"syntax_choice\" id=\"head2;0\"><option value=\"0;original\">8: soojendada</option><option value=\"0;0\">0</option><option value=0;1>1: Jaamas</option><option value=0;2>2: saab</option><option value=0;3>3: need</option><option value=0;4>4: sooja</option><option value=0;5>5: plekkahju</option><option value=0;6>6: vastas</option><option value=0;7>7: üles</option><option value=0;8>8: soojendada</option><option value=0;9>9: .</option></select></td><td>8: soojendada</td><td>8: soojendada</td><td><select class = \"syntax_choice\" id = \"deprel2;0\"><option value=\"0;original\"></option><option value=0;@ADVL>@ADVL</option><option value=0;@FCV>@FCV</option><option value=0;ROOT>ROOT</option><option value=0;@SUBJ>@SUBJ</option></select></td><td>@OBJ</td><td>@SUBJ</td><td>P</td><td>P</td><td>dem pl nom </td><td>None</td><td>None</td></tr><tr><td>4</td><td>sooja</td><td>soe</td><td><select class = \"syntax_choice\" id=\"head3;0\"><option value=\"0;original\">5: plekkahju</option><option value=\"0;0\">0</option><option value=0;1>1: Jaamas</option><option value=0;2>2: saab</option><option value=0;3>3: need</option><option value=0;4>4: sooja</option><option value=0;5>5: plekkahju</option><option value=0;6>6: vastas</option><option value=0;7>7: üles</option><option value=0;8>8: soojendada</option><option value=0;9>9: .</option></select></td><td>5: plekkahju</td><td>5: plekkahju</td><td><select class = \"syntax_choice\" id = \"deprel3;0\"><option value=\"0;original\">@AN&gt;</option><option value=0;@ADVL>@ADVL</option><option value=0;@FCV>@FCV</option><option value=0;ROOT>ROOT</option><option value=0;@SUBJ>@SUBJ</option></select></td><td>@AN&gt;</td><td>@AN&gt;</td><td>A</td><td>A</td><td>sg gen </td><td>None</td><td>None</td></tr><tr><td>5</td><td>plekkahju</td><td>plekk_ahi</td><td><select class = \"syntax_choice\" id=\"head4;0\"><option value=\"0;original\">6: vastas</option><option value=\"0;0\">0</option><option value=0;1>1: Jaamas</option><option value=0;2>2: saab</option><option value=0;3>3: need</option><option value=0;4>4: sooja</option><option value=0;5>5: plekkahju</option><option value=0;6>6: vastas</option><option value=0;7>7: üles</option><option value=0;8>8: soojendada</option><option value=0;9>9: .</option></select></td><td>6: vastas</td><td>6: vastas</td><td><select class = \"syntax_choice\" id = \"deprel4;0\"><option value=\"0;original\">@P&gt;</option><option value=0;@ADVL>@ADVL</option><option value=0;@FCV>@FCV</option><option value=0;ROOT>ROOT</option><option value=0;@SUBJ>@SUBJ</option></select></td><td>@P&gt;</td><td>@P&gt;</td><td>S</td><td>S</td><td>sg gen </td><td>None</td><td>None</td></tr><tr><td>6</td><td>vastas</td><td>vastas</td><td><select class = \"syntax_choice\" id=\"head5;0\"><option value=\"0;original\">8: soojendada</option><option value=\"0;0\">0</option><option value=0;1>1: Jaamas</option><option value=0;2>2: saab</option><option value=0;3>3: need</option><option value=0;4>4: sooja</option><option value=0;5>5: plekkahju</option><option value=0;6>6: vastas</option><option value=0;7>7: üles</option><option value=0;8>8: soojendada</option><option value=0;9>9: .</option></select></td><td>8: soojendada</td><td>8: soojendada</td><td><select class = \"syntax_choice\" id = \"deprel5;0\"><option value=\"0;original\">@ADVL</option><option value=0;@ADVL>@ADVL</option><option value=0;@FCV>@FCV</option><option value=0;ROOT>ROOT</option><option value=0;@SUBJ>@SUBJ</option></select></td><td>@ADVL</td><td>@ADVL</td><td>K</td><td>Kt</td><td>None</td><td>None</td><td>None</td></tr><tr><td>7</td><td>üles</td><td>üles</td><td><select class = \"syntax_choice\" id=\"head6;0\"><option value=\"0;original\">8: soojendada</option><option value=\"0;0\">0</option><option value=0;1>1: Jaamas</option><option value=0;2>2: saab</option><option value=0;3>3: need</option><option value=0;4>4: sooja</option><option value=0;5>5: plekkahju</option><option value=0;6>6: vastas</option><option value=0;7>7: üles</option><option value=0;8>8: soojendada</option><option value=0;9>9: .</option></select></td><td>8: soojendada</td><td>8: soojendada</td><td><select class = \"syntax_choice\" id = \"deprel6;0\"><option value=\"0;original\">@Vpart</option><option value=0;@ADVL>@ADVL</option><option value=0;@FCV>@FCV</option><option value=0;ROOT>ROOT</option><option value=0;@SUBJ>@SUBJ</option></select></td><td>@Vpart</td><td>@Vpart</td><td>D</td><td>D</td><td>None</td><td>None</td><td>None</td></tr><tr><td>8</td><td>soojendada</td><td>soojenda</td><td><select class = \"syntax_choice\" id=\"head7;0\"><option value=\"0;original\">0</option><option value=\"0;0\">0</option><option value=0;1>1: Jaamas</option><option value=0;2>2: saab</option><option value=0;3>3: need</option><option value=0;4>4: sooja</option><option value=0;5>5: plekkahju</option><option value=0;6>6: vastas</option><option value=0;7>7: üles</option><option value=0;8>8: soojendada</option><option value=0;9>9: .</option></select></td><td>0</td><td>0</td><td><select class = \"syntax_choice\" id = \"deprel7;0\"><option value=\"0;original\">ROOT</option><option value=0;@ADVL>@ADVL</option><option value=0;@FCV>@FCV</option><option value=0;ROOT>ROOT</option><option value=0;@SUBJ>@SUBJ</option></select></td><td>ROOT</td><td>ROOT</td><td>V</td><td>Vinf</td><td>inf </td><td>None</td><td>None</td></tr><tr><td>9</td><td>.</td><td>.</td><td><select class = \"syntax_choice\" id=\"head8;0\"><option value=\"0;original\">8: soojendada</option><option value=\"0;0\">0</option><option value=0;1>1: Jaamas</option><option value=0;2>2: saab</option><option value=0;3>3: need</option><option value=0;4>4: sooja</option><option value=0;5>5: plekkahju</option><option value=0;6>6: vastas</option><option value=0;7>7: üles</option><option value=0;8>8: soojendada</option><option value=0;9>9: .</option></select></td><td>8: soojendada</td><td>8: soojendada</td><td><select class = \"syntax_choice\" id = \"deprel8;0\"><option value=\"0;original\">@Punc</option><option value=0;@ADVL>@ADVL</option><option value=0;@FCV>@FCV</option><option value=0;ROOT>ROOT</option><option value=0;@SUBJ>@SUBJ</option></select></td><td>@Punc</td><td>@Punc</td><td>Z</td><td>Z</td><td>Fst </td><td>None</td><td>None</td></tr></table>'); \n",
       "all_tables.push('<table class=\"iterable-table\"><tr><th>id</th><th>text</th><th>lemma</th><th>head</th><th>head1</th><th>head2</th><th>deprel</th><th>deprel1</th><th>deprel2</th><th>upostag</th><th>xpostag</th><th>feats</th><th>deps</th><th>misc</th></tr><tr><td>1</td><td>Kati</td><td>Kati</td><td><select class = \"syntax_choice\" id=\"head0;0\"><option value=\"0;original\">2: klõbistab</option><option value=\"0;0\">0</option><option value=0;1>1: Kati</option><option value=0;2>2: klõbistab</option><option value=0;3>3: natuke</option><option value=0;4>4: taskuarvutiga</option><option value=0;5>5: ja</option><option value=0;6>6: kannab</option><option value=0;7>7: lõpuks</option><option value=0;8>8: lumetabelisse</option><option value=0;9>9: järgmised</option><option value=0;10>10: andmed</option><option value=0;11>11: :</option></select></td><td>2: klõbistab</td><td>2: klõbistab</td><td><select class = \"syntax_choice\" id = \"deprel0;0\"><option value=\"0;original\">@SUBJ</option><option value=0;@ADVL>@ADVL</option><option value=0;@FCV>@FCV</option><option value=0;ROOT>ROOT</option><option value=0;@SUBJ>@SUBJ</option></select></td><td>@SUBJ</td><td>@SUBJ</td><td>S</td><td>H</td><td>sg nom </td><td>None</td><td>None</td></tr><tr><td>2</td><td>klõbistab</td><td>klõbista</td><td><select class = \"syntax_choice\" id=\"head1;0\"><option value=\"0;original\">0</option><option value=\"0;0\">0</option><option value=0;1>1: Kati</option><option value=0;2>2: klõbistab</option><option value=0;3>3: natuke</option><option value=0;4>4: taskuarvutiga</option><option value=0;5>5: ja</option><option value=0;6>6: kannab</option><option value=0;7>7: lõpuks</option><option value=0;8>8: lumetabelisse</option><option value=0;9>9: järgmised</option><option value=0;10>10: andmed</option><option value=0;11>11: :</option></select></td><td>0</td><td>0</td><td><select class = \"syntax_choice\" id = \"deprel1;0\"><option value=\"0;original\">ROOT</option><option value=0;@ADVL>@ADVL</option><option value=0;@FCV>@FCV</option><option value=0;ROOT>ROOT</option><option value=0;@SUBJ>@SUBJ</option></select></td><td>ROOT</td><td>ROOT</td><td>V</td><td>V</td><td>indic pres ps3 sg </td><td>None</td><td>None</td></tr><tr><td>3</td><td>natuke</td><td>natuke</td><td><select class = \"syntax_choice\" id=\"head2;0\"><option value=\"0;original\">2: klõbistab</option><option value=\"0;0\">0</option><option value=0;1>1: Kati</option><option value=0;2>2: klõbistab</option><option value=0;3>3: natuke</option><option value=0;4>4: taskuarvutiga</option><option value=0;5>5: ja</option><option value=0;6>6: kannab</option><option value=0;7>7: lõpuks</option><option value=0;8>8: lumetabelisse</option><option value=0;9>9: järgmised</option><option value=0;10>10: andmed</option><option value=0;11>11: :</option></select></td><td>2: klõbistab</td><td>2: klõbistab</td><td><select class = \"syntax_choice\" id = \"deprel2;0\"><option value=\"0;original\">@ADVL</option><option value=0;@ADVL>@ADVL</option><option value=0;@FCV>@FCV</option><option value=0;ROOT>ROOT</option><option value=0;@SUBJ>@SUBJ</option></select></td><td>@ADVL</td><td>@ADVL</td><td>D</td><td>D</td><td>None</td><td>None</td><td>None</td></tr><tr><td>4</td><td>taskuarvutiga</td><td>tasku_arvuti</td><td><select class = \"syntax_choice\" id=\"head3;0\"><option value=\"0;original\">2: klõbistab</option><option value=\"0;0\">0</option><option value=0;1>1: Kati</option><option value=0;2>2: klõbistab</option><option value=0;3>3: natuke</option><option value=0;4>4: taskuarvutiga</option><option value=0;5>5: ja</option><option value=0;6>6: kannab</option><option value=0;7>7: lõpuks</option><option value=0;8>8: lumetabelisse</option><option value=0;9>9: järgmised</option><option value=0;10>10: andmed</option><option value=0;11>11: :</option></select></td><td>2: klõbistab</td><td>2: klõbistab</td><td><select class = \"syntax_choice\" id = \"deprel3;0\"><option value=\"0;original\">@ADVL</option><option value=0;@ADVL>@ADVL</option><option value=0;@FCV>@FCV</option><option value=0;ROOT>ROOT</option><option value=0;@SUBJ>@SUBJ</option></select></td><td>@ADVL</td><td>@ADVL</td><td>S</td><td>S</td><td>sg kom </td><td>None</td><td>None</td></tr><tr><td>5</td><td>ja</td><td>ja</td><td><select class = \"syntax_choice\" id=\"head4;0\"><option value=\"0;original\">6: kannab</option><option value=\"0;0\">0</option><option value=0;1>1: Kati</option><option value=0;2>2: klõbistab</option><option value=0;3>3: natuke</option><option value=0;4>4: taskuarvutiga</option><option value=0;5>5: ja</option><option value=0;6>6: kannab</option><option value=0;7>7: lõpuks</option><option value=0;8>8: lumetabelisse</option><option value=0;9>9: järgmised</option><option value=0;10>10: andmed</option><option value=0;11>11: :</option></select></td><td>6: kannab</td><td>6: kannab</td><td><select class = \"syntax_choice\" id = \"deprel4;0\"><option value=\"0;original\">@J</option><option value=0;@ADVL>@ADVL</option><option value=0;@FCV>@FCV</option><option value=0;ROOT>ROOT</option><option value=0;@SUBJ>@SUBJ</option></select></td><td>@J</td><td>@J</td><td>J</td><td>Jc</td><td>None</td><td>None</td><td>None</td></tr><tr><td>6</td><td>kannab</td><td>kand</td><td><select class = \"syntax_choice\" id=\"head5;0\"><option value=\"0;original\">2: klõbistab</option><option value=\"0;0\">0</option><option value=0;1>1: Kati</option><option value=0;2>2: klõbistab</option><option value=0;3>3: natuke</option><option value=0;4>4: taskuarvutiga</option><option value=0;5>5: ja</option><option value=0;6>6: kannab</option><option value=0;7>7: lõpuks</option><option value=0;8>8: lumetabelisse</option><option value=0;9>9: järgmised</option><option value=0;10>10: andmed</option><option value=0;11>11: :</option></select></td><td>2: klõbistab</td><td>2: klõbistab</td><td><select class = \"syntax_choice\" id = \"deprel5;0\"><option value=\"0;original\">@FMV</option><option value=0;@ADVL>@ADVL</option><option value=0;@FCV>@FCV</option><option value=0;ROOT>ROOT</option><option value=0;@SUBJ>@SUBJ</option></select></td><td>@FMV</td><td>@FMV</td><td>V</td><td>V</td><td>indic pres ps3 sg </td><td>None</td><td>None</td></tr><tr><td>7</td><td>lõpuks</td><td>lõpuks</td><td><select class = \"syntax_choice\" id=\"head6;0\"><option value=\"0;original\">6: kannab</option><option value=\"0;0\">0</option><option value=0;1>1: Kati</option><option value=0;2>2: klõbistab</option><option value=0;3>3: natuke</option><option value=0;4>4: taskuarvutiga</option><option value=0;5>5: ja</option><option value=0;6>6: kannab</option><option value=0;7>7: lõpuks</option><option value=0;8>8: lumetabelisse</option><option value=0;9>9: järgmised</option><option value=0;10>10: andmed</option><option value=0;11>11: :</option></select></td><td>6: kannab</td><td>6: kannab</td><td><select class = \"syntax_choice\" id = \"deprel6;0\"><option value=\"0;original\">@ADVL</option><option value=0;@ADVL>@ADVL</option><option value=0;@FCV>@FCV</option><option value=0;ROOT>ROOT</option><option value=0;@SUBJ>@SUBJ</option></select></td><td>@ADVL</td><td>@ADVL</td><td>D</td><td>D</td><td>None</td><td>None</td><td>None</td></tr><tr><td>8</td><td>lumetabelisse</td><td>lume_tabel</td><td><select class = \"syntax_choice\" id=\"head7;0\"><option value=\"0;original\">6: kannab</option><option value=\"0;0\">0</option><option value=0;1>1: Kati</option><option value=0;2>2: klõbistab</option><option value=0;3>3: natuke</option><option value=0;4>4: taskuarvutiga</option><option value=0;5>5: ja</option><option value=0;6>6: kannab</option><option value=0;7>7: lõpuks</option><option value=0;8>8: lumetabelisse</option><option value=0;9>9: järgmised</option><option value=0;10>10: andmed</option><option value=0;11>11: :</option></select></td><td>6: kannab</td><td>6: kannab</td><td><select class = \"syntax_choice\" id = \"deprel7;0\"><option value=\"0;original\">@ADVL</option><option value=0;@ADVL>@ADVL</option><option value=0;@FCV>@FCV</option><option value=0;ROOT>ROOT</option><option value=0;@SUBJ>@SUBJ</option></select></td><td>@ADVL</td><td>@ADVL</td><td>S</td><td>S</td><td>sg ill </td><td>None</td><td>None</td></tr><tr><td>9</td><td>järgmised</td><td>järgmine</td><td><select class = \"syntax_choice\" id=\"head8;0\"><option value=\"0;original\">10: andmed</option><option value=\"0;0\">0</option><option value=0;1>1: Kati</option><option value=0;2>2: klõbistab</option><option value=0;3>3: natuke</option><option value=0;4>4: taskuarvutiga</option><option value=0;5>5: ja</option><option value=0;6>6: kannab</option><option value=0;7>7: lõpuks</option><option value=0;8>8: lumetabelisse</option><option value=0;9>9: järgmised</option><option value=0;10>10: andmed</option><option value=0;11>11: :</option></select></td><td>10: andmed</td><td>10: andmed</td><td><select class = \"syntax_choice\" id = \"deprel8;0\"><option value=\"0;original\">@AN&gt;</option><option value=0;@ADVL>@ADVL</option><option value=0;@FCV>@FCV</option><option value=0;ROOT>ROOT</option><option value=0;@SUBJ>@SUBJ</option></select></td><td>@AN&gt;</td><td>@AN&gt;</td><td>A</td><td>A</td><td>pl nom </td><td>None</td><td>None</td></tr><tr><td>10</td><td>andmed</td><td>andmed</td><td><select class = \"syntax_choice\" id=\"head9;0\"><option value=\"0;original\">6: kannab</option><option value=\"0;0\">0</option><option value=0;1>1: Kati</option><option value=0;2>2: klõbistab</option><option value=0;3>3: natuke</option><option value=0;4>4: taskuarvutiga</option><option value=0;5>5: ja</option><option value=0;6>6: kannab</option><option value=0;7>7: lõpuks</option><option value=0;8>8: lumetabelisse</option><option value=0;9>9: järgmised</option><option value=0;10>10: andmed</option><option value=0;11>11: :</option></select></td><td>6: kannab</td><td>6: kannab</td><td><select class = \"syntax_choice\" id = \"deprel9;0\"><option value=\"0;original\">@OBJ</option><option value=0;@ADVL>@ADVL</option><option value=0;@FCV>@FCV</option><option value=0;ROOT>ROOT</option><option value=0;@SUBJ>@SUBJ</option></select></td><td>@OBJ</td><td>@OBJ</td><td>S</td><td>S</td><td>pl nom </td><td>None</td><td>None</td></tr><tr><td>11</td><td>:</td><td>:</td><td><select class = \"syntax_choice\" id=\"head10;0\"><option value=\"0;original\">10: andmed</option><option value=\"0;0\">0</option><option value=0;1>1: Kati</option><option value=0;2>2: klõbistab</option><option value=0;3>3: natuke</option><option value=0;4>4: taskuarvutiga</option><option value=0;5>5: ja</option><option value=0;6>6: kannab</option><option value=0;7>7: lõpuks</option><option value=0;8>8: lumetabelisse</option><option value=0;9>9: järgmised</option><option value=0;10>10: andmed</option><option value=0;11>11: :</option></select></td><td>10: andmed</td><td>10: andmed</td><td><select class = \"syntax_choice\" id = \"deprel10;0\"><option value=\"0;original\">@Punc</option><option value=0;@ADVL>@ADVL</option><option value=0;@FCV>@FCV</option><option value=0;ROOT>ROOT</option><option value=0;@SUBJ>@SUBJ</option></select></td><td>@Punc</td><td>@Punc</td><td>Z</td><td>Z</td><td>Col </td><td>None</td><td>None</td></tr></table>'); \n",
       "all_tables.push('<table class=\"iterable-table\"><tr><th>id</th><th>text</th><th>lemma</th><th>head</th><th>head1</th><th>head2</th><th>deprel</th><th>deprel1</th><th>deprel2</th><th>upostag</th><th>xpostag</th><th>feats</th><th>deps</th><th>misc</th></tr><tr><td>1</td><td>Suurim</td><td>suurim</td><td><select class = \"syntax_choice\" id=\"head0;0\"><option value=\"0;original\">2: paksus</option><option value=\"0;0\">0</option><option value=0;1>1: Suurim</option><option value=0;2>2: paksus</option><option value=0;3>3: 28</option><option value=0;4>4: cm</option></select></td><td>2: paksus</td><td>2: paksus</td><td><select class = \"syntax_choice\" id = \"deprel0;0\"><option value=\"0;original\">@AN&gt;</option><option value=0;@ADVL>@ADVL</option><option value=0;@FCV>@FCV</option><option value=0;ROOT>ROOT</option><option value=0;@SUBJ>@SUBJ</option></select></td><td>@AN&gt;</td><td>@AN&gt;</td><td>A</td><td>A</td><td>super sg nom </td><td>None</td><td>None</td></tr><tr><td>2</td><td>paksus</td><td>paksus</td><td><select class = \"syntax_choice\" id=\"head1;0\"><option value=\"0;original\">0</option><option value=\"0;0\">0</option><option value=0;1>1: Suurim</option><option value=0;2>2: paksus</option><option value=0;3>3: 28</option><option value=0;4>4: cm</option></select></td><td>0</td><td>0</td><td><select class = \"syntax_choice\" id = \"deprel1;0\"><option value=\"0;original\">ROOT</option><option value=0;@ADVL>@ADVL</option><option value=0;@FCV>@FCV</option><option value=0;ROOT>ROOT</option><option value=0;@SUBJ>@SUBJ</option></select></td><td>ROOT</td><td>ROOT</td><td>S</td><td>S</td><td>sg nom </td><td>None</td><td>None</td></tr><tr><td>3</td><td>28</td><td>28</td><td><select class = \"syntax_choice\" id=\"head2;0\"><option value=\"0;original\">2: paksus</option><option value=\"0;0\">0</option><option value=0;1>1: Suurim</option><option value=0;2>2: paksus</option><option value=0;3>3: 28</option><option value=0;4>4: cm</option></select></td><td>2: paksus</td><td>2: paksus</td><td><select class = \"syntax_choice\" id = \"deprel2;0\"><option value=\"0;original\"></option><option value=0;@ADVL>@ADVL</option><option value=0;@FCV>@FCV</option><option value=0;ROOT>ROOT</option><option value=0;@SUBJ>@SUBJ</option></select></td><td>@PRD</td><td>@ADVL</td><td>N</td><td>N</td><td>card </td><td>None</td><td>None</td></tr><tr><td>4</td><td>cm</td><td>cm</td><td><select class = \"syntax_choice\" id=\"head3;0\"><option value=\"0;original\">3: 28</option><option value=\"0;0\">0</option><option value=0;1>1: Suurim</option><option value=0;2>2: paksus</option><option value=0;3>3: 28</option><option value=0;4>4: cm</option></select></td><td>3: 28</td><td>3: 28</td><td><select class = \"syntax_choice\" id = \"deprel3;0\"><option value=\"0;original\">@&lt;Q</option><option value=0;@ADVL>@ADVL</option><option value=0;@FCV>@FCV</option><option value=0;ROOT>ROOT</option><option value=0;@SUBJ>@SUBJ</option></select></td><td>@&lt;Q</td><td>@&lt;Q</td><td>Y</td><td>Y</td><td>nominal </td><td>None</td><td>None</td></tr></table>'); \n",
       "all_tables.push('<table class=\"iterable-table\"><tr><th>id</th><th>text</th><th>lemma</th><th>head</th><th>head1</th><th>head2</th><th>deprel</th><th>deprel1</th><th>deprel2</th><th>upostag</th><th>xpostag</th><th>feats</th><th>deps</th><th>misc</th></tr><tr><td>1</td><td>Väikseim</td><td>väikseim</td><td><select class = \"syntax_choice\" id=\"head0;0\"><option value=\"0;original\">2: paksus</option><option value=\"0;0\">0</option><option value=0;1>1: Väikseim</option><option value=0;2>2: paksus</option><option value=0;3>3: 16</option><option value=0;4>4: cm</option></select></td><td>2: paksus</td><td>2: paksus</td><td><select class = \"syntax_choice\" id = \"deprel0;0\"><option value=\"0;original\">@AN&gt;</option><option value=0;@ADVL>@ADVL</option><option value=0;@FCV>@FCV</option><option value=0;ROOT>ROOT</option><option value=0;@SUBJ>@SUBJ</option></select></td><td>@AN&gt;</td><td>@AN&gt;</td><td>A</td><td>A</td><td>super sg nom </td><td>None</td><td>None</td></tr><tr><td>2</td><td>paksus</td><td>paksus</td><td><select class = \"syntax_choice\" id=\"head1;0\"><option value=\"0;original\">0</option><option value=\"0;0\">0</option><option value=0;1>1: Väikseim</option><option value=0;2>2: paksus</option><option value=0;3>3: 16</option><option value=0;4>4: cm</option></select></td><td>0</td><td>0</td><td><select class = \"syntax_choice\" id = \"deprel1;0\"><option value=\"0;original\">ROOT</option><option value=0;@ADVL>@ADVL</option><option value=0;@FCV>@FCV</option><option value=0;ROOT>ROOT</option><option value=0;@SUBJ>@SUBJ</option></select></td><td>ROOT</td><td>ROOT</td><td>S</td><td>S</td><td>sg nom </td><td>None</td><td>None</td></tr><tr><td>3</td><td>16</td><td>16</td><td><select class = \"syntax_choice\" id=\"head2;0\"><option value=\"0;original\">2: paksus</option><option value=\"0;0\">0</option><option value=0;1>1: Väikseim</option><option value=0;2>2: paksus</option><option value=0;3>3: 16</option><option value=0;4>4: cm</option></select></td><td>2: paksus</td><td>2: paksus</td><td><select class = \"syntax_choice\" id = \"deprel2;0\"><option value=\"0;original\"></option><option value=0;@ADVL>@ADVL</option><option value=0;@FCV>@FCV</option><option value=0;ROOT>ROOT</option><option value=0;@SUBJ>@SUBJ</option></select></td><td>@PRD</td><td>@ADVL</td><td>N</td><td>N</td><td>card </td><td>None</td><td>None</td></tr><tr><td>4</td><td>cm</td><td>cm</td><td><select class = \"syntax_choice\" id=\"head3;0\"><option value=\"0;original\">3: 16</option><option value=\"0;0\">0</option><option value=0;1>1: Väikseim</option><option value=0;2>2: paksus</option><option value=0;3>3: 16</option><option value=0;4>4: cm</option></select></td><td>3: 16</td><td>3: 16</td><td><select class = \"syntax_choice\" id = \"deprel3;0\"><option value=\"0;original\">@&lt;Q</option><option value=0;@ADVL>@ADVL</option><option value=0;@FCV>@FCV</option><option value=0;ROOT>ROOT</option><option value=0;@SUBJ>@SUBJ</option></select></td><td>@&lt;Q</td><td>@&lt;Q</td><td>Y</td><td>Y</td><td>nominal </td><td>None</td><td>None</td></tr></table>'); \n",
       "all_tables.push('<table class=\"iterable-table\"><tr><th>id</th><th>text</th><th>lemma</th><th>head</th><th>head1</th><th>head2</th><th>deprel</th><th>deprel1</th><th>deprel2</th><th>upostag</th><th>xpostag</th><th>feats</th><th>deps</th><th>misc</th></tr><tr><td>1</td><td>Keskmine</td><td>keskmine</td><td><select class = \"syntax_choice\" id=\"head0;0\"><option value=\"0;original\">2: paksus</option><option value=\"0;0\">0</option><option value=0;1>1: Keskmine</option><option value=0;2>2: paksus</option><option value=0;3>3: 23</option><option value=0;4>4: cm</option></select></td><td>2: paksus</td><td>2: paksus</td><td><select class = \"syntax_choice\" id = \"deprel0;0\"><option value=\"0;original\">@AN&gt;</option><option value=0;@ADVL>@ADVL</option><option value=0;@FCV>@FCV</option><option value=0;ROOT>ROOT</option><option value=0;@SUBJ>@SUBJ</option></select></td><td>@AN&gt;</td><td>@AN&gt;</td><td>A</td><td>A</td><td>sg nom </td><td>None</td><td>None</td></tr><tr><td>2</td><td>paksus</td><td>paksus</td><td><select class = \"syntax_choice\" id=\"head1;0\"><option value=\"0;original\">0</option><option value=\"0;0\">0</option><option value=0;1>1: Keskmine</option><option value=0;2>2: paksus</option><option value=0;3>3: 23</option><option value=0;4>4: cm</option></select></td><td>0</td><td>0</td><td><select class = \"syntax_choice\" id = \"deprel1;0\"><option value=\"0;original\">ROOT</option><option value=0;@ADVL>@ADVL</option><option value=0;@FCV>@FCV</option><option value=0;ROOT>ROOT</option><option value=0;@SUBJ>@SUBJ</option></select></td><td>ROOT</td><td>ROOT</td><td>S</td><td>S</td><td>sg nom </td><td>None</td><td>None</td></tr><tr><td>3</td><td>23</td><td>23</td><td><select class = \"syntax_choice\" id=\"head2;0\"><option value=\"0;original\">2: paksus</option><option value=\"0;0\">0</option><option value=0;1>1: Keskmine</option><option value=0;2>2: paksus</option><option value=0;3>3: 23</option><option value=0;4>4: cm</option></select></td><td>2: paksus</td><td>2: paksus</td><td><select class = \"syntax_choice\" id = \"deprel2;0\"><option value=\"0;original\"></option><option value=0;@ADVL>@ADVL</option><option value=0;@FCV>@FCV</option><option value=0;ROOT>ROOT</option><option value=0;@SUBJ>@SUBJ</option></select></td><td>@PRD</td><td>@ADVL</td><td>N</td><td>N</td><td>card </td><td>None</td><td>None</td></tr><tr><td>4</td><td>cm</td><td>cm</td><td><select class = \"syntax_choice\" id=\"head3;0\"><option value=\"0;original\">3: 23</option><option value=\"0;0\">0</option><option value=0;1>1: Keskmine</option><option value=0;2>2: paksus</option><option value=0;3>3: 23</option><option value=0;4>4: cm</option></select></td><td>3: 23</td><td>3: 23</td><td><select class = \"syntax_choice\" id = \"deprel3;0\"><option value=\"0;original\">@&lt;Q</option><option value=0;@ADVL>@ADVL</option><option value=0;@FCV>@FCV</option><option value=0;ROOT>ROOT</option><option value=0;@SUBJ>@SUBJ</option></select></td><td>@&lt;Q</td><td>@&lt;Q</td><td>Y</td><td>Y</td><td>nominal </td><td>None</td><td>None</td></tr></table>'); \n",
       "all_tables.push('<table class=\"iterable-table\"><tr><th>id</th><th>text</th><th>lemma</th><th>head</th><th>head1</th><th>head2</th><th>deprel</th><th>deprel1</th><th>deprel2</th><th>upostag</th><th>xpostag</th><th>feats</th><th>deps</th><th>misc</th></tr><tr><td>1</td><td>Paksus</td><td>paksus</td><td><select class = \"syntax_choice\" id=\"head0;0\"><option value=\"0;original\">0</option><option value=\"0;0\">0</option><option value=0;1>1: Paksus</option><option value=0;2>2: koos</option><option value=0;3>3: lumealuse</option><option value=0;4>4: jääkoorikuga</option><option value=0;5>5: 23,3</option><option value=0;6>6: cm</option></select></td><td>0</td><td>0</td><td><select class = \"syntax_choice\" id = \"deprel0;0\"><option value=\"0;original\">ROOT</option><option value=0;@ADVL>@ADVL</option><option value=0;@FCV>@FCV</option><option value=0;ROOT>ROOT</option><option value=0;@SUBJ>@SUBJ</option></select></td><td>ROOT</td><td>ROOT</td><td>S</td><td>S</td><td>sg nom </td><td>None</td><td>None</td></tr><tr><td>2</td><td>koos</td><td>koos</td><td><select class = \"syntax_choice\" id=\"head1;0\"><option value=\"0;original\">1: Paksus</option><option value=\"0;0\">0</option><option value=0;1>1: Paksus</option><option value=0;2>2: koos</option><option value=0;3>3: lumealuse</option><option value=0;4>4: jääkoorikuga</option><option value=0;5>5: 23,3</option><option value=0;6>6: cm</option></select></td><td>1: Paksus</td><td>1: Paksus</td><td><select class = \"syntax_choice\" id = \"deprel1;0\"><option value=\"0;original\">@&lt;KN</option><option value=0;@ADVL>@ADVL</option><option value=0;@FCV>@FCV</option><option value=0;ROOT>ROOT</option><option value=0;@SUBJ>@SUBJ</option></select></td><td>@&lt;KN</td><td>@&lt;KN</td><td>K</td><td>Ke</td><td>None</td><td>None</td><td>None</td></tr><tr><td>3</td><td>lumealuse</td><td>lume_alune</td><td><select class = \"syntax_choice\" id=\"head2;0\"><option value=\"0;original\">4: jääkoorikuga</option><option value=\"0;0\">0</option><option value=0;1>1: Paksus</option><option value=0;2>2: koos</option><option value=0;3>3: lumealuse</option><option value=0;4>4: jääkoorikuga</option><option value=0;5>5: 23,3</option><option value=0;6>6: cm</option></select></td><td>4: jääkoorikuga</td><td>4: jääkoorikuga</td><td><select class = \"syntax_choice\" id = \"deprel2;0\"><option value=\"0;original\">@AN&gt;</option><option value=0;@ADVL>@ADVL</option><option value=0;@FCV>@FCV</option><option value=0;ROOT>ROOT</option><option value=0;@SUBJ>@SUBJ</option></select></td><td>@AN&gt;</td><td>@AN&gt;</td><td>A</td><td>A</td><td>sg gen </td><td>None</td><td>None</td></tr><tr><td>4</td><td>jääkoorikuga</td><td>jää_koorik</td><td><select class = \"syntax_choice\" id=\"head3;0\"><option value=\"0;original\">2: koos</option><option value=\"0;0\">0</option><option value=0;1>1: Paksus</option><option value=0;2>2: koos</option><option value=0;3>3: lumealuse</option><option value=0;4>4: jääkoorikuga</option><option value=0;5>5: 23,3</option><option value=0;6>6: cm</option></select></td><td>2: koos</td><td>2: koos</td><td><select class = \"syntax_choice\" id = \"deprel3;0\"><option value=\"0;original\">@&lt;P</option><option value=0;@ADVL>@ADVL</option><option value=0;@FCV>@FCV</option><option value=0;ROOT>ROOT</option><option value=0;@SUBJ>@SUBJ</option></select></td><td>@&lt;P</td><td>@&lt;P</td><td>S</td><td>S</td><td>sg kom </td><td>None</td><td>None</td></tr><tr><td>5</td><td>23,3</td><td>23,3</td><td><select class = \"syntax_choice\" id=\"head4;0\"><option value=\"0;original\"></option><option value=\"0;0\">0</option><option value=0;1>1: Paksus</option><option value=0;2>2: koos</option><option value=0;3>3: lumealuse</option><option value=0;4>4: jääkoorikuga</option><option value=0;5>5: 23,3</option><option value=0;6>6: cm</option></select></td><td>1: Paksus</td><td>0</td><td><select class = \"syntax_choice\" id = \"deprel4;0\"><option value=\"0;original\"></option><option value=0;@ADVL>@ADVL</option><option value=0;@FCV>@FCV</option><option value=0;ROOT>ROOT</option><option value=0;@SUBJ>@SUBJ</option></select></td><td>@PRD</td><td>ROOT</td><td>N</td><td>N</td><td>card </td><td>None</td><td>None</td></tr><tr><td>6</td><td>cm</td><td>cm</td><td><select class = \"syntax_choice\" id=\"head5;0\"><option value=\"0;original\">5: 23,3</option><option value=\"0;0\">0</option><option value=0;1>1: Paksus</option><option value=0;2>2: koos</option><option value=0;3>3: lumealuse</option><option value=0;4>4: jääkoorikuga</option><option value=0;5>5: 23,3</option><option value=0;6>6: cm</option></select></td><td>5: 23,3</td><td>5: 23,3</td><td><select class = \"syntax_choice\" id = \"deprel5;0\"><option value=\"0;original\">@&lt;Q</option><option value=0;@ADVL>@ADVL</option><option value=0;@FCV>@FCV</option><option value=0;ROOT>ROOT</option><option value=0;@SUBJ>@SUBJ</option></select></td><td>@&lt;Q</td><td>@&lt;Q</td><td>Y</td><td>Y</td><td>nominal </td><td>None</td><td>None</td></tr></table>'); \n",
       "all_tables.push('<table class=\"iterable-table\"><tr><th>id</th><th>text</th><th>lemma</th><th>head</th><th>head1</th><th>head2</th><th>deprel</th><th>deprel1</th><th>deprel2</th><th>upostag</th><th>xpostag</th><th>feats</th><th>deps</th><th>misc</th></tr><tr><td>1</td><td>Lume</td><td>lumi</td><td><select class = \"syntax_choice\" id=\"head0;0\"><option value=\"0;original\">3: tihedus</option><option value=\"0;0\">0</option><option value=0;1>1: Lume</option><option value=0;2>2: keskmine</option><option value=0;3>3: tihedus</option><option value=0;4>4: (</option><option value=0;5>5: lumekihi</option><option value=0;6>6: massi</option><option value=0;7>7: ja</option><option value=0;8>8: ruumala</option><option value=0;9>9: vaheline</option><option value=0;10>10: suhe</option><option value=0;11>11: )</option><option value=0;12>12: 0,16</option><option value=0;13>13: g</option><option value=0;14>14: ühe</option><option value=0;15>15: cm</option><option value=0;16>16: kohta</option></select></td><td>3: tihedus</td><td>3: tihedus</td><td><select class = \"syntax_choice\" id = \"deprel0;0\"><option value=\"0;original\">@NN&gt;</option><option value=0;@ADVL>@ADVL</option><option value=0;@FCV>@FCV</option><option value=0;ROOT>ROOT</option><option value=0;@SUBJ>@SUBJ</option></select></td><td>@NN&gt;</td><td>@NN&gt;</td><td>S</td><td>S</td><td>sg gen </td><td>None</td><td>None</td></tr><tr><td>2</td><td>keskmine</td><td>keskmine</td><td><select class = \"syntax_choice\" id=\"head1;0\"><option value=\"0;original\">3: tihedus</option><option value=\"0;0\">0</option><option value=0;1>1: Lume</option><option value=0;2>2: keskmine</option><option value=0;3>3: tihedus</option><option value=0;4>4: (</option><option value=0;5>5: lumekihi</option><option value=0;6>6: massi</option><option value=0;7>7: ja</option><option value=0;8>8: ruumala</option><option value=0;9>9: vaheline</option><option value=0;10>10: suhe</option><option value=0;11>11: )</option><option value=0;12>12: 0,16</option><option value=0;13>13: g</option><option value=0;14>14: ühe</option><option value=0;15>15: cm</option><option value=0;16>16: kohta</option></select></td><td>3: tihedus</td><td>3: tihedus</td><td><select class = \"syntax_choice\" id = \"deprel1;0\"><option value=\"0;original\">@AN&gt;</option><option value=0;@ADVL>@ADVL</option><option value=0;@FCV>@FCV</option><option value=0;ROOT>ROOT</option><option value=0;@SUBJ>@SUBJ</option></select></td><td>@AN&gt;</td><td>@AN&gt;</td><td>A</td><td>A</td><td>sg nom </td><td>None</td><td>None</td></tr><tr><td>3</td><td>tihedus</td><td>tihedus</td><td><select class = \"syntax_choice\" id=\"head2;0\"><option value=\"0;original\">0</option><option value=\"0;0\">0</option><option value=0;1>1: Lume</option><option value=0;2>2: keskmine</option><option value=0;3>3: tihedus</option><option value=0;4>4: (</option><option value=0;5>5: lumekihi</option><option value=0;6>6: massi</option><option value=0;7>7: ja</option><option value=0;8>8: ruumala</option><option value=0;9>9: vaheline</option><option value=0;10>10: suhe</option><option value=0;11>11: )</option><option value=0;12>12: 0,16</option><option value=0;13>13: g</option><option value=0;14>14: ühe</option><option value=0;15>15: cm</option><option value=0;16>16: kohta</option></select></td><td>0</td><td>0</td><td><select class = \"syntax_choice\" id = \"deprel2;0\"><option value=\"0;original\">ROOT</option><option value=0;@ADVL>@ADVL</option><option value=0;@FCV>@FCV</option><option value=0;ROOT>ROOT</option><option value=0;@SUBJ>@SUBJ</option></select></td><td>ROOT</td><td>ROOT</td><td>S</td><td>S</td><td>sg nom </td><td>None</td><td>None</td></tr><tr><td>4</td><td>(</td><td>(</td><td><select class = \"syntax_choice\" id=\"head3;0\"><option value=\"0;original\">5: lumekihi</option><option value=\"0;0\">0</option><option value=0;1>1: Lume</option><option value=0;2>2: keskmine</option><option value=0;3>3: tihedus</option><option value=0;4>4: (</option><option value=0;5>5: lumekihi</option><option value=0;6>6: massi</option><option value=0;7>7: ja</option><option value=0;8>8: ruumala</option><option value=0;9>9: vaheline</option><option value=0;10>10: suhe</option><option value=0;11>11: )</option><option value=0;12>12: 0,16</option><option value=0;13>13: g</option><option value=0;14>14: ühe</option><option value=0;15>15: cm</option><option value=0;16>16: kohta</option></select></td><td>5: lumekihi</td><td>5: lumekihi</td><td><select class = \"syntax_choice\" id = \"deprel3;0\"><option value=\"0;original\">@Punc</option><option value=0;@ADVL>@ADVL</option><option value=0;@FCV>@FCV</option><option value=0;ROOT>ROOT</option><option value=0;@SUBJ>@SUBJ</option></select></td><td>@Punc</td><td>@Punc</td><td>Z</td><td>Z</td><td>Opr </td><td>None</td><td>None</td></tr><tr><td>5</td><td>lumekihi</td><td>lume_kiht</td><td><select class = \"syntax_choice\" id=\"head4;0\"><option value=\"0;original\">6: massi</option><option value=\"0;0\">0</option><option value=0;1>1: Lume</option><option value=0;2>2: keskmine</option><option value=0;3>3: tihedus</option><option value=0;4>4: (</option><option value=0;5>5: lumekihi</option><option value=0;6>6: massi</option><option value=0;7>7: ja</option><option value=0;8>8: ruumala</option><option value=0;9>9: vaheline</option><option value=0;10>10: suhe</option><option value=0;11>11: )</option><option value=0;12>12: 0,16</option><option value=0;13>13: g</option><option value=0;14>14: ühe</option><option value=0;15>15: cm</option><option value=0;16>16: kohta</option></select></td><td>6: massi</td><td>6: massi</td><td><select class = \"syntax_choice\" id = \"deprel4;0\"><option value=\"0;original\">@NN&gt;</option><option value=0;@ADVL>@ADVL</option><option value=0;@FCV>@FCV</option><option value=0;ROOT>ROOT</option><option value=0;@SUBJ>@SUBJ</option></select></td><td>@NN&gt;</td><td>@NN&gt;</td><td>S</td><td>S</td><td>sg gen </td><td>None</td><td>None</td></tr><tr><td>6</td><td>massi</td><td>mass</td><td><select class = \"syntax_choice\" id=\"head5;0\"><option value=\"0;original\">9: vaheline</option><option value=\"0;0\">0</option><option value=0;1>1: Lume</option><option value=0;2>2: keskmine</option><option value=0;3>3: tihedus</option><option value=0;4>4: (</option><option value=0;5>5: lumekihi</option><option value=0;6>6: massi</option><option value=0;7>7: ja</option><option value=0;8>8: ruumala</option><option value=0;9>9: vaheline</option><option value=0;10>10: suhe</option><option value=0;11>11: )</option><option value=0;12>12: 0,16</option><option value=0;13>13: g</option><option value=0;14>14: ühe</option><option value=0;15>15: cm</option><option value=0;16>16: kohta</option></select></td><td>9: vaheline</td><td>9: vaheline</td><td><select class = \"syntax_choice\" id = \"deprel5;0\"><option value=\"0;original\"></option><option value=0;@ADVL>@ADVL</option><option value=0;@FCV>@FCV</option><option value=0;ROOT>ROOT</option><option value=0;@SUBJ>@SUBJ</option></select></td><td>@ADVL</td><td>@NN&gt;</td><td>S</td><td>S</td><td>sg gen </td><td>None</td><td>None</td></tr><tr><td>7</td><td>ja</td><td>ja</td><td><select class = \"syntax_choice\" id=\"head6;0\"><option value=\"0;original\">8: ruumala</option><option value=\"0;0\">0</option><option value=0;1>1: Lume</option><option value=0;2>2: keskmine</option><option value=0;3>3: tihedus</option><option value=0;4>4: (</option><option value=0;5>5: lumekihi</option><option value=0;6>6: massi</option><option value=0;7>7: ja</option><option value=0;8>8: ruumala</option><option value=0;9>9: vaheline</option><option value=0;10>10: suhe</option><option value=0;11>11: )</option><option value=0;12>12: 0,16</option><option value=0;13>13: g</option><option value=0;14>14: ühe</option><option value=0;15>15: cm</option><option value=0;16>16: kohta</option></select></td><td>8: ruumala</td><td>8: ruumala</td><td><select class = \"syntax_choice\" id = \"deprel6;0\"><option value=\"0;original\">@J</option><option value=0;@ADVL>@ADVL</option><option value=0;@FCV>@FCV</option><option value=0;ROOT>ROOT</option><option value=0;@SUBJ>@SUBJ</option></select></td><td>@J</td><td>@J</td><td>J</td><td>Jc</td><td>None</td><td>None</td><td>None</td></tr><tr><td>8</td><td>ruumala</td><td>ruum_ala</td><td><select class = \"syntax_choice\" id=\"head7;0\"><option value=\"0;original\">6: massi</option><option value=\"0;0\">0</option><option value=0;1>1: Lume</option><option value=0;2>2: keskmine</option><option value=0;3>3: tihedus</option><option value=0;4>4: (</option><option value=0;5>5: lumekihi</option><option value=0;6>6: massi</option><option value=0;7>7: ja</option><option value=0;8>8: ruumala</option><option value=0;9>9: vaheline</option><option value=0;10>10: suhe</option><option value=0;11>11: )</option><option value=0;12>12: 0,16</option><option value=0;13>13: g</option><option value=0;14>14: ühe</option><option value=0;15>15: cm</option><option value=0;16>16: kohta</option></select></td><td>6: massi</td><td>6: massi</td><td><select class = \"syntax_choice\" id = \"deprel7;0\"><option value=\"0;original\"></option><option value=0;@ADVL>@ADVL</option><option value=0;@FCV>@FCV</option><option value=0;ROOT>ROOT</option><option value=0;@SUBJ>@SUBJ</option></select></td><td>@ADVL</td><td>@NN&gt;</td><td>S</td><td>S</td><td>sg gen </td><td>None</td><td>None</td></tr><tr><td>9</td><td>vaheline</td><td>vaheline</td><td><select class = \"syntax_choice\" id=\"head8;0\"><option value=\"0;original\">10: suhe</option><option value=\"0;0\">0</option><option value=0;1>1: Lume</option><option value=0;2>2: keskmine</option><option value=0;3>3: tihedus</option><option value=0;4>4: (</option><option value=0;5>5: lumekihi</option><option value=0;6>6: massi</option><option value=0;7>7: ja</option><option value=0;8>8: ruumala</option><option value=0;9>9: vaheline</option><option value=0;10>10: suhe</option><option value=0;11>11: )</option><option value=0;12>12: 0,16</option><option value=0;13>13: g</option><option value=0;14>14: ühe</option><option value=0;15>15: cm</option><option value=0;16>16: kohta</option></select></td><td>10: suhe</td><td>10: suhe</td><td><select class = \"syntax_choice\" id = \"deprel8;0\"><option value=\"0;original\">@AN&gt;</option><option value=0;@ADVL>@ADVL</option><option value=0;@FCV>@FCV</option><option value=0;ROOT>ROOT</option><option value=0;@SUBJ>@SUBJ</option></select></td><td>@AN&gt;</td><td>@AN&gt;</td><td>A</td><td>A</td><td>sg nom </td><td>None</td><td>None</td></tr><tr><td>10</td><td>suhe</td><td>suhe</td><td><select class = \"syntax_choice\" id=\"head9;0\"><option value=\"0;original\">3: tihedus</option><option value=\"0;0\">0</option><option value=0;1>1: Lume</option><option value=0;2>2: keskmine</option><option value=0;3>3: tihedus</option><option value=0;4>4: (</option><option value=0;5>5: lumekihi</option><option value=0;6>6: massi</option><option value=0;7>7: ja</option><option value=0;8>8: ruumala</option><option value=0;9>9: vaheline</option><option value=0;10>10: suhe</option><option value=0;11>11: )</option><option value=0;12>12: 0,16</option><option value=0;13>13: g</option><option value=0;14>14: ühe</option><option value=0;15>15: cm</option><option value=0;16>16: kohta</option></select></td><td>3: tihedus</td><td>3: tihedus</td><td><select class = \"syntax_choice\" id = \"deprel9;0\"><option value=\"0;original\">@&lt;NN</option><option value=0;@ADVL>@ADVL</option><option value=0;@FCV>@FCV</option><option value=0;ROOT>ROOT</option><option value=0;@SUBJ>@SUBJ</option></select></td><td>@&lt;NN</td><td>@&lt;NN</td><td>S</td><td>S</td><td>sg nom </td><td>None</td><td>None</td></tr><tr><td>11</td><td>)</td><td>)</td><td><select class = \"syntax_choice\" id=\"head10;0\"><option value=\"0;original\">10: suhe</option><option value=\"0;0\">0</option><option value=0;1>1: Lume</option><option value=0;2>2: keskmine</option><option value=0;3>3: tihedus</option><option value=0;4>4: (</option><option value=0;5>5: lumekihi</option><option value=0;6>6: massi</option><option value=0;7>7: ja</option><option value=0;8>8: ruumala</option><option value=0;9>9: vaheline</option><option value=0;10>10: suhe</option><option value=0;11>11: )</option><option value=0;12>12: 0,16</option><option value=0;13>13: g</option><option value=0;14>14: ühe</option><option value=0;15>15: cm</option><option value=0;16>16: kohta</option></select></td><td>10: suhe</td><td>10: suhe</td><td><select class = \"syntax_choice\" id = \"deprel10;0\"><option value=\"0;original\">@Punc</option><option value=0;@ADVL>@ADVL</option><option value=0;@FCV>@FCV</option><option value=0;ROOT>ROOT</option><option value=0;@SUBJ>@SUBJ</option></select></td><td>@Punc</td><td>@Punc</td><td>Z</td><td>Z</td><td>Cpr </td><td>None</td><td>None</td></tr><tr><td>12</td><td>0,16</td><td>0,16</td><td><select class = \"syntax_choice\" id=\"head11;0\"><option value=\"0;original\"></option><option value=\"0;0\">0</option><option value=0;1>1: Lume</option><option value=0;2>2: keskmine</option><option value=0;3>3: tihedus</option><option value=0;4>4: (</option><option value=0;5>5: lumekihi</option><option value=0;6>6: massi</option><option value=0;7>7: ja</option><option value=0;8>8: ruumala</option><option value=0;9>9: vaheline</option><option value=0;10>10: suhe</option><option value=0;11>11: )</option><option value=0;12>12: 0,16</option><option value=0;13>13: g</option><option value=0;14>14: ühe</option><option value=0;15>15: cm</option><option value=0;16>16: kohta</option></select></td><td>3: tihedus</td><td>16: kohta</td><td><select class = \"syntax_choice\" id = \"deprel11;0\"><option value=\"0;original\"></option><option value=0;@ADVL>@ADVL</option><option value=0;@FCV>@FCV</option><option value=0;ROOT>ROOT</option><option value=0;@SUBJ>@SUBJ</option></select></td><td>@PRD</td><td>@P&gt;</td><td>N</td><td>N</td><td>card </td><td>None</td><td>None</td></tr><tr><td>13</td><td>g</td><td>g</td><td><select class = \"syntax_choice\" id=\"head12;0\"><option value=\"0;original\">12: 0,16</option><option value=\"0;0\">0</option><option value=0;1>1: Lume</option><option value=0;2>2: keskmine</option><option value=0;3>3: tihedus</option><option value=0;4>4: (</option><option value=0;5>5: lumekihi</option><option value=0;6>6: massi</option><option value=0;7>7: ja</option><option value=0;8>8: ruumala</option><option value=0;9>9: vaheline</option><option value=0;10>10: suhe</option><option value=0;11>11: )</option><option value=0;12>12: 0,16</option><option value=0;13>13: g</option><option value=0;14>14: ühe</option><option value=0;15>15: cm</option><option value=0;16>16: kohta</option></select></td><td>12: 0,16</td><td>12: 0,16</td><td><select class = \"syntax_choice\" id = \"deprel12;0\"><option value=\"0;original\">@&lt;Q</option><option value=0;@ADVL>@ADVL</option><option value=0;@FCV>@FCV</option><option value=0;ROOT>ROOT</option><option value=0;@SUBJ>@SUBJ</option></select></td><td>@&lt;Q</td><td>@&lt;Q</td><td>Y</td><td>Y</td><td>nominal </td><td>None</td><td>None</td></tr><tr><td>14</td><td>ühe</td><td>üks</td><td><select class = \"syntax_choice\" id=\"head13;0\"><option value=\"0;original\"></option><option value=\"0;0\">0</option><option value=0;1>1: Lume</option><option value=0;2>2: keskmine</option><option value=0;3>3: tihedus</option><option value=0;4>4: (</option><option value=0;5>5: lumekihi</option><option value=0;6>6: massi</option><option value=0;7>7: ja</option><option value=0;8>8: ruumala</option><option value=0;9>9: vaheline</option><option value=0;10>10: suhe</option><option value=0;11>11: )</option><option value=0;12>12: 0,16</option><option value=0;13>13: g</option><option value=0;14>14: ühe</option><option value=0;15>15: cm</option><option value=0;16>16: kohta</option></select></td><td>16: kohta</td><td>15: cm</td><td><select class = \"syntax_choice\" id = \"deprel13;0\"><option value=\"0;original\"></option><option value=0;@ADVL>@ADVL</option><option value=0;@FCV>@FCV</option><option value=0;ROOT>ROOT</option><option value=0;@SUBJ>@SUBJ</option></select></td><td>@P&gt;</td><td>@NN&gt;</td><td>N</td><td>N</td><td>card sg gen l </td><td>None</td><td>None</td></tr><tr><td>15</td><td>cm</td><td>cm</td><td><select class = \"syntax_choice\" id=\"head14;0\"><option value=\"0;original\"></option><option value=\"0;0\">0</option><option value=0;1>1: Lume</option><option value=0;2>2: keskmine</option><option value=0;3>3: tihedus</option><option value=0;4>4: (</option><option value=0;5>5: lumekihi</option><option value=0;6>6: massi</option><option value=0;7>7: ja</option><option value=0;8>8: ruumala</option><option value=0;9>9: vaheline</option><option value=0;10>10: suhe</option><option value=0;11>11: )</option><option value=0;12>12: 0,16</option><option value=0;13>13: g</option><option value=0;14>14: ühe</option><option value=0;15>15: cm</option><option value=0;16>16: kohta</option></select></td><td>14: ühe</td><td>13: g</td><td><select class = \"syntax_choice\" id = \"deprel14;0\"><option value=\"0;original\">@&lt;Q</option><option value=0;@ADVL>@ADVL</option><option value=0;@FCV>@FCV</option><option value=0;ROOT>ROOT</option><option value=0;@SUBJ>@SUBJ</option></select></td><td>@&lt;Q</td><td>@&lt;Q</td><td>Y</td><td>Y</td><td>nominal </td><td>None</td><td>None</td></tr><tr><td>16</td><td>kohta</td><td>kohta</td><td><select class = \"syntax_choice\" id=\"head15;0\"><option value=\"0;original\"></option><option value=\"0;0\">0</option><option value=0;1>1: Lume</option><option value=0;2>2: keskmine</option><option value=0;3>3: tihedus</option><option value=0;4>4: (</option><option value=0;5>5: lumekihi</option><option value=0;6>6: massi</option><option value=0;7>7: ja</option><option value=0;8>8: ruumala</option><option value=0;9>9: vaheline</option><option value=0;10>10: suhe</option><option value=0;11>11: )</option><option value=0;12>12: 0,16</option><option value=0;13>13: g</option><option value=0;14>14: ühe</option><option value=0;15>15: cm</option><option value=0;16>16: kohta</option></select></td><td>12: 0,16</td><td>10: suhe</td><td><select class = \"syntax_choice\" id = \"deprel15;0\"><option value=\"0;original\">@&lt;KN</option><option value=0;@ADVL>@ADVL</option><option value=0;@FCV>@FCV</option><option value=0;ROOT>ROOT</option><option value=0;@SUBJ>@SUBJ</option></select></td><td>@&lt;KN</td><td>@&lt;KN</td><td>K</td><td>Kt</td><td>None</td><td>None</td><td>None</td></tr></table>'); \n",
       "//uus js fail Ć¼levalt\n",
       "//uus javascript fail currentelement\n",
       "\n",
       "//tabel divi klass estnltk-syntax-editor\n",
       "\n",
       "\n",
       "function get_select_value(element) {\n",
       "    let selectedValueId = document.getElementById(element).value;\n",
       "    //let selectedValue = selectedValueId.options[selectedValueId.selectedIndex].text;\n",
       "    //let selectedValue = selectedValueId.target.options[selectedValueId.target.selectedIndex].text;\n",
       "    //console.log(selectedValueId.options);\n",
       "    console.log(selectedValueId);\n",
       "    //return selectedValue;\n",
       "}\n",
       "\n",
       "function selecting_value(event, column) {\n",
       "    //let attributes = JSON.parse();\n",
       "    if (event.keyCode == '13'|| event.which == '13') {\n",
       "        let value = get_select_value(column);\n",
       "        console.log(value);\n",
       "    }\n",
       "}\n",
       "\n",
       "//Jupyter.notebook.get_selected_cell().element[0].style.height = '400px';\n",
       "\n",
       "if (typeof start === 'undefined') {\n",
       "    var start;\n",
       "}\n",
       "document.addEventListener('click', function (e) {\n",
       "    Jupyter.keyboard_manager.disable();\n",
       "    if (start != undefined) {\n",
       "        start.style.backgroundColor = null;\n",
       "        //start.style.color = null;\n",
       "        //start.style.color = null;\n",
       "    }\n",
       "    let startid = e.target.id;\n",
       "    start = document.getElementById(startid);\n",
       "    start.focus();\n",
       "    start.style.backgroundColor = 'pink';\n",
       "    //start.style.color = 'white';\n",
       "    document.onkeydown = checkKey;\n",
       "}, false);\n",
       "\n",
       "function move(sibling) {\n",
       "    if (sibling != null) {\n",
       "        //start.focus();\n",
       "        start.style.backgroundColor = '';\n",
       "        //start.style.color = '';\n",
       "        sibling.focus();\n",
       "        sibling.style.backgroundColor = 'pink';\n",
       "        //sibling.style.color = 'white';\n",
       "        start = sibling;\n",
       "    }\n",
       "}\n",
       "\n",
       "//onkeydown uus js fail\n",
       "function checkKey(e) {\n",
       "    e = e || window.event;\n",
       "    if (e.keyCode == '38') {\n",
       "        // up arrow\n",
       "        e.preventDefault();\n",
       "        let idx = start.cellIndex;\n",
       "        let nextrow = start.parentElement.previousElementSibling;\n",
       "        if (nextrow != null) {\n",
       "            let sibling = nextrow.cells[idx];\n",
       "            move(sibling);\n",
       "        }\n",
       "    } else if (e.keyCode == '40') {\n",
       "        // down arrow\n",
       "        e.preventDefault();\n",
       "        let idx = start.cellIndex;\n",
       "        let nextrow = start.parentElement.nextElementSibling;\n",
       "        if (nextrow != null) {\n",
       "            let sibling = nextrow.cells[idx];\n",
       "            move(sibling);\n",
       "        }\n",
       "    } else if (e.keyCode == '37') {\n",
       "        // left arrow\n",
       "        e.preventDefault();\n",
       "        //let index = start.cellIndex;\n",
       "        let index = Array.from(start.parentElement.parentElement.children).indexOf(start.parentElement);\n",
       "        //console.log(start);\n",
       "        //console.log(start.parentElement.parentElement.children);\n",
       "        //console.log(index);\n",
       "        //let sibling = start.parentElement.previousElementSibling;\n",
       "        //let sibling = start.parentElement.parentElement.parentElement.parentElement.previousElementSibling.firstElementChild.firstElementChild.children.item(index).firstElementChild;\n",
       "        let sibling = start.previousElementSibling;\n",
       "        move(sibling);\n",
       "    } else if (e.keyCode == '39') {\n",
       "        // right arrow\n",
       "        e.preventDefault();\n",
       "        //let index = Array.from(start.parentElement.parentElement.children).indexOf(start.parentElement);\n",
       "        //let sibling = start.parentElement.parentElement.parentElement.parentElement.nextElementSibling.firstElementChild.firstElementChild.children.item(index).firstElementChild;\n",
       "        let sibling = start.nextElementSibling;\n",
       "        move(sibling);\n",
       "    } else if (e.keyCode == '32') {\n",
       "        // Space key for opening dropdown\n",
       "        let sibling = start.firstElementChild;\n",
       "        move(sibling);\n",
       "    } else if (e.keyCode == '16') {\n",
       "        //Shift for going back (for leaving dropdown)\n",
       "        //console.log(start);\n",
       "        let sibling = start.parentElement;\n",
       "        move(sibling);\n",
       "        e.preventDefault();\n",
       "        //e.preventDefault();\n",
       "    } else if (e.keyCode == '13') {\n",
       "        // Enter key for dropdown choices\n",
       "        //console.log(start.tagName);\n",
       "        //console.log(start.id);\n",
       "        //console.log(start.options[start.selectedIndex]);\n",
       "        //console.log(start.id.innerHTML);\n",
       "        //let optionid = start.id;\n",
       "        let sibling = start.firstElementChild;\n",
       "        //get_select_value(start.id);\n",
       "        move(sibling);\n",
       "        //console.log(optionid.options[optionid.selectedIndex].text);\n",
       "        //e.preventDefault();\n",
       "        //start.blur();\n",
       "        //let index = Array.from(start.parentElement.parentElement.children).indexOf(start.parentElement);\n",
       "        //let sibling = start.parentElement.children.item(index);\n",
       "        //let sibling = start.closest('td');\n",
       "        //move(sibling);\n",
       "    }\n",
       "}\n",
       "\n",
       "if (typeof visible_index === 'undefined') {\n",
       "    var visible_index = 0;\n",
       "}\n",
       "else {\n",
       "    visible_index = 0;\n",
       "}\n",
       "\n",
       "if (typeof current_element === 'undefined') {\n",
       "    var current_element = all_tables[visible_index];\n",
       "}\n",
       "else {\n",
       "    current_element = all_tables[visible_index];\n",
       "}\n",
       "\n",
       "var table_holder = document.createElement('table');\n",
       "table_holder.classList.add(\"iterable-table\");\n",
       "table_holder.innerHTML = current_element;\n",
       "document.getElementById(\"previous\").parentElement.appendChild(table_holder);\n",
       "//let tableColumns = document.getElementsByClassName('iterable-table');\n",
       "//tableColumns.item(visible_index).style.display = \"block\";\n",
       "\n",
       "function visibility() {\n",
       "    //let tableColumns = document.getElementsByTagName(\"table\");\n",
       "    let tableColumns = document.getElementsByClassName('iterable-table');\n",
       "    //console.log(tableColumns);\n",
       "    //let visible_table = document.getElementById(visible_index);\n",
       "    //visible_table.style.display = 'block';\n",
       "    for (let i = 0; i < tableColumns.length; i++) {\n",
       "        if (i !== visible_index) {\n",
       "            tableColumns.item(i).style.display = \"none\";\n",
       "        } else {\n",
       "            tableColumns.item(i).style.display = \"block\";\n",
       "        }\n",
       "    }\n",
       "    var new_table = document.createElement('table');\n",
       "    new_table.classList.add(\"iterable-table\");\n",
       "    new_table.innerHTML = all_tables[visible_index];\n",
       "    table_holder.parentNode.replaceChild(new_table, table_holder);\n",
       "    table_holder = new_table;\n",
       "}\n",
       "\n",
       "visibility();\n",
       "\n",
       "document.getElementById('previous').onclick = function () {\n",
       "    //tableColumns.item(visible_index).style.display = \"none\";\n",
       "    visible_index--;\n",
       "    //tableColumns.item(visible_index).style.display = \"block\";\n",
       "    visibility();\n",
       "};\n",
       "\n",
       "document.getElementById('next').onclick = function () {\n",
       "    //tableColumns.item(visible_index).style.display = \"none\";\n",
       "    visible_index++;\n",
       "    //tableColumns.item(visible_index).style.display = \"block\";\n",
       "    visibility();\n",
       "};\n",
       "\n",
       "function select_values() {\n",
       "    let selectElements = document.getElementsByClassName('syntax_choice');\n",
       "    //let selectValues = selectElements.options[selectElements.selectedIndex].text;\n",
       "    let selectValues = [];\n",
       "    for (let i = 0; i < selectElements.length; i=i+2) {\n",
       "        let thing = {};\n",
       "        thing['id'] = i/2 + 1;\n",
       "        if (isNaN(parseInt(selectElements[i].options[selectElements[i].selectedIndex].text[0]))) {\n",
       "            thing['head'] = selectElements[i + 1].options[selectElements[i + 1].selectedIndex].text[0];\n",
       "            thing['deprel'] = selectElements[i].options[selectElements[i].selectedIndex].text;\n",
       "        } else {\n",
       "            thing['head'] = selectElements[i].options[selectElements[i].selectedIndex].text[0];\n",
       "            thing['deprel'] = selectElements[i + 1].options[selectElements[i + 1].selectedIndex].text;\n",
       "        }\n",
       "        console.log(thing);\n",
       "        selectValues.push(JSON.stringify(thing));\n",
       "    }\n",
       "    console.log(selectElements);\n",
       "    console.log(selectValues);\n",
       "    return selectValues;\n",
       "}\n",
       "\n",
       "let saved_list = {};\n",
       "\n",
       "document.getElementById('save').onclick = function () {\n",
       "    let export_values = select_values();\n",
       "    console.log(export_values);\n",
       "    let command = \"dropdown_values = '\" + export_values + \"'\";\n",
       "    /*if (saved_list.length > visible_index) {\n",
       "        saved_list[visible_index] = export_values;\n",
       "    } else {\n",
       "        saved_list.push(export_values);\n",
       "    }*/\n",
       "    saved_list[visible_index] = export_values;\n",
       "    console.log(saved_list);\n",
       "    //console.log(\"Executing Command: \" + command);\n",
       "    let commandtest = \"all_values = \" + JSON.stringify(saved_list);\n",
       "    var kernel = IPython.notebook.kernel;\n",
       "    // the corresponding commands are executed in the kernel\n",
       "    //kernel.execute(command);\n",
       "    kernel.execute(commandtest);\n",
       "    console.log(commandtest);\n",
       "    // enable jupyter keyboard shortcuts again\n",
       "    Jupyter.keyboard_manager.enable()\n",
       "};</script><button type=\"button\" id=\"save\">save</button><button type=\"button\" id=\"previous\">previous</button><button type=\"button\" id=\"next\">next</button>"
      ]
     },
     "metadata": {},
     "output_type": "display_data"
    }
   ],
   "source": [
    "display(layers=[textgold.gold, textmalt.malt],text=textmalt)"
   ]
  },
  {
   "cell_type": "code",
   "execution_count": 20,
   "metadata": {},
   "outputs": [
    {
     "data": {
      "text/plain": [
       "{'0': ['{\"id\":1,\"head\":\"3\",\"deprel\":\"@ADVL\"}',\n",
       "  '{\"id\":2,\"head\":\"3\",\"deprel\":\"@FCV\"}',\n",
       "  '{\"id\":3,\"head\":\"0\",\"deprel\":\"ROOT\"}',\n",
       "  '{\"id\":4,\"head\":\"5\",\"deprel\":\"\"}',\n",
       "  '{\"id\":5,\"head\":\"3\",\"deprel\":\"@SUBJ\"}',\n",
       "  '{\"id\":6,\"head\":\"5\",\"deprel\":\"@<Q\"}',\n",
       "  '{\"id\":7,\"head\":\"6\",\"deprel\":\"@<Q\"}',\n",
       "  '{\"id\":8,\"head\":\"1\",\"deprel\":\"@J\"}',\n",
       "  '{\"id\":9,\"head\":\"1\",\"deprel\":\"\"}',\n",
       "  '{\"id\":10,\"head\":\"5\",\"deprel\":\"@SUBJ\"}',\n",
       "  '{\"id\":11,\"head\":\"1\",\"deprel\":\"@<Q\"}',\n",
       "  '{\"id\":12,\"head\":\"1\",\"deprel\":\"@<Q\"}',\n",
       "  '{\"id\":13,\"head\":\"1\",\"deprel\":\"@Punc\"}'],\n",
       " '1': ['{\"id\":1,\"head\":\"3\",\"deprel\":\"@P>\"}',\n",
       "  '{\"id\":2,\"head\":\"1\",\"deprel\":\"@<Q\"}',\n",
       "  '{\"id\":3,\"head\":\"4\",\"deprel\":\"@ADVL\"}',\n",
       "  '{\"id\":4,\"head\":\"0\",\"deprel\":\"ROOT\"}',\n",
       "  '{\"id\":5,\"head\":\"4\",\"deprel\":\"@SUBJ\"}',\n",
       "  '{\"id\":6,\"head\":\"@\",\"deprel\":\"\"}',\n",
       "  '{\"id\":7,\"head\":\"4\",\"deprel\":\"@PRD\"}',\n",
       "  '{\"id\":8,\"head\":\"7\",\"deprel\":\"@Punc\"}'],\n",
       " '2': ['{\"id\":1,\"head\":\"8\",\"deprel\":\"@ADVL\"}',\n",
       "  '{\"id\":2,\"head\":\"8\",\"deprel\":\"@FCV\"}',\n",
       "  '{\"id\":3,\"head\":\"8\",\"deprel\":\"\"}',\n",
       "  '{\"id\":4,\"head\":\"5\",\"deprel\":\"@AN>\"}',\n",
       "  '{\"id\":5,\"head\":\"6\",\"deprel\":\"@P>\"}',\n",
       "  '{\"id\":6,\"head\":\"8\",\"deprel\":\"@ADVL\"}',\n",
       "  '{\"id\":7,\"head\":\"8\",\"deprel\":\"@Vpart\"}',\n",
       "  '{\"id\":8,\"head\":\"0\",\"deprel\":\"ROOT\"}',\n",
       "  '{\"id\":9,\"head\":\"8\",\"deprel\":\"@Punc\"}']}"
      ]
     },
     "execution_count": 20,
     "metadata": {},
     "output_type": "execute_result"
    }
   ],
   "source": [
    "all_values"
   ]
  },
  {
   "cell_type": "code",
   "execution_count": null,
   "metadata": {
    "scrolled": true
   },
   "outputs": [],
   "source": [
    "dropdown_values\n",
    "#display_html(joint_table([textgold.gold, textmalt.malt], attributes, deprel, textmalt), raw = True)"
   ]
  },
  {
   "cell_type": "code",
   "execution_count": null,
   "metadata": {},
   "outputs": [],
   "source": [
    "display.saved_list"
   ]
  },
  {
   "cell_type": "code",
   "execution_count": null,
   "metadata": {},
   "outputs": [],
   "source": [
    "text = conll_to_text(file='data/test_gold.conll', syntax_layer='test')"
   ]
  },
  {
   "cell_type": "code",
   "execution_count": null,
   "metadata": {},
   "outputs": [],
   "source": [
    "text.test['head'][2]"
   ]
  },
  {
   "cell_type": "code",
   "execution_count": null,
   "metadata": {},
   "outputs": [],
   "source": [
    "#display_html(tables([text.test, text.test], attributes, deprel, text), raw = True)\n",
    "display(layers=[text.test, text.test],text=text)"
   ]
  }
 ],
 "metadata": {
  "kernelspec": {
   "display_name": "Python 3",
   "language": "python",
   "name": "python3"
  },
  "language_info": {
   "codemirror_mode": {
    "name": "ipython",
    "version": 3
   },
   "file_extension": ".py",
   "mimetype": "text/x-python",
   "name": "python",
   "nbconvert_exporter": "python",
   "pygments_lexer": "ipython3",
   "version": "3.5.6"
  }
 },
 "nbformat": 4,
 "nbformat_minor": 2
}
