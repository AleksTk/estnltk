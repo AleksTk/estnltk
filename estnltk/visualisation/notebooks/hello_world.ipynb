{
 "cells": [
  {
   "cell_type": "code",
   "execution_count": 1,
   "metadata": {},
   "outputs": [],
   "source": [
    "%load_ext autoreload\n",
    "%autoreload 2"
   ]
  },
  {
   "cell_type": "code",
   "execution_count": 2,
   "metadata": {},
   "outputs": [],
   "source": [
    "from estnltk.tests import new_text"
   ]
  },
  {
   "cell_type": "code",
   "execution_count": 3,
   "metadata": {},
   "outputs": [],
   "source": [
    "from estnltk.visualisation.core.prettyprinter import decompose_to_elementary_spans\n",
    "elementary_spans = decompose_to_elementary_spans(new_text(5).layer_1,new_text(5).text)"
   ]
  },
  {
   "cell_type": "code",
   "execution_count": 4,
   "metadata": {},
   "outputs": [],
   "source": [
    "from estnltk.visualisation.span_visualiser.fancy_span_visualisation import DisplaySpans\n",
    "\n",
    "display = DisplaySpans(styling=\"indirect\")"
   ]
  },
  {
   "cell_type": "code",
   "execution_count": 5,
   "metadata": {
    "scrolled": true
   },
   "outputs": [
    {
     "data": {
      "text/html": [
       "<script>\n",
       "var elements = document.getElementsByClassName(\"overlapping-span\")\n",
       "for (let i = 0; i < elements.length; i++){\n",
       "    elements.item(i).addEventListener(\"click\",function() {show_conflicting_spans(elements.item(i));})}\n",
       "\n",
       "function show_conflicting_spans(span_element) {\n",
       "    let spantable = document.createElement('div')\n",
       "    spantable.classList.add('tables')\n",
       "\n",
       "    // Prepare the contents of the span table\n",
       "    data = span_element.getAttribute(\"span_info\")\n",
       "    data = data.split(\",\")\n",
       "    var spancontent = '<table>'\n",
       "    for (let row of data) {\n",
       "        spancontent+='<tr><td>'\n",
       "        spancontent+=row\n",
       "        spancontent+='</td></tr>'\n",
       "    }\n",
       "    spancontent += '</table>'\n",
       "    spantable.innerHTML = spancontent\n",
       "    span_element.parentElement.appendChild(spantable)\n",
       "\n",
       "    // Increase the size of the cell so the tables would fit\n",
       "    spantable.parentElement.style.height = Math.max(Number(spantable.parentElement.style.height.substring(0,spantable.parentElement.style.height.length-2)),span_element.offsetTop+90)+ 'px'\n",
       "    // Position the table directly below the corresponding text\n",
       "    spantable.style.left = span_element.getBoundingClientRect().left-spantable.parentElement.parentElement.getBoundingClientRect().left + 'px'\n",
       "    spantable.style.top = span_element.getBoundingClientRect().top-spantable.parentElement.parentElement.getBoundingClientRect().top+20+ 'px'\n",
       "\n",
       "    // Remove the table when clicked on again\n",
       "    spantable.addEventListener('click', function () {\n",
       "        let element = this.parentElement\n",
       "        element.removeChild(this)\n",
       "    })\n",
       "}\n",
       "</script><style>\n",
       ".span {\n",
       "    background-color: yellow;\n",
       "}\n",
       "\n",
       ".overlapping-span {\n",
       "    background-color: red;\n",
       "}\n",
       "\n",
       ".spanline {\n",
       "    background-color: blue;\n",
       "    position: relative;\n",
       "    height: 3px;\n",
       "    margin-left: 0px;\n",
       "}\n",
       "\n",
       ".tables {\n",
       "    position: absolute;\n",
       "    width: fit-content;\n",
       "    width: -moz-fit-content;\n",
       "    border: 1px solid black;\n",
       "}\n",
       "\n",
       ".maintext{0} {\n",
       "    position: relative;\n",
       "}\n",
       "\n",
       ".tables tbody tr:nth-child(even) {\n",
       "    background-color: lightgray;\n",
       "}\n",
       "\n",
       ".tables tbody tr:nth-child(odd) {\n",
       "    background-color: beige;\n",
       "}\n",
       "\n",
       ".tables tbody tr:hover {\n",
       "    background-color: ivory;\n",
       "}\n",
       "</style><span span_info=Sada>Sada</span> <span span_info=kaks,kakskümmend>kaks</span><span span_info=kakskümmend,kümme>kümme</span><span span_info=kakskümmend>nd</span> <span span_info=kolm>kolm</span>. <span span_info=Neli>Neli</span> <span span_info=tuhat>tuhat</span> <span span_info=viis,viissada>viis</span><span span_info=viissada,sada>sada</span> <span span_info=kuus,kuuskümmend>kuus</span><span span_info=kuuskümmend,kümme>kümme</span><span span_info=kuuskümmend>nd</span> <span span_info=seitse>seitse</span> <span span_info=koma>koma</span> <span span_info=kaheksa>kaheksa</span>. <span span_info=Üheksa,Üheksakümmend>Üheksa</span><span span_info=Üheksakümmend,kümme>kümme</span><span span_info=Üheksakümmend>nd</span> tuhat."
      ]
     },
     "metadata": {},
     "output_type": "display_data"
    }
   ],
   "source": [
    "display(new_text(5).layer_1)"
   ]
  },
  {
   "cell_type": "code",
   "execution_count": 6,
   "metadata": {
    "scrolled": true
   },
   "outputs": [],
   "source": [
    "display.update_css(\"../span_visualiser/prettyprinter.css\")"
   ]
  },
  {
   "cell_type": "code",
   "execution_count": 7,
   "metadata": {},
   "outputs": [],
   "source": [
    "def class_mapper(segment):\n",
    "    if len(segment[1]) > 1:\n",
    "        return \"overlapping-span\"\n",
    "    return \"span\""
   ]
  },
  {
   "cell_type": "code",
   "execution_count": 8,
   "metadata": {
    "scrolled": true
   },
   "outputs": [],
   "source": [
    "def update_class_mapper(class_mapper, css=None):\n",
    "    if css is not None:\n",
    "        css = css\n",
    "    elif class_mapper.css is not None:\n",
    "        css = class_mapper.css\n",
    "\n",
    "def update_css (css_file):\n",
    "    css = css_file"
   ]
  },
  {
   "cell_type": "code",
   "execution_count": 9,
   "metadata": {},
   "outputs": [],
   "source": [
    "display.span_decorator.class_mapping=class_mapper"
   ]
  },
  {
   "cell_type": "code",
   "execution_count": 10,
   "metadata": {
    "scrolled": true
   },
   "outputs": [
    {
     "data": {
      "text/html": [
       "<script>\n",
       "var elements = document.getElementsByClassName(\"overlapping-span\")\n",
       "for (let i = 0; i < elements.length; i++){\n",
       "    elements.item(i).addEventListener(\"click\",function() {show_conflicting_spans(elements.item(i));})}\n",
       "\n",
       "function show_conflicting_spans(span_element) {\n",
       "    let spantable = document.createElement('div')\n",
       "    spantable.classList.add('tables')\n",
       "\n",
       "    // Prepare the contents of the span table\n",
       "    data = span_element.getAttribute(\"span_info\")\n",
       "    data = data.split(\",\")\n",
       "    var spancontent = '<table>'\n",
       "    for (let row of data) {\n",
       "        spancontent+='<tr><td>'\n",
       "        spancontent+=row\n",
       "        spancontent+='</td></tr>'\n",
       "    }\n",
       "    spancontent += '</table>'\n",
       "    spantable.innerHTML = spancontent\n",
       "    span_element.parentElement.appendChild(spantable)\n",
       "\n",
       "    // Increase the size of the cell so the tables would fit\n",
       "    spantable.parentElement.style.height = Math.max(Number(spantable.parentElement.style.height.substring(0,spantable.parentElement.style.height.length-2)),span_element.offsetTop+90)+ 'px'\n",
       "    // Position the table directly below the corresponding text\n",
       "    spantable.style.left = span_element.getBoundingClientRect().left-spantable.parentElement.parentElement.getBoundingClientRect().left + 'px'\n",
       "    spantable.style.top = span_element.getBoundingClientRect().top-spantable.parentElement.parentElement.getBoundingClientRect().top+20+ 'px'\n",
       "\n",
       "    // Remove the table when clicked on again\n",
       "    spantable.addEventListener('click', function () {\n",
       "        let element = this.parentElement\n",
       "        element.removeChild(this)\n",
       "    })\n",
       "}\n",
       "</script><style>\n",
       ".span {\n",
       "    background-color: yellow;\n",
       "}\n",
       "\n",
       ".overlapping-span {\n",
       "    background-color: red;\n",
       "}\n",
       "\n",
       ".spanline {\n",
       "    background-color: blue;\n",
       "    position: relative;\n",
       "    height: 3px;\n",
       "    margin-left: 0px;\n",
       "}\n",
       "\n",
       ".tables {\n",
       "    position: absolute;\n",
       "    width: fit-content;\n",
       "    width: -moz-fit-content;\n",
       "    border: 1px solid black;\n",
       "}\n",
       "\n",
       ".maintext{0} {\n",
       "    position: relative;\n",
       "}\n",
       "\n",
       ".tables tbody tr:nth-child(even) {\n",
       "    background-color: lightgray;\n",
       "}\n",
       "\n",
       ".tables tbody tr:nth-child(odd) {\n",
       "    background-color: beige;\n",
       "}\n",
       "\n",
       ".tables tbody tr:hover {\n",
       "    background-color: ivory;\n",
       "}\n",
       "</style><span span_info=Sada class=span >Sada</span> <span span_info=kaks,kakskümmend class=overlapping-span >kaks</span><span span_info=kakskümmend,kümme class=overlapping-span >kümme</span><span span_info=kakskümmend class=span >nd</span> <span span_info=kolm class=span >kolm</span>. <span span_info=Neli class=span >Neli</span> <span span_info=tuhat class=span >tuhat</span> <span span_info=viis,viissada class=overlapping-span >viis</span><span span_info=viissada,sada class=overlapping-span >sada</span> <span span_info=kuus,kuuskümmend class=overlapping-span >kuus</span><span span_info=kuuskümmend,kümme class=overlapping-span >kümme</span><span span_info=kuuskümmend class=span >nd</span> <span span_info=seitse class=span >seitse</span> <span span_info=koma class=span >koma</span> <span span_info=kaheksa class=span >kaheksa</span>. <span span_info=Üheksa,Üheksakümmend class=overlapping-span >Üheksa</span><span span_info=Üheksakümmend,kümme class=overlapping-span >kümme</span><span span_info=Üheksakümmend class=span >nd</span> tuhat."
      ]
     },
     "metadata": {},
     "output_type": "display_data"
    }
   ],
   "source": [
    "display(new_text(5).layer_1)"
   ]
  },
  {
   "cell_type": "code",
   "execution_count": 11,
   "metadata": {},
   "outputs": [
    {
     "data": {
      "text/html": [
       "<script>\n",
       "var elements = document.getElementsByClassName(\"overlapping-span\")\n",
       "for (let i = 0; i < elements.length; i++){\n",
       "    elements.item(i).addEventListener(\"click\",function() {show_conflicting_spans(elements.item(i));})}\n",
       "\n",
       "function show_conflicting_spans(span_element) {\n",
       "    let spantable = document.createElement('div')\n",
       "    spantable.classList.add('tables')\n",
       "\n",
       "    // Prepare the contents of the span table\n",
       "    data = span_element.getAttribute(\"span_info\")\n",
       "    data = data.split(\",\")\n",
       "    var spancontent = '<table>'\n",
       "    for (let row of data) {\n",
       "        spancontent+='<tr><td>'\n",
       "        spancontent+=row\n",
       "        spancontent+='</td></tr>'\n",
       "    }\n",
       "    spancontent += '</table>'\n",
       "    spantable.innerHTML = spancontent\n",
       "    span_element.parentElement.appendChild(spantable)\n",
       "\n",
       "    // Increase the size of the cell so the tables would fit\n",
       "    spantable.parentElement.style.height = Math.max(Number(spantable.parentElement.style.height.substring(0,spantable.parentElement.style.height.length-2)),span_element.offsetTop+90)+ 'px'\n",
       "    // Position the table directly below the corresponding text\n",
       "    spantable.style.left = span_element.getBoundingClientRect().left-spantable.parentElement.parentElement.getBoundingClientRect().left + 'px'\n",
       "    spantable.style.top = span_element.getBoundingClientRect().top-spantable.parentElement.parentElement.getBoundingClientRect().top+20+ 'px'\n",
       "\n",
       "    // Remove the table when clicked on again\n",
       "    spantable.addEventListener('click', function () {\n",
       "        let element = this.parentElement\n",
       "        element.removeChild(this)\n",
       "    })\n",
       "}\n",
       "</script><style>\n",
       ".span {\n",
       "    background-color: yellow;\n",
       "}\n",
       "\n",
       ".overlapping-span {\n",
       "    background-color: red;\n",
       "}\n",
       "\n",
       ".spanline {\n",
       "    background-color: blue;\n",
       "    position: relative;\n",
       "    height: 3px;\n",
       "    margin-left: 0px;\n",
       "}\n",
       "\n",
       ".tables {\n",
       "    position: absolute;\n",
       "    width: fit-content;\n",
       "    width: -moz-fit-content;\n",
       "    border: 1px solid black;\n",
       "}\n",
       "\n",
       ".maintext{0} {\n",
       "    position: relative;\n",
       "}\n",
       "\n",
       ".tables tbody tr:nth-child(even) {\n",
       "    background-color: lightgray;\n",
       "}\n",
       "\n",
       ".tables tbody tr:nth-child(odd) {\n",
       "    background-color: beige;\n",
       "}\n",
       "\n",
       ".tables tbody tr:hover {\n",
       "    background-color: ivory;\n",
       "}\n",
       "</style><span span_info=Tere class=span >Tere</span><span span_info=, class=span >,</span> <span span_info=maailm class=span >maailm</span><span span_info=! class=span >!</span>"
      ]
     },
     "metadata": {},
     "output_type": "display_data"
    }
   ],
   "source": [
    "display(new_text(3).layer_1)"
   ]
  },
  {
   "cell_type": "code",
   "execution_count": 12,
   "metadata": {},
   "outputs": [],
   "source": [
    "from estnltk.visualisation.span_visualiser.fancy_span_visualisation import DisplaySpans\n",
    "\n",
    "display = DisplaySpans()"
   ]
  },
  {
   "cell_type": "code",
   "execution_count": 13,
   "metadata": {},
   "outputs": [
    {
     "data": {
      "text/html": [
       "<script>\n",
       "var elements = document.getElementsByClassName(\"overlapping-span\")\n",
       "for (let i = 0; i < elements.length; i++){\n",
       "    elements.item(i).addEventListener(\"click\",function() {show_conflicting_spans(elements.item(i));})}\n",
       "\n",
       "function show_conflicting_spans(span_element) {\n",
       "    let spantable = document.createElement('div')\n",
       "    spantable.classList.add('tables')\n",
       "\n",
       "    // Prepare the contents of the span table\n",
       "    data = span_element.getAttribute(\"span_info\")\n",
       "    data = data.split(\",\")\n",
       "    var spancontent = '<table>'\n",
       "    for (let row of data) {\n",
       "        spancontent+='<tr><td>'\n",
       "        spancontent+=row\n",
       "        spancontent+='</td></tr>'\n",
       "    }\n",
       "    spancontent += '</table>'\n",
       "    spantable.innerHTML = spancontent\n",
       "    span_element.parentElement.appendChild(spantable)\n",
       "\n",
       "    // Increase the size of the cell so the tables would fit\n",
       "    spantable.parentElement.style.height = Math.max(Number(spantable.parentElement.style.height.substring(0,spantable.parentElement.style.height.length-2)),span_element.offsetTop+90)+ 'px'\n",
       "    // Position the table directly below the corresponding text\n",
       "    spantable.style.left = span_element.getBoundingClientRect().left-spantable.parentElement.parentElement.getBoundingClientRect().left + 'px'\n",
       "    spantable.style.top = span_element.getBoundingClientRect().top-spantable.parentElement.parentElement.getBoundingClientRect().top+20+ 'px'\n",
       "\n",
       "    // Remove the table when clicked on again\n",
       "    spantable.addEventListener('click', function () {\n",
       "        let element = this.parentElement\n",
       "        element.removeChild(this)\n",
       "    })\n",
       "}\n",
       "</script><span style=background:yellow;>Sada</span> <span style=background:red; class=overlapping-span  span_info=kaks,kakskümmend>kaks</span><span style=background:red; class=overlapping-span  span_info=kakskümmend,kümme>kümme</span><span style=background:yellow;>nd</span> <span style=background:yellow;>kolm</span>. <span style=background:yellow;>Neli</span> <span style=background:yellow;>tuhat</span> <span style=background:red; class=overlapping-span  span_info=viis,viissada>viis</span><span style=background:red; class=overlapping-span  span_info=viissada,sada>sada</span> <span style=background:red; class=overlapping-span  span_info=kuus,kuuskümmend>kuus</span><span style=background:red; class=overlapping-span  span_info=kuuskümmend,kümme>kümme</span><span style=background:yellow;>nd</span> <span style=background:yellow;>seitse</span> <span style=background:yellow;>koma</span> <span style=background:yellow;>kaheksa</span>. <span style=background:red; class=overlapping-span  span_info=Üheksa,Üheksakümmend>Üheksa</span><span style=background:red; class=overlapping-span  span_info=Üheksakümmend,kümme>kümme</span><span style=background:yellow;>nd</span> tuhat."
      ]
     },
     "metadata": {},
     "output_type": "display_data"
    }
   ],
   "source": [
    "display(new_text(5).layer_1)"
   ]
  },
  {
   "cell_type": "code",
   "execution_count": null,
   "metadata": {},
   "outputs": [],
   "source": []
  },
  {
   "cell_type": "code",
   "execution_count": 14,
   "metadata": {},
   "outputs": [],
   "source": [
    "display = DisplaySpans(styling=\"indirect\")\n",
    "result = display.html_output(new_text(5).layer_1)"
   ]
  },
  {
   "cell_type": "code",
   "execution_count": 15,
   "metadata": {
    "scrolled": false
   },
   "outputs": [
    {
     "data": {
      "text/plain": [
       "'<script>\\nvar elements = document.getElementsByClassName(\"overlapping-span\")\\nfor (let i = 0; i < elements.length; i++){\\n    elements.item(i).addEventListener(\"click\",function() {show_conflicting_spans(elements.item(i));})}\\n\\nfunction show_conflicting_spans(span_element) {\\n    let spantable = document.createElement(\\'div\\')\\n    spantable.classList.add(\\'tables\\')\\n\\n    // Prepare the contents of the span table\\n    data = span_element.getAttribute(\"span_info\")\\n    data = data.split(\",\")\\n    var spancontent = \\'<table>\\'\\n    for (let row of data) {\\n        spancontent+=\\'<tr><td>\\'\\n        spancontent+=row\\n        spancontent+=\\'</td></tr>\\'\\n    }\\n    spancontent += \\'</table>\\'\\n    spantable.innerHTML = spancontent\\n    span_element.parentElement.appendChild(spantable)\\n\\n    // Increase the size of the cell so the tables would fit\\n    spantable.parentElement.style.height = Math.max(Number(spantable.parentElement.style.height.substring(0,spantable.parentElement.style.height.length-2)),span_element.offsetTop+90)+ \\'px\\'\\n    // Position the table directly below the corresponding text\\n    spantable.style.left = span_element.getBoundingClientRect().left-spantable.parentElement.parentElement.getBoundingClientRect().left + \\'px\\'\\n    spantable.style.top = span_element.getBoundingClientRect().top-spantable.parentElement.parentElement.getBoundingClientRect().top+20+ \\'px\\'\\n\\n    // Remove the table when clicked on again\\n    spantable.addEventListener(\\'click\\', function () {\\n        let element = this.parentElement\\n        element.removeChild(this)\\n    })\\n}\\n</script><style>\\n.span {\\n    background-color: yellow;\\n}\\n\\n.overlapping-span {\\n    background-color: red;\\n}\\n\\n.spanline {\\n    background-color: blue;\\n    position: relative;\\n    height: 3px;\\n    margin-left: 0px;\\n}\\n\\n.tables {\\n    position: absolute;\\n    width: fit-content;\\n    width: -moz-fit-content;\\n    border: 1px solid black;\\n}\\n\\n.maintext{0} {\\n    position: relative;\\n}\\n\\n.tables tbody tr:nth-child(even) {\\n    background-color: lightgray;\\n}\\n\\n.tables tbody tr:nth-child(odd) {\\n    background-color: beige;\\n}\\n\\n.tables tbody tr:hover {\\n    background-color: ivory;\\n}\\n</style><span span_info=Sada>Sada</span> <span span_info=kaks,kakskümmend>kaks</span><span span_info=kakskümmend,kümme>kümme</span><span span_info=kakskümmend>nd</span> <span span_info=kolm>kolm</span>. <span span_info=Neli>Neli</span> <span span_info=tuhat>tuhat</span> <span span_info=viis,viissada>viis</span><span span_info=viissada,sada>sada</span> <span span_info=kuus,kuuskümmend>kuus</span><span span_info=kuuskümmend,kümme>kümme</span><span span_info=kuuskümmend>nd</span> <span span_info=seitse>seitse</span> <span span_info=koma>koma</span> <span span_info=kaheksa>kaheksa</span>. <span span_info=Üheksa,Üheksakümmend>Üheksa</span><span span_info=Üheksakümmend,kümme>kümme</span><span span_info=Üheksakümmend>nd</span> tuhat.'"
      ]
     },
     "execution_count": 15,
     "metadata": {},
     "output_type": "execute_result"
    }
   ],
   "source": [
    "result"
   ]
  },
  {
   "cell_type": "code",
   "execution_count": 16,
   "metadata": {},
   "outputs": [],
   "source": [
    "from estnltk import Text"
   ]
  },
  {
   "cell_type": "code",
   "execution_count": 17,
   "metadata": {
    "scrolled": true
   },
   "outputs": [],
   "source": [
    "tekst = Text(\"mis \\n mis\")"
   ]
  },
  {
   "cell_type": "code",
   "execution_count": 18,
   "metadata": {},
   "outputs": [
    {
     "data": {
      "text/html": [
       "<table border=\"1\" class=\"dataframe\">\n",
       "  <thead>\n",
       "    <tr style=\"text-align: right;\">\n",
       "      <th>text</th>\n",
       "    </tr>\n",
       "  </thead>\n",
       "  <tbody>\n",
       "    <tr>\n",
       "      <td><div align = \"left\">mis </br> mis</div></td>\n",
       "    </tr>\n",
       "  </tbody>\n",
       "</table>\n",
       "<table border=\"1\" class=\"dataframe\">\n",
       "  <thead>\n",
       "    <tr style=\"text-align: right;\">\n",
       "      <th>layer name</th>\n",
       "      <th>attributes</th>\n",
       "      <th>parent</th>\n",
       "      <th>enveloping</th>\n",
       "      <th>ambiguous</th>\n",
       "      <th>span count</th>\n",
       "    </tr>\n",
       "  </thead>\n",
       "  <tbody>\n",
       "    <tr>\n",
       "      <td>sentences</td>\n",
       "      <td></td>\n",
       "      <td>None</td>\n",
       "      <td>words</td>\n",
       "      <td>False</td>\n",
       "      <td>1</td>\n",
       "    </tr>\n",
       "    <tr>\n",
       "      <td>tokens</td>\n",
       "      <td></td>\n",
       "      <td>None</td>\n",
       "      <td>None</td>\n",
       "      <td>False</td>\n",
       "      <td>2</td>\n",
       "    </tr>\n",
       "    <tr>\n",
       "      <td>compound_tokens</td>\n",
       "      <td>type, normalized</td>\n",
       "      <td>None</td>\n",
       "      <td>tokens</td>\n",
       "      <td>False</td>\n",
       "      <td>0</td>\n",
       "    </tr>\n",
       "    <tr>\n",
       "      <td>words</td>\n",
       "      <td>normalized_form</td>\n",
       "      <td>None</td>\n",
       "      <td>None</td>\n",
       "      <td>False</td>\n",
       "      <td>2</td>\n",
       "    </tr>\n",
       "    <tr>\n",
       "      <td>morph_analysis</td>\n",
       "      <td>lemma, root, root_tokens, ending, clitic, form, partofspeech</td>\n",
       "      <td>words</td>\n",
       "      <td>None</td>\n",
       "      <td>True</td>\n",
       "      <td>2</td>\n",
       "    </tr>\n",
       "  </tbody>\n",
       "</table>"
      ],
      "text/plain": [
       "Text(text='mis \\n mis')"
      ]
     },
     "execution_count": 18,
     "metadata": {},
     "output_type": "execute_result"
    }
   ],
   "source": [
    "tekst.tag_layer()"
   ]
  },
  {
   "cell_type": "code",
   "execution_count": 19,
   "metadata": {
    "scrolled": true
   },
   "outputs": [
    {
     "name": "stdout",
     "output_type": "stream",
     "text": [
      "['mis', 'mis']\n",
      "['mis', 'mis']\n"
     ]
    }
   ],
   "source": [
    "for a in tekst.morph_analysis.lemma:\n",
    "    print(a)"
   ]
  },
  {
   "cell_type": "code",
   "execution_count": 20,
   "metadata": {},
   "outputs": [
    {
     "data": {
      "text/html": [
       "<h4>AmbiguousAttributeList</h4>\n",
       "<table border=\"1\" class=\"dataframe\">\n",
       "  <thead>\n",
       "    <tr style=\"text-align: right;\">\n",
       "      <th></th>\n",
       "      <th>lemma</th>\n",
       "    </tr>\n",
       "  </thead>\n",
       "  <tbody>\n",
       "    <tr>\n",
       "      <td>0</td>\n",
       "      <td>mis</td>\n",
       "    </tr>\n",
       "    <tr>\n",
       "      <td></td>\n",
       "      <td>mis</td>\n",
       "    </tr>\n",
       "    <tr>\n",
       "      <td>1</td>\n",
       "      <td>mis</td>\n",
       "    </tr>\n",
       "    <tr>\n",
       "      <td></td>\n",
       "      <td>mis</td>\n",
       "    </tr>\n",
       "  </tbody>\n",
       "</table>"
      ],
      "text/plain": [
       "AmbiguousAttributeList([['mis', 'mis'], ['mis', 'mis']], ('lemma',))"
      ]
     },
     "execution_count": 20,
     "metadata": {},
     "output_type": "execute_result"
    }
   ],
   "source": [
    "tekst.morph_analysis.lemma"
   ]
  },
  {
   "cell_type": "code",
   "execution_count": 21,
   "metadata": {},
   "outputs": [
    {
     "data": {
      "text/html": [
       "<script>\n",
       "var elements = document.getElementsByClassName(\"overlapping-span\")\n",
       "for (let i = 0; i < elements.length; i++){\n",
       "    elements.item(i).addEventListener(\"click\",function() {show_conflicting_spans(elements.item(i));})}\n",
       "\n",
       "function show_conflicting_spans(span_element) {\n",
       "    let spantable = document.createElement('div')\n",
       "    spantable.classList.add('tables')\n",
       "\n",
       "    // Prepare the contents of the span table\n",
       "    data = span_element.getAttribute(\"span_info\")\n",
       "    data = data.split(\",\")\n",
       "    var spancontent = '<table>'\n",
       "    for (let row of data) {\n",
       "        spancontent+='<tr><td>'\n",
       "        spancontent+=row\n",
       "        spancontent+='</td></tr>'\n",
       "    }\n",
       "    spancontent += '</table>'\n",
       "    spantable.innerHTML = spancontent\n",
       "    span_element.parentElement.appendChild(spantable)\n",
       "\n",
       "    // Increase the size of the cell so the tables would fit\n",
       "    spantable.parentElement.style.height = Math.max(Number(spantable.parentElement.style.height.substring(0,spantable.parentElement.style.height.length-2)),span_element.offsetTop+90)+ 'px'\n",
       "    // Position the table directly below the corresponding text\n",
       "    spantable.style.left = span_element.getBoundingClientRect().left-spantable.parentElement.parentElement.getBoundingClientRect().left + 'px'\n",
       "    spantable.style.top = span_element.getBoundingClientRect().top-spantable.parentElement.parentElement.getBoundingClientRect().top+20+ 'px'\n",
       "\n",
       "    // Remove the table when clicked on again\n",
       "    spantable.addEventListener('click', function () {\n",
       "        let element = this.parentElement\n",
       "        element.removeChild(this)\n",
       "    })\n",
       "}\n",
       "</script><style>\n",
       ".span {\n",
       "    background-color: yellow;\n",
       "}\n",
       "\n",
       ".overlapping-span {\n",
       "    background-color: red;\n",
       "}\n",
       "\n",
       ".spanline {\n",
       "    background-color: blue;\n",
       "    position: relative;\n",
       "    height: 3px;\n",
       "    margin-left: 0px;\n",
       "}\n",
       "\n",
       ".tables {\n",
       "    position: absolute;\n",
       "    width: fit-content;\n",
       "    width: -moz-fit-content;\n",
       "    border: 1px solid black;\n",
       "}\n",
       "\n",
       ".maintext{0} {\n",
       "    position: relative;\n",
       "}\n",
       "\n",
       ".tables tbody tr:nth-child(even) {\n",
       "    background-color: lightgray;\n",
       "}\n",
       "\n",
       ".tables tbody tr:nth-child(odd) {\n",
       "    background-color: beige;\n",
       "}\n",
       "\n",
       ".tables tbody tr:hover {\n",
       "    background-color: ivory;\n",
       "}\n",
       "</style><span span_info=mis>mis</span> <br> <span span_info=mis>mis</span>"
      ]
     },
     "metadata": {},
     "output_type": "display_data"
    }
   ],
   "source": [
    "display(tekst.morph_analysis)"
   ]
  },
  {
   "cell_type": "code",
   "execution_count": 22,
   "metadata": {},
   "outputs": [],
   "source": [
    "from estnltk.visualisation.mappers.value_mapper import value_mapper_ambiguous\n",
    "from estnltk.visualisation.core.prettyprinter import decompose_to_elementary_spans\n",
    "\n",
    "def my_best_color_mapper(segment):\n",
    "    return value_mapper_ambiguous(segment, \"attr_1\", {'SADA':\"red\"}, \"blue\", \"green\")"
   ]
  },
  {
   "cell_type": "code",
   "execution_count": 23,
   "metadata": {
    "scrolled": true
   },
   "outputs": [],
   "source": [
    "segment = decompose_to_elementary_spans(new_text(5).layer_1, new_text(5).text)[0]\n",
    "result = my_best_color_mapper(segment)"
   ]
  },
  {
   "cell_type": "code",
   "execution_count": 24,
   "metadata": {},
   "outputs": [
    {
     "data": {
      "text/html": [
       "<table border=\"1\" class=\"dataframe\">\n",
       "  <thead>\n",
       "    <tr style=\"text-align: left;\">\n",
       "      <th>text</th>\n",
       "      <th>start</th>\n",
       "      <th>end</th>\n",
       "      <th>attr</th>\n",
       "      <th>attr_1</th>\n",
       "    </tr>\n",
       "  </thead>\n",
       "  <tbody>\n",
       "    <tr>\n",
       "      <td><span style=\"font-family: monospace; white-space: pre-wrap;\"><span style=\"text-decoration: underline;\">Sada</span></span></td>\n",
       "      <td>0</td>\n",
       "      <td>4</td>\n",
       "      <td>L1-0</td>\n",
       "      <td>SADA</td>\n",
       "    </tr>\n",
       "  </tbody>\n",
       "</table>"
      ],
      "text/plain": [
       "AS[Annotation(Sada, {'attr': 'L1-0', 'attr_1': 'SADA'})]"
      ]
     },
     "execution_count": 24,
     "metadata": {},
     "output_type": "execute_result"
    }
   ],
   "source": [
    "segment[1][0]"
   ]
  },
  {
   "cell_type": "code",
   "execution_count": 25,
   "metadata": {
    "scrolled": true
   },
   "outputs": [
    {
     "data": {
      "text/html": [
       "<table border=\"1\" class=\"dataframe\">\n",
       "  <thead>\n",
       "    <tr style=\"text-align: left;\">\n",
       "      <th>text</th>\n",
       "      <th>start</th>\n",
       "      <th>end</th>\n",
       "      <th>lemma</th>\n",
       "      <th>root</th>\n",
       "      <th>root_tokens</th>\n",
       "      <th>ending</th>\n",
       "      <th>clitic</th>\n",
       "      <th>form</th>\n",
       "      <th>partofspeech</th>\n",
       "    </tr>\n",
       "  </thead>\n",
       "  <tbody>\n",
       "    <tr>\n",
       "      <td><span style=\"font-family: monospace; white-space: pre-wrap;\"><span style=\"text-decoration: underline;\">mis</span></span></td>\n",
       "      <td>0</td>\n",
       "      <td>3</td>\n",
       "      <td>mis</td>\n",
       "      <td>mis</td>\n",
       "      <td>(mis,)</td>\n",
       "      <td>0</td>\n",
       "      <td></td>\n",
       "      <td>pl n</td>\n",
       "      <td>P</td>\n",
       "    </tr>\n",
       "    <tr>\n",
       "      <td></td>\n",
       "      <td>0</td>\n",
       "      <td>3</td>\n",
       "      <td>mis</td>\n",
       "      <td>mis</td>\n",
       "      <td>(mis,)</td>\n",
       "      <td>0</td>\n",
       "      <td></td>\n",
       "      <td>sg n</td>\n",
       "      <td>P</td>\n",
       "    </tr>\n",
       "  </tbody>\n",
       "</table>"
      ]
     },
     "metadata": {},
     "output_type": "display_data"
    }
   ],
   "source": [
    "decompose_to_elementary_spans(tekst.morph_analysis, tekst.text)[0][1][0].display()"
   ]
  },
  {
   "cell_type": "code",
   "execution_count": 26,
   "metadata": {},
   "outputs": [],
   "source": [
    "from estnltk.visualisation.attribute_visualiser.attribute_visualisation import DisplayAttributes\n",
    "\n",
    "display = DisplayAttributes()"
   ]
  },
  {
   "cell_type": "code",
   "execution_count": 27,
   "metadata": {
    "scrolled": true
   },
   "outputs": [
    {
     "data": {
      "text/html": [
       "<style><br>.span {<br>    background-color: yellow;<br>}<br><br>.overlapping-span {<br>    background-color: red;<br>}<br><br>.spanline {<br>    background-color: blue;<br>    position: relative;<br>    height: 3px;<br>    margin-left: 0px;<br>}<br><br>.tables {<br>    position: absolute;<br>    width: fit-content;<br>    width: -moz-fit-content;<br>}<br><br>.tables tbody tr:nth-child(even) {<br>    background-color: lightgray;<br>}<br><br>.tables tbody tr:nth-child(odd) {<br>    background-color: beige;<br>}<br><br>.tables tbody tr:hover {<br>    background-color: ivory;<br>}<br></style><script><br>var elements = document.getElementsByClassName(\"overlapping-span\")<br>for (let i = 0; i < elements.length; i++) {<br>    elements.item(i).addEventListener(\"click\", function () {<br>        show_conflicting_spans(elements.item(i));<br>    })<br>}<br><br>var plain_elements = document.getElementsByClassName(\"span\")<br>for (let i = 0; i < plain_elements.length; i++) {<br>    plain_elements.item(i).addEventListener(\"click\", function () {<br>        attribute_table(plain_elements.item(i));<br>    })<br>}<br><br>function show_conflicting_spans(span_element) {<br>    let spantable = document.createElement('div')<br>    spantable.classList.add('tables')<br><br>    // Prepare the contents of the span table<br>    data = span_element.getAttribute(\"span_info\")<br>    data = data.split(\",\")<br>    console.log(data)<br>    var spancontent = '<table>'<br>    for (let row of data) {<br>        spancontent += '<tr><td>'<br>        spancontent += row<br>        spancontent += '</td></tr>'<br>    }<br>    spancontent += '</table>'<br>    spantable.innerHTML = spancontent<br>    span_element.parentElement.appendChild(spantable)<br><br>    // Increase the size of the cell so the tables would fit<br>    spantable.parentElement.style.height = Math.max(Number(spantable.parentElement.style.height.substring(0, spantable.parentElement.style.height.length - 2)), span_element.offsetTop + 90) + 'px'<br>    // Position the table directly below the corresponding text<br>    spantable.style.left = span_element.getBoundingClientRect().left - spantable.parentElement.parentElement.getBoundingClientRect().left + 'px'<br>    spantable.style.top = span_element.getBoundingClientRect().top - spantable.parentElement.parentElement.getBoundingClientRect().top + 20 + 'px'<br><br>    // Remove the table when clicked on again<br>    spantable.addEventListener('click', function () {<br>        let element = this.parentElement<br>        element.removeChild(this)<br>    })<br>}<br><br>function span_table(span) {<br>    data = span.getAttribute(\"span_info\")<br>    data = data.split(\",\")<br>    var content = '<table>'<br>    for (let row of data) {<br>        content += '<tr><td>'<br>        content += row<br>        content += '</td></tr>'<br>    }<br>    content += '</table>'<br><br>    return content<br>}<br><br>function table_builder(contents) {<br>    var table = '<table>'<br>    for (let i = 0; i < contents.length; i++) {<br>        if (i % 2 === 0) {<br>            table += '<tr><td>'<br>            table += contents[i]<br>            table += '</td>'<br>        } else {<br>            table += '<td>'<br>            table += contents[i]<br>            table += '</td></tr>'<br>        }<br>    }<br>    table += '</table>'<br><br>    return table<br>}<br><br>function attribute_table(span_element) {<br><br>    //extract the attributes from the span info string<br>    var attribute_info = span_element.getAttribute(\"span_info\")<br>    attribute_info = attribute_info.substr(attribute_info.indexOf('{') + 1)<br>    attribute_info = attribute_info.substr(0, attribute_info.indexOf('}'))<br>    var attributes = attribute_info.split(\"'\")<br>    var final_attributes = []<br>    for (let i = 0; i < attributes.length; i++) {<br>        if (i % 2 === 1) {<br>            final_attributes.push(attributes[i])<br>        }<br>    }<br><br>    let spantable = document.createElement('div')<br>    spantable.classList.add('tables')<br>    spantable.innerHTML = table_builder(final_attributes)<br>    span_element.parentElement.appendChild(spantable)<br><br>    // Increase the size of the cell so the tables would fit<br>    spantable.parentElement.style.height = Math.max(Number(spantable.parentElement.style.height.substring(0, spantable.parentElement.style.height.length - 2)), span_element.offsetTop + 200) + 'px'<br>    // Position the table directly below the corresponding text<br>    spantable.style.left = span_element.getBoundingClientRect().left - spantable.parentElement.parentElement.getBoundingClientRect().left + 'px'<br>    spantable.style.top = span_element.getBoundingClientRect().top - spantable.parentElement.parentElement.getBoundingClientRect().top + 20 + 'px'<br><br>    // Remove the table when clicked on again<br>    spantable.addEventListener('click', function () {<br>        let element = this.parentElement<br>        element.removeChild(this)<br>    })<br>}<br><br>JSON.parse(\"{\\\"ambiguous\\\": true, \\\"attributes\\\": [\\\"lemma\\\", \\\"root\\\", \\\"root_tokens\\\", \\\"ending\\\", \\\"clitic\\\", \\\"form\\\", \\\"partofspeech\\\"], \\\"parent\\\": \\\"words\\\", \\\"spans\\\": [[{\\\"lemma\\\": \\\"mis\\\", \\\"root_tokens\\\": [\\\"mis\\\"], \\\"start\\\": 0, \\\"root\\\": \\\"mis\\\", \\\"ending\\\": \\\"0\\\", \\\"partofspeech\\\": \\\"P\\\", \\\"_index_\\\": 0, \\\"form\\\": \\\"pl n\\\", \\\"end\\\": 3, \\\"clitic\\\": \\\"\\\"}, {\\\"lemma\\\": \\\"mis\\\", \\\"root_tokens\\\": [\\\"mis\\\"], \\\"start\\\": 0, \\\"root\\\": \\\"mis\\\", \\\"ending\\\": \\\"0\\\", \\\"partofspeech\\\": \\\"P\\\", \\\"_index_\\\": 0, \\\"form\\\": \\\"sg n\\\", \\\"end\\\": 3, \\\"clitic\\\": \\\"\\\"}], [{\\\"lemma\\\": \\\"mis\\\", \\\"root_tokens\\\": [\\\"mis\\\"], \\\"start\\\": 4, \\\"root\\\": \\\"mis\\\", \\\"ending\\\": \\\"0\\\", \\\"partofspeech\\\": \\\"P\\\", \\\"_index_\\\": 1, \\\"form\\\": \\\"pl n\\\", \\\"end\\\": 7, \\\"clitic\\\": \\\"\\\"}, {\\\"lemma\\\": \\\"mis\\\", \\\"root_tokens\\\": [\\\"mis\\\"], \\\"start\\\": 4, \\\"root\\\": \\\"mis\\\", \\\"ending\\\": \\\"0\\\", \\\"partofspeech\\\": \\\"P\\\", \\\"_index_\\\": 1, \\\"form\\\": \\\"sg n\\\", \\\"end\\\": 7, \\\"clitic\\\": \\\"\\\"}]], \\\"_base\\\": \\\"words\\\", \\\"name\\\": \\\"morph_analysis\\\", \\\"enveloping\\\": null}\")<br>JSON.parse(\"{\\\"ambiguous\\\": true, \\\"attributes\\\": [\\\"attr\\\", \\\"attr_1\\\"], \\\"parent\\\": null, \\\"spans\\\": [[{\\\"end\\\": 4, \\\"attr_1\\\": \\\"SADA\\\", \\\"attr\\\": \\\"L1-0\\\", \\\"start\\\": 0}], [{\\\"end\\\": 9, \\\"attr_1\\\": \\\"KAKS\\\", \\\"attr\\\": \\\"L1-1\\\", \\\"start\\\": 5}], [{\\\"end\\\": 16, \\\"attr_1\\\": \\\"KAKS\\\", \\\"attr\\\": \\\"L1-2\\\", \\\"start\\\": 5}, {\\\"end\\\": 16, \\\"attr_1\\\": \\\"KÃœMME\\\", \\\"attr\\\": \\\"L1-2\\\", \\\"start\\\": 5}, {\\\"end\\\": 16, \\\"attr_1\\\": \\\"KAKSKÃœMMEND\\\", \\\"attr\\\": \\\"L1-2\\\", \\\"start\\\": 5}], [{\\\"end\\\": 14, \\\"attr_1\\\": \\\"KÃœMME\\\", \\\"attr\\\": \\\"L1-3\\\", \\\"start\\\": 9}], [{\\\"end\\\": 21, \\\"attr_1\\\": \\\"KOLM\\\", \\\"attr\\\": \\\"L1-4\\\", \\\"start\\\": 17}], [{\\\"end\\\": 27, \\\"attr_1\\\": \\\"NELI\\\", \\\"attr\\\": \\\"L1-5\\\", \\\"start\\\": 23}], [{\\\"end\\\": 33, \\\"attr_1\\\": \\\"TUHAT\\\", \\\"attr\\\": \\\"L1-6\\\", \\\"start\\\": 28}], [{\\\"end\\\": 38, \\\"attr_1\\\": \\\"VIIS\\\", \\\"attr\\\": \\\"L1-7\\\", \\\"start\\\": 34}], [{\\\"end\\\": 42, \\\"attr_1\\\": \\\"SADA\\\", \\\"attr\\\": \\\"L1-8\\\", \\\"start\\\": 34}, {\\\"end\\\": 42, \\\"attr_1\\\": \\\"VIIS\\\", \\\"attr\\\": \\\"L1-8\\\", \\\"start\\\": 34}, {\\\"end\\\": 42, \\\"attr_1\\\": \\\"VIISSADA\\\", \\\"attr\\\": \\\"L1-8\\\", \\\"start\\\": 34}], [{\\\"end\\\": 42, \\\"attr_1\\\": \\\"SADA\\\", \\\"attr\\\": \\\"L1-9\\\", \\\"start\\\": 38}], [{\\\"end\\\": 47, \\\"attr_1\\\": \\\"KUUS\\\", \\\"attr\\\": \\\"L1-10\\\", \\\"start\\\": 43}], [{\\\"end\\\": 54, \\\"attr_1\\\": \\\"KUUS\\\", \\\"attr\\\": \\\"L1-11\\\", \\\"start\\\": 43}, {\\\"end\\\": 54, \\\"attr_1\\\": \\\"KÃœMME\\\", \\\"attr\\\": \\\"L1-11\\\", \\\"start\\\": 43}, {\\\"end\\\": 54, \\\"attr_1\\\": \\\"KUUSKÃœMMEND\\\", \\\"attr\\\": \\\"L1-11\\\", \\\"start\\\": 43}], [{\\\"end\\\": 52, \\\"attr_1\\\": \\\"KÃœMME\\\", \\\"attr\\\": \\\"L1-12\\\", \\\"start\\\": 47}], [{\\\"end\\\": 61, \\\"attr_1\\\": \\\"SEITSE\\\", \\\"attr\\\": \\\"L1-13\\\", \\\"start\\\": 55}], [{\\\"end\\\": 66, \\\"attr_1\\\": \\\"KOMA\\\", \\\"attr\\\": \\\"L1-14\\\", \\\"start\\\": 62}], [{\\\"end\\\": 74, \\\"attr_1\\\": \\\"KAHEKSA\\\", \\\"attr\\\": \\\"L1-15\\\", \\\"start\\\": 67}], [{\\\"end\\\": 82, \\\"attr_1\\\": \\\"ÃœHEKSA\\\", \\\"attr\\\": \\\"L1-16\\\", \\\"start\\\": 76}], [{\\\"end\\\": 89, \\\"attr_1\\\": \\\"ÃœHEKSA\\\", \\\"attr\\\": \\\"L1-17\\\", \\\"start\\\": 76}, {\\\"end\\\": 89, \\\"attr_1\\\": \\\"KÃœMME\\\", \\\"attr\\\": \\\"L1-17\\\", \\\"start\\\": 76}, {\\\"end\\\": 89, \\\"attr_1\\\": \\\"ÃœHEKSAKÃœMMEND\\\", \\\"attr\\\": \\\"L1-17\\\", \\\"start\\\": 76}], [{\\\"end\\\": 87, \\\"attr_1\\\": \\\"KÃœMME\\\", \\\"attr\\\": \\\"L1-18\\\", \\\"start\\\": 82}]], \\\"_base\\\": \\\"layer_1\\\", \\\"name\\\": \\\"layer_1\\\", \\\"enveloping\\\": null}\")<br></script><span style=background:yellow; class=span  span_info=AS[Annotation(Sada,{'attr':'L1-0','attr_1':'SADA'})]>Sada</span> <span style=background:red; class=overlapping-span  span_info=AS[Annotation(kaks,{'attr':'L1-1','attr_1':'KAKS'})]AS[Annotation(kakskümmend,{'attr':'L1-2','attr_1':'KAKS'}),Annotation(kakskümmend,{'attr':'L1-2','attr_1':'KÜMME'}),Annotation(kakskümmend,{'attr':'L1-2','attr_1':'KAKSKÜMMEND'})]>kaks</span><span style=background:red; class=overlapping-span  span_info=AS[Annotation(kakskümmend,{'attr':'L1-2','attr_1':'KAKS'}),Annotation(kakskümmend,{'attr':'L1-2','attr_1':'KÜMME'}),Annotation(kakskümmend,{'attr':'L1-2','attr_1':'KAKSKÜMMEND'})]AS[Annotation(kümme,{'attr':'L1-3','attr_1':'KÜMME'})]>kümme</span><span style=background:yellow; class=span  span_info=AS[Annotation(kakskümmend,{'attr':'L1-2','attr_1':'KAKS'}),Annotation(kakskümmend,{'attr':'L1-2','attr_1':'KÜMME'}),Annotation(kakskümmend,{'attr':'L1-2','attr_1':'KAKSKÜMMEND'})]>nd</span> <span style=background:yellow; class=span  span_info=AS[Annotation(kolm,{'attr':'L1-4','attr_1':'KOLM'})]>kolm</span>. <span style=background:yellow; class=span  span_info=AS[Annotation(Neli,{'attr':'L1-5','attr_1':'NELI'})]>Neli</span> <span style=background:yellow; class=span  span_info=AS[Annotation(tuhat,{'attr':'L1-6','attr_1':'TUHAT'})]>tuhat</span> <span style=background:red; class=overlapping-span  span_info=AS[Annotation(viis,{'attr':'L1-7','attr_1':'VIIS'})]AS[Annotation(viissada,{'attr':'L1-8','attr_1':'SADA'}),Annotation(viissada,{'attr':'L1-8','attr_1':'VIIS'}),Annotation(viissada,{'attr':'L1-8','attr_1':'VIISSADA'})]>viis</span><span style=background:red; class=overlapping-span  span_info=AS[Annotation(viissada,{'attr':'L1-8','attr_1':'SADA'}),Annotation(viissada,{'attr':'L1-8','attr_1':'VIIS'}),Annotation(viissada,{'attr':'L1-8','attr_1':'VIISSADA'})]AS[Annotation(sada,{'attr':'L1-9','attr_1':'SADA'})]>sada</span> <span style=background:red; class=overlapping-span  span_info=AS[Annotation(kuus,{'attr':'L1-10','attr_1':'KUUS'})]AS[Annotation(kuuskümmend,{'attr':'L1-11','attr_1':'KUUS'}),Annotation(kuuskümmend,{'attr':'L1-11','attr_1':'KÜMME'}),Annotation(kuuskümmend,{'attr':'L1-11','attr_1':'KUUSKÜMMEND'})]>kuus</span><span style=background:red; class=overlapping-span  span_info=AS[Annotation(kuuskümmend,{'attr':'L1-11','attr_1':'KUUS'}),Annotation(kuuskümmend,{'attr':'L1-11','attr_1':'KÜMME'}),Annotation(kuuskümmend,{'attr':'L1-11','attr_1':'KUUSKÜMMEND'})]AS[Annotation(kümme,{'attr':'L1-12','attr_1':'KÜMME'})]>kümme</span><span style=background:yellow; class=span  span_info=AS[Annotation(kuuskümmend,{'attr':'L1-11','attr_1':'KUUS'}),Annotation(kuuskümmend,{'attr':'L1-11','attr_1':'KÜMME'}),Annotation(kuuskümmend,{'attr':'L1-11','attr_1':'KUUSKÜMMEND'})]>nd</span> <span style=background:yellow; class=span  span_info=AS[Annotation(seitse,{'attr':'L1-13','attr_1':'SEITSE'})]>seitse</span> <span style=background:yellow; class=span  span_info=AS[Annotation(koma,{'attr':'L1-14','attr_1':'KOMA'})]>koma</span> <span style=background:yellow; class=span  span_info=AS[Annotation(kaheksa,{'attr':'L1-15','attr_1':'KAHEKSA'})]>kaheksa</span>. <span style=background:red; class=overlapping-span  span_info=AS[Annotation(Üheksa,{'attr':'L1-16','attr_1':'ÜHEKSA'})]AS[Annotation(Üheksakümmend,{'attr':'L1-17','attr_1':'ÜHEKSA'}),Annotation(Üheksakümmend,{'attr':'L1-17','attr_1':'KÜMME'}),Annotation(Üheksakümmend,{'attr':'L1-17','attr_1':'ÜHEKSAKÜMMEND'})]>Üheksa</span><span style=background:red; class=overlapping-span  span_info=AS[Annotation(Üheksakümmend,{'attr':'L1-17','attr_1':'ÜHEKSA'}),Annotation(Üheksakümmend,{'attr':'L1-17','attr_1':'KÜMME'}),Annotation(Üheksakümmend,{'attr':'L1-17','attr_1':'ÜHEKSAKÜMMEND'})]AS[Annotation(kümme,{'attr':'L1-18','attr_1':'KÜMME'})]>kümme</span><span style=background:yellow; class=span  span_info=AS[Annotation(Üheksakümmend,{'attr':'L1-17','attr_1':'ÜHEKSA'}),Annotation(Üheksakümmend,{'attr':'L1-17','attr_1':'KÜMME'}),Annotation(Üheksakümmend,{'attr':'L1-17','attr_1':'ÜHEKSAKÜMMEND'})]>nd</span> tuhat."
      ]
     },
     "metadata": {},
     "output_type": "display_data"
    }
   ],
   "source": [
    "display(new_text(5).layer_1)"
   ]
  },
  {
   "cell_type": "code",
   "execution_count": 33,
   "metadata": {},
   "outputs": [],
   "source": [
    "display = DisplaySpans(styling=\"indirect\")"
   ]
  },
  {
   "cell_type": "code",
   "execution_count": 34,
   "metadata": {},
   "outputs": [],
   "source": [
    "tekst = Text(\"<u>mis</u> mis\")"
   ]
  },
  {
   "cell_type": "code",
   "execution_count": 35,
   "metadata": {},
   "outputs": [
    {
     "data": {
      "text/html": [
       "<table border=\"1\" class=\"dataframe\">\n",
       "  <thead>\n",
       "    <tr style=\"text-align: right;\">\n",
       "      <th>text</th>\n",
       "    </tr>\n",
       "  </thead>\n",
       "  <tbody>\n",
       "    <tr>\n",
       "      <td><div align = \"left\">&lt;u&gt;mis&lt;/u&gt; mis</div></td>\n",
       "    </tr>\n",
       "  </tbody>\n",
       "</table>\n",
       "<table border=\"1\" class=\"dataframe\">\n",
       "  <thead>\n",
       "    <tr style=\"text-align: right;\">\n",
       "      <th>layer name</th>\n",
       "      <th>attributes</th>\n",
       "      <th>parent</th>\n",
       "      <th>enveloping</th>\n",
       "      <th>ambiguous</th>\n",
       "      <th>span count</th>\n",
       "    </tr>\n",
       "  </thead>\n",
       "  <tbody>\n",
       "    <tr>\n",
       "      <td>sentences</td>\n",
       "      <td></td>\n",
       "      <td>None</td>\n",
       "      <td>words</td>\n",
       "      <td>False</td>\n",
       "      <td>1</td>\n",
       "    </tr>\n",
       "    <tr>\n",
       "      <td>tokens</td>\n",
       "      <td></td>\n",
       "      <td>None</td>\n",
       "      <td>None</td>\n",
       "      <td>False</td>\n",
       "      <td>9</td>\n",
       "    </tr>\n",
       "    <tr>\n",
       "      <td>compound_tokens</td>\n",
       "      <td>type, normalized</td>\n",
       "      <td>None</td>\n",
       "      <td>tokens</td>\n",
       "      <td>False</td>\n",
       "      <td>2</td>\n",
       "    </tr>\n",
       "    <tr>\n",
       "      <td>words</td>\n",
       "      <td>normalized_form</td>\n",
       "      <td>None</td>\n",
       "      <td>None</td>\n",
       "      <td>False</td>\n",
       "      <td>4</td>\n",
       "    </tr>\n",
       "    <tr>\n",
       "      <td>morph_analysis</td>\n",
       "      <td>lemma, root, root_tokens, ending, clitic, form, partofspeech</td>\n",
       "      <td>words</td>\n",
       "      <td>None</td>\n",
       "      <td>True</td>\n",
       "      <td>4</td>\n",
       "    </tr>\n",
       "  </tbody>\n",
       "</table>"
      ],
      "text/plain": [
       "Text(text='<u>mis</u> mis')"
      ]
     },
     "execution_count": 35,
     "metadata": {},
     "output_type": "execute_result"
    }
   ],
   "source": [
    "tekst.tag_layer()"
   ]
  },
  {
   "cell_type": "code",
   "execution_count": 36,
   "metadata": {},
   "outputs": [
    {
     "data": {
      "text/html": [
       "<h4>Layer</h4>\n",
       "<table border=\"1\" class=\"dataframe\">\n",
       "  <thead>\n",
       "    <tr style=\"text-align: right;\">\n",
       "      <th>layer name</th>\n",
       "      <th>attributes</th>\n",
       "      <th>parent</th>\n",
       "      <th>enveloping</th>\n",
       "      <th>ambiguous</th>\n",
       "      <th>span count</th>\n",
       "    </tr>\n",
       "  </thead>\n",
       "  <tbody>\n",
       "    <tr>\n",
       "      <td>morph_analysis</td>\n",
       "      <td>lemma, root, root_tokens, ending, clitic, form, partofspeech</td>\n",
       "      <td>words</td>\n",
       "      <td>None</td>\n",
       "      <td>True</td>\n",
       "      <td>4</td>\n",
       "    </tr>\n",
       "  </tbody>\n",
       "</table>\n",
       "<table border=\"1\" class=\"dataframe\">\n",
       "  <thead>\n",
       "    <tr style=\"text-align: right;\">\n",
       "      <th>text</th>\n",
       "      <th>lemma</th>\n",
       "      <th>root</th>\n",
       "      <th>root_tokens</th>\n",
       "      <th>ending</th>\n",
       "      <th>clitic</th>\n",
       "      <th>form</th>\n",
       "      <th>partofspeech</th>\n",
       "    </tr>\n",
       "  </thead>\n",
       "  <tbody>\n",
       "    <tr>\n",
       "      <td>&lt;u&gt;</td>\n",
       "      <td>u</td>\n",
       "      <td>u</td>\n",
       "      <td>('u',)</td>\n",
       "      <td>0</td>\n",
       "      <td></td>\n",
       "      <td>?</td>\n",
       "      <td>Y</td>\n",
       "    </tr>\n",
       "    <tr>\n",
       "      <td>mis</td>\n",
       "      <td>mis</td>\n",
       "      <td>mis</td>\n",
       "      <td>('mis',)</td>\n",
       "      <td>0</td>\n",
       "      <td></td>\n",
       "      <td>pl n</td>\n",
       "      <td>P</td>\n",
       "    </tr>\n",
       "    <tr>\n",
       "      <td></td>\n",
       "      <td>mis</td>\n",
       "      <td>mis</td>\n",
       "      <td>('mis',)</td>\n",
       "      <td>0</td>\n",
       "      <td></td>\n",
       "      <td>sg n</td>\n",
       "      <td>P</td>\n",
       "    </tr>\n",
       "    <tr>\n",
       "      <td>&lt;/u&gt;</td>\n",
       "      <td>u</td>\n",
       "      <td>u</td>\n",
       "      <td>('u',)</td>\n",
       "      <td>0</td>\n",
       "      <td></td>\n",
       "      <td>?</td>\n",
       "      <td>Y</td>\n",
       "    </tr>\n",
       "    <tr>\n",
       "      <td>mis</td>\n",
       "      <td>mis</td>\n",
       "      <td>mis</td>\n",
       "      <td>('mis',)</td>\n",
       "      <td>0</td>\n",
       "      <td></td>\n",
       "      <td>pl n</td>\n",
       "      <td>P</td>\n",
       "    </tr>\n",
       "    <tr>\n",
       "      <td></td>\n",
       "      <td>mis</td>\n",
       "      <td>mis</td>\n",
       "      <td>('mis',)</td>\n",
       "      <td>0</td>\n",
       "      <td></td>\n",
       "      <td>sg n</td>\n",
       "      <td>P</td>\n",
       "    </tr>\n",
       "  </tbody>\n",
       "</table>"
      ],
      "text/plain": [
       "Layer(name=morph_analysis, spans=SL[AS[Annotation(<u>, {'clitic': '', 'ending': '0', 'form': '?', 'lemma': 'u', 'partofspeech': 'Y', 'root': 'u', 'root_tokens': ('u',)})],\n",
       "AS[Annotation(mis, {'clitic': '', 'ending': '0', 'form': 'pl n', 'lemma': 'mis', 'partofspeech': 'P', 'root': 'mis', 'root_tokens': ('mis',)}), Annotation(mis, {'clitic': '', 'ending': '0', 'form': 'sg n', 'lemma': 'mis', 'partofspeech': 'P', 'root': 'mis', 'root_tokens': ('mis',)})],\n",
       "AS[Annotation(</u>, {'clitic': '', 'ending': '0', 'form': '?', 'lemma': 'u', 'partofspeech': 'Y', 'root': 'u', 'root_tokens': ('u',)})],\n",
       "AS[Annotation(mis, {'clitic': '', 'ending': '0', 'form': 'pl n', 'lemma': 'mis', 'partofspeech': 'P', 'root': 'mis', 'root_tokens': ('mis',)}), Annotation(mis, {'clitic': '', 'ending': '0', 'form': 'sg n', 'lemma': 'mis', 'partofspeech': 'P', 'root': 'mis', 'root_tokens': ('mis',)})]])"
      ]
     },
     "execution_count": 36,
     "metadata": {},
     "output_type": "execute_result"
    }
   ],
   "source": [
    "tekst.morph_analysis"
   ]
  },
  {
   "cell_type": "code",
   "execution_count": 37,
   "metadata": {
    "scrolled": true
   },
   "outputs": [
    {
     "data": {
      "text/html": [
       "<script>\n",
       "var elements = document.getElementsByClassName(\"overlapping-span\")\n",
       "for (let i = 0; i < elements.length; i++){\n",
       "    elements.item(i).addEventListener(\"click\",function() {show_conflicting_spans(elements.item(i));})}\n",
       "\n",
       "function show_conflicting_spans(span_element) {\n",
       "    let spantable = document.createElement('div')\n",
       "    spantable.classList.add('tables')\n",
       "\n",
       "    // Prepare the contents of the span table\n",
       "    data = span_element.getAttribute(\"span_info\")\n",
       "    data = data.split(\",\")\n",
       "    var spancontent = '<table>'\n",
       "    for (let row of data) {\n",
       "        spancontent+='<tr><td>'\n",
       "        spancontent+=row\n",
       "        spancontent+='</td></tr>'\n",
       "    }\n",
       "    spancontent += '</table>'\n",
       "    spantable.innerHTML = spancontent\n",
       "    span_element.parentElement.appendChild(spantable)\n",
       "\n",
       "    // Increase the size of the cell so the tables would fit\n",
       "    spantable.parentElement.style.height = Math.max(Number(spantable.parentElement.style.height.substring(0,spantable.parentElement.style.height.length-2)),span_element.offsetTop+90)+ 'px'\n",
       "    // Position the table directly below the corresponding text\n",
       "    spantable.style.left = span_element.getBoundingClientRect().left-spantable.parentElement.parentElement.getBoundingClientRect().left + 'px'\n",
       "    spantable.style.top = span_element.getBoundingClientRect().top-spantable.parentElement.parentElement.getBoundingClientRect().top+20+ 'px'\n",
       "\n",
       "    // Remove the table when clicked on again\n",
       "    spantable.addEventListener('click', function () {\n",
       "        let element = this.parentElement\n",
       "        element.removeChild(this)\n",
       "    })\n",
       "}\n",
       "</script><style>\n",
       ".span {\n",
       "    background-color: yellow;\n",
       "}\n",
       "\n",
       ".overlapping-span {\n",
       "    background-color: red;\n",
       "}\n",
       "\n",
       ".spanline {\n",
       "    background-color: blue;\n",
       "    position: relative;\n",
       "    height: 3px;\n",
       "    margin-left: 0px;\n",
       "}\n",
       "\n",
       ".tables {\n",
       "    position: absolute;\n",
       "    width: fit-content;\n",
       "    width: -moz-fit-content;\n",
       "    border: 1px solid black;\n",
       "}\n",
       "\n",
       ".maintext{0} {\n",
       "    position: relative;\n",
       "}\n",
       "\n",
       ".tables tbody tr:nth-child(even) {\n",
       "    background-color: lightgray;\n",
       "}\n",
       "\n",
       ".tables tbody tr:nth-child(odd) {\n",
       "    background-color: beige;\n",
       "}\n",
       "\n",
       ".tables tbody tr:hover {\n",
       "    background-color: ivory;\n",
       "}\n",
       "</style><span span_info=<u>>&lt;u&gt;</span><span span_info=mis>mis</span><span span_info=</u>>&lt;/u&gt;</span> <span span_info=mis>mis</span>"
      ]
     },
     "metadata": {},
     "output_type": "display_data"
    }
   ],
   "source": [
    "display(tekst.morph_analysis)"
   ]
  },
  {
   "cell_type": "code",
   "execution_count": 32,
   "metadata": {
    "scrolled": true
   },
   "outputs": [
    {
     "name": "stdout",
     "output_type": "stream",
     "text": [
      "{\"parent\": null, \"ambiguous\": true, \"_base\": \"layer_1\", \"enveloping\": null, \"spans\": [[{\"attr\": \"L1-0\", \"end\": 4, \"attr_1\": \"SADA\", \"start\": 0}], [{\"attr\": \"L1-1\", \"end\": 9, \"attr_1\": \"KAKS\", \"start\": 5}], [{\"attr\": \"L1-2\", \"end\": 16, \"attr_1\": \"KAKS\", \"start\": 5}, {\"attr\": \"L1-2\", \"end\": 16, \"attr_1\": \"KÜMME\", \"start\": 5}, {\"attr\": \"L1-2\", \"end\": 16, \"attr_1\": \"KAKSKÜMMEND\", \"start\": 5}], [{\"attr\": \"L1-3\", \"end\": 14, \"attr_1\": \"KÜMME\", \"start\": 9}], [{\"attr\": \"L1-4\", \"end\": 21, \"attr_1\": \"KOLM\", \"start\": 17}], [{\"attr\": \"L1-5\", \"end\": 27, \"attr_1\": \"NELI\", \"start\": 23}], [{\"attr\": \"L1-6\", \"end\": 33, \"attr_1\": \"TUHAT\", \"start\": 28}], [{\"attr\": \"L1-7\", \"end\": 38, \"attr_1\": \"VIIS\", \"start\": 34}], [{\"attr\": \"L1-8\", \"end\": 42, \"attr_1\": \"SADA\", \"start\": 34}, {\"attr\": \"L1-8\", \"end\": 42, \"attr_1\": \"VIIS\", \"start\": 34}, {\"attr\": \"L1-8\", \"end\": 42, \"attr_1\": \"VIISSADA\", \"start\": 34}], [{\"attr\": \"L1-9\", \"end\": 42, \"attr_1\": \"SADA\", \"start\": 38}], [{\"attr\": \"L1-10\", \"end\": 47, \"attr_1\": \"KUUS\", \"start\": 43}], [{\"attr\": \"L1-11\", \"end\": 54, \"attr_1\": \"KUUS\", \"start\": 43}, {\"attr\": \"L1-11\", \"end\": 54, \"attr_1\": \"KÜMME\", \"start\": 43}, {\"attr\": \"L1-11\", \"end\": 54, \"attr_1\": \"KUUSKÜMMEND\", \"start\": 43}], [{\"attr\": \"L1-12\", \"end\": 52, \"attr_1\": \"KÜMME\", \"start\": 47}], [{\"attr\": \"L1-13\", \"end\": 61, \"attr_1\": \"SEITSE\", \"start\": 55}], [{\"attr\": \"L1-14\", \"end\": 66, \"attr_1\": \"KOMA\", \"start\": 62}], [{\"attr\": \"L1-15\", \"end\": 74, \"attr_1\": \"KAHEKSA\", \"start\": 67}], [{\"attr\": \"L1-16\", \"end\": 82, \"attr_1\": \"ÜHEKSA\", \"start\": 76}], [{\"attr\": \"L1-17\", \"end\": 89, \"attr_1\": \"ÜHEKSA\", \"start\": 76}, {\"attr\": \"L1-17\", \"end\": 89, \"attr_1\": \"KÜMME\", \"start\": 76}, {\"attr\": \"L1-17\", \"end\": 89, \"attr_1\": \"ÜHEKSAKÜMMEND\", \"start\": 76}], [{\"attr\": \"L1-18\", \"end\": 87, \"attr_1\": \"KÜMME\", \"start\": 82}]], \"attributes\": [\"attr\", \"attr_1\"], \"name\": \"layer_1\"}\n"
     ]
    }
   ],
   "source": [
    "from estnltk.converters.json_exporter import layer_to_json\n",
    "print(layer_to_json(new_text(5).layer_1,new_text(5)))"
   ]
  },
  {
   "cell_type": "code",
   "execution_count": 38,
   "metadata": {},
   "outputs": [],
   "source": [
    "display = DisplaySpans(styling=\"both\")"
   ]
  },
  {
   "cell_type": "code",
   "execution_count": 41,
   "metadata": {},
   "outputs": [],
   "source": [
    "mappings_dictionary = {\"color\":my_best_color_mapper,\"class\":class_mapper}"
   ]
  },
  {
   "cell_type": "code",
   "execution_count": 42,
   "metadata": {},
   "outputs": [],
   "source": [
    "display.span_decorator.mapping_dict = mappings_dictionary"
   ]
  },
  {
   "cell_type": "code",
   "execution_count": 56,
   "metadata": {
    "scrolled": true
   },
   "outputs": [
    {
     "data": {
      "text/html": [
       "<script>\n",
       "var elements = document.getElementsByClassName(\"overlapping-span\")\n",
       "for (let i = 0; i < elements.length; i++){\n",
       "    elements.item(i).addEventListener(\"click\",function() {show_conflicting_spans(elements.item(i));})}\n",
       "\n",
       "function show_conflicting_spans(span_element) {\n",
       "    let spantable = document.createElement('div')\n",
       "    spantable.classList.add('tables')\n",
       "\n",
       "    // Prepare the contents of the span table\n",
       "    data = span_element.getAttribute(\"span_info\")\n",
       "    data = data.split(\",\")\n",
       "    var spancontent = '<table>'\n",
       "    for (let row of data) {\n",
       "        spancontent+='<tr><td>'\n",
       "        spancontent+=row\n",
       "        spancontent+='</td></tr>'\n",
       "    }\n",
       "    spancontent += '</table>'\n",
       "    spantable.innerHTML = spancontent\n",
       "    span_element.parentElement.appendChild(spantable)\n",
       "\n",
       "    // Increase the size of the cell so the tables would fit\n",
       "    spantable.parentElement.style.height = Math.max(Number(spantable.parentElement.style.height.substring(0,spantable.parentElement.style.height.length-2)),span_element.offsetTop+90)+ 'px'\n",
       "    // Position the table directly below the corresponding text\n",
       "    spantable.style.left = span_element.getBoundingClientRect().left-spantable.parentElement.parentElement.getBoundingClientRect().left + 'px'\n",
       "    spantable.style.top = span_element.getBoundingClientRect().top-spantable.parentElement.parentElement.getBoundingClientRect().top+20+ 'px'\n",
       "\n",
       "    // Remove the table when clicked on again\n",
       "    spantable.addEventListener('click', function () {\n",
       "        let element = this.parentElement\n",
       "        element.removeChild(this)\n",
       "    })\n",
       "}\n",
       "</script><span style=color:red; class=span>Sada</span> <span style=color:green; class=overlapping-span span_info=kaks,kakskümmend>kaks</span><span style=color:green; class=overlapping-span span_info=kakskümmend,kümme>kümme</span><span style=color:blue; class=span>nd</span> <span style=color:blue; class=span>kolm</span>. <span style=color:blue; class=span>Neli</span> <span style=color:blue; class=span>tuhat</span> <span style=color:green; class=overlapping-span span_info=viis,viissada>viis</span><span style=color:green; class=overlapping-span span_info=viissada,sada>sada</span> <span style=color:green; class=overlapping-span span_info=kuus,kuuskümmend>kuus</span><span style=color:green; class=overlapping-span span_info=kuuskümmend,kümme>kümme</span><span style=color:blue; class=span>nd</span> <span style=color:blue; class=span>seitse</span> <span style=color:blue; class=span>koma</span> <span style=color:blue; class=span>kaheksa</span>. <span style=color:green; class=overlapping-span span_info=Üheksa,Üheksakümmend>Üheksa</span><span style=color:green; class=overlapping-span span_info=Üheksakümmend,kümme>kümme</span><span style=color:blue; class=span>nd</span> tuhat."
      ]
     },
     "metadata": {},
     "output_type": "display_data"
    }
   ],
   "source": [
    "display(new_text(5).layer_1)"
   ]
  }
 ],
 "metadata": {
  "kernelspec": {
   "display_name": "Python 3",
   "language": "python",
   "name": "python3"
  },
  "language_info": {
   "codemirror_mode": {
    "name": "ipython",
    "version": 3
   },
   "file_extension": ".py",
   "mimetype": "text/x-python",
   "name": "python",
   "nbconvert_exporter": "python",
   "pygments_lexer": "ipython3",
   "version": "3.5.5"
  }
 },
 "nbformat": 4,
 "nbformat_minor": 2
}
