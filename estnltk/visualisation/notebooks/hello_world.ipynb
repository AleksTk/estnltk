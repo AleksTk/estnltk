{
 "cells": [
  {
   "cell_type": "code",
   "execution_count": 1,
   "metadata": {},
   "outputs": [],
   "source": [
    "%load_ext autoreload\n",
    "%autoreload 2"
   ]
  },
  {
   "cell_type": "code",
   "execution_count": 2,
   "metadata": {},
   "outputs": [],
   "source": [
    "from estnltk.tests import new_text"
   ]
  },
  {
   "cell_type": "code",
   "execution_count": 3,
   "metadata": {
    "scrolled": true
   },
   "outputs": [],
   "source": [
    "from estnltk.visualisation.core.prettyprinter import decompose_to_elementary_spans\n",
    "elementary_spans = decompose_to_elementary_spans(new_text(5).layer_1,new_text(5).text)"
   ]
  },
  {
   "cell_type": "code",
   "execution_count": 4,
   "metadata": {},
   "outputs": [],
   "source": [
    "from estnltk.visualisation.span_visualiser.fancy_span_visualisation import DisplaySpans\n",
    "\n",
    "display = DisplaySpans(styling=\"indirect\")"
   ]
  },
  {
   "cell_type": "code",
   "execution_count": 5,
   "metadata": {
    "scrolled": true
   },
   "outputs": [
    {
     "data": {
      "text/html": [
       "<script>\n",
       "var elements = document.getElementsByClassName(\"overlapping-span\")\n",
       "for (let i = 0; i < elements.length; i++){\n",
       "    elements.item(i).addEventListener(\"click\",function() {show_conflicting_spans(elements.item(i));})\n",
       "}\n",
       "\n",
       "function show_conflicting_spans(span_element) {\n",
       "    let spantable = document.createElement('div')\n",
       "    spantable.classList.add('tables')\n",
       "\n",
       "    // Prepare the contents of the span table\n",
       "    data = span_element.getAttribute(\"span_info\")\n",
       "    data = data.split(\",\")\n",
       "    var spancontent = '<table>'\n",
       "    for (let row of data) {\n",
       "        spancontent+='<tr><td>'\n",
       "        spancontent+=row\n",
       "        spancontent+='</td></tr>'\n",
       "    }\n",
       "    spancontent += '</table>'\n",
       "    spantable.innerHTML = spancontent\n",
       "    span_element.parentElement.appendChild(spantable)\n",
       "\n",
       "    //Position the table directly below the corresponding text\n",
       "    spantable.style.left = \"0px\";\n",
       "    spantable.style.top = \"0px\";\n",
       "    spantable.style.left = span_element.getBoundingClientRect().left-spantable.getBoundingClientRect().left + 'px'\n",
       "    spantable.style.top = span_element.getBoundingClientRect().top-spantable.getBoundingClientRect().top+span_element.getBoundingClientRect().height+ 'px'\n",
       "    spantable.parentElement.style.height = spantable.parentElement.style.height+\"100px\"\n",
       "\n",
       "    // remove the table when clicked on again\n",
       "    spantable.addEventListener('click', function () {\n",
       "        let element = this.parentElement\n",
       "        element.removeChild(this)  //deleting the table\n",
       "    })\n",
       "}\n",
       "\n",
       "function span_table (span) {{\n",
       "    data = span.getAttribute(\"span_info\")\n",
       "    data = data.split(\",\")\n",
       "    var content = '<table>'\n",
       "    for (let row of data) {\n",
       "        content+='<tr><td>'\n",
       "        content+=row\n",
       "        content+='</td></tr>'\n",
       "    }\n",
       "    content += '</table>'\n",
       "\n",
       "    return content\n",
       "}}</script><style>\n",
       ".span {\n",
       "    background-color: yellow;\n",
       "}\n",
       "\n",
       ".overlapping-span {\n",
       "    background-color: red;\n",
       "}\n",
       "\n",
       ".spanline {\n",
       "    background-color: blue;\n",
       "    position: relative;\n",
       "    height: 3px;\n",
       "    margin-left: 0px;\n",
       "}\n",
       "\n",
       ".tables {\n",
       "    position: absolute;\n",
       "    width: fit-content;\n",
       "    width: -moz-fit-content;\n",
       "    border: 1px solid black;\n",
       "}\n",
       "\n",
       ".maintext{0} {\n",
       "    position: relative;\n",
       "}\n",
       "\n",
       ".tables tbody tr:nth-child(even) {\n",
       "    background-color: lightgray;\n",
       "}\n",
       "\n",
       ".tables tbody tr:nth-child(odd) {\n",
       "    background-color: beige;\n",
       "}\n",
       "\n",
       ".tables tbody tr:hover {\n",
       "    background-color: ivory;\n",
       "}\n",
       "</style><span span_info=Sada>Sada</span> <span span_info=kaks,kakskümmend>kaks</span><span span_info=kakskümmend,kümme>kümme</span><span span_info=kakskümmend>nd</span> <span span_info=kolm>kolm</span>.<span span_info= Neli> Neli</span> <span span_info=tuhat>tuhat</span> <span span_info=viis,viissada>viis</span><span span_info=viissada,sada>sada</span> <span span_info=kuus,kuuskümmend>kuus</span><span span_info=kuuskümmend,kümme>kümme</span><span span_info=kuuskümmend>nd</span> <span span_info=seitse>seitse</span> <span span_info=koma>koma</span> <span span_info=kaheksa>kaheksa</span>. <span span_info=Üheksa,Üheksakümmend>Üheksa</span><span span_info=Üheksakümmend,kümme>kümme</span><span span_info=Üheksakümmend>nd</span> tuhat."
      ]
     },
     "metadata": {},
     "output_type": "display_data"
    }
   ],
   "source": [
    "display(new_text(5).layer_1)"
   ]
  },
  {
   "cell_type": "code",
   "execution_count": 6,
   "metadata": {},
   "outputs": [],
   "source": [
    "display.span_decorator.update_css(\"../span_visualiser/prettyprinter.css\")"
   ]
  },
  {
   "cell_type": "code",
   "execution_count": 7,
   "metadata": {},
   "outputs": [],
   "source": [
    "def class_mapper(segment):\n",
    "    if len(segment[1]) > 1:\n",
    "        return \"overlapping-span\"\n",
    "    return \"span\""
   ]
  },
  {
   "cell_type": "code",
   "execution_count": 8,
   "metadata": {
    "scrolled": true
   },
   "outputs": [],
   "source": [
    "def update_class_mapper(class_mapper, css=None):\n",
    "    if css is not None:\n",
    "        css = css\n",
    "    elif class_mapper.css is not None:\n",
    "        css = class_mapper.css\n",
    "\n",
    "def update_css (css_file):\n",
    "    css = css_file"
   ]
  },
  {
   "cell_type": "code",
   "execution_count": 9,
   "metadata": {},
   "outputs": [],
   "source": [
    "display.span_decorator.class_mapping=class_mapper"
   ]
  },
  {
   "cell_type": "code",
   "execution_count": 18,
   "metadata": {
    "scrolled": true
   },
   "outputs": [
    {
     "data": {
      "text/html": [
       "<script>\n",
       "var elements = document.getElementsByClassName(\"overlapping-span\")\n",
       "for (let i = 0; i < elements.length; i++){\n",
       "    elements.item(i).addEventListener(\"click\",function() {show_conflicting_spans(elements.item(i));})\n",
       "}\n",
       "\n",
       "function show_conflicting_spans(span_element) {\n",
       "    let spantable = document.createElement('div')\n",
       "    spantable.classList.add('tables')\n",
       "\n",
       "    // Prepare the contents of the span table\n",
       "    data = span_element.getAttribute(\"span_info\")\n",
       "    data = data.split(\",\")\n",
       "    var spancontent = '<table>'\n",
       "    for (let row of data) {\n",
       "        spancontent+='<tr><td>'\n",
       "        spancontent+=row\n",
       "        spancontent+='</td></tr>'\n",
       "    }\n",
       "    spancontent += '</table>'\n",
       "    spantable.innerHTML = spancontent\n",
       "    span_element.parentElement.appendChild(spantable)\n",
       "\n",
       "    //Position the table directly below the corresponding text\n",
       "    console.log(span_element.parentElement.getBoundingClientRect())\n",
       "    spantable.style.left = \"0px\";\n",
       "    spantable.style.top = \"0px\";\n",
       "    console.log(spantable.getBoundingClientRect())\n",
       "    spantable.style.left = span_element.getBoundingClientRect().left-spantable.getBoundingClientRect().left + 'px'\n",
       "    spantable.style.top = span_element.getBoundingClientRect().top-spantable.getBoundingClientRect().top+span_element.getBoundingClientRect().height+ 'px'\n",
       "    spantable.parentElement.style.height = spantable.parentElement.style.height+\"100px\"\n",
       "\n",
       "    // remove the table when clicked on again\n",
       "    spantable.addEventListener('click', function () {\n",
       "        let element = this.parentElement\n",
       "        element.removeChild(this)  //deleting the table\n",
       "    })\n",
       "}\n",
       "</script><style>\n",
       ".span {\n",
       "    background-color: yellow;\n",
       "}\n",
       "\n",
       ".overlapping-span {\n",
       "    background-color: red;\n",
       "}\n",
       "\n",
       ".spanline {\n",
       "    background-color: blue;\n",
       "    position: relative;\n",
       "    height: 3px;\n",
       "    margin-left: 0px;\n",
       "}\n",
       "\n",
       ".tables {\n",
       "    position: absolute;\n",
       "    width: fit-content;\n",
       "    width: -moz-fit-content;\n",
       "    border: 1px solid black;\n",
       "}\n",
       "\n",
       ".maintext{0} {\n",
       "    position: relative;\n",
       "}\n",
       "\n",
       ".tables tbody tr:nth-child(even) {\n",
       "    background-color: lightgray;\n",
       "}\n",
       "\n",
       ".tables tbody tr:nth-child(odd) {\n",
       "    background-color: beige;\n",
       "}\n",
       "\n",
       ".tables tbody tr:hover {\n",
       "    background-color: ivory;\n",
       "}\n",
       "</style><span span_info=Sada>Sada</span> <span span_info=kaks,kakskümmend>kaks</span><span span_info=kakskümmend,kümme>kümme</span><span span_info=kakskümmend>nd</span> <span span_info=kolm>kolm</span>.<span span_info= Neli> Neli</span> <span span_info=tuhat>tuhat</span> <span span_info=viis,viissada>viis</span><span span_info=viissada,sada>sada</span> <span span_info=kuus,kuuskümmend>kuus</span><span span_info=kuuskümmend,kümme>kümme</span><span span_info=kuuskümmend>nd</span> <span span_info=seitse>seitse</span> <span span_info=koma>koma</span> <span span_info=kaheksa>kaheksa</span>. <span span_info=Üheksa,Üheksakümmend>Üheksa</span><span span_info=Üheksakümmend,kümme>kümme</span><span span_info=Üheksakümmend>nd</span> tuhat."
      ]
     },
     "metadata": {},
     "output_type": "display_data"
    }
   ],
   "source": [
    "display(new_text(5).layer_1)"
   ]
  },
  {
   "cell_type": "code",
   "execution_count": 11,
   "metadata": {},
   "outputs": [
    {
     "data": {
      "text/html": [
       "<script>\n",
       "var elements = document.getElementsByClassName(\"overlapping-span\")\n",
       "for (let i = 0; i < elements.length; i++){\n",
       "    elements.item(i).addEventListener(\"click\",function() {show_conflicting_spans(elements.item(i));})\n",
       "}\n",
       "\n",
       "function show_conflicting_spans(span_element) {\n",
       "    let spantable = document.createElement('div')\n",
       "    spantable.classList.add('tables')\n",
       "\n",
       "    // Prepare the contents of the span table\n",
       "    data = span_element.getAttribute(\"span_info\")\n",
       "    data = data.split(\",\")\n",
       "    var spancontent = '<table>'\n",
       "    for (let row of data) {\n",
       "        spancontent+='<tr><td>'\n",
       "        spancontent+=row\n",
       "        spancontent+='</td></tr>'\n",
       "    }\n",
       "    spancontent += '</table>'\n",
       "    spantable.innerHTML = spancontent\n",
       "    span_element.parentElement.appendChild(spantable)\n",
       "\n",
       "    //Position the table directly below the corresponding text\n",
       "    spantable.style.left = \"0px\";\n",
       "    spantable.style.top = \"0px\";\n",
       "    spantable.style.left = span_element.getBoundingClientRect().left-spantable.getBoundingClientRect().left + 'px'\n",
       "    spantable.style.top = span_element.getBoundingClientRect().top-spantable.getBoundingClientRect().top+span_element.getBoundingClientRect().height+ 'px'\n",
       "    spantable.parentElement.style.height = spantable.parentElement.style.height+\"100px\"\n",
       "\n",
       "    // remove the table when clicked on again\n",
       "    spantable.addEventListener('click', function () {\n",
       "        let element = this.parentElement\n",
       "        element.removeChild(this)  //deleting the table\n",
       "    })\n",
       "}\n",
       "\n",
       "function span_table (span) {{\n",
       "    data = span.getAttribute(\"span_info\")\n",
       "    data = data.split(\",\")\n",
       "    var content = '<table>'\n",
       "    for (let row of data) {\n",
       "        content+='<tr><td>'\n",
       "        content+=row\n",
       "        content+='</td></tr>'\n",
       "    }\n",
       "    content += '</table>'\n",
       "\n",
       "    return content\n",
       "}}</script><style>\n",
       ".span {\n",
       "    background-color: yellow;\n",
       "}\n",
       "\n",
       ".overlapping-span {\n",
       "    background-color: red;\n",
       "}\n",
       "\n",
       ".spanline {\n",
       "    background-color: blue;\n",
       "    position: relative;\n",
       "    height: 3px;\n",
       "    margin-left: 0px;\n",
       "}\n",
       "\n",
       ".tables {\n",
       "    position: absolute;\n",
       "    width: fit-content;\n",
       "    width: -moz-fit-content;\n",
       "    border: 1px solid black;\n",
       "}\n",
       "\n",
       ".maintext{0} {\n",
       "    position: relative;\n",
       "}\n",
       "\n",
       ".tables tbody tr:nth-child(even) {\n",
       "    background-color: lightgray;\n",
       "}\n",
       "\n",
       ".tables tbody tr:nth-child(odd) {\n",
       "    background-color: beige;\n",
       "}\n",
       "\n",
       ".tables tbody tr:hover {\n",
       "    background-color: ivory;\n",
       "}\n",
       "</style><span span_info=Tere class=span >Tere</span><span span_info=, class=span >,</span> <span span_info=maailm class=span >maailm</span><span span_info=! class=span >!</span>"
      ]
     },
     "metadata": {},
     "output_type": "display_data"
    }
   ],
   "source": [
    "display(new_text(3).layer_1)"
   ]
  },
  {
   "cell_type": "code",
   "execution_count": 25,
   "metadata": {},
   "outputs": [],
   "source": [
    "from estnltk.visualisation.span_visualiser.fancy_span_visualisation import DisplaySpans\n",
    "\n",
    "display = DisplaySpans()"
   ]
  },
  {
   "cell_type": "code",
   "execution_count": 26,
   "metadata": {},
   "outputs": [
    {
     "data": {
      "text/html": [
       "<script>\n",
       "var elements = document.getElementsByClassName(\"overlapping-span\")\n",
       "for (let i = 0; i < elements.length; i++){\n",
       "    elements.item(i).addEventListener(\"click\",function() {show_conflicting_spans(elements.item(i));})\n",
       "}\n",
       "\n",
       "function show_conflicting_spans(span_element) {\n",
       "    let spantable = document.createElement('div')\n",
       "    spantable.classList.add('tables')\n",
       "\n",
       "    // Prepare the contents of the span table\n",
       "    data = span_element.getAttribute(\"span_info\")\n",
       "    data = data.split(\",\")\n",
       "    var spancontent = '<table>'\n",
       "    for (let row of data) {\n",
       "        spancontent+='<tr><td>'\n",
       "        spancontent+=row\n",
       "        spancontent+='</td></tr>'\n",
       "    }\n",
       "    spancontent += '</table>'\n",
       "    spantable.innerHTML = spancontent\n",
       "    span_element.parentElement.appendChild(spantable)\n",
       "\n",
       "    //Position the table directly below the corresponding text\n",
       "    console.log(span_element.parentElement.parentElement.getBoundingClientRect())\n",
       "    console.log(spantable.getBoundingClientRect())\n",
       "    spantable.style.left = span_element.getBoundingClientRect().left-span_element.parentElement.parentElement.parentElement.getBoundingClientRect().left + 'px'\n",
       "    spantable.style.top = span_element.getBoundingClientRect().top-spantable.getBoundingClientRect().top+span_element.parentElement.parentElement.parentElement.getBoundingClientRect().height+ 'px'\n",
       "    spantable.parentElement.style.height = spantable.parentElement.style.height+\"100px\"\n",
       "\n",
       "    // remove the table when clicked on again\n",
       "    spantable.addEventListener('click', function () {\n",
       "        let element = this.parentElement\n",
       "        element.removeChild(this)  //deleting the table\n",
       "    })\n",
       "}\n",
       "</script><span style=background:yellow;>Sada</span> <span style=background:red; class=overlapping-span  span_info=kaks,kakskümmend>kaks</span><span style=background:red; class=overlapping-span  span_info=kakskümmend,kümme>kümme</span><span style=background:yellow;>nd</span> <span style=background:yellow;>kolm</span>.<span style=background:yellow;> Neli</span> <span style=background:yellow;>tuhat</span> <span style=background:red; class=overlapping-span  span_info=viis,viissada>viis</span><span style=background:red; class=overlapping-span  span_info=viissada,sada>sada</span> <span style=background:red; class=overlapping-span  span_info=kuus,kuuskümmend>kuus</span><span style=background:red; class=overlapping-span  span_info=kuuskümmend,kümme>kümme</span><span style=background:yellow;>nd</span> <span style=background:yellow;>seitse</span> <span style=background:yellow;>koma</span> <span style=background:yellow;>kaheksa</span>. <span style=background:red; class=overlapping-span  span_info=Üheksa,Üheksakümmend>Üheksa</span><span style=background:red; class=overlapping-span  span_info=Üheksakümmend,kümme>kümme</span><span style=background:yellow;>nd</span> tuhat."
      ]
     },
     "metadata": {},
     "output_type": "display_data"
    }
   ],
   "source": [
    "display(new_text(5).layer_1)"
   ]
  },
  {
   "cell_type": "code",
   "execution_count": 29,
   "metadata": {},
   "outputs": [],
   "source": [
    "display = DisplaySpans(styling=\"indirect\")\n",
    "result = display.html_output(new_text(5).layer_1)"
   ]
  },
  {
   "cell_type": "code",
   "execution_count": 30,
   "metadata": {
    "scrolled": true
   },
   "outputs": [
    {
     "data": {
      "text/plain": [
       "'<script>\\nvar elements = document.getElementsByClassName(\"overlapping-span\")\\nfor (let i = 0; i < elements.length; i++){\\n    elements.item(i).addEventListener(\"click\",function() {show_conflicting_spans(elements.item(i));})\\n}\\n\\nfunction show_conflicting_spans(span_element) {\\n    let spantable = document.createElement(\\'div\\')\\n    spantable.classList.add(\\'tables\\')\\n\\n    // Prepare the contents of the span table\\n    data = span_element.getAttribute(\"span_info\")\\n    data = data.split(\",\")\\n    var spancontent = \\'<table>\\'\\n    for (let row of data) {\\n        spancontent+=\\'<tr><td>\\'\\n        spancontent+=row\\n        spancontent+=\\'</td></tr>\\'\\n    }\\n    spancontent += \\'</table>\\'\\n    spantable.innerHTML = spancontent\\n    span_element.parentElement.appendChild(spantable)\\n\\n    //Position the table directly below the corresponding text\\n    console.log(span_element.parentElement.parentElement.getBoundingClientRect())\\n    console.log(spantable.getBoundingClientRect())\\n    spantable.style.left = span_element.getBoundingClientRect().left-span_element.parentElement.parentElement.parentElement.getBoundingClientRect().left + \\'px\\'\\n    spantable.style.top = span_element.getBoundingClientRect().top-spantable.getBoundingClientRect().top+span_element.parentElement.parentElement.parentElement.getBoundingClientRect().height+ \\'px\\'\\n    spantable.parentElement.style.height = spantable.parentElement.style.height+\"100px\"\\n\\n    // remove the table when clicked on again\\n    spantable.addEventListener(\\'click\\', function () {\\n        let element = this.parentElement\\n        element.removeChild(this)  //deleting the table\\n    })\\n}\\n</script><style>\\n.span {\\n    background-color: yellow;\\n}\\n\\n.overlapping-span {\\n    background-color: red;\\n}\\n\\n.spanline {\\n    background-color: blue;\\n    position: relative;\\n    height: 3px;\\n    margin-left: 0px;\\n}\\n\\n.tables {\\n    position: absolute;\\n    width: fit-content;\\n    width: -moz-fit-content;\\n    border: 1px solid black;\\n}\\n\\n.maintext{0} {\\n    position: relative;\\n}\\n\\n.tables tbody tr:nth-child(even) {\\n    background-color: lightgray;\\n}\\n\\n.tables tbody tr:nth-child(odd) {\\n    background-color: beige;\\n}\\n\\n.tables tbody tr:hover {\\n    background-color: ivory;\\n}\\n</style><span span_info=Sada>Sada</span> <span span_info=kaks,kakskümmend>kaks</span><span span_info=kakskümmend,kümme>kümme</span><span span_info=kakskümmend>nd</span> <span span_info=kolm>kolm</span>.<span span_info= Neli> Neli</span> <span span_info=tuhat>tuhat</span> <span span_info=viis,viissada>viis</span><span span_info=viissada,sada>sada</span> <span span_info=kuus,kuuskümmend>kuus</span><span span_info=kuuskümmend,kümme>kümme</span><span span_info=kuuskümmend>nd</span> <span span_info=seitse>seitse</span> <span span_info=koma>koma</span> <span span_info=kaheksa>kaheksa</span>. <span span_info=Üheksa,Üheksakümmend>Üheksa</span><span span_info=Üheksakümmend,kümme>kümme</span><span span_info=Üheksakümmend>nd</span> tuhat.'"
      ]
     },
     "execution_count": 30,
     "metadata": {},
     "output_type": "execute_result"
    }
   ],
   "source": [
    "result"
   ]
  }
 ],
 "metadata": {
  "kernelspec": {
   "display_name": "Python 3",
   "language": "python",
   "name": "python3"
  },
  "language_info": {
   "codemirror_mode": {
    "name": "ipython",
    "version": 3
   },
   "file_extension": ".py",
   "mimetype": "text/x-python",
   "name": "python",
   "nbconvert_exporter": "python",
   "pygments_lexer": "ipython3",
   "version": "3.5.5"
  }
 },
 "nbformat": 4,
 "nbformat_minor": 2
}
