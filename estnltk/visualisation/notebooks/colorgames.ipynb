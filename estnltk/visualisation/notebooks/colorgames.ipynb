{
 "cells": [
  {
   "cell_type": "code",
   "execution_count": 15,
   "metadata": {},
   "outputs": [],
   "source": [
    "from estnltk.visualisation.span_visualiser.fancy_span_visualisation import DisplaySpans\n",
    "from typing import Mapping, Any, Tuple, Sequence, Union\n",
    "from estnltk import Text, Layer"
   ]
  },
  {
   "cell_type": "code",
   "execution_count": 2,
   "metadata": {
    "collapsed": true
   },
   "outputs": [],
   "source": [
    "def value_mapper_segment_type(segment: Tuple[str, Sequence], normal = '#ffffff00', conflicting = 'red', ambiguous = 'orange') -> str:\n",
    "    if len(segment[1]) != 1:\n",
    "        return conflicting\n",
    "    elif len(segment[1][0].annotations) > 1:\n",
    "        return ambiguous\n",
    "    else: \n",
    "        return normal"
   ]
  },
  {
   "cell_type": "code",
   "execution_count": 3,
   "metadata": {},
   "outputs": [
    {
     "data": {
      "text/plain": [
       "'red'"
      ]
     },
     "execution_count": 3,
     "metadata": {},
     "output_type": "execute_result"
    }
   ],
   "source": [
    "from collections import defaultdict\n",
    "u = {}\n",
    "u.setdefault('red')\n",
    "u[1]='blue'\n",
    "u\n",
    "v = defaultdict(lambda:'red')\n",
    "v[1]= 'blue'\n",
    "v[1]\n",
    "v[2]"
   ]
  },
  {
   "cell_type": "code",
   "execution_count": null,
   "metadata": {
    "collapsed": true
   },
   "outputs": [],
   "source": []
  },
  {
   "cell_type": "code",
   "execution_count": 4,
   "metadata": {
    "collapsed": true
   },
   "outputs": [],
   "source": [
    "class DisplayAmbiguousSpans(DisplaySpans):\n",
    "    \"\"\"\n",
    "    Displays overlaps between spans and spans with multiple annotations\n",
    "    \n",
    "    Default background color scheme is following:\n",
    "    * normal spans are transparent\n",
    "    * overlapping spans are red\n",
    "    * ambigious spans are orange\n",
    "    The opacity level indicates the number of overlaps and annotations\n",
    "    \n",
    "    Color scheme is controlled by two dictionary like class attributes\n",
    "    * span_coloring[int]\n",
    "    * annotation_coloring[int]\n",
    "    \n",
    "    Assigning corresponding elements redefines the coloring for a particular\n",
    "    number of annotations or spans, e.g. conflict_color[2] = 'blue'.\n",
    "    \n",
    "    Assigning corresponding attributes redefines the entire color scheme.\n",
    "    The assignable object color_scheme must support color_scheme[i] for anu int \n",
    "    \"\"\"\n",
    "    \n",
    "    def __init__(self):\n",
    "        super(DisplayAmbiguousSpans, self).__init__(styling=\"direct\")\n",
    "        \n",
    "        # Define two shades of red for overlaps\n",
    "        self.span_coloring = defaultdict(lambda:'#FF0000')\n",
    "        self.span_coloring[2] = '#FF5050'\n",
    "\n",
    "        # Define transparent + two shades of orange for ambigious annotations\n",
    "        self.annotation_coloring = defaultdict(lambda:'#F59B00')\n",
    "        self.annotation_coloring[1] = '#FFA50000'\n",
    "        self.annotation_coloring[2] = '#FFA500'\n",
    "\n",
    "        self.span_decorator.bg_mapping = self.__bg_mapper\n",
    "        \n",
    "    \n",
    "    def __bg_mapper(self, segment: Tuple[str, Sequence]) -> str:\n",
    "        if len(segment[1]) != 1:\n",
    "            return self.span_coloring[segment[1]]\n",
    "        \n",
    "        return self.annotation_coloring[len(segment[1][0].annotations)]\n"
   ]
  },
  {
   "cell_type": "code",
   "execution_count": 16,
   "metadata": {},
   "outputs": [],
   "source": [
    "class DisplayPostagsSpans(DisplaySpans):\n",
    "    \n",
    "    def __init__(self, layer:str='morph_analysis', tagset:str='EstMorf', ambiguity_resolver:callable=None):\n",
    "        super(DisplayPostagsSpans, self).__init__(styling=\"direct\")\n",
    "\n",
    "        self.morph_layer = layer\n",
    "        self.tagset = tagset\n",
    "        self.pos_coloring = defaultdict(lambda:'white')\n",
    "        self.ambiguity_resolver = ambiguity_resolver or self.__default_resolver\n",
    "        self.span_decorator.bg_mapping = self.__bg_mapper\n",
    "\n",
    "        if self.tagset == 'EstMorf':\n",
    "            self.pos_coloring['S'] = 'orange'\n",
    "            self.pos_coloring['H'] = 'orange'\n",
    "            self.pos_coloring['A'] = 'yellow'\n",
    "            self.pos_coloring['U'] = 'yellow'\n",
    "            self.pos_coloring['C'] = 'yellow'\n",
    "            self.pos_coloring['N'] = 'yellow'\n",
    "            self.pos_coloring['O'] = 'yellow'\n",
    "            self.pos_coloring['V'] = 'lime'\n",
    "            self.pos_coloring['*'] = 'gray'\n",
    "            \n",
    "        # Define two shades of red for overlaping tokenisation\n",
    "        self.span_coloring = defaultdict(lambda:'#FF0000')\n",
    "        self.span_coloring[2] = '#FF5050'\n",
    "            \n",
    "    def __call__(self, object:Union[Text, Layer]) -> str:\n",
    "        if isinstance(object, Text):\n",
    "            return super(DisplayPostagsSpans, self).__call__(object[self.morph_layer])\n",
    "        elif isinstance(object, Layer):\n",
    "            return super(DisplayPostagsSpans, self).__call__(object)\n",
    "        else:\n",
    "            raise ValueError('Invalid input')\n",
    "            \n",
    "            \n",
    "    def __default_resolver(self, span) -> str:\n",
    "        pos_tags = set(span.partofspeech)\n",
    "        if len(pos_tags) == 1:\n",
    "            return next(iter(pos_tags));\n",
    "        return '*'\n",
    "\n",
    "    \n",
    "    def __bg_mapper(self, segment: Tuple[str, Sequence]) -> str:\n",
    "        if len(segment[1]) != 1:\n",
    "            self.span_coloring[len(segment[1])]\n",
    "        \n",
    "        return self.pos_coloring[self.ambiguity_resolver(segment[1][0])]"
   ]
  },
  {
   "cell_type": "code",
   "execution_count": 8,
   "metadata": {},
   "outputs": [
    {
     "data": {
      "text/html": [
       "<table border=\"1\" class=\"dataframe\">\n",
       "  <thead>\n",
       "    <tr style=\"text-align: right;\">\n",
       "      <th>text</th>\n",
       "    </tr>\n",
       "  </thead>\n",
       "  <tbody>\n",
       "    <tr>\n",
       "      <td><div align = \"left\"></br>Silver Ükssilma lugu</br></br>Silver, kus on sinu kullamäed? </br>Merepõhja vara maha jäi koos laevaga. </br></br>Silver, kus on sinu julged teod? </br>Merepõhja noorus maha jäi koos laevaga. </br></br>Silver, kus on sinu vasak silm? </br>Merepõhja silm maha jäi koos laevaga. </br></br>Silver, kus on sinu röövlisalk? </br>Merepõhja poisid maha jäid koos laevaga. </br></br>Refr. Üksi ma veel kõrtsu laua taga, </br>piigad põlvedel oma viimseid päevi magan. </br></br>Silver, kus on sinu poisipõnn? </br>Merel seilab minu poisipõnn musta lipu all. </br></br>Silver, kus on sinu sünnipaik? </br>Laevakajutis mu sünnipaik musta lipu all. </br></br>Silver, kus on sinu õige koht? </br>Laeva tekil minu õige koht musta lipu all. </br></br>Silver, kus on sinu röövlisalk? </br>Merepõhja poisid maha jäid koos laevaga. </br></br>Refr. Üksi ma veel … </br></br>Merel sõidab minu poisipõnn, </br>ahhoi!</br></div></td>\n",
       "    </tr>\n",
       "  </tbody>\n",
       "</table>\n",
       "<table border=\"1\" class=\"dataframe\">\n",
       "  <thead>\n",
       "    <tr style=\"text-align: right;\">\n",
       "      <th>layer name</th>\n",
       "      <th>attributes</th>\n",
       "      <th>parent</th>\n",
       "      <th>enveloping</th>\n",
       "      <th>ambiguous</th>\n",
       "      <th>span count</th>\n",
       "    </tr>\n",
       "  </thead>\n",
       "  <tbody>\n",
       "    <tr>\n",
       "      <td>sentences</td>\n",
       "      <td></td>\n",
       "      <td>None</td>\n",
       "      <td>words</td>\n",
       "      <td>False</td>\n",
       "      <td>22</td>\n",
       "    </tr>\n",
       "    <tr>\n",
       "      <td>words</td>\n",
       "      <td>normalized_form</td>\n",
       "      <td>None</td>\n",
       "      <td>None</td>\n",
       "      <td>False</td>\n",
       "      <td>150</td>\n",
       "    </tr>\n",
       "    <tr>\n",
       "      <td>morph_analysis</td>\n",
       "      <td>lemma, root, root_tokens, ending, clitic, form, partofspeech</td>\n",
       "      <td>words</td>\n",
       "      <td>None</td>\n",
       "      <td>True</td>\n",
       "      <td>150</td>\n",
       "    </tr>\n",
       "  </tbody>\n",
       "</table>"
      ],
      "text/plain": [
       "Text(text='\\nSilver Ükssilma lugu\\n\\nSilver, kus on sinu kullamäed? \\nMerepõhja vara maha jäi koos laevaga. \\n\\nSilver, kus on sinu julged teod? \\nMerepõhja noorus maha jäi koos laevaga. \\n\\nSilver, kus on sinu vasak silm? \\nMerepõhja silm maha jäi koos laevaga. \\n\\nSilver, kus on sinu röövlisalk? \\nMerepõhja poisid maha jäid koos laevaga. \\n\\nRefr. Üksi ma veel kõrtsu laua taga, \\npiigad põlvedel oma viimseid päevi magan. \\n\\nSilver, kus on sinu poisipõnn? \\nMerel seilab minu poisipõnn musta lipu all. \\n\\nSilver, kus on sinu sünnipaik? \\nLaevakajutis mu sünnipaik musta lipu all. \\n\\nSilver, kus on sinu õige koht? \\nLaeva tekil minu õige koht musta lipu all. \\n\\nSilver, kus on sinu röövlisalk? \\nMerepõhja poisid maha jäid koos laevaga. \\n\\nRefr. Üksi ma veel … \\n\\nMerel sõidab minu poisipõnn, \\nahhoi!\\n')"
      ]
     },
     "execution_count": 8,
     "metadata": {},
     "output_type": "execute_result"
    }
   ],
   "source": [
    "t=Text(\"\"\"\n",
    "Silver Ükssilma lugu\n",
    "\n",
    "Silver, kus on sinu kullamäed? \n",
    "Merepõhja vara maha jäi koos laevaga. \n",
    "\n",
    "Silver, kus on sinu julged teod? \n",
    "Merepõhja noorus maha jäi koos laevaga. \n",
    "\n",
    "Silver, kus on sinu vasak silm? \n",
    "Merepõhja silm maha jäi koos laevaga. \n",
    "\n",
    "Silver, kus on sinu röövlisalk? \n",
    "Merepõhja poisid maha jäid koos laevaga. \n",
    "\n",
    "Refr. Üksi ma veel kõrtsu laua taga, \n",
    "piigad põlvedel oma viimseid päevi magan. \n",
    "\n",
    "Silver, kus on sinu poisipõnn? \n",
    "Merel seilab minu poisipõnn musta lipu all. \n",
    "\n",
    "Silver, kus on sinu sünnipaik? \n",
    "Laevakajutis mu sünnipaik musta lipu all. \n",
    "\n",
    "Silver, kus on sinu õige koht? \n",
    "Laeva tekil minu õige koht musta lipu all. \n",
    "\n",
    "Silver, kus on sinu röövlisalk? \n",
    "Merepõhja poisid maha jäid koos laevaga. \n",
    "\n",
    "Refr. Üksi ma veel … \n",
    "\n",
    "Merel sõidab minu poisipõnn, \n",
    "ahhoi!\n",
    "\"\"\")\n",
    "t.analyse('morphology')"
   ]
  },
  {
   "cell_type": "code",
   "execution_count": 155,
   "metadata": {},
   "outputs": [
    {
     "data": {
      "text/html": [
       "<script>\n",
       "var elements = document.getElementsByClassName(\"overlapping-span\")\n",
       "for (let i = 0; i < elements.length; i++){\n",
       "    elements.item(i).addEventListener(\"click\",function() {show_conflicting_spans(elements.item(i));})}\n",
       "\n",
       "function show_conflicting_spans(span_element) {\n",
       "    let spantable = document.createElement('div')\n",
       "    spantable.classList.add('tables')\n",
       "\n",
       "    // Prepare the contents of the span table\n",
       "    data = span_element.getAttribute(\"span_info\")\n",
       "    data = data.split(\",\")\n",
       "    var spancontent = '<table>'\n",
       "    for (let row of data) {\n",
       "        spancontent+='<tr><td>'\n",
       "        spancontent+=row\n",
       "        spancontent+='</td></tr>'\n",
       "    }\n",
       "    spancontent += '</table>'\n",
       "    spantable.innerHTML = spancontent\n",
       "    span_element.parentElement.appendChild(spantable)\n",
       "\n",
       "    // Increase the size of the cell so the tables would fit\n",
       "    spantable.parentElement.style.height = Math.max(Number(spantable.parentElement.style.height.substring(0,spantable.parentElement.style.height.length-2)),span_element.offsetTop+90)+ 'px'\n",
       "    // Position the table directly below the corresponding text\n",
       "    spantable.style.left = span_element.getBoundingClientRect().left-spantable.parentElement.parentElement.getBoundingClientRect().left + 'px'\n",
       "    spantable.style.top = span_element.getBoundingClientRect().top-spantable.parentElement.parentElement.getBoundingClientRect().top+20+ 'px'\n",
       "\n",
       "    // Remove the table when clicked on again\n",
       "    spantable.addEventListener('click', function () {\n",
       "        let element = this.parentElement\n",
       "        element.removeChild(this)\n",
       "    })\n",
       "}\n",
       "</script>\n",
       "<span style=background:#FFA50000;>Silver</span> <span style=background:#FFA50000;>Ükssilma</span> <span style=background:#FFA50000;>lugu</span>\n",
       "\n",
       "<span style=background:#FFA50000;>Silver</span><span style=background:#FFA50000;>,</span> <span style=background:#FFA50000;>kus</span> <span style=background:#FFA500;>on</span> <span style=background:#FFA50000;>sinu</span> <span style=background:#FFA50000;>kullamäed</span><span style=background:#FFA50000;>?</span> \n",
       "<span style=background:#FFA50000;>Merepõhja</span> <span style=background:#FFA50000;>vara</span> <span style=background:#FFA50000;>maha</span> <span style=background:#FFA50000;>jäi</span> <span style=background:#FFA50000;>koos</span> <span style=background:#FFA50000;>laevaga</span><span style=background:#FFA50000;>.</span> \n",
       "\n",
       "<span style=background:#FFA50000;>Silver</span><span style=background:#FFA50000;>,</span> <span style=background:#FFA50000;>kus</span> <span style=background:#FFA500;>on</span> <span style=background:#FFA50000;>sinu</span> <span style=background:#FFA50000;>julged</span> <span style=background:#FFA500;>teod</span><span style=background:#FFA50000;>?</span> \n",
       "<span style=background:#FFA50000;>Merepõhja</span> <span style=background:#FFA50000;>noorus</span> <span style=background:#FFA50000;>maha</span> <span style=background:#FFA50000;>jäi</span> <span style=background:#FFA50000;>koos</span> <span style=background:#FFA50000;>laevaga</span><span style=background:#FFA50000;>.</span> \n",
       "\n",
       "<span style=background:#FFA50000;>Silver</span><span style=background:#FFA50000;>,</span> <span style=background:#FFA50000;>kus</span> <span style=background:#FFA500;>on</span> <span style=background:#FFA50000;>sinu</span> <span style=background:#FFA50000;>vasak</span> <span style=background:#FFA50000;>silm</span><span style=background:#FFA50000;>?</span> \n",
       "<span style=background:#FFA50000;>Merepõhja</span> <span style=background:#FFA50000;>silm</span> <span style=background:#FFA50000;>maha</span> <span style=background:#FFA50000;>jäi</span> <span style=background:#FFA50000;>koos</span> <span style=background:#FFA50000;>laevaga</span><span style=background:#FFA50000;>.</span> \n",
       "\n",
       "<span style=background:#FFA50000;>Silver</span><span style=background:#FFA50000;>,</span> <span style=background:#FFA50000;>kus</span> <span style=background:#FFA500;>on</span> <span style=background:#FFA50000;>sinu</span> <span style=background:#FFA50000;>röövlisalk</span><span style=background:#FFA50000;>?</span> \n",
       "<span style=background:#FFA50000;>Merepõhja</span> <span style=background:#FFA50000;>poisid</span> <span style=background:#FFA50000;>maha</span> <span style=background:#FFA50000;>jäid</span> <span style=background:#FFA50000;>koos</span> <span style=background:#FFA50000;>laevaga</span><span style=background:#FFA50000;>.</span> \n",
       "\n",
       "<span style=background:#FFA50000;>Refr</span><span style=background:#FFA50000;>.</span> <span style=background:#FFA50000;>Üksi</span> <span style=background:#FFA50000;>ma</span> <span style=background:#FFA50000;>veel</span> <span style=background:#FFA50000;>kõrtsu</span> <span style=background:#FFA50000;>laua</span> <span style=background:#FFA50000;>taga</span><span style=background:#FFA50000;>,</span> \n",
       "<span style=background:#FFA50000;>piigad</span> <span style=background:#FFA500;>põlvedel</span> <span style=background:#FFA50000;>oma</span> <span style=background:#FFA50000;>viimseid</span> <span style=background:#FFA50000;>päevi</span> <span style=background:#FFA50000;>magan</span><span style=background:#FFA50000;>.</span> \n",
       "\n",
       "<span style=background:#FFA50000;>Silver</span><span style=background:#FFA50000;>,</span> <span style=background:#FFA50000;>kus</span> <span style=background:#FFA500;>on</span> <span style=background:#FFA50000;>sinu</span> <span style=background:#FFA50000;>poisipõnn</span><span style=background:#FFA50000;>?</span> \n",
       "<span style=background:#FFA50000;>Merel</span> <span style=background:#FFA50000;>seilab</span> <span style=background:#FFA50000;>minu</span> <span style=background:#FFA50000;>poisipõnn</span> <span style=background:#FFA50000;>musta</span> <span style=background:#FFA50000;>lipu</span> <span style=background:#FFA50000;>all</span><span style=background:#FFA50000;>.</span> \n",
       "\n",
       "<span style=background:#FFA50000;>Silver</span><span style=background:#FFA50000;>,</span> <span style=background:#FFA50000;>kus</span> <span style=background:#FFA500;>on</span> <span style=background:#FFA50000;>sinu</span> <span style=background:#FFA50000;>sünnipaik</span><span style=background:#FFA50000;>?</span> \n",
       "<span style=background:#FFA50000;>Laevakajutis</span> <span style=background:#FFA50000;>mu</span> <span style=background:#FFA50000;>sünnipaik</span> <span style=background:#FFA50000;>musta</span> <span style=background:#FFA50000;>lipu</span> <span style=background:#FFA50000;>all</span><span style=background:#FFA50000;>.</span> \n",
       "\n",
       "<span style=background:#FFA50000;>Silver</span><span style=background:#FFA50000;>,</span> <span style=background:#FFA50000;>kus</span> <span style=background:#FFA500;>on</span> <span style=background:#FFA50000;>sinu</span> <span style=background:#FFA50000;>õige</span> <span style=background:#FFA50000;>koht</span><span style=background:#FFA50000;>?</span> \n",
       "<span style=background:#FFA50000;>Laeva</span> <span style=background:#FFA50000;>tekil</span> <span style=background:#FFA50000;>minu</span> <span style=background:#FFA50000;>õige</span> <span style=background:#FFA50000;>koht</span> <span style=background:#FFA50000;>musta</span> <span style=background:#FFA50000;>lipu</span> <span style=background:#FFA50000;>all</span><span style=background:#FFA50000;>.</span> \n",
       "\n",
       "<span style=background:#FFA50000;>Silver</span><span style=background:#FFA50000;>,</span> <span style=background:#FFA50000;>kus</span> <span style=background:#FFA500;>on</span> <span style=background:#FFA50000;>sinu</span> <span style=background:#FFA50000;>röövlisalk</span><span style=background:#FFA50000;>?</span> \n",
       "<span style=background:#FFA50000;>Merepõhja</span> <span style=background:#FFA50000;>poisid</span> <span style=background:#FFA50000;>maha</span> <span style=background:#FFA50000;>jäid</span> <span style=background:#FFA50000;>koos</span> <span style=background:#FFA50000;>laevaga</span><span style=background:#FFA50000;>.</span> \n",
       "\n",
       "<span style=background:#FFA50000;>Refr</span><span style=background:#FFA50000;>.</span> <span style=background:#FFA50000;>Üksi</span> <span style=background:#FFA50000;>ma</span> <span style=background:#FFA50000;>veel</span> <span style=background:#FFA50000;>…</span> \n",
       "\n",
       "<span style=background:#FFA50000;>Merel</span> <span style=background:#FFA50000;>sõidab</span> <span style=background:#FFA50000;>minu</span> <span style=background:#FFA50000;>poisipõnn</span><span style=background:#FFA50000;>,</span> \n",
       "<span style=background:#FFA50000;>ahhoi</span><span style=background:#FFA50000;>!</span>\n"
      ]
     },
     "metadata": {},
     "output_type": "display_data"
    }
   ],
   "source": [
    "display_ambigous = DisplayAmbiguousSpans()\n",
    "display_ambigous(t.morph_analysis)"
   ]
  },
  {
   "cell_type": "code",
   "execution_count": 18,
   "metadata": {},
   "outputs": [
    {
     "data": {
      "text/html": [
       "<script>\n",
       "var elements = document.getElementsByClassName(\"overlapping-span\")\n",
       "for (let i = 0; i < elements.length; i++){\n",
       "    elements.item(i).addEventListener(\"click\",function() {show_conflicting_spans(elements.item(i));})}\n",
       "\n",
       "function show_conflicting_spans(span_element) {\n",
       "    let spantable = document.createElement('div')\n",
       "    spantable.classList.add('tables')\n",
       "\n",
       "    // Prepare the contents of the span table\n",
       "    data = span_element.getAttribute(\"span_info\")\n",
       "    data = data.split(\",\")\n",
       "    var spancontent = '<table>'\n",
       "    for (let row of data) {\n",
       "        spancontent+='<tr><td>'\n",
       "        spancontent+=row\n",
       "        spancontent+='</td></tr>'\n",
       "    }\n",
       "    spancontent += '</table>'\n",
       "    spantable.innerHTML = spancontent\n",
       "    span_element.parentElement.appendChild(spantable)\n",
       "\n",
       "    // Increase the size of the cell so the tables would fit\n",
       "    spantable.parentElement.style.height = Math.max(Number(spantable.parentElement.style.height.substring(0,spantable.parentElement.style.height.length-2)),span_element.offsetTop+90)+ 'px'\n",
       "    // Position the table directly below the corresponding text\n",
       "    spantable.style.left = span_element.getBoundingClientRect().left-spantable.parentElement.parentElement.getBoundingClientRect().left + 'px'\n",
       "    spantable.style.top = span_element.getBoundingClientRect().top-spantable.parentElement.parentElement.getBoundingClientRect().top+20+ 'px'\n",
       "\n",
       "    // Remove the table when clicked on again\n",
       "    spantable.addEventListener('click', function () {\n",
       "        let element = this.parentElement\n",
       "        element.removeChild(this)\n",
       "    })\n",
       "}\n",
       "</script>\n",
       "<span style=background:orange;>Silver</span> <span style=background:orange;>Ükssilma</span> <span style=background:orange;>lugu</span>\n",
       "\n",
       "<span style=background:orange;>Silver</span><span style=background:white;>,</span> <span style=background:white;>kus</span> <span style=background:lime;>on</span> <span style=background:white;>sinu</span> <span style=background:orange;>kullamäed</span><span style=background:white;>?</span> \n",
       "<span style=background:orange;>Merepõhja</span> <span style=background:orange;>vara</span> <span style=background:white;>maha</span> <span style=background:lime;>jäi</span> <span style=background:white;>koos</span> <span style=background:orange;>laevaga</span><span style=background:white;>.</span> \n",
       "\n",
       "<span style=background:orange;>Silver</span><span style=background:white;>,</span> <span style=background:white;>kus</span> <span style=background:lime;>on</span> <span style=background:white;>sinu</span> <span style=background:yellow;>julged</span> <span style=background:orange;>teod</span><span style=background:white;>?</span> \n",
       "<span style=background:orange;>Merepõhja</span> <span style=background:orange;>noorus</span> <span style=background:white;>maha</span> <span style=background:lime;>jäi</span> <span style=background:white;>koos</span> <span style=background:orange;>laevaga</span><span style=background:white;>.</span> \n",
       "\n",
       "<span style=background:orange;>Silver</span><span style=background:white;>,</span> <span style=background:white;>kus</span> <span style=background:lime;>on</span> <span style=background:white;>sinu</span> <span style=background:yellow;>vasak</span> <span style=background:orange;>silm</span><span style=background:white;>?</span> \n",
       "<span style=background:orange;>Merepõhja</span> <span style=background:orange;>silm</span> <span style=background:white;>maha</span> <span style=background:lime;>jäi</span> <span style=background:white;>koos</span> <span style=background:orange;>laevaga</span><span style=background:white;>.</span> \n",
       "\n",
       "<span style=background:orange;>Silver</span><span style=background:white;>,</span> <span style=background:white;>kus</span> <span style=background:lime;>on</span> <span style=background:white;>sinu</span> <span style=background:orange;>röövlisalk</span><span style=background:white;>?</span> \n",
       "<span style=background:orange;>Merepõhja</span> <span style=background:orange;>poisid</span> <span style=background:white;>maha</span> <span style=background:lime;>jäid</span> <span style=background:white;>koos</span> <span style=background:orange;>laevaga</span><span style=background:white;>.</span> \n",
       "\n",
       "<span style=background:orange;>Refr</span><span style=background:white;>.</span> <span style=background:white;>Üksi</span> <span style=background:white;>ma</span> <span style=background:white;>veel</span> <span style=background:orange;>kõrtsu</span> <span style=background:orange;>laua</span> <span style=background:white;>taga</span><span style=background:white;>,</span> \n",
       "<span style=background:orange;>piigad</span> <span style=background:orange;>põlvedel</span> <span style=background:white;>oma</span> <span style=background:yellow;>viimseid</span> <span style=background:orange;>päevi</span> <span style=background:lime;>magan</span><span style=background:white;>.</span> \n",
       "\n",
       "<span style=background:orange;>Silver</span><span style=background:white;>,</span> <span style=background:white;>kus</span> <span style=background:lime;>on</span> <span style=background:white;>sinu</span> <span style=background:orange;>poisipõnn</span><span style=background:white;>?</span> \n",
       "<span style=background:orange;>Merel</span> <span style=background:lime;>seilab</span> <span style=background:white;>minu</span> <span style=background:orange;>poisipõnn</span> <span style=background:yellow;>musta</span> <span style=background:orange;>lipu</span> <span style=background:white;>all</span><span style=background:white;>.</span> \n",
       "\n",
       "<span style=background:orange;>Silver</span><span style=background:white;>,</span> <span style=background:white;>kus</span> <span style=background:lime;>on</span> <span style=background:white;>sinu</span> <span style=background:orange;>sünnipaik</span><span style=background:white;>?</span> \n",
       "<span style=background:orange;>Laevakajutis</span> <span style=background:white;>mu</span> <span style=background:orange;>sünnipaik</span> <span style=background:yellow;>musta</span> <span style=background:orange;>lipu</span> <span style=background:white;>all</span><span style=background:white;>.</span> \n",
       "\n",
       "<span style=background:orange;>Silver</span><span style=background:white;>,</span> <span style=background:white;>kus</span> <span style=background:lime;>on</span> <span style=background:white;>sinu</span> <span style=background:yellow;>õige</span> <span style=background:orange;>koht</span><span style=background:white;>?</span> \n",
       "<span style=background:orange;>Laeva</span> <span style=background:orange;>tekil</span> <span style=background:white;>minu</span> <span style=background:yellow;>õige</span> <span style=background:orange;>koht</span> <span style=background:yellow;>musta</span> <span style=background:orange;>lipu</span> <span style=background:white;>all</span><span style=background:white;>.</span> \n",
       "\n",
       "<span style=background:orange;>Silver</span><span style=background:white;>,</span> <span style=background:white;>kus</span> <span style=background:lime;>on</span> <span style=background:white;>sinu</span> <span style=background:orange;>röövlisalk</span><span style=background:white;>?</span> \n",
       "<span style=background:orange;>Merepõhja</span> <span style=background:orange;>poisid</span> <span style=background:white;>maha</span> <span style=background:lime;>jäid</span> <span style=background:white;>koos</span> <span style=background:orange;>laevaga</span><span style=background:white;>.</span> \n",
       "\n",
       "<span style=background:orange;>Refr</span><span style=background:white;>.</span> <span style=background:white;>Üksi</span> <span style=background:white;>ma</span> <span style=background:white;>veel</span> <span style=background:white;>…</span> \n",
       "\n",
       "<span style=background:orange;>Merel</span> <span style=background:lime;>sõidab</span> <span style=background:white;>minu</span> <span style=background:orange;>poisipõnn</span><span style=background:white;>,</span> \n",
       "<span style=background:white;>ahhoi</span><span style=background:white;>!</span>\n"
      ]
     },
     "metadata": {},
     "output_type": "display_data"
    },
    {
     "data": {
      "text/html": [
       "<script>\n",
       "var elements = document.getElementsByClassName(\"overlapping-span\")\n",
       "for (let i = 0; i < elements.length; i++){\n",
       "    elements.item(i).addEventListener(\"click\",function() {show_conflicting_spans(elements.item(i));})}\n",
       "\n",
       "function show_conflicting_spans(span_element) {\n",
       "    let spantable = document.createElement('div')\n",
       "    spantable.classList.add('tables')\n",
       "\n",
       "    // Prepare the contents of the span table\n",
       "    data = span_element.getAttribute(\"span_info\")\n",
       "    data = data.split(\",\")\n",
       "    var spancontent = '<table>'\n",
       "    for (let row of data) {\n",
       "        spancontent+='<tr><td>'\n",
       "        spancontent+=row\n",
       "        spancontent+='</td></tr>'\n",
       "    }\n",
       "    spancontent += '</table>'\n",
       "    spantable.innerHTML = spancontent\n",
       "    span_element.parentElement.appendChild(spantable)\n",
       "\n",
       "    // Increase the size of the cell so the tables would fit\n",
       "    spantable.parentElement.style.height = Math.max(Number(spantable.parentElement.style.height.substring(0,spantable.parentElement.style.height.length-2)),span_element.offsetTop+90)+ 'px'\n",
       "    // Position the table directly below the corresponding text\n",
       "    spantable.style.left = span_element.getBoundingClientRect().left-spantable.parentElement.parentElement.getBoundingClientRect().left + 'px'\n",
       "    spantable.style.top = span_element.getBoundingClientRect().top-spantable.parentElement.parentElement.getBoundingClientRect().top+20+ 'px'\n",
       "\n",
       "    // Remove the table when clicked on again\n",
       "    spantable.addEventListener('click', function () {\n",
       "        let element = this.parentElement\n",
       "        element.removeChild(this)\n",
       "    })\n",
       "}\n",
       "</script>\n",
       "<span style=background:orange;>Silver</span> <span style=background:orange;>Ükssilma</span> <span style=background:orange;>lugu</span>\n",
       "\n",
       "<span style=background:orange;>Silver</span><span style=background:white;>,</span> <span style=background:white;>kus</span> <span style=background:lime;>on</span> <span style=background:white;>sinu</span> <span style=background:orange;>kullamäed</span><span style=background:white;>?</span> \n",
       "<span style=background:orange;>Merepõhja</span> <span style=background:orange;>vara</span> <span style=background:white;>maha</span> <span style=background:lime;>jäi</span> <span style=background:white;>koos</span> <span style=background:orange;>laevaga</span><span style=background:white;>.</span> \n",
       "\n",
       "<span style=background:orange;>Silver</span><span style=background:white;>,</span> <span style=background:white;>kus</span> <span style=background:lime;>on</span> <span style=background:white;>sinu</span> <span style=background:yellow;>julged</span> <span style=background:orange;>teod</span><span style=background:white;>?</span> \n",
       "<span style=background:orange;>Merepõhja</span> <span style=background:orange;>noorus</span> <span style=background:white;>maha</span> <span style=background:lime;>jäi</span> <span style=background:white;>koos</span> <span style=background:orange;>laevaga</span><span style=background:white;>.</span> \n",
       "\n",
       "<span style=background:orange;>Silver</span><span style=background:white;>,</span> <span style=background:white;>kus</span> <span style=background:lime;>on</span> <span style=background:white;>sinu</span> <span style=background:yellow;>vasak</span> <span style=background:orange;>silm</span><span style=background:white;>?</span> \n",
       "<span style=background:orange;>Merepõhja</span> <span style=background:orange;>silm</span> <span style=background:white;>maha</span> <span style=background:lime;>jäi</span> <span style=background:white;>koos</span> <span style=background:orange;>laevaga</span><span style=background:white;>.</span> \n",
       "\n",
       "<span style=background:orange;>Silver</span><span style=background:white;>,</span> <span style=background:white;>kus</span> <span style=background:lime;>on</span> <span style=background:white;>sinu</span> <span style=background:orange;>röövlisalk</span><span style=background:white;>?</span> \n",
       "<span style=background:orange;>Merepõhja</span> <span style=background:orange;>poisid</span> <span style=background:white;>maha</span> <span style=background:lime;>jäid</span> <span style=background:white;>koos</span> <span style=background:orange;>laevaga</span><span style=background:white;>.</span> \n",
       "\n",
       "<span style=background:orange;>Refr</span><span style=background:white;>.</span> <span style=background:white;>Üksi</span> <span style=background:white;>ma</span> <span style=background:white;>veel</span> <span style=background:orange;>kõrtsu</span> <span style=background:orange;>laua</span> <span style=background:white;>taga</span><span style=background:white;>,</span> \n",
       "<span style=background:orange;>piigad</span> <span style=background:orange;>põlvedel</span> <span style=background:white;>oma</span> <span style=background:yellow;>viimseid</span> <span style=background:orange;>päevi</span> <span style=background:lime;>magan</span><span style=background:white;>.</span> \n",
       "\n",
       "<span style=background:orange;>Silver</span><span style=background:white;>,</span> <span style=background:white;>kus</span> <span style=background:lime;>on</span> <span style=background:white;>sinu</span> <span style=background:orange;>poisipõnn</span><span style=background:white;>?</span> \n",
       "<span style=background:orange;>Merel</span> <span style=background:lime;>seilab</span> <span style=background:white;>minu</span> <span style=background:orange;>poisipõnn</span> <span style=background:yellow;>musta</span> <span style=background:orange;>lipu</span> <span style=background:white;>all</span><span style=background:white;>.</span> \n",
       "\n",
       "<span style=background:orange;>Silver</span><span style=background:white;>,</span> <span style=background:white;>kus</span> <span style=background:lime;>on</span> <span style=background:white;>sinu</span> <span style=background:orange;>sünnipaik</span><span style=background:white;>?</span> \n",
       "<span style=background:orange;>Laevakajutis</span> <span style=background:white;>mu</span> <span style=background:orange;>sünnipaik</span> <span style=background:yellow;>musta</span> <span style=background:orange;>lipu</span> <span style=background:white;>all</span><span style=background:white;>.</span> \n",
       "\n",
       "<span style=background:orange;>Silver</span><span style=background:white;>,</span> <span style=background:white;>kus</span> <span style=background:lime;>on</span> <span style=background:white;>sinu</span> <span style=background:yellow;>õige</span> <span style=background:orange;>koht</span><span style=background:white;>?</span> \n",
       "<span style=background:orange;>Laeva</span> <span style=background:orange;>tekil</span> <span style=background:white;>minu</span> <span style=background:yellow;>õige</span> <span style=background:orange;>koht</span> <span style=background:yellow;>musta</span> <span style=background:orange;>lipu</span> <span style=background:white;>all</span><span style=background:white;>.</span> \n",
       "\n",
       "<span style=background:orange;>Silver</span><span style=background:white;>,</span> <span style=background:white;>kus</span> <span style=background:lime;>on</span> <span style=background:white;>sinu</span> <span style=background:orange;>röövlisalk</span><span style=background:white;>?</span> \n",
       "<span style=background:orange;>Merepõhja</span> <span style=background:orange;>poisid</span> <span style=background:white;>maha</span> <span style=background:lime;>jäid</span> <span style=background:white;>koos</span> <span style=background:orange;>laevaga</span><span style=background:white;>.</span> \n",
       "\n",
       "<span style=background:orange;>Refr</span><span style=background:white;>.</span> <span style=background:white;>Üksi</span> <span style=background:white;>ma</span> <span style=background:white;>veel</span> <span style=background:white;>…</span> \n",
       "\n",
       "<span style=background:orange;>Merel</span> <span style=background:lime;>sõidab</span> <span style=background:white;>minu</span> <span style=background:orange;>poisipõnn</span><span style=background:white;>,</span> \n",
       "<span style=background:white;>ahhoi</span><span style=background:white;>!</span>\n"
      ]
     },
     "metadata": {},
     "output_type": "display_data"
    }
   ],
   "source": [
    "display_postags = DisplayPostagsSpans()\n",
    "display_postags(t.morph_analysis)\n",
    "display_postags(t)"
   ]
  },
  {
   "cell_type": "code",
   "execution_count": 6,
   "metadata": {
    "collapsed": true
   },
   "outputs": [],
   "source": [
    "%config IPCompleter.greedy=True"
   ]
  },
  {
   "cell_type": "code",
   "execution_count": 6,
   "metadata": {
    "collapsed": true
   },
   "outputs": [],
   "source": [
    "def display_ambigious(layer, bg_color = 'orange'):\n",
    "    \"\"\"\n",
    "    Colors all ambigious spans  \n",
    "    \"\"\"\n",
    "    \n",
    "    disp2 = DisplaySpans(styling=\"direct\")\n",
    "    disp2.span_decorator.bg_mapping = lambda segment: color_first_cases(segment, color_dict, ambiguous)\n",
    "    disp2(t.morph_analysis)    "
   ]
  },
  {
   "cell_type": "code",
   "execution_count": 2,
   "metadata": {
    "collapsed": true
   },
   "outputs": [],
   "source": [
    "def color_postags(segment: Tuple[str, Sequence],  color_dict, ambiguous ) -> str:\n",
    "    \"\"\"\n",
    "    Colors based on postags\n",
    "    \"\"\"\n",
    "\n",
    "    if len(segment[1]) != 1:\n",
    "        \n",
    "        return 'red'\n",
    "    \n",
    "    # It might be better to convert it to string     \n",
    "    pos_tags = getattr(segment[1][0], 'partofspeech')\n",
    "\n",
    "    # Ambigous POS tagging\n",
    "    \n",
    "    postags_set = sorted(list(set(pos_tags)))\n",
    "    \n",
    "    if len(postags_set) > 1:\n",
    "        return ambiguous\n",
    "\n",
    "    return color_dict.get(pos_tags[0], 'white')"
   ]
  },
  {
   "cell_type": "code",
   "execution_count": 3,
   "metadata": {
    "collapsed": true
   },
   "outputs": [],
   "source": [
    "def display_postags(text, color_dict= {'S': 'orange', 'H': 'orange', 'A': 'yellow', 'U': 'yellow', 'C': 'yellow', 'N': 'yellow', \n",
    "                       'O': 'yellow', 'V': 'lime'}, ambiguous= 'white'):\n",
    "    \n",
    "    \"\"\"\n",
    "    Displays some postags in different colors. Colors and postags can be defined by user\n",
    "    \"\"\"\n",
    "    \n",
    "    t = Text(text).tag_layer()\n",
    "    disp2 = DisplaySpans(styling=\"direct\")\n",
    "    disp2.span_decorator.bg_mapping = lambda segment: color_postags(segment, color_dict, ambiguous)\n",
    "    disp2(t.morph_analysis)\n"
   ]
  },
  {
   "cell_type": "code",
   "execution_count": 4,
   "metadata": {},
   "outputs": [
    {
     "data": {
      "text/html": [
       "<script>\n",
       "var elements = document.getElementsByClassName(\"overlapping-span\")\n",
       "for (let i = 0; i < elements.length; i++){\n",
       "    elements.item(i).addEventListener(\"click\",function() {show_conflicting_spans(elements.item(i));})}\n",
       "\n",
       "function show_conflicting_spans(span_element) {\n",
       "    let spantable = document.createElement('div')\n",
       "    spantable.classList.add('tables')\n",
       "\n",
       "    // Prepare the contents of the span table\n",
       "    data = span_element.getAttribute(\"span_info\")\n",
       "    data = data.split(\",\")\n",
       "    var spancontent = '<table>'\n",
       "    for (let row of data) {\n",
       "        spancontent+='<tr><td>'\n",
       "        spancontent+=row\n",
       "        spancontent+='</td></tr>'\n",
       "    }\n",
       "    spancontent += '</table>'\n",
       "    spantable.innerHTML = spancontent\n",
       "    span_element.parentElement.appendChild(spantable)\n",
       "\n",
       "    // Increase the size of the cell so the tables would fit\n",
       "    spantable.parentElement.style.height = Math.max(Number(spantable.parentElement.style.height.substring(0,spantable.parentElement.style.height.length-2)),span_element.offsetTop+90)+ 'px'\n",
       "    // Position the table directly below the corresponding text\n",
       "    spantable.style.left = span_element.getBoundingClientRect().left-spantable.parentElement.parentElement.getBoundingClientRect().left + 'px'\n",
       "    spantable.style.top = span_element.getBoundingClientRect().top-spantable.parentElement.parentElement.getBoundingClientRect().top+20+ 'px'\n",
       "\n",
       "    // Remove the table when clicked on again\n",
       "    spantable.addEventListener('click', function () {\n",
       "        let element = this.parentElement\n",
       "        element.removeChild(this)\n",
       "    })\n",
       "}\n",
       "</script><span style=background:orange;>Samojeedid</span> <span style=background:lime;>on</span> <span style=background:yellow;>valged</span> <span style=background:orange;>karvapallid</span><span style=background:white;>.</span>"
      ]
     },
     "metadata": {},
     "output_type": "display_data"
    }
   ],
   "source": [
    "display_postags('Samojeedid on valged karvapallid.')"
   ]
  },
  {
   "cell_type": "code",
   "execution_count": 5,
   "metadata": {},
   "outputs": [
    {
     "data": {
      "text/html": [
       "<script>\n",
       "var elements = document.getElementsByClassName(\"overlapping-span\")\n",
       "for (let i = 0; i < elements.length; i++){\n",
       "    elements.item(i).addEventListener(\"click\",function() {show_conflicting_spans(elements.item(i));})}\n",
       "\n",
       "function show_conflicting_spans(span_element) {\n",
       "    let spantable = document.createElement('div')\n",
       "    spantable.classList.add('tables')\n",
       "\n",
       "    // Prepare the contents of the span table\n",
       "    data = span_element.getAttribute(\"span_info\")\n",
       "    data = data.split(\",\")\n",
       "    var spancontent = '<table>'\n",
       "    for (let row of data) {\n",
       "        spancontent+='<tr><td>'\n",
       "        spancontent+=row\n",
       "        spancontent+='</td></tr>'\n",
       "    }\n",
       "    spancontent += '</table>'\n",
       "    spantable.innerHTML = spancontent\n",
       "    span_element.parentElement.appendChild(spantable)\n",
       "\n",
       "    //Increase the size of the cell so the tables would fit\n",
       "    spantable.parentElement.style.height = Math.max(Number(spantable.parentElement.style.height.substring(0,spantable.parentElement.style.height.length-2)),span_element.offsetTop+90)+ 'px'\n",
       "    //Position the table directly below the corresponding text\n",
       "    spantable.style.left = span_element.getBoundingClientRect().left-spantable.parentElement.parentElement.getBoundingClientRect().left + 'px'\n",
       "    spantable.style.top = span_element.getBoundingClientRect().top-spantable.parentElement.parentElement.getBoundingClientRect().top+20+ 'px'\n",
       "\n",
       "\n",
       "    // remove the table when clicked on again\n",
       "    spantable.addEventListener('click', function () {\n",
       "        let element = this.parentElement\n",
       "        element.removeChild(this)  //deleting the table\n",
       "    })\n",
       "}\n",
       "</script><span style=background:orange;>Partitsiibid</span> <span style=background:lime;>on</span> <span style=background:white;>jäänud</span>  <span style=background:yellow;>mitmeseks</span><span style=background:white;>.</span>"
      ]
     },
     "metadata": {},
     "output_type": "display_data"
    }
   ],
   "source": [
    "display_postags('Partitsiibid on jäänud  mitmeseks.')"
   ]
  },
  {
   "cell_type": "code",
   "execution_count": 6,
   "metadata": {
    "collapsed": true
   },
   "outputs": [],
   "source": [
    "color_dict = {'S': 'lightgreen', 'H': 'lightgreen', 'A': 'pink'}"
   ]
  },
  {
   "cell_type": "code",
   "execution_count": 7,
   "metadata": {},
   "outputs": [
    {
     "data": {
      "text/html": [
       "<script>\n",
       "var elements = document.getElementsByClassName(\"overlapping-span\")\n",
       "for (let i = 0; i < elements.length; i++){\n",
       "    elements.item(i).addEventListener(\"click\",function() {show_conflicting_spans(elements.item(i));})}\n",
       "\n",
       "function show_conflicting_spans(span_element) {\n",
       "    let spantable = document.createElement('div')\n",
       "    spantable.classList.add('tables')\n",
       "\n",
       "    // Prepare the contents of the span table\n",
       "    data = span_element.getAttribute(\"span_info\")\n",
       "    data = data.split(\",\")\n",
       "    var spancontent = '<table>'\n",
       "    for (let row of data) {\n",
       "        spancontent+='<tr><td>'\n",
       "        spancontent+=row\n",
       "        spancontent+='</td></tr>'\n",
       "    }\n",
       "    spancontent += '</table>'\n",
       "    spantable.innerHTML = spancontent\n",
       "    span_element.parentElement.appendChild(spantable)\n",
       "\n",
       "    //Increase the size of the cell so the tables would fit\n",
       "    spantable.parentElement.style.height = Math.max(Number(spantable.parentElement.style.height.substring(0,spantable.parentElement.style.height.length-2)),span_element.offsetTop+90)+ 'px'\n",
       "    //Position the table directly below the corresponding text\n",
       "    spantable.style.left = span_element.getBoundingClientRect().left-spantable.parentElement.parentElement.getBoundingClientRect().left + 'px'\n",
       "    spantable.style.top = span_element.getBoundingClientRect().top-spantable.parentElement.parentElement.getBoundingClientRect().top+20+ 'px'\n",
       "\n",
       "\n",
       "    // remove the table when clicked on again\n",
       "    spantable.addEventListener('click', function () {\n",
       "        let element = this.parentElement\n",
       "        element.removeChild(this)  //deleting the table\n",
       "    })\n",
       "}\n",
       "</script><span style=background:lightgreen;>Samojeedid</span> <span style=background:white;>on</span> <span style=background:pink;>valged</span> <span style=background:lightgreen;>karvapallid</span><span style=background:white;>.</span>"
      ]
     },
     "metadata": {},
     "output_type": "display_data"
    }
   ],
   "source": [
    "display_postags('Samojeedid on valged karvapallid.', color_dict = color_dict)"
   ]
  },
  {
   "cell_type": "code",
   "execution_count": 8,
   "metadata": {},
   "outputs": [
    {
     "data": {
      "text/html": [
       "<script>\n",
       "var elements = document.getElementsByClassName(\"overlapping-span\")\n",
       "for (let i = 0; i < elements.length; i++){\n",
       "    elements.item(i).addEventListener(\"click\",function() {show_conflicting_spans(elements.item(i));})}\n",
       "\n",
       "function show_conflicting_spans(span_element) {\n",
       "    let spantable = document.createElement('div')\n",
       "    spantable.classList.add('tables')\n",
       "\n",
       "    // Prepare the contents of the span table\n",
       "    data = span_element.getAttribute(\"span_info\")\n",
       "    data = data.split(\",\")\n",
       "    var spancontent = '<table>'\n",
       "    for (let row of data) {\n",
       "        spancontent+='<tr><td>'\n",
       "        spancontent+=row\n",
       "        spancontent+='</td></tr>'\n",
       "    }\n",
       "    spancontent += '</table>'\n",
       "    spantable.innerHTML = spancontent\n",
       "    span_element.parentElement.appendChild(spantable)\n",
       "\n",
       "    //Increase the size of the cell so the tables would fit\n",
       "    spantable.parentElement.style.height = Math.max(Number(spantable.parentElement.style.height.substring(0,spantable.parentElement.style.height.length-2)),span_element.offsetTop+90)+ 'px'\n",
       "    //Position the table directly below the corresponding text\n",
       "    spantable.style.left = span_element.getBoundingClientRect().left-spantable.parentElement.parentElement.getBoundingClientRect().left + 'px'\n",
       "    spantable.style.top = span_element.getBoundingClientRect().top-spantable.parentElement.parentElement.getBoundingClientRect().top+20+ 'px'\n",
       "\n",
       "\n",
       "    // remove the table when clicked on again\n",
       "    spantable.addEventListener('click', function () {\n",
       "        let element = this.parentElement\n",
       "        element.removeChild(this)  //deleting the table\n",
       "    })\n",
       "}\n",
       "</script><span style=background:orange;>Partitsiibid</span> <span style=background:lime;>on</span> <span style=background:red;>jäänud</span>  <span style=background:yellow;>mitmeseks</span><span style=background:white;>.</span>"
      ]
     },
     "metadata": {},
     "output_type": "display_data"
    }
   ],
   "source": [
    "display_postags('Partitsiibid on jäänud  mitmeseks.', ambiguous = 'red')"
   ]
  },
  {
   "cell_type": "code",
   "execution_count": null,
   "metadata": {
    "collapsed": true
   },
   "outputs": [],
   "source": []
  },
  {
   "cell_type": "code",
   "execution_count": 9,
   "metadata": {
    "collapsed": true
   },
   "outputs": [],
   "source": [
    "def color_first_cases(segment: Tuple[str, Sequence], color_dict, ambiguous ) -> str:\n",
    "    \"\"\"\n",
    "    Colors the first 3 and a half cases\n",
    "    \"\"\"\n",
    "    #print(segment[1])\n",
    "    # Tokenization conflict\n",
    "    if len(segment[1]) != 1:\n",
    "        \n",
    "        return 'red'\n",
    "    \n",
    "    # It might be better to convert it to string     \n",
    "    #pos_tags = getattr(segment[1][0], 'partofspeech')\n",
    "    forms = getattr(segment[1][0], 'form')\n",
    "    # Ambigous POS tagging\n",
    "    \n",
    "    forms_set = sorted(list(set(forms)))\n",
    "    \n",
    "    if len(forms) > 1:\n",
    "        return 'red'\n",
    "\n",
    "    color_dict = {'sg n': 'orange', 'pl n': 'orange', 'sg g': 'yellow', 'pl g': 'yellow', 'sg p': 'lightgreen',\n",
    "                 'pl p': 'lightgreen', 'adt': 'pink'}\n",
    "    \n",
    "    return color_dict.get(forms_set[0], 'white')"
   ]
  },
  {
   "cell_type": "code",
   "execution_count": 10,
   "metadata": {
    "collapsed": true
   },
   "outputs": [],
   "source": [
    "def display_first_cases(text, color_dict = {'sg n': 'orange', 'pl n': 'orange', 'sg g': 'yellow', 'pl g': 'yellow', 'sg p': 'lightgreen',\n",
    "                 'pl p': 'lightgreen', 'adt': 'pink'}, ambiguous = 'red'):\n",
    "    \"\"\"\n",
    "    Displays the first 3 and a half cases in different colors, can be defined by user\n",
    "    \"\"\"\n",
    "    t = Text(text).tag_layer()\n",
    "    disp2 = DisplaySpans(styling=\"direct\")\n",
    "    disp2.span_decorator.bg_mapping = lambda segment: color_first_cases(segment, color_dict, ambiguous)\n",
    "    disp2(t.morph_analysis)\n"
   ]
  },
  {
   "cell_type": "code",
   "execution_count": 11,
   "metadata": {},
   "outputs": [
    {
     "data": {
      "text/html": [
       "<script>\n",
       "var elements = document.getElementsByClassName(\"overlapping-span\")\n",
       "for (let i = 0; i < elements.length; i++){\n",
       "    elements.item(i).addEventListener(\"click\",function() {show_conflicting_spans(elements.item(i));})}\n",
       "\n",
       "function show_conflicting_spans(span_element) {\n",
       "    let spantable = document.createElement('div')\n",
       "    spantable.classList.add('tables')\n",
       "\n",
       "    // Prepare the contents of the span table\n",
       "    data = span_element.getAttribute(\"span_info\")\n",
       "    data = data.split(\",\")\n",
       "    var spancontent = '<table>'\n",
       "    for (let row of data) {\n",
       "        spancontent+='<tr><td>'\n",
       "        spancontent+=row\n",
       "        spancontent+='</td></tr>'\n",
       "    }\n",
       "    spancontent += '</table>'\n",
       "    spantable.innerHTML = spancontent\n",
       "    span_element.parentElement.appendChild(spantable)\n",
       "\n",
       "    //Increase the size of the cell so the tables would fit\n",
       "    spantable.parentElement.style.height = Math.max(Number(spantable.parentElement.style.height.substring(0,spantable.parentElement.style.height.length-2)),span_element.offsetTop+90)+ 'px'\n",
       "    //Position the table directly below the corresponding text\n",
       "    spantable.style.left = span_element.getBoundingClientRect().left-spantable.parentElement.parentElement.getBoundingClientRect().left + 'px'\n",
       "    spantable.style.top = span_element.getBoundingClientRect().top-spantable.parentElement.parentElement.getBoundingClientRect().top+20+ 'px'\n",
       "\n",
       "\n",
       "    // remove the table when clicked on again\n",
       "    spantable.addEventListener('click', function () {\n",
       "        let element = this.parentElement\n",
       "        element.removeChild(this)  //deleting the table\n",
       "    })\n",
       "}\n",
       "</script><span style=background:white;>aias</span> <span style=background:white;>sadas</span> <span style=background:lightgreen;>saia</span> <span style=background:white;>ja</span> <span style=background:yellow;>leiva</span> <span style=background:white;>peale</span> <span style=background:white;>kukkus</span> <span style=background:orange;>õun</span> <span style=background:white;>ja</span> <span style=background:pink;>vette</span> <span style=background:white;>hüppasid</span> <span style=background:red;>surnud</span> <span style=background:orange;>kalad</span>"
      ]
     },
     "metadata": {},
     "output_type": "display_data"
    }
   ],
   "source": [
    "display_first_cases('aias sadas saia ja leiva peale kukkus õun ja vette hüppasid surnud kalad')"
   ]
  },
  {
   "cell_type": "code",
   "execution_count": null,
   "metadata": {
    "collapsed": true
   },
   "outputs": [],
   "source": []
  },
  {
   "cell_type": "code",
   "execution_count": 12,
   "metadata": {
    "collapsed": true
   },
   "outputs": [],
   "source": [
    "def color_compounds(segment: Tuple[str, Sequence]) -> str:\n",
    "    \"\"\"\n",
    "    Colors compound words in millennial pink\n",
    "    \"\"\"\n",
    "\n",
    "    # Tokenization conflict\n",
    "    if len(segment[1]) != 1:\n",
    "        \n",
    "        return 'green'\n",
    "    \n",
    "    root_tokens = getattr(segment[1][0], 'root_tokens')\n",
    " \n",
    "    for token in root_tokens:\n",
    "        if len(token) > 1:\n",
    "            return '#ffb6c1'\n",
    "\n",
    "    color_dict = {}\n",
    "\n",
    "    return color_dict.get(root_tokens[0], 'white')"
   ]
  },
  {
   "cell_type": "code",
   "execution_count": 13,
   "metadata": {
    "collapsed": true
   },
   "outputs": [],
   "source": [
    "def display_compounds(text):\n",
    "    \"\"\"\n",
    "    Displays compound words\n",
    "    \"\"\"\n",
    "    t = Text(text).tag_layer()\n",
    "    disp3 = DisplaySpans(styling=\"direct\")\n",
    "    disp3.span_decorator.bg_mapping = lambda segment: color_compounds(segment)\n",
    "    disp3(t.morph_analysis)"
   ]
  },
  {
   "cell_type": "code",
   "execution_count": 14,
   "metadata": {},
   "outputs": [
    {
     "data": {
      "text/html": [
       "<script>\n",
       "var elements = document.getElementsByClassName(\"overlapping-span\")\n",
       "for (let i = 0; i < elements.length; i++){\n",
       "    elements.item(i).addEventListener(\"click\",function() {show_conflicting_spans(elements.item(i));})}\n",
       "\n",
       "function show_conflicting_spans(span_element) {\n",
       "    let spantable = document.createElement('div')\n",
       "    spantable.classList.add('tables')\n",
       "\n",
       "    // Prepare the contents of the span table\n",
       "    data = span_element.getAttribute(\"span_info\")\n",
       "    data = data.split(\",\")\n",
       "    var spancontent = '<table>'\n",
       "    for (let row of data) {\n",
       "        spancontent+='<tr><td>'\n",
       "        spancontent+=row\n",
       "        spancontent+='</td></tr>'\n",
       "    }\n",
       "    spancontent += '</table>'\n",
       "    spantable.innerHTML = spancontent\n",
       "    span_element.parentElement.appendChild(spantable)\n",
       "\n",
       "    //Increase the size of the cell so the tables would fit\n",
       "    spantable.parentElement.style.height = Math.max(Number(spantable.parentElement.style.height.substring(0,spantable.parentElement.style.height.length-2)),span_element.offsetTop+90)+ 'px'\n",
       "    //Position the table directly below the corresponding text\n",
       "    spantable.style.left = span_element.getBoundingClientRect().left-spantable.parentElement.parentElement.getBoundingClientRect().left + 'px'\n",
       "    spantable.style.top = span_element.getBoundingClientRect().top-spantable.parentElement.parentElement.getBoundingClientRect().top+20+ 'px'\n",
       "\n",
       "\n",
       "    // remove the table when clicked on again\n",
       "    spantable.addEventListener('click', function () {\n",
       "        let element = this.parentElement\n",
       "        element.removeChild(this)  //deleting the table\n",
       "    })\n",
       "}\n",
       "</script><span style=background:#ffb6c1;>rukkililled</span> <span style=background:white;>ja</span> <span style=background:#ffb6c1;>jääkarud</span> <span style=background:white;>on</span> <span style=background:white;>tavalised</span> <span style=background:#ffb6c1;>liitsõnad</span><span style=background:white;>,</span> <span style=background:white;>aga</span> <span style=background:white;>roosid</span> <span style=background:white;>ja</span> <span style=background:white;>rebased</span> <span style=background:white;>mitte</span>"
      ]
     },
     "metadata": {},
     "output_type": "display_data"
    }
   ],
   "source": [
    "display_compounds('rukkililled ja jääkarud on tavalised liitsõnad, aga roosid ja rebased mitte')"
   ]
  }
 ],
 "metadata": {
  "kernelspec": {
   "display_name": "Python estnltk-dev",
   "language": "python",
   "name": "estnltk-dev"
  },
  "language_info": {
   "codemirror_mode": {
    "name": "ipython",
    "version": 3
   },
   "file_extension": ".py",
   "mimetype": "text/x-python",
   "name": "python",
   "nbconvert_exporter": "python",
   "pygments_lexer": "ipython3",
   "version": "3.6.8"
  }
 },
 "nbformat": 4,
 "nbformat_minor": 2
}
