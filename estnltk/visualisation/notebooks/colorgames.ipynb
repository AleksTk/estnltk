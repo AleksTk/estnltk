{
 "cells": [
  {
   "cell_type": "code",
   "execution_count": 1,
   "metadata": {},
   "outputs": [],
   "source": [
    "from estnltk.visualisation.span_visualiser.fancy_span_visualisation import DisplaySpans\n",
    "from typing import Mapping, Any, Tuple, Sequence\n",
    "from estnltk import Text"
   ]
  },
  {
   "cell_type": "code",
   "execution_count": 2,
   "metadata": {},
   "outputs": [],
   "source": [
    "def color_postags(segment: Tuple[str, Sequence],  color_dict, ambiguous ) -> str:\n",
    "    \"\"\"\n",
    "    Colors based on postags\n",
    "    \"\"\"\n",
    "\n",
    "    if len(segment[1]) != 1:\n",
    "        \n",
    "        return 'red'\n",
    "    \n",
    "    # It might be better to convert it to string     \n",
    "    pos_tags = getattr(segment[1][0], 'partofspeech')\n",
    "\n",
    "    # Ambigous POS tagging\n",
    "    \n",
    "    postags_set = sorted(list(set(pos_tags)))\n",
    "    \n",
    "    if len(postags_set) > 1:\n",
    "        return ambiguous\n",
    "\n",
    "    return color_dict.get(pos_tags[0], 'white')"
   ]
  },
  {
   "cell_type": "code",
   "execution_count": 3,
   "metadata": {},
   "outputs": [],
   "source": [
    "def display_postags(text, color_dict= {'S': 'orange', 'H': 'orange', 'A': 'yellow', 'U': 'yellow', 'C': 'yellow', 'N': 'yellow', \n",
    "                       'O': 'yellow', 'V': 'lime'}, ambiguous= 'white'):\n",
    "    \n",
    "    \"\"\"\n",
    "    Displays some postags in different colors. Colors and postags can be defined by user\n",
    "    \"\"\"\n",
    "    \n",
    "    t = Text(text).tag_layer()\n",
    "    disp2 = DisplaySpans(styling=\"direct\")\n",
    "    disp2.span_decorator.bg_mapping = lambda segment: color_postags(segment, color_dict, ambiguous)\n",
    "    disp2(t.morph_analysis)\n"
   ]
  },
  {
   "cell_type": "code",
   "execution_count": 4,
   "metadata": {},
   "outputs": [
    {
     "data": {
      "text/html": [
       "<script>\n",
       "var elements = document.getElementsByClassName(\"overlapping-span\")\n",
       "for (let i = 0; i < elements.length; i++){\n",
       "    elements.item(i).addEventListener(\"click\",function() {show_conflicting_spans(elements.item(i));})}\n",
       "\n",
       "function show_conflicting_spans(span_element) {\n",
       "    let spantable = document.createElement('div')\n",
       "    spantable.classList.add('tables')\n",
       "\n",
       "    // Prepare the contents of the span table\n",
       "    data = span_element.getAttribute(\"span_info\")\n",
       "    data = data.split(\",\")\n",
       "    var spancontent = '<table>'\n",
       "    for (let row of data) {\n",
       "        spancontent+='<tr><td>'\n",
       "        spancontent+=row\n",
       "        spancontent+='</td></tr>'\n",
       "    }\n",
       "    spancontent += '</table>'\n",
       "    spantable.innerHTML = spancontent\n",
       "    span_element.parentElement.appendChild(spantable)\n",
       "\n",
       "    //Increase the size of the cell so the tables would fit\n",
       "    spantable.parentElement.style.height = Math.max(Number(spantable.parentElement.style.height.substring(0,spantable.parentElement.style.height.length-2)),span_element.offsetTop+90)+ 'px'\n",
       "    //Position the table directly below the corresponding text\n",
       "    spantable.style.left = span_element.getBoundingClientRect().left-spantable.parentElement.parentElement.getBoundingClientRect().left + 'px'\n",
       "    spantable.style.top = span_element.getBoundingClientRect().top-spantable.parentElement.parentElement.getBoundingClientRect().top+20+ 'px'\n",
       "\n",
       "\n",
       "    // remove the table when clicked on again\n",
       "    spantable.addEventListener('click', function () {\n",
       "        let element = this.parentElement\n",
       "        element.removeChild(this)  //deleting the table\n",
       "    })\n",
       "}\n",
       "</script><span style=background:orange;>Samojeedid</span> <span style=background:lime;>on</span> <span style=background:yellow;>valged</span> <span style=background:orange;>karvapallid</span><span style=background:white;>.</span>"
      ]
     },
     "metadata": {},
     "output_type": "display_data"
    }
   ],
   "source": [
    "display_postags('Samojeedid on valged karvapallid.')"
   ]
  },
  {
   "cell_type": "code",
   "execution_count": 5,
   "metadata": {},
   "outputs": [
    {
     "data": {
      "text/html": [
       "<script>\n",
       "var elements = document.getElementsByClassName(\"overlapping-span\")\n",
       "for (let i = 0; i < elements.length; i++){\n",
       "    elements.item(i).addEventListener(\"click\",function() {show_conflicting_spans(elements.item(i));})}\n",
       "\n",
       "function show_conflicting_spans(span_element) {\n",
       "    let spantable = document.createElement('div')\n",
       "    spantable.classList.add('tables')\n",
       "\n",
       "    // Prepare the contents of the span table\n",
       "    data = span_element.getAttribute(\"span_info\")\n",
       "    data = data.split(\",\")\n",
       "    var spancontent = '<table>'\n",
       "    for (let row of data) {\n",
       "        spancontent+='<tr><td>'\n",
       "        spancontent+=row\n",
       "        spancontent+='</td></tr>'\n",
       "    }\n",
       "    spancontent += '</table>'\n",
       "    spantable.innerHTML = spancontent\n",
       "    span_element.parentElement.appendChild(spantable)\n",
       "\n",
       "    //Increase the size of the cell so the tables would fit\n",
       "    spantable.parentElement.style.height = Math.max(Number(spantable.parentElement.style.height.substring(0,spantable.parentElement.style.height.length-2)),span_element.offsetTop+90)+ 'px'\n",
       "    //Position the table directly below the corresponding text\n",
       "    spantable.style.left = span_element.getBoundingClientRect().left-spantable.parentElement.parentElement.getBoundingClientRect().left + 'px'\n",
       "    spantable.style.top = span_element.getBoundingClientRect().top-spantable.parentElement.parentElement.getBoundingClientRect().top+20+ 'px'\n",
       "\n",
       "\n",
       "    // remove the table when clicked on again\n",
       "    spantable.addEventListener('click', function () {\n",
       "        let element = this.parentElement\n",
       "        element.removeChild(this)  //deleting the table\n",
       "    })\n",
       "}\n",
       "</script><span style=background:orange;>Partitsiibid</span> <span style=background:lime;>on</span> <span style=background:white;>jäänud</span>  <span style=background:yellow;>mitmeseks</span><span style=background:white;>.</span>"
      ]
     },
     "metadata": {},
     "output_type": "display_data"
    }
   ],
   "source": [
    "display_postags('Partitsiibid on jäänud  mitmeseks.')"
   ]
  },
  {
   "cell_type": "code",
   "execution_count": 6,
   "metadata": {},
   "outputs": [],
   "source": [
    "color_dict = {'S': 'lightgreen', 'H': 'lightgreen', 'A': 'pink'}"
   ]
  },
  {
   "cell_type": "code",
   "execution_count": 7,
   "metadata": {},
   "outputs": [
    {
     "data": {
      "text/html": [
       "<script>\n",
       "var elements = document.getElementsByClassName(\"overlapping-span\")\n",
       "for (let i = 0; i < elements.length; i++){\n",
       "    elements.item(i).addEventListener(\"click\",function() {show_conflicting_spans(elements.item(i));})}\n",
       "\n",
       "function show_conflicting_spans(span_element) {\n",
       "    let spantable = document.createElement('div')\n",
       "    spantable.classList.add('tables')\n",
       "\n",
       "    // Prepare the contents of the span table\n",
       "    data = span_element.getAttribute(\"span_info\")\n",
       "    data = data.split(\",\")\n",
       "    var spancontent = '<table>'\n",
       "    for (let row of data) {\n",
       "        spancontent+='<tr><td>'\n",
       "        spancontent+=row\n",
       "        spancontent+='</td></tr>'\n",
       "    }\n",
       "    spancontent += '</table>'\n",
       "    spantable.innerHTML = spancontent\n",
       "    span_element.parentElement.appendChild(spantable)\n",
       "\n",
       "    //Increase the size of the cell so the tables would fit\n",
       "    spantable.parentElement.style.height = Math.max(Number(spantable.parentElement.style.height.substring(0,spantable.parentElement.style.height.length-2)),span_element.offsetTop+90)+ 'px'\n",
       "    //Position the table directly below the corresponding text\n",
       "    spantable.style.left = span_element.getBoundingClientRect().left-spantable.parentElement.parentElement.getBoundingClientRect().left + 'px'\n",
       "    spantable.style.top = span_element.getBoundingClientRect().top-spantable.parentElement.parentElement.getBoundingClientRect().top+20+ 'px'\n",
       "\n",
       "\n",
       "    // remove the table when clicked on again\n",
       "    spantable.addEventListener('click', function () {\n",
       "        let element = this.parentElement\n",
       "        element.removeChild(this)  //deleting the table\n",
       "    })\n",
       "}\n",
       "</script><span style=background:lightgreen;>Samojeedid</span> <span style=background:white;>on</span> <span style=background:pink;>valged</span> <span style=background:lightgreen;>karvapallid</span><span style=background:white;>.</span>"
      ]
     },
     "metadata": {},
     "output_type": "display_data"
    }
   ],
   "source": [
    "display_postags('Samojeedid on valged karvapallid.', color_dict = color_dict)"
   ]
  },
  {
   "cell_type": "code",
   "execution_count": 8,
   "metadata": {},
   "outputs": [
    {
     "data": {
      "text/html": [
       "<script>\n",
       "var elements = document.getElementsByClassName(\"overlapping-span\")\n",
       "for (let i = 0; i < elements.length; i++){\n",
       "    elements.item(i).addEventListener(\"click\",function() {show_conflicting_spans(elements.item(i));})}\n",
       "\n",
       "function show_conflicting_spans(span_element) {\n",
       "    let spantable = document.createElement('div')\n",
       "    spantable.classList.add('tables')\n",
       "\n",
       "    // Prepare the contents of the span table\n",
       "    data = span_element.getAttribute(\"span_info\")\n",
       "    data = data.split(\",\")\n",
       "    var spancontent = '<table>'\n",
       "    for (let row of data) {\n",
       "        spancontent+='<tr><td>'\n",
       "        spancontent+=row\n",
       "        spancontent+='</td></tr>'\n",
       "    }\n",
       "    spancontent += '</table>'\n",
       "    spantable.innerHTML = spancontent\n",
       "    span_element.parentElement.appendChild(spantable)\n",
       "\n",
       "    //Increase the size of the cell so the tables would fit\n",
       "    spantable.parentElement.style.height = Math.max(Number(spantable.parentElement.style.height.substring(0,spantable.parentElement.style.height.length-2)),span_element.offsetTop+90)+ 'px'\n",
       "    //Position the table directly below the corresponding text\n",
       "    spantable.style.left = span_element.getBoundingClientRect().left-spantable.parentElement.parentElement.getBoundingClientRect().left + 'px'\n",
       "    spantable.style.top = span_element.getBoundingClientRect().top-spantable.parentElement.parentElement.getBoundingClientRect().top+20+ 'px'\n",
       "\n",
       "\n",
       "    // remove the table when clicked on again\n",
       "    spantable.addEventListener('click', function () {\n",
       "        let element = this.parentElement\n",
       "        element.removeChild(this)  //deleting the table\n",
       "    })\n",
       "}\n",
       "</script><span style=background:orange;>Partitsiibid</span> <span style=background:lime;>on</span> <span style=background:red;>jäänud</span>  <span style=background:yellow;>mitmeseks</span><span style=background:white;>.</span>"
      ]
     },
     "metadata": {},
     "output_type": "display_data"
    }
   ],
   "source": [
    "display_postags('Partitsiibid on jäänud  mitmeseks.', ambiguous = 'red')"
   ]
  },
  {
   "cell_type": "code",
   "execution_count": null,
   "metadata": {},
   "outputs": [],
   "source": []
  },
  {
   "cell_type": "code",
   "execution_count": 9,
   "metadata": {},
   "outputs": [],
   "source": [
    "def color_first_cases(segment: Tuple[str, Sequence], color_dict, ambiguous ) -> str:\n",
    "    \"\"\"\n",
    "    Colors the first 3 and a half cases\n",
    "    \"\"\"\n",
    "    #print(segment[1])\n",
    "    # Tokenization conflict\n",
    "    if len(segment[1]) != 1:\n",
    "        \n",
    "        return 'red'\n",
    "    \n",
    "    # It might be better to convert it to string     \n",
    "    #pos_tags = getattr(segment[1][0], 'partofspeech')\n",
    "    forms = getattr(segment[1][0], 'form')\n",
    "    # Ambigous POS tagging\n",
    "    \n",
    "    forms_set = sorted(list(set(forms)))\n",
    "    \n",
    "    if len(forms) > 1:\n",
    "        return 'red'\n",
    "\n",
    "    color_dict = {'sg n': 'orange', 'pl n': 'orange', 'sg g': 'yellow', 'pl g': 'yellow', 'sg p': 'lightgreen',\n",
    "                 'pl p': 'lightgreen', 'adt': 'pink'}\n",
    "    \n",
    "    return color_dict.get(forms_set[0], 'white')"
   ]
  },
  {
   "cell_type": "code",
   "execution_count": 10,
   "metadata": {},
   "outputs": [],
   "source": [
    "def display_first_cases(text, color_dict = {'sg n': 'orange', 'pl n': 'orange', 'sg g': 'yellow', 'pl g': 'yellow', 'sg p': 'lightgreen',\n",
    "                 'pl p': 'lightgreen', 'adt': 'pink'}, ambiguous = 'red'):\n",
    "    \"\"\"\n",
    "    Displays the first 3 and a half cases in different colors, can be defined by user\n",
    "    \"\"\"\n",
    "    t = Text(text).tag_layer()\n",
    "    disp2 = DisplaySpans(styling=\"direct\")\n",
    "    disp2.span_decorator.bg_mapping = lambda segment: color_first_cases(segment, color_dict, ambiguous)\n",
    "    disp2(t.morph_analysis)\n"
   ]
  },
  {
   "cell_type": "code",
   "execution_count": 11,
   "metadata": {},
   "outputs": [
    {
     "data": {
      "text/html": [
       "<script>\n",
       "var elements = document.getElementsByClassName(\"overlapping-span\")\n",
       "for (let i = 0; i < elements.length; i++){\n",
       "    elements.item(i).addEventListener(\"click\",function() {show_conflicting_spans(elements.item(i));})}\n",
       "\n",
       "function show_conflicting_spans(span_element) {\n",
       "    let spantable = document.createElement('div')\n",
       "    spantable.classList.add('tables')\n",
       "\n",
       "    // Prepare the contents of the span table\n",
       "    data = span_element.getAttribute(\"span_info\")\n",
       "    data = data.split(\",\")\n",
       "    var spancontent = '<table>'\n",
       "    for (let row of data) {\n",
       "        spancontent+='<tr><td>'\n",
       "        spancontent+=row\n",
       "        spancontent+='</td></tr>'\n",
       "    }\n",
       "    spancontent += '</table>'\n",
       "    spantable.innerHTML = spancontent\n",
       "    span_element.parentElement.appendChild(spantable)\n",
       "\n",
       "    //Increase the size of the cell so the tables would fit\n",
       "    spantable.parentElement.style.height = Math.max(Number(spantable.parentElement.style.height.substring(0,spantable.parentElement.style.height.length-2)),span_element.offsetTop+90)+ 'px'\n",
       "    //Position the table directly below the corresponding text\n",
       "    spantable.style.left = span_element.getBoundingClientRect().left-spantable.parentElement.parentElement.getBoundingClientRect().left + 'px'\n",
       "    spantable.style.top = span_element.getBoundingClientRect().top-spantable.parentElement.parentElement.getBoundingClientRect().top+20+ 'px'\n",
       "\n",
       "\n",
       "    // remove the table when clicked on again\n",
       "    spantable.addEventListener('click', function () {\n",
       "        let element = this.parentElement\n",
       "        element.removeChild(this)  //deleting the table\n",
       "    })\n",
       "}\n",
       "</script><span style=background:white;>aias</span> <span style=background:white;>sadas</span> <span style=background:lightgreen;>saia</span> <span style=background:white;>ja</span> <span style=background:yellow;>leiva</span> <span style=background:white;>peale</span> <span style=background:white;>kukkus</span> <span style=background:orange;>õun</span> <span style=background:white;>ja</span> <span style=background:pink;>vette</span> <span style=background:white;>hüppasid</span> <span style=background:red;>surnud</span> <span style=background:orange;>kalad</span>"
      ]
     },
     "metadata": {},
     "output_type": "display_data"
    }
   ],
   "source": [
    "display_first_cases('aias sadas saia ja leiva peale kukkus õun ja vette hüppasid surnud kalad')"
   ]
  },
  {
   "cell_type": "code",
   "execution_count": null,
   "metadata": {},
   "outputs": [],
   "source": []
  },
  {
   "cell_type": "code",
   "execution_count": 12,
   "metadata": {},
   "outputs": [],
   "source": [
    "def color_compounds(segment: Tuple[str, Sequence]) -> str:\n",
    "    \"\"\"\n",
    "    Colors compound words in millennial pink\n",
    "    \"\"\"\n",
    "\n",
    "    # Tokenization conflict\n",
    "    if len(segment[1]) != 1:\n",
    "        \n",
    "        return 'green'\n",
    "    \n",
    "    root_tokens = getattr(segment[1][0], 'root_tokens')\n",
    " \n",
    "    for token in root_tokens:\n",
    "        if len(token) > 1:\n",
    "            return '#ffb6c1'\n",
    "\n",
    "    color_dict = {}\n",
    "\n",
    "    return color_dict.get(root_tokens[0], 'white')"
   ]
  },
  {
   "cell_type": "code",
   "execution_count": 13,
   "metadata": {},
   "outputs": [],
   "source": [
    "def display_compounds(text):\n",
    "    \"\"\"\n",
    "    Displays compound words\n",
    "    \"\"\"\n",
    "    t = Text(text).tag_layer()\n",
    "    disp3 = DisplaySpans(styling=\"direct\")\n",
    "    disp3.span_decorator.bg_mapping = lambda segment: color_compounds(segment)\n",
    "    disp3(t.morph_analysis)"
   ]
  },
  {
   "cell_type": "code",
   "execution_count": 14,
   "metadata": {},
   "outputs": [
    {
     "data": {
      "text/html": [
       "<script>\n",
       "var elements = document.getElementsByClassName(\"overlapping-span\")\n",
       "for (let i = 0; i < elements.length; i++){\n",
       "    elements.item(i).addEventListener(\"click\",function() {show_conflicting_spans(elements.item(i));})}\n",
       "\n",
       "function show_conflicting_spans(span_element) {\n",
       "    let spantable = document.createElement('div')\n",
       "    spantable.classList.add('tables')\n",
       "\n",
       "    // Prepare the contents of the span table\n",
       "    data = span_element.getAttribute(\"span_info\")\n",
       "    data = data.split(\",\")\n",
       "    var spancontent = '<table>'\n",
       "    for (let row of data) {\n",
       "        spancontent+='<tr><td>'\n",
       "        spancontent+=row\n",
       "        spancontent+='</td></tr>'\n",
       "    }\n",
       "    spancontent += '</table>'\n",
       "    spantable.innerHTML = spancontent\n",
       "    span_element.parentElement.appendChild(spantable)\n",
       "\n",
       "    //Increase the size of the cell so the tables would fit\n",
       "    spantable.parentElement.style.height = Math.max(Number(spantable.parentElement.style.height.substring(0,spantable.parentElement.style.height.length-2)),span_element.offsetTop+90)+ 'px'\n",
       "    //Position the table directly below the corresponding text\n",
       "    spantable.style.left = span_element.getBoundingClientRect().left-spantable.parentElement.parentElement.getBoundingClientRect().left + 'px'\n",
       "    spantable.style.top = span_element.getBoundingClientRect().top-spantable.parentElement.parentElement.getBoundingClientRect().top+20+ 'px'\n",
       "\n",
       "\n",
       "    // remove the table when clicked on again\n",
       "    spantable.addEventListener('click', function () {\n",
       "        let element = this.parentElement\n",
       "        element.removeChild(this)  //deleting the table\n",
       "    })\n",
       "}\n",
       "</script><span style=background:#ffb6c1;>rukkililled</span> <span style=background:white;>ja</span> <span style=background:#ffb6c1;>jääkarud</span> <span style=background:white;>on</span> <span style=background:white;>tavalised</span> <span style=background:#ffb6c1;>liitsõnad</span><span style=background:white;>,</span> <span style=background:white;>aga</span> <span style=background:white;>roosid</span> <span style=background:white;>ja</span> <span style=background:white;>rebased</span> <span style=background:white;>mitte</span>"
      ]
     },
     "metadata": {},
     "output_type": "display_data"
    }
   ],
   "source": [
    "display_compounds('rukkililled ja jääkarud on tavalised liitsõnad, aga roosid ja rebased mitte')"
   ]
  }
 ],
 "metadata": {
  "kernelspec": {
   "display_name": "Python [conda env:estnltk141]",
   "language": "python",
   "name": "conda-env-estnltk141-py"
  },
  "language_info": {
   "codemirror_mode": {
    "name": "ipython",
    "version": 3
   },
   "file_extension": ".py",
   "mimetype": "text/x-python",
   "name": "python",
   "nbconvert_exporter": "python",
   "pygments_lexer": "ipython3",
   "version": "3.5.6"
  }
 },
 "nbformat": 4,
 "nbformat_minor": 2
}
