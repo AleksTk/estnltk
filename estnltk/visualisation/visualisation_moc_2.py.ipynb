{
 "cells": [
  {
   "cell_type": "markdown",
   "metadata": {},
   "source": [
    "# Simple color mapping for spans"
   ]
  },
  {
   "cell_type": "code",
   "execution_count": 1,
   "metadata": {},
   "outputs": [],
   "source": [
    "def color_mapper_discrete(segment, attribute, value_mapping, default_color, conflict_color):\n",
    "    \n",
    "    if segment[2].length() != 1:\n",
    "        return conflict_color\n",
    "    \n",
    "    return value_mapping.get(segment[2][0].get_attr(attribute), default_color)    "
   ]
  },
  {
   "cell_type": "markdown",
   "metadata": {},
   "source": [
    "Analogous mappings can be defined for other style elements\n",
    "* backgrpund color\n",
    "* font\n",
    "* ...."
   ]
  },
  {
   "cell_type": "markdown",
   "metadata": {},
   "source": [
    "## A decorator for drawing spans without attribute values\n",
    "\n",
    "There are two ways to do styling\n",
    "* Direct through styling attributes\n",
    "* Indirect through id and class values\n",
    "\n",
    "These are mutually exclusive in our setting to avoid WTF experiences"
   ]
  },
  {
   "cell_type": "code",
   "execution_count": 2,
   "metadata": {},
   "outputs": [],
   "source": [
    "class SpanDecorator:\n",
    "    # call\n",
    "    # css\n",
    "    pass"
   ]
  },
  {
   "cell_type": "code",
   "execution_count": 3,
   "metadata": {},
   "outputs": [
    {
     "ename": "SyntaxError",
     "evalue": "invalid syntax (<ipython-input-3-82d8f09a1dfc>, line 3)",
     "output_type": "error",
     "traceback": [
      "\u001b[1;36m  File \u001b[1;32m\"<ipython-input-3-82d8f09a1dfc>\"\u001b[1;36m, line \u001b[1;32m3\u001b[0m\n\u001b[1;33m    def __init__(colour_mapping, bg_mapping, event_attacher, ..., fill_empty_spans = False ):\u001b[0m\n\u001b[1;37m                                                               ^\u001b[0m\n\u001b[1;31mSyntaxError\u001b[0m\u001b[1;31m:\u001b[0m invalid syntax\n"
     ]
    }
   ],
   "source": [
    "class DirectPlainSpanVisualiser(SpanDecorator):\n",
    "    \n",
    "    default_conf_colour = \"red\"\n",
    "    \n",
    "    def __init__(colour_mapping=None, bg_mapping, ..., fill_empty_spans=False):\n",
    "        self.bg_mapping = bg_mapping or default_bg_mapping\n",
    "        #self.event_attacher = event_attacher\n",
    "    \n",
    "    def __call__(self, segment):\n",
    "        \n",
    "        # Simple text no span to fill\n",
    "        if not fill_empty_span and is_pure_text(segment):\n",
    "            return cut(text,segment)\n",
    "    \n",
    "        # There is a span to decorate\n",
    "        output += '<span style='\n",
    "        if self.colour_mapping is not None:\n",
    "            output += 'color:' + self.color_mapping(segment)\n",
    "        output += 'background:'+ self.bg_mapping(segment)\n",
    "        output += '>'\n",
    "        \n",
    "        output += segment[0]\n",
    "        output += '</span>'\n",
    "\n",
    "        return output\n",
    "\n",
    "    def default_bg_mapping(segment):\n",
    "        if segment[2].length() != 1:\n",
    "            return default_conf_colour\n",
    "    \n",
    "        return \"yellow\"    "
   ]
  },
  {
   "cell_type": "code",
   "execution_count": null,
   "metadata": {},
   "outputs": [],
   "source": [
    "class IndirectPlainSpanVisualiser(SpanDecorator):\n",
    "    \n",
    "    def __init__(class_mapper, id_mapper, event_attacher, fill_empty_spans = False ):    \n",
    "        pass\n",
    "    \n",
    "    def __call__(self, segment):\n",
    "        \n",
    "        # Simple text no span to fill\n",
    "        if not fill_empty_span and is_pure_text(segment):\n",
    "            return cut(text,segment)\n",
    "    \n",
    "        # There is a span to decorate\n",
    "        output += '<span '\n",
    "        if id_mapper:\n",
    "            output = 'id = ' + id_mapper(segment)\n",
    "\n",
    "        if class_mapper:\n",
    "            output = 'class = ' + class_mapper(segment)\n",
    "\n",
    "        output += cut(text, segment)\n",
    "        output += '</span>'\n",
    "\n",
    "        return output"
   ]
  },
  {
   "cell_type": "markdown",
   "metadata": {},
   "source": [
    "# Attribute visualiser"
   ]
  },
  {
   "cell_type": "code",
   "execution_count": null,
   "metadata": {},
   "outputs": [],
   "source": [
    "class DirectAttributeVisualiser(SpanDecorator):\n",
    "    \n",
    "    def __init__(colour_mapping, bg_mapping, ..., event_attacher, fill_empty_spans=False):\n",
    "        pass\n",
    "    \n",
    "    def __call__(self, segment):\n",
    "        \n",
    "        # Simple text no span to fill\n",
    "        if not fill_empty_span and is_pure_text(segment):\n",
    "            return cut(text,segment)\n",
    "    \n",
    "        # There is a span to decorate\n",
    "        output += '<span style='\n",
    "        output += 'color:' + color_mappint(segment)\n",
    "        output += 'background:'+ bg_mapping(segment)\n",
    "        \n",
    "        # This attaches events\n",
    "        output += event_attacher(segment)\n",
    "\n",
    "        output += '>'\n",
    "        \n",
    "        output += cut(text, segment)\n",
    "        \n",
    "        output += '</span>'\n",
    "\n",
    "        return output\n",
    "    \n",
    "    def css():\n",
    "        return 'css'\n",
    "        \n",
    "    def event_handler_code():\n",
    "        return 'event handling code in JS'"
   ]
  },
  {
   "cell_type": "code",
   "execution_count": null,
   "metadata": {},
   "outputs": [],
   "source": [
    "class Display:    \n",
    "\n",
    "    css = 'mingi css'\n",
    "    span_decorator = smth    \n",
    "\n",
    "    def __init__(self, ??):\n",
    "        pass\n",
    "\n",
    "    def __call__(self):        \n",
    "        seqments = decompose_to_elementary_spans(Text, layers)\n",
    "\n",
    "        output = '' \n",
    "        for segment in segments:\n",
    "            output += sd.decorate(segment) \n",
    "\n",
    "        return output # html string"
   ]
  },
  {
   "cell_type": "code",
   "execution_count": null,
   "metadata": {},
   "outputs": [],
   "source": [
    "class FancySpanVisualisation:\n",
    "    \n",
    "    def _call_"
   ]
  },
  {
   "cell_type": "code",
   "execution_count": null,
   "metadata": {},
   "outputs": [],
   "source": [
    "class DisplayAttributes:\n",
    "    \n",
    "    sd=DirectPlainSpanVisualiser()\n",
    "    \n",
    "    def __call__(self, layer):\n",
    "        seqments = decompose_to_elementary_spans(layer)\n",
    "\n",
    "        output = '' \n",
    "        for segment in segments:\n",
    "            output += sd.decorate(segment)    \n",
    "\n",
    "        return output # html string\n",
    "    "
   ]
  },
  {
   "cell_type": "code",
   "execution_count": 2,
   "metadata": {},
   "outputs": [
    {
     "ename": "ImportError",
     "evalue": "No module named 'estnltk.fancy_span_visualisation'",
     "output_type": "error",
     "traceback": [
      "\u001b[1;31m---------------------------------------------------------------------------\u001b[0m",
      "\u001b[1;31mImportError\u001b[0m                               Traceback (most recent call last)",
      "\u001b[1;32m<ipython-input-2-5f2d10b09b8d>\u001b[0m in \u001b[0;36m<module>\u001b[1;34m()\u001b[0m\n\u001b[0;32m      1\u001b[0m \u001b[1;32mfrom\u001b[0m \u001b[0mestnltk\u001b[0m \u001b[1;32mimport\u001b[0m \u001b[0mText\u001b[0m\u001b[1;33m\u001b[0m\u001b[0m\n\u001b[1;32m----> 2\u001b[1;33m \u001b[1;32mfrom\u001b[0m \u001b[0mestnltk\u001b[0m\u001b[1;33m.\u001b[0m\u001b[0mfancy_span_visualisation\u001b[0m \u001b[1;32mimport\u001b[0m \u001b[0mDisplayAttributes\u001b[0m\u001b[1;33m\u001b[0m\u001b[0m\n\u001b[0m\u001b[0;32m      3\u001b[0m \u001b[1;33m\u001b[0m\u001b[0m\n\u001b[0;32m      4\u001b[0m \u001b[1;33m\u001b[0m\u001b[0m\n\u001b[0;32m      5\u001b[0m \u001b[0mdisplay\u001b[0m \u001b[1;33m=\u001b[0m \u001b[0mDisplayAttributes\u001b[0m\u001b[1;33m(\u001b[0m\u001b[1;33m)\u001b[0m\u001b[1;33m\u001b[0m\u001b[0m\n",
      "\u001b[1;31mImportError\u001b[0m: No module named 'estnltk.fancy_span_visualisation'"
     ]
    }
   ],
   "source": [
    "from estnltk import Text\n",
    "from estnltk.fancy_span_visualisation import DisplayAttributes \n",
    "\n",
    "\n",
    "display = DisplayAttributes()\n",
    "display = FancySpanVisualisation.dispaly_spans\n",
    "display = FancySpanVisualisation.validate_spans\n",
    "\n",
    "t = Text('bla')\n",
    "\n",
    "display(text)"
   ]
  },
  {
   "cell_type": "code",
   "execution_count": 1,
   "metadata": {},
   "outputs": [
    {
     "ename": "SyntaxError",
     "evalue": "invalid syntax (<ipython-input-1-0e3724b2ec75>, line 3)",
     "output_type": "error",
     "traceback": [
      "\u001b[1;36m  File \u001b[1;32m\"<ipython-input-1-0e3724b2ec75>\"\u001b[1;36m, line \u001b[1;32m3\u001b[0m\n\u001b[1;33m    span_decorator = DirectPlainSpanVisualiser(color_mapper=lambda segment: color_mapper_discrete(segment, concrete value))\u001b[0m\n\u001b[1;37m                                                                                                                        ^\u001b[0m\n\u001b[1;31mSyntaxError\u001b[0m\u001b[1;31m:\u001b[0m invalid syntax\n"
     ]
    }
   ],
   "source": [
    "from estnltk.FancySpanVisualisation import DisplayAttributes as Display\n",
    "\n",
    "span_decorator = DirectPlainSpanVisualiser(color_mapper=lambda segment: color_mapper_discrete(segment, concrete value))\n",
    "\n",
    "display = Display(decorator=span_decorator)\n",
    "\n",
    "display(t)"
   ]
  },
  {
   "cell_type": "code",
   "execution_count": null,
   "metadata": {},
   "outputs": [],
   "source": [
    "t.layer_name"
   ]
  },
  {
   "cell_type": "code",
   "execution_count": null,
   "metadata": {},
   "outputs": [],
   "source": [
    "t.display"
   ]
  },
  {
   "cell_type": "code",
   "execution_count": null,
   "metadata": {},
   "outputs": [],
   "source": [
    "print(t)\n",
    "print(t)"
   ]
  }
 ],
 "metadata": {
  "kernelspec": {
   "display_name": "Python 3",
   "language": "python",
   "name": "python3"
  },
  "language_info": {
   "codemirror_mode": {
    "name": "ipython",
    "version": 3
   },
   "file_extension": ".py",
   "mimetype": "text/x-python",
   "name": "python",
   "nbconvert_exporter": "python",
   "pygments_lexer": "ipython3",
   "version": "3.5.5"
  }
 },
 "nbformat": 4,
 "nbformat_minor": 2
}
