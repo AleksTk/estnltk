{
 "cells": [
  {
   "cell_type": "markdown",
   "metadata": {},
   "source": [
    "# Simple color mapping for spans"
   ]
  },
  {
   "cell_type": "code",
   "execution_count": 1,
   "metadata": {},
   "outputs": [],
   "source": [
    "def color_mapper_discrete(segment, attribute, value_mapping, default_color, conflict_color):\n",
    "    \n",
    "    if segment[2].length() != 1:\n",
    "        return conflict_color\n",
    "    \n",
    "    return value_mapping.get(segment[2][0].get_attr(attribute), default_color)    "
   ]
  },
  {
   "cell_type": "markdown",
   "metadata": {},
   "source": [
    "Analogous mappings can be defined for other style elements\n",
    "* backgrpund color\n",
    "* font\n",
    "* ...."
   ]
  },
  {
   "cell_type": "markdown",
   "metadata": {},
   "source": [
    "## A decorator for drawing spans without attribute values\n",
    "\n",
    "There are two ways to do styling\n",
    "* Direct through styling attributes\n",
    "* Indirect through id and class values\n",
    "\n",
    "These are mutually exclusive in our setting to avoid WTF experiences"
   ]
  },
  {
   "cell_type": "code",
   "execution_count": null,
   "metadata": {},
   "outputs": [],
   "source": [
    "class SpanDecorator:\n",
    "    # call\n",
    "    # css\n",
    "    pass"
   ]
  },
  {
   "cell_type": "code",
   "execution_count": null,
   "metadata": {
    "collapsed": true
   },
   "outputs": [],
   "source": [
    "class DirectPlainSpanVisualiser(SpanDecorator):\n",
    "    \n",
    "    def __init__(colour_mapping, bg_mapping, event_attacher, ..., fill_empty_spans = False ):\n",
    "        \n",
    "        pass\n",
    "    \n",
    "    def __call__(self, segment):\n",
    "        \n",
    "        # Simple text no span to fill\n",
    "        if not fill_empty_span and is_pure_text(segment):\n",
    "            return cut(text,segment)\n",
    "    \n",
    "        # There is a span to decorate\n",
    "        output += '<span style='\n",
    "        output += 'color:' + color_mappint(segment)\n",
    "        output += 'background:'+ bg_mapping(segment)\n",
    "        output += '>'\n",
    "        \n",
    "        output += cut(text, segment)\n",
    "        output += '</span>'\n",
    "\n",
    "        return output"
   ]
  },
  {
   "cell_type": "code",
   "execution_count": null,
   "metadata": {
    "collapsed": true
   },
   "outputs": [],
   "source": [
    "class IndirectPlainSpanVisualiser(SpanDecorator):\n",
    "    \n",
    "    def __init__(class_mapper, id_mapper, event_attacher, fill_empty_spans = False ):    \n",
    "        pass\n",
    "    \n",
    "    def __call__(self, segment):\n",
    "        \n",
    "        # Simple text no span to fill\n",
    "        if not fill_empty_span and is_pure_text(segment):\n",
    "            return cut(text,segment)\n",
    "    \n",
    "        # There is a span to decorate\n",
    "        output += '<span '\n",
    "        if id_mapper:\n",
    "            output = 'id = ' + id_mapper(segment)\n",
    "\n",
    "        if class_mapper:\n",
    "            output = 'class = ' + class_mapper(segment)\n",
    "\n",
    "        output += cut(text, segment)\n",
    "        output += '</span>'\n",
    "\n",
    "        return output"
   ]
  },
  {
   "cell_type": "markdown",
   "metadata": {},
   "source": [
    "# Attribute visualiser"
   ]
  },
  {
   "cell_type": "code",
   "execution_count": null,
   "metadata": {
    "collapsed": true
   },
   "outputs": [],
   "source": [
    "class DirectAttributeVisualiser(SpanDecorator):\n",
    "    \n",
    "    def __init__(colour_mapping, bg_mapping, ..., event_attacher, fill_empty_spans=False):\n",
    "        pass\n",
    "    \n",
    "    def __call__(self, segment):\n",
    "        \n",
    "        # Simple text no span to fill\n",
    "        if not fill_empty_span and is_pure_text(segment):\n",
    "            return cut(text,segment)\n",
    "    \n",
    "        # There is a span to decorate\n",
    "        output += '<span style='\n",
    "        output += 'color:' + color_mappint(segment)\n",
    "        output += 'background:'+ bg_mapping(segment)\n",
    "        \n",
    "        # This attaches events\n",
    "        output += event_attacher(segment)\n",
    "\n",
    "        output += '>'\n",
    "        \n",
    "        output += cut(text, segment)\n",
    "        \n",
    "        output += '</span>'\n",
    "\n",
    "        return output\n",
    "    \n",
    "    def css():\n",
    "        return 'css'\n",
    "        \n",
    "    def event_handler_code():\n",
    "        return 'event handling code in JS'"
   ]
  },
  {
   "cell_type": "code",
   "execution_count": null,
   "metadata": {},
   "outputs": [],
   "source": [
    "class Display:    \n",
    "\n",
    "    css = 'mingi css'\n",
    "    span_decorator = smth    \n",
    "\n",
    "    def __init__(self, ??):\n",
    "        pass\n",
    "\n",
    "    def display(self):        \n",
    "        seqments = decompose_to_elementary_spans(Text, layers)\n",
    "\n",
    "        output = '' \n",
    "        for segment in segments:\n",
    "            output += sd.decorate(segment)    \n",
    "\n",
    "        return output # html string"
   ]
  },
  {
   "cell_type": "code",
   "execution_count": 2,
   "metadata": {},
   "outputs": [],
   "source": [
    "from estnltk import Text\n",
    "from estnltk import FancySpanVisualisation\n",
    "\n",
    "\n",
    "display = FancySpanVisualisation.dispaly_attributes\n",
    "display = FancySpanVisualisation.dispaly_spans\n",
    "display = FancySpanVisualisation.validate_spans\n",
    "\n",
    "t = Text('bla')"
   ]
  },
  {
   "cell_type": "code",
   "execution_count": null,
   "metadata": {},
   "outputs": [],
   "source": [
    "span_decorator = DirectPlainSpanVisualiser(color_mapper=lambda segment: color_mapper_discrete(segment, concrete value))\n",
    "\n",
    "display = Display(decorator=span_decorator)\n",
    "\n",
    "display(t)"
   ]
  },
  {
   "cell_type": "code",
   "execution_count": null,
   "metadata": {},
   "outputs": [],
   "source": [
    "t.layer_name"
   ]
  },
  {
   "cell_type": "code",
   "execution_count": 4,
   "metadata": {},
   "outputs": [
    {
     "data": {
      "text/html": [
       "<table border=\"1\" class=\"dataframe\">\n",
       "  <thead>\n",
       "    <tr style=\"text-align: right;\">\n",
       "      <th>text</th>\n",
       "    </tr>\n",
       "  </thead>\n",
       "  <tbody>\n",
       "    <tr>\n",
       "      <td><div align = \"left\">bla</div></td>\n",
       "    </tr>\n",
       "  </tbody>\n",
       "</table>"
      ],
      "text/plain": [
       "Text(text=\"bla\")"
      ]
     },
     "execution_count": 4,
     "metadata": {},
     "output_type": "execute_result"
    }
   ],
   "source": [
    "t.display"
   ]
  },
  {
   "cell_type": "code",
   "execution_count": 6,
   "metadata": {},
   "outputs": [
    {
     "name": "stdout",
     "output_type": "stream",
     "text": [
      "Text(text=\"bla\")\n",
      "Text(text=\"bla\")\n"
     ]
    }
   ],
   "source": [
    "print(t)\n",
    "print(t)"
   ]
  }
 ],
 "metadata": {
  "kernelspec": {
   "display_name": "Python 3",
   "language": "python",
   "name": "python3"
  },
  "language_info": {
   "codemirror_mode": {
    "name": "ipython",
    "version": 3
   },
   "file_extension": ".py",
   "mimetype": "text/x-python",
   "name": "python",
   "nbconvert_exporter": "python",
   "pygments_lexer": "ipython3",
   "version": "3.5.5"
  }
 },
 "nbformat": 4,
 "nbformat_minor": 2
}
