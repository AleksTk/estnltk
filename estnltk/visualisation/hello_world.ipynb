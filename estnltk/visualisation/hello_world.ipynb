{
 "cells": [
  {
   "cell_type": "code",
   "execution_count": 1,
   "metadata": {},
   "outputs": [
    {
     "data": {
      "text/plain": [
       "'Kui Arno isaga koolimajja jõudis, olid tunnid juba alanud.'"
      ]
     },
     "execution_count": 1,
     "metadata": {},
     "output_type": "execute_result"
    }
   ],
   "source": [
    "from estnltk import Text\n",
    "a = Text('Kui Arno isaga koolimajja jõudis, olid tunnid juba alanud.')\n",
    "a.text"
   ]
  },
  {
   "cell_type": "code",
   "execution_count": 2,
   "metadata": {},
   "outputs": [
    {
     "data": {
      "text/html": [
       "<table border=\"1\" class=\"dataframe\">\n",
       "  <thead>\n",
       "    <tr style=\"text-align: right;\">\n",
       "      <th>text</th>\n",
       "    </tr>\n",
       "  </thead>\n",
       "  <tbody>\n",
       "    <tr>\n",
       "      <td><div align = \"left\">Kui Arno isaga koolimajja jõudis, olid tunnid juba alanud.</div></td>\n",
       "    </tr>\n",
       "  </tbody>\n",
       "</table>\n",
       "<table border=\"1\" class=\"dataframe\">\n",
       "  <thead>\n",
       "    <tr style=\"text-align: right;\">\n",
       "      <th>layer name</th>\n",
       "      <th>attributes</th>\n",
       "      <th>parent</th>\n",
       "      <th>enveloping</th>\n",
       "      <th>ambiguous</th>\n",
       "      <th>span count</th>\n",
       "    </tr>\n",
       "  </thead>\n",
       "  <tbody>\n",
       "    <tr>\n",
       "      <td>sentences</td>\n",
       "      <td></td>\n",
       "      <td>None</td>\n",
       "      <td>words</td>\n",
       "      <td>False</td>\n",
       "      <td>1</td>\n",
       "    </tr>\n",
       "    <tr>\n",
       "      <td>tokens</td>\n",
       "      <td></td>\n",
       "      <td>None</td>\n",
       "      <td>None</td>\n",
       "      <td>False</td>\n",
       "      <td>11</td>\n",
       "    </tr>\n",
       "    <tr>\n",
       "      <td>words</td>\n",
       "      <td>normalized_form</td>\n",
       "      <td>None</td>\n",
       "      <td>None</td>\n",
       "      <td>False</td>\n",
       "      <td>11</td>\n",
       "    </tr>\n",
       "    <tr>\n",
       "      <td>morph_analysis</td>\n",
       "      <td>lemma, root, root_tokens, ending, clitic, form, partofspeech</td>\n",
       "      <td>words</td>\n",
       "      <td>None</td>\n",
       "      <td>True</td>\n",
       "      <td>11</td>\n",
       "    </tr>\n",
       "  </tbody>\n",
       "</table>"
      ],
      "text/plain": [
       "Text(text=\"Kui Arno isaga koolimajja jõudis, olid tunnid juba alanud.\")"
      ]
     },
     "execution_count": 2,
     "metadata": {},
     "output_type": "execute_result"
    }
   ],
   "source": [
    "a.tag_layer([\"morph_analysis\"])"
   ]
  },
  {
   "cell_type": "code",
   "execution_count": 3,
   "metadata": {},
   "outputs": [],
   "source": [
    "def add_spans (text, span_name):\n",
    "    span = getattr(text, span_name)\n",
    "    spancount = len(span.spans)\n",
    "    spanstarts = []\n",
    "    spanends = []\n",
    "    text=text.text\n",
    "    \n",
    "    for i in range(spancount):\n",
    "        spanstart = span[i].start\n",
    "        spanend = span[i].end\n",
    "        spanstarts.append(spanstart)\n",
    "        spanends.append(spanend)\n",
    "    \n",
    "    for i in range(spancount):\n",
    "        text=''.join([text[:spanstarts[i]+i*41],\"<span onclick=box(this.innerHTML)>\",\n",
    "            text[spanstarts[i]+i*41:spanends[i]+i*41],\"</span>\",text[spanends[i]+i*41:len(text)]])\n",
    "    return text"
   ]
  },
  {
   "cell_type": "code",
   "execution_count": 4,
   "metadata": {},
   "outputs": [],
   "source": [
    "t = '''\n",
    "<html>\n",
    "<style>\n",
    ".boxes {{\n",
    "    background: linear-gradient(to bottom right, white, lightgray);\n",
    "    border: 1px solid black;\n",
    "    border-radius: 4px;\n",
    "    box-shadow: 4px 4px 4px gray;\n",
    "    width: fit-content;\n",
    "}}\n",
    "</style>\n",
    "<body>\n",
    "\n",
    "<p id=\"maintext\">{}</p>\n",
    "\n",
    "<script>\n",
    "\n",
    "function box(content) {{\n",
    "    let textbox = document.createElement(\"DIV\");\n",
    "    textbox.classList.add(\"boxes\");\n",
    "    let t = document.createTextNode(content);\n",
    "    textbox.appendChild(t);\n",
    "    let textNode = document.getElementById(\"maintext\");\n",
    "    let previousBox = document.querySelector('.boxes');\n",
    "    if (previousBox){{\n",
    "        previousBox.parentNode.removeChild(previousBox);\n",
    "    }}\n",
    "    textNode.appendChild(textbox);\n",
    "}}\n",
    "\n",
    "</script>\n",
    "\n",
    "</body>\n",
    "</html>\n",
    "'''\n"
   ]
  },
  {
   "cell_type": "code",
   "execution_count": 5,
   "metadata": {},
   "outputs": [
    {
     "data": {
      "text/html": [
       "\n",
       "<html>\n",
       "<style>\n",
       ".boxes {\n",
       "    background: linear-gradient(to bottom right, white, lightgray);\n",
       "    border: 1px solid black;\n",
       "    border-radius: 4px;\n",
       "    box-shadow: 4px 4px 4px gray;\n",
       "    width: fit-content;\n",
       "}\n",
       "</style>\n",
       "<body>\n",
       "\n",
       "<p id=\"maintext\"><span onclick=box(this.innerHTML)>Kui</span> <span onclick=box(this.innerHTML)>Arno</span> <span onclick=box(this.innerHTML)>isaga</span> <span onclick=box(this.innerHTML)>koolimajja</span> <span onclick=box(this.innerHTML)>jõudis</span><span onclick=box(this.innerHTML)>,</span> <span onclick=box(this.innerHTML)>olid</span> <span onclick=box(this.innerHTML)>tunnid</span> <span onclick=box(this.innerHTML)>juba</span> <span onclick=box(this.innerHTML)>alanud</span><span onclick=box(this.innerHTML)>.</span></p>\n",
       "\n",
       "<script>\n",
       "\n",
       "function box(content) {\n",
       "    let textbox = document.createElement(\"DIV\");\n",
       "    textbox.classList.add(\"boxes\");\n",
       "    let t = document.createTextNode(content);\n",
       "    textbox.appendChild(t);\n",
       "    let textNode = document.getElementById(\"maintext\");\n",
       "    let previousBox = document.querySelector('.boxes');\n",
       "    if (previousBox){\n",
       "        previousBox.parentNode.removeChild(previousBox);\n",
       "    }\n",
       "    textNode.appendChild(textbox);\n",
       "}\n",
       "\n",
       "</script>\n",
       "\n",
       "</body>\n",
       "</html>\n"
      ]
     },
     "metadata": {},
     "output_type": "display_data"
    }
   ],
   "source": [
    "from IPython.display import display_html\n",
    "\n",
    "def display_layer(text,layer):\n",
    "    result=add_spans(text,layer)\n",
    "    display_html(t.format(result), raw=True)\n",
    "    \n",
    "display_layer(a,\"morph_analysis\")"
   ]
  }
 ],
 "metadata": {
  "kernelspec": {
   "display_name": "Python 3",
   "language": "python",
   "name": "python3"
  },
  "language_info": {
   "codemirror_mode": {
    "name": "ipython",
    "version": 3
   },
   "file_extension": ".py",
   "mimetype": "text/x-python",
   "name": "python",
   "nbconvert_exporter": "python",
   "pygments_lexer": "ipython3",
   "version": "3.5.5"
  }
 },
 "nbformat": 4,
 "nbformat_minor": 2
}
