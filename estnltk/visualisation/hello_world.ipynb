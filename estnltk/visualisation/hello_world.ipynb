{
 "cells": [
  {
   "cell_type": "code",
   "execution_count": 40,
   "metadata": {},
   "outputs": [
    {
     "data": {
      "text/plain": [
       "'Kui Arno isaga koolimajja jõudis, olid tunnid juba alanud.'"
      ]
     },
     "execution_count": 40,
     "metadata": {},
     "output_type": "execute_result"
    }
   ],
   "source": [
    "from estnltk import Text\n",
    "a = Text('Kui Arno isaga koolimajja jõudis, olid tunnid juba alanud.')\n",
    "a.text"
   ]
  },
  {
   "cell_type": "code",
   "execution_count": 41,
   "metadata": {},
   "outputs": [
    {
     "data": {
      "text/html": [
       "<table border=\"1\" class=\"dataframe\">\n",
       "  <thead>\n",
       "    <tr style=\"text-align: right;\">\n",
       "      <th>text</th>\n",
       "    </tr>\n",
       "  </thead>\n",
       "  <tbody>\n",
       "    <tr>\n",
       "      <td><div align = \"left\">Kui Arno isaga koolimajja jõudis, olid tunnid juba alanud.</div></td>\n",
       "    </tr>\n",
       "  </tbody>\n",
       "</table>\n",
       "<table border=\"1\" class=\"dataframe\">\n",
       "  <thead>\n",
       "    <tr style=\"text-align: right;\">\n",
       "      <th>layer name</th>\n",
       "      <th>attributes</th>\n",
       "      <th>parent</th>\n",
       "      <th>enveloping</th>\n",
       "      <th>ambiguous</th>\n",
       "      <th>span count</th>\n",
       "    </tr>\n",
       "  </thead>\n",
       "  <tbody>\n",
       "    <tr>\n",
       "      <td>sentences</td>\n",
       "      <td></td>\n",
       "      <td>None</td>\n",
       "      <td>words</td>\n",
       "      <td>False</td>\n",
       "      <td>1</td>\n",
       "    </tr>\n",
       "    <tr>\n",
       "      <td>tokens</td>\n",
       "      <td></td>\n",
       "      <td>None</td>\n",
       "      <td>None</td>\n",
       "      <td>False</td>\n",
       "      <td>11</td>\n",
       "    </tr>\n",
       "    <tr>\n",
       "      <td>words</td>\n",
       "      <td>normalized_form</td>\n",
       "      <td>None</td>\n",
       "      <td>None</td>\n",
       "      <td>False</td>\n",
       "      <td>11</td>\n",
       "    </tr>\n",
       "    <tr>\n",
       "      <td>morph_analysis</td>\n",
       "      <td>lemma, root, root_tokens, ending, clitic, form, partofspeech</td>\n",
       "      <td>words</td>\n",
       "      <td>None</td>\n",
       "      <td>True</td>\n",
       "      <td>11</td>\n",
       "    </tr>\n",
       "  </tbody>\n",
       "</table>"
      ],
      "text/plain": [
       "Text(text=\"Kui Arno isaga koolimajja jõudis, olid tunnid juba alanud.\")"
      ]
     },
     "execution_count": 41,
     "metadata": {},
     "output_type": "execute_result"
    }
   ],
   "source": [
    "a.tag_layer([\"morph_analysis\"])"
   ]
  },
  {
   "cell_type": "code",
   "execution_count": 42,
   "metadata": {},
   "outputs": [],
   "source": [
    "def JS_data (text, span_name):\n",
    "    span = getattr(text, span_name)\n",
    "    spancount = len(span.spans)\n",
    "    spanstarts = []\n",
    "    spanends = []\n",
    "    for i in range(spancount):\n",
    "        spanstart = span[i].start\n",
    "        spanend = span[i].end\n",
    "        spanstarts.append(spanstart)\n",
    "        spanends.append(spanend)\n",
    "    return text.text, spanstarts, spanends"
   ]
  },
  {
   "cell_type": "code",
   "execution_count": 43,
   "metadata": {},
   "outputs": [
    {
     "data": {
      "text/html": [
       "\n",
       "<html>\n",
       "<style>\n",
       ".boxes {\n",
       "    background: linear-gradient(to bottom right, white, lightgray);\n",
       "    border: 1px solid black;\n",
       "    border-radius: 4px;\n",
       "    box-shadow: 4px 4px 4px gray;\n",
       "    width: fit-content;\n",
       "}\n",
       "</style>\n",
       "<body>\n",
       "\n",
       "<p id=\"maintext\">Kui Arno isaga koolimajja jõudis, olid tunnid juba alanud.</p>\n",
       "\n",
       "<script>\n",
       "\n",
       "function box(content) {\n",
       "    let textbox = document.createElement(\"DIV\");\n",
       "    textbox.classList.add(\"boxes\");\n",
       "    let t = document.createTextNode(content);\n",
       "    textbox.appendChild(t);\n",
       "    let textNode = document.getElementById(\"maintext\");\n",
       "    let previousBox = document.querySelector('.boxes');\n",
       "    if (previousBox){\n",
       "        previousBox.parentNode.removeChild(previousBox);\n",
       "    }\n",
       "    textNode.appendChild(textbox);\n",
       "}\n",
       "\n",
       "function add_spans() {\n",
       "    let spanstarts = [0, 4, 9, 15, 26, 32, 34, 39, 46, 51, 57];\n",
       "    let spanends = [3, 8, 14, 25, 32, 33, 38, 45, 50, 57, 58];\n",
       "    let spancount = spanstarts.length;\n",
       "    let text = document.getElementById(\"maintext\");\n",
       "    let innerHTML = text.innerHTML;\n",
       "    for (let i = 0; i < spancount; i++) {\n",
       "        innerHTML = innerHTML.substring(0,spanstarts[i]+i*41) + \"<span onclick=box(this.innerHTML)>\"+\n",
       "        innerHTML.substring(spanstarts[i]+i*41,spanends[i]+i*41) + \"</span>\" +\n",
       "        innerHTML.substring(spanends[i]+i*41,innerHTML.length);\n",
       "        text.innerHTML=innerHTML;\n",
       "    }\n",
       "    \n",
       "}\n",
       "\n",
       "add_spans()\n",
       "\n",
       "</script>\n",
       "\n",
       "</body>\n",
       "</html>\n"
      ],
      "text/plain": [
       "<__main__.T at 0x19f643c6160>"
      ]
     },
     "execution_count": 43,
     "metadata": {},
     "output_type": "execute_result"
    }
   ],
   "source": [
    "t = '''\n",
    "<html>\n",
    "<style>\n",
    ".boxes {\n",
    "    background: linear-gradient(to bottom right, white, lightgray);\n",
    "    border: 1px solid black;\n",
    "    border-radius: 4px;\n",
    "    box-shadow: 4px 4px 4px gray;\n",
    "    width: fit-content;\n",
    "}\n",
    "</style>\n",
    "<body>\n",
    "\n",
    "<p id=\"maintext\">'''\n",
    "t+=JS_data(a, \"morph_analysis\")[0]\n",
    "t+='''</p>\n",
    "\n",
    "<script>\n",
    "\n",
    "function box(content) {\n",
    "    let textbox = document.createElement(\"DIV\");\n",
    "    textbox.classList.add(\"boxes\");\n",
    "    let t = document.createTextNode(content);\n",
    "    textbox.appendChild(t);\n",
    "    let textNode = document.getElementById(\"maintext\");\n",
    "    let previousBox = document.querySelector('.boxes');\n",
    "    if (previousBox){\n",
    "        previousBox.parentNode.removeChild(previousBox);\n",
    "    }\n",
    "    textNode.appendChild(textbox);\n",
    "}\n",
    "\n",
    "function add_spans() {\n",
    "    let spanstarts = '''\n",
    "t+=str(JS_data(a, \"morph_analysis\")[1])\n",
    "t+=''';\n",
    "    let spanends = '''\n",
    "t+=str(JS_data(a, \"morph_analysis\")[2])\n",
    "t+=''';\n",
    "    let spancount = spanstarts.length;\n",
    "    let text = document.getElementById(\"maintext\");\n",
    "    let innerHTML = text.innerHTML;\n",
    "    for (let i = 0; i < spancount; i++) {\n",
    "        innerHTML = innerHTML.substring(0,spanstarts[i]+i*41) + \"<span onclick=box(this.innerHTML)>\"+\n",
    "        innerHTML.substring(spanstarts[i]+i*41,spanends[i]+i*41) + \"</span>\" +\n",
    "        innerHTML.substring(spanends[i]+i*41,innerHTML.length);\n",
    "        text.innerHTML=innerHTML;\n",
    "    }\n",
    "    \n",
    "}\n",
    "\n",
    "add_spans()\n",
    "\n",
    "</script>\n",
    "\n",
    "</body>\n",
    "</html>\n",
    "'''\n",
    "\n",
    "class T:\n",
    "    def _repr_html_(self):\n",
    "        return t\n",
    "T()"
   ]
  }
 ],
 "metadata": {
  "kernelspec": {
   "display_name": "Python 3",
   "language": "python",
   "name": "python3"
  },
  "language_info": {
   "codemirror_mode": {
    "name": "ipython",
    "version": 3
   },
   "file_extension": ".py",
   "mimetype": "text/x-python",
   "name": "python",
   "nbconvert_exporter": "python",
   "pygments_lexer": "ipython3",
   "version": "3.5.5"
  }
 },
 "nbformat": 4,
 "nbformat_minor": 2
}
