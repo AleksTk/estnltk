{
 "cells": [
  {
   "cell_type": "code",
   "execution_count": 1,
   "metadata": {},
   "outputs": [],
   "source": [
    "%load_ext autoreload\n",
    "%autoreload 2"
   ]
  },
  {
   "cell_type": "code",
   "execution_count": 2,
   "metadata": {},
   "outputs": [],
   "source": [
    "def decorate(html_spans):\n",
    "    spans = []\n",
    "    \n",
    "    for i in range(len(html_spans)):\n",
    "        coordinates = []\n",
    "        coordinates.append(html_spans[i][0])\n",
    "        coordinates.append(html_spans[i][1])\n",
    "        spans.append(coordinates)\n",
    "        \n",
    "    #contents_without_attributes = fun_output[1]\n",
    "    #spans_in_html_spans = fun_output[2]\n",
    "    #texts = fun_output[3]\n",
    "    #attributes = getattr(text,layer).attributes\n",
    "    #contents = []\n",
    "    \n",
    "    #for content in contents_without_attributes:\n",
    "    #    new_content=[]\n",
    "    #    for i in range(len(content)):\n",
    "    #        new_content.append(attributes[i%len(attributes)])\n",
    "    #        new_content.append(content[i])\n",
    "    #    contents.append(new_content)\n",
    "    \n",
    "    #tabledata=[]\n",
    "    \n",
    "    #for content in contents_without_attributes:\n",
    "    #    for i in range(len(attributes)):\n",
    "    #        tabledata.append(attributes[i])\n",
    "    #        tabledata.append(content[i])\n",
    "    \n",
    "    texts = []\n",
    "    \n",
    "    for span in html_spans:\n",
    "        content=[]\n",
    "        span_info = span[2]\n",
    "        for i in range(len(span_info)):\n",
    "            content.append(span_info[i].text)\n",
    "        texts.append(content)\n",
    "    \n",
    "    fragments = []\n",
    "    last_end = 0\n",
    "    print(texts)\n",
    "    style='background-color:blue;'\n",
    "    \n",
    "    for i, (s, e) in enumerate(spans):\n",
    "        fragments.append(text[last_end:s])\n",
    "        fragments.append('<span class=\"span')\n",
    "        if len(html_spans[i][2])>1:\n",
    "            fragments.append(\" overlapping-span\")\n",
    "        fragments.append('\"; onclick=\"visualise{0}(')\n",
    "        fragments.append(str(html_spans[i][1]).replace('\"','').replace('{','{{').replace('}','}}'))\n",
    "        fragments.append(',')\n",
    "        fragments.append(str(i))\n",
    "        fragments.append(',')\n",
    "        fragments.append(\"[\"+str(html_spans[i][0])+\",\"+str(html_spans[i][1])+\"]\")\n",
    "        fragments.append(\", this,\")\n",
    "        fragments.append(str(texts[i]))\n",
    "        fragments.append(')\"; indexes=\"')\n",
    "        fragments.append(\"[\"+str(html_spans[i][0])+\",\"+str(html_spans[i][1])+\"]\")\n",
    "        fragments.append('\"; span_exists = \"\";')\n",
    "        fragments.append('style = \"')\n",
    "        fragments.append(style)\n",
    "        fragments.append('\">')\n",
    "        fragments.append(text[s:e])\n",
    "        fragments.append('</span>')\n",
    "        last_end = e\n",
    "    fragments.append(text[last_end:])\n",
    "    return ''.join(fragments)"
   ]
  },
  {
   "cell_type": "code",
   "execution_count": 3,
   "metadata": {},
   "outputs": [],
   "source": [
    "def is_pure_text(segment):\n",
    "    for span in segment:\n",
    "        if len(segment[1])>0:\n",
    "            return False\n",
    "    return True"
   ]
  },
  {
   "cell_type": "code",
   "execution_count": 4,
   "metadata": {},
   "outputs": [],
   "source": [
    "def test_bg_mapping(segment):\n",
    "    if 'SADA' in segment[1][0].attr_1:\n",
    "        return \"green\"\n",
    "    else:\n",
    "        return \"yellow\""
   ]
  },
  {
   "cell_type": "code",
   "execution_count": 5,
   "metadata": {},
   "outputs": [],
   "source": [
    "def test_class_mapping(segment):\n",
    "    return \"some_class\""
   ]
  },
  {
   "cell_type": "code",
   "execution_count": 6,
   "metadata": {},
   "outputs": [],
   "source": [
    "from estnltk.tests import new_text"
   ]
  },
  {
   "cell_type": "code",
   "execution_count": 7,
   "metadata": {},
   "outputs": [],
   "source": [
    "def bg_mapper_discrete(segment, attribute, value_mapping, default_color, conflict_color):\n",
    "    \n",
    "    if segment[1].length() > 1:\n",
    "        return conflict_color\n",
    "    \n",
    "    return value_mapping.get(segment[1][0].get_attr(attribute), default_color)    "
   ]
  },
  {
   "cell_type": "code",
   "execution_count": 8,
   "metadata": {
    "scrolled": true
   },
   "outputs": [
    {
     "name": "stdout",
     "output_type": "stream",
     "text": [
      "<span class=some_class>Sada</span> <span class=some_class>kaks</span><span class=some_class>kümme</span><span class=some_class>nd</span> <span class=some_class>kolm</span>.<span class=some_class> Neli</span> <span class=some_class>tuhat</span> <span class=some_class>viis</span><span class=some_class>sada</span> <span class=some_class>kuus</span><span class=some_class>kümme</span><span class=some_class>nd</span> <span class=some_class>seitse</span> <span class=some_class>koma</span> <span class=some_class>kaheksa</span>. <span class=some_class>Üheksa</span><span class=some_class>kümme</span><span class=some_class>nd</span> tuhat.\n"
     ]
    },
    {
     "data": {
      "text/html": [
       "<span class=some_class>Sada</span> <span class=some_class>kaks</span><span class=some_class>kümme</span><span class=some_class>nd</span> <span class=some_class>kolm</span>.<span class=some_class> Neli</span> <span class=some_class>tuhat</span> <span class=some_class>viis</span><span class=some_class>sada</span> <span class=some_class>kuus</span><span class=some_class>kümme</span><span class=some_class>nd</span> <span class=some_class>seitse</span> <span class=some_class>koma</span> <span class=some_class>kaheksa</span>. <span class=some_class>Üheksa</span><span class=some_class>kümme</span><span class=some_class>nd</span> tuhat."
      ]
     },
     "metadata": {},
     "output_type": "display_data"
    }
   ],
   "source": [
    "#from estnltk.FancySpanVisualisation import DisplayAttributes as Display\n",
    "from IPython.display import display_html\n",
    "from estnltk.visualisation.DirectPlainSpanVisualiser import DirectPlainSpanVisualiser\n",
    "from estnltk.visualisation.IndirectPlainSpanVisualiser import IndirectPlainSpanVisualiser\n",
    "from estnltk.visualisation.prettyprinter import decompose_to_elementary_spans\n",
    "\n",
    "segments = decompose_to_elementary_spans(new_text(5).layer_1,new_text(5).text)\n",
    "\n",
    "#span_decorator = DirectPlainSpanVisualiser(bg_mapping=lambda segment: bg_mapper_discrete(segment, concrete value))\n",
    "\n",
    "#span_decorator = DirectPlainSpanVisualiser(bg_mapping=test_bg_mapping)\n",
    "span_decorator = IndirectPlainSpanVisualiser(class_mapping=test_class_mapping)\n",
    "\n",
    "outputs=[]\n",
    "for segment in segments:\n",
    "    outputs.append(span_decorator(segment))\n",
    "\n",
    "t = \"\".join(outputs)\n",
    "\n",
    "print(t)\n",
    "#display = Display(decorator=span_decorator)\n",
    "\n",
    "display_html(t, raw=True)"
   ]
  },
  {
   "cell_type": "code",
   "execution_count": 9,
   "metadata": {},
   "outputs": [
    {
     "data": {
      "text/plain": [
       "[['Sada', [AS[Annotation(Sada, {'attr': 'L1-0', 'attr_1': 'SADA'})]]],\n",
       " [' ', []],\n",
       " ['kaks',\n",
       "  [AS[Annotation(kaks, {'attr': 'L1-1', 'attr_1': 'KAKS'})],\n",
       "   AS[Annotation(kakskümmend, {'attr': 'L1-2', 'attr_1': 'KAKS'}), Annotation(kakskümmend, {'attr': 'L1-2', 'attr_1': 'KÜMME'}), Annotation(kakskümmend, {'attr': 'L1-2', 'attr_1': 'KAKSKÜMMEND'})]]],\n",
       " ['kümme',\n",
       "  [AS[Annotation(kakskümmend, {'attr': 'L1-2', 'attr_1': 'KAKS'}), Annotation(kakskümmend, {'attr': 'L1-2', 'attr_1': 'KÜMME'}), Annotation(kakskümmend, {'attr': 'L1-2', 'attr_1': 'KAKSKÜMMEND'})],\n",
       "   AS[Annotation(kümme, {'attr': 'L1-3', 'attr_1': 'KÜMME'})]]],\n",
       " ['nd',\n",
       "  [AS[Annotation(kakskümmend, {'attr': 'L1-2', 'attr_1': 'KAKS'}), Annotation(kakskümmend, {'attr': 'L1-2', 'attr_1': 'KÜMME'}), Annotation(kakskümmend, {'attr': 'L1-2', 'attr_1': 'KAKSKÜMMEND'})]]],\n",
       " [' ', []],\n",
       " ['kolm', [AS[Annotation(kolm, {'attr': 'L1-4', 'attr_1': 'KOLM'})]]],\n",
       " ['.', []],\n",
       " [' Neli', [AS[Annotation( Neli, {'attr': 'L1-5', 'attr_1': 'NELI'})]]],\n",
       " [' ', []],\n",
       " ['tuhat', [AS[Annotation(tuhat, {'attr': 'L1-6', 'attr_1': 'TUHAT'})]]],\n",
       " [' ', []],\n",
       " ['viis',\n",
       "  [AS[Annotation(viis, {'attr': 'L1-7', 'attr_1': 'VIIS'})],\n",
       "   AS[Annotation(viissada, {'attr': 'L1-8', 'attr_1': 'SADA'}), Annotation(viissada, {'attr': 'L1-8', 'attr_1': 'VIIS'}), Annotation(viissada, {'attr': 'L1-8', 'attr_1': 'VIISSADA'})]]],\n",
       " ['sada',\n",
       "  [AS[Annotation(viissada, {'attr': 'L1-8', 'attr_1': 'SADA'}), Annotation(viissada, {'attr': 'L1-8', 'attr_1': 'VIIS'}), Annotation(viissada, {'attr': 'L1-8', 'attr_1': 'VIISSADA'})],\n",
       "   AS[Annotation(sada, {'attr': 'L1-9', 'attr_1': 'SADA'})]]],\n",
       " [' ', []],\n",
       " ['kuus',\n",
       "  [AS[Annotation(kuus, {'attr': 'L1-10', 'attr_1': 'KUUS'})],\n",
       "   AS[Annotation(kuuskümmend, {'attr': 'L1-11', 'attr_1': 'KUUS'}), Annotation(kuuskümmend, {'attr': 'L1-11', 'attr_1': 'KÜMME'}), Annotation(kuuskümmend, {'attr': 'L1-11', 'attr_1': 'KUUSKÜMMEND'})]]],\n",
       " ['kümme',\n",
       "  [AS[Annotation(kuuskümmend, {'attr': 'L1-11', 'attr_1': 'KUUS'}), Annotation(kuuskümmend, {'attr': 'L1-11', 'attr_1': 'KÜMME'}), Annotation(kuuskümmend, {'attr': 'L1-11', 'attr_1': 'KUUSKÜMMEND'})],\n",
       "   AS[Annotation(kümme, {'attr': 'L1-12', 'attr_1': 'KÜMME'})]]],\n",
       " ['nd',\n",
       "  [AS[Annotation(kuuskümmend, {'attr': 'L1-11', 'attr_1': 'KUUS'}), Annotation(kuuskümmend, {'attr': 'L1-11', 'attr_1': 'KÜMME'}), Annotation(kuuskümmend, {'attr': 'L1-11', 'attr_1': 'KUUSKÜMMEND'})]]],\n",
       " [' ', []],\n",
       " ['seitse', [AS[Annotation(seitse, {'attr': 'L1-13', 'attr_1': 'SEITSE'})]]],\n",
       " [' ', []],\n",
       " ['koma', [AS[Annotation(koma, {'attr': 'L1-14', 'attr_1': 'KOMA'})]]],\n",
       " [' ', []],\n",
       " ['kaheksa',\n",
       "  [AS[Annotation(kaheksa, {'attr': 'L1-15', 'attr_1': 'KAHEKSA'})]]],\n",
       " ['. ', []],\n",
       " ['Üheksa',\n",
       "  [AS[Annotation(Üheksa, {'attr': 'L1-16', 'attr_1': 'ÜHEKSA'})],\n",
       "   AS[Annotation(Üheksakümmend, {'attr': 'L1-17', 'attr_1': 'ÜHEKSA'}), Annotation(Üheksakümmend, {'attr': 'L1-17', 'attr_1': 'KÜMME'}), Annotation(Üheksakümmend, {'attr': 'L1-17', 'attr_1': 'ÜHEKSAKÜMMEND'})]]],\n",
       " ['kümme',\n",
       "  [AS[Annotation(Üheksakümmend, {'attr': 'L1-17', 'attr_1': 'ÜHEKSA'}), Annotation(Üheksakümmend, {'attr': 'L1-17', 'attr_1': 'KÜMME'}), Annotation(Üheksakümmend, {'attr': 'L1-17', 'attr_1': 'ÜHEKSAKÜMMEND'})],\n",
       "   AS[Annotation(kümme, {'attr': 'L1-18', 'attr_1': 'KÜMME'})]]],\n",
       " ['nd',\n",
       "  [AS[Annotation(Üheksakümmend, {'attr': 'L1-17', 'attr_1': 'ÜHEKSA'}), Annotation(Üheksakümmend, {'attr': 'L1-17', 'attr_1': 'KÜMME'}), Annotation(Üheksakümmend, {'attr': 'L1-17', 'attr_1': 'ÜHEKSAKÜMMEND'})]]],\n",
       " [' tuhat.', []]]"
      ]
     },
     "execution_count": 9,
     "metadata": {},
     "output_type": "execute_result"
    }
   ],
   "source": [
    "elementary_spans = decompose_to_elementary_spans(new_text(5).layer_1,new_text(5).text)\n",
    "elementary_spans"
   ]
  },
  {
   "cell_type": "code",
   "execution_count": 10,
   "metadata": {},
   "outputs": [],
   "source": [
    "from estnltk import Text"
   ]
  },
  {
   "cell_type": "code",
   "execution_count": 11,
   "metadata": {},
   "outputs": [],
   "source": [
    "def test_morph_bg_mapping(segment):\n",
    "    if 'V' in segment[1][0].partofspeech:\n",
    "        return \"green\"\n",
    "    else:\n",
    "        return \"yellow\""
   ]
  },
  {
   "cell_type": "code",
   "execution_count": 12,
   "metadata": {},
   "outputs": [],
   "source": [
    "from estnltk.visualisation.prettyprinter import decompose_to_elementary_spans"
   ]
  },
  {
   "cell_type": "code",
   "execution_count": 13,
   "metadata": {},
   "outputs": [
    {
     "ename": "NameError",
     "evalue": "name 'tekst' is not defined",
     "output_type": "error",
     "traceback": [
      "\u001b[1;31m---------------------------------------------------------------------------\u001b[0m",
      "\u001b[1;31mNameError\u001b[0m                                 Traceback (most recent call last)",
      "\u001b[1;32m<ipython-input-13-87e1215a9c38>\u001b[0m in \u001b[0;36m<module>\u001b[1;34m()\u001b[0m\n\u001b[1;32m----> 1\u001b[1;33m \u001b[0mtekst\u001b[0m\u001b[1;33m.\u001b[0m\u001b[0mcompound_tokens\u001b[0m\u001b[1;33m\u001b[0m\u001b[0m\n\u001b[0m\u001b[0;32m      2\u001b[0m \u001b[1;33m\u001b[0m\u001b[0m\n\u001b[0;32m      3\u001b[0m \u001b[0mdecompose_to_elementary_spans\u001b[0m\u001b[1;33m(\u001b[0m\u001b[0mtekst\u001b[0m\u001b[1;33m.\u001b[0m\u001b[0mcompound_tokens\u001b[0m\u001b[1;33m,\u001b[0m \u001b[0mtekst\u001b[0m\u001b[1;33m.\u001b[0m\u001b[0mtext\u001b[0m\u001b[1;33m)\u001b[0m\u001b[1;33m\u001b[0m\u001b[0m\n",
      "\u001b[1;31mNameError\u001b[0m: name 'tekst' is not defined"
     ]
    }
   ],
   "source": [
    "tekst.compound_tokens\n",
    "\n",
    "decompose_to_elementary_spans(tekst.compound_tokens, tekst.text)"
   ]
  }
 ],
 "metadata": {
  "kernelspec": {
   "display_name": "Python 3",
   "language": "python",
   "name": "python3"
  },
  "language_info": {
   "codemirror_mode": {
    "name": "ipython",
    "version": 3
   },
   "file_extension": ".py",
   "mimetype": "text/x-python",
   "name": "python",
   "nbconvert_exporter": "python",
   "pygments_lexer": "ipython3",
   "version": "3.5.5"
  }
 },
 "nbformat": 4,
 "nbformat_minor": 2
}
