{
 "cells": [
  {
   "cell_type": "code",
   "execution_count": 1,
   "metadata": {},
   "outputs": [],
   "source": [
    "%load_ext autoreload\n",
    "%autoreload 2"
   ]
  },
  {
   "cell_type": "code",
   "execution_count": 2,
   "metadata": {},
   "outputs": [],
   "source": [
    "def decompose_to_elementary_spans (layer,text):\n",
    "    spanindexes = []\n",
    "    attributes = layer.attributes\n",
    "    \n",
    "    for s in layer.spans:\n",
    "        spanstart = s.start\n",
    "        spanend = s.end\n",
    "        spanindexes.append(spanstart)\n",
    "        spanindexes.append(spanend)\n",
    "    \n",
    "    html_spans=[]\n",
    "    \n",
    "    spanindexes = sorted(set(spanindexes))\n",
    "    \n",
    "    for i in range(len(spanindexes)-1):\n",
    "        span_text = text[spanindexes[i]:spanindexes[i+1]]\n",
    "        html_spans.append([spanindexes[i],spanindexes[i+1],span_text])\n",
    "                    \n",
    "    for i, html_span in enumerate(html_spans):\n",
    "        span_list=[]\n",
    "        span_start = html_span[0]\n",
    "        span_end = html_span[1]\n",
    "        for s in layer.spans:\n",
    "            if span_start in range (s.start,s.end):\n",
    "                span_list.append(s)\n",
    "        html_span.append(span_list)\n",
    "        del html_span[0:2]\n",
    "\n",
    "    return html_spans"
   ]
  },
  {
   "cell_type": "code",
   "execution_count": 3,
   "metadata": {},
   "outputs": [],
   "source": [
    "def decorate(html_spans):\n",
    "    spans = []\n",
    "    \n",
    "    for i in range(len(html_spans)):\n",
    "        coordinates = []\n",
    "        coordinates.append(html_spans[i][0])\n",
    "        coordinates.append(html_spans[i][1])\n",
    "        spans.append(coordinates)\n",
    "        \n",
    "    #contents_without_attributes = fun_output[1]\n",
    "    #spans_in_html_spans = fun_output[2]\n",
    "    #texts = fun_output[3]\n",
    "    #attributes = getattr(text,layer).attributes\n",
    "    #contents = []\n",
    "    \n",
    "    #for content in contents_without_attributes:\n",
    "    #    new_content=[]\n",
    "    #    for i in range(len(content)):\n",
    "    #        new_content.append(attributes[i%len(attributes)])\n",
    "    #        new_content.append(content[i])\n",
    "    #    contents.append(new_content)\n",
    "    \n",
    "    #tabledata=[]\n",
    "    \n",
    "    #for content in contents_without_attributes:\n",
    "    #    for i in range(len(attributes)):\n",
    "    #        tabledata.append(attributes[i])\n",
    "    #        tabledata.append(content[i])\n",
    "    \n",
    "    texts = []\n",
    "    \n",
    "    for span in html_spans:\n",
    "        content=[]\n",
    "        span_info = span[2]\n",
    "        for i in range(len(span_info)):\n",
    "            content.append(span_info[i].text)\n",
    "        texts.append(content)\n",
    "    \n",
    "    fragments = []\n",
    "    last_end = 0\n",
    "    print(texts)\n",
    "    style='background-color:blue;'\n",
    "    \n",
    "    for i, (s, e) in enumerate(spans):\n",
    "        fragments.append(text[last_end:s])\n",
    "        fragments.append('<span class=\"span')\n",
    "        if len(html_spans[i][2])>1:\n",
    "            fragments.append(\" overlapping-span\")\n",
    "        fragments.append('\"; onclick=\"visualise{0}(')\n",
    "        fragments.append(str(html_spans[i][1]).replace('\"','').replace('{','{{').replace('}','}}'))\n",
    "        fragments.append(',')\n",
    "        fragments.append(str(i))\n",
    "        fragments.append(',')\n",
    "        fragments.append(\"[\"+str(html_spans[i][0])+\",\"+str(html_spans[i][1])+\"]\")\n",
    "        fragments.append(\", this,\")\n",
    "        fragments.append(str(texts[i]))\n",
    "        fragments.append(')\"; indexes=\"')\n",
    "        fragments.append(\"[\"+str(html_spans[i][0])+\",\"+str(html_spans[i][1])+\"]\")\n",
    "        fragments.append('\"; span_exists = \"\";')\n",
    "        fragments.append('style = \"')\n",
    "        fragments.append(style)\n",
    "        fragments.append('\">')\n",
    "        fragments.append(text[s:e])\n",
    "        fragments.append('</span>')\n",
    "        last_end = e\n",
    "    fragments.append(text[last_end:])\n",
    "    return ''.join(fragments)"
   ]
  },
  {
   "cell_type": "code",
   "execution_count": 4,
   "metadata": {},
   "outputs": [],
   "source": [
    "def is_pure_text(segment):\n",
    "    for span in segment:\n",
    "        if len(segment[1])>0:\n",
    "            return False\n",
    "    return True"
   ]
  },
  {
   "cell_type": "code",
   "execution_count": 5,
   "metadata": {},
   "outputs": [],
   "source": [
    "class SpanDecorator:\n",
    "    # call\n",
    "    # css\n",
    "    pass"
   ]
  },
  {
   "cell_type": "code",
   "execution_count": 6,
   "metadata": {},
   "outputs": [],
   "source": [
    "class DirectPlainSpanVisualiser(SpanDecorator):\n",
    "    \n",
    "    default_conf_colour = \"red\"\n",
    "    \n",
    "    def __init__(self, colour_mapping=None, bg_mapping=None, fill_empty_spans=False):\n",
    "        self.bg_mapping = bg_mapping or self.default_bg_mapping\n",
    "        self.colour_mapping = colour_mapping\n",
    "        self.fill_empty_spans = fill_empty_spans\n",
    "        #self.colour_mapping = colour_mapping or default_color_mapping\n",
    "        pass\n",
    "    \n",
    "    def __call__(self, segment):\n",
    "        \n",
    "        output=''\n",
    "    \n",
    "        for span in segment:\n",
    "            # Simple text no span to fill\n",
    "            if not self.fill_empty_spans and self.is_pure_text(span):\n",
    "                output+=span[0]\n",
    "            else:\n",
    "                # There is a span to decorate\n",
    "                output += '<span style='\n",
    "                if self.colour_mapping is not None:\n",
    "                    output += 'color:' + self.color_mapping(span)\n",
    "                if self.bg_mapping is not None:\n",
    "                    output += 'background:'+ self.bg_mapping(span)\n",
    "                output += '>'\n",
    "\n",
    "                output += span[0]\n",
    "                output += '</span>'\n",
    "\n",
    "        return output\n",
    "\n",
    "    def default_bg_mapping(self, segment):\n",
    "        if len(segment[1]) > 1:\n",
    "            return self.default_conf_colour\n",
    "    \n",
    "        return \"yellow\"\n",
    "    \n",
    "    def is_pure_text(self,segment):\n",
    "        if len(segment[1])>0:\n",
    "            return False\n",
    "        return True"
   ]
  },
  {
   "cell_type": "code",
   "execution_count": 7,
   "metadata": {},
   "outputs": [],
   "source": [
    "def test_bg_mapping(segment):\n",
    "    if 'SADA' in segment[1][0].attr_1:\n",
    "        return \"green\"\n",
    "    else:\n",
    "        return \"yellow\""
   ]
  },
  {
   "cell_type": "code",
   "execution_count": 8,
   "metadata": {},
   "outputs": [],
   "source": [
    "from estnltk.tests import new_text"
   ]
  },
  {
   "cell_type": "code",
   "execution_count": 9,
   "metadata": {},
   "outputs": [
    {
     "data": {
      "text/plain": [
       "['SADA']"
      ]
     },
     "execution_count": 9,
     "metadata": {},
     "output_type": "execute_result"
    }
   ],
   "source": [
    "new_text(5).layer_1[0].attr_1"
   ]
  },
  {
   "cell_type": "code",
   "execution_count": 10,
   "metadata": {},
   "outputs": [],
   "source": [
    "def bg_mapper_discrete(segment, attribute, value_mapping, default_color, conflict_color):\n",
    "    \n",
    "    if segment[1].length() > 1:\n",
    "        return conflict_color\n",
    "    \n",
    "    return value_mapping.get(segment[1][0].get_attr(attribute), default_color)    "
   ]
  },
  {
   "cell_type": "code",
   "execution_count": 11,
   "metadata": {
    "scrolled": true
   },
   "outputs": [
    {
     "name": "stdout",
     "output_type": "stream",
     "text": [
      "<span style=background:green>Sada</span> <span style=background:yellow>kaks</span><span style=background:yellow>kümme</span><span style=background:yellow>nd</span> <span style=background:yellow>kolm</span>.<span style=background:yellow> Neli</span> <span style=background:yellow>tuhat</span> <span style=background:yellow>viis</span><span style=background:green>sada</span> <span style=background:yellow>kuus</span><span style=background:yellow>kümme</span><span style=background:yellow>nd</span> <span style=background:yellow>seitse</span> <span style=background:yellow>koma</span> <span style=background:yellow>kaheksa</span>. <span style=background:yellow>Üheksa</span><span style=background:yellow>kümme</span><span style=background:yellow>nd</span>\n"
     ]
    },
    {
     "data": {
      "text/html": [
       "<span style=background:green>Sada</span> <span style=background:yellow>kaks</span><span style=background:yellow>kümme</span><span style=background:yellow>nd</span> <span style=background:yellow>kolm</span>.<span style=background:yellow> Neli</span> <span style=background:yellow>tuhat</span> <span style=background:yellow>viis</span><span style=background:green>sada</span> <span style=background:yellow>kuus</span><span style=background:yellow>kümme</span><span style=background:yellow>nd</span> <span style=background:yellow>seitse</span> <span style=background:yellow>koma</span> <span style=background:yellow>kaheksa</span>. <span style=background:yellow>Üheksa</span><span style=background:yellow>kümme</span><span style=background:yellow>nd</span>"
      ]
     },
     "metadata": {},
     "output_type": "display_data"
    }
   ],
   "source": [
    "#from estnltk.FancySpanVisualisation import DisplayAttributes as Display\n",
    "from IPython.display import display_html\n",
    "\n",
    "segments = decompose_to_elementary_spans(new_text(5).layer_1,new_text(5).text)\n",
    "\n",
    "#span_decorator = DirectPlainSpanVisualiser(bg_mapping=lambda segment: bg_mapper_discrete(segment, concrete value))\n",
    "span_decorator = DirectPlainSpanVisualiser(bg_mapping=test_bg_mapping)\n",
    "\n",
    "t = span_decorator(segments)\n",
    "\n",
    "print(t)\n",
    "#display = Display(decorator=span_decorator)\n",
    "\n",
    "display_html(t, raw=True)"
   ]
  },
  {
   "cell_type": "code",
   "execution_count": 12,
   "metadata": {},
   "outputs": [
    {
     "data": {
      "text/plain": [
       "[['Sada', [AS[Annotation(Sada, {'attr': 'L1-0', 'attr_1': 'SADA'})]]],\n",
       " [' ', []],\n",
       " ['kaks',\n",
       "  [AS[Annotation(kaks, {'attr': 'L1-1', 'attr_1': 'KAKS'})],\n",
       "   AS[Annotation(kakskümmend, {'attr': 'L1-2', 'attr_1': 'KAKS'}), Annotation(kakskümmend, {'attr': 'L1-2', 'attr_1': 'KÜMME'}), Annotation(kakskümmend, {'attr': 'L1-2', 'attr_1': 'KAKSKÜMMEND'})]]],\n",
       " ['kümme',\n",
       "  [AS[Annotation(kakskümmend, {'attr': 'L1-2', 'attr_1': 'KAKS'}), Annotation(kakskümmend, {'attr': 'L1-2', 'attr_1': 'KÜMME'}), Annotation(kakskümmend, {'attr': 'L1-2', 'attr_1': 'KAKSKÜMMEND'})],\n",
       "   AS[Annotation(kümme, {'attr': 'L1-3', 'attr_1': 'KÜMME'})]]],\n",
       " ['nd',\n",
       "  [AS[Annotation(kakskümmend, {'attr': 'L1-2', 'attr_1': 'KAKS'}), Annotation(kakskümmend, {'attr': 'L1-2', 'attr_1': 'KÜMME'}), Annotation(kakskümmend, {'attr': 'L1-2', 'attr_1': 'KAKSKÜMMEND'})]]],\n",
       " [' ', []],\n",
       " ['kolm', [AS[Annotation(kolm, {'attr': 'L1-4', 'attr_1': 'KOLM'})]]],\n",
       " ['.', []],\n",
       " [' Neli', [AS[Annotation( Neli, {'attr': 'L1-5', 'attr_1': 'NELI'})]]],\n",
       " [' ', []],\n",
       " ['tuhat', [AS[Annotation(tuhat, {'attr': 'L1-6', 'attr_1': 'TUHAT'})]]],\n",
       " [' ', []],\n",
       " ['viis',\n",
       "  [AS[Annotation(viis, {'attr': 'L1-7', 'attr_1': 'VIIS'})],\n",
       "   AS[Annotation(viissada, {'attr': 'L1-8', 'attr_1': 'SADA'}), Annotation(viissada, {'attr': 'L1-8', 'attr_1': 'VIIS'}), Annotation(viissada, {'attr': 'L1-8', 'attr_1': 'VIISSADA'})]]],\n",
       " ['sada',\n",
       "  [AS[Annotation(viissada, {'attr': 'L1-8', 'attr_1': 'SADA'}), Annotation(viissada, {'attr': 'L1-8', 'attr_1': 'VIIS'}), Annotation(viissada, {'attr': 'L1-8', 'attr_1': 'VIISSADA'})],\n",
       "   AS[Annotation(sada, {'attr': 'L1-9', 'attr_1': 'SADA'})]]],\n",
       " [' ', []],\n",
       " ['kuus',\n",
       "  [AS[Annotation(kuus, {'attr': 'L1-10', 'attr_1': 'KUUS'})],\n",
       "   AS[Annotation(kuuskümmend, {'attr': 'L1-11', 'attr_1': 'KUUS'}), Annotation(kuuskümmend, {'attr': 'L1-11', 'attr_1': 'KÜMME'}), Annotation(kuuskümmend, {'attr': 'L1-11', 'attr_1': 'KUUSKÜMMEND'})]]],\n",
       " ['kümme',\n",
       "  [AS[Annotation(kuuskümmend, {'attr': 'L1-11', 'attr_1': 'KUUS'}), Annotation(kuuskümmend, {'attr': 'L1-11', 'attr_1': 'KÜMME'}), Annotation(kuuskümmend, {'attr': 'L1-11', 'attr_1': 'KUUSKÜMMEND'})],\n",
       "   AS[Annotation(kümme, {'attr': 'L1-12', 'attr_1': 'KÜMME'})]]],\n",
       " ['nd',\n",
       "  [AS[Annotation(kuuskümmend, {'attr': 'L1-11', 'attr_1': 'KUUS'}), Annotation(kuuskümmend, {'attr': 'L1-11', 'attr_1': 'KÜMME'}), Annotation(kuuskümmend, {'attr': 'L1-11', 'attr_1': 'KUUSKÜMMEND'})]]],\n",
       " [' ', []],\n",
       " ['seitse', [AS[Annotation(seitse, {'attr': 'L1-13', 'attr_1': 'SEITSE'})]]],\n",
       " [' ', []],\n",
       " ['koma', [AS[Annotation(koma, {'attr': 'L1-14', 'attr_1': 'KOMA'})]]],\n",
       " [' ', []],\n",
       " ['kaheksa',\n",
       "  [AS[Annotation(kaheksa, {'attr': 'L1-15', 'attr_1': 'KAHEKSA'})]]],\n",
       " ['. ', []],\n",
       " ['Üheksa',\n",
       "  [AS[Annotation(Üheksa, {'attr': 'L1-16', 'attr_1': 'ÜHEKSA'})],\n",
       "   AS[Annotation(Üheksakümmend, {'attr': 'L1-17', 'attr_1': 'ÜHEKSA'}), Annotation(Üheksakümmend, {'attr': 'L1-17', 'attr_1': 'KÜMME'}), Annotation(Üheksakümmend, {'attr': 'L1-17', 'attr_1': 'ÜHEKSAKÜMMEND'})]]],\n",
       " ['kümme',\n",
       "  [AS[Annotation(Üheksakümmend, {'attr': 'L1-17', 'attr_1': 'ÜHEKSA'}), Annotation(Üheksakümmend, {'attr': 'L1-17', 'attr_1': 'KÜMME'}), Annotation(Üheksakümmend, {'attr': 'L1-17', 'attr_1': 'ÜHEKSAKÜMMEND'})],\n",
       "   AS[Annotation(kümme, {'attr': 'L1-18', 'attr_1': 'KÜMME'})]]],\n",
       " ['nd',\n",
       "  [AS[Annotation(Üheksakümmend, {'attr': 'L1-17', 'attr_1': 'ÜHEKSA'}), Annotation(Üheksakümmend, {'attr': 'L1-17', 'attr_1': 'KÜMME'}), Annotation(Üheksakümmend, {'attr': 'L1-17', 'attr_1': 'ÜHEKSAKÜMMEND'})]]]]"
      ]
     },
     "execution_count": 12,
     "metadata": {},
     "output_type": "execute_result"
    }
   ],
   "source": [
    "elementary_spans = decompose_to_elementary_spans(new_text(5).layer_1,new_text(5).text)\n",
    "elementary_spans"
   ]
  },
  {
   "cell_type": "code",
   "execution_count": 13,
   "metadata": {},
   "outputs": [],
   "source": [
    "from estnltk import Text"
   ]
  },
  {
   "cell_type": "code",
   "execution_count": 14,
   "metadata": {},
   "outputs": [],
   "source": [
    "def test_morph_bg_mapping(segment):\n",
    "    if 'V' in segment[1][0].partofspeech:\n",
    "        return \"green\"\n",
    "    else:\n",
    "        return \"yellow\""
   ]
  },
  {
   "cell_type": "code",
   "execution_count": 15,
   "metadata": {
    "scrolled": true
   },
   "outputs": [
    {
     "data": {
      "text/html": [
       "<span style=background:yellow>Nagu</span> <span style=background:yellow>Kataloonias</span> <span style=background:yellow>ikka</span><span style=background:yellow>,</span> <span style=background:green>saab</span> <span style=background:yellow>otsustavaks</span> <span style=background:yellow>reedene</span> <span style=background:yellow>päev</span><span style=background:yellow>,</span> <span style=background:yellow>mil</span> <span style=background:green>kihutatakse</span> <span style=background:yellow>kruusal</span><span style=background:yellow>.</span>\n",
       "\n",
       "<span style=background:yellow>Hispaania</span> <span style=background:yellow>väga</span> <span style=background:yellow>siledal</span> <span style=background:yellow>ja</span> <span style=background:yellow>kiirel</span> <span style=background:yellow>asfaldil</span> <span style=background:green>on</span> <span style=background:yellow>esimesel</span> <span style=background:yellow>päeval</span> <span style=background:green>saadud</span> <span style=background:yellow>kaotust</span> <span style=background:yellow>üsna</span> <span style=background:yellow>keeruline</span> <span style=background:yellow>tagasi</span> <span style=background:green>sõita</span><span style=background:yellow>.</span> \n",
       "\n",
       "<span style=background:yellow>„</span><span style=background:yellow>Poole</span> <span style=background:yellow>minutiga</span> <span style=background:yellow>allajäämine</span> <span style=background:yellow>reede</span> <span style=background:yellow>õhtuks</span> <span style=background:green>on</span> <span style=background:yellow>palju</span><span style=background:yellow>,”</span> <span style=background:green>selgitas</span> <span style=background:yellow>Tänak</span><span style=background:yellow>.</span> <span style=background:yellow>„</span><span style=background:yellow>Pluss-miinus</span> <span style=background:yellow>kümme</span> <span style=background:yellow>sekundit</span> <span style=background:green>on</span> <span style=background:yellow>okei</span><span style=background:yellow>.”</span>"
      ]
     },
     "metadata": {},
     "output_type": "display_data"
    }
   ],
   "source": [
    "tekst = Text('''Nagu Kataloonias ikka, saab otsustavaks reedene päev, mil kihutatakse kruusal.\\n\n",
    "Hispaania väga siledal ja kiirel asfaldil on esimesel päeval saadud kaotust üsna keeruline tagasi sõita. \\n\n",
    "„Poole minutiga allajäämine reede õhtuks on palju,” selgitas Tänak. „Pluss-miinus kümme sekundit on okei.”''')\n",
    "tekst.tag_layer(['morph_analysis'])\n",
    "tekst.morph_analysis[0].partofspeech\n",
    "\n",
    "segments = decompose_to_elementary_spans(tekst.morph_analysis,tekst.text)\n",
    "\n",
    "#span_decorator = DirectPlainSpanVisualiser(bg_mapping=lambda segment: bg_mapper_discrete(segment, concrete value))\n",
    "span_decorator = DirectPlainSpanVisualiser(bg_mapping=test_morph_bg_mapping)\n",
    "\n",
    "t = span_decorator(segments)\n",
    "\n",
    "#display = Display(decorator=span_decorator)\n",
    "\n",
    "display_html(t, raw=True)"
   ]
  }
 ],
 "metadata": {
  "kernelspec": {
   "display_name": "Python 3",
   "language": "python",
   "name": "python3"
  },
  "language_info": {
   "codemirror_mode": {
    "name": "ipython",
    "version": 3
   },
   "file_extension": ".py",
   "mimetype": "text/x-python",
   "name": "python",
   "nbconvert_exporter": "python",
   "pygments_lexer": "ipython3",
   "version": "3.5.5"
  }
 },
 "nbformat": 4,
 "nbformat_minor": 2
}
