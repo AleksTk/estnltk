{
 "cells": [
  {
   "cell_type": "code",
   "execution_count": 1,
   "metadata": {},
   "outputs": [],
   "source": [
    "%load_ext autoreload\n",
    "%autoreload 2"
   ]
  },
  {
   "cell_type": "code",
   "execution_count": 2,
   "metadata": {},
   "outputs": [],
   "source": [
    "def decorate(html_spans):\n",
    "    spans = []\n",
    "    \n",
    "    for i in range(len(html_spans)):\n",
    "        coordinates = []\n",
    "        coordinates.append(html_spans[i][0])\n",
    "        coordinates.append(html_spans[i][1])\n",
    "        spans.append(coordinates)\n",
    "        \n",
    "    #contents_without_attributes = fun_output[1]\n",
    "    #spans_in_html_spans = fun_output[2]\n",
    "    #texts = fun_output[3]\n",
    "    #attributes = getattr(text,layer).attributes\n",
    "    #contents = []\n",
    "    \n",
    "    #for content in contents_without_attributes:\n",
    "    #    new_content=[]\n",
    "    #    for i in range(len(content)):\n",
    "    #        new_content.append(attributes[i%len(attributes)])\n",
    "    #        new_content.append(content[i])\n",
    "    #    contents.append(new_content)\n",
    "    \n",
    "    #tabledata=[]\n",
    "    \n",
    "    #for content in contents_without_attributes:\n",
    "    #    for i in range(len(attributes)):\n",
    "    #        tabledata.append(attributes[i])\n",
    "    #        tabledata.append(content[i])\n",
    "    \n",
    "    texts = []\n",
    "    \n",
    "    for span in html_spans:\n",
    "        content=[]\n",
    "        span_info = span[2]\n",
    "        for i in range(len(span_info)):\n",
    "            content.append(span_info[i].text)\n",
    "        texts.append(content)\n",
    "    \n",
    "    fragments = []\n",
    "    last_end = 0\n",
    "    print(texts)\n",
    "    style='background-color:blue;'\n",
    "    \n",
    "    for i, (s, e) in enumerate(spans):\n",
    "        fragments.append(text[last_end:s])\n",
    "        fragments.append('<span class=\"span')\n",
    "        if len(html_spans[i][2])>1:\n",
    "            fragments.append(\" overlapping-span\")\n",
    "        fragments.append('\"; onclick=\"visualise{0}(')\n",
    "        fragments.append(str(html_spans[i][1]).replace('\"','').replace('{','{{').replace('}','}}'))\n",
    "        fragments.append(',')\n",
    "        fragments.append(str(i))\n",
    "        fragments.append(',')\n",
    "        fragments.append(\"[\"+str(html_spans[i][0])+\",\"+str(html_spans[i][1])+\"]\")\n",
    "        fragments.append(\", this,\")\n",
    "        fragments.append(str(texts[i]))\n",
    "        fragments.append(')\"; indexes=\"')\n",
    "        fragments.append(\"[\"+str(html_spans[i][0])+\",\"+str(html_spans[i][1])+\"]\")\n",
    "        fragments.append('\"; span_exists = \"\";')\n",
    "        fragments.append('style = \"')\n",
    "        fragments.append(style)\n",
    "        fragments.append('\">')\n",
    "        fragments.append(text[s:e])\n",
    "        fragments.append('</span>')\n",
    "        last_end = e\n",
    "    fragments.append(text[last_end:])\n",
    "    return ''.join(fragments)"
   ]
  },
  {
   "cell_type": "code",
   "execution_count": 3,
   "metadata": {},
   "outputs": [],
   "source": [
    "def is_pure_text(segment):\n",
    "    for span in segment:\n",
    "        if len(segment[1])>0:\n",
    "            return False\n",
    "    return True"
   ]
  },
  {
   "cell_type": "code",
   "execution_count": 4,
   "metadata": {},
   "outputs": [],
   "source": [
    "def test_bg_mapping(segment):\n",
    "    if 'KÜMME' in segment[1][0].attr_1:\n",
    "        return \"green\"\n",
    "    else:\n",
    "        return \"yellow\""
   ]
  },
  {
   "cell_type": "code",
   "execution_count": 5,
   "metadata": {},
   "outputs": [],
   "source": [
    "def test_class_mapping(segment):\n",
    "    return \"some_class\""
   ]
  },
  {
   "cell_type": "code",
   "execution_count": 6,
   "metadata": {},
   "outputs": [],
   "source": [
    "from estnltk.tests import new_text"
   ]
  },
  {
   "cell_type": "code",
   "execution_count": 7,
   "metadata": {},
   "outputs": [],
   "source": [
    "def bg_mapper_discrete(segment, attribute, value_mapping, default_color, conflict_color):\n",
    "    \n",
    "    if segment[1].length() > 1:\n",
    "        return conflict_color\n",
    "    \n",
    "    return value_mapping.get(segment[1][0].get_attr(attribute), default_color)    "
   ]
  },
  {
   "cell_type": "code",
   "execution_count": 8,
   "metadata": {},
   "outputs": [],
   "source": [
    "def test_color_mapping(segment):\n",
    "    return \"blue\""
   ]
  },
  {
   "cell_type": "code",
   "execution_count": 9,
   "metadata": {},
   "outputs": [],
   "source": [
    "def test_morph_bg_mapping(segment):\n",
    "    if 'V' in segment[1][0].partofspeech:\n",
    "        return \"green\"\n",
    "    else:\n",
    "        return \"yellow\""
   ]
  },
  {
   "cell_type": "code",
   "execution_count": 10,
   "metadata": {},
   "outputs": [],
   "source": [
    "from estnltk.visualisation.fancy_span_visualisation import DisplaySpans\n",
    "\n",
    "display = DisplaySpans(styling=\"indirect\")"
   ]
  },
  {
   "cell_type": "code",
   "execution_count": 11,
   "metadata": {},
   "outputs": [],
   "source": [
    "display.span_decorator.update_css(\"prettyprinter.css\")"
   ]
  },
  {
   "cell_type": "code",
   "execution_count": 12,
   "metadata": {},
   "outputs": [],
   "source": [
    "def class_mapper(segment):\n",
    "    if len(segment[1]) > 1:\n",
    "        return \"overlapping-span\"\n",
    "    return \"span\""
   ]
  },
  {
   "cell_type": "code",
   "execution_count": 13,
   "metadata": {},
   "outputs": [],
   "source": [
    "display.span_decorator.class_mapping=class_mapper"
   ]
  },
  {
   "cell_type": "code",
   "execution_count": 14,
   "metadata": {
    "scrolled": true
   },
   "outputs": [
    {
     "name": "stdout",
     "output_type": "stream",
     "text": [
      "['<style>\\n.span {\\n    background-color: yellow;\\n}\\n\\n.overlapping-span {\\n    background-color: red;\\n}\\n\\n.spanline {{\\n    background-color: blue;\\n    position: relative;\\n    height: 3px;\\n    margin-left: 0px;\\n}}\\n\\n.tables {{\\n    position: absolute;\\n    width: fit-content;\\n    width: -moz-fit-content;\\n    border: 1px solid black;\\n}}\\n\\n.maintext{0} {{\\n    position: relative;\\n}}\\n\\n.tables tbody tr:nth-child(even) {{\\n    background-color: lightgray;\\n}}\\n\\n.tables tbody tr:nth-child(odd) {{\\n    background-color: beige;\\n}}\\n\\n.tables tbody tr:hover {{\\n    background-color: ivory;\\n}}\\n</style><span class=span >Sada</span>', ' ', '<span class=overlapping-span >kaks</span>', '<span class=overlapping-span >kümme</span>', '<span class=span >nd</span>', ' ', '<span class=span >kolm</span>', '.', '<span class=span > Neli</span>', ' ', '<span class=span >tuhat</span>', ' ', '<span class=overlapping-span >viis</span>', '<span class=overlapping-span >sada</span>', ' ', '<span class=overlapping-span >kuus</span>', '<span class=overlapping-span >kümme</span>', '<span class=span >nd</span>', ' ', '<span class=span >seitse</span>', ' ', '<span class=span >koma</span>', ' ', '<span class=span >kaheksa</span>', '. ', '<span class=overlapping-span >Üheksa</span>', '<span class=overlapping-span >kümme</span>', '<span class=span >nd</span>', ' tuhat.']\n"
     ]
    },
    {
     "data": {
      "text/html": [
       "<style>\n",
       ".span {\n",
       "    background-color: yellow;\n",
       "}\n",
       "\n",
       ".overlapping-span {\n",
       "    background-color: red;\n",
       "}\n",
       "\n",
       ".spanline {{\n",
       "    background-color: blue;\n",
       "    position: relative;\n",
       "    height: 3px;\n",
       "    margin-left: 0px;\n",
       "}}\n",
       "\n",
       ".tables {{\n",
       "    position: absolute;\n",
       "    width: fit-content;\n",
       "    width: -moz-fit-content;\n",
       "    border: 1px solid black;\n",
       "}}\n",
       "\n",
       ".maintext{0} {{\n",
       "    position: relative;\n",
       "}}\n",
       "\n",
       ".tables tbody tr:nth-child(even) {{\n",
       "    background-color: lightgray;\n",
       "}}\n",
       "\n",
       ".tables tbody tr:nth-child(odd) {{\n",
       "    background-color: beige;\n",
       "}}\n",
       "\n",
       ".tables tbody tr:hover {{\n",
       "    background-color: ivory;\n",
       "}}\n",
       "</style><span class=span >Sada</span> <span class=overlapping-span >kaks</span><span class=overlapping-span >kümme</span><span class=span >nd</span> <span class=span >kolm</span>.<span class=span > Neli</span> <span class=span >tuhat</span> <span class=overlapping-span >viis</span><span class=overlapping-span >sada</span> <span class=overlapping-span >kuus</span><span class=overlapping-span >kümme</span><span class=span >nd</span> <span class=span >seitse</span> <span class=span >koma</span> <span class=span >kaheksa</span>. <span class=overlapping-span >Üheksa</span><span class=overlapping-span >kümme</span><span class=span >nd</span> tuhat."
      ]
     },
     "metadata": {},
     "output_type": "display_data"
    }
   ],
   "source": [
    "display(new_text(5).layer_1)"
   ]
  },
  {
   "cell_type": "code",
   "execution_count": 15,
   "metadata": {},
   "outputs": [],
   "source": [
    "display = DisplaySpans(styling=\"direct\")"
   ]
  },
  {
   "cell_type": "code",
   "execution_count": 16,
   "metadata": {},
   "outputs": [],
   "source": [
    "display.span_decorator.bg_mapping=test_bg_mapping"
   ]
  },
  {
   "cell_type": "code",
   "execution_count": 17,
   "metadata": {},
   "outputs": [],
   "source": [
    "display.span_decorator.colour_mapping=test_color_mapping"
   ]
  },
  {
   "cell_type": "code",
   "execution_count": 18,
   "metadata": {},
   "outputs": [
    {
     "name": "stdout",
     "output_type": "stream",
     "text": [
      "['<span style=color:blue;background:yellow;>Sada</span>', ' ', '<span style=color:blue;background:yellow;>kaks</span>', '<span style=color:blue;background:green;>kümme</span>', '<span style=color:blue;background:green;>nd</span>', ' ', '<span style=color:blue;background:yellow;>kolm</span>', '.', '<span style=color:blue;background:yellow;> Neli</span>', ' ', '<span style=color:blue;background:yellow;>tuhat</span>', ' ', '<span style=color:blue;background:yellow;>viis</span>', '<span style=color:blue;background:yellow;>sada</span>', ' ', '<span style=color:blue;background:yellow;>kuus</span>', '<span style=color:blue;background:green;>kümme</span>', '<span style=color:blue;background:green;>nd</span>', ' ', '<span style=color:blue;background:yellow;>seitse</span>', ' ', '<span style=color:blue;background:yellow;>koma</span>', ' ', '<span style=color:blue;background:yellow;>kaheksa</span>', '. ', '<span style=color:blue;background:yellow;>Üheksa</span>', '<span style=color:blue;background:green;>kümme</span>', '<span style=color:blue;background:green;>nd</span>', ' tuhat.']\n"
     ]
    },
    {
     "data": {
      "text/html": [
       "<span style=color:blue;background:yellow;>Sada</span> <span style=color:blue;background:yellow;>kaks</span><span style=color:blue;background:green;>kümme</span><span style=color:blue;background:green;>nd</span> <span style=color:blue;background:yellow;>kolm</span>.<span style=color:blue;background:yellow;> Neli</span> <span style=color:blue;background:yellow;>tuhat</span> <span style=color:blue;background:yellow;>viis</span><span style=color:blue;background:yellow;>sada</span> <span style=color:blue;background:yellow;>kuus</span><span style=color:blue;background:green;>kümme</span><span style=color:blue;background:green;>nd</span> <span style=color:blue;background:yellow;>seitse</span> <span style=color:blue;background:yellow;>koma</span> <span style=color:blue;background:yellow;>kaheksa</span>. <span style=color:blue;background:yellow;>Üheksa</span><span style=color:blue;background:green;>kümme</span><span style=color:blue;background:green;>nd</span> tuhat."
      ]
     },
     "metadata": {},
     "output_type": "display_data"
    }
   ],
   "source": [
    "display(new_text(5).layer_1)"
   ]
  }
 ],
 "metadata": {
  "kernelspec": {
   "display_name": "Python 3",
   "language": "python",
   "name": "python3"
  },
  "language_info": {
   "codemirror_mode": {
    "name": "ipython",
    "version": 3
   },
   "file_extension": ".py",
   "mimetype": "text/x-python",
   "name": "python",
   "nbconvert_exporter": "python",
   "pygments_lexer": "ipython3",
   "version": "3.5.5"
  }
 },
 "nbformat": 4,
 "nbformat_minor": 2
}
