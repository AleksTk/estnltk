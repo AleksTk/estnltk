{
 "cells": [
  {
   "cell_type": "code",
   "execution_count": 1,
   "metadata": {},
   "outputs": [],
   "source": [
    "from estnltk.wordnet import wn\n",
    "import sqlite3\n",
    "from lxml import etree"
   ]
  },
  {
   "cell_type": "code",
   "execution_count": 2,
   "metadata": {},
   "outputs": [],
   "source": [
    "tree = etree.parse(\"estwn-et-2.0.0.beta.xml\")"
   ]
  },
  {
   "cell_type": "code",
   "execution_count": 3,
   "metadata": {},
   "outputs": [],
   "source": [
    "sset_db = 'wordnet/data/xml_synsets.db'\n",
    "relation_db = 'wordnet/data/xml_relations.db'\n",
    "xml_entries = 'wordnet/data/xml_entries.db'"
   ]
  },
  {
   "cell_type": "code",
   "execution_count": 4,
   "metadata": {},
   "outputs": [],
   "source": [
    "end_vrtx = []\n",
    "start_vrtx = []\n",
    "start_sset = []\n",
    "end_sset = []\n",
    "rel_type = []"
   ]
  },
  {
   "cell_type": "code",
   "execution_count": 3,
   "metadata": {},
   "outputs": [],
   "source": [
    "def create_connection(db_file):\n",
    "    \"\"\" create a database connection to the SQLite database\n",
    "        specified by db_file\n",
    "    :param db_file: database file\n",
    "    :return: Connection object or None\n",
    "    \"\"\"\n",
    "    try:\n",
    "        conn = sqlite3.connect(db_file)\n",
    "        return conn\n",
    "    except sqlite3.Error as e:\n",
    "        print(\"Connection error: [%s]\" % e)\n",
    "\n",
    "    return None\n",
    "\n",
    "def create_table(conn, create_table_sql ):\n",
    "    \"\"\" create a table from the create_table_sql statement\n",
    "    :param conn: Connection object\n",
    "    :param create_table_sql: a CREATE TABLE statement\n",
    "    :return:\n",
    "    \"\"\"\n",
    "    try:\n",
    "        c = conn.cursor()\n",
    "        c.execute(create_table_sql)\n",
    "    except sqlite3.Error as e:\n",
    "        print(\"Connection error while creating table: [%s]\" % e)\n",
    "\n",
    "def sqlTables(databaseLoc):\n",
    "\n",
    "    sql_create_synset_table = ''' CREATE TABLE IF NOT EXISTS rel_table(\n",
    "\n",
    "                                        start_estwn TEXT NOT NULL,\n",
    "                                        end_estwn TEXT NOT NULL,\n",
    "                                        relation TEXT NOT NULL\n",
    "                                                    ); '''\n",
    "    conn = create_connection(databaseLoc)\n",
    "    if conn is not None:\n",
    "        create_table(conn,sql_create_synset_table)\n",
    "    else:\n",
    "        print(\"Error! cannot create db conn.\")"
   ]
  },
  {
   "cell_type": "code",
   "execution_count": null,
   "metadata": {},
   "outputs": [],
   "source": [
    "def synset_str(synset_word, cursor):\n",
    "    cursor.execute('SELECT pos, sense FROM xml_synsets WHERE sourceSense = ?',(synset_word,))\n",
    "    data = cursor.fetchone()\n",
    "    if data is not None:\n",
    "        var = \".\" + data[0] + \".\" + str(data[1])\n",
    "        synset_word += var\n",
    "    else: return None\n",
    "    \n",
    "    return synset_word\n",
    "    "
   ]
  },
  {
   "cell_type": "code",
   "execution_count": 6,
   "metadata": {},
   "outputs": [],
   "source": [
    "def fetch_sset_word(estwnId, entryCursor):\n",
    "    '''\n",
    "    \n",
    "    '''\n",
    "    print(\"estwnId in fetch word: \", estwnId)\n",
    "    ssetList = []\n",
    "    entryCursor.execute(\"SELECT DISTINCT writtenForm FROM xml_lexicalEntry WHERE estwn_id = ?\",(estwnId,))\n",
    "    writtenForm = entryCursor.fetchone()\n",
    "    print(writtenForm)\n",
    "\n",
    "    return writtenForm[0]"
   ]
  },
  {
   "cell_type": "code",
   "execution_count": 7,
   "metadata": {},
   "outputs": [],
   "source": [
    "def fetch_id(sset_word,cursor):\n",
    "    \n",
    "    print(\"sset_word: \", sset_word)\n",
    "    cursor.execute('SELECT id FROM xml_synsets WHERE writtenForm = ?',(sset_word,))\n",
    "    ssetId = cursor.fetchone()\n",
    "    print(\"return id:\",ssetId[0])\n",
    "    \n",
    "    return ssetId[0]"
   ]
  },
  {
   "cell_type": "code",
   "execution_count": 2,
   "metadata": {},
   "outputs": [],
   "source": [
    "def get_synsets(start_estwn, end_estwn, end_sset, rel_type):\n",
    "\n",
    "    synsetList  = tree.xpath('/LexicalResource/Lexicon/Synset')\n",
    "    i=0\n",
    "    for sset in synsetList: \n",
    "        end = sset.attrib['id']        \n",
    "        if len(sset) > 1:\n",
    "            j=0\n",
    "            for subset in sset:\n",
    "                try:\n",
    "                    start_estwn.append(subset.attrib['target'])\n",
    "                    rel_type.append(subset.attrib['relType'])\n",
    "                    end_estwn.append(end)\n",
    "                except:\n",
    "                    #print(\"except @ {}.{}\" .format(i,j))\n",
    "                    if j > 0:\n",
    "                        try:\n",
    "                        \n",
    "                            end_estwn.append(end)\n",
    "                            start_estwn.append('null')\n",
    "                            rel_type.append('null')\n",
    "                            #print(\"pass {}.{}\".format(i,j))\n",
    "                        except: pass  \n",
    "                j+=1\n",
    "                \n",
    "        if len(sset) == 1:\n",
    "            end_estwn.append(end)\n",
    "            end_sset.append(ssetWord)\n",
    "            try:\n",
    "                start_estwn.append( sset[0].attrib['target'] )\n",
    "                rel_type.append( sset[0].attrib['relType'] )            \n",
    "            except:\n",
    "                #print(\"else pass @ \", i)\n",
    "                start_estwn.append(\"null\")\n",
    "                rel_type.append(\"null\")\n",
    "                pass\n",
    "        i+=1"
   ]
  },
  {
   "cell_type": "code",
   "execution_count": 69,
   "metadata": {},
   "outputs": [],
   "source": [
    "def upload_relations(db_file):\n",
    "    \n",
    "    sqlTables(db_file)\n",
    "    conn = create_connection(db_file)\n",
    "    cursor = conn.cursor()\n",
    "    \n",
    "    with conn:\n",
    "        for i in range(len(end_estwn)):\n",
    "            \n",
    "            if i >= len(start_estwn):\n",
    "                    start = 'null'\n",
    "                    rel = 'null'\n",
    "            else:\n",
    "                start = start_estwn[i]\n",
    "                rel = rel_type[i]\n",
    "            cursor.execute(\"INSERT INTO rel_table(start_estwn, end_estwn, sourceSense, relation) VALUES(?,?,?,?)\"\\\n",
    "                                                            ,(start, end_estwn[i], end_sset[i], rel))\n",
    "            conn.commit()"
   ]
  },
  {
   "cell_type": "code",
   "execution_count": null,
   "metadata": {},
   "outputs": [],
   "source": [
    "start_estwn = []\n",
    "end_sset    = []\n",
    "end_estwn   = []\n",
    "rel_type    = []\n",
    "get_synsets(start_estwn, end_estwn, end_sset, rel_type)"
   ]
  },
  {
   "cell_type": "code",
   "execution_count": 95,
   "metadata": {},
   "outputs": [],
   "source": [
    "upload_relations(relation_db)"
   ]
  }
 ],
 "metadata": {
  "kernelspec": {
   "display_name": "Python 3",
   "language": "python",
   "name": "python3"
  },
  "language_info": {
   "codemirror_mode": {
    "name": "ipython",
    "version": 3
   },
   "file_extension": ".py",
   "mimetype": "text/x-python",
   "name": "python",
   "nbconvert_exporter": "python",
   "pygments_lexer": "ipython3",
   "version": "3.5.5"
  }
 },
 "nbformat": 4,
 "nbformat_minor": 2
}
