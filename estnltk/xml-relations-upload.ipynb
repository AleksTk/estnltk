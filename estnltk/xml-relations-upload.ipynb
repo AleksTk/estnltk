{
 "cells": [
  {
   "cell_type": "code",
   "execution_count": 45,
   "metadata": {},
   "outputs": [],
   "source": [
    "from lxml import etree\n",
    "import sqlite3"
   ]
  },
  {
   "cell_type": "code",
   "execution_count": 46,
   "metadata": {},
   "outputs": [],
   "source": [
    "xml_db = 'wordnet/data/xml_synsets.db'"
   ]
  },
  {
   "cell_type": "code",
   "execution_count": 47,
   "metadata": {},
   "outputs": [],
   "source": [
    "tree = etree.parse(\"estwn-et-2.0.0.beta.xml\")"
   ]
  },
  {
   "cell_type": "code",
   "execution_count": 48,
   "metadata": {},
   "outputs": [],
   "source": [
    "def create_connection(db_file):\n",
    "    \"\"\" create a database connection to the SQLite database\n",
    "        specified by db_file\n",
    "    :param db_file: database file\n",
    "    :return: Connection object or None\n",
    "    \"\"\"\n",
    "    try:\n",
    "        conn = sqlite3.connect(db_file)\n",
    "        return conn\n",
    "    except sqlite3.Error as e:\n",
    "        print(\"Connection error: [%s]\" % e)\n",
    "\n",
    "    return None\n",
    "\n",
    "def create_table(conn, create_table_sql ):\n",
    "    \"\"\" create a table from the create_table_sql statement\n",
    "    :param conn: Connection object\n",
    "    :param create_table_sql: a CREATE TABLE statement\n",
    "    :return:\n",
    "    \"\"\"\n",
    "    try:\n",
    "        c = conn.cursor()\n",
    "        c.execute(create_table_sql)\n",
    "    except sqlite3.Error as e:\n",
    "        print(\"Connection error while creating table: [%s]\" % e)\n",
    "\n",
    "def sqlTables(databaseLoc):\n",
    "\n",
    "    sql_create_synset_table = ''' CREATE TABLE IF NOT EXISTS synset_data(\n",
    "\n",
    "                                        id TEXT NOT NULL,\n",
    "                                        status TEXT NOT NULL,\n",
    "                                        confidence_score TEXT NOT NULL\n",
    "\n",
    "                                                    ); '''\n",
    "    conn = create_connection(databaseLoc)\n",
    "    if conn is not None:\n",
    "        create_table(conn,sql_create_synset_table)\n",
    "    else:\n",
    "        print(\"Error! cannot create db conn.\")"
   ]
  },
  {
   "cell_type": "code",
   "execution_count": 190,
   "metadata": {},
   "outputs": [],
   "source": [
    "\n",
    "def fetch_data(tree):\n",
    "    synsets = tree.xpath('/LexicalResource/Lexicon/Synset')\n",
    "    for sset in synsets:\n",
    "        id_list.append(sset.attrib['id'])\n",
    "        status_list.append(sset.attrib['status'])\n",
    "        conf_list.append(sset.attrib['confidenceScore'])\n",
    "        '''\n",
    "        for relations\n",
    "        \n",
    "        if len(sset) > 2:\n",
    "            for data in sset:\n",
    "                #print(data.attrib)\n",
    "                \n",
    "                status_list.append(data.attrib['target'])\n",
    "                conf_list.append((data.attrib['confidenceScore']))\n",
    "                source_sense.append(data[0].attrib['sourceSense'])           \n",
    "                '''"
   ]
  },
  {
   "cell_type": "code",
   "execution_count": 50,
   "metadata": {},
   "outputs": [],
   "source": [
    "def upload_data(db_file):\n",
    "    sqlTables(db_file)\n",
    "    conn = create_connection(db_file)\n",
    "    cursor = conn.cursor()\n",
    "    \n",
    "    with conn:\n",
    "        for i in range(len(id_list)):\n",
    "            sset_id = id_list[i]\n",
    "            status = status_list[i]\n",
    "            conf = conf_list[i]  \n",
    "            \n",
    "            cursor.execute(\"INSERT INTO synset_data(id, status, confidence_score) VALUES(?,?,?)\"\\\n",
    "                                                        ,(sset_id, status, conf))\n",
    "            conn.commit()"
   ]
  },
  {
   "cell_type": "code",
   "execution_count": 191,
   "metadata": {},
   "outputs": [
    {
     "ename": "KeyError",
     "evalue": "'status'",
     "output_type": "error",
     "traceback": [
      "\u001b[0;31m---------------------------------------------------------------------------\u001b[0m",
      "\u001b[0;31mKeyError\u001b[0m                                  Traceback (most recent call last)",
      "\u001b[0;32m<ipython-input-191-92d91ba8c64c>\u001b[0m in \u001b[0;36m<module>\u001b[0;34m()\u001b[0m\n\u001b[1;32m      4\u001b[0m \u001b[0mpos_list\u001b[0m \u001b[0;34m=\u001b[0m \u001b[0;34m[\u001b[0m\u001b[0;34m]\u001b[0m\u001b[0;34m\u001b[0m\u001b[0m\n\u001b[1;32m      5\u001b[0m \u001b[0;34m\u001b[0m\u001b[0m\n\u001b[0;32m----> 6\u001b[0;31m \u001b[0mfetch_data\u001b[0m\u001b[0;34m(\u001b[0m\u001b[0mtree\u001b[0m\u001b[0;34m)\u001b[0m\u001b[0;34m\u001b[0m\u001b[0m\n\u001b[0m",
      "\u001b[0;32m<ipython-input-190-eddb091071b4>\u001b[0m in \u001b[0;36mfetch_data\u001b[0;34m(tree)\u001b[0m\n\u001b[1;32m      7\u001b[0m             \u001b[0;32mfor\u001b[0m \u001b[0mi\u001b[0m \u001b[0;32min\u001b[0m \u001b[0mrange\u001b[0m\u001b[0;34m(\u001b[0m\u001b[0mlen\u001b[0m\u001b[0;34m(\u001b[0m\u001b[0msset\u001b[0m\u001b[0;34m)\u001b[0m\u001b[0;34m)\u001b[0m\u001b[0;34m:\u001b[0m\u001b[0;34m\u001b[0m\u001b[0m\n\u001b[1;32m      8\u001b[0m                 \u001b[0;31m#id_list.append(sset[i].attrib['synset'])\u001b[0m\u001b[0;34m\u001b[0m\u001b[0;34m\u001b[0m\u001b[0m\n\u001b[0;32m----> 9\u001b[0;31m                 \u001b[0mstatus_list\u001b[0m\u001b[0;34m.\u001b[0m\u001b[0mappend\u001b[0m\u001b[0;34m(\u001b[0m\u001b[0msset\u001b[0m\u001b[0;34m[\u001b[0m\u001b[0mi\u001b[0m\u001b[0;34m]\u001b[0m\u001b[0;34m.\u001b[0m\u001b[0mattrib\u001b[0m\u001b[0;34m[\u001b[0m\u001b[0;34m'status'\u001b[0m\u001b[0;34m]\u001b[0m\u001b[0;34m)\u001b[0m\u001b[0;34m\u001b[0m\u001b[0m\n\u001b[0m\u001b[1;32m     10\u001b[0m                 \u001b[0mliteral_list\u001b[0m\u001b[0;34m.\u001b[0m\u001b[0mappend\u001b[0m\u001b[0;34m(\u001b[0m\u001b[0msset\u001b[0m\u001b[0;34m[\u001b[0m\u001b[0mi\u001b[0m\u001b[0;34m]\u001b[0m\u001b[0;34m.\u001b[0m\u001b[0mattrib\u001b[0m\u001b[0;34m[\u001b[0m\u001b[0;34m'id'\u001b[0m\u001b[0;34m]\u001b[0m\u001b[0;34m)\u001b[0m\u001b[0;34m\u001b[0m\u001b[0m\n\u001b[1;32m     11\u001b[0m                 \u001b[0mpos_list\u001b[0m\u001b[0;34m.\u001b[0m\u001b[0mappend\u001b[0m\u001b[0;34m(\u001b[0m\u001b[0msset\u001b[0m\u001b[0;34m[\u001b[0m\u001b[0mi\u001b[0m\u001b[0;34m]\u001b[0m\u001b[0;34m.\u001b[0m\u001b[0mattrib\u001b[0m\u001b[0;34m[\u001b[0m\u001b[0;34m'partOfSpeech'\u001b[0m\u001b[0;34m]\u001b[0m\u001b[0;34m)\u001b[0m\u001b[0;34m\u001b[0m\u001b[0m\n",
      "\u001b[0;32msrc/lxml/etree.pyx\u001b[0m in \u001b[0;36mlxml.etree._Attrib.__getitem__\u001b[0;34m()\u001b[0m\n",
      "\u001b[0;31mKeyError\u001b[0m: 'status'"
     ]
    }
   ],
   "source": [
    "id_list = []\n",
    "status_list=[]\n",
    "conf_list=[]\n",
    "source_sense=[]\n",
    "\n",
    "fetch_data(tree)"
   ]
  },
  {
   "cell_type": "code",
   "execution_count": 188,
   "metadata": {},
   "outputs": [],
   "source": [
    "upload_data(xml_db)"
   ]
  },
  {
   "cell_type": "markdown",
   "metadata": {},
   "source": [
    "Get all lexical entries"
   ]
  },
  {
   "cell_type": "code",
   "execution_count": 51,
   "metadata": {},
   "outputs": [
    {
     "name": "stdout",
     "output_type": "stream",
     "text": [
      "113840\n"
     ]
    }
   ],
   "source": [
    "entries = tree.xpath('/LexicalResource/Lexicon/LexicalEntry')\n",
    "print(len(entries))"
   ]
  },
  {
   "cell_type": "code",
   "execution_count": 209,
   "metadata": {},
   "outputs": [
    {
     "name": "stdout",
     "output_type": "stream",
     "text": [
      "estwn-et-39243-n\n"
     ]
    }
   ],
   "source": [
    "entry = entries[4]\n",
    "print(entry[1].attrib['synset'])"
   ]
  },
  {
   "cell_type": "markdown",
   "metadata": {},
   "source": [
    "Each lexicon element is al lemma and pos pair and it can correspond to many synsets"
   ]
  },
  {
   "cell_type": "code",
   "execution_count": 59,
   "metadata": {},
   "outputs": [
    {
     "name": "stdout",
     "output_type": "stream",
     "text": [
      "Lemma\n",
      "röntgen\n",
      "n\n"
     ]
    },
    {
     "data": {
      "text/plain": [
       "'estwn-et-41417-n'"
      ]
     },
     "execution_count": 59,
     "metadata": {},
     "output_type": "execute_result"
    }
   ],
   "source": [
    "entry = entries[0]\n",
    "print(entry[0].tag)\n",
    "print(entry[0].attrib['writtenForm'])\n",
    "print(entry[0].attrib['partOfSpeech'])\n",
    "entry[1].attrib['synset']"
   ]
  },
  {
   "cell_type": "code",
   "execution_count": 53,
   "metadata": {},
   "outputs": [
    {
     "name": "stdout",
     "output_type": "stream",
     "text": [
      "7\n",
      "Sense\n",
      "kaotaja\n",
      "{'synset': 'estwn-et-13993-n', 'id': 's-kaotaja-n2', 'note': '===\\nSünonüümisõnastiku sünonüümirea number: 2817\\n', 'status': 'unchecked'}\n"
     ]
    }
   ],
   "source": [
    "subset = entries[104]\n",
    "print(len(subset))\n",
    "print(subset[2].tag)\n",
    "print(subset[0].attrib['writtenForm'])\n",
    "print(subset[6].attrib)"
   ]
  },
  {
   "cell_type": "markdown",
   "metadata": {},
   "source": [
    "Corresponding synset mapping is defined as sense element in the second, third,... components of an entry"
   ]
  },
  {
   "cell_type": "code",
   "execution_count": 66,
   "metadata": {},
   "outputs": [
    {
     "name": "stdout",
     "output_type": "stream",
     "text": [
      "Sense\n",
      "Long name =  s-röntgen-n1\n",
      "Status =  unchecked\n",
      "synset = estwn-et-41417-n\n"
     ]
    }
   ],
   "source": [
    "print(entry[1].tag)\n",
    "print('Long name = ', entry[1].attrib['id'])\n",
    "print('Status = ', entry[1].attrib['status'])\n",
    "print('synset =', entry[1].attrib['synset'])\n"
   ]
  },
  {
   "cell_type": "code",
   "execution_count": null,
   "metadata": {
    "collapsed": true
   },
   "outputs": [],
   "source": [
    "There can be several sense components"
   ]
  },
  {
   "cell_type": "code",
   "execution_count": 65,
   "metadata": {},
   "outputs": [
    {
     "name": "stdout",
     "output_type": "stream",
     "text": [
      "3\n",
      "{'synset': 'estwn-et-3972-v', 'id': 's-sisse_ajama-v1', 'status': 'unchecked'}\n",
      "{'synset': 'estwn-et-19302-v', 'id': 's-sisse_ajama-v2', 'status': 'unchecked'}\n"
     ]
    }
   ],
   "source": [
    "print(len(entries[2]))\n",
    "print(entries[2][1].attrib)\n",
    "print(entries[2][2].attrib)"
   ]
  },
  {
   "cell_type": "markdown",
   "metadata": {},
   "source": [
    "Get all sysets"
   ]
  },
  {
   "cell_type": "code",
   "execution_count": 60,
   "metadata": {},
   "outputs": [
    {
     "name": "stdout",
     "output_type": "stream",
     "text": [
      "83557\n"
     ]
    }
   ],
   "source": [
    "synsets = tree.xpath('/LexicalResource/Lexicon/Synset')\n",
    "print(len(synsets))"
   ]
  },
  {
   "cell_type": "code",
   "execution_count": 64,
   "metadata": {},
   "outputs": [
    {
     "name": "stdout",
     "output_type": "stream",
     "text": [
      "2\n",
      "{'language': 'et', 'sourceSense': 's-rõõmupisar-n1'}\n"
     ]
    }
   ],
   "source": [
    "sset = synsets[105]\n",
    "print(len(sset))\n",
    "print(sset[0].attrib)"
   ]
  },
  {
   "cell_type": "markdown",
   "metadata": {},
   "source": [
    "The most important property of a synset is its identifier, status and confidence "
   ]
  },
  {
   "cell_type": "code",
   "execution_count": 1,
   "metadata": {},
   "outputs": [
    {
     "ename": "NameError",
     "evalue": "name 'synsets' is not defined",
     "output_type": "error",
     "traceback": [
      "\u001b[0;31m---------------------------------------------------------------------------\u001b[0m",
      "\u001b[0;31mNameError\u001b[0m                                 Traceback (most recent call last)",
      "\u001b[0;32m<ipython-input-1-a223a6176943>\u001b[0m in \u001b[0;36m<module>\u001b[0;34m()\u001b[0m\n\u001b[0;32m----> 1\u001b[0;31m \u001b[0msynset\u001b[0m\u001b[0;34m=\u001b[0m\u001b[0msynsets\u001b[0m\u001b[0;34m[\u001b[0m\u001b[0;36m0\u001b[0m\u001b[0;34m]\u001b[0m\u001b[0;34m\u001b[0m\u001b[0m\n\u001b[0m\u001b[1;32m      2\u001b[0m \u001b[0mprint\u001b[0m\u001b[0;34m(\u001b[0m\u001b[0;34m'synset_id='\u001b[0m\u001b[0;34m,\u001b[0m \u001b[0msynset\u001b[0m\u001b[0;34m.\u001b[0m\u001b[0mattrib\u001b[0m\u001b[0;34m[\u001b[0m\u001b[0;34m'id'\u001b[0m\u001b[0;34m]\u001b[0m\u001b[0;34m)\u001b[0m\u001b[0;34m\u001b[0m\u001b[0m\n\u001b[1;32m      3\u001b[0m \u001b[0mprint\u001b[0m\u001b[0;34m(\u001b[0m\u001b[0;34m'synset_status='\u001b[0m\u001b[0;34m,\u001b[0m \u001b[0msynset\u001b[0m\u001b[0;34m.\u001b[0m\u001b[0mattrib\u001b[0m\u001b[0;34m[\u001b[0m\u001b[0;34m'status'\u001b[0m\u001b[0;34m]\u001b[0m\u001b[0;34m)\u001b[0m\u001b[0;34m\u001b[0m\u001b[0m\n\u001b[1;32m      4\u001b[0m \u001b[0mprint\u001b[0m\u001b[0;34m(\u001b[0m\u001b[0;34m'confidence_score='\u001b[0m\u001b[0;34m,\u001b[0m \u001b[0msynset\u001b[0m\u001b[0;34m.\u001b[0m\u001b[0mattrib\u001b[0m\u001b[0;34m[\u001b[0m\u001b[0;34m'confidenceScore'\u001b[0m\u001b[0;34m]\u001b[0m\u001b[0;34m)\u001b[0m\u001b[0;34m\u001b[0m\u001b[0m\n",
      "\u001b[0;31mNameError\u001b[0m: name 'synsets' is not defined"
     ]
    }
   ],
   "source": [
    "synset=synsets[0]\n",
    "print('synset_id=', synset.attrib['id'])\n",
    "print('synset_status=', synset.attrib['status'])\n",
    "print('confidence_score=', synset.attrib['confidenceScore'])\n"
   ]
  },
  {
   "cell_type": "markdown",
   "metadata": {},
   "source": [
    "The first element of the synset chhild is its definition that links back to lexicon element senses"
   ]
  },
  {
   "cell_type": "code",
   "execution_count": 63,
   "metadata": {},
   "outputs": [
    {
     "name": "stdout",
     "output_type": "stream",
     "text": [
      "Definition\n",
      "language =  et\n",
      "lecicon_sense =  s-kalapüük-n1\n"
     ]
    }
   ],
   "source": [
    "print(synset[0].tag)\n",
    "print('language = ', synset[0].attrib['language'])\n",
    "print('lecicon_sense = ', synset[0].attrib['sourceSense'])"
   ]
  },
  {
   "cell_type": "code",
   "execution_count": null,
   "metadata": {
    "collapsed": true
   },
   "outputs": [],
   "source": []
  },
  {
   "cell_type": "markdown",
   "metadata": {},
   "source": [
    "Next elements are relations between synsets spacified through target and relation type"
   ]
  },
  {
   "cell_type": "code",
   "execution_count": 45,
   "metadata": {},
   "outputs": [
    {
     "name": "stdout",
     "output_type": "stream",
     "text": [
      "SynsetRelation\n",
      "rel_confidence= 1.0\n",
      "rel_type= similar\n",
      "rel_status= unchecked\n",
      "rel_target= estwn-et-34038-n\n"
     ]
    }
   ],
   "source": [
    "print(synset[1].tag)\n",
    "print('rel_confidence=', synset[1].attrib['confidenceScore'])\n",
    "print('rel_type=', synset[1].attrib['relType'])\n",
    "print('rel_status=', synset[1].attrib['status'])\n",
    "print('rel_target=', synset[1].attrib['target'])\n"
   ]
  },
  {
   "cell_type": "markdown",
   "metadata": {},
   "source": [
    "You can access these elements by specifying relative paths"
   ]
  },
  {
   "cell_type": "code",
   "execution_count": 160,
   "metadata": {},
   "outputs": [
    {
     "name": "stdout",
     "output_type": "stream",
     "text": [
      "1 105\n"
     ]
    }
   ],
   "source": [
    "definition = synset.xpath('Definition')\n",
    "relations = synset.xpath('SynsetRelation')\n",
    "print(len(definition),len(relations))"
   ]
  },
  {
   "cell_type": "code",
   "execution_count": 44,
   "metadata": {},
   "outputs": [
    {
     "ename": "NameError",
     "evalue": "name 'synsets' is not defined",
     "output_type": "error",
     "traceback": [
      "\u001b[0;31m---------------------------------------------------------------------------\u001b[0m",
      "\u001b[0;31mNameError\u001b[0m                                 Traceback (most recent call last)",
      "\u001b[0;32m<ipython-input-44-d8d0b79b090a>\u001b[0m in \u001b[0;36m<module>\u001b[0;34m()\u001b[0m\n\u001b[0;32m----> 1\u001b[0;31m \u001b[0mprint\u001b[0m\u001b[0;34m(\u001b[0m\u001b[0mlen\u001b[0m\u001b[0;34m(\u001b[0m\u001b[0msynsets\u001b[0m\u001b[0;34m)\u001b[0m\u001b[0;34m)\u001b[0m\u001b[0;34m\u001b[0m\u001b[0m\n\u001b[0m\u001b[1;32m      2\u001b[0m \u001b[0mprint\u001b[0m\u001b[0;34m(\u001b[0m\u001b[0mlen\u001b[0m\u001b[0;34m(\u001b[0m\u001b[0mentries\u001b[0m\u001b[0;34m)\u001b[0m\u001b[0;34m)\u001b[0m\u001b[0;34m\u001b[0m\u001b[0m\n",
      "\u001b[0;31mNameError\u001b[0m: name 'synsets' is not defined"
     ]
    }
   ],
   "source": [
    "print(len(synsets))\n",
    "print(len(entries))"
   ]
  },
  {
   "cell_type": "code",
   "execution_count": 90,
   "metadata": {},
   "outputs": [
    {
     "name": "stdout",
     "output_type": "stream",
     "text": [
      "{'synset': 'estwn-et-41417-n', 'id': 's-röntgen-n1', 'status': 'unchecked'}\n",
      "{'target': 'estwn-et-71125-n', 'relType': 'hyponym', 'status': 'unchecked', 'confidenceScore': '1.0'}\n"
     ]
    }
   ],
   "source": [
    "print(entry[1].attrib)\n",
    "print(synset[100].attrib)"
   ]
  },
  {
   "cell_type": "code",
   "execution_count": null,
   "metadata": {},
   "outputs": [],
   "source": []
  }
 ],
 "metadata": {
  "kernelspec": {
   "display_name": "Python 3",
   "language": "python",
   "name": "python3"
  },
  "language_info": {
   "codemirror_mode": {
    "name": "ipython",
    "version": 3
   },
   "file_extension": ".py",
   "mimetype": "text/x-python",
   "name": "python",
   "nbconvert_exporter": "python",
   "pygments_lexer": "ipython3",
   "version": "3.5.5"
  }
 },
 "nbformat": 4,
 "nbformat_minor": 2
}
