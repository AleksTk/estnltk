{
 "cells": [
  {
   "cell_type": "code",
   "execution_count": null,
   "metadata": {},
   "outputs": [],
   "source": [
    "'''\n",
    "This script is intended for combinig values from xml_synsets and xml_relations tables into\n",
    "clear relations table 'relations_complete.db'\n",
    "'''"
   ]
  },
  {
   "cell_type": "code",
   "execution_count": 52,
   "metadata": {},
   "outputs": [],
   "source": [
    "from estnltk.wordnet import wn\n",
    "import sqlite3\n",
    "from lxml import etree"
   ]
  },
  {
   "cell_type": "code",
   "execution_count": 128,
   "metadata": {},
   "outputs": [],
   "source": [
    "xml_sset_db = 'wordnet/data/xml_synsets.db'\n",
    "xml_relation_db = 'wordnet/data/xml_relations.db'\n",
    "rel_db = 'wordnet/data/relations_complete.db'\n"
   ]
  },
  {
   "cell_type": "code",
   "execution_count": 54,
   "metadata": {},
   "outputs": [],
   "source": [
    "def create_connection(db_file):\n",
    "    \"\"\" create a database connection to the SQLite database\n",
    "        specified by db_file\n",
    "    :param db_file: database file\n",
    "    :return: Connection object or None\n",
    "    \"\"\"\n",
    "    try:\n",
    "        conn = sqlite3.connect(db_file)\n",
    "        return conn\n",
    "    except sqlite3.Error as e:\n",
    "        print(\"Connection error: [%s]\" % e)\n",
    "\n",
    "    return None\n",
    "\n",
    "def create_table(conn, create_table_sql ):\n",
    "    \"\"\" create a table from the create_table_sql statement\n",
    "    :param conn: Connection object\n",
    "    :param create_table_sql: a CREATE TABLE statement\n",
    "    :return:\n",
    "    \"\"\"\n",
    "    try:\n",
    "        c = conn.cursor()\n",
    "        c.execute(create_table_sql)\n",
    "    except sqlite3.Error as e:\n",
    "        print(\"Connection error while creating table: [%s]\" % e)\n",
    "\n",
    "def sqlTables(databaseLoc):\n",
    "\n",
    "    sql_create_synset_table = ''' CREATE TABLE IF NOT EXISTS sset_relations(\n",
    "\n",
    "                                        start_id TEXT NOT NULL,\n",
    "                                        start_estwn TEXT NOT NULL,\n",
    "                                        end_estwn TEXT NOT NULL,\n",
    "                                        end_id TEXT NOT NULL,\n",
    "                                        relation TEXT NOT NULL\n",
    "                                                    ); '''\n",
    "    conn = create_connection(databaseLoc)\n",
    "    if conn is not None:\n",
    "        create_table(conn,sql_create_synset_table)\n",
    "    else:\n",
    "        print(\"Error! cannot create db conn.\")"
   ]
  },
  {
   "cell_type": "code",
   "execution_count": 129,
   "metadata": {},
   "outputs": [
    {
     "data": {
      "text/plain": [
       "<sqlite3.Cursor at 0x7f69e633b9d0>"
      ]
     },
     "execution_count": 129,
     "metadata": {},
     "output_type": "execute_result"
    }
   ],
   "source": [
    "\n",
    "\n",
    "conn_rel = create_connection(rel_db)\n",
    "crsr_rel   = conn_rel.cursor()\n",
    "    \n",
    "crsr_rel.execute(\"ATTACH DATABASE 'wordnet/data/xml_synsets.db' AS xml_synsets \")\n",
    "crsr_rel.execute(\"ATTACH DATABASE 'wordnet/data/xml_relations.db' AS rel_table\")"
   ]
  },
  {
   "cell_type": "code",
   "execution_count": 123,
   "metadata": {},
   "outputs": [],
   "source": [
    "join_str = '''CREATE TABLE synset_relations \n",
    "            AS\n",
    "            SELECT\n",
    "                start_index.id AS start_vertex,\n",
    "                start_index.sourceSense AS start_synset, rel_table.start_estwn,\n",
    "                end_index.id AS end_vertex,\n",
    "                end_index.sourceSense AS end_synset, rel_table.end_estwn,\n",
    "                rel_table.relation AS relation \n",
    "            FROM rel_table\n",
    "            LEFT JOIN\n",
    "            (\n",
    "                SELECT DISTINCT id, estwn_id, sourceSense FROM xml_synsets\n",
    "            ) AS start_index\n",
    "            ON rel_table.start_estwn = start_index.estwn_id\n",
    "            LEFT JOIN\n",
    "            (\n",
    "                SELECT DISTINCT id, estwn_id, sourceSense FROM xml_synsets\n",
    "            ) AS end_index\n",
    "            ON rel_table.end_estwn = end_index.estwn_id\n",
    "'''"
   ]
  },
  {
   "cell_type": "code",
   "execution_count": 130,
   "metadata": {
    "collapsed": true
   },
   "outputs": [
    {
     "ename": "OperationalError",
     "evalue": "table synset_relations already exists",
     "output_type": "error",
     "traceback": [
      "\u001b[0;31m---------------------------------------------------------------------------\u001b[0m",
      "\u001b[0;31mOperationalError\u001b[0m                          Traceback (most recent call last)",
      "\u001b[0;32m<ipython-input-130-19c3410fc87a>\u001b[0m in \u001b[0;36m<module>\u001b[0;34m()\u001b[0m\n\u001b[1;32m      1\u001b[0m \u001b[0;32mwith\u001b[0m \u001b[0mconn_rel\u001b[0m\u001b[0;34m:\u001b[0m\u001b[0;34m\u001b[0m\u001b[0m\n\u001b[0;32m----> 2\u001b[0;31m     \u001b[0mcrsr_rel\u001b[0m\u001b[0;34m.\u001b[0m\u001b[0mexecute\u001b[0m\u001b[0;34m(\u001b[0m\u001b[0mjoin_str\u001b[0m\u001b[0;34m)\u001b[0m\u001b[0;34m\u001b[0m\u001b[0m\n\u001b[0m",
      "\u001b[0;31mOperationalError\u001b[0m: table synset_relations already exists"
     ]
    }
   ],
   "source": [
    "with conn_rel:\n",
    "    crsr_rel.execute(join_str)    "
   ]
  },
  {
   "cell_type": "code",
   "execution_count": null,
   "metadata": {},
   "outputs": [],
   "source": []
  }
 ],
 "metadata": {
  "kernelspec": {
   "display_name": "Python 3",
   "language": "python",
   "name": "python3"
  },
  "language_info": {
   "codemirror_mode": {
    "name": "ipython",
    "version": 3
   },
   "file_extension": ".py",
   "mimetype": "text/x-python",
   "name": "python",
   "nbconvert_exporter": "python",
   "pygments_lexer": "ipython3",
   "version": "3.5.5"
  }
 },
 "nbformat": 4,
 "nbformat_minor": 2
}
