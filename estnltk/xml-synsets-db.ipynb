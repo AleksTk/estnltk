{
 "cells": [
  {
   "cell_type": "code",
   "execution_count": 1,
   "metadata": {},
   "outputs": [],
   "source": [
    "from lxml import etree\n",
    "import sqlite3"
   ]
  },
  {
   "cell_type": "code",
   "execution_count": 2,
   "metadata": {},
   "outputs": [],
   "source": [
    "xml_db = 'wordnet/data/xml_synsets.db'\n",
    "entry_db = 'wordnet/data/xml_entries.db'"
   ]
  },
  {
   "cell_type": "code",
   "execution_count": 3,
   "metadata": {},
   "outputs": [],
   "source": [
    "tree = etree.parse(\"estwn-et-2.0.0.beta.xml\")"
   ]
  },
  {
   "cell_type": "code",
   "execution_count": 4,
   "metadata": {},
   "outputs": [
    {
     "data": {
      "text/plain": [
       "\"\\nUpload .attrib['id'] - end_id\\n          [i].['target'] - start_id\\n          [i].['reltype'] - relation\\n          [0].['sourceSense'] - writtenForm\\n          [i].['confidenceScore']\\n          [i].['status']\\n\""
      ]
     },
     "execution_count": 4,
     "metadata": {},
     "output_type": "execute_result"
    }
   ],
   "source": [
    "    '''\n",
    "    Upload .attrib['id'] - end_id\n",
    "              [i].['target'] - start_id\n",
    "              [i].['reltype'] - relation\n",
    "              [0].['sourceSense'] - writtenForm\n",
    "              [i].['confidenceScore']\n",
    "              [i].['status']\n",
    "    '''"
   ]
  },
  {
   "cell_type": "code",
   "execution_count": 58,
   "metadata": {},
   "outputs": [],
   "source": [
    "def create_connection(db_file):\n",
    "    \"\"\" create a database connection to the SQLite database\n",
    "        specified by db_file\n",
    "    :param db_file: database file\n",
    "    :return: Connection object or None\n",
    "    \"\"\"\n",
    "    try:\n",
    "        conn = sqlite3.connect(db_file)\n",
    "        return conn\n",
    "    except sqlite3.Error as e:\n",
    "        print(\"Connection error: [%s]\" % e)\n",
    "\n",
    "    return None\n",
    "\n",
    "def create_table(conn, create_table_sql ):\n",
    "    \"\"\" create a table from the create_table_sql statement\n",
    "    :param conn: Connection object\n",
    "    :param create_table_sql: a CREATE TABLE statement\n",
    "    :return:\n",
    "    \"\"\"\n",
    "    try:\n",
    "        c = conn.cursor()\n",
    "        c.execute(create_table_sql)\n",
    "    except sqlite3.Error as e:\n",
    "        print(\"Connection error while creating table: [%s]\" % e)\n",
    "\n",
    "def synsetTable(databaseLoc):\n",
    "\n",
    "    sql_create_synset_table = ''' CREATE TABLE IF NOT EXISTS xml_synsets(\n",
    "                                        \n",
    "                                        id INT NOT NULL,\n",
    "                                        estwn_id TEXT NOT NULL,\n",
    "                                        sourceSense TEXT NOT NULL,\n",
    "                                        pos TEXT NOT NULL,\n",
    "                                        sense INT NOT NULL,\n",
    "                                        writtenForm TEXT NOT NULL,\n",
    "                                        status TEXT NOT NULL\n",
    "                                                    ); '''\n",
    "    conn = create_connection(databaseLoc)\n",
    "    if conn is not None:\n",
    "        create_table(conn,sql_create_synset_table)\n",
    "    else:\n",
    "        print(\"Error! cannot create db conn.\")  \n",
    "        \n",
    "def rawSsetTable(databaseLoc):\n",
    "\n",
    "    sql_create_synset_table = ''' CREATE TABLE IF NOT EXISTS xml_synsets_raw(\n",
    "                                        \n",
    "                                        estwn_id TEXT NOT NULL,\n",
    "                                        sourceSense TEXT NOT NULL\n",
    "                                                    ); '''\n",
    "    conn = create_connection(databaseLoc)\n",
    "    if conn is not None:\n",
    "        create_table(conn,sql_create_synset_table)\n",
    "    else:\n",
    "        print(\"Error! cannot create db conn.\") "
   ]
  },
  {
   "cell_type": "code",
   "execution_count": 17,
   "metadata": {
    "collapsed": true
   },
   "outputs": [
    {
     "data": {
      "text/plain": [
       "'                                        synset_word TEXT NOT NULL,\\n                                        literal TEXT NOT NULL,\\n                                        pos TEXT NOT NULL,\\n                                        sense INT NOT NULL,\\n                                        confidence INT NOT NULL,\\n                                        status TEXT NOT NULL\\n                                        '"
      ]
     },
     "execution_count": 17,
     "metadata": {},
     "output_type": "execute_result"
    }
   ],
   "source": [
    "'''                                     synset_word TEXT NOT NULL,\n",
    "                                        pos TEXT NOT NULL,\n",
    "                                        sense INT NOT NULL,\n",
    "                                        literal TEXT NOT NULL,\n",
    "                                        confidence INT NOT NULL,\n",
    "                                        status TEXT NOT NULL\n",
    "                                        '''"
   ]
  },
  {
   "cell_type": "markdown",
   "metadata": {},
   "source": [
    "def add_lemmas(entry_xml_db,sset_xml_db):\n",
    "    \n",
    "    conn = create_connection(sset_xml_db)\n",
    "    cursor = conn.cursor()\n",
    "    synsetTable(sset_xml_db)\n",
    "    \n",
    "    with conn:\n",
    "        conn2 = create_connection(entry_xml_db)\n",
    "        cursor2 = conn2.cursor()\n",
    "        with conn2:\n",
    "            i=0\n",
    "            for estId in estwnId_list:\n",
    "                cursor2.execute(\"SELECT writtenForm FROM xml_LexicalEntry WHERE estwn_id = ?\", (estId,))\n",
    "                row = cursor2.fetchall()\n",
    "                if len(row) > 1:\n",
    "                    for word in row:\n",
    "                        id_list.append(i)\n",
    "                        lemma_list.append(word[0])\n",
    "                        cursor.execute(\"INSERT INTO xml_synsets(id, estwn_id, sourceSense) VALUES (?,?,?)\"\\\n",
    "                                                                                  ,(i, estId, word[0]))\n",
    "                    conn.commit()\n",
    "                else:\n",
    "                    id_list.append(i)\n",
    "                    lemma_list.append(row[0][0])\n",
    "                    cursor.execute(\"INSERT INTO xml_synsets(id, estwn_id, sourceSense) VALUES (?,?,?)\"\\\n",
    "                                                                                  ,(i, estId, row[0][0]))\n",
    "                    conn.commit()\n",
    "                i+=1"
   ]
  },
  {
   "cell_type": "code",
   "execution_count": null,
   "metadata": {},
   "outputs": [],
   "source": [
    "                                        id INT NOT NULL,\n",
    "                                        estwn_id TEXT NOT NULL,\n",
    "                                        pos TEXT NOT NULL,\n",
    "                                        sense INT NOT NULL,\n",
    "                                        sourceSense TEXT NOT NULL,\n",
    "                                        status TEXT NOT NULL"
   ]
  },
  {
   "cell_type": "code",
   "execution_count": 75,
   "metadata": {},
   "outputs": [],
   "source": [
    "def add_lemmas(entry_xml_db,sset_xml_db):\n",
    "\n",
    "    conn = create_connection(sset_xml_db)\n",
    "    cursor = conn.cursor()\n",
    "    synsetTable(sset_xml_db)\n",
    "\n",
    "    with conn:\n",
    "        conn2 = create_connection(entry_xml_db)\n",
    "        cursor2 = conn2.cursor()\n",
    "        with conn2:\n",
    "            i=0\n",
    "            for estId in estwnId_list:\n",
    "                cursor2.execute(\"SELECT pos,sense,writtenForm,status FROM xml_LexicalEntry WHERE estwn_id = ?\", (estId,))\n",
    "                row = cursor2.fetchall()\n",
    "                    \n",
    "                if len(row) > 1:\n",
    "                    for word in row:                            \n",
    "                        cursor.execute(\"INSERT INTO xml_synsets(id, estwn_id, sourceSense, pos, sense, writtenForm, status) VALUES (?,?,?,?,?,?,?)\"\\\n",
    "                                                                                  ,(i, estId,sset_word[i], word[0],word[1],word[2],word[3]))\n",
    "                    conn.commit()\n",
    "                else:\n",
    "                    id_list.append(i)\n",
    "                    #lemma_list.append(row[0][2])\n",
    "                    cursor.execute(\"INSERT INTO xml_synsets(id, estwn_id, sourceSense, pos, sense, writtenForm, status) VALUES (?,?,?,?,?,?,?)\"\\\n",
    "                                                                                  ,(i, estId,sset_word[i],row[0][0],row[0][1],row[0][2],row[0][3]))\n",
    "                    conn.commit()\n",
    "                i+=1"
   ]
  },
  {
   "cell_type": "code",
   "execution_count": 74,
   "metadata": {
    "scrolled": true
   },
   "outputs": [
    {
     "ename": "KeyboardInterrupt",
     "evalue": "",
     "output_type": "error",
     "traceback": [
      "\u001b[0;31m---------------------------------------------------------------------------\u001b[0m",
      "\u001b[0;31mKeyboardInterrupt\u001b[0m                         Traceback (most recent call last)",
      "\u001b[0;32m<ipython-input-74-9854f2c1fad4>\u001b[0m in \u001b[0;36m<module>\u001b[0;34m()\u001b[0m\n\u001b[1;32m      1\u001b[0m \u001b[0mid_list\u001b[0m \u001b[0;34m=\u001b[0m \u001b[0;34m[\u001b[0m\u001b[0;34m]\u001b[0m\u001b[0;34m\u001b[0m\u001b[0m\n\u001b[1;32m      2\u001b[0m \u001b[0mlemma_list\u001b[0m \u001b[0;34m=\u001b[0m\u001b[0;34m[\u001b[0m\u001b[0;34m]\u001b[0m\u001b[0;34m\u001b[0m\u001b[0m\n\u001b[0;32m----> 3\u001b[0;31m \u001b[0madd_lemmas\u001b[0m\u001b[0;34m(\u001b[0m\u001b[0mentry_db\u001b[0m\u001b[0;34m,\u001b[0m \u001b[0mxml_db\u001b[0m\u001b[0;34m)\u001b[0m\u001b[0;34m\u001b[0m\u001b[0m\n\u001b[0m",
      "\u001b[0;32m<ipython-input-73-6adad2a80618>\u001b[0m in \u001b[0;36madd_lemmas\u001b[0;34m(entry_xml_db, sset_xml_db)\u001b[0m\n\u001b[1;32m     27\u001b[0m                     \u001b[0;31m#lemma_list.append(row[0][2])\u001b[0m\u001b[0;34m\u001b[0m\u001b[0;34m\u001b[0m\u001b[0m\n\u001b[1;32m     28\u001b[0m                     \u001b[0mcursor\u001b[0m\u001b[0;34m.\u001b[0m\u001b[0mexecute\u001b[0m\u001b[0;34m(\u001b[0m\u001b[0;34m\"INSERT INTO xml_synsets(id, estwn_id, sourceSense, pos, sense, writtenForm, status) VALUES (?,?,?,?,?,?,?)\"\u001b[0m                                                                                  \u001b[0;34m,\u001b[0m\u001b[0;34m(\u001b[0m\u001b[0mi\u001b[0m\u001b[0;34m,\u001b[0m \u001b[0mestId\u001b[0m\u001b[0;34m,\u001b[0m\u001b[0msset_word\u001b[0m\u001b[0;34m[\u001b[0m\u001b[0mi\u001b[0m\u001b[0;34m]\u001b[0m\u001b[0;34m,\u001b[0m\u001b[0mrow\u001b[0m\u001b[0;34m[\u001b[0m\u001b[0;36m0\u001b[0m\u001b[0;34m]\u001b[0m\u001b[0;34m[\u001b[0m\u001b[0;36m0\u001b[0m\u001b[0;34m]\u001b[0m\u001b[0;34m,\u001b[0m\u001b[0mrow\u001b[0m\u001b[0;34m[\u001b[0m\u001b[0;36m0\u001b[0m\u001b[0;34m]\u001b[0m\u001b[0;34m[\u001b[0m\u001b[0;36m1\u001b[0m\u001b[0;34m]\u001b[0m\u001b[0;34m,\u001b[0m\u001b[0mrow\u001b[0m\u001b[0;34m[\u001b[0m\u001b[0;36m0\u001b[0m\u001b[0;34m]\u001b[0m\u001b[0;34m[\u001b[0m\u001b[0;36m2\u001b[0m\u001b[0;34m]\u001b[0m\u001b[0;34m,\u001b[0m\u001b[0mrow\u001b[0m\u001b[0;34m[\u001b[0m\u001b[0;36m0\u001b[0m\u001b[0;34m]\u001b[0m\u001b[0;34m[\u001b[0m\u001b[0;36m3\u001b[0m\u001b[0;34m]\u001b[0m\u001b[0;34m)\u001b[0m\u001b[0;34m)\u001b[0m\u001b[0;34m\u001b[0m\u001b[0m\n\u001b[0;32m---> 29\u001b[0;31m                     \u001b[0mconn\u001b[0m\u001b[0;34m.\u001b[0m\u001b[0mcommit\u001b[0m\u001b[0;34m(\u001b[0m\u001b[0;34m)\u001b[0m\u001b[0;34m\u001b[0m\u001b[0m\n\u001b[0m\u001b[1;32m     30\u001b[0m                 \u001b[0mi\u001b[0m\u001b[0;34m+=\u001b[0m\u001b[0;36m1\u001b[0m\u001b[0;34m\u001b[0m\u001b[0m\n",
      "\u001b[0;31mKeyboardInterrupt\u001b[0m: "
     ]
    }
   ],
   "source": [
    "id_list = []\n",
    "lemma_list =[]\n",
    "add_lemmas(entry_db, xml_db)"
   ]
  },
  {
   "cell_type": "code",
   "execution_count": 24,
   "metadata": {},
   "outputs": [],
   "source": [
    "\n",
    "def fetch_synset_data(db_file):\n",
    "    '''\n",
    "    Upload .attrib['id'] - end_id\n",
    "              [i].['target'] - start_id\n",
    "              [i].['reltype'] - relation\n",
    "              [0].['sourceSense'] - writtenForm\n",
    "              [i].['confidenceScore']\n",
    "              [i].['status']\n",
    "    '''\n",
    "    synsetTable(db_file)\n",
    "    conn = create_connection(db_file)\n",
    "    cursor = conn.cursor()\n",
    "    \n",
    "    with conn:\n",
    "        synsets = tree.xpath('/LexicalResource/Lexicon/Synset')\n",
    "        j=0\n",
    "        for sset in synsets:\n",
    "            estwnId_list.append(sset.attrib['id'])\n",
    "            try:\n",
    "                var   = sset[0].attrib['sourceSense']\n",
    "                sset_word.append(var[2:-3])\n",
    "\n",
    "            except:\n",
    "                sset_word.append('None')\n",
    "                \n",
    "            #TODO: add id, estwnid & lemma to xml_synsets.\n",
    "            #cursor.execute(\"INSERT INTO xml_synsets(id,estwn_id,sourceSense) VALUES(?,?,?)\"\\\n",
    "            #                                            ,(j,ssetId,sset_word ))#, status))\n",
    "            #conn.commit()\n",
    "            #j+=1"
   ]
  },
  {
   "cell_type": "code",
   "execution_count": 14,
   "metadata": {},
   "outputs": [
    {
     "ename": "IndentationError",
     "evalue": "unexpected indent (<ipython-input-14-95a00368ac9d>, line 12)",
     "output_type": "error",
     "traceback": [
      "\u001b[0;36m  File \u001b[0;32m\"<ipython-input-14-95a00368ac9d>\"\u001b[0;36m, line \u001b[0;32m12\u001b[0m\n\u001b[0;31m    '''\u001b[0m\n\u001b[0m    ^\u001b[0m\n\u001b[0;31mIndentationError\u001b[0m\u001b[0;31m:\u001b[0m unexpected indent\n"
     ]
    }
   ],
   "source": [
    "'''\n",
    " start_estwn = sset.attrib['target']   \n",
    "                sset_word   = sset.attrib['sourceSense']\n",
    "                relation    = sset.attrib['relation']\n",
    "                conf        = sset.attrib['confidenceScore']\n",
    "                status      = sset.attrib['status']\n",
    "                '''\n",
    "        #TODO: else statement        \n",
    "        #else:\n",
    "         #   try:\n",
    "                \n",
    "                '''\n",
    "                #print(\"try @\", j)\n",
    "                word = sset[0].attrib['writtenForm']\n",
    "                if \" \" in word:\n",
    "                    var = word.replace(\" \", \"_\")\n",
    "                    word = var\n",
    "                pos  = sset[0].attrib['partOfSpeech']\n",
    "                string = \"s-\" + word + \"-\" + pos\n",
    "                sset_list.append(string)\n",
    "                estwnId_list.append(sset.attrib['id'])\n",
    "            except:\n",
    "                #print(\"pass @\",j)\n",
    "                pass\n",
    "                \n",
    "        j+=1\n",
    "        '''\n",
    "        '''\n",
    "        for relations\n",
    "        \n",
    "        if len(sset) > 2:\n",
    "            for data in sset:\n",
    "                #print(data.attrib)\n",
    "                \n",
    "                status_list.append(data.attrib['target'])\n",
    "                conf_list.append((data.attrib['confidenceScore']))\n",
    "                source_sense.append(data[0].attrib['sourceSense'])           \n",
    "                '''\n",
    "'''"
   ]
  },
  {
   "cell_type": "code",
   "execution_count": 57,
   "metadata": {},
   "outputs": [],
   "source": [
    "def upload_data(db_file):\n",
    "    rawSsetTable(db_file)\n",
    "    conn = create_connection(db_file)\n",
    "    cursor = conn.cursor()\n",
    "    \n",
    "    with conn:\n",
    "        i=0\n",
    "        for i in range(len(estwnId_list)):\n",
    "              \n",
    "            \n",
    "            cursor.execute(\"INSERT INTO xml_synsets_raw(estwn_id,sourceSense) VALUES(?,?)\"\\\n",
    "                                                        ,(estwnId_list[i],lemma_list[i] ))#, status))\n",
    "            conn.commit()"
   ]
  },
  {
   "cell_type": "code",
   "execution_count": 66,
   "metadata": {},
   "outputs": [
    {
     "name": "stdout",
     "output_type": "stream",
     "text": [
      "83557\n"
     ]
    },
    {
     "data": {
      "text/plain": [
       "83557"
      ]
     },
     "execution_count": 66,
     "metadata": {},
     "output_type": "execute_result"
    }
   ],
   "source": [
    "estwnId_list = []\n",
    "status_list=[]\n",
    "pos_list = []\n",
    "sset_word = []\n",
    "\n",
    "fetch_synset_data(xml_db)\n",
    "print(len(estwnId_list))\n",
    "len(sset_word)\n"
   ]
  },
  {
   "cell_type": "code",
   "execution_count": 58,
   "metadata": {
    "scrolled": true
   },
   "outputs": [
    {
     "ename": "KeyboardInterrupt",
     "evalue": "",
     "output_type": "error",
     "traceback": [
      "\u001b[0;31m---------------------------------------------------------------------------\u001b[0m",
      "\u001b[0;31mKeyboardInterrupt\u001b[0m                         Traceback (most recent call last)",
      "\u001b[0;32m<ipython-input-58-394e7ff24f26>\u001b[0m in \u001b[0;36m<module>\u001b[0;34m()\u001b[0m\n\u001b[0;32m----> 1\u001b[0;31m \u001b[0mupload_data\u001b[0m\u001b[0;34m(\u001b[0m\u001b[0mxml_db\u001b[0m\u001b[0;34m)\u001b[0m\u001b[0;34m\u001b[0m\u001b[0m\n\u001b[0m",
      "\u001b[0;32m<ipython-input-57-950ff44c3523>\u001b[0m in \u001b[0;36mupload_data\u001b[0;34m(db_file)\u001b[0m\n\u001b[1;32m     10\u001b[0m \u001b[0;34m\u001b[0m\u001b[0m\n\u001b[1;32m     11\u001b[0m             \u001b[0mcursor\u001b[0m\u001b[0;34m.\u001b[0m\u001b[0mexecute\u001b[0m\u001b[0;34m(\u001b[0m\u001b[0;34m\"INSERT INTO xml_synsets_raw(estwn_id,sourceSense) VALUES(?,?)\"\u001b[0m                                                        \u001b[0;34m,\u001b[0m\u001b[0;34m(\u001b[0m\u001b[0mestwnId_list\u001b[0m\u001b[0;34m[\u001b[0m\u001b[0mi\u001b[0m\u001b[0;34m]\u001b[0m\u001b[0;34m,\u001b[0m\u001b[0mlemma_list\u001b[0m\u001b[0;34m[\u001b[0m\u001b[0mi\u001b[0m\u001b[0;34m]\u001b[0m \u001b[0;34m)\u001b[0m\u001b[0;34m)\u001b[0m\u001b[0;31m#, status))\u001b[0m\u001b[0;34m\u001b[0m\u001b[0m\n\u001b[0;32m---> 12\u001b[0;31m             \u001b[0mconn\u001b[0m\u001b[0;34m.\u001b[0m\u001b[0mcommit\u001b[0m\u001b[0;34m(\u001b[0m\u001b[0;34m)\u001b[0m\u001b[0;34m\u001b[0m\u001b[0m\n\u001b[0m",
      "\u001b[0;31mKeyboardInterrupt\u001b[0m: "
     ]
    }
   ],
   "source": [
    "upload_data(xml_db)"
   ]
  },
  {
   "cell_type": "code",
   "execution_count": 20,
   "metadata": {},
   "outputs": [
    {
     "name": "stdout",
     "output_type": "stream",
     "text": [
      "83557\n"
     ]
    }
   ],
   "source": [
    "synsets = tree.xpath('/LexicalResource/Lexicon/Synset')\n",
    "print(len(synsets))\n"
   ]
  },
  {
   "cell_type": "code",
   "execution_count": 49,
   "metadata": {},
   "outputs": [
    {
     "name": "stdout",
     "output_type": "stream",
     "text": [
      "2\n",
      "{'target': 'estwn-et-34572-n', 'confidenceScore': '1.0', 'relType': 'hypernym', 'status': 'unchecked'}\n"
     ]
    },
    {
     "ename": "IndexError",
     "evalue": "list index out of range",
     "output_type": "error",
     "traceback": [
      "\u001b[0;31m---------------------------------------------------------------------------\u001b[0m",
      "\u001b[0;31mIndexError\u001b[0m                                Traceback (most recent call last)",
      "\u001b[0;32m<ipython-input-49-adc83ddc51e4>\u001b[0m in \u001b[0;36m<module>\u001b[0;34m()\u001b[0m\n\u001b[1;32m      3\u001b[0m \u001b[0mprint\u001b[0m\u001b[0;34m(\u001b[0m\u001b[0msset\u001b[0m\u001b[0;34m[\u001b[0m\u001b[0;36m1\u001b[0m\u001b[0;34m]\u001b[0m\u001b[0;34m.\u001b[0m\u001b[0mattrib\u001b[0m\u001b[0;34m)\u001b[0m\u001b[0;34m\u001b[0m\u001b[0m\n\u001b[1;32m      4\u001b[0m \u001b[0mdefin\u001b[0m \u001b[0;34m=\u001b[0m \u001b[0msset\u001b[0m\u001b[0;34m.\u001b[0m\u001b[0mxpath\u001b[0m\u001b[0;34m(\u001b[0m\u001b[0;34m'Definition'\u001b[0m\u001b[0;34m)\u001b[0m\u001b[0;34m\u001b[0m\u001b[0m\n\u001b[0;32m----> 5\u001b[0;31m \u001b[0mdefin\u001b[0m\u001b[0;34m[\u001b[0m\u001b[0;36m0\u001b[0m\u001b[0;34m]\u001b[0m\u001b[0;34m.\u001b[0m\u001b[0mattrib\u001b[0m\u001b[0;34m\u001b[0m\u001b[0m\n\u001b[0m",
      "\u001b[0;31mIndexError\u001b[0m: list index out of range"
     ]
    }
   ],
   "source": [
    "sset = synsets[7]\n",
    "print(len(sset))\n",
    "print(sset[1].attrib)\n",
    "defin = sset.xpath('Definition')\n",
    "defin[0].attrib"
   ]
  },
  {
   "cell_type": "markdown",
   "metadata": {},
   "source": [
    "The most important property of a synset is its identifier, status and confidence "
   ]
  },
  {
   "cell_type": "code",
   "execution_count": 22,
   "metadata": {},
   "outputs": [
    {
     "name": "stdout",
     "output_type": "stream",
     "text": [
      "synset_id= estwn-et-8645-n\n",
      "synset_status= checked\n",
      "confidence_score= 1.0\n"
     ]
    }
   ],
   "source": [
    "synset=synsets[0]\n",
    "print('synset_id=', synset.attrib['id'])\n",
    "print('synset_status=', synset.attrib['status'])\n",
    "print('confidence_score=', synset.attrib['confidenceScore'])\n"
   ]
  },
  {
   "cell_type": "markdown",
   "metadata": {},
   "source": [
    "The first element of the synset chhild is its definition that links back to lexicon element senses"
   ]
  },
  {
   "cell_type": "code",
   "execution_count": 23,
   "metadata": {},
   "outputs": [
    {
     "name": "stdout",
     "output_type": "stream",
     "text": [
      "Definition\n",
      "language =  et\n",
      "lecicon_sense =  s-kalapüük-n1\n"
     ]
    }
   ],
   "source": [
    "print(synset[0].tag)\n",
    "print('language = ', synset[0].attrib['language'])\n",
    "print('lecicon_sense = ', synset[0].attrib['sourceSense'])"
   ]
  },
  {
   "cell_type": "code",
   "execution_count": null,
   "metadata": {
    "collapsed": true
   },
   "outputs": [],
   "source": []
  },
  {
   "cell_type": "markdown",
   "metadata": {},
   "source": [
    "Next elements are relations between synsets spacified through target and relation type"
   ]
  },
  {
   "cell_type": "code",
   "execution_count": 20,
   "metadata": {},
   "outputs": [
    {
     "name": "stdout",
     "output_type": "stream",
     "text": [
      "106\n",
      "Definition\n",
      "rel_confidence= 1.0\n",
      "rel_type= similar\n",
      "rel_status= unchecked\n",
      "rel_target= estwn-et-34038-n\n",
      "synset_id= estwn-et-8645-n\n",
      "sourceSense =  s-kalapüük-n1\n"
     ]
    }
   ],
   "source": [
    "synset = synsets[0]\n",
    "print(len(synset))\n",
    "print(synset[0].tag)\n",
    "print('rel_confidence=', synset.attrib['confidenceScore'])\n",
    "print('rel_type=', synset[1].attrib['relType'])\n",
    "print('rel_status=', synset[1].attrib['status'])\n",
    "print('rel_target=', synset[1].attrib['target'])\n",
    "print('synset_id=', synset.attrib['id'])\n",
    "print('sourceSense = ', synset[0].attrib['sourceSense'])\n"
   ]
  },
  {
   "cell_type": "markdown",
   "metadata": {},
   "source": [
    "You can access these elements by specifying relative paths"
   ]
  },
  {
   "cell_type": "code",
   "execution_count": 30,
   "metadata": {},
   "outputs": [
    {
     "name": "stdout",
     "output_type": "stream",
     "text": [
      "1 105\n"
     ]
    },
    {
     "data": {
      "text/plain": [
       "{'sourceSense': 's-kalapüük-n1', 'language': 'et'}"
      ]
     },
     "execution_count": 30,
     "metadata": {},
     "output_type": "execute_result"
    }
   ],
   "source": [
    "definition = synset.xpath('Definition')\n",
    "relations = synset.xpath('SynsetRelation')\n",
    "print(len(definition),len(relations))\n",
    "definition[0].attrib"
   ]
  },
  {
   "cell_type": "raw",
   "metadata": {},
   "source": [
    "print(len(synsets))\n",
    "print(len(entries))"
   ]
  },
  {
   "cell_type": "code",
   "execution_count": 90,
   "metadata": {},
   "outputs": [
    {
     "name": "stdout",
     "output_type": "stream",
     "text": [
      "{'synset': 'estwn-et-41417-n', 'id': 's-röntgen-n1', 'status': 'unchecked'}\n",
      "{'target': 'estwn-et-71125-n', 'relType': 'hyponym', 'status': 'unchecked', 'confidenceScore': '1.0'}\n"
     ]
    }
   ],
   "source": [
    "print(entry[1].attrib)\n",
    "print(synset[100].attrib)"
   ]
  },
  {
   "cell_type": "code",
   "execution_count": null,
   "metadata": {},
   "outputs": [],
   "source": []
  },
  {
   "cell_type": "code",
   "execution_count": null,
   "metadata": {},
   "outputs": [],
   "source": []
  }
 ],
 "metadata": {
  "kernelspec": {
   "display_name": "Python 3",
   "language": "python",
   "name": "python3"
  },
  "language_info": {
   "codemirror_mode": {
    "name": "ipython",
    "version": 3
   },
   "file_extension": ".py",
   "mimetype": "text/x-python",
   "name": "python",
   "nbconvert_exporter": "python",
   "pygments_lexer": "ipython3",
   "version": "3.5.5"
  }
 },
 "nbformat": 4,
 "nbformat_minor": 2
}
