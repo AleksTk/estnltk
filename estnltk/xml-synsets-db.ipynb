{
 "cells": [
  {
   "cell_type": "code",
   "execution_count": 11,
   "metadata": {},
   "outputs": [],
   "source": [
    "from lxml import etree\n",
    "import sqlite3"
   ]
  },
  {
   "cell_type": "code",
   "execution_count": 12,
   "metadata": {},
   "outputs": [],
   "source": [
    "xml_db = 'wordnet/data/xml_synsets.db'\n",
    "entry_db = 'wordnet/data/xml_entries.db'"
   ]
  },
  {
   "cell_type": "code",
   "execution_count": 13,
   "metadata": {},
   "outputs": [],
   "source": [
    "tree = etree.parse(\"estwn-et-2.0.0.beta.xml\")"
   ]
  },
  {
   "cell_type": "code",
   "execution_count": 15,
   "metadata": {},
   "outputs": [],
   "source": [
    "def create_connection(db_file):\n",
    "    \"\"\" create a database connection to the SQLite database\n",
    "        specified by db_file\n",
    "    :param db_file: database file\n",
    "    :return: Connection object or None\n",
    "    \"\"\"\n",
    "    try:\n",
    "        conn = sqlite3.connect(db_file)\n",
    "        return conn\n",
    "    except sqlite3.Error as e:\n",
    "        print(\"Connection error: [%s]\" % e)\n",
    "\n",
    "    return None\n",
    "\n",
    "def create_table(conn, create_table_sql ):\n",
    "    \"\"\" create a table from the create_table_sql statement\n",
    "    :param conn: Connection object\n",
    "    :param create_table_sql: a CREATE TABLE statement\n",
    "    :return:\n",
    "    \"\"\"\n",
    "    try:\n",
    "        c = conn.cursor()\n",
    "        c.execute(create_table_sql)\n",
    "    except sqlite3.Error as e:\n",
    "        print(\"Connection error while creating table: [%s]\" % e)\n",
    "\n",
    "def synsetTable(databaseLoc):\n",
    "\n",
    "    sql_create_synset_table = ''' CREATE TABLE IF NOT EXISTS xml_synsets(\n",
    "                                        \n",
    "                                        id INT NOT NULL,\n",
    "                                        sourceSense TEXT NOT NULL,\n",
    "                                        pos TEXT NOT NULL,\n",
    "                                        sense INT NOT NULL,\n",
    "                                        writtenForm TEXT NOT NULL\n",
    "                                                    ); '''\n",
    "    conn = create_connection(databaseLoc)\n",
    "    if conn is not None:\n",
    "        create_table(conn,sql_create_synset_table)\n",
    "    else:\n",
    "        print(\"Error! cannot create db conn.\")  \n",
    "        "
   ]
  },
  {
   "cell_type": "code",
   "execution_count": 24,
   "metadata": {},
   "outputs": [],
   "source": [
    "def upload_data(entry_xml_db,sset_xml_db):\n",
    "    #TODO: replace \"_\" with \" \" in sourceSense.\n",
    "    synsetTable(sset_xml_db)\n",
    "    conn = create_connection(sset_xml_db)\n",
    "    cursor = conn.cursor()\n",
    "\n",
    "    with conn:\n",
    "        conn2 = create_connection(entry_xml_db)\n",
    "        cursor2 = conn2.cursor()\n",
    "        with conn2:\n",
    "            i=0\n",
    "            for estId in estwnId_list:\n",
    "                cursor2.execute(\"SELECT pos,sense,writtenForm FROM xml_LexicalEntry WHERE estwn_id = ?\", (estId,))\n",
    "                row = cursor2.fetchall()\n",
    "                    \n",
    "                if len(row) > 1:\n",
    "                    if sset_word[i] == 'None':\n",
    "                        try:\n",
    "                            var = row[0][2]\n",
    "                            sourceSense = var.replace(\"_\",\" \")\n",
    "                        except:\n",
    "                            sourceSense = row[0][2]\n",
    "                    else:\n",
    "                        sourceSense = sset_word[i]\n",
    "                    for word in row:\n",
    "                        cursor.execute(\"INSERT INTO xml_synsets(id, sourceSense, pos, sense, writtenForm) VALUES (?,?,?,?,?)\"\\\n",
    "                                                                                  ,(i,sourceSense, word[0],word[1],word[2]))\n",
    "                    conn.commit()\n",
    "                else:\n",
    "                    if sset_word[i] == 'None':\n",
    "                        try:\n",
    "                            var = row[0][2]\n",
    "                            sourceSense = var.replace(\"_\",\" \")\n",
    "                        except:\n",
    "                            sourceSense = row[0][2]\n",
    "                    else:\n",
    "                        sourceSense = sset_word[i]\n",
    "                    cursor.execute(\"INSERT INTO xml_synsets(id, sourceSense, pos, sense, writtenForm) VALUES (?,?,?,?,?)\"\\\n",
    "                                                                                  ,(i,sourceSense,row[0][0],row[0][1],row[0][2]))\n",
    "                    conn.commit()\n",
    "                i+=1"
   ]
  },
  {
   "cell_type": "code",
   "execution_count": 20,
   "metadata": {},
   "outputs": [],
   "source": [
    "\n",
    "def fetch_estwnId(db_file):\n",
    "\n",
    "    synsets = tree.xpath('/LexicalResource/Lexicon/Synset')\n",
    "    j=0\n",
    "    for sset in synsets:\n",
    "        estwnId_list.append(sset.attrib['id'])\n",
    "        try:\n",
    "            var   = sset[0].attrib['sourceSense']\n",
    "            sset_word.append(var[2:-3])\n",
    "\n",
    "        except:\n",
    "            sset_word.append('None')"
   ]
  },
  {
   "cell_type": "code",
   "execution_count": 22,
   "metadata": {},
   "outputs": [],
   "source": [
    "estwnId_list = []\n",
    "sset_word = []\n",
    "\n",
    "fetch_estwnId(xml_db)"
   ]
  },
  {
   "cell_type": "code",
   "execution_count": 25,
   "metadata": {},
   "outputs": [],
   "source": [
    "\n",
    "upload_data(entry_db, xml_db)"
   ]
  },
  {
   "cell_type": "code",
   "execution_count": 11,
   "metadata": {},
   "outputs": [
    {
     "ename": "IndentationError",
     "evalue": "unexpected indent (<ipython-input-11-95a00368ac9d>, line 12)",
     "output_type": "error",
     "traceback": [
      "\u001b[0;36m  File \u001b[0;32m\"<ipython-input-11-95a00368ac9d>\"\u001b[0;36m, line \u001b[0;32m12\u001b[0m\n\u001b[0;31m    '''\u001b[0m\n\u001b[0m    ^\u001b[0m\n\u001b[0;31mIndentationError\u001b[0m\u001b[0;31m:\u001b[0m unexpected indent\n"
     ]
    }
   ],
   "source": [
    "'''\n",
    " start_estwn = sset.attrib['target']   \n",
    "                sset_word   = sset.attrib['sourceSense']\n",
    "                relation    = sset.attrib['relation']\n",
    "                conf        = sset.attrib['confidenceScore']\n",
    "                status      = sset.attrib['status']\n",
    "                '''\n",
    "        #TODO: else statement        \n",
    "        #else:\n",
    "         #   try:\n",
    "                \n",
    "                '''\n",
    "                #print(\"try @\", j)\n",
    "                word = sset[0].attrib['writtenForm']\n",
    "                if \" \" in word:\n",
    "                    var = word.replace(\" \", \"_\")\n",
    "                    word = var\n",
    "                pos  = sset[0].attrib['partOfSpeech']\n",
    "                string = \"s-\" + word + \"-\" + pos\n",
    "                sset_list.append(string)\n",
    "                estwnId_list.append(sset.attrib['id'])\n",
    "            except:\n",
    "                #print(\"pass @\",j)\n",
    "                pass\n",
    "                \n",
    "        j+=1\n",
    "        '''\n",
    "        '''\n",
    "        for relations\n",
    "        \n",
    "        if len(sset) > 2:\n",
    "            for data in sset:\n",
    "                #print(data.attrib)\n",
    "                \n",
    "                status_list.append(data.attrib['target'])\n",
    "                conf_list.append((data.attrib['confidenceScore']))\n",
    "                source_sense.append(data[0].attrib['sourceSense'])           \n",
    "                '''\n",
    "'''"
   ]
  }
 ],
 "metadata": {
  "kernelspec": {
   "display_name": "Python 3",
   "language": "python",
   "name": "python3"
  },
  "language_info": {
   "codemirror_mode": {
    "name": "ipython",
    "version": 3
   },
   "file_extension": ".py",
   "mimetype": "text/x-python",
   "name": "python",
   "nbconvert_exporter": "python",
   "pygments_lexer": "ipython3",
   "version": "3.5.5"
  }
 },
 "nbformat": 4,
 "nbformat_minor": 2
}
