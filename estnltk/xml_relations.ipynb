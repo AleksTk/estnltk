{
 "cells": [
  {
   "cell_type": "code",
   "execution_count": 1,
   "metadata": {
    "colab": {
     "base_uri": "https://localhost:8080/",
     "height": 324
    },
    "colab_type": "code",
    "id": "7f3nX38WIVQi",
    "outputId": "a5887bed-1182-4d44-891e-510bca48ccf3"
   },
   "outputs": [],
   "source": [
    "from lxml import etree\n",
    "import sqlite3"
   ]
  },
  {
   "cell_type": "code",
   "execution_count": 2,
   "metadata": {
    "colab": {},
    "colab_type": "code",
    "id": "GhHH2to3IVQn"
   },
   "outputs": [],
   "source": [
    "xml_db = 'wordnet/data/xml_synsets.db'"
   ]
  },
  {
   "cell_type": "code",
   "execution_count": 3,
   "metadata": {
    "colab": {},
    "colab_type": "code",
    "id": "Mirh74sqIVQq"
   },
   "outputs": [],
   "source": [
    "tree = etree.parse(\"estwn-et-2.0.0.beta.xml\")"
   ]
  },
  {
   "cell_type": "code",
   "execution_count": 4,
   "metadata": {
    "colab": {},
    "colab_type": "code",
    "id": "z_x8zcrwIVQs"
   },
   "outputs": [],
   "source": [
    "def create_connection(db_file):\n",
    "    \"\"\" create a database connection to the SQLite database\n",
    "        specified by db_file\n",
    "    :param db_file: database file\n",
    "    :return: Connection object or None\n",
    "    \"\"\"\n",
    "    try:\n",
    "        conn = sqlite3.connect(db_file)\n",
    "        return conn\n",
    "    except sqlite3.Error as e:\n",
    "        print(\"Connection error: [%s]\" % e)\n",
    "\n",
    "    return None\n",
    "\n",
    "def create_table(conn, create_table_sql ):\n",
    "    \"\"\" create a table from the create_table_sql statement\n",
    "    :param conn: Connection object\n",
    "    :param create_table_sql: a CREATE TABLE statement\n",
    "    :return:\n",
    "    \"\"\"\n",
    "    try:\n",
    "        c = conn.cursor()\n",
    "        c.execute(create_table_sql)\n",
    "    except sqlite3.Error as e:\n",
    "        print(\"Connection error while creating table: [%s]\" % e)\n",
    "\n",
    "def sqlTables(databaseLoc):\n",
    "\n",
    "    sql_create_synset_table = ''' CREATE TABLE IF NOT EXISTS XML_LexicalEntry(\n",
    "                                        \n",
    "                                        estwn_id TEXT NOT NULL,\n",
    "                                        synset TEXT NOT NULL,\n",
    "                                        lemma TEXT NOT NULL,\n",
    "                                        pos TEXT NOT NULL                                        \n",
    "                                                    ); '''\n",
    "    conn = create_connection(databaseLoc)\n",
    "    if conn is not None:\n",
    "        create_table(conn,sql_create_synset_table)\n",
    "    else:\n",
    "        print(\"Error! cannot create db conn.\")"
   ]
  },
  {
   "cell_type": "code",
   "execution_count": 45,
   "metadata": {
    "colab": {},
    "colab_type": "code",
    "id": "9lqarpmZIVQv"
   },
   "outputs": [],
   "source": [
    "\n",
    "def fetch_data(tree):\n",
    "    synsets = tree.xpath('/LexicalResource/Lexicon/LexicalEntry')\n",
    "    j=0\n",
    "    for sset in synsets:\n",
    "        if len(sset)>1:\n",
    "            for i in range(1, len(sset)):\n",
    "                estwnId_list.append(sset[i].attrib['synset'])\n",
    "                status_list.append(sset[i].attrib['status'])\n",
    "                sset_list.append(sset[i].attrib['id'])\n",
    "                pos_list.append(sset[0].attrib['partOfSpeech'])\n",
    "                lemma_list.append(sset[0].attrib['writtenForm'])\n",
    "        else:\n",
    "            try:\n",
    "                #print(\"try @\", j)\n",
    "                word = sset[0].attrib['writtenForm']\n",
    "                if \" \" in word:\n",
    "                    var = word.replace(\" \", \"_\")\n",
    "                    word = var\n",
    "                pos  = sset[0].attrib['partOfSpeech']\n",
    "                string = \"s-\" + word + \"-\" + pos\n",
    "                sset_list.append(string)\n",
    "                estwnId_list.append(sset.attrib['id'])\n",
    "                pos_list.append(\"None\")\n",
    "                lemma_list.append(\"None\")\n",
    "                status_list.append(\"None\")\n",
    "            except:\n",
    "                print(\"pass @\",j)\n",
    "                pass\n",
    "        j+=1\n",
    "        '''\n",
    "        for relations\n",
    "        \n",
    "        if len(sset) > 2:\n",
    "            for data in sset:\n",
    "                #print(data.attrib)\n",
    "                \n",
    "                status_list.append(data.attrib['target'])\n",
    "                conf_list.append((data.attrib['confidenceScore']))\n",
    "                source_sense.append(data[0].attrib['sourceSense'])           \n",
    "                '''"
   ]
  },
  {
   "cell_type": "code",
   "execution_count": 50,
   "metadata": {
    "colab": {},
    "colab_type": "code",
    "id": "KgvVYW3FIVQx"
   },
   "outputs": [],
   "source": [
    "def upload_data(db_file):\n",
    "    sqlTables(db_file)\n",
    "    conn = create_connection(db_file)\n",
    "    cursor = conn.cursor()\n",
    "    \n",
    "    with conn:\n",
    "        i=0\n",
    "        for i in range(len(sset_list)):\n",
    "              \n",
    "            \n",
    "            cursor.execute(\"INSERT INTO XML_LexicalEntry(estwn_id,synset, lemma, pos) VALUES(?,?,?,?)\"\\\n",
    "                                                        ,(estwnId_list[i],sset_list[i],lemma_list[i], pos_list[i], ))#, status))\n",
    "            conn.commit()"
   ]
  },
  {
   "cell_type": "code",
   "execution_count": 47,
   "metadata": {
    "colab": {},
    "colab_type": "code",
    "id": "N--HxUyVIVQz"
   },
   "outputs": [],
   "source": [
    "estwnId_list = []\n",
    "status_list=[]\n",
    "pos_list = []\n",
    "lemma_list = []\n",
    "sset_list=[]\n",
    "\n",
    "fetch_data(tree)"
   ]
  },
  {
   "cell_type": "code",
   "execution_count": 51,
   "metadata": {
    "colab": {},
    "colab_type": "code",
    "id": "bk7UJCbfIVQ4",
    "scrolled": true
   },
   "outputs": [
    {
     "ename": "KeyboardInterrupt",
     "evalue": "",
     "output_type": "error",
     "traceback": [
      "\u001b[0;31m---------------------------------------------------------------------------\u001b[0m",
      "\u001b[0;31mKeyboardInterrupt\u001b[0m                         Traceback (most recent call last)",
      "\u001b[0;32m<ipython-input-51-394e7ff24f26>\u001b[0m in \u001b[0;36m<module>\u001b[0;34m()\u001b[0m\n\u001b[0;32m----> 1\u001b[0;31m \u001b[0mupload_data\u001b[0m\u001b[0;34m(\u001b[0m\u001b[0mxml_db\u001b[0m\u001b[0;34m)\u001b[0m\u001b[0;34m\u001b[0m\u001b[0m\n\u001b[0m",
      "\u001b[0;32m<ipython-input-50-3770c080365b>\u001b[0m in \u001b[0;36mupload_data\u001b[0;34m(db_file)\u001b[0m\n\u001b[1;32m     10\u001b[0m \u001b[0;34m\u001b[0m\u001b[0m\n\u001b[1;32m     11\u001b[0m             \u001b[0mcursor\u001b[0m\u001b[0;34m.\u001b[0m\u001b[0mexecute\u001b[0m\u001b[0;34m(\u001b[0m\u001b[0;34m\"INSERT INTO XML_LexicalEntry(estwn_id,synset, lemma, pos) VALUES(?,?,?,?)\"\u001b[0m                                                        \u001b[0;34m,\u001b[0m\u001b[0;34m(\u001b[0m\u001b[0mestwnId_list\u001b[0m\u001b[0;34m[\u001b[0m\u001b[0mi\u001b[0m\u001b[0;34m]\u001b[0m\u001b[0;34m,\u001b[0m\u001b[0msset_list\u001b[0m\u001b[0;34m[\u001b[0m\u001b[0mi\u001b[0m\u001b[0;34m]\u001b[0m\u001b[0;34m,\u001b[0m\u001b[0mlemma_list\u001b[0m\u001b[0;34m[\u001b[0m\u001b[0mi\u001b[0m\u001b[0;34m]\u001b[0m\u001b[0;34m,\u001b[0m \u001b[0mpos_list\u001b[0m\u001b[0;34m[\u001b[0m\u001b[0mi\u001b[0m\u001b[0;34m]\u001b[0m\u001b[0;34m,\u001b[0m \u001b[0;34m)\u001b[0m\u001b[0;34m)\u001b[0m\u001b[0;31m#, status))\u001b[0m\u001b[0;34m\u001b[0m\u001b[0m\n\u001b[0;32m---> 12\u001b[0;31m             \u001b[0mconn\u001b[0m\u001b[0;34m.\u001b[0m\u001b[0mcommit\u001b[0m\u001b[0;34m(\u001b[0m\u001b[0;34m)\u001b[0m\u001b[0;34m\u001b[0m\u001b[0m\n\u001b[0m",
      "\u001b[0;31mKeyboardInterrupt\u001b[0m: "
     ]
    }
   ],
   "source": [
    "upload_data(xml_db)"
   ]
  },
  {
   "cell_type": "code",
   "execution_count": 48,
   "metadata": {},
   "outputs": [
    {
     "name": "stdout",
     "output_type": "stream",
     "text": [
      "133161\n",
      "133161\n",
      "133161\n",
      "133161\n",
      "133161\n"
     ]
    }
   ],
   "source": [
    "print(len(estwnId_list))\n",
    "print(len(status_list))\n",
    "print(len(pos_list))\n",
    "print(len(lemma_list))\n",
    "print(len(sset_list))"
   ]
  },
  {
   "cell_type": "code",
   "execution_count": 15,
   "metadata": {
    "colab": {
     "base_uri": "https://localhost:8080/",
     "height": 34
    },
    "colab_type": "code",
    "id": "s5Kj4HmLIVQ-",
    "outputId": "ded713ab-2063-4594-fe86-32d1c87c0f78"
   },
   "outputs": [
    {
     "name": "stdout",
     "output_type": "stream",
     "text": [
      "83557\n"
     ]
    }
   ],
   "source": [
    "synsets = tree.xpath('/LexicalResource/Lexicon/Synset')\n",
    "print(len(synsets))"
   ]
  },
  {
   "cell_type": "code",
   "execution_count": 0,
   "metadata": {
    "colab": {},
    "colab_type": "code",
    "id": "5O2TPrzUg1rK"
   },
   "outputs": [],
   "source": [
    "def"
   ]
  },
  {
   "cell_type": "code",
   "execution_count": 34,
   "metadata": {
    "colab": {
     "base_uri": "https://localhost:8080/",
     "height": 197
    },
    "colab_type": "code",
    "id": "hRelxmypIVRB",
    "outputId": "6002a776-f070-483b-d3c2-ece0da026771"
   },
   "outputs": [
    {
     "name": "stdout",
     "output_type": "stream",
     "text": [
      "1\n",
      "{'status': 'checked', '{http://purl.org/dc/elements/1.1/}type': 'C', 'ili': '', 'confidenceScore': '0.5', 'id': 'estwn-et-42258-a'}\n"
     ]
    }
   ],
   "source": [
    "sset = synsets[9]\n",
    "print(len(sset))\n",
    "print(sset.attrib)"
   ]
  },
  {
   "cell_type": "markdown",
   "metadata": {
    "colab_type": "text",
    "id": "HsChY6wVIVRE"
   },
   "source": [
    "The most important property of a synset is its identifier, status and confidence "
   ]
  },
  {
   "cell_type": "code",
   "execution_count": 44,
   "metadata": {
    "colab": {},
    "colab_type": "code",
    "id": "pGqPttJgIVRF"
   },
   "outputs": [
    {
     "name": "stdout",
     "output_type": "stream",
     "text": [
      "synset_id= estwn-et-42258-a\n",
      "synset_status= checked\n",
      "confidence_score= 0.5\n"
     ]
    }
   ],
   "source": [
    "synset=synsets[9]\n",
    "print('synset_id=', synset.attrib['id'])\n",
    "print('synset_status=', synset.attrib['status'])\n",
    "print('confidence_score=', synset.attrib['confidenceScore'])\n"
   ]
  },
  {
   "cell_type": "markdown",
   "metadata": {
    "colab_type": "text",
    "id": "z6hC6wfRIVRI"
   },
   "source": [
    "The first element of the synset chhild is its definition that links back to lexicon element senses"
   ]
  },
  {
   "cell_type": "code",
   "execution_count": 0,
   "metadata": {
    "colab": {},
    "colab_type": "code",
    "id": "DMScpA1-IVRI"
   },
   "outputs": [],
   "source": [
    "print(synset[0].tag)\n",
    "print('language = ', synset[0].attrib['language'])\n",
    "print('lecicon_sense = ', synset[0].attrib['sourceSense'])"
   ]
  },
  {
   "cell_type": "code",
   "execution_count": 0,
   "metadata": {
    "colab": {},
    "colab_type": "code",
    "id": "p-uc0B7XIVRM"
   },
   "outputs": [],
   "source": []
  },
  {
   "cell_type": "markdown",
   "metadata": {
    "colab_type": "text",
    "id": "_HAPL65ZIVRP"
   },
   "source": [
    "Next elements are relations between synsets spacified through target and relation type"
   ]
  },
  {
   "cell_type": "code",
   "execution_count": 0,
   "metadata": {
    "colab": {},
    "colab_type": "code",
    "id": "wZRUyCaqIVRQ"
   },
   "outputs": [],
   "source": [
    "i=0\n",
    "for sset in synsets:\n",
    "    if len(sset) > 2:\n",
    "        print(i)\n",
    "    elif len(sset) < 2:\n",
    "        print(\"< 2: \", i)\n",
    "    i+=1"
   ]
  },
  {
   "cell_type": "code",
   "execution_count": 0,
   "metadata": {
    "colab": {},
    "colab_type": "code",
    "id": "UnK82uuNIVRW"
   },
   "outputs": [],
   "source": [
    "synset = synsets[10]\n",
    "print(len(synset))\n",
    "print(synset[0].tag)\n",
    "print('rel_confidence=', synset.attrib['confidenceScore'])\n",
    "print('rel_type=', synset[0].attrib['relType'])\n",
    "print('rel_status=', synset[0].attrib['status'])\n",
    "print('rel_target=', synset[0].attrib['target'])\n",
    "print('synset_id=', synset.attrib['id'])\n",
    "print('sourceSense = ', synset[0].attrib['sourceSense'])\n"
   ]
  },
  {
   "cell_type": "markdown",
   "metadata": {
    "colab_type": "text",
    "id": "pCmNlCS4IVRa"
   },
   "source": [
    "You can access these elements by specifying relative paths"
   ]
  },
  {
   "cell_type": "code",
   "execution_count": 0,
   "metadata": {
    "colab": {},
    "colab_type": "code",
    "id": "YFAsoWVgIVRc"
   },
   "outputs": [],
   "source": [
    "definition = synset.xpath('Definition')\n",
    "relations = synset.xpath('SynsetRelation')\n",
    "print(len(definition),len(relations))"
   ]
  },
  {
   "cell_type": "code",
   "execution_count": 0,
   "metadata": {
    "colab": {},
    "colab_type": "code",
    "id": "EX-oOjtmIVRh"
   },
   "outputs": [],
   "source": [
    "print(len(synsets))\n",
    "print(len(entries))"
   ]
  },
  {
   "cell_type": "code",
   "execution_count": 0,
   "metadata": {
    "colab": {},
    "colab_type": "code",
    "id": "ga2C0wt7IVRj"
   },
   "outputs": [],
   "source": [
    "print(entry[1].attrib)\n",
    "print(synset[100].attrib)"
   ]
  },
  {
   "cell_type": "code",
   "execution_count": 0,
   "metadata": {
    "colab": {},
    "colab_type": "code",
    "id": "DhG3MtZqIVRm"
   },
   "outputs": [],
   "source": []
  },
  {
   "cell_type": "code",
   "execution_count": 0,
   "metadata": {
    "colab": {},
    "colab_type": "code",
    "id": "oJNrqNItIVRo"
   },
   "outputs": [],
   "source": []
  }
 ],
 "metadata": {
  "colab": {
   "name": "xml-relations.ipynb",
   "provenance": [],
   "toc_visible": true,
   "version": "0.3.2"
  },
  "kernelspec": {
   "display_name": "Python 3",
   "language": "python",
   "name": "python3"
  },
  "language_info": {
   "codemirror_mode": {
    "name": "ipython",
    "version": 3
   },
   "file_extension": ".py",
   "mimetype": "text/x-python",
   "name": "python",
   "nbconvert_exporter": "python",
   "pygments_lexer": "ipython3",
   "version": "3.5.5"
  }
 },
 "nbformat": 4,
 "nbformat_minor": 1
}
