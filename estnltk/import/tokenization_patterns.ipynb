{
 "cells": [
  {
   "cell_type": "markdown",
   "metadata": {},
   "source": [
    "# Import tokenization patterns from etTenTen patterns\n",
    "\n",
    "The file `ettenten_patterns.py` is downloaded from `https://github.com/kristiinavaik/ettenten-eeltootlus`."
   ]
  },
  {
   "cell_type": "code",
   "execution_count": 1,
   "metadata": {
    "collapsed": false
   },
   "outputs": [],
   "source": [
    "from ettenten_patterns import PATTERNS"
   ]
  },
  {
   "cell_type": "code",
   "execution_count": 2,
   "metadata": {
    "collapsed": false
   },
   "outputs": [
    {
     "name": "stdout",
     "output_type": "stream",
     "text": [
      "<function PATT_16 at 0x7f8950b7b048> None\n"
     ]
    }
   ],
   "source": [
    "patterns_and_replacements = []\n",
    "\n",
    "for pattern, replacement in PATTERNS:\n",
    "    if isinstance(replacement, str):\n",
    "        patterns_and_replacements.append((pattern.pattern.strip(), replacement))\n",
    "    else:\n",
    "        print (pattern, replacement)\n",
    "# üks musteritest (PATT_16) on hoopis funktsioon"
   ]
  },
  {
   "cell_type": "code",
   "execution_count": 3,
   "metadata": {
    "collapsed": false
   },
   "outputs": [
    {
     "data": {
      "text/plain": [
       "89"
      ]
     },
     "execution_count": 3,
     "metadata": {},
     "output_type": "execute_result"
    }
   ],
   "source": [
    "len(patterns_and_replacements)"
   ]
  },
  {
   "cell_type": "code",
   "execution_count": 4,
   "metadata": {
    "collapsed": false
   },
   "outputs": [
    {
     "name": "stdout",
     "output_type": "stream",
     "text": [
      "{'<p[^>', '</ignore>', '<+/>', '</s>', '<\\\\+[^:]+:<\\\\+/>', '<a>', '<]+)</s>', '<ignore>', '<\\\\+/>', '<b>', '</doc>', '</p>', '<s>', '<>'}\n",
      "{'<ignore>', '</s>', '</ignore>', '<s>', '<+/>'}\n"
     ]
    }
   ],
   "source": [
    "import re\n",
    "# vaatame millised tagid esinevad mustrite ja asenduste sees\n",
    "pattern_tag_set = set()\n",
    "replace_tag_set = set()\n",
    "for p, r in patterns_and_replacements:\n",
    "    for tag in re.finditer('<.*?>', p):\n",
    "        pattern_tag_set.add(tag.group())\n",
    "    for tag in re.finditer('<.*?>', r):\n",
    "        replace_tag_set.add(tag.group())\n",
    "print(pattern_tag_set)\n",
    "print(replace_tag_set)"
   ]
  },
  {
   "cell_type": "code",
   "execution_count": 5,
   "metadata": {
    "collapsed": false
   },
   "outputs": [
    {
     "name": "stdout",
     "output_type": "stream",
     "text": [
      "(\\d+)\\s?(±)\\s?((<+/>)?\\d+)\n"
     ]
    }
   ],
   "source": [
    "# mustrid, mis sisaldavad <+/>\n",
    "for p, r in patterns_and_replacements:\n",
    "    if '<+/>' in p:\n",
    "        print(p)"
   ]
  },
  {
   "cell_type": "code",
   "execution_count": 6,
   "metadata": {
    "collapsed": false
   },
   "outputs": [
    {
     "name": "stdout",
     "output_type": "stream",
     "text": [
      "pattern:\n",
      "(\\d+)\\s(\\.\\.\\.)\\s(\\d+)\n",
      "replacement: \\1<+/>\\2<+/>\\3\n",
      "--------------------------------------------------------------------------\n",
      "pattern:\n",
      "((\\s|\\s?[-–+]|<\\+/>)\\d+±?)\\s((?![0-9]+:)\\d+(,\\d+)?(\\s|<\\+/>|\\.)(?!aasta))\n",
      "replacement: \\1<+/>\\3\n",
      "--------------------------------------------------------------------------\n",
      "pattern:\n",
      "(\\d+<\\+/>\\d+)\\s\n",
      "    (\\d+(<\\+/>\\d+(<\\+/>\\d+)?)?)\n",
      "replacement: \\1<+/>\\2\n",
      "--------------------------------------------------------------------------\n",
      "pattern:\n",
      "(\\d+)\\s?(±)\\s?((<+/>)?\\d+)\n",
      "replacement: \\1<+/>\\2<+/>\\3\n",
      "--------------------------------------------------------------------------\n",
      "pattern:\n",
      "([0-9]+)\\s\n",
      "    ([–-])\\s?\n",
      "    ((?![0-9]+:)[0-9]+%?)\n",
      "replacement: \\1<+/>\\2<+/>\\3\n",
      "--------------------------------------------------------------------------\n",
      "pattern:\n",
      "(\\s[A-ZÕÜÖÄ][A-ZÕÜÖÄa-zõüöä]*)   # mistahes mittetühik\n",
      "    \\s         # kuni tühik\n",
      "    (&amp;)\\s  # ampersand ja kogu järgnev tühikuni\n",
      "    ([A-ZÕÜÖÄ])\n",
      "replacement: \\1<+/>\\2<+/>\\3\n",
      "--------------------------------------------------------------------------\n",
      "pattern:\n",
      "((<\\+/>)?\\d+([,–.]|<\\+/>)?\\d*\\^?-?|½)\\s\n",
      "    (?!j[au]|[oO]n|ca\\s|\\d{4}|a|e\\.|[Ee][id]|[tTMm]a|[mn]e|[ksg]a\\s|Nr\\s|lk.|vs\\s|pr\\.|jm\\.\\s|jt\\.?|jj\\.|in|Ja\\s|Et\\s|öö\\s|kl\\s|st\\s|ni\\s)\n",
      "    (([a-zõüöäμ]{1,2}[0-9.\\-]?%?³?²?|[a-zõüöä][A-ZÕÜÖÄ]{1,2}[a-zõüöä]?|[A-ZÕÜÖÄ][a-zõüöä]|[°º0o]C|C°|min|μM|spl|MHz|EEK|eur|eek|sec|\\$|€|fps|kcal|m\\^2)(\\s|\\s?-[a-zõüöä]{1,2}\\s|/))\n",
      "replacement: \\1<+/>\\4\n",
      "--------------------------------------------------------------------------\n",
      "pattern:\n",
      "((\\s|<\\+/>)(\\d+,)?\\d{1,3}\\.?)\\s(a\\.?\\s)\n",
      "replacement: \\1<+/>\\4\n",
      "--------------------------------------------------------------------------\n",
      "pattern:\n",
      "(\\d+[.%]?)\\s?\n",
      "    ([-–*])\\s\n",
      "    ((?![0-9]+:)\\d+[.%]?)\n",
      "replacement: \\1<+/>\\2<+/>\\3\n",
      "--------------------------------------------------------------------------\n",
      "pattern:\n",
      "(\\d+)\\s?(\\.?)\n",
      "    ([-–])\\s\n",
      "    ((?![0-9]+:)\\d+)\\s?(\\.?)\n",
      "replacement: \\1\\2<+/>\\3<+/>\\4\\5\n",
      "--------------------------------------------------------------------------\n",
      "pattern:\n",
      "((?!P\\.)[A-ZÕÜÖÄ][a-zõüöä]?)   # initsiaalid, millele võib\n",
      "    \\s?\\.\\s?                 # tühikute vahel järgneda punkt\n",
      "    ((?!S\\.)[A-ZÕÜÖÄ][a-zõüöä]?)   # initsiaalid, millele võib\n",
      "    \\s?\\.\\s?       # tühikute vahel järgneda punkt\n",
      "    ((\\.[A-ZÕÜÖÄ]\\.)?[A-ZÕÜÖÄ][a-zõüöä]+)   # perekonnanimi\n",
      "replacement: \\1.\\2.<+/>\\3\n",
      "--------------------------------------------------------------------------\n",
      "pattern:\n",
      "(\\s(?!Hr|Pr|Dr|Mrs?|Sm|Nn|Lp|Nt|Jr)[A-ZÕÜÖÄ][a-zõüöä]?)   # initsiaalid, millele võib\n",
      "    \\s?\\.\\s                 # tühikute vahel järgneda punkt\n",
      "    ((?!Ja|Ei)[A-ZÕÜÖÄ][a-zõüöä]+)   # perekonnanimi\n",
      "replacement: \\1.<+/>\\2\n",
      "--------------------------------------------------------------------------\n",
      "pattern:\n",
      "((\\s|>)\\d+)\\s:\\s?(\\d+)\n",
      "replacement: \\1<+/>:<+/>\\3\n",
      "--------------------------------------------------------------------------\n",
      "pattern:\n",
      "([0-9]+)\\s\n",
      "    (x|×)\\s\n",
      "    ([0-9]+)\n",
      "replacement: \\1<+/>\\2<+/>\\3\n",
      "--------------------------------------------------------------------------\n",
      "pattern:\n",
      "([0-9])\\s([+=≈])\\s([+–-]?[0-9])\n",
      "replacement: \\1<+/>\\2<+/>\\3\n",
      "--------------------------------------------------------------------------\n",
      "pattern:\n",
      "([\\s>][xX*])\\s([0-9])\n",
      "replacement: \\1<+/>\\2\n",
      "--------------------------------------------------------------------------\n",
      "pattern:\n",
      "(\\s[a-zõüöäA-ZÕÜÖÄ])\\s([=≈])\\s(-?[0-9])\n",
      "replacement: \\1<+/>\\2<+/>\\3\n",
      "--------------------------------------------------------------------------\n",
      "pattern:\n",
      "(\\s[A-ZÕÜÖÄ])\\s([0-9]+\\s)\n",
      "replacement: \\1<+/>\\2\n",
      "--------------------------------------------------------------------------\n",
      "pattern:\n",
      "((\\s|>)\\d+)\\s:\\s?(\\d+)\n",
      "replacement: \\1<+/>:<+/>\\3\n",
      "--------------------------------------------------------------------------\n",
      "pattern:\n",
      "(\\s?\\d+,?\\d*)\\s  # algab arvuga, mis võib olla täis- või ujukomaarv,\n",
      "    ([^\\s<]{1,3})\\s?       # millele järgneb vähemalt ühe korra miskit\n",
      "    /\\s?              # ja millele omakorda järgneb kaldkriips(/)\n",
      "    ([^\\s]{1,3}\\s)       # ja millele järgneb omakorda miskit\n",
      "replacement: \\1<+/>\\2/\\3\n",
      "--------------------------------------------------------------------------\n",
      "pattern:\n",
      "([-–][0-9]+)\\s([0-9]+<\\+/>)\n",
      "replacement: \\1<+/>\\2\n",
      "--------------------------------------------------------------------------\n"
     ]
    }
   ],
   "source": [
    "# asendused, mis sisaldavad '<+/>'\n",
    "for p, r in patterns_and_replacements:\n",
    "    if '<+/>' in r:\n",
    "        print('pattern:')\n",
    "        print(p)\n",
    "        print('replacement:', r)\n",
    "        print('--------------------------------------------------------------------------')"
   ]
  },
  {
   "cell_type": "code",
   "execution_count": 7,
   "metadata": {
    "collapsed": false
   },
   "outputs": [
    {
     "name": "stdout",
     "output_type": "stream",
     "text": [
      "(<ignore>\\s)?\n",
      "    (\\(\\s\n",
      "        (\n",
      "            ([A-ZÕÜÖÄa-zõüöä0-9,-<>[]/]{1,3}|\\+)\\s?\n",
      "        )*\n",
      "    \\s\\))\n",
      "    (\\s</ignore>)?\n",
      "-------------------------------------------------------\n",
      "(<ignore>[^>]+?)\n",
      "        <ignore>\\s([^>]+?)\\s</ignore>\n",
      "    ([^>]+?</ignore>)\n",
      "-------------------------------------------------------\n",
      "(?P<a>\\s</ignore>\\s,\\s)\n",
      "    (?P<b><ignore>)\n",
      "-------------------------------------------------------\n",
      "([0-9a-zõüöäA-ZÕÜÖÄ])(</ignore>)\n",
      "-------------------------------------------------------\n",
      "(?P<a>\\s</ignore>\\sja\\s)\n",
      "    (?P<b><ignore>)\n",
      "-------------------------------------------------------\n",
      "(<ignore>\\s\\(\\s([A-ZÕÜÖÄa-zõüöä]+\\s)+\\.\\s)</s>\\s<s>\\s<ignore>\\s(\\d+\\s\\)\\s)</ignore>\\s(</ignore>)\n",
      "-------------------------------------------------------\n",
      "(<ignore>((?!<ignore>).)+)<ignore>\\s(((?!</ignore>).)+)\\s</ignore>(((?!</ignore>).)+</ignore>)\n",
      "-------------------------------------------------------\n",
      "(?P<a>\\s</ignore>\\s)\n",
      "    (?P<b><ignore>)\n",
      "-------------------------------------------------------\n",
      "(\\s[^\\s]+)(</?ignore)\n",
      "-------------------------------------------------------\n",
      "(ignore>)([^\\s]+\\s)\n",
      "-------------------------------------------------------\n"
     ]
    }
   ],
   "source": [
    "# mustrid, mis sisaldavad 'ignore'\n",
    "for p, r in patterns_and_replacements:\n",
    "    if 'ignore' in p:\n",
    "        print(p)\n",
    "        print('-------------------------------------------------------')"
   ]
  },
  {
   "cell_type": "code",
   "execution_count": 8,
   "metadata": {
    "collapsed": false
   },
   "outputs": [
    {
     "name": "stdout",
     "output_type": "stream",
     "text": [
      "pattern:\n",
      "(\\([^)]+\\))?\n",
      "    (\\(              # viide algab suluga\n",
      "        (            # viite sees võivad olla\n",
      "            [^()]  # sümbolid, mis pole sulud\n",
      "        )+    # rekursiivselt analoogiline struktuur\n",
      "        \n",
      "    \\s?\\d+,?\\s?[a-zõüöäA-ZÕÜÖÄ%'\"\\]!]*  # arv (aasta)\n",
      "    (/\\d+)?[-']?\\s               # valikuline kaldkriipsuga aastaarv\n",
      "    (                       # valikulise grupi 2 algus\n",
      "        :\\s                 # koolon\n",
      "        \\d+                 # arvud, nt lk nr\n",
      "        ([-–]\\d+[\\.,]+)\\s     # kuni-märk ja arvud, nt lk 5-6\n",
      "    )?                      # grupi 2 lõpp\n",
      "    -?\\w*\\s?\\.?\\s?                     # lõpus tühik\n",
      "        # viide lõpeb aastaarvuga\n",
      "    \\))              # viide lõpeb suluga\n",
      "replacement: <ignore> \\2 </ignore>\n",
      "--------------------------------------------------------------------------\n",
      "pattern:\n",
      "(<ignore>\\s)?\n",
      "    (\\(\\s\n",
      "        (\n",
      "            ([A-ZÕÜÖÄa-zõüöä0-9,-<>[]/]{1,3}|\\+)\\s?\n",
      "        )*\n",
      "    \\s\\))\n",
      "    (\\s</ignore>)?\n",
      "replacement: <ignore> \\2 </ignore>\n",
      "--------------------------------------------------------------------------\n",
      "pattern:\n",
      "([^>])(\\s\\(\\s(\\d+\\s?\\.(\\s[a-zõüöä]+)?|[A-ZÕÜÖÄ]+\\s\\d+\\s?\\.)\\s\\))\n",
      "replacement: \\1 <ignore>\\2 </ignore>\n",
      "--------------------------------------------------------------------------\n",
      "pattern:\n",
      "([a-zõüöäA-ZÕÜÖÄ0-9]+\\s)(\\(\\s[A-ZÕÜÖÄ][a-zõüöä]+(-[A-ZÕÜÖÄ][a-zõüöä]+)?\\s?(,\\s[A-ZÕÜÖÄ][a-zõüöä]+\\s)?\\)\\s)\n",
      "replacement: \\1<ignore> \\2</ignore> \n",
      "--------------------------------------------------------------------------\n",
      "pattern:\n",
      "(</s>\\s<s>)(\\s[0-9]+\\s)(</s>\\s</p>)\n",
      "replacement: \\1 <ignore>\\2</ignore> \\3\n",
      "--------------------------------------------------------------------------\n",
      "pattern:\n",
      "(\\[\\s[0-9]+\\s\\])\n",
      "replacement: <ignore> \\1 </ignore>\n",
      "--------------------------------------------------------------------------\n",
      "pattern:\n",
      "(<p[^>]+>\\s)(<s>\\s[0-9]+\\s\\.\\s</s>)(\\s</p>)\n",
      "replacement: \\1<ignore> \\2 <ignore>\\3\n",
      "--------------------------------------------------------------------------\n",
      "pattern:\n",
      "(<s>\\s)(-?[0-9,%*]+)(\\s</s>\\s</p>)\n",
      "replacement: \\1<ignore> \\2 </ignore>\\3\n",
      "--------------------------------------------------------------------------\n",
      "pattern:\n",
      "(<s>\\s)([\\s.…0-9]+)(\\s</s>)\n",
      "replacement: \\1<ignore> \\2 </ignore>\\3\n",
      "--------------------------------------------------------------------------\n"
     ]
    }
   ],
   "source": [
    "# asendused, mis sisaldavad 'ignore'\n",
    "for p, r in patterns_and_replacements:\n",
    "    if 'ignore' in r:\n",
    "        print('pattern:')\n",
    "        print(p)\n",
    "        print('replacement:', r)\n",
    "        print('--------------------------------------------------------------------------')"
   ]
  },
  {
   "cell_type": "code",
   "execution_count": 9,
   "metadata": {
    "collapsed": false
   },
   "outputs": [
    {
     "name": "stdout",
     "output_type": "stream",
     "text": [
      "\\1 \\2 </s> <s> \\3\n",
      "\\1\\2 </s> <s> \\3\n",
      "\\2\\1\n",
      "\\2\\1\n",
      "\\1\n",
      "\\1\n",
      "\\1\\3\\2\\4\n",
      "\\1\\3\\4\n",
      "\\1\\3\\2\n",
      "\\1\\3\\4\n",
      "\\1\\2\n",
      "\\1\\3\n",
      "\\1\\2\\3\\4\n",
      "\\2\\1 \\4\n",
      "\\1.\\2\n",
      "\\1\\2\n",
      "\\1\\2\\3\n",
      "\\1.\\2\n",
      "<ignore> \\2 </ignore>\n",
      "<ignore> \\2 </ignore>\n",
      "\\1\\2\\3\n",
      "\\1<+/>\\2<+/>\\3\n",
      "\\1<+/>\\3\n",
      "\\1<+/>\\2\n",
      "\\1<+/>\\2<+/>\\3\n",
      "\\1<+/>\\2<+/>\\3\n",
      "\\1\\2\n",
      "\\1.\\2.\\3\n",
      "\\1<+/>\\2<+/>\\3\n",
      "\\1\\2\\3\n",
      "\\1\\2\\3\n",
      "\\1<+/>\\4\n",
      "\\1<+/>\\4\n",
      "\\1\\2\n",
      "\\1<+/>\\2<+/>\\3\n",
      "\\1\\2<+/>\\3<+/>\\4\\5\n",
      "\\1\\2\n",
      "\\1.\\2.<+/>\\3\n",
      "\\1.<+/>\\2\n",
      "\\1 \\2\n",
      "\\1\\2\\3\\4\\5\n",
      "\\1<+/>:<+/>\\3\n",
      ",\n",
      "\\1 \\2\n",
      " ja\n",
      "\\1\\2\n",
      "\\1 \\2\n",
      "\\1<+/>\\2<+/>\\3\n",
      "\\1\\3\\4\n",
      "\\1 <ignore>\\2 </ignore>\n",
      "\\1 \\2\n",
      "\\1<ignore> \\2</ignore> \n",
      "\\1,\\2,\\3\n",
      "\\1\\3\\4\n",
      "\\1\\3\\5\n",
      "\\1<+/>\\2<+/>\\3\n",
      "\\1<+/>\\2\n",
      "\\1<+/>\\2<+/>\\3\n",
      "\\1<+/>\\2\n",
      "\\1<+/>:<+/>\\3\n",
      "\\1\\3\n",
      "\\1\\2\n",
      "\\1\\2\\3\n",
      "\\1\\2\\3\n",
      "\\1\\3\n",
      "\\1\\2\n",
      "\\1\\3\n",
      "\\1<+/>\\2/\\3\n",
      "\\1 <ignore>\\2</ignore> \\3\n",
      "<ignore> \\1 </ignore>\n",
      "\n",
      "\\1 \\2\n",
      "\\1<ignore> \\2 <ignore>\\3\n",
      "\\1<+/>\\2\n",
      "\\1\\2\\3[\\4]\\5\n",
      "\\1\\2\\3[\\4]\\5\n",
      "\\1[\\2]\\3\n",
      "\\1 \\2\n",
      "\\1 \\2\n",
      "\\1<ignore> \\2 </ignore>\\3\n",
      "\\1<ignore> \\2 </ignore>\\3\n",
      "\\1.\\2.\\3\n",
      "\\1.\\2.\\3\n",
      "\\1:\\2\\3\n",
      "\\1\\2\\3\n",
      "\n",
      "\\1\n",
      "\\1\n",
      "\\1\n"
     ]
    }
   ],
   "source": [
    "# nimekiri kõikidest asendustest\n",
    "for p, r in patterns_and_replacements:\n",
    "    print(r)"
   ]
  },
  {
   "cell_type": "code",
   "execution_count": 10,
   "metadata": {
    "collapsed": false
   },
   "outputs": [
    {
     "data": {
      "text/plain": [
       "21"
      ]
     },
     "execution_count": 10,
     "metadata": {},
     "output_type": "execute_result"
    }
   ],
   "source": [
    "# asendused, mis sisaldavad '<+/>'\n",
    "len([r for p, r in patterns_and_replacements if '<+/>' in r])"
   ]
  },
  {
   "cell_type": "code",
   "execution_count": 11,
   "metadata": {
    "collapsed": false
   },
   "outputs": [
    {
     "data": {
      "text/plain": [
       "9"
      ]
     },
     "execution_count": 11,
     "metadata": {},
     "output_type": "execute_result"
    }
   ],
   "source": [
    "# asendused, mis sisaldavad 'ignore'\n",
    "len([r for p, r in patterns_and_replacements if 'ignore' in r])"
   ]
  },
  {
   "cell_type": "code",
   "execution_count": 12,
   "metadata": {
    "collapsed": false
   },
   "outputs": [
    {
     "data": {
      "text/plain": [
       "0"
      ]
     },
     "execution_count": 12,
     "metadata": {},
     "output_type": "execute_result"
    }
   ],
   "source": [
    "# asendused, mis sisaldavad '<+/>' ja 'ignore'\n",
    "len([r for p, r in patterns_and_replacements if '<+/>' in r and 'ignore' in r])"
   ]
  },
  {
   "cell_type": "code",
   "execution_count": 13,
   "metadata": {
    "collapsed": false
   },
   "outputs": [
    {
     "data": {
      "text/plain": [
       "35"
      ]
     },
     "execution_count": 13,
     "metadata": {},
     "output_type": "execute_result"
    }
   ],
   "source": [
    "# mustrid, mis sisaldavad '<s>' või '</s>'\n",
    "len([p for p, r in patterns_and_replacements if '<s>' in p or '</s>' in p])"
   ]
  }
 ],
 "metadata": {
  "kernelspec": {
   "display_name": "Python [py35]",
   "language": "python",
   "name": "Python [py35]"
  },
  "language_info": {
   "codemirror_mode": {
    "name": "ipython",
    "version": 3
   },
   "file_extension": ".py",
   "mimetype": "text/x-python",
   "name": "python",
   "nbconvert_exporter": "python",
   "pygments_lexer": "ipython3",
   "version": "3.5.3"
  }
 },
 "nbformat": 4,
 "nbformat_minor": 2
}
