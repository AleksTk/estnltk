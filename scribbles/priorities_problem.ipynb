{
 "cells": [
  {
   "cell_type": "code",
   "execution_count": 1,
   "metadata": {
    "collapsed": false
   },
   "outputs": [],
   "source": [
    "from estnltk import Text\n",
    "\n",
    "from pandas import read_csv\n",
    "from estnltk.taggers import RegexTagger\n",
    "\n",
    "from estnltk.spans import Span, SpanList\n",
    "from estnltk.layer import Layer\n",
    "from estnltk.finite_grammar.layer_graph import print_nodes"
   ]
  },
  {
   "cell_type": "code",
   "execution_count": 2,
   "metadata": {
    "collapsed": true
   },
   "outputs": [],
   "source": [
    "with open(\"examples_.txt\", \"r\") as fin:\n",
    "    lines = fin.readlines()\n",
    "lines = [line.strip() for line in lines]    "
   ]
  },
  {
   "cell_type": "code",
   "execution_count": 3,
   "metadata": {
    "collapsed": false,
    "scrolled": true
   },
   "outputs": [
    {
     "data": {
      "text/plain": [
       "['PSA 03042012 - 0,83ng/ml perearsti poolt .',\n",
       " 'PSA 2010. 3ng/ml, PSA 2012. 1,53ng/ml . - Bx va',\n",
       " 'PSA 20105,99 ja 26.01.2012 uuesti .',\n",
       " 'PSA 2011 oli 0 , 4 nG7ml .',\n",
       " 'PSA 201222,25ng/ml',\n",
       " 'PSA 2 aastajooksuldünaamikata , eriuuring',\n",
       " ':psa 16,81! ! ! ! ! ,',\n",
       " 'Happe-aluse tasakaal 6.0 ( 5.0 .. 8.0 )',\n",
       " 'loli 25 mgx1 ja Monoprili 10 mg Kolesterool 2011a',\n",
       " 'Kolesterool 1k aastas .',\n",
       " 'Kõrgenenud kolesterool 2a ( mõõdetud ). Ei pea dieetist kinni',\n",
       " 'Kontr Verekol 08.12a Per-le juurde .',\n",
       " 's vas munajuha kasvaja op , günekol 3a tagssi .',\n",
       " '08.11.2010 PSA 13.12.2011 7,2ng/ml PSADT on väike .',\n",
       " 'Rütmihäire tsüklipikkus 330 msek',\n",
       " 'Loote pikkus : \\xa0 3 mm - vastab\\xa0 5 nädalat 6 päeva.',\n",
       " 'Põhjendus: PALAT 10 # ALAT maksanäitaja',\n",
       " 'ärme vähk 2007 aastast cT3N0M0PSA 59ng/ml .',\n",
       " 'PSA 8,5( püsib aastaid selles väärtus',\n",
       " 'S , P-PSA 4.130( <4.100 µg/L )',\n",
       " 'PSA 5,2.',\n",
       " 'Kolesterool oli 7,9 mmol/l 0',\n",
       " 'kolesterool 6.4.',\n",
       " 'Kolesterool 5,2 mmol/l - esialgu dieet .',\n",
       " 'SK 3900 g , SP 51 cm .',\n",
       " 'Lapse kaal 5,4 kg/82 mg/0,82 ml i/m .',\n",
       " 'Kehakaal 80,2 kg , KMI 25,9',\n",
       " 'S , P-NT-proBNP 668 ( <125 pg/mL ) S , P-Albumiin 43 ( 35 .. 52 g/L ) S , P-ALAT 25 ( <33 U/L )',\n",
       " 'PSA 6,5 ng/ml, eesnäärme maht67cm3',\n",
       " 'rjeldus : Siinusbradükardia Fr 587min']"
      ]
     },
     "execution_count": 3,
     "metadata": {},
     "output_type": "execute_result"
    }
   ],
   "source": [
    "lines"
   ]
  },
  {
   "cell_type": "code",
   "execution_count": 4,
   "metadata": {
    "collapsed": true
   },
   "outputs": [],
   "source": [
    "vocabulary = 'regexes_fixed.csv'"
   ]
  },
  {
   "cell_type": "code",
   "execution_count": 5,
   "metadata": {
    "collapsed": true
   },
   "outputs": [],
   "source": [
    "vocabulary = read_csv(vocabulary, na_filter=False, index_col=False)"
   ]
  },
  {
   "cell_type": "code",
   "execution_count": 6,
   "metadata": {
    "collapsed": false
   },
   "outputs": [],
   "source": [
    "regex_tagger = RegexTagger(vocabulary=vocabulary[:30],\n",
    "                                    attributes=['regex_type', 'value', 'grammar_symbol'],\n",
    "                                    conflict_resolving_strategy='ALL',\n",
    "                                    overlapped=True,\n",
    "                                    layer_name='type')"
   ]
  },
  {
   "cell_type": "code",
   "execution_count": 7,
   "metadata": {
    "collapsed": true
   },
   "outputs": [],
   "source": [
    "spaces = vocabulary[30:]"
   ]
  },
  {
   "cell_type": "code",
   "execution_count": 8,
   "metadata": {
    "collapsed": true
   },
   "outputs": [],
   "source": [
    "space_tagger = RegexTagger(layer_name='space',\n",
    "                           vocabulary = spaces,\n",
    "                           attributes = [],\n",
    "                           conflict_resolving_strategy='MAX',\n",
    "                           overlapped=True\n",
    "                         )"
   ]
  },
  {
   "cell_type": "code",
   "execution_count": 9,
   "metadata": {
    "collapsed": true
   },
   "outputs": [],
   "source": [
    "from estnltk.taggers.gaps_tagging.gaps_tagger import GapsTagger\n",
    "gaps_tagger = GapsTagger(layer_name='random_text_layer',\n",
    "                         input_layers=['space', 'type'],\n",
    "                         attributes=['no_idea', 'grammar_symbol'],\n",
    "                         decorator=lambda t: {'no_idea':'text', 'grammar_symbol':'RANDOM_TEXT'})"
   ]
  },
  {
   "cell_type": "code",
   "execution_count": 10,
   "metadata": {
    "collapsed": true
   },
   "outputs": [],
   "source": [
    "from estnltk.taggers.merge_tagging.merge_tagger import MergeTagger\n",
    "merge_tagger = MergeTagger(layer_name='grammar_tags',\n",
    "                           input_layers=['type', 'random_text_layer'],\n",
    "                           attributes=('grammar_symbol', 'value', 'regex_type'))"
   ]
  },
  {
   "cell_type": "code",
   "execution_count": 11,
   "metadata": {
    "collapsed": true
   },
   "outputs": [],
   "source": [
    "text = Text(\"PSA 0,83ng/ml\")"
   ]
  },
  {
   "cell_type": "code",
   "execution_count": 12,
   "metadata": {
    "collapsed": false
   },
   "outputs": [],
   "source": [
    "regex_tagger.tag(text)\n",
    "space_tagger.tag(text)\n",
    "gaps_tagger.tag(text)\n",
    "merge_tagger.tag(text)"
   ]
  },
  {
   "cell_type": "code",
   "execution_count": 13,
   "metadata": {
    "collapsed": true
   },
   "outputs": [],
   "source": [
    "from estnltk.finite_grammar.trees import Rule, Grammar"
   ]
  },
  {
   "cell_type": "code",
   "execution_count": 14,
   "metadata": {
    "collapsed": false
   },
   "outputs": [],
   "source": [
    "rules = []\n",
    "rules.append(Rule('QNUMBER', 'NUMBER UNIT', priority=0, group='g1'))\n",
    "\n",
    "rules.append(Rule('QNUMBER', 'NUMBER', priority=1, group='g1'))\n",
    "\n",
    "rules.append(Rule('QNUMBER', 'DATENUM', priority=0))\n",
    "\n",
    "rules.append(Rule('MEASUREMENT', 'MO DATE QNUMBER', priority=0, group='g2')), \n",
    "\n",
    "rules.append(Rule('MEASUREMENT', 'MO QNUMBER', priority=1 , group='g2')),\n",
    "\n",
    "rules.append(Rule('TRASH', 'RUBBISH NUMBER',priority=1, group='g3' ))\n",
    "rules.append(Rule('TRASH', 'RUBBISH MO NUMBER', priority=0, group='g3'))\n",
    "rules.append(Rule('TRASH', 'RUBBISH', priority=2, group='g3'))\n",
    "rules.append(Rule('TRASH', 'MO DATE', priority=2))\n",
    "\n",
    "grammar = Grammar(start_symbols=['MEASUREMENT', 'TRASH', 'QNUMBER', 'NUMBER'], rules=rules)"
   ]
  },
  {
   "cell_type": "code",
   "execution_count": 15,
   "metadata": {
    "collapsed": true
   },
   "outputs": [],
   "source": [
    "from estnltk.finite_grammar.layer_graph import layer_to_graph, plot_graph\n",
    "from estnltk.finite_grammar.grammar import parse_graph\n",
    "from estnltk.finite_grammar.layer_graph import graph_to_parse_trees"
   ]
  },
  {
   "cell_type": "code",
   "execution_count": 16,
   "metadata": {
    "collapsed": false
   },
   "outputs": [
    {
     "data": {
      "text/html": [
       "<h4>Layer</h4>\n",
       "<table border=\"1\" class=\"dataframe\">\n",
       "  <thead>\n",
       "    <tr style=\"text-align: right;\">\n",
       "      <th>layer name</th>\n",
       "      <th>attributes</th>\n",
       "      <th>parent</th>\n",
       "      <th>enveloping</th>\n",
       "      <th>ambiguous</th>\n",
       "      <th>span count</th>\n",
       "    </tr>\n",
       "  </thead>\n",
       "  <tbody>\n",
       "    <tr>\n",
       "      <td>grammar_tags</td>\n",
       "      <td>grammar_symbol, value, regex_type</td>\n",
       "      <td>None</td>\n",
       "      <td>None</td>\n",
       "      <td>False</td>\n",
       "      <td>5</td>\n",
       "    </tr>\n",
       "  </tbody>\n",
       "</table>\n",
       "<table border=\"1\" class=\"dataframe\">\n",
       "  <thead>\n",
       "    <tr style=\"text-align: right;\">\n",
       "      <th>text</th>\n",
       "      <th>grammar_symbol</th>\n",
       "      <th>value</th>\n",
       "      <th>regex_type</th>\n",
       "    </tr>\n",
       "  </thead>\n",
       "  <tbody>\n",
       "    <tr>\n",
       "      <td>PSA</td>\n",
       "      <td>MO</td>\n",
       "      <td>psa</td>\n",
       "      <td>measurement_object</td>\n",
       "    </tr>\n",
       "    <tr>\n",
       "      <td>0,83</td>\n",
       "      <td>NUMBER</td>\n",
       "      <td>0.83</td>\n",
       "      <td>anynumber</td>\n",
       "    </tr>\n",
       "    <tr>\n",
       "      <td>ng/ml</td>\n",
       "      <td>UNIT</td>\n",
       "      <td>ng/ml</td>\n",
       "      <td>psa_unit</td>\n",
       "    </tr>\n",
       "    <tr>\n",
       "      <td>g</td>\n",
       "      <td>UNIT</td>\n",
       "      <td>x</td>\n",
       "      <td>kaal_unit</td>\n",
       "    </tr>\n",
       "    <tr>\n",
       "      <td>m</td>\n",
       "      <td>UNIT</td>\n",
       "      <td>x</td>\n",
       "      <td>pikkus_unit</td>\n",
       "    </tr>\n",
       "  </tbody>\n",
       "</table>"
      ],
      "text/plain": [
       "<estnltk.layer.Layer at 0x7f3b0a1d5278>"
      ]
     },
     "execution_count": 16,
     "metadata": {},
     "output_type": "execute_result"
    }
   ],
   "source": [
    "text['grammar_tags']"
   ]
  },
  {
   "cell_type": "code",
   "execution_count": 17,
   "metadata": {
    "collapsed": false
   },
   "outputs": [
    {
     "data": {
      "image/png": "[encoded data removed]",
      "text/plain": [
       "<matplotlib.figure.Figure at 0x7f3b09f978d0>"
      ]
     },
     "metadata": {},
     "output_type": "display_data"
    }
   ],
   "source": [
    "graph = layer_to_graph(text['grammar_tags'])\n",
    "parse_graph(graph, grammar, conflict_resolving=False, debug=False)\n",
    "\n",
    "plot_graph(graph_to_parse_trees( graph), 5)"
   ]
  },
  {
   "cell_type": "code",
   "execution_count": 18,
   "metadata": {
    "collapsed": false
   },
   "outputs": [
    {
     "ename": "AttributeError",
     "evalue": "'TerminalNode' object has no attribute 'group'",
     "output_type": "error",
     "traceback": [
      "\u001b[0;31m---------------------------------------------------------------------------\u001b[0m",
      "\u001b[0;31mAttributeError\u001b[0m                            Traceback (most recent call last)",
      "\u001b[0;32m<ipython-input-18-5d76636254d8>\u001b[0m in \u001b[0;36m<module>\u001b[0;34m()\u001b[0m\n\u001b[1;32m      1\u001b[0m \u001b[0mgraph\u001b[0m \u001b[0;34m=\u001b[0m \u001b[0mlayer_to_graph\u001b[0m\u001b[0;34m(\u001b[0m\u001b[0mtext\u001b[0m\u001b[0;34m[\u001b[0m\u001b[0;34m'grammar_tags'\u001b[0m\u001b[0;34m]\u001b[0m\u001b[0;34m)\u001b[0m\u001b[0;34m\u001b[0m\u001b[0m\n\u001b[0;32m----> 2\u001b[0;31m \u001b[0mparse_graph\u001b[0m\u001b[0;34m(\u001b[0m\u001b[0mgraph\u001b[0m\u001b[0;34m,\u001b[0m \u001b[0mgrammar\u001b[0m\u001b[0;34m,\u001b[0m \u001b[0mconflict_resolving\u001b[0m\u001b[0;34m=\u001b[0m\u001b[0;32mTrue\u001b[0m\u001b[0;34m,\u001b[0m \u001b[0mdebug\u001b[0m\u001b[0;34m=\u001b[0m\u001b[0;32mFalse\u001b[0m\u001b[0;34m)\u001b[0m\u001b[0;34m\u001b[0m\u001b[0m\n\u001b[0m\u001b[1;32m      3\u001b[0m \u001b[0;34m\u001b[0m\u001b[0m\n\u001b[1;32m      4\u001b[0m \u001b[0mplot_graph\u001b[0m\u001b[0;34m(\u001b[0m\u001b[0mgraph_to_parse_trees\u001b[0m\u001b[0;34m(\u001b[0m \u001b[0mgraph\u001b[0m\u001b[0;34m)\u001b[0m\u001b[0;34m,\u001b[0m \u001b[0;36m5\u001b[0m\u001b[0;34m)\u001b[0m\u001b[0;34m\u001b[0m\u001b[0m\n",
      "\u001b[0;32m~/Desktop/estnltk/estnltk/finite_grammar/grammar.py\u001b[0m in \u001b[0;36mparse_graph\u001b[0;34m(graph, grammar, max_depth, conflict_resolving, debug)\u001b[0m\n\u001b[1;32m    220\u001b[0m \u001b[0;34m\u001b[0m\u001b[0m\n\u001b[1;32m    221\u001b[0m     \u001b[0;32mif\u001b[0m \u001b[0mconflict_resolving\u001b[0m\u001b[0;34m:\u001b[0m\u001b[0;34m\u001b[0m\u001b[0m\n\u001b[0;32m--> 222\u001b[0;31m         \u001b[0mgraph\u001b[0m \u001b[0;34m=\u001b[0m \u001b[0mresolve_conflicts\u001b[0m\u001b[0;34m(\u001b[0m\u001b[0mgraph\u001b[0m\u001b[0;34m,\u001b[0m \u001b[0mgrammar\u001b[0m\u001b[0;34m.\u001b[0m\u001b[0mstart_symbols\u001b[0m\u001b[0;34m)\u001b[0m\u001b[0;34m\u001b[0m\u001b[0m\n\u001b[0m\u001b[1;32m    223\u001b[0m     \u001b[0;32mreturn\u001b[0m \u001b[0mgraph\u001b[0m\u001b[0;34m\u001b[0m\u001b[0m\n\u001b[1;32m    224\u001b[0m \u001b[0;34m\u001b[0m\u001b[0m\n",
      "\u001b[0;32m~/Desktop/estnltk/estnltk/finite_grammar/grammar.py\u001b[0m in \u001b[0;36mresolve_conflicts\u001b[0;34m(graph, node_names)\u001b[0m\n\u001b[1;32m    230\u001b[0m         \u001b[0;32mif\u001b[0m \u001b[0mnode\u001b[0m\u001b[0;34m.\u001b[0m\u001b[0mname\u001b[0m \u001b[0;32min\u001b[0m \u001b[0mstart_symbols\u001b[0m\u001b[0;34m:\u001b[0m\u001b[0;34m\u001b[0m\u001b[0m\n\u001b[1;32m    231\u001b[0m             \u001b[0;32mfor\u001b[0m \u001b[0mterminal\u001b[0m \u001b[0;32min\u001b[0m \u001b[0mnode\u001b[0m\u001b[0;34m.\u001b[0m\u001b[0mterminals\u001b[0m\u001b[0;34m:\u001b[0m\u001b[0;34m\u001b[0m\u001b[0m\n\u001b[0;32m--> 232\u001b[0;31m                 \u001b[0mterminals_to_nodes\u001b[0m\u001b[0;34m[\u001b[0m\u001b[0;34m(\u001b[0m\u001b[0mterminal\u001b[0m\u001b[0;34m,\u001b[0m \u001b[0mnode\u001b[0m\u001b[0;34m.\u001b[0m\u001b[0mgroup\u001b[0m\u001b[0;34m)\u001b[0m\u001b[0;34m]\u001b[0m\u001b[0;34m.\u001b[0m\u001b[0madd\u001b[0m\u001b[0;34m(\u001b[0m\u001b[0mnode\u001b[0m\u001b[0;34m)\u001b[0m\u001b[0;34m\u001b[0m\u001b[0m\n\u001b[0m\u001b[1;32m    233\u001b[0m \u001b[0;34m\u001b[0m\u001b[0m\n\u001b[1;32m    234\u001b[0m     \u001b[0mconflicting\u001b[0m \u001b[0;34m=\u001b[0m \u001b[0;34m{\u001b[0m\u001b[0;34m}\u001b[0m\u001b[0;34m\u001b[0m\u001b[0m\n",
      "\u001b[0;31mAttributeError\u001b[0m: 'TerminalNode' object has no attribute 'group'"
     ]
    }
   ],
   "source": [
    "graph = layer_to_graph(text['grammar_tags'])\n",
    "parse_graph(graph, grammar, conflict_resolving=True, debug=False)\n",
    "\n",
    "plot_graph(graph_to_parse_trees( graph), 5)"
   ]
  },
  {
   "cell_type": "code",
   "execution_count": null,
   "metadata": {
    "collapsed": true
   },
   "outputs": [],
   "source": []
  },
  {
   "cell_type": "code",
   "execution_count": null,
   "metadata": {
    "collapsed": true
   },
   "outputs": [],
   "source": []
  }
 ],
 "metadata": {
  "anaconda-cloud": {},
  "kernelspec": {
   "display_name": "Python [conda root]",
   "language": "python",
   "name": "conda-root-py"
  },
  "language_info": {
   "codemirror_mode": {
    "name": "ipython",
    "version": 3
   },
   "file_extension": ".py",
   "mimetype": "text/x-python",
   "name": "python",
   "nbconvert_exporter": "python",
   "pygments_lexer": "ipython3",
   "version": "3.5.4"
  }
 },
 "nbformat": 4,
 "nbformat_minor": 2
}
