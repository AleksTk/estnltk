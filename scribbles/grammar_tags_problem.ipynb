{
 "cells": [
  {
   "cell_type": "code",
   "execution_count": 1,
   "metadata": {},
   "outputs": [],
   "source": [
    "from estnltk import Text\n",
    "\n",
    "from pandas import read_csv\n",
    "from estnltk.taggers import RegexTagger\n",
    "\n",
    "from estnltk.spans import Span, SpanList\n",
    "from estnltk.layer import Layer\n",
    "from estnltk.finite_grammar.layer_graph import print_nodes\n",
    "import csv\n",
    "from estnltk.finite_grammar import PhraseListTagger\n",
    "\n",
    "from estnltk.taggers.gaps_tagging.gaps_tagger import GapsTagger\n",
    "from estnltk.taggers.merge_tagging.merge_tagger import MergeTagger\n",
    "\n",
    "from estnltk.layer_operations.flatten import flatten\n",
    "\n",
    "from estnltk.finite_grammar.layer_graph import layer_to_graph, plot_graph\n",
    "from estnltk.finite_grammar.grammar import parse_graph\n",
    "\n",
    "import re"
   ]
  },
  {
   "cell_type": "code",
   "execution_count": null,
   "metadata": {},
   "outputs": [],
   "source": []
  },
  {
   "cell_type": "code",
   "execution_count": 2,
   "metadata": {},
   "outputs": [],
   "source": [
    "specification = [\n",
    "    ('parem',),\n",
    "    ('vasak',), \n",
    "    ('eesmine',),\n",
    "    ('tagumine',),\n",
    "    ('külgmine',)\n",
    "    ]"
   ]
  },
  {
   "cell_type": "code",
   "execution_count": 3,
   "metadata": {},
   "outputs": [],
   "source": [
    "bodypart = [\n",
    "    ('neer',),\n",
    "    ('põlv',), \n",
    "    ('kops',),\n",
    "    ('aju',),\n",
    "    ('külgvatsake',)\n",
    "    ]"
   ]
  },
  {
   "cell_type": "code",
   "execution_count": 4,
   "metadata": {},
   "outputs": [],
   "source": [
    "def specification_decorator(text, span, phrase):\n",
    "    return {'match': phrase, 'grammar_symbol': 'SPECIFICATION', \n",
    "            'form': str(span.form), 'partofspeech': str(span.partofspeech)}"
   ]
  },
  {
   "cell_type": "code",
   "execution_count": 5,
   "metadata": {},
   "outputs": [],
   "source": [
    "specification_tagger = PhraseListTagger(layer_name='specification',\n",
    "                              input_layer = 'morph_analysis',\n",
    "                               input_attribute='lemma',\n",
    "                             phrase_list=specification,\n",
    "                               decorator = specification_decorator,\n",
    "                             attributes=('match', 'grammar_symbol', 'form', 'partofspeech'),\n",
    "                             conflict_resolving_strategy= 'MAX'\n",
    "                              )"
   ]
  },
  {
   "cell_type": "code",
   "execution_count": 6,
   "metadata": {},
   "outputs": [],
   "source": [
    "def bodypart_decorator(text, span, phrase):\n",
    "    return {'match': phrase, 'grammar_symbol': 'BODYPART', \n",
    "            'form': str(span.form), 'partofspeech': str(span.partofspeech)}"
   ]
  },
  {
   "cell_type": "code",
   "execution_count": 7,
   "metadata": {},
   "outputs": [],
   "source": [
    "bodypart_tagger = PhraseListTagger(layer_name='bodypart',\n",
    "                              input_layer = 'morph_analysis',\n",
    "                               input_attribute='lemma',\n",
    "                             phrase_list=bodypart,\n",
    "                               decorator = bodypart_decorator,\n",
    "                             attributes=('match', 'grammar_symbol', 'form', 'partofspeech'),\n",
    "                             conflict_resolving_strategy= 'MAX'\n",
    "                              )"
   ]
  },
  {
   "cell_type": "code",
   "execution_count": 8,
   "metadata": {},
   "outputs": [],
   "source": [
    "taggers = {}\n",
    "taggers['bodypart_tagger'] = bodypart_tagger\n",
    "#taggers['location_tagger'] = location_tagger\n",
    "taggers['specification_tagger'] = specification_tagger"
   ]
  },
  {
   "cell_type": "code",
   "execution_count": 9,
   "metadata": {},
   "outputs": [],
   "source": [
    "def gaps_decorator(text:str):\n",
    "    return {'gap_length':len(text), 'grammar_symbol': 'RANDOM_TEXT'}"
   ]
  },
  {
   "cell_type": "code",
   "execution_count": 10,
   "metadata": {},
   "outputs": [],
   "source": [
    "def trim(text):\n",
    "    t_1 = re.sub('\\s*', '', text)\n",
    "    t_1 = re.sub('\\s+(on|oli)\\s+', '', t_1)\n",
    "    \n",
    "    return t_1"
   ]
  },
  {
   "cell_type": "code",
   "execution_count": 11,
   "metadata": {},
   "outputs": [],
   "source": [
    "gaps_tagger = GapsTagger(layer_name='gaps',\n",
    "                         input_layers=['bodypart', \n",
    "                                       #'location_tagger',\n",
    "                                       'specification'\n",
    "                                       ],\n",
    "                         trim=trim, \n",
    "                         decorator=gaps_decorator,\n",
    "                         attributes=['grammar_symbol'])"
   ]
  },
  {
   "cell_type": "code",
   "execution_count": 12,
   "metadata": {},
   "outputs": [],
   "source": [
    "merge_tagger = MergeTagger(layer_name='grammar_tags',\n",
    "                           input_layers=['bodypart',\n",
    "                                       #'location_tagger',\n",
    "                                         'specification',\n",
    "                                      'gaps'],\n",
    "                           attributes=('grammar_symbol', 'value', 'form', 'partofspeech'))"
   ]
  },
  {
   "cell_type": "code",
   "execution_count": 13,
   "metadata": {},
   "outputs": [],
   "source": [
    "def tag_sent(sent):\n",
    "    sent = Text(sent)\n",
    "    sent.analyse('morphology')\n",
    "    for tagger in taggers:\n",
    "        taggers[tagger].tag(sent)\n",
    "        #temp_layer = taggers[tagger].tag(sent, return_layer = True)\n",
    "        #sent[tagger] = flatten(temp_layer, tagger)\n",
    "        #sent[tagger] = temp_layer\n",
    "    gaps_tagger.tag(sent)\n",
    "    merge_tagger.tag(sent)\n",
    "    return sent"
   ]
  },
  {
   "cell_type": "code",
   "execution_count": 14,
   "metadata": {},
   "outputs": [],
   "source": [
    "i = 'luulised struktuurid nähtavas osas iseärasusteta'"
   ]
  },
  {
   "cell_type": "code",
   "execution_count": 15,
   "metadata": {},
   "outputs": [],
   "source": [
    "j = tag_sent(i)"
   ]
  },
  {
   "cell_type": "code",
   "execution_count": 16,
   "metadata": {},
   "outputs": [
    {
     "data": {
      "text/html": [
       "<table border=\"1\" class=\"dataframe\">\n",
       "  <thead>\n",
       "    <tr style=\"text-align: right;\">\n",
       "      <th>text</th>\n",
       "    </tr>\n",
       "  </thead>\n",
       "  <tbody>\n",
       "    <tr>\n",
       "      <td>luulised struktuurid nähtavas osas iseärasusteta</td>\n",
       "    </tr>\n",
       "  </tbody>\n",
       "</table>\n",
       "<table border=\"1\" class=\"dataframe\">\n",
       "  <thead>\n",
       "    <tr style=\"text-align: right;\">\n",
       "      <th>layer name</th>\n",
       "      <th>attributes</th>\n",
       "      <th>parent</th>\n",
       "      <th>enveloping</th>\n",
       "      <th>ambiguous</th>\n",
       "      <th>span count</th>\n",
       "    </tr>\n",
       "  </thead>\n",
       "  <tbody>\n",
       "    <tr>\n",
       "      <td>sentences</td>\n",
       "      <td></td>\n",
       "      <td>None</td>\n",
       "      <td>words</td>\n",
       "      <td>False</td>\n",
       "      <td>1</td>\n",
       "    </tr>\n",
       "    <tr>\n",
       "      <td>words</td>\n",
       "      <td>normalized_form</td>\n",
       "      <td>None</td>\n",
       "      <td>None</td>\n",
       "      <td>False</td>\n",
       "      <td>5</td>\n",
       "    </tr>\n",
       "    <tr>\n",
       "      <td>morph_analysis</td>\n",
       "      <td>lemma, root, root_tokens, ending, clitic, form, partofspeech</td>\n",
       "      <td>words</td>\n",
       "      <td>None</td>\n",
       "      <td>True</td>\n",
       "      <td>5</td>\n",
       "    </tr>\n",
       "    <tr>\n",
       "      <td>bodypart</td>\n",
       "      <td>match, grammar_symbol, form, partofspeech</td>\n",
       "      <td>None</td>\n",
       "      <td>morph_analysis</td>\n",
       "      <td>False</td>\n",
       "      <td>0</td>\n",
       "    </tr>\n",
       "    <tr>\n",
       "      <td>gaps</td>\n",
       "      <td>grammar_symbol</td>\n",
       "      <td>None</td>\n",
       "      <td>morph_analysis</td>\n",
       "      <td>False</td>\n",
       "      <td>1</td>\n",
       "    </tr>\n",
       "    <tr>\n",
       "      <td>grammar_tags</td>\n",
       "      <td>grammar_symbol, value, form, partofspeech</td>\n",
       "      <td>None</td>\n",
       "      <td>morph_analysis</td>\n",
       "      <td>False</td>\n",
       "      <td>1</td>\n",
       "    </tr>\n",
       "    <tr>\n",
       "      <td>specification</td>\n",
       "      <td>match, grammar_symbol, form, partofspeech</td>\n",
       "      <td>None</td>\n",
       "      <td>morph_analysis</td>\n",
       "      <td>False</td>\n",
       "      <td>0</td>\n",
       "    </tr>\n",
       "  </tbody>\n",
       "</table>"
      ],
      "text/plain": [
       "Text(text=\"luulised struktuurid nähtavas osas iseärasusteta\")"
      ]
     },
     "execution_count": 16,
     "metadata": {},
     "output_type": "execute_result"
    }
   ],
   "source": [
    "j"
   ]
  },
  {
   "cell_type": "code",
   "execution_count": 17,
   "metadata": {},
   "outputs": [
    {
     "data": {
      "text/html": [
       "<h4>SpanList</h4>\n",
       "<table border=\"1\" class=\"dataframe\">\n",
       "  <thead>\n",
       "    <tr style=\"text-align: right;\">\n",
       "      <th>layer name</th>\n",
       "      <th>attributes</th>\n",
       "      <th>parent</th>\n",
       "      <th>enveloping</th>\n",
       "      <th>ambiguous</th>\n",
       "      <th>span count</th>\n",
       "    </tr>\n",
       "  </thead>\n",
       "  <tbody>\n",
       "    <tr>\n",
       "      <td>grammar_tags</td>\n",
       "      <td>grammar_symbol, value, form, partofspeech</td>\n",
       "      <td>None</td>\n",
       "      <td>morph_analysis</td>\n",
       "      <td>False</td>\n",
       "      <td>1</td>\n",
       "    </tr>\n",
       "  </tbody>\n",
       "</table>\n",
       "<table border=\"1\" class=\"dataframe\">\n",
       "  <thead>\n",
       "    <tr style=\"text-align: right;\">\n",
       "      <th>text</th>\n",
       "      <th>start</th>\n",
       "      <th>end</th>\n",
       "      <th>grammar_symbol</th>\n",
       "      <th>value</th>\n",
       "      <th>form</th>\n",
       "      <th>partofspeech</th>\n",
       "    </tr>\n",
       "  </thead>\n",
       "  <tbody>\n",
       "    <tr>\n",
       "      <td><b>luulised</b> <b>struktuurid</b> <b>nähtavas</b> <b>osas</b> <b>iseärasusteta</b></td>\n",
       "      <td>0</td>\n",
       "      <td>48</td>\n",
       "      <td>RANDOM_TEXT</td>\n",
       "      <td>None</td>\n",
       "      <td>None</td>\n",
       "      <td>None</td>\n",
       "    </tr>\n",
       "  </tbody>\n",
       "</table>"
      ],
      "text/plain": [
       "SL[SL[SL[Span(luulised, {'clitic': '', 'ending': 'd', 'form': 'pl n', 'lemma': 'luuline', 'partofspeech': 'A', 'root': 'luuline', 'root_tokens': ('luuline',)})],\n",
       "SL[Span(struktuurid, {'clitic': '', 'ending': 'd', 'form': 'pl n', 'lemma': 'struktuur', 'partofspeech': 'S', 'root': 'struktuur', 'root_tokens': ('struktuur',)})],\n",
       "SL[Span(nähtavas, {'clitic': '', 'ending': 's', 'form': 'sg in', 'lemma': 'nähtav', 'partofspeech': 'A', 'root': 'nähtav', 'root_tokens': ('nähtav',)})],\n",
       "SL[Span(osas, {'clitic': '', 'ending': 's', 'form': 'sg in', 'lemma': 'osa', 'partofspeech': 'S', 'root': 'osa', 'root_tokens': ('osa',)})],\n",
       "SL[Span(iseärasusteta, {'clitic': '', 'ending': 'teta', 'form': 'pl ab', 'lemma': 'iseärasus', 'partofspeech': 'S', 'root': 'ise_ärasus', 'root_tokens': ('ise', 'ärasus')})]]]"
      ]
     },
     "execution_count": 17,
     "metadata": {},
     "output_type": "execute_result"
    }
   ],
   "source": [
    "j.grammar_tags"
   ]
  }
 ],
 "metadata": {
  "anaconda-cloud": {},
  "kernelspec": {
   "display_name": "Python 3",
   "language": "python",
   "name": "python3"
  },
  "language_info": {
   "codemirror_mode": {
    "name": "ipython",
    "version": 3
   },
   "file_extension": ".py",
   "mimetype": "text/x-python",
   "name": "python",
   "nbconvert_exporter": "python",
   "pygments_lexer": "ipython3",
   "version": "3.5.4"
  }
 },
 "nbformat": 4,
 "nbformat_minor": 2
}
