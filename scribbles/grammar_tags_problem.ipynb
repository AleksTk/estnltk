{
 "cells": [
  {
   "cell_type": "code",
   "execution_count": 1,
   "metadata": {
    "collapsed": false
   },
   "outputs": [],
   "source": [
    "from estnltk import Text\n",
    "\n",
    "from pandas import read_csv\n",
    "from estnltk.taggers import RegexTagger\n",
    "\n",
    "from estnltk.spans import Span, SpanList\n",
    "from estnltk.layer import Layer\n",
    "from estnltk.finite_grammar.layer_graph import print_nodes\n",
    "import csv\n",
    "from estnltk.finite_grammar import PhraseListTagger\n",
    "\n",
    "from estnltk.taggers.gaps_tagging.gaps_tagger import GapsTagger\n",
    "from estnltk.taggers.merge_tagging.merge_tagger import MergeTagger\n",
    "\n",
    "from estnltk.layer_operations.flatten import flatten\n",
    "\n",
    "from estnltk.finite_grammar.layer_graph import layer_to_graph, plot_graph\n",
    "from estnltk.finite_grammar.grammar import parse_graph\n",
    "#from estnltk.finite_grammar.layer_graph import graph_to_parse_trees\n",
    "\n",
    "import re"
   ]
  },
  {
   "cell_type": "code",
   "execution_count": null,
   "metadata": {
    "collapsed": true
   },
   "outputs": [],
   "source": []
  },
  {
   "cell_type": "code",
   "execution_count": 2,
   "metadata": {
    "collapsed": true
   },
   "outputs": [],
   "source": [
    "specification = [\n",
    "    ('parem',),\n",
    "    ('vasak',), \n",
    "    ('eesmine',),\n",
    "    ('tagumine',),\n",
    "    ('külgmine',)\n",
    "    ]"
   ]
  },
  {
   "cell_type": "code",
   "execution_count": 3,
   "metadata": {
    "collapsed": true
   },
   "outputs": [],
   "source": [
    "bodypart = [\n",
    "    ('neer',),\n",
    "    ('põlv',), \n",
    "    ('kops',),\n",
    "    ('aju',),\n",
    "    ('külgvatsake',)\n",
    "    ]"
   ]
  },
  {
   "cell_type": "code",
   "execution_count": 4,
   "metadata": {
    "collapsed": false
   },
   "outputs": [],
   "source": [
    "def specification_decorator(text, span, phrase):\n",
    "    return {'match': phrase, 'grammar_symbol': 'SPECIFICATION', \n",
    "            'form': str(span.form), 'partofspeech': str(span.partofspeech)}"
   ]
  },
  {
   "cell_type": "code",
   "execution_count": 5,
   "metadata": {
    "collapsed": true
   },
   "outputs": [],
   "source": [
    "specification_tagger = PhraseListTagger(layer_name='specification',\n",
    "                              input_layer = 'morph_analysis',\n",
    "                               input_attribute='lemma',\n",
    "                             phrase_list=specification,\n",
    "                               decorator = specification_decorator,\n",
    "                             attributes=('match', 'grammar_symbol', 'form', 'partofspeech'),\n",
    "                             conflict_resolving_strategy= 'MAX'\n",
    "                              )"
   ]
  },
  {
   "cell_type": "code",
   "execution_count": 6,
   "metadata": {
    "collapsed": true
   },
   "outputs": [],
   "source": [
    "def bodypart_decorator(text, span, phrase):\n",
    "    return {'match': phrase, 'grammar_symbol': 'BODYPART', \n",
    "            'form': str(span.form), 'partofspeech': str(span.partofspeech)}"
   ]
  },
  {
   "cell_type": "code",
   "execution_count": 7,
   "metadata": {
    "collapsed": false
   },
   "outputs": [],
   "source": [
    "bodypart_tagger = PhraseListTagger(layer_name='bodypart',\n",
    "                              input_layer = 'morph_analysis',\n",
    "                               input_attribute='lemma',\n",
    "                             phrase_list=bodypart,\n",
    "                               decorator = bodypart_decorator,\n",
    "                             attributes=('match', 'grammar_symbol', 'form', 'partofspeech'),\n",
    "                             conflict_resolving_strategy= 'MAX'\n",
    "                              )"
   ]
  },
  {
   "cell_type": "code",
   "execution_count": 8,
   "metadata": {
    "collapsed": true
   },
   "outputs": [],
   "source": [
    "taggers = {}\n",
    "taggers['bodypart_tagger'] = bodypart_tagger\n",
    "#taggers['location_tagger'] = location_tagger\n",
    "taggers['specification_tagger'] = specification_tagger"
   ]
  },
  {
   "cell_type": "code",
   "execution_count": 9,
   "metadata": {
    "collapsed": true
   },
   "outputs": [],
   "source": [
    "def gaps_decorator(text:str):\n",
    "    return {'gap_length':len(text), 'grammar_symbol': 'RANDOM_TEXT'}"
   ]
  },
  {
   "cell_type": "code",
   "execution_count": 10,
   "metadata": {
    "collapsed": true
   },
   "outputs": [],
   "source": [
    "def trim(text):\n",
    "    t_1 = re.sub('\\s*', '', text)\n",
    "    t_1 = re.sub('\\s+(on|oli)\\s+', '', t_1)\n",
    "    \n",
    "    return t_1"
   ]
  },
  {
   "cell_type": "code",
   "execution_count": 11,
   "metadata": {
    "collapsed": false
   },
   "outputs": [],
   "source": [
    "gaps_tagger = GapsTagger(layer_name='gaps',\n",
    "                         input_layers=['bodypart', \n",
    "                                       #'location_tagger',\n",
    "                                       'specification'\n",
    "                                       ],\n",
    "                         trim=trim, \n",
    "                         decorator=gaps_decorator,\n",
    "                         attributes=['grammar_symbol'])"
   ]
  },
  {
   "cell_type": "code",
   "execution_count": 12,
   "metadata": {
    "collapsed": true
   },
   "outputs": [],
   "source": [
    "merge_tagger = MergeTagger(layer_name='grammar_tags',\n",
    "                           input_layers=['bodypart',\n",
    "                                       #'location_tagger',\n",
    "                                         'specification',\n",
    "                                      'gaps'],\n",
    "                           attributes=('grammar_symbol', 'value', 'form', 'partofspeech'))"
   ]
  },
  {
   "cell_type": "code",
   "execution_count": 13,
   "metadata": {
    "collapsed": true
   },
   "outputs": [],
   "source": [
    "def tag_sent(sent):\n",
    "    sent = Text(sent)\n",
    "    sent.analyse('morphology')\n",
    "    for tagger in taggers:\n",
    "        taggers[tagger].tag(sent)\n",
    "        #temp_layer = taggers[tagger].tag(sent, return_layer = True)\n",
    "        #sent[tagger] = flatten(temp_layer, tagger)\n",
    "        #sent[tagger] = temp_layer\n",
    "    gaps_tagger.tag(sent)\n",
    "    merge_tagger.tag(sent)\n",
    "    return sent"
   ]
  },
  {
   "cell_type": "code",
   "execution_count": 14,
   "metadata": {
    "collapsed": true
   },
   "outputs": [],
   "source": [
    "i = 'vasakus põlves valu'"
   ]
  },
  {
   "cell_type": "code",
   "execution_count": 15,
   "metadata": {
    "collapsed": true
   },
   "outputs": [],
   "source": [
    "j = tag_sent(i)"
   ]
  },
  {
   "cell_type": "code",
   "execution_count": 16,
   "metadata": {
    "collapsed": false
   },
   "outputs": [
    {
     "data": {
      "text/html": [
       "<table border=\"1\" class=\"dataframe\">\n",
       "  <thead>\n",
       "    <tr style=\"text-align: right;\">\n",
       "      <th>text</th>\n",
       "    </tr>\n",
       "  </thead>\n",
       "  <tbody>\n",
       "    <tr>\n",
       "      <td>vasakus põlves valu</td>\n",
       "    </tr>\n",
       "  </tbody>\n",
       "</table>\n",
       "<table border=\"1\" class=\"dataframe\">\n",
       "  <thead>\n",
       "    <tr style=\"text-align: right;\">\n",
       "      <th>layer name</th>\n",
       "      <th>attributes</th>\n",
       "      <th>parent</th>\n",
       "      <th>enveloping</th>\n",
       "      <th>ambiguous</th>\n",
       "      <th>span count</th>\n",
       "    </tr>\n",
       "  </thead>\n",
       "  <tbody>\n",
       "    <tr>\n",
       "      <td>sentences</td>\n",
       "      <td></td>\n",
       "      <td>None</td>\n",
       "      <td>words</td>\n",
       "      <td>False</td>\n",
       "      <td>1</td>\n",
       "    </tr>\n",
       "    <tr>\n",
       "      <td>words</td>\n",
       "      <td>normalized_form</td>\n",
       "      <td>None</td>\n",
       "      <td>None</td>\n",
       "      <td>False</td>\n",
       "      <td>3</td>\n",
       "    </tr>\n",
       "    <tr>\n",
       "      <td>morph_analysis</td>\n",
       "      <td>lemma, root, root_tokens, ending, clitic, form, partofspeech</td>\n",
       "      <td>words</td>\n",
       "      <td>None</td>\n",
       "      <td>True</td>\n",
       "      <td>3</td>\n",
       "    </tr>\n",
       "    <tr>\n",
       "      <td>bodypart</td>\n",
       "      <td>match, grammar_symbol, form, partofspeech</td>\n",
       "      <td>None</td>\n",
       "      <td>morph_analysis</td>\n",
       "      <td>False</td>\n",
       "      <td>1</td>\n",
       "    </tr>\n",
       "    <tr>\n",
       "      <td>gaps</td>\n",
       "      <td>grammar_symbol</td>\n",
       "      <td>None</td>\n",
       "      <td>morph_analysis</td>\n",
       "      <td>False</td>\n",
       "      <td>1</td>\n",
       "    </tr>\n",
       "    <tr>\n",
       "      <td>grammar_tags</td>\n",
       "      <td>grammar_symbol, value, form, partofspeech</td>\n",
       "      <td>None</td>\n",
       "      <td>morph_analysis</td>\n",
       "      <td>False</td>\n",
       "      <td>3</td>\n",
       "    </tr>\n",
       "    <tr>\n",
       "      <td>specification</td>\n",
       "      <td>match, grammar_symbol, form, partofspeech</td>\n",
       "      <td>None</td>\n",
       "      <td>morph_analysis</td>\n",
       "      <td>False</td>\n",
       "      <td>1</td>\n",
       "    </tr>\n",
       "  </tbody>\n",
       "</table>"
      ],
      "text/plain": [
       "Text(text=\"vasakus põlves valu\")"
      ]
     },
     "execution_count": 16,
     "metadata": {},
     "output_type": "execute_result"
    }
   ],
   "source": [
    "j"
   ]
  },
  {
   "cell_type": "code",
   "execution_count": 17,
   "metadata": {
    "collapsed": false
   },
   "outputs": [
    {
     "data": {
      "text/html": [
       "<h4>SpanList</h4>\n",
       "<table border=\"1\" class=\"dataframe\">\n",
       "  <thead>\n",
       "    <tr style=\"text-align: right;\">\n",
       "      <th>layer name</th>\n",
       "      <th>attributes</th>\n",
       "      <th>parent</th>\n",
       "      <th>enveloping</th>\n",
       "      <th>ambiguous</th>\n",
       "      <th>span count</th>\n",
       "    </tr>\n",
       "  </thead>\n",
       "  <tbody>\n",
       "    <tr>\n",
       "      <td>grammar_tags</td>\n",
       "      <td>grammar_symbol, value, form, partofspeech</td>\n",
       "      <td>None</td>\n",
       "      <td>morph_analysis</td>\n",
       "      <td>False</td>\n",
       "      <td>3</td>\n",
       "    </tr>\n",
       "  </tbody>\n",
       "</table>\n",
       "<table border=\"1\" class=\"dataframe\">\n",
       "  <thead>\n",
       "    <tr style=\"text-align: right;\">\n",
       "      <th>text</th>\n",
       "      <th>start</th>\n",
       "      <th>end</th>\n",
       "      <th>grammar_symbol</th>\n",
       "      <th>value</th>\n",
       "      <th>form</th>\n",
       "      <th>partofspeech</th>\n",
       "    </tr>\n",
       "  </thead>\n",
       "  <tbody>\n",
       "    <tr>\n",
       "      <td><b>vasakus</b></td>\n",
       "      <td>0</td>\n",
       "      <td>7</td>\n",
       "      <td>SPECIFICATION</td>\n",
       "      <td>None</td>\n",
       "      <td>[['sg in']]</td>\n",
       "      <td>[['A']]</td>\n",
       "    </tr>\n",
       "    <tr>\n",
       "      <td><b>põlves</b></td>\n",
       "      <td>8</td>\n",
       "      <td>14</td>\n",
       "      <td>BODYPART</td>\n",
       "      <td>None</td>\n",
       "      <td>[['sg in', 'sg in']]</td>\n",
       "      <td>[['S', 'S']]</td>\n",
       "    </tr>\n",
       "    <tr>\n",
       "      <td><b>valu</b></td>\n",
       "      <td>15</td>\n",
       "      <td>19</td>\n",
       "      <td>RANDOM_TEXT</td>\n",
       "      <td>None</td>\n",
       "      <td>None</td>\n",
       "      <td>None</td>\n",
       "    </tr>\n",
       "  </tbody>\n",
       "</table>"
      ],
      "text/plain": [
       "SL[SL[SL[Span(vasakus, {'clitic': '', 'ending': 's', 'form': 'sg in', 'lemma': 'vasak', 'partofspeech': 'A', 'root': 'vasak', 'root_tokens': ('vasak',)})]],\n",
       "SL[SL[Span(põlves, {'clitic': '', 'ending': 's', 'form': 'sg in', 'lemma': 'põli', 'partofspeech': 'S', 'root': 'põli', 'root_tokens': ('põli',)}),\n",
       "Span(põlves, {'clitic': '', 'ending': 's', 'form': 'sg in', 'lemma': 'põlv', 'partofspeech': 'S', 'root': 'põlv', 'root_tokens': ('põlv',)})]],\n",
       "SL[SL[Span(valu, {'clitic': '', 'ending': '0', 'form': 'sg p', 'lemma': 'valu', 'partofspeech': 'S', 'root': 'valu', 'root_tokens': ('valu',)})]]]"
      ]
     },
     "execution_count": 17,
     "metadata": {},
     "output_type": "execute_result"
    }
   ],
   "source": [
    "j.grammar_tags"
   ]
  },
  {
   "cell_type": "code",
   "execution_count": 18,
   "metadata": {
    "collapsed": false
   },
   "outputs": [
    {
     "ename": "AttributeError",
     "evalue": "grammar_tags -> legal_attribute_names not implemented - path does not exist",
     "output_type": "error",
     "traceback": [
      "\u001b[0;31m---------------------------------------------------------------------------\u001b[0m",
      "\u001b[0;31mAttributeError\u001b[0m                            Traceback (most recent call last)",
      "\u001b[0;32m<ipython-input-18-1821869a7300>\u001b[0m in \u001b[0;36m<module>\u001b[0;34m()\u001b[0m\n\u001b[0;32m----> 1\u001b[0;31m \u001b[0mgraph\u001b[0m \u001b[0;34m=\u001b[0m \u001b[0mlayer_to_graph\u001b[0m\u001b[0;34m(\u001b[0m\u001b[0mj\u001b[0m\u001b[0;34m[\u001b[0m\u001b[0;34m'grammar_tags'\u001b[0m\u001b[0;34m]\u001b[0m\u001b[0;34m)\u001b[0m\u001b[0;34m\u001b[0m\u001b[0m\n\u001b[0m",
      "\u001b[0;32m~/Desktop/estnltk/estnltk/finite_grammar/layer_graph.py\u001b[0m in \u001b[0;36mlayer_to_graph\u001b[0;34m(layer, attributes)\u001b[0m\n\u001b[1;32m    223\u001b[0m \u001b[0;34m\u001b[0m\u001b[0m\n\u001b[1;32m    224\u001b[0m     \u001b[0;32mfor\u001b[0m \u001b[0mb\u001b[0m \u001b[0;32min\u001b[0m \u001b[0miterate_starting_spans\u001b[0m\u001b[0;34m(\u001b[0m\u001b[0mspans\u001b[0m\u001b[0;34m)\u001b[0m\u001b[0;34m:\u001b[0m\u001b[0;34m\u001b[0m\u001b[0m\n\u001b[0;32m--> 225\u001b[0;31m         \u001b[0mgraph\u001b[0m\u001b[0;34m.\u001b[0m\u001b[0madd_edge\u001b[0m\u001b[0;34m(\u001b[0m\u001b[0mSTART_NODE\u001b[0m\u001b[0;34m,\u001b[0m \u001b[0mTerminalNode\u001b[0m\u001b[0;34m(\u001b[0m\u001b[0mb\u001b[0m\u001b[0;34m,\u001b[0m \u001b[0;34m'grammar_symbol'\u001b[0m\u001b[0;34m)\u001b[0m\u001b[0;34m)\u001b[0m\u001b[0;34m\u001b[0m\u001b[0m\n\u001b[0m\u001b[1;32m    226\u001b[0m     \u001b[0;32mfor\u001b[0m \u001b[0ma\u001b[0m \u001b[0;32min\u001b[0m \u001b[0miterate_ending_spans\u001b[0m\u001b[0;34m(\u001b[0m\u001b[0mspans\u001b[0m\u001b[0;34m)\u001b[0m\u001b[0;34m:\u001b[0m\u001b[0;34m\u001b[0m\u001b[0m\n\u001b[1;32m    227\u001b[0m         \u001b[0mgraph\u001b[0m\u001b[0;34m.\u001b[0m\u001b[0madd_edge\u001b[0m\u001b[0;34m(\u001b[0m\u001b[0mTerminalNode\u001b[0m\u001b[0;34m(\u001b[0m\u001b[0ma\u001b[0m\u001b[0;34m,\u001b[0m \u001b[0;34m'grammar_symbol'\u001b[0m\u001b[0;34m)\u001b[0m\u001b[0;34m,\u001b[0m \u001b[0mEND_NODE\u001b[0m\u001b[0;34m)\u001b[0m\u001b[0;34m\u001b[0m\u001b[0m\n",
      "\u001b[0;32m~/Desktop/estnltk/estnltk/finite_grammar/layer_graph.py\u001b[0m in \u001b[0;36m__init__\u001b[0;34m(self, span, name_attribute, attributes)\u001b[0m\n\u001b[1;32m    102\u001b[0m         \u001b[0mself\u001b[0m\u001b[0;34m.\u001b[0m\u001b[0mtext\u001b[0m \u001b[0;34m=\u001b[0m \u001b[0mspan\u001b[0m\u001b[0;34m.\u001b[0m\u001b[0mtext\u001b[0m\u001b[0;34m\u001b[0m\u001b[0m\n\u001b[1;32m    103\u001b[0m         \u001b[0;32mif\u001b[0m \u001b[0;32mnot\u001b[0m \u001b[0mattributes\u001b[0m\u001b[0;34m:\u001b[0m\u001b[0;34m\u001b[0m\u001b[0m\n\u001b[0;32m--> 104\u001b[0;31m             \u001b[0mattributes\u001b[0m \u001b[0;34m=\u001b[0m \u001b[0mspan\u001b[0m\u001b[0;34m.\u001b[0m\u001b[0mlegal_attribute_names\u001b[0m\u001b[0;34m\u001b[0m\u001b[0m\n\u001b[0m\u001b[1;32m    105\u001b[0m         \u001b[0;32mfor\u001b[0m \u001b[0mattr\u001b[0m \u001b[0;32min\u001b[0m \u001b[0mattributes\u001b[0m\u001b[0;34m:\u001b[0m\u001b[0;34m\u001b[0m\u001b[0m\n\u001b[1;32m    106\u001b[0m             \u001b[0msetattr\u001b[0m\u001b[0;34m(\u001b[0m\u001b[0mself\u001b[0m\u001b[0;34m,\u001b[0m \u001b[0mattr\u001b[0m\u001b[0;34m,\u001b[0m \u001b[0mgetattr\u001b[0m\u001b[0;34m(\u001b[0m\u001b[0mspan\u001b[0m\u001b[0;34m,\u001b[0m \u001b[0mattr\u001b[0m\u001b[0;34m)\u001b[0m\u001b[0;34m)\u001b[0m\u001b[0;34m\u001b[0m\u001b[0m\n",
      "\u001b[0;32m~/Desktop/estnltk/estnltk/spans.py\u001b[0m in \u001b[0;36m__getattr__\u001b[0;34m(self, item)\u001b[0m\n\u001b[1;32m    431\u001b[0m                 \u001b[0;32mreturn\u001b[0m \u001b[0mself\u001b[0m\u001b[0;34m.\u001b[0m\u001b[0m__dict__\u001b[0m\u001b[0;34m[\u001b[0m\u001b[0mitem\u001b[0m\u001b[0;34m]\u001b[0m\u001b[0;34m\u001b[0m\u001b[0m\n\u001b[1;32m    432\u001b[0m \u001b[0;34m\u001b[0m\u001b[0m\n\u001b[0;32m--> 433\u001b[0;31m             \u001b[0mtarget\u001b[0m \u001b[0;34m=\u001b[0m \u001b[0mlayer\u001b[0m\u001b[0;34m.\u001b[0m\u001b[0mtext_object\u001b[0m\u001b[0;34m.\u001b[0m\u001b[0m_resolve\u001b[0m\u001b[0;34m(\u001b[0m\u001b[0mlayer\u001b[0m\u001b[0;34m.\u001b[0m\u001b[0mname\u001b[0m\u001b[0;34m,\u001b[0m \u001b[0mitem\u001b[0m\u001b[0;34m,\u001b[0m \u001b[0msofar\u001b[0m\u001b[0;34m=\u001b[0m\u001b[0mself\u001b[0m\u001b[0;34m)\u001b[0m\u001b[0;34m\u001b[0m\u001b[0m\n\u001b[0m\u001b[1;32m    434\u001b[0m             \u001b[0;32mreturn\u001b[0m \u001b[0mtarget\u001b[0m\u001b[0;34m\u001b[0m\u001b[0m\n\u001b[1;32m    435\u001b[0m \u001b[0;34m\u001b[0m\u001b[0m\n",
      "\u001b[0;32m~/Desktop/estnltk/estnltk/text.py\u001b[0m in \u001b[0;36m_resolve\u001b[0;34m(self, frm, to, sofar)\u001b[0m\n\u001b[1;32m    324\u001b[0m \u001b[0;34m\u001b[0m\u001b[0m\n\u001b[1;32m    325\u001b[0m         raise AttributeError('{} -> {} not implemented'.format(frm, to) +\n\u001b[0;32m--> 326\u001b[0;31m                                   \u001b[0;34m(\u001b[0m\u001b[0;34m' but path exists'\u001b[0m \u001b[0;32mif\u001b[0m \u001b[0mpath_exists\u001b[0m \u001b[0;32melse\u001b[0m \u001b[0;34m' - path does not exist'\u001b[0m\u001b[0;34m)\u001b[0m\u001b[0;34m\u001b[0m\u001b[0m\n\u001b[0m\u001b[1;32m    327\u001b[0m                                   )\n\u001b[1;32m    328\u001b[0m \u001b[0;34m\u001b[0m\u001b[0m\n",
      "\u001b[0;31mAttributeError\u001b[0m: grammar_tags -> legal_attribute_names not implemented - path does not exist"
     ]
    }
   ],
   "source": [
    "graph = layer_to_graph(j['grammar_tags'])"
   ]
  },
  {
   "cell_type": "code",
   "execution_count": null,
   "metadata": {
    "collapsed": true
   },
   "outputs": [],
   "source": []
  }
 ],
 "metadata": {
  "anaconda-cloud": {},
  "kernelspec": {
   "display_name": "Python [conda root]",
   "language": "python",
   "name": "conda-root-py"
  },
  "language_info": {
   "codemirror_mode": {
    "name": "ipython",
    "version": 3
   },
   "file_extension": ".py",
   "mimetype": "text/x-python",
   "name": "python",
   "nbconvert_exporter": "python",
   "pygments_lexer": "ipython3",
   "version": "3.5.4"
  }
 },
 "nbformat": 4,
 "nbformat_minor": 2
}
