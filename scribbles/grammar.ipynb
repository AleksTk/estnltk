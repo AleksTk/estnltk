{
 "cells": [
  {
   "cell_type": "code",
   "execution_count": 1,
   "metadata": {
    "collapsed": false
   },
   "outputs": [],
   "source": [
    "from estnltk import Text\n",
    "\n",
    "#from estnltk.taggers.raw_text_tagging.date_tagger.date_tagger import DateTagger\n",
    "#from estnltk.taggers import DateTagger\n",
    "from pandas import read_csv\n",
    "from estnltk.taggers import RegexTagger\n",
    "\n",
    "from estnltk.spans import Span, SpanList\n",
    "from estnltk.layer import Layer\n",
    "from estnltk.finite_grammar.trees import print_nodes"
   ]
  },
  {
   "cell_type": "code",
   "execution_count": 2,
   "metadata": {
    "collapsed": true
   },
   "outputs": [],
   "source": [
    "with open(\"examples_.txt\", \"r\") as fin:\n",
    "    lines = fin.readlines()\n",
    "lines = [line.strip() for line in lines]    "
   ]
  },
  {
   "cell_type": "code",
   "execution_count": 3,
   "metadata": {
    "collapsed": false,
    "scrolled": true
   },
   "outputs": [
    {
     "data": {
      "text/plain": [
       "['PSA 03042012 - 0,83ng/ml perearsti poolt .',\n",
       " 'PSA 2010. 3ng/ml, PSA 2012. 1,53ng/ml . - Bx va',\n",
       " 'PSA 20105,99 ja 26.01.2012 uuesti .',\n",
       " 'PSA 2011 oli 0 , 4 nG7ml .',\n",
       " 'PSA 201222,25ng/ml',\n",
       " 'PSA 2 aastajooksuldünaamikata , eriuuring',\n",
       " ':psa 16,81! ! ! ! ! ,',\n",
       " 'Happe-aluse tasakaal 6.0 ( 5.0 .. 8.0 )',\n",
       " 'loli 25 mgx1 ja Monoprili 10 mg Kolesterool 2011a',\n",
       " 'Kolesterool 1k aastas .',\n",
       " 'Kõrgenenud kolesterool 2a ( mõõdetud ). Ei pea dieetist kinni',\n",
       " 'Kontr Verekol 08.12a Per-le juurde .',\n",
       " 's vas munajuha kasvaja op , günekol 3a tagssi .',\n",
       " '08.11.2010 PSA 13.12.2011 7,2ng/ml PSADT on väike .',\n",
       " 'Rütmihäire tsüklipikkus 330 msek',\n",
       " 'Loote pikkus : \\xa0 3 mm - vastab\\xa0 5 nädalat 6 päeva.',\n",
       " 'Põhjendus: PALAT 10 # ALAT maksanäitaja',\n",
       " 'ärme vähk 2007 aastast cT3N0M0PSA 59ng/ml .',\n",
       " 'PSA 8,5( püsib aastaid selles väärtus',\n",
       " 'S , P-PSA 4.130( <4.100 µg/L )',\n",
       " 'PSA 5,2.',\n",
       " 'Kolesterool oli 7,9 mmol/l 0',\n",
       " 'kolesterool 6.4.',\n",
       " 'Kolesterool 5,2 mmol/l - esialgu dieet .',\n",
       " 'SK 3900 g , SP 51 cm .',\n",
       " 'Lapse kaal 5,4 kg/82 mg/0,82 ml i/m .',\n",
       " 'Kehakaal 80,2 kg , KMI 25,9',\n",
       " 'S , P-NT-proBNP 668 ( <125 pg/mL ) S , P-Albumiin 43 ( 35 .. 52 g/L ) S , P-ALAT 25 ( <33 U/L )',\n",
       " 'PSA 6,5 ng/ml, eesnäärme maht67cm3',\n",
       " 'rjeldus : Siinusbradükardia Fr 587min']"
      ]
     },
     "execution_count": 3,
     "metadata": {},
     "output_type": "execute_result"
    }
   ],
   "source": [
    "lines"
   ]
  },
  {
   "cell_type": "code",
   "execution_count": 4,
   "metadata": {
    "collapsed": true
   },
   "outputs": [],
   "source": [
    "vocabulary = 'regexes.csv'"
   ]
  },
  {
   "cell_type": "code",
   "execution_count": 5,
   "metadata": {
    "collapsed": true
   },
   "outputs": [],
   "source": [
    "vocabulary = read_csv(vocabulary, na_filter=False, index_col=False)"
   ]
  },
  {
   "cell_type": "code",
   "execution_count": 6,
   "metadata": {
    "collapsed": true
   },
   "outputs": [],
   "source": [
    "test_regex_tagger = RegexTagger(vocabulary=vocabulary[:27],\n",
    "                                        attributes=['regex_type', 'value', 'grammar_symbol'],\n",
    "                                        conflict_resolving_strategy='MAX',\n",
    "                                        overlapped=False,\n",
    "                                        layer_name='type')"
   ]
  },
  {
   "cell_type": "code",
   "execution_count": 7,
   "metadata": {
    "collapsed": true
   },
   "outputs": [],
   "source": [
    "spaces = vocabulary[27:]"
   ]
  },
  {
   "cell_type": "code",
   "execution_count": 8,
   "metadata": {
    "collapsed": false
   },
   "outputs": [
    {
     "data": {
      "text/html": [
       "<div>\n",
       "<style>\n",
       "    .dataframe thead tr:only-child th {\n",
       "        text-align: right;\n",
       "    }\n",
       "\n",
       "    .dataframe thead th {\n",
       "        text-align: left;\n",
       "    }\n",
       "\n",
       "    .dataframe tbody tr th {\n",
       "        vertical-align: top;\n",
       "    }\n",
       "</style>\n",
       "<table border=\"1\" class=\"dataframe\">\n",
       "  <thead>\n",
       "    <tr style=\"text-align: right;\">\n",
       "      <th></th>\n",
       "      <th>_regex_pattern_</th>\n",
       "      <th>_group_</th>\n",
       "      <th>_priority_</th>\n",
       "      <th>normalized</th>\n",
       "      <th>regex_type</th>\n",
       "      <th>value</th>\n",
       "      <th>grammar_symbol</th>\n",
       "    </tr>\n",
       "  </thead>\n",
       "  <tbody>\n",
       "    <tr>\n",
       "      <th>27</th>\n",
       "      <td>[-=.&gt;&lt; ]*</td>\n",
       "      <td>0</td>\n",
       "      <td>1</td>\n",
       "      <td></td>\n",
       "      <td>space</td>\n",
       "      <td>space</td>\n",
       "      <td>SPACE</td>\n",
       "    </tr>\n",
       "    <tr>\n",
       "      <th>28</th>\n",
       "      <td>\\.?\\s*-?\\s*</td>\n",
       "      <td>0</td>\n",
       "      <td>1</td>\n",
       "      <td></td>\n",
       "      <td>space</td>\n",
       "      <td>space</td>\n",
       "      <td>SPACE</td>\n",
       "    </tr>\n",
       "    <tr>\n",
       "      <th>29</th>\n",
       "      <td>[-=.&gt;&lt; ]*(on|oli)\\s*</td>\n",
       "      <td>0</td>\n",
       "      <td>1</td>\n",
       "      <td></td>\n",
       "      <td>space</td>\n",
       "      <td>space</td>\n",
       "      <td>SPACE</td>\n",
       "    </tr>\n",
       "    <tr>\n",
       "      <th>30</th>\n",
       "      <td>\\s*-?:?\\s*\\&lt;?</td>\n",
       "      <td>0</td>\n",
       "      <td>1</td>\n",
       "      <td></td>\n",
       "      <td>space</td>\n",
       "      <td>space</td>\n",
       "      <td>SPACE</td>\n",
       "    </tr>\n",
       "    <tr>\n",
       "      <th>31</th>\n",
       "      <td>\\s*</td>\n",
       "      <td>0</td>\n",
       "      <td>1</td>\n",
       "      <td></td>\n",
       "      <td>space</td>\n",
       "      <td>space</td>\n",
       "      <td>SPACE</td>\n",
       "    </tr>\n",
       "  </tbody>\n",
       "</table>\n",
       "</div>"
      ],
      "text/plain": [
       "         _regex_pattern_  _group_  _priority_ normalized regex_type  value  \\\n",
       "27             [-=.>< ]*        0           1                 space  space   \n",
       "28           \\.?\\s*-?\\s*        0           1                 space  space   \n",
       "29  [-=.>< ]*(on|oli)\\s*        0           1                 space  space   \n",
       "30         \\s*-?:?\\s*\\<?        0           1                 space  space   \n",
       "31                   \\s*        0           1                 space  space   \n",
       "\n",
       "   grammar_symbol  \n",
       "27          SPACE  \n",
       "28          SPACE  \n",
       "29          SPACE  \n",
       "30          SPACE  \n",
       "31          SPACE  "
      ]
     },
     "execution_count": 8,
     "metadata": {},
     "output_type": "execute_result"
    }
   ],
   "source": [
    "spaces"
   ]
  },
  {
   "cell_type": "code",
   "execution_count": 9,
   "metadata": {
    "collapsed": true
   },
   "outputs": [],
   "source": [
    "space_tagger = RegexTagger(vocabulary = spaces,\n",
    "                        attributes = ['normalized'],\n",
    "                        conflict_resolving_strategy='MAX',\n",
    "                        overlapped=False,\n",
    "                        layer_name='space'\n",
    "                         )"
   ]
  },
  {
   "cell_type": "code",
   "execution_count": 10,
   "metadata": {
    "collapsed": true
   },
   "outputs": [],
   "source": [
    "from estnltk.taggers.gaps_tagging.gaps_tagger import GapsTagger\n",
    "gaps_tagger = GapsTagger(layer_name='random_text_layer',\n",
    "                         input_layers=['space', 'type'],\n",
    "                         attributes=['no_idea', 'grammar_symbol'],\n",
    "                         decorator=lambda t: {'no_idea':'text', 'grammar_symbol':'RANDOM_TEXT'})"
   ]
  },
  {
   "cell_type": "code",
   "execution_count": 11,
   "metadata": {
    "collapsed": false
   },
   "outputs": [
    {
     "data": {
      "text/plain": [
       "['PSA 03042012 - 0,83ng/ml perearsti poolt .',\n",
       " 'PSA 2010. 3ng/ml, PSA 2012. 1,53ng/ml . - Bx va',\n",
       " 'PSA 20105,99 ja 26.01.2012 uuesti .',\n",
       " 'PSA 2011 oli 0 , 4 nG7ml .',\n",
       " 'PSA 201222,25ng/ml',\n",
       " 'PSA 2 aastajooksuldünaamikata , eriuuring',\n",
       " ':psa 16,81! ! ! ! ! ,',\n",
       " 'Happe-aluse tasakaal 6.0 ( 5.0 .. 8.0 )',\n",
       " 'loli 25 mgx1 ja Monoprili 10 mg Kolesterool 2011a',\n",
       " 'Kolesterool 1k aastas .',\n",
       " 'Kõrgenenud kolesterool 2a ( mõõdetud ). Ei pea dieetist kinni',\n",
       " 'Kontr Verekol 08.12a Per-le juurde .',\n",
       " 's vas munajuha kasvaja op , günekol 3a tagssi .',\n",
       " '08.11.2010 PSA 13.12.2011 7,2ng/ml PSADT on väike .',\n",
       " 'Rütmihäire tsüklipikkus 330 msek',\n",
       " 'Loote pikkus : \\xa0 3 mm - vastab\\xa0 5 nädalat 6 päeva.',\n",
       " 'Põhjendus: PALAT 10 # ALAT maksanäitaja',\n",
       " 'ärme vähk 2007 aastast cT3N0M0PSA 59ng/ml .',\n",
       " 'PSA 8,5( püsib aastaid selles väärtus',\n",
       " 'S , P-PSA 4.130( <4.100 µg/L )',\n",
       " 'PSA 5,2.',\n",
       " 'Kolesterool oli 7,9 mmol/l 0',\n",
       " 'kolesterool 6.4.',\n",
       " 'Kolesterool 5,2 mmol/l - esialgu dieet .',\n",
       " 'SK 3900 g , SP 51 cm .',\n",
       " 'Lapse kaal 5,4 kg/82 mg/0,82 ml i/m .',\n",
       " 'Kehakaal 80,2 kg , KMI 25,9',\n",
       " 'S , P-NT-proBNP 668 ( <125 pg/mL ) S , P-Albumiin 43 ( 35 .. 52 g/L ) S , P-ALAT 25 ( <33 U/L )',\n",
       " 'PSA 6,5 ng/ml, eesnäärme maht67cm3',\n",
       " 'rjeldus : Siinusbradükardia Fr 587min']"
      ]
     },
     "execution_count": 11,
     "metadata": {},
     "output_type": "execute_result"
    }
   ],
   "source": [
    "lines"
   ]
  },
  {
   "cell_type": "code",
   "execution_count": 12,
   "metadata": {
    "collapsed": true
   },
   "outputs": [],
   "source": [
    "j = Text(lines[0])"
   ]
  },
  {
   "cell_type": "code",
   "execution_count": 13,
   "metadata": {
    "collapsed": false,
    "scrolled": true
   },
   "outputs": [],
   "source": [
    "test_regex_tagger.tag(j)"
   ]
  },
  {
   "cell_type": "code",
   "execution_count": 14,
   "metadata": {
    "collapsed": false
   },
   "outputs": [
    {
     "data": {
      "text/plain": [
       "['measurement_object', 'date4', 'number1', 'unit']"
      ]
     },
     "execution_count": 14,
     "metadata": {},
     "output_type": "execute_result"
    }
   ],
   "source": [
    "j.regex_type"
   ]
  },
  {
   "cell_type": "code",
   "execution_count": 15,
   "metadata": {
    "collapsed": false
   },
   "outputs": [
    {
     "data": {
      "text/html": [
       "<h4>SpanList</h4>\n",
       "<table border=\"1\" class=\"dataframe\">\n",
       "  <thead>\n",
       "    <tr style=\"text-align: right;\">\n",
       "      <th>layer name</th>\n",
       "      <th>attributes</th>\n",
       "      <th>parent</th>\n",
       "      <th>enveloping</th>\n",
       "      <th>ambiguous</th>\n",
       "      <th>span count</th>\n",
       "    </tr>\n",
       "  </thead>\n",
       "  <tbody>\n",
       "    <tr>\n",
       "      <td>type</td>\n",
       "      <td>regex_type, value, grammar_symbol</td>\n",
       "      <td>None</td>\n",
       "      <td>None</td>\n",
       "      <td>False</td>\n",
       "      <td>4</td>\n",
       "    </tr>\n",
       "  </tbody>\n",
       "</table>\n",
       "<table border=\"1\" class=\"dataframe\">\n",
       "  <thead>\n",
       "    <tr style=\"text-align: right;\">\n",
       "      <th>text</th>\n",
       "      <th>start</th>\n",
       "      <th>end</th>\n",
       "      <th>regex_type</th>\n",
       "      <th>value</th>\n",
       "      <th>grammar_symbol</th>\n",
       "    </tr>\n",
       "  </thead>\n",
       "  <tbody>\n",
       "    <tr>\n",
       "      <td>PSA</td>\n",
       "      <td>0</td>\n",
       "      <td>3</td>\n",
       "      <td>measurement_object</td>\n",
       "      <td>psa</td>\n",
       "      <td>MO</td>\n",
       "    </tr>\n",
       "    <tr>\n",
       "      <td>03042012</td>\n",
       "      <td>4</td>\n",
       "      <td>12</td>\n",
       "      <td>date4</td>\n",
       "      <td>date</td>\n",
       "      <td>DATE</td>\n",
       "    </tr>\n",
       "    <tr>\n",
       "      <td>0,83</td>\n",
       "      <td>15</td>\n",
       "      <td>19</td>\n",
       "      <td>number1</td>\n",
       "      <td>whatever</td>\n",
       "      <td>NUMBER</td>\n",
       "    </tr>\n",
       "    <tr>\n",
       "      <td>ng/ml</td>\n",
       "      <td>19</td>\n",
       "      <td>24</td>\n",
       "      <td>unit</td>\n",
       "      <td>psa_unit</td>\n",
       "      <td>UNIT</td>\n",
       "    </tr>\n",
       "  </tbody>\n",
       "</table>"
      ],
      "text/plain": [
       "SL[Span(PSA, {'regex_type': 'measurement_object', 'value': 'psa', 'grammar_symbol': 'MO'}),\n",
       "Span(03042012, {'regex_type': 'date4', 'value': 'date', 'grammar_symbol': 'DATE'}),\n",
       "Span(0,83, {'regex_type': 'number1', 'value': 'whatever', 'grammar_symbol': 'NUMBER'}),\n",
       "Span(ng/ml, {'regex_type': 'unit', 'value': 'psa_unit', 'grammar_symbol': 'UNIT'})]"
      ]
     },
     "execution_count": 15,
     "metadata": {},
     "output_type": "execute_result"
    }
   ],
   "source": [
    "j.type"
   ]
  },
  {
   "cell_type": "code",
   "execution_count": 16,
   "metadata": {
    "collapsed": false
   },
   "outputs": [
    {
     "name": "stdout",
     "output_type": "stream",
     "text": [
      "PSA 03042012 - 0,83ng/ml perearsti poolt .\n",
      "PSA 2010. 3ng/ml, PSA 2012. 1,53ng/ml . - Bx va\n",
      "PSA 20105,99 ja 26.01.2012 uuesti .\n",
      "PSA 2011 oli 0 , 4 nG7ml .\n",
      "PSA 201222,25ng/ml\n",
      "PSA 2 aastajooksuldünaamikata , eriuuring\n",
      ":psa 16,81! ! ! ! ! ,\n",
      "Happe-aluse tasakaal 6.0 ( 5.0 .. 8.0 )\n",
      "loli 25 mgx1 ja Monoprili 10 mg Kolesterool 2011a\n",
      "Kolesterool 1k aastas .\n",
      "Kõrgenenud kolesterool 2a ( mõõdetud ). Ei pea dieetist kinni\n",
      "Kontr Verekol 08.12a Per-le juurde .\n",
      "s vas munajuha kasvaja op , günekol 3a tagssi .\n",
      "08.11.2010 PSA 13.12.2011 7,2ng/ml PSADT on väike .\n",
      "Rütmihäire tsüklipikkus 330 msek\n",
      "Loote pikkus :   3 mm - vastab  5 nädalat 6 päeva.\n",
      "Põhjendus: PALAT 10 # ALAT maksanäitaja\n",
      "ärme vähk 2007 aastast cT3N0M0PSA 59ng/ml .\n",
      "PSA 8,5( püsib aastaid selles väärtus\n",
      "S , P-PSA 4.130( <4.100 µg/L )\n",
      "PSA 5,2.\n",
      "Kolesterool oli 7,9 mmol/l 0\n",
      "kolesterool 6.4.\n",
      "Kolesterool 5,2 mmol/l - esialgu dieet .\n",
      "SK 3900 g , SP 51 cm .\n",
      "Lapse kaal 5,4 kg/82 mg/0,82 ml i/m .\n",
      "Kehakaal 80,2 kg , KMI 25,9\n",
      "S , P-NT-proBNP 668 ( <125 pg/mL ) S , P-Albumiin 43 ( 35 .. 52 g/L ) S , P-ALAT 25 ( <33 U/L )\n",
      "PSA 6,5 ng/ml, eesnäärme maht67cm3\n",
      "rjeldus : Siinusbradükardia Fr 587min\n"
     ]
    }
   ],
   "source": [
    "tagged_lines = []\n",
    "lines_to_texts = {}\n",
    "for line in lines:\n",
    "    print(line)\n",
    "    text = Text(line)\n",
    "    test_regex_tagger.tag(text)\n",
    "    #datetagger.tag(text)\n",
    "    space_tagger.tag(text)\n",
    "    gaps_tagger.tag(text)\n",
    "    #t = tag_random_text(text)\n",
    "    #t = change_date_layer(text)\n",
    "    tagged_lines.append(text)\n",
    "    lines_to_texts[line] = text"
   ]
  },
  {
   "cell_type": "code",
   "execution_count": 17,
   "metadata": {
    "collapsed": false
   },
   "outputs": [
    {
     "name": "stdout",
     "output_type": "stream",
     "text": [
      "PSA 03042012 - 0,83ng/ml perearsti poolt .\n",
      "['measurement_object', 'date4', 'number1', 'unit']\n",
      "SL[Span(perearsti, {'no_idea': 'text', 'grammar_symbol': 'RANDOM_TEXT'}),\n",
      "Span(poolt, {'no_idea': 'text', 'grammar_symbol': 'RANDOM_TEXT'})]\n",
      "--------------\n",
      "PSA 2010. 3ng/ml, PSA 2012. 1,53ng/ml . - Bx va\n",
      "['measurement_object', 'date9', 'unit', 'measurement_object', 'date9', 'number1', 'unit', 'unit']\n",
      "SL[Span(3, {'no_idea': 'text', 'grammar_symbol': 'RANDOM_TEXT'}),\n",
      "Span(,, {'no_idea': 'text', 'grammar_symbol': 'RANDOM_TEXT'}),\n",
      "Span(1,, {'no_idea': 'text', 'grammar_symbol': 'RANDOM_TEXT'}),\n",
      "Span(B, {'no_idea': 'text', 'grammar_symbol': 'RANDOM_TEXT'}),\n",
      "Span(va, {'no_idea': 'text', 'grammar_symbol': 'RANDOM_TEXT'})]\n",
      "--------------\n",
      "PSA 20105,99 ja 26.01.2012 uuesti .\n",
      "['measurement_object', 'date4', 'number2', 'unit', 'date4', 'date9']\n",
      "SL[Span(,, {'no_idea': 'text', 'grammar_symbol': 'RANDOM_TEXT'}),\n",
      "Span(j, {'no_idea': 'text', 'grammar_symbol': 'RANDOM_TEXT'}),\n",
      "Span(uuesti, {'no_idea': 'text', 'grammar_symbol': 'RANDOM_TEXT'})]\n",
      "--------------\n",
      "PSA 2011 oli 0 , 4 nG7ml .\n",
      "['measurement_object', 'date9', 'number1', 'unit', 'number1', 'unit']\n",
      "SL[Span(n, {'no_idea': 'text', 'grammar_symbol': 'RANDOM_TEXT'}),\n",
      "Span(l, {'no_idea': 'text', 'grammar_symbol': 'RANDOM_TEXT'})]\n",
      "--------------\n",
      "PSA 201222,25ng/ml\n",
      "['measurement_object', 'date4', 'unit']\n",
      "SL[Span(2,25, {'no_idea': 'text', 'grammar_symbol': 'RANDOM_TEXT'})]\n",
      "--------------\n",
      "PSA 2 aastajooksuldünaamikata , eriuuring\n",
      "['measurement_object', 'number1', 'unit', 'unit', 'unit', 'unit']\n",
      "SL[Span(jooksuldünaa, {'no_idea': 'text', 'grammar_symbol': 'RANDOM_TEXT'}),\n",
      "Span(ikat, {'no_idea': 'text', 'grammar_symbol': 'RANDOM_TEXT'}),\n",
      "Span(,, {'no_idea': 'text', 'grammar_symbol': 'RANDOM_TEXT'}),\n",
      "Span(eriuurin, {'no_idea': 'text', 'grammar_symbol': 'RANDOM_TEXT'})]\n",
      "--------------\n",
      ":psa 16,81! ! ! ! ! ,\n",
      "['unit', 'number1']\n",
      "SL[Span(ps, {'no_idea': 'text', 'grammar_symbol': 'RANDOM_TEXT'}),\n",
      "Span(!, {'no_idea': 'text', 'grammar_symbol': 'RANDOM_TEXT'}),\n",
      "Span(!, {'no_idea': 'text', 'grammar_symbol': 'RANDOM_TEXT'}),\n",
      "Span(!, {'no_idea': 'text', 'grammar_symbol': 'RANDOM_TEXT'}),\n",
      "Span(!, {'no_idea': 'text', 'grammar_symbol': 'RANDOM_TEXT'}),\n",
      "Span(!, {'no_idea': 'text', 'grammar_symbol': 'RANDOM_TEXT'}),\n",
      "Span(,, {'no_idea': 'text', 'grammar_symbol': 'RANDOM_TEXT'})]\n",
      "--------------\n",
      "Happe-aluse tasakaal 6.0 ( 5.0 .. 8.0 )\n",
      "['rubbish', 'number1', 'number1', 'number1']\n",
      "SL[Span(Happe, {'no_idea': 'text', 'grammar_symbol': 'RANDOM_TEXT'}),\n",
      "Span(aluse, {'no_idea': 'text', 'grammar_symbol': 'RANDOM_TEXT'}),\n",
      "Span((, {'no_idea': 'text', 'grammar_symbol': 'RANDOM_TEXT'}),\n",
      "Span(), {'no_idea': 'text', 'grammar_symbol': 'RANDOM_TEXT'})]\n",
      "--------------\n",
      "loli 25 mgx1 ja Monoprili 10 mg Kolesterool 2011a\n",
      "['number1', 'rubbish', 'unit', 'number1', 'unit', 'number1', 'rubbish', 'measurement_object', 'date8']\n",
      "SL[Span(l, {'no_idea': 'text', 'grammar_symbol': 'RANDOM_TEXT'}),\n",
      "Span(j, {'no_idea': 'text', 'grammar_symbol': 'RANDOM_TEXT'}),\n",
      "Span(M, {'no_idea': 'text', 'grammar_symbol': 'RANDOM_TEXT'}),\n",
      "Span(oprili, {'no_idea': 'text', 'grammar_symbol': 'RANDOM_TEXT'})]\n",
      "--------------\n",
      "Kolesterool 1k aastas .\n",
      "['measurement_object', 'number1', 'unit']\n",
      "SL[Span(k, {'no_idea': 'text', 'grammar_symbol': 'RANDOM_TEXT'}),\n",
      "Span(s, {'no_idea': 'text', 'grammar_symbol': 'RANDOM_TEXT'})]\n",
      "--------------\n",
      "Kõrgenenud kolesterool 2a ( mõõdetud ). Ei pea dieetist kinni\n",
      "['unit', 'measurement_object', 'number1', 'unit', 'unit', 'unit']\n",
      "SL[Span(Kõr, {'no_idea': 'text', 'grammar_symbol': 'RANDOM_TEXT'}),\n",
      "Span(enenud, {'no_idea': 'text', 'grammar_symbol': 'RANDOM_TEXT'}),\n",
      "Span((, {'no_idea': 'text', 'grammar_symbol': 'RANDOM_TEXT'}),\n",
      "Span(õõdetud, {'no_idea': 'text', 'grammar_symbol': 'RANDOM_TEXT'}),\n",
      "Span(), {'no_idea': 'text', 'grammar_symbol': 'RANDOM_TEXT'}),\n",
      "Span(Ei, {'no_idea': 'text', 'grammar_symbol': 'RANDOM_TEXT'}),\n",
      "Span(pe, {'no_idea': 'text', 'grammar_symbol': 'RANDOM_TEXT'}),\n",
      "Span(dieetist, {'no_idea': 'text', 'grammar_symbol': 'RANDOM_TEXT'}),\n",
      "Span(kinni, {'no_idea': 'text', 'grammar_symbol': 'RANDOM_TEXT'})]\n",
      "--------------\n",
      "Kontr Verekol 08.12a Per-le juurde .\n",
      "['measurement_object', 'number1', 'unit']\n",
      "SL[Span(K, {'no_idea': 'text', 'grammar_symbol': 'RANDOM_TEXT'}),\n",
      "Span(tr, {'no_idea': 'text', 'grammar_symbol': 'RANDOM_TEXT'}),\n",
      "Span(Vere, {'no_idea': 'text', 'grammar_symbol': 'RANDOM_TEXT'}),\n",
      "Span(Per, {'no_idea': 'text', 'grammar_symbol': 'RANDOM_TEXT'}),\n",
      "Span(le, {'no_idea': 'text', 'grammar_symbol': 'RANDOM_TEXT'}),\n",
      "Span(juurde, {'no_idea': 'text', 'grammar_symbol': 'RANDOM_TEXT'})]\n",
      "--------------\n",
      "s vas munajuha kasvaja op , günekol 3a tagssi .\n",
      "['unit', 'unit', 'measurement_object', 'unit', 'unit', 'measurement_object', 'number1', 'unit', 'unit']\n",
      "SL[Span(s, {'no_idea': 'text', 'grammar_symbol': 'RANDOM_TEXT'}),\n",
      "Span(vas, {'no_idea': 'text', 'grammar_symbol': 'RANDOM_TEXT'}),\n",
      "Span(unajuh, {'no_idea': 'text', 'grammar_symbol': 'RANDOM_TEXT'}),\n",
      "Span(aj, {'no_idea': 'text', 'grammar_symbol': 'RANDOM_TEXT'}),\n",
      "Span(op, {'no_idea': 'text', 'grammar_symbol': 'RANDOM_TEXT'}),\n",
      "Span(,, {'no_idea': 'text', 'grammar_symbol': 'RANDOM_TEXT'}),\n",
      "Span(üne, {'no_idea': 'text', 'grammar_symbol': 'RANDOM_TEXT'}),\n",
      "Span(ta, {'no_idea': 'text', 'grammar_symbol': 'RANDOM_TEXT'}),\n",
      "Span(ssi, {'no_idea': 'text', 'grammar_symbol': 'RANDOM_TEXT'})]\n",
      "--------------\n",
      "08.11.2010 PSA 13.12.2011 7,2ng/ml PSADT on väike .\n",
      "['date4', 'measurement_object', 'date4', 'date9', 'number1', 'unit', 'measurement_object']\n",
      "SL[Span(DT, {'no_idea': 'text', 'grammar_symbol': 'RANDOM_TEXT'}),\n",
      "Span(väike, {'no_idea': 'text', 'grammar_symbol': 'RANDOM_TEXT'})]\n",
      "--------------\n",
      "Rütmihäire tsüklipikkus 330 msek\n",
      "['unit', 'measurement_object', 'measurement_object', 'number1', 'unit']\n",
      "SL[Span(Rüt, {'no_idea': 'text', 'grammar_symbol': 'RANDOM_TEXT'}),\n",
      "Span(ihäire, {'no_idea': 'text', 'grammar_symbol': 'RANDOM_TEXT'}),\n",
      "Span(ts, {'no_idea': 'text', 'grammar_symbol': 'RANDOM_TEXT'}),\n",
      "Span(li, {'no_idea': 'text', 'grammar_symbol': 'RANDOM_TEXT'})]\n",
      "--------------\n",
      "Loote pikkus :   3 mm - vastab  5 nädalat 6 päeva.\n",
      "['measurement_object', 'number1', 'rubbish', 'number1', 'unit', 'number1', 'unit']\n",
      "SL[Span(Loote, {'no_idea': 'text', 'grammar_symbol': 'RANDOM_TEXT'}),\n",
      "Span(vastab, {'no_idea': 'text', 'grammar_symbol': 'RANDOM_TEXT'}),\n",
      "Span(at, {'no_idea': 'text', 'grammar_symbol': 'RANDOM_TEXT'}),\n",
      "Span(päev, {'no_idea': 'text', 'grammar_symbol': 'RANDOM_TEXT'})]\n",
      "--------------\n",
      "Põhjendus: PALAT 10 # ALAT maksanäitaja\n",
      "['rubbish', 'number1', 'measurement_object', 'unit']\n",
      "SL[Span(Põhjendus, {'no_idea': 'text', 'grammar_symbol': 'RANDOM_TEXT'}),\n",
      "Span(#, {'no_idea': 'text', 'grammar_symbol': 'RANDOM_TEXT'}),\n",
      "Span(aksanäitaja, {'no_idea': 'text', 'grammar_symbol': 'RANDOM_TEXT'})]\n",
      "--------------\n",
      "ärme vähk 2007 aastast cT3N0M0PSA 59ng/ml .\n",
      "['unit', 'date8', 'number1', 'number1', 'number1', 'measurement_object', 'number1', 'unit']\n",
      "SL[Span(är, {'no_idea': 'text', 'grammar_symbol': 'RANDOM_TEXT'}),\n",
      "Span(e, {'no_idea': 'text', 'grammar_symbol': 'RANDOM_TEXT'}),\n",
      "Span(vähk, {'no_idea': 'text', 'grammar_symbol': 'RANDOM_TEXT'}),\n",
      "Span(astast, {'no_idea': 'text', 'grammar_symbol': 'RANDOM_TEXT'}),\n",
      "Span(cT, {'no_idea': 'text', 'grammar_symbol': 'RANDOM_TEXT'}),\n",
      "Span(N, {'no_idea': 'text', 'grammar_symbol': 'RANDOM_TEXT'}),\n",
      "Span(M, {'no_idea': 'text', 'grammar_symbol': 'RANDOM_TEXT'})]\n",
      "--------------\n",
      "PSA 8,5( püsib aastaid selles väärtus\n",
      "['measurement_object', 'number1', 'unit']\n",
      "SL[Span((, {'no_idea': 'text', 'grammar_symbol': 'RANDOM_TEXT'}),\n",
      "Span(püsib, {'no_idea': 'text', 'grammar_symbol': 'RANDOM_TEXT'}),\n",
      "Span(id, {'no_idea': 'text', 'grammar_symbol': 'RANDOM_TEXT'}),\n",
      "Span(selles, {'no_idea': 'text', 'grammar_symbol': 'RANDOM_TEXT'}),\n",
      "Span(väärtus, {'no_idea': 'text', 'grammar_symbol': 'RANDOM_TEXT'})]\n",
      "--------------\n",
      "S , P-PSA 4.130( <4.100 µg/L )\n",
      "['measurement_object', 'date4', 'date4', 'unit']\n",
      "SL[Span((, {'no_idea': 'text', 'grammar_symbol': 'RANDOM_TEXT'}),\n",
      "Span(), {'no_idea': 'text', 'grammar_symbol': 'RANDOM_TEXT'})]\n",
      "--------------\n",
      "PSA 5,2.\n",
      "['measurement_object', 'number1']\n",
      "SL[]\n",
      "--------------\n",
      "Kolesterool oli 7,9 mmol/l 0\n",
      "['measurement_object', 'number1', 'rubbish', 'number1']\n",
      "SL[]\n",
      "--------------\n",
      "kolesterool 6.4.\n",
      "['measurement_object', 'number1']\n",
      "SL[]\n",
      "--------------\n",
      "Kolesterool 5,2 mmol/l - esialgu dieet .\n",
      "['measurement_object', 'number1', 'rubbish', 'unit']\n",
      "SL[Span(esial, {'no_idea': 'text', 'grammar_symbol': 'RANDOM_TEXT'}),\n",
      "Span(u, {'no_idea': 'text', 'grammar_symbol': 'RANDOM_TEXT'}),\n",
      "Span(dieet, {'no_idea': 'text', 'grammar_symbol': 'RANDOM_TEXT'})]\n",
      "--------------\n",
      "SK 3900 g , SP 51 cm .\n",
      "['measurement_object', 'date4', 'unit', 'measurement_object', 'number1', 'unit']\n",
      "SL[Span(,, {'no_idea': 'text', 'grammar_symbol': 'RANDOM_TEXT'})]\n",
      "--------------\n",
      "Lapse kaal 5,4 kg/82 mg/0,82 ml i/m .\n",
      "['measurement_object', 'number1', 'unit', 'number1', 'rubbish', 'number1', 'unit', 'unit']\n",
      "SL[Span(Lapse, {'no_idea': 'text', 'grammar_symbol': 'RANDOM_TEXT'}),\n",
      "Span(/, {'no_idea': 'text', 'grammar_symbol': 'RANDOM_TEXT'}),\n",
      "Span(/, {'no_idea': 'text', 'grammar_symbol': 'RANDOM_TEXT'}),\n",
      "Span(l, {'no_idea': 'text', 'grammar_symbol': 'RANDOM_TEXT'}),\n",
      "Span(i/, {'no_idea': 'text', 'grammar_symbol': 'RANDOM_TEXT'})]\n",
      "--------------\n",
      "Kehakaal 80,2 kg , KMI 25,9\n",
      "['measurement_object', 'number1', 'unit', 'number1']\n",
      "SL[Span(,, {'no_idea': 'text', 'grammar_symbol': 'RANDOM_TEXT'}),\n",
      "Span(KMI, {'no_idea': 'text', 'grammar_symbol': 'RANDOM_TEXT'})]\n",
      "--------------\n",
      "S , P-NT-proBNP 668 ( <125 pg/mL ) S , P-Albumiin 43 ( 35 .. 52 g/L ) S , P-ALAT 25 ( <33 U/L )\n",
      "['number1', 'number1', 'unit', 'unit', 'unit', 'number1', 'number1', 'number1', 'unit', 'measurement_object', 'number1', 'number1', 'unit']\n",
      "SL[Span(S, {'no_idea': 'text', 'grammar_symbol': 'RANDOM_TEXT'}),\n",
      "Span(,, {'no_idea': 'text', 'grammar_symbol': 'RANDOM_TEXT'}),\n",
      "Span(P, {'no_idea': 'text', 'grammar_symbol': 'RANDOM_TEXT'}),\n",
      "Span(NT, {'no_idea': 'text', 'grammar_symbol': 'RANDOM_TEXT'}),\n",
      "Span(proBNP, {'no_idea': 'text', 'grammar_symbol': 'RANDOM_TEXT'}),\n",
      "Span((, {'no_idea': 'text', 'grammar_symbol': 'RANDOM_TEXT'}),\n",
      "Span(p, {'no_idea': 'text', 'grammar_symbol': 'RANDOM_TEXT'}),\n",
      "Span(/, {'no_idea': 'text', 'grammar_symbol': 'RANDOM_TEXT'}),\n",
      "Span(L, {'no_idea': 'text', 'grammar_symbol': 'RANDOM_TEXT'}),\n",
      "Span(), {'no_idea': 'text', 'grammar_symbol': 'RANDOM_TEXT'}),\n",
      "Span(S, {'no_idea': 'text', 'grammar_symbol': 'RANDOM_TEXT'}),\n",
      "Span(,, {'no_idea': 'text', 'grammar_symbol': 'RANDOM_TEXT'}),\n",
      "Span(P, {'no_idea': 'text', 'grammar_symbol': 'RANDOM_TEXT'}),\n",
      "Span(Albu, {'no_idea': 'text', 'grammar_symbol': 'RANDOM_TEXT'}),\n",
      "Span(iin, {'no_idea': 'text', 'grammar_symbol': 'RANDOM_TEXT'}),\n",
      "Span((, {'no_idea': 'text', 'grammar_symbol': 'RANDOM_TEXT'}),\n",
      "Span(/L, {'no_idea': 'text', 'grammar_symbol': 'RANDOM_TEXT'}),\n",
      "Span(), {'no_idea': 'text', 'grammar_symbol': 'RANDOM_TEXT'}),\n",
      "Span(S, {'no_idea': 'text', 'grammar_symbol': 'RANDOM_TEXT'}),\n",
      "Span(,, {'no_idea': 'text', 'grammar_symbol': 'RANDOM_TEXT'}),\n",
      "Span(P, {'no_idea': 'text', 'grammar_symbol': 'RANDOM_TEXT'}),\n",
      "Span((, {'no_idea': 'text', 'grammar_symbol': 'RANDOM_TEXT'}),\n",
      "Span(), {'no_idea': 'text', 'grammar_symbol': 'RANDOM_TEXT'})]\n",
      "--------------\n",
      "PSA 6,5 ng/ml, eesnäärme maht67cm3\n",
      "['measurement_object', 'number1', 'unit', 'unit', 'unit', 'number1', 'unit', 'number1']\n",
      "SL[Span(,, {'no_idea': 'text', 'grammar_symbol': 'RANDOM_TEXT'}),\n",
      "Span(eesnäär, {'no_idea': 'text', 'grammar_symbol': 'RANDOM_TEXT'}),\n",
      "Span(e, {'no_idea': 'text', 'grammar_symbol': 'RANDOM_TEXT'}),\n",
      "Span(aht, {'no_idea': 'text', 'grammar_symbol': 'RANDOM_TEXT'})]\n",
      "--------------\n",
      "rjeldus : Siinusbradükardia Fr 587min\n",
      "['measurement_object', 'unit', 'measurement_object', 'number1', 'unit']\n",
      "SL[Span(rjeldus, {'no_idea': 'text', 'grammar_symbol': 'RANDOM_TEXT'}),\n",
      "Span(Siinusbrad, {'no_idea': 'text', 'grammar_symbol': 'RANDOM_TEXT'}),\n",
      "Span(ardi, {'no_idea': 'text', 'grammar_symbol': 'RANDOM_TEXT'})]\n",
      "--------------\n"
     ]
    }
   ],
   "source": [
    "for line in tagged_lines:\n",
    "    print(line.text)\n",
    "    #print(line.dates2)\n",
    "    print(line.regex_type)\n",
    "    print(line.random_text_layer)\n",
    "    print('--------------')"
   ]
  },
  {
   "cell_type": "markdown",
   "metadata": {
    "collapsed": true
   },
   "source": [
    "# GRAMMAR\n",
    "\n",
    "(MO = measurement_object)<br>\n",
    "QNUMBER = NUMBER_UNIT<br>\n",
    "QNUMBER = NUMBER<br>\n",
    "MEASUREMENT = MO_DATE_QNUMBER<br>\n",
    "MEASUREMENT = MO_QNUMBER<br>\n",
    "TRASH = RUBBISH_NUMBER<br>\n",
    "TRASH = RUBBISH_MO_NUMBER<br>\n",
    "TRASH = RUBBISH<br>\n",
    "TRASH = MO_DATE"
   ]
  },
  {
   "cell_type": "code",
   "execution_count": 18,
   "metadata": {
    "collapsed": false
   },
   "outputs": [
    {
     "data": {
      "text/plain": [
       "\n",
       "Grammar:\n",
       "\tstart: MEASUREMENT, TRASH\n",
       "\tterminals: DATE, MO, NUMBER, RUBBISH, UNIT\n",
       "\tnonterminals: MEASUREMENT, QNUMBER, TRASH\n",
       "Rules:\n",
       "\tQNUMBER -> NUMBER UNIT\t: 0, cc: checker, dec: qnumber_decorator\n",
       "\tQNUMBER -> NUMBER\t: 1, cc: checker, dec: decorator\n",
       "\tMEASUREMENT -> MO DATE QNUMBER\t: 0, cc: measurement_checker, dec: measurement_decorator\n",
       "\tMEASUREMENT -> MO QNUMBER\t: 0, cc: measurement_checker, dec: decorator\n",
       "\tTRASH -> RUBBISH NUMBER\t: 0, cc: checker, dec: decorator\n",
       "\tTRASH -> RUBBISH MO NUMBER\t: 0, cc: checker, dec: decorator\n",
       "\tTRASH -> RUBBISH\t: 0, cc: checker, dec: decorator\n",
       "\tTRASH -> MO DATE\t: 0, cc: checker, dec: decorator"
      ]
     },
     "execution_count": 18,
     "metadata": {},
     "output_type": "execute_result"
    }
   ],
   "source": [
    "from estnltk.finite_grammar.trees import Rule, Grammar\n",
    "\n",
    "\n",
    "def decorator(nodes):\n",
    "    return {}\n",
    "\n",
    "\n",
    "def checker(nodes):\n",
    "    return True\n",
    "\n",
    "##def date_decorator(nodes):\n",
    "#    date = nodes\n",
    "#    return {'regex_type': date.regex_type}\n",
    "\n",
    "def qnumber_decorator(nodes):\n",
    "    #if len(nodes) == 2:\n",
    "    number, unit = nodes\n",
    "    unit_type = unit.value\n",
    "    return {'value': float(number.text.replace(',', '.').replace(' ', '')),\n",
    "            'unit': unit.text,\n",
    "            'unit_type': unit_type,\n",
    "            'mtype': 'continuous'}\n",
    "\n",
    "\n",
    "def measurement_decorator(nodes):\n",
    "    return {'date': nodes[1].value}\n",
    "\n",
    "\n",
    "def measurement_checker(nodes):\n",
    "    #if len(nodes) == 2:\n",
    "    mo, qnumber = nodes[0], nodes[1]\n",
    "    #units = {'psa':'psa_unit',\n",
    "    #         'kolesterool':'chol_unit',\n",
    "    ##         'pulss':'pulss_unit',\n",
    "    #         'pikkus':'pikkus_unit',\n",
    "    #         'kaal':'kaal_unit',\n",
    "    #         'alat':'alat_unit'\n",
    "    #        }\n",
    "    #elif len(nodes) == 3:\n",
    "    #    mo, qnumber = nodes[0], nodes[2]\n",
    "    #    units = {'psa':'xx_unit',\n",
    "                 #'kolesterool':'chol_unit',\n",
    "                 #'pulss':'pulss_unit',\n",
    "                 #'pikkus':'pikkus_unit',\n",
    "                 #'kaal':'kaal_unit',\n",
    "                #'alat':'alat_unit'\n",
    "                #}\n",
    "    if hasattr(qnumber, 'unit_type'):\n",
    "        return True\n",
    "        #return units[mo.value] == qnumber.unit_type\n",
    "    return False\n",
    "\n",
    "rules = []      \n",
    "rules.append(Rule('QNUMBER', 'NUMBER UNIT', 0, qnumber_decorator, checker))\n",
    "rules.append(Rule('QNUMBER', 'NUMBER', 1, decorator, checker))\n",
    "rules.append(Rule('MEASUREMENT', 'MO DATE QNUMBER', 0, measurement_decorator, measurement_checker))\n",
    "rules.append(Rule('MEASUREMENT', 'MO QNUMBER', 0, decorator, measurement_checker))\n",
    "rules.append(Rule('TRASH', 'RUBBISH NUMBER', 0, decorator, checker))\n",
    "rules.append(Rule('TRASH', 'RUBBISH MO NUMBER', 0, decorator, checker))\n",
    "rules.append(Rule('TRASH', 'RUBBISH', 0, decorator, checker))\n",
    "rules.append(Rule('TRASH', 'MO DATE', 0, decorator, checker))\n",
    "\n",
    "grammar = Grammar(start_symbols=['MEASUREMENT', 'TRASH'], rules=rules)\n",
    "grammar"
   ]
  },
  {
   "cell_type": "code",
   "execution_count": 19,
   "metadata": {
    "collapsed": false
   },
   "outputs": [
    {
     "name": "stdout",
     "output_type": "stream",
     "text": [
      "['MO', 'DATE', 'NUMBER', 'UNIT', 'RUBBISH', 'NUMBER']\n",
      "['MO', 'DATE', 'NUMBER', 'UNIT', 'RUBBISH', 'MO', 'NUMBER']\n",
      "['MO', 'DATE', 'NUMBER', 'UNIT', 'RUBBISH']\n",
      "['MO', 'DATE', 'NUMBER', 'UNIT', 'MO', 'DATE']\n",
      "['MO', 'DATE', 'NUMBER', 'RUBBISH', 'NUMBER']\n",
      "['MO', 'DATE', 'NUMBER', 'RUBBISH', 'MO', 'NUMBER']\n",
      "['MO', 'DATE', 'NUMBER', 'RUBBISH']\n",
      "['MO', 'DATE', 'NUMBER', 'MO', 'DATE']\n",
      "['MO', 'NUMBER', 'UNIT', 'RUBBISH', 'NUMBER']\n",
      "['MO', 'NUMBER', 'UNIT', 'RUBBISH', 'MO', 'NUMBER']\n",
      "['MO', 'NUMBER', 'UNIT', 'RUBBISH']\n",
      "['MO', 'NUMBER', 'UNIT', 'MO', 'DATE']\n",
      "['MO', 'NUMBER', 'RUBBISH', 'NUMBER']\n",
      "['MO', 'NUMBER', 'RUBBISH', 'MO', 'NUMBER']\n",
      "['MO', 'NUMBER', 'RUBBISH']\n",
      "['MO', 'NUMBER', 'MO', 'DATE']\n"
     ]
    }
   ],
   "source": [
    "from estnltk.finite_grammar import phrase_list_generator\n",
    "\n",
    "for phrase in phrase_list_generator(grammar, depth=3):\n",
    "    print(phrase)"
   ]
  },
  {
   "cell_type": "code",
   "execution_count": 20,
   "metadata": {
    "collapsed": false
   },
   "outputs": [
    {
     "data": {
      "text/plain": [
       "['measurement_object', 'unit', 'measurement_object', 'number1', 'unit']"
      ]
     },
     "execution_count": 20,
     "metadata": {},
     "output_type": "execute_result"
    }
   ],
   "source": [
    "text.regex_type"
   ]
  },
  {
   "cell_type": "code",
   "execution_count": 21,
   "metadata": {
    "collapsed": false
   },
   "outputs": [
    {
     "name": "stdout",
     "output_type": "stream",
     "text": [
      "PSA 03042012 - 0,83ng/ml perearsti poolt .\n"
     ]
    },
    {
     "data": {
      "image/png": "[encoded data removed]",
      "text/plain": [
       "<matplotlib.figure.Figure at 0x7f92e0b0ed68>"
      ]
     },
     "metadata": {},
     "output_type": "display_data"
    }
   ],
   "source": [
    "from estnltk.layer_operations.consecutive import iterate_consecutive_spans\n",
    "from estnltk.finite_grammar.trees import START_SPAN, END_SPAN, Node, parse_graph, plot_graph, LayerGraph\n",
    "\n",
    "\n",
    "def parse_text(text):\n",
    "    graph = LayerGraph()\n",
    "    spans = list(text.type) + list(text.random_text_layer) + [START_SPAN, END_SPAN]\n",
    "    for a, b in iterate_consecutive_spans(spans):\n",
    "        graph.add_edge( Node(support=a), Node(support=b))\n",
    "\n",
    "    graph = parse_graph(graph, grammar, 4)\n",
    "    return graph\n",
    "\n",
    "text = tagged_lines[0]\n",
    "print(text.text)\n",
    "graph = parse_text(text)\n",
    "plot_graph(graph)"
   ]
  },
  {
   "cell_type": "code",
   "execution_count": 22,
   "metadata": {
    "collapsed": true
   },
   "outputs": [],
   "source": [
    "t = 'PSA 03042012 - 0,83ng/ml perearsti poolt .'"
   ]
  },
  {
   "cell_type": "code",
   "execution_count": 23,
   "metadata": {
    "collapsed": true
   },
   "outputs": [],
   "source": [
    "t2 = 'PSA 2010. 3ng/ml, PSA 2012. 1,53ng/ml . - Bx va'"
   ]
  },
  {
   "cell_type": "code",
   "execution_count": 24,
   "metadata": {
    "collapsed": true
   },
   "outputs": [],
   "source": [
    "t3 = 'Kehakaal 80,2 kg , KMI 25,9'"
   ]
  },
  {
   "cell_type": "code",
   "execution_count": 25,
   "metadata": {
    "collapsed": false
   },
   "outputs": [
    {
     "name": "stdout",
     "output_type": "stream",
     "text": [
      "PSA 03042012 - 0,83ng/ml perearsti poolt .\n",
      "name                text                value               unit_type           regex_type          \n",
      "\n",
      "DATE                03042012            date                                    date4               \n",
      "MO                  PSA                 psa                                     measurement_object  \n",
      "NUMBER              0,83                whatever                                number1             \n",
      "QNUMBER             0,83                                                                            \n",
      "QNUMBER             0,83ng/ml                                                                       \n",
      "UNIT                ng/ml               psa_unit                                unit                \n"
     ]
    }
   ],
   "source": [
    "text = Text(t)\n",
    "test_regex_tagger.tag(text)\n",
    "space_tagger.tag(text)\n",
    "gaps_tagger.tag(text)\n",
    "print(text.text)\n",
    "graph = parse_text(text)\n",
    "print_nodes(graph, text, \n",
    "        names={'DATE','UNIT','QNUMBER', 'MEASUREMENT', 'MO', 'NUMBER'},\n",
    "        attributes=['name', 'text', 'value','unit_type', 'regex_type'])"
   ]
  },
  {
   "cell_type": "code",
   "execution_count": 26,
   "metadata": {
    "collapsed": false
   },
   "outputs": [
    {
     "name": "stdout",
     "output_type": "stream",
     "text": [
      "PSA 2010. 3ng/ml, PSA 2012. 1,53ng/ml . - Bx va\n",
      "name                text                value               unit_type           regex_type          \n",
      "\n",
      "DATE                2010                partial_date                            date9               \n",
      "DATE                2012                partial_date                            date9               \n",
      "MO                   PSA                psa                                     measurement_object  \n",
      "MO                  PSA                 psa                                     measurement_object  \n",
      "NUMBER              53                  whatever                                number1             \n",
      "QNUMBER             53                                                                              \n",
      "QNUMBER             53ng/ml                                                                         \n",
      "UNIT                ng/ml               psa_unit                                unit                \n",
      "UNIT                ng/ml               psa_unit                                unit                \n",
      "UNIT                x                   time_unit                               unit                \n"
     ]
    }
   ],
   "source": [
    "text = Text(t2)\n",
    "test_regex_tagger.tag(text)\n",
    "space_tagger.tag(text)\n",
    "gaps_tagger.tag(text)\n",
    "print(text.text)\n",
    "graph = parse_text(text)\n",
    "print_nodes(graph, text, \n",
    "        names={'DATE','UNIT','QNUMBER', 'MEASUREMENT', 'MO', 'NUMBER'},\n",
    "        attributes=['name', 'text', 'value','unit_type', 'regex_type'])"
   ]
  },
  {
   "cell_type": "code",
   "execution_count": 27,
   "metadata": {
    "collapsed": false
   },
   "outputs": [
    {
     "name": "stdout",
     "output_type": "stream",
     "text": [
      "Kehakaal 80,2 kg , KMI 25,9\n",
      "name                text                value               unit_type           regex_type          \n",
      "\n",
      "MO                  Kehakaal            kaal                                    measurement_object  \n",
      "NUMBER              25,9                whatever                                number1             \n",
      "NUMBER              80,2                whatever                                number1             \n",
      "QNUMBER             25,9                                                                            \n",
      "QNUMBER             80,2                                                                            \n",
      "QNUMBER             80,2 kg                                                                         \n",
      "UNIT                kg                  kaal_unit                               unit                \n"
     ]
    }
   ],
   "source": [
    "text = Text(t3)\n",
    "test_regex_tagger.tag(text)\n",
    "space_tagger.tag(text)\n",
    "gaps_tagger.tag(text)\n",
    "print(text.text)\n",
    "graph = parse_text(text)\n",
    "print_nodes(graph, text, \n",
    "        names={'DATE','UNIT','QNUMBER', 'MEASUREMENT', 'MO', 'NUMBER'},\n",
    "        attributes=['name', 'text', 'value','unit_type', 'regex_type'])"
   ]
  },
  {
   "cell_type": "code",
   "execution_count": 28,
   "metadata": {
    "collapsed": false
   },
   "outputs": [
    {
     "name": "stdout",
     "output_type": "stream",
     "text": [
      "PSA 03042012 - 0,83ng/ml perearsti poolt .\n",
      "name                text                value               type                start               unit_type           \n",
      "\n",
      "DATE                03042012            date                                    4                                       \n",
      "MO                  PSA                 psa                                     0                                       \n",
      "NUMBER              0,83                whatever                                15                                      \n",
      "QNUMBER             0,83                                                        15                                      \n",
      "QNUMBER             0,83ng/ml                                                   15                                      \n",
      "UNIT                ng/ml               psa_unit                                19                                      \n",
      "------------------------\n",
      "PSA 2010. 3ng/ml, PSA 2012. 1,53ng/ml . - Bx va\n",
      "name                text                value               type                start               unit_type           \n",
      "\n",
      "DATE                2010                partial_date                            4                                       \n",
      "DATE                2012                partial_date                            22                                      \n",
      "MO                   PSA                psa                                     17                                      \n",
      "MO                  PSA                 psa                                     0                                       \n",
      "NUMBER              53                  whatever                                30                                      \n",
      "QNUMBER             53                                                          30                                      \n",
      "QNUMBER             53ng/ml                                                     30                                      \n",
      "UNIT                ng/ml               psa_unit                                11                                      \n",
      "UNIT                ng/ml               psa_unit                                32                                      \n",
      "UNIT                x                   time_unit                               43                                      \n",
      "------------------------\n",
      "PSA 20105,99 ja 26.01.2012 uuesti .\n",
      "name                text                value               type                start               unit_type           \n",
      "\n",
      "DATE                20105               date                                    4                                       \n",
      "DATE                2012                partial_date                            22                                      \n",
      "DATE                26.01               date                                    16                                      \n",
      "MO                  PSA                 psa                                     0                                       \n",
      "NUMBER              99                  some_int                                10                                      \n",
      "QNUMBER             99                                                          10                                      \n",
      "UNIT                a                   time_unit                               14                                      \n",
      "------------------------\n",
      "PSA 2011 oli 0 , 4 nG7ml .\n",
      "name                text                value               type                start               unit_type           \n",
      "\n",
      "DATE                2011                partial_date                            4                                       \n",
      "MO                  PSA                 psa                                     0                                       \n",
      "NUMBER              0 , 4               whatever                                13                                      \n",
      "NUMBER              7                   whatever                                21                                      \n",
      "QNUMBER             0 , 4                                                       13                                      \n",
      "QNUMBER             7                                                           21                                      \n",
      "QNUMBER             7m                                                          21                                      \n",
      "UNIT                G                   kaal_unit                               20                                      \n",
      "UNIT                m                   pikkus_unit                             22                                      \n",
      "------------------------\n",
      "PSA 201222,25ng/ml\n",
      "name                text                value               type                start               unit_type           \n",
      "\n",
      "DATE                20122               date                                    4                                       \n",
      "MO                  PSA                 psa                                     0                                       \n",
      "UNIT                ng/ml               psa_unit                                13                                      \n",
      "------------------------\n",
      "PSA 2 aastajooksuldünaamikata , eriuuring\n",
      "name                text                value               type                start               unit_type           \n",
      "\n",
      "MO                  PSA                 psa                                     0                                       \n",
      "NUMBER              2                   whatever                                4                                       \n",
      "QNUMBER             2                                                           4                                       \n",
      "QNUMBER             2 aasta                                                     4                                       \n",
      "UNIT                a                   time_unit                               28                                      \n",
      "UNIT                aasta               time_unit                               6                                       \n",
      "UNIT                g                   kaal_unit                               40                                      \n",
      "UNIT                m                   pikkus_unit                             23                                      \n",
      "------------------------\n",
      ":psa 16,81! ! ! ! ! ,\n",
      "name                text                value               type                start               unit_type           \n",
      "\n",
      "NUMBER              16,81               whatever                                5                                       \n",
      "QNUMBER             16,81                                                       5                                       \n",
      "UNIT                a                   time_unit                               3                                       \n",
      "------------------------\n",
      "Happe-aluse tasakaal 6.0 ( 5.0 .. 8.0 )\n",
      "name                text                value               type                start               unit_type           \n",
      "\n",
      "NUMBER              5.0                 whatever                                27                                      \n",
      "NUMBER              6.0                 whatever                                21                                      \n",
      "NUMBER              8.0                 whatever                                34                                      \n",
      "QNUMBER             5.0                                                         27                                      \n",
      "QNUMBER             6.0                                                         21                                      \n",
      "QNUMBER             8.0                                                         34                                      \n",
      "------------------------\n",
      "loli 25 mgx1 ja Monoprili 10 mg Kolesterool 2011a\n",
      "name                text                value               type                start               unit_type           \n",
      "\n",
      "DATE                2011a               partial_date                            44                                      \n",
      "MO                  Kolesterool         kolesterool                             32                                      \n",
      "NUMBER              1                   whatever                                11                                      \n",
      "NUMBER              10                  whatever                                26                                      \n",
      "NUMBER              25                  whatever                                5                                       \n",
      "QNUMBER             1                                                           11                                      \n",
      "QNUMBER             10                                                          26                                      \n",
      "QNUMBER             10 mg                                                       26                                      \n",
      "QNUMBER             25                                                          5                                       \n",
      "QNUMBER             25 mg                                                       5                                       \n",
      "UNIT                a                   time_unit                               14                                      \n",
      "UNIT                mg                  not_pikkus_unit                         8                                       \n",
      "UNIT                mg                  not_pikkus_unit                         29                                      \n",
      "UNIT                x                   time_unit                               10                                      \n",
      "------------------------\n",
      "Kolesterool 1k aastas .\n",
      "name                text                value               type                start               unit_type           \n",
      "\n",
      "MO                  Kolesterool         kolesterool                             0                                       \n",
      "NUMBER              1                   whatever                                12                                      \n",
      "QNUMBER             1                                                           12                                      \n",
      "UNIT                aasta               time_unit                               15                                      \n",
      "------------------------\n",
      "Kõrgenenud kolesterool 2a ( mõõdetud ). Ei pea dieetist kinni\n",
      "name                text                value               type                start               unit_type           \n",
      "\n",
      "MO                  kolesterool         kolesterool                             11                                      \n",
      "NUMBER              2                   whatever                                23                                      \n",
      "QNUMBER             2                                                           23                                      \n",
      "QNUMBER             2a                                                          23                                      \n",
      "UNIT                a                   time_unit                               24                                      \n",
      "UNIT                a                   time_unit                               45                                      \n",
      "UNIT                g                   kaal_unit                               3                                       \n",
      "UNIT                m                   pikkus_unit                             28                                      \n",
      "------------------------\n",
      "Kontr Verekol 08.12a Per-le juurde .\n",
      "name                text                value               type                start               unit_type           \n",
      "\n",
      "MO                  kol                 kolesterool                             10                                      \n",
      "NUMBER              08.12               whatever                                14                                      \n",
      "QNUMBER             08.12                                                       14                                      \n",
      "QNUMBER             08.12a                                                      14                                      \n",
      "UNIT                a                   time_unit                               19                                      \n",
      "------------------------\n",
      "s vas munajuha kasvaja op , günekol 3a tagssi .\n",
      "name                text                value               type                start               unit_type           \n",
      "\n",
      "MO                  kasv                pikkus                                  15                                      \n",
      "MO                  kol                 kolesterool                             32                                      \n",
      "NUMBER              3                   whatever                                36                                      \n",
      "QNUMBER             3                                                           36                                      \n",
      "QNUMBER             3a                                                          36                                      \n",
      "UNIT                a                   time_unit                               13                                      \n",
      "UNIT                a                   time_unit                               21                                      \n",
      "UNIT                a                   time_unit                               37                                      \n",
      "UNIT                g                   kaal_unit                               28                                      \n",
      "UNIT                g                   kaal_unit                               41                                      \n",
      "UNIT                m                   pikkus_unit                             6                                       \n",
      "------------------------\n",
      "08.11.2010 PSA 13.12.2011 7,2ng/ml PSADT on väike .\n",
      "name                text                value               type                start               unit_type           \n",
      "\n",
      "DATE                08.11.2010          date                                    0                                       \n",
      "DATE                13.12               date                                    15                                      \n",
      "DATE                2011                partial_date                            21                                      \n",
      "MO                   PSA                psa                                     10                                      \n",
      "MO                   PSA                psa                                     34                                      \n",
      "NUMBER              7,2                 whatever                                26                                      \n",
      "QNUMBER             7,2                                                         26                                      \n",
      "QNUMBER             7,2ng/ml                                                    26                                      \n",
      "UNIT                ng/ml               psa_unit                                29                                      \n",
      "------------------------\n",
      "Rütmihäire tsüklipikkus 330 msek\n",
      "name                text                value               type                start               unit_type           \n",
      "\n",
      "MO                  pikkus              pikkus                                  17                                      \n",
      "MO                  ük                  kolesterool                             13                                      \n",
      "NUMBER              330                 whatever                                24                                      \n",
      "QNUMBER             330                                                         24                                      \n",
      "QNUMBER             330 msek                                                    24                                      \n",
      "UNIT                m                   pikkus_unit                             3                                       \n",
      "UNIT                msek                time_unit                               28                                      \n",
      "------------------------\n",
      "Loote pikkus :   3 mm - vastab  5 nädalat 6 päeva.\n",
      "name                text                value               type                start               unit_type           \n",
      "\n",
      "MO                  pikkus              pikkus                                  6                                       \n",
      "NUMBER              3                   whatever                                17                                      \n",
      "NUMBER              5                   whatever                                32                                      \n",
      "NUMBER              6                   whatever                                42                                      \n",
      "QNUMBER             3                                                           17                                      \n",
      "QNUMBER             3 mm                                                        17                                      \n",
      "QNUMBER             5                                                           32                                      \n",
      "QNUMBER             5 nädal                                                     32                                      \n",
      "QNUMBER             6                                                           42                                      \n",
      "UNIT                a.                  time_unit                               48                                      \n",
      "UNIT                mm                  not_pikkus_unit                         19                                      \n",
      "UNIT                nädal               time_unit                               34                                      \n",
      "------------------------\n",
      "Põhjendus: PALAT 10 # ALAT maksanäitaja\n",
      "name                text                value               type                start               unit_type           \n",
      "\n",
      "MO                  ALAT                alat                                    22                                      \n",
      "NUMBER              10                  whatever                                17                                      \n",
      "QNUMBER             10                                                          17                                      \n",
      "UNIT                m                   pikkus_unit                             27                                      \n",
      "------------------------\n",
      "ärme vähk 2007 aastast cT3N0M0PSA 59ng/ml .\n",
      "name                text                value               type                start               unit_type           \n",
      "\n",
      "DATE                2007 a              partial_date                            10                                      \n",
      "MO                  PSA                 psa                                     30                                      \n",
      "NUMBER              0                   whatever                                27                                      \n",
      "NUMBER              0                   whatever                                29                                      \n",
      "NUMBER              3                   whatever                                25                                      \n",
      "NUMBER              59                  whatever                                34                                      \n",
      "QNUMBER             0                                                           27                                      \n",
      "QNUMBER             0                                                           29                                      \n",
      "QNUMBER             3                                                           25                                      \n",
      "QNUMBER             59                                                          34                                      \n",
      "QNUMBER             59ng/ml                                                     34                                      \n",
      "UNIT                m                   pikkus_unit                             2                                       \n",
      "UNIT                ng/ml               psa_unit                                36                                      \n",
      "------------------------\n",
      "PSA 8,5( püsib aastaid selles väärtus\n",
      "name                text                value               type                start               unit_type           \n",
      "\n",
      "MO                  PSA                 psa                                     0                                       \n",
      "NUMBER              8,5                 whatever                                4                                       \n",
      "QNUMBER             8,5                                                         4                                       \n",
      "UNIT                aasta               time_unit                               15                                      \n",
      "------------------------\n",
      "S , P-PSA 4.130( <4.100 µg/L )\n",
      "name                text                value               type                start               unit_type           \n",
      "\n",
      "DATE                4.100               date                                    18                                      \n",
      "DATE                4.130               date                                    10                                      \n",
      "MO                  S , P-PSA           psa                                     0                                       \n",
      "UNIT                µg/L                psa_unit                                24                                      \n",
      "------------------------\n",
      "PSA 5,2.\n",
      "name                text                value               type                start               unit_type           \n",
      "\n",
      "MO                  PSA                 psa                                     0                                       \n",
      "NUMBER              5,2                 whatever                                4                                       \n",
      "QNUMBER             5,2                                                         4                                       \n",
      "------------------------\n",
      "Kolesterool oli 7,9 mmol/l 0\n",
      "name                text                value               type                start               unit_type           \n",
      "\n",
      "MO                  Kolesterool         kolesterool                             0                                       \n",
      "NUMBER              0                   whatever                                27                                      \n",
      "NUMBER              7,9                 whatever                                16                                      \n",
      "QNUMBER             0                                                           27                                      \n",
      "QNUMBER             7,9                                                         16                                      \n",
      "QNUMBER             7,9 mmol/l                                                  16                                      \n",
      "UNIT                mmol/l              not_pikkus_unit                         20                                      \n",
      "------------------------\n",
      "kolesterool 6.4.\n",
      "name                text                value               type                start               unit_type           \n",
      "\n",
      "MO                  kolesterool         kolesterool                             0                                       \n",
      "NUMBER              6.4                 whatever                                12                                      \n",
      "QNUMBER             6.4                                                         12                                      \n",
      "------------------------\n",
      "Kolesterool 5,2 mmol/l - esialgu dieet .\n",
      "name                text                value               type                start               unit_type           \n",
      "\n",
      "MO                  Kolesterool         kolesterool                             0                                       \n",
      "NUMBER              5,2                 whatever                                12                                      \n",
      "QNUMBER             5,2                                                         12                                      \n",
      "QNUMBER             5,2 mmol/l                                                  12                                      \n",
      "UNIT                g                   kaal_unit                               30                                      \n",
      "UNIT                mmol/l              not_pikkus_unit                         16                                      \n",
      "------------------------\n",
      "SK 3900 g , SP 51 cm .\n",
      "name                text                value               type                start               unit_type           \n",
      "\n",
      "DATE                3900                date                                    3                                       \n",
      "MO                   SP                 pikkus                                  11                                      \n",
      "MO                  SK                  kaal                                    0                                       \n",
      "NUMBER              51                  whatever                                15                                      \n",
      "QNUMBER             51                                                          15                                      \n",
      "QNUMBER             51 cm                                                       15                                      \n",
      "UNIT                cm                  pikkus_unit                             18                                      \n",
      "UNIT                g                   kaal_unit                               8                                       \n",
      "------------------------\n",
      "Lapse kaal 5,4 kg/82 mg/0,82 ml i/m .\n",
      "name                text                value               type                start               unit_type           \n",
      "\n",
      "MO                  kaal                kaal                                    6                                       \n",
      "NUMBER              0,82                whatever                                24                                      \n",
      "NUMBER              5,4                 whatever                                11                                      \n",
      "NUMBER              82                  whatever                                18                                      \n",
      "QNUMBER             0,82                                                        24                                      \n",
      "QNUMBER             0,82 m                                                      24                                      \n",
      "QNUMBER             5,4                                                         11                                      \n",
      "QNUMBER             5,4 kg                                                      11                                      \n",
      "QNUMBER             82                                                          18                                      \n",
      "QNUMBER             82 mg                                                       18                                      \n",
      "UNIT                kg                  kaal_unit                               15                                      \n",
      "UNIT                m                   pikkus_unit                             29                                      \n",
      "UNIT                m                   pikkus_unit                             34                                      \n",
      "UNIT                mg                  not_pikkus_unit                         21                                      \n",
      "------------------------\n",
      "Kehakaal 80,2 kg , KMI 25,9\n",
      "name                text                value               type                start               unit_type           \n",
      "\n",
      "MO                  Kehakaal            kaal                                    0                                       \n",
      "NUMBER              25,9                whatever                                23                                      \n",
      "NUMBER              80,2                whatever                                9                                       \n",
      "QNUMBER             25,9                                                        23                                      \n",
      "QNUMBER             80,2                                                        9                                       \n",
      "QNUMBER             80,2 kg                                                     9                                       \n",
      "UNIT                kg                  kaal_unit                               14                                      \n",
      "------------------------\n",
      "S , P-NT-proBNP 668 ( <125 pg/mL ) S , P-Albumiin 43 ( 35 .. 52 g/L ) S , P-ALAT 25 ( <33 U/L )\n",
      "name                text                value               type                start               unit_type           \n",
      "\n",
      "MO                  ALAT                alat                                    76                                      \n",
      "NUMBER              125                 whatever                                23                                      \n",
      "NUMBER              25                  whatever                                81                                      \n",
      "NUMBER              33                  whatever                                87                                      \n",
      "NUMBER              35                  whatever                                55                                      \n",
      "NUMBER              43                  whatever                                50                                      \n",
      "NUMBER              52                  whatever                                61                                      \n",
      "NUMBER              668                 whatever                                16                                      \n",
      "QNUMBER             125                                                         23                                      \n",
      "QNUMBER             25                                                          81                                      \n",
      "QNUMBER             33                                                          87                                      \n",
      "QNUMBER             33 U/L                                                      87                                      \n",
      "QNUMBER             35                                                          55                                      \n",
      "QNUMBER             43                                                          50                                      \n",
      "QNUMBER             52                                                          61                                      \n",
      "QNUMBER             52 g                                                        61                                      \n",
      "QNUMBER             668                                                         16                                      \n",
      "UNIT                U/L                 alat_unit                               90                                      \n",
      "UNIT                g                   kaal_unit                               28                                      \n",
      "UNIT                g                   kaal_unit                               64                                      \n",
      "UNIT                m                   pikkus_unit                             30                                      \n",
      "UNIT                m                   pikkus_unit                             45                                      \n",
      "------------------------\n",
      "PSA 6,5 ng/ml, eesnäärme maht67cm3\n",
      "name                text                value               type                start               unit_type           \n",
      "\n",
      "MO                  PSA                 psa                                     0                                       \n",
      "NUMBER              3                   whatever                                33                                      \n",
      "NUMBER              6,5                 whatever                                4                                       \n",
      "NUMBER              67                  whatever                                29                                      \n",
      "QNUMBER             3                                                           33                                      \n",
      "QNUMBER             6,5                                                         4                                       \n",
      "QNUMBER             6,5 ng/ml                                                   4                                       \n",
      "QNUMBER             67                                                          29                                      \n",
      "QNUMBER             67cm                                                        29                                      \n",
      "UNIT                cm                  pikkus_unit                             31                                      \n",
      "UNIT                m                   pikkus_unit                             22                                      \n",
      "UNIT                m                   pikkus_unit                             25                                      \n",
      "UNIT                ng/ml               psa_unit                                8                                       \n",
      "------------------------\n",
      "rjeldus : Siinusbradükardia Fr 587min\n",
      "name                text                value               type                start               unit_type           \n",
      "\n",
      "MO                  Fr                  pulss                                   28                                      \n",
      "MO                  ük                  kolesterool                             20                                      \n",
      "NUMBER              587                 whatever                                31                                      \n",
      "QNUMBER             587                                                         31                                      \n",
      "QNUMBER             587min                                                      31                                      \n",
      "UNIT                a                   time_unit                               26                                      \n",
      "UNIT                min                 time_unit                               34                                      \n",
      "------------------------\n"
     ]
    }
   ],
   "source": [
    "for line in tagged_lines:\n",
    "    text = line\n",
    "    print(text.text)\n",
    "    graph = parse_text(text)\n",
    "    print_nodes(graph, text, \n",
    "            names={'DATE','UNIT','QNUMBER', 'MEASUREMENT', 'MO', 'NUMBER'},\n",
    "            attributes=['name', 'text', 'value','type', 'start', 'unit_type'])\n",
    "    print('------------------------')"
   ]
  },
  {
   "cell_type": "code",
   "execution_count": 29,
   "metadata": {
    "collapsed": true
   },
   "outputs": [],
   "source": [
    "import re"
   ]
  },
  {
   "cell_type": "code",
   "execution_count": 30,
   "metadata": {
    "collapsed": false
   },
   "outputs": [
    {
     "data": {
      "text/plain": [
       "<_sre.SRE_Match object; span=(0, 4), match='1,53'>"
      ]
     },
     "execution_count": 30,
     "metadata": {},
     "output_type": "execute_result"
    }
   ],
   "source": [
    "re.match('([0-9])+(\\s?[,.]\\s?[0-9]+)?', '1,53')"
   ]
  },
  {
   "cell_type": "code",
   "execution_count": 31,
   "metadata": {
    "collapsed": false
   },
   "outputs": [
    {
     "name": "stdout",
     "output_type": "stream",
     "text": [
      "Text(text=\"rjeldus : Siinusbradükardia Fr 587min\")\n",
      "name                text                \n",
      "\n",
      "END                                     \n",
      "MO                  Fr                  \n",
      "MO                  ük                  \n",
      "NUMBER              587                 \n",
      "QNUMBER             587                 \n",
      "QNUMBER             587min              \n",
      "RANDOM_TEXT         Siinusbrad          \n",
      "RANDOM_TEXT         ardi                \n",
      "RANDOM_TEXT         rjeldus             \n",
      "START                                   \n",
      "UNIT                a                   \n",
      "UNIT                min                 \n"
     ]
    }
   ],
   "source": [
    "\n",
    "print(text)\n",
    "print_nodes(graph, text)"
   ]
  },
  {
   "cell_type": "code",
   "execution_count": 32,
   "metadata": {
    "collapsed": false
   },
   "outputs": [
    {
     "name": "stdout",
     "output_type": "stream",
     "text": [
      "name                text                value               type                start               \n",
      "\n",
      "QNUMBER             587                                                         31                  \n",
      "QNUMBER             587min                                                      31                  \n",
      "UNIT                a                   time_unit                               26                  \n",
      "UNIT                min                 time_unit                               34                  \n"
     ]
    }
   ],
   "source": [
    "print_nodes(graph, text, \n",
    "            names={'DATE','UNIT','QNUMBER', 'MEASUREMENT'},\n",
    "            attributes=['name', 'text', 'value','type', 'start'])"
   ]
  },
  {
   "cell_type": "code",
   "execution_count": 33,
   "metadata": {
    "collapsed": false
   },
   "outputs": [
    {
     "data": {
      "image/png": "[encoded data removed]",
      "text/plain": [
       "<matplotlib.figure.Figure at 0x7f92d8f05198>"
      ]
     },
     "metadata": {},
     "output_type": "display_data"
    }
   ],
   "source": [
    "import networkx as nx\n",
    "\n",
    "class SpanNode:\n",
    "    \"\"\" Represents a text span as a node of a nx.DiGraph.\n",
    "        Used to add parsed text spans to the graph.\n",
    "    \"\"\"\n",
    "    def __init__(self, span):\n",
    "        self.name = span.text\n",
    "        self.start = span.start\n",
    "        self.end = span.end\n",
    "\n",
    "    def __hash__(self):\n",
    "        return hash((self.name, self.start, self.end))\n",
    "\n",
    "\n",
    "def graph_to_parse_trees(graph):\n",
    "    parse_trees = nx.DiGraph()\n",
    "    for node in graph.nodes():\n",
    "        parse_trees.add_node(node)\n",
    "        if isinstance(node.support, Span):\n",
    "            sn = SpanNode(node.support) \n",
    "            parse_trees.add_edge(node, sn)\n",
    "        else:\n",
    "            for supp in node.support:\n",
    "                parse_trees.add_edge(node, supp)\n",
    "    return parse_trees\n",
    "\n",
    "parse_trees = graph_to_parse_trees(graph)\n",
    "plot_graph(parse_trees)"
   ]
  },
  {
   "cell_type": "code",
   "execution_count": 34,
   "metadata": {
    "collapsed": false
   },
   "outputs": [
    {
     "data": {
      "application/vnd.jupyter.widget-view+json": {
       "model_id": "2157c13d0fd1490eb44883e78c3f3b09",
       "version_major": 2,
       "version_minor": 0
      },
      "text/html": [
       "<p>Failed to display Jupyter Widget of type <code>Dropdown</code>.</p>\n",
       "<p>\n",
       "  If you're reading this message in the Jupyter Notebook or JupyterLab Notebook, it may mean\n",
       "  that the widgets JavaScript is still loading. If this message persists, it\n",
       "  likely means that the widgets JavaScript library is either not installed or\n",
       "  not enabled. See the <a href=\"https://ipywidgets.readthedocs.io/en/stable/user_install.html\">Jupyter\n",
       "  Widgets Documentation</a> for setup instructions.\n",
       "</p>\n",
       "<p>\n",
       "  If you're reading this message in another frontend (for example, a static\n",
       "  rendering on GitHub or <a href=\"https://nbviewer.jupyter.org/\">NBViewer</a>),\n",
       "  it may mean that your frontend doesn't currently support widgets.\n",
       "</p>\n"
      ],
      "text/plain": [
       "Dropdown(description='Text:', options=('PSA 03042012 - 0,83ng/ml perearsti poolt .', 'PSA 2010. 3ng/ml, PSA 2012. 1,53ng/ml . - Bx va', 'PSA 20105,99 ja 26.01.2012 uuesti .', 'PSA 2011 oli 0 , 4 nG7ml .', 'PSA 201222,25ng/ml', 'PSA 2 aastajooksuldünaamikata , eriuuring', ':psa 16,81! ! ! ! ! ,', 'Happe-aluse tasakaal 6.0 ( 5.0 .. 8.0 )', 'loli 25 mgx1 ja Monoprili 10 mg Kolesterool 2011a', 'Kolesterool 1k aastas .', 'Kõrgenenud kolesterool 2a ( mõõdetud ). Ei pea dieetist kinni', 'Kontr Verekol 08.12a Per-le juurde .', 's vas munajuha kasvaja op , günekol 3a tagssi .', '08.11.2010 PSA 13.12.2011 7,2ng/ml PSADT on väike .', 'Rütmihäire tsüklipikkus 330 msek', 'Loote pikkus : \\xa0 3 mm - vastab\\xa0 5 nädalat 6 päeva.', 'Põhjendus: PALAT 10 # ALAT maksanäitaja', 'ärme vähk 2007 aastast cT3N0M0PSA 59ng/ml .', 'PSA 8,5( püsib aastaid selles väärtus', 'S , P-PSA 4.130( <4.100 µg/L )', 'PSA 5,2.', 'Kolesterool oli 7,9 mmol/l 0', 'kolesterool 6.4.', 'Kolesterool 5,2 mmol/l - esialgu dieet .', 'SK 3900 g , SP 51 cm .', 'Lapse kaal 5,4 kg/82 mg/0,82 ml i/m .', 'Kehakaal 80,2 kg , KMI 25,9', 'S , P-NT-proBNP 668 ( <125 pg/mL ) S , P-Albumiin 43 ( 35 .. 52 g/L ) S , P-ALAT 25 ( <33 U/L )', 'PSA 6,5 ng/ml, eesnäärme maht67cm3', 'rjeldus : Siinusbradükardia Fr 587min'), value='PSA 03042012 - 0,83ng/ml perearsti poolt .')"
      ]
     },
     "metadata": {},
     "output_type": "display_data"
    },
    {
     "data": {
      "application/vnd.jupyter.widget-view+json": {
       "model_id": "b83c3c936c7b45069276f0c04e6dac93",
       "version_major": 2,
       "version_minor": 0
      },
      "text/html": [
       "<p>Failed to display Jupyter Widget of type <code>Output</code>.</p>\n",
       "<p>\n",
       "  If you're reading this message in the Jupyter Notebook or JupyterLab Notebook, it may mean\n",
       "  that the widgets JavaScript is still loading. If this message persists, it\n",
       "  likely means that the widgets JavaScript library is either not installed or\n",
       "  not enabled. See the <a href=\"https://ipywidgets.readthedocs.io/en/stable/user_install.html\">Jupyter\n",
       "  Widgets Documentation</a> for setup instructions.\n",
       "</p>\n",
       "<p>\n",
       "  If you're reading this message in another frontend (for example, a static\n",
       "  rendering on GitHub or <a href=\"https://nbviewer.jupyter.org/\">NBViewer</a>),\n",
       "  it may mean that your frontend doesn't currently support widgets.\n",
       "</p>\n"
      ],
      "text/plain": [
       "Output()"
      ]
     },
     "metadata": {},
     "output_type": "display_data"
    }
   ],
   "source": [
    "import ipywidgets as widgets\n",
    "\n",
    "\n",
    "text_selection = widgets.Dropdown(\n",
    "    options=lines,\n",
    "    description='Text:',\n",
    ")\n",
    "\n",
    "def observe(change):\n",
    "    out.clear_output()\n",
    "    with out:\n",
    "        line = change['new']\n",
    "        graph = parse_text(lines_to_texts[line])\n",
    "        print(lines_to_texts[line].text)\n",
    "        plot_graph(graph)\n",
    "\n",
    "text_selection.observe(observe, names='value')\n",
    "\n",
    "out = widgets.Output()\n",
    "\n",
    "display(text_selection, out)"
   ]
  },
  {
   "cell_type": "code",
   "execution_count": 35,
   "metadata": {
    "collapsed": false
   },
   "outputs": [
    {
     "name": "stdout",
     "output_type": "stream",
     "text": [
      "Node(QNUMBER, (31, 34), 5493687929203814467)\n",
      "Node(END, (inf, inf), -8159627462497770364)\n",
      "Node(UNIT, (34, 37), -1457345086388203801)\n",
      "Node(UNIT, (26, 28), 3297013399257940008)\n",
      "Node(QNUMBER, (31, 37), 4723332727096344060)\n",
      "Node(START, (-inf, -inf), 7713960978457535436)\n",
      "Node(MO, (28, 30), 3637331910273131057)\n",
      "Node(RANDOM_TEXT, (22, 26), 3491736201622393300)\n",
      "Node(RANDOM_TEXT, (0, 7), 5234759250851349717)\n",
      "Node(RANDOM_TEXT, (10, 20), 6554587586698497658)\n",
      "Node(NUMBER, (31, 34), 2560861976827918940)\n",
      "Node(MO, (20, 22), -6072949052538384706)\n"
     ]
    }
   ],
   "source": [
    "for node in graph:\n",
    "    print(node)"
   ]
  }
 ],
 "metadata": {
  "anaconda-cloud": {},
  "kernelspec": {
   "display_name": "Python [conda root]",
   "language": "python",
   "name": "conda-root-py"
  },
  "language_info": {
   "codemirror_mode": {
    "name": "ipython",
    "version": 3
   },
   "file_extension": ".py",
   "mimetype": "text/x-python",
   "name": "python",
   "nbconvert_exporter": "python",
   "pygments_lexer": "ipython3",
   "version": "3.5.4"
  }
 },
 "nbformat": 4,
 "nbformat_minor": 2
}
