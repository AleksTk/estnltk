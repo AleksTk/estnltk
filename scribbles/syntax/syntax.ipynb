{
 "cells": [
  {
   "cell_type": "code",
   "execution_count": 1,
   "metadata": {},
   "outputs": [],
   "source": [
    "from estnltk import Text\n",
    "from estnltk.converters.conll_importer import conll_to_text, add_layer_from_conll"
   ]
  },
  {
   "cell_type": "code",
   "execution_count": 2,
   "metadata": {},
   "outputs": [
    {
     "data": {
      "text/html": [
       "<table border=\"1\" class=\"dataframe\">\n",
       "  <thead>\n",
       "    <tr style=\"text-align: right;\">\n",
       "      <th>text</th>\n",
       "    </tr>\n",
       "  </thead>\n",
       "  <tbody>\n",
       "    <tr>\n",
       "      <td><div align = \"left\">Milliseks kujuneb Riigikassa ja Ühispanga vahekord ? Minu arvates on Eesti pangandus tehnoloogiliselt maailma tasemel .</div></td>\n",
       "    </tr>\n",
       "  </tbody>\n",
       "</table>\n",
       "<table border=\"1\" class=\"dataframe\">\n",
       "  <thead>\n",
       "    <tr style=\"text-align: right;\">\n",
       "      <th>layer name</th>\n",
       "      <th>attributes</th>\n",
       "      <th>parent</th>\n",
       "      <th>enveloping</th>\n",
       "      <th>ambiguous</th>\n",
       "      <th>span count</th>\n",
       "    </tr>\n",
       "  </thead>\n",
       "  <tbody>\n",
       "    <tr>\n",
       "      <td>sentences</td>\n",
       "      <td></td>\n",
       "      <td>None</td>\n",
       "      <td>words</td>\n",
       "      <td>False</td>\n",
       "      <td>2</td>\n",
       "    </tr>\n",
       "    <tr>\n",
       "      <td>words</td>\n",
       "      <td></td>\n",
       "      <td>None</td>\n",
       "      <td>None</td>\n",
       "      <td>False</td>\n",
       "      <td>16</td>\n",
       "    </tr>\n",
       "    <tr>\n",
       "      <td>gold</td>\n",
       "      <td>id, lemma, upostag, xpostag, feats, head, deprel, deps, misc, parent_span, children</td>\n",
       "      <td>None</td>\n",
       "      <td>None</td>\n",
       "      <td>False</td>\n",
       "      <td>16</td>\n",
       "    </tr>\n",
       "    <tr>\n",
       "      <td>parsed</td>\n",
       "      <td>id, lemma, upostag, xpostag, feats, head, deprel, deps, misc, parent_span, children</td>\n",
       "      <td>None</td>\n",
       "      <td>None</td>\n",
       "      <td>False</td>\n",
       "      <td>16</td>\n",
       "    </tr>\n",
       "  </tbody>\n",
       "</table>"
      ],
      "text/plain": [
       "Text(text='Milliseks kujuneb Riigikassa ja Ühispanga vahekord ? Minu arvates on Eesti pangandus tehnoloogiliselt maailma tasemel .')"
      ]
     },
     "execution_count": 2,
     "metadata": {},
     "output_type": "execute_result"
    }
   ],
   "source": [
    "text = conll_to_text('a.conll', 'gold')\n",
    "add_layer_from_conll('a.conll', text, 'parsed')"
   ]
  },
  {
   "cell_type": "code",
   "execution_count": 3,
   "metadata": {
    "scrolled": false
   },
   "outputs": [
    {
     "name": "stdout",
     "output_type": "stream",
     "text": [
      "Span(start=10, end=17, text='kujuneb')\n",
      "['Milliseks', 'kujuneb', 'Riigikassa', 'vahekord']\n",
      "ES[Span(start=0, end=9, text='Milliseks'),\n",
      "Span(start=10, end=17, text='kujuneb'),\n",
      "Span(start=18, end=28, text='Riigikassa'),\n",
      "Span(start=29, end=31, text='ja'),\n",
      "Span(start=32, end=41, text='Ühispanga'),\n",
      "Span(start=42, end=50, text='vahekord'),\n",
      "Span(start=51, end=52, text='?')]\n",
      "\n",
      "Span(start=58, end=65, text='arvates')\n",
      "['Minu', 'arvates']\n",
      "ES[Span(start=53, end=57, text='Minu'),\n",
      "Span(start=58, end=65, text='arvates'),\n",
      "Span(start=66, end=68, text='on'),\n",
      "Span(start=69, end=74, text='Eesti'),\n",
      "Span(start=75, end=84, text='pangandus'),\n",
      "Span(start=85, end=101, text='tehnoloogiliselt'),\n",
      "Span(start=102, end=109, text='maailma'),\n",
      "Span(start=110, end=117, text='tasemel'),\n",
      "Span(start=118, end=119, text='.')]\n",
      "\n",
      "Span(start=66, end=68, text='on')\n",
      "['arvates', 'on', 'pangandus', 'tehnoloogiliselt', 'tasemel']\n",
      "ES[Span(start=53, end=57, text='Minu'),\n",
      "Span(start=58, end=65, text='arvates'),\n",
      "Span(start=66, end=68, text='on'),\n",
      "Span(start=69, end=74, text='Eesti'),\n",
      "Span(start=75, end=84, text='pangandus'),\n",
      "Span(start=85, end=101, text='tehnoloogiliselt'),\n",
      "Span(start=102, end=109, text='maailma'),\n",
      "Span(start=110, end=117, text='tasemel'),\n",
      "Span(start=118, end=119, text='.')]\n",
      "\n"
     ]
    }
   ],
   "source": [
    "from estnltk.layer_operations import get_enclosing_spans\n",
    "\n",
    "\n",
    "def is_boring(span):\n",
    "    # span on igav, kui ta ei ole verb\n",
    "    return span.xpostag != 'V'\n",
    "\n",
    "\n",
    "def get_fragment(span):\n",
    "    # fragment on span koos oma järglastega\n",
    "    return sorted((span, *span.children))\n",
    "\n",
    "\n",
    "for span in text.gold:\n",
    "    # liigume üle gold kihi, igavad spanid järtame vahele,\n",
    "    # teised spanid prindime välja koos fragmendi ja lausega, millesse nad kuuluvad\n",
    "    if is_boring(span):\n",
    "        continue\n",
    "\n",
    "    word = text.words.get(span)\n",
    "    print(word)\n",
    "\n",
    "    fragment = get_fragment(span)\n",
    "    print([span.text for span in fragment])\n",
    "\n",
    "    for sentence in get_enclosing_spans(text.sentences, word):\n",
    "        # get_enclosing_spans töötab ebaefektiivselt, parem on seda mitte kasutada\n",
    "        # see tähendab, et mõistlikum on itereerida üle lausete ja iga lause korral üle tema sõnade\n",
    "        print(sentence)\n",
    "        print()"
   ]
  },
  {
   "cell_type": "code",
   "execution_count": 4,
   "metadata": {},
   "outputs": [
    {
     "data": {
      "text/plain": [
       "[Span(start=53, end=57, text='Minu'),\n",
       " Span(start=58, end=65, text='arvates'),\n",
       " Span(start=66, end=68, text='on'),\n",
       " Span(start=69, end=74, text='Eesti'),\n",
       " Span(start=75, end=84, text='pangandus'),\n",
       " Span(start=85, end=101, text='tehnoloogiliselt'),\n",
       " Span(start=102, end=109, text='maailma'),\n",
       " Span(start=110, end=117, text='tasemel'),\n",
       " Span(start=118, end=119, text='.')]"
      ]
     },
     "execution_count": 4,
     "metadata": {},
     "output_type": "execute_result"
    }
   ],
   "source": [
    "# itereerime üle lausete ja iga lause korral leiame temale vastavad gold kihi spanid\n",
    "# TODO: seda ma peaks muutma nii, et saaks kohe spanlisti kätte\n",
    "for sentence in text.sentences:\n",
    "    syntax_tree = [text.gold.get(word) for word in sentence.base_span]\n",
    "\n",
    "syntax_tree"
   ]
  },
  {
   "cell_type": "code",
   "execution_count": 5,
   "metadata": {},
   "outputs": [
    {
     "data": {
      "text/html": [
       "<h4>Tagger</h4>\n",
       "Tags fragments on syntax layer.\n",
       "<table border=\"1\" class=\"dataframe\">\n",
       "  <thead>\n",
       "    <tr style=\"text-align: right;\">\n",
       "      <th>name</th>\n",
       "      <th>output layer</th>\n",
       "      <th>output attributes</th>\n",
       "      <th>input layers</th>\n",
       "    </tr>\n",
       "  </thead>\n",
       "  <tbody>\n",
       "    <tr>\n",
       "      <td>FragmentTagger</td>\n",
       "      <td>fragments</td>\n",
       "      <td>('attr1',)</td>\n",
       "      <td>('gold',)</td>\n",
       "    </tr>\n",
       "  </tbody>\n",
       "</table>\n",
       "No configuration parameters."
      ],
      "text/plain": [
       "FragmentTagger()"
      ]
     },
     "execution_count": 5,
     "metadata": {},
     "output_type": "execute_result"
    }
   ],
   "source": [
    "from estnltk import Tagger, Layer, EnvelopingSpan\n",
    "\n",
    "class FragmentTagger(Tagger):\n",
    "    \"\"\"\n",
    "    Tags fragments on syntax layer.\n",
    "    \"\"\"\n",
    "    conf_param = []\n",
    "    input_layers = ['gold']\n",
    "    output_layer = 'fragments'\n",
    "    output_attributes = ['attr1']\n",
    "    \n",
    "    def __init__(self):\n",
    "        # self.conf_par\n",
    "        pass\n",
    "\n",
    "    def _make_layer(self, text, layers, status):\n",
    "        layer = Layer(name=self.output_layer, attributes=self.output_attributes, text_object=text, \n",
    "                      enveloping=self.input_layers[0])\n",
    "\n",
    "        for attr, span in enumerate(text.gold):\n",
    "            if is_boring(span):\n",
    "                continue\n",
    "            spans = get_fragment(span)\n",
    "            layer.add_annotation(spans, attr1=attr)\n",
    "\n",
    "        return layer\n",
    "    \n",
    "tagger = FragmentTagger()\n",
    "tagger"
   ]
  },
  {
   "cell_type": "code",
   "execution_count": 6,
   "metadata": {},
   "outputs": [
    {
     "data": {
      "text/html": [
       "<h4>Layer</h4>\n",
       "\n",
       "<table border=\"1\" class=\"dataframe\">\n",
       "  <thead>\n",
       "    <tr style=\"text-align: right;\">\n",
       "      <th>layer name</th>\n",
       "      <th>attributes</th>\n",
       "      <th>parent</th>\n",
       "      <th>enveloping</th>\n",
       "      <th>ambiguous</th>\n",
       "      <th>span count</th>\n",
       "    </tr>\n",
       "  </thead>\n",
       "  <tbody>\n",
       "    <tr>\n",
       "      <td>fragments</td>\n",
       "      <td>attr1</td>\n",
       "      <td>None</td>\n",
       "      <td>gold</td>\n",
       "      <td>False</td>\n",
       "      <td>3</td>\n",
       "    </tr>\n",
       "  </tbody>\n",
       "</table>\n",
       "<table border=\"1\" class=\"dataframe\">\n",
       "  <thead>\n",
       "    <tr style=\"text-align: right;\">\n",
       "      <th>text</th>\n",
       "      <th>attr1</th>\n",
       "    </tr>\n",
       "  </thead>\n",
       "  <tbody>\n",
       "    <tr>\n",
       "      <td>['Milliseks', 'kujuneb', 'Riigikassa', 'vahekord']</td>\n",
       "      <td>1</td>\n",
       "    </tr>\n",
       "    <tr>\n",
       "      <td>['Minu', 'arvates']</td>\n",
       "      <td>8</td>\n",
       "    </tr>\n",
       "    <tr>\n",
       "      <td>['arvates', 'on', 'pangandus', 'tehnoloogiliselt', 'tasemel']</td>\n",
       "      <td>9</td>\n",
       "    </tr>\n",
       "  </tbody>\n",
       "</table>"
      ],
      "text/plain": [
       "Layer(name='fragments', attributes=('attr1',), spans=SL[ES[Span(start=0, end=9, text='Milliseks'),\n",
       "Span(start=10, end=17, text='kujuneb'),\n",
       "Span(start=18, end=28, text='Riigikassa'),\n",
       "Span(start=42, end=50, text='vahekord')],\n",
       "ES[Span(start=53, end=57, text='Minu'),\n",
       "Span(start=58, end=65, text='arvates')],\n",
       "ES[Span(start=58, end=65, text='arvates'),\n",
       "Span(start=66, end=68, text='on'),\n",
       "Span(start=75, end=84, text='pangandus'),\n",
       "Span(start=85, end=101, text='tehnoloogiliselt'),\n",
       "Span(start=110, end=117, text='tasemel')]])"
      ]
     },
     "execution_count": 6,
     "metadata": {},
     "output_type": "execute_result"
    }
   ],
   "source": [
    "tagger.tag(text)\n",
    "text.fragments"
   ]
  },
  {
   "cell_type": "code",
   "execution_count": 7,
   "metadata": {},
   "outputs": [],
   "source": [
    "# itereerime üle gold kihi ja kontrollime, kas parsed kihi vastavatel spanidel on sama 'head' väärtus\n",
    "\n",
    "parsed_layer = text.parsed\n",
    "for gold_span in text.gold:\n",
    "    parsed_span = parsed_layer.get(gold_span)\n",
    "    assert parsed_span.head == gold_span.head"
   ]
  },
  {
   "cell_type": "code",
   "execution_count": 8,
   "metadata": {},
   "outputs": [
    {
     "name": "stdout",
     "output_type": "stream",
     "text": [
      "Span(start=0, end=9, text='Milliseks')\n",
      "Span(start=10, end=17, text='kujuneb')\n",
      "Span(start=18, end=28, text='Riigikassa')\n",
      "Span(start=42, end=50, text='vahekord')\n",
      "\n",
      "Span(start=53, end=57, text='Minu')\n",
      "Span(start=58, end=65, text='arvates')\n",
      "\n",
      "Span(start=58, end=65, text='arvates')\n",
      "Span(start=66, end=68, text='on')\n",
      "Span(start=75, end=84, text='pangandus')\n",
      "Span(start=85, end=101, text='tehnoloogiliselt')\n",
      "Span(start=110, end=117, text='tasemel')\n",
      "\n"
     ]
    }
   ],
   "source": [
    "# itereerime üle fragmentide kihi\n",
    "# iga fragmendi osa kohta küsime gold kihi spani ja prindime välja\n",
    "\n",
    "for fragment in text.fragments:\n",
    "    for token in fragment.base_span:\n",
    "        gold_span = text.gold.get(token)\n",
    "        print(gold_span)\n",
    "    print()"
   ]
  },
  {
   "cell_type": "code",
   "execution_count": 9,
   "metadata": {},
   "outputs": [
    {
     "name": "stdout",
     "output_type": "stream",
     "text": [
      "Text(text='Milliseks kujuneb Riigikassa ja Ühispanga vahekord ?')\n",
      "Text(text='Minu arvates on Eesti pangandus tehnoloogiliselt maailma tasemel .')\n"
     ]
    }
   ],
   "source": [
    "from estnltk.layer_operations import split_by\n",
    "\n",
    "# teeme tekstobjekti lausete kaupa tükkideks ja prindime välja nendele lausetele vastavad tekstid,\n",
    "# mille fragmentide kiht pole tühi\n",
    "# split_by ei ole efektiivne funktsioon, võimalusel tasub teda vältida\n",
    "\n",
    "for sentence in split_by(text, layer='sentences', layers_to_keep=['fragments', 'words', 'gold']):\n",
    "    if len(sentence.fragments) == 0:\n",
    "        continue\n",
    "    print(sentence)"
   ]
  }
 ],
 "metadata": {
  "kernelspec": {
   "display_name": "Python 3",
   "language": "python",
   "name": "python3"
  },
  "language_info": {
   "codemirror_mode": {
    "name": "ipython",
    "version": 3
   },
   "file_extension": ".py",
   "mimetype": "text/x-python",
   "name": "python",
   "nbconvert_exporter": "python",
   "pygments_lexer": "ipython3",
   "version": "3.6.8"
  }
 },
 "nbformat": 4,
 "nbformat_minor": 2
}
