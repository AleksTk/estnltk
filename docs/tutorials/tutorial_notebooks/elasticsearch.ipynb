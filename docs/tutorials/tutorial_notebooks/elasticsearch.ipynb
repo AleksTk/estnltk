{
 "cells": [
  {
   "cell_type": "markdown",
   "metadata": {},
   "source": [
    "Handling large text collections with Elastic database\n",
    "=====================================================\n",
    "\n",
    "Estnltk has database module that simplifies working with large corpora.\n",
    "Check out wikipedia\\_tutorial, tei\\_tutorial for more information about\n",
    "getting started with larger text document collections.\n",
    "\n",
    "Estnltk database integrates with\n",
    "[Elastic](https://www.elastic.co/downloads/elasticsearch), which is a\n",
    "distributed RESTful schema-free JSON database, based on [Apache\n",
    "Lucene](https://lucene.apache.org/)."
   ]
  },
  {
   "cell_type": "markdown",
   "metadata": {},
   "source": [
    "For testing and we recommend use to docker and run elasticsearch with the command:\n",
    "\n",
    "    docker run --name estnltk_elastic -p 9200:9200 -d  elasticsearch:2"
   ]
  },
  {
   "cell_type": "markdown",
   "metadata": {},
   "source": [
    "Estnltk Elastic wrapper\n",
    "-----------------------\n",
    "\n",
    "To access estnltk elasticsearch wrappers:"
   ]
  },
  {
   "cell_type": "code",
   "execution_count": 1,
   "metadata": {
    "collapsed": false
   },
   "outputs": [],
   "source": [
    "from estnltk.database.elastic import *\n",
    "from estnltk.database.elastic.query_grammar import *"
   ]
  },
  {
   "cell_type": "markdown",
   "metadata": {},
   "source": [
    "To create an index:"
   ]
  },
  {
   "cell_type": "code",
   "execution_count": 2,
   "metadata": {
    "collapsed": false
   },
   "outputs": [],
   "source": [
    "index = create_index('demo_index')"
   ]
  },
  {
   "cell_type": "markdown",
   "metadata": {},
   "source": [
    "Or to connect to an existing index:"
   ]
  },
  {
   "cell_type": "code",
   "execution_count": 3,
   "metadata": {
    "collapsed": false
   },
   "outputs": [],
   "source": [
    "index = connect('demo_index')"
   ]
  },
  {
   "cell_type": "markdown",
   "metadata": {},
   "source": [
    "To specify non-default arguments to elasticsearch connection, you can\n",
    "either pass the parameters to either method or create and Index instance\n",
    "manually, passing the Elastic python API client object as the first\n",
    "parameter.\n",
    "\n",
    "These methods return an index object that has two important methods:\n",
    "save and sentences:"
   ]
  },
  {
   "cell_type": "code",
   "execution_count": 4,
   "metadata": {
    "collapsed": true
   },
   "outputs": [],
   "source": [
    "from estnltk import Text\n",
    "\n",
    "t = Text('See on demolause. Sellele järgneb veel üks.')\n",
    "index.save(t)\n",
    "\n",
    "t = Text('Karu otsis talvekodu.')\n",
    "index.save(t)"
   ]
  },
  {
   "cell_type": "code",
   "execution_count": 5,
   "metadata": {
    "collapsed": true
   },
   "outputs": [],
   "source": [
    "#waiting for the sentences to be indexed\n",
    "import time\n",
    "time.sleep(2)"
   ]
  },
  {
   "cell_type": "code",
   "execution_count": 6,
   "metadata": {
    "collapsed": false
   },
   "outputs": [
    {
     "name": "stdout",
     "output_type": "stream",
     "text": [
      "['see', 'olema', 'demolause', '.']\n",
      "['see', 'järgnema', 'veel', 'üks', '.']\n",
      "['Karu', 'otsima', 'talvekodu', '.']\n"
     ]
    }
   ],
   "source": [
    "for sentence in index.sentences():\n",
    "    print(sentence.lemmas) #note that the sentences generator returns estnltk Text objects by default."
   ]
  },
  {
   "cell_type": "markdown",
   "metadata": {},
   "source": [
    "To see the mapping and data structure in the elasticsearch index, refer\n",
    "to the mappings.py file."
   ]
  },
  {
   "cell_type": "markdown",
   "metadata": {},
   "source": [
    "Iterating over corpora\n",
    "----------------------\n",
    "\n",
    "To iterate over the entire corpus use the Index.sentences generator. In\n",
    "the general case it is enough to do:"
   ]
  },
  {
   "cell_type": "code",
   "execution_count": 7,
   "metadata": {
    "collapsed": false
   },
   "outputs": [
    {
     "name": "stdout",
     "output_type": "stream",
     "text": [
      "See on demolause.\n",
      "Sellele järgneb veel üks.\n",
      "Karu otsis talvekodu.\n"
     ]
    }
   ],
   "source": [
    "for sentence in index.sentences():\n",
    "    print(sentence)"
   ]
  },
  {
   "cell_type": "markdown",
   "metadata": {},
   "source": [
    "Iterating over query results\n",
    "----------------------------\n",
    "\n",
    "To iterate over query results, pass the elasticsearch query to the\n",
    "sentences generator as the \"query\" parameter. The query should be a\n",
    "dictionary as expected by elasticsearch python API. It will be\n",
    "transformed into json before being transmitted.\n",
    "\n",
    "To simplify writing some queries, see the query\\_helper module. It\n",
    "defines the Word class that maps well to estnltk morphological analysis\n",
    "results. The general workflow is:\n",
    "\n",
    "1.  Define words to match with the Word class.\n",
    "2.  Combine them with boolean operators \"&\" and \"|\"\n",
    "3.  Wrap them in a Grammar object\n",
    "4.  Get the query via the Grammar.query() method.\n",
    "5.  Annotate the results with the Grammar.annotate() method that creates\n",
    "    a layer that marks the matching words.\n",
    "\n",
    "For example:"
   ]
  },
  {
   "cell_type": "code",
   "execution_count": 8,
   "metadata": {
    "collapsed": false
   },
   "outputs": [
    {
     "name": "stdout",
     "output_type": "stream",
     "text": [
      "{'fields': ['estnltk_text_object'], 'query': {'nested': {'path': 'words.analysis', 'query': {'bool': {'must': [{'terms': {'words.analysis.lemma': ['otsima']}}]}}}}}\n",
      "Karu otsis talvekodu.\n"
     ]
    }
   ],
   "source": [
    "grammar = Grammar(Word(lemma='otsima'))\n",
    "for sentence in index.sentences(query=grammar.query()):\n",
    "    #Optionally you can annotate the results against the grammar.\n",
    "    grammar.annotate(sentence, 'result')\n",
    "    print(sentence)"
   ]
  },
  {
   "cell_type": "markdown",
   "metadata": {},
   "source": [
    "The results can be visualised with the PrettyPrinter class or worked on\n",
    "using any other standard tools that work on estnltk layers."
   ]
  }
 ],
 "metadata": {
  "anaconda-cloud": {},
  "kernelspec": {
   "display_name": "Python [default]",
   "language": "python",
   "name": "python3"
  },
  "language_info": {
   "codemirror_mode": {
    "name": "ipython",
    "version": 3
   },
   "file_extension": ".py",
   "mimetype": "text/x-python",
   "name": "python",
   "nbconvert_exporter": "python",
   "pygments_lexer": "ipython3",
   "version": "3.5.2"
  }
 },
 "nbformat": 4,
 "nbformat_minor": 1
}
