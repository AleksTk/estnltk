{
 "cells": [
  {
   "cell_type": "markdown",
   "metadata": {},
   "source": [
    "# AdjectivePhraseTagger\n",
    "\n",
    "A class that tags simple adjective phrases in the **Text** object.\n",
    "\n",
    "## Usage"
   ]
  },
  {
   "cell_type": "code",
   "execution_count": 1,
   "metadata": {
    "collapsed": false
   },
   "outputs": [],
   "source": [
    "from adjective_phrase_tagger.adj_phrase_tagger import AdjectivePhraseTagger\n",
    "from estnltk import Text"
   ]
  },
  {
   "cell_type": "markdown",
   "metadata": {},
   "source": [
    "Create **Text** object, **AdjectivePhraseTagger** object and tag adjective phrases as a new layer of the **Text** object."
   ]
  },
  {
   "cell_type": "code",
   "execution_count": 2,
   "metadata": {
    "collapsed": false
   },
   "outputs": [
    {
     "data": {
      "text/plain": [
       "[{'adverb_class': 'doubt',\n",
       "  'end': 17,\n",
       "  'intersects_with_verb': False,\n",
       "  'lemmas': ['peaaegu', '8aastane'],\n",
       "  'measurement_adj': True,\n",
       "  'start': 0,\n",
       "  'text': 'Peaaegu 8-aastane',\n",
       "  'type': 'adjective'},\n",
       " {'adverb_class': 'strong_intensifier',\n",
       "  'end': 59,\n",
       "  'intersects_with_verb': False,\n",
       "  'lemmas': ['väga', 'energiline', 'ja', 'mänguhimuline'],\n",
       "  'measurement_adj': False,\n",
       "  'start': 27,\n",
       "  'text': 'väga energiline ja mänguhimuline',\n",
       "  'type': 'adjective'}]"
      ]
     },
     "execution_count": 2,
     "metadata": {},
     "output_type": "execute_result"
    }
   ],
   "source": [
    "tagger = AdjectivePhraseTagger(return_layer=True) # return_layer=True returns only the adjective phrase layer\n",
    "sent = Text(\"Peaaegu 8-aastane koer oli väga energiline ja mänguhimuline.\")\n",
    "tagger.tag(sent)"
   ]
  },
  {
   "cell_type": "markdown",
   "metadata": {},
   "source": [
    "### Attributes that are given with the adjective phrases:\n",
    "\n",
    "**type** is the type of the phrase: \n",
    "* **adjective**: adjective is in its 'normal' (aka positive) form\n",
    "* **comparative**: contains a comparative adjective\n",
    "* **participle**: contains an adjective derived from a verb\n",
    "\n",
    "**measurement_adj** means that the adjective in the phrase either contains a number or some other type of measurement\n",
    "\n",
    "**intersects_with_verb** signifies whether the found adjective phrase intersects with a verb phrase in the text; this happens mostly in the case of participles as in the following sentence:"
   ]
  },
  {
   "cell_type": "code",
   "execution_count": 3,
   "metadata": {
    "collapsed": false
   },
   "outputs": [
    {
     "data": {
      "text/plain": [
       "[{'adverb_class': 'strong_intensifier',\n",
       "  'end': 21,\n",
       "  'intersects_with_verb': True,\n",
       "  'lemmas': ['väga', 'üllatunud'],\n",
       "  'measurement_adj': False,\n",
       "  'start': 7,\n",
       "  'text': 'väga üllatunud',\n",
       "  'type': 'participle'}]"
      ]
     },
     "execution_count": 3,
     "metadata": {},
     "output_type": "execute_result"
    }
   ],
   "source": [
    "tagger.tag(Text(\"Ta oli väga üllatunud.\"))"
   ]
  },
  {
   "cell_type": "markdown",
   "metadata": {},
   "source": [
    "**adverb_class** marks the intensity of the adverb in the phrase. Currently there are 6 classes:\n",
    "* diminisher\n",
    "* doubt\n",
    "* affirmation\n",
    "* strong_intensifier\n",
    "* surprise\n",
    "* excess\n",
    "\n",
    "All the adverbs are not divided into classes, therefore some do have _unknow_ as class."
   ]
  },
  {
   "cell_type": "markdown",
   "metadata": {},
   "source": [
    "### Example\n",
    "\n",
    "Adjective phrases can be used for sentiment analysis - determining the polarity of the text. While this is often done using only adjectives, the phrases consisting of an adverb and an adjective can give more precise results because adverbs in these kinds of phrases are usually some sort of intensifiers. For this purpose, the most frequent adverbs are already divided into classes based on their intensifying properties (see above)."
   ]
  },
  {
   "cell_type": "markdown",
   "metadata": {},
   "source": [
    "Tagging adjective phrases in hinnavaatlus.ee user reviews to use them as a feature in text classification (e.g. http://estnltk.github.io/estnltk/1.4/tutorials/textclassifier.html)"
   ]
  },
  {
   "cell_type": "code",
   "execution_count": 4,
   "metadata": {
    "collapsed": false,
    "scrolled": false
   },
   "outputs": [
    {
     "name": "stdout",
     "output_type": "stream",
     "text": [
      "Kommentaar\n",
      "-----------------------------\n",
      "Väike, aga tubli firma!\n",
      "['väike']\n",
      "['tubli']\n",
      "-----------------------------\n",
      "väga hea firma\n",
      "['väga', 'hea']\n",
      "-----------------------------\n",
      "Viimasel ajal pole midagi halba öelda, aga samas ei konkureeri nad kuidagi Genneti, Ordiga ei hindadelt ega teeninduselt. Toorikute ja tindi ostmiseks samas hea koht ja kuna müüjaid on rohkem valima hakatud, siis võiks 2 ikka ära panna - tuleks 3 kui hinadele ei pandaks kirvest ja toodete saadavus oleks parem.\n",
      "['viimane']\n",
      "['halb']\n",
      "['hea']\n",
      "['hakatud']\n",
      "['parem']\n",
      "-----------------------------\n",
      "Fotode kvaliteet väga pro ja \"jjk\" seal töötamise ajal leiti ikka paljudele asjadele väga meeldivad lahendused. Samas hilisem läpaka ost sujus ka väga meeldivalt - sain esialgse rahas ostusoovi vormistada ümber järelmaksule...äärmiselt asjalik teenindus.\n",
      "['hilisem']\n",
      "['esialgne']\n",
      "['äärmiselt', 'asjalik']\n",
      "['väga', 'meeldiv']\n",
      "-----------------------------\n",
      "Ainult positiivsed kogemused\n",
      "['positiivne']\n",
      "-----------------------------\n",
      "Viimane kord, kui käisin suutis leti taga askeldav ~60 aastane mees tegutseda nii aeglaselt, et minu seal veedetud 10min jooksul pani juba vähemalt 6-7 klienti putku. Garantiiga ka kurvad kogemused, neid poleks, saaks isegi kahe vast. Vihaseks ajab lihtsalt vahest nende teenindus!\n",
      "['viimane']\n",
      "['askeldav']\n",
      "['aastane']\n",
      "['veedetud']\n",
      "['kurb']\n",
      "['vihane']\n",
      "-----------------------------\n"
     ]
    }
   ],
   "source": [
    "import csv\n",
    "\n",
    "with open('data/hinnavaatlus.csv', newline='') as csvfile:\n",
    "    reader = csv.reader(csvfile, delimiter=',', quotechar='\"')\n",
    "    \n",
    "    for idx, row in enumerate(reader):\n",
    "        e = tagger.tag(Text(row[1]))\n",
    "\n",
    "        print(row[1])\n",
    "        for i in e:\n",
    "            if len(i) > 0:  \n",
    "                print(i['lemmas'])\n",
    "        print(\"-----------------------------\")\n",
    "        if idx > 5:\n",
    "            break\n"
   ]
  }
 ],
 "metadata": {
  "anaconda-cloud": {},
  "kernelspec": {
   "display_name": "Python [default]",
   "language": "python",
   "name": "python3"
  },
  "language_info": {
   "codemirror_mode": {
    "name": "ipython",
    "version": 3
   },
   "file_extension": ".py",
   "mimetype": "text/x-python",
   "name": "python",
   "nbconvert_exporter": "python",
   "pygments_lexer": "ipython3",
   "version": "3.5.2"
  }
 },
 "nbformat": 4,
 "nbformat_minor": 0
}
